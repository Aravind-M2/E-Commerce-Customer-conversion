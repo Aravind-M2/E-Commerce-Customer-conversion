{
 "cells": [
  {
   "cell_type": "code",
   "execution_count": null,
   "id": "2c132ed1",
   "metadata": {},
   "outputs": [],
   "source": [
    "import pandas as pd\n",
    "import plotly.express as px\n",
    "from scipy.stats import skew\n"
   ]
  },
  {
   "cell_type": "code",
   "execution_count": 2,
   "id": "d35e04f9",
   "metadata": {},
   "outputs": [],
   "source": [
    "data = pd.read_csv(\"D:\\\\GIT HUB\\\\GUVI Mini Proj 4\\\\train_data - train_data.csv\")"
   ]
  },
  {
   "cell_type": "code",
   "execution_count": 3,
   "id": "7a6c9af7",
   "metadata": {},
   "outputs": [
    {
     "name": "stdout",
     "output_type": "stream",
     "text": [
      "<class 'pandas.core.frame.DataFrame'>\n",
      "RangeIndex: 132379 entries, 0 to 132378\n",
      "Data columns (total 14 columns):\n",
      " #   Column                Non-Null Count   Dtype \n",
      "---  ------                --------------   ----- \n",
      " 0   year                  132379 non-null  int64 \n",
      " 1   month                 132379 non-null  int64 \n",
      " 2   day                   132379 non-null  int64 \n",
      " 3   order                 132379 non-null  int64 \n",
      " 4   country               132379 non-null  int64 \n",
      " 5   session_id            132379 non-null  int64 \n",
      " 6   page1_main_category   132379 non-null  int64 \n",
      " 7   page2_clothing_model  132379 non-null  object\n",
      " 8   colour                132379 non-null  int64 \n",
      " 9   location              132379 non-null  int64 \n",
      " 10  model_photography     132379 non-null  int64 \n",
      " 11  price                 132379 non-null  int64 \n",
      " 12  price_2               132379 non-null  int64 \n",
      " 13  page                  132379 non-null  int64 \n",
      "dtypes: int64(13), object(1)\n",
      "memory usage: 14.1+ MB\n"
     ]
    }
   ],
   "source": [
    "data.info()"
   ]
  },
  {
   "cell_type": "code",
   "execution_count": 4,
   "id": "82173361",
   "metadata": {},
   "outputs": [
    {
     "data": {
      "text/html": [
       "<div>\n",
       "<style scoped>\n",
       "    .dataframe tbody tr th:only-of-type {\n",
       "        vertical-align: middle;\n",
       "    }\n",
       "\n",
       "    .dataframe tbody tr th {\n",
       "        vertical-align: top;\n",
       "    }\n",
       "\n",
       "    .dataframe thead th {\n",
       "        text-align: right;\n",
       "    }\n",
       "</style>\n",
       "<table border=\"1\" class=\"dataframe\">\n",
       "  <thead>\n",
       "    <tr style=\"text-align: right;\">\n",
       "      <th></th>\n",
       "      <th>year</th>\n",
       "      <th>month</th>\n",
       "      <th>day</th>\n",
       "      <th>order</th>\n",
       "      <th>country</th>\n",
       "      <th>session_id</th>\n",
       "      <th>page1_main_category</th>\n",
       "      <th>page2_clothing_model</th>\n",
       "      <th>colour</th>\n",
       "      <th>location</th>\n",
       "      <th>model_photography</th>\n",
       "      <th>price</th>\n",
       "      <th>price_2</th>\n",
       "      <th>page</th>\n",
       "    </tr>\n",
       "  </thead>\n",
       "  <tbody>\n",
       "    <tr>\n",
       "      <th>0</th>\n",
       "      <td>2008</td>\n",
       "      <td>6</td>\n",
       "      <td>22</td>\n",
       "      <td>21</td>\n",
       "      <td>29</td>\n",
       "      <td>15648</td>\n",
       "      <td>3</td>\n",
       "      <td>C20</td>\n",
       "      <td>13</td>\n",
       "      <td>1</td>\n",
       "      <td>2</td>\n",
       "      <td>48</td>\n",
       "      <td>1</td>\n",
       "      <td>2</td>\n",
       "    </tr>\n",
       "    <tr>\n",
       "      <th>1</th>\n",
       "      <td>2008</td>\n",
       "      <td>5</td>\n",
       "      <td>19</td>\n",
       "      <td>6</td>\n",
       "      <td>29</td>\n",
       "      <td>10018</td>\n",
       "      <td>2</td>\n",
       "      <td>B26</td>\n",
       "      <td>13</td>\n",
       "      <td>3</td>\n",
       "      <td>1</td>\n",
       "      <td>57</td>\n",
       "      <td>1</td>\n",
       "      <td>2</td>\n",
       "    </tr>\n",
       "    <tr>\n",
       "      <th>2</th>\n",
       "      <td>2008</td>\n",
       "      <td>7</td>\n",
       "      <td>15</td>\n",
       "      <td>2</td>\n",
       "      <td>29</td>\n",
       "      <td>19388</td>\n",
       "      <td>3</td>\n",
       "      <td>C13</td>\n",
       "      <td>9</td>\n",
       "      <td>5</td>\n",
       "      <td>1</td>\n",
       "      <td>48</td>\n",
       "      <td>1</td>\n",
       "      <td>1</td>\n",
       "    </tr>\n",
       "    <tr>\n",
       "      <th>3</th>\n",
       "      <td>2008</td>\n",
       "      <td>5</td>\n",
       "      <td>2</td>\n",
       "      <td>2</td>\n",
       "      <td>29</td>\n",
       "      <td>7181</td>\n",
       "      <td>2</td>\n",
       "      <td>B11</td>\n",
       "      <td>2</td>\n",
       "      <td>4</td>\n",
       "      <td>1</td>\n",
       "      <td>43</td>\n",
       "      <td>2</td>\n",
       "      <td>1</td>\n",
       "    </tr>\n",
       "    <tr>\n",
       "      <th>4</th>\n",
       "      <td>2008</td>\n",
       "      <td>6</td>\n",
       "      <td>9</td>\n",
       "      <td>16</td>\n",
       "      <td>29</td>\n",
       "      <td>13493</td>\n",
       "      <td>2</td>\n",
       "      <td>B31</td>\n",
       "      <td>9</td>\n",
       "      <td>5</td>\n",
       "      <td>1</td>\n",
       "      <td>57</td>\n",
       "      <td>1</td>\n",
       "      <td>2</td>\n",
       "    </tr>\n",
       "  </tbody>\n",
       "</table>\n",
       "</div>"
      ],
      "text/plain": [
       "   year  month  day  order  country  session_id  page1_main_category  \\\n",
       "0  2008      6   22     21       29       15648                    3   \n",
       "1  2008      5   19      6       29       10018                    2   \n",
       "2  2008      7   15      2       29       19388                    3   \n",
       "3  2008      5    2      2       29        7181                    2   \n",
       "4  2008      6    9     16       29       13493                    2   \n",
       "\n",
       "  page2_clothing_model  colour  location  model_photography  price  price_2  \\\n",
       "0                  C20      13         1                  2     48        1   \n",
       "1                  B26      13         3                  1     57        1   \n",
       "2                  C13       9         5                  1     48        1   \n",
       "3                  B11       2         4                  1     43        2   \n",
       "4                  B31       9         5                  1     57        1   \n",
       "\n",
       "   page  \n",
       "0     2  \n",
       "1     2  \n",
       "2     1  \n",
       "3     1  \n",
       "4     2  "
      ]
     },
     "execution_count": 4,
     "metadata": {},
     "output_type": "execute_result"
    }
   ],
   "source": [
    "data.head()"
   ]
  },
  {
   "cell_type": "code",
   "execution_count": 5,
   "id": "5a01d0cb",
   "metadata": {},
   "outputs": [
    {
     "data": {
      "text/plain": [
       "year                        1\n",
       "month                       5\n",
       "day                        31\n",
       "order                     193\n",
       "country                    46\n",
       "session_id              22910\n",
       "page1_main_category         4\n",
       "page2_clothing_model      216\n",
       "colour                     14\n",
       "location                    6\n",
       "model_photography           2\n",
       "price                      20\n",
       "price_2                     2\n",
       "page                        5\n",
       "dtype: int64"
      ]
     },
     "execution_count": 5,
     "metadata": {},
     "output_type": "execute_result"
    }
   ],
   "source": [
    "# data.duplicated().sum() - 0\n",
    "data.nunique()\n",
    "# data.isnull().sum() - 0"
   ]
  },
  {
   "cell_type": "code",
   "execution_count": null,
   "id": "f2fda5a0",
   "metadata": {},
   "outputs": [],
   "source": [
    "#Data understanding - observation\n",
    "#no duplicates\n",
    "#no null\n",
    "#page2_clothing_model -only object type - rest all int\n",
    "#Encoding required for : page2_clothing_model \n",
    "\n",
    "\n"
   ]
  },
  {
   "cell_type": "code",
   "execution_count": null,
   "id": "f7134eab",
   "metadata": {},
   "outputs": [],
   "source": [
    "# will be using target encoding and frequency encoding for the page2_clothng_model column - refer one note"
   ]
  },
  {
   "cell_type": "code",
   "execution_count": 7,
   "id": "c1239f8f",
   "metadata": {},
   "outputs": [
    {
     "data": {
      "text/html": [
       "<div>\n",
       "<style scoped>\n",
       "    .dataframe tbody tr th:only-of-type {\n",
       "        vertical-align: middle;\n",
       "    }\n",
       "\n",
       "    .dataframe tbody tr th {\n",
       "        vertical-align: top;\n",
       "    }\n",
       "\n",
       "    .dataframe thead th {\n",
       "        text-align: right;\n",
       "    }\n",
       "</style>\n",
       "<table border=\"1\" class=\"dataframe\">\n",
       "  <thead>\n",
       "    <tr style=\"text-align: right;\">\n",
       "      <th></th>\n",
       "      <th>page2_clothing_model</th>\n",
       "      <th>count</th>\n",
       "    </tr>\n",
       "  </thead>\n",
       "  <tbody>\n",
       "    <tr>\n",
       "      <th>0</th>\n",
       "      <td>B4</td>\n",
       "      <td>2824</td>\n",
       "    </tr>\n",
       "    <tr>\n",
       "      <th>1</th>\n",
       "      <td>A2</td>\n",
       "      <td>2389</td>\n",
       "    </tr>\n",
       "    <tr>\n",
       "      <th>2</th>\n",
       "      <td>A11</td>\n",
       "      <td>2247</td>\n",
       "    </tr>\n",
       "    <tr>\n",
       "      <th>3</th>\n",
       "      <td>P1</td>\n",
       "      <td>2134</td>\n",
       "    </tr>\n",
       "    <tr>\n",
       "      <th>4</th>\n",
       "      <td>B10</td>\n",
       "      <td>2011</td>\n",
       "    </tr>\n",
       "    <tr>\n",
       "      <th>...</th>\n",
       "      <td>...</td>\n",
       "      <td>...</td>\n",
       "    </tr>\n",
       "    <tr>\n",
       "      <th>211</th>\n",
       "      <td>P31</td>\n",
       "      <td>64</td>\n",
       "    </tr>\n",
       "    <tr>\n",
       "      <th>212</th>\n",
       "      <td>P66</td>\n",
       "      <td>42</td>\n",
       "    </tr>\n",
       "    <tr>\n",
       "      <th>213</th>\n",
       "      <td>P79</td>\n",
       "      <td>2</td>\n",
       "    </tr>\n",
       "    <tr>\n",
       "      <th>214</th>\n",
       "      <td>P22</td>\n",
       "      <td>2</td>\n",
       "    </tr>\n",
       "    <tr>\n",
       "      <th>215</th>\n",
       "      <td>P54</td>\n",
       "      <td>1</td>\n",
       "    </tr>\n",
       "  </tbody>\n",
       "</table>\n",
       "<p>216 rows × 2 columns</p>\n",
       "</div>"
      ],
      "text/plain": [
       "    page2_clothing_model  count\n",
       "0                     B4   2824\n",
       "1                     A2   2389\n",
       "2                    A11   2247\n",
       "3                     P1   2134\n",
       "4                    B10   2011\n",
       "..                   ...    ...\n",
       "211                  P31     64\n",
       "212                  P66     42\n",
       "213                  P79      2\n",
       "214                  P22      2\n",
       "215                  P54      1\n",
       "\n",
       "[216 rows x 2 columns]"
      ]
     },
     "execution_count": 7,
     "metadata": {},
     "output_type": "execute_result"
    }
   ],
   "source": [
    "models = data['page2_clothing_model'].value_counts().reset_index(name = 'count')\n",
    "models"
   ]
  },
  {
   "cell_type": "code",
   "execution_count": 22,
   "id": "0d4de37a",
   "metadata": {},
   "outputs": [],
   "source": [
    "model_en = data['page2_clothing_model'].value_counts()"
   ]
  },
  {
   "cell_type": "code",
   "execution_count": 25,
   "id": "84a5b72c",
   "metadata": {},
   "outputs": [],
   "source": [
    "# data['model_encoded'] = data['page2_clothing_model'].map(model_en)\n",
    "data.drop(columns='page2_clothing_model',inplace= True)"
   ]
  },
  {
   "cell_type": "code",
   "execution_count": 38,
   "id": "5968412c",
   "metadata": {},
   "outputs": [
    {
     "data": {
      "application/vnd.plotly.v1+json": {
       "config": {
        "plotlyServerURL": "https://plot.ly"
       },
       "data": [
        {
         "hovertemplate": "page2_clothing_model=%{x}<br>count=%{y}<extra></extra>",
         "legendgroup": "",
         "marker": {
          "color": "#636efa",
          "pattern": {
           "shape": ""
          }
         },
         "name": "",
         "orientation": "v",
         "showlegend": false,
         "textposition": "auto",
         "type": "bar",
         "x": [
          "B4",
          "A2",
          "A11",
          "P1",
          "B10",
          "A4",
          "A15",
          "A5",
          "A10",
          "A1",
          "A12",
          "A9",
          "B13",
          "A3",
          "B24",
          "A6",
          "C5",
          "A7",
          "A13",
          "B11",
          "A8",
          "A17",
          "P6",
          "B1",
          "C17",
          "P16",
          "B15",
          "P15",
          "B17",
          "A31",
          "B31",
          "B16",
          "A16",
          "B12",
          "A21",
          "B23",
          "B32",
          "B26",
          "B3",
          "B2",
          "C56",
          "C14",
          "B14",
          "P3",
          "C7",
          "P4",
          "B19",
          "C2",
          "C40",
          "C1",
          "P2",
          "P17",
          "P12",
          "B30",
          "B27",
          "C13",
          "A14",
          "C9",
          "A18",
          "C11",
          "C12",
          "C49",
          "B9",
          "C4",
          "B21",
          "A33",
          "P23",
          "P48",
          "C8",
          "C50",
          "P33",
          "C57",
          "P5",
          "C21",
          "A37",
          "C35",
          "P14",
          "C29",
          "P82",
          "P11",
          "C41",
          "A41",
          "P39",
          "C30",
          "C6",
          "A29",
          "C34",
          "B25",
          "A30",
          "C54",
          "C33",
          "C53",
          "C18",
          "P20",
          "B6",
          "P49",
          "A42",
          "P8",
          "A32",
          "B34",
          "P9",
          "A22",
          "C3",
          "C16",
          "C55",
          "C10",
          "C51",
          "P26",
          "A34",
          "P7",
          "A20",
          "P18",
          "B5",
          "C36",
          "P13",
          "C58",
          "P50",
          "P70",
          "B29",
          "C19",
          "P61",
          "C15",
          "C26",
          "B8",
          "A28",
          "C42",
          "B28",
          "P60",
          "A39",
          "A35",
          "C59",
          "A38",
          "A26",
          "C48",
          "C24",
          "B7",
          "C46",
          "C44",
          "P55",
          "P36",
          "P77",
          "B33",
          "P51",
          "C25",
          "P34",
          "A23",
          "P78",
          "A27",
          "P19",
          "P29",
          "B20",
          "P43",
          "P10",
          "B22",
          "A19",
          "P72",
          "A36",
          "P37",
          "P65",
          "P46",
          "P41",
          "P59",
          "C32",
          "C27",
          "A25",
          "C31",
          "P56",
          "A40",
          "C38",
          "C23",
          "P47",
          "P63",
          "A24",
          "C45",
          "P21",
          "C28",
          "C47",
          "P74",
          "P25",
          "C22",
          "P44",
          "P42",
          "P30",
          "C37",
          "P57",
          "A43",
          "P71",
          "P40",
          "P67",
          "P38",
          "C20",
          "P35",
          "P80",
          "P73",
          "P81",
          "P53",
          "C39",
          "C52",
          "P58",
          "P69",
          "P76",
          "C43",
          "P27",
          "P75",
          "P52",
          "P62",
          "P64",
          "P45",
          "P24",
          "P68",
          "P32",
          "P31",
          "P66",
          "P79",
          "P22",
          "P54"
         ],
         "xaxis": "x",
         "y": {
          "bdata": "CAtVCccIVgjbB9AHxAdqBzcHKgc2BgYG9AX0Bc0FrwWZBRYF+ATlBOME4gTaBNcEugSnBKYEiQR7BGkEZQRhBFgEWARRBE0EQwQSBAQEvQO4A5sDkgOIA34DfAN4A3IDbgNsAyQDHgMXAwMD/gL4AukC4gLgAsMCwQK0ArACrwKtAqwCogKgApwCnAKVAoYCbwJvAm4CbQJqAl0CVAJRAlECUQJJAkUCRQI8AjcCNQIzAikCIwIcAhsCFQIUAhECEAIHAgQC+AH3AfUB6gHjAeMB4AHfAdsBzQHNAb0BuwG5AbcBsgGuAa4BrgGnAacBogGdAZ0BmwGZAZMBjgGJAYYBgwF9AX0BfQF7AXoBeAF2AXYBawFnAWUBYQFdAVkBTQFMAUcBRQFEAT8BOAE3ATMBMQEtASwBLAErASQBIwEfAR4BHQEXARYBEgEPAQ4BDQEEAe8A7wDtAOwA5gDfANwA2gDYANYA0gDSAM4AzQDLAMgAxQDAALMAsgCwAK8ArQCtAKgAnwCXAJcAjQCLAIcAhACEAIMAgwCAAHYAdQBtAE4ATQBAACoAAgACAAEA",
          "dtype": "i2"
         },
         "yaxis": "y"
        }
       ],
       "layout": {
        "barmode": "relative",
        "legend": {
         "tracegroupgap": 0
        },
        "template": {
         "data": {
          "bar": [
           {
            "error_x": {
             "color": "#2a3f5f"
            },
            "error_y": {
             "color": "#2a3f5f"
            },
            "marker": {
             "line": {
              "color": "#E5ECF6",
              "width": 0.5
             },
             "pattern": {
              "fillmode": "overlay",
              "size": 10,
              "solidity": 0.2
             }
            },
            "type": "bar"
           }
          ],
          "barpolar": [
           {
            "marker": {
             "line": {
              "color": "#E5ECF6",
              "width": 0.5
             },
             "pattern": {
              "fillmode": "overlay",
              "size": 10,
              "solidity": 0.2
             }
            },
            "type": "barpolar"
           }
          ],
          "carpet": [
           {
            "aaxis": {
             "endlinecolor": "#2a3f5f",
             "gridcolor": "white",
             "linecolor": "white",
             "minorgridcolor": "white",
             "startlinecolor": "#2a3f5f"
            },
            "baxis": {
             "endlinecolor": "#2a3f5f",
             "gridcolor": "white",
             "linecolor": "white",
             "minorgridcolor": "white",
             "startlinecolor": "#2a3f5f"
            },
            "type": "carpet"
           }
          ],
          "choropleth": [
           {
            "colorbar": {
             "outlinewidth": 0,
             "ticks": ""
            },
            "type": "choropleth"
           }
          ],
          "contour": [
           {
            "colorbar": {
             "outlinewidth": 0,
             "ticks": ""
            },
            "colorscale": [
             [
              0,
              "#0d0887"
             ],
             [
              0.1111111111111111,
              "#46039f"
             ],
             [
              0.2222222222222222,
              "#7201a8"
             ],
             [
              0.3333333333333333,
              "#9c179e"
             ],
             [
              0.4444444444444444,
              "#bd3786"
             ],
             [
              0.5555555555555556,
              "#d8576b"
             ],
             [
              0.6666666666666666,
              "#ed7953"
             ],
             [
              0.7777777777777778,
              "#fb9f3a"
             ],
             [
              0.8888888888888888,
              "#fdca26"
             ],
             [
              1,
              "#f0f921"
             ]
            ],
            "type": "contour"
           }
          ],
          "contourcarpet": [
           {
            "colorbar": {
             "outlinewidth": 0,
             "ticks": ""
            },
            "type": "contourcarpet"
           }
          ],
          "heatmap": [
           {
            "colorbar": {
             "outlinewidth": 0,
             "ticks": ""
            },
            "colorscale": [
             [
              0,
              "#0d0887"
             ],
             [
              0.1111111111111111,
              "#46039f"
             ],
             [
              0.2222222222222222,
              "#7201a8"
             ],
             [
              0.3333333333333333,
              "#9c179e"
             ],
             [
              0.4444444444444444,
              "#bd3786"
             ],
             [
              0.5555555555555556,
              "#d8576b"
             ],
             [
              0.6666666666666666,
              "#ed7953"
             ],
             [
              0.7777777777777778,
              "#fb9f3a"
             ],
             [
              0.8888888888888888,
              "#fdca26"
             ],
             [
              1,
              "#f0f921"
             ]
            ],
            "type": "heatmap"
           }
          ],
          "histogram": [
           {
            "marker": {
             "pattern": {
              "fillmode": "overlay",
              "size": 10,
              "solidity": 0.2
             }
            },
            "type": "histogram"
           }
          ],
          "histogram2d": [
           {
            "colorbar": {
             "outlinewidth": 0,
             "ticks": ""
            },
            "colorscale": [
             [
              0,
              "#0d0887"
             ],
             [
              0.1111111111111111,
              "#46039f"
             ],
             [
              0.2222222222222222,
              "#7201a8"
             ],
             [
              0.3333333333333333,
              "#9c179e"
             ],
             [
              0.4444444444444444,
              "#bd3786"
             ],
             [
              0.5555555555555556,
              "#d8576b"
             ],
             [
              0.6666666666666666,
              "#ed7953"
             ],
             [
              0.7777777777777778,
              "#fb9f3a"
             ],
             [
              0.8888888888888888,
              "#fdca26"
             ],
             [
              1,
              "#f0f921"
             ]
            ],
            "type": "histogram2d"
           }
          ],
          "histogram2dcontour": [
           {
            "colorbar": {
             "outlinewidth": 0,
             "ticks": ""
            },
            "colorscale": [
             [
              0,
              "#0d0887"
             ],
             [
              0.1111111111111111,
              "#46039f"
             ],
             [
              0.2222222222222222,
              "#7201a8"
             ],
             [
              0.3333333333333333,
              "#9c179e"
             ],
             [
              0.4444444444444444,
              "#bd3786"
             ],
             [
              0.5555555555555556,
              "#d8576b"
             ],
             [
              0.6666666666666666,
              "#ed7953"
             ],
             [
              0.7777777777777778,
              "#fb9f3a"
             ],
             [
              0.8888888888888888,
              "#fdca26"
             ],
             [
              1,
              "#f0f921"
             ]
            ],
            "type": "histogram2dcontour"
           }
          ],
          "mesh3d": [
           {
            "colorbar": {
             "outlinewidth": 0,
             "ticks": ""
            },
            "type": "mesh3d"
           }
          ],
          "parcoords": [
           {
            "line": {
             "colorbar": {
              "outlinewidth": 0,
              "ticks": ""
             }
            },
            "type": "parcoords"
           }
          ],
          "pie": [
           {
            "automargin": true,
            "type": "pie"
           }
          ],
          "scatter": [
           {
            "fillpattern": {
             "fillmode": "overlay",
             "size": 10,
             "solidity": 0.2
            },
            "type": "scatter"
           }
          ],
          "scatter3d": [
           {
            "line": {
             "colorbar": {
              "outlinewidth": 0,
              "ticks": ""
             }
            },
            "marker": {
             "colorbar": {
              "outlinewidth": 0,
              "ticks": ""
             }
            },
            "type": "scatter3d"
           }
          ],
          "scattercarpet": [
           {
            "marker": {
             "colorbar": {
              "outlinewidth": 0,
              "ticks": ""
             }
            },
            "type": "scattercarpet"
           }
          ],
          "scattergeo": [
           {
            "marker": {
             "colorbar": {
              "outlinewidth": 0,
              "ticks": ""
             }
            },
            "type": "scattergeo"
           }
          ],
          "scattergl": [
           {
            "marker": {
             "colorbar": {
              "outlinewidth": 0,
              "ticks": ""
             }
            },
            "type": "scattergl"
           }
          ],
          "scattermap": [
           {
            "marker": {
             "colorbar": {
              "outlinewidth": 0,
              "ticks": ""
             }
            },
            "type": "scattermap"
           }
          ],
          "scattermapbox": [
           {
            "marker": {
             "colorbar": {
              "outlinewidth": 0,
              "ticks": ""
             }
            },
            "type": "scattermapbox"
           }
          ],
          "scatterpolar": [
           {
            "marker": {
             "colorbar": {
              "outlinewidth": 0,
              "ticks": ""
             }
            },
            "type": "scatterpolar"
           }
          ],
          "scatterpolargl": [
           {
            "marker": {
             "colorbar": {
              "outlinewidth": 0,
              "ticks": ""
             }
            },
            "type": "scatterpolargl"
           }
          ],
          "scatterternary": [
           {
            "marker": {
             "colorbar": {
              "outlinewidth": 0,
              "ticks": ""
             }
            },
            "type": "scatterternary"
           }
          ],
          "surface": [
           {
            "colorbar": {
             "outlinewidth": 0,
             "ticks": ""
            },
            "colorscale": [
             [
              0,
              "#0d0887"
             ],
             [
              0.1111111111111111,
              "#46039f"
             ],
             [
              0.2222222222222222,
              "#7201a8"
             ],
             [
              0.3333333333333333,
              "#9c179e"
             ],
             [
              0.4444444444444444,
              "#bd3786"
             ],
             [
              0.5555555555555556,
              "#d8576b"
             ],
             [
              0.6666666666666666,
              "#ed7953"
             ],
             [
              0.7777777777777778,
              "#fb9f3a"
             ],
             [
              0.8888888888888888,
              "#fdca26"
             ],
             [
              1,
              "#f0f921"
             ]
            ],
            "type": "surface"
           }
          ],
          "table": [
           {
            "cells": {
             "fill": {
              "color": "#EBF0F8"
             },
             "line": {
              "color": "white"
             }
            },
            "header": {
             "fill": {
              "color": "#C8D4E3"
             },
             "line": {
              "color": "white"
             }
            },
            "type": "table"
           }
          ]
         },
         "layout": {
          "annotationdefaults": {
           "arrowcolor": "#2a3f5f",
           "arrowhead": 0,
           "arrowwidth": 1
          },
          "autotypenumbers": "strict",
          "coloraxis": {
           "colorbar": {
            "outlinewidth": 0,
            "ticks": ""
           }
          },
          "colorscale": {
           "diverging": [
            [
             0,
             "#8e0152"
            ],
            [
             0.1,
             "#c51b7d"
            ],
            [
             0.2,
             "#de77ae"
            ],
            [
             0.3,
             "#f1b6da"
            ],
            [
             0.4,
             "#fde0ef"
            ],
            [
             0.5,
             "#f7f7f7"
            ],
            [
             0.6,
             "#e6f5d0"
            ],
            [
             0.7,
             "#b8e186"
            ],
            [
             0.8,
             "#7fbc41"
            ],
            [
             0.9,
             "#4d9221"
            ],
            [
             1,
             "#276419"
            ]
           ],
           "sequential": [
            [
             0,
             "#0d0887"
            ],
            [
             0.1111111111111111,
             "#46039f"
            ],
            [
             0.2222222222222222,
             "#7201a8"
            ],
            [
             0.3333333333333333,
             "#9c179e"
            ],
            [
             0.4444444444444444,
             "#bd3786"
            ],
            [
             0.5555555555555556,
             "#d8576b"
            ],
            [
             0.6666666666666666,
             "#ed7953"
            ],
            [
             0.7777777777777778,
             "#fb9f3a"
            ],
            [
             0.8888888888888888,
             "#fdca26"
            ],
            [
             1,
             "#f0f921"
            ]
           ],
           "sequentialminus": [
            [
             0,
             "#0d0887"
            ],
            [
             0.1111111111111111,
             "#46039f"
            ],
            [
             0.2222222222222222,
             "#7201a8"
            ],
            [
             0.3333333333333333,
             "#9c179e"
            ],
            [
             0.4444444444444444,
             "#bd3786"
            ],
            [
             0.5555555555555556,
             "#d8576b"
            ],
            [
             0.6666666666666666,
             "#ed7953"
            ],
            [
             0.7777777777777778,
             "#fb9f3a"
            ],
            [
             0.8888888888888888,
             "#fdca26"
            ],
            [
             1,
             "#f0f921"
            ]
           ]
          },
          "colorway": [
           "#636efa",
           "#EF553B",
           "#00cc96",
           "#ab63fa",
           "#FFA15A",
           "#19d3f3",
           "#FF6692",
           "#B6E880",
           "#FF97FF",
           "#FECB52"
          ],
          "font": {
           "color": "#2a3f5f"
          },
          "geo": {
           "bgcolor": "white",
           "lakecolor": "white",
           "landcolor": "#E5ECF6",
           "showlakes": true,
           "showland": true,
           "subunitcolor": "white"
          },
          "hoverlabel": {
           "align": "left"
          },
          "hovermode": "closest",
          "mapbox": {
           "style": "light"
          },
          "paper_bgcolor": "white",
          "plot_bgcolor": "#E5ECF6",
          "polar": {
           "angularaxis": {
            "gridcolor": "white",
            "linecolor": "white",
            "ticks": ""
           },
           "bgcolor": "#E5ECF6",
           "radialaxis": {
            "gridcolor": "white",
            "linecolor": "white",
            "ticks": ""
           }
          },
          "scene": {
           "xaxis": {
            "backgroundcolor": "#E5ECF6",
            "gridcolor": "white",
            "gridwidth": 2,
            "linecolor": "white",
            "showbackground": true,
            "ticks": "",
            "zerolinecolor": "white"
           },
           "yaxis": {
            "backgroundcolor": "#E5ECF6",
            "gridcolor": "white",
            "gridwidth": 2,
            "linecolor": "white",
            "showbackground": true,
            "ticks": "",
            "zerolinecolor": "white"
           },
           "zaxis": {
            "backgroundcolor": "#E5ECF6",
            "gridcolor": "white",
            "gridwidth": 2,
            "linecolor": "white",
            "showbackground": true,
            "ticks": "",
            "zerolinecolor": "white"
           }
          },
          "shapedefaults": {
           "line": {
            "color": "#2a3f5f"
           }
          },
          "ternary": {
           "aaxis": {
            "gridcolor": "white",
            "linecolor": "white",
            "ticks": ""
           },
           "baxis": {
            "gridcolor": "white",
            "linecolor": "white",
            "ticks": ""
           },
           "bgcolor": "#E5ECF6",
           "caxis": {
            "gridcolor": "white",
            "linecolor": "white",
            "ticks": ""
           }
          },
          "title": {
           "x": 0.05
          },
          "xaxis": {
           "automargin": true,
           "gridcolor": "white",
           "linecolor": "white",
           "ticks": "",
           "title": {
            "standoff": 15
           },
           "zerolinecolor": "white",
           "zerolinewidth": 2
          },
          "yaxis": {
           "automargin": true,
           "gridcolor": "white",
           "linecolor": "white",
           "ticks": "",
           "title": {
            "standoff": 15
           },
           "zerolinecolor": "white",
           "zerolinewidth": 2
          }
         }
        },
        "title": {
         "text": "model and its overall share"
        },
        "xaxis": {
         "anchor": "y",
         "domain": [
          0,
          1
         ],
         "title": {
          "text": "page2_clothing_model"
         }
        },
        "yaxis": {
         "anchor": "x",
         "domain": [
          0,
          1
         ],
         "title": {
          "text": "count"
         }
        }
       }
      }
     },
     "metadata": {},
     "output_type": "display_data"
    }
   ],
   "source": [
    "# models['percent'] = models['count']/132379*100\n",
    "# models.head()\n",
    "import plotly.express as px\n",
    "fig = px.bar(\n",
    "    models,\n",
    "    x = 'page2_clothing_model',\n",
    "    y = 'count',\n",
    "    title = 'model and its overall share'\n",
    ")\n",
    "\n",
    "fig.show()"
   ]
  },
  {
   "cell_type": "code",
   "execution_count": 37,
   "id": "39a8f8a3",
   "metadata": {},
   "outputs": [
    {
     "data": {
      "application/vnd.plotly.v1+json": {
       "config": {
        "plotlyServerURL": "https://plot.ly"
       },
       "data": [
        {
         "bingroup": "x",
         "hovertemplate": "percent=%{x}<br>count=%{y}<extra></extra>",
         "legendgroup": "",
         "marker": {
          "color": "#636efa",
          "pattern": {
           "shape": ""
          }
         },
         "name": "",
         "orientation": "v",
         "showlegend": false,
         "type": "histogram",
         "x": {
          "bdata": "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",
          "dtype": "f8"
         },
         "xaxis": "x",
         "yaxis": "y"
        }
       ],
       "layout": {
        "barmode": "relative",
        "legend": {
         "tracegroupgap": 0
        },
        "template": {
         "data": {
          "bar": [
           {
            "error_x": {
             "color": "#2a3f5f"
            },
            "error_y": {
             "color": "#2a3f5f"
            },
            "marker": {
             "line": {
              "color": "#E5ECF6",
              "width": 0.5
             },
             "pattern": {
              "fillmode": "overlay",
              "size": 10,
              "solidity": 0.2
             }
            },
            "type": "bar"
           }
          ],
          "barpolar": [
           {
            "marker": {
             "line": {
              "color": "#E5ECF6",
              "width": 0.5
             },
             "pattern": {
              "fillmode": "overlay",
              "size": 10,
              "solidity": 0.2
             }
            },
            "type": "barpolar"
           }
          ],
          "carpet": [
           {
            "aaxis": {
             "endlinecolor": "#2a3f5f",
             "gridcolor": "white",
             "linecolor": "white",
             "minorgridcolor": "white",
             "startlinecolor": "#2a3f5f"
            },
            "baxis": {
             "endlinecolor": "#2a3f5f",
             "gridcolor": "white",
             "linecolor": "white",
             "minorgridcolor": "white",
             "startlinecolor": "#2a3f5f"
            },
            "type": "carpet"
           }
          ],
          "choropleth": [
           {
            "colorbar": {
             "outlinewidth": 0,
             "ticks": ""
            },
            "type": "choropleth"
           }
          ],
          "contour": [
           {
            "colorbar": {
             "outlinewidth": 0,
             "ticks": ""
            },
            "colorscale": [
             [
              0,
              "#0d0887"
             ],
             [
              0.1111111111111111,
              "#46039f"
             ],
             [
              0.2222222222222222,
              "#7201a8"
             ],
             [
              0.3333333333333333,
              "#9c179e"
             ],
             [
              0.4444444444444444,
              "#bd3786"
             ],
             [
              0.5555555555555556,
              "#d8576b"
             ],
             [
              0.6666666666666666,
              "#ed7953"
             ],
             [
              0.7777777777777778,
              "#fb9f3a"
             ],
             [
              0.8888888888888888,
              "#fdca26"
             ],
             [
              1,
              "#f0f921"
             ]
            ],
            "type": "contour"
           }
          ],
          "contourcarpet": [
           {
            "colorbar": {
             "outlinewidth": 0,
             "ticks": ""
            },
            "type": "contourcarpet"
           }
          ],
          "heatmap": [
           {
            "colorbar": {
             "outlinewidth": 0,
             "ticks": ""
            },
            "colorscale": [
             [
              0,
              "#0d0887"
             ],
             [
              0.1111111111111111,
              "#46039f"
             ],
             [
              0.2222222222222222,
              "#7201a8"
             ],
             [
              0.3333333333333333,
              "#9c179e"
             ],
             [
              0.4444444444444444,
              "#bd3786"
             ],
             [
              0.5555555555555556,
              "#d8576b"
             ],
             [
              0.6666666666666666,
              "#ed7953"
             ],
             [
              0.7777777777777778,
              "#fb9f3a"
             ],
             [
              0.8888888888888888,
              "#fdca26"
             ],
             [
              1,
              "#f0f921"
             ]
            ],
            "type": "heatmap"
           }
          ],
          "histogram": [
           {
            "marker": {
             "pattern": {
              "fillmode": "overlay",
              "size": 10,
              "solidity": 0.2
             }
            },
            "type": "histogram"
           }
          ],
          "histogram2d": [
           {
            "colorbar": {
             "outlinewidth": 0,
             "ticks": ""
            },
            "colorscale": [
             [
              0,
              "#0d0887"
             ],
             [
              0.1111111111111111,
              "#46039f"
             ],
             [
              0.2222222222222222,
              "#7201a8"
             ],
             [
              0.3333333333333333,
              "#9c179e"
             ],
             [
              0.4444444444444444,
              "#bd3786"
             ],
             [
              0.5555555555555556,
              "#d8576b"
             ],
             [
              0.6666666666666666,
              "#ed7953"
             ],
             [
              0.7777777777777778,
              "#fb9f3a"
             ],
             [
              0.8888888888888888,
              "#fdca26"
             ],
             [
              1,
              "#f0f921"
             ]
            ],
            "type": "histogram2d"
           }
          ],
          "histogram2dcontour": [
           {
            "colorbar": {
             "outlinewidth": 0,
             "ticks": ""
            },
            "colorscale": [
             [
              0,
              "#0d0887"
             ],
             [
              0.1111111111111111,
              "#46039f"
             ],
             [
              0.2222222222222222,
              "#7201a8"
             ],
             [
              0.3333333333333333,
              "#9c179e"
             ],
             [
              0.4444444444444444,
              "#bd3786"
             ],
             [
              0.5555555555555556,
              "#d8576b"
             ],
             [
              0.6666666666666666,
              "#ed7953"
             ],
             [
              0.7777777777777778,
              "#fb9f3a"
             ],
             [
              0.8888888888888888,
              "#fdca26"
             ],
             [
              1,
              "#f0f921"
             ]
            ],
            "type": "histogram2dcontour"
           }
          ],
          "mesh3d": [
           {
            "colorbar": {
             "outlinewidth": 0,
             "ticks": ""
            },
            "type": "mesh3d"
           }
          ],
          "parcoords": [
           {
            "line": {
             "colorbar": {
              "outlinewidth": 0,
              "ticks": ""
             }
            },
            "type": "parcoords"
           }
          ],
          "pie": [
           {
            "automargin": true,
            "type": "pie"
           }
          ],
          "scatter": [
           {
            "fillpattern": {
             "fillmode": "overlay",
             "size": 10,
             "solidity": 0.2
            },
            "type": "scatter"
           }
          ],
          "scatter3d": [
           {
            "line": {
             "colorbar": {
              "outlinewidth": 0,
              "ticks": ""
             }
            },
            "marker": {
             "colorbar": {
              "outlinewidth": 0,
              "ticks": ""
             }
            },
            "type": "scatter3d"
           }
          ],
          "scattercarpet": [
           {
            "marker": {
             "colorbar": {
              "outlinewidth": 0,
              "ticks": ""
             }
            },
            "type": "scattercarpet"
           }
          ],
          "scattergeo": [
           {
            "marker": {
             "colorbar": {
              "outlinewidth": 0,
              "ticks": ""
             }
            },
            "type": "scattergeo"
           }
          ],
          "scattergl": [
           {
            "marker": {
             "colorbar": {
              "outlinewidth": 0,
              "ticks": ""
             }
            },
            "type": "scattergl"
           }
          ],
          "scattermap": [
           {
            "marker": {
             "colorbar": {
              "outlinewidth": 0,
              "ticks": ""
             }
            },
            "type": "scattermap"
           }
          ],
          "scattermapbox": [
           {
            "marker": {
             "colorbar": {
              "outlinewidth": 0,
              "ticks": ""
             }
            },
            "type": "scattermapbox"
           }
          ],
          "scatterpolar": [
           {
            "marker": {
             "colorbar": {
              "outlinewidth": 0,
              "ticks": ""
             }
            },
            "type": "scatterpolar"
           }
          ],
          "scatterpolargl": [
           {
            "marker": {
             "colorbar": {
              "outlinewidth": 0,
              "ticks": ""
             }
            },
            "type": "scatterpolargl"
           }
          ],
          "scatterternary": [
           {
            "marker": {
             "colorbar": {
              "outlinewidth": 0,
              "ticks": ""
             }
            },
            "type": "scatterternary"
           }
          ],
          "surface": [
           {
            "colorbar": {
             "outlinewidth": 0,
             "ticks": ""
            },
            "colorscale": [
             [
              0,
              "#0d0887"
             ],
             [
              0.1111111111111111,
              "#46039f"
             ],
             [
              0.2222222222222222,
              "#7201a8"
             ],
             [
              0.3333333333333333,
              "#9c179e"
             ],
             [
              0.4444444444444444,
              "#bd3786"
             ],
             [
              0.5555555555555556,
              "#d8576b"
             ],
             [
              0.6666666666666666,
              "#ed7953"
             ],
             [
              0.7777777777777778,
              "#fb9f3a"
             ],
             [
              0.8888888888888888,
              "#fdca26"
             ],
             [
              1,
              "#f0f921"
             ]
            ],
            "type": "surface"
           }
          ],
          "table": [
           {
            "cells": {
             "fill": {
              "color": "#EBF0F8"
             },
             "line": {
              "color": "white"
             }
            },
            "header": {
             "fill": {
              "color": "#C8D4E3"
             },
             "line": {
              "color": "white"
             }
            },
            "type": "table"
           }
          ]
         },
         "layout": {
          "annotationdefaults": {
           "arrowcolor": "#2a3f5f",
           "arrowhead": 0,
           "arrowwidth": 1
          },
          "autotypenumbers": "strict",
          "coloraxis": {
           "colorbar": {
            "outlinewidth": 0,
            "ticks": ""
           }
          },
          "colorscale": {
           "diverging": [
            [
             0,
             "#8e0152"
            ],
            [
             0.1,
             "#c51b7d"
            ],
            [
             0.2,
             "#de77ae"
            ],
            [
             0.3,
             "#f1b6da"
            ],
            [
             0.4,
             "#fde0ef"
            ],
            [
             0.5,
             "#f7f7f7"
            ],
            [
             0.6,
             "#e6f5d0"
            ],
            [
             0.7,
             "#b8e186"
            ],
            [
             0.8,
             "#7fbc41"
            ],
            [
             0.9,
             "#4d9221"
            ],
            [
             1,
             "#276419"
            ]
           ],
           "sequential": [
            [
             0,
             "#0d0887"
            ],
            [
             0.1111111111111111,
             "#46039f"
            ],
            [
             0.2222222222222222,
             "#7201a8"
            ],
            [
             0.3333333333333333,
             "#9c179e"
            ],
            [
             0.4444444444444444,
             "#bd3786"
            ],
            [
             0.5555555555555556,
             "#d8576b"
            ],
            [
             0.6666666666666666,
             "#ed7953"
            ],
            [
             0.7777777777777778,
             "#fb9f3a"
            ],
            [
             0.8888888888888888,
             "#fdca26"
            ],
            [
             1,
             "#f0f921"
            ]
           ],
           "sequentialminus": [
            [
             0,
             "#0d0887"
            ],
            [
             0.1111111111111111,
             "#46039f"
            ],
            [
             0.2222222222222222,
             "#7201a8"
            ],
            [
             0.3333333333333333,
             "#9c179e"
            ],
            [
             0.4444444444444444,
             "#bd3786"
            ],
            [
             0.5555555555555556,
             "#d8576b"
            ],
            [
             0.6666666666666666,
             "#ed7953"
            ],
            [
             0.7777777777777778,
             "#fb9f3a"
            ],
            [
             0.8888888888888888,
             "#fdca26"
            ],
            [
             1,
             "#f0f921"
            ]
           ]
          },
          "colorway": [
           "#636efa",
           "#EF553B",
           "#00cc96",
           "#ab63fa",
           "#FFA15A",
           "#19d3f3",
           "#FF6692",
           "#B6E880",
           "#FF97FF",
           "#FECB52"
          ],
          "font": {
           "color": "#2a3f5f"
          },
          "geo": {
           "bgcolor": "white",
           "lakecolor": "white",
           "landcolor": "#E5ECF6",
           "showlakes": true,
           "showland": true,
           "subunitcolor": "white"
          },
          "hoverlabel": {
           "align": "left"
          },
          "hovermode": "closest",
          "mapbox": {
           "style": "light"
          },
          "paper_bgcolor": "white",
          "plot_bgcolor": "#E5ECF6",
          "polar": {
           "angularaxis": {
            "gridcolor": "white",
            "linecolor": "white",
            "ticks": ""
           },
           "bgcolor": "#E5ECF6",
           "radialaxis": {
            "gridcolor": "white",
            "linecolor": "white",
            "ticks": ""
           }
          },
          "scene": {
           "xaxis": {
            "backgroundcolor": "#E5ECF6",
            "gridcolor": "white",
            "gridwidth": 2,
            "linecolor": "white",
            "showbackground": true,
            "ticks": "",
            "zerolinecolor": "white"
           },
           "yaxis": {
            "backgroundcolor": "#E5ECF6",
            "gridcolor": "white",
            "gridwidth": 2,
            "linecolor": "white",
            "showbackground": true,
            "ticks": "",
            "zerolinecolor": "white"
           },
           "zaxis": {
            "backgroundcolor": "#E5ECF6",
            "gridcolor": "white",
            "gridwidth": 2,
            "linecolor": "white",
            "showbackground": true,
            "ticks": "",
            "zerolinecolor": "white"
           }
          },
          "shapedefaults": {
           "line": {
            "color": "#2a3f5f"
           }
          },
          "ternary": {
           "aaxis": {
            "gridcolor": "white",
            "linecolor": "white",
            "ticks": ""
           },
           "baxis": {
            "gridcolor": "white",
            "linecolor": "white",
            "ticks": ""
           },
           "bgcolor": "#E5ECF6",
           "caxis": {
            "gridcolor": "white",
            "linecolor": "white",
            "ticks": ""
           }
          },
          "title": {
           "x": 0.05
          },
          "xaxis": {
           "automargin": true,
           "gridcolor": "white",
           "linecolor": "white",
           "ticks": "",
           "title": {
            "standoff": 15
           },
           "zerolinecolor": "white",
           "zerolinewidth": 2
          },
          "yaxis": {
           "automargin": true,
           "gridcolor": "white",
           "linecolor": "white",
           "ticks": "",
           "title": {
            "standoff": 15
           },
           "zerolinecolor": "white",
           "zerolinewidth": 2
          }
         }
        },
        "title": {
         "text": "model and its overall share"
        },
        "xaxis": {
         "anchor": "y",
         "domain": [
          0,
          1
         ],
         "title": {
          "text": "percent"
         }
        },
        "yaxis": {
         "anchor": "x",
         "domain": [
          0,
          1
         ],
         "title": {
          "text": "count"
         }
        }
       }
      }
     },
     "metadata": {},
     "output_type": "display_data"
    }
   ],
   "source": [
    "fig = px.histogram(\n",
    "    models,\n",
    "    x = 'percent',\n",
    "    title = 'model and its overall share'\n",
    "    # kde = True\n",
    ")\n",
    "\n",
    "fig.show()"
   ]
  },
  {
   "cell_type": "markdown",
   "id": "673436d2",
   "metadata": {},
   "source": [
    "**# AI area**"
   ]
  },
  {
   "cell_type": "code",
   "execution_count": null,
   "id": "e70f5358",
   "metadata": {},
   "outputs": [
    {
     "name": "stderr",
     "output_type": "stream",
     "text": [
      "d:\\GIT HUB\\GUVI Mini Proj 4\\clickstream_venv\\Lib\\site-packages\\tqdm\\auto.py:21: TqdmWarning:\n",
      "\n",
      "IProgress not found. Please update jupyter and ipywidgets. See https://ipywidgets.readthedocs.io/en/stable/user_install.html\n",
      "\n"
     ]
    }
   ],
   "source": [
    "import google.generativeai as genai\n",
    "# --- SETUP GEMINI API KEY ---\n",
    "genai.configure(api_key=\"\")\n",
    "# --- FUNCTION: Ask Gemini to Extract Info ---\n",
    "def query_gemini(prompt):\n",
    "    model = genai.GenerativeModel('gemini-2.0-flash') #'gemini-2.0-flash' #gemini-pro\n",
    "    response = model.generate_content(prompt)\n",
    "    return response.text"
   ]
  },
  {
   "cell_type": "code",
   "execution_count": null,
   "id": "38da0407",
   "metadata": {},
   "outputs": [],
   "source": [
    "# user_prompt = f\"\"\"\n",
    "#     you are data scientist who is speacilised in ecommerce domain. understand the following data set. \n",
    "#     apart from page2_clothing_model. what are all the features that need to scaled/normalised before I go for co-relation matrix and unsupervised learning.\n",
    "#     also what are all the features I should consider for the skewness and kurtosis, what are the transformations I can use on them\n",
    "# data set:\n",
    "# {data.head(100)}\n",
    "#     \"\"\"\n",
    "user_prompt = f\"\"\"\n",
    "    you are data scientist who is speacilised in ecommerce domain. understand the following data set. \n",
    "    write me the code to create correlation matrix for the data  \n",
    "    data set:\n",
    "{data}\n",
    "    \"\"\"\n",
    "# Step 3: Query Gemini and print the result\n",
    "result = query_gemini(user_prompt)\n",
    "print(\"Extracted Info:\\n\", result)"
   ]
  },
  {
   "cell_type": "code",
   "execution_count": 36,
   "id": "5d4a3467",
   "metadata": {},
   "outputs": [
    {
     "data": {
      "application/vnd.plotly.v1+json": {
       "config": {
        "plotlyServerURL": "https://plot.ly"
       },
       "data": [
        {
         "coloraxis": "coloraxis",
         "hovertemplate": "x: %{x}<br>y: %{y}<br>color: %{z}<extra></extra>",
         "name": "0",
         "type": "heatmap",
         "x": [
          "year",
          "month",
          "day",
          "order",
          "country",
          "session_id",
          "page1_main_category",
          "colour",
          "location",
          "model_photography",
          "price",
          "price_2",
          "page",
          "model_encoded"
         ],
         "xaxis": "x",
         "y": [
          "year",
          "month",
          "day",
          "order",
          "country",
          "session_id",
          "page1_main_category",
          "colour",
          "location",
          "model_photography",
          "price",
          "price_2",
          "page",
          "model_encoded"
         ],
         "yaxis": "y",
         "z": {
          "bdata": "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",
          "dtype": "f8",
          "shape": "14, 14"
         }
        }
       ],
       "layout": {
        "annotations": [
         {
          "font": {
           "color": "black",
           "size": 10
          },
          "showarrow": false,
          "text": "nan",
          "x": "year",
          "y": "year"
         },
         {
          "font": {
           "color": "black",
           "size": 10
          },
          "showarrow": false,
          "text": "nan",
          "x": "month",
          "y": "year"
         },
         {
          "font": {
           "color": "black",
           "size": 10
          },
          "showarrow": false,
          "text": "nan",
          "x": "day",
          "y": "year"
         },
         {
          "font": {
           "color": "black",
           "size": 10
          },
          "showarrow": false,
          "text": "nan",
          "x": "order",
          "y": "year"
         },
         {
          "font": {
           "color": "black",
           "size": 10
          },
          "showarrow": false,
          "text": "nan",
          "x": "country",
          "y": "year"
         },
         {
          "font": {
           "color": "black",
           "size": 10
          },
          "showarrow": false,
          "text": "nan",
          "x": "session_id",
          "y": "year"
         },
         {
          "font": {
           "color": "black",
           "size": 10
          },
          "showarrow": false,
          "text": "nan",
          "x": "page1_main_category",
          "y": "year"
         },
         {
          "font": {
           "color": "black",
           "size": 10
          },
          "showarrow": false,
          "text": "nan",
          "x": "colour",
          "y": "year"
         },
         {
          "font": {
           "color": "black",
           "size": 10
          },
          "showarrow": false,
          "text": "nan",
          "x": "location",
          "y": "year"
         },
         {
          "font": {
           "color": "black",
           "size": 10
          },
          "showarrow": false,
          "text": "nan",
          "x": "model_photography",
          "y": "year"
         },
         {
          "font": {
           "color": "black",
           "size": 10
          },
          "showarrow": false,
          "text": "nan",
          "x": "price",
          "y": "year"
         },
         {
          "font": {
           "color": "black",
           "size": 10
          },
          "showarrow": false,
          "text": "nan",
          "x": "price_2",
          "y": "year"
         },
         {
          "font": {
           "color": "black",
           "size": 10
          },
          "showarrow": false,
          "text": "nan",
          "x": "page",
          "y": "year"
         },
         {
          "font": {
           "color": "black",
           "size": 10
          },
          "showarrow": false,
          "text": "nan",
          "x": "model_encoded",
          "y": "year"
         },
         {
          "font": {
           "color": "black",
           "size": 10
          },
          "showarrow": false,
          "text": "nan",
          "x": "year",
          "y": "month"
         },
         {
          "font": {
           "color": "black",
           "size": 10
          },
          "showarrow": false,
          "text": "1.00",
          "x": "month",
          "y": "month"
         },
         {
          "font": {
           "color": "black",
           "size": 10
          },
          "showarrow": false,
          "text": "-0.07",
          "x": "day",
          "y": "month"
         },
         {
          "font": {
           "color": "black",
           "size": 10
          },
          "showarrow": false,
          "text": "0.03",
          "x": "order",
          "y": "month"
         },
         {
          "font": {
           "color": "black",
           "size": 10
          },
          "showarrow": false,
          "text": "0.06",
          "x": "country",
          "y": "month"
         },
         {
          "font": {
           "color": "black",
           "size": 10
          },
          "showarrow": false,
          "text": "0.97",
          "x": "session_id",
          "y": "month"
         },
         {
          "font": {
           "color": "black",
           "size": 10
          },
          "showarrow": false,
          "text": "0.02",
          "x": "page1_main_category",
          "y": "month"
         },
         {
          "font": {
           "color": "black",
           "size": 10
          },
          "showarrow": false,
          "text": "-0.03",
          "x": "colour",
          "y": "month"
         },
         {
          "font": {
           "color": "black",
           "size": 10
          },
          "showarrow": false,
          "text": "-0.02",
          "x": "location",
          "y": "month"
         },
         {
          "font": {
           "color": "black",
           "size": 10
          },
          "showarrow": false,
          "text": "0.01",
          "x": "model_photography",
          "y": "month"
         },
         {
          "font": {
           "color": "black",
           "size": 10
          },
          "showarrow": false,
          "text": "0.01",
          "x": "price",
          "y": "month"
         },
         {
          "font": {
           "color": "black",
           "size": 10
          },
          "showarrow": false,
          "text": "-0.01",
          "x": "price_2",
          "y": "month"
         },
         {
          "font": {
           "color": "black",
           "size": 10
          },
          "showarrow": false,
          "text": "0.02",
          "x": "page",
          "y": "month"
         },
         {
          "font": {
           "color": "black",
           "size": 10
          },
          "showarrow": false,
          "text": "0.00",
          "x": "model_encoded",
          "y": "month"
         },
         {
          "font": {
           "color": "black",
           "size": 10
          },
          "showarrow": false,
          "text": "nan",
          "x": "year",
          "y": "day"
         },
         {
          "font": {
           "color": "black",
           "size": 10
          },
          "showarrow": false,
          "text": "-0.07",
          "x": "month",
          "y": "day"
         },
         {
          "font": {
           "color": "black",
           "size": 10
          },
          "showarrow": false,
          "text": "1.00",
          "x": "day",
          "y": "day"
         },
         {
          "font": {
           "color": "black",
           "size": 10
          },
          "showarrow": false,
          "text": "-0.02",
          "x": "order",
          "y": "day"
         },
         {
          "font": {
           "color": "black",
           "size": 10
          },
          "showarrow": false,
          "text": "0.01",
          "x": "country",
          "y": "day"
         },
         {
          "font": {
           "color": "black",
           "size": 10
          },
          "showarrow": false,
          "text": "0.16",
          "x": "session_id",
          "y": "day"
         },
         {
          "font": {
           "color": "black",
           "size": 10
          },
          "showarrow": false,
          "text": "-0.00",
          "x": "page1_main_category",
          "y": "day"
         },
         {
          "font": {
           "color": "black",
           "size": 10
          },
          "showarrow": false,
          "text": "0.01",
          "x": "colour",
          "y": "day"
         },
         {
          "font": {
           "color": "black",
           "size": 10
          },
          "showarrow": false,
          "text": "-0.00",
          "x": "location",
          "y": "day"
         },
         {
          "font": {
           "color": "black",
           "size": 10
          },
          "showarrow": false,
          "text": "-0.00",
          "x": "model_photography",
          "y": "day"
         },
         {
          "font": {
           "color": "black",
           "size": 10
          },
          "showarrow": false,
          "text": "-0.00",
          "x": "price",
          "y": "day"
         },
         {
          "font": {
           "color": "black",
           "size": 10
          },
          "showarrow": false,
          "text": "0.00",
          "x": "price_2",
          "y": "day"
         },
         {
          "font": {
           "color": "black",
           "size": 10
          },
          "showarrow": false,
          "text": "0.01",
          "x": "page",
          "y": "day"
         },
         {
          "font": {
           "color": "black",
           "size": 10
          },
          "showarrow": false,
          "text": "-0.01",
          "x": "model_encoded",
          "y": "day"
         },
         {
          "font": {
           "color": "black",
           "size": 10
          },
          "showarrow": false,
          "text": "nan",
          "x": "year",
          "y": "order"
         },
         {
          "font": {
           "color": "black",
           "size": 10
          },
          "showarrow": false,
          "text": "0.03",
          "x": "month",
          "y": "order"
         },
         {
          "font": {
           "color": "black",
           "size": 10
          },
          "showarrow": false,
          "text": "-0.02",
          "x": "day",
          "y": "order"
         },
         {
          "font": {
           "color": "black",
           "size": 10
          },
          "showarrow": false,
          "text": "1.00",
          "x": "order",
          "y": "order"
         },
         {
          "font": {
           "color": "black",
           "size": 10
          },
          "showarrow": false,
          "text": "-0.06",
          "x": "country",
          "y": "order"
         },
         {
          "font": {
           "color": "black",
           "size": 10
          },
          "showarrow": false,
          "text": "0.02",
          "x": "session_id",
          "y": "order"
         },
         {
          "font": {
           "color": "black",
           "size": 10
          },
          "showarrow": false,
          "text": "0.15",
          "x": "page1_main_category",
          "y": "order"
         },
         {
          "font": {
           "color": "black",
           "size": 10
          },
          "showarrow": false,
          "text": "0.05",
          "x": "colour",
          "y": "order"
         },
         {
          "font": {
           "color": "black",
           "size": 10
          },
          "showarrow": false,
          "text": "0.01",
          "x": "location",
          "y": "order"
         },
         {
          "font": {
           "color": "black",
           "size": 10
          },
          "showarrow": false,
          "text": "0.06",
          "x": "model_photography",
          "y": "order"
         },
         {
          "font": {
           "color": "black",
           "size": 10
          },
          "showarrow": false,
          "text": "-0.06",
          "x": "price",
          "y": "order"
         },
         {
          "font": {
           "color": "black",
           "size": 10
          },
          "showarrow": false,
          "text": "0.00",
          "x": "price_2",
          "y": "order"
         },
         {
          "font": {
           "color": "black",
           "size": 10
          },
          "showarrow": false,
          "text": "0.20",
          "x": "page",
          "y": "order"
         },
         {
          "font": {
           "color": "black",
           "size": 10
          },
          "showarrow": false,
          "text": "-0.19",
          "x": "model_encoded",
          "y": "order"
         },
         {
          "font": {
           "color": "black",
           "size": 10
          },
          "showarrow": false,
          "text": "nan",
          "x": "year",
          "y": "country"
         },
         {
          "font": {
           "color": "black",
           "size": 10
          },
          "showarrow": false,
          "text": "0.06",
          "x": "month",
          "y": "country"
         },
         {
          "font": {
           "color": "black",
           "size": 10
          },
          "showarrow": false,
          "text": "0.01",
          "x": "day",
          "y": "country"
         },
         {
          "font": {
           "color": "black",
           "size": 10
          },
          "showarrow": false,
          "text": "-0.06",
          "x": "order",
          "y": "country"
         },
         {
          "font": {
           "color": "black",
           "size": 10
          },
          "showarrow": false,
          "text": "1.00",
          "x": "country",
          "y": "country"
         },
         {
          "font": {
           "color": "black",
           "size": 10
          },
          "showarrow": false,
          "text": "0.07",
          "x": "session_id",
          "y": "country"
         },
         {
          "font": {
           "color": "black",
           "size": 10
          },
          "showarrow": false,
          "text": "0.14",
          "x": "page1_main_category",
          "y": "country"
         },
         {
          "font": {
           "color": "black",
           "size": 10
          },
          "showarrow": false,
          "text": "0.01",
          "x": "colour",
          "y": "country"
         },
         {
          "font": {
           "color": "black",
           "size": 10
          },
          "showarrow": false,
          "text": "-0.01",
          "x": "location",
          "y": "country"
         },
         {
          "font": {
           "color": "black",
           "size": 10
          },
          "showarrow": false,
          "text": "0.03",
          "x": "model_photography",
          "y": "country"
         },
         {
          "font": {
           "color": "black",
           "size": 10
          },
          "showarrow": false,
          "text": "-0.05",
          "x": "price",
          "y": "country"
         },
         {
          "font": {
           "color": "black",
           "size": 10
          },
          "showarrow": false,
          "text": "-0.02",
          "x": "price_2",
          "y": "country"
         },
         {
          "font": {
           "color": "black",
           "size": 10
          },
          "showarrow": false,
          "text": "0.03",
          "x": "page",
          "y": "country"
         },
         {
          "font": {
           "color": "black",
           "size": 10
          },
          "showarrow": false,
          "text": "-0.04",
          "x": "model_encoded",
          "y": "country"
         },
         {
          "font": {
           "color": "black",
           "size": 10
          },
          "showarrow": false,
          "text": "nan",
          "x": "year",
          "y": "session_id"
         },
         {
          "font": {
           "color": "black",
           "size": 10
          },
          "showarrow": false,
          "text": "0.97",
          "x": "month",
          "y": "session_id"
         },
         {
          "font": {
           "color": "black",
           "size": 10
          },
          "showarrow": false,
          "text": "0.16",
          "x": "day",
          "y": "session_id"
         },
         {
          "font": {
           "color": "black",
           "size": 10
          },
          "showarrow": false,
          "text": "0.02",
          "x": "order",
          "y": "session_id"
         },
         {
          "font": {
           "color": "black",
           "size": 10
          },
          "showarrow": false,
          "text": "0.07",
          "x": "country",
          "y": "session_id"
         },
         {
          "font": {
           "color": "black",
           "size": 10
          },
          "showarrow": false,
          "text": "1.00",
          "x": "session_id",
          "y": "session_id"
         },
         {
          "font": {
           "color": "black",
           "size": 10
          },
          "showarrow": false,
          "text": "0.01",
          "x": "page1_main_category",
          "y": "session_id"
         },
         {
          "font": {
           "color": "black",
           "size": 10
          },
          "showarrow": false,
          "text": "-0.03",
          "x": "colour",
          "y": "session_id"
         },
         {
          "font": {
           "color": "black",
           "size": 10
          },
          "showarrow": false,
          "text": "-0.02",
          "x": "location",
          "y": "session_id"
         },
         {
          "font": {
           "color": "black",
           "size": 10
          },
          "showarrow": false,
          "text": "0.01",
          "x": "model_photography",
          "y": "session_id"
         },
         {
          "font": {
           "color": "black",
           "size": 10
          },
          "showarrow": false,
          "text": "0.01",
          "x": "price",
          "y": "session_id"
         },
         {
          "font": {
           "color": "black",
           "size": 10
          },
          "showarrow": false,
          "text": "-0.01",
          "x": "price_2",
          "y": "session_id"
         },
         {
          "font": {
           "color": "black",
           "size": 10
          },
          "showarrow": false,
          "text": "0.02",
          "x": "page",
          "y": "session_id"
         },
         {
          "font": {
           "color": "black",
           "size": 10
          },
          "showarrow": false,
          "text": "-0.00",
          "x": "model_encoded",
          "y": "session_id"
         },
         {
          "font": {
           "color": "black",
           "size": 10
          },
          "showarrow": false,
          "text": "nan",
          "x": "year",
          "y": "page1_main_category"
         },
         {
          "font": {
           "color": "black",
           "size": 10
          },
          "showarrow": false,
          "text": "0.02",
          "x": "month",
          "y": "page1_main_category"
         },
         {
          "font": {
           "color": "black",
           "size": 10
          },
          "showarrow": false,
          "text": "-0.00",
          "x": "day",
          "y": "page1_main_category"
         },
         {
          "font": {
           "color": "black",
           "size": 10
          },
          "showarrow": false,
          "text": "0.15",
          "x": "order",
          "y": "page1_main_category"
         },
         {
          "font": {
           "color": "black",
           "size": 10
          },
          "showarrow": false,
          "text": "0.14",
          "x": "country",
          "y": "page1_main_category"
         },
         {
          "font": {
           "color": "black",
           "size": 10
          },
          "showarrow": false,
          "text": "0.01",
          "x": "session_id",
          "y": "page1_main_category"
         },
         {
          "font": {
           "color": "black",
           "size": 10
          },
          "showarrow": false,
          "text": "1.00",
          "x": "page1_main_category",
          "y": "page1_main_category"
         },
         {
          "font": {
           "color": "black",
           "size": 10
          },
          "showarrow": false,
          "text": "0.23",
          "x": "colour",
          "y": "page1_main_category"
         },
         {
          "font": {
           "color": "black",
           "size": 10
          },
          "showarrow": false,
          "text": "0.02",
          "x": "location",
          "y": "page1_main_category"
         },
         {
          "font": {
           "color": "black",
           "size": 10
          },
          "showarrow": false,
          "text": "0.22",
          "x": "model_photography",
          "y": "page1_main_category"
         },
         {
          "font": {
           "color": "black",
           "size": 10
          },
          "showarrow": false,
          "text": "-0.36",
          "x": "price",
          "y": "page1_main_category"
         },
         {
          "font": {
           "color": "black",
           "size": 10
          },
          "showarrow": false,
          "text": "-0.14",
          "x": "price_2",
          "y": "page1_main_category"
         },
         {
          "font": {
           "color": "black",
           "size": 10
          },
          "showarrow": false,
          "text": "0.35",
          "x": "page",
          "y": "page1_main_category"
         },
         {
          "font": {
           "color": "black",
           "size": 10
          },
          "showarrow": false,
          "text": "-0.47",
          "x": "model_encoded",
          "y": "page1_main_category"
         },
         {
          "font": {
           "color": "black",
           "size": 10
          },
          "showarrow": false,
          "text": "nan",
          "x": "year",
          "y": "colour"
         },
         {
          "font": {
           "color": "black",
           "size": 10
          },
          "showarrow": false,
          "text": "-0.03",
          "x": "month",
          "y": "colour"
         },
         {
          "font": {
           "color": "black",
           "size": 10
          },
          "showarrow": false,
          "text": "0.01",
          "x": "day",
          "y": "colour"
         },
         {
          "font": {
           "color": "black",
           "size": 10
          },
          "showarrow": false,
          "text": "0.05",
          "x": "order",
          "y": "colour"
         },
         {
          "font": {
           "color": "black",
           "size": 10
          },
          "showarrow": false,
          "text": "0.01",
          "x": "country",
          "y": "colour"
         },
         {
          "font": {
           "color": "black",
           "size": 10
          },
          "showarrow": false,
          "text": "-0.03",
          "x": "session_id",
          "y": "colour"
         },
         {
          "font": {
           "color": "black",
           "size": 10
          },
          "showarrow": false,
          "text": "0.23",
          "x": "page1_main_category",
          "y": "colour"
         },
         {
          "font": {
           "color": "black",
           "size": 10
          },
          "showarrow": false,
          "text": "1.00",
          "x": "colour",
          "y": "colour"
         },
         {
          "font": {
           "color": "black",
           "size": 10
          },
          "showarrow": false,
          "text": "0.04",
          "x": "location",
          "y": "colour"
         },
         {
          "font": {
           "color": "black",
           "size": 10
          },
          "showarrow": false,
          "text": "0.08",
          "x": "model_photography",
          "y": "colour"
         },
         {
          "font": {
           "color": "black",
           "size": 10
          },
          "showarrow": false,
          "text": "-0.09",
          "x": "price",
          "y": "colour"
         },
         {
          "font": {
           "color": "black",
           "size": 10
          },
          "showarrow": false,
          "text": "-0.08",
          "x": "price_2",
          "y": "colour"
         },
         {
          "font": {
           "color": "black",
           "size": 10
          },
          "showarrow": false,
          "text": "0.25",
          "x": "page",
          "y": "colour"
         },
         {
          "font": {
           "color": "black",
           "size": 10
          },
          "showarrow": false,
          "text": "-0.11",
          "x": "model_encoded",
          "y": "colour"
         },
         {
          "font": {
           "color": "black",
           "size": 10
          },
          "showarrow": false,
          "text": "nan",
          "x": "year",
          "y": "location"
         },
         {
          "font": {
           "color": "black",
           "size": 10
          },
          "showarrow": false,
          "text": "-0.02",
          "x": "month",
          "y": "location"
         },
         {
          "font": {
           "color": "black",
           "size": 10
          },
          "showarrow": false,
          "text": "-0.00",
          "x": "day",
          "y": "location"
         },
         {
          "font": {
           "color": "black",
           "size": 10
          },
          "showarrow": false,
          "text": "0.01",
          "x": "order",
          "y": "location"
         },
         {
          "font": {
           "color": "black",
           "size": 10
          },
          "showarrow": false,
          "text": "-0.01",
          "x": "country",
          "y": "location"
         },
         {
          "font": {
           "color": "black",
           "size": 10
          },
          "showarrow": false,
          "text": "-0.02",
          "x": "session_id",
          "y": "location"
         },
         {
          "font": {
           "color": "black",
           "size": 10
          },
          "showarrow": false,
          "text": "0.02",
          "x": "page1_main_category",
          "y": "location"
         },
         {
          "font": {
           "color": "black",
           "size": 10
          },
          "showarrow": false,
          "text": "0.04",
          "x": "colour",
          "y": "location"
         },
         {
          "font": {
           "color": "black",
           "size": 10
          },
          "showarrow": false,
          "text": "1.00",
          "x": "location",
          "y": "location"
         },
         {
          "font": {
           "color": "black",
           "size": 10
          },
          "showarrow": false,
          "text": "0.07",
          "x": "model_photography",
          "y": "location"
         },
         {
          "font": {
           "color": "black",
           "size": 10
          },
          "showarrow": false,
          "text": "-0.08",
          "x": "price",
          "y": "location"
         },
         {
          "font": {
           "color": "black",
           "size": 10
          },
          "showarrow": false,
          "text": "0.07",
          "x": "price_2",
          "y": "location"
         },
         {
          "font": {
           "color": "black",
           "size": 10
          },
          "showarrow": false,
          "text": "-0.09",
          "x": "page",
          "y": "location"
         },
         {
          "font": {
           "color": "black",
           "size": 10
          },
          "showarrow": false,
          "text": "-0.13",
          "x": "model_encoded",
          "y": "location"
         },
         {
          "font": {
           "color": "black",
           "size": 10
          },
          "showarrow": false,
          "text": "nan",
          "x": "year",
          "y": "model_photography"
         },
         {
          "font": {
           "color": "black",
           "size": 10
          },
          "showarrow": false,
          "text": "0.01",
          "x": "month",
          "y": "model_photography"
         },
         {
          "font": {
           "color": "black",
           "size": 10
          },
          "showarrow": false,
          "text": "-0.00",
          "x": "day",
          "y": "model_photography"
         },
         {
          "font": {
           "color": "black",
           "size": 10
          },
          "showarrow": false,
          "text": "0.06",
          "x": "order",
          "y": "model_photography"
         },
         {
          "font": {
           "color": "black",
           "size": 10
          },
          "showarrow": false,
          "text": "0.03",
          "x": "country",
          "y": "model_photography"
         },
         {
          "font": {
           "color": "black",
           "size": 10
          },
          "showarrow": false,
          "text": "0.01",
          "x": "session_id",
          "y": "model_photography"
         },
         {
          "font": {
           "color": "black",
           "size": 10
          },
          "showarrow": false,
          "text": "0.22",
          "x": "page1_main_category",
          "y": "model_photography"
         },
         {
          "font": {
           "color": "black",
           "size": 10
          },
          "showarrow": false,
          "text": "0.08",
          "x": "colour",
          "y": "model_photography"
         },
         {
          "font": {
           "color": "black",
           "size": 10
          },
          "showarrow": false,
          "text": "0.07",
          "x": "location",
          "y": "model_photography"
         },
         {
          "font": {
           "color": "black",
           "size": 10
          },
          "showarrow": false,
          "text": "1.00",
          "x": "model_photography",
          "y": "model_photography"
         },
         {
          "font": {
           "color": "black",
           "size": 10
          },
          "showarrow": false,
          "text": "-0.21",
          "x": "price",
          "y": "model_photography"
         },
         {
          "font": {
           "color": "black",
           "size": 10
          },
          "showarrow": false,
          "text": "0.07",
          "x": "price_2",
          "y": "model_photography"
         },
         {
          "font": {
           "color": "black",
           "size": 10
          },
          "showarrow": false,
          "text": "0.26",
          "x": "page",
          "y": "model_photography"
         },
         {
          "font": {
           "color": "black",
           "size": 10
          },
          "showarrow": false,
          "text": "-0.19",
          "x": "model_encoded",
          "y": "model_photography"
         },
         {
          "font": {
           "color": "black",
           "size": 10
          },
          "showarrow": false,
          "text": "nan",
          "x": "year",
          "y": "price"
         },
         {
          "font": {
           "color": "black",
           "size": 10
          },
          "showarrow": false,
          "text": "0.01",
          "x": "month",
          "y": "price"
         },
         {
          "font": {
           "color": "black",
           "size": 10
          },
          "showarrow": false,
          "text": "-0.00",
          "x": "day",
          "y": "price"
         },
         {
          "font": {
           "color": "black",
           "size": 10
          },
          "showarrow": false,
          "text": "-0.06",
          "x": "order",
          "y": "price"
         },
         {
          "font": {
           "color": "black",
           "size": 10
          },
          "showarrow": false,
          "text": "-0.05",
          "x": "country",
          "y": "price"
         },
         {
          "font": {
           "color": "black",
           "size": 10
          },
          "showarrow": false,
          "text": "0.01",
          "x": "session_id",
          "y": "price"
         },
         {
          "font": {
           "color": "black",
           "size": 10
          },
          "showarrow": false,
          "text": "-0.36",
          "x": "page1_main_category",
          "y": "price"
         },
         {
          "font": {
           "color": "black",
           "size": 10
          },
          "showarrow": false,
          "text": "-0.09",
          "x": "colour",
          "y": "price"
         },
         {
          "font": {
           "color": "black",
           "size": 10
          },
          "showarrow": false,
          "text": "-0.08",
          "x": "location",
          "y": "price"
         },
         {
          "font": {
           "color": "black",
           "size": 10
          },
          "showarrow": false,
          "text": "-0.21",
          "x": "model_photography",
          "y": "price"
         },
         {
          "font": {
           "color": "black",
           "size": 10
          },
          "showarrow": false,
          "text": "1.00",
          "x": "price",
          "y": "price"
         },
         {
          "font": {
           "color": "black",
           "size": 10
          },
          "showarrow": false,
          "text": "-0.74",
          "x": "price_2",
          "y": "price"
         },
         {
          "font": {
           "color": "black",
           "size": 10
          },
          "showarrow": false,
          "text": "-0.15",
          "x": "page",
          "y": "price"
         },
         {
          "font": {
           "color": "black",
           "size": 10
          },
          "showarrow": false,
          "text": "0.26",
          "x": "model_encoded",
          "y": "price"
         },
         {
          "font": {
           "color": "black",
           "size": 10
          },
          "showarrow": false,
          "text": "nan",
          "x": "year",
          "y": "price_2"
         },
         {
          "font": {
           "color": "black",
           "size": 10
          },
          "showarrow": false,
          "text": "-0.01",
          "x": "month",
          "y": "price_2"
         },
         {
          "font": {
           "color": "black",
           "size": 10
          },
          "showarrow": false,
          "text": "0.00",
          "x": "day",
          "y": "price_2"
         },
         {
          "font": {
           "color": "black",
           "size": 10
          },
          "showarrow": false,
          "text": "0.00",
          "x": "order",
          "y": "price_2"
         },
         {
          "font": {
           "color": "black",
           "size": 10
          },
          "showarrow": false,
          "text": "-0.02",
          "x": "country",
          "y": "price_2"
         },
         {
          "font": {
           "color": "black",
           "size": 10
          },
          "showarrow": false,
          "text": "-0.01",
          "x": "session_id",
          "y": "price_2"
         },
         {
          "font": {
           "color": "black",
           "size": 10
          },
          "showarrow": false,
          "text": "-0.14",
          "x": "page1_main_category",
          "y": "price_2"
         },
         {
          "font": {
           "color": "black",
           "size": 10
          },
          "showarrow": false,
          "text": "-0.08",
          "x": "colour",
          "y": "price_2"
         },
         {
          "font": {
           "color": "black",
           "size": 10
          },
          "showarrow": false,
          "text": "0.07",
          "x": "location",
          "y": "price_2"
         },
         {
          "font": {
           "color": "black",
           "size": 10
          },
          "showarrow": false,
          "text": "0.07",
          "x": "model_photography",
          "y": "price_2"
         },
         {
          "font": {
           "color": "black",
           "size": 10
          },
          "showarrow": false,
          "text": "-0.74",
          "x": "price",
          "y": "price_2"
         },
         {
          "font": {
           "color": "black",
           "size": 10
          },
          "showarrow": false,
          "text": "1.00",
          "x": "price_2",
          "y": "price_2"
         },
         {
          "font": {
           "color": "black",
           "size": 10
          },
          "showarrow": false,
          "text": "0.03",
          "x": "page",
          "y": "price_2"
         },
         {
          "font": {
           "color": "black",
           "size": 10
          },
          "showarrow": false,
          "text": "-0.06",
          "x": "model_encoded",
          "y": "price_2"
         },
         {
          "font": {
           "color": "black",
           "size": 10
          },
          "showarrow": false,
          "text": "nan",
          "x": "year",
          "y": "page"
         },
         {
          "font": {
           "color": "black",
           "size": 10
          },
          "showarrow": false,
          "text": "0.02",
          "x": "month",
          "y": "page"
         },
         {
          "font": {
           "color": "black",
           "size": 10
          },
          "showarrow": false,
          "text": "0.01",
          "x": "day",
          "y": "page"
         },
         {
          "font": {
           "color": "black",
           "size": 10
          },
          "showarrow": false,
          "text": "0.20",
          "x": "order",
          "y": "page"
         },
         {
          "font": {
           "color": "black",
           "size": 10
          },
          "showarrow": false,
          "text": "0.03",
          "x": "country",
          "y": "page"
         },
         {
          "font": {
           "color": "black",
           "size": 10
          },
          "showarrow": false,
          "text": "0.02",
          "x": "session_id",
          "y": "page"
         },
         {
          "font": {
           "color": "black",
           "size": 10
          },
          "showarrow": false,
          "text": "0.35",
          "x": "page1_main_category",
          "y": "page"
         },
         {
          "font": {
           "color": "black",
           "size": 10
          },
          "showarrow": false,
          "text": "0.25",
          "x": "colour",
          "y": "page"
         },
         {
          "font": {
           "color": "black",
           "size": 10
          },
          "showarrow": false,
          "text": "-0.09",
          "x": "location",
          "y": "page"
         },
         {
          "font": {
           "color": "black",
           "size": 10
          },
          "showarrow": false,
          "text": "0.26",
          "x": "model_photography",
          "y": "page"
         },
         {
          "font": {
           "color": "black",
           "size": 10
          },
          "showarrow": false,
          "text": "-0.15",
          "x": "price",
          "y": "page"
         },
         {
          "font": {
           "color": "black",
           "size": 10
          },
          "showarrow": false,
          "text": "0.03",
          "x": "price_2",
          "y": "page"
         },
         {
          "font": {
           "color": "black",
           "size": 10
          },
          "showarrow": false,
          "text": "1.00",
          "x": "page",
          "y": "page"
         },
         {
          "font": {
           "color": "black",
           "size": 10
          },
          "showarrow": false,
          "text": "-0.56",
          "x": "model_encoded",
          "y": "page"
         },
         {
          "font": {
           "color": "black",
           "size": 10
          },
          "showarrow": false,
          "text": "nan",
          "x": "year",
          "y": "model_encoded"
         },
         {
          "font": {
           "color": "black",
           "size": 10
          },
          "showarrow": false,
          "text": "0.00",
          "x": "month",
          "y": "model_encoded"
         },
         {
          "font": {
           "color": "black",
           "size": 10
          },
          "showarrow": false,
          "text": "-0.01",
          "x": "day",
          "y": "model_encoded"
         },
         {
          "font": {
           "color": "black",
           "size": 10
          },
          "showarrow": false,
          "text": "-0.19",
          "x": "order",
          "y": "model_encoded"
         },
         {
          "font": {
           "color": "black",
           "size": 10
          },
          "showarrow": false,
          "text": "-0.04",
          "x": "country",
          "y": "model_encoded"
         },
         {
          "font": {
           "color": "black",
           "size": 10
          },
          "showarrow": false,
          "text": "-0.00",
          "x": "session_id",
          "y": "model_encoded"
         },
         {
          "font": {
           "color": "black",
           "size": 10
          },
          "showarrow": false,
          "text": "-0.47",
          "x": "page1_main_category",
          "y": "model_encoded"
         },
         {
          "font": {
           "color": "black",
           "size": 10
          },
          "showarrow": false,
          "text": "-0.11",
          "x": "colour",
          "y": "model_encoded"
         },
         {
          "font": {
           "color": "black",
           "size": 10
          },
          "showarrow": false,
          "text": "-0.13",
          "x": "location",
          "y": "model_encoded"
         },
         {
          "font": {
           "color": "black",
           "size": 10
          },
          "showarrow": false,
          "text": "-0.19",
          "x": "model_photography",
          "y": "model_encoded"
         },
         {
          "font": {
           "color": "black",
           "size": 10
          },
          "showarrow": false,
          "text": "0.26",
          "x": "price",
          "y": "model_encoded"
         },
         {
          "font": {
           "color": "black",
           "size": 10
          },
          "showarrow": false,
          "text": "-0.06",
          "x": "price_2",
          "y": "model_encoded"
         },
         {
          "font": {
           "color": "black",
           "size": 10
          },
          "showarrow": false,
          "text": "-0.56",
          "x": "page",
          "y": "model_encoded"
         },
         {
          "font": {
           "color": "black",
           "size": 10
          },
          "showarrow": false,
          "text": "1.00",
          "x": "model_encoded",
          "y": "model_encoded"
         }
        ],
        "coloraxis": {
         "colorbar": {
          "ticktext": [
           "-1 (Negative)",
           "0 (None)",
           "1 (Positive)"
          ],
          "tickvals": [
           -1,
           0,
           1
          ],
          "title": {
           "text": "Correlation"
          }
         },
         "colorscale": [
          [
           0,
           "rgb(5,48,97)"
          ],
          [
           0.1,
           "rgb(33,102,172)"
          ],
          [
           0.2,
           "rgb(67,147,195)"
          ],
          [
           0.3,
           "rgb(146,197,222)"
          ],
          [
           0.4,
           "rgb(209,229,240)"
          ],
          [
           0.5,
           "rgb(247,247,247)"
          ],
          [
           0.6,
           "rgb(253,219,199)"
          ],
          [
           0.7,
           "rgb(244,165,130)"
          ],
          [
           0.8,
           "rgb(214,96,77)"
          ],
          [
           0.9,
           "rgb(178,24,43)"
          ],
          [
           1,
           "rgb(103,0,31)"
          ]
         ]
        },
        "margin": {
         "b": 100,
         "l": 100,
         "r": 100,
         "t": 100
        },
        "template": {
         "data": {
          "bar": [
           {
            "error_x": {
             "color": "#2a3f5f"
            },
            "error_y": {
             "color": "#2a3f5f"
            },
            "marker": {
             "line": {
              "color": "#E5ECF6",
              "width": 0.5
             },
             "pattern": {
              "fillmode": "overlay",
              "size": 10,
              "solidity": 0.2
             }
            },
            "type": "bar"
           }
          ],
          "barpolar": [
           {
            "marker": {
             "line": {
              "color": "#E5ECF6",
              "width": 0.5
             },
             "pattern": {
              "fillmode": "overlay",
              "size": 10,
              "solidity": 0.2
             }
            },
            "type": "barpolar"
           }
          ],
          "carpet": [
           {
            "aaxis": {
             "endlinecolor": "#2a3f5f",
             "gridcolor": "white",
             "linecolor": "white",
             "minorgridcolor": "white",
             "startlinecolor": "#2a3f5f"
            },
            "baxis": {
             "endlinecolor": "#2a3f5f",
             "gridcolor": "white",
             "linecolor": "white",
             "minorgridcolor": "white",
             "startlinecolor": "#2a3f5f"
            },
            "type": "carpet"
           }
          ],
          "choropleth": [
           {
            "colorbar": {
             "outlinewidth": 0,
             "ticks": ""
            },
            "type": "choropleth"
           }
          ],
          "contour": [
           {
            "colorbar": {
             "outlinewidth": 0,
             "ticks": ""
            },
            "colorscale": [
             [
              0,
              "#0d0887"
             ],
             [
              0.1111111111111111,
              "#46039f"
             ],
             [
              0.2222222222222222,
              "#7201a8"
             ],
             [
              0.3333333333333333,
              "#9c179e"
             ],
             [
              0.4444444444444444,
              "#bd3786"
             ],
             [
              0.5555555555555556,
              "#d8576b"
             ],
             [
              0.6666666666666666,
              "#ed7953"
             ],
             [
              0.7777777777777778,
              "#fb9f3a"
             ],
             [
              0.8888888888888888,
              "#fdca26"
             ],
             [
              1,
              "#f0f921"
             ]
            ],
            "type": "contour"
           }
          ],
          "contourcarpet": [
           {
            "colorbar": {
             "outlinewidth": 0,
             "ticks": ""
            },
            "type": "contourcarpet"
           }
          ],
          "heatmap": [
           {
            "colorbar": {
             "outlinewidth": 0,
             "ticks": ""
            },
            "colorscale": [
             [
              0,
              "#0d0887"
             ],
             [
              0.1111111111111111,
              "#46039f"
             ],
             [
              0.2222222222222222,
              "#7201a8"
             ],
             [
              0.3333333333333333,
              "#9c179e"
             ],
             [
              0.4444444444444444,
              "#bd3786"
             ],
             [
              0.5555555555555556,
              "#d8576b"
             ],
             [
              0.6666666666666666,
              "#ed7953"
             ],
             [
              0.7777777777777778,
              "#fb9f3a"
             ],
             [
              0.8888888888888888,
              "#fdca26"
             ],
             [
              1,
              "#f0f921"
             ]
            ],
            "type": "heatmap"
           }
          ],
          "histogram": [
           {
            "marker": {
             "pattern": {
              "fillmode": "overlay",
              "size": 10,
              "solidity": 0.2
             }
            },
            "type": "histogram"
           }
          ],
          "histogram2d": [
           {
            "colorbar": {
             "outlinewidth": 0,
             "ticks": ""
            },
            "colorscale": [
             [
              0,
              "#0d0887"
             ],
             [
              0.1111111111111111,
              "#46039f"
             ],
             [
              0.2222222222222222,
              "#7201a8"
             ],
             [
              0.3333333333333333,
              "#9c179e"
             ],
             [
              0.4444444444444444,
              "#bd3786"
             ],
             [
              0.5555555555555556,
              "#d8576b"
             ],
             [
              0.6666666666666666,
              "#ed7953"
             ],
             [
              0.7777777777777778,
              "#fb9f3a"
             ],
             [
              0.8888888888888888,
              "#fdca26"
             ],
             [
              1,
              "#f0f921"
             ]
            ],
            "type": "histogram2d"
           }
          ],
          "histogram2dcontour": [
           {
            "colorbar": {
             "outlinewidth": 0,
             "ticks": ""
            },
            "colorscale": [
             [
              0,
              "#0d0887"
             ],
             [
              0.1111111111111111,
              "#46039f"
             ],
             [
              0.2222222222222222,
              "#7201a8"
             ],
             [
              0.3333333333333333,
              "#9c179e"
             ],
             [
              0.4444444444444444,
              "#bd3786"
             ],
             [
              0.5555555555555556,
              "#d8576b"
             ],
             [
              0.6666666666666666,
              "#ed7953"
             ],
             [
              0.7777777777777778,
              "#fb9f3a"
             ],
             [
              0.8888888888888888,
              "#fdca26"
             ],
             [
              1,
              "#f0f921"
             ]
            ],
            "type": "histogram2dcontour"
           }
          ],
          "mesh3d": [
           {
            "colorbar": {
             "outlinewidth": 0,
             "ticks": ""
            },
            "type": "mesh3d"
           }
          ],
          "parcoords": [
           {
            "line": {
             "colorbar": {
              "outlinewidth": 0,
              "ticks": ""
             }
            },
            "type": "parcoords"
           }
          ],
          "pie": [
           {
            "automargin": true,
            "type": "pie"
           }
          ],
          "scatter": [
           {
            "fillpattern": {
             "fillmode": "overlay",
             "size": 10,
             "solidity": 0.2
            },
            "type": "scatter"
           }
          ],
          "scatter3d": [
           {
            "line": {
             "colorbar": {
              "outlinewidth": 0,
              "ticks": ""
             }
            },
            "marker": {
             "colorbar": {
              "outlinewidth": 0,
              "ticks": ""
             }
            },
            "type": "scatter3d"
           }
          ],
          "scattercarpet": [
           {
            "marker": {
             "colorbar": {
              "outlinewidth": 0,
              "ticks": ""
             }
            },
            "type": "scattercarpet"
           }
          ],
          "scattergeo": [
           {
            "marker": {
             "colorbar": {
              "outlinewidth": 0,
              "ticks": ""
             }
            },
            "type": "scattergeo"
           }
          ],
          "scattergl": [
           {
            "marker": {
             "colorbar": {
              "outlinewidth": 0,
              "ticks": ""
             }
            },
            "type": "scattergl"
           }
          ],
          "scattermap": [
           {
            "marker": {
             "colorbar": {
              "outlinewidth": 0,
              "ticks": ""
             }
            },
            "type": "scattermap"
           }
          ],
          "scattermapbox": [
           {
            "marker": {
             "colorbar": {
              "outlinewidth": 0,
              "ticks": ""
             }
            },
            "type": "scattermapbox"
           }
          ],
          "scatterpolar": [
           {
            "marker": {
             "colorbar": {
              "outlinewidth": 0,
              "ticks": ""
             }
            },
            "type": "scatterpolar"
           }
          ],
          "scatterpolargl": [
           {
            "marker": {
             "colorbar": {
              "outlinewidth": 0,
              "ticks": ""
             }
            },
            "type": "scatterpolargl"
           }
          ],
          "scatterternary": [
           {
            "marker": {
             "colorbar": {
              "outlinewidth": 0,
              "ticks": ""
             }
            },
            "type": "scatterternary"
           }
          ],
          "surface": [
           {
            "colorbar": {
             "outlinewidth": 0,
             "ticks": ""
            },
            "colorscale": [
             [
              0,
              "#0d0887"
             ],
             [
              0.1111111111111111,
              "#46039f"
             ],
             [
              0.2222222222222222,
              "#7201a8"
             ],
             [
              0.3333333333333333,
              "#9c179e"
             ],
             [
              0.4444444444444444,
              "#bd3786"
             ],
             [
              0.5555555555555556,
              "#d8576b"
             ],
             [
              0.6666666666666666,
              "#ed7953"
             ],
             [
              0.7777777777777778,
              "#fb9f3a"
             ],
             [
              0.8888888888888888,
              "#fdca26"
             ],
             [
              1,
              "#f0f921"
             ]
            ],
            "type": "surface"
           }
          ],
          "table": [
           {
            "cells": {
             "fill": {
              "color": "#EBF0F8"
             },
             "line": {
              "color": "white"
             }
            },
            "header": {
             "fill": {
              "color": "#C8D4E3"
             },
             "line": {
              "color": "white"
             }
            },
            "type": "table"
           }
          ]
         },
         "layout": {
          "annotationdefaults": {
           "arrowcolor": "#2a3f5f",
           "arrowhead": 0,
           "arrowwidth": 1
          },
          "autotypenumbers": "strict",
          "coloraxis": {
           "colorbar": {
            "outlinewidth": 0,
            "ticks": ""
           }
          },
          "colorscale": {
           "diverging": [
            [
             0,
             "#8e0152"
            ],
            [
             0.1,
             "#c51b7d"
            ],
            [
             0.2,
             "#de77ae"
            ],
            [
             0.3,
             "#f1b6da"
            ],
            [
             0.4,
             "#fde0ef"
            ],
            [
             0.5,
             "#f7f7f7"
            ],
            [
             0.6,
             "#e6f5d0"
            ],
            [
             0.7,
             "#b8e186"
            ],
            [
             0.8,
             "#7fbc41"
            ],
            [
             0.9,
             "#4d9221"
            ],
            [
             1,
             "#276419"
            ]
           ],
           "sequential": [
            [
             0,
             "#0d0887"
            ],
            [
             0.1111111111111111,
             "#46039f"
            ],
            [
             0.2222222222222222,
             "#7201a8"
            ],
            [
             0.3333333333333333,
             "#9c179e"
            ],
            [
             0.4444444444444444,
             "#bd3786"
            ],
            [
             0.5555555555555556,
             "#d8576b"
            ],
            [
             0.6666666666666666,
             "#ed7953"
            ],
            [
             0.7777777777777778,
             "#fb9f3a"
            ],
            [
             0.8888888888888888,
             "#fdca26"
            ],
            [
             1,
             "#f0f921"
            ]
           ],
           "sequentialminus": [
            [
             0,
             "#0d0887"
            ],
            [
             0.1111111111111111,
             "#46039f"
            ],
            [
             0.2222222222222222,
             "#7201a8"
            ],
            [
             0.3333333333333333,
             "#9c179e"
            ],
            [
             0.4444444444444444,
             "#bd3786"
            ],
            [
             0.5555555555555556,
             "#d8576b"
            ],
            [
             0.6666666666666666,
             "#ed7953"
            ],
            [
             0.7777777777777778,
             "#fb9f3a"
            ],
            [
             0.8888888888888888,
             "#fdca26"
            ],
            [
             1,
             "#f0f921"
            ]
           ]
          },
          "colorway": [
           "#636efa",
           "#EF553B",
           "#00cc96",
           "#ab63fa",
           "#FFA15A",
           "#19d3f3",
           "#FF6692",
           "#B6E880",
           "#FF97FF",
           "#FECB52"
          ],
          "font": {
           "color": "#2a3f5f"
          },
          "geo": {
           "bgcolor": "white",
           "lakecolor": "white",
           "landcolor": "#E5ECF6",
           "showlakes": true,
           "showland": true,
           "subunitcolor": "white"
          },
          "hoverlabel": {
           "align": "left"
          },
          "hovermode": "closest",
          "mapbox": {
           "style": "light"
          },
          "paper_bgcolor": "white",
          "plot_bgcolor": "#E5ECF6",
          "polar": {
           "angularaxis": {
            "gridcolor": "white",
            "linecolor": "white",
            "ticks": ""
           },
           "bgcolor": "#E5ECF6",
           "radialaxis": {
            "gridcolor": "white",
            "linecolor": "white",
            "ticks": ""
           }
          },
          "scene": {
           "xaxis": {
            "backgroundcolor": "#E5ECF6",
            "gridcolor": "white",
            "gridwidth": 2,
            "linecolor": "white",
            "showbackground": true,
            "ticks": "",
            "zerolinecolor": "white"
           },
           "yaxis": {
            "backgroundcolor": "#E5ECF6",
            "gridcolor": "white",
            "gridwidth": 2,
            "linecolor": "white",
            "showbackground": true,
            "ticks": "",
            "zerolinecolor": "white"
           },
           "zaxis": {
            "backgroundcolor": "#E5ECF6",
            "gridcolor": "white",
            "gridwidth": 2,
            "linecolor": "white",
            "showbackground": true,
            "ticks": "",
            "zerolinecolor": "white"
           }
          },
          "shapedefaults": {
           "line": {
            "color": "#2a3f5f"
           }
          },
          "ternary": {
           "aaxis": {
            "gridcolor": "white",
            "linecolor": "white",
            "ticks": ""
           },
           "baxis": {
            "gridcolor": "white",
            "linecolor": "white",
            "ticks": ""
           },
           "bgcolor": "#E5ECF6",
           "caxis": {
            "gridcolor": "white",
            "linecolor": "white",
            "ticks": ""
           }
          },
          "title": {
           "x": 0.05
          },
          "xaxis": {
           "automargin": true,
           "gridcolor": "white",
           "linecolor": "white",
           "ticks": "",
           "title": {
            "standoff": 15
           },
           "zerolinecolor": "white",
           "zerolinewidth": 2
          },
          "yaxis": {
           "automargin": true,
           "gridcolor": "white",
           "linecolor": "white",
           "ticks": "",
           "title": {
            "standoff": 15
           },
           "zerolinecolor": "white",
           "zerolinewidth": 2
          }
         }
        },
        "title": {
         "text": "**Correlation Matrix Heatmap**"
        },
        "xaxis": {
         "anchor": "y",
         "domain": [
          0,
          1
         ],
         "side": "bottom",
         "title": {
          "text": "Features"
         }
        },
        "yaxis": {
         "anchor": "x",
         "autorange": "reversed",
         "domain": [
          0,
          1
         ],
         "title": {
          "text": "Features"
         }
        }
       }
      }
     },
     "metadata": {},
     "output_type": "display_data"
    }
   ],
   "source": [
    "\n",
    "def create_plotly_correlation_matrix(df):\n",
    "    \"\"\"\n",
    "    Calculates the correlation matrix for a DataFrame and plots it as an\n",
    "    interactive heatmap using Plotly Express.\n",
    "\n",
    "    Args:\n",
    "        df (pd.DataFrame): The input DataFrame containing numerical data.\n",
    "    \"\"\"\n",
    "    # 1. Calculate the correlation matrix\n",
    "    correlation_matrix = df.corr()\n",
    "\n",
    "    # 2. Extract values, row/column names for the heatmap\n",
    "    z = correlation_matrix.values\n",
    "    x = correlation_matrix.columns\n",
    "    y = correlation_matrix.index\n",
    "\n",
    "    # 3. Create the interactive heatmap using Plotly Express\n",
    "    fig = px.imshow(\n",
    "        z,\n",
    "        x=x,\n",
    "        y=y,\n",
    "        color_continuous_scale='RdBu_r', # 'RdBu_r' is good for showing positive/negative correlation\n",
    "        aspect=\"auto\", # Allows the plot to scale correctly\n",
    "        title='**Correlation Matrix Heatmap**'\n",
    "    )\n",
    "\n",
    "    # 4. Optional: Add text annotations for correlation values (for better readability)\n",
    "    # This loop iterates through the matrix and adds the value as text\n",
    "    for i in range(len(y)):\n",
    "        for j in range(len(x)):\n",
    "            fig.add_annotation(\n",
    "                x=x[j], y=y[i],\n",
    "                text=f'{z[i, j]:.2f}', # Format to 2 decimal places\n",
    "                showarrow=False,\n",
    "                font=dict(color=\"black\", size=10)\n",
    "            )\n",
    "\n",
    "    # 5. Enhance layout\n",
    "    fig.update_layout(\n",
    "        xaxis_title=\"Features\",\n",
    "        yaxis_title=\"Features\",\n",
    "        xaxis={'side': 'bottom'},\n",
    "        # Adjusting the colorbar title and range\n",
    "        coloraxis_colorbar=dict(\n",
    "            title=\"Correlation\",\n",
    "            tickvals=[-1, 0, 1],\n",
    "            ticktext=['-1 (Negative)', '0 (None)', '1 (Positive)'],\n",
    "        ),\n",
    "        # Ensure the labels don't get cut off\n",
    "        margin=dict(l=100, r=100, t=100, b=100)\n",
    "    )\n",
    "\n",
    "    # 6. Display the figure\n",
    "    fig.show()\n",
    "\n",
    "# --- Example Usage ---\n",
    "\n",
    "# Create a sample DataFrame\n",
    "# np.random.seed(42)\n",
    "# data = {\n",
    "#     'Feature A': np.random.rand(100),\n",
    "#     'Feature B': np.random.randn(100) * 5,\n",
    "#     'Feature C': np.random.randn(100) * 2 + 5,\n",
    "#     # Create a feature highly correlated with Feature B\n",
    "#     'Feature D': 2 * (np.random.randn(100) * 5) + np.random.rand(100) * 0.5\n",
    "# }\n",
    "# df_sample = pd.DataFrame(data)\n",
    "\n",
    "# Run the function with the sample data\n",
    "create_plotly_correlation_matrix(data)"
   ]
  },
  {
   "cell_type": "code",
   "execution_count": null,
   "id": "03ae122e",
   "metadata": {},
   "outputs": [],
   "source": [
    "# doubts\n",
    "# what is the target column for the regression models?\n",
    "# can we leave the regression if not possible to determine one?\n"
   ]
  },
  {
   "cell_type": "code",
   "execution_count": null,
   "id": "9aa32e38",
   "metadata": {},
   "outputs": [],
   "source": [
    "#things to finish\n",
    "# scaling  --- check if the order and price column need to scaled 1st before checking for skewness and kurtosis - \n",
    "# - or 1st transformed based on the skewness and kurtosis before scaling - and is scaling required after the transformation?\n",
    "# skewness and kurtosis -- identification on continuous columns\n",
    "# skewness and kurtosis -- transformation \n",
    "# encoding --(one-hot and other things) if we are going to do regression and if it is needed for the classification\n",
    "# hypothesis testing\n",
    "----\n",
    "#count of session id and day - viz"
   ]
  },
  {
   "cell_type": "code",
   "execution_count": 39,
   "id": "731ac2c7",
   "metadata": {},
   "outputs": [
    {
     "data": {
      "text/plain": [
       "country\n",
       "29    107173\n",
       "9      14465\n",
       "24      3272\n",
       "46      1988\n",
       "44      1130\n",
       "16       632\n",
       "21       622\n",
       "34       584\n",
       "41       539\n",
       "3        193\n",
       "27       190\n",
       "12       166\n",
       "42       141\n",
       "37       133\n",
       "31       121\n",
       "10       120\n",
       "22       116\n",
       "28       116\n",
       "38       114\n",
       "15        96\n",
       "11        90\n",
       "25        54\n",
       "2         49\n",
       "32        40\n",
       "14        35\n",
       "23        34\n",
       "39        24\n",
       "19        24\n",
       "43        23\n",
       "17        17\n",
       "18        15\n",
       "36        12\n",
       "7          9\n",
       "20         8\n",
       "45         6\n",
       "47         5\n",
       "5          4\n",
       "30         4\n",
       "6          3\n",
       "33         3\n",
       "1          3\n",
       "35         2\n",
       "8          1\n",
       "26         1\n",
       "13         1\n",
       "4          1\n",
       "Name: count, dtype: int64"
      ]
     },
     "execution_count": 39,
     "metadata": {},
     "output_type": "execute_result"
    }
   ],
   "source": [
    "data['country'].value_counts()"
   ]
  },
  {
   "cell_type": "code",
   "execution_count": 42,
   "id": "3fca0767",
   "metadata": {},
   "outputs": [
    {
     "data": {
      "application/vnd.plotly.v1+json": {
       "config": {
        "plotlyServerURL": "https://plot.ly"
       },
       "data": [
        {
         "domain": {
          "x": [
           0,
           1
          ],
          "y": [
           0,
           1
          ]
         },
         "hovertemplate": "country=%{value}<extra></extra>",
         "legendgroup": "",
         "name": "",
         "showlegend": false,
         "type": "pie",
         "values": {
          "bdata": "HQkYLiwQFSIpAxsMKiUfChYcJg8LGQIgDhcnEysREiQHFC0vBR4GIQEjCBoNBA==",
          "dtype": "i1"
         }
        }
       ],
       "layout": {
        "legend": {
         "tracegroupgap": 0
        },
        "margin": {
         "t": 60
        },
        "template": {
         "data": {
          "bar": [
           {
            "error_x": {
             "color": "#2a3f5f"
            },
            "error_y": {
             "color": "#2a3f5f"
            },
            "marker": {
             "line": {
              "color": "#E5ECF6",
              "width": 0.5
             },
             "pattern": {
              "fillmode": "overlay",
              "size": 10,
              "solidity": 0.2
             }
            },
            "type": "bar"
           }
          ],
          "barpolar": [
           {
            "marker": {
             "line": {
              "color": "#E5ECF6",
              "width": 0.5
             },
             "pattern": {
              "fillmode": "overlay",
              "size": 10,
              "solidity": 0.2
             }
            },
            "type": "barpolar"
           }
          ],
          "carpet": [
           {
            "aaxis": {
             "endlinecolor": "#2a3f5f",
             "gridcolor": "white",
             "linecolor": "white",
             "minorgridcolor": "white",
             "startlinecolor": "#2a3f5f"
            },
            "baxis": {
             "endlinecolor": "#2a3f5f",
             "gridcolor": "white",
             "linecolor": "white",
             "minorgridcolor": "white",
             "startlinecolor": "#2a3f5f"
            },
            "type": "carpet"
           }
          ],
          "choropleth": [
           {
            "colorbar": {
             "outlinewidth": 0,
             "ticks": ""
            },
            "type": "choropleth"
           }
          ],
          "contour": [
           {
            "colorbar": {
             "outlinewidth": 0,
             "ticks": ""
            },
            "colorscale": [
             [
              0,
              "#0d0887"
             ],
             [
              0.1111111111111111,
              "#46039f"
             ],
             [
              0.2222222222222222,
              "#7201a8"
             ],
             [
              0.3333333333333333,
              "#9c179e"
             ],
             [
              0.4444444444444444,
              "#bd3786"
             ],
             [
              0.5555555555555556,
              "#d8576b"
             ],
             [
              0.6666666666666666,
              "#ed7953"
             ],
             [
              0.7777777777777778,
              "#fb9f3a"
             ],
             [
              0.8888888888888888,
              "#fdca26"
             ],
             [
              1,
              "#f0f921"
             ]
            ],
            "type": "contour"
           }
          ],
          "contourcarpet": [
           {
            "colorbar": {
             "outlinewidth": 0,
             "ticks": ""
            },
            "type": "contourcarpet"
           }
          ],
          "heatmap": [
           {
            "colorbar": {
             "outlinewidth": 0,
             "ticks": ""
            },
            "colorscale": [
             [
              0,
              "#0d0887"
             ],
             [
              0.1111111111111111,
              "#46039f"
             ],
             [
              0.2222222222222222,
              "#7201a8"
             ],
             [
              0.3333333333333333,
              "#9c179e"
             ],
             [
              0.4444444444444444,
              "#bd3786"
             ],
             [
              0.5555555555555556,
              "#d8576b"
             ],
             [
              0.6666666666666666,
              "#ed7953"
             ],
             [
              0.7777777777777778,
              "#fb9f3a"
             ],
             [
              0.8888888888888888,
              "#fdca26"
             ],
             [
              1,
              "#f0f921"
             ]
            ],
            "type": "heatmap"
           }
          ],
          "histogram": [
           {
            "marker": {
             "pattern": {
              "fillmode": "overlay",
              "size": 10,
              "solidity": 0.2
             }
            },
            "type": "histogram"
           }
          ],
          "histogram2d": [
           {
            "colorbar": {
             "outlinewidth": 0,
             "ticks": ""
            },
            "colorscale": [
             [
              0,
              "#0d0887"
             ],
             [
              0.1111111111111111,
              "#46039f"
             ],
             [
              0.2222222222222222,
              "#7201a8"
             ],
             [
              0.3333333333333333,
              "#9c179e"
             ],
             [
              0.4444444444444444,
              "#bd3786"
             ],
             [
              0.5555555555555556,
              "#d8576b"
             ],
             [
              0.6666666666666666,
              "#ed7953"
             ],
             [
              0.7777777777777778,
              "#fb9f3a"
             ],
             [
              0.8888888888888888,
              "#fdca26"
             ],
             [
              1,
              "#f0f921"
             ]
            ],
            "type": "histogram2d"
           }
          ],
          "histogram2dcontour": [
           {
            "colorbar": {
             "outlinewidth": 0,
             "ticks": ""
            },
            "colorscale": [
             [
              0,
              "#0d0887"
             ],
             [
              0.1111111111111111,
              "#46039f"
             ],
             [
              0.2222222222222222,
              "#7201a8"
             ],
             [
              0.3333333333333333,
              "#9c179e"
             ],
             [
              0.4444444444444444,
              "#bd3786"
             ],
             [
              0.5555555555555556,
              "#d8576b"
             ],
             [
              0.6666666666666666,
              "#ed7953"
             ],
             [
              0.7777777777777778,
              "#fb9f3a"
             ],
             [
              0.8888888888888888,
              "#fdca26"
             ],
             [
              1,
              "#f0f921"
             ]
            ],
            "type": "histogram2dcontour"
           }
          ],
          "mesh3d": [
           {
            "colorbar": {
             "outlinewidth": 0,
             "ticks": ""
            },
            "type": "mesh3d"
           }
          ],
          "parcoords": [
           {
            "line": {
             "colorbar": {
              "outlinewidth": 0,
              "ticks": ""
             }
            },
            "type": "parcoords"
           }
          ],
          "pie": [
           {
            "automargin": true,
            "type": "pie"
           }
          ],
          "scatter": [
           {
            "fillpattern": {
             "fillmode": "overlay",
             "size": 10,
             "solidity": 0.2
            },
            "type": "scatter"
           }
          ],
          "scatter3d": [
           {
            "line": {
             "colorbar": {
              "outlinewidth": 0,
              "ticks": ""
             }
            },
            "marker": {
             "colorbar": {
              "outlinewidth": 0,
              "ticks": ""
             }
            },
            "type": "scatter3d"
           }
          ],
          "scattercarpet": [
           {
            "marker": {
             "colorbar": {
              "outlinewidth": 0,
              "ticks": ""
             }
            },
            "type": "scattercarpet"
           }
          ],
          "scattergeo": [
           {
            "marker": {
             "colorbar": {
              "outlinewidth": 0,
              "ticks": ""
             }
            },
            "type": "scattergeo"
           }
          ],
          "scattergl": [
           {
            "marker": {
             "colorbar": {
              "outlinewidth": 0,
              "ticks": ""
             }
            },
            "type": "scattergl"
           }
          ],
          "scattermap": [
           {
            "marker": {
             "colorbar": {
              "outlinewidth": 0,
              "ticks": ""
             }
            },
            "type": "scattermap"
           }
          ],
          "scattermapbox": [
           {
            "marker": {
             "colorbar": {
              "outlinewidth": 0,
              "ticks": ""
             }
            },
            "type": "scattermapbox"
           }
          ],
          "scatterpolar": [
           {
            "marker": {
             "colorbar": {
              "outlinewidth": 0,
              "ticks": ""
             }
            },
            "type": "scatterpolar"
           }
          ],
          "scatterpolargl": [
           {
            "marker": {
             "colorbar": {
              "outlinewidth": 0,
              "ticks": ""
             }
            },
            "type": "scatterpolargl"
           }
          ],
          "scatterternary": [
           {
            "marker": {
             "colorbar": {
              "outlinewidth": 0,
              "ticks": ""
             }
            },
            "type": "scatterternary"
           }
          ],
          "surface": [
           {
            "colorbar": {
             "outlinewidth": 0,
             "ticks": ""
            },
            "colorscale": [
             [
              0,
              "#0d0887"
             ],
             [
              0.1111111111111111,
              "#46039f"
             ],
             [
              0.2222222222222222,
              "#7201a8"
             ],
             [
              0.3333333333333333,
              "#9c179e"
             ],
             [
              0.4444444444444444,
              "#bd3786"
             ],
             [
              0.5555555555555556,
              "#d8576b"
             ],
             [
              0.6666666666666666,
              "#ed7953"
             ],
             [
              0.7777777777777778,
              "#fb9f3a"
             ],
             [
              0.8888888888888888,
              "#fdca26"
             ],
             [
              1,
              "#f0f921"
             ]
            ],
            "type": "surface"
           }
          ],
          "table": [
           {
            "cells": {
             "fill": {
              "color": "#EBF0F8"
             },
             "line": {
              "color": "white"
             }
            },
            "header": {
             "fill": {
              "color": "#C8D4E3"
             },
             "line": {
              "color": "white"
             }
            },
            "type": "table"
           }
          ]
         },
         "layout": {
          "annotationdefaults": {
           "arrowcolor": "#2a3f5f",
           "arrowhead": 0,
           "arrowwidth": 1
          },
          "autotypenumbers": "strict",
          "coloraxis": {
           "colorbar": {
            "outlinewidth": 0,
            "ticks": ""
           }
          },
          "colorscale": {
           "diverging": [
            [
             0,
             "#8e0152"
            ],
            [
             0.1,
             "#c51b7d"
            ],
            [
             0.2,
             "#de77ae"
            ],
            [
             0.3,
             "#f1b6da"
            ],
            [
             0.4,
             "#fde0ef"
            ],
            [
             0.5,
             "#f7f7f7"
            ],
            [
             0.6,
             "#e6f5d0"
            ],
            [
             0.7,
             "#b8e186"
            ],
            [
             0.8,
             "#7fbc41"
            ],
            [
             0.9,
             "#4d9221"
            ],
            [
             1,
             "#276419"
            ]
           ],
           "sequential": [
            [
             0,
             "#0d0887"
            ],
            [
             0.1111111111111111,
             "#46039f"
            ],
            [
             0.2222222222222222,
             "#7201a8"
            ],
            [
             0.3333333333333333,
             "#9c179e"
            ],
            [
             0.4444444444444444,
             "#bd3786"
            ],
            [
             0.5555555555555556,
             "#d8576b"
            ],
            [
             0.6666666666666666,
             "#ed7953"
            ],
            [
             0.7777777777777778,
             "#fb9f3a"
            ],
            [
             0.8888888888888888,
             "#fdca26"
            ],
            [
             1,
             "#f0f921"
            ]
           ],
           "sequentialminus": [
            [
             0,
             "#0d0887"
            ],
            [
             0.1111111111111111,
             "#46039f"
            ],
            [
             0.2222222222222222,
             "#7201a8"
            ],
            [
             0.3333333333333333,
             "#9c179e"
            ],
            [
             0.4444444444444444,
             "#bd3786"
            ],
            [
             0.5555555555555556,
             "#d8576b"
            ],
            [
             0.6666666666666666,
             "#ed7953"
            ],
            [
             0.7777777777777778,
             "#fb9f3a"
            ],
            [
             0.8888888888888888,
             "#fdca26"
            ],
            [
             1,
             "#f0f921"
            ]
           ]
          },
          "colorway": [
           "#636efa",
           "#EF553B",
           "#00cc96",
           "#ab63fa",
           "#FFA15A",
           "#19d3f3",
           "#FF6692",
           "#B6E880",
           "#FF97FF",
           "#FECB52"
          ],
          "font": {
           "color": "#2a3f5f"
          },
          "geo": {
           "bgcolor": "white",
           "lakecolor": "white",
           "landcolor": "#E5ECF6",
           "showlakes": true,
           "showland": true,
           "subunitcolor": "white"
          },
          "hoverlabel": {
           "align": "left"
          },
          "hovermode": "closest",
          "mapbox": {
           "style": "light"
          },
          "paper_bgcolor": "white",
          "plot_bgcolor": "#E5ECF6",
          "polar": {
           "angularaxis": {
            "gridcolor": "white",
            "linecolor": "white",
            "ticks": ""
           },
           "bgcolor": "#E5ECF6",
           "radialaxis": {
            "gridcolor": "white",
            "linecolor": "white",
            "ticks": ""
           }
          },
          "scene": {
           "xaxis": {
            "backgroundcolor": "#E5ECF6",
            "gridcolor": "white",
            "gridwidth": 2,
            "linecolor": "white",
            "showbackground": true,
            "ticks": "",
            "zerolinecolor": "white"
           },
           "yaxis": {
            "backgroundcolor": "#E5ECF6",
            "gridcolor": "white",
            "gridwidth": 2,
            "linecolor": "white",
            "showbackground": true,
            "ticks": "",
            "zerolinecolor": "white"
           },
           "zaxis": {
            "backgroundcolor": "#E5ECF6",
            "gridcolor": "white",
            "gridwidth": 2,
            "linecolor": "white",
            "showbackground": true,
            "ticks": "",
            "zerolinecolor": "white"
           }
          },
          "shapedefaults": {
           "line": {
            "color": "#2a3f5f"
           }
          },
          "ternary": {
           "aaxis": {
            "gridcolor": "white",
            "linecolor": "white",
            "ticks": ""
           },
           "baxis": {
            "gridcolor": "white",
            "linecolor": "white",
            "ticks": ""
           },
           "bgcolor": "#E5ECF6",
           "caxis": {
            "gridcolor": "white",
            "linecolor": "white",
            "ticks": ""
           }
          },
          "title": {
           "x": 0.05
          },
          "xaxis": {
           "automargin": true,
           "gridcolor": "white",
           "linecolor": "white",
           "ticks": "",
           "title": {
            "standoff": 15
           },
           "zerolinecolor": "white",
           "zerolinewidth": 2
          },
          "yaxis": {
           "automargin": true,
           "gridcolor": "white",
           "linecolor": "white",
           "ticks": "",
           "title": {
            "standoff": 15
           },
           "zerolinecolor": "white",
           "zerolinewidth": 2
          }
         }
        }
       }
      }
     },
     "metadata": {},
     "output_type": "display_data"
    }
   ],
   "source": [
    "models_country = data['country'].value_counts().reset_index(name = 'count')\n",
    "fig = px.pie(\n",
    "    models_country,\n",
    "    values= 'country'\n",
    "\n",
    ")\n",
    "\n",
    "fig.show()"
   ]
  },
  {
   "cell_type": "code",
   "execution_count": 6,
   "id": "5895490b",
   "metadata": {},
   "outputs": [
    {
     "data": {
      "image/png": "[encoded data removed]",
      "text/plain": [
       "<Figure size 1000x600 with 1 Axes>"
      ]
     },
     "metadata": {},
     "output_type": "display_data"
    },
    {
     "data": {
      "image/png": "[encoded data removed]",
      "text/plain": [
       "<Figure size 640x480 with 1 Axes>"
      ]
     },
     "metadata": {},
     "output_type": "display_data"
    }
   ],
   "source": [
    "import matplotlib.pyplot as plt\n",
    "import seaborn as sns\n",
    "# import pandas as pd\n",
    "# import numpy as np\n",
    "cont_col = ['order', 'price']\n",
    "# 2. Create the Distribution Plot using Seaborn\n",
    "plt.figure(figsize=(10, 6))\n",
    "for i in cont_col:\n",
    "# sns.histplot is the standard function for distribution plots.\n",
    "# 'kde=True' tells Seaborn to calculate and draw the KDE line.\n",
    "    sns.histplot(\n",
    "        data,\n",
    "        x=i,\n",
    "        kde=True,\n",
    "        bins=30,             # Set the number of bins\n",
    "        color='skyblue',     # Set the color of the bars\n",
    "        line_kws={'linewidth': 3, 'color': 'darkred'} # Customize the KDE line\n",
    "    )\n",
    "\n",
    "    # 3. Customize the Plot (Matplotlib functions)\n",
    "    plt.title(f'Distribution of {i} with KDE', fontsize=16)\n",
    "    plt.xlabel(i, fontsize=12)\n",
    "    plt.ylabel('Frequency', fontsize=12)\n",
    "    plt.grid(axis='y', linestyle='--', alpha=0.7)\n",
    "    plt.show()"
   ]
  },
  {
   "cell_type": "code",
   "execution_count": null,
   "id": "dddc7b0b",
   "metadata": {},
   "outputs": [],
   "source": [
    "data['price'].value_counts().reset_index(name ='count')"
   ]
  },
  {
   "cell_type": "code",
   "execution_count": 13,
   "id": "fa051ba2",
   "metadata": {},
   "outputs": [
    {
     "name": "stdout",
     "output_type": "stream",
     "text": [
      "The skewness of the order column is: 4.4661 and it is < 1 so highly skewed(positive)\n",
      "The skewness of the price column is: 0.5241 and it is < 0.5 so skewed\n"
     ]
    }
   ],
   "source": [
    "for i in cont_col:\n",
    "    skewness_value = skew(data[i].values)\n",
    "    if skewness_value > 1:\n",
    "        #(Highly Asymmetrical) | Transformation is strongly recommended.\n",
    "        print(f\"The skewness of the {i} column is: {skewness_value:.4f} and it is < 1 so highly skewed(positive)\")\n",
    "    if skewness_value >= 0.5 and skewness_value <= 1:\n",
    "        #Transformation is often beneficial, but not always critical\n",
    "        print(f\"The skewness of the {i} column is: {skewness_value:.4f} and it is < 0.5 so skewed\")\n",
    "    if skewness_value >= -0.5 and skewness_value <= 0.5:\n",
    "        #n(Approximately Symmetrical) | No transformation typically needed\n",
    "        print(f\"The skewness of the {i} column is: {skewness_value:.4f} and it is near 0  so not skewed\")\n",
    "    if skewness_value <= -1 :\n",
    "        #(Highly Asymmetrical) | Transformation is strongly recommended.\n",
    "        print(f\"The skewness of the {i} column is: {skewness_value:.4f} and it is > -1 so highly skewed(negative)\")\n",
    "    if skewness_value <= -0.5 and skewness_value <= -1:\n",
    "        #Transformation is often beneficial, but not always critical\n",
    "        print(f\"The skewness of the {i} column is: {skewness_value:.4f} and it is > -0.5 so skewed\")  "
   ]
  },
  {
   "cell_type": "code",
   "execution_count": 17,
   "id": "8a51a9e7",
   "metadata": {},
   "outputs": [
    {
     "name": "stderr",
     "output_type": "stream",
     "text": [
      "C:\\Users\\Hp\\AppData\\Local\\Temp\\ipykernel_12660\\2847561257.py:9: SettingWithCopyWarning: \n",
      "A value is trying to be set on a copy of a slice from a DataFrame.\n",
      "Try using .loc[row_indexer,col_indexer] = value instead\n",
      "\n",
      "See the caveats in the documentation: https://pandas.pydata.org/pandas-docs/stable/user_guide/indexing.html#returning-a-view-versus-a-copy\n",
      "  transform_df[f'{i}_log'] = np.log(transform_df[i])\n",
      "C:\\Users\\Hp\\AppData\\Local\\Temp\\ipykernel_12660\\2847561257.py:12: SettingWithCopyWarning: \n",
      "A value is trying to be set on a copy of a slice from a DataFrame.\n",
      "Try using .loc[row_indexer,col_indexer] = value instead\n",
      "\n",
      "See the caveats in the documentation: https://pandas.pydata.org/pandas-docs/stable/user_guide/indexing.html#returning-a-view-versus-a-copy\n",
      "  transform_df[f'{i}_sqrt'] = np.sqrt(transform_df[i])\n",
      "C:\\Users\\Hp\\AppData\\Local\\Temp\\ipykernel_12660\\2847561257.py:15: SettingWithCopyWarning: \n",
      "A value is trying to be set on a copy of a slice from a DataFrame.\n",
      "Try using .loc[row_indexer,col_indexer] = value instead\n",
      "\n",
      "See the caveats in the documentation: https://pandas.pydata.org/pandas-docs/stable/user_guide/indexing.html#returning-a-view-versus-a-copy\n",
      "  transform_df[f'{i}_cbrt'] = np.cbrt(transform_df[i])\n",
      "C:\\Users\\Hp\\AppData\\Local\\Temp\\ipykernel_12660\\2847561257.py:19: SettingWithCopyWarning: \n",
      "A value is trying to be set on a copy of a slice from a DataFrame.\n",
      "Try using .loc[row_indexer,col_indexer] = value instead\n",
      "\n",
      "See the caveats in the documentation: https://pandas.pydata.org/pandas-docs/stable/user_guide/indexing.html#returning-a-view-versus-a-copy\n",
      "  transform_df[f'{i}_boxcox'], optimal_lambda = boxcox(transform_df[i])\n",
      "C:\\Users\\Hp\\AppData\\Local\\Temp\\ipykernel_12660\\2847561257.py:9: SettingWithCopyWarning: \n",
      "A value is trying to be set on a copy of a slice from a DataFrame.\n",
      "Try using .loc[row_indexer,col_indexer] = value instead\n",
      "\n",
      "See the caveats in the documentation: https://pandas.pydata.org/pandas-docs/stable/user_guide/indexing.html#returning-a-view-versus-a-copy\n",
      "  transform_df[f'{i}_log'] = np.log(transform_df[i])\n",
      "C:\\Users\\Hp\\AppData\\Local\\Temp\\ipykernel_12660\\2847561257.py:12: SettingWithCopyWarning: \n",
      "A value is trying to be set on a copy of a slice from a DataFrame.\n",
      "Try using .loc[row_indexer,col_indexer] = value instead\n",
      "\n",
      "See the caveats in the documentation: https://pandas.pydata.org/pandas-docs/stable/user_guide/indexing.html#returning-a-view-versus-a-copy\n",
      "  transform_df[f'{i}_sqrt'] = np.sqrt(transform_df[i])\n",
      "C:\\Users\\Hp\\AppData\\Local\\Temp\\ipykernel_12660\\2847561257.py:15: SettingWithCopyWarning: \n",
      "A value is trying to be set on a copy of a slice from a DataFrame.\n",
      "Try using .loc[row_indexer,col_indexer] = value instead\n",
      "\n",
      "See the caveats in the documentation: https://pandas.pydata.org/pandas-docs/stable/user_guide/indexing.html#returning-a-view-versus-a-copy\n",
      "  transform_df[f'{i}_cbrt'] = np.cbrt(transform_df[i])\n"
     ]
    },
    {
     "name": "stdout",
     "output_type": "stream",
     "text": [
      "--- Skewness Comparison ---\n",
      "Original order Skew: 4.4661\n",
      "Log Transformed Skew: 0.1381\n",
      "Square Root Skew: 1.6397\n",
      "Cube Root Skew: 1.0375\n",
      "Box-Cox Transformed Skew: 0.0140\n",
      "\n",
      "Optimal Lambda (Box-Cox): -0.0566\n",
      "--- Skewness Comparison ---\n",
      "Original price Skew: 0.5241\n",
      "Log Transformed Skew: -0.1257\n",
      "Square Root Skew: 0.2037\n",
      "Cube Root Skew: 0.0955\n",
      "Box-Cox Transformed Skew: -0.0079\n",
      "\n",
      "Optimal Lambda (Box-Cox): 0.1761\n",
      "\n",
      "--- Transformed Data Head ---\n"
     ]
    },
    {
     "name": "stderr",
     "output_type": "stream",
     "text": [
      "C:\\Users\\Hp\\AppData\\Local\\Temp\\ipykernel_12660\\2847561257.py:19: SettingWithCopyWarning: \n",
      "A value is trying to be set on a copy of a slice from a DataFrame.\n",
      "Try using .loc[row_indexer,col_indexer] = value instead\n",
      "\n",
      "See the caveats in the documentation: https://pandas.pydata.org/pandas-docs/stable/user_guide/indexing.html#returning-a-view-versus-a-copy\n",
      "  transform_df[f'{i}_boxcox'], optimal_lambda = boxcox(transform_df[i])\n"
     ]
    },
    {
     "data": {
      "text/html": [
       "<div>\n",
       "<style scoped>\n",
       "    .dataframe tbody tr th:only-of-type {\n",
       "        vertical-align: middle;\n",
       "    }\n",
       "\n",
       "    .dataframe tbody tr th {\n",
       "        vertical-align: top;\n",
       "    }\n",
       "\n",
       "    .dataframe thead th {\n",
       "        text-align: right;\n",
       "    }\n",
       "</style>\n",
       "<table border=\"1\" class=\"dataframe\">\n",
       "  <thead>\n",
       "    <tr style=\"text-align: right;\">\n",
       "      <th></th>\n",
       "      <th>order</th>\n",
       "      <th>price</th>\n",
       "      <th>order_log</th>\n",
       "      <th>order_sqrt</th>\n",
       "      <th>order_cbrt</th>\n",
       "      <th>order_boxcox</th>\n",
       "      <th>price_log</th>\n",
       "      <th>price_sqrt</th>\n",
       "      <th>price_cbrt</th>\n",
       "      <th>price_boxcox</th>\n",
       "    </tr>\n",
       "  </thead>\n",
       "  <tbody>\n",
       "    <tr>\n",
       "      <th>0</th>\n",
       "      <td>21</td>\n",
       "      <td>48</td>\n",
       "      <td>3.044522</td>\n",
       "      <td>4.582576</td>\n",
       "      <td>2.758924</td>\n",
       "      <td>2.796565</td>\n",
       "      <td>3.871201</td>\n",
       "      <td>6.928203</td>\n",
       "      <td>3.634241</td>\n",
       "      <td>5.549252</td>\n",
       "    </tr>\n",
       "    <tr>\n",
       "      <th>1</th>\n",
       "      <td>6</td>\n",
       "      <td>57</td>\n",
       "      <td>1.791759</td>\n",
       "      <td>2.449490</td>\n",
       "      <td>1.817121</td>\n",
       "      <td>1.703870</td>\n",
       "      <td>4.043051</td>\n",
       "      <td>7.549834</td>\n",
       "      <td>3.848501</td>\n",
       "      <td>5.894209</td>\n",
       "    </tr>\n",
       "    <tr>\n",
       "      <th>2</th>\n",
       "      <td>2</td>\n",
       "      <td>48</td>\n",
       "      <td>0.693147</td>\n",
       "      <td>1.414214</td>\n",
       "      <td>1.259921</td>\n",
       "      <td>0.679722</td>\n",
       "      <td>3.871201</td>\n",
       "      <td>6.928203</td>\n",
       "      <td>3.634241</td>\n",
       "      <td>5.549252</td>\n",
       "    </tr>\n",
       "    <tr>\n",
       "      <th>3</th>\n",
       "      <td>2</td>\n",
       "      <td>43</td>\n",
       "      <td>0.693147</td>\n",
       "      <td>1.414214</td>\n",
       "      <td>1.259921</td>\n",
       "      <td>0.679722</td>\n",
       "      <td>3.761200</td>\n",
       "      <td>6.557439</td>\n",
       "      <td>3.503398</td>\n",
       "      <td>5.333863</td>\n",
       "    </tr>\n",
       "    <tr>\n",
       "      <th>4</th>\n",
       "      <td>16</td>\n",
       "      <td>57</td>\n",
       "      <td>2.772589</td>\n",
       "      <td>4.000000</td>\n",
       "      <td>2.519842</td>\n",
       "      <td>2.565918</td>\n",
       "      <td>4.043051</td>\n",
       "      <td>7.549834</td>\n",
       "      <td>3.848501</td>\n",
       "      <td>5.894209</td>\n",
       "    </tr>\n",
       "  </tbody>\n",
       "</table>\n",
       "</div>"
      ],
      "text/plain": [
       "   order  price  order_log  order_sqrt  order_cbrt  order_boxcox  price_log  \\\n",
       "0     21     48   3.044522    4.582576    2.758924      2.796565   3.871201   \n",
       "1      6     57   1.791759    2.449490    1.817121      1.703870   4.043051   \n",
       "2      2     48   0.693147    1.414214    1.259921      0.679722   3.871201   \n",
       "3      2     43   0.693147    1.414214    1.259921      0.679722   3.761200   \n",
       "4     16     57   2.772589    4.000000    2.519842      2.565918   4.043051   \n",
       "\n",
       "   price_sqrt  price_cbrt  price_boxcox  \n",
       "0    6.928203    3.634241      5.549252  \n",
       "1    7.549834    3.848501      5.894209  \n",
       "2    6.928203    3.634241      5.549252  \n",
       "3    6.557439    3.503398      5.333863  \n",
       "4    7.549834    3.848501      5.894209  "
      ]
     },
     "execution_count": 17,
     "metadata": {},
     "output_type": "execute_result"
    }
   ],
   "source": [
    "import numpy as np\n",
    "from scipy.stats import boxcox, skew\n",
    "\n",
    "# --- 2. Perform Transformations ---\n",
    "transform_df = data[['order','price']] \n",
    "\n",
    "for i in cont_col:\n",
    "    # 1. Log Transformation (np.log) - Most aggressive\n",
    "    transform_df[f'{i}_log'] = np.log(transform_df[i])\n",
    "\n",
    "    # 2. Square Root Transformation (np.sqrt) - Milder\n",
    "    transform_df[f'{i}_sqrt'] = np.sqrt(transform_df[i])\n",
    "\n",
    "    # 3. Cube Root Transformation (np.cbrt or power 1/3) - Milder than Log\n",
    "    transform_df[f'{i}_cbrt'] = np.cbrt(transform_df[i])\n",
    "\n",
    "    # 4. Box-Cox Transformation - Finds the optimal power (lambda)\n",
    "    # Note: boxcox() returns two things: the transformed data and the optimal lambda.\n",
    "    transform_df[f'{i}_boxcox'], optimal_lambda = boxcox(transform_df[i])\n",
    "\n",
    "\n",
    "# --- 3. Display Results (New Columns and Skewness) ---\n",
    "\n",
    "    print(\"--- Skewness Comparison ---\")\n",
    "    print(f\"Original {i} Skew: {skew(transform_df[i].values):.4f}\")\n",
    "    print(f\"Log Transformed Skew: {skew(transform_df[f'{i}_log'].values):.4f}\")\n",
    "    print(f\"Square Root Skew: {skew(transform_df[f'{i}_sqrt'].values):.4f}\")\n",
    "    print(f\"Cube Root Skew: {skew(transform_df[f'{i}_cbrt'].values):.4f}\")\n",
    "    print(f\"Box-Cox Transformed Skew: {skew(transform_df[f'{i}_boxcox'].values):.4f}\")\n",
    "    print(f\"\\nOptimal Lambda (Box-Cox): {optimal_lambda:.4f}\")\n",
    "\n",
    "print(\"\\n--- Transformed Data Head ---\")\n",
    "transform_df.head()"
   ]
  },
  {
   "cell_type": "code",
   "execution_count": 18,
   "id": "0254f7a2",
   "metadata": {},
   "outputs": [
    {
     "data": {
      "text/plain": [
       "Index(['order', 'price', 'order_log', 'order_sqrt', 'order_cbrt',\n",
       "       'order_boxcox', 'price_log', 'price_sqrt', 'price_cbrt',\n",
       "       'price_boxcox'],\n",
       "      dtype='object')"
      ]
     },
     "execution_count": 18,
     "metadata": {},
     "output_type": "execute_result"
    }
   ],
   "source": [
    "transform_df.columns"
   ]
  },
  {
   "cell_type": "code",
   "execution_count": 24,
   "id": "8fd00fc3",
   "metadata": {},
   "outputs": [
    {
     "data": {
      "image/png": "[encoded data removed]",
      "text/plain": [
       "<Figure size 1000x600 with 1 Axes>"
      ]
     },
     "metadata": {},
     "output_type": "display_data"
    },
    {
     "data": {
      "image/png": "[encoded data removed]",
      "text/plain": [
       "<Figure size 640x480 with 1 Axes>"
      ]
     },
     "metadata": {},
     "output_type": "display_data"
    },
    {
     "data": {
      "image/png": "[encoded data removed]",
      "text/plain": [
       "<Figure size 640x480 with 1 Axes>"
      ]
     },
     "metadata": {},
     "output_type": "display_data"
    },
    {
     "data": {
      "image/png": "[encoded data removed]",
      "text/plain": [
       "<Figure size 640x480 with 1 Axes>"
      ]
     },
     "metadata": {},
     "output_type": "display_data"
    },
    {
     "data": {
      "image/png": "[encoded data removed]",
      "text/plain": [
       "<Figure size 640x480 with 1 Axes>"
      ]
     },
     "metadata": {},
     "output_type": "display_data"
    },
    {
     "data": {
      "image/png": "[encoded data removed]",
      "text/plain": [
       "<Figure size 640x480 with 1 Axes>"
      ]
     },
     "metadata": {},
     "output_type": "display_data"
    },
    {
     "data": {
      "image/png": "[encoded data removed]",
      "text/plain": [
       "<Figure size 640x480 with 1 Axes>"
      ]
     },
     "metadata": {},
     "output_type": "display_data"
    },
    {
     "data": {
      "image/png": "[encoded data removed]",
      "text/plain": [
       "<Figure size 640x480 with 1 Axes>"
      ]
     },
     "metadata": {},
     "output_type": "display_data"
    },
    {
     "data": {
      "image/png": "[encoded data removed]",
      "text/plain": [
       "<Figure size 640x480 with 1 Axes>"
      ]
     },
     "metadata": {},
     "output_type": "display_data"
    },
    {
     "data": {
      "image/png": "[encoded data removed]",
      "text/plain": [
       "<Figure size 640x480 with 1 Axes>"
      ]
     },
     "metadata": {},
     "output_type": "display_data"
    }
   ],
   "source": [
    "import matplotlib.pyplot as plt\n",
    "import seaborn as sns\n",
    "# import pandas as pd\n",
    "# import numpy as np\n",
    "cont_col = ['order','order_log', 'order_sqrt', 'order_cbrt','order_boxcox', 'price', 'price_log', 'price_sqrt', 'price_cbrt','price_boxcox']\n",
    "# 2. Create the Distribution Plot using Seaborn\n",
    "plt.figure(figsize=(10, 6))\n",
    "for i in cont_col:\n",
    "# sns.histplot is the standard function for distribution plots.\n",
    "# 'kde=True' tells Seaborn to calculate and draw the KDE line.\n",
    "    sns.histplot(\n",
    "        transform_df,\n",
    "        x=i,\n",
    "        kde=True,\n",
    "        bins=70,             # Set the number of bins\n",
    "        color='skyblue',     # Set the color of the bars\n",
    "        line_kws={'linewidth': 3, 'color': 'darkred'} # Customize the KDE line\n",
    "    )\n",
    "\n",
    "    # 3. Customize the Plot (Matplotlib functions)\n",
    "    plt.title(f'Distribution of {i} with KDE', fontsize=16)\n",
    "    plt.xlabel(i, fontsize=12)\n",
    "    plt.ylabel('Frequency', fontsize=12)\n",
    "    plt.grid(axis='y', linestyle='--', alpha=0.7)\n",
    "    plt.show()"
   ]
  },
  {
   "cell_type": "code",
   "execution_count": null,
   "id": "36016f44",
   "metadata": {},
   "outputs": [],
   "source": [
    "#where k=0 is a perfectly normal distribution:|no transformation is required\n",
    "#|k| < 1.0 (e.g., -0.99 to 0.99) | Tolerable/Acceptable. Close to Mesokurtic. | Use data as is; no correction needed. \n",
    "# 1.0 < |k| < 2.0 | Moderate. (Slightly Leptokurtic/Platykurtic) | Note the deviation; usually doesn't require specific transformation. \n",
    "#|k| < 2.0 (e.g., 2.01 or -2.01) | Extreme. (Significantly Leptokurtic/Platykurtic) | High Concern. Carefully check for extreme outliers and model instability, especially in parametric methods. |"
   ]
  },
  {
   "cell_type": "code",
   "execution_count": 25,
   "id": "cd40aa29",
   "metadata": {},
   "outputs": [
    {
     "name": "stdout",
     "output_type": "stream",
     "text": [
      "Excess Kurtosis (order): 32.4538\n",
      "Excess Kurtosis (order_log): -0.5984\n",
      "Excess Kurtosis (order_sqrt): 4.3159\n",
      "Excess Kurtosis (order_cbrt): 1.4914\n",
      "Excess Kurtosis (order_boxcox): -0.7009\n",
      "Excess Kurtosis (price): -0.1443\n",
      "Excess Kurtosis (price_log): -0.4249\n",
      "Excess Kurtosis (price_sqrt): -0.4506\n",
      "Excess Kurtosis (price_cbrt): -0.4795\n",
      "Excess Kurtosis (price_boxcox): -0.4728\n"
     ]
    }
   ],
   "source": [
    "from scipy.stats import kurtosis\n",
    "for i in cont_col:\n",
    "    original_kurtosis = kurtosis(transform_df[i].values)\n",
    "\n",
    "    print(f\"Excess Kurtosis ({i}): {original_kurtosis:.4f}\")\n"
   ]
  }
 ],
 "metadata": {
  "kernelspec": {
   "display_name": "clickstream_venv",
   "language": "python",
   "name": "python3"
  },
  "language_info": {
   "codemirror_mode": {
    "name": "ipython",
    "version": 3
   },
   "file_extension": ".py",
   "mimetype": "text/x-python",
   "name": "python",
   "nbconvert_exporter": "python",
   "pygments_lexer": "ipython3",
   "version": "3.11.7"
  }
 },
 "nbformat": 4,
 "nbformat_minor": 5
}

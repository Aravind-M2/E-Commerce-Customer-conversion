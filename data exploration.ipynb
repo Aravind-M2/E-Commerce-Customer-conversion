{
 "cells": [
  {
   "cell_type": "code",
   "execution_count": null,
   "id": "69b5b440",
   "metadata": {},
   "outputs": [],
   "source": [
    "# doubts for the doubt clarification session\n",
    "# 1. what is the target column? -- Price_2\n",
    "# 2. what is the order values? -- Price_2 = 2 and sum of price values\n",
    "# 3. how do i differentiate between the items the customer viewed and the order they actually made? -- Price_2 = 1 (viewed) and 2 (bought)\n",
    "# 4. how do i identify the users? as the session id is unique and not repeated - check again"
   ]
  },
  {
   "cell_type": "code",
   "execution_count": 6,
   "id": "2c132ed1",
   "metadata": {},
   "outputs": [],
   "source": [
    "import pandas as pd\n",
    "import seaborn as sns\n",
    "import matplotlib.pyplot as plt\n",
    "import plotly.express as px"
   ]
  },
  {
   "cell_type": "code",
   "execution_count": null,
   "id": "40812701",
   "metadata": {},
   "outputs": [],
   "source": []
  },
  {
   "cell_type": "code",
   "execution_count": 7,
   "id": "d35e04f9",
   "metadata": {},
   "outputs": [],
   "source": [
    "data = pd.read_csv(\"D:\\\\GIT HUB\\\\GUVI Mini Proj 4\\\\train_data - train_data.csv\")"
   ]
  },
  {
   "cell_type": "code",
   "execution_count": 3,
   "id": "7a6c9af7",
   "metadata": {},
   "outputs": [
    {
     "name": "stdout",
     "output_type": "stream",
     "text": [
      "<class 'pandas.core.frame.DataFrame'>\n",
      "RangeIndex: 132379 entries, 0 to 132378\n",
      "Data columns (total 14 columns):\n",
      " #   Column                Non-Null Count   Dtype \n",
      "---  ------                --------------   ----- \n",
      " 0   year                  132379 non-null  int64 \n",
      " 1   month                 132379 non-null  int64 \n",
      " 2   day                   132379 non-null  int64 \n",
      " 3   order                 132379 non-null  int64 \n",
      " 4   country               132379 non-null  int64 \n",
      " 5   session_id            132379 non-null  int64 \n",
      " 6   page1_main_category   132379 non-null  int64 \n",
      " 7   page2_clothing_model  132379 non-null  object\n",
      " 8   colour                132379 non-null  int64 \n",
      " 9   location              132379 non-null  int64 \n",
      " 10  model_photography     132379 non-null  int64 \n",
      " 11  price                 132379 non-null  int64 \n",
      " 12  price_2               132379 non-null  int64 \n",
      " 13  page                  132379 non-null  int64 \n",
      "dtypes: int64(13), object(1)\n",
      "memory usage: 14.1+ MB\n"
     ]
    }
   ],
   "source": [
    "data.info()"
   ]
  },
  {
   "cell_type": "code",
   "execution_count": null,
   "id": "6a5e06ba",
   "metadata": {},
   "outputs": [],
   "source": [
    "# doubts for the doubt clarification session\n",
    "# 1. what is the target column? -- Price_2\n",
    "# 2. what is the order values? -- Price_2 = 2 and sum of price values\n",
    "# 3. how do i differentiate between the items the customer viewed and the order they actually made? -- Price_2 = 1 (viewed) and 2 (bought)\n",
    "# 4. how do i identify the users? as the session id is unique and not repeated - check again"
   ]
  },
  {
   "cell_type": "code",
   "execution_count": 4,
   "id": "82173361",
   "metadata": {},
   "outputs": [
    {
     "data": {
      "text/html": [
       "<div>\n",
       "<style scoped>\n",
       "    .dataframe tbody tr th:only-of-type {\n",
       "        vertical-align: middle;\n",
       "    }\n",
       "\n",
       "    .dataframe tbody tr th {\n",
       "        vertical-align: top;\n",
       "    }\n",
       "\n",
       "    .dataframe thead th {\n",
       "        text-align: right;\n",
       "    }\n",
       "</style>\n",
       "<table border=\"1\" class=\"dataframe\">\n",
       "  <thead>\n",
       "    <tr style=\"text-align: right;\">\n",
       "      <th></th>\n",
       "      <th>year</th>\n",
       "      <th>month</th>\n",
       "      <th>day</th>\n",
       "      <th>order</th>\n",
       "      <th>country</th>\n",
       "      <th>session_id</th>\n",
       "      <th>page1_main_category</th>\n",
       "      <th>page2_clothing_model</th>\n",
       "      <th>colour</th>\n",
       "      <th>location</th>\n",
       "      <th>model_photography</th>\n",
       "      <th>price</th>\n",
       "      <th>price_2</th>\n",
       "      <th>page</th>\n",
       "    </tr>\n",
       "  </thead>\n",
       "  <tbody>\n",
       "    <tr>\n",
       "      <th>0</th>\n",
       "      <td>2008</td>\n",
       "      <td>6</td>\n",
       "      <td>22</td>\n",
       "      <td>21</td>\n",
       "      <td>29</td>\n",
       "      <td>15648</td>\n",
       "      <td>3</td>\n",
       "      <td>C20</td>\n",
       "      <td>13</td>\n",
       "      <td>1</td>\n",
       "      <td>2</td>\n",
       "      <td>48</td>\n",
       "      <td>1</td>\n",
       "      <td>2</td>\n",
       "    </tr>\n",
       "    <tr>\n",
       "      <th>1</th>\n",
       "      <td>2008</td>\n",
       "      <td>5</td>\n",
       "      <td>19</td>\n",
       "      <td>6</td>\n",
       "      <td>29</td>\n",
       "      <td>10018</td>\n",
       "      <td>2</td>\n",
       "      <td>B26</td>\n",
       "      <td>13</td>\n",
       "      <td>3</td>\n",
       "      <td>1</td>\n",
       "      <td>57</td>\n",
       "      <td>1</td>\n",
       "      <td>2</td>\n",
       "    </tr>\n",
       "    <tr>\n",
       "      <th>2</th>\n",
       "      <td>2008</td>\n",
       "      <td>7</td>\n",
       "      <td>15</td>\n",
       "      <td>2</td>\n",
       "      <td>29</td>\n",
       "      <td>19388</td>\n",
       "      <td>3</td>\n",
       "      <td>C13</td>\n",
       "      <td>9</td>\n",
       "      <td>5</td>\n",
       "      <td>1</td>\n",
       "      <td>48</td>\n",
       "      <td>1</td>\n",
       "      <td>1</td>\n",
       "    </tr>\n",
       "    <tr>\n",
       "      <th>3</th>\n",
       "      <td>2008</td>\n",
       "      <td>5</td>\n",
       "      <td>2</td>\n",
       "      <td>2</td>\n",
       "      <td>29</td>\n",
       "      <td>7181</td>\n",
       "      <td>2</td>\n",
       "      <td>B11</td>\n",
       "      <td>2</td>\n",
       "      <td>4</td>\n",
       "      <td>1</td>\n",
       "      <td>43</td>\n",
       "      <td>2</td>\n",
       "      <td>1</td>\n",
       "    </tr>\n",
       "    <tr>\n",
       "      <th>4</th>\n",
       "      <td>2008</td>\n",
       "      <td>6</td>\n",
       "      <td>9</td>\n",
       "      <td>16</td>\n",
       "      <td>29</td>\n",
       "      <td>13493</td>\n",
       "      <td>2</td>\n",
       "      <td>B31</td>\n",
       "      <td>9</td>\n",
       "      <td>5</td>\n",
       "      <td>1</td>\n",
       "      <td>57</td>\n",
       "      <td>1</td>\n",
       "      <td>2</td>\n",
       "    </tr>\n",
       "  </tbody>\n",
       "</table>\n",
       "</div>"
      ],
      "text/plain": [
       "   year  month  day  order  country  session_id  page1_main_category  \\\n",
       "0  2008      6   22     21       29       15648                    3   \n",
       "1  2008      5   19      6       29       10018                    2   \n",
       "2  2008      7   15      2       29       19388                    3   \n",
       "3  2008      5    2      2       29        7181                    2   \n",
       "4  2008      6    9     16       29       13493                    2   \n",
       "\n",
       "  page2_clothing_model  colour  location  model_photography  price  price_2  \\\n",
       "0                  C20      13         1                  2     48        1   \n",
       "1                  B26      13         3                  1     57        1   \n",
       "2                  C13       9         5                  1     48        1   \n",
       "3                  B11       2         4                  1     43        2   \n",
       "4                  B31       9         5                  1     57        1   \n",
       "\n",
       "   page  \n",
       "0     2  \n",
       "1     2  \n",
       "2     1  \n",
       "3     1  \n",
       "4     2  "
      ]
     },
     "execution_count": 4,
     "metadata": {},
     "output_type": "execute_result"
    }
   ],
   "source": [
    "data.head()"
   ]
  },
  {
   "cell_type": "code",
   "execution_count": null,
   "id": "137924df",
   "metadata": {},
   "outputs": [],
   "source": [
    "# key insights that we can find from the given data:\n",
    "# 1.relationship of each column with the target column - price amd price 2\n",
    "# consider price as target for regression and price_2 for classification \n",
    "# 2.Time series - more/ number of clicks per session  ; which country bought the most on which; \n",
    "# how many session per d, m; most revenue generated d,m, sessions and the clicks made;\n",
    "# most purchased model, most visited model, - days and months and weeks\n",
    "# 3.which part of the screen is 1st viewed/clicked, which part of the screen is most clicked, \n",
    "# which part of the screen is last clicked ; which page captured the most and least (h/l value) - for high valued orders, low valued orders\n",
    "# 4.which country bouth which, which coloru, - category and model\n",
    "# 5.which position of the page is clicked most - per page ; which page generate more revenue.\n",
    "# 6.visualize which item is showed on which page and minimum clicks required to view the particular iteam - how much click it actually took to view the item \n",
    "# which generated move revenue ? most clicked or least clicked sessions? which model is popular and does the poplur item is priced above or below average? \n",
    "# what model did the user see before buying the item\n",
    "# 7.count plot for visualization of the count of occurance of each item -- done\n",
    "\n",
    "#Statistical graphs and interfrence:\n",
    "# distribution graphs -\n",
    "# box plot -\n",
    "# Hpotheysis testing\n",
    "# Colinearity \n",
    "# co-relation heat map\n",
    "# skewness and kurtosis - done (a function to be return to confirm in numbers)\n",
    "# outliers and anamoly detections\n",
    "# \n",
    "\n",
    "#column types:\n",
    "# Category: \n",
    "# page2_clothing_model\n",
    "# page1_main_category\n",
    "# colour\n",
    "# location\n",
    "# country\t\n",
    "# model_photography\n",
    "# price_2\n",
    "# page - it is continuous but just consider it as category for interpretation sake\n",
    "\n",
    "# Continuous:\n",
    "# page\n",
    "# price\n",
    "# order\n",
    "\n",
    "# Time series:\n",
    "# month\n",
    "# day\n",
    "\n",
    "# constant:\n",
    "# year\n",
    "\n",
    "# uniques:\n",
    "\n",
    "# Target (dependent):\n",
    "# Price_2 for classification - consider it as the order bought or viewed \n",
    "# Price for regression\n",
    "\n",
    " \n",
    "\n",
    "#Data understanding - observation\n",
    "#no duplicates\n",
    "#no null\n",
    "#Session ids are unique and it cant be considered for the customer id\n",
    "#page2_clothing_model -only object type - rest all int\n",
    "#Encoding required for : page2_clothing_model \n",
    "\n",
    "# will be using target encoding and frequency encoding for the page2_clothng_model column - refer one note\n",
    "\n"
   ]
  },
  {
   "cell_type": "code",
   "execution_count": null,
   "id": "5bff00df",
   "metadata": {},
   "outputs": [],
   "source": [
    "# distribution graphs\n",
    "numerical_features = ['page', 'price','order']\n",
    "Categorical_features = ['page2_clothing_model', 'page1_main_category', 'colour', 'location', 'country', 'model_photography', 'price_2']"
   ]
  },
  {
   "cell_type": "markdown",
   "id": "fef60da0",
   "metadata": {},
   "source": [
    "EDA - Time Series\n",
    "**STICK WITH BASICS - 10 graphs are enough**"
   ]
  },
  {
   "cell_type": "code",
   "execution_count": 8,
   "id": "13633f8d",
   "metadata": {},
   "outputs": [
    {
     "data": {
      "text/html": [
       "<div>\n",
       "<style scoped>\n",
       "    .dataframe tbody tr th:only-of-type {\n",
       "        vertical-align: middle;\n",
       "    }\n",
       "\n",
       "    .dataframe tbody tr th {\n",
       "        vertical-align: top;\n",
       "    }\n",
       "\n",
       "    .dataframe thead th {\n",
       "        text-align: right;\n",
       "    }\n",
       "</style>\n",
       "<table border=\"1\" class=\"dataframe\">\n",
       "  <thead>\n",
       "    <tr style=\"text-align: right;\">\n",
       "      <th></th>\n",
       "      <th>day</th>\n",
       "      <th>price</th>\n",
       "    </tr>\n",
       "  </thead>\n",
       "  <tbody>\n",
       "    <tr>\n",
       "      <th>0</th>\n",
       "      <td>1</td>\n",
       "      <td>247045</td>\n",
       "    </tr>\n",
       "    <tr>\n",
       "      <th>1</th>\n",
       "      <td>2</td>\n",
       "      <td>255177</td>\n",
       "    </tr>\n",
       "    <tr>\n",
       "      <th>2</th>\n",
       "      <td>3</td>\n",
       "      <td>212190</td>\n",
       "    </tr>\n",
       "    <tr>\n",
       "      <th>3</th>\n",
       "      <td>4</td>\n",
       "      <td>226584</td>\n",
       "    </tr>\n",
       "    <tr>\n",
       "      <th>4</th>\n",
       "      <td>5</td>\n",
       "      <td>219109</td>\n",
       "    </tr>\n",
       "  </tbody>\n",
       "</table>\n",
       "</div>"
      ],
      "text/plain": [
       "   day   price\n",
       "0    1  247045\n",
       "1    2  255177\n",
       "2    3  212190\n",
       "3    4  226584\n",
       "4    5  219109"
      ]
     },
     "execution_count": 8,
     "metadata": {},
     "output_type": "execute_result"
    }
   ],
   "source": [
    "daily_sales_df = data.groupby('day')['price'].sum().reset_index()\n",
    "daily_sales_df.head()"
   ]
  },
  {
   "cell_type": "code",
   "execution_count": null,
   "id": "ed80324b",
   "metadata": {},
   "outputs": [
    {
     "data": {
      "application/vnd.plotly.v1+json": {
       "config": {
        "plotlyServerURL": "https://plot.ly"
       },
       "data": [
        {
         "hovertemplate": "day=%{x}<br>price=%{y}<extra></extra>",
         "legendgroup": "",
         "line": {
          "color": "#636efa",
          "dash": "solid"
         },
         "marker": {
          "symbol": "circle"
         },
         "mode": "lines",
         "name": "",
         "orientation": "v",
         "showlegend": false,
         "type": "scatter",
         "x": {
          "bdata": "AQIDBAUGBwgJCgsMDQ4PEBESExQVFhcYGRobHB0eHw==",
          "dtype": "i1"
         },
         "xaxis": "x",
         "y": {
          "bdata": "BcUDAMnkAwDePAMAGHUDAOVXAwDvVwMAuE8DABWOAwCHOwMAG1EDADxmAwB5TAMAyFECAJXlAgDLdAIAARADANy2AgBLiAIABoQCAFdvAgDdsQIAL5ECAGjCAgBhswIA/IcCAF0yAgABPgIATH4CAH7kAgBNTwIAbvgAAA==",
          "dtype": "i4"
         },
         "yaxis": "y"
        }
       ],
       "layout": {
        "legend": {
         "tracegroupgap": 0
        },
        "template": {
         "data": {
          "bar": [
           {
            "error_x": {
             "color": "#2a3f5f"
            },
            "error_y": {
             "color": "#2a3f5f"
            },
            "marker": {
             "line": {
              "color": "#E5ECF6",
              "width": 0.5
             },
             "pattern": {
              "fillmode": "overlay",
              "size": 10,
              "solidity": 0.2
             }
            },
            "type": "bar"
           }
          ],
          "barpolar": [
           {
            "marker": {
             "line": {
              "color": "#E5ECF6",
              "width": 0.5
             },
             "pattern": {
              "fillmode": "overlay",
              "size": 10,
              "solidity": 0.2
             }
            },
            "type": "barpolar"
           }
          ],
          "carpet": [
           {
            "aaxis": {
             "endlinecolor": "#2a3f5f",
             "gridcolor": "white",
             "linecolor": "white",
             "minorgridcolor": "white",
             "startlinecolor": "#2a3f5f"
            },
            "baxis": {
             "endlinecolor": "#2a3f5f",
             "gridcolor": "white",
             "linecolor": "white",
             "minorgridcolor": "white",
             "startlinecolor": "#2a3f5f"
            },
            "type": "carpet"
           }
          ],
          "choropleth": [
           {
            "colorbar": {
             "outlinewidth": 0,
             "ticks": ""
            },
            "type": "choropleth"
           }
          ],
          "contour": [
           {
            "colorbar": {
             "outlinewidth": 0,
             "ticks": ""
            },
            "colorscale": [
             [
              0,
              "#0d0887"
             ],
             [
              0.1111111111111111,
              "#46039f"
             ],
             [
              0.2222222222222222,
              "#7201a8"
             ],
             [
              0.3333333333333333,
              "#9c179e"
             ],
             [
              0.4444444444444444,
              "#bd3786"
             ],
             [
              0.5555555555555556,
              "#d8576b"
             ],
             [
              0.6666666666666666,
              "#ed7953"
             ],
             [
              0.7777777777777778,
              "#fb9f3a"
             ],
             [
              0.8888888888888888,
              "#fdca26"
             ],
             [
              1,
              "#f0f921"
             ]
            ],
            "type": "contour"
           }
          ],
          "contourcarpet": [
           {
            "colorbar": {
             "outlinewidth": 0,
             "ticks": ""
            },
            "type": "contourcarpet"
           }
          ],
          "heatmap": [
           {
            "colorbar": {
             "outlinewidth": 0,
             "ticks": ""
            },
            "colorscale": [
             [
              0,
              "#0d0887"
             ],
             [
              0.1111111111111111,
              "#46039f"
             ],
             [
              0.2222222222222222,
              "#7201a8"
             ],
             [
              0.3333333333333333,
              "#9c179e"
             ],
             [
              0.4444444444444444,
              "#bd3786"
             ],
             [
              0.5555555555555556,
              "#d8576b"
             ],
             [
              0.6666666666666666,
              "#ed7953"
             ],
             [
              0.7777777777777778,
              "#fb9f3a"
             ],
             [
              0.8888888888888888,
              "#fdca26"
             ],
             [
              1,
              "#f0f921"
             ]
            ],
            "type": "heatmap"
           }
          ],
          "histogram": [
           {
            "marker": {
             "pattern": {
              "fillmode": "overlay",
              "size": 10,
              "solidity": 0.2
             }
            },
            "type": "histogram"
           }
          ],
          "histogram2d": [
           {
            "colorbar": {
             "outlinewidth": 0,
             "ticks": ""
            },
            "colorscale": [
             [
              0,
              "#0d0887"
             ],
             [
              0.1111111111111111,
              "#46039f"
             ],
             [
              0.2222222222222222,
              "#7201a8"
             ],
             [
              0.3333333333333333,
              "#9c179e"
             ],
             [
              0.4444444444444444,
              "#bd3786"
             ],
             [
              0.5555555555555556,
              "#d8576b"
             ],
             [
              0.6666666666666666,
              "#ed7953"
             ],
             [
              0.7777777777777778,
              "#fb9f3a"
             ],
             [
              0.8888888888888888,
              "#fdca26"
             ],
             [
              1,
              "#f0f921"
             ]
            ],
            "type": "histogram2d"
           }
          ],
          "histogram2dcontour": [
           {
            "colorbar": {
             "outlinewidth": 0,
             "ticks": ""
            },
            "colorscale": [
             [
              0,
              "#0d0887"
             ],
             [
              0.1111111111111111,
              "#46039f"
             ],
             [
              0.2222222222222222,
              "#7201a8"
             ],
             [
              0.3333333333333333,
              "#9c179e"
             ],
             [
              0.4444444444444444,
              "#bd3786"
             ],
             [
              0.5555555555555556,
              "#d8576b"
             ],
             [
              0.6666666666666666,
              "#ed7953"
             ],
             [
              0.7777777777777778,
              "#fb9f3a"
             ],
             [
              0.8888888888888888,
              "#fdca26"
             ],
             [
              1,
              "#f0f921"
             ]
            ],
            "type": "histogram2dcontour"
           }
          ],
          "mesh3d": [
           {
            "colorbar": {
             "outlinewidth": 0,
             "ticks": ""
            },
            "type": "mesh3d"
           }
          ],
          "parcoords": [
           {
            "line": {
             "colorbar": {
              "outlinewidth": 0,
              "ticks": ""
             }
            },
            "type": "parcoords"
           }
          ],
          "pie": [
           {
            "automargin": true,
            "type": "pie"
           }
          ],
          "scatter": [
           {
            "fillpattern": {
             "fillmode": "overlay",
             "size": 10,
             "solidity": 0.2
            },
            "type": "scatter"
           }
          ],
          "scatter3d": [
           {
            "line": {
             "colorbar": {
              "outlinewidth": 0,
              "ticks": ""
             }
            },
            "marker": {
             "colorbar": {
              "outlinewidth": 0,
              "ticks": ""
             }
            },
            "type": "scatter3d"
           }
          ],
          "scattercarpet": [
           {
            "marker": {
             "colorbar": {
              "outlinewidth": 0,
              "ticks": ""
             }
            },
            "type": "scattercarpet"
           }
          ],
          "scattergeo": [
           {
            "marker": {
             "colorbar": {
              "outlinewidth": 0,
              "ticks": ""
             }
            },
            "type": "scattergeo"
           }
          ],
          "scattergl": [
           {
            "marker": {
             "colorbar": {
              "outlinewidth": 0,
              "ticks": ""
             }
            },
            "type": "scattergl"
           }
          ],
          "scattermap": [
           {
            "marker": {
             "colorbar": {
              "outlinewidth": 0,
              "ticks": ""
             }
            },
            "type": "scattermap"
           }
          ],
          "scattermapbox": [
           {
            "marker": {
             "colorbar": {
              "outlinewidth": 0,
              "ticks": ""
             }
            },
            "type": "scattermapbox"
           }
          ],
          "scatterpolar": [
           {
            "marker": {
             "colorbar": {
              "outlinewidth": 0,
              "ticks": ""
             }
            },
            "type": "scatterpolar"
           }
          ],
          "scatterpolargl": [
           {
            "marker": {
             "colorbar": {
              "outlinewidth": 0,
              "ticks": ""
             }
            },
            "type": "scatterpolargl"
           }
          ],
          "scatterternary": [
           {
            "marker": {
             "colorbar": {
              "outlinewidth": 0,
              "ticks": ""
             }
            },
            "type": "scatterternary"
           }
          ],
          "surface": [
           {
            "colorbar": {
             "outlinewidth": 0,
             "ticks": ""
            },
            "colorscale": [
             [
              0,
              "#0d0887"
             ],
             [
              0.1111111111111111,
              "#46039f"
             ],
             [
              0.2222222222222222,
              "#7201a8"
             ],
             [
              0.3333333333333333,
              "#9c179e"
             ],
             [
              0.4444444444444444,
              "#bd3786"
             ],
             [
              0.5555555555555556,
              "#d8576b"
             ],
             [
              0.6666666666666666,
              "#ed7953"
             ],
             [
              0.7777777777777778,
              "#fb9f3a"
             ],
             [
              0.8888888888888888,
              "#fdca26"
             ],
             [
              1,
              "#f0f921"
             ]
            ],
            "type": "surface"
           }
          ],
          "table": [
           {
            "cells": {
             "fill": {
              "color": "#EBF0F8"
             },
             "line": {
              "color": "white"
             }
            },
            "header": {
             "fill": {
              "color": "#C8D4E3"
             },
             "line": {
              "color": "white"
             }
            },
            "type": "table"
           }
          ]
         },
         "layout": {
          "annotationdefaults": {
           "arrowcolor": "#2a3f5f",
           "arrowhead": 0,
           "arrowwidth": 1
          },
          "autotypenumbers": "strict",
          "coloraxis": {
           "colorbar": {
            "outlinewidth": 0,
            "ticks": ""
           }
          },
          "colorscale": {
           "diverging": [
            [
             0,
             "#8e0152"
            ],
            [
             0.1,
             "#c51b7d"
            ],
            [
             0.2,
             "#de77ae"
            ],
            [
             0.3,
             "#f1b6da"
            ],
            [
             0.4,
             "#fde0ef"
            ],
            [
             0.5,
             "#f7f7f7"
            ],
            [
             0.6,
             "#e6f5d0"
            ],
            [
             0.7,
             "#b8e186"
            ],
            [
             0.8,
             "#7fbc41"
            ],
            [
             0.9,
             "#4d9221"
            ],
            [
             1,
             "#276419"
            ]
           ],
           "sequential": [
            [
             0,
             "#0d0887"
            ],
            [
             0.1111111111111111,
             "#46039f"
            ],
            [
             0.2222222222222222,
             "#7201a8"
            ],
            [
             0.3333333333333333,
             "#9c179e"
            ],
            [
             0.4444444444444444,
             "#bd3786"
            ],
            [
             0.5555555555555556,
             "#d8576b"
            ],
            [
             0.6666666666666666,
             "#ed7953"
            ],
            [
             0.7777777777777778,
             "#fb9f3a"
            ],
            [
             0.8888888888888888,
             "#fdca26"
            ],
            [
             1,
             "#f0f921"
            ]
           ],
           "sequentialminus": [
            [
             0,
             "#0d0887"
            ],
            [
             0.1111111111111111,
             "#46039f"
            ],
            [
             0.2222222222222222,
             "#7201a8"
            ],
            [
             0.3333333333333333,
             "#9c179e"
            ],
            [
             0.4444444444444444,
             "#bd3786"
            ],
            [
             0.5555555555555556,
             "#d8576b"
            ],
            [
             0.6666666666666666,
             "#ed7953"
            ],
            [
             0.7777777777777778,
             "#fb9f3a"
            ],
            [
             0.8888888888888888,
             "#fdca26"
            ],
            [
             1,
             "#f0f921"
            ]
           ]
          },
          "colorway": [
           "#636efa",
           "#EF553B",
           "#00cc96",
           "#ab63fa",
           "#FFA15A",
           "#19d3f3",
           "#FF6692",
           "#B6E880",
           "#FF97FF",
           "#FECB52"
          ],
          "font": {
           "color": "#2a3f5f"
          },
          "geo": {
           "bgcolor": "white",
           "lakecolor": "white",
           "landcolor": "#E5ECF6",
           "showlakes": true,
           "showland": true,
           "subunitcolor": "white"
          },
          "hoverlabel": {
           "align": "left"
          },
          "hovermode": "closest",
          "mapbox": {
           "style": "light"
          },
          "paper_bgcolor": "white",
          "plot_bgcolor": "#E5ECF6",
          "polar": {
           "angularaxis": {
            "gridcolor": "white",
            "linecolor": "white",
            "ticks": ""
           },
           "bgcolor": "#E5ECF6",
           "radialaxis": {
            "gridcolor": "white",
            "linecolor": "white",
            "ticks": ""
           }
          },
          "scene": {
           "xaxis": {
            "backgroundcolor": "#E5ECF6",
            "gridcolor": "white",
            "gridwidth": 2,
            "linecolor": "white",
            "showbackground": true,
            "ticks": "",
            "zerolinecolor": "white"
           },
           "yaxis": {
            "backgroundcolor": "#E5ECF6",
            "gridcolor": "white",
            "gridwidth": 2,
            "linecolor": "white",
            "showbackground": true,
            "ticks": "",
            "zerolinecolor": "white"
           },
           "zaxis": {
            "backgroundcolor": "#E5ECF6",
            "gridcolor": "white",
            "gridwidth": 2,
            "linecolor": "white",
            "showbackground": true,
            "ticks": "",
            "zerolinecolor": "white"
           }
          },
          "shapedefaults": {
           "line": {
            "color": "#2a3f5f"
           }
          },
          "ternary": {
           "aaxis": {
            "gridcolor": "white",
            "linecolor": "white",
            "ticks": ""
           },
           "baxis": {
            "gridcolor": "white",
            "linecolor": "white",
            "ticks": ""
           },
           "bgcolor": "#E5ECF6",
           "caxis": {
            "gridcolor": "white",
            "linecolor": "white",
            "ticks": ""
           }
          },
          "title": {
           "x": 0.05
          },
          "xaxis": {
           "automargin": true,
           "gridcolor": "white",
           "linecolor": "white",
           "ticks": "",
           "title": {
            "standoff": 15
           },
           "zerolinecolor": "white",
           "zerolinewidth": 2
          },
          "yaxis": {
           "automargin": true,
           "gridcolor": "white",
           "linecolor": "white",
           "ticks": "",
           "title": {
            "standoff": 15
           },
           "zerolinecolor": "white",
           "zerolinewidth": 2
          }
         }
        },
        "title": {
         "text": "daily sales trend"
        },
        "xaxis": {
         "anchor": "y",
         "domain": [
          0,
          1
         ],
         "title": {
          "text": "day"
         }
        },
        "yaxis": {
         "anchor": "x",
         "domain": [
          0,
          1
         ],
         "title": {
          "text": "price"
         }
        }
       }
      }
     },
     "metadata": {},
     "output_type": "display_data"
    }
   ],
   "source": [
    "fig = px.line( \n",
    "    daily_sales_df,\n",
    "    x='day',\n",
    "    y = 'price',\n",
    "    title= 'daily sales trend'\n",
    ")\n",
    "\n",
    "fig.show()"
   ]
  },
  {
   "cell_type": "code",
   "execution_count": null,
   "id": "fe2265f3",
   "metadata": {},
   "outputs": [
    {
     "data": {
      "text/html": [
       "<div>\n",
       "<style scoped>\n",
       "    .dataframe tbody tr th:only-of-type {\n",
       "        vertical-align: middle;\n",
       "    }\n",
       "\n",
       "    .dataframe tbody tr th {\n",
       "        vertical-align: top;\n",
       "    }\n",
       "\n",
       "    .dataframe thead th {\n",
       "        text-align: right;\n",
       "    }\n",
       "</style>\n",
       "<table border=\"1\" class=\"dataframe\">\n",
       "  <thead>\n",
       "    <tr style=\"text-align: right;\">\n",
       "      <th></th>\n",
       "      <th>day</th>\n",
       "      <th>price_2</th>\n",
       "      <th>price</th>\n",
       "      <th>status</th>\n",
       "    </tr>\n",
       "  </thead>\n",
       "  <tbody>\n",
       "    <tr>\n",
       "      <th>0</th>\n",
       "      <td>1</td>\n",
       "      <td>1</td>\n",
       "      <td>154004</td>\n",
       "      <td>jsut viewed</td>\n",
       "    </tr>\n",
       "    <tr>\n",
       "      <th>1</th>\n",
       "      <td>1</td>\n",
       "      <td>2</td>\n",
       "      <td>93041</td>\n",
       "      <td>bought</td>\n",
       "    </tr>\n",
       "    <tr>\n",
       "      <th>2</th>\n",
       "      <td>2</td>\n",
       "      <td>1</td>\n",
       "      <td>159138</td>\n",
       "      <td>jsut viewed</td>\n",
       "    </tr>\n",
       "    <tr>\n",
       "      <th>3</th>\n",
       "      <td>2</td>\n",
       "      <td>2</td>\n",
       "      <td>96039</td>\n",
       "      <td>bought</td>\n",
       "    </tr>\n",
       "    <tr>\n",
       "      <th>4</th>\n",
       "      <td>3</td>\n",
       "      <td>1</td>\n",
       "      <td>130341</td>\n",
       "      <td>jsut viewed</td>\n",
       "    </tr>\n",
       "  </tbody>\n",
       "</table>\n",
       "</div>"
      ],
      "text/plain": [
       "   day  price_2   price       status\n",
       "0    1        1  154004  jsut viewed\n",
       "1    1        2   93041       bought\n",
       "2    2        1  159138  jsut viewed\n",
       "3    2        2   96039       bought\n",
       "4    3        1  130341  jsut viewed"
      ]
     },
     "execution_count": 17,
     "metadata": {},
     "output_type": "execute_result"
    }
   ],
   "source": [
    "# d_sales_stat = data.groupby(['day','price_2'])['price'].sum().reset_index()\n",
    "d_sales_stat['status'] = d_sales_stat['price_2'].map({1: \"jsut viewed\", 2: \"bought\"})\n",
    "d_sales_stat['total'] = daily_sales_df[]\n",
    "d_sales_stat.head()\n"
   ]
  },
  {
   "cell_type": "code",
   "execution_count": 16,
   "id": "8b47e481",
   "metadata": {},
   "outputs": [
    {
     "data": {
      "application/vnd.plotly.v1+json": {
       "config": {
        "plotlyServerURL": "https://plot.ly"
       },
       "data": [
        {
         "hovertemplate": "price_2=1<br>day=%{x}<br>price=%{y}<extra></extra>",
         "legendgroup": "1",
         "line": {
          "color": "#636efa",
          "dash": "solid"
         },
         "marker": {
          "symbol": "circle"
         },
         "mode": "lines+markers",
         "name": "1",
         "orientation": "v",
         "showlegend": true,
         "type": "scatter",
         "x": {
          "bdata": "AQIDBAUGBwgJCgsMDQ4PEBESExQVFhcYGRobHB0eHw==",
          "dtype": "i1"
         },
         "xaxis": "x",
         "y": {
          "bdata": "lFkCAKJtAgAl/QEAASgCAPgWAgAjEwIAnhICAMAyAgAIAwIAeQcCAH0UAgBdCgIArGgBAOPKAQCDewEA/uABAOipAQD6kQEAGokBAIaDAQAvqgEAy6ABAPmwAQAnowEAEYsBADpeAQDvZgEAT4oBAG7DAQCecgEAgZkAAA==",
          "dtype": "i4"
         },
         "yaxis": "y"
        },
        {
         "hovertemplate": "price_2=2<br>day=%{x}<br>price=%{y}<extra></extra>",
         "legendgroup": "2",
         "line": {
          "color": "#EF553B",
          "dash": "solid"
         },
         "marker": {
          "symbol": "circle"
         },
         "mode": "lines+markers",
         "name": "2",
         "orientation": "v",
         "showlegend": true,
         "type": "scatter",
         "x": {
          "bdata": "AQIDBAUGBwgJCgsMDQ4PEBESExQVFhcYGRobHB0eHw==",
          "dtype": "i1"
         },
         "xaxis": "x",
         "y": {
          "bdata": "cWsBACd3AQC5PwEAF00BAO1AAQDMRAEAGj0BAFVbAQB/OAEAokkBAL9RAQAcQgEAHOkAALIaAQBI+QAAAy8BAPQMAQBR9gAA7PoAANHrAACuBwEAZPAAAG8RAQA6EAEA6/wAACPUAAAS1wAA/fMAABAhAQCv3AAA7V4AAA==",
          "dtype": "i4"
         },
         "yaxis": "y"
        }
       ],
       "layout": {
        "legend": {
         "title": {
          "text": "price_2"
         },
         "tracegroupgap": 0
        },
        "template": {
         "data": {
          "bar": [
           {
            "error_x": {
             "color": "#2a3f5f"
            },
            "error_y": {
             "color": "#2a3f5f"
            },
            "marker": {
             "line": {
              "color": "#E5ECF6",
              "width": 0.5
             },
             "pattern": {
              "fillmode": "overlay",
              "size": 10,
              "solidity": 0.2
             }
            },
            "type": "bar"
           }
          ],
          "barpolar": [
           {
            "marker": {
             "line": {
              "color": "#E5ECF6",
              "width": 0.5
             },
             "pattern": {
              "fillmode": "overlay",
              "size": 10,
              "solidity": 0.2
             }
            },
            "type": "barpolar"
           }
          ],
          "carpet": [
           {
            "aaxis": {
             "endlinecolor": "#2a3f5f",
             "gridcolor": "white",
             "linecolor": "white",
             "minorgridcolor": "white",
             "startlinecolor": "#2a3f5f"
            },
            "baxis": {
             "endlinecolor": "#2a3f5f",
             "gridcolor": "white",
             "linecolor": "white",
             "minorgridcolor": "white",
             "startlinecolor": "#2a3f5f"
            },
            "type": "carpet"
           }
          ],
          "choropleth": [
           {
            "colorbar": {
             "outlinewidth": 0,
             "ticks": ""
            },
            "type": "choropleth"
           }
          ],
          "contour": [
           {
            "colorbar": {
             "outlinewidth": 0,
             "ticks": ""
            },
            "colorscale": [
             [
              0,
              "#0d0887"
             ],
             [
              0.1111111111111111,
              "#46039f"
             ],
             [
              0.2222222222222222,
              "#7201a8"
             ],
             [
              0.3333333333333333,
              "#9c179e"
             ],
             [
              0.4444444444444444,
              "#bd3786"
             ],
             [
              0.5555555555555556,
              "#d8576b"
             ],
             [
              0.6666666666666666,
              "#ed7953"
             ],
             [
              0.7777777777777778,
              "#fb9f3a"
             ],
             [
              0.8888888888888888,
              "#fdca26"
             ],
             [
              1,
              "#f0f921"
             ]
            ],
            "type": "contour"
           }
          ],
          "contourcarpet": [
           {
            "colorbar": {
             "outlinewidth": 0,
             "ticks": ""
            },
            "type": "contourcarpet"
           }
          ],
          "heatmap": [
           {
            "colorbar": {
             "outlinewidth": 0,
             "ticks": ""
            },
            "colorscale": [
             [
              0,
              "#0d0887"
             ],
             [
              0.1111111111111111,
              "#46039f"
             ],
             [
              0.2222222222222222,
              "#7201a8"
             ],
             [
              0.3333333333333333,
              "#9c179e"
             ],
             [
              0.4444444444444444,
              "#bd3786"
             ],
             [
              0.5555555555555556,
              "#d8576b"
             ],
             [
              0.6666666666666666,
              "#ed7953"
             ],
             [
              0.7777777777777778,
              "#fb9f3a"
             ],
             [
              0.8888888888888888,
              "#fdca26"
             ],
             [
              1,
              "#f0f921"
             ]
            ],
            "type": "heatmap"
           }
          ],
          "histogram": [
           {
            "marker": {
             "pattern": {
              "fillmode": "overlay",
              "size": 10,
              "solidity": 0.2
             }
            },
            "type": "histogram"
           }
          ],
          "histogram2d": [
           {
            "colorbar": {
             "outlinewidth": 0,
             "ticks": ""
            },
            "colorscale": [
             [
              0,
              "#0d0887"
             ],
             [
              0.1111111111111111,
              "#46039f"
             ],
             [
              0.2222222222222222,
              "#7201a8"
             ],
             [
              0.3333333333333333,
              "#9c179e"
             ],
             [
              0.4444444444444444,
              "#bd3786"
             ],
             [
              0.5555555555555556,
              "#d8576b"
             ],
             [
              0.6666666666666666,
              "#ed7953"
             ],
             [
              0.7777777777777778,
              "#fb9f3a"
             ],
             [
              0.8888888888888888,
              "#fdca26"
             ],
             [
              1,
              "#f0f921"
             ]
            ],
            "type": "histogram2d"
           }
          ],
          "histogram2dcontour": [
           {
            "colorbar": {
             "outlinewidth": 0,
             "ticks": ""
            },
            "colorscale": [
             [
              0,
              "#0d0887"
             ],
             [
              0.1111111111111111,
              "#46039f"
             ],
             [
              0.2222222222222222,
              "#7201a8"
             ],
             [
              0.3333333333333333,
              "#9c179e"
             ],
             [
              0.4444444444444444,
              "#bd3786"
             ],
             [
              0.5555555555555556,
              "#d8576b"
             ],
             [
              0.6666666666666666,
              "#ed7953"
             ],
             [
              0.7777777777777778,
              "#fb9f3a"
             ],
             [
              0.8888888888888888,
              "#fdca26"
             ],
             [
              1,
              "#f0f921"
             ]
            ],
            "type": "histogram2dcontour"
           }
          ],
          "mesh3d": [
           {
            "colorbar": {
             "outlinewidth": 0,
             "ticks": ""
            },
            "type": "mesh3d"
           }
          ],
          "parcoords": [
           {
            "line": {
             "colorbar": {
              "outlinewidth": 0,
              "ticks": ""
             }
            },
            "type": "parcoords"
           }
          ],
          "pie": [
           {
            "automargin": true,
            "type": "pie"
           }
          ],
          "scatter": [
           {
            "fillpattern": {
             "fillmode": "overlay",
             "size": 10,
             "solidity": 0.2
            },
            "type": "scatter"
           }
          ],
          "scatter3d": [
           {
            "line": {
             "colorbar": {
              "outlinewidth": 0,
              "ticks": ""
             }
            },
            "marker": {
             "colorbar": {
              "outlinewidth": 0,
              "ticks": ""
             }
            },
            "type": "scatter3d"
           }
          ],
          "scattercarpet": [
           {
            "marker": {
             "colorbar": {
              "outlinewidth": 0,
              "ticks": ""
             }
            },
            "type": "scattercarpet"
           }
          ],
          "scattergeo": [
           {
            "marker": {
             "colorbar": {
              "outlinewidth": 0,
              "ticks": ""
             }
            },
            "type": "scattergeo"
           }
          ],
          "scattergl": [
           {
            "marker": {
             "colorbar": {
              "outlinewidth": 0,
              "ticks": ""
             }
            },
            "type": "scattergl"
           }
          ],
          "scattermap": [
           {
            "marker": {
             "colorbar": {
              "outlinewidth": 0,
              "ticks": ""
             }
            },
            "type": "scattermap"
           }
          ],
          "scattermapbox": [
           {
            "marker": {
             "colorbar": {
              "outlinewidth": 0,
              "ticks": ""
             }
            },
            "type": "scattermapbox"
           }
          ],
          "scatterpolar": [
           {
            "marker": {
             "colorbar": {
              "outlinewidth": 0,
              "ticks": ""
             }
            },
            "type": "scatterpolar"
           }
          ],
          "scatterpolargl": [
           {
            "marker": {
             "colorbar": {
              "outlinewidth": 0,
              "ticks": ""
             }
            },
            "type": "scatterpolargl"
           }
          ],
          "scatterternary": [
           {
            "marker": {
             "colorbar": {
              "outlinewidth": 0,
              "ticks": ""
             }
            },
            "type": "scatterternary"
           }
          ],
          "surface": [
           {
            "colorbar": {
             "outlinewidth": 0,
             "ticks": ""
            },
            "colorscale": [
             [
              0,
              "#0d0887"
             ],
             [
              0.1111111111111111,
              "#46039f"
             ],
             [
              0.2222222222222222,
              "#7201a8"
             ],
             [
              0.3333333333333333,
              "#9c179e"
             ],
             [
              0.4444444444444444,
              "#bd3786"
             ],
             [
              0.5555555555555556,
              "#d8576b"
             ],
             [
              0.6666666666666666,
              "#ed7953"
             ],
             [
              0.7777777777777778,
              "#fb9f3a"
             ],
             [
              0.8888888888888888,
              "#fdca26"
             ],
             [
              1,
              "#f0f921"
             ]
            ],
            "type": "surface"
           }
          ],
          "table": [
           {
            "cells": {
             "fill": {
              "color": "#EBF0F8"
             },
             "line": {
              "color": "white"
             }
            },
            "header": {
             "fill": {
              "color": "#C8D4E3"
             },
             "line": {
              "color": "white"
             }
            },
            "type": "table"
           }
          ]
         },
         "layout": {
          "annotationdefaults": {
           "arrowcolor": "#2a3f5f",
           "arrowhead": 0,
           "arrowwidth": 1
          },
          "autotypenumbers": "strict",
          "coloraxis": {
           "colorbar": {
            "outlinewidth": 0,
            "ticks": ""
           }
          },
          "colorscale": {
           "diverging": [
            [
             0,
             "#8e0152"
            ],
            [
             0.1,
             "#c51b7d"
            ],
            [
             0.2,
             "#de77ae"
            ],
            [
             0.3,
             "#f1b6da"
            ],
            [
             0.4,
             "#fde0ef"
            ],
            [
             0.5,
             "#f7f7f7"
            ],
            [
             0.6,
             "#e6f5d0"
            ],
            [
             0.7,
             "#b8e186"
            ],
            [
             0.8,
             "#7fbc41"
            ],
            [
             0.9,
             "#4d9221"
            ],
            [
             1,
             "#276419"
            ]
           ],
           "sequential": [
            [
             0,
             "#0d0887"
            ],
            [
             0.1111111111111111,
             "#46039f"
            ],
            [
             0.2222222222222222,
             "#7201a8"
            ],
            [
             0.3333333333333333,
             "#9c179e"
            ],
            [
             0.4444444444444444,
             "#bd3786"
            ],
            [
             0.5555555555555556,
             "#d8576b"
            ],
            [
             0.6666666666666666,
             "#ed7953"
            ],
            [
             0.7777777777777778,
             "#fb9f3a"
            ],
            [
             0.8888888888888888,
             "#fdca26"
            ],
            [
             1,
             "#f0f921"
            ]
           ],
           "sequentialminus": [
            [
             0,
             "#0d0887"
            ],
            [
             0.1111111111111111,
             "#46039f"
            ],
            [
             0.2222222222222222,
             "#7201a8"
            ],
            [
             0.3333333333333333,
             "#9c179e"
            ],
            [
             0.4444444444444444,
             "#bd3786"
            ],
            [
             0.5555555555555556,
             "#d8576b"
            ],
            [
             0.6666666666666666,
             "#ed7953"
            ],
            [
             0.7777777777777778,
             "#fb9f3a"
            ],
            [
             0.8888888888888888,
             "#fdca26"
            ],
            [
             1,
             "#f0f921"
            ]
           ]
          },
          "colorway": [
           "#636efa",
           "#EF553B",
           "#00cc96",
           "#ab63fa",
           "#FFA15A",
           "#19d3f3",
           "#FF6692",
           "#B6E880",
           "#FF97FF",
           "#FECB52"
          ],
          "font": {
           "color": "#2a3f5f"
          },
          "geo": {
           "bgcolor": "white",
           "lakecolor": "white",
           "landcolor": "#E5ECF6",
           "showlakes": true,
           "showland": true,
           "subunitcolor": "white"
          },
          "hoverlabel": {
           "align": "left"
          },
          "hovermode": "closest",
          "mapbox": {
           "style": "light"
          },
          "paper_bgcolor": "white",
          "plot_bgcolor": "#E5ECF6",
          "polar": {
           "angularaxis": {
            "gridcolor": "white",
            "linecolor": "white",
            "ticks": ""
           },
           "bgcolor": "#E5ECF6",
           "radialaxis": {
            "gridcolor": "white",
            "linecolor": "white",
            "ticks": ""
           }
          },
          "scene": {
           "xaxis": {
            "backgroundcolor": "#E5ECF6",
            "gridcolor": "white",
            "gridwidth": 2,
            "linecolor": "white",
            "showbackground": true,
            "ticks": "",
            "zerolinecolor": "white"
           },
           "yaxis": {
            "backgroundcolor": "#E5ECF6",
            "gridcolor": "white",
            "gridwidth": 2,
            "linecolor": "white",
            "showbackground": true,
            "ticks": "",
            "zerolinecolor": "white"
           },
           "zaxis": {
            "backgroundcolor": "#E5ECF6",
            "gridcolor": "white",
            "gridwidth": 2,
            "linecolor": "white",
            "showbackground": true,
            "ticks": "",
            "zerolinecolor": "white"
           }
          },
          "shapedefaults": {
           "line": {
            "color": "#2a3f5f"
           }
          },
          "ternary": {
           "aaxis": {
            "gridcolor": "white",
            "linecolor": "white",
            "ticks": ""
           },
           "baxis": {
            "gridcolor": "white",
            "linecolor": "white",
            "ticks": ""
           },
           "bgcolor": "#E5ECF6",
           "caxis": {
            "gridcolor": "white",
            "linecolor": "white",
            "ticks": ""
           }
          },
          "title": {
           "x": 0.05
          },
          "xaxis": {
           "automargin": true,
           "gridcolor": "white",
           "linecolor": "white",
           "ticks": "",
           "title": {
            "standoff": 15
           },
           "zerolinecolor": "white",
           "zerolinewidth": 2
          },
          "yaxis": {
           "automargin": true,
           "gridcolor": "white",
           "linecolor": "white",
           "ticks": "",
           "title": {
            "standoff": 15
           },
           "zerolinecolor": "white",
           "zerolinewidth": 2
          }
         }
        },
        "title": {
         "text": "daily price trend viewed vs bought"
        },
        "xaxis": {
         "anchor": "y",
         "domain": [
          0,
          1
         ],
         "title": {
          "text": "day"
         }
        },
        "yaxis": {
         "anchor": "x",
         "domain": [
          0,
          1
         ],
         "title": {
          "text": "price"
         }
        }
       }
      }
     },
     "metadata": {},
     "output_type": "display_data"
    }
   ],
   "source": [
    "fig = px.line(\n",
    "    d_sales_stat,\n",
    "    x='day',\n",
    "    y='price',\n",
    "    color='price_2',\n",
    "    title= 'daily price trend viewed vs bought'\n",
    ")\n",
    "fig.update_traces(mode = 'lines+markers')\n",
    "fig.show()"
   ]
  },
  {
   "cell_type": "code",
   "execution_count": null,
   "id": "102be08f",
   "metadata": {},
   "outputs": [
    {
     "data": {
      "application/vnd.plotly.v1+json": {
       "config": {
        "plotlyServerURL": "https://plot.ly"
       },
       "data": [
        {
         "hovertemplate": "month=4<br>day=%{x}<br>total price=%{y}<br>Main Category=%{marker.color}<extra></extra>",
         "legendgroup": "",
         "marker": {
          "color": {
           "bdata": "AQIDBAECAwQBAgMEAQIDBAECAwQBAgMEAQIDBAECAwQBAgMEAQIDBAECAwQBAgMEAQIDBAECAwQBAgMEAQIDBAECAwQBAgMEAQIDBAECAwQBAgMEAQIDBAECAwQBAgMEAQIDBAECAwQBAgMEAQIDBAECAwQBAgME",
           "dtype": "i1"
          },
          "coloraxis": "coloraxis",
          "pattern": {
           "shape": ""
          }
         },
         "name": "",
         "orientation": "v",
         "showlegend": false,
         "textposition": "auto",
         "type": "bar",
         "x": {
          "bdata": "AQEBAQICAgIDAwMDBAQEBAUFBQUGBgYGBwcHBwgICAgJCQkJCgoKCgsLCwsMDAwMDQ0NDQ4ODg4PDw8PEBAQEBERERESEhISExMTExQUFBQVFRUVFhYWFhcXFxcYGBgYGRkZGRoaGhobGxsbHBwcHB0dHR0eHh4e",
          "dtype": "i1"
         },
         "xaxis": "x",
         "y": {
          "bdata": "wocAAIp+AAC6WwAAylEAANyEAAAXgQAAtm8AAKpkAAAKSQAABU4AAJswAABEOQAAilIAAD9DAADPMgAA3zAAAERRAADXLQAAfCcAAGMsAAAjPAAAYzUAAOoeAAD7JQAAr1oAAEFGAADyLQAAtSoAANFQAACCOgAAVjQAANUpAACePgAAfjYAAEEsAAAPLAAA9UoAAP5OAADTNAAAcCwAAA5AAAA/PgAA0TkAABArAADLNQAAkikAANMsAADLJgAAxyoAAL4gAACcGQAAWRsAALBRAAAnQAAA+jkAAOcsAADhQgAAVyoAAN0nAAAYLgAA00QAAAM8AAAwMAAAUzEAAG9TAADYNwAAWS0AAC8nAACiSQAAvjcAAOouAADDPAAARy4AAEk3AADnKwAALDcAAAwrAADzLgAAni0AAMonAABmSAAAiTYAAFgrAAAmMAAAijUAADo7AAAGLwAAhCgAAI1CAAB/NgAAdi0AAL8jAABGNwAAZzAAAOYeAABQHwAAQDQAAIUiAAAzGQAAvyAAAMEjAAA+GgAApyMAABwQAADrMgAAfC0AANUdAAAuEAAAL0AAAKU0AADUKwAAFCUAADlOAAA0PAAAUj0AALYqAAARNgAAeS4AACkhAAAvHgAA",
          "dtype": "i4"
         },
         "yaxis": "y"
        }
       ],
       "frames": [
        {
         "data": [
          {
           "hovertemplate": "month=4<br>day=%{x}<br>total price=%{y}<br>Main Category=%{marker.color}<extra></extra>",
           "legendgroup": "",
           "marker": {
            "color": {
             "bdata": "AQIDBAECAwQBAgMEAQIDBAECAwQBAgMEAQIDBAECAwQBAgMEAQIDBAECAwQBAgMEAQIDBAECAwQBAgMEAQIDBAECAwQBAgMEAQIDBAECAwQBAgMEAQIDBAECAwQBAgMEAQIDBAECAwQBAgMEAQIDBAECAwQBAgME",
             "dtype": "i1"
            },
            "coloraxis": "coloraxis",
            "pattern": {
             "shape": ""
            }
           },
           "name": "",
           "orientation": "v",
           "showlegend": false,
           "textposition": "auto",
           "type": "bar",
           "x": {
            "bdata": "AQEBAQICAgIDAwMDBAQEBAUFBQUGBgYGBwcHBwgICAgJCQkJCgoKCgsLCwsMDAwMDQ0NDQ4ODg4PDw8PEBAQEBERERESEhISExMTExQUFBQVFRUVFhYWFhcXFxcYGBgYGRkZGRoaGhobGxsbHBwcHB0dHR0eHh4e",
            "dtype": "i1"
           },
           "xaxis": "x",
           "y": {
            "bdata": "wocAAIp+AAC6WwAAylEAANyEAAAXgQAAtm8AAKpkAAAKSQAABU4AAJswAABEOQAAilIAAD9DAADPMgAA3zAAAERRAADXLQAAfCcAAGMsAAAjPAAAYzUAAOoeAAD7JQAAr1oAAEFGAADyLQAAtSoAANFQAACCOgAAVjQAANUpAACePgAAfjYAAEEsAAAPLAAA9UoAAP5OAADTNAAAcCwAAA5AAAA/PgAA0TkAABArAADLNQAAkikAANMsAADLJgAAxyoAAL4gAACcGQAAWRsAALBRAAAnQAAA+jkAAOcsAADhQgAAVyoAAN0nAAAYLgAA00QAAAM8AAAwMAAAUzEAAG9TAADYNwAAWS0AAC8nAACiSQAAvjcAAOouAADDPAAARy4AAEk3AADnKwAALDcAAAwrAADzLgAAni0AAMonAABmSAAAiTYAAFgrAAAmMAAAijUAADo7AAAGLwAAhCgAAI1CAAB/NgAAdi0AAL8jAABGNwAAZzAAAOYeAABQHwAAQDQAAIUiAAAzGQAAvyAAAMEjAAA+GgAApyMAABwQAADrMgAAfC0AANUdAAAuEAAAL0AAAKU0AADUKwAAFCUAADlOAAA0PAAAUj0AALYqAAARNgAAeS4AACkhAAAvHgAA",
            "dtype": "i4"
           },
           "yaxis": "y"
          }
         ],
         "name": "4"
        },
        {
         "data": [
          {
           "hovertemplate": "month=5<br>day=%{x}<br>total price=%{y}<br>Main Category=%{marker.color}<extra></extra>",
           "legendgroup": "",
           "marker": {
            "color": {
             "bdata": "AQIDBAECAwQBAgMEAQIDBAECAwQBAgMEAQIDBAECAwQBAgMEAQIDBAECAwQBAgMEAQIDBAECAwQBAgMEAQIDBAECAwQBAgMEAQIDBAECAwQBAgMEAQIDBAECAwQBAgMEAQIDBAECAwQBAgMEAQIDBAECAwQBAgMEAQIDBA==",
             "dtype": "i1"
            },
            "coloraxis": "coloraxis",
            "pattern": {
             "shape": ""
            }
           },
           "name": "",
           "orientation": "v",
           "showlegend": false,
           "textposition": "auto",
           "type": "bar",
           "x": {
            "bdata": "AQEBAQICAgIDAwMDBAQEBAUFBQUGBgYGBwcHBwgICAgJCQkJCgoKCgsLCwsMDAwMDQ0NDQ4ODg4PDw8PEBAQEBERERESEhISExMTExQUFBQVFRUVFhYWFhcXFxcYGBgYGRkZGRoaGhobGxsbHBwcHB0dHR0eHh4eHx8fHw==",
            "dtype": "i1"
           },
           "xaxis": "x",
           "y": {
            "bdata": "6ysbK60lWB53M2UkdhnFFKwefheyD/8IsCmkJNsYaxc5TRM0CSVGHhk+AjLbHTsaF0JEPGQo/Sb9OYQvfSoDK0kpnSRbGqUgDyGTHcMd4BNoMYYvyB1PFIs8LTK8L3cd7jAQJsUjdA7tROM6wDVmJzEmGDKRIQobykmwNYQrWiVvJM4aCxWZFDMgUyPXHX4RP0QKPIYqWR5dQisvYCr9G9pBHze7JsAg9i0xJs8f7w97LP0yOSSFG/ouGiihIIIVxThoPacnYifYKoEyryDtFXszOCyEIjgk5zKmOVYnlh7qSP1AzyTHIVsg5ywVGHkPaxsnG3oRuA4=",
            "dtype": "i2"
           },
           "yaxis": "y"
          }
         ],
         "name": "5"
        },
        {
         "data": [
          {
           "hovertemplate": "month=6<br>day=%{x}<br>total price=%{y}<br>Main Category=%{marker.color}<extra></extra>",
           "legendgroup": "",
           "marker": {
            "color": {
             "bdata": "AQIDBAECAwQBAgMEAQIDBAECAwQBAgMEAQIDBAECAwQBAgMEAQIDBAECAwQBAgMEAQIDBAECAwQBAgMEAQIDBAECAwQBAgMEAQIDBAECAwQBAgMEAQIDBAECAwQBAgMEAQIDBAECAwQBAgMEAQIDBAECAwQBAgME",
             "dtype": "i1"
            },
            "coloraxis": "coloraxis",
            "pattern": {
             "shape": ""
            }
           },
           "name": "",
           "orientation": "v",
           "showlegend": false,
           "textposition": "auto",
           "type": "bar",
           "x": {
            "bdata": "AQEBAQICAgIDAwMDBAQEBAUFBQUGBgYGBwcHBwgICAgJCQkJCgoKCgsLCwsMDAwMDQ0NDQ4ODg4PDw8PEBAQEBERERESEhISExMTExQUFBQVFRUVFhYWFhcXFxcYGBgYGRkZGRoaGhobGxsbHBwcHB0dHR0eHh4e",
            "dtype": "i1"
           },
           "xaxis": "x",
           "y": {
            "bdata": "iB23I8UbqQ6YNe4sKSJLD146mzs+LCYa+jLfQNIihx9DMXs93B7CG3UvPirfIzAW6hzcJRAVfRUgG08p3hxXDM06TzoMH4EdqTawO3EvPxp4MuwtaCGQH3kwqC/sJ80ggjcPKiImYBePF9waTRVUDaQkohxaF1oVxDRvKfwfpB2wMVIwnylAH1Q3IS25KY4abEL9I6olNxpKLoIfNhtfG0Ed2hKiE6ERPCJaGHscuBobMKwynRk0F7cy0zXcJL4eqi7ZKusoRxloNV8wxCrQIlU1ZSNtI9EdOCKXIREWDQ84LN4hORlZG2Mq9zSiI4Uc",
            "dtype": "i2"
           },
           "yaxis": "y"
          }
         ],
         "name": "6"
        },
        {
         "data": [
          {
           "hovertemplate": "month=7<br>day=%{x}<br>total price=%{y}<br>Main Category=%{marker.color}<extra></extra>",
           "legendgroup": "",
           "marker": {
            "color": {
             "bdata": "AQIDBAECAwQBAgMEAQIDBAECAwQBAgMEAQIDBAECAwQBAgMEAQIDBAECAwQBAgMEAQIDBAECAwQBAgMEAQIDBAECAwQBAgMEAQIDBAECAwQBAgMEAQIDBAECAwQBAgMEAQIDBAECAwQBAgMEAQIDBAECAwQBAgMEAQIDBA==",
             "dtype": "i1"
            },
            "coloraxis": "coloraxis",
            "pattern": {
             "shape": ""
            }
           },
           "name": "",
           "orientation": "v",
           "showlegend": false,
           "textposition": "auto",
           "type": "bar",
           "x": {
            "bdata": "AQEBAQICAgIDAwMDBAQEBAUFBQUGBgYGBwcHBwgICAgJCQkJCgoKCgsLCwsMDAwMDQ0NDQ4ODg4PDw8PEBAQEBERERESEhISExMTExQUFBQVFRUVFhYWFhcXFxcYGBgYGRkZGRoaGhobGxsbHBwcHB0dHR0eHh4eHx8fHw==",
            "dtype": "i1"
           },
           "xaxis": "x",
           "y": {
            "bdata": "XCk9JGoWzhgFKkMnyxiVHw44pSnrHngk0iPDJqcdjBsXG78e4x3tFvYsjR66HxYa7i6zH08flx3jPAY68TBMIWU3ziiQI7wcaDz8KFkbdSZ2Lj8uHiRwI0Mi6RkmGrsh6TKDIycbUxyFQZYvTSNzJrU3JCw7I6wn200TLFIrPRyIRG40pSOwJgoxEx6uFNwb4BzADQMSTg8TKrQkjhhVHKdISDD4I7ckCETNMVovBC5lQe8oOyzKLsVPSzFxJ6IrMjH6HdQdWil9JgkVkhozI44knBR3GY8c1zT+J4cfziCrNtYotRquJDEqoSvWH3IhSjY3I7kjcCQ=",
            "dtype": "i2"
           },
           "yaxis": "y"
          }
         ],
         "name": "7"
        },
        {
         "data": [
          {
           "hovertemplate": "month=8<br>day=%{x}<br>total price=%{y}<br>Main Category=%{marker.color}<extra></extra>",
           "legendgroup": "",
           "marker": {
            "color": {
             "bdata": "AQIDBAECAwQBAgMEAQIDBAECAwQBAgMEAQIDBAECAwQBAgMEAQIDBAECAwQBAgMEAQIDBA==",
             "dtype": "i1"
            },
            "coloraxis": "coloraxis",
            "pattern": {
             "shape": ""
            }
           },
           "name": "",
           "orientation": "v",
           "showlegend": false,
           "textposition": "auto",
           "type": "bar",
           "x": {
            "bdata": "AQEBAQICAgIDAwMDBAQEBAUFBQUGBgYGBwcHBwgICAgJCQkJCgoKCgsLCwsMDAwMDQ0NDQ==",
            "dtype": "i1"
           },
           "xaxis": "x",
           "y": {
            "bdata": "1SWxJG0auSgqI98g3w7VE5IgeSf+J5kbGjcDLmguiC+UNMglayGHLA5Khy8WM5Mzgy0eJIAVaiiQP4gjaCFMKnc0ISbVHqAZyix0G3Eath+1PZ4a9iYhK586Cy0IMPoktQhxBb4FOgc=",
            "dtype": "i2"
           },
           "yaxis": "y"
          }
         ],
         "name": "8"
        }
       ],
       "layout": {
        "barmode": "relative",
        "coloraxis": {
         "colorbar": {
          "title": {
           "text": "Main Category"
          }
         },
         "colorscale": [
          [
           0,
           "#0d0887"
          ],
          [
           0.1111111111111111,
           "#46039f"
          ],
          [
           0.2222222222222222,
           "#7201a8"
          ],
          [
           0.3333333333333333,
           "#9c179e"
          ],
          [
           0.4444444444444444,
           "#bd3786"
          ],
          [
           0.5555555555555556,
           "#d8576b"
          ],
          [
           0.6666666666666666,
           "#ed7953"
          ],
          [
           0.7777777777777778,
           "#fb9f3a"
          ],
          [
           0.8888888888888888,
           "#fdca26"
          ],
          [
           1,
           "#f0f921"
          ]
         ]
        },
        "height": 600,
        "legend": {
         "tracegroupgap": 0
        },
        "margin": {
         "t": 60
        },
        "sliders": [
         {
          "active": 0,
          "currentvalue": {
           "prefix": "month="
          },
          "len": 0.9,
          "pad": {
           "b": 10,
           "t": 60
          },
          "steps": [
           {
            "args": [
             [
              "4"
             ],
             {
              "frame": {
               "duration": 0,
               "redraw": true
              },
              "fromcurrent": true,
              "mode": "immediate",
              "transition": {
               "duration": 0,
               "easing": "linear"
              }
             }
            ],
            "label": "4",
            "method": "animate"
           },
           {
            "args": [
             [
              "5"
             ],
             {
              "frame": {
               "duration": 0,
               "redraw": true
              },
              "fromcurrent": true,
              "mode": "immediate",
              "transition": {
               "duration": 0,
               "easing": "linear"
              }
             }
            ],
            "label": "5",
            "method": "animate"
           },
           {
            "args": [
             [
              "6"
             ],
             {
              "frame": {
               "duration": 0,
               "redraw": true
              },
              "fromcurrent": true,
              "mode": "immediate",
              "transition": {
               "duration": 0,
               "easing": "linear"
              }
             }
            ],
            "label": "6",
            "method": "animate"
           },
           {
            "args": [
             [
              "7"
             ],
             {
              "frame": {
               "duration": 0,
               "redraw": true
              },
              "fromcurrent": true,
              "mode": "immediate",
              "transition": {
               "duration": 0,
               "easing": "linear"
              }
             }
            ],
            "label": "7",
            "method": "animate"
           },
           {
            "args": [
             [
              "8"
             ],
             {
              "frame": {
               "duration": 0,
               "redraw": true
              },
              "fromcurrent": true,
              "mode": "immediate",
              "transition": {
               "duration": 0,
               "easing": "linear"
              }
             }
            ],
            "label": "8",
            "method": "animate"
           }
          ],
          "x": 0.1,
          "xanchor": "left",
          "y": 0,
          "yanchor": "top"
         }
        ],
        "template": {
         "data": {
          "bar": [
           {
            "error_x": {
             "color": "#2a3f5f"
            },
            "error_y": {
             "color": "#2a3f5f"
            },
            "marker": {
             "line": {
              "color": "#E5ECF6",
              "width": 0.5
             },
             "pattern": {
              "fillmode": "overlay",
              "size": 10,
              "solidity": 0.2
             }
            },
            "type": "bar"
           }
          ],
          "barpolar": [
           {
            "marker": {
             "line": {
              "color": "#E5ECF6",
              "width": 0.5
             },
             "pattern": {
              "fillmode": "overlay",
              "size": 10,
              "solidity": 0.2
             }
            },
            "type": "barpolar"
           }
          ],
          "carpet": [
           {
            "aaxis": {
             "endlinecolor": "#2a3f5f",
             "gridcolor": "white",
             "linecolor": "white",
             "minorgridcolor": "white",
             "startlinecolor": "#2a3f5f"
            },
            "baxis": {
             "endlinecolor": "#2a3f5f",
             "gridcolor": "white",
             "linecolor": "white",
             "minorgridcolor": "white",
             "startlinecolor": "#2a3f5f"
            },
            "type": "carpet"
           }
          ],
          "choropleth": [
           {
            "colorbar": {
             "outlinewidth": 0,
             "ticks": ""
            },
            "type": "choropleth"
           }
          ],
          "contour": [
           {
            "colorbar": {
             "outlinewidth": 0,
             "ticks": ""
            },
            "colorscale": [
             [
              0,
              "#0d0887"
             ],
             [
              0.1111111111111111,
              "#46039f"
             ],
             [
              0.2222222222222222,
              "#7201a8"
             ],
             [
              0.3333333333333333,
              "#9c179e"
             ],
             [
              0.4444444444444444,
              "#bd3786"
             ],
             [
              0.5555555555555556,
              "#d8576b"
             ],
             [
              0.6666666666666666,
              "#ed7953"
             ],
             [
              0.7777777777777778,
              "#fb9f3a"
             ],
             [
              0.8888888888888888,
              "#fdca26"
             ],
             [
              1,
              "#f0f921"
             ]
            ],
            "type": "contour"
           }
          ],
          "contourcarpet": [
           {
            "colorbar": {
             "outlinewidth": 0,
             "ticks": ""
            },
            "type": "contourcarpet"
           }
          ],
          "heatmap": [
           {
            "colorbar": {
             "outlinewidth": 0,
             "ticks": ""
            },
            "colorscale": [
             [
              0,
              "#0d0887"
             ],
             [
              0.1111111111111111,
              "#46039f"
             ],
             [
              0.2222222222222222,
              "#7201a8"
             ],
             [
              0.3333333333333333,
              "#9c179e"
             ],
             [
              0.4444444444444444,
              "#bd3786"
             ],
             [
              0.5555555555555556,
              "#d8576b"
             ],
             [
              0.6666666666666666,
              "#ed7953"
             ],
             [
              0.7777777777777778,
              "#fb9f3a"
             ],
             [
              0.8888888888888888,
              "#fdca26"
             ],
             [
              1,
              "#f0f921"
             ]
            ],
            "type": "heatmap"
           }
          ],
          "histogram": [
           {
            "marker": {
             "pattern": {
              "fillmode": "overlay",
              "size": 10,
              "solidity": 0.2
             }
            },
            "type": "histogram"
           }
          ],
          "histogram2d": [
           {
            "colorbar": {
             "outlinewidth": 0,
             "ticks": ""
            },
            "colorscale": [
             [
              0,
              "#0d0887"
             ],
             [
              0.1111111111111111,
              "#46039f"
             ],
             [
              0.2222222222222222,
              "#7201a8"
             ],
             [
              0.3333333333333333,
              "#9c179e"
             ],
             [
              0.4444444444444444,
              "#bd3786"
             ],
             [
              0.5555555555555556,
              "#d8576b"
             ],
             [
              0.6666666666666666,
              "#ed7953"
             ],
             [
              0.7777777777777778,
              "#fb9f3a"
             ],
             [
              0.8888888888888888,
              "#fdca26"
             ],
             [
              1,
              "#f0f921"
             ]
            ],
            "type": "histogram2d"
           }
          ],
          "histogram2dcontour": [
           {
            "colorbar": {
             "outlinewidth": 0,
             "ticks": ""
            },
            "colorscale": [
             [
              0,
              "#0d0887"
             ],
             [
              0.1111111111111111,
              "#46039f"
             ],
             [
              0.2222222222222222,
              "#7201a8"
             ],
             [
              0.3333333333333333,
              "#9c179e"
             ],
             [
              0.4444444444444444,
              "#bd3786"
             ],
             [
              0.5555555555555556,
              "#d8576b"
             ],
             [
              0.6666666666666666,
              "#ed7953"
             ],
             [
              0.7777777777777778,
              "#fb9f3a"
             ],
             [
              0.8888888888888888,
              "#fdca26"
             ],
             [
              1,
              "#f0f921"
             ]
            ],
            "type": "histogram2dcontour"
           }
          ],
          "mesh3d": [
           {
            "colorbar": {
             "outlinewidth": 0,
             "ticks": ""
            },
            "type": "mesh3d"
           }
          ],
          "parcoords": [
           {
            "line": {
             "colorbar": {
              "outlinewidth": 0,
              "ticks": ""
             }
            },
            "type": "parcoords"
           }
          ],
          "pie": [
           {
            "automargin": true,
            "type": "pie"
           }
          ],
          "scatter": [
           {
            "fillpattern": {
             "fillmode": "overlay",
             "size": 10,
             "solidity": 0.2
            },
            "type": "scatter"
           }
          ],
          "scatter3d": [
           {
            "line": {
             "colorbar": {
              "outlinewidth": 0,
              "ticks": ""
             }
            },
            "marker": {
             "colorbar": {
              "outlinewidth": 0,
              "ticks": ""
             }
            },
            "type": "scatter3d"
           }
          ],
          "scattercarpet": [
           {
            "marker": {
             "colorbar": {
              "outlinewidth": 0,
              "ticks": ""
             }
            },
            "type": "scattercarpet"
           }
          ],
          "scattergeo": [
           {
            "marker": {
             "colorbar": {
              "outlinewidth": 0,
              "ticks": ""
             }
            },
            "type": "scattergeo"
           }
          ],
          "scattergl": [
           {
            "marker": {
             "colorbar": {
              "outlinewidth": 0,
              "ticks": ""
             }
            },
            "type": "scattergl"
           }
          ],
          "scattermap": [
           {
            "marker": {
             "colorbar": {
              "outlinewidth": 0,
              "ticks": ""
             }
            },
            "type": "scattermap"
           }
          ],
          "scattermapbox": [
           {
            "marker": {
             "colorbar": {
              "outlinewidth": 0,
              "ticks": ""
             }
            },
            "type": "scattermapbox"
           }
          ],
          "scatterpolar": [
           {
            "marker": {
             "colorbar": {
              "outlinewidth": 0,
              "ticks": ""
             }
            },
            "type": "scatterpolar"
           }
          ],
          "scatterpolargl": [
           {
            "marker": {
             "colorbar": {
              "outlinewidth": 0,
              "ticks": ""
             }
            },
            "type": "scatterpolargl"
           }
          ],
          "scatterternary": [
           {
            "marker": {
             "colorbar": {
              "outlinewidth": 0,
              "ticks": ""
             }
            },
            "type": "scatterternary"
           }
          ],
          "surface": [
           {
            "colorbar": {
             "outlinewidth": 0,
             "ticks": ""
            },
            "colorscale": [
             [
              0,
              "#0d0887"
             ],
             [
              0.1111111111111111,
              "#46039f"
             ],
             [
              0.2222222222222222,
              "#7201a8"
             ],
             [
              0.3333333333333333,
              "#9c179e"
             ],
             [
              0.4444444444444444,
              "#bd3786"
             ],
             [
              0.5555555555555556,
              "#d8576b"
             ],
             [
              0.6666666666666666,
              "#ed7953"
             ],
             [
              0.7777777777777778,
              "#fb9f3a"
             ],
             [
              0.8888888888888888,
              "#fdca26"
             ],
             [
              1,
              "#f0f921"
             ]
            ],
            "type": "surface"
           }
          ],
          "table": [
           {
            "cells": {
             "fill": {
              "color": "#EBF0F8"
             },
             "line": {
              "color": "white"
             }
            },
            "header": {
             "fill": {
              "color": "#C8D4E3"
             },
             "line": {
              "color": "white"
             }
            },
            "type": "table"
           }
          ]
         },
         "layout": {
          "annotationdefaults": {
           "arrowcolor": "#2a3f5f",
           "arrowhead": 0,
           "arrowwidth": 1
          },
          "autotypenumbers": "strict",
          "coloraxis": {
           "colorbar": {
            "outlinewidth": 0,
            "ticks": ""
           }
          },
          "colorscale": {
           "diverging": [
            [
             0,
             "#8e0152"
            ],
            [
             0.1,
             "#c51b7d"
            ],
            [
             0.2,
             "#de77ae"
            ],
            [
             0.3,
             "#f1b6da"
            ],
            [
             0.4,
             "#fde0ef"
            ],
            [
             0.5,
             "#f7f7f7"
            ],
            [
             0.6,
             "#e6f5d0"
            ],
            [
             0.7,
             "#b8e186"
            ],
            [
             0.8,
             "#7fbc41"
            ],
            [
             0.9,
             "#4d9221"
            ],
            [
             1,
             "#276419"
            ]
           ],
           "sequential": [
            [
             0,
             "#0d0887"
            ],
            [
             0.1111111111111111,
             "#46039f"
            ],
            [
             0.2222222222222222,
             "#7201a8"
            ],
            [
             0.3333333333333333,
             "#9c179e"
            ],
            [
             0.4444444444444444,
             "#bd3786"
            ],
            [
             0.5555555555555556,
             "#d8576b"
            ],
            [
             0.6666666666666666,
             "#ed7953"
            ],
            [
             0.7777777777777778,
             "#fb9f3a"
            ],
            [
             0.8888888888888888,
             "#fdca26"
            ],
            [
             1,
             "#f0f921"
            ]
           ],
           "sequentialminus": [
            [
             0,
             "#0d0887"
            ],
            [
             0.1111111111111111,
             "#46039f"
            ],
            [
             0.2222222222222222,
             "#7201a8"
            ],
            [
             0.3333333333333333,
             "#9c179e"
            ],
            [
             0.4444444444444444,
             "#bd3786"
            ],
            [
             0.5555555555555556,
             "#d8576b"
            ],
            [
             0.6666666666666666,
             "#ed7953"
            ],
            [
             0.7777777777777778,
             "#fb9f3a"
            ],
            [
             0.8888888888888888,
             "#fdca26"
            ],
            [
             1,
             "#f0f921"
            ]
           ]
          },
          "colorway": [
           "#636efa",
           "#EF553B",
           "#00cc96",
           "#ab63fa",
           "#FFA15A",
           "#19d3f3",
           "#FF6692",
           "#B6E880",
           "#FF97FF",
           "#FECB52"
          ],
          "font": {
           "color": "#2a3f5f"
          },
          "geo": {
           "bgcolor": "white",
           "lakecolor": "white",
           "landcolor": "#E5ECF6",
           "showlakes": true,
           "showland": true,
           "subunitcolor": "white"
          },
          "hoverlabel": {
           "align": "left"
          },
          "hovermode": "closest",
          "mapbox": {
           "style": "light"
          },
          "paper_bgcolor": "white",
          "plot_bgcolor": "#E5ECF6",
          "polar": {
           "angularaxis": {
            "gridcolor": "white",
            "linecolor": "white",
            "ticks": ""
           },
           "bgcolor": "#E5ECF6",
           "radialaxis": {
            "gridcolor": "white",
            "linecolor": "white",
            "ticks": ""
           }
          },
          "scene": {
           "xaxis": {
            "backgroundcolor": "#E5ECF6",
            "gridcolor": "white",
            "gridwidth": 2,
            "linecolor": "white",
            "showbackground": true,
            "ticks": "",
            "zerolinecolor": "white"
           },
           "yaxis": {
            "backgroundcolor": "#E5ECF6",
            "gridcolor": "white",
            "gridwidth": 2,
            "linecolor": "white",
            "showbackground": true,
            "ticks": "",
            "zerolinecolor": "white"
           },
           "zaxis": {
            "backgroundcolor": "#E5ECF6",
            "gridcolor": "white",
            "gridwidth": 2,
            "linecolor": "white",
            "showbackground": true,
            "ticks": "",
            "zerolinecolor": "white"
           }
          },
          "shapedefaults": {
           "line": {
            "color": "#2a3f5f"
           }
          },
          "ternary": {
           "aaxis": {
            "gridcolor": "white",
            "linecolor": "white",
            "ticks": ""
           },
           "baxis": {
            "gridcolor": "white",
            "linecolor": "white",
            "ticks": ""
           },
           "bgcolor": "#E5ECF6",
           "caxis": {
            "gridcolor": "white",
            "linecolor": "white",
            "ticks": ""
           }
          },
          "title": {
           "x": 0.05
          },
          "xaxis": {
           "automargin": true,
           "gridcolor": "white",
           "linecolor": "white",
           "ticks": "",
           "title": {
            "standoff": 15
           },
           "zerolinecolor": "white",
           "zerolinewidth": 2
          },
          "yaxis": {
           "automargin": true,
           "gridcolor": "white",
           "linecolor": "white",
           "ticks": "",
           "title": {
            "standoff": 15
           },
           "zerolinecolor": "white",
           "zerolinewidth": 2
          }
         }
        },
        "updatemenus": [
         {
          "buttons": [
           {
            "args": [
             null,
             {
              "frame": {
               "duration": 500,
               "redraw": true
              },
              "fromcurrent": true,
              "mode": "immediate",
              "transition": {
               "duration": 500,
               "easing": "linear"
              }
             }
            ],
            "label": "&#9654;",
            "method": "animate"
           },
           {
            "args": [
             [
              null
             ],
             {
              "frame": {
               "duration": 0,
               "redraw": true
              },
              "fromcurrent": true,
              "mode": "immediate",
              "transition": {
               "duration": 0,
               "easing": "linear"
              }
             }
            ],
            "label": "&#9724;",
            "method": "animate"
           }
          ],
          "direction": "left",
          "pad": {
           "r": 10,
           "t": 70
          },
          "showactive": false,
          "type": "buttons",
          "x": 0.1,
          "xanchor": "right",
          "y": 0,
          "yanchor": "top"
         }
        ],
        "xaxis": {
         "anchor": "y",
         "domain": [
          0,
          1
         ],
         "title": {
          "text": "day"
         },
         "type": "category"
        },
        "yaxis": {
         "anchor": "x",
         "domain": [
          0,
          1
         ],
         "title": {
          "text": "Total sales price"
         }
        }
       }
      }
     },
     "metadata": {},
     "output_type": "display_data"
    }
   ],
   "source": [
    "#monthly category trend -- add a sub plot for monthly split\n",
    "monthly_cat_df = data.groupby(['month','day','page1_main_category'])['price'].sum().reset_index()\n",
    "# monthly_cat_df\n",
    "fig = px.bar(\n",
    "    monthly_cat_df,\n",
    "    x = 'day',\n",
    "    y = 'price',\n",
    "    color='page1_main_category',\n",
    "    labels={\n",
    "        \"price\": \"total price\",\n",
    "        \"page1_main_category\" : \"Main Category\"\n",
    "    },\n",
    "    \n",
    "    animation_frame='month',\n",
    "    height= 600\n",
    ")\n",
    "fig.update_layout(\n",
    "    xaxis_title = 'day',\n",
    "    yaxis_title = 'Total sales price',\n",
    "    xaxis = {'type':'category'}\n",
    ")\n",
    "fig.show()"
   ]
  },
  {
   "cell_type": "code",
   "execution_count": null,
   "id": "277aea81",
   "metadata": {},
   "outputs": [],
   "source": [
    "# for each category, how many models are there and which model is the key contributer for that category. apd na which model is bough the most."
   ]
  },
  {
   "cell_type": "code",
   "execution_count": 46,
   "id": "3452b6d7",
   "metadata": {},
   "outputs": [],
   "source": [
    "mine_df = data[data['price_2']==2].groupby(['month','page1_main_category', 'page2_clothing_model'])['price'].sum().reset_index()\n",
    "mine_df.sort_values(by = 'price', ascending = False, inplace= True)"
   ]
  },
  {
   "cell_type": "code",
   "execution_count": null,
   "id": "a4337ff2",
   "metadata": {},
   "outputs": [
    {
     "data": {
      "text/html": [
       "<div>\n",
       "<style scoped>\n",
       "    .dataframe tbody tr th:only-of-type {\n",
       "        vertical-align: middle;\n",
       "    }\n",
       "\n",
       "    .dataframe tbody tr th {\n",
       "        vertical-align: top;\n",
       "    }\n",
       "\n",
       "    .dataframe thead th {\n",
       "        text-align: right;\n",
       "    }\n",
       "</style>\n",
       "<table border=\"1\" class=\"dataframe\">\n",
       "  <thead>\n",
       "    <tr style=\"text-align: right;\">\n",
       "      <th></th>\n",
       "      <th>month</th>\n",
       "      <th>page1_main_category</th>\n",
       "      <th>page2_clothing_model</th>\n",
       "      <th>price</th>\n",
       "    </tr>\n",
       "  </thead>\n",
       "  <tbody>\n",
       "    <tr>\n",
       "      <th>337</th>\n",
       "      <td>7</td>\n",
       "      <td>1</td>\n",
       "      <td>A2</td>\n",
       "      <td>27520</td>\n",
       "    </tr>\n",
       "    <tr>\n",
       "      <th>8</th>\n",
       "      <td>4</td>\n",
       "      <td>1</td>\n",
       "      <td>A2</td>\n",
       "      <td>27348</td>\n",
       "    </tr>\n",
       "    <tr>\n",
       "      <th>21</th>\n",
       "      <td>4</td>\n",
       "      <td>1</td>\n",
       "      <td>A4</td>\n",
       "      <td>23066</td>\n",
       "    </tr>\n",
       "    <tr>\n",
       "      <th>25</th>\n",
       "      <td>4</td>\n",
       "      <td>1</td>\n",
       "      <td>A5</td>\n",
       "      <td>22059</td>\n",
       "    </tr>\n",
       "    <tr>\n",
       "      <th>354</th>\n",
       "      <td>7</td>\n",
       "      <td>1</td>\n",
       "      <td>A5</td>\n",
       "      <td>21586</td>\n",
       "    </tr>\n",
       "  </tbody>\n",
       "</table>\n",
       "</div>"
      ],
      "text/plain": [
       "     month  page1_main_category page2_clothing_model  price\n",
       "337      7                    1                   A2  27520\n",
       "8        4                    1                   A2  27348\n",
       "21       4                    1                   A4  23066\n",
       "25       4                    1                   A5  22059\n",
       "354      7                    1                   A5  21586"
      ]
     },
     "execution_count": 35,
     "metadata": {},
     "output_type": "execute_result"
    }
   ],
   "source": [
    "\n",
    "mine_df.head()"
   ]
  },
  {
   "cell_type": "code",
   "execution_count": 47,
   "id": "253b810b",
   "metadata": {},
   "outputs": [
    {
     "data": {
      "application/vnd.plotly.v1+json": {
       "config": {
        "plotlyServerURL": "https://plot.ly"
       },
       "data": [
        {
         "hovertemplate": "page2_clothing_model=A2<br>month=7<br>Main Category=%{x}<br>Total Price=%{y}<extra></extra>",
         "ids": {
          "bdata": "AQ==",
          "dtype": "i1"
         },
         "legendgroup": "A2",
         "marker": {
          "color": "#636efa",
          "pattern": {
           "shape": ""
          }
         },
         "name": "A2",
         "orientation": "v",
         "showlegend": true,
         "textposition": "auto",
         "type": "bar",
         "x": {
          "bdata": "AQ==",
          "dtype": "i1"
         },
         "xaxis": "x",
         "y": {
          "bdata": "gGs=",
          "dtype": "i2"
         },
         "yaxis": "y"
        },
        {
         "hovertemplate": "page2_clothing_model=A4<br>month=7<br>Main Category=%{x}<br>Total Price=%{y}<extra></extra>",
         "ids": {
          "bdata": "AQ==",
          "dtype": "i1"
         },
         "legendgroup": "A4",
         "marker": {
          "color": "#EF553B",
          "pattern": {
           "shape": ""
          }
         },
         "name": "A4",
         "orientation": "v",
         "showlegend": true,
         "textposition": "auto",
         "type": "bar",
         "x": {
          "bdata": "AQ==",
          "dtype": "i1"
         },
         "xaxis": "x",
         "y": {
          "bdata": "ljU=",
          "dtype": "i2"
         },
         "yaxis": "y"
        },
        {
         "hovertemplate": "page2_clothing_model=A5<br>month=7<br>Main Category=%{x}<br>Total Price=%{y}<extra></extra>",
         "ids": {
          "bdata": "AQ==",
          "dtype": "i1"
         },
         "legendgroup": "A5",
         "marker": {
          "color": "#00cc96",
          "pattern": {
           "shape": ""
          }
         },
         "name": "A5",
         "orientation": "v",
         "showlegend": true,
         "textposition": "auto",
         "type": "bar",
         "x": {
          "bdata": "AQ==",
          "dtype": "i1"
         },
         "xaxis": "x",
         "y": {
          "bdata": "UlQ=",
          "dtype": "i2"
         },
         "yaxis": "y"
        },
        {
         "hovertemplate": "page2_clothing_model=A15<br>month=7<br>Main Category=%{x}<br>Total Price=%{y}<extra></extra>",
         "ids": {
          "bdata": "AQ==",
          "dtype": "i1"
         },
         "legendgroup": "A15",
         "marker": {
          "color": "#ab63fa",
          "pattern": {
           "shape": ""
          }
         },
         "name": "A15",
         "orientation": "v",
         "showlegend": true,
         "textposition": "auto",
         "type": "bar",
         "x": {
          "bdata": "AQ==",
          "dtype": "i1"
         },
         "xaxis": "x",
         "y": {
          "bdata": "5Sk=",
          "dtype": "i2"
         },
         "yaxis": "y"
        },
        {
         "hovertemplate": "page2_clothing_model=A10<br>month=7<br>Main Category=%{x}<br>Total Price=%{y}<extra></extra>",
         "ids": {
          "bdata": "AQ==",
          "dtype": "i1"
         },
         "legendgroup": "A10",
         "marker": {
          "color": "#FFA15A",
          "pattern": {
           "shape": ""
          }
         },
         "name": "A10",
         "orientation": "v",
         "showlegend": true,
         "textposition": "auto",
         "type": "bar",
         "x": {
          "bdata": "AQ==",
          "dtype": "i1"
         },
         "xaxis": "x",
         "y": {
          "bdata": "nEE=",
          "dtype": "i2"
         },
         "yaxis": "y"
        },
        {
         "hovertemplate": "page2_clothing_model=A6<br>month=7<br>Main Category=%{x}<br>Total Price=%{y}<extra></extra>",
         "ids": {
          "bdata": "AQ==",
          "dtype": "i1"
         },
         "legendgroup": "A6",
         "marker": {
          "color": "#19d3f3",
          "pattern": {
           "shape": ""
          }
         },
         "name": "A6",
         "orientation": "v",
         "showlegend": true,
         "textposition": "auto",
         "type": "bar",
         "x": {
          "bdata": "AQ==",
          "dtype": "i1"
         },
         "xaxis": "x",
         "y": {
          "bdata": "dDo=",
          "dtype": "i2"
         },
         "yaxis": "y"
        },
        {
         "hovertemplate": "page2_clothing_model=A12<br>month=7<br>Main Category=%{x}<br>Total Price=%{y}<extra></extra>",
         "ids": {
          "bdata": "AQ==",
          "dtype": "i1"
         },
         "legendgroup": "A12",
         "marker": {
          "color": "#FF6692",
          "pattern": {
           "shape": ""
          }
         },
         "name": "A12",
         "orientation": "v",
         "showlegend": true,
         "textposition": "auto",
         "type": "bar",
         "x": {
          "bdata": "AQ==",
          "dtype": "i1"
         },
         "xaxis": "x",
         "y": {
          "bdata": "cjk=",
          "dtype": "i2"
         },
         "yaxis": "y"
        },
        {
         "hovertemplate": "page2_clothing_model=A7<br>month=7<br>Main Category=%{x}<br>Total Price=%{y}<extra></extra>",
         "ids": {
          "bdata": "AQ==",
          "dtype": "i1"
         },
         "legendgroup": "A7",
         "marker": {
          "color": "#B6E880",
          "pattern": {
           "shape": ""
          }
         },
         "name": "A7",
         "orientation": "v",
         "showlegend": true,
         "textposition": "auto",
         "type": "bar",
         "x": {
          "bdata": "AQ==",
          "dtype": "i1"
         },
         "xaxis": "x",
         "y": {
          "bdata": "6zU=",
          "dtype": "i2"
         },
         "yaxis": "y"
        },
        {
         "hovertemplate": "page2_clothing_model=A1<br>month=7<br>Main Category=%{x}<br>Total Price=%{y}<extra></extra>",
         "ids": {
          "bdata": "AQ==",
          "dtype": "i1"
         },
         "legendgroup": "A1",
         "marker": {
          "color": "#FF97FF",
          "pattern": {
           "shape": ""
          }
         },
         "name": "A1",
         "orientation": "v",
         "showlegend": true,
         "textposition": "auto",
         "type": "bar",
         "x": {
          "bdata": "AQ==",
          "dtype": "i1"
         },
         "xaxis": "x",
         "y": {
          "bdata": "EDQ=",
          "dtype": "i2"
         },
         "yaxis": "y"
        },
        {
         "hovertemplate": "page2_clothing_model=B11<br>month=7<br>Main Category=%{x}<br>Total Price=%{y}<extra></extra>",
         "ids": {
          "bdata": "Ag==",
          "dtype": "i1"
         },
         "legendgroup": "B11",
         "marker": {
          "color": "#FECB52",
          "pattern": {
           "shape": ""
          }
         },
         "name": "B11",
         "orientation": "v",
         "showlegend": true,
         "textposition": "auto",
         "type": "bar",
         "x": {
          "bdata": "Ag==",
          "dtype": "i1"
         },
         "xaxis": "x",
         "y": {
          "bdata": "YDA=",
          "dtype": "i2"
         },
         "yaxis": "y"
        },
        {
         "hovertemplate": "page2_clothing_model=B15<br>month=7<br>Main Category=%{x}<br>Total Price=%{y}<extra></extra>",
         "ids": {
          "bdata": "Ag==",
          "dtype": "i1"
         },
         "legendgroup": "B15",
         "marker": {
          "color": "#636efa",
          "pattern": {
           "shape": ""
          }
         },
         "name": "B15",
         "orientation": "v",
         "showlegend": true,
         "textposition": "auto",
         "type": "bar",
         "x": {
          "bdata": "Ag==",
          "dtype": "i1"
         },
         "xaxis": "x",
         "y": {
          "bdata": "Ih4=",
          "dtype": "i2"
         },
         "yaxis": "y"
        },
        {
         "hovertemplate": "page2_clothing_model=B32<br>month=7<br>Main Category=%{x}<br>Total Price=%{y}<extra></extra>",
         "ids": {
          "bdata": "Ag==",
          "dtype": "i1"
         },
         "legendgroup": "B32",
         "marker": {
          "color": "#EF553B",
          "pattern": {
           "shape": ""
          }
         },
         "name": "B32",
         "orientation": "v",
         "showlegend": true,
         "textposition": "auto",
         "type": "bar",
         "x": {
          "bdata": "Ag==",
          "dtype": "i1"
         },
         "xaxis": "x",
         "y": {
          "bdata": "bBo=",
          "dtype": "i2"
         },
         "yaxis": "y"
        },
        {
         "hovertemplate": "page2_clothing_model=P16<br>month=7<br>Main Category=%{x}<br>Total Price=%{y}<extra></extra>",
         "ids": {
          "bdata": "BA==",
          "dtype": "i1"
         },
         "legendgroup": "P16",
         "marker": {
          "color": "#00cc96",
          "pattern": {
           "shape": ""
          }
         },
         "name": "P16",
         "orientation": "v",
         "showlegend": true,
         "textposition": "auto",
         "type": "bar",
         "x": {
          "bdata": "BA==",
          "dtype": "i1"
         },
         "xaxis": "x",
         "y": {
          "bdata": "Gxg=",
          "dtype": "i2"
         },
         "yaxis": "y"
        },
        {
         "hovertemplate": "page2_clothing_model=B23<br>month=7<br>Main Category=%{x}<br>Total Price=%{y}<extra></extra>",
         "ids": {
          "bdata": "Ag==",
          "dtype": "i1"
         },
         "legendgroup": "B23",
         "marker": {
          "color": "#ab63fa",
          "pattern": {
           "shape": ""
          }
         },
         "name": "B23",
         "orientation": "v",
         "showlegend": true,
         "textposition": "auto",
         "type": "bar",
         "x": {
          "bdata": "Ag==",
          "dtype": "i1"
         },
         "xaxis": "x",
         "y": {
          "bdata": "UBs=",
          "dtype": "i2"
         },
         "yaxis": "y"
        },
        {
         "hovertemplate": "page2_clothing_model=B17<br>month=7<br>Main Category=%{x}<br>Total Price=%{y}<extra></extra>",
         "ids": {
          "bdata": "Ag==",
          "dtype": "i1"
         },
         "legendgroup": "B17",
         "marker": {
          "color": "#FFA15A",
          "pattern": {
           "shape": ""
          }
         },
         "name": "B17",
         "orientation": "v",
         "showlegend": true,
         "textposition": "auto",
         "type": "bar",
         "x": {
          "bdata": "Ag==",
          "dtype": "i1"
         },
         "xaxis": "x",
         "y": {
          "bdata": "Uh8=",
          "dtype": "i2"
         },
         "yaxis": "y"
        },
        {
         "hovertemplate": "page2_clothing_model=B12<br>month=7<br>Main Category=%{x}<br>Total Price=%{y}<extra></extra>",
         "ids": {
          "bdata": "Ag==",
          "dtype": "i1"
         },
         "legendgroup": "B12",
         "marker": {
          "color": "#19d3f3",
          "pattern": {
           "shape": ""
          }
         },
         "name": "B12",
         "orientation": "v",
         "showlegend": true,
         "textposition": "auto",
         "type": "bar",
         "x": {
          "bdata": "Ag==",
          "dtype": "i1"
         },
         "xaxis": "x",
         "y": {
          "bdata": "0CQ=",
          "dtype": "i2"
         },
         "yaxis": "y"
        },
        {
         "hovertemplate": "page2_clothing_model=A16<br>month=7<br>Main Category=%{x}<br>Total Price=%{y}<extra></extra>",
         "ids": {
          "bdata": "AQ==",
          "dtype": "i1"
         },
         "legendgroup": "A16",
         "marker": {
          "color": "#FF6692",
          "pattern": {
           "shape": ""
          }
         },
         "name": "A16",
         "orientation": "v",
         "showlegend": true,
         "textposition": "auto",
         "type": "bar",
         "x": {
          "bdata": "AQ==",
          "dtype": "i1"
         },
         "xaxis": "x",
         "y": {
          "bdata": "XRg=",
          "dtype": "i2"
         },
         "yaxis": "y"
        },
        {
         "hovertemplate": "page2_clothing_model=B9<br>month=7<br>Main Category=%{x}<br>Total Price=%{y}<extra></extra>",
         "ids": {
          "bdata": "Ag==",
          "dtype": "i1"
         },
         "legendgroup": "B9",
         "marker": {
          "color": "#B6E880",
          "pattern": {
           "shape": ""
          }
         },
         "name": "B9",
         "orientation": "v",
         "showlegend": true,
         "textposition": "auto",
         "type": "bar",
         "x": {
          "bdata": "Ag==",
          "dtype": "i1"
         },
         "xaxis": "x",
         "y": {
          "bdata": "cBc=",
          "dtype": "i2"
         },
         "yaxis": "y"
        },
        {
         "hovertemplate": "page2_clothing_model=A13<br>month=7<br>Main Category=%{x}<br>Total Price=%{y}<extra></extra>",
         "ids": {
          "bdata": "AQ==",
          "dtype": "i1"
         },
         "legendgroup": "A13",
         "marker": {
          "color": "#FF97FF",
          "pattern": {
           "shape": ""
          }
         },
         "name": "A13",
         "orientation": "v",
         "showlegend": true,
         "textposition": "auto",
         "type": "bar",
         "x": {
          "bdata": "AQ==",
          "dtype": "i1"
         },
         "xaxis": "x",
         "y": {
          "bdata": "TB4=",
          "dtype": "i2"
         },
         "yaxis": "y"
        },
        {
         "hovertemplate": "page2_clothing_model=B19<br>month=7<br>Main Category=%{x}<br>Total Price=%{y}<extra></extra>",
         "ids": {
          "bdata": "Ag==",
          "dtype": "i1"
         },
         "legendgroup": "B19",
         "marker": {
          "color": "#FECB52",
          "pattern": {
           "shape": ""
          }
         },
         "name": "B19",
         "orientation": "v",
         "showlegend": true,
         "textposition": "auto",
         "type": "bar",
         "x": {
          "bdata": "Ag==",
          "dtype": "i1"
         },
         "xaxis": "x",
         "y": {
          "bdata": "MBQ=",
          "dtype": "i2"
         },
         "yaxis": "y"
        },
        {
         "hovertemplate": "page2_clothing_model=A33<br>month=7<br>Main Category=%{x}<br>Total Price=%{y}<extra></extra>",
         "ids": {
          "bdata": "AQ==",
          "dtype": "i1"
         },
         "legendgroup": "A33",
         "marker": {
          "color": "#636efa",
          "pattern": {
           "shape": ""
          }
         },
         "name": "A33",
         "orientation": "v",
         "showlegend": true,
         "textposition": "auto",
         "type": "bar",
         "x": {
          "bdata": "AQ==",
          "dtype": "i1"
         },
         "xaxis": "x",
         "y": {
          "bdata": "ngw=",
          "dtype": "i2"
         },
         "yaxis": "y"
        },
        {
         "hovertemplate": "page2_clothing_model=P12<br>month=7<br>Main Category=%{x}<br>Total Price=%{y}<extra></extra>",
         "ids": {
          "bdata": "BA==",
          "dtype": "i1"
         },
         "legendgroup": "P12",
         "marker": {
          "color": "#EF553B",
          "pattern": {
           "shape": ""
          }
         },
         "name": "P12",
         "orientation": "v",
         "showlegend": true,
         "textposition": "auto",
         "type": "bar",
         "x": {
          "bdata": "BA==",
          "dtype": "i1"
         },
         "xaxis": "x",
         "y": {
          "bdata": "fxQ=",
          "dtype": "i2"
         },
         "yaxis": "y"
        },
        {
         "hovertemplate": "page2_clothing_model=A41<br>month=7<br>Main Category=%{x}<br>Total Price=%{y}<extra></extra>",
         "ids": {
          "bdata": "AQ==",
          "dtype": "i1"
         },
         "legendgroup": "A41",
         "marker": {
          "color": "#00cc96",
          "pattern": {
           "shape": ""
          }
         },
         "name": "A41",
         "orientation": "v",
         "showlegend": true,
         "textposition": "auto",
         "type": "bar",
         "x": {
          "bdata": "AQ==",
          "dtype": "i1"
         },
         "xaxis": "x",
         "y": {
          "bdata": "Gg0=",
          "dtype": "i2"
         },
         "yaxis": "y"
        },
        {
         "hovertemplate": "page2_clothing_model=C1<br>month=7<br>Main Category=%{x}<br>Total Price=%{y}<extra></extra>",
         "ids": {
          "bdata": "Aw==",
          "dtype": "i1"
         },
         "legendgroup": "C1",
         "marker": {
          "color": "#ab63fa",
          "pattern": {
           "shape": ""
          }
         },
         "name": "C1",
         "orientation": "v",
         "showlegend": true,
         "textposition": "auto",
         "type": "bar",
         "x": {
          "bdata": "Aw==",
          "dtype": "i1"
         },
         "xaxis": "x",
         "y": {
          "bdata": "7BI=",
          "dtype": "i2"
         },
         "yaxis": "y"
        },
        {
         "hovertemplate": "page2_clothing_model=A18<br>month=7<br>Main Category=%{x}<br>Total Price=%{y}<extra></extra>",
         "ids": {
          "bdata": "AQ==",
          "dtype": "i1"
         },
         "legendgroup": "A18",
         "marker": {
          "color": "#FFA15A",
          "pattern": {
           "shape": ""
          }
         },
         "name": "A18",
         "orientation": "v",
         "showlegend": true,
         "textposition": "auto",
         "type": "bar",
         "x": {
          "bdata": "AQ==",
          "dtype": "i1"
         },
         "xaxis": "x",
         "y": {
          "bdata": "bBo=",
          "dtype": "i2"
         },
         "yaxis": "y"
        },
        {
         "hovertemplate": "page2_clothing_model=B34<br>month=7<br>Main Category=%{x}<br>Total Price=%{y}<extra></extra>",
         "ids": {
          "bdata": "Ag==",
          "dtype": "i1"
         },
         "legendgroup": "B34",
         "marker": {
          "color": "#19d3f3",
          "pattern": {
           "shape": ""
          }
         },
         "name": "B34",
         "orientation": "v",
         "showlegend": true,
         "textposition": "auto",
         "type": "bar",
         "x": {
          "bdata": "Ag==",
          "dtype": "i1"
         },
         "xaxis": "x",
         "y": {
          "bdata": "MBI=",
          "dtype": "i2"
         },
         "yaxis": "y"
        },
        {
         "hovertemplate": "page2_clothing_model=A30<br>month=7<br>Main Category=%{x}<br>Total Price=%{y}<extra></extra>",
         "ids": {
          "bdata": "AQ==",
          "dtype": "i1"
         },
         "legendgroup": "A30",
         "marker": {
          "color": "#FF6692",
          "pattern": {
           "shape": ""
          }
         },
         "name": "A30",
         "orientation": "v",
         "showlegend": true,
         "textposition": "auto",
         "type": "bar",
         "x": {
          "bdata": "AQ==",
          "dtype": "i1"
         },
         "xaxis": "x",
         "y": {
          "bdata": "vA8=",
          "dtype": "i2"
         },
         "yaxis": "y"
        },
        {
         "hovertemplate": "page2_clothing_model=C40<br>month=7<br>Main Category=%{x}<br>Total Price=%{y}<extra></extra>",
         "ids": {
          "bdata": "Aw==",
          "dtype": "i1"
         },
         "legendgroup": "C40",
         "marker": {
          "color": "#B6E880",
          "pattern": {
           "shape": ""
          }
         },
         "name": "C40",
         "orientation": "v",
         "showlegend": true,
         "textposition": "auto",
         "type": "bar",
         "x": {
          "bdata": "Aw==",
          "dtype": "i1"
         },
         "xaxis": "x",
         "y": {
          "bdata": "kBQ=",
          "dtype": "i2"
         },
         "yaxis": "y"
        },
        {
         "hovertemplate": "page2_clothing_model=P48<br>month=7<br>Main Category=%{x}<br>Total Price=%{y}<extra></extra>",
         "ids": {
          "bdata": "BA==",
          "dtype": "i1"
         },
         "legendgroup": "P48",
         "marker": {
          "color": "#FF97FF",
          "pattern": {
           "shape": ""
          }
         },
         "name": "P48",
         "orientation": "v",
         "showlegend": true,
         "textposition": "auto",
         "type": "bar",
         "x": {
          "bdata": "BA==",
          "dtype": "i1"
         },
         "xaxis": "x",
         "y": {
          "bdata": "sg4=",
          "dtype": "i2"
         },
         "yaxis": "y"
        },
        {
         "hovertemplate": "page2_clothing_model=C14<br>month=7<br>Main Category=%{x}<br>Total Price=%{y}<extra></extra>",
         "ids": {
          "bdata": "Aw==",
          "dtype": "i1"
         },
         "legendgroup": "C14",
         "marker": {
          "color": "#FECB52",
          "pattern": {
           "shape": ""
          }
         },
         "name": "C14",
         "orientation": "v",
         "showlegend": true,
         "textposition": "auto",
         "type": "bar",
         "x": {
          "bdata": "Aw==",
          "dtype": "i1"
         },
         "xaxis": "x",
         "y": {
          "bdata": "dw4=",
          "dtype": "i2"
         },
         "yaxis": "y"
        },
        {
         "hovertemplate": "page2_clothing_model=P2<br>month=7<br>Main Category=%{x}<br>Total Price=%{y}<extra></extra>",
         "ids": {
          "bdata": "BA==",
          "dtype": "i1"
         },
         "legendgroup": "P2",
         "marker": {
          "color": "#636efa",
          "pattern": {
           "shape": ""
          }
         },
         "name": "P2",
         "orientation": "v",
         "showlegend": true,
         "textposition": "auto",
         "type": "bar",
         "x": {
          "bdata": "BA==",
          "dtype": "i1"
         },
         "xaxis": "x",
         "y": {
          "bdata": "EBg=",
          "dtype": "i2"
         },
         "yaxis": "y"
        },
        {
         "hovertemplate": "page2_clothing_model=A32<br>month=7<br>Main Category=%{x}<br>Total Price=%{y}<extra></extra>",
         "ids": {
          "bdata": "AQ==",
          "dtype": "i1"
         },
         "legendgroup": "A32",
         "marker": {
          "color": "#EF553B",
          "pattern": {
           "shape": ""
          }
         },
         "name": "A32",
         "orientation": "v",
         "showlegend": true,
         "textposition": "auto",
         "type": "bar",
         "x": {
          "bdata": "AQ==",
          "dtype": "i1"
         },
         "xaxis": "x",
         "y": {
          "bdata": "ehA=",
          "dtype": "i2"
         },
         "yaxis": "y"
        },
        {
         "hovertemplate": "page2_clothing_model=C6<br>month=7<br>Main Category=%{x}<br>Total Price=%{y}<extra></extra>",
         "ids": {
          "bdata": "Aw==",
          "dtype": "i1"
         },
         "legendgroup": "C6",
         "marker": {
          "color": "#00cc96",
          "pattern": {
           "shape": ""
          }
         },
         "name": "C6",
         "orientation": "v",
         "showlegend": true,
         "textposition": "auto",
         "type": "bar",
         "x": {
          "bdata": "Aw==",
          "dtype": "i1"
         },
         "xaxis": "x",
         "y": {
          "bdata": "iQ0=",
          "dtype": "i2"
         },
         "yaxis": "y"
        },
        {
         "hovertemplate": "page2_clothing_model=C53<br>month=7<br>Main Category=%{x}<br>Total Price=%{y}<extra></extra>",
         "ids": {
          "bdata": "Aw==",
          "dtype": "i1"
         },
         "legendgroup": "C53",
         "marker": {
          "color": "#ab63fa",
          "pattern": {
           "shape": ""
          }
         },
         "name": "C53",
         "orientation": "v",
         "showlegend": true,
         "textposition": "auto",
         "type": "bar",
         "x": {
          "bdata": "Aw==",
          "dtype": "i1"
         },
         "xaxis": "x",
         "y": {
          "bdata": "lg8=",
          "dtype": "i2"
         },
         "yaxis": "y"
        },
        {
         "hovertemplate": "page2_clothing_model=C57<br>month=7<br>Main Category=%{x}<br>Total Price=%{y}<extra></extra>",
         "ids": {
          "bdata": "Aw==",
          "dtype": "i1"
         },
         "legendgroup": "C57",
         "marker": {
          "color": "#FFA15A",
          "pattern": {
           "shape": ""
          }
         },
         "name": "C57",
         "orientation": "v",
         "showlegend": true,
         "textposition": "auto",
         "type": "bar",
         "x": {
          "bdata": "Aw==",
          "dtype": "i1"
         },
         "xaxis": "x",
         "y": {
          "bdata": "+hc=",
          "dtype": "i2"
         },
         "yaxis": "y"
        },
        {
         "hovertemplate": "page2_clothing_model=C11<br>month=7<br>Main Category=%{x}<br>Total Price=%{y}<extra></extra>",
         "ids": {
          "bdata": "Aw==",
          "dtype": "i1"
         },
         "legendgroup": "C11",
         "marker": {
          "color": "#19d3f3",
          "pattern": {
           "shape": ""
          }
         },
         "name": "C11",
         "orientation": "v",
         "showlegend": true,
         "textposition": "auto",
         "type": "bar",
         "x": {
          "bdata": "Aw==",
          "dtype": "i1"
         },
         "xaxis": "x",
         "y": {
          "bdata": "LRI=",
          "dtype": "i2"
         },
         "yaxis": "y"
        },
        {
         "hovertemplate": "page2_clothing_model=B25<br>month=7<br>Main Category=%{x}<br>Total Price=%{y}<extra></extra>",
         "ids": {
          "bdata": "Ag==",
          "dtype": "i1"
         },
         "legendgroup": "B25",
         "marker": {
          "color": "#FF6692",
          "pattern": {
           "shape": ""
          }
         },
         "name": "B25",
         "orientation": "v",
         "showlegend": true,
         "textposition": "auto",
         "type": "bar",
         "x": {
          "bdata": "Ag==",
          "dtype": "i1"
         },
         "xaxis": "x",
         "y": {
          "bdata": "4g8=",
          "dtype": "i2"
         },
         "yaxis": "y"
        },
        {
         "hovertemplate": "page2_clothing_model=A28<br>month=7<br>Main Category=%{x}<br>Total Price=%{y}<extra></extra>",
         "ids": {
          "bdata": "AQ==",
          "dtype": "i1"
         },
         "legendgroup": "A28",
         "marker": {
          "color": "#B6E880",
          "pattern": {
           "shape": ""
          }
         },
         "name": "A28",
         "orientation": "v",
         "showlegend": true,
         "textposition": "auto",
         "type": "bar",
         "x": {
          "bdata": "AQ==",
          "dtype": "i1"
         },
         "xaxis": "x",
         "y": {
          "bdata": "5Qc=",
          "dtype": "i2"
         },
         "yaxis": "y"
        },
        {
         "hovertemplate": "page2_clothing_model=A20<br>month=7<br>Main Category=%{x}<br>Total Price=%{y}<extra></extra>",
         "ids": {
          "bdata": "AQ==",
          "dtype": "i1"
         },
         "legendgroup": "A20",
         "marker": {
          "color": "#FF97FF",
          "pattern": {
           "shape": ""
          }
         },
         "name": "A20",
         "orientation": "v",
         "showlegend": true,
         "textposition": "auto",
         "type": "bar",
         "x": {
          "bdata": "AQ==",
          "dtype": "i1"
         },
         "xaxis": "x",
         "y": {
          "bdata": "6gw=",
          "dtype": "i2"
         },
         "yaxis": "y"
        },
        {
         "hovertemplate": "page2_clothing_model=P23<br>month=7<br>Main Category=%{x}<br>Total Price=%{y}<extra></extra>",
         "ids": {
          "bdata": "BA==",
          "dtype": "i1"
         },
         "legendgroup": "P23",
         "marker": {
          "color": "#FECB52",
          "pattern": {
           "shape": ""
          }
         },
         "name": "P23",
         "orientation": "v",
         "showlegend": true,
         "textposition": "auto",
         "type": "bar",
         "x": {
          "bdata": "BA==",
          "dtype": "i1"
         },
         "xaxis": "x",
         "y": {
          "bdata": "YBI=",
          "dtype": "i2"
         },
         "yaxis": "y"
        },
        {
         "hovertemplate": "page2_clothing_model=A34<br>month=7<br>Main Category=%{x}<br>Total Price=%{y}<extra></extra>",
         "ids": {
          "bdata": "AQ==",
          "dtype": "i1"
         },
         "legendgroup": "A34",
         "marker": {
          "color": "#636efa",
          "pattern": {
           "shape": ""
          }
         },
         "name": "A34",
         "orientation": "v",
         "showlegend": true,
         "textposition": "auto",
         "type": "bar",
         "x": {
          "bdata": "AQ==",
          "dtype": "i1"
         },
         "xaxis": "x",
         "y": {
          "bdata": "4g8=",
          "dtype": "i2"
         },
         "yaxis": "y"
        },
        {
         "hovertemplate": "page2_clothing_model=C41<br>month=7<br>Main Category=%{x}<br>Total Price=%{y}<extra></extra>",
         "ids": {
          "bdata": "Aw==",
          "dtype": "i1"
         },
         "legendgroup": "C41",
         "marker": {
          "color": "#EF553B",
          "pattern": {
           "shape": ""
          }
         },
         "name": "C41",
         "orientation": "v",
         "showlegend": true,
         "textposition": "auto",
         "type": "bar",
         "x": {
          "bdata": "Aw==",
          "dtype": "i1"
         },
         "xaxis": "x",
         "y": {
          "bdata": "fAs=",
          "dtype": "i2"
         },
         "yaxis": "y"
        },
        {
         "hovertemplate": "page2_clothing_model=P49<br>month=7<br>Main Category=%{x}<br>Total Price=%{y}<extra></extra>",
         "ids": {
          "bdata": "BA==",
          "dtype": "i1"
         },
         "legendgroup": "P49",
         "marker": {
          "color": "#00cc96",
          "pattern": {
           "shape": ""
          }
         },
         "name": "P49",
         "orientation": "v",
         "showlegend": true,
         "textposition": "auto",
         "type": "bar",
         "x": {
          "bdata": "BA==",
          "dtype": "i1"
         },
         "xaxis": "x",
         "y": {
          "bdata": "Fgs=",
          "dtype": "i2"
         },
         "yaxis": "y"
        },
        {
         "hovertemplate": "page2_clothing_model=C49<br>month=7<br>Main Category=%{x}<br>Total Price=%{y}<extra></extra>",
         "ids": {
          "bdata": "Aw==",
          "dtype": "i1"
         },
         "legendgroup": "C49",
         "marker": {
          "color": "#ab63fa",
          "pattern": {
           "shape": ""
          }
         },
         "name": "C49",
         "orientation": "v",
         "showlegend": true,
         "textposition": "auto",
         "type": "bar",
         "x": {
          "bdata": "Aw==",
          "dtype": "i1"
         },
         "xaxis": "x",
         "y": {
          "bdata": "ug4=",
          "dtype": "i2"
         },
         "yaxis": "y"
        },
        {
         "hovertemplate": "page2_clothing_model=C30<br>month=7<br>Main Category=%{x}<br>Total Price=%{y}<extra></extra>",
         "ids": {
          "bdata": "Aw==",
          "dtype": "i1"
         },
         "legendgroup": "C30",
         "marker": {
          "color": "#FFA15A",
          "pattern": {
           "shape": ""
          }
         },
         "name": "C30",
         "orientation": "v",
         "showlegend": true,
         "textposition": "auto",
         "type": "bar",
         "x": {
          "bdata": "Aw==",
          "dtype": "i1"
         },
         "xaxis": "x",
         "y": {
          "bdata": "vBA=",
          "dtype": "i2"
         },
         "yaxis": "y"
        },
        {
         "hovertemplate": "page2_clothing_model=C10<br>month=7<br>Main Category=%{x}<br>Total Price=%{y}<extra></extra>",
         "ids": {
          "bdata": "Aw==",
          "dtype": "i1"
         },
         "legendgroup": "C10",
         "marker": {
          "color": "#19d3f3",
          "pattern": {
           "shape": ""
          }
         },
         "name": "C10",
         "orientation": "v",
         "showlegend": true,
         "textposition": "auto",
         "type": "bar",
         "x": {
          "bdata": "Aw==",
          "dtype": "i1"
         },
         "xaxis": "x",
         "y": {
          "bdata": "oAk=",
          "dtype": "i2"
         },
         "yaxis": "y"
        },
        {
         "hovertemplate": "page2_clothing_model=P50<br>month=7<br>Main Category=%{x}<br>Total Price=%{y}<extra></extra>",
         "ids": {
          "bdata": "BA==",
          "dtype": "i1"
         },
         "legendgroup": "P50",
         "marker": {
          "color": "#FF6692",
          "pattern": {
           "shape": ""
          }
         },
         "name": "P50",
         "orientation": "v",
         "showlegend": true,
         "textposition": "auto",
         "type": "bar",
         "x": {
          "bdata": "BA==",
          "dtype": "i1"
         },
         "xaxis": "x",
         "y": {
          "bdata": "igk=",
          "dtype": "i2"
         },
         "yaxis": "y"
        },
        {
         "hovertemplate": "page2_clothing_model=A42<br>month=7<br>Main Category=%{x}<br>Total Price=%{y}<extra></extra>",
         "ids": {
          "bdata": "AQ==",
          "dtype": "i1"
         },
         "legendgroup": "A42",
         "marker": {
          "color": "#B6E880",
          "pattern": {
           "shape": ""
          }
         },
         "name": "A42",
         "orientation": "v",
         "showlegend": true,
         "textposition": "auto",
         "type": "bar",
         "x": {
          "bdata": "AQ==",
          "dtype": "i1"
         },
         "xaxis": "x",
         "y": {
          "bdata": "dA0=",
          "dtype": "i2"
         },
         "yaxis": "y"
        },
        {
         "hovertemplate": "page2_clothing_model=P5<br>month=7<br>Main Category=%{x}<br>Total Price=%{y}<extra></extra>",
         "ids": {
          "bdata": "BA==",
          "dtype": "i1"
         },
         "legendgroup": "P5",
         "marker": {
          "color": "#FF97FF",
          "pattern": {
           "shape": ""
          }
         },
         "name": "P5",
         "orientation": "v",
         "showlegend": true,
         "textposition": "auto",
         "type": "bar",
         "x": {
          "bdata": "BA==",
          "dtype": "i1"
         },
         "xaxis": "x",
         "y": {
          "bdata": "sQo=",
          "dtype": "i2"
         },
         "yaxis": "y"
        },
        {
         "hovertemplate": "page2_clothing_model=P8<br>month=7<br>Main Category=%{x}<br>Total Price=%{y}<extra></extra>",
         "ids": {
          "bdata": "BA==",
          "dtype": "i1"
         },
         "legendgroup": "P8",
         "marker": {
          "color": "#FECB52",
          "pattern": {
           "shape": ""
          }
         },
         "name": "P8",
         "orientation": "v",
         "showlegend": true,
         "textposition": "auto",
         "type": "bar",
         "x": {
          "bdata": "BA==",
          "dtype": "i1"
         },
         "xaxis": "x",
         "y": {
          "bdata": "IA0=",
          "dtype": "i2"
         },
         "yaxis": "y"
        },
        {
         "hovertemplate": "page2_clothing_model=A26<br>month=7<br>Main Category=%{x}<br>Total Price=%{y}<extra></extra>",
         "ids": {
          "bdata": "AQ==",
          "dtype": "i1"
         },
         "legendgroup": "A26",
         "marker": {
          "color": "#636efa",
          "pattern": {
           "shape": ""
          }
         },
         "name": "A26",
         "orientation": "v",
         "showlegend": true,
         "textposition": "auto",
         "type": "bar",
         "x": {
          "bdata": "AQ==",
          "dtype": "i1"
         },
         "xaxis": "x",
         "y": {
          "bdata": "1AY=",
          "dtype": "i2"
         },
         "yaxis": "y"
        },
        {
         "hovertemplate": "page2_clothing_model=P60<br>month=7<br>Main Category=%{x}<br>Total Price=%{y}<extra></extra>",
         "ids": {
          "bdata": "BA==",
          "dtype": "i1"
         },
         "legendgroup": "P60",
         "marker": {
          "color": "#EF553B",
          "pattern": {
           "shape": ""
          }
         },
         "name": "P60",
         "orientation": "v",
         "showlegend": true,
         "textposition": "auto",
         "type": "bar",
         "x": {
          "bdata": "BA==",
          "dtype": "i1"
         },
         "xaxis": "x",
         "y": {
          "bdata": "HAc=",
          "dtype": "i2"
         },
         "yaxis": "y"
        },
        {
         "hovertemplate": "page2_clothing_model=B7<br>month=7<br>Main Category=%{x}<br>Total Price=%{y}<extra></extra>",
         "ids": {
          "bdata": "Ag==",
          "dtype": "i1"
         },
         "legendgroup": "B7",
         "marker": {
          "color": "#00cc96",
          "pattern": {
           "shape": ""
          }
         },
         "name": "B7",
         "orientation": "v",
         "showlegend": true,
         "textposition": "auto",
         "type": "bar",
         "x": {
          "bdata": "Ag==",
          "dtype": "i1"
         },
         "xaxis": "x",
         "y": {
          "bdata": "LAw=",
          "dtype": "i2"
         },
         "yaxis": "y"
        },
        {
         "hovertemplate": "page2_clothing_model=B28<br>month=7<br>Main Category=%{x}<br>Total Price=%{y}<extra></extra>",
         "ids": {
          "bdata": "Ag==",
          "dtype": "i1"
         },
         "legendgroup": "B28",
         "marker": {
          "color": "#ab63fa",
          "pattern": {
           "shape": ""
          }
         },
         "name": "B28",
         "orientation": "v",
         "showlegend": true,
         "textposition": "auto",
         "type": "bar",
         "x": {
          "bdata": "Ag==",
          "dtype": "i1"
         },
         "xaxis": "x",
         "y": {
          "bdata": "zAk=",
          "dtype": "i2"
         },
         "yaxis": "y"
        },
        {
         "hovertemplate": "page2_clothing_model=C16<br>month=7<br>Main Category=%{x}<br>Total Price=%{y}<extra></extra>",
         "ids": {
          "bdata": "Aw==",
          "dtype": "i1"
         },
         "legendgroup": "C16",
         "marker": {
          "color": "#FFA15A",
          "pattern": {
           "shape": ""
          }
         },
         "name": "C16",
         "orientation": "v",
         "showlegend": true,
         "textposition": "auto",
         "type": "bar",
         "x": {
          "bdata": "Aw==",
          "dtype": "i1"
         },
         "xaxis": "x",
         "y": {
          "bdata": "EAo=",
          "dtype": "i2"
         },
         "yaxis": "y"
        },
        {
         "hovertemplate": "page2_clothing_model=P55<br>month=7<br>Main Category=%{x}<br>Total Price=%{y}<extra></extra>",
         "ids": {
          "bdata": "BA==",
          "dtype": "i1"
         },
         "legendgroup": "P55",
         "marker": {
          "color": "#19d3f3",
          "pattern": {
           "shape": ""
          }
         },
         "name": "P55",
         "orientation": "v",
         "showlegend": true,
         "textposition": "auto",
         "type": "bar",
         "x": {
          "bdata": "BA==",
          "dtype": "i1"
         },
         "xaxis": "x",
         "y": {
          "bdata": "9gY=",
          "dtype": "i2"
         },
         "yaxis": "y"
        },
        {
         "hovertemplate": "page2_clothing_model=C42<br>month=7<br>Main Category=%{x}<br>Total Price=%{y}<extra></extra>",
         "ids": {
          "bdata": "Aw==",
          "dtype": "i1"
         },
         "legendgroup": "C42",
         "marker": {
          "color": "#FF6692",
          "pattern": {
           "shape": ""
          }
         },
         "name": "C42",
         "orientation": "v",
         "showlegend": true,
         "textposition": "auto",
         "type": "bar",
         "x": {
          "bdata": "Aw==",
          "dtype": "i1"
         },
         "xaxis": "x",
         "y": {
          "bdata": "pAg=",
          "dtype": "i2"
         },
         "yaxis": "y"
        },
        {
         "hovertemplate": "page2_clothing_model=P20<br>month=7<br>Main Category=%{x}<br>Total Price=%{y}<extra></extra>",
         "ids": {
          "bdata": "BA==",
          "dtype": "i1"
         },
         "legendgroup": "P20",
         "marker": {
          "color": "#B6E880",
          "pattern": {
           "shape": ""
          }
         },
         "name": "P20",
         "orientation": "v",
         "showlegend": true,
         "textposition": "auto",
         "type": "bar",
         "x": {
          "bdata": "BA==",
          "dtype": "i1"
         },
         "xaxis": "x",
         "y": {
          "bdata": "Rwc=",
          "dtype": "i2"
         },
         "yaxis": "y"
        },
        {
         "hovertemplate": "page2_clothing_model=A39<br>month=7<br>Main Category=%{x}<br>Total Price=%{y}<extra></extra>",
         "ids": {
          "bdata": "AQ==",
          "dtype": "i1"
         },
         "legendgroup": "A39",
         "marker": {
          "color": "#FF97FF",
          "pattern": {
           "shape": ""
          }
         },
         "name": "A39",
         "orientation": "v",
         "showlegend": true,
         "textposition": "auto",
         "type": "bar",
         "x": {
          "bdata": "AQ==",
          "dtype": "i1"
         },
         "xaxis": "x",
         "y": {
          "bdata": "Zg4=",
          "dtype": "i2"
         },
         "yaxis": "y"
        },
        {
         "hovertemplate": "page2_clothing_model=A35<br>month=7<br>Main Category=%{x}<br>Total Price=%{y}<extra></extra>",
         "ids": {
          "bdata": "AQ==",
          "dtype": "i1"
         },
         "legendgroup": "A35",
         "marker": {
          "color": "#FECB52",
          "pattern": {
           "shape": ""
          }
         },
         "name": "A35",
         "orientation": "v",
         "showlegend": true,
         "textposition": "auto",
         "type": "bar",
         "x": {
          "bdata": "AQ==",
          "dtype": "i1"
         },
         "xaxis": "x",
         "y": {
          "bdata": "/gc=",
          "dtype": "i2"
         },
         "yaxis": "y"
        },
        {
         "hovertemplate": "page2_clothing_model=A40<br>month=7<br>Main Category=%{x}<br>Total Price=%{y}<extra></extra>",
         "ids": {
          "bdata": "AQ==",
          "dtype": "i1"
         },
         "legendgroup": "A40",
         "marker": {
          "color": "#636efa",
          "pattern": {
           "shape": ""
          }
         },
         "name": "A40",
         "orientation": "v",
         "showlegend": true,
         "textposition": "auto",
         "type": "bar",
         "x": {
          "bdata": "AQ==",
          "dtype": "i1"
         },
         "xaxis": "x",
         "y": {
          "bdata": "UAg=",
          "dtype": "i2"
         },
         "yaxis": "y"
        },
        {
         "hovertemplate": "page2_clothing_model=C3<br>month=7<br>Main Category=%{x}<br>Total Price=%{y}<extra></extra>",
         "ids": {
          "bdata": "Aw==",
          "dtype": "i1"
         },
         "legendgroup": "C3",
         "marker": {
          "color": "#EF553B",
          "pattern": {
           "shape": ""
          }
         },
         "name": "C3",
         "orientation": "v",
         "showlegend": true,
         "textposition": "auto",
         "type": "bar",
         "x": {
          "bdata": "Aw==",
          "dtype": "i1"
         },
         "xaxis": "x",
         "y": {
          "bdata": "5Qg=",
          "dtype": "i2"
         },
         "yaxis": "y"
        },
        {
         "hovertemplate": "page2_clothing_model=C15<br>month=7<br>Main Category=%{x}<br>Total Price=%{y}<extra></extra>",
         "ids": {
          "bdata": "Aw==",
          "dtype": "i1"
         },
         "legendgroup": "C15",
         "marker": {
          "color": "#00cc96",
          "pattern": {
           "shape": ""
          }
         },
         "name": "C15",
         "orientation": "v",
         "showlegend": true,
         "textposition": "auto",
         "type": "bar",
         "x": {
          "bdata": "Aw==",
          "dtype": "i1"
         },
         "xaxis": "x",
         "y": {
          "bdata": "Lwo=",
          "dtype": "i2"
         },
         "yaxis": "y"
        },
        {
         "hovertemplate": "page2_clothing_model=A25<br>month=7<br>Main Category=%{x}<br>Total Price=%{y}<extra></extra>",
         "ids": {
          "bdata": "AQ==",
          "dtype": "i1"
         },
         "legendgroup": "A25",
         "marker": {
          "color": "#ab63fa",
          "pattern": {
           "shape": ""
          }
         },
         "name": "A25",
         "orientation": "v",
         "showlegend": true,
         "textposition": "auto",
         "type": "bar",
         "x": {
          "bdata": "AQ==",
          "dtype": "i1"
         },
         "xaxis": "x",
         "y": {
          "bdata": "MgU=",
          "dtype": "i2"
         },
         "yaxis": "y"
        },
        {
         "hovertemplate": "page2_clothing_model=P7<br>month=7<br>Main Category=%{x}<br>Total Price=%{y}<extra></extra>",
         "ids": {
          "bdata": "BA==",
          "dtype": "i1"
         },
         "legendgroup": "P7",
         "marker": {
          "color": "#FFA15A",
          "pattern": {
           "shape": ""
          }
         },
         "name": "P7",
         "orientation": "v",
         "showlegend": true,
         "textposition": "auto",
         "type": "bar",
         "x": {
          "bdata": "BA==",
          "dtype": "i1"
         },
         "xaxis": "x",
         "y": {
          "bdata": "OA4=",
          "dtype": "i2"
         },
         "yaxis": "y"
        },
        {
         "hovertemplate": "page2_clothing_model=C50<br>month=7<br>Main Category=%{x}<br>Total Price=%{y}<extra></extra>",
         "ids": {
          "bdata": "Aw==",
          "dtype": "i1"
         },
         "legendgroup": "C50",
         "marker": {
          "color": "#19d3f3",
          "pattern": {
           "shape": ""
          }
         },
         "name": "C50",
         "orientation": "v",
         "showlegend": true,
         "textposition": "auto",
         "type": "bar",
         "x": {
          "bdata": "Aw==",
          "dtype": "i1"
         },
         "xaxis": "x",
         "y": {
          "bdata": "BAs=",
          "dtype": "i2"
         },
         "yaxis": "y"
        },
        {
         "hovertemplate": "page2_clothing_model=P29<br>month=7<br>Main Category=%{x}<br>Total Price=%{y}<extra></extra>",
         "ids": {
          "bdata": "BA==",
          "dtype": "i1"
         },
         "legendgroup": "P29",
         "marker": {
          "color": "#FF6692",
          "pattern": {
           "shape": ""
          }
         },
         "name": "P29",
         "orientation": "v",
         "showlegend": true,
         "textposition": "auto",
         "type": "bar",
         "x": {
          "bdata": "BA==",
          "dtype": "i1"
         },
         "xaxis": "x",
         "y": {
          "bdata": "DQ4=",
          "dtype": "i2"
         },
         "yaxis": "y"
        },
        {
         "hovertemplate": "page2_clothing_model=P9<br>month=7<br>Main Category=%{x}<br>Total Price=%{y}<extra></extra>",
         "ids": {
          "bdata": "BA==",
          "dtype": "i1"
         },
         "legendgroup": "P9",
         "marker": {
          "color": "#B6E880",
          "pattern": {
           "shape": ""
          }
         },
         "name": "P9",
         "orientation": "v",
         "showlegend": true,
         "textposition": "auto",
         "type": "bar",
         "x": {
          "bdata": "BA==",
          "dtype": "i1"
         },
         "xaxis": "x",
         "y": {
          "bdata": "Ugs=",
          "dtype": "i2"
         },
         "yaxis": "y"
        },
        {
         "hovertemplate": "page2_clothing_model=P56<br>month=7<br>Main Category=%{x}<br>Total Price=%{y}<extra></extra>",
         "ids": {
          "bdata": "BA==",
          "dtype": "i1"
         },
         "legendgroup": "P56",
         "marker": {
          "color": "#FF97FF",
          "pattern": {
           "shape": ""
          }
         },
         "name": "P56",
         "orientation": "v",
         "showlegend": true,
         "textposition": "auto",
         "type": "bar",
         "x": {
          "bdata": "BA==",
          "dtype": "i1"
         },
         "xaxis": "x",
         "y": {
          "bdata": "BwU=",
          "dtype": "i2"
         },
         "yaxis": "y"
        },
        {
         "hovertemplate": "page2_clothing_model=C24<br>month=7<br>Main Category=%{x}<br>Total Price=%{y}<extra></extra>",
         "ids": {
          "bdata": "Aw==",
          "dtype": "i1"
         },
         "legendgroup": "C24",
         "marker": {
          "color": "#FECB52",
          "pattern": {
           "shape": ""
          }
         },
         "name": "C24",
         "orientation": "v",
         "showlegend": true,
         "textposition": "auto",
         "type": "bar",
         "x": {
          "bdata": "Aw==",
          "dtype": "i1"
         },
         "xaxis": "x",
         "y": {
          "bdata": "/Qs=",
          "dtype": "i2"
         },
         "yaxis": "y"
        },
        {
         "hovertemplate": "page2_clothing_model=C26<br>month=7<br>Main Category=%{x}<br>Total Price=%{y}<extra></extra>",
         "ids": {
          "bdata": "Aw==",
          "dtype": "i1"
         },
         "legendgroup": "C26",
         "marker": {
          "color": "#636efa",
          "pattern": {
           "shape": ""
          }
         },
         "name": "C26",
         "orientation": "v",
         "showlegend": true,
         "textposition": "auto",
         "type": "bar",
         "x": {
          "bdata": "Aw==",
          "dtype": "i1"
         },
         "xaxis": "x",
         "y": {
          "bdata": "qAc=",
          "dtype": "i2"
         },
         "yaxis": "y"
        },
        {
         "hovertemplate": "page2_clothing_model=B20<br>month=7<br>Main Category=%{x}<br>Total Price=%{y}<extra></extra>",
         "ids": {
          "bdata": "Ag==",
          "dtype": "i1"
         },
         "legendgroup": "B20",
         "marker": {
          "color": "#EF553B",
          "pattern": {
           "shape": ""
          }
         },
         "name": "B20",
         "orientation": "v",
         "showlegend": true,
         "textposition": "auto",
         "type": "bar",
         "x": {
          "bdata": "Ag==",
          "dtype": "i1"
         },
         "xaxis": "x",
         "y": {
          "bdata": "cA0=",
          "dtype": "i2"
         },
         "yaxis": "y"
        },
        {
         "hovertemplate": "page2_clothing_model=C38<br>month=7<br>Main Category=%{x}<br>Total Price=%{y}<extra></extra>",
         "ids": {
          "bdata": "Aw==",
          "dtype": "i1"
         },
         "legendgroup": "C38",
         "marker": {
          "color": "#00cc96",
          "pattern": {
           "shape": ""
          }
         },
         "name": "C38",
         "orientation": "v",
         "showlegend": true,
         "textposition": "auto",
         "type": "bar",
         "x": {
          "bdata": "Aw==",
          "dtype": "i1"
         },
         "xaxis": "x",
         "y": {
          "bdata": "rgY=",
          "dtype": "i2"
         },
         "yaxis": "y"
        },
        {
         "hovertemplate": "page2_clothing_model=A23<br>month=7<br>Main Category=%{x}<br>Total Price=%{y}<extra></extra>",
         "ids": {
          "bdata": "AQ==",
          "dtype": "i1"
         },
         "legendgroup": "A23",
         "marker": {
          "color": "#ab63fa",
          "pattern": {
           "shape": ""
          }
         },
         "name": "A23",
         "orientation": "v",
         "showlegend": true,
         "textposition": "auto",
         "type": "bar",
         "x": {
          "bdata": "AQ==",
          "dtype": "i1"
         },
         "xaxis": "x",
         "y": {
          "bdata": "rAU=",
          "dtype": "i2"
         },
         "yaxis": "y"
        },
        {
         "hovertemplate": "page2_clothing_model=P18<br>month=7<br>Main Category=%{x}<br>Total Price=%{y}<extra></extra>",
         "ids": {
          "bdata": "BA==",
          "dtype": "i1"
         },
         "legendgroup": "P18",
         "marker": {
          "color": "#FFA15A",
          "pattern": {
           "shape": ""
          }
         },
         "name": "P18",
         "orientation": "v",
         "showlegend": true,
         "textposition": "auto",
         "type": "bar",
         "x": {
          "bdata": "BA==",
          "dtype": "i1"
         },
         "xaxis": "x",
         "y": {
          "bdata": "sAw=",
          "dtype": "i2"
         },
         "yaxis": "y"
        },
        {
         "hovertemplate": "page2_clothing_model=B33<br>month=7<br>Main Category=%{x}<br>Total Price=%{y}<extra></extra>",
         "ids": {
          "bdata": "Ag==",
          "dtype": "i1"
         },
         "legendgroup": "B33",
         "marker": {
          "color": "#19d3f3",
          "pattern": {
           "shape": ""
          }
         },
         "name": "B33",
         "orientation": "v",
         "showlegend": true,
         "textposition": "auto",
         "type": "bar",
         "x": {
          "bdata": "Ag==",
          "dtype": "i1"
         },
         "xaxis": "x",
         "y": {
          "bdata": "owg=",
          "dtype": "i2"
         },
         "yaxis": "y"
        },
        {
         "hovertemplate": "page2_clothing_model=A36<br>month=7<br>Main Category=%{x}<br>Total Price=%{y}<extra></extra>",
         "ids": {
          "bdata": "AQ==",
          "dtype": "i1"
         },
         "legendgroup": "A36",
         "marker": {
          "color": "#FF6692",
          "pattern": {
           "shape": ""
          }
         },
         "name": "A36",
         "orientation": "v",
         "showlegend": true,
         "textposition": "auto",
         "type": "bar",
         "x": {
          "bdata": "AQ==",
          "dtype": "i1"
         },
         "xaxis": "x",
         "y": {
          "bdata": "7gU=",
          "dtype": "i2"
         },
         "yaxis": "y"
        },
        {
         "hovertemplate": "page2_clothing_model=P61<br>month=7<br>Main Category=%{x}<br>Total Price=%{y}<extra></extra>",
         "ids": {
          "bdata": "BA==",
          "dtype": "i1"
         },
         "legendgroup": "P61",
         "marker": {
          "color": "#B6E880",
          "pattern": {
           "shape": ""
          }
         },
         "name": "P61",
         "orientation": "v",
         "showlegend": true,
         "textposition": "auto",
         "type": "bar",
         "x": {
          "bdata": "BA==",
          "dtype": "i1"
         },
         "xaxis": "x",
         "y": {
          "bdata": "uAo=",
          "dtype": "i2"
         },
         "yaxis": "y"
        },
        {
         "hovertemplate": "page2_clothing_model=C25<br>month=7<br>Main Category=%{x}<br>Total Price=%{y}<extra></extra>",
         "ids": {
          "bdata": "Aw==",
          "dtype": "i1"
         },
         "legendgroup": "C25",
         "marker": {
          "color": "#FF97FF",
          "pattern": {
           "shape": ""
          }
         },
         "name": "C25",
         "orientation": "v",
         "showlegend": true,
         "textposition": "auto",
         "type": "bar",
         "x": {
          "bdata": "Aw==",
          "dtype": "i1"
         },
         "xaxis": "x",
         "y": {
          "bdata": "kgo=",
          "dtype": "i2"
         },
         "yaxis": "y"
        },
        {
         "hovertemplate": "page2_clothing_model=C48<br>month=7<br>Main Category=%{x}<br>Total Price=%{y}<extra></extra>",
         "ids": {
          "bdata": "Aw==",
          "dtype": "i1"
         },
         "legendgroup": "C48",
         "marker": {
          "color": "#FECB52",
          "pattern": {
           "shape": ""
          }
         },
         "name": "C48",
         "orientation": "v",
         "showlegend": true,
         "textposition": "auto",
         "type": "bar",
         "x": {
          "bdata": "Aw==",
          "dtype": "i1"
         },
         "xaxis": "x",
         "y": {
          "bdata": "MAk=",
          "dtype": "i2"
         },
         "yaxis": "y"
        },
        {
         "hovertemplate": "page2_clothing_model=A19<br>month=7<br>Main Category=%{x}<br>Total Price=%{y}<extra></extra>",
         "ids": {
          "bdata": "AQ==",
          "dtype": "i1"
         },
         "legendgroup": "A19",
         "marker": {
          "color": "#636efa",
          "pattern": {
           "shape": ""
          }
         },
         "name": "A19",
         "orientation": "v",
         "showlegend": true,
         "textposition": "auto",
         "type": "bar",
         "x": {
          "bdata": "AQ==",
          "dtype": "i1"
         },
         "xaxis": "x",
         "y": {
          "bdata": "3Qc=",
          "dtype": "i2"
         },
         "yaxis": "y"
        },
        {
         "hovertemplate": "page2_clothing_model=P72<br>month=7<br>Main Category=%{x}<br>Total Price=%{y}<extra></extra>",
         "ids": {
          "bdata": "BA==",
          "dtype": "i1"
         },
         "legendgroup": "P72",
         "marker": {
          "color": "#EF553B",
          "pattern": {
           "shape": ""
          }
         },
         "name": "P72",
         "orientation": "v",
         "showlegend": true,
         "textposition": "auto",
         "type": "bar",
         "x": {
          "bdata": "BA==",
          "dtype": "i1"
         },
         "xaxis": "x",
         "y": {
          "bdata": "mgs=",
          "dtype": "i2"
         },
         "yaxis": "y"
        },
        {
         "hovertemplate": "page2_clothing_model=P51<br>month=7<br>Main Category=%{x}<br>Total Price=%{y}<extra></extra>",
         "ids": {
          "bdata": "BA==",
          "dtype": "i1"
         },
         "legendgroup": "P51",
         "marker": {
          "color": "#00cc96",
          "pattern": {
           "shape": ""
          }
         },
         "name": "P51",
         "orientation": "v",
         "showlegend": true,
         "textposition": "auto",
         "type": "bar",
         "x": {
          "bdata": "BA==",
          "dtype": "i1"
         },
         "xaxis": "x",
         "y": {
          "bdata": "lAU=",
          "dtype": "i2"
         },
         "yaxis": "y"
        },
        {
         "hovertemplate": "page2_clothing_model=C31<br>month=7<br>Main Category=%{x}<br>Total Price=%{y}<extra></extra>",
         "ids": {
          "bdata": "Aw==",
          "dtype": "i1"
         },
         "legendgroup": "C31",
         "marker": {
          "color": "#ab63fa",
          "pattern": {
           "shape": ""
          }
         },
         "name": "C31",
         "orientation": "v",
         "showlegend": true,
         "textposition": "auto",
         "type": "bar",
         "x": {
          "bdata": "Aw==",
          "dtype": "i1"
         },
         "xaxis": "x",
         "y": {
          "bdata": "5gQ=",
          "dtype": "i2"
         },
         "yaxis": "y"
        },
        {
         "hovertemplate": "page2_clothing_model=C51<br>month=7<br>Main Category=%{x}<br>Total Price=%{y}<extra></extra>",
         "ids": {
          "bdata": "Aw==",
          "dtype": "i1"
         },
         "legendgroup": "C51",
         "marker": {
          "color": "#FFA15A",
          "pattern": {
           "shape": ""
          }
         },
         "name": "C51",
         "orientation": "v",
         "showlegend": true,
         "textposition": "auto",
         "type": "bar",
         "x": {
          "bdata": "Aw==",
          "dtype": "i1"
         },
         "xaxis": "x",
         "y": {
          "bdata": "5Ac=",
          "dtype": "i2"
         },
         "yaxis": "y"
        },
        {
         "hovertemplate": "page2_clothing_model=C32<br>month=7<br>Main Category=%{x}<br>Total Price=%{y}<extra></extra>",
         "ids": {
          "bdata": "Aw==",
          "dtype": "i1"
         },
         "legendgroup": "C32",
         "marker": {
          "color": "#19d3f3",
          "pattern": {
           "shape": ""
          }
         },
         "name": "C32",
         "orientation": "v",
         "showlegend": true,
         "textposition": "auto",
         "type": "bar",
         "x": {
          "bdata": "Aw==",
          "dtype": "i1"
         },
         "xaxis": "x",
         "y": {
          "bdata": "iwU=",
          "dtype": "i2"
         },
         "yaxis": "y"
        },
        {
         "hovertemplate": "page2_clothing_model=P46<br>month=7<br>Main Category=%{x}<br>Total Price=%{y}<extra></extra>",
         "ids": {
          "bdata": "BA==",
          "dtype": "i1"
         },
         "legendgroup": "P46",
         "marker": {
          "color": "#FF6692",
          "pattern": {
           "shape": ""
          }
         },
         "name": "P46",
         "orientation": "v",
         "showlegend": true,
         "textposition": "auto",
         "type": "bar",
         "x": {
          "bdata": "BA==",
          "dtype": "i1"
         },
         "xaxis": "x",
         "y": {
          "bdata": "JAU=",
          "dtype": "i2"
         },
         "yaxis": "y"
        },
        {
         "hovertemplate": "page2_clothing_model=P38<br>month=7<br>Main Category=%{x}<br>Total Price=%{y}<extra></extra>",
         "ids": {
          "bdata": "BA==",
          "dtype": "i1"
         },
         "legendgroup": "P38",
         "marker": {
          "color": "#B6E880",
          "pattern": {
           "shape": ""
          }
         },
         "name": "P38",
         "orientation": "v",
         "showlegend": true,
         "textposition": "auto",
         "type": "bar",
         "x": {
          "bdata": "BA==",
          "dtype": "i1"
         },
         "xaxis": "x",
         "y": {
          "bdata": "BwU=",
          "dtype": "i2"
         },
         "yaxis": "y"
        },
        {
         "hovertemplate": "page2_clothing_model=P47<br>month=7<br>Main Category=%{x}<br>Total Price=%{y}<extra></extra>",
         "ids": {
          "bdata": "BA==",
          "dtype": "i1"
         },
         "legendgroup": "P47",
         "marker": {
          "color": "#FF97FF",
          "pattern": {
           "shape": ""
          }
         },
         "name": "P47",
         "orientation": "v",
         "showlegend": true,
         "textposition": "auto",
         "type": "bar",
         "x": {
          "bdata": "BA==",
          "dtype": "i1"
         },
         "xaxis": "x",
         "y": {
          "bdata": "1AM=",
          "dtype": "i2"
         },
         "yaxis": "y"
        },
        {
         "hovertemplate": "page2_clothing_model=P71<br>month=7<br>Main Category=%{x}<br>Total Price=%{y}<extra></extra>",
         "ids": {
          "bdata": "BA==",
          "dtype": "i1"
         },
         "legendgroup": "P71",
         "marker": {
          "color": "#FECB52",
          "pattern": {
           "shape": ""
          }
         },
         "name": "P71",
         "orientation": "v",
         "showlegend": true,
         "textposition": "auto",
         "type": "bar",
         "x": {
          "bdata": "BA==",
          "dtype": "i1"
         },
         "xaxis": "x",
         "y": {
          "bdata": "xAg=",
          "dtype": "i2"
         },
         "yaxis": "y"
        },
        {
         "hovertemplate": "page2_clothing_model=P30<br>month=7<br>Main Category=%{x}<br>Total Price=%{y}<extra></extra>",
         "ids": {
          "bdata": "BA==",
          "dtype": "i1"
         },
         "legendgroup": "P30",
         "marker": {
          "color": "#636efa",
          "pattern": {
           "shape": ""
          }
         },
         "name": "P30",
         "orientation": "v",
         "showlegend": true,
         "textposition": "auto",
         "type": "bar",
         "x": {
          "bdata": "BA==",
          "dtype": "i1"
         },
         "xaxis": "x",
         "y": {
          "bdata": "MAY=",
          "dtype": "i2"
         },
         "yaxis": "y"
        },
        {
         "hovertemplate": "page2_clothing_model=P74<br>month=7<br>Main Category=%{x}<br>Total Price=%{y}<extra></extra>",
         "ids": {
          "bdata": "BA==",
          "dtype": "i1"
         },
         "legendgroup": "P74",
         "marker": {
          "color": "#EF553B",
          "pattern": {
           "shape": ""
          }
         },
         "name": "P74",
         "orientation": "v",
         "showlegend": true,
         "textposition": "auto",
         "type": "bar",
         "x": {
          "bdata": "BA==",
          "dtype": "i1"
         },
         "xaxis": "x",
         "y": {
          "bdata": "ggg=",
          "dtype": "i2"
         },
         "yaxis": "y"
        },
        {
         "hovertemplate": "page2_clothing_model=P63<br>month=7<br>Main Category=%{x}<br>Total Price=%{y}<extra></extra>",
         "ids": {
          "bdata": "BA==",
          "dtype": "i1"
         },
         "legendgroup": "P63",
         "marker": {
          "color": "#00cc96",
          "pattern": {
           "shape": ""
          }
         },
         "name": "P63",
         "orientation": "v",
         "showlegend": true,
         "textposition": "auto",
         "type": "bar",
         "x": {
          "bdata": "BA==",
          "dtype": "i1"
         },
         "xaxis": "x",
         "y": {
          "bdata": "BAY=",
          "dtype": "i2"
         },
         "yaxis": "y"
        },
        {
         "hovertemplate": "page2_clothing_model=P42<br>month=7<br>Main Category=%{x}<br>Total Price=%{y}<extra></extra>",
         "ids": {
          "bdata": "BA==",
          "dtype": "i1"
         },
         "legendgroup": "P42",
         "marker": {
          "color": "#ab63fa",
          "pattern": {
           "shape": ""
          }
         },
         "name": "P42",
         "orientation": "v",
         "showlegend": true,
         "textposition": "auto",
         "type": "bar",
         "x": {
          "bdata": "BA==",
          "dtype": "i1"
         },
         "xaxis": "x",
         "y": {
          "bdata": "lAU=",
          "dtype": "i2"
         },
         "yaxis": "y"
        },
        {
         "hovertemplate": "page2_clothing_model=P21<br>month=7<br>Main Category=%{x}<br>Total Price=%{y}<extra></extra>",
         "ids": {
          "bdata": "BA==",
          "dtype": "i1"
         },
         "legendgroup": "P21",
         "marker": {
          "color": "#FFA15A",
          "pattern": {
           "shape": ""
          }
         },
         "name": "P21",
         "orientation": "v",
         "showlegend": true,
         "textposition": "auto",
         "type": "bar",
         "x": {
          "bdata": "BA==",
          "dtype": "i1"
         },
         "xaxis": "x",
         "y": {
          "bdata": "iwU=",
          "dtype": "i2"
         },
         "yaxis": "y"
        },
        {
         "hovertemplate": "page2_clothing_model=P44<br>month=7<br>Main Category=%{x}<br>Total Price=%{y}<extra></extra>",
         "ids": {
          "bdata": "BA==",
          "dtype": "i1"
         },
         "legendgroup": "P44",
         "marker": {
          "color": "#19d3f3",
          "pattern": {
           "shape": ""
          }
         },
         "name": "P44",
         "orientation": "v",
         "showlegend": true,
         "textposition": "auto",
         "type": "bar",
         "x": {
          "bdata": "BA==",
          "dtype": "i1"
         },
         "xaxis": "x",
         "y": {
          "bdata": "ZAM=",
          "dtype": "i2"
         },
         "yaxis": "y"
        },
        {
         "hovertemplate": "page2_clothing_model=P75<br>month=7<br>Main Category=%{x}<br>Total Price=%{y}<extra></extra>",
         "ids": {
          "bdata": "BA==",
          "dtype": "i1"
         },
         "legendgroup": "P75",
         "marker": {
          "color": "#FF6692",
          "pattern": {
           "shape": ""
          }
         },
         "name": "P75",
         "orientation": "v",
         "showlegend": true,
         "textposition": "auto",
         "type": "bar",
         "x": {
          "bdata": "BA==",
          "dtype": "i1"
         },
         "xaxis": "x",
         "y": {
          "bdata": "ewM=",
          "dtype": "i2"
         },
         "yaxis": "y"
        },
        {
         "hovertemplate": "page2_clothing_model=P27<br>month=7<br>Main Category=%{x}<br>Total Price=%{y}<extra></extra>",
         "ids": {
          "bdata": "BA==",
          "dtype": "i1"
         },
         "legendgroup": "P27",
         "marker": {
          "color": "#B6E880",
          "pattern": {
           "shape": ""
          }
         },
         "name": "P27",
         "orientation": "v",
         "showlegend": true,
         "textposition": "auto",
         "type": "bar",
         "x": {
          "bdata": "BA==",
          "dtype": "i1"
         },
         "xaxis": "x",
         "y": {
          "bdata": "nAM=",
          "dtype": "i2"
         },
         "yaxis": "y"
        },
        {
         "hovertemplate": "page2_clothing_model=C52<br>month=7<br>Main Category=%{x}<br>Total Price=%{y}<extra></extra>",
         "ids": {
          "bdata": "Aw==",
          "dtype": "i1"
         },
         "legendgroup": "C52",
         "marker": {
          "color": "#FF97FF",
          "pattern": {
           "shape": ""
          }
         },
         "name": "C52",
         "orientation": "v",
         "showlegend": true,
         "textposition": "auto",
         "type": "bar",
         "x": {
          "bdata": "Aw==",
          "dtype": "i1"
         },
         "xaxis": "x",
         "y": {
          "bdata": "FgY=",
          "dtype": "i2"
         },
         "yaxis": "y"
        },
        {
         "hovertemplate": "page2_clothing_model=P73<br>month=7<br>Main Category=%{x}<br>Total Price=%{y}<extra></extra>",
         "ids": {
          "bdata": "BA==",
          "dtype": "i1"
         },
         "legendgroup": "P73",
         "marker": {
          "color": "#FECB52",
          "pattern": {
           "shape": ""
          }
         },
         "name": "P73",
         "orientation": "v",
         "showlegend": true,
         "textposition": "auto",
         "type": "bar",
         "x": {
          "bdata": "BA==",
          "dtype": "i1"
         },
         "xaxis": "x",
         "y": {
          "bdata": "zQU=",
          "dtype": "i2"
         },
         "yaxis": "y"
        },
        {
         "hovertemplate": "page2_clothing_model=P80<br>month=7<br>Main Category=%{x}<br>Total Price=%{y}<extra></extra>",
         "ids": {
          "bdata": "BA==",
          "dtype": "i1"
         },
         "legendgroup": "P80",
         "marker": {
          "color": "#636efa",
          "pattern": {
           "shape": ""
          }
         },
         "name": "P80",
         "orientation": "v",
         "showlegend": true,
         "textposition": "auto",
         "type": "bar",
         "x": {
          "bdata": "BA==",
          "dtype": "i1"
         },
         "xaxis": "x",
         "y": {
          "bdata": "eAU=",
          "dtype": "i2"
         },
         "yaxis": "y"
        },
        {
         "hovertemplate": "page2_clothing_model=P35<br>month=7<br>Main Category=%{x}<br>Total Price=%{y}<extra></extra>",
         "ids": {
          "bdata": "BA==",
          "dtype": "i1"
         },
         "legendgroup": "P35",
         "marker": {
          "color": "#EF553B",
          "pattern": {
           "shape": ""
          }
         },
         "name": "P35",
         "orientation": "v",
         "showlegend": true,
         "textposition": "auto",
         "type": "bar",
         "x": {
          "bdata": "BA==",
          "dtype": "i1"
         },
         "xaxis": "x",
         "y": {
          "bdata": "7AQ=",
          "dtype": "i2"
         },
         "yaxis": "y"
        },
        {
         "hovertemplate": "page2_clothing_model=P52<br>month=7<br>Main Category=%{x}<br>Total Price=%{y}<extra></extra>",
         "ids": {
          "bdata": "BA==",
          "dtype": "i1"
         },
         "legendgroup": "P52",
         "marker": {
          "color": "#00cc96",
          "pattern": {
           "shape": ""
          }
         },
         "name": "P52",
         "orientation": "v",
         "showlegend": true,
         "textposition": "auto",
         "type": "bar",
         "x": {
          "bdata": "BA==",
          "dtype": "i1"
         },
         "xaxis": "x",
         "y": {
          "bdata": "2gQ=",
          "dtype": "i2"
         },
         "yaxis": "y"
        },
        {
         "hovertemplate": "page2_clothing_model=C47<br>month=7<br>Main Category=%{x}<br>Total Price=%{y}<extra></extra>",
         "ids": {
          "bdata": "Aw==",
          "dtype": "i1"
         },
         "legendgroup": "C47",
         "marker": {
          "color": "#ab63fa",
          "pattern": {
           "shape": ""
          }
         },
         "name": "C47",
         "orientation": "v",
         "showlegend": true,
         "textposition": "auto",
         "type": "bar",
         "x": {
          "bdata": "Aw==",
          "dtype": "i1"
         },
         "xaxis": "x",
         "y": {
          "bdata": "cgM=",
          "dtype": "i2"
         },
         "yaxis": "y"
        },
        {
         "hovertemplate": "page2_clothing_model=P62<br>month=7<br>Main Category=%{x}<br>Total Price=%{y}<extra></extra>",
         "ids": {
          "bdata": "BA==",
          "dtype": "i1"
         },
         "legendgroup": "P62",
         "marker": {
          "color": "#FFA15A",
          "pattern": {
           "shape": ""
          }
         },
         "name": "P62",
         "orientation": "v",
         "showlegend": true,
         "textposition": "auto",
         "type": "bar",
         "x": {
          "bdata": "BA==",
          "dtype": "i1"
         },
         "xaxis": "x",
         "y": {
          "bdata": "gwQ=",
          "dtype": "i2"
         },
         "yaxis": "y"
        },
        {
         "hovertemplate": "page2_clothing_model=P45<br>month=7<br>Main Category=%{x}<br>Total Price=%{y}<extra></extra>",
         "ids": {
          "bdata": "BA==",
          "dtype": "i1"
         },
         "legendgroup": "P45",
         "marker": {
          "color": "#19d3f3",
          "pattern": {
           "shape": ""
          }
         },
         "name": "P45",
         "orientation": "v",
         "showlegend": true,
         "textposition": "auto",
         "type": "bar",
         "x": {
          "bdata": "BA==",
          "dtype": "i1"
         },
         "xaxis": "x",
         "y": {
          "bdata": "IAQ=",
          "dtype": "i2"
         },
         "yaxis": "y"
        },
        {
         "hovertemplate": "page2_clothing_model=C43<br>month=7<br>Main Category=%{x}<br>Total Price=%{y}<extra></extra>",
         "ids": {
          "bdata": "Aw==",
          "dtype": "i1"
         },
         "legendgroup": "C43",
         "marker": {
          "color": "#FF6692",
          "pattern": {
           "shape": ""
          }
         },
         "name": "C43",
         "orientation": "v",
         "showlegend": true,
         "textposition": "auto",
         "type": "bar",
         "x": {
          "bdata": "Aw==",
          "dtype": "i1"
         },
         "xaxis": "x",
         "y": {
          "bdata": "DAQ=",
          "dtype": "i2"
         },
         "yaxis": "y"
        },
        {
         "hovertemplate": "page2_clothing_model=P64<br>month=7<br>Main Category=%{x}<br>Total Price=%{y}<extra></extra>",
         "ids": {
          "bdata": "BA==",
          "dtype": "i1"
         },
         "legendgroup": "P64",
         "marker": {
          "color": "#B6E880",
          "pattern": {
           "shape": ""
          }
         },
         "name": "P64",
         "orientation": "v",
         "showlegend": true,
         "textposition": "auto",
         "type": "bar",
         "x": {
          "bdata": "BA==",
          "dtype": "i1"
         },
         "xaxis": "x",
         "y": {
          "bdata": "hAI=",
          "dtype": "i2"
         },
         "yaxis": "y"
        },
        {
         "hovertemplate": "page2_clothing_model=P31<br>month=7<br>Main Category=%{x}<br>Total Price=%{y}<extra></extra>",
         "ids": {
          "bdata": "BA==",
          "dtype": "i1"
         },
         "legendgroup": "P31",
         "marker": {
          "color": "#FF97FF",
          "pattern": {
           "shape": ""
          }
         },
         "name": "P31",
         "orientation": "v",
         "showlegend": true,
         "textposition": "auto",
         "type": "bar",
         "x": {
          "bdata": "BA==",
          "dtype": "i1"
         },
         "xaxis": "x",
         "y": {
          "bdata": "MQI=",
          "dtype": "i2"
         },
         "yaxis": "y"
        }
       ],
       "frames": [
        {
         "data": [
          {
           "hovertemplate": "page2_clothing_model=A2<br>month=7<br>Main Category=%{x}<br>Total Price=%{y}<extra></extra>",
           "ids": {
            "bdata": "AQ==",
            "dtype": "i1"
           },
           "legendgroup": "A2",
           "marker": {
            "color": "#636efa",
            "pattern": {
             "shape": ""
            }
           },
           "name": "A2",
           "orientation": "v",
           "showlegend": true,
           "textposition": "auto",
           "type": "bar",
           "x": {
            "bdata": "AQ==",
            "dtype": "i1"
           },
           "xaxis": "x",
           "y": {
            "bdata": "gGs=",
            "dtype": "i2"
           },
           "yaxis": "y"
          },
          {
           "hovertemplate": "page2_clothing_model=A4<br>month=7<br>Main Category=%{x}<br>Total Price=%{y}<extra></extra>",
           "ids": {
            "bdata": "AQ==",
            "dtype": "i1"
           },
           "legendgroup": "A4",
           "marker": {
            "color": "#EF553B",
            "pattern": {
             "shape": ""
            }
           },
           "name": "A4",
           "orientation": "v",
           "showlegend": true,
           "textposition": "auto",
           "type": "bar",
           "x": {
            "bdata": "AQ==",
            "dtype": "i1"
           },
           "xaxis": "x",
           "y": {
            "bdata": "ljU=",
            "dtype": "i2"
           },
           "yaxis": "y"
          },
          {
           "hovertemplate": "page2_clothing_model=A5<br>month=7<br>Main Category=%{x}<br>Total Price=%{y}<extra></extra>",
           "ids": {
            "bdata": "AQ==",
            "dtype": "i1"
           },
           "legendgroup": "A5",
           "marker": {
            "color": "#00cc96",
            "pattern": {
             "shape": ""
            }
           },
           "name": "A5",
           "orientation": "v",
           "showlegend": true,
           "textposition": "auto",
           "type": "bar",
           "x": {
            "bdata": "AQ==",
            "dtype": "i1"
           },
           "xaxis": "x",
           "y": {
            "bdata": "UlQ=",
            "dtype": "i2"
           },
           "yaxis": "y"
          },
          {
           "hovertemplate": "page2_clothing_model=A15<br>month=7<br>Main Category=%{x}<br>Total Price=%{y}<extra></extra>",
           "ids": {
            "bdata": "AQ==",
            "dtype": "i1"
           },
           "legendgroup": "A15",
           "marker": {
            "color": "#ab63fa",
            "pattern": {
             "shape": ""
            }
           },
           "name": "A15",
           "orientation": "v",
           "showlegend": true,
           "textposition": "auto",
           "type": "bar",
           "x": {
            "bdata": "AQ==",
            "dtype": "i1"
           },
           "xaxis": "x",
           "y": {
            "bdata": "5Sk=",
            "dtype": "i2"
           },
           "yaxis": "y"
          },
          {
           "hovertemplate": "page2_clothing_model=A10<br>month=7<br>Main Category=%{x}<br>Total Price=%{y}<extra></extra>",
           "ids": {
            "bdata": "AQ==",
            "dtype": "i1"
           },
           "legendgroup": "A10",
           "marker": {
            "color": "#FFA15A",
            "pattern": {
             "shape": ""
            }
           },
           "name": "A10",
           "orientation": "v",
           "showlegend": true,
           "textposition": "auto",
           "type": "bar",
           "x": {
            "bdata": "AQ==",
            "dtype": "i1"
           },
           "xaxis": "x",
           "y": {
            "bdata": "nEE=",
            "dtype": "i2"
           },
           "yaxis": "y"
          },
          {
           "hovertemplate": "page2_clothing_model=A6<br>month=7<br>Main Category=%{x}<br>Total Price=%{y}<extra></extra>",
           "ids": {
            "bdata": "AQ==",
            "dtype": "i1"
           },
           "legendgroup": "A6",
           "marker": {
            "color": "#19d3f3",
            "pattern": {
             "shape": ""
            }
           },
           "name": "A6",
           "orientation": "v",
           "showlegend": true,
           "textposition": "auto",
           "type": "bar",
           "x": {
            "bdata": "AQ==",
            "dtype": "i1"
           },
           "xaxis": "x",
           "y": {
            "bdata": "dDo=",
            "dtype": "i2"
           },
           "yaxis": "y"
          },
          {
           "hovertemplate": "page2_clothing_model=A12<br>month=7<br>Main Category=%{x}<br>Total Price=%{y}<extra></extra>",
           "ids": {
            "bdata": "AQ==",
            "dtype": "i1"
           },
           "legendgroup": "A12",
           "marker": {
            "color": "#FF6692",
            "pattern": {
             "shape": ""
            }
           },
           "name": "A12",
           "orientation": "v",
           "showlegend": true,
           "textposition": "auto",
           "type": "bar",
           "x": {
            "bdata": "AQ==",
            "dtype": "i1"
           },
           "xaxis": "x",
           "y": {
            "bdata": "cjk=",
            "dtype": "i2"
           },
           "yaxis": "y"
          },
          {
           "hovertemplate": "page2_clothing_model=A7<br>month=7<br>Main Category=%{x}<br>Total Price=%{y}<extra></extra>",
           "ids": {
            "bdata": "AQ==",
            "dtype": "i1"
           },
           "legendgroup": "A7",
           "marker": {
            "color": "#B6E880",
            "pattern": {
             "shape": ""
            }
           },
           "name": "A7",
           "orientation": "v",
           "showlegend": true,
           "textposition": "auto",
           "type": "bar",
           "x": {
            "bdata": "AQ==",
            "dtype": "i1"
           },
           "xaxis": "x",
           "y": {
            "bdata": "6zU=",
            "dtype": "i2"
           },
           "yaxis": "y"
          },
          {
           "hovertemplate": "page2_clothing_model=A1<br>month=7<br>Main Category=%{x}<br>Total Price=%{y}<extra></extra>",
           "ids": {
            "bdata": "AQ==",
            "dtype": "i1"
           },
           "legendgroup": "A1",
           "marker": {
            "color": "#FF97FF",
            "pattern": {
             "shape": ""
            }
           },
           "name": "A1",
           "orientation": "v",
           "showlegend": true,
           "textposition": "auto",
           "type": "bar",
           "x": {
            "bdata": "AQ==",
            "dtype": "i1"
           },
           "xaxis": "x",
           "y": {
            "bdata": "EDQ=",
            "dtype": "i2"
           },
           "yaxis": "y"
          },
          {
           "hovertemplate": "page2_clothing_model=B11<br>month=7<br>Main Category=%{x}<br>Total Price=%{y}<extra></extra>",
           "ids": {
            "bdata": "Ag==",
            "dtype": "i1"
           },
           "legendgroup": "B11",
           "marker": {
            "color": "#FECB52",
            "pattern": {
             "shape": ""
            }
           },
           "name": "B11",
           "orientation": "v",
           "showlegend": true,
           "textposition": "auto",
           "type": "bar",
           "x": {
            "bdata": "Ag==",
            "dtype": "i1"
           },
           "xaxis": "x",
           "y": {
            "bdata": "YDA=",
            "dtype": "i2"
           },
           "yaxis": "y"
          },
          {
           "hovertemplate": "page2_clothing_model=B15<br>month=7<br>Main Category=%{x}<br>Total Price=%{y}<extra></extra>",
           "ids": {
            "bdata": "Ag==",
            "dtype": "i1"
           },
           "legendgroup": "B15",
           "marker": {
            "color": "#636efa",
            "pattern": {
             "shape": ""
            }
           },
           "name": "B15",
           "orientation": "v",
           "showlegend": true,
           "textposition": "auto",
           "type": "bar",
           "x": {
            "bdata": "Ag==",
            "dtype": "i1"
           },
           "xaxis": "x",
           "y": {
            "bdata": "Ih4=",
            "dtype": "i2"
           },
           "yaxis": "y"
          },
          {
           "hovertemplate": "page2_clothing_model=B32<br>month=7<br>Main Category=%{x}<br>Total Price=%{y}<extra></extra>",
           "ids": {
            "bdata": "Ag==",
            "dtype": "i1"
           },
           "legendgroup": "B32",
           "marker": {
            "color": "#EF553B",
            "pattern": {
             "shape": ""
            }
           },
           "name": "B32",
           "orientation": "v",
           "showlegend": true,
           "textposition": "auto",
           "type": "bar",
           "x": {
            "bdata": "Ag==",
            "dtype": "i1"
           },
           "xaxis": "x",
           "y": {
            "bdata": "bBo=",
            "dtype": "i2"
           },
           "yaxis": "y"
          },
          {
           "hovertemplate": "page2_clothing_model=P16<br>month=7<br>Main Category=%{x}<br>Total Price=%{y}<extra></extra>",
           "ids": {
            "bdata": "BA==",
            "dtype": "i1"
           },
           "legendgroup": "P16",
           "marker": {
            "color": "#00cc96",
            "pattern": {
             "shape": ""
            }
           },
           "name": "P16",
           "orientation": "v",
           "showlegend": true,
           "textposition": "auto",
           "type": "bar",
           "x": {
            "bdata": "BA==",
            "dtype": "i1"
           },
           "xaxis": "x",
           "y": {
            "bdata": "Gxg=",
            "dtype": "i2"
           },
           "yaxis": "y"
          },
          {
           "hovertemplate": "page2_clothing_model=B23<br>month=7<br>Main Category=%{x}<br>Total Price=%{y}<extra></extra>",
           "ids": {
            "bdata": "Ag==",
            "dtype": "i1"
           },
           "legendgroup": "B23",
           "marker": {
            "color": "#ab63fa",
            "pattern": {
             "shape": ""
            }
           },
           "name": "B23",
           "orientation": "v",
           "showlegend": true,
           "textposition": "auto",
           "type": "bar",
           "x": {
            "bdata": "Ag==",
            "dtype": "i1"
           },
           "xaxis": "x",
           "y": {
            "bdata": "UBs=",
            "dtype": "i2"
           },
           "yaxis": "y"
          },
          {
           "hovertemplate": "page2_clothing_model=B17<br>month=7<br>Main Category=%{x}<br>Total Price=%{y}<extra></extra>",
           "ids": {
            "bdata": "Ag==",
            "dtype": "i1"
           },
           "legendgroup": "B17",
           "marker": {
            "color": "#FFA15A",
            "pattern": {
             "shape": ""
            }
           },
           "name": "B17",
           "orientation": "v",
           "showlegend": true,
           "textposition": "auto",
           "type": "bar",
           "x": {
            "bdata": "Ag==",
            "dtype": "i1"
           },
           "xaxis": "x",
           "y": {
            "bdata": "Uh8=",
            "dtype": "i2"
           },
           "yaxis": "y"
          },
          {
           "hovertemplate": "page2_clothing_model=B12<br>month=7<br>Main Category=%{x}<br>Total Price=%{y}<extra></extra>",
           "ids": {
            "bdata": "Ag==",
            "dtype": "i1"
           },
           "legendgroup": "B12",
           "marker": {
            "color": "#19d3f3",
            "pattern": {
             "shape": ""
            }
           },
           "name": "B12",
           "orientation": "v",
           "showlegend": true,
           "textposition": "auto",
           "type": "bar",
           "x": {
            "bdata": "Ag==",
            "dtype": "i1"
           },
           "xaxis": "x",
           "y": {
            "bdata": "0CQ=",
            "dtype": "i2"
           },
           "yaxis": "y"
          },
          {
           "hovertemplate": "page2_clothing_model=A16<br>month=7<br>Main Category=%{x}<br>Total Price=%{y}<extra></extra>",
           "ids": {
            "bdata": "AQ==",
            "dtype": "i1"
           },
           "legendgroup": "A16",
           "marker": {
            "color": "#FF6692",
            "pattern": {
             "shape": ""
            }
           },
           "name": "A16",
           "orientation": "v",
           "showlegend": true,
           "textposition": "auto",
           "type": "bar",
           "x": {
            "bdata": "AQ==",
            "dtype": "i1"
           },
           "xaxis": "x",
           "y": {
            "bdata": "XRg=",
            "dtype": "i2"
           },
           "yaxis": "y"
          },
          {
           "hovertemplate": "page2_clothing_model=B9<br>month=7<br>Main Category=%{x}<br>Total Price=%{y}<extra></extra>",
           "ids": {
            "bdata": "Ag==",
            "dtype": "i1"
           },
           "legendgroup": "B9",
           "marker": {
            "color": "#B6E880",
            "pattern": {
             "shape": ""
            }
           },
           "name": "B9",
           "orientation": "v",
           "showlegend": true,
           "textposition": "auto",
           "type": "bar",
           "x": {
            "bdata": "Ag==",
            "dtype": "i1"
           },
           "xaxis": "x",
           "y": {
            "bdata": "cBc=",
            "dtype": "i2"
           },
           "yaxis": "y"
          },
          {
           "hovertemplate": "page2_clothing_model=A13<br>month=7<br>Main Category=%{x}<br>Total Price=%{y}<extra></extra>",
           "ids": {
            "bdata": "AQ==",
            "dtype": "i1"
           },
           "legendgroup": "A13",
           "marker": {
            "color": "#FF97FF",
            "pattern": {
             "shape": ""
            }
           },
           "name": "A13",
           "orientation": "v",
           "showlegend": true,
           "textposition": "auto",
           "type": "bar",
           "x": {
            "bdata": "AQ==",
            "dtype": "i1"
           },
           "xaxis": "x",
           "y": {
            "bdata": "TB4=",
            "dtype": "i2"
           },
           "yaxis": "y"
          },
          {
           "hovertemplate": "page2_clothing_model=B19<br>month=7<br>Main Category=%{x}<br>Total Price=%{y}<extra></extra>",
           "ids": {
            "bdata": "Ag==",
            "dtype": "i1"
           },
           "legendgroup": "B19",
           "marker": {
            "color": "#FECB52",
            "pattern": {
             "shape": ""
            }
           },
           "name": "B19",
           "orientation": "v",
           "showlegend": true,
           "textposition": "auto",
           "type": "bar",
           "x": {
            "bdata": "Ag==",
            "dtype": "i1"
           },
           "xaxis": "x",
           "y": {
            "bdata": "MBQ=",
            "dtype": "i2"
           },
           "yaxis": "y"
          },
          {
           "hovertemplate": "page2_clothing_model=A33<br>month=7<br>Main Category=%{x}<br>Total Price=%{y}<extra></extra>",
           "ids": {
            "bdata": "AQ==",
            "dtype": "i1"
           },
           "legendgroup": "A33",
           "marker": {
            "color": "#636efa",
            "pattern": {
             "shape": ""
            }
           },
           "name": "A33",
           "orientation": "v",
           "showlegend": true,
           "textposition": "auto",
           "type": "bar",
           "x": {
            "bdata": "AQ==",
            "dtype": "i1"
           },
           "xaxis": "x",
           "y": {
            "bdata": "ngw=",
            "dtype": "i2"
           },
           "yaxis": "y"
          },
          {
           "hovertemplate": "page2_clothing_model=P12<br>month=7<br>Main Category=%{x}<br>Total Price=%{y}<extra></extra>",
           "ids": {
            "bdata": "BA==",
            "dtype": "i1"
           },
           "legendgroup": "P12",
           "marker": {
            "color": "#EF553B",
            "pattern": {
             "shape": ""
            }
           },
           "name": "P12",
           "orientation": "v",
           "showlegend": true,
           "textposition": "auto",
           "type": "bar",
           "x": {
            "bdata": "BA==",
            "dtype": "i1"
           },
           "xaxis": "x",
           "y": {
            "bdata": "fxQ=",
            "dtype": "i2"
           },
           "yaxis": "y"
          },
          {
           "hovertemplate": "page2_clothing_model=A41<br>month=7<br>Main Category=%{x}<br>Total Price=%{y}<extra></extra>",
           "ids": {
            "bdata": "AQ==",
            "dtype": "i1"
           },
           "legendgroup": "A41",
           "marker": {
            "color": "#00cc96",
            "pattern": {
             "shape": ""
            }
           },
           "name": "A41",
           "orientation": "v",
           "showlegend": true,
           "textposition": "auto",
           "type": "bar",
           "x": {
            "bdata": "AQ==",
            "dtype": "i1"
           },
           "xaxis": "x",
           "y": {
            "bdata": "Gg0=",
            "dtype": "i2"
           },
           "yaxis": "y"
          },
          {
           "hovertemplate": "page2_clothing_model=C1<br>month=7<br>Main Category=%{x}<br>Total Price=%{y}<extra></extra>",
           "ids": {
            "bdata": "Aw==",
            "dtype": "i1"
           },
           "legendgroup": "C1",
           "marker": {
            "color": "#ab63fa",
            "pattern": {
             "shape": ""
            }
           },
           "name": "C1",
           "orientation": "v",
           "showlegend": true,
           "textposition": "auto",
           "type": "bar",
           "x": {
            "bdata": "Aw==",
            "dtype": "i1"
           },
           "xaxis": "x",
           "y": {
            "bdata": "7BI=",
            "dtype": "i2"
           },
           "yaxis": "y"
          },
          {
           "hovertemplate": "page2_clothing_model=A18<br>month=7<br>Main Category=%{x}<br>Total Price=%{y}<extra></extra>",
           "ids": {
            "bdata": "AQ==",
            "dtype": "i1"
           },
           "legendgroup": "A18",
           "marker": {
            "color": "#FFA15A",
            "pattern": {
             "shape": ""
            }
           },
           "name": "A18",
           "orientation": "v",
           "showlegend": true,
           "textposition": "auto",
           "type": "bar",
           "x": {
            "bdata": "AQ==",
            "dtype": "i1"
           },
           "xaxis": "x",
           "y": {
            "bdata": "bBo=",
            "dtype": "i2"
           },
           "yaxis": "y"
          },
          {
           "hovertemplate": "page2_clothing_model=B34<br>month=7<br>Main Category=%{x}<br>Total Price=%{y}<extra></extra>",
           "ids": {
            "bdata": "Ag==",
            "dtype": "i1"
           },
           "legendgroup": "B34",
           "marker": {
            "color": "#19d3f3",
            "pattern": {
             "shape": ""
            }
           },
           "name": "B34",
           "orientation": "v",
           "showlegend": true,
           "textposition": "auto",
           "type": "bar",
           "x": {
            "bdata": "Ag==",
            "dtype": "i1"
           },
           "xaxis": "x",
           "y": {
            "bdata": "MBI=",
            "dtype": "i2"
           },
           "yaxis": "y"
          },
          {
           "hovertemplate": "page2_clothing_model=A30<br>month=7<br>Main Category=%{x}<br>Total Price=%{y}<extra></extra>",
           "ids": {
            "bdata": "AQ==",
            "dtype": "i1"
           },
           "legendgroup": "A30",
           "marker": {
            "color": "#FF6692",
            "pattern": {
             "shape": ""
            }
           },
           "name": "A30",
           "orientation": "v",
           "showlegend": true,
           "textposition": "auto",
           "type": "bar",
           "x": {
            "bdata": "AQ==",
            "dtype": "i1"
           },
           "xaxis": "x",
           "y": {
            "bdata": "vA8=",
            "dtype": "i2"
           },
           "yaxis": "y"
          },
          {
           "hovertemplate": "page2_clothing_model=C40<br>month=7<br>Main Category=%{x}<br>Total Price=%{y}<extra></extra>",
           "ids": {
            "bdata": "Aw==",
            "dtype": "i1"
           },
           "legendgroup": "C40",
           "marker": {
            "color": "#B6E880",
            "pattern": {
             "shape": ""
            }
           },
           "name": "C40",
           "orientation": "v",
           "showlegend": true,
           "textposition": "auto",
           "type": "bar",
           "x": {
            "bdata": "Aw==",
            "dtype": "i1"
           },
           "xaxis": "x",
           "y": {
            "bdata": "kBQ=",
            "dtype": "i2"
           },
           "yaxis": "y"
          },
          {
           "hovertemplate": "page2_clothing_model=P48<br>month=7<br>Main Category=%{x}<br>Total Price=%{y}<extra></extra>",
           "ids": {
            "bdata": "BA==",
            "dtype": "i1"
           },
           "legendgroup": "P48",
           "marker": {
            "color": "#FF97FF",
            "pattern": {
             "shape": ""
            }
           },
           "name": "P48",
           "orientation": "v",
           "showlegend": true,
           "textposition": "auto",
           "type": "bar",
           "x": {
            "bdata": "BA==",
            "dtype": "i1"
           },
           "xaxis": "x",
           "y": {
            "bdata": "sg4=",
            "dtype": "i2"
           },
           "yaxis": "y"
          },
          {
           "hovertemplate": "page2_clothing_model=C14<br>month=7<br>Main Category=%{x}<br>Total Price=%{y}<extra></extra>",
           "ids": {
            "bdata": "Aw==",
            "dtype": "i1"
           },
           "legendgroup": "C14",
           "marker": {
            "color": "#FECB52",
            "pattern": {
             "shape": ""
            }
           },
           "name": "C14",
           "orientation": "v",
           "showlegend": true,
           "textposition": "auto",
           "type": "bar",
           "x": {
            "bdata": "Aw==",
            "dtype": "i1"
           },
           "xaxis": "x",
           "y": {
            "bdata": "dw4=",
            "dtype": "i2"
           },
           "yaxis": "y"
          },
          {
           "hovertemplate": "page2_clothing_model=P2<br>month=7<br>Main Category=%{x}<br>Total Price=%{y}<extra></extra>",
           "ids": {
            "bdata": "BA==",
            "dtype": "i1"
           },
           "legendgroup": "P2",
           "marker": {
            "color": "#636efa",
            "pattern": {
             "shape": ""
            }
           },
           "name": "P2",
           "orientation": "v",
           "showlegend": true,
           "textposition": "auto",
           "type": "bar",
           "x": {
            "bdata": "BA==",
            "dtype": "i1"
           },
           "xaxis": "x",
           "y": {
            "bdata": "EBg=",
            "dtype": "i2"
           },
           "yaxis": "y"
          },
          {
           "hovertemplate": "page2_clothing_model=A32<br>month=7<br>Main Category=%{x}<br>Total Price=%{y}<extra></extra>",
           "ids": {
            "bdata": "AQ==",
            "dtype": "i1"
           },
           "legendgroup": "A32",
           "marker": {
            "color": "#EF553B",
            "pattern": {
             "shape": ""
            }
           },
           "name": "A32",
           "orientation": "v",
           "showlegend": true,
           "textposition": "auto",
           "type": "bar",
           "x": {
            "bdata": "AQ==",
            "dtype": "i1"
           },
           "xaxis": "x",
           "y": {
            "bdata": "ehA=",
            "dtype": "i2"
           },
           "yaxis": "y"
          },
          {
           "hovertemplate": "page2_clothing_model=C6<br>month=7<br>Main Category=%{x}<br>Total Price=%{y}<extra></extra>",
           "ids": {
            "bdata": "Aw==",
            "dtype": "i1"
           },
           "legendgroup": "C6",
           "marker": {
            "color": "#00cc96",
            "pattern": {
             "shape": ""
            }
           },
           "name": "C6",
           "orientation": "v",
           "showlegend": true,
           "textposition": "auto",
           "type": "bar",
           "x": {
            "bdata": "Aw==",
            "dtype": "i1"
           },
           "xaxis": "x",
           "y": {
            "bdata": "iQ0=",
            "dtype": "i2"
           },
           "yaxis": "y"
          },
          {
           "hovertemplate": "page2_clothing_model=C53<br>month=7<br>Main Category=%{x}<br>Total Price=%{y}<extra></extra>",
           "ids": {
            "bdata": "Aw==",
            "dtype": "i1"
           },
           "legendgroup": "C53",
           "marker": {
            "color": "#ab63fa",
            "pattern": {
             "shape": ""
            }
           },
           "name": "C53",
           "orientation": "v",
           "showlegend": true,
           "textposition": "auto",
           "type": "bar",
           "x": {
            "bdata": "Aw==",
            "dtype": "i1"
           },
           "xaxis": "x",
           "y": {
            "bdata": "lg8=",
            "dtype": "i2"
           },
           "yaxis": "y"
          },
          {
           "hovertemplate": "page2_clothing_model=C57<br>month=7<br>Main Category=%{x}<br>Total Price=%{y}<extra></extra>",
           "ids": {
            "bdata": "Aw==",
            "dtype": "i1"
           },
           "legendgroup": "C57",
           "marker": {
            "color": "#FFA15A",
            "pattern": {
             "shape": ""
            }
           },
           "name": "C57",
           "orientation": "v",
           "showlegend": true,
           "textposition": "auto",
           "type": "bar",
           "x": {
            "bdata": "Aw==",
            "dtype": "i1"
           },
           "xaxis": "x",
           "y": {
            "bdata": "+hc=",
            "dtype": "i2"
           },
           "yaxis": "y"
          },
          {
           "hovertemplate": "page2_clothing_model=C11<br>month=7<br>Main Category=%{x}<br>Total Price=%{y}<extra></extra>",
           "ids": {
            "bdata": "Aw==",
            "dtype": "i1"
           },
           "legendgroup": "C11",
           "marker": {
            "color": "#19d3f3",
            "pattern": {
             "shape": ""
            }
           },
           "name": "C11",
           "orientation": "v",
           "showlegend": true,
           "textposition": "auto",
           "type": "bar",
           "x": {
            "bdata": "Aw==",
            "dtype": "i1"
           },
           "xaxis": "x",
           "y": {
            "bdata": "LRI=",
            "dtype": "i2"
           },
           "yaxis": "y"
          },
          {
           "hovertemplate": "page2_clothing_model=B25<br>month=7<br>Main Category=%{x}<br>Total Price=%{y}<extra></extra>",
           "ids": {
            "bdata": "Ag==",
            "dtype": "i1"
           },
           "legendgroup": "B25",
           "marker": {
            "color": "#FF6692",
            "pattern": {
             "shape": ""
            }
           },
           "name": "B25",
           "orientation": "v",
           "showlegend": true,
           "textposition": "auto",
           "type": "bar",
           "x": {
            "bdata": "Ag==",
            "dtype": "i1"
           },
           "xaxis": "x",
           "y": {
            "bdata": "4g8=",
            "dtype": "i2"
           },
           "yaxis": "y"
          },
          {
           "hovertemplate": "page2_clothing_model=A28<br>month=7<br>Main Category=%{x}<br>Total Price=%{y}<extra></extra>",
           "ids": {
            "bdata": "AQ==",
            "dtype": "i1"
           },
           "legendgroup": "A28",
           "marker": {
            "color": "#B6E880",
            "pattern": {
             "shape": ""
            }
           },
           "name": "A28",
           "orientation": "v",
           "showlegend": true,
           "textposition": "auto",
           "type": "bar",
           "x": {
            "bdata": "AQ==",
            "dtype": "i1"
           },
           "xaxis": "x",
           "y": {
            "bdata": "5Qc=",
            "dtype": "i2"
           },
           "yaxis": "y"
          },
          {
           "hovertemplate": "page2_clothing_model=A20<br>month=7<br>Main Category=%{x}<br>Total Price=%{y}<extra></extra>",
           "ids": {
            "bdata": "AQ==",
            "dtype": "i1"
           },
           "legendgroup": "A20",
           "marker": {
            "color": "#FF97FF",
            "pattern": {
             "shape": ""
            }
           },
           "name": "A20",
           "orientation": "v",
           "showlegend": true,
           "textposition": "auto",
           "type": "bar",
           "x": {
            "bdata": "AQ==",
            "dtype": "i1"
           },
           "xaxis": "x",
           "y": {
            "bdata": "6gw=",
            "dtype": "i2"
           },
           "yaxis": "y"
          },
          {
           "hovertemplate": "page2_clothing_model=P23<br>month=7<br>Main Category=%{x}<br>Total Price=%{y}<extra></extra>",
           "ids": {
            "bdata": "BA==",
            "dtype": "i1"
           },
           "legendgroup": "P23",
           "marker": {
            "color": "#FECB52",
            "pattern": {
             "shape": ""
            }
           },
           "name": "P23",
           "orientation": "v",
           "showlegend": true,
           "textposition": "auto",
           "type": "bar",
           "x": {
            "bdata": "BA==",
            "dtype": "i1"
           },
           "xaxis": "x",
           "y": {
            "bdata": "YBI=",
            "dtype": "i2"
           },
           "yaxis": "y"
          },
          {
           "hovertemplate": "page2_clothing_model=A34<br>month=7<br>Main Category=%{x}<br>Total Price=%{y}<extra></extra>",
           "ids": {
            "bdata": "AQ==",
            "dtype": "i1"
           },
           "legendgroup": "A34",
           "marker": {
            "color": "#636efa",
            "pattern": {
             "shape": ""
            }
           },
           "name": "A34",
           "orientation": "v",
           "showlegend": true,
           "textposition": "auto",
           "type": "bar",
           "x": {
            "bdata": "AQ==",
            "dtype": "i1"
           },
           "xaxis": "x",
           "y": {
            "bdata": "4g8=",
            "dtype": "i2"
           },
           "yaxis": "y"
          },
          {
           "hovertemplate": "page2_clothing_model=C41<br>month=7<br>Main Category=%{x}<br>Total Price=%{y}<extra></extra>",
           "ids": {
            "bdata": "Aw==",
            "dtype": "i1"
           },
           "legendgroup": "C41",
           "marker": {
            "color": "#EF553B",
            "pattern": {
             "shape": ""
            }
           },
           "name": "C41",
           "orientation": "v",
           "showlegend": true,
           "textposition": "auto",
           "type": "bar",
           "x": {
            "bdata": "Aw==",
            "dtype": "i1"
           },
           "xaxis": "x",
           "y": {
            "bdata": "fAs=",
            "dtype": "i2"
           },
           "yaxis": "y"
          },
          {
           "hovertemplate": "page2_clothing_model=P49<br>month=7<br>Main Category=%{x}<br>Total Price=%{y}<extra></extra>",
           "ids": {
            "bdata": "BA==",
            "dtype": "i1"
           },
           "legendgroup": "P49",
           "marker": {
            "color": "#00cc96",
            "pattern": {
             "shape": ""
            }
           },
           "name": "P49",
           "orientation": "v",
           "showlegend": true,
           "textposition": "auto",
           "type": "bar",
           "x": {
            "bdata": "BA==",
            "dtype": "i1"
           },
           "xaxis": "x",
           "y": {
            "bdata": "Fgs=",
            "dtype": "i2"
           },
           "yaxis": "y"
          },
          {
           "hovertemplate": "page2_clothing_model=C49<br>month=7<br>Main Category=%{x}<br>Total Price=%{y}<extra></extra>",
           "ids": {
            "bdata": "Aw==",
            "dtype": "i1"
           },
           "legendgroup": "C49",
           "marker": {
            "color": "#ab63fa",
            "pattern": {
             "shape": ""
            }
           },
           "name": "C49",
           "orientation": "v",
           "showlegend": true,
           "textposition": "auto",
           "type": "bar",
           "x": {
            "bdata": "Aw==",
            "dtype": "i1"
           },
           "xaxis": "x",
           "y": {
            "bdata": "ug4=",
            "dtype": "i2"
           },
           "yaxis": "y"
          },
          {
           "hovertemplate": "page2_clothing_model=C30<br>month=7<br>Main Category=%{x}<br>Total Price=%{y}<extra></extra>",
           "ids": {
            "bdata": "Aw==",
            "dtype": "i1"
           },
           "legendgroup": "C30",
           "marker": {
            "color": "#FFA15A",
            "pattern": {
             "shape": ""
            }
           },
           "name": "C30",
           "orientation": "v",
           "showlegend": true,
           "textposition": "auto",
           "type": "bar",
           "x": {
            "bdata": "Aw==",
            "dtype": "i1"
           },
           "xaxis": "x",
           "y": {
            "bdata": "vBA=",
            "dtype": "i2"
           },
           "yaxis": "y"
          },
          {
           "hovertemplate": "page2_clothing_model=C10<br>month=7<br>Main Category=%{x}<br>Total Price=%{y}<extra></extra>",
           "ids": {
            "bdata": "Aw==",
            "dtype": "i1"
           },
           "legendgroup": "C10",
           "marker": {
            "color": "#19d3f3",
            "pattern": {
             "shape": ""
            }
           },
           "name": "C10",
           "orientation": "v",
           "showlegend": true,
           "textposition": "auto",
           "type": "bar",
           "x": {
            "bdata": "Aw==",
            "dtype": "i1"
           },
           "xaxis": "x",
           "y": {
            "bdata": "oAk=",
            "dtype": "i2"
           },
           "yaxis": "y"
          },
          {
           "hovertemplate": "page2_clothing_model=P50<br>month=7<br>Main Category=%{x}<br>Total Price=%{y}<extra></extra>",
           "ids": {
            "bdata": "BA==",
            "dtype": "i1"
           },
           "legendgroup": "P50",
           "marker": {
            "color": "#FF6692",
            "pattern": {
             "shape": ""
            }
           },
           "name": "P50",
           "orientation": "v",
           "showlegend": true,
           "textposition": "auto",
           "type": "bar",
           "x": {
            "bdata": "BA==",
            "dtype": "i1"
           },
           "xaxis": "x",
           "y": {
            "bdata": "igk=",
            "dtype": "i2"
           },
           "yaxis": "y"
          },
          {
           "hovertemplate": "page2_clothing_model=A42<br>month=7<br>Main Category=%{x}<br>Total Price=%{y}<extra></extra>",
           "ids": {
            "bdata": "AQ==",
            "dtype": "i1"
           },
           "legendgroup": "A42",
           "marker": {
            "color": "#B6E880",
            "pattern": {
             "shape": ""
            }
           },
           "name": "A42",
           "orientation": "v",
           "showlegend": true,
           "textposition": "auto",
           "type": "bar",
           "x": {
            "bdata": "AQ==",
            "dtype": "i1"
           },
           "xaxis": "x",
           "y": {
            "bdata": "dA0=",
            "dtype": "i2"
           },
           "yaxis": "y"
          },
          {
           "hovertemplate": "page2_clothing_model=P5<br>month=7<br>Main Category=%{x}<br>Total Price=%{y}<extra></extra>",
           "ids": {
            "bdata": "BA==",
            "dtype": "i1"
           },
           "legendgroup": "P5",
           "marker": {
            "color": "#FF97FF",
            "pattern": {
             "shape": ""
            }
           },
           "name": "P5",
           "orientation": "v",
           "showlegend": true,
           "textposition": "auto",
           "type": "bar",
           "x": {
            "bdata": "BA==",
            "dtype": "i1"
           },
           "xaxis": "x",
           "y": {
            "bdata": "sQo=",
            "dtype": "i2"
           },
           "yaxis": "y"
          },
          {
           "hovertemplate": "page2_clothing_model=P8<br>month=7<br>Main Category=%{x}<br>Total Price=%{y}<extra></extra>",
           "ids": {
            "bdata": "BA==",
            "dtype": "i1"
           },
           "legendgroup": "P8",
           "marker": {
            "color": "#FECB52",
            "pattern": {
             "shape": ""
            }
           },
           "name": "P8",
           "orientation": "v",
           "showlegend": true,
           "textposition": "auto",
           "type": "bar",
           "x": {
            "bdata": "BA==",
            "dtype": "i1"
           },
           "xaxis": "x",
           "y": {
            "bdata": "IA0=",
            "dtype": "i2"
           },
           "yaxis": "y"
          },
          {
           "hovertemplate": "page2_clothing_model=A26<br>month=7<br>Main Category=%{x}<br>Total Price=%{y}<extra></extra>",
           "ids": {
            "bdata": "AQ==",
            "dtype": "i1"
           },
           "legendgroup": "A26",
           "marker": {
            "color": "#636efa",
            "pattern": {
             "shape": ""
            }
           },
           "name": "A26",
           "orientation": "v",
           "showlegend": true,
           "textposition": "auto",
           "type": "bar",
           "x": {
            "bdata": "AQ==",
            "dtype": "i1"
           },
           "xaxis": "x",
           "y": {
            "bdata": "1AY=",
            "dtype": "i2"
           },
           "yaxis": "y"
          },
          {
           "hovertemplate": "page2_clothing_model=P60<br>month=7<br>Main Category=%{x}<br>Total Price=%{y}<extra></extra>",
           "ids": {
            "bdata": "BA==",
            "dtype": "i1"
           },
           "legendgroup": "P60",
           "marker": {
            "color": "#EF553B",
            "pattern": {
             "shape": ""
            }
           },
           "name": "P60",
           "orientation": "v",
           "showlegend": true,
           "textposition": "auto",
           "type": "bar",
           "x": {
            "bdata": "BA==",
            "dtype": "i1"
           },
           "xaxis": "x",
           "y": {
            "bdata": "HAc=",
            "dtype": "i2"
           },
           "yaxis": "y"
          },
          {
           "hovertemplate": "page2_clothing_model=B7<br>month=7<br>Main Category=%{x}<br>Total Price=%{y}<extra></extra>",
           "ids": {
            "bdata": "Ag==",
            "dtype": "i1"
           },
           "legendgroup": "B7",
           "marker": {
            "color": "#00cc96",
            "pattern": {
             "shape": ""
            }
           },
           "name": "B7",
           "orientation": "v",
           "showlegend": true,
           "textposition": "auto",
           "type": "bar",
           "x": {
            "bdata": "Ag==",
            "dtype": "i1"
           },
           "xaxis": "x",
           "y": {
            "bdata": "LAw=",
            "dtype": "i2"
           },
           "yaxis": "y"
          },
          {
           "hovertemplate": "page2_clothing_model=B28<br>month=7<br>Main Category=%{x}<br>Total Price=%{y}<extra></extra>",
           "ids": {
            "bdata": "Ag==",
            "dtype": "i1"
           },
           "legendgroup": "B28",
           "marker": {
            "color": "#ab63fa",
            "pattern": {
             "shape": ""
            }
           },
           "name": "B28",
           "orientation": "v",
           "showlegend": true,
           "textposition": "auto",
           "type": "bar",
           "x": {
            "bdata": "Ag==",
            "dtype": "i1"
           },
           "xaxis": "x",
           "y": {
            "bdata": "zAk=",
            "dtype": "i2"
           },
           "yaxis": "y"
          },
          {
           "hovertemplate": "page2_clothing_model=C16<br>month=7<br>Main Category=%{x}<br>Total Price=%{y}<extra></extra>",
           "ids": {
            "bdata": "Aw==",
            "dtype": "i1"
           },
           "legendgroup": "C16",
           "marker": {
            "color": "#FFA15A",
            "pattern": {
             "shape": ""
            }
           },
           "name": "C16",
           "orientation": "v",
           "showlegend": true,
           "textposition": "auto",
           "type": "bar",
           "x": {
            "bdata": "Aw==",
            "dtype": "i1"
           },
           "xaxis": "x",
           "y": {
            "bdata": "EAo=",
            "dtype": "i2"
           },
           "yaxis": "y"
          },
          {
           "hovertemplate": "page2_clothing_model=P55<br>month=7<br>Main Category=%{x}<br>Total Price=%{y}<extra></extra>",
           "ids": {
            "bdata": "BA==",
            "dtype": "i1"
           },
           "legendgroup": "P55",
           "marker": {
            "color": "#19d3f3",
            "pattern": {
             "shape": ""
            }
           },
           "name": "P55",
           "orientation": "v",
           "showlegend": true,
           "textposition": "auto",
           "type": "bar",
           "x": {
            "bdata": "BA==",
            "dtype": "i1"
           },
           "xaxis": "x",
           "y": {
            "bdata": "9gY=",
            "dtype": "i2"
           },
           "yaxis": "y"
          },
          {
           "hovertemplate": "page2_clothing_model=C42<br>month=7<br>Main Category=%{x}<br>Total Price=%{y}<extra></extra>",
           "ids": {
            "bdata": "Aw==",
            "dtype": "i1"
           },
           "legendgroup": "C42",
           "marker": {
            "color": "#FF6692",
            "pattern": {
             "shape": ""
            }
           },
           "name": "C42",
           "orientation": "v",
           "showlegend": true,
           "textposition": "auto",
           "type": "bar",
           "x": {
            "bdata": "Aw==",
            "dtype": "i1"
           },
           "xaxis": "x",
           "y": {
            "bdata": "pAg=",
            "dtype": "i2"
           },
           "yaxis": "y"
          },
          {
           "hovertemplate": "page2_clothing_model=P20<br>month=7<br>Main Category=%{x}<br>Total Price=%{y}<extra></extra>",
           "ids": {
            "bdata": "BA==",
            "dtype": "i1"
           },
           "legendgroup": "P20",
           "marker": {
            "color": "#B6E880",
            "pattern": {
             "shape": ""
            }
           },
           "name": "P20",
           "orientation": "v",
           "showlegend": true,
           "textposition": "auto",
           "type": "bar",
           "x": {
            "bdata": "BA==",
            "dtype": "i1"
           },
           "xaxis": "x",
           "y": {
            "bdata": "Rwc=",
            "dtype": "i2"
           },
           "yaxis": "y"
          },
          {
           "hovertemplate": "page2_clothing_model=A39<br>month=7<br>Main Category=%{x}<br>Total Price=%{y}<extra></extra>",
           "ids": {
            "bdata": "AQ==",
            "dtype": "i1"
           },
           "legendgroup": "A39",
           "marker": {
            "color": "#FF97FF",
            "pattern": {
             "shape": ""
            }
           },
           "name": "A39",
           "orientation": "v",
           "showlegend": true,
           "textposition": "auto",
           "type": "bar",
           "x": {
            "bdata": "AQ==",
            "dtype": "i1"
           },
           "xaxis": "x",
           "y": {
            "bdata": "Zg4=",
            "dtype": "i2"
           },
           "yaxis": "y"
          },
          {
           "hovertemplate": "page2_clothing_model=A35<br>month=7<br>Main Category=%{x}<br>Total Price=%{y}<extra></extra>",
           "ids": {
            "bdata": "AQ==",
            "dtype": "i1"
           },
           "legendgroup": "A35",
           "marker": {
            "color": "#FECB52",
            "pattern": {
             "shape": ""
            }
           },
           "name": "A35",
           "orientation": "v",
           "showlegend": true,
           "textposition": "auto",
           "type": "bar",
           "x": {
            "bdata": "AQ==",
            "dtype": "i1"
           },
           "xaxis": "x",
           "y": {
            "bdata": "/gc=",
            "dtype": "i2"
           },
           "yaxis": "y"
          },
          {
           "hovertemplate": "page2_clothing_model=A40<br>month=7<br>Main Category=%{x}<br>Total Price=%{y}<extra></extra>",
           "ids": {
            "bdata": "AQ==",
            "dtype": "i1"
           },
           "legendgroup": "A40",
           "marker": {
            "color": "#636efa",
            "pattern": {
             "shape": ""
            }
           },
           "name": "A40",
           "orientation": "v",
           "showlegend": true,
           "textposition": "auto",
           "type": "bar",
           "x": {
            "bdata": "AQ==",
            "dtype": "i1"
           },
           "xaxis": "x",
           "y": {
            "bdata": "UAg=",
            "dtype": "i2"
           },
           "yaxis": "y"
          },
          {
           "hovertemplate": "page2_clothing_model=C3<br>month=7<br>Main Category=%{x}<br>Total Price=%{y}<extra></extra>",
           "ids": {
            "bdata": "Aw==",
            "dtype": "i1"
           },
           "legendgroup": "C3",
           "marker": {
            "color": "#EF553B",
            "pattern": {
             "shape": ""
            }
           },
           "name": "C3",
           "orientation": "v",
           "showlegend": true,
           "textposition": "auto",
           "type": "bar",
           "x": {
            "bdata": "Aw==",
            "dtype": "i1"
           },
           "xaxis": "x",
           "y": {
            "bdata": "5Qg=",
            "dtype": "i2"
           },
           "yaxis": "y"
          },
          {
           "hovertemplate": "page2_clothing_model=C15<br>month=7<br>Main Category=%{x}<br>Total Price=%{y}<extra></extra>",
           "ids": {
            "bdata": "Aw==",
            "dtype": "i1"
           },
           "legendgroup": "C15",
           "marker": {
            "color": "#00cc96",
            "pattern": {
             "shape": ""
            }
           },
           "name": "C15",
           "orientation": "v",
           "showlegend": true,
           "textposition": "auto",
           "type": "bar",
           "x": {
            "bdata": "Aw==",
            "dtype": "i1"
           },
           "xaxis": "x",
           "y": {
            "bdata": "Lwo=",
            "dtype": "i2"
           },
           "yaxis": "y"
          },
          {
           "hovertemplate": "page2_clothing_model=A25<br>month=7<br>Main Category=%{x}<br>Total Price=%{y}<extra></extra>",
           "ids": {
            "bdata": "AQ==",
            "dtype": "i1"
           },
           "legendgroup": "A25",
           "marker": {
            "color": "#ab63fa",
            "pattern": {
             "shape": ""
            }
           },
           "name": "A25",
           "orientation": "v",
           "showlegend": true,
           "textposition": "auto",
           "type": "bar",
           "x": {
            "bdata": "AQ==",
            "dtype": "i1"
           },
           "xaxis": "x",
           "y": {
            "bdata": "MgU=",
            "dtype": "i2"
           },
           "yaxis": "y"
          },
          {
           "hovertemplate": "page2_clothing_model=P7<br>month=7<br>Main Category=%{x}<br>Total Price=%{y}<extra></extra>",
           "ids": {
            "bdata": "BA==",
            "dtype": "i1"
           },
           "legendgroup": "P7",
           "marker": {
            "color": "#FFA15A",
            "pattern": {
             "shape": ""
            }
           },
           "name": "P7",
           "orientation": "v",
           "showlegend": true,
           "textposition": "auto",
           "type": "bar",
           "x": {
            "bdata": "BA==",
            "dtype": "i1"
           },
           "xaxis": "x",
           "y": {
            "bdata": "OA4=",
            "dtype": "i2"
           },
           "yaxis": "y"
          },
          {
           "hovertemplate": "page2_clothing_model=C50<br>month=7<br>Main Category=%{x}<br>Total Price=%{y}<extra></extra>",
           "ids": {
            "bdata": "Aw==",
            "dtype": "i1"
           },
           "legendgroup": "C50",
           "marker": {
            "color": "#19d3f3",
            "pattern": {
             "shape": ""
            }
           },
           "name": "C50",
           "orientation": "v",
           "showlegend": true,
           "textposition": "auto",
           "type": "bar",
           "x": {
            "bdata": "Aw==",
            "dtype": "i1"
           },
           "xaxis": "x",
           "y": {
            "bdata": "BAs=",
            "dtype": "i2"
           },
           "yaxis": "y"
          },
          {
           "hovertemplate": "page2_clothing_model=P29<br>month=7<br>Main Category=%{x}<br>Total Price=%{y}<extra></extra>",
           "ids": {
            "bdata": "BA==",
            "dtype": "i1"
           },
           "legendgroup": "P29",
           "marker": {
            "color": "#FF6692",
            "pattern": {
             "shape": ""
            }
           },
           "name": "P29",
           "orientation": "v",
           "showlegend": true,
           "textposition": "auto",
           "type": "bar",
           "x": {
            "bdata": "BA==",
            "dtype": "i1"
           },
           "xaxis": "x",
           "y": {
            "bdata": "DQ4=",
            "dtype": "i2"
           },
           "yaxis": "y"
          },
          {
           "hovertemplate": "page2_clothing_model=P9<br>month=7<br>Main Category=%{x}<br>Total Price=%{y}<extra></extra>",
           "ids": {
            "bdata": "BA==",
            "dtype": "i1"
           },
           "legendgroup": "P9",
           "marker": {
            "color": "#B6E880",
            "pattern": {
             "shape": ""
            }
           },
           "name": "P9",
           "orientation": "v",
           "showlegend": true,
           "textposition": "auto",
           "type": "bar",
           "x": {
            "bdata": "BA==",
            "dtype": "i1"
           },
           "xaxis": "x",
           "y": {
            "bdata": "Ugs=",
            "dtype": "i2"
           },
           "yaxis": "y"
          },
          {
           "hovertemplate": "page2_clothing_model=P56<br>month=7<br>Main Category=%{x}<br>Total Price=%{y}<extra></extra>",
           "ids": {
            "bdata": "BA==",
            "dtype": "i1"
           },
           "legendgroup": "P56",
           "marker": {
            "color": "#FF97FF",
            "pattern": {
             "shape": ""
            }
           },
           "name": "P56",
           "orientation": "v",
           "showlegend": true,
           "textposition": "auto",
           "type": "bar",
           "x": {
            "bdata": "BA==",
            "dtype": "i1"
           },
           "xaxis": "x",
           "y": {
            "bdata": "BwU=",
            "dtype": "i2"
           },
           "yaxis": "y"
          },
          {
           "hovertemplate": "page2_clothing_model=C24<br>month=7<br>Main Category=%{x}<br>Total Price=%{y}<extra></extra>",
           "ids": {
            "bdata": "Aw==",
            "dtype": "i1"
           },
           "legendgroup": "C24",
           "marker": {
            "color": "#FECB52",
            "pattern": {
             "shape": ""
            }
           },
           "name": "C24",
           "orientation": "v",
           "showlegend": true,
           "textposition": "auto",
           "type": "bar",
           "x": {
            "bdata": "Aw==",
            "dtype": "i1"
           },
           "xaxis": "x",
           "y": {
            "bdata": "/Qs=",
            "dtype": "i2"
           },
           "yaxis": "y"
          },
          {
           "hovertemplate": "page2_clothing_model=C26<br>month=7<br>Main Category=%{x}<br>Total Price=%{y}<extra></extra>",
           "ids": {
            "bdata": "Aw==",
            "dtype": "i1"
           },
           "legendgroup": "C26",
           "marker": {
            "color": "#636efa",
            "pattern": {
             "shape": ""
            }
           },
           "name": "C26",
           "orientation": "v",
           "showlegend": true,
           "textposition": "auto",
           "type": "bar",
           "x": {
            "bdata": "Aw==",
            "dtype": "i1"
           },
           "xaxis": "x",
           "y": {
            "bdata": "qAc=",
            "dtype": "i2"
           },
           "yaxis": "y"
          },
          {
           "hovertemplate": "page2_clothing_model=B20<br>month=7<br>Main Category=%{x}<br>Total Price=%{y}<extra></extra>",
           "ids": {
            "bdata": "Ag==",
            "dtype": "i1"
           },
           "legendgroup": "B20",
           "marker": {
            "color": "#EF553B",
            "pattern": {
             "shape": ""
            }
           },
           "name": "B20",
           "orientation": "v",
           "showlegend": true,
           "textposition": "auto",
           "type": "bar",
           "x": {
            "bdata": "Ag==",
            "dtype": "i1"
           },
           "xaxis": "x",
           "y": {
            "bdata": "cA0=",
            "dtype": "i2"
           },
           "yaxis": "y"
          },
          {
           "hovertemplate": "page2_clothing_model=C38<br>month=7<br>Main Category=%{x}<br>Total Price=%{y}<extra></extra>",
           "ids": {
            "bdata": "Aw==",
            "dtype": "i1"
           },
           "legendgroup": "C38",
           "marker": {
            "color": "#00cc96",
            "pattern": {
             "shape": ""
            }
           },
           "name": "C38",
           "orientation": "v",
           "showlegend": true,
           "textposition": "auto",
           "type": "bar",
           "x": {
            "bdata": "Aw==",
            "dtype": "i1"
           },
           "xaxis": "x",
           "y": {
            "bdata": "rgY=",
            "dtype": "i2"
           },
           "yaxis": "y"
          },
          {
           "hovertemplate": "page2_clothing_model=A23<br>month=7<br>Main Category=%{x}<br>Total Price=%{y}<extra></extra>",
           "ids": {
            "bdata": "AQ==",
            "dtype": "i1"
           },
           "legendgroup": "A23",
           "marker": {
            "color": "#ab63fa",
            "pattern": {
             "shape": ""
            }
           },
           "name": "A23",
           "orientation": "v",
           "showlegend": true,
           "textposition": "auto",
           "type": "bar",
           "x": {
            "bdata": "AQ==",
            "dtype": "i1"
           },
           "xaxis": "x",
           "y": {
            "bdata": "rAU=",
            "dtype": "i2"
           },
           "yaxis": "y"
          },
          {
           "hovertemplate": "page2_clothing_model=P18<br>month=7<br>Main Category=%{x}<br>Total Price=%{y}<extra></extra>",
           "ids": {
            "bdata": "BA==",
            "dtype": "i1"
           },
           "legendgroup": "P18",
           "marker": {
            "color": "#FFA15A",
            "pattern": {
             "shape": ""
            }
           },
           "name": "P18",
           "orientation": "v",
           "showlegend": true,
           "textposition": "auto",
           "type": "bar",
           "x": {
            "bdata": "BA==",
            "dtype": "i1"
           },
           "xaxis": "x",
           "y": {
            "bdata": "sAw=",
            "dtype": "i2"
           },
           "yaxis": "y"
          },
          {
           "hovertemplate": "page2_clothing_model=B33<br>month=7<br>Main Category=%{x}<br>Total Price=%{y}<extra></extra>",
           "ids": {
            "bdata": "Ag==",
            "dtype": "i1"
           },
           "legendgroup": "B33",
           "marker": {
            "color": "#19d3f3",
            "pattern": {
             "shape": ""
            }
           },
           "name": "B33",
           "orientation": "v",
           "showlegend": true,
           "textposition": "auto",
           "type": "bar",
           "x": {
            "bdata": "Ag==",
            "dtype": "i1"
           },
           "xaxis": "x",
           "y": {
            "bdata": "owg=",
            "dtype": "i2"
           },
           "yaxis": "y"
          },
          {
           "hovertemplate": "page2_clothing_model=A36<br>month=7<br>Main Category=%{x}<br>Total Price=%{y}<extra></extra>",
           "ids": {
            "bdata": "AQ==",
            "dtype": "i1"
           },
           "legendgroup": "A36",
           "marker": {
            "color": "#FF6692",
            "pattern": {
             "shape": ""
            }
           },
           "name": "A36",
           "orientation": "v",
           "showlegend": true,
           "textposition": "auto",
           "type": "bar",
           "x": {
            "bdata": "AQ==",
            "dtype": "i1"
           },
           "xaxis": "x",
           "y": {
            "bdata": "7gU=",
            "dtype": "i2"
           },
           "yaxis": "y"
          },
          {
           "hovertemplate": "page2_clothing_model=P61<br>month=7<br>Main Category=%{x}<br>Total Price=%{y}<extra></extra>",
           "ids": {
            "bdata": "BA==",
            "dtype": "i1"
           },
           "legendgroup": "P61",
           "marker": {
            "color": "#B6E880",
            "pattern": {
             "shape": ""
            }
           },
           "name": "P61",
           "orientation": "v",
           "showlegend": true,
           "textposition": "auto",
           "type": "bar",
           "x": {
            "bdata": "BA==",
            "dtype": "i1"
           },
           "xaxis": "x",
           "y": {
            "bdata": "uAo=",
            "dtype": "i2"
           },
           "yaxis": "y"
          },
          {
           "hovertemplate": "page2_clothing_model=C25<br>month=7<br>Main Category=%{x}<br>Total Price=%{y}<extra></extra>",
           "ids": {
            "bdata": "Aw==",
            "dtype": "i1"
           },
           "legendgroup": "C25",
           "marker": {
            "color": "#FF97FF",
            "pattern": {
             "shape": ""
            }
           },
           "name": "C25",
           "orientation": "v",
           "showlegend": true,
           "textposition": "auto",
           "type": "bar",
           "x": {
            "bdata": "Aw==",
            "dtype": "i1"
           },
           "xaxis": "x",
           "y": {
            "bdata": "kgo=",
            "dtype": "i2"
           },
           "yaxis": "y"
          },
          {
           "hovertemplate": "page2_clothing_model=C48<br>month=7<br>Main Category=%{x}<br>Total Price=%{y}<extra></extra>",
           "ids": {
            "bdata": "Aw==",
            "dtype": "i1"
           },
           "legendgroup": "C48",
           "marker": {
            "color": "#FECB52",
            "pattern": {
             "shape": ""
            }
           },
           "name": "C48",
           "orientation": "v",
           "showlegend": true,
           "textposition": "auto",
           "type": "bar",
           "x": {
            "bdata": "Aw==",
            "dtype": "i1"
           },
           "xaxis": "x",
           "y": {
            "bdata": "MAk=",
            "dtype": "i2"
           },
           "yaxis": "y"
          },
          {
           "hovertemplate": "page2_clothing_model=A19<br>month=7<br>Main Category=%{x}<br>Total Price=%{y}<extra></extra>",
           "ids": {
            "bdata": "AQ==",
            "dtype": "i1"
           },
           "legendgroup": "A19",
           "marker": {
            "color": "#636efa",
            "pattern": {
             "shape": ""
            }
           },
           "name": "A19",
           "orientation": "v",
           "showlegend": true,
           "textposition": "auto",
           "type": "bar",
           "x": {
            "bdata": "AQ==",
            "dtype": "i1"
           },
           "xaxis": "x",
           "y": {
            "bdata": "3Qc=",
            "dtype": "i2"
           },
           "yaxis": "y"
          },
          {
           "hovertemplate": "page2_clothing_model=P72<br>month=7<br>Main Category=%{x}<br>Total Price=%{y}<extra></extra>",
           "ids": {
            "bdata": "BA==",
            "dtype": "i1"
           },
           "legendgroup": "P72",
           "marker": {
            "color": "#EF553B",
            "pattern": {
             "shape": ""
            }
           },
           "name": "P72",
           "orientation": "v",
           "showlegend": true,
           "textposition": "auto",
           "type": "bar",
           "x": {
            "bdata": "BA==",
            "dtype": "i1"
           },
           "xaxis": "x",
           "y": {
            "bdata": "mgs=",
            "dtype": "i2"
           },
           "yaxis": "y"
          },
          {
           "hovertemplate": "page2_clothing_model=P51<br>month=7<br>Main Category=%{x}<br>Total Price=%{y}<extra></extra>",
           "ids": {
            "bdata": "BA==",
            "dtype": "i1"
           },
           "legendgroup": "P51",
           "marker": {
            "color": "#00cc96",
            "pattern": {
             "shape": ""
            }
           },
           "name": "P51",
           "orientation": "v",
           "showlegend": true,
           "textposition": "auto",
           "type": "bar",
           "x": {
            "bdata": "BA==",
            "dtype": "i1"
           },
           "xaxis": "x",
           "y": {
            "bdata": "lAU=",
            "dtype": "i2"
           },
           "yaxis": "y"
          },
          {
           "hovertemplate": "page2_clothing_model=C31<br>month=7<br>Main Category=%{x}<br>Total Price=%{y}<extra></extra>",
           "ids": {
            "bdata": "Aw==",
            "dtype": "i1"
           },
           "legendgroup": "C31",
           "marker": {
            "color": "#ab63fa",
            "pattern": {
             "shape": ""
            }
           },
           "name": "C31",
           "orientation": "v",
           "showlegend": true,
           "textposition": "auto",
           "type": "bar",
           "x": {
            "bdata": "Aw==",
            "dtype": "i1"
           },
           "xaxis": "x",
           "y": {
            "bdata": "5gQ=",
            "dtype": "i2"
           },
           "yaxis": "y"
          },
          {
           "hovertemplate": "page2_clothing_model=C51<br>month=7<br>Main Category=%{x}<br>Total Price=%{y}<extra></extra>",
           "ids": {
            "bdata": "Aw==",
            "dtype": "i1"
           },
           "legendgroup": "C51",
           "marker": {
            "color": "#FFA15A",
            "pattern": {
             "shape": ""
            }
           },
           "name": "C51",
           "orientation": "v",
           "showlegend": true,
           "textposition": "auto",
           "type": "bar",
           "x": {
            "bdata": "Aw==",
            "dtype": "i1"
           },
           "xaxis": "x",
           "y": {
            "bdata": "5Ac=",
            "dtype": "i2"
           },
           "yaxis": "y"
          },
          {
           "hovertemplate": "page2_clothing_model=C32<br>month=7<br>Main Category=%{x}<br>Total Price=%{y}<extra></extra>",
           "ids": {
            "bdata": "Aw==",
            "dtype": "i1"
           },
           "legendgroup": "C32",
           "marker": {
            "color": "#19d3f3",
            "pattern": {
             "shape": ""
            }
           },
           "name": "C32",
           "orientation": "v",
           "showlegend": true,
           "textposition": "auto",
           "type": "bar",
           "x": {
            "bdata": "Aw==",
            "dtype": "i1"
           },
           "xaxis": "x",
           "y": {
            "bdata": "iwU=",
            "dtype": "i2"
           },
           "yaxis": "y"
          },
          {
           "hovertemplate": "page2_clothing_model=P46<br>month=7<br>Main Category=%{x}<br>Total Price=%{y}<extra></extra>",
           "ids": {
            "bdata": "BA==",
            "dtype": "i1"
           },
           "legendgroup": "P46",
           "marker": {
            "color": "#FF6692",
            "pattern": {
             "shape": ""
            }
           },
           "name": "P46",
           "orientation": "v",
           "showlegend": true,
           "textposition": "auto",
           "type": "bar",
           "x": {
            "bdata": "BA==",
            "dtype": "i1"
           },
           "xaxis": "x",
           "y": {
            "bdata": "JAU=",
            "dtype": "i2"
           },
           "yaxis": "y"
          },
          {
           "hovertemplate": "page2_clothing_model=P38<br>month=7<br>Main Category=%{x}<br>Total Price=%{y}<extra></extra>",
           "ids": {
            "bdata": "BA==",
            "dtype": "i1"
           },
           "legendgroup": "P38",
           "marker": {
            "color": "#B6E880",
            "pattern": {
             "shape": ""
            }
           },
           "name": "P38",
           "orientation": "v",
           "showlegend": true,
           "textposition": "auto",
           "type": "bar",
           "x": {
            "bdata": "BA==",
            "dtype": "i1"
           },
           "xaxis": "x",
           "y": {
            "bdata": "BwU=",
            "dtype": "i2"
           },
           "yaxis": "y"
          },
          {
           "hovertemplate": "page2_clothing_model=P47<br>month=7<br>Main Category=%{x}<br>Total Price=%{y}<extra></extra>",
           "ids": {
            "bdata": "BA==",
            "dtype": "i1"
           },
           "legendgroup": "P47",
           "marker": {
            "color": "#FF97FF",
            "pattern": {
             "shape": ""
            }
           },
           "name": "P47",
           "orientation": "v",
           "showlegend": true,
           "textposition": "auto",
           "type": "bar",
           "x": {
            "bdata": "BA==",
            "dtype": "i1"
           },
           "xaxis": "x",
           "y": {
            "bdata": "1AM=",
            "dtype": "i2"
           },
           "yaxis": "y"
          },
          {
           "hovertemplate": "page2_clothing_model=P71<br>month=7<br>Main Category=%{x}<br>Total Price=%{y}<extra></extra>",
           "ids": {
            "bdata": "BA==",
            "dtype": "i1"
           },
           "legendgroup": "P71",
           "marker": {
            "color": "#FECB52",
            "pattern": {
             "shape": ""
            }
           },
           "name": "P71",
           "orientation": "v",
           "showlegend": true,
           "textposition": "auto",
           "type": "bar",
           "x": {
            "bdata": "BA==",
            "dtype": "i1"
           },
           "xaxis": "x",
           "y": {
            "bdata": "xAg=",
            "dtype": "i2"
           },
           "yaxis": "y"
          },
          {
           "hovertemplate": "page2_clothing_model=P30<br>month=7<br>Main Category=%{x}<br>Total Price=%{y}<extra></extra>",
           "ids": {
            "bdata": "BA==",
            "dtype": "i1"
           },
           "legendgroup": "P30",
           "marker": {
            "color": "#636efa",
            "pattern": {
             "shape": ""
            }
           },
           "name": "P30",
           "orientation": "v",
           "showlegend": true,
           "textposition": "auto",
           "type": "bar",
           "x": {
            "bdata": "BA==",
            "dtype": "i1"
           },
           "xaxis": "x",
           "y": {
            "bdata": "MAY=",
            "dtype": "i2"
           },
           "yaxis": "y"
          },
          {
           "hovertemplate": "page2_clothing_model=P74<br>month=7<br>Main Category=%{x}<br>Total Price=%{y}<extra></extra>",
           "ids": {
            "bdata": "BA==",
            "dtype": "i1"
           },
           "legendgroup": "P74",
           "marker": {
            "color": "#EF553B",
            "pattern": {
             "shape": ""
            }
           },
           "name": "P74",
           "orientation": "v",
           "showlegend": true,
           "textposition": "auto",
           "type": "bar",
           "x": {
            "bdata": "BA==",
            "dtype": "i1"
           },
           "xaxis": "x",
           "y": {
            "bdata": "ggg=",
            "dtype": "i2"
           },
           "yaxis": "y"
          },
          {
           "hovertemplate": "page2_clothing_model=P63<br>month=7<br>Main Category=%{x}<br>Total Price=%{y}<extra></extra>",
           "ids": {
            "bdata": "BA==",
            "dtype": "i1"
           },
           "legendgroup": "P63",
           "marker": {
            "color": "#00cc96",
            "pattern": {
             "shape": ""
            }
           },
           "name": "P63",
           "orientation": "v",
           "showlegend": true,
           "textposition": "auto",
           "type": "bar",
           "x": {
            "bdata": "BA==",
            "dtype": "i1"
           },
           "xaxis": "x",
           "y": {
            "bdata": "BAY=",
            "dtype": "i2"
           },
           "yaxis": "y"
          },
          {
           "hovertemplate": "page2_clothing_model=P42<br>month=7<br>Main Category=%{x}<br>Total Price=%{y}<extra></extra>",
           "ids": {
            "bdata": "BA==",
            "dtype": "i1"
           },
           "legendgroup": "P42",
           "marker": {
            "color": "#ab63fa",
            "pattern": {
             "shape": ""
            }
           },
           "name": "P42",
           "orientation": "v",
           "showlegend": true,
           "textposition": "auto",
           "type": "bar",
           "x": {
            "bdata": "BA==",
            "dtype": "i1"
           },
           "xaxis": "x",
           "y": {
            "bdata": "lAU=",
            "dtype": "i2"
           },
           "yaxis": "y"
          },
          {
           "hovertemplate": "page2_clothing_model=P21<br>month=7<br>Main Category=%{x}<br>Total Price=%{y}<extra></extra>",
           "ids": {
            "bdata": "BA==",
            "dtype": "i1"
           },
           "legendgroup": "P21",
           "marker": {
            "color": "#FFA15A",
            "pattern": {
             "shape": ""
            }
           },
           "name": "P21",
           "orientation": "v",
           "showlegend": true,
           "textposition": "auto",
           "type": "bar",
           "x": {
            "bdata": "BA==",
            "dtype": "i1"
           },
           "xaxis": "x",
           "y": {
            "bdata": "iwU=",
            "dtype": "i2"
           },
           "yaxis": "y"
          },
          {
           "hovertemplate": "page2_clothing_model=P44<br>month=7<br>Main Category=%{x}<br>Total Price=%{y}<extra></extra>",
           "ids": {
            "bdata": "BA==",
            "dtype": "i1"
           },
           "legendgroup": "P44",
           "marker": {
            "color": "#19d3f3",
            "pattern": {
             "shape": ""
            }
           },
           "name": "P44",
           "orientation": "v",
           "showlegend": true,
           "textposition": "auto",
           "type": "bar",
           "x": {
            "bdata": "BA==",
            "dtype": "i1"
           },
           "xaxis": "x",
           "y": {
            "bdata": "ZAM=",
            "dtype": "i2"
           },
           "yaxis": "y"
          },
          {
           "hovertemplate": "page2_clothing_model=P75<br>month=7<br>Main Category=%{x}<br>Total Price=%{y}<extra></extra>",
           "ids": {
            "bdata": "BA==",
            "dtype": "i1"
           },
           "legendgroup": "P75",
           "marker": {
            "color": "#FF6692",
            "pattern": {
             "shape": ""
            }
           },
           "name": "P75",
           "orientation": "v",
           "showlegend": true,
           "textposition": "auto",
           "type": "bar",
           "x": {
            "bdata": "BA==",
            "dtype": "i1"
           },
           "xaxis": "x",
           "y": {
            "bdata": "ewM=",
            "dtype": "i2"
           },
           "yaxis": "y"
          },
          {
           "hovertemplate": "page2_clothing_model=P27<br>month=7<br>Main Category=%{x}<br>Total Price=%{y}<extra></extra>",
           "ids": {
            "bdata": "BA==",
            "dtype": "i1"
           },
           "legendgroup": "P27",
           "marker": {
            "color": "#B6E880",
            "pattern": {
             "shape": ""
            }
           },
           "name": "P27",
           "orientation": "v",
           "showlegend": true,
           "textposition": "auto",
           "type": "bar",
           "x": {
            "bdata": "BA==",
            "dtype": "i1"
           },
           "xaxis": "x",
           "y": {
            "bdata": "nAM=",
            "dtype": "i2"
           },
           "yaxis": "y"
          },
          {
           "hovertemplate": "page2_clothing_model=C52<br>month=7<br>Main Category=%{x}<br>Total Price=%{y}<extra></extra>",
           "ids": {
            "bdata": "Aw==",
            "dtype": "i1"
           },
           "legendgroup": "C52",
           "marker": {
            "color": "#FF97FF",
            "pattern": {
             "shape": ""
            }
           },
           "name": "C52",
           "orientation": "v",
           "showlegend": true,
           "textposition": "auto",
           "type": "bar",
           "x": {
            "bdata": "Aw==",
            "dtype": "i1"
           },
           "xaxis": "x",
           "y": {
            "bdata": "FgY=",
            "dtype": "i2"
           },
           "yaxis": "y"
          },
          {
           "hovertemplate": "page2_clothing_model=P73<br>month=7<br>Main Category=%{x}<br>Total Price=%{y}<extra></extra>",
           "ids": {
            "bdata": "BA==",
            "dtype": "i1"
           },
           "legendgroup": "P73",
           "marker": {
            "color": "#FECB52",
            "pattern": {
             "shape": ""
            }
           },
           "name": "P73",
           "orientation": "v",
           "showlegend": true,
           "textposition": "auto",
           "type": "bar",
           "x": {
            "bdata": "BA==",
            "dtype": "i1"
           },
           "xaxis": "x",
           "y": {
            "bdata": "zQU=",
            "dtype": "i2"
           },
           "yaxis": "y"
          },
          {
           "hovertemplate": "page2_clothing_model=P80<br>month=7<br>Main Category=%{x}<br>Total Price=%{y}<extra></extra>",
           "ids": {
            "bdata": "BA==",
            "dtype": "i1"
           },
           "legendgroup": "P80",
           "marker": {
            "color": "#636efa",
            "pattern": {
             "shape": ""
            }
           },
           "name": "P80",
           "orientation": "v",
           "showlegend": true,
           "textposition": "auto",
           "type": "bar",
           "x": {
            "bdata": "BA==",
            "dtype": "i1"
           },
           "xaxis": "x",
           "y": {
            "bdata": "eAU=",
            "dtype": "i2"
           },
           "yaxis": "y"
          },
          {
           "hovertemplate": "page2_clothing_model=P35<br>month=7<br>Main Category=%{x}<br>Total Price=%{y}<extra></extra>",
           "ids": {
            "bdata": "BA==",
            "dtype": "i1"
           },
           "legendgroup": "P35",
           "marker": {
            "color": "#EF553B",
            "pattern": {
             "shape": ""
            }
           },
           "name": "P35",
           "orientation": "v",
           "showlegend": true,
           "textposition": "auto",
           "type": "bar",
           "x": {
            "bdata": "BA==",
            "dtype": "i1"
           },
           "xaxis": "x",
           "y": {
            "bdata": "7AQ=",
            "dtype": "i2"
           },
           "yaxis": "y"
          },
          {
           "hovertemplate": "page2_clothing_model=P52<br>month=7<br>Main Category=%{x}<br>Total Price=%{y}<extra></extra>",
           "ids": {
            "bdata": "BA==",
            "dtype": "i1"
           },
           "legendgroup": "P52",
           "marker": {
            "color": "#00cc96",
            "pattern": {
             "shape": ""
            }
           },
           "name": "P52",
           "orientation": "v",
           "showlegend": true,
           "textposition": "auto",
           "type": "bar",
           "x": {
            "bdata": "BA==",
            "dtype": "i1"
           },
           "xaxis": "x",
           "y": {
            "bdata": "2gQ=",
            "dtype": "i2"
           },
           "yaxis": "y"
          },
          {
           "hovertemplate": "page2_clothing_model=C47<br>month=7<br>Main Category=%{x}<br>Total Price=%{y}<extra></extra>",
           "ids": {
            "bdata": "Aw==",
            "dtype": "i1"
           },
           "legendgroup": "C47",
           "marker": {
            "color": "#ab63fa",
            "pattern": {
             "shape": ""
            }
           },
           "name": "C47",
           "orientation": "v",
           "showlegend": true,
           "textposition": "auto",
           "type": "bar",
           "x": {
            "bdata": "Aw==",
            "dtype": "i1"
           },
           "xaxis": "x",
           "y": {
            "bdata": "cgM=",
            "dtype": "i2"
           },
           "yaxis": "y"
          },
          {
           "hovertemplate": "page2_clothing_model=P62<br>month=7<br>Main Category=%{x}<br>Total Price=%{y}<extra></extra>",
           "ids": {
            "bdata": "BA==",
            "dtype": "i1"
           },
           "legendgroup": "P62",
           "marker": {
            "color": "#FFA15A",
            "pattern": {
             "shape": ""
            }
           },
           "name": "P62",
           "orientation": "v",
           "showlegend": true,
           "textposition": "auto",
           "type": "bar",
           "x": {
            "bdata": "BA==",
            "dtype": "i1"
           },
           "xaxis": "x",
           "y": {
            "bdata": "gwQ=",
            "dtype": "i2"
           },
           "yaxis": "y"
          },
          {
           "hovertemplate": "page2_clothing_model=P45<br>month=7<br>Main Category=%{x}<br>Total Price=%{y}<extra></extra>",
           "ids": {
            "bdata": "BA==",
            "dtype": "i1"
           },
           "legendgroup": "P45",
           "marker": {
            "color": "#19d3f3",
            "pattern": {
             "shape": ""
            }
           },
           "name": "P45",
           "orientation": "v",
           "showlegend": true,
           "textposition": "auto",
           "type": "bar",
           "x": {
            "bdata": "BA==",
            "dtype": "i1"
           },
           "xaxis": "x",
           "y": {
            "bdata": "IAQ=",
            "dtype": "i2"
           },
           "yaxis": "y"
          },
          {
           "hovertemplate": "page2_clothing_model=C43<br>month=7<br>Main Category=%{x}<br>Total Price=%{y}<extra></extra>",
           "ids": {
            "bdata": "Aw==",
            "dtype": "i1"
           },
           "legendgroup": "C43",
           "marker": {
            "color": "#FF6692",
            "pattern": {
             "shape": ""
            }
           },
           "name": "C43",
           "orientation": "v",
           "showlegend": true,
           "textposition": "auto",
           "type": "bar",
           "x": {
            "bdata": "Aw==",
            "dtype": "i1"
           },
           "xaxis": "x",
           "y": {
            "bdata": "DAQ=",
            "dtype": "i2"
           },
           "yaxis": "y"
          },
          {
           "hovertemplate": "page2_clothing_model=P64<br>month=7<br>Main Category=%{x}<br>Total Price=%{y}<extra></extra>",
           "ids": {
            "bdata": "BA==",
            "dtype": "i1"
           },
           "legendgroup": "P64",
           "marker": {
            "color": "#B6E880",
            "pattern": {
             "shape": ""
            }
           },
           "name": "P64",
           "orientation": "v",
           "showlegend": true,
           "textposition": "auto",
           "type": "bar",
           "x": {
            "bdata": "BA==",
            "dtype": "i1"
           },
           "xaxis": "x",
           "y": {
            "bdata": "hAI=",
            "dtype": "i2"
           },
           "yaxis": "y"
          },
          {
           "hovertemplate": "page2_clothing_model=P31<br>month=7<br>Main Category=%{x}<br>Total Price=%{y}<extra></extra>",
           "ids": {
            "bdata": "BA==",
            "dtype": "i1"
           },
           "legendgroup": "P31",
           "marker": {
            "color": "#FF97FF",
            "pattern": {
             "shape": ""
            }
           },
           "name": "P31",
           "orientation": "v",
           "showlegend": true,
           "textposition": "auto",
           "type": "bar",
           "x": {
            "bdata": "BA==",
            "dtype": "i1"
           },
           "xaxis": "x",
           "y": {
            "bdata": "MQI=",
            "dtype": "i2"
           },
           "yaxis": "y"
          }
         ],
         "name": "7"
        },
        {
         "data": [
          {
           "hovertemplate": "page2_clothing_model=A2<br>month=4<br>Main Category=%{x}<br>Total Price=%{y}<extra></extra>",
           "ids": {
            "bdata": "AQ==",
            "dtype": "i1"
           },
           "legendgroup": "A2",
           "marker": {
            "color": "#636efa",
            "pattern": {
             "shape": ""
            }
           },
           "name": "A2",
           "orientation": "v",
           "showlegend": true,
           "textposition": "auto",
           "type": "bar",
           "x": {
            "bdata": "AQ==",
            "dtype": "i1"
           },
           "xaxis": "x",
           "y": {
            "bdata": "1Go=",
            "dtype": "i2"
           },
           "yaxis": "y"
          },
          {
           "hovertemplate": "page2_clothing_model=A4<br>month=4<br>Main Category=%{x}<br>Total Price=%{y}<extra></extra>",
           "ids": {
            "bdata": "AQ==",
            "dtype": "i1"
           },
           "legendgroup": "A4",
           "marker": {
            "color": "#EF553B",
            "pattern": {
             "shape": ""
            }
           },
           "name": "A4",
           "orientation": "v",
           "showlegend": true,
           "textposition": "auto",
           "type": "bar",
           "x": {
            "bdata": "AQ==",
            "dtype": "i1"
           },
           "xaxis": "x",
           "y": {
            "bdata": "Glo=",
            "dtype": "i2"
           },
           "yaxis": "y"
          },
          {
           "hovertemplate": "page2_clothing_model=A5<br>month=4<br>Main Category=%{x}<br>Total Price=%{y}<extra></extra>",
           "ids": {
            "bdata": "AQ==",
            "dtype": "i1"
           },
           "legendgroup": "A5",
           "marker": {
            "color": "#00cc96",
            "pattern": {
             "shape": ""
            }
           },
           "name": "A5",
           "orientation": "v",
           "showlegend": true,
           "textposition": "auto",
           "type": "bar",
           "x": {
            "bdata": "AQ==",
            "dtype": "i1"
           },
           "xaxis": "x",
           "y": {
            "bdata": "K1Y=",
            "dtype": "i2"
           },
           "yaxis": "y"
          },
          {
           "hovertemplate": "page2_clothing_model=A15<br>month=4<br>Main Category=%{x}<br>Total Price=%{y}<extra></extra>",
           "ids": {
            "bdata": "AQ==",
            "dtype": "i1"
           },
           "legendgroup": "A15",
           "marker": {
            "color": "#ab63fa",
            "pattern": {
             "shape": ""
            }
           },
           "name": "A15",
           "orientation": "v",
           "showlegend": true,
           "textposition": "auto",
           "type": "bar",
           "x": {
            "bdata": "AQ==",
            "dtype": "i1"
           },
           "xaxis": "x",
           "y": {
            "bdata": "iFM=",
            "dtype": "i2"
           },
           "yaxis": "y"
          },
          {
           "hovertemplate": "page2_clothing_model=A10<br>month=4<br>Main Category=%{x}<br>Total Price=%{y}<extra></extra>",
           "ids": {
            "bdata": "AQ==",
            "dtype": "i1"
           },
           "legendgroup": "A10",
           "marker": {
            "color": "#FFA15A",
            "pattern": {
             "shape": ""
            }
           },
           "name": "A10",
           "orientation": "v",
           "showlegend": true,
           "textposition": "auto",
           "type": "bar",
           "x": {
            "bdata": "AQ==",
            "dtype": "i1"
           },
           "xaxis": "x",
           "y": {
            "bdata": "yE0=",
            "dtype": "i2"
           },
           "yaxis": "y"
          },
          {
           "hovertemplate": "page2_clothing_model=A6<br>month=4<br>Main Category=%{x}<br>Total Price=%{y}<extra></extra>",
           "ids": {
            "bdata": "AQ==",
            "dtype": "i1"
           },
           "legendgroup": "A6",
           "marker": {
            "color": "#19d3f3",
            "pattern": {
             "shape": ""
            }
           },
           "name": "A6",
           "orientation": "v",
           "showlegend": true,
           "textposition": "auto",
           "type": "bar",
           "x": {
            "bdata": "AQ==",
            "dtype": "i1"
           },
           "xaxis": "x",
           "y": {
            "bdata": "X0U=",
            "dtype": "i2"
           },
           "yaxis": "y"
          },
          {
           "hovertemplate": "page2_clothing_model=A12<br>month=4<br>Main Category=%{x}<br>Total Price=%{y}<extra></extra>",
           "ids": {
            "bdata": "AQ==",
            "dtype": "i1"
           },
           "legendgroup": "A12",
           "marker": {
            "color": "#FF6692",
            "pattern": {
             "shape": ""
            }
           },
           "name": "A12",
           "orientation": "v",
           "showlegend": true,
           "textposition": "auto",
           "type": "bar",
           "x": {
            "bdata": "AQ==",
            "dtype": "i1"
           },
           "xaxis": "x",
           "y": {
            "bdata": "WkI=",
            "dtype": "i2"
           },
           "yaxis": "y"
          },
          {
           "hovertemplate": "page2_clothing_model=A7<br>month=4<br>Main Category=%{x}<br>Total Price=%{y}<extra></extra>",
           "ids": {
            "bdata": "AQ==",
            "dtype": "i1"
           },
           "legendgroup": "A7",
           "marker": {
            "color": "#B6E880",
            "pattern": {
             "shape": ""
            }
           },
           "name": "A7",
           "orientation": "v",
           "showlegend": true,
           "textposition": "auto",
           "type": "bar",
           "x": {
            "bdata": "AQ==",
            "dtype": "i1"
           },
           "xaxis": "x",
           "y": {
            "bdata": "pz4=",
            "dtype": "i2"
           },
           "yaxis": "y"
          },
          {
           "hovertemplate": "page2_clothing_model=A1<br>month=4<br>Main Category=%{x}<br>Total Price=%{y}<extra></extra>",
           "ids": {
            "bdata": "AQ==",
            "dtype": "i1"
           },
           "legendgroup": "A1",
           "marker": {
            "color": "#FF97FF",
            "pattern": {
             "shape": ""
            }
           },
           "name": "A1",
           "orientation": "v",
           "showlegend": true,
           "textposition": "auto",
           "type": "bar",
           "x": {
            "bdata": "AQ==",
            "dtype": "i1"
           },
           "xaxis": "x",
           "y": {
            "bdata": "lDY=",
            "dtype": "i2"
           },
           "yaxis": "y"
          },
          {
           "hovertemplate": "page2_clothing_model=B11<br>month=4<br>Main Category=%{x}<br>Total Price=%{y}<extra></extra>",
           "ids": {
            "bdata": "Ag==",
            "dtype": "i1"
           },
           "legendgroup": "B11",
           "marker": {
            "color": "#FECB52",
            "pattern": {
             "shape": ""
            }
           },
           "name": "B11",
           "orientation": "v",
           "showlegend": true,
           "textposition": "auto",
           "type": "bar",
           "x": {
            "bdata": "Ag==",
            "dtype": "i1"
           },
           "xaxis": "x",
           "y": {
            "bdata": "bDY=",
            "dtype": "i2"
           },
           "yaxis": "y"
          },
          {
           "hovertemplate": "page2_clothing_model=B15<br>month=4<br>Main Category=%{x}<br>Total Price=%{y}<extra></extra>",
           "ids": {
            "bdata": "Ag==",
            "dtype": "i1"
           },
           "legendgroup": "B15",
           "marker": {
            "color": "#636efa",
            "pattern": {
             "shape": ""
            }
           },
           "name": "B15",
           "orientation": "v",
           "showlegend": true,
           "textposition": "auto",
           "type": "bar",
           "x": {
            "bdata": "Ag==",
            "dtype": "i1"
           },
           "xaxis": "x",
           "y": {
            "bdata": "XDM=",
            "dtype": "i2"
           },
           "yaxis": "y"
          },
          {
           "hovertemplate": "page2_clothing_model=B32<br>month=4<br>Main Category=%{x}<br>Total Price=%{y}<extra></extra>",
           "ids": {
            "bdata": "Ag==",
            "dtype": "i1"
           },
           "legendgroup": "B32",
           "marker": {
            "color": "#EF553B",
            "pattern": {
             "shape": ""
            }
           },
           "name": "B32",
           "orientation": "v",
           "showlegend": true,
           "textposition": "auto",
           "type": "bar",
           "x": {
            "bdata": "Ag==",
            "dtype": "i1"
           },
           "xaxis": "x",
           "y": {
            "bdata": "NjM=",
            "dtype": "i2"
           },
           "yaxis": "y"
          },
          {
           "hovertemplate": "page2_clothing_model=P16<br>month=4<br>Main Category=%{x}<br>Total Price=%{y}<extra></extra>",
           "ids": {
            "bdata": "BA==",
            "dtype": "i1"
           },
           "legendgroup": "P16",
           "marker": {
            "color": "#00cc96",
            "pattern": {
             "shape": ""
            }
           },
           "name": "P16",
           "orientation": "v",
           "showlegend": true,
           "textposition": "auto",
           "type": "bar",
           "x": {
            "bdata": "BA==",
            "dtype": "i1"
           },
           "xaxis": "x",
           "y": {
            "bdata": "qTI=",
            "dtype": "i2"
           },
           "yaxis": "y"
          },
          {
           "hovertemplate": "page2_clothing_model=B23<br>month=4<br>Main Category=%{x}<br>Total Price=%{y}<extra></extra>",
           "ids": {
            "bdata": "Ag==",
            "dtype": "i1"
           },
           "legendgroup": "B23",
           "marker": {
            "color": "#ab63fa",
            "pattern": {
             "shape": ""
            }
           },
           "name": "B23",
           "orientation": "v",
           "showlegend": true,
           "textposition": "auto",
           "type": "bar",
           "x": {
            "bdata": "Ag==",
            "dtype": "i1"
           },
           "xaxis": "x",
           "y": {
            "bdata": "ijA=",
            "dtype": "i2"
           },
           "yaxis": "y"
          },
          {
           "hovertemplate": "page2_clothing_model=B17<br>month=4<br>Main Category=%{x}<br>Total Price=%{y}<extra></extra>",
           "ids": {
            "bdata": "Ag==",
            "dtype": "i1"
           },
           "legendgroup": "B17",
           "marker": {
            "color": "#FFA15A",
            "pattern": {
             "shape": ""
            }
           },
           "name": "B17",
           "orientation": "v",
           "showlegend": true,
           "textposition": "auto",
           "type": "bar",
           "x": {
            "bdata": "Ag==",
            "dtype": "i1"
           },
           "xaxis": "x",
           "y": {
            "bdata": "ki0=",
            "dtype": "i2"
           },
           "yaxis": "y"
          },
          {
           "hovertemplate": "page2_clothing_model=B12<br>month=4<br>Main Category=%{x}<br>Total Price=%{y}<extra></extra>",
           "ids": {
            "bdata": "Ag==",
            "dtype": "i1"
           },
           "legendgroup": "B12",
           "marker": {
            "color": "#19d3f3",
            "pattern": {
             "shape": ""
            }
           },
           "name": "B12",
           "orientation": "v",
           "showlegend": true,
           "textposition": "auto",
           "type": "bar",
           "x": {
            "bdata": "Ag==",
            "dtype": "i1"
           },
           "xaxis": "x",
           "y": {
            "bdata": "bC0=",
            "dtype": "i2"
           },
           "yaxis": "y"
          },
          {
           "hovertemplate": "page2_clothing_model=A16<br>month=4<br>Main Category=%{x}<br>Total Price=%{y}<extra></extra>",
           "ids": {
            "bdata": "AQ==",
            "dtype": "i1"
           },
           "legendgroup": "A16",
           "marker": {
            "color": "#FF6692",
            "pattern": {
             "shape": ""
            }
           },
           "name": "A16",
           "orientation": "v",
           "showlegend": true,
           "textposition": "auto",
           "type": "bar",
           "x": {
            "bdata": "AQ==",
            "dtype": "i1"
           },
           "xaxis": "x",
           "y": {
            "bdata": "YC0=",
            "dtype": "i2"
           },
           "yaxis": "y"
          },
          {
           "hovertemplate": "page2_clothing_model=B9<br>month=4<br>Main Category=%{x}<br>Total Price=%{y}<extra></extra>",
           "ids": {
            "bdata": "Ag==",
            "dtype": "i1"
           },
           "legendgroup": "B9",
           "marker": {
            "color": "#B6E880",
            "pattern": {
             "shape": ""
            }
           },
           "name": "B9",
           "orientation": "v",
           "showlegend": true,
           "textposition": "auto",
           "type": "bar",
           "x": {
            "bdata": "Ag==",
            "dtype": "i1"
           },
           "xaxis": "x",
           "y": {
            "bdata": "ICs=",
            "dtype": "i2"
           },
           "yaxis": "y"
          },
          {
           "hovertemplate": "page2_clothing_model=A13<br>month=4<br>Main Category=%{x}<br>Total Price=%{y}<extra></extra>",
           "ids": {
            "bdata": "AQ==",
            "dtype": "i1"
           },
           "legendgroup": "A13",
           "marker": {
            "color": "#FF97FF",
            "pattern": {
             "shape": ""
            }
           },
           "name": "A13",
           "orientation": "v",
           "showlegend": true,
           "textposition": "auto",
           "type": "bar",
           "x": {
            "bdata": "AQ==",
            "dtype": "i1"
           },
           "xaxis": "x",
           "y": {
            "bdata": "yCk=",
            "dtype": "i2"
           },
           "yaxis": "y"
          },
          {
           "hovertemplate": "page2_clothing_model=B19<br>month=4<br>Main Category=%{x}<br>Total Price=%{y}<extra></extra>",
           "ids": {
            "bdata": "Ag==",
            "dtype": "i1"
           },
           "legendgroup": "B19",
           "marker": {
            "color": "#FECB52",
            "pattern": {
             "shape": ""
            }
           },
           "name": "B19",
           "orientation": "v",
           "showlegend": true,
           "textposition": "auto",
           "type": "bar",
           "x": {
            "bdata": "Ag==",
            "dtype": "i1"
           },
           "xaxis": "x",
           "y": {
            "bdata": "ciY=",
            "dtype": "i2"
           },
           "yaxis": "y"
          },
          {
           "hovertemplate": "page2_clothing_model=A33<br>month=4<br>Main Category=%{x}<br>Total Price=%{y}<extra></extra>",
           "ids": {
            "bdata": "AQ==",
            "dtype": "i1"
           },
           "legendgroup": "A33",
           "marker": {
            "color": "#636efa",
            "pattern": {
             "shape": ""
            }
           },
           "name": "A33",
           "orientation": "v",
           "showlegend": true,
           "textposition": "auto",
           "type": "bar",
           "x": {
            "bdata": "AQ==",
            "dtype": "i1"
           },
           "xaxis": "x",
           "y": {
            "bdata": "XiQ=",
            "dtype": "i2"
           },
           "yaxis": "y"
          },
          {
           "hovertemplate": "page2_clothing_model=P12<br>month=4<br>Main Category=%{x}<br>Total Price=%{y}<extra></extra>",
           "ids": {
            "bdata": "BA==",
            "dtype": "i1"
           },
           "legendgroup": "P12",
           "marker": {
            "color": "#EF553B",
            "pattern": {
             "shape": ""
            }
           },
           "name": "P12",
           "orientation": "v",
           "showlegend": true,
           "textposition": "auto",
           "type": "bar",
           "x": {
            "bdata": "BA==",
            "dtype": "i1"
           },
           "xaxis": "x",
           "y": {
            "bdata": "+B8=",
            "dtype": "i2"
           },
           "yaxis": "y"
          },
          {
           "hovertemplate": "page2_clothing_model=A41<br>month=4<br>Main Category=%{x}<br>Total Price=%{y}<extra></extra>",
           "ids": {
            "bdata": "AQ==",
            "dtype": "i1"
           },
           "legendgroup": "A41",
           "marker": {
            "color": "#00cc96",
            "pattern": {
             "shape": ""
            }
           },
           "name": "A41",
           "orientation": "v",
           "showlegend": true,
           "textposition": "auto",
           "type": "bar",
           "x": {
            "bdata": "AQ==",
            "dtype": "i1"
           },
           "xaxis": "x",
           "y": {
            "bdata": "kB0=",
            "dtype": "i2"
           },
           "yaxis": "y"
          },
          {
           "hovertemplate": "page2_clothing_model=C1<br>month=4<br>Main Category=%{x}<br>Total Price=%{y}<extra></extra>",
           "ids": {
            "bdata": "Aw==",
            "dtype": "i1"
           },
           "legendgroup": "C1",
           "marker": {
            "color": "#ab63fa",
            "pattern": {
             "shape": ""
            }
           },
           "name": "C1",
           "orientation": "v",
           "showlegend": true,
           "textposition": "auto",
           "type": "bar",
           "x": {
            "bdata": "Aw==",
            "dtype": "i1"
           },
           "xaxis": "x",
           "y": {
            "bdata": "GB0=",
            "dtype": "i2"
           },
           "yaxis": "y"
          },
          {
           "hovertemplate": "page2_clothing_model=A18<br>month=4<br>Main Category=%{x}<br>Total Price=%{y}<extra></extra>",
           "ids": {
            "bdata": "AQI=",
            "dtype": "i1"
           },
           "legendgroup": "A18",
           "marker": {
            "color": "#FFA15A",
            "pattern": {
             "shape": ""
            }
           },
           "name": "A18",
           "orientation": "v",
           "showlegend": true,
           "textposition": "auto",
           "type": "bar",
           "x": {
            "bdata": "AQI=",
            "dtype": "i1"
           },
           "xaxis": "x",
           "y": {
            "bdata": "8hwmAA==",
            "dtype": "i2"
           },
           "yaxis": "y"
          },
          {
           "hovertemplate": "page2_clothing_model=B34<br>month=4<br>Main Category=%{x}<br>Total Price=%{y}<extra></extra>",
           "ids": {
            "bdata": "Ag==",
            "dtype": "i1"
           },
           "legendgroup": "B34",
           "marker": {
            "color": "#19d3f3",
            "pattern": {
             "shape": ""
            }
           },
           "name": "B34",
           "orientation": "v",
           "showlegend": true,
           "textposition": "auto",
           "type": "bar",
           "x": {
            "bdata": "Ag==",
            "dtype": "i1"
           },
           "xaxis": "x",
           "y": {
            "bdata": "UBw=",
            "dtype": "i2"
           },
           "yaxis": "y"
          },
          {
           "hovertemplate": "page2_clothing_model=A30<br>month=4<br>Main Category=%{x}<br>Total Price=%{y}<extra></extra>",
           "ids": {
            "bdata": "AQ==",
            "dtype": "i1"
           },
           "legendgroup": "A30",
           "marker": {
            "color": "#FF6692",
            "pattern": {
             "shape": ""
            }
           },
           "name": "A30",
           "orientation": "v",
           "showlegend": true,
           "textposition": "auto",
           "type": "bar",
           "x": {
            "bdata": "AQ==",
            "dtype": "i1"
           },
           "xaxis": "x",
           "y": {
            "bdata": "Dhw=",
            "dtype": "i2"
           },
           "yaxis": "y"
          },
          {
           "hovertemplate": "page2_clothing_model=C40<br>month=4<br>Main Category=%{x}<br>Total Price=%{y}<extra></extra>",
           "ids": {
            "bdata": "Aw==",
            "dtype": "i1"
           },
           "legendgroup": "C40",
           "marker": {
            "color": "#B6E880",
            "pattern": {
             "shape": ""
            }
           },
           "name": "C40",
           "orientation": "v",
           "showlegend": true,
           "textposition": "auto",
           "type": "bar",
           "x": {
            "bdata": "Aw==",
            "dtype": "i1"
           },
           "xaxis": "x",
           "y": {
            "bdata": "kBs=",
            "dtype": "i2"
           },
           "yaxis": "y"
          },
          {
           "hovertemplate": "page2_clothing_model=P48<br>month=4<br>Main Category=%{x}<br>Total Price=%{y}<extra></extra>",
           "ids": {
            "bdata": "BA==",
            "dtype": "i1"
           },
           "legendgroup": "P48",
           "marker": {
            "color": "#FF97FF",
            "pattern": {
             "shape": ""
            }
           },
           "name": "P48",
           "orientation": "v",
           "showlegend": true,
           "textposition": "auto",
           "type": "bar",
           "x": {
            "bdata": "BA==",
            "dtype": "i1"
           },
           "xaxis": "x",
           "y": {
            "bdata": "rxo=",
            "dtype": "i2"
           },
           "yaxis": "y"
          },
          {
           "hovertemplate": "page2_clothing_model=C14<br>month=4<br>Main Category=%{x}<br>Total Price=%{y}<extra></extra>",
           "ids": {
            "bdata": "Aw==",
            "dtype": "i1"
           },
           "legendgroup": "C14",
           "marker": {
            "color": "#FECB52",
            "pattern": {
             "shape": ""
            }
           },
           "name": "C14",
           "orientation": "v",
           "showlegend": true,
           "textposition": "auto",
           "type": "bar",
           "x": {
            "bdata": "Aw==",
            "dtype": "i1"
           },
           "xaxis": "x",
           "y": {
            "bdata": "JRo=",
            "dtype": "i2"
           },
           "yaxis": "y"
          },
          {
           "hovertemplate": "page2_clothing_model=P2<br>month=4<br>Main Category=%{x}<br>Total Price=%{y}<extra></extra>",
           "ids": {
            "bdata": "BA==",
            "dtype": "i1"
           },
           "legendgroup": "P2",
           "marker": {
            "color": "#636efa",
            "pattern": {
             "shape": ""
            }
           },
           "name": "P2",
           "orientation": "v",
           "showlegend": true,
           "textposition": "auto",
           "type": "bar",
           "x": {
            "bdata": "BA==",
            "dtype": "i1"
           },
           "xaxis": "x",
           "y": {
            "bdata": "7Bk=",
            "dtype": "i2"
           },
           "yaxis": "y"
          },
          {
           "hovertemplate": "page2_clothing_model=A32<br>month=4<br>Main Category=%{x}<br>Total Price=%{y}<extra></extra>",
           "ids": {
            "bdata": "AQ==",
            "dtype": "i1"
           },
           "legendgroup": "A32",
           "marker": {
            "color": "#EF553B",
            "pattern": {
             "shape": ""
            }
           },
           "name": "A32",
           "orientation": "v",
           "showlegend": true,
           "textposition": "auto",
           "type": "bar",
           "x": {
            "bdata": "AQ==",
            "dtype": "i1"
           },
           "xaxis": "x",
           "y": {
            "bdata": "Yhk=",
            "dtype": "i2"
           },
           "yaxis": "y"
          },
          {
           "hovertemplate": "page2_clothing_model=C6<br>month=4<br>Main Category=%{x}<br>Total Price=%{y}<extra></extra>",
           "ids": {
            "bdata": "Aw==",
            "dtype": "i1"
           },
           "legendgroup": "C6",
           "marker": {
            "color": "#00cc96",
            "pattern": {
             "shape": ""
            }
           },
           "name": "C6",
           "orientation": "v",
           "showlegend": true,
           "textposition": "auto",
           "type": "bar",
           "x": {
            "bdata": "Aw==",
            "dtype": "i1"
           },
           "xaxis": "x",
           "y": {
            "bdata": "wBg=",
            "dtype": "i2"
           },
           "yaxis": "y"
          },
          {
           "hovertemplate": "page2_clothing_model=C53<br>month=4<br>Main Category=%{x}<br>Total Price=%{y}<extra></extra>",
           "ids": {
            "bdata": "Aw==",
            "dtype": "i1"
           },
           "legendgroup": "C53",
           "marker": {
            "color": "#ab63fa",
            "pattern": {
             "shape": ""
            }
           },
           "name": "C53",
           "orientation": "v",
           "showlegend": true,
           "textposition": "auto",
           "type": "bar",
           "x": {
            "bdata": "Aw==",
            "dtype": "i1"
           },
           "xaxis": "x",
           "y": {
            "bdata": "fhg=",
            "dtype": "i2"
           },
           "yaxis": "y"
          },
          {
           "hovertemplate": "page2_clothing_model=C57<br>month=4<br>Main Category=%{x}<br>Total Price=%{y}<extra></extra>",
           "ids": {
            "bdata": "Aw==",
            "dtype": "i1"
           },
           "legendgroup": "C57",
           "marker": {
            "color": "#FFA15A",
            "pattern": {
             "shape": ""
            }
           },
           "name": "C57",
           "orientation": "v",
           "showlegend": true,
           "textposition": "auto",
           "type": "bar",
           "x": {
            "bdata": "Aw==",
            "dtype": "i1"
           },
           "xaxis": "x",
           "y": {
            "bdata": "ThI=",
            "dtype": "i2"
           },
           "yaxis": "y"
          },
          {
           "hovertemplate": "page2_clothing_model=C11<br>month=4<br>Main Category=%{x}<br>Total Price=%{y}<extra></extra>",
           "ids": {
            "bdata": "Aw==",
            "dtype": "i1"
           },
           "legendgroup": "C11",
           "marker": {
            "color": "#19d3f3",
            "pattern": {
             "shape": ""
            }
           },
           "name": "C11",
           "orientation": "v",
           "showlegend": true,
           "textposition": "auto",
           "type": "bar",
           "x": {
            "bdata": "Aw==",
            "dtype": "i1"
           },
           "xaxis": "x",
           "y": {
            "bdata": "2Rc=",
            "dtype": "i2"
           },
           "yaxis": "y"
          },
          {
           "hovertemplate": "page2_clothing_model=B25<br>month=4<br>Main Category=%{x}<br>Total Price=%{y}<extra></extra>",
           "ids": {
            "bdata": "Ag==",
            "dtype": "i1"
           },
           "legendgroup": "B25",
           "marker": {
            "color": "#FF6692",
            "pattern": {
             "shape": ""
            }
           },
           "name": "B25",
           "orientation": "v",
           "showlegend": true,
           "textposition": "auto",
           "type": "bar",
           "x": {
            "bdata": "Ag==",
            "dtype": "i1"
           },
           "xaxis": "x",
           "y": {
            "bdata": "Thc=",
            "dtype": "i2"
           },
           "yaxis": "y"
          },
          {
           "hovertemplate": "page2_clothing_model=A28<br>month=4<br>Main Category=%{x}<br>Total Price=%{y}<extra></extra>",
           "ids": {
            "bdata": "AQ==",
            "dtype": "i1"
           },
           "legendgroup": "A28",
           "marker": {
            "color": "#B6E880",
            "pattern": {
             "shape": ""
            }
           },
           "name": "A28",
           "orientation": "v",
           "showlegend": true,
           "textposition": "auto",
           "type": "bar",
           "x": {
            "bdata": "AQ==",
            "dtype": "i1"
           },
           "xaxis": "x",
           "y": {
            "bdata": "ARY=",
            "dtype": "i2"
           },
           "yaxis": "y"
          },
          {
           "hovertemplate": "page2_clothing_model=A20<br>month=4<br>Main Category=%{x}<br>Total Price=%{y}<extra></extra>",
           "ids": {
            "bdata": "AQ==",
            "dtype": "i1"
           },
           "legendgroup": "A20",
           "marker": {
            "color": "#FF97FF",
            "pattern": {
             "shape": ""
            }
           },
           "name": "A20",
           "orientation": "v",
           "showlegend": true,
           "textposition": "auto",
           "type": "bar",
           "x": {
            "bdata": "AQ==",
            "dtype": "i1"
           },
           "xaxis": "x",
           "y": {
            "bdata": "rBU=",
            "dtype": "i2"
           },
           "yaxis": "y"
          },
          {
           "hovertemplate": "page2_clothing_model=P23<br>month=4<br>Main Category=%{x}<br>Total Price=%{y}<extra></extra>",
           "ids": {
            "bdata": "BA==",
            "dtype": "i1"
           },
           "legendgroup": "P23",
           "marker": {
            "color": "#FECB52",
            "pattern": {
             "shape": ""
            }
           },
           "name": "P23",
           "orientation": "v",
           "showlegend": true,
           "textposition": "auto",
           "type": "bar",
           "x": {
            "bdata": "BA==",
            "dtype": "i1"
           },
           "xaxis": "x",
           "y": {
            "bdata": "dBQ=",
            "dtype": "i2"
           },
           "yaxis": "y"
          },
          {
           "hovertemplate": "page2_clothing_model=A34<br>month=4<br>Main Category=%{x}<br>Total Price=%{y}<extra></extra>",
           "ids": {
            "bdata": "AQ==",
            "dtype": "i1"
           },
           "legendgroup": "A34",
           "marker": {
            "color": "#636efa",
            "pattern": {
             "shape": ""
            }
           },
           "name": "A34",
           "orientation": "v",
           "showlegend": true,
           "textposition": "auto",
           "type": "bar",
           "x": {
            "bdata": "AQ==",
            "dtype": "i1"
           },
           "xaxis": "x",
           "y": {
            "bdata": "MBQ=",
            "dtype": "i2"
           },
           "yaxis": "y"
          },
          {
           "hovertemplate": "page2_clothing_model=C41<br>month=4<br>Main Category=%{x}<br>Total Price=%{y}<extra></extra>",
           "ids": {
            "bdata": "Aw==",
            "dtype": "i1"
           },
           "legendgroup": "C41",
           "marker": {
            "color": "#EF553B",
            "pattern": {
             "shape": ""
            }
           },
           "name": "C41",
           "orientation": "v",
           "showlegend": true,
           "textposition": "auto",
           "type": "bar",
           "x": {
            "bdata": "Aw==",
            "dtype": "i1"
           },
           "xaxis": "x",
           "y": {
            "bdata": "BBQ=",
            "dtype": "i2"
           },
           "yaxis": "y"
          },
          {
           "hovertemplate": "page2_clothing_model=P49<br>month=4<br>Main Category=%{x}<br>Total Price=%{y}<extra></extra>",
           "ids": {
            "bdata": "BA==",
            "dtype": "i1"
           },
           "legendgroup": "P49",
           "marker": {
            "color": "#00cc96",
            "pattern": {
             "shape": ""
            }
           },
           "name": "P49",
           "orientation": "v",
           "showlegend": true,
           "textposition": "auto",
           "type": "bar",
           "x": {
            "bdata": "BA==",
            "dtype": "i1"
           },
           "xaxis": "x",
           "y": {
            "bdata": "2hM=",
            "dtype": "i2"
           },
           "yaxis": "y"
          },
          {
           "hovertemplate": "page2_clothing_model=C49<br>month=4<br>Main Category=%{x}<br>Total Price=%{y}<extra></extra>",
           "ids": {
            "bdata": "Aw==",
            "dtype": "i1"
           },
           "legendgroup": "C49",
           "marker": {
            "color": "#ab63fa",
            "pattern": {
             "shape": ""
            }
           },
           "name": "C49",
           "orientation": "v",
           "showlegend": true,
           "textposition": "auto",
           "type": "bar",
           "x": {
            "bdata": "Aw==",
            "dtype": "i1"
           },
           "xaxis": "x",
           "y": {
            "bdata": "gBM=",
            "dtype": "i2"
           },
           "yaxis": "y"
          },
          {
           "hovertemplate": "page2_clothing_model=C30<br>month=4<br>Main Category=%{x}<br>Total Price=%{y}<extra></extra>",
           "ids": {
            "bdata": "Aw==",
            "dtype": "i1"
           },
           "legendgroup": "C30",
           "marker": {
            "color": "#FFA15A",
            "pattern": {
             "shape": ""
            }
           },
           "name": "C30",
           "orientation": "v",
           "showlegend": true,
           "textposition": "auto",
           "type": "bar",
           "x": {
            "bdata": "Aw==",
            "dtype": "i1"
           },
           "xaxis": "x",
           "y": {
            "bdata": "KBI=",
            "dtype": "i2"
           },
           "yaxis": "y"
          },
          {
           "hovertemplate": "page2_clothing_model=C10<br>month=4<br>Main Category=%{x}<br>Total Price=%{y}<extra></extra>",
           "ids": {
            "bdata": "Aw==",
            "dtype": "i1"
           },
           "legendgroup": "C10",
           "marker": {
            "color": "#19d3f3",
            "pattern": {
             "shape": ""
            }
           },
           "name": "C10",
           "orientation": "v",
           "showlegend": true,
           "textposition": "auto",
           "type": "bar",
           "x": {
            "bdata": "Aw==",
            "dtype": "i1"
           },
           "xaxis": "x",
           "y": {
            "bdata": "uBE=",
            "dtype": "i2"
           },
           "yaxis": "y"
          },
          {
           "hovertemplate": "page2_clothing_model=P50<br>month=4<br>Main Category=%{x}<br>Total Price=%{y}<extra></extra>",
           "ids": {
            "bdata": "BA==",
            "dtype": "i1"
           },
           "legendgroup": "P50",
           "marker": {
            "color": "#FF6692",
            "pattern": {
             "shape": ""
            }
           },
           "name": "P50",
           "orientation": "v",
           "showlegend": true,
           "textposition": "auto",
           "type": "bar",
           "x": {
            "bdata": "BA==",
            "dtype": "i1"
           },
           "xaxis": "x",
           "y": {
            "bdata": "ZxE=",
            "dtype": "i2"
           },
           "yaxis": "y"
          },
          {
           "hovertemplate": "page2_clothing_model=A42<br>month=4<br>Main Category=%{x}<br>Total Price=%{y}<extra></extra>",
           "ids": {
            "bdata": "AQ==",
            "dtype": "i1"
           },
           "legendgroup": "A42",
           "marker": {
            "color": "#B6E880",
            "pattern": {
             "shape": ""
            }
           },
           "name": "A42",
           "orientation": "v",
           "showlegend": true,
           "textposition": "auto",
           "type": "bar",
           "x": {
            "bdata": "AQ==",
            "dtype": "i1"
           },
           "xaxis": "x",
           "y": {
            "bdata": "EBE=",
            "dtype": "i2"
           },
           "yaxis": "y"
          },
          {
           "hovertemplate": "page2_clothing_model=P5<br>month=4<br>Main Category=%{x}<br>Total Price=%{y}<extra></extra>",
           "ids": {
            "bdata": "BA==",
            "dtype": "i1"
           },
           "legendgroup": "P5",
           "marker": {
            "color": "#FF97FF",
            "pattern": {
             "shape": ""
            }
           },
           "name": "P5",
           "orientation": "v",
           "showlegend": true,
           "textposition": "auto",
           "type": "bar",
           "x": {
            "bdata": "BA==",
            "dtype": "i1"
           },
           "xaxis": "x",
           "y": {
            "bdata": "+xA=",
            "dtype": "i2"
           },
           "yaxis": "y"
          },
          {
           "hovertemplate": "page2_clothing_model=P8<br>month=4<br>Main Category=%{x}<br>Total Price=%{y}<extra></extra>",
           "ids": {
            "bdata": "BA==",
            "dtype": "i1"
           },
           "legendgroup": "P8",
           "marker": {
            "color": "#FECB52",
            "pattern": {
             "shape": ""
            }
           },
           "name": "P8",
           "orientation": "v",
           "showlegend": true,
           "textposition": "auto",
           "type": "bar",
           "x": {
            "bdata": "BA==",
            "dtype": "i1"
           },
           "xaxis": "x",
           "y": {
            "bdata": "2BA=",
            "dtype": "i2"
           },
           "yaxis": "y"
          },
          {
           "hovertemplate": "page2_clothing_model=A26<br>month=4<br>Main Category=%{x}<br>Total Price=%{y}<extra></extra>",
           "ids": {
            "bdata": "AQ==",
            "dtype": "i1"
           },
           "legendgroup": "A26",
           "marker": {
            "color": "#636efa",
            "pattern": {
             "shape": ""
            }
           },
           "name": "A26",
           "orientation": "v",
           "showlegend": true,
           "textposition": "auto",
           "type": "bar",
           "x": {
            "bdata": "AQ==",
            "dtype": "i1"
           },
           "xaxis": "x",
           "y": {
            "bdata": "oBA=",
            "dtype": "i2"
           },
           "yaxis": "y"
          },
          {
           "hovertemplate": "page2_clothing_model=P60<br>month=4<br>Main Category=%{x}<br>Total Price=%{y}<extra></extra>",
           "ids": {
            "bdata": "BA==",
            "dtype": "i1"
           },
           "legendgroup": "P60",
           "marker": {
            "color": "#EF553B",
            "pattern": {
             "shape": ""
            }
           },
           "name": "P60",
           "orientation": "v",
           "showlegend": true,
           "textposition": "auto",
           "type": "bar",
           "x": {
            "bdata": "BA==",
            "dtype": "i1"
           },
           "xaxis": "x",
           "y": {
            "bdata": "wA8=",
            "dtype": "i2"
           },
           "yaxis": "y"
          },
          {
           "hovertemplate": "page2_clothing_model=B7<br>month=4<br>Main Category=%{x}<br>Total Price=%{y}<extra></extra>",
           "ids": {
            "bdata": "Ag==",
            "dtype": "i1"
           },
           "legendgroup": "B7",
           "marker": {
            "color": "#00cc96",
            "pattern": {
             "shape": ""
            }
           },
           "name": "B7",
           "orientation": "v",
           "showlegend": true,
           "textposition": "auto",
           "type": "bar",
           "x": {
            "bdata": "Ag==",
            "dtype": "i1"
           },
           "xaxis": "x",
           "y": {
            "bdata": "lg8=",
            "dtype": "i2"
           },
           "yaxis": "y"
          },
          {
           "hovertemplate": "page2_clothing_model=B28<br>month=4<br>Main Category=%{x}<br>Total Price=%{y}<extra></extra>",
           "ids": {
            "bdata": "Ag==",
            "dtype": "i1"
           },
           "legendgroup": "B28",
           "marker": {
            "color": "#ab63fa",
            "pattern": {
             "shape": ""
            }
           },
           "name": "B28",
           "orientation": "v",
           "showlegend": true,
           "textposition": "auto",
           "type": "bar",
           "x": {
            "bdata": "Ag==",
            "dtype": "i1"
           },
           "xaxis": "x",
           "y": {
            "bdata": "2A4=",
            "dtype": "i2"
           },
           "yaxis": "y"
          },
          {
           "hovertemplate": "page2_clothing_model=C16<br>month=4<br>Main Category=%{x}<br>Total Price=%{y}<extra></extra>",
           "ids": {
            "bdata": "Aw==",
            "dtype": "i1"
           },
           "legendgroup": "C16",
           "marker": {
            "color": "#FFA15A",
            "pattern": {
             "shape": ""
            }
           },
           "name": "C16",
           "orientation": "v",
           "showlegend": true,
           "textposition": "auto",
           "type": "bar",
           "x": {
            "bdata": "Aw==",
            "dtype": "i1"
           },
           "xaxis": "x",
           "y": {
            "bdata": "UA8=",
            "dtype": "i2"
           },
           "yaxis": "y"
          },
          {
           "hovertemplate": "page2_clothing_model=P55<br>month=4<br>Main Category=%{x}<br>Total Price=%{y}<extra></extra>",
           "ids": {
            "bdata": "BA==",
            "dtype": "i1"
           },
           "legendgroup": "P55",
           "marker": {
            "color": "#19d3f3",
            "pattern": {
             "shape": ""
            }
           },
           "name": "P55",
           "orientation": "v",
           "showlegend": true,
           "textposition": "auto",
           "type": "bar",
           "x": {
            "bdata": "BA==",
            "dtype": "i1"
           },
           "xaxis": "x",
           "y": {
            "bdata": "0w4=",
            "dtype": "i2"
           },
           "yaxis": "y"
          },
          {
           "hovertemplate": "page2_clothing_model=C42<br>month=4<br>Main Category=%{x}<br>Total Price=%{y}<extra></extra>",
           "ids": {
            "bdata": "Aw==",
            "dtype": "i1"
           },
           "legendgroup": "C42",
           "marker": {
            "color": "#FF6692",
            "pattern": {
             "shape": ""
            }
           },
           "name": "C42",
           "orientation": "v",
           "showlegend": true,
           "textposition": "auto",
           "type": "bar",
           "x": {
            "bdata": "Aw==",
            "dtype": "i1"
           },
           "xaxis": "x",
           "y": {
            "bdata": "xA4=",
            "dtype": "i2"
           },
           "yaxis": "y"
          },
          {
           "hovertemplate": "page2_clothing_model=P20<br>month=4<br>Main Category=%{x}<br>Total Price=%{y}<extra></extra>",
           "ids": {
            "bdata": "BA==",
            "dtype": "i1"
           },
           "legendgroup": "P20",
           "marker": {
            "color": "#B6E880",
            "pattern": {
             "shape": ""
            }
           },
           "name": "P20",
           "orientation": "v",
           "showlegend": true,
           "textposition": "auto",
           "type": "bar",
           "x": {
            "bdata": "BA==",
            "dtype": "i1"
           },
           "xaxis": "x",
           "y": {
            "bdata": "vA4=",
            "dtype": "i2"
           },
           "yaxis": "y"
          },
          {
           "hovertemplate": "page2_clothing_model=A39<br>month=4<br>Main Category=%{x}<br>Total Price=%{y}<extra></extra>",
           "ids": {
            "bdata": "AQ==",
            "dtype": "i1"
           },
           "legendgroup": "A39",
           "marker": {
            "color": "#FF97FF",
            "pattern": {
             "shape": ""
            }
           },
           "name": "A39",
           "orientation": "v",
           "showlegend": true,
           "textposition": "auto",
           "type": "bar",
           "x": {
            "bdata": "AQ==",
            "dtype": "i1"
           },
           "xaxis": "x",
           "y": {
            "bdata": "sg4=",
            "dtype": "i2"
           },
           "yaxis": "y"
          },
          {
           "hovertemplate": "page2_clothing_model=A35<br>month=4<br>Main Category=%{x}<br>Total Price=%{y}<extra></extra>",
           "ids": {
            "bdata": "AQ==",
            "dtype": "i1"
           },
           "legendgroup": "A35",
           "marker": {
            "color": "#FECB52",
            "pattern": {
             "shape": ""
            }
           },
           "name": "A35",
           "orientation": "v",
           "showlegend": true,
           "textposition": "auto",
           "type": "bar",
           "x": {
            "bdata": "AQ==",
            "dtype": "i1"
           },
           "xaxis": "x",
           "y": {
            "bdata": "mgs=",
            "dtype": "i2"
           },
           "yaxis": "y"
          },
          {
           "hovertemplate": "page2_clothing_model=A40<br>month=4<br>Main Category=%{x}<br>Total Price=%{y}<extra></extra>",
           "ids": {
            "bdata": "AQ==",
            "dtype": "i1"
           },
           "legendgroup": "A40",
           "marker": {
            "color": "#636efa",
            "pattern": {
             "shape": ""
            }
           },
           "name": "A40",
           "orientation": "v",
           "showlegend": true,
           "textposition": "auto",
           "type": "bar",
           "x": {
            "bdata": "AQ==",
            "dtype": "i1"
           },
           "xaxis": "x",
           "y": {
            "bdata": "jA4=",
            "dtype": "i2"
           },
           "yaxis": "y"
          },
          {
           "hovertemplate": "page2_clothing_model=C3<br>month=4<br>Main Category=%{x}<br>Total Price=%{y}<extra></extra>",
           "ids": {
            "bdata": "Aw==",
            "dtype": "i1"
           },
           "legendgroup": "C3",
           "marker": {
            "color": "#EF553B",
            "pattern": {
             "shape": ""
            }
           },
           "name": "C3",
           "orientation": "v",
           "showlegend": true,
           "textposition": "auto",
           "type": "bar",
           "x": {
            "bdata": "Aw==",
            "dtype": "i1"
           },
           "xaxis": "x",
           "y": {
            "bdata": "dw4=",
            "dtype": "i2"
           },
           "yaxis": "y"
          },
          {
           "hovertemplate": "page2_clothing_model=C15<br>month=4<br>Main Category=%{x}<br>Total Price=%{y}<extra></extra>",
           "ids": {
            "bdata": "Aw==",
            "dtype": "i1"
           },
           "legendgroup": "C15",
           "marker": {
            "color": "#00cc96",
            "pattern": {
             "shape": ""
            }
           },
           "name": "C15",
           "orientation": "v",
           "showlegend": true,
           "textposition": "auto",
           "type": "bar",
           "x": {
            "bdata": "Aw==",
            "dtype": "i1"
           },
           "xaxis": "x",
           "y": {
            "bdata": "cA4=",
            "dtype": "i2"
           },
           "yaxis": "y"
          },
          {
           "hovertemplate": "page2_clothing_model=A25<br>month=4<br>Main Category=%{x}<br>Total Price=%{y}<extra></extra>",
           "ids": {
            "bdata": "AQ==",
            "dtype": "i1"
           },
           "legendgroup": "A25",
           "marker": {
            "color": "#ab63fa",
            "pattern": {
             "shape": ""
            }
           },
           "name": "A25",
           "orientation": "v",
           "showlegend": true,
           "textposition": "auto",
           "type": "bar",
           "x": {
            "bdata": "AQ==",
            "dtype": "i1"
           },
           "xaxis": "x",
           "y": {
            "bdata": "Zg4=",
            "dtype": "i2"
           },
           "yaxis": "y"
          },
          {
           "hovertemplate": "page2_clothing_model=P7<br>month=4<br>Main Category=%{x}<br>Total Price=%{y}<extra></extra>",
           "ids": {
            "bdata": "BA==",
            "dtype": "i1"
           },
           "legendgroup": "P7",
           "marker": {
            "color": "#FFA15A",
            "pattern": {
             "shape": ""
            }
           },
           "name": "P7",
           "orientation": "v",
           "showlegend": true,
           "textposition": "auto",
           "type": "bar",
           "x": {
            "bdata": "BA==",
            "dtype": "i1"
           },
           "xaxis": "x",
           "y": {
            "bdata": "zAw=",
            "dtype": "i2"
           },
           "yaxis": "y"
          },
          {
           "hovertemplate": "page2_clothing_model=C50<br>month=4<br>Main Category=%{x}<br>Total Price=%{y}<extra></extra>",
           "ids": {
            "bdata": "Aw==",
            "dtype": "i1"
           },
           "legendgroup": "C50",
           "marker": {
            "color": "#19d3f3",
            "pattern": {
             "shape": ""
            }
           },
           "name": "C50",
           "orientation": "v",
           "showlegend": true,
           "textposition": "auto",
           "type": "bar",
           "x": {
            "bdata": "Aw==",
            "dtype": "i1"
           },
           "xaxis": "x",
           "y": {
            "bdata": "EA4=",
            "dtype": "i2"
           },
           "yaxis": "y"
          },
          {
           "hovertemplate": "page2_clothing_model=P29<br>month=4<br>Main Category=%{x}<br>Total Price=%{y}<extra></extra>",
           "ids": {
            "bdata": "BA==",
            "dtype": "i1"
           },
           "legendgroup": "P29",
           "marker": {
            "color": "#FF6692",
            "pattern": {
             "shape": ""
            }
           },
           "name": "P29",
           "orientation": "v",
           "showlegend": true,
           "textposition": "auto",
           "type": "bar",
           "x": {
            "bdata": "BA==",
            "dtype": "i1"
           },
           "xaxis": "x",
           "y": {
            "bdata": "/gc=",
            "dtype": "i2"
           },
           "yaxis": "y"
          },
          {
           "hovertemplate": "page2_clothing_model=P9<br>month=4<br>Main Category=%{x}<br>Total Price=%{y}<extra></extra>",
           "ids": {
            "bdata": "BA==",
            "dtype": "i1"
           },
           "legendgroup": "P9",
           "marker": {
            "color": "#B6E880",
            "pattern": {
             "shape": ""
            }
           },
           "name": "P9",
           "orientation": "v",
           "showlegend": true,
           "textposition": "auto",
           "type": "bar",
           "x": {
            "bdata": "BA==",
            "dtype": "i1"
           },
           "xaxis": "x",
           "y": {
            "bdata": "vw0=",
            "dtype": "i2"
           },
           "yaxis": "y"
          },
          {
           "hovertemplate": "page2_clothing_model=P56<br>month=4<br>Main Category=%{x}<br>Total Price=%{y}<extra></extra>",
           "ids": {
            "bdata": "BA==",
            "dtype": "i1"
           },
           "legendgroup": "P56",
           "marker": {
            "color": "#FF97FF",
            "pattern": {
             "shape": ""
            }
           },
           "name": "P56",
           "orientation": "v",
           "showlegend": true,
           "textposition": "auto",
           "type": "bar",
           "x": {
            "bdata": "BA==",
            "dtype": "i1"
           },
           "xaxis": "x",
           "y": {
            "bdata": "iQ0=",
            "dtype": "i2"
           },
           "yaxis": "y"
          },
          {
           "hovertemplate": "page2_clothing_model=C24<br>month=4<br>Main Category=%{x}<br>Total Price=%{y}<extra></extra>",
           "ids": {
            "bdata": "Aw==",
            "dtype": "i1"
           },
           "legendgroup": "C24",
           "marker": {
            "color": "#FECB52",
            "pattern": {
             "shape": ""
            }
           },
           "name": "C24",
           "orientation": "v",
           "showlegend": true,
           "textposition": "auto",
           "type": "bar",
           "x": {
            "bdata": "Aw==",
            "dtype": "i1"
           },
           "xaxis": "x",
           "y": {
            "bdata": "iQ0=",
            "dtype": "i2"
           },
           "yaxis": "y"
          },
          {
           "hovertemplate": "page2_clothing_model=C26<br>month=4<br>Main Category=%{x}<br>Total Price=%{y}<extra></extra>",
           "ids": {
            "bdata": "Aw==",
            "dtype": "i1"
           },
           "legendgroup": "C26",
           "marker": {
            "color": "#636efa",
            "pattern": {
             "shape": ""
            }
           },
           "name": "C26",
           "orientation": "v",
           "showlegend": true,
           "textposition": "auto",
           "type": "bar",
           "x": {
            "bdata": "Aw==",
            "dtype": "i1"
           },
           "xaxis": "x",
           "y": {
            "bdata": "dA0=",
            "dtype": "i2"
           },
           "yaxis": "y"
          },
          {
           "hovertemplate": "page2_clothing_model=B20<br>month=4<br>Main Category=%{x}<br>Total Price=%{y}<extra></extra>",
           "ids": {
            "bdata": "Ag==",
            "dtype": "i1"
           },
           "legendgroup": "B20",
           "marker": {
            "color": "#EF553B",
            "pattern": {
             "shape": ""
            }
           },
           "name": "B20",
           "orientation": "v",
           "showlegend": true,
           "textposition": "auto",
           "type": "bar",
           "x": {
            "bdata": "Ag==",
            "dtype": "i1"
           },
           "xaxis": "x",
           "y": {
            "bdata": "RQ0=",
            "dtype": "i2"
           },
           "yaxis": "y"
          },
          {
           "hovertemplate": "page2_clothing_model=C38<br>month=4<br>Main Category=%{x}<br>Total Price=%{y}<extra></extra>",
           "ids": {
            "bdata": "Aw==",
            "dtype": "i1"
           },
           "legendgroup": "C38",
           "marker": {
            "color": "#00cc96",
            "pattern": {
             "shape": ""
            }
           },
           "name": "C38",
           "orientation": "v",
           "showlegend": true,
           "textposition": "auto",
           "type": "bar",
           "x": {
            "bdata": "Aw==",
            "dtype": "i1"
           },
           "xaxis": "x",
           "y": {
            "bdata": "Ng0=",
            "dtype": "i2"
           },
           "yaxis": "y"
          },
          {
           "hovertemplate": "page2_clothing_model=A23<br>month=4<br>Main Category=%{x}<br>Total Price=%{y}<extra></extra>",
           "ids": {
            "bdata": "AQ==",
            "dtype": "i1"
           },
           "legendgroup": "A23",
           "marker": {
            "color": "#ab63fa",
            "pattern": {
             "shape": ""
            }
           },
           "name": "A23",
           "orientation": "v",
           "showlegend": true,
           "textposition": "auto",
           "type": "bar",
           "x": {
            "bdata": "AQ==",
            "dtype": "i1"
           },
           "xaxis": "x",
           "y": {
            "bdata": "Lwo=",
            "dtype": "i2"
           },
           "yaxis": "y"
          },
          {
           "hovertemplate": "page2_clothing_model=P18<br>month=4<br>Main Category=%{x}<br>Total Price=%{y}<extra></extra>",
           "ids": {
            "bdata": "BA==",
            "dtype": "i1"
           },
           "legendgroup": "P18",
           "marker": {
            "color": "#FFA15A",
            "pattern": {
             "shape": ""
            }
           },
           "name": "P18",
           "orientation": "v",
           "showlegend": true,
           "textposition": "auto",
           "type": "bar",
           "x": {
            "bdata": "BA==",
            "dtype": "i1"
           },
           "xaxis": "x",
           "y": {
            "bdata": "eAw=",
            "dtype": "i2"
           },
           "yaxis": "y"
          },
          {
           "hovertemplate": "page2_clothing_model=B33<br>month=4<br>Main Category=%{x}<br>Total Price=%{y}<extra></extra>",
           "ids": {
            "bdata": "Ag==",
            "dtype": "i1"
           },
           "legendgroup": "B33",
           "marker": {
            "color": "#19d3f3",
            "pattern": {
             "shape": ""
            }
           },
           "name": "B33",
           "orientation": "v",
           "showlegend": true,
           "textposition": "auto",
           "type": "bar",
           "x": {
            "bdata": "Ag==",
            "dtype": "i1"
           },
           "xaxis": "x",
           "y": {
            "bdata": "gQw=",
            "dtype": "i2"
           },
           "yaxis": "y"
          },
          {
           "hovertemplate": "page2_clothing_model=A36<br>month=4<br>Main Category=%{x}<br>Total Price=%{y}<extra></extra>",
           "ids": {
            "bdata": "AQ==",
            "dtype": "i1"
           },
           "legendgroup": "A36",
           "marker": {
            "color": "#FF6692",
            "pattern": {
             "shape": ""
            }
           },
           "name": "A36",
           "orientation": "v",
           "showlegend": true,
           "textposition": "auto",
           "type": "bar",
           "x": {
            "bdata": "AQ==",
            "dtype": "i1"
           },
           "xaxis": "x",
           "y": {
            "bdata": "mwc=",
            "dtype": "i2"
           },
           "yaxis": "y"
          },
          {
           "hovertemplate": "page2_clothing_model=P61<br>month=4<br>Main Category=%{x}<br>Total Price=%{y}<extra></extra>",
           "ids": {
            "bdata": "BA==",
            "dtype": "i1"
           },
           "legendgroup": "P61",
           "marker": {
            "color": "#B6E880",
            "pattern": {
             "shape": ""
            }
           },
           "name": "P61",
           "orientation": "v",
           "showlegend": true,
           "textposition": "auto",
           "type": "bar",
           "x": {
            "bdata": "BA==",
            "dtype": "i1"
           },
           "xaxis": "x",
           "y": {
            "bdata": "YAs=",
            "dtype": "i2"
           },
           "yaxis": "y"
          },
          {
           "hovertemplate": "page2_clothing_model=C25<br>month=4<br>Main Category=%{x}<br>Total Price=%{y}<extra></extra>",
           "ids": {
            "bdata": "Aw==",
            "dtype": "i1"
           },
           "legendgroup": "C25",
           "marker": {
            "color": "#FF97FF",
            "pattern": {
             "shape": ""
            }
           },
           "name": "C25",
           "orientation": "v",
           "showlegend": true,
           "textposition": "auto",
           "type": "bar",
           "x": {
            "bdata": "Aw==",
            "dtype": "i1"
           },
           "xaxis": "x",
           "y": {
            "bdata": "Hgw=",
            "dtype": "i2"
           },
           "yaxis": "y"
          },
          {
           "hovertemplate": "page2_clothing_model=C48<br>month=4<br>Main Category=%{x}<br>Total Price=%{y}<extra></extra>",
           "ids": {
            "bdata": "Aw==",
            "dtype": "i1"
           },
           "legendgroup": "C48",
           "marker": {
            "color": "#FECB52",
            "pattern": {
             "shape": ""
            }
           },
           "name": "C48",
           "orientation": "v",
           "showlegend": true,
           "textposition": "auto",
           "type": "bar",
           "x": {
            "bdata": "Aw==",
            "dtype": "i1"
           },
           "xaxis": "x",
           "y": {
            "bdata": "CAw=",
            "dtype": "i2"
           },
           "yaxis": "y"
          },
          {
           "hovertemplate": "page2_clothing_model=A19<br>month=4<br>Main Category=%{x}<br>Total Price=%{y}<extra></extra>",
           "ids": {
            "bdata": "AQ==",
            "dtype": "i1"
           },
           "legendgroup": "A19",
           "marker": {
            "color": "#636efa",
            "pattern": {
             "shape": ""
            }
           },
           "name": "A19",
           "orientation": "v",
           "showlegend": true,
           "textposition": "auto",
           "type": "bar",
           "x": {
            "bdata": "AQ==",
            "dtype": "i1"
           },
           "xaxis": "x",
           "y": {
            "bdata": "3As=",
            "dtype": "i2"
           },
           "yaxis": "y"
          },
          {
           "hovertemplate": "page2_clothing_model=P72<br>month=4<br>Main Category=%{x}<br>Total Price=%{y}<extra></extra>",
           "ids": {
            "bdata": "BA==",
            "dtype": "i1"
           },
           "legendgroup": "P72",
           "marker": {
            "color": "#EF553B",
            "pattern": {
             "shape": ""
            }
           },
           "name": "P72",
           "orientation": "v",
           "showlegend": true,
           "textposition": "auto",
           "type": "bar",
           "x": {
            "bdata": "BA==",
            "dtype": "i1"
           },
           "xaxis": "x",
           "y": {
            "bdata": "owg=",
            "dtype": "i2"
           },
           "yaxis": "y"
          },
          {
           "hovertemplate": "page2_clothing_model=P51<br>month=4<br>Main Category=%{x}<br>Total Price=%{y}<extra></extra>",
           "ids": {
            "bdata": "BA==",
            "dtype": "i1"
           },
           "legendgroup": "P51",
           "marker": {
            "color": "#00cc96",
            "pattern": {
             "shape": ""
            }
           },
           "name": "P51",
           "orientation": "v",
           "showlegend": true,
           "textposition": "auto",
           "type": "bar",
           "x": {
            "bdata": "BA==",
            "dtype": "i1"
           },
           "xaxis": "x",
           "y": {
            "bdata": "RAs=",
            "dtype": "i2"
           },
           "yaxis": "y"
          },
          {
           "hovertemplate": "page2_clothing_model=C31<br>month=4<br>Main Category=%{x}<br>Total Price=%{y}<extra></extra>",
           "ids": {
            "bdata": "Aw==",
            "dtype": "i1"
           },
           "legendgroup": "C31",
           "marker": {
            "color": "#ab63fa",
            "pattern": {
             "shape": ""
            }
           },
           "name": "C31",
           "orientation": "v",
           "showlegend": true,
           "textposition": "auto",
           "type": "bar",
           "x": {
            "bdata": "Aw==",
            "dtype": "i1"
           },
           "xaxis": "x",
           "y": {
            "bdata": "kgo=",
            "dtype": "i2"
           },
           "yaxis": "y"
          },
          {
           "hovertemplate": "page2_clothing_model=C51<br>month=4<br>Main Category=%{x}<br>Total Price=%{y}<extra></extra>",
           "ids": {
            "bdata": "Aw==",
            "dtype": "i1"
           },
           "legendgroup": "C51",
           "marker": {
            "color": "#FFA15A",
            "pattern": {
             "shape": ""
            }
           },
           "name": "C51",
           "orientation": "v",
           "showlegend": true,
           "textposition": "auto",
           "type": "bar",
           "x": {
            "bdata": "Aw==",
            "dtype": "i1"
           },
           "xaxis": "x",
           "y": {
            "bdata": "UAo=",
            "dtype": "i2"
           },
           "yaxis": "y"
          },
          {
           "hovertemplate": "page2_clothing_model=C32<br>month=4<br>Main Category=%{x}<br>Total Price=%{y}<extra></extra>",
           "ids": {
            "bdata": "Aw==",
            "dtype": "i1"
           },
           "legendgroup": "C32",
           "marker": {
            "color": "#19d3f3",
            "pattern": {
             "shape": ""
            }
           },
           "name": "C32",
           "orientation": "v",
           "showlegend": true,
           "textposition": "auto",
           "type": "bar",
           "x": {
            "bdata": "Aw==",
            "dtype": "i1"
           },
           "xaxis": "x",
           "y": {
            "bdata": "qwk=",
            "dtype": "i2"
           },
           "yaxis": "y"
          },
          {
           "hovertemplate": "page2_clothing_model=P46<br>month=4<br>Main Category=%{x}<br>Total Price=%{y}<extra></extra>",
           "ids": {
            "bdata": "BA==",
            "dtype": "i1"
           },
           "legendgroup": "P46",
           "marker": {
            "color": "#FF6692",
            "pattern": {
             "shape": ""
            }
           },
           "name": "P46",
           "orientation": "v",
           "showlegend": true,
           "textposition": "auto",
           "type": "bar",
           "x": {
            "bdata": "BA==",
            "dtype": "i1"
           },
           "xaxis": "x",
           "y": {
            "bdata": "pAg=",
            "dtype": "i2"
           },
           "yaxis": "y"
          },
          {
           "hovertemplate": "page2_clothing_model=P38<br>month=4<br>Main Category=%{x}<br>Total Price=%{y}<extra></extra>",
           "ids": {
            "bdata": "BA==",
            "dtype": "i1"
           },
           "legendgroup": "P38",
           "marker": {
            "color": "#B6E880",
            "pattern": {
             "shape": ""
            }
           },
           "name": "P38",
           "orientation": "v",
           "showlegend": true,
           "textposition": "auto",
           "type": "bar",
           "x": {
            "bdata": "BA==",
            "dtype": "i1"
           },
           "xaxis": "x",
           "y": {
            "bdata": "Bgk=",
            "dtype": "i2"
           },
           "yaxis": "y"
          },
          {
           "hovertemplate": "page2_clothing_model=P47<br>month=4<br>Main Category=%{x}<br>Total Price=%{y}<extra></extra>",
           "ids": {
            "bdata": "BA==",
            "dtype": "i1"
           },
           "legendgroup": "P47",
           "marker": {
            "color": "#FF97FF",
            "pattern": {
             "shape": ""
            }
           },
           "name": "P47",
           "orientation": "v",
           "showlegend": true,
           "textposition": "auto",
           "type": "bar",
           "x": {
            "bdata": "BA==",
            "dtype": "i1"
           },
           "xaxis": "x",
           "y": {
            "bdata": "+Ag=",
            "dtype": "i2"
           },
           "yaxis": "y"
          },
          {
           "hovertemplate": "page2_clothing_model=P71<br>month=4<br>Main Category=%{x}<br>Total Price=%{y}<extra></extra>",
           "ids": {
            "bdata": "BA==",
            "dtype": "i1"
           },
           "legendgroup": "P71",
           "marker": {
            "color": "#FECB52",
            "pattern": {
             "shape": ""
            }
           },
           "name": "P71",
           "orientation": "v",
           "showlegend": true,
           "textposition": "auto",
           "type": "bar",
           "x": {
            "bdata": "BA==",
            "dtype": "i1"
           },
           "xaxis": "x",
           "y": {
            "bdata": "gwQ=",
            "dtype": "i2"
           },
           "yaxis": "y"
          },
          {
           "hovertemplate": "page2_clothing_model=P30<br>month=4<br>Main Category=%{x}<br>Total Price=%{y}<extra></extra>",
           "ids": {
            "bdata": "BA==",
            "dtype": "i1"
           },
           "legendgroup": "P30",
           "marker": {
            "color": "#636efa",
            "pattern": {
             "shape": ""
            }
           },
           "name": "P30",
           "orientation": "v",
           "showlegend": true,
           "textposition": "auto",
           "type": "bar",
           "x": {
            "bdata": "BA==",
            "dtype": "i1"
           },
           "xaxis": "x",
           "y": {
            "bdata": "owg=",
            "dtype": "i2"
           },
           "yaxis": "y"
          },
          {
           "hovertemplate": "page2_clothing_model=P74<br>month=4<br>Main Category=%{x}<br>Total Price=%{y}<extra></extra>",
           "ids": {
            "bdata": "BA==",
            "dtype": "i1"
           },
           "legendgroup": "P74",
           "marker": {
            "color": "#EF553B",
            "pattern": {
             "shape": ""
            }
           },
           "name": "P74",
           "orientation": "v",
           "showlegend": true,
           "textposition": "auto",
           "type": "bar",
           "x": {
            "bdata": "BA==",
            "dtype": "i1"
           },
           "xaxis": "x",
           "y": {
            "bdata": "1QY=",
            "dtype": "i2"
           },
           "yaxis": "y"
          },
          {
           "hovertemplate": "page2_clothing_model=P63<br>month=4<br>Main Category=%{x}<br>Total Price=%{y}<extra></extra>",
           "ids": {
            "bdata": "BA==",
            "dtype": "i1"
           },
           "legendgroup": "P63",
           "marker": {
            "color": "#00cc96",
            "pattern": {
             "shape": ""
            }
           },
           "name": "P63",
           "orientation": "v",
           "showlegend": true,
           "textposition": "auto",
           "type": "bar",
           "x": {
            "bdata": "BA==",
            "dtype": "i1"
           },
           "xaxis": "x",
           "y": {
            "bdata": "qAc=",
            "dtype": "i2"
           },
           "yaxis": "y"
          },
          {
           "hovertemplate": "page2_clothing_model=P42<br>month=4<br>Main Category=%{x}<br>Total Price=%{y}<extra></extra>",
           "ids": {
            "bdata": "BA==",
            "dtype": "i1"
           },
           "legendgroup": "P42",
           "marker": {
            "color": "#ab63fa",
            "pattern": {
             "shape": ""
            }
           },
           "name": "P42",
           "orientation": "v",
           "showlegend": true,
           "textposition": "auto",
           "type": "bar",
           "x": {
            "bdata": "BA==",
            "dtype": "i1"
           },
           "xaxis": "x",
           "y": {
            "bdata": "qAc=",
            "dtype": "i2"
           },
           "yaxis": "y"
          },
          {
           "hovertemplate": "page2_clothing_model=P21<br>month=4<br>Main Category=%{x}<br>Total Price=%{y}<extra></extra>",
           "ids": {
            "bdata": "BA==",
            "dtype": "i1"
           },
           "legendgroup": "P21",
           "marker": {
            "color": "#FFA15A",
            "pattern": {
             "shape": ""
            }
           },
           "name": "P21",
           "orientation": "v",
           "showlegend": true,
           "textposition": "auto",
           "type": "bar",
           "x": {
            "bdata": "BA==",
            "dtype": "i1"
           },
           "xaxis": "x",
           "y": {
            "bdata": "WQc=",
            "dtype": "i2"
           },
           "yaxis": "y"
          },
          {
           "hovertemplate": "page2_clothing_model=P44<br>month=4<br>Main Category=%{x}<br>Total Price=%{y}<extra></extra>",
           "ids": {
            "bdata": "BA==",
            "dtype": "i1"
           },
           "legendgroup": "P44",
           "marker": {
            "color": "#19d3f3",
            "pattern": {
             "shape": ""
            }
           },
           "name": "P44",
           "orientation": "v",
           "showlegend": true,
           "textposition": "auto",
           "type": "bar",
           "x": {
            "bdata": "BA==",
            "dtype": "i1"
           },
           "xaxis": "x",
           "y": {
            "bdata": "OAc=",
            "dtype": "i2"
           },
           "yaxis": "y"
          },
          {
           "hovertemplate": "page2_clothing_model=P75<br>month=4<br>Main Category=%{x}<br>Total Price=%{y}<extra></extra>",
           "ids": {
            "bdata": "BA==",
            "dtype": "i1"
           },
           "legendgroup": "P75",
           "marker": {
            "color": "#FF6692",
            "pattern": {
             "shape": ""
            }
           },
           "name": "P75",
           "orientation": "v",
           "showlegend": true,
           "textposition": "auto",
           "type": "bar",
           "x": {
            "bdata": "BA==",
            "dtype": "i1"
           },
           "xaxis": "x",
           "y": {
            "bdata": "Fwc=",
            "dtype": "i2"
           },
           "yaxis": "y"
          },
          {
           "hovertemplate": "page2_clothing_model=P27<br>month=4<br>Main Category=%{x}<br>Total Price=%{y}<extra></extra>",
           "ids": {
            "bdata": "BA==",
            "dtype": "i1"
           },
           "legendgroup": "P27",
           "marker": {
            "color": "#B6E880",
            "pattern": {
             "shape": ""
            }
           },
           "name": "P27",
           "orientation": "v",
           "showlegend": true,
           "textposition": "auto",
           "type": "bar",
           "x": {
            "bdata": "BA==",
            "dtype": "i1"
           },
           "xaxis": "x",
           "y": {
            "bdata": "UQY=",
            "dtype": "i2"
           },
           "yaxis": "y"
          },
          {
           "hovertemplate": "page2_clothing_model=C52<br>month=4<br>Main Category=%{x}<br>Total Price=%{y}<extra></extra>",
           "ids": {
            "bdata": "Aw==",
            "dtype": "i1"
           },
           "legendgroup": "C52",
           "marker": {
            "color": "#FF97FF",
            "pattern": {
             "shape": ""
            }
           },
           "name": "C52",
           "orientation": "v",
           "showlegend": true,
           "textposition": "auto",
           "type": "bar",
           "x": {
            "bdata": "Aw==",
            "dtype": "i1"
           },
           "xaxis": "x",
           "y": {
            "bdata": "MgU=",
            "dtype": "i2"
           },
           "yaxis": "y"
          },
          {
           "hovertemplate": "page2_clothing_model=P73<br>month=4<br>Main Category=%{x}<br>Total Price=%{y}<extra></extra>",
           "ids": {
            "bdata": "BA==",
            "dtype": "i1"
           },
           "legendgroup": "P73",
           "marker": {
            "color": "#FECB52",
            "pattern": {
             "shape": ""
            }
           },
           "name": "P73",
           "orientation": "v",
           "showlegend": true,
           "textposition": "auto",
           "type": "bar",
           "x": {
            "bdata": "BA==",
            "dtype": "i1"
           },
           "xaxis": "x",
           "y": {
            "bdata": "7gU=",
            "dtype": "i2"
           },
           "yaxis": "y"
          },
          {
           "hovertemplate": "page2_clothing_model=P80<br>month=4<br>Main Category=%{x}<br>Total Price=%{y}<extra></extra>",
           "ids": {
            "bdata": "BA==",
            "dtype": "i1"
           },
           "legendgroup": "P80",
           "marker": {
            "color": "#636efa",
            "pattern": {
             "shape": ""
            }
           },
           "name": "P80",
           "orientation": "v",
           "showlegend": true,
           "textposition": "auto",
           "type": "bar",
           "x": {
            "bdata": "BA==",
            "dtype": "i1"
           },
           "xaxis": "x",
           "y": {
            "bdata": "QAU=",
            "dtype": "i2"
           },
           "yaxis": "y"
          },
          {
           "hovertemplate": "page2_clothing_model=P35<br>month=4<br>Main Category=%{x}<br>Total Price=%{y}<extra></extra>",
           "ids": {
            "bdata": "BA==",
            "dtype": "i1"
           },
           "legendgroup": "P35",
           "marker": {
            "color": "#EF553B",
            "pattern": {
             "shape": ""
            }
           },
           "name": "P35",
           "orientation": "v",
           "showlegend": true,
           "textposition": "auto",
           "type": "bar",
           "x": {
            "bdata": "BA==",
            "dtype": "i1"
           },
           "xaxis": "x",
           "y": {
            "bdata": "fAQ=",
            "dtype": "i2"
           },
           "yaxis": "y"
          },
          {
           "hovertemplate": "page2_clothing_model=P52<br>month=4<br>Main Category=%{x}<br>Total Price=%{y}<extra></extra>",
           "ids": {
            "bdata": "BA==",
            "dtype": "i1"
           },
           "legendgroup": "P52",
           "marker": {
            "color": "#00cc96",
            "pattern": {
             "shape": ""
            }
           },
           "name": "P52",
           "orientation": "v",
           "showlegend": true,
           "textposition": "auto",
           "type": "bar",
           "x": {
            "bdata": "BA==",
            "dtype": "i1"
           },
           "xaxis": "x",
           "y": {
            "bdata": "yQI=",
            "dtype": "i2"
           },
           "yaxis": "y"
          },
          {
           "hovertemplate": "page2_clothing_model=C47<br>month=4<br>Main Category=%{x}<br>Total Price=%{y}<extra></extra>",
           "ids": {
            "bdata": "Aw==",
            "dtype": "i1"
           },
           "legendgroup": "C47",
           "marker": {
            "color": "#ab63fa",
            "pattern": {
             "shape": ""
            }
           },
           "name": "C47",
           "orientation": "v",
           "showlegend": true,
           "textposition": "auto",
           "type": "bar",
           "x": {
            "bdata": "Aw==",
            "dtype": "i1"
           },
           "xaxis": "x",
           "y": {
            "bdata": "kgQ=",
            "dtype": "i2"
           },
           "yaxis": "y"
          },
          {
           "hovertemplate": "page2_clothing_model=P62<br>month=4<br>Main Category=%{x}<br>Total Price=%{y}<extra></extra>",
           "ids": {
            "bdata": "BA==",
            "dtype": "i1"
           },
           "legendgroup": "P62",
           "marker": {
            "color": "#FFA15A",
            "pattern": {
             "shape": ""
            }
           },
           "name": "P62",
           "orientation": "v",
           "showlegend": true,
           "textposition": "auto",
           "type": "bar",
           "x": {
            "bdata": "BA==",
            "dtype": "i1"
           },
           "xaxis": "x",
           "y": {
            "bdata": "GAM=",
            "dtype": "i2"
           },
           "yaxis": "y"
          },
          {
           "hovertemplate": "page2_clothing_model=P45<br>month=4<br>Main Category=%{x}<br>Total Price=%{y}<extra></extra>",
           "ids": {
            "bdata": "BA==",
            "dtype": "i1"
           },
           "legendgroup": "P45",
           "marker": {
            "color": "#19d3f3",
            "pattern": {
             "shape": ""
            }
           },
           "name": "P45",
           "orientation": "v",
           "showlegend": true,
           "textposition": "auto",
           "type": "bar",
           "x": {
            "bdata": "BA==",
            "dtype": "i1"
           },
           "xaxis": "x",
           "y": {
            "bdata": "QQQ=",
            "dtype": "i2"
           },
           "yaxis": "y"
          },
          {
           "hovertemplate": "page2_clothing_model=C43<br>month=4<br>Main Category=%{x}<br>Total Price=%{y}<extra></extra>",
           "ids": {
            "bdata": "Aw==",
            "dtype": "i1"
           },
           "legendgroup": "C43",
           "marker": {
            "color": "#FF6692",
            "pattern": {
             "shape": ""
            }
           },
           "name": "C43",
           "orientation": "v",
           "showlegend": true,
           "textposition": "auto",
           "type": "bar",
           "x": {
            "bdata": "Aw==",
            "dtype": "i1"
           },
           "xaxis": "x",
           "y": {
            "bdata": "LAM=",
            "dtype": "i2"
           },
           "yaxis": "y"
          },
          {
           "hovertemplate": "page2_clothing_model=P64<br>month=4<br>Main Category=%{x}<br>Total Price=%{y}<extra></extra>",
           "ids": {
            "bdata": "BA==",
            "dtype": "i1"
           },
           "legendgroup": "P64",
           "marker": {
            "color": "#B6E880",
            "pattern": {
             "shape": ""
            }
           },
           "name": "P64",
           "orientation": "v",
           "showlegend": true,
           "textposition": "auto",
           "type": "bar",
           "x": {
            "bdata": "BA==",
            "dtype": "i1"
           },
           "xaxis": "x",
           "y": {
            "bdata": "SAM=",
            "dtype": "i2"
           },
           "yaxis": "y"
          },
          {
           "hovertemplate": "page2_clothing_model=P31<br>month=4<br>Main Category=%{x}<br>Total Price=%{y}<extra></extra>",
           "ids": {
            "bdata": "BA==",
            "dtype": "i1"
           },
           "legendgroup": "P31",
           "marker": {
            "color": "#FF97FF",
            "pattern": {
             "shape": ""
            }
           },
           "name": "P31",
           "orientation": "v",
           "showlegend": true,
           "textposition": "auto",
           "type": "bar",
           "x": {
            "bdata": "BA==",
            "dtype": "i1"
           },
           "xaxis": "x",
           "y": {
            "bdata": "EAI=",
            "dtype": "i2"
           },
           "yaxis": "y"
          },
          {
           "hovertemplate": "page2_clothing_model=P54<br>month=4<br>Main Category=%{x}<br>Total Price=%{y}<extra></extra>",
           "ids": {
            "bdata": "BA==",
            "dtype": "i1"
           },
           "legendgroup": "P54",
           "marker": {
            "color": "#FECB52",
            "pattern": {
             "shape": ""
            }
           },
           "name": "P54",
           "orientation": "v",
           "showlegend": true,
           "textposition": "auto",
           "type": "bar",
           "x": {
            "bdata": "BA==",
            "dtype": "i1"
           },
           "xaxis": "x",
           "y": {
            "bdata": "IQ==",
            "dtype": "i1"
           },
           "yaxis": "y"
          }
         ],
         "name": "4"
        },
        {
         "data": [
          {
           "hovertemplate": "page2_clothing_model=A2<br>month=5<br>Main Category=%{x}<br>Total Price=%{y}<extra></extra>",
           "ids": {
            "bdata": "AQ==",
            "dtype": "i1"
           },
           "legendgroup": "A2",
           "marker": {
            "color": "#636efa",
            "pattern": {
             "shape": ""
            }
           },
           "name": "A2",
           "orientation": "v",
           "showlegend": true,
           "textposition": "auto",
           "type": "bar",
           "x": {
            "bdata": "AQ==",
            "dtype": "i1"
           },
           "xaxis": "x",
           "y": {
            "bdata": "4kY=",
            "dtype": "i2"
           },
           "yaxis": "y"
          },
          {
           "hovertemplate": "page2_clothing_model=A4<br>month=5<br>Main Category=%{x}<br>Total Price=%{y}<extra></extra>",
           "ids": {
            "bdata": "AQ==",
            "dtype": "i1"
           },
           "legendgroup": "A4",
           "marker": {
            "color": "#EF553B",
            "pattern": {
             "shape": ""
            }
           },
           "name": "A4",
           "orientation": "v",
           "showlegend": true,
           "textposition": "auto",
           "type": "bar",
           "x": {
            "bdata": "AQ==",
            "dtype": "i1"
           },
           "xaxis": "x",
           "y": {
            "bdata": "CEk=",
            "dtype": "i2"
           },
           "yaxis": "y"
          },
          {
           "hovertemplate": "page2_clothing_model=A5<br>month=5<br>Main Category=%{x}<br>Total Price=%{y}<extra></extra>",
           "ids": {
            "bdata": "AQ==",
            "dtype": "i1"
           },
           "legendgroup": "A5",
           "marker": {
            "color": "#00cc96",
            "pattern": {
             "shape": ""
            }
           },
           "name": "A5",
           "orientation": "v",
           "showlegend": true,
           "textposition": "auto",
           "type": "bar",
           "x": {
            "bdata": "AQ==",
            "dtype": "i1"
           },
           "xaxis": "x",
           "y": {
            "bdata": "0D0=",
            "dtype": "i2"
           },
           "yaxis": "y"
          },
          {
           "hovertemplate": "page2_clothing_model=A15<br>month=5<br>Main Category=%{x}<br>Total Price=%{y}<extra></extra>",
           "ids": {
            "bdata": "AQ==",
            "dtype": "i1"
           },
           "legendgroup": "A15",
           "marker": {
            "color": "#ab63fa",
            "pattern": {
             "shape": ""
            }
           },
           "name": "A15",
           "orientation": "v",
           "showlegend": true,
           "textposition": "auto",
           "type": "bar",
           "x": {
            "bdata": "AQ==",
            "dtype": "i1"
           },
           "xaxis": "x",
           "y": {
            "bdata": "SkM=",
            "dtype": "i2"
           },
           "yaxis": "y"
          },
          {
           "hovertemplate": "page2_clothing_model=A10<br>month=5<br>Main Category=%{x}<br>Total Price=%{y}<extra></extra>",
           "ids": {
            "bdata": "AQ==",
            "dtype": "i1"
           },
           "legendgroup": "A10",
           "marker": {
            "color": "#FFA15A",
            "pattern": {
             "shape": ""
            }
           },
           "name": "A10",
           "orientation": "v",
           "showlegend": true,
           "textposition": "auto",
           "type": "bar",
           "x": {
            "bdata": "AQ==",
            "dtype": "i1"
           },
           "xaxis": "x",
           "y": {
            "bdata": "9jc=",
            "dtype": "i2"
           },
           "yaxis": "y"
          },
          {
           "hovertemplate": "page2_clothing_model=A6<br>month=5<br>Main Category=%{x}<br>Total Price=%{y}<extra></extra>",
           "ids": {
            "bdata": "AQ==",
            "dtype": "i1"
           },
           "legendgroup": "A6",
           "marker": {
            "color": "#19d3f3",
            "pattern": {
             "shape": ""
            }
           },
           "name": "A6",
           "orientation": "v",
           "showlegend": true,
           "textposition": "auto",
           "type": "bar",
           "x": {
            "bdata": "AQ==",
            "dtype": "i1"
           },
           "xaxis": "x",
           "y": {
            "bdata": "ZjM=",
            "dtype": "i2"
           },
           "yaxis": "y"
          },
          {
           "hovertemplate": "page2_clothing_model=A12<br>month=5<br>Main Category=%{x}<br>Total Price=%{y}<extra></extra>",
           "ids": {
            "bdata": "AQ==",
            "dtype": "i1"
           },
           "legendgroup": "A12",
           "marker": {
            "color": "#FF6692",
            "pattern": {
             "shape": ""
            }
           },
           "name": "A12",
           "orientation": "v",
           "showlegend": true,
           "textposition": "auto",
           "type": "bar",
           "x": {
            "bdata": "AQ==",
            "dtype": "i1"
           },
           "xaxis": "x",
           "y": {
            "bdata": "Fiw=",
            "dtype": "i2"
           },
           "yaxis": "y"
          },
          {
           "hovertemplate": "page2_clothing_model=A7<br>month=5<br>Main Category=%{x}<br>Total Price=%{y}<extra></extra>",
           "ids": {
            "bdata": "AQ==",
            "dtype": "i1"
           },
           "legendgroup": "A7",
           "marker": {
            "color": "#B6E880",
            "pattern": {
             "shape": ""
            }
           },
           "name": "A7",
           "orientation": "v",
           "showlegend": true,
           "textposition": "auto",
           "type": "bar",
           "x": {
            "bdata": "AQ==",
            "dtype": "i1"
           },
           "xaxis": "x",
           "y": {
            "bdata": "fSk=",
            "dtype": "i2"
           },
           "yaxis": "y"
          },
          {
           "hovertemplate": "page2_clothing_model=A1<br>month=5<br>Main Category=%{x}<br>Total Price=%{y}<extra></extra>",
           "ids": {
            "bdata": "AQ==",
            "dtype": "i1"
           },
           "legendgroup": "A1",
           "marker": {
            "color": "#FF97FF",
            "pattern": {
             "shape": ""
            }
           },
           "name": "A1",
           "orientation": "v",
           "showlegend": true,
           "textposition": "auto",
           "type": "bar",
           "x": {
            "bdata": "AQ==",
            "dtype": "i1"
           },
           "xaxis": "x",
           "y": {
            "bdata": "NCQ=",
            "dtype": "i2"
           },
           "yaxis": "y"
          },
          {
           "hovertemplate": "page2_clothing_model=B11<br>month=5<br>Main Category=%{x}<br>Total Price=%{y}<extra></extra>",
           "ids": {
            "bdata": "Ag==",
            "dtype": "i1"
           },
           "legendgroup": "B11",
           "marker": {
            "color": "#FECB52",
            "pattern": {
             "shape": ""
            }
           },
           "name": "B11",
           "orientation": "v",
           "showlegend": true,
           "textposition": "auto",
           "type": "bar",
           "x": {
            "bdata": "Ag==",
            "dtype": "i1"
           },
           "xaxis": "x",
           "y": {
            "bdata": "oiY=",
            "dtype": "i2"
           },
           "yaxis": "y"
          },
          {
           "hovertemplate": "page2_clothing_model=B15<br>month=5<br>Main Category=%{x}<br>Total Price=%{y}<extra></extra>",
           "ids": {
            "bdata": "Ag==",
            "dtype": "i1"
           },
           "legendgroup": "B15",
           "marker": {
            "color": "#636efa",
            "pattern": {
             "shape": ""
            }
           },
           "name": "B15",
           "orientation": "v",
           "showlegend": true,
           "textposition": "auto",
           "type": "bar",
           "x": {
            "bdata": "Ag==",
            "dtype": "i1"
           },
           "xaxis": "x",
           "y": {
            "bdata": "fis=",
            "dtype": "i2"
           },
           "yaxis": "y"
          },
          {
           "hovertemplate": "page2_clothing_model=B32<br>month=5<br>Main Category=%{x}<br>Total Price=%{y}<extra></extra>",
           "ids": {
            "bdata": "Ag==",
            "dtype": "i1"
           },
           "legendgroup": "B32",
           "marker": {
            "color": "#EF553B",
            "pattern": {
             "shape": ""
            }
           },
           "name": "B32",
           "orientation": "v",
           "showlegend": true,
           "textposition": "auto",
           "type": "bar",
           "x": {
            "bdata": "Ag==",
            "dtype": "i1"
           },
           "xaxis": "x",
           "y": {
            "bdata": "2iU=",
            "dtype": "i2"
           },
           "yaxis": "y"
          },
          {
           "hovertemplate": "page2_clothing_model=P16<br>month=5<br>Main Category=%{x}<br>Total Price=%{y}<extra></extra>",
           "ids": {
            "bdata": "BA==",
            "dtype": "i1"
           },
           "legendgroup": "P16",
           "marker": {
            "color": "#00cc96",
            "pattern": {
             "shape": ""
            }
           },
           "name": "P16",
           "orientation": "v",
           "showlegend": true,
           "textposition": "auto",
           "type": "bar",
           "x": {
            "bdata": "BA==",
            "dtype": "i1"
           },
           "xaxis": "x",
           "y": {
            "bdata": "hCE=",
            "dtype": "i2"
           },
           "yaxis": "y"
          },
          {
           "hovertemplate": "page2_clothing_model=B23<br>month=5<br>Main Category=%{x}<br>Total Price=%{y}<extra></extra>",
           "ids": {
            "bdata": "Ag==",
            "dtype": "i1"
           },
           "legendgroup": "B23",
           "marker": {
            "color": "#ab63fa",
            "pattern": {
             "shape": ""
            }
           },
           "name": "B23",
           "orientation": "v",
           "showlegend": true,
           "textposition": "auto",
           "type": "bar",
           "x": {
            "bdata": "Ag==",
            "dtype": "i1"
           },
           "xaxis": "x",
           "y": {
            "bdata": "DCs=",
            "dtype": "i2"
           },
           "yaxis": "y"
          },
          {
           "hovertemplate": "page2_clothing_model=B17<br>month=5<br>Main Category=%{x}<br>Total Price=%{y}<extra></extra>",
           "ids": {
            "bdata": "Ag==",
            "dtype": "i1"
           },
           "legendgroup": "B17",
           "marker": {
            "color": "#FFA15A",
            "pattern": {
             "shape": ""
            }
           },
           "name": "B17",
           "orientation": "v",
           "showlegend": true,
           "textposition": "auto",
           "type": "bar",
           "x": {
            "bdata": "Ag==",
            "dtype": "i1"
           },
           "xaxis": "x",
           "y": {
            "bdata": "aik=",
            "dtype": "i2"
           },
           "yaxis": "y"
          },
          {
           "hovertemplate": "page2_clothing_model=B12<br>month=5<br>Main Category=%{x}<br>Total Price=%{y}<extra></extra>",
           "ids": {
            "bdata": "Ag==",
            "dtype": "i1"
           },
           "legendgroup": "B12",
           "marker": {
            "color": "#19d3f3",
            "pattern": {
             "shape": ""
            }
           },
           "name": "B12",
           "orientation": "v",
           "showlegend": true,
           "textposition": "auto",
           "type": "bar",
           "x": {
            "bdata": "Ag==",
            "dtype": "i1"
           },
           "xaxis": "x",
           "y": {
            "bdata": "4iI=",
            "dtype": "i2"
           },
           "yaxis": "y"
          },
          {
           "hovertemplate": "page2_clothing_model=A16<br>month=5<br>Main Category=%{x}<br>Total Price=%{y}<extra></extra>",
           "ids": {
            "bdata": "AQ==",
            "dtype": "i1"
           },
           "legendgroup": "A16",
           "marker": {
            "color": "#FF6692",
            "pattern": {
             "shape": ""
            }
           },
           "name": "A16",
           "orientation": "v",
           "showlegend": true,
           "textposition": "auto",
           "type": "bar",
           "x": {
            "bdata": "AQ==",
            "dtype": "i1"
           },
           "xaxis": "x",
           "y": {
            "bdata": "lCM=",
            "dtype": "i2"
           },
           "yaxis": "y"
          },
          {
           "hovertemplate": "page2_clothing_model=B9<br>month=5<br>Main Category=%{x}<br>Total Price=%{y}<extra></extra>",
           "ids": {
            "bdata": "Ag==",
            "dtype": "i1"
           },
           "legendgroup": "B9",
           "marker": {
            "color": "#B6E880",
            "pattern": {
             "shape": ""
            }
           },
           "name": "B9",
           "orientation": "v",
           "showlegend": true,
           "textposition": "auto",
           "type": "bar",
           "x": {
            "bdata": "Ag==",
            "dtype": "i1"
           },
           "xaxis": "x",
           "y": {
            "bdata": "oBc=",
            "dtype": "i2"
           },
           "yaxis": "y"
          },
          {
           "hovertemplate": "page2_clothing_model=A13<br>month=5<br>Main Category=%{x}<br>Total Price=%{y}<extra></extra>",
           "ids": {
            "bdata": "AQ==",
            "dtype": "i1"
           },
           "legendgroup": "A13",
           "marker": {
            "color": "#FF97FF",
            "pattern": {
             "shape": ""
            }
           },
           "name": "A13",
           "orientation": "v",
           "showlegend": true,
           "textposition": "auto",
           "type": "bar",
           "x": {
            "bdata": "AQ==",
            "dtype": "i1"
           },
           "xaxis": "x",
           "y": {
            "bdata": "KCA=",
            "dtype": "i2"
           },
           "yaxis": "y"
          },
          {
           "hovertemplate": "page2_clothing_model=B19<br>month=5<br>Main Category=%{x}<br>Total Price=%{y}<extra></extra>",
           "ids": {
            "bdata": "Ag==",
            "dtype": "i1"
           },
           "legendgroup": "B19",
           "marker": {
            "color": "#FECB52",
            "pattern": {
             "shape": ""
            }
           },
           "name": "B19",
           "orientation": "v",
           "showlegend": true,
           "textposition": "auto",
           "type": "bar",
           "x": {
            "bdata": "Ag==",
            "dtype": "i1"
           },
           "xaxis": "x",
           "y": {
            "bdata": "Cic=",
            "dtype": "i2"
           },
           "yaxis": "y"
          },
          {
           "hovertemplate": "page2_clothing_model=A33<br>month=5<br>Main Category=%{x}<br>Total Price=%{y}<extra></extra>",
           "ids": {
            "bdata": "AQ==",
            "dtype": "i1"
           },
           "legendgroup": "A33",
           "marker": {
            "color": "#636efa",
            "pattern": {
             "shape": ""
            }
           },
           "name": "A33",
           "orientation": "v",
           "showlegend": true,
           "textposition": "auto",
           "type": "bar",
           "x": {
            "bdata": "AQ==",
            "dtype": "i1"
           },
           "xaxis": "x",
           "y": {
            "bdata": "phw=",
            "dtype": "i2"
           },
           "yaxis": "y"
          },
          {
           "hovertemplate": "page2_clothing_model=P12<br>month=5<br>Main Category=%{x}<br>Total Price=%{y}<extra></extra>",
           "ids": {
            "bdata": "BA==",
            "dtype": "i1"
           },
           "legendgroup": "P12",
           "marker": {
            "color": "#EF553B",
            "pattern": {
             "shape": ""
            }
           },
           "name": "P12",
           "orientation": "v",
           "showlegend": true,
           "textposition": "auto",
           "type": "bar",
           "x": {
            "bdata": "BA==",
            "dtype": "i1"
           },
           "xaxis": "x",
           "y": {
            "bdata": "NBc=",
            "dtype": "i2"
           },
           "yaxis": "y"
          },
          {
           "hovertemplate": "page2_clothing_model=A41<br>month=5<br>Main Category=%{x}<br>Total Price=%{y}<extra></extra>",
           "ids": {
            "bdata": "AQ==",
            "dtype": "i1"
           },
           "legendgroup": "A41",
           "marker": {
            "color": "#00cc96",
            "pattern": {
             "shape": ""
            }
           },
           "name": "A41",
           "orientation": "v",
           "showlegend": true,
           "textposition": "auto",
           "type": "bar",
           "x": {
            "bdata": "AQ==",
            "dtype": "i1"
           },
           "xaxis": "x",
           "y": {
            "bdata": "vR4=",
            "dtype": "i2"
           },
           "yaxis": "y"
          },
          {
           "hovertemplate": "page2_clothing_model=C1<br>month=5<br>Main Category=%{x}<br>Total Price=%{y}<extra></extra>",
           "ids": {
            "bdata": "Aw==",
            "dtype": "i1"
           },
           "legendgroup": "C1",
           "marker": {
            "color": "#ab63fa",
            "pattern": {
             "shape": ""
            }
           },
           "name": "C1",
           "orientation": "v",
           "showlegend": true,
           "textposition": "auto",
           "type": "bar",
           "x": {
            "bdata": "Aw==",
            "dtype": "i1"
           },
           "xaxis": "x",
           "y": {
            "bdata": "dBQ=",
            "dtype": "i2"
           },
           "yaxis": "y"
          },
          {
           "hovertemplate": "page2_clothing_model=A18<br>month=5<br>Main Category=%{x}<br>Total Price=%{y}<extra></extra>",
           "ids": {
            "bdata": "AQ==",
            "dtype": "i1"
           },
           "legendgroup": "A18",
           "marker": {
            "color": "#FFA15A",
            "pattern": {
             "shape": ""
            }
           },
           "name": "A18",
           "orientation": "v",
           "showlegend": true,
           "textposition": "auto",
           "type": "bar",
           "x": {
            "bdata": "AQ==",
            "dtype": "i1"
           },
           "xaxis": "x",
           "y": {
            "bdata": "FBU=",
            "dtype": "i2"
           },
           "yaxis": "y"
          },
          {
           "hovertemplate": "page2_clothing_model=B34<br>month=5<br>Main Category=%{x}<br>Total Price=%{y}<extra></extra>",
           "ids": {
            "bdata": "Ag==",
            "dtype": "i1"
           },
           "legendgroup": "B34",
           "marker": {
            "color": "#19d3f3",
            "pattern": {
             "shape": ""
            }
           },
           "name": "B34",
           "orientation": "v",
           "showlegend": true,
           "textposition": "auto",
           "type": "bar",
           "x": {
            "bdata": "Ag==",
            "dtype": "i1"
           },
           "xaxis": "x",
           "y": {
            "bdata": "wBI=",
            "dtype": "i2"
           },
           "yaxis": "y"
          },
          {
           "hovertemplate": "page2_clothing_model=A30<br>month=5<br>Main Category=%{x}<br>Total Price=%{y}<extra></extra>",
           "ids": {
            "bdata": "AQ==",
            "dtype": "i1"
           },
           "legendgroup": "A30",
           "marker": {
            "color": "#FF6692",
            "pattern": {
             "shape": ""
            }
           },
           "name": "A30",
           "orientation": "v",
           "showlegend": true,
           "textposition": "auto",
           "type": "bar",
           "x": {
            "bdata": "AQ==",
            "dtype": "i1"
           },
           "xaxis": "x",
           "y": {
            "bdata": "OhU=",
            "dtype": "i2"
           },
           "yaxis": "y"
          },
          {
           "hovertemplate": "page2_clothing_model=C40<br>month=5<br>Main Category=%{x}<br>Total Price=%{y}<extra></extra>",
           "ids": {
            "bdata": "Aw==",
            "dtype": "i1"
           },
           "legendgroup": "C40",
           "marker": {
            "color": "#B6E880",
            "pattern": {
             "shape": ""
            }
           },
           "name": "C40",
           "orientation": "v",
           "showlegend": true,
           "textposition": "auto",
           "type": "bar",
           "x": {
            "bdata": "Aw==",
            "dtype": "i1"
           },
           "xaxis": "x",
           "y": {
            "bdata": "VBU=",
            "dtype": "i2"
           },
           "yaxis": "y"
          },
          {
           "hovertemplate": "page2_clothing_model=P48<br>month=5<br>Main Category=%{x}<br>Total Price=%{y}<extra></extra>",
           "ids": {
            "bdata": "BA==",
            "dtype": "i1"
           },
           "legendgroup": "P48",
           "marker": {
            "color": "#FF97FF",
            "pattern": {
             "shape": ""
            }
           },
           "name": "P48",
           "orientation": "v",
           "showlegend": true,
           "textposition": "auto",
           "type": "bar",
           "x": {
            "bdata": "BA==",
            "dtype": "i1"
           },
           "xaxis": "x",
           "y": {
            "bdata": "NBc=",
            "dtype": "i2"
           },
           "yaxis": "y"
          },
          {
           "hovertemplate": "page2_clothing_model=C14<br>month=5<br>Main Category=%{x}<br>Total Price=%{y}<extra></extra>",
           "ids": {
            "bdata": "Aw==",
            "dtype": "i1"
           },
           "legendgroup": "C14",
           "marker": {
            "color": "#FECB52",
            "pattern": {
             "shape": ""
            }
           },
           "name": "C14",
           "orientation": "v",
           "showlegend": true,
           "textposition": "auto",
           "type": "bar",
           "x": {
            "bdata": "Aw==",
            "dtype": "i1"
           },
           "xaxis": "x",
           "y": {
            "bdata": "xBM=",
            "dtype": "i2"
           },
           "yaxis": "y"
          },
          {
           "hovertemplate": "page2_clothing_model=P2<br>month=5<br>Main Category=%{x}<br>Total Price=%{y}<extra></extra>",
           "ids": {
            "bdata": "BA==",
            "dtype": "i1"
           },
           "legendgroup": "P2",
           "marker": {
            "color": "#636efa",
            "pattern": {
             "shape": ""
            }
           },
           "name": "P2",
           "orientation": "v",
           "showlegend": true,
           "textposition": "auto",
           "type": "bar",
           "x": {
            "bdata": "BA==",
            "dtype": "i1"
           },
           "xaxis": "x",
           "y": {
            "bdata": "jA4=",
            "dtype": "i2"
           },
           "yaxis": "y"
          },
          {
           "hovertemplate": "page2_clothing_model=A32<br>month=5<br>Main Category=%{x}<br>Total Price=%{y}<extra></extra>",
           "ids": {
            "bdata": "AQ==",
            "dtype": "i1"
           },
           "legendgroup": "A32",
           "marker": {
            "color": "#EF553B",
            "pattern": {
             "shape": ""
            }
           },
           "name": "A32",
           "orientation": "v",
           "showlegend": true,
           "textposition": "auto",
           "type": "bar",
           "x": {
            "bdata": "AQ==",
            "dtype": "i1"
           },
           "xaxis": "x",
           "y": {
            "bdata": "Sg8=",
            "dtype": "i2"
           },
           "yaxis": "y"
          },
          {
           "hovertemplate": "page2_clothing_model=C6<br>month=5<br>Main Category=%{x}<br>Total Price=%{y}<extra></extra>",
           "ids": {
            "bdata": "Aw==",
            "dtype": "i1"
           },
           "legendgroup": "C6",
           "marker": {
            "color": "#00cc96",
            "pattern": {
             "shape": ""
            }
           },
           "name": "C6",
           "orientation": "v",
           "showlegend": true,
           "textposition": "auto",
           "type": "bar",
           "x": {
            "bdata": "Aw==",
            "dtype": "i1"
           },
           "xaxis": "x",
           "y": {
            "bdata": "gBA=",
            "dtype": "i2"
           },
           "yaxis": "y"
          },
          {
           "hovertemplate": "page2_clothing_model=C53<br>month=5<br>Main Category=%{x}<br>Total Price=%{y}<extra></extra>",
           "ids": {
            "bdata": "Aw==",
            "dtype": "i1"
           },
           "legendgroup": "C53",
           "marker": {
            "color": "#ab63fa",
            "pattern": {
             "shape": ""
            }
           },
           "name": "C53",
           "orientation": "v",
           "showlegend": true,
           "textposition": "auto",
           "type": "bar",
           "x": {
            "bdata": "Aw==",
            "dtype": "i1"
           },
           "xaxis": "x",
           "y": {
            "bdata": "ehA=",
            "dtype": "i2"
           },
           "yaxis": "y"
          },
          {
           "hovertemplate": "page2_clothing_model=C57<br>month=5<br>Main Category=%{x}<br>Total Price=%{y}<extra></extra>",
           "ids": {
            "bdata": "Aw==",
            "dtype": "i1"
           },
           "legendgroup": "C57",
           "marker": {
            "color": "#FFA15A",
            "pattern": {
             "shape": ""
            }
           },
           "name": "C57",
           "orientation": "v",
           "showlegend": true,
           "textposition": "auto",
           "type": "bar",
           "x": {
            "bdata": "Aw==",
            "dtype": "i1"
           },
           "xaxis": "x",
           "y": {
            "bdata": "Vw8=",
            "dtype": "i2"
           },
           "yaxis": "y"
          },
          {
           "hovertemplate": "page2_clothing_model=C11<br>month=5<br>Main Category=%{x}<br>Total Price=%{y}<extra></extra>",
           "ids": {
            "bdata": "Aw==",
            "dtype": "i1"
           },
           "legendgroup": "C11",
           "marker": {
            "color": "#19d3f3",
            "pattern": {
             "shape": ""
            }
           },
           "name": "C11",
           "orientation": "v",
           "showlegend": true,
           "textposition": "auto",
           "type": "bar",
           "x": {
            "bdata": "Aw==",
            "dtype": "i1"
           },
           "xaxis": "x",
           "y": {
            "bdata": "jxY=",
            "dtype": "i2"
           },
           "yaxis": "y"
          },
          {
           "hovertemplate": "page2_clothing_model=B25<br>month=5<br>Main Category=%{x}<br>Total Price=%{y}<extra></extra>",
           "ids": {
            "bdata": "Ag==",
            "dtype": "i1"
           },
           "legendgroup": "B25",
           "marker": {
            "color": "#FF6692",
            "pattern": {
             "shape": ""
            }
           },
           "name": "B25",
           "orientation": "v",
           "showlegend": true,
           "textposition": "auto",
           "type": "bar",
           "x": {
            "bdata": "Ag==",
            "dtype": "i1"
           },
           "xaxis": "x",
           "y": {
            "bdata": "ahY=",
            "dtype": "i2"
           },
           "yaxis": "y"
          },
          {
           "hovertemplate": "page2_clothing_model=A28<br>month=5<br>Main Category=%{x}<br>Total Price=%{y}<extra></extra>",
           "ids": {
            "bdata": "AQ==",
            "dtype": "i1"
           },
           "legendgroup": "A28",
           "marker": {
            "color": "#B6E880",
            "pattern": {
             "shape": ""
            }
           },
           "name": "A28",
           "orientation": "v",
           "showlegend": true,
           "textposition": "auto",
           "type": "bar",
           "x": {
            "bdata": "AQ==",
            "dtype": "i1"
           },
           "xaxis": "x",
           "y": {
            "bdata": "1BQ=",
            "dtype": "i2"
           },
           "yaxis": "y"
          },
          {
           "hovertemplate": "page2_clothing_model=A20<br>month=5<br>Main Category=%{x}<br>Total Price=%{y}<extra></extra>",
           "ids": {
            "bdata": "AQ==",
            "dtype": "i1"
           },
           "legendgroup": "A20",
           "marker": {
            "color": "#FF97FF",
            "pattern": {
             "shape": ""
            }
           },
           "name": "A20",
           "orientation": "v",
           "showlegend": true,
           "textposition": "auto",
           "type": "bar",
           "x": {
            "bdata": "AQ==",
            "dtype": "i1"
           },
           "xaxis": "x",
           "y": {
            "bdata": "oBA=",
            "dtype": "i2"
           },
           "yaxis": "y"
          },
          {
           "hovertemplate": "page2_clothing_model=P23<br>month=5<br>Main Category=%{x}<br>Total Price=%{y}<extra></extra>",
           "ids": {
            "bdata": "BA==",
            "dtype": "i1"
           },
           "legendgroup": "P23",
           "marker": {
            "color": "#FECB52",
            "pattern": {
             "shape": ""
            }
           },
           "name": "P23",
           "orientation": "v",
           "showlegend": true,
           "textposition": "auto",
           "type": "bar",
           "x": {
            "bdata": "BA==",
            "dtype": "i1"
           },
           "xaxis": "x",
           "y": {
            "bdata": "rA0=",
            "dtype": "i2"
           },
           "yaxis": "y"
          },
          {
           "hovertemplate": "page2_clothing_model=A34<br>month=5<br>Main Category=%{x}<br>Total Price=%{y}<extra></extra>",
           "ids": {
            "bdata": "AQ==",
            "dtype": "i1"
           },
           "legendgroup": "A34",
           "marker": {
            "color": "#636efa",
            "pattern": {
             "shape": ""
            }
           },
           "name": "A34",
           "orientation": "v",
           "showlegend": true,
           "textposition": "auto",
           "type": "bar",
           "x": {
            "bdata": "AQ==",
            "dtype": "i1"
           },
           "xaxis": "x",
           "y": {
            "bdata": "6gw=",
            "dtype": "i2"
           },
           "yaxis": "y"
          },
          {
           "hovertemplate": "page2_clothing_model=C41<br>month=5<br>Main Category=%{x}<br>Total Price=%{y}<extra></extra>",
           "ids": {
            "bdata": "Aw==",
            "dtype": "i1"
           },
           "legendgroup": "C41",
           "marker": {
            "color": "#EF553B",
            "pattern": {
             "shape": ""
            }
           },
           "name": "C41",
           "orientation": "v",
           "showlegend": true,
           "textposition": "auto",
           "type": "bar",
           "x": {
            "bdata": "Aw==",
            "dtype": "i1"
           },
           "xaxis": "x",
           "y": {
            "bdata": "3A8=",
            "dtype": "i2"
           },
           "yaxis": "y"
          },
          {
           "hovertemplate": "page2_clothing_model=P49<br>month=5<br>Main Category=%{x}<br>Total Price=%{y}<extra></extra>",
           "ids": {
            "bdata": "BA==",
            "dtype": "i1"
           },
           "legendgroup": "P49",
           "marker": {
            "color": "#00cc96",
            "pattern": {
             "shape": ""
            }
           },
           "name": "P49",
           "orientation": "v",
           "showlegend": true,
           "textposition": "auto",
           "type": "bar",
           "x": {
            "bdata": "BA==",
            "dtype": "i1"
           },
           "xaxis": "x",
           "y": {
            "bdata": "LRI=",
            "dtype": "i2"
           },
           "yaxis": "y"
          },
          {
           "hovertemplate": "page2_clothing_model=C49<br>month=5<br>Main Category=%{x}<br>Total Price=%{y}<extra></extra>",
           "ids": {
            "bdata": "Aw==",
            "dtype": "i1"
           },
           "legendgroup": "C49",
           "marker": {
            "color": "#ab63fa",
            "pattern": {
             "shape": ""
            }
           },
           "name": "C49",
           "orientation": "v",
           "showlegend": true,
           "textposition": "auto",
           "type": "bar",
           "x": {
            "bdata": "Aw==",
            "dtype": "i1"
           },
           "xaxis": "x",
           "y": {
            "bdata": "whA=",
            "dtype": "i2"
           },
           "yaxis": "y"
          },
          {
           "hovertemplate": "page2_clothing_model=C30<br>month=5<br>Main Category=%{x}<br>Total Price=%{y}<extra></extra>",
           "ids": {
            "bdata": "Aw==",
            "dtype": "i1"
           },
           "legendgroup": "C30",
           "marker": {
            "color": "#FFA15A",
            "pattern": {
             "shape": ""
            }
           },
           "name": "C30",
           "orientation": "v",
           "showlegend": true,
           "textposition": "auto",
           "type": "bar",
           "x": {
            "bdata": "Aw==",
            "dtype": "i1"
           },
           "xaxis": "x",
           "y": {
            "bdata": "QAw=",
            "dtype": "i2"
           },
           "yaxis": "y"
          },
          {
           "hovertemplate": "page2_clothing_model=C10<br>month=5<br>Main Category=%{x}<br>Total Price=%{y}<extra></extra>",
           "ids": {
            "bdata": "Aw==",
            "dtype": "i1"
           },
           "legendgroup": "C10",
           "marker": {
            "color": "#19d3f3",
            "pattern": {
             "shape": ""
            }
           },
           "name": "C10",
           "orientation": "v",
           "showlegend": true,
           "textposition": "auto",
           "type": "bar",
           "x": {
            "bdata": "Aw==",
            "dtype": "i1"
           },
           "xaxis": "x",
           "y": {
            "bdata": "1Ao=",
            "dtype": "i2"
           },
           "yaxis": "y"
          },
          {
           "hovertemplate": "page2_clothing_model=P50<br>month=5<br>Main Category=%{x}<br>Total Price=%{y}<extra></extra>",
           "ids": {
            "bdata": "BA==",
            "dtype": "i1"
           },
           "legendgroup": "P50",
           "marker": {
            "color": "#FF6692",
            "pattern": {
             "shape": ""
            }
           },
           "name": "P50",
           "orientation": "v",
           "showlegend": true,
           "textposition": "auto",
           "type": "bar",
           "x": {
            "bdata": "BA==",
            "dtype": "i1"
           },
           "xaxis": "x",
           "y": {
            "bdata": "Tw4=",
            "dtype": "i2"
           },
           "yaxis": "y"
          },
          {
           "hovertemplate": "page2_clothing_model=A42<br>month=5<br>Main Category=%{x}<br>Total Price=%{y}<extra></extra>",
           "ids": {
            "bdata": "AQ==",
            "dtype": "i1"
           },
           "legendgroup": "A42",
           "marker": {
            "color": "#B6E880",
            "pattern": {
             "shape": ""
            }
           },
           "name": "A42",
           "orientation": "v",
           "showlegend": true,
           "textposition": "auto",
           "type": "bar",
           "x": {
            "bdata": "AQ==",
            "dtype": "i1"
           },
           "xaxis": "x",
           "y": {
            "bdata": "RAs=",
            "dtype": "i2"
           },
           "yaxis": "y"
          },
          {
           "hovertemplate": "page2_clothing_model=P5<br>month=5<br>Main Category=%{x}<br>Total Price=%{y}<extra></extra>",
           "ids": {
            "bdata": "BA==",
            "dtype": "i1"
           },
           "legendgroup": "P5",
           "marker": {
            "color": "#FF97FF",
            "pattern": {
             "shape": ""
            }
           },
           "name": "P5",
           "orientation": "v",
           "showlegend": true,
           "textposition": "auto",
           "type": "bar",
           "x": {
            "bdata": "BA==",
            "dtype": "i1"
           },
           "xaxis": "x",
           "y": {
            "bdata": "TA0=",
            "dtype": "i2"
           },
           "yaxis": "y"
          },
          {
           "hovertemplate": "page2_clothing_model=P8<br>month=5<br>Main Category=%{x}<br>Total Price=%{y}<extra></extra>",
           "ids": {
            "bdata": "BA==",
            "dtype": "i1"
           },
           "legendgroup": "P8",
           "marker": {
            "color": "#FECB52",
            "pattern": {
             "shape": ""
            }
           },
           "name": "P8",
           "orientation": "v",
           "showlegend": true,
           "textposition": "auto",
           "type": "bar",
           "x": {
            "bdata": "BA==",
            "dtype": "i1"
           },
           "xaxis": "x",
           "y": {
            "bdata": "TAk=",
            "dtype": "i2"
           },
           "yaxis": "y"
          },
          {
           "hovertemplate": "page2_clothing_model=A26<br>month=5<br>Main Category=%{x}<br>Total Price=%{y}<extra></extra>",
           "ids": {
            "bdata": "AQ==",
            "dtype": "i1"
           },
           "legendgroup": "A26",
           "marker": {
            "color": "#636efa",
            "pattern": {
             "shape": ""
            }
           },
           "name": "A26",
           "orientation": "v",
           "showlegend": true,
           "textposition": "auto",
           "type": "bar",
           "x": {
            "bdata": "AQ==",
            "dtype": "i1"
           },
           "xaxis": "x",
           "y": {
            "bdata": "ehA=",
            "dtype": "i2"
           },
           "yaxis": "y"
          },
          {
           "hovertemplate": "page2_clothing_model=P60<br>month=5<br>Main Category=%{x}<br>Total Price=%{y}<extra></extra>",
           "ids": {
            "bdata": "BA==",
            "dtype": "i1"
           },
           "legendgroup": "P60",
           "marker": {
            "color": "#EF553B",
            "pattern": {
             "shape": ""
            }
           },
           "name": "P60",
           "orientation": "v",
           "showlegend": true,
           "textposition": "auto",
           "type": "bar",
           "x": {
            "bdata": "BA==",
            "dtype": "i1"
           },
           "xaxis": "x",
           "y": {
            "bdata": "nAo=",
            "dtype": "i2"
           },
           "yaxis": "y"
          },
          {
           "hovertemplate": "page2_clothing_model=B7<br>month=5<br>Main Category=%{x}<br>Total Price=%{y}<extra></extra>",
           "ids": {
            "bdata": "Ag==",
            "dtype": "i1"
           },
           "legendgroup": "B7",
           "marker": {
            "color": "#00cc96",
            "pattern": {
             "shape": ""
            }
           },
           "name": "B7",
           "orientation": "v",
           "showlegend": true,
           "textposition": "auto",
           "type": "bar",
           "x": {
            "bdata": "Ag==",
            "dtype": "i1"
           },
           "xaxis": "x",
           "y": {
            "bdata": "/g4=",
            "dtype": "i2"
           },
           "yaxis": "y"
          },
          {
           "hovertemplate": "page2_clothing_model=B28<br>month=5<br>Main Category=%{x}<br>Total Price=%{y}<extra></extra>",
           "ids": {
            "bdata": "Ag==",
            "dtype": "i1"
           },
           "legendgroup": "B28",
           "marker": {
            "color": "#ab63fa",
            "pattern": {
             "shape": ""
            }
           },
           "name": "B28",
           "orientation": "v",
           "showlegend": true,
           "textposition": "auto",
           "type": "bar",
           "x": {
            "bdata": "Ag==",
            "dtype": "i1"
           },
           "xaxis": "x",
           "y": {
            "bdata": "cA8=",
            "dtype": "i2"
           },
           "yaxis": "y"
          },
          {
           "hovertemplate": "page2_clothing_model=C16<br>month=5<br>Main Category=%{x}<br>Total Price=%{y}<extra></extra>",
           "ids": {
            "bdata": "Aw==",
            "dtype": "i1"
           },
           "legendgroup": "C16",
           "marker": {
            "color": "#FFA15A",
            "pattern": {
             "shape": ""
            }
           },
           "name": "C16",
           "orientation": "v",
           "showlegend": true,
           "textposition": "auto",
           "type": "bar",
           "x": {
            "bdata": "Aw==",
            "dtype": "i1"
           },
           "xaxis": "x",
           "y": {
            "bdata": "JAw=",
            "dtype": "i2"
           },
           "yaxis": "y"
          },
          {
           "hovertemplate": "page2_clothing_model=P55<br>month=5<br>Main Category=%{x}<br>Total Price=%{y}<extra></extra>",
           "ids": {
            "bdata": "BA==",
            "dtype": "i1"
           },
           "legendgroup": "P55",
           "marker": {
            "color": "#19d3f3",
            "pattern": {
             "shape": ""
            }
           },
           "name": "P55",
           "orientation": "v",
           "showlegend": true,
           "textposition": "auto",
           "type": "bar",
           "x": {
            "bdata": "BA==",
            "dtype": "i1"
           },
           "xaxis": "x",
           "y": {
            "bdata": "qg0=",
            "dtype": "i2"
           },
           "yaxis": "y"
          },
          {
           "hovertemplate": "page2_clothing_model=C42<br>month=5<br>Main Category=%{x}<br>Total Price=%{y}<extra></extra>",
           "ids": {
            "bdata": "Aw==",
            "dtype": "i1"
           },
           "legendgroup": "C42",
           "marker": {
            "color": "#FF6692",
            "pattern": {
             "shape": ""
            }
           },
           "name": "C42",
           "orientation": "v",
           "showlegend": true,
           "textposition": "auto",
           "type": "bar",
           "x": {
            "bdata": "Aw==",
            "dtype": "i1"
           },
           "xaxis": "x",
           "y": {
            "bdata": "fAs=",
            "dtype": "i2"
           },
           "yaxis": "y"
          },
          {
           "hovertemplate": "page2_clothing_model=P20<br>month=5<br>Main Category=%{x}<br>Total Price=%{y}<extra></extra>",
           "ids": {
            "bdata": "BA==",
            "dtype": "i1"
           },
           "legendgroup": "P20",
           "marker": {
            "color": "#B6E880",
            "pattern": {
             "shape": ""
            }
           },
           "name": "P20",
           "orientation": "v",
           "showlegend": true,
           "textposition": "auto",
           "type": "bar",
           "x": {
            "bdata": "BA==",
            "dtype": "i1"
           },
           "xaxis": "x",
           "y": {
            "bdata": "rgs=",
            "dtype": "i2"
           },
           "yaxis": "y"
          },
          {
           "hovertemplate": "page2_clothing_model=A39<br>month=5<br>Main Category=%{x}<br>Total Price=%{y}<extra></extra>",
           "ids": {
            "bdata": "AQ==",
            "dtype": "i1"
           },
           "legendgroup": "A39",
           "marker": {
            "color": "#FF97FF",
            "pattern": {
             "shape": ""
            }
           },
           "name": "A39",
           "orientation": "v",
           "showlegend": true,
           "textposition": "auto",
           "type": "bar",
           "x": {
            "bdata": "AQ==",
            "dtype": "i1"
           },
           "xaxis": "x",
           "y": {
            "bdata": "8gk=",
            "dtype": "i2"
           },
           "yaxis": "y"
          },
          {
           "hovertemplate": "page2_clothing_model=A35<br>month=5<br>Main Category=%{x}<br>Total Price=%{y}<extra></extra>",
           "ids": {
            "bdata": "AQ==",
            "dtype": "i1"
           },
           "legendgroup": "A35",
           "marker": {
            "color": "#FECB52",
            "pattern": {
             "shape": ""
            }
           },
           "name": "A35",
           "orientation": "v",
           "showlegend": true,
           "textposition": "auto",
           "type": "bar",
           "x": {
            "bdata": "AQ==",
            "dtype": "i1"
           },
           "xaxis": "x",
           "y": {
            "bdata": "DQ4=",
            "dtype": "i2"
           },
           "yaxis": "y"
          },
          {
           "hovertemplate": "page2_clothing_model=A40<br>month=5<br>Main Category=%{x}<br>Total Price=%{y}<extra></extra>",
           "ids": {
            "bdata": "AQ==",
            "dtype": "i1"
           },
           "legendgroup": "A40",
           "marker": {
            "color": "#636efa",
            "pattern": {
             "shape": ""
            }
           },
           "name": "A40",
           "orientation": "v",
           "showlegend": true,
           "textposition": "auto",
           "type": "bar",
           "x": {
            "bdata": "AQ==",
            "dtype": "i1"
           },
           "xaxis": "x",
           "y": {
            "bdata": "uAc=",
            "dtype": "i2"
           },
           "yaxis": "y"
          },
          {
           "hovertemplate": "page2_clothing_model=C3<br>month=5<br>Main Category=%{x}<br>Total Price=%{y}<extra></extra>",
           "ids": {
            "bdata": "Aw==",
            "dtype": "i1"
           },
           "legendgroup": "C3",
           "marker": {
            "color": "#EF553B",
            "pattern": {
             "shape": ""
            }
           },
           "name": "C3",
           "orientation": "v",
           "showlegend": true,
           "textposition": "auto",
           "type": "bar",
           "x": {
            "bdata": "Aw==",
            "dtype": "i1"
           },
           "xaxis": "x",
           "y": {
            "bdata": "cgg=",
            "dtype": "i2"
           },
           "yaxis": "y"
          },
          {
           "hovertemplate": "page2_clothing_model=C15<br>month=5<br>Main Category=%{x}<br>Total Price=%{y}<extra></extra>",
           "ids": {
            "bdata": "Aw==",
            "dtype": "i1"
           },
           "legendgroup": "C15",
           "marker": {
            "color": "#00cc96",
            "pattern": {
             "shape": ""
            }
           },
           "name": "C15",
           "orientation": "v",
           "showlegend": true,
           "textposition": "auto",
           "type": "bar",
           "x": {
            "bdata": "Aw==",
            "dtype": "i1"
           },
           "xaxis": "x",
           "y": {
            "bdata": "WAs=",
            "dtype": "i2"
           },
           "yaxis": "y"
          },
          {
           "hovertemplate": "page2_clothing_model=A25<br>month=5<br>Main Category=%{x}<br>Total Price=%{y}<extra></extra>",
           "ids": {
            "bdata": "AQ==",
            "dtype": "i1"
           },
           "legendgroup": "A25",
           "marker": {
            "color": "#ab63fa",
            "pattern": {
             "shape": ""
            }
           },
           "name": "A25",
           "orientation": "v",
           "showlegend": true,
           "textposition": "auto",
           "type": "bar",
           "x": {
            "bdata": "AQ==",
            "dtype": "i1"
           },
           "xaxis": "x",
           "y": {
            "bdata": "sAo=",
            "dtype": "i2"
           },
           "yaxis": "y"
          },
          {
           "hovertemplate": "page2_clothing_model=P7<br>month=5<br>Main Category=%{x}<br>Total Price=%{y}<extra></extra>",
           "ids": {
            "bdata": "BA==",
            "dtype": "i1"
           },
           "legendgroup": "P7",
           "marker": {
            "color": "#FFA15A",
            "pattern": {
             "shape": ""
            }
           },
           "name": "P7",
           "orientation": "v",
           "showlegend": true,
           "textposition": "auto",
           "type": "bar",
           "x": {
            "bdata": "BA==",
            "dtype": "i1"
           },
           "xaxis": "x",
           "y": {
            "bdata": "+Ag=",
            "dtype": "i2"
           },
           "yaxis": "y"
          },
          {
           "hovertemplate": "page2_clothing_model=C50<br>month=5<br>Main Category=%{x}<br>Total Price=%{y}<extra></extra>",
           "ids": {
            "bdata": "Aw==",
            "dtype": "i1"
           },
           "legendgroup": "C50",
           "marker": {
            "color": "#19d3f3",
            "pattern": {
             "shape": ""
            }
           },
           "name": "C50",
           "orientation": "v",
           "showlegend": true,
           "textposition": "auto",
           "type": "bar",
           "x": {
            "bdata": "Aw==",
            "dtype": "i1"
           },
           "xaxis": "x",
           "y": {
            "bdata": "CAw=",
            "dtype": "i2"
           },
           "yaxis": "y"
          },
          {
           "hovertemplate": "page2_clothing_model=P29<br>month=5<br>Main Category=%{x}<br>Total Price=%{y}<extra></extra>",
           "ids": {
            "bdata": "BA==",
            "dtype": "i1"
           },
           "legendgroup": "P29",
           "marker": {
            "color": "#FF6692",
            "pattern": {
             "shape": ""
            }
           },
           "name": "P29",
           "orientation": "v",
           "showlegend": true,
           "textposition": "auto",
           "type": "bar",
           "x": {
            "bdata": "BA==",
            "dtype": "i1"
           },
           "xaxis": "x",
           "y": {
            "bdata": "Fwc=",
            "dtype": "i2"
           },
           "yaxis": "y"
          },
          {
           "hovertemplate": "page2_clothing_model=P9<br>month=5<br>Main Category=%{x}<br>Total Price=%{y}<extra></extra>",
           "ids": {
            "bdata": "BA==",
            "dtype": "i1"
           },
           "legendgroup": "P9",
           "marker": {
            "color": "#B6E880",
            "pattern": {
             "shape": ""
            }
           },
           "name": "P9",
           "orientation": "v",
           "showlegend": true,
           "textposition": "auto",
           "type": "bar",
           "x": {
            "bdata": "BA==",
            "dtype": "i1"
           },
           "xaxis": "x",
           "y": {
            "bdata": "Fgg=",
            "dtype": "i2"
           },
           "yaxis": "y"
          },
          {
           "hovertemplate": "page2_clothing_model=P56<br>month=5<br>Main Category=%{x}<br>Total Price=%{y}<extra></extra>",
           "ids": {
            "bdata": "BA==",
            "dtype": "i1"
           },
           "legendgroup": "P56",
           "marker": {
            "color": "#FF97FF",
            "pattern": {
             "shape": ""
            }
           },
           "name": "P56",
           "orientation": "v",
           "showlegend": true,
           "textposition": "auto",
           "type": "bar",
           "x": {
            "bdata": "BA==",
            "dtype": "i1"
           },
           "xaxis": "x",
           "y": {
            "bdata": "egc=",
            "dtype": "i2"
           },
           "yaxis": "y"
          },
          {
           "hovertemplate": "page2_clothing_model=C24<br>month=5<br>Main Category=%{x}<br>Total Price=%{y}<extra></extra>",
           "ids": {
            "bdata": "Aw==",
            "dtype": "i1"
           },
           "legendgroup": "C24",
           "marker": {
            "color": "#FECB52",
            "pattern": {
             "shape": ""
            }
           },
           "name": "C24",
           "orientation": "v",
           "showlegend": true,
           "textposition": "auto",
           "type": "bar",
           "x": {
            "bdata": "Aw==",
            "dtype": "i1"
           },
           "xaxis": "x",
           "y": {
            "bdata": "1Ao=",
            "dtype": "i2"
           },
           "yaxis": "y"
          },
          {
           "hovertemplate": "page2_clothing_model=C26<br>month=5<br>Main Category=%{x}<br>Total Price=%{y}<extra></extra>",
           "ids": {
            "bdata": "Aw==",
            "dtype": "i1"
           },
           "legendgroup": "C26",
           "marker": {
            "color": "#636efa",
            "pattern": {
             "shape": ""
            }
           },
           "name": "C26",
           "orientation": "v",
           "showlegend": true,
           "textposition": "auto",
           "type": "bar",
           "x": {
            "bdata": "Aw==",
            "dtype": "i1"
           },
           "xaxis": "x",
           "y": {
            "bdata": "QAw=",
            "dtype": "i2"
           },
           "yaxis": "y"
          },
          {
           "hovertemplate": "page2_clothing_model=B20<br>month=5<br>Main Category=%{x}<br>Total Price=%{y}<extra></extra>",
           "ids": {
            "bdata": "Ag==",
            "dtype": "i1"
           },
           "legendgroup": "B20",
           "marker": {
            "color": "#EF553B",
            "pattern": {
             "shape": ""
            }
           },
           "name": "B20",
           "orientation": "v",
           "showlegend": true,
           "textposition": "auto",
           "type": "bar",
           "x": {
            "bdata": "Ag==",
            "dtype": "i1"
           },
           "xaxis": "x",
           "y": {
            "bdata": "bAs=",
            "dtype": "i2"
           },
           "yaxis": "y"
          },
          {
           "hovertemplate": "page2_clothing_model=C38<br>month=5<br>Main Category=%{x}<br>Total Price=%{y}<extra></extra>",
           "ids": {
            "bdata": "Aw==",
            "dtype": "i1"
           },
           "legendgroup": "C38",
           "marker": {
            "color": "#00cc96",
            "pattern": {
             "shape": ""
            }
           },
           "name": "C38",
           "orientation": "v",
           "showlegend": true,
           "textposition": "auto",
           "type": "bar",
           "x": {
            "bdata": "Aw==",
            "dtype": "i1"
           },
           "xaxis": "x",
           "y": {
            "bdata": "dgg=",
            "dtype": "i2"
           },
           "yaxis": "y"
          },
          {
           "hovertemplate": "page2_clothing_model=A23<br>month=5<br>Main Category=%{x}<br>Total Price=%{y}<extra></extra>",
           "ids": {
            "bdata": "AQ==",
            "dtype": "i1"
           },
           "legendgroup": "A23",
           "marker": {
            "color": "#ab63fa",
            "pattern": {
             "shape": ""
            }
           },
           "name": "A23",
           "orientation": "v",
           "showlegend": true,
           "textposition": "auto",
           "type": "bar",
           "x": {
            "bdata": "AQ==",
            "dtype": "i1"
           },
           "xaxis": "x",
           "y": {
            "bdata": "BQ0=",
            "dtype": "i2"
           },
           "yaxis": "y"
          },
          {
           "hovertemplate": "page2_clothing_model=P18<br>month=5<br>Main Category=%{x}<br>Total Price=%{y}<extra></extra>",
           "ids": {
            "bdata": "BA==",
            "dtype": "i1"
           },
           "legendgroup": "P18",
           "marker": {
            "color": "#FFA15A",
            "pattern": {
             "shape": ""
            }
           },
           "name": "P18",
           "orientation": "v",
           "showlegend": true,
           "textposition": "auto",
           "type": "bar",
           "x": {
            "bdata": "BA==",
            "dtype": "i1"
           },
           "xaxis": "x",
           "y": {
            "bdata": "yAY=",
            "dtype": "i2"
           },
           "yaxis": "y"
          },
          {
           "hovertemplate": "page2_clothing_model=B33<br>month=5<br>Main Category=%{x}<br>Total Price=%{y}<extra></extra>",
           "ids": {
            "bdata": "Ag==",
            "dtype": "i1"
           },
           "legendgroup": "B33",
           "marker": {
            "color": "#19d3f3",
            "pattern": {
             "shape": ""
            }
           },
           "name": "B33",
           "orientation": "v",
           "showlegend": true,
           "textposition": "auto",
           "type": "bar",
           "x": {
            "bdata": "Ag==",
            "dtype": "i1"
           },
           "xaxis": "x",
           "y": {
            "bdata": "kgo=",
            "dtype": "i2"
           },
           "yaxis": "y"
          },
          {
           "hovertemplate": "page2_clothing_model=A36<br>month=5<br>Main Category=%{x}<br>Total Price=%{y}<extra></extra>",
           "ids": {
            "bdata": "AQ==",
            "dtype": "i1"
           },
           "legendgroup": "A36",
           "marker": {
            "color": "#FF6692",
            "pattern": {
             "shape": ""
            }
           },
           "name": "A36",
           "orientation": "v",
           "showlegend": true,
           "textposition": "auto",
           "type": "bar",
           "x": {
            "bdata": "AQ==",
            "dtype": "i1"
           },
           "xaxis": "x",
           "y": {
            "bdata": "uws=",
            "dtype": "i2"
           },
           "yaxis": "y"
          },
          {
           "hovertemplate": "page2_clothing_model=P61<br>month=5<br>Main Category=%{x}<br>Total Price=%{y}<extra></extra>",
           "ids": {
            "bdata": "BA==",
            "dtype": "i1"
           },
           "legendgroup": "P61",
           "marker": {
            "color": "#B6E880",
            "pattern": {
             "shape": ""
            }
           },
           "name": "P61",
           "orientation": "v",
           "showlegend": true,
           "textposition": "auto",
           "type": "bar",
           "x": {
            "bdata": "BA==",
            "dtype": "i1"
           },
           "xaxis": "x",
           "y": {
            "bdata": "qAc=",
            "dtype": "i2"
           },
           "yaxis": "y"
          },
          {
           "hovertemplate": "page2_clothing_model=C25<br>month=5<br>Main Category=%{x}<br>Total Price=%{y}<extra></extra>",
           "ids": {
            "bdata": "Aw==",
            "dtype": "i1"
           },
           "legendgroup": "C25",
           "marker": {
            "color": "#FF97FF",
            "pattern": {
             "shape": ""
            }
           },
           "name": "C25",
           "orientation": "v",
           "showlegend": true,
           "textposition": "auto",
           "type": "bar",
           "x": {
            "bdata": "Aw==",
            "dtype": "i1"
           },
           "xaxis": "x",
           "y": {
            "bdata": "mwc=",
            "dtype": "i2"
           },
           "yaxis": "y"
          },
          {
           "hovertemplate": "page2_clothing_model=C48<br>month=5<br>Main Category=%{x}<br>Total Price=%{y}<extra></extra>",
           "ids": {
            "bdata": "Aw==",
            "dtype": "i1"
           },
           "legendgroup": "C48",
           "marker": {
            "color": "#FECB52",
            "pattern": {
             "shape": ""
            }
           },
           "name": "C48",
           "orientation": "v",
           "showlegend": true,
           "textposition": "auto",
           "type": "bar",
           "x": {
            "bdata": "Aw==",
            "dtype": "i1"
           },
           "xaxis": "x",
           "y": {
            "bdata": "UAg=",
            "dtype": "i2"
           },
           "yaxis": "y"
          },
          {
           "hovertemplate": "page2_clothing_model=A19<br>month=5<br>Main Category=%{x}<br>Total Price=%{y}<extra></extra>",
           "ids": {
            "bdata": "AQ==",
            "dtype": "i1"
           },
           "legendgroup": "A19",
           "marker": {
            "color": "#636efa",
            "pattern": {
             "shape": ""
            }
           },
           "name": "A19",
           "orientation": "v",
           "showlegend": true,
           "textposition": "auto",
           "type": "bar",
           "x": {
            "bdata": "AQ==",
            "dtype": "i1"
           },
           "xaxis": "x",
           "y": {
            "bdata": "zAk=",
            "dtype": "i2"
           },
           "yaxis": "y"
          },
          {
           "hovertemplate": "page2_clothing_model=P72<br>month=5<br>Main Category=%{x}<br>Total Price=%{y}<extra></extra>",
           "ids": {
            "bdata": "BA==",
            "dtype": "i1"
           },
           "legendgroup": "P72",
           "marker": {
            "color": "#EF553B",
            "pattern": {
             "shape": ""
            }
           },
           "name": "P72",
           "orientation": "v",
           "showlegend": true,
           "textposition": "auto",
           "type": "bar",
           "x": {
            "bdata": "BA==",
            "dtype": "i1"
           },
           "xaxis": "x",
           "y": {
            "bdata": "zQU=",
            "dtype": "i2"
           },
           "yaxis": "y"
          },
          {
           "hovertemplate": "page2_clothing_model=P51<br>month=5<br>Main Category=%{x}<br>Total Price=%{y}<extra></extra>",
           "ids": {
            "bdata": "BA==",
            "dtype": "i1"
           },
           "legendgroup": "P51",
           "marker": {
            "color": "#00cc96",
            "pattern": {
             "shape": ""
            }
           },
           "name": "P51",
           "orientation": "v",
           "showlegend": true,
           "textposition": "auto",
           "type": "bar",
           "x": {
            "bdata": "BA==",
            "dtype": "i1"
           },
           "xaxis": "x",
           "y": {
            "bdata": "9Ak=",
            "dtype": "i2"
           },
           "yaxis": "y"
          },
          {
           "hovertemplate": "page2_clothing_model=C31<br>month=5<br>Main Category=%{x}<br>Total Price=%{y}<extra></extra>",
           "ids": {
            "bdata": "Aw==",
            "dtype": "i1"
           },
           "legendgroup": "C31",
           "marker": {
            "color": "#ab63fa",
            "pattern": {
             "shape": ""
            }
           },
           "name": "C31",
           "orientation": "v",
           "showlegend": true,
           "textposition": "auto",
           "type": "bar",
           "x": {
            "bdata": "Aw==",
            "dtype": "i1"
           },
           "xaxis": "x",
           "y": {
            "bdata": "UAo=",
            "dtype": "i2"
           },
           "yaxis": "y"
          },
          {
           "hovertemplate": "page2_clothing_model=C51<br>month=5<br>Main Category=%{x}<br>Total Price=%{y}<extra></extra>",
           "ids": {
            "bdata": "Aw==",
            "dtype": "i1"
           },
           "legendgroup": "C51",
           "marker": {
            "color": "#FFA15A",
            "pattern": {
             "shape": ""
            }
           },
           "name": "C51",
           "orientation": "v",
           "showlegend": true,
           "textposition": "auto",
           "type": "bar",
           "x": {
            "bdata": "Aw==",
            "dtype": "i1"
           },
           "xaxis": "x",
           "y": {
            "bdata": "cAg=",
            "dtype": "i2"
           },
           "yaxis": "y"
          },
          {
           "hovertemplate": "page2_clothing_model=C32<br>month=5<br>Main Category=%{x}<br>Total Price=%{y}<extra></extra>",
           "ids": {
            "bdata": "Aw==",
            "dtype": "i1"
           },
           "legendgroup": "C32",
           "marker": {
            "color": "#19d3f3",
            "pattern": {
             "shape": ""
            }
           },
           "name": "C32",
           "orientation": "v",
           "showlegend": true,
           "textposition": "auto",
           "type": "bar",
           "x": {
            "bdata": "Aw==",
            "dtype": "i1"
           },
           "xaxis": "x",
           "y": {
            "bdata": "Lwo=",
            "dtype": "i2"
           },
           "yaxis": "y"
          },
          {
           "hovertemplate": "page2_clothing_model=P46<br>month=5<br>Main Category=%{x}<br>Total Price=%{y}<extra></extra>",
           "ids": {
            "bdata": "BA==",
            "dtype": "i1"
           },
           "legendgroup": "P46",
           "marker": {
            "color": "#FF6692",
            "pattern": {
             "shape": ""
            }
           },
           "name": "P46",
           "orientation": "v",
           "showlegend": true,
           "textposition": "auto",
           "type": "bar",
           "x": {
            "bdata": "BA==",
            "dtype": "i1"
           },
           "xaxis": "x",
           "y": {
            "bdata": "oAk=",
            "dtype": "i2"
           },
           "yaxis": "y"
          },
          {
           "hovertemplate": "page2_clothing_model=P38<br>month=5<br>Main Category=%{x}<br>Total Price=%{y}<extra></extra>",
           "ids": {
            "bdata": "BA==",
            "dtype": "i1"
           },
           "legendgroup": "P38",
           "marker": {
            "color": "#B6E880",
            "pattern": {
             "shape": ""
            }
           },
           "name": "P38",
           "orientation": "v",
           "showlegend": true,
           "textposition": "auto",
           "type": "bar",
           "x": {
            "bdata": "BA==",
            "dtype": "i1"
           },
           "xaxis": "x",
           "y": {
            "bdata": "gwQ=",
            "dtype": "i2"
           },
           "yaxis": "y"
          },
          {
           "hovertemplate": "page2_clothing_model=P47<br>month=5<br>Main Category=%{x}<br>Total Price=%{y}<extra></extra>",
           "ids": {
            "bdata": "BA==",
            "dtype": "i1"
           },
           "legendgroup": "P47",
           "marker": {
            "color": "#FF97FF",
            "pattern": {
             "shape": ""
            }
           },
           "name": "P47",
           "orientation": "v",
           "showlegend": true,
           "textposition": "auto",
           "type": "bar",
           "x": {
            "bdata": "BA==",
            "dtype": "i1"
           },
           "xaxis": "x",
           "y": {
            "bdata": "zAU=",
            "dtype": "i2"
           },
           "yaxis": "y"
          },
          {
           "hovertemplate": "page2_clothing_model=P71<br>month=5<br>Main Category=%{x}<br>Total Price=%{y}<extra></extra>",
           "ids": {
            "bdata": "BA==",
            "dtype": "i1"
           },
           "legendgroup": "P71",
           "marker": {
            "color": "#FECB52",
            "pattern": {
             "shape": ""
            }
           },
           "name": "P71",
           "orientation": "v",
           "showlegend": true,
           "textposition": "auto",
           "type": "bar",
           "x": {
            "bdata": "BA==",
            "dtype": "i1"
           },
           "xaxis": "x",
           "y": {
            "bdata": "OQM=",
            "dtype": "i2"
           },
           "yaxis": "y"
          },
          {
           "hovertemplate": "page2_clothing_model=P30<br>month=5<br>Main Category=%{x}<br>Total Price=%{y}<extra></extra>",
           "ids": {
            "bdata": "BA==",
            "dtype": "i1"
           },
           "legendgroup": "P30",
           "marker": {
            "color": "#636efa",
            "pattern": {
             "shape": ""
            }
           },
           "name": "P30",
           "orientation": "v",
           "showlegend": true,
           "textposition": "auto",
           "type": "bar",
           "x": {
            "bdata": "BA==",
            "dtype": "i1"
           },
           "xaxis": "x",
           "y": {
            "bdata": "pAQ=",
            "dtype": "i2"
           },
           "yaxis": "y"
          },
          {
           "hovertemplate": "page2_clothing_model=P74<br>month=5<br>Main Category=%{x}<br>Total Price=%{y}<extra></extra>",
           "ids": {
            "bdata": "BA==",
            "dtype": "i1"
           },
           "legendgroup": "P74",
           "marker": {
            "color": "#EF553B",
            "pattern": {
             "shape": ""
            }
           },
           "name": "P74",
           "orientation": "v",
           "showlegend": true,
           "textposition": "auto",
           "type": "bar",
           "x": {
            "bdata": "BA==",
            "dtype": "i1"
           },
           "xaxis": "x",
           "y": {
            "bdata": "QQQ=",
            "dtype": "i2"
           },
           "yaxis": "y"
          },
          {
           "hovertemplate": "page2_clothing_model=P63<br>month=5<br>Main Category=%{x}<br>Total Price=%{y}<extra></extra>",
           "ids": {
            "bdata": "BA==",
            "dtype": "i1"
           },
           "legendgroup": "P63",
           "marker": {
            "color": "#00cc96",
            "pattern": {
             "shape": ""
            }
           },
           "name": "P63",
           "orientation": "v",
           "showlegend": true,
           "textposition": "auto",
           "type": "bar",
           "x": {
            "bdata": "BA==",
            "dtype": "i1"
           },
           "xaxis": "x",
           "y": {
            "bdata": "IAY=",
            "dtype": "i2"
           },
           "yaxis": "y"
          },
          {
           "hovertemplate": "page2_clothing_model=P42<br>month=5<br>Main Category=%{x}<br>Total Price=%{y}<extra></extra>",
           "ids": {
            "bdata": "BA==",
            "dtype": "i1"
           },
           "legendgroup": "P42",
           "marker": {
            "color": "#ab63fa",
            "pattern": {
             "shape": ""
            }
           },
           "name": "P42",
           "orientation": "v",
           "showlegend": true,
           "textposition": "auto",
           "type": "bar",
           "x": {
            "bdata": "BA==",
            "dtype": "i1"
           },
           "xaxis": "x",
           "y": {
            "bdata": "QAU=",
            "dtype": "i2"
           },
           "yaxis": "y"
          },
          {
           "hovertemplate": "page2_clothing_model=P21<br>month=5<br>Main Category=%{x}<br>Total Price=%{y}<extra></extra>",
           "ids": {
            "bdata": "BA==",
            "dtype": "i1"
           },
           "legendgroup": "P21",
           "marker": {
            "color": "#FFA15A",
            "pattern": {
             "shape": ""
            }
           },
           "name": "P21",
           "orientation": "v",
           "showlegend": true,
           "textposition": "auto",
           "type": "bar",
           "x": {
            "bdata": "BA==",
            "dtype": "i1"
           },
           "xaxis": "x",
           "y": {
            "bdata": "mwc=",
            "dtype": "i2"
           },
           "yaxis": "y"
          },
          {
           "hovertemplate": "page2_clothing_model=P44<br>month=5<br>Main Category=%{x}<br>Total Price=%{y}<extra></extra>",
           "ids": {
            "bdata": "BA==",
            "dtype": "i1"
           },
           "legendgroup": "P44",
           "marker": {
            "color": "#19d3f3",
            "pattern": {
             "shape": ""
            }
           },
           "name": "P44",
           "orientation": "v",
           "showlegend": true,
           "textposition": "auto",
           "type": "bar",
           "x": {
            "bdata": "BA==",
            "dtype": "i1"
           },
           "xaxis": "x",
           "y": {
            "bdata": "lAU=",
            "dtype": "i2"
           },
           "yaxis": "y"
          },
          {
           "hovertemplate": "page2_clothing_model=P75<br>month=5<br>Main Category=%{x}<br>Total Price=%{y}<extra></extra>",
           "ids": {
            "bdata": "BA==",
            "dtype": "i1"
           },
           "legendgroup": "P75",
           "marker": {
            "color": "#FF6692",
            "pattern": {
             "shape": ""
            }
           },
           "name": "P75",
           "orientation": "v",
           "showlegend": true,
           "textposition": "auto",
           "type": "bar",
           "x": {
            "bdata": "BA==",
            "dtype": "i1"
           },
           "xaxis": "x",
           "y": {
            "bdata": "cwI=",
            "dtype": "i2"
           },
           "yaxis": "y"
          },
          {
           "hovertemplate": "page2_clothing_model=P27<br>month=5<br>Main Category=%{x}<br>Total Price=%{y}<extra></extra>",
           "ids": {
            "bdata": "BA==",
            "dtype": "i1"
           },
           "legendgroup": "P27",
           "marker": {
            "color": "#B6E880",
            "pattern": {
             "shape": ""
            }
           },
           "name": "P27",
           "orientation": "v",
           "showlegend": true,
           "textposition": "auto",
           "type": "bar",
           "x": {
            "bdata": "BA==",
            "dtype": "i1"
           },
           "xaxis": "x",
           "y": {
            "bdata": "EAI=",
            "dtype": "i2"
           },
           "yaxis": "y"
          },
          {
           "hovertemplate": "page2_clothing_model=C52<br>month=5<br>Main Category=%{x}<br>Total Price=%{y}<extra></extra>",
           "ids": {
            "bdata": "Aw==",
            "dtype": "i1"
           },
           "legendgroup": "C52",
           "marker": {
            "color": "#FF97FF",
            "pattern": {
             "shape": ""
            }
           },
           "name": "C52",
           "orientation": "v",
           "showlegend": true,
           "textposition": "auto",
           "type": "bar",
           "x": {
            "bdata": "Aw==",
            "dtype": "i1"
           },
           "xaxis": "x",
           "y": {
            "bdata": "wAQ=",
            "dtype": "i2"
           },
           "yaxis": "y"
          },
          {
           "hovertemplate": "page2_clothing_model=P73<br>month=5<br>Main Category=%{x}<br>Total Price=%{y}<extra></extra>",
           "ids": {
            "bdata": "BA==",
            "dtype": "i1"
           },
           "legendgroup": "P73",
           "marker": {
            "color": "#FECB52",
            "pattern": {
             "shape": ""
            }
           },
           "name": "P73",
           "orientation": "v",
           "showlegend": true,
           "textposition": "auto",
           "type": "bar",
           "x": {
            "bdata": "BA==",
            "dtype": "i1"
           },
           "xaxis": "x",
           "y": {
            "bdata": "WgM=",
            "dtype": "i2"
           },
           "yaxis": "y"
          },
          {
           "hovertemplate": "page2_clothing_model=P80<br>month=5<br>Main Category=%{x}<br>Total Price=%{y}<extra></extra>",
           "ids": {
            "bdata": "BA==",
            "dtype": "i1"
           },
           "legendgroup": "P80",
           "marker": {
            "color": "#636efa",
            "pattern": {
             "shape": ""
            }
           },
           "name": "P80",
           "orientation": "v",
           "showlegend": true,
           "textposition": "auto",
           "type": "bar",
           "x": {
            "bdata": "BA==",
            "dtype": "i1"
           },
           "xaxis": "x",
           "y": {
            "bdata": "nAM=",
            "dtype": "i2"
           },
           "yaxis": "y"
          },
          {
           "hovertemplate": "page2_clothing_model=P35<br>month=5<br>Main Category=%{x}<br>Total Price=%{y}<extra></extra>",
           "ids": {
            "bdata": "BA==",
            "dtype": "i1"
           },
           "legendgroup": "P35",
           "marker": {
            "color": "#EF553B",
            "pattern": {
             "shape": ""
            }
           },
           "name": "P35",
           "orientation": "v",
           "showlegend": true,
           "textposition": "auto",
           "type": "bar",
           "x": {
            "bdata": "BA==",
            "dtype": "i1"
           },
           "xaxis": "x",
           "y": {
            "bdata": "SAM=",
            "dtype": "i2"
           },
           "yaxis": "y"
          },
          {
           "hovertemplate": "page2_clothing_model=P52<br>month=5<br>Main Category=%{x}<br>Total Price=%{y}<extra></extra>",
           "ids": {
            "bdata": "BA==",
            "dtype": "i1"
           },
           "legendgroup": "P52",
           "marker": {
            "color": "#00cc96",
            "pattern": {
             "shape": ""
            }
           },
           "name": "P52",
           "orientation": "v",
           "showlegend": true,
           "textposition": "auto",
           "type": "bar",
           "x": {
            "bdata": "BA==",
            "dtype": "i1"
           },
           "xaxis": "x",
           "y": {
            "bdata": "FAE=",
            "dtype": "i2"
           },
           "yaxis": "y"
          },
          {
           "hovertemplate": "page2_clothing_model=C47<br>month=5<br>Main Category=%{x}<br>Total Price=%{y}<extra></extra>",
           "ids": {
            "bdata": "Aw==",
            "dtype": "i1"
           },
           "legendgroup": "C47",
           "marker": {
            "color": "#ab63fa",
            "pattern": {
             "shape": ""
            }
           },
           "name": "C47",
           "orientation": "v",
           "showlegend": true,
           "textposition": "auto",
           "type": "bar",
           "x": {
            "bdata": "Aw==",
            "dtype": "i1"
           },
           "xaxis": "x",
           "y": {
            "bdata": "BgM=",
            "dtype": "i2"
           },
           "yaxis": "y"
          },
          {
           "hovertemplate": "page2_clothing_model=P62<br>month=5<br>Main Category=%{x}<br>Total Price=%{y}<extra></extra>",
           "ids": {
            "bdata": "BA==",
            "dtype": "i1"
           },
           "legendgroup": "P62",
           "marker": {
            "color": "#FFA15A",
            "pattern": {
             "shape": ""
            }
           },
           "name": "P62",
           "orientation": "v",
           "showlegend": true,
           "textposition": "auto",
           "type": "bar",
           "x": {
            "bdata": "BA==",
            "dtype": "i1"
           },
           "xaxis": "x",
           "y": {
            "bdata": "1gI=",
            "dtype": "i2"
           },
           "yaxis": "y"
          },
          {
           "hovertemplate": "page2_clothing_model=P45<br>month=5<br>Main Category=%{x}<br>Total Price=%{y}<extra></extra>",
           "ids": {
            "bdata": "BA==",
            "dtype": "i1"
           },
           "legendgroup": "P45",
           "marker": {
            "color": "#19d3f3",
            "pattern": {
             "shape": ""
            }
           },
           "name": "P45",
           "orientation": "v",
           "showlegend": true,
           "textposition": "auto",
           "type": "bar",
           "x": {
            "bdata": "BA==",
            "dtype": "i1"
           },
           "xaxis": "x",
           "y": {
            "bdata": "tQI=",
            "dtype": "i2"
           },
           "yaxis": "y"
          },
          {
           "hovertemplate": "page2_clothing_model=C43<br>month=5<br>Main Category=%{x}<br>Total Price=%{y}<extra></extra>",
           "ids": {
            "bdata": "Aw==",
            "dtype": "i1"
           },
           "legendgroup": "C43",
           "marker": {
            "color": "#FF6692",
            "pattern": {
             "shape": ""
            }
           },
           "name": "C43",
           "orientation": "v",
           "showlegend": true,
           "textposition": "auto",
           "type": "bar",
           "x": {
            "bdata": "Aw==",
            "dtype": "i1"
           },
           "xaxis": "x",
           "y": {
            "bdata": "LAM=",
            "dtype": "i2"
           },
           "yaxis": "y"
          },
          {
           "hovertemplate": "page2_clothing_model=P64<br>month=5<br>Main Category=%{x}<br>Total Price=%{y}<extra></extra>",
           "ids": {
            "bdata": "BA==",
            "dtype": "i1"
           },
           "legendgroup": "P64",
           "marker": {
            "color": "#B6E880",
            "pattern": {
             "shape": ""
            }
           },
           "name": "P64",
           "orientation": "v",
           "showlegend": true,
           "textposition": "auto",
           "type": "bar",
           "x": {
            "bdata": "BA==",
            "dtype": "i1"
           },
           "xaxis": "x",
           "y": {
            "bdata": "oAI=",
            "dtype": "i2"
           },
           "yaxis": "y"
          },
          {
           "hovertemplate": "page2_clothing_model=P31<br>month=5<br>Main Category=%{x}<br>Total Price=%{y}<extra></extra>",
           "ids": {
            "bdata": "BA==",
            "dtype": "i1"
           },
           "legendgroup": "P31",
           "marker": {
            "color": "#FF97FF",
            "pattern": {
             "shape": ""
            }
           },
           "name": "P31",
           "orientation": "v",
           "showlegend": true,
           "textposition": "auto",
           "type": "bar",
           "x": {
            "bdata": "BA==",
            "dtype": "i1"
           },
           "xaxis": "x",
           "y": {
            "bdata": "SgE=",
            "dtype": "i2"
           },
           "yaxis": "y"
          }
         ],
         "name": "5"
        },
        {
         "data": [
          {
           "hovertemplate": "page2_clothing_model=A2<br>month=6<br>Main Category=%{x}<br>Total Price=%{y}<extra></extra>",
           "ids": {
            "bdata": "AQ==",
            "dtype": "i1"
           },
           "legendgroup": "A2",
           "marker": {
            "color": "#636efa",
            "pattern": {
             "shape": ""
            }
           },
           "name": "A2",
           "orientation": "v",
           "showlegend": true,
           "textposition": "auto",
           "type": "bar",
           "x": {
            "bdata": "AQ==",
            "dtype": "i1"
           },
           "xaxis": "x",
           "y": {
            "bdata": "Y0c=",
            "dtype": "i2"
           },
           "yaxis": "y"
          },
          {
           "hovertemplate": "page2_clothing_model=A4<br>month=6<br>Main Category=%{x}<br>Total Price=%{y}<extra></extra>",
           "ids": {
            "bdata": "AQ==",
            "dtype": "i1"
           },
           "legendgroup": "A4",
           "marker": {
            "color": "#EF553B",
            "pattern": {
             "shape": ""
            }
           },
           "name": "A4",
           "orientation": "v",
           "showlegend": true,
           "textposition": "auto",
           "type": "bar",
           "x": {
            "bdata": "AQ==",
            "dtype": "i1"
           },
           "xaxis": "x",
           "y": {
            "bdata": "UEE=",
            "dtype": "i2"
           },
           "yaxis": "y"
          },
          {
           "hovertemplate": "page2_clothing_model=A5<br>month=6<br>Main Category=%{x}<br>Total Price=%{y}<extra></extra>",
           "ids": {
            "bdata": "AQ==",
            "dtype": "i1"
           },
           "legendgroup": "A5",
           "marker": {
            "color": "#00cc96",
            "pattern": {
             "shape": ""
            }
           },
           "name": "A5",
           "orientation": "v",
           "showlegend": true,
           "textposition": "auto",
           "type": "bar",
           "x": {
            "bdata": "AQ==",
            "dtype": "i1"
           },
           "xaxis": "x",
           "y": {
            "bdata": "Qzc=",
            "dtype": "i2"
           },
           "yaxis": "y"
          },
          {
           "hovertemplate": "page2_clothing_model=A15<br>month=6<br>Main Category=%{x}<br>Total Price=%{y}<extra></extra>",
           "ids": {
            "bdata": "AQ==",
            "dtype": "i1"
           },
           "legendgroup": "A15",
           "marker": {
            "color": "#ab63fa",
            "pattern": {
             "shape": ""
            }
           },
           "name": "A15",
           "orientation": "v",
           "showlegend": true,
           "textposition": "auto",
           "type": "bar",
           "x": {
            "bdata": "AQ==",
            "dtype": "i1"
           },
           "xaxis": "x",
           "y": {
            "bdata": "uTQ=",
            "dtype": "i2"
           },
           "yaxis": "y"
          },
          {
           "hovertemplate": "page2_clothing_model=A10<br>month=6<br>Main Category=%{x}<br>Total Price=%{y}<extra></extra>",
           "ids": {
            "bdata": "AQ==",
            "dtype": "i1"
           },
           "legendgroup": "A10",
           "marker": {
            "color": "#FFA15A",
            "pattern": {
             "shape": ""
            }
           },
           "name": "A10",
           "orientation": "v",
           "showlegend": true,
           "textposition": "auto",
           "type": "bar",
           "x": {
            "bdata": "AQ==",
            "dtype": "i1"
           },
           "xaxis": "x",
           "y": {
            "bdata": "sDA=",
            "dtype": "i2"
           },
           "yaxis": "y"
          },
          {
           "hovertemplate": "page2_clothing_model=A6<br>month=6<br>Main Category=%{x}<br>Total Price=%{y}<extra></extra>",
           "ids": {
            "bdata": "AQ==",
            "dtype": "i1"
           },
           "legendgroup": "A6",
           "marker": {
            "color": "#19d3f3",
            "pattern": {
             "shape": ""
            }
           },
           "name": "A6",
           "orientation": "v",
           "showlegend": true,
           "textposition": "auto",
           "type": "bar",
           "x": {
            "bdata": "AQ==",
            "dtype": "i1"
           },
           "xaxis": "x",
           "y": {
            "bdata": "1ys=",
            "dtype": "i2"
           },
           "yaxis": "y"
          },
          {
           "hovertemplate": "page2_clothing_model=A12<br>month=6<br>Main Category=%{x}<br>Total Price=%{y}<extra></extra>",
           "ids": {
            "bdata": "AQ==",
            "dtype": "i1"
           },
           "legendgroup": "A12",
           "marker": {
            "color": "#FF6692",
            "pattern": {
             "shape": ""
            }
           },
           "name": "A12",
           "orientation": "v",
           "showlegend": true,
           "textposition": "auto",
           "type": "bar",
           "x": {
            "bdata": "AQ==",
            "dtype": "i1"
           },
           "xaxis": "x",
           "y": {
            "bdata": "5io=",
            "dtype": "i2"
           },
           "yaxis": "y"
          },
          {
           "hovertemplate": "page2_clothing_model=A7<br>month=6<br>Main Category=%{x}<br>Total Price=%{y}<extra></extra>",
           "ids": {
            "bdata": "AQ==",
            "dtype": "i1"
           },
           "legendgroup": "A7",
           "marker": {
            "color": "#B6E880",
            "pattern": {
             "shape": ""
            }
           },
           "name": "A7",
           "orientation": "v",
           "showlegend": true,
           "textposition": "auto",
           "type": "bar",
           "x": {
            "bdata": "AQ==",
            "dtype": "i1"
           },
           "xaxis": "x",
           "y": {
            "bdata": "niQ=",
            "dtype": "i2"
           },
           "yaxis": "y"
          },
          {
           "hovertemplate": "page2_clothing_model=A1<br>month=6<br>Main Category=%{x}<br>Total Price=%{y}<extra></extra>",
           "ids": {
            "bdata": "AQ==",
            "dtype": "i1"
           },
           "legendgroup": "A1",
           "marker": {
            "color": "#FF97FF",
            "pattern": {
             "shape": ""
            }
           },
           "name": "A1",
           "orientation": "v",
           "showlegend": true,
           "textposition": "auto",
           "type": "bar",
           "x": {
            "bdata": "AQ==",
            "dtype": "i1"
           },
           "xaxis": "x",
           "y": {
            "bdata": "NCQ=",
            "dtype": "i2"
           },
           "yaxis": "y"
          },
          {
           "hovertemplate": "page2_clothing_model=B11<br>month=6<br>Main Category=%{x}<br>Total Price=%{y}<extra></extra>",
           "ids": {
            "bdata": "Ag==",
            "dtype": "i1"
           },
           "legendgroup": "B11",
           "marker": {
            "color": "#FECB52",
            "pattern": {
             "shape": ""
            }
           },
           "name": "B11",
           "orientation": "v",
           "showlegend": true,
           "textposition": "auto",
           "type": "bar",
           "x": {
            "bdata": "Ag==",
            "dtype": "i1"
           },
           "xaxis": "x",
           "y": {
            "bdata": "3S4=",
            "dtype": "i2"
           },
           "yaxis": "y"
          },
          {
           "hovertemplate": "page2_clothing_model=B15<br>month=6<br>Main Category=%{x}<br>Total Price=%{y}<extra></extra>",
           "ids": {
            "bdata": "Ag==",
            "dtype": "i1"
           },
           "legendgroup": "B15",
           "marker": {
            "color": "#636efa",
            "pattern": {
             "shape": ""
            }
           },
           "name": "B15",
           "orientation": "v",
           "showlegend": true,
           "textposition": "auto",
           "type": "bar",
           "x": {
            "bdata": "Ag==",
            "dtype": "i1"
           },
           "xaxis": "x",
           "y": {
            "bdata": "tik=",
            "dtype": "i2"
           },
           "yaxis": "y"
          },
          {
           "hovertemplate": "page2_clothing_model=B32<br>month=6<br>Main Category=%{x}<br>Total Price=%{y}<extra></extra>",
           "ids": {
            "bdata": "Ag==",
            "dtype": "i1"
           },
           "legendgroup": "B32",
           "marker": {
            "color": "#EF553B",
            "pattern": {
             "shape": ""
            }
           },
           "name": "B32",
           "orientation": "v",
           "showlegend": true,
           "textposition": "auto",
           "type": "bar",
           "x": {
            "bdata": "Ag==",
            "dtype": "i1"
           },
           "xaxis": "x",
           "y": {
            "bdata": "HCU=",
            "dtype": "i2"
           },
           "yaxis": "y"
          },
          {
           "hovertemplate": "page2_clothing_model=P16<br>month=6<br>Main Category=%{x}<br>Total Price=%{y}<extra></extra>",
           "ids": {
            "bdata": "BA==",
            "dtype": "i1"
           },
           "legendgroup": "P16",
           "marker": {
            "color": "#00cc96",
            "pattern": {
             "shape": ""
            }
           },
           "name": "P16",
           "orientation": "v",
           "showlegend": true,
           "textposition": "auto",
           "type": "bar",
           "x": {
            "bdata": "BA==",
            "dtype": "i1"
           },
           "xaxis": "x",
           "y": {
            "bdata": "pCU=",
            "dtype": "i2"
           },
           "yaxis": "y"
          },
          {
           "hovertemplate": "page2_clothing_model=B23<br>month=6<br>Main Category=%{x}<br>Total Price=%{y}<extra></extra>",
           "ids": {
            "bdata": "Ag==",
            "dtype": "i1"
           },
           "legendgroup": "B23",
           "marker": {
            "color": "#ab63fa",
            "pattern": {
             "shape": ""
            }
           },
           "name": "B23",
           "orientation": "v",
           "showlegend": true,
           "textposition": "auto",
           "type": "bar",
           "x": {
            "bdata": "Ag==",
            "dtype": "i1"
           },
           "xaxis": "x",
           "y": {
            "bdata": "qiQ=",
            "dtype": "i2"
           },
           "yaxis": "y"
          },
          {
           "hovertemplate": "page2_clothing_model=B17<br>month=6<br>Main Category=%{x}<br>Total Price=%{y}<extra></extra>",
           "ids": {
            "bdata": "Ag==",
            "dtype": "i1"
           },
           "legendgroup": "B17",
           "marker": {
            "color": "#FFA15A",
            "pattern": {
             "shape": ""
            }
           },
           "name": "B17",
           "orientation": "v",
           "showlegend": true,
           "textposition": "auto",
           "type": "bar",
           "x": {
            "bdata": "Ag==",
            "dtype": "i1"
           },
           "xaxis": "x",
           "y": {
            "bdata": "Mis=",
            "dtype": "i2"
           },
           "yaxis": "y"
          },
          {
           "hovertemplate": "page2_clothing_model=B12<br>month=6<br>Main Category=%{x}<br>Total Price=%{y}<extra></extra>",
           "ids": {
            "bdata": "Ag==",
            "dtype": "i1"
           },
           "legendgroup": "B12",
           "marker": {
            "color": "#19d3f3",
            "pattern": {
             "shape": ""
            }
           },
           "name": "B12",
           "orientation": "v",
           "showlegend": true,
           "textposition": "auto",
           "type": "bar",
           "x": {
            "bdata": "Ag==",
            "dtype": "i1"
           },
           "xaxis": "x",
           "y": {
            "bdata": "jCE=",
            "dtype": "i2"
           },
           "yaxis": "y"
          },
          {
           "hovertemplate": "page2_clothing_model=A16<br>month=6<br>Main Category=%{x}<br>Total Price=%{y}<extra></extra>",
           "ids": {
            "bdata": "AQ==",
            "dtype": "i1"
           },
           "legendgroup": "A16",
           "marker": {
            "color": "#FF6692",
            "pattern": {
             "shape": ""
            }
           },
           "name": "A16",
           "orientation": "v",
           "showlegend": true,
           "textposition": "auto",
           "type": "bar",
           "x": {
            "bdata": "AQ==",
            "dtype": "i1"
           },
           "xaxis": "x",
           "y": {
            "bdata": "Ih0=",
            "dtype": "i2"
           },
           "yaxis": "y"
          },
          {
           "hovertemplate": "page2_clothing_model=B9<br>month=6<br>Main Category=%{x}<br>Total Price=%{y}<extra></extra>",
           "ids": {
            "bdata": "Ag==",
            "dtype": "i1"
           },
           "legendgroup": "B9",
           "marker": {
            "color": "#B6E880",
            "pattern": {
             "shape": ""
            }
           },
           "name": "B9",
           "orientation": "v",
           "showlegend": true,
           "textposition": "auto",
           "type": "bar",
           "x": {
            "bdata": "Ag==",
            "dtype": "i1"
           },
           "xaxis": "x",
           "y": {
            "bdata": "IB8=",
            "dtype": "i2"
           },
           "yaxis": "y"
          },
          {
           "hovertemplate": "page2_clothing_model=A13<br>month=6<br>Main Category=%{x}<br>Total Price=%{y}<extra></extra>",
           "ids": {
            "bdata": "AQ==",
            "dtype": "i1"
           },
           "legendgroup": "A13",
           "marker": {
            "color": "#FF97FF",
            "pattern": {
             "shape": ""
            }
           },
           "name": "A13",
           "orientation": "v",
           "showlegend": true,
           "textposition": "auto",
           "type": "bar",
           "x": {
            "bdata": "AQ==",
            "dtype": "i1"
           },
           "xaxis": "x",
           "y": {
            "bdata": "0Bk=",
            "dtype": "i2"
           },
           "yaxis": "y"
          },
          {
           "hovertemplate": "page2_clothing_model=B19<br>month=6<br>Main Category=%{x}<br>Total Price=%{y}<extra></extra>",
           "ids": {
            "bdata": "Ag==",
            "dtype": "i1"
           },
           "legendgroup": "B19",
           "marker": {
            "color": "#FECB52",
            "pattern": {
             "shape": ""
            }
           },
           "name": "B19",
           "orientation": "v",
           "showlegend": true,
           "textposition": "auto",
           "type": "bar",
           "x": {
            "bdata": "Ag==",
            "dtype": "i1"
           },
           "xaxis": "x",
           "y": {
            "bdata": "Whw=",
            "dtype": "i2"
           },
           "yaxis": "y"
          },
          {
           "hovertemplate": "page2_clothing_model=A33<br>month=6<br>Main Category=%{x}<br>Total Price=%{y}<extra></extra>",
           "ids": {
            "bdata": "AQ==",
            "dtype": "i1"
           },
           "legendgroup": "A33",
           "marker": {
            "color": "#636efa",
            "pattern": {
             "shape": ""
            }
           },
           "name": "A33",
           "orientation": "v",
           "showlegend": true,
           "textposition": "auto",
           "type": "bar",
           "x": {
            "bdata": "AQ==",
            "dtype": "i1"
           },
           "xaxis": "x",
           "y": {
            "bdata": "tBI=",
            "dtype": "i2"
           },
           "yaxis": "y"
          },
          {
           "hovertemplate": "page2_clothing_model=P12<br>month=6<br>Main Category=%{x}<br>Total Price=%{y}<extra></extra>",
           "ids": {
            "bdata": "BA==",
            "dtype": "i1"
           },
           "legendgroup": "P12",
           "marker": {
            "color": "#EF553B",
            "pattern": {
             "shape": ""
            }
           },
           "name": "P12",
           "orientation": "v",
           "showlegend": true,
           "textposition": "auto",
           "type": "bar",
           "x": {
            "bdata": "BA==",
            "dtype": "i1"
           },
           "xaxis": "x",
           "y": {
            "bdata": "NRM=",
            "dtype": "i2"
           },
           "yaxis": "y"
          },
          {
           "hovertemplate": "page2_clothing_model=A41<br>month=6<br>Main Category=%{x}<br>Total Price=%{y}<extra></extra>",
           "ids": {
            "bdata": "AQ==",
            "dtype": "i1"
           },
           "legendgroup": "A41",
           "marker": {
            "color": "#00cc96",
            "pattern": {
             "shape": ""
            }
           },
           "name": "A41",
           "orientation": "v",
           "showlegend": true,
           "textposition": "auto",
           "type": "bar",
           "x": {
            "bdata": "AQ==",
            "dtype": "i1"
           },
           "xaxis": "x",
           "y": {
            "bdata": "VxY=",
            "dtype": "i2"
           },
           "yaxis": "y"
          },
          {
           "hovertemplate": "page2_clothing_model=C1<br>month=6<br>Main Category=%{x}<br>Total Price=%{y}<extra></extra>",
           "ids": {
            "bdata": "Aw==",
            "dtype": "i1"
           },
           "legendgroup": "C1",
           "marker": {
            "color": "#ab63fa",
            "pattern": {
             "shape": ""
            }
           },
           "name": "C1",
           "orientation": "v",
           "showlegend": true,
           "textposition": "auto",
           "type": "bar",
           "x": {
            "bdata": "Aw==",
            "dtype": "i1"
           },
           "xaxis": "x",
           "y": {
            "bdata": "5BQ=",
            "dtype": "i2"
           },
           "yaxis": "y"
          },
          {
           "hovertemplate": "page2_clothing_model=A18<br>month=6<br>Main Category=%{x}<br>Total Price=%{y}<extra></extra>",
           "ids": {
            "bdata": "AQ==",
            "dtype": "i1"
           },
           "legendgroup": "A18",
           "marker": {
            "color": "#FFA15A",
            "pattern": {
             "shape": ""
            }
           },
           "name": "A18",
           "orientation": "v",
           "showlegend": true,
           "textposition": "auto",
           "type": "bar",
           "x": {
            "bdata": "AQ==",
            "dtype": "i1"
           },
           "xaxis": "x",
           "y": {
            "bdata": "vhM=",
            "dtype": "i2"
           },
           "yaxis": "y"
          },
          {
           "hovertemplate": "page2_clothing_model=B34<br>month=6<br>Main Category=%{x}<br>Total Price=%{y}<extra></extra>",
           "ids": {
            "bdata": "Ag==",
            "dtype": "i1"
           },
           "legendgroup": "B34",
           "marker": {
            "color": "#19d3f3",
            "pattern": {
             "shape": ""
            }
           },
           "name": "B34",
           "orientation": "v",
           "showlegend": true,
           "textposition": "auto",
           "type": "bar",
           "x": {
            "bdata": "Ag==",
            "dtype": "i1"
           },
           "xaxis": "x",
           "y": {
            "bdata": "wBI=",
            "dtype": "i2"
           },
           "yaxis": "y"
          },
          {
           "hovertemplate": "page2_clothing_model=A30<br>month=6<br>Main Category=%{x}<br>Total Price=%{y}<extra></extra>",
           "ids": {
            "bdata": "AQ==",
            "dtype": "i1"
           },
           "legendgroup": "A30",
           "marker": {
            "color": "#FF6692",
            "pattern": {
             "shape": ""
            }
           },
           "name": "A30",
           "orientation": "v",
           "showlegend": true,
           "textposition": "auto",
           "type": "bar",
           "x": {
            "bdata": "AQ==",
            "dtype": "i1"
           },
           "xaxis": "x",
           "y": {
            "bdata": "2A4=",
            "dtype": "i2"
           },
           "yaxis": "y"
          },
          {
           "hovertemplate": "page2_clothing_model=C40<br>month=6<br>Main Category=%{x}<br>Total Price=%{y}<extra></extra>",
           "ids": {
            "bdata": "Aw==",
            "dtype": "i1"
           },
           "legendgroup": "C40",
           "marker": {
            "color": "#B6E880",
            "pattern": {
             "shape": ""
            }
           },
           "name": "C40",
           "orientation": "v",
           "showlegend": true,
           "textposition": "auto",
           "type": "bar",
           "x": {
            "bdata": "Aw==",
            "dtype": "i1"
           },
           "xaxis": "x",
           "y": {
            "bdata": "NA8=",
            "dtype": "i2"
           },
           "yaxis": "y"
          },
          {
           "hovertemplate": "page2_clothing_model=P48<br>month=6<br>Main Category=%{x}<br>Total Price=%{y}<extra></extra>",
           "ids": {
            "bdata": "BA==",
            "dtype": "i1"
           },
           "legendgroup": "P48",
           "marker": {
            "color": "#FF97FF",
            "pattern": {
             "shape": ""
            }
           },
           "name": "P48",
           "orientation": "v",
           "showlegend": true,
           "textposition": "auto",
           "type": "bar",
           "x": {
            "bdata": "BA==",
            "dtype": "i1"
           },
           "xaxis": "x",
           "y": {
            "bdata": "sRI=",
            "dtype": "i2"
           },
           "yaxis": "y"
          },
          {
           "hovertemplate": "page2_clothing_model=C14<br>month=6<br>Main Category=%{x}<br>Total Price=%{y}<extra></extra>",
           "ids": {
            "bdata": "Aw==",
            "dtype": "i1"
           },
           "legendgroup": "C14",
           "marker": {
            "color": "#FECB52",
            "pattern": {
             "shape": ""
            }
           },
           "name": "C14",
           "orientation": "v",
           "showlegend": true,
           "textposition": "auto",
           "type": "bar",
           "x": {
            "bdata": "Aw==",
            "dtype": "i1"
           },
           "xaxis": "x",
           "y": {
            "bdata": "hRE=",
            "dtype": "i2"
           },
           "yaxis": "y"
          },
          {
           "hovertemplate": "page2_clothing_model=P2<br>month=6<br>Main Category=%{x}<br>Total Price=%{y}<extra></extra>",
           "ids": {
            "bdata": "BA==",
            "dtype": "i1"
           },
           "legendgroup": "P2",
           "marker": {
            "color": "#636efa",
            "pattern": {
             "shape": ""
            }
           },
           "name": "P2",
           "orientation": "v",
           "showlegend": true,
           "textposition": "auto",
           "type": "bar",
           "x": {
            "bdata": "BA==",
            "dtype": "i1"
           },
           "xaxis": "x",
           "y": {
            "bdata": "WA0=",
            "dtype": "i2"
           },
           "yaxis": "y"
          },
          {
           "hovertemplate": "page2_clothing_model=A32<br>month=6<br>Main Category=%{x}<br>Total Price=%{y}<extra></extra>",
           "ids": {
            "bdata": "AQ==",
            "dtype": "i1"
           },
           "legendgroup": "A32",
           "marker": {
            "color": "#EF553B",
            "pattern": {
             "shape": ""
            }
           },
           "name": "A32",
           "orientation": "v",
           "showlegend": true,
           "textposition": "auto",
           "type": "bar",
           "x": {
            "bdata": "AQ==",
            "dtype": "i1"
           },
           "xaxis": "x",
           "y": {
            "bdata": "4As=",
            "dtype": "i2"
           },
           "yaxis": "y"
          },
          {
           "hovertemplate": "page2_clothing_model=C6<br>month=6<br>Main Category=%{x}<br>Total Price=%{y}<extra></extra>",
           "ids": {
            "bdata": "Aw==",
            "dtype": "i1"
           },
           "legendgroup": "C6",
           "marker": {
            "color": "#00cc96",
            "pattern": {
             "shape": ""
            }
           },
           "name": "C6",
           "orientation": "v",
           "showlegend": true,
           "textposition": "auto",
           "type": "bar",
           "x": {
            "bdata": "Aw==",
            "dtype": "i1"
           },
           "xaxis": "x",
           "y": {
            "bdata": "XxA=",
            "dtype": "i2"
           },
           "yaxis": "y"
          },
          {
           "hovertemplate": "page2_clothing_model=C53<br>month=6<br>Main Category=%{x}<br>Total Price=%{y}<extra></extra>",
           "ids": {
            "bdata": "Aw==",
            "dtype": "i1"
           },
           "legendgroup": "C53",
           "marker": {
            "color": "#ab63fa",
            "pattern": {
             "shape": ""
            }
           },
           "name": "C53",
           "orientation": "v",
           "showlegend": true,
           "textposition": "auto",
           "type": "bar",
           "x": {
            "bdata": "Aw==",
            "dtype": "i1"
           },
           "xaxis": "x",
           "y": {
            "bdata": "VBA=",
            "dtype": "i2"
           },
           "yaxis": "y"
          },
          {
           "hovertemplate": "page2_clothing_model=C57<br>month=6<br>Main Category=%{x}<br>Total Price=%{y}<extra></extra>",
           "ids": {
            "bdata": "Aw==",
            "dtype": "i1"
           },
           "legendgroup": "C57",
           "marker": {
            "color": "#FFA15A",
            "pattern": {
             "shape": ""
            }
           },
           "name": "C57",
           "orientation": "v",
           "showlegend": true,
           "textposition": "auto",
           "type": "bar",
           "x": {
            "bdata": "Aw==",
            "dtype": "i1"
           },
           "xaxis": "x",
           "y": {
            "bdata": "yw0=",
            "dtype": "i2"
           },
           "yaxis": "y"
          },
          {
           "hovertemplate": "page2_clothing_model=C11<br>month=6<br>Main Category=%{x}<br>Total Price=%{y}<extra></extra>",
           "ids": {
            "bdata": "Aw==",
            "dtype": "i1"
           },
           "legendgroup": "C11",
           "marker": {
            "color": "#19d3f3",
            "pattern": {
             "shape": ""
            }
           },
           "name": "C11",
           "orientation": "v",
           "showlegend": true,
           "textposition": "auto",
           "type": "bar",
           "x": {
            "bdata": "Aw==",
            "dtype": "i1"
           },
           "xaxis": "x",
           "y": {
            "bdata": "yRU=",
            "dtype": "i2"
           },
           "yaxis": "y"
          },
          {
           "hovertemplate": "page2_clothing_model=B25<br>month=6<br>Main Category=%{x}<br>Total Price=%{y}<extra></extra>",
           "ids": {
            "bdata": "Ag==",
            "dtype": "i1"
           },
           "legendgroup": "B25",
           "marker": {
            "color": "#FF6692",
            "pattern": {
             "shape": ""
            }
           },
           "name": "B25",
           "orientation": "v",
           "showlegend": true,
           "textposition": "auto",
           "type": "bar",
           "x": {
            "bdata": "Ag==",
            "dtype": "i1"
           },
           "xaxis": "x",
           "y": {
            "bdata": "hBE=",
            "dtype": "i2"
           },
           "yaxis": "y"
          },
          {
           "hovertemplate": "page2_clothing_model=A28<br>month=6<br>Main Category=%{x}<br>Total Price=%{y}<extra></extra>",
           "ids": {
            "bdata": "AQ==",
            "dtype": "i1"
           },
           "legendgroup": "A28",
           "marker": {
            "color": "#B6E880",
            "pattern": {
             "shape": ""
            }
           },
           "name": "A28",
           "orientation": "v",
           "showlegend": true,
           "textposition": "auto",
           "type": "bar",
           "x": {
            "bdata": "AQ==",
            "dtype": "i1"
           },
           "xaxis": "x",
           "y": {
            "bdata": "9Q8=",
            "dtype": "i2"
           },
           "yaxis": "y"
          },
          {
           "hovertemplate": "page2_clothing_model=A20<br>month=6<br>Main Category=%{x}<br>Total Price=%{y}<extra></extra>",
           "ids": {
            "bdata": "AQ==",
            "dtype": "i1"
           },
           "legendgroup": "A20",
           "marker": {
            "color": "#FF97FF",
            "pattern": {
             "shape": ""
            }
           },
           "name": "A20",
           "orientation": "v",
           "showlegend": true,
           "textposition": "auto",
           "type": "bar",
           "x": {
            "bdata": "AQ==",
            "dtype": "i1"
           },
           "xaxis": "x",
           "y": {
            "bdata": "GAo=",
            "dtype": "i2"
           },
           "yaxis": "y"
          },
          {
           "hovertemplate": "page2_clothing_model=P23<br>month=6<br>Main Category=%{x}<br>Total Price=%{y}<extra></extra>",
           "ids": {
            "bdata": "BA==",
            "dtype": "i1"
           },
           "legendgroup": "P23",
           "marker": {
            "color": "#FECB52",
            "pattern": {
             "shape": ""
            }
           },
           "name": "P23",
           "orientation": "v",
           "showlegend": true,
           "textposition": "auto",
           "type": "bar",
           "x": {
            "bdata": "BA==",
            "dtype": "i1"
           },
           "xaxis": "x",
           "y": {
            "bdata": "YAs=",
            "dtype": "i2"
           },
           "yaxis": "y"
          },
          {
           "hovertemplate": "page2_clothing_model=A34<br>month=6<br>Main Category=%{x}<br>Total Price=%{y}<extra></extra>",
           "ids": {
            "bdata": "AQ==",
            "dtype": "i1"
           },
           "legendgroup": "A34",
           "marker": {
            "color": "#636efa",
            "pattern": {
             "shape": ""
            }
           },
           "name": "A34",
           "orientation": "v",
           "showlegend": true,
           "textposition": "auto",
           "type": "bar",
           "x": {
            "bdata": "AQ==",
            "dtype": "i1"
           },
           "xaxis": "x",
           "y": {
            "bdata": "lAs=",
            "dtype": "i2"
           },
           "yaxis": "y"
          },
          {
           "hovertemplate": "page2_clothing_model=C41<br>month=6<br>Main Category=%{x}<br>Total Price=%{y}<extra></extra>",
           "ids": {
            "bdata": "Aw==",
            "dtype": "i1"
           },
           "legendgroup": "C41",
           "marker": {
            "color": "#EF553B",
            "pattern": {
             "shape": ""
            }
           },
           "name": "C41",
           "orientation": "v",
           "showlegend": true,
           "textposition": "auto",
           "type": "bar",
           "x": {
            "bdata": "Aw==",
            "dtype": "i1"
           },
           "xaxis": "x",
           "y": {
            "bdata": "rA0=",
            "dtype": "i2"
           },
           "yaxis": "y"
          },
          {
           "hovertemplate": "page2_clothing_model=P49<br>month=6<br>Main Category=%{x}<br>Total Price=%{y}<extra></extra>",
           "ids": {
            "bdata": "BA==",
            "dtype": "i1"
           },
           "legendgroup": "P49",
           "marker": {
            "color": "#00cc96",
            "pattern": {
             "shape": ""
            }
           },
           "name": "P49",
           "orientation": "v",
           "showlegend": true,
           "textposition": "auto",
           "type": "bar",
           "x": {
            "bdata": "BA==",
            "dtype": "i1"
           },
           "xaxis": "x",
           "y": {
            "bdata": "mQ8=",
            "dtype": "i2"
           },
           "yaxis": "y"
          },
          {
           "hovertemplate": "page2_clothing_model=C49<br>month=6<br>Main Category=%{x}<br>Total Price=%{y}<extra></extra>",
           "ids": {
            "bdata": "Aw==",
            "dtype": "i1"
           },
           "legendgroup": "C49",
           "marker": {
            "color": "#ab63fa",
            "pattern": {
             "shape": ""
            }
           },
           "name": "C49",
           "orientation": "v",
           "showlegend": true,
           "textposition": "auto",
           "type": "bar",
           "x": {
            "bdata": "Aw==",
            "dtype": "i1"
           },
           "xaxis": "x",
           "y": {
            "bdata": "AA0=",
            "dtype": "i2"
           },
           "yaxis": "y"
          },
          {
           "hovertemplate": "page2_clothing_model=C30<br>month=6<br>Main Category=%{x}<br>Total Price=%{y}<extra></extra>",
           "ids": {
            "bdata": "Aw==",
            "dtype": "i1"
           },
           "legendgroup": "C30",
           "marker": {
            "color": "#FFA15A",
            "pattern": {
             "shape": ""
            }
           },
           "name": "C30",
           "orientation": "v",
           "showlegend": true,
           "textposition": "auto",
           "type": "bar",
           "x": {
            "bdata": "Aw==",
            "dtype": "i1"
           },
           "xaxis": "x",
           "y": {
            "bdata": "wAg=",
            "dtype": "i2"
           },
           "yaxis": "y"
          },
          {
           "hovertemplate": "page2_clothing_model=C10<br>month=6<br>Main Category=%{x}<br>Total Price=%{y}<extra></extra>",
           "ids": {
            "bdata": "Aw==",
            "dtype": "i1"
           },
           "legendgroup": "C10",
           "marker": {
            "color": "#19d3f3",
            "pattern": {
             "shape": ""
            }
           },
           "name": "C10",
           "orientation": "v",
           "showlegend": true,
           "textposition": "auto",
           "type": "bar",
           "x": {
            "bdata": "Aw==",
            "dtype": "i1"
           },
           "xaxis": "x",
           "y": {
            "bdata": "gAo=",
            "dtype": "i2"
           },
           "yaxis": "y"
          },
          {
           "hovertemplate": "page2_clothing_model=P50<br>month=6<br>Main Category=%{x}<br>Total Price=%{y}<extra></extra>",
           "ids": {
            "bdata": "BA==",
            "dtype": "i1"
           },
           "legendgroup": "P50",
           "marker": {
            "color": "#FF6692",
            "pattern": {
             "shape": ""
            }
           },
           "name": "P50",
           "orientation": "v",
           "showlegend": true,
           "textposition": "auto",
           "type": "bar",
           "x": {
            "bdata": "BA==",
            "dtype": "i1"
           },
           "xaxis": "x",
           "y": {
            "bdata": "kgo=",
            "dtype": "i2"
           },
           "yaxis": "y"
          },
          {
           "hovertemplate": "page2_clothing_model=A42<br>month=6<br>Main Category=%{x}<br>Total Price=%{y}<extra></extra>",
           "ids": {
            "bdata": "AQ==",
            "dtype": "i1"
           },
           "legendgroup": "A42",
           "marker": {
            "color": "#B6E880",
            "pattern": {
             "shape": ""
            }
           },
           "name": "A42",
           "orientation": "v",
           "showlegend": true,
           "textposition": "auto",
           "type": "bar",
           "x": {
            "bdata": "AQ==",
            "dtype": "i1"
           },
           "xaxis": "x",
           "y": {
            "bdata": "ZAo=",
            "dtype": "i2"
           },
           "yaxis": "y"
          },
          {
           "hovertemplate": "page2_clothing_model=P5<br>month=6<br>Main Category=%{x}<br>Total Price=%{y}<extra></extra>",
           "ids": {
            "bdata": "BA==",
            "dtype": "i1"
           },
           "legendgroup": "P5",
           "marker": {
            "color": "#FF97FF",
            "pattern": {
             "shape": ""
            }
           },
           "name": "P5",
           "orientation": "v",
           "showlegend": true,
           "textposition": "auto",
           "type": "bar",
           "x": {
            "bdata": "BA==",
            "dtype": "i1"
           },
           "xaxis": "x",
           "y": {
            "bdata": "Ugs=",
            "dtype": "i2"
           },
           "yaxis": "y"
          },
          {
           "hovertemplate": "page2_clothing_model=P8<br>month=6<br>Main Category=%{x}<br>Total Price=%{y}<extra></extra>",
           "ids": {
            "bdata": "BA==",
            "dtype": "i1"
           },
           "legendgroup": "P8",
           "marker": {
            "color": "#FECB52",
            "pattern": {
             "shape": ""
            }
           },
           "name": "P8",
           "orientation": "v",
           "showlegend": true,
           "textposition": "auto",
           "type": "bar",
           "x": {
            "bdata": "BA==",
            "dtype": "i1"
           },
           "xaxis": "x",
           "y": {
            "bdata": "nAo=",
            "dtype": "i2"
           },
           "yaxis": "y"
          },
          {
           "hovertemplate": "page2_clothing_model=A26<br>month=6<br>Main Category=%{x}<br>Total Price=%{y}<extra></extra>",
           "ids": {
            "bdata": "AQ==",
            "dtype": "i1"
           },
           "legendgroup": "A26",
           "marker": {
            "color": "#636efa",
            "pattern": {
             "shape": ""
            }
           },
           "name": "A26",
           "orientation": "v",
           "showlegend": true,
           "textposition": "auto",
           "type": "bar",
           "x": {
            "bdata": "AQ==",
            "dtype": "i1"
           },
           "xaxis": "x",
           "y": {
            "bdata": "9A0=",
            "dtype": "i2"
           },
           "yaxis": "y"
          },
          {
           "hovertemplate": "page2_clothing_model=P60<br>month=6<br>Main Category=%{x}<br>Total Price=%{y}<extra></extra>",
           "ids": {
            "bdata": "BA==",
            "dtype": "i1"
           },
           "legendgroup": "P60",
           "marker": {
            "color": "#EF553B",
            "pattern": {
             "shape": ""
            }
           },
           "name": "P60",
           "orientation": "v",
           "showlegend": true,
           "textposition": "auto",
           "type": "bar",
           "x": {
            "bdata": "BA==",
            "dtype": "i1"
           },
           "xaxis": "x",
           "y": {
            "bdata": "NAg=",
            "dtype": "i2"
           },
           "yaxis": "y"
          },
          {
           "hovertemplate": "page2_clothing_model=B7<br>month=6<br>Main Category=%{x}<br>Total Price=%{y}<extra></extra>",
           "ids": {
            "bdata": "Ag==",
            "dtype": "i1"
           },
           "legendgroup": "B7",
           "marker": {
            "color": "#00cc96",
            "pattern": {
             "shape": ""
            }
           },
           "name": "B7",
           "orientation": "v",
           "showlegend": true,
           "textposition": "auto",
           "type": "bar",
           "x": {
            "bdata": "Ag==",
            "dtype": "i1"
           },
           "xaxis": "x",
           "y": {
            "bdata": "igo=",
            "dtype": "i2"
           },
           "yaxis": "y"
          },
          {
           "hovertemplate": "page2_clothing_model=B28<br>month=6<br>Main Category=%{x}<br>Total Price=%{y}<extra></extra>",
           "ids": {
            "bdata": "Ag==",
            "dtype": "i1"
           },
           "legendgroup": "B28",
           "marker": {
            "color": "#ab63fa",
            "pattern": {
             "shape": ""
            }
           },
           "name": "B28",
           "orientation": "v",
           "showlegend": true,
           "textposition": "auto",
           "type": "bar",
           "x": {
            "bdata": "Ag==",
            "dtype": "i1"
           },
           "xaxis": "x",
           "y": {
            "bdata": "9A0=",
            "dtype": "i2"
           },
           "yaxis": "y"
          },
          {
           "hovertemplate": "page2_clothing_model=C16<br>month=6<br>Main Category=%{x}<br>Total Price=%{y}<extra></extra>",
           "ids": {
            "bdata": "Aw==",
            "dtype": "i1"
           },
           "legendgroup": "C16",
           "marker": {
            "color": "#FFA15A",
            "pattern": {
             "shape": ""
            }
           },
           "name": "C16",
           "orientation": "v",
           "showlegend": true,
           "textposition": "auto",
           "type": "bar",
           "x": {
            "bdata": "Aw==",
            "dtype": "i1"
           },
           "xaxis": "x",
           "y": {
            "bdata": "QAw=",
            "dtype": "i2"
           },
           "yaxis": "y"
          },
          {
           "hovertemplate": "page2_clothing_model=P55<br>month=6<br>Main Category=%{x}<br>Total Price=%{y}<extra></extra>",
           "ids": {
            "bdata": "BA==",
            "dtype": "i1"
           },
           "legendgroup": "P55",
           "marker": {
            "color": "#19d3f3",
            "pattern": {
             "shape": ""
            }
           },
           "name": "P55",
           "orientation": "v",
           "showlegend": true,
           "textposition": "auto",
           "type": "bar",
           "x": {
            "bdata": "BA==",
            "dtype": "i1"
           },
           "xaxis": "x",
           "y": {
            "bdata": "igk=",
            "dtype": "i2"
           },
           "yaxis": "y"
          },
          {
           "hovertemplate": "page2_clothing_model=C42<br>month=6<br>Main Category=%{x}<br>Total Price=%{y}<extra></extra>",
           "ids": {
            "bdata": "Aw==",
            "dtype": "i1"
           },
           "legendgroup": "C42",
           "marker": {
            "color": "#FF6692",
            "pattern": {
             "shape": ""
            }
           },
           "name": "C42",
           "orientation": "v",
           "showlegend": true,
           "textposition": "auto",
           "type": "bar",
           "x": {
            "bdata": "Aw==",
            "dtype": "i1"
           },
           "xaxis": "x",
           "y": {
            "bdata": "cAc=",
            "dtype": "i2"
           },
           "yaxis": "y"
          },
          {
           "hovertemplate": "page2_clothing_model=P20<br>month=6<br>Main Category=%{x}<br>Total Price=%{y}<extra></extra>",
           "ids": {
            "bdata": "BA==",
            "dtype": "i1"
           },
           "legendgroup": "P20",
           "marker": {
            "color": "#B6E880",
            "pattern": {
             "shape": ""
            }
           },
           "name": "P20",
           "orientation": "v",
           "showlegend": true,
           "textposition": "auto",
           "type": "bar",
           "x": {
            "bdata": "BA==",
            "dtype": "i1"
           },
           "xaxis": "x",
           "y": {
            "bdata": "Tww=",
            "dtype": "i2"
           },
           "yaxis": "y"
          },
          {
           "hovertemplate": "page2_clothing_model=A39<br>month=6<br>Main Category=%{x}<br>Total Price=%{y}<extra></extra>",
           "ids": {
            "bdata": "AQ==",
            "dtype": "i1"
           },
           "legendgroup": "A39",
           "marker": {
            "color": "#FF97FF",
            "pattern": {
             "shape": ""
            }
           },
           "name": "A39",
           "orientation": "v",
           "showlegend": true,
           "textposition": "auto",
           "type": "bar",
           "x": {
            "bdata": "AQ==",
            "dtype": "i1"
           },
           "xaxis": "x",
           "y": {
            "bdata": "sAo=",
            "dtype": "i2"
           },
           "yaxis": "y"
          },
          {
           "hovertemplate": "page2_clothing_model=A35<br>month=6<br>Main Category=%{x}<br>Total Price=%{y}<extra></extra>",
           "ids": {
            "bdata": "AQ==",
            "dtype": "i1"
           },
           "legendgroup": "A35",
           "marker": {
            "color": "#FECB52",
            "pattern": {
             "shape": ""
            }
           },
           "name": "A35",
           "orientation": "v",
           "showlegend": true,
           "textposition": "auto",
           "type": "bar",
           "x": {
            "bdata": "AQ==",
            "dtype": "i1"
           },
           "xaxis": "x",
           "y": {
            "bdata": "sg4=",
            "dtype": "i2"
           },
           "yaxis": "y"
          },
          {
           "hovertemplate": "page2_clothing_model=A40<br>month=6<br>Main Category=%{x}<br>Total Price=%{y}<extra></extra>",
           "ids": {
            "bdata": "AQ==",
            "dtype": "i1"
           },
           "legendgroup": "A40",
           "marker": {
            "color": "#636efa",
            "pattern": {
             "shape": ""
            }
           },
           "name": "A40",
           "orientation": "v",
           "showlegend": true,
           "textposition": "auto",
           "type": "bar",
           "x": {
            "bdata": "AQ==",
            "dtype": "i1"
           },
           "xaxis": "x",
           "y": {
            "bdata": "YgY=",
            "dtype": "i2"
           },
           "yaxis": "y"
          },
          {
           "hovertemplate": "page2_clothing_model=C3<br>month=6<br>Main Category=%{x}<br>Total Price=%{y}<extra></extra>",
           "ids": {
            "bdata": "Aw==",
            "dtype": "i1"
           },
           "legendgroup": "C3",
           "marker": {
            "color": "#EF553B",
            "pattern": {
             "shape": ""
            }
           },
           "name": "C3",
           "orientation": "v",
           "showlegend": true,
           "textposition": "auto",
           "type": "bar",
           "x": {
            "bdata": "Aw==",
            "dtype": "i1"
           },
           "xaxis": "x",
           "y": {
            "bdata": "WAk=",
            "dtype": "i2"
           },
           "yaxis": "y"
          },
          {
           "hovertemplate": "page2_clothing_model=C15<br>month=6<br>Main Category=%{x}<br>Total Price=%{y}<extra></extra>",
           "ids": {
            "bdata": "Aw==",
            "dtype": "i1"
           },
           "legendgroup": "C15",
           "marker": {
            "color": "#00cc96",
            "pattern": {
             "shape": ""
            }
           },
           "name": "C15",
           "orientation": "v",
           "showlegend": true,
           "textposition": "auto",
           "type": "bar",
           "x": {
            "bdata": "Aw==",
            "dtype": "i1"
           },
           "xaxis": "x",
           "y": {
            "bdata": "7A0=",
            "dtype": "i2"
           },
           "yaxis": "y"
          },
          {
           "hovertemplate": "page2_clothing_model=A25<br>month=6<br>Main Category=%{x}<br>Total Price=%{y}<extra></extra>",
           "ids": {
            "bdata": "AQ==",
            "dtype": "i1"
           },
           "legendgroup": "A25",
           "marker": {
            "color": "#ab63fa",
            "pattern": {
             "shape": ""
            }
           },
           "name": "A25",
           "orientation": "v",
           "showlegend": true,
           "textposition": "auto",
           "type": "bar",
           "x": {
            "bdata": "AQ==",
            "dtype": "i1"
           },
           "xaxis": "x",
           "y": {
            "bdata": "GAo=",
            "dtype": "i2"
           },
           "yaxis": "y"
          },
          {
           "hovertemplate": "page2_clothing_model=P7<br>month=6<br>Main Category=%{x}<br>Total Price=%{y}<extra></extra>",
           "ids": {
            "bdata": "BA==",
            "dtype": "i1"
           },
           "legendgroup": "P7",
           "marker": {
            "color": "#FFA15A",
            "pattern": {
             "shape": ""
            }
           },
           "name": "P7",
           "orientation": "v",
           "showlegend": true,
           "textposition": "auto",
           "type": "bar",
           "x": {
            "bdata": "BA==",
            "dtype": "i1"
           },
           "xaxis": "x",
           "y": {
            "bdata": "iAg=",
            "dtype": "i2"
           },
           "yaxis": "y"
          },
          {
           "hovertemplate": "page2_clothing_model=C50<br>month=6<br>Main Category=%{x}<br>Total Price=%{y}<extra></extra>",
           "ids": {
            "bdata": "Aw==",
            "dtype": "i1"
           },
           "legendgroup": "C50",
           "marker": {
            "color": "#19d3f3",
            "pattern": {
             "shape": ""
            }
           },
           "name": "C50",
           "orientation": "v",
           "showlegend": true,
           "textposition": "auto",
           "type": "bar",
           "x": {
            "bdata": "Aw==",
            "dtype": "i1"
           },
           "xaxis": "x",
           "y": {
            "bdata": "2Ak=",
            "dtype": "i2"
           },
           "yaxis": "y"
          },
          {
           "hovertemplate": "page2_clothing_model=P29<br>month=6<br>Main Category=%{x}<br>Total Price=%{y}<extra></extra>",
           "ids": {
            "bdata": "BA==",
            "dtype": "i1"
           },
           "legendgroup": "P29",
           "marker": {
            "color": "#FF6692",
            "pattern": {
             "shape": ""
            }
           },
           "name": "P29",
           "orientation": "v",
           "showlegend": true,
           "textposition": "auto",
           "type": "bar",
           "x": {
            "bdata": "BA==",
            "dtype": "i1"
           },
           "xaxis": "x",
           "y": {
            "bdata": "agU=",
            "dtype": "i2"
           },
           "yaxis": "y"
          },
          {
           "hovertemplate": "page2_clothing_model=P9<br>month=6<br>Main Category=%{x}<br>Total Price=%{y}<extra></extra>",
           "ids": {
            "bdata": "BA==",
            "dtype": "i1"
           },
           "legendgroup": "P9",
           "marker": {
            "color": "#B6E880",
            "pattern": {
             "shape": ""
            }
           },
           "name": "P9",
           "orientation": "v",
           "showlegend": true,
           "textposition": "auto",
           "type": "bar",
           "x": {
            "bdata": "BA==",
            "dtype": "i1"
           },
           "xaxis": "x",
           "y": {
            "bdata": "eAY=",
            "dtype": "i2"
           },
           "yaxis": "y"
          },
          {
           "hovertemplate": "page2_clothing_model=P56<br>month=6<br>Main Category=%{x}<br>Total Price=%{y}<extra></extra>",
           "ids": {
            "bdata": "BA==",
            "dtype": "i1"
           },
           "legendgroup": "P56",
           "marker": {
            "color": "#FF97FF",
            "pattern": {
             "shape": ""
            }
           },
           "name": "P56",
           "orientation": "v",
           "showlegend": true,
           "textposition": "auto",
           "type": "bar",
           "x": {
            "bdata": "BA==",
            "dtype": "i1"
           },
           "xaxis": "x",
           "y": {
            "bdata": "1QY=",
            "dtype": "i2"
           },
           "yaxis": "y"
          },
          {
           "hovertemplate": "page2_clothing_model=C24<br>month=6<br>Main Category=%{x}<br>Total Price=%{y}<extra></extra>",
           "ids": {
            "bdata": "Aw==",
            "dtype": "i1"
           },
           "legendgroup": "C24",
           "marker": {
            "color": "#FECB52",
            "pattern": {
             "shape": ""
            }
           },
           "name": "C24",
           "orientation": "v",
           "showlegend": true,
           "textposition": "auto",
           "type": "bar",
           "x": {
            "bdata": "Aw==",
            "dtype": "i1"
           },
           "xaxis": "x",
           "y": {
            "bdata": "tAY=",
            "dtype": "i2"
           },
           "yaxis": "y"
          },
          {
           "hovertemplate": "page2_clothing_model=C26<br>month=6<br>Main Category=%{x}<br>Total Price=%{y}<extra></extra>",
           "ids": {
            "bdata": "Aw==",
            "dtype": "i1"
           },
           "legendgroup": "C26",
           "marker": {
            "color": "#636efa",
            "pattern": {
             "shape": ""
            }
           },
           "name": "C26",
           "orientation": "v",
           "showlegend": true,
           "textposition": "auto",
           "type": "bar",
           "x": {
            "bdata": "Aw==",
            "dtype": "i1"
           },
           "xaxis": "x",
           "y": {
            "bdata": "vAk=",
            "dtype": "i2"
           },
           "yaxis": "y"
          },
          {
           "hovertemplate": "page2_clothing_model=B20<br>month=6<br>Main Category=%{x}<br>Total Price=%{y}<extra></extra>",
           "ids": {
            "bdata": "Ag==",
            "dtype": "i1"
           },
           "legendgroup": "B20",
           "marker": {
            "color": "#EF553B",
            "pattern": {
             "shape": ""
            }
           },
           "name": "B20",
           "orientation": "v",
           "showlegend": true,
           "textposition": "auto",
           "type": "bar",
           "x": {
            "bdata": "Ag==",
            "dtype": "i1"
           },
           "xaxis": "x",
           "y": {
            "bdata": "5wg=",
            "dtype": "i2"
           },
           "yaxis": "y"
          },
          {
           "hovertemplate": "page2_clothing_model=C38<br>month=6<br>Main Category=%{x}<br>Total Price=%{y}<extra></extra>",
           "ids": {
            "bdata": "Aw==",
            "dtype": "i1"
           },
           "legendgroup": "C38",
           "marker": {
            "color": "#00cc96",
            "pattern": {
             "shape": ""
            }
           },
           "name": "C38",
           "orientation": "v",
           "showlegend": true,
           "textposition": "auto",
           "type": "bar",
           "x": {
            "bdata": "Aw==",
            "dtype": "i1"
           },
           "xaxis": "x",
           "y": {
            "bdata": "gAk=",
            "dtype": "i2"
           },
           "yaxis": "y"
          },
          {
           "hovertemplate": "page2_clothing_model=A23<br>month=6<br>Main Category=%{x}<br>Total Price=%{y}<extra></extra>",
           "ids": {
            "bdata": "AQ==",
            "dtype": "i1"
           },
           "legendgroup": "A23",
           "marker": {
            "color": "#ab63fa",
            "pattern": {
             "shape": ""
            }
           },
           "name": "A23",
           "orientation": "v",
           "showlegend": true,
           "textposition": "auto",
           "type": "bar",
           "x": {
            "bdata": "AQ==",
            "dtype": "i1"
           },
           "xaxis": "x",
           "y": {
            "bdata": "5Aw=",
            "dtype": "i2"
           },
           "yaxis": "y"
          },
          {
           "hovertemplate": "page2_clothing_model=P18<br>month=6<br>Main Category=%{x}<br>Total Price=%{y}<extra></extra>",
           "ids": {
            "bdata": "BA==",
            "dtype": "i1"
           },
           "legendgroup": "P18",
           "marker": {
            "color": "#FFA15A",
            "pattern": {
             "shape": ""
            }
           },
           "name": "P18",
           "orientation": "v",
           "showlegend": true,
           "textposition": "auto",
           "type": "bar",
           "x": {
            "bdata": "BA==",
            "dtype": "i1"
           },
           "xaxis": "x",
           "y": {
            "bdata": "bAg=",
            "dtype": "i2"
           },
           "yaxis": "y"
          },
          {
           "hovertemplate": "page2_clothing_model=B33<br>month=6<br>Main Category=%{x}<br>Total Price=%{y}<extra></extra>",
           "ids": {
            "bdata": "Ag==",
            "dtype": "i1"
           },
           "legendgroup": "B33",
           "marker": {
            "color": "#19d3f3",
            "pattern": {
             "shape": ""
            }
           },
           "name": "B33",
           "orientation": "v",
           "showlegend": true,
           "textposition": "auto",
           "type": "bar",
           "x": {
            "bdata": "Ag==",
            "dtype": "i1"
           },
           "xaxis": "x",
           "y": {
            "bdata": "5Qg=",
            "dtype": "i2"
           },
           "yaxis": "y"
          },
          {
           "hovertemplate": "page2_clothing_model=A36<br>month=6<br>Main Category=%{x}<br>Total Price=%{y}<extra></extra>",
           "ids": {
            "bdata": "AQ==",
            "dtype": "i1"
           },
           "legendgroup": "A36",
           "marker": {
            "color": "#FF6692",
            "pattern": {
             "shape": ""
            }
           },
           "name": "A36",
           "orientation": "v",
           "showlegend": true,
           "textposition": "auto",
           "type": "bar",
           "x": {
            "bdata": "AQ==",
            "dtype": "i1"
           },
           "xaxis": "x",
           "y": {
            "bdata": "YAw=",
            "dtype": "i2"
           },
           "yaxis": "y"
          },
          {
           "hovertemplate": "page2_clothing_model=P61<br>month=6<br>Main Category=%{x}<br>Total Price=%{y}<extra></extra>",
           "ids": {
            "bdata": "BA==",
            "dtype": "i1"
           },
           "legendgroup": "P61",
           "marker": {
            "color": "#B6E880",
            "pattern": {
             "shape": ""
            }
           },
           "name": "P61",
           "orientation": "v",
           "showlegend": true,
           "textposition": "auto",
           "type": "bar",
           "x": {
            "bdata": "BA==",
            "dtype": "i1"
           },
           "xaxis": "x",
           "y": {
            "bdata": "XAw=",
            "dtype": "i2"
           },
           "yaxis": "y"
          },
          {
           "hovertemplate": "page2_clothing_model=C25<br>month=6<br>Main Category=%{x}<br>Total Price=%{y}<extra></extra>",
           "ids": {
            "bdata": "Aw==",
            "dtype": "i1"
           },
           "legendgroup": "C25",
           "marker": {
            "color": "#FF97FF",
            "pattern": {
             "shape": ""
            }
           },
           "name": "C25",
           "orientation": "v",
           "showlegend": true,
           "textposition": "auto",
           "type": "bar",
           "x": {
            "bdata": "Aw==",
            "dtype": "i1"
           },
           "xaxis": "x",
           "y": {
            "bdata": "Bgk=",
            "dtype": "i2"
           },
           "yaxis": "y"
          },
          {
           "hovertemplate": "page2_clothing_model=C48<br>month=6<br>Main Category=%{x}<br>Total Price=%{y}<extra></extra>",
           "ids": {
            "bdata": "Aw==",
            "dtype": "i1"
           },
           "legendgroup": "C48",
           "marker": {
            "color": "#FECB52",
            "pattern": {
             "shape": ""
            }
           },
           "name": "C48",
           "orientation": "v",
           "showlegend": true,
           "textposition": "auto",
           "type": "bar",
           "x": {
            "bdata": "Aw==",
            "dtype": "i1"
           },
           "xaxis": "x",
           "y": {
            "bdata": "PAY=",
            "dtype": "i2"
           },
           "yaxis": "y"
          },
          {
           "hovertemplate": "page2_clothing_model=A19<br>month=6<br>Main Category=%{x}<br>Total Price=%{y}<extra></extra>",
           "ids": {
            "bdata": "AQ==",
            "dtype": "i1"
           },
           "legendgroup": "A19",
           "marker": {
            "color": "#636efa",
            "pattern": {
             "shape": ""
            }
           },
           "name": "A19",
           "orientation": "v",
           "showlegend": true,
           "textposition": "auto",
           "type": "bar",
           "x": {
            "bdata": "AQ==",
            "dtype": "i1"
           },
           "xaxis": "x",
           "y": {
            "bdata": "9gY=",
            "dtype": "i2"
           },
           "yaxis": "y"
          },
          {
           "hovertemplate": "page2_clothing_model=P72<br>month=6<br>Main Category=%{x}<br>Total Price=%{y}<extra></extra>",
           "ids": {
            "bdata": "BA==",
            "dtype": "i1"
           },
           "legendgroup": "P72",
           "marker": {
            "color": "#EF553B",
            "pattern": {
             "shape": ""
            }
           },
           "name": "P72",
           "orientation": "v",
           "showlegend": true,
           "textposition": "auto",
           "type": "bar",
           "x": {
            "bdata": "BA==",
            "dtype": "i1"
           },
           "xaxis": "x",
           "y": {
            "bdata": "UQY=",
            "dtype": "i2"
           },
           "yaxis": "y"
          },
          {
           "hovertemplate": "page2_clothing_model=P51<br>month=6<br>Main Category=%{x}<br>Total Price=%{y}<extra></extra>",
           "ids": {
            "bdata": "BA==",
            "dtype": "i1"
           },
           "legendgroup": "P51",
           "marker": {
            "color": "#00cc96",
            "pattern": {
             "shape": ""
            }
           },
           "name": "P51",
           "orientation": "v",
           "showlegend": true,
           "textposition": "auto",
           "type": "bar",
           "x": {
            "bdata": "BA==",
            "dtype": "i1"
           },
           "xaxis": "x",
           "y": {
            "bdata": "LAo=",
            "dtype": "i2"
           },
           "yaxis": "y"
          },
          {
           "hovertemplate": "page2_clothing_model=C31<br>month=6<br>Main Category=%{x}<br>Total Price=%{y}<extra></extra>",
           "ids": {
            "bdata": "Aw==",
            "dtype": "i1"
           },
           "legendgroup": "C31",
           "marker": {
            "color": "#ab63fa",
            "pattern": {
             "shape": ""
            }
           },
           "name": "C31",
           "orientation": "v",
           "showlegend": true,
           "textposition": "auto",
           "type": "bar",
           "x": {
            "bdata": "Aw==",
            "dtype": "i1"
           },
           "xaxis": "x",
           "y": {
            "bdata": "egc=",
            "dtype": "i2"
           },
           "yaxis": "y"
          },
          {
           "hovertemplate": "page2_clothing_model=C51<br>month=6<br>Main Category=%{x}<br>Total Price=%{y}<extra></extra>",
           "ids": {
            "bdata": "Aw==",
            "dtype": "i1"
           },
           "legendgroup": "C51",
           "marker": {
            "color": "#FFA15A",
            "pattern": {
             "shape": ""
            }
           },
           "name": "C51",
           "orientation": "v",
           "showlegend": true,
           "textposition": "auto",
           "type": "bar",
           "x": {
            "bdata": "Aw==",
            "dtype": "i1"
           },
           "xaxis": "x",
           "y": {
            "bdata": "IAg=",
            "dtype": "i2"
           },
           "yaxis": "y"
          },
          {
           "hovertemplate": "page2_clothing_model=C32<br>month=6<br>Main Category=%{x}<br>Total Price=%{y}<extra></extra>",
           "ids": {
            "bdata": "Aw==",
            "dtype": "i1"
           },
           "legendgroup": "C32",
           "marker": {
            "color": "#19d3f3",
            "pattern": {
             "shape": ""
            }
           },
           "name": "C32",
           "orientation": "v",
           "showlegend": true,
           "textposition": "auto",
           "type": "bar",
           "x": {
            "bdata": "Aw==",
            "dtype": "i1"
           },
           "xaxis": "x",
           "y": {
            "bdata": "Bgk=",
            "dtype": "i2"
           },
           "yaxis": "y"
          },
          {
           "hovertemplate": "page2_clothing_model=P46<br>month=6<br>Main Category=%{x}<br>Total Price=%{y}<extra></extra>",
           "ids": {
            "bdata": "BA==",
            "dtype": "i1"
           },
           "legendgroup": "P46",
           "marker": {
            "color": "#FF6692",
            "pattern": {
             "shape": ""
            }
           },
           "name": "P46",
           "orientation": "v",
           "showlegend": true,
           "textposition": "auto",
           "type": "bar",
           "x": {
            "bdata": "BA==",
            "dtype": "i1"
           },
           "xaxis": "x",
           "y": {
            "bdata": "kAY=",
            "dtype": "i2"
           },
           "yaxis": "y"
          },
          {
           "hovertemplate": "page2_clothing_model=P38<br>month=6<br>Main Category=%{x}<br>Total Price=%{y}<extra></extra>",
           "ids": {
            "bdata": "BA==",
            "dtype": "i1"
           },
           "legendgroup": "P38",
           "marker": {
            "color": "#B6E880",
            "pattern": {
             "shape": ""
            }
           },
           "name": "P38",
           "orientation": "v",
           "showlegend": true,
           "textposition": "auto",
           "type": "bar",
           "x": {
            "bdata": "BA==",
            "dtype": "i1"
           },
           "xaxis": "x",
           "y": {
            "bdata": "MQI=",
            "dtype": "i2"
           },
           "yaxis": "y"
          },
          {
           "hovertemplate": "page2_clothing_model=P47<br>month=6<br>Main Category=%{x}<br>Total Price=%{y}<extra></extra>",
           "ids": {
            "bdata": "BA==",
            "dtype": "i1"
           },
           "legendgroup": "P47",
           "marker": {
            "color": "#FF97FF",
            "pattern": {
             "shape": ""
            }
           },
           "name": "P47",
           "orientation": "v",
           "showlegend": true,
           "textposition": "auto",
           "type": "bar",
           "x": {
            "bdata": "BA==",
            "dtype": "i1"
           },
           "xaxis": "x",
           "y": {
            "bdata": "PAY=",
            "dtype": "i2"
           },
           "yaxis": "y"
          },
          {
           "hovertemplate": "page2_clothing_model=P71<br>month=6<br>Main Category=%{x}<br>Total Price=%{y}<extra></extra>",
           "ids": {
            "bdata": "BA==",
            "dtype": "i1"
           },
           "legendgroup": "P71",
           "marker": {
            "color": "#FECB52",
            "pattern": {
             "shape": ""
            }
           },
           "name": "P71",
           "orientation": "v",
           "showlegend": true,
           "textposition": "auto",
           "type": "bar",
           "x": {
            "bdata": "BA==",
            "dtype": "i1"
           },
           "xaxis": "x",
           "y": {
            "bdata": "3gM=",
            "dtype": "i2"
           },
           "yaxis": "y"
          },
          {
           "hovertemplate": "page2_clothing_model=P30<br>month=6<br>Main Category=%{x}<br>Total Price=%{y}<extra></extra>",
           "ids": {
            "bdata": "BA==",
            "dtype": "i1"
           },
           "legendgroup": "P30",
           "marker": {
            "color": "#636efa",
            "pattern": {
             "shape": ""
            }
           },
           "name": "P30",
           "orientation": "v",
           "showlegend": true,
           "textposition": "auto",
           "type": "bar",
           "x": {
            "bdata": "BA==",
            "dtype": "i1"
           },
           "xaxis": "x",
           "y": {
            "bdata": "QQQ=",
            "dtype": "i2"
           },
           "yaxis": "y"
          },
          {
           "hovertemplate": "page2_clothing_model=P74<br>month=6<br>Main Category=%{x}<br>Total Price=%{y}<extra></extra>",
           "ids": {
            "bdata": "BA==",
            "dtype": "i1"
           },
           "legendgroup": "P74",
           "marker": {
            "color": "#EF553B",
            "pattern": {
             "shape": ""
            }
           },
           "name": "P74",
           "orientation": "v",
           "showlegend": true,
           "textposition": "auto",
           "type": "bar",
           "x": {
            "bdata": "BA==",
            "dtype": "i1"
           },
           "xaxis": "x",
           "y": {
            "bdata": "pAQ=",
            "dtype": "i2"
           },
           "yaxis": "y"
          },
          {
           "hovertemplate": "page2_clothing_model=P63<br>month=6<br>Main Category=%{x}<br>Total Price=%{y}<extra></extra>",
           "ids": {
            "bdata": "BA==",
            "dtype": "i1"
           },
           "legendgroup": "P63",
           "marker": {
            "color": "#00cc96",
            "pattern": {
             "shape": ""
            }
           },
           "name": "P63",
           "orientation": "v",
           "showlegend": true,
           "textposition": "auto",
           "type": "bar",
           "x": {
            "bdata": "BA==",
            "dtype": "i1"
           },
           "xaxis": "x",
           "y": {
            "bdata": "tAQ=",
            "dtype": "i2"
           },
           "yaxis": "y"
          },
          {
           "hovertemplate": "page2_clothing_model=P42<br>month=6<br>Main Category=%{x}<br>Total Price=%{y}<extra></extra>",
           "ids": {
            "bdata": "BA==",
            "dtype": "i1"
           },
           "legendgroup": "P42",
           "marker": {
            "color": "#ab63fa",
            "pattern": {
             "shape": ""
            }
           },
           "name": "P42",
           "orientation": "v",
           "showlegend": true,
           "textposition": "auto",
           "type": "bar",
           "x": {
            "bdata": "BA==",
            "dtype": "i1"
           },
           "xaxis": "x",
           "y": {
            "bdata": "ZAM=",
            "dtype": "i2"
           },
           "yaxis": "y"
          },
          {
           "hovertemplate": "page2_clothing_model=P21<br>month=6<br>Main Category=%{x}<br>Total Price=%{y}<extra></extra>",
           "ids": {
            "bdata": "BA==",
            "dtype": "i1"
           },
           "legendgroup": "P21",
           "marker": {
            "color": "#FFA15A",
            "pattern": {
             "shape": ""
            }
           },
           "name": "P21",
           "orientation": "v",
           "showlegend": true,
           "textposition": "auto",
           "type": "bar",
           "x": {
            "bdata": "BA==",
            "dtype": "i1"
           },
           "xaxis": "x",
           "y": {
            "bdata": "mwc=",
            "dtype": "i2"
           },
           "yaxis": "y"
          },
          {
           "hovertemplate": "page2_clothing_model=P44<br>month=6<br>Main Category=%{x}<br>Total Price=%{y}<extra></extra>",
           "ids": {
            "bdata": "BA==",
            "dtype": "i1"
           },
           "legendgroup": "P44",
           "marker": {
            "color": "#19d3f3",
            "pattern": {
             "shape": ""
            }
           },
           "name": "P44",
           "orientation": "v",
           "showlegend": true,
           "textposition": "auto",
           "type": "bar",
           "x": {
            "bdata": "BA==",
            "dtype": "i1"
           },
           "xaxis": "x",
           "y": {
            "bdata": "eAU=",
            "dtype": "i2"
           },
           "yaxis": "y"
          },
          {
           "hovertemplate": "page2_clothing_model=P75<br>month=6<br>Main Category=%{x}<br>Total Price=%{y}<extra></extra>",
           "ids": {
            "bdata": "BA==",
            "dtype": "i1"
           },
           "legendgroup": "P75",
           "marker": {
            "color": "#FF6692",
            "pattern": {
             "shape": ""
            }
           },
           "name": "P75",
           "orientation": "v",
           "showlegend": true,
           "textposition": "auto",
           "type": "bar",
           "x": {
            "bdata": "BA==",
            "dtype": "i1"
           },
           "xaxis": "x",
           "y": {
            "bdata": "cwI=",
            "dtype": "i2"
           },
           "yaxis": "y"
          },
          {
           "hovertemplate": "page2_clothing_model=P27<br>month=6<br>Main Category=%{x}<br>Total Price=%{y}<extra></extra>",
           "ids": {
            "bdata": "BA==",
            "dtype": "i1"
           },
           "legendgroup": "P27",
           "marker": {
            "color": "#B6E880",
            "pattern": {
             "shape": ""
            }
           },
           "name": "P27",
           "orientation": "v",
           "showlegend": true,
           "textposition": "auto",
           "type": "bar",
           "x": {
            "bdata": "BA==",
            "dtype": "i1"
           },
           "xaxis": "x",
           "y": {
            "bdata": "1gI=",
            "dtype": "i2"
           },
           "yaxis": "y"
          },
          {
           "hovertemplate": "page2_clothing_model=C52<br>month=6<br>Main Category=%{x}<br>Total Price=%{y}<extra></extra>",
           "ids": {
            "bdata": "Aw==",
            "dtype": "i1"
           },
           "legendgroup": "C52",
           "marker": {
            "color": "#FF97FF",
            "pattern": {
             "shape": ""
            }
           },
           "name": "C52",
           "orientation": "v",
           "showlegend": true,
           "textposition": "auto",
           "type": "bar",
           "x": {
            "bdata": "Aw==",
            "dtype": "i1"
           },
           "xaxis": "x",
           "y": {
            "bdata": "AgQ=",
            "dtype": "i2"
           },
           "yaxis": "y"
          },
          {
           "hovertemplate": "page2_clothing_model=P73<br>month=6<br>Main Category=%{x}<br>Total Price=%{y}<extra></extra>",
           "ids": {
            "bdata": "BA==",
            "dtype": "i1"
           },
           "legendgroup": "P73",
           "marker": {
            "color": "#FECB52",
            "pattern": {
             "shape": ""
            }
           },
           "name": "P73",
           "orientation": "v",
           "showlegend": true,
           "textposition": "auto",
           "type": "bar",
           "x": {
            "bdata": "BA==",
            "dtype": "i1"
           },
           "xaxis": "x",
           "y": {
            "bdata": "/wM=",
            "dtype": "i2"
           },
           "yaxis": "y"
          },
          {
           "hovertemplate": "page2_clothing_model=P80<br>month=6<br>Main Category=%{x}<br>Total Price=%{y}<extra></extra>",
           "ids": {
            "bdata": "BA==",
            "dtype": "i1"
           },
           "legendgroup": "P80",
           "marker": {
            "color": "#636efa",
            "pattern": {
             "shape": ""
            }
           },
           "name": "P80",
           "orientation": "v",
           "showlegend": true,
           "textposition": "auto",
           "type": "bar",
           "x": {
            "bdata": "BA==",
            "dtype": "i1"
           },
           "xaxis": "x",
           "y": {
            "bdata": "nAM=",
            "dtype": "i2"
           },
           "yaxis": "y"
          },
          {
           "hovertemplate": "page2_clothing_model=P35<br>month=6<br>Main Category=%{x}<br>Total Price=%{y}<extra></extra>",
           "ids": {
            "bdata": "BA==",
            "dtype": "i1"
           },
           "legendgroup": "P35",
           "marker": {
            "color": "#EF553B",
            "pattern": {
             "shape": ""
            }
           },
           "name": "P35",
           "orientation": "v",
           "showlegend": true,
           "textposition": "auto",
           "type": "bar",
           "x": {
            "bdata": "BA==",
            "dtype": "i1"
           },
           "xaxis": "x",
           "y": {
            "bdata": "LAM=",
            "dtype": "i2"
           },
           "yaxis": "y"
          },
          {
           "hovertemplate": "page2_clothing_model=P52<br>month=6<br>Main Category=%{x}<br>Total Price=%{y}<extra></extra>",
           "ids": {
            "bdata": "BA==",
            "dtype": "i1"
           },
           "legendgroup": "P52",
           "marker": {
            "color": "#00cc96",
            "pattern": {
             "shape": ""
            }
           },
           "name": "P52",
           "orientation": "v",
           "showlegend": true,
           "textposition": "auto",
           "type": "bar",
           "x": {
            "bdata": "BA==",
            "dtype": "i1"
           },
           "xaxis": "x",
           "y": {
            "bdata": "zAE=",
            "dtype": "i2"
           },
           "yaxis": "y"
          },
          {
           "hovertemplate": "page2_clothing_model=C47<br>month=6<br>Main Category=%{x}<br>Total Price=%{y}<extra></extra>",
           "ids": {
            "bdata": "Aw==",
            "dtype": "i1"
           },
           "legendgroup": "C47",
           "marker": {
            "color": "#ab63fa",
            "pattern": {
             "shape": ""
            }
           },
           "name": "C47",
           "orientation": "v",
           "showlegend": true,
           "textposition": "auto",
           "type": "bar",
           "x": {
            "bdata": "Aw==",
            "dtype": "i1"
           },
           "xaxis": "x",
           "y": {
            "bdata": "UgI=",
            "dtype": "i2"
           },
           "yaxis": "y"
          },
          {
           "hovertemplate": "page2_clothing_model=P62<br>month=6<br>Main Category=%{x}<br>Total Price=%{y}<extra></extra>",
           "ids": {
            "bdata": "BA==",
            "dtype": "i1"
           },
           "legendgroup": "P62",
           "marker": {
            "color": "#FFA15A",
            "pattern": {
             "shape": ""
            }
           },
           "name": "P62",
           "orientation": "v",
           "showlegend": true,
           "textposition": "auto",
           "type": "bar",
           "x": {
            "bdata": "BA==",
            "dtype": "i1"
           },
           "xaxis": "x",
           "y": {
            "bdata": "/wM=",
            "dtype": "i2"
           },
           "yaxis": "y"
          },
          {
           "hovertemplate": "page2_clothing_model=P45<br>month=6<br>Main Category=%{x}<br>Total Price=%{y}<extra></extra>",
           "ids": {
            "bdata": "BA==",
            "dtype": "i1"
           },
           "legendgroup": "P45",
           "marker": {
            "color": "#19d3f3",
            "pattern": {
             "shape": ""
            }
           },
           "name": "P45",
           "orientation": "v",
           "showlegend": true,
           "textposition": "auto",
           "type": "bar",
           "x": {
            "bdata": "BA==",
            "dtype": "i1"
           },
           "xaxis": "x",
           "y": {
            "bdata": "EAI=",
            "dtype": "i2"
           },
           "yaxis": "y"
          },
          {
           "hovertemplate": "page2_clothing_model=C43<br>month=6<br>Main Category=%{x}<br>Total Price=%{y}<extra></extra>",
           "ids": {
            "bdata": "Aw==",
            "dtype": "i1"
           },
           "legendgroup": "C43",
           "marker": {
            "color": "#FF6692",
            "pattern": {
             "shape": ""
            }
           },
           "name": "C43",
           "orientation": "v",
           "showlegend": true,
           "textposition": "auto",
           "type": "bar",
           "x": {
            "bdata": "Aw==",
            "dtype": "i1"
           },
           "xaxis": "x",
           "y": {
            "bdata": "MAI=",
            "dtype": "i2"
           },
           "yaxis": "y"
          },
          {
           "hovertemplate": "page2_clothing_model=P64<br>month=6<br>Main Category=%{x}<br>Total Price=%{y}<extra></extra>",
           "ids": {
            "bdata": "BA==",
            "dtype": "i1"
           },
           "legendgroup": "P64",
           "marker": {
            "color": "#B6E880",
            "pattern": {
             "shape": ""
            }
           },
           "name": "P64",
           "orientation": "v",
           "showlegend": true,
           "textposition": "auto",
           "type": "bar",
           "x": {
            "bdata": "BA==",
            "dtype": "i1"
           },
           "xaxis": "x",
           "y": {
            "bdata": "SAM=",
            "dtype": "i2"
           },
           "yaxis": "y"
          },
          {
           "hovertemplate": "page2_clothing_model=P31<br>month=6<br>Main Category=%{x}<br>Total Price=%{y}<extra></extra>",
           "ids": {
            "bdata": "BA==",
            "dtype": "i1"
           },
           "legendgroup": "P31",
           "marker": {
            "color": "#FF97FF",
            "pattern": {
             "shape": ""
            }
           },
           "name": "P31",
           "orientation": "v",
           "showlegend": true,
           "textposition": "auto",
           "type": "bar",
           "x": {
            "bdata": "BA==",
            "dtype": "i1"
           },
           "xaxis": "x",
           "y": {
            "bdata": "5wA=",
            "dtype": "i2"
           },
           "yaxis": "y"
          }
         ],
         "name": "6"
        },
        {
         "data": [
          {
           "hovertemplate": "page2_clothing_model=A2<br>month=8<br>Main Category=%{x}<br>Total Price=%{y}<extra></extra>",
           "ids": {
            "bdata": "AQ==",
            "dtype": "i1"
           },
           "legendgroup": "A2",
           "marker": {
            "color": "#636efa",
            "pattern": {
             "shape": ""
            }
           },
           "name": "A2",
           "orientation": "v",
           "showlegend": true,
           "textposition": "auto",
           "type": "bar",
           "x": {
            "bdata": "AQ==",
            "dtype": "i1"
           },
           "xaxis": "x",
           "y": {
            "bdata": "riw=",
            "dtype": "i2"
           },
           "yaxis": "y"
          },
          {
           "hovertemplate": "page2_clothing_model=A4<br>month=8<br>Main Category=%{x}<br>Total Price=%{y}<extra></extra>",
           "ids": {
            "bdata": "AQ==",
            "dtype": "i1"
           },
           "legendgroup": "A4",
           "marker": {
            "color": "#EF553B",
            "pattern": {
             "shape": ""
            }
           },
           "name": "A4",
           "orientation": "v",
           "showlegend": true,
           "textposition": "auto",
           "type": "bar",
           "x": {
            "bdata": "AQ==",
            "dtype": "i1"
           },
           "xaxis": "x",
           "y": {
            "bdata": "2A4=",
            "dtype": "i2"
           },
           "yaxis": "y"
          },
          {
           "hovertemplate": "page2_clothing_model=A5<br>month=8<br>Main Category=%{x}<br>Total Price=%{y}<extra></extra>",
           "ids": {
            "bdata": "AQ==",
            "dtype": "i1"
           },
           "legendgroup": "A5",
           "marker": {
            "color": "#00cc96",
            "pattern": {
             "shape": ""
            }
           },
           "name": "A5",
           "orientation": "v",
           "showlegend": true,
           "textposition": "auto",
           "type": "bar",
           "x": {
            "bdata": "AQ==",
            "dtype": "i1"
           },
           "xaxis": "x",
           "y": {
            "bdata": "Ph8=",
            "dtype": "i2"
           },
           "yaxis": "y"
          },
          {
           "hovertemplate": "page2_clothing_model=A15<br>month=8<br>Main Category=%{x}<br>Total Price=%{y}<extra></extra>",
           "ids": {
            "bdata": "AQ==",
            "dtype": "i1"
           },
           "legendgroup": "A15",
           "marker": {
            "color": "#ab63fa",
            "pattern": {
             "shape": ""
            }
           },
           "name": "A15",
           "orientation": "v",
           "showlegend": true,
           "textposition": "auto",
           "type": "bar",
           "x": {
            "bdata": "AQ==",
            "dtype": "i1"
           },
           "xaxis": "x",
           "y": {
            "bdata": "1Ao=",
            "dtype": "i2"
           },
           "yaxis": "y"
          },
          {
           "hovertemplate": "page2_clothing_model=A10<br>month=8<br>Main Category=%{x}<br>Total Price=%{y}<extra></extra>",
           "ids": {
            "bdata": "AQ==",
            "dtype": "i1"
           },
           "legendgroup": "A10",
           "marker": {
            "color": "#FFA15A",
            "pattern": {
             "shape": ""
            }
           },
           "name": "A10",
           "orientation": "v",
           "showlegend": true,
           "textposition": "auto",
           "type": "bar",
           "x": {
            "bdata": "AQ==",
            "dtype": "i1"
           },
           "xaxis": "x",
           "y": {
            "bdata": "IBo=",
            "dtype": "i2"
           },
           "yaxis": "y"
          },
          {
           "hovertemplate": "page2_clothing_model=A6<br>month=8<br>Main Category=%{x}<br>Total Price=%{y}<extra></extra>",
           "ids": {
            "bdata": "AQ==",
            "dtype": "i1"
           },
           "legendgroup": "A6",
           "marker": {
            "color": "#19d3f3",
            "pattern": {
             "shape": ""
            }
           },
           "name": "A6",
           "orientation": "v",
           "showlegend": true,
           "textposition": "auto",
           "type": "bar",
           "x": {
            "bdata": "AQ==",
            "dtype": "i1"
           },
           "xaxis": "x",
           "y": {
            "bdata": "VRU=",
            "dtype": "i2"
           },
           "yaxis": "y"
          },
          {
           "hovertemplate": "page2_clothing_model=A12<br>month=8<br>Main Category=%{x}<br>Total Price=%{y}<extra></extra>",
           "ids": {
            "bdata": "AQ==",
            "dtype": "i1"
           },
           "legendgroup": "A12",
           "marker": {
            "color": "#FF6692",
            "pattern": {
             "shape": ""
            }
           },
           "name": "A12",
           "orientation": "v",
           "showlegend": true,
           "textposition": "auto",
           "type": "bar",
           "x": {
            "bdata": "AQ==",
            "dtype": "i1"
           },
           "xaxis": "x",
           "y": {
            "bdata": "PBk=",
            "dtype": "i2"
           },
           "yaxis": "y"
          },
          {
           "hovertemplate": "page2_clothing_model=A7<br>month=8<br>Main Category=%{x}<br>Total Price=%{y}<extra></extra>",
           "ids": {
            "bdata": "AQ==",
            "dtype": "i1"
           },
           "legendgroup": "A7",
           "marker": {
            "color": "#B6E880",
            "pattern": {
             "shape": ""
            }
           },
           "name": "A7",
           "orientation": "v",
           "showlegend": true,
           "textposition": "auto",
           "type": "bar",
           "x": {
            "bdata": "AQ==",
            "dtype": "i1"
           },
           "xaxis": "x",
           "y": {
            "bdata": "BRg=",
            "dtype": "i2"
           },
           "yaxis": "y"
          },
          {
           "hovertemplate": "page2_clothing_model=A1<br>month=8<br>Main Category=%{x}<br>Total Price=%{y}<extra></extra>",
           "ids": {
            "bdata": "AQ==",
            "dtype": "i1"
           },
           "legendgroup": "A1",
           "marker": {
            "color": "#FF97FF",
            "pattern": {
             "shape": ""
            }
           },
           "name": "A1",
           "orientation": "v",
           "showlegend": true,
           "textposition": "auto",
           "type": "bar",
           "x": {
            "bdata": "AQ==",
            "dtype": "i1"
           },
           "xaxis": "x",
           "y": {
            "bdata": "jBU=",
            "dtype": "i2"
           },
           "yaxis": "y"
          },
          {
           "hovertemplate": "page2_clothing_model=B11<br>month=8<br>Main Category=%{x}<br>Total Price=%{y}<extra></extra>",
           "ids": {
            "bdata": "Ag==",
            "dtype": "i1"
           },
           "legendgroup": "B11",
           "marker": {
            "color": "#FECB52",
            "pattern": {
             "shape": ""
            }
           },
           "name": "B11",
           "orientation": "v",
           "showlegend": true,
           "textposition": "auto",
           "type": "bar",
           "x": {
            "bdata": "Ag==",
            "dtype": "i1"
           },
           "xaxis": "x",
           "y": {
            "bdata": "LBY=",
            "dtype": "i2"
           },
           "yaxis": "y"
          },
          {
           "hovertemplate": "page2_clothing_model=B15<br>month=8<br>Main Category=%{x}<br>Total Price=%{y}<extra></extra>",
           "ids": {
            "bdata": "Ag==",
            "dtype": "i1"
           },
           "legendgroup": "B15",
           "marker": {
            "color": "#636efa",
            "pattern": {
             "shape": ""
            }
           },
           "name": "B15",
           "orientation": "v",
           "showlegend": true,
           "textposition": "auto",
           "type": "bar",
           "x": {
            "bdata": "Ag==",
            "dtype": "i1"
           },
           "xaxis": "x",
           "y": {
            "bdata": "8gk=",
            "dtype": "i2"
           },
           "yaxis": "y"
          },
          {
           "hovertemplate": "page2_clothing_model=B32<br>month=8<br>Main Category=%{x}<br>Total Price=%{y}<extra></extra>",
           "ids": {
            "bdata": "Ag==",
            "dtype": "i1"
           },
           "legendgroup": "B32",
           "marker": {
            "color": "#EF553B",
            "pattern": {
             "shape": ""
            }
           },
           "name": "B32",
           "orientation": "v",
           "showlegend": true,
           "textposition": "auto",
           "type": "bar",
           "x": {
            "bdata": "Ag==",
            "dtype": "i1"
           },
           "xaxis": "x",
           "y": {
            "bdata": "Wgk=",
            "dtype": "i2"
           },
           "yaxis": "y"
          },
          {
           "hovertemplate": "page2_clothing_model=P16<br>month=8<br>Main Category=%{x}<br>Total Price=%{y}<extra></extra>",
           "ids": {
            "bdata": "BA==",
            "dtype": "i1"
           },
           "legendgroup": "P16",
           "marker": {
            "color": "#00cc96",
            "pattern": {
             "shape": ""
            }
           },
           "name": "P16",
           "orientation": "v",
           "showlegend": true,
           "textposition": "auto",
           "type": "bar",
           "x": {
            "bdata": "BA==",
            "dtype": "i1"
           },
           "xaxis": "x",
           "y": {
            "bdata": "mwc=",
            "dtype": "i2"
           },
           "yaxis": "y"
          },
          {
           "hovertemplate": "page2_clothing_model=B23<br>month=8<br>Main Category=%{x}<br>Total Price=%{y}<extra></extra>",
           "ids": {
            "bdata": "Ag==",
            "dtype": "i1"
           },
           "legendgroup": "B23",
           "marker": {
            "color": "#ab63fa",
            "pattern": {
             "shape": ""
            }
           },
           "name": "B23",
           "orientation": "v",
           "showlegend": true,
           "textposition": "auto",
           "type": "bar",
           "x": {
            "bdata": "Ag==",
            "dtype": "i1"
           },
           "xaxis": "x",
           "y": {
            "bdata": "3gc=",
            "dtype": "i2"
           },
           "yaxis": "y"
          },
          {
           "hovertemplate": "page2_clothing_model=B17<br>month=8<br>Main Category=%{x}<br>Total Price=%{y}<extra></extra>",
           "ids": {
            "bdata": "Ag==",
            "dtype": "i1"
           },
           "legendgroup": "B17",
           "marker": {
            "color": "#FFA15A",
            "pattern": {
             "shape": ""
            }
           },
           "name": "B17",
           "orientation": "v",
           "showlegend": true,
           "textposition": "auto",
           "type": "bar",
           "x": {
            "bdata": "Ag==",
            "dtype": "i1"
           },
           "xaxis": "x",
           "y": {
            "bdata": "wgg=",
            "dtype": "i2"
           },
           "yaxis": "y"
          },
          {
           "hovertemplate": "page2_clothing_model=B12<br>month=8<br>Main Category=%{x}<br>Total Price=%{y}<extra></extra>",
           "ids": {
            "bdata": "Ag==",
            "dtype": "i1"
           },
           "legendgroup": "B12",
           "marker": {
            "color": "#19d3f3",
            "pattern": {
             "shape": ""
            }
           },
           "name": "B12",
           "orientation": "v",
           "showlegend": true,
           "textposition": "auto",
           "type": "bar",
           "x": {
            "bdata": "Ag==",
            "dtype": "i1"
           },
           "xaxis": "x",
           "y": {
            "bdata": "Zg4=",
            "dtype": "i2"
           },
           "yaxis": "y"
          },
          {
           "hovertemplate": "page2_clothing_model=A16<br>month=8<br>Main Category=%{x}<br>Total Price=%{y}<extra></extra>",
           "ids": {
            "bdata": "AQ==",
            "dtype": "i1"
           },
           "legendgroup": "A16",
           "marker": {
            "color": "#FF6692",
            "pattern": {
             "shape": ""
            }
           },
           "name": "A16",
           "orientation": "v",
           "showlegend": true,
           "textposition": "auto",
           "type": "bar",
           "x": {
            "bdata": "AQ==",
            "dtype": "i1"
           },
           "xaxis": "x",
           "y": {
            "bdata": "5Qg=",
            "dtype": "i2"
           },
           "yaxis": "y"
          },
          {
           "hovertemplate": "page2_clothing_model=B9<br>month=8<br>Main Category=%{x}<br>Total Price=%{y}<extra></extra>",
           "ids": {
            "bdata": "Ag==",
            "dtype": "i1"
           },
           "legendgroup": "B9",
           "marker": {
            "color": "#B6E880",
            "pattern": {
             "shape": ""
            }
           },
           "name": "B9",
           "orientation": "v",
           "showlegend": true,
           "textposition": "auto",
           "type": "bar",
           "x": {
            "bdata": "Ag==",
            "dtype": "i1"
           },
           "xaxis": "x",
           "y": {
            "bdata": "sAc=",
            "dtype": "i2"
           },
           "yaxis": "y"
          },
          {
           "hovertemplate": "page2_clothing_model=A13<br>month=8<br>Main Category=%{x}<br>Total Price=%{y}<extra></extra>",
           "ids": {
            "bdata": "AQ==",
            "dtype": "i1"
           },
           "legendgroup": "A13",
           "marker": {
            "color": "#FF97FF",
            "pattern": {
             "shape": ""
            }
           },
           "name": "A13",
           "orientation": "v",
           "showlegend": true,
           "textposition": "auto",
           "type": "bar",
           "x": {
            "bdata": "AQ==",
            "dtype": "i1"
           },
           "xaxis": "x",
           "y": {
            "bdata": "FAk=",
            "dtype": "i2"
           },
           "yaxis": "y"
          },
          {
           "hovertemplate": "page2_clothing_model=B19<br>month=8<br>Main Category=%{x}<br>Total Price=%{y}<extra></extra>",
           "ids": {
            "bdata": "Ag==",
            "dtype": "i1"
           },
           "legendgroup": "B19",
           "marker": {
            "color": "#FECB52",
            "pattern": {
             "shape": ""
            }
           },
           "name": "B19",
           "orientation": "v",
           "showlegend": true,
           "textposition": "auto",
           "type": "bar",
           "x": {
            "bdata": "Ag==",
            "dtype": "i1"
           },
           "xaxis": "x",
           "y": {
            "bdata": "ygU=",
            "dtype": "i2"
           },
           "yaxis": "y"
          },
          {
           "hovertemplate": "page2_clothing_model=A33<br>month=8<br>Main Category=%{x}<br>Total Price=%{y}<extra></extra>",
           "ids": {
            "bdata": "AQ==",
            "dtype": "i1"
           },
           "legendgroup": "A33",
           "marker": {
            "color": "#636efa",
            "pattern": {
             "shape": ""
            }
           },
           "name": "A33",
           "orientation": "v",
           "showlegend": true,
           "textposition": "auto",
           "type": "bar",
           "x": {
            "bdata": "AQ==",
            "dtype": "i1"
           },
           "xaxis": "x",
           "y": {
            "bdata": "MgU=",
            "dtype": "i2"
           },
           "yaxis": "y"
          },
          {
           "hovertemplate": "page2_clothing_model=P12<br>month=8<br>Main Category=%{x}<br>Total Price=%{y}<extra></extra>",
           "ids": {
            "bdata": "BA==",
            "dtype": "i1"
           },
           "legendgroup": "P12",
           "marker": {
            "color": "#EF553B",
            "pattern": {
             "shape": ""
            }
           },
           "name": "P12",
           "orientation": "v",
           "showlegend": true,
           "textposition": "auto",
           "type": "bar",
           "x": {
            "bdata": "BA==",
            "dtype": "i1"
           },
           "xaxis": "x",
           "y": {
            "bdata": "Fwc=",
            "dtype": "i2"
           },
           "yaxis": "y"
          },
          {
           "hovertemplate": "page2_clothing_model=A41<br>month=8<br>Main Category=%{x}<br>Total Price=%{y}<extra></extra>",
           "ids": {
            "bdata": "AQ==",
            "dtype": "i1"
           },
           "legendgroup": "A41",
           "marker": {
            "color": "#00cc96",
            "pattern": {
             "shape": ""
            }
           },
           "name": "A41",
           "orientation": "v",
           "showlegend": true,
           "textposition": "auto",
           "type": "bar",
           "x": {
            "bdata": "AQ==",
            "dtype": "i1"
           },
           "xaxis": "x",
           "y": {
            "bdata": "3QM=",
            "dtype": "i2"
           },
           "yaxis": "y"
          },
          {
           "hovertemplate": "page2_clothing_model=C1<br>month=8<br>Main Category=%{x}<br>Total Price=%{y}<extra></extra>",
           "ids": {
            "bdata": "Aw==",
            "dtype": "i1"
           },
           "legendgroup": "C1",
           "marker": {
            "color": "#ab63fa",
            "pattern": {
             "shape": ""
            }
           },
           "name": "C1",
           "orientation": "v",
           "showlegend": true,
           "textposition": "auto",
           "type": "bar",
           "x": {
            "bdata": "Aw==",
            "dtype": "i1"
           },
           "xaxis": "x",
           "y": {
            "bdata": "dAY=",
            "dtype": "i2"
           },
           "yaxis": "y"
          },
          {
           "hovertemplate": "page2_clothing_model=A18<br>month=8<br>Main Category=%{x}<br>Total Price=%{y}<extra></extra>",
           "ids": {
            "bdata": "AQ==",
            "dtype": "i1"
           },
           "legendgroup": "A18",
           "marker": {
            "color": "#FFA15A",
            "pattern": {
             "shape": ""
            }
           },
           "name": "A18",
           "orientation": "v",
           "showlegend": true,
           "textposition": "auto",
           "type": "bar",
           "x": {
            "bdata": "AQ==",
            "dtype": "i1"
           },
           "xaxis": "x",
           "y": {
            "bdata": "6gw=",
            "dtype": "i2"
           },
           "yaxis": "y"
          },
          {
           "hovertemplate": "page2_clothing_model=B34<br>month=8<br>Main Category=%{x}<br>Total Price=%{y}<extra></extra>",
           "ids": {
            "bdata": "Ag==",
            "dtype": "i1"
           },
           "legendgroup": "B34",
           "marker": {
            "color": "#19d3f3",
            "pattern": {
             "shape": ""
            }
           },
           "name": "B34",
           "orientation": "v",
           "showlegend": true,
           "textposition": "auto",
           "type": "bar",
           "x": {
            "bdata": "Ag==",
            "dtype": "i1"
           },
           "xaxis": "x",
           "y": {
            "bdata": "gAo=",
            "dtype": "i2"
           },
           "yaxis": "y"
          },
          {
           "hovertemplate": "page2_clothing_model=A30<br>month=8<br>Main Category=%{x}<br>Total Price=%{y}<extra></extra>",
           "ids": {
            "bdata": "AQ==",
            "dtype": "i1"
           },
           "legendgroup": "A30",
           "marker": {
            "color": "#FF6692",
            "pattern": {
             "shape": ""
            }
           },
           "name": "A30",
           "orientation": "v",
           "showlegend": true,
           "textposition": "auto",
           "type": "bar",
           "x": {
            "bdata": "AQ==",
            "dtype": "i1"
           },
           "xaxis": "x",
           "y": {
            "bdata": "tgM=",
            "dtype": "i2"
           },
           "yaxis": "y"
          },
          {
           "hovertemplate": "page2_clothing_model=C40<br>month=8<br>Main Category=%{x}<br>Total Price=%{y}<extra></extra>",
           "ids": {
            "bdata": "Aw==",
            "dtype": "i1"
           },
           "legendgroup": "C40",
           "marker": {
            "color": "#B6E880",
            "pattern": {
             "shape": ""
            }
           },
           "name": "C40",
           "orientation": "v",
           "showlegend": true,
           "textposition": "auto",
           "type": "bar",
           "x": {
            "bdata": "Aw==",
            "dtype": "i1"
           },
           "xaxis": "x",
           "y": {
            "bdata": "YAs=",
            "dtype": "i2"
           },
           "yaxis": "y"
          },
          {
           "hovertemplate": "page2_clothing_model=P48<br>month=8<br>Main Category=%{x}<br>Total Price=%{y}<extra></extra>",
           "ids": {
            "bdata": "BA==",
            "dtype": "i1"
           },
           "legendgroup": "P48",
           "marker": {
            "color": "#FF97FF",
            "pattern": {
             "shape": ""
            }
           },
           "name": "P48",
           "orientation": "v",
           "showlegend": true,
           "textposition": "auto",
           "type": "bar",
           "x": {
            "bdata": "BA==",
            "dtype": "i1"
           },
           "xaxis": "x",
           "y": {
            "bdata": "WgM=",
            "dtype": "i2"
           },
           "yaxis": "y"
          },
          {
           "hovertemplate": "page2_clothing_model=C14<br>month=8<br>Main Category=%{x}<br>Total Price=%{y}<extra></extra>",
           "ids": {
            "bdata": "Aw==",
            "dtype": "i1"
           },
           "legendgroup": "C14",
           "marker": {
            "color": "#FECB52",
            "pattern": {
             "shape": ""
            }
           },
           "name": "C14",
           "orientation": "v",
           "showlegend": true,
           "textposition": "auto",
           "type": "bar",
           "x": {
            "bdata": "Aw==",
            "dtype": "i1"
           },
           "xaxis": "x",
           "y": {
            "bdata": "CAU=",
            "dtype": "i2"
           },
           "yaxis": "y"
          },
          {
           "hovertemplate": "page2_clothing_model=P2<br>month=8<br>Main Category=%{x}<br>Total Price=%{y}<extra></extra>",
           "ids": {
            "bdata": "BA==",
            "dtype": "i1"
           },
           "legendgroup": "P2",
           "marker": {
            "color": "#636efa",
            "pattern": {
             "shape": ""
            }
           },
           "name": "P2",
           "orientation": "v",
           "showlegend": true,
           "textposition": "auto",
           "type": "bar",
           "x": {
            "bdata": "BA==",
            "dtype": "i1"
           },
           "xaxis": "x",
           "y": {
            "bdata": "EAo=",
            "dtype": "i2"
           },
           "yaxis": "y"
          },
          {
           "hovertemplate": "page2_clothing_model=A32<br>month=8<br>Main Category=%{x}<br>Total Price=%{y}<extra></extra>",
           "ids": {
            "bdata": "AQ==",
            "dtype": "i1"
           },
           "legendgroup": "A32",
           "marker": {
            "color": "#EF553B",
            "pattern": {
             "shape": ""
            }
           },
           "name": "A32",
           "orientation": "v",
           "showlegend": true,
           "textposition": "auto",
           "type": "bar",
           "x": {
            "bdata": "AQ==",
            "dtype": "i1"
           },
           "xaxis": "x",
           "y": {
            "bdata": "kgc=",
            "dtype": "i2"
           },
           "yaxis": "y"
          },
          {
           "hovertemplate": "page2_clothing_model=C6<br>month=8<br>Main Category=%{x}<br>Total Price=%{y}<extra></extra>",
           "ids": {
            "bdata": "Aw==",
            "dtype": "i1"
           },
           "legendgroup": "C6",
           "marker": {
            "color": "#00cc96",
            "pattern": {
             "shape": ""
            }
           },
           "name": "C6",
           "orientation": "v",
           "showlegend": true,
           "textposition": "auto",
           "type": "bar",
           "x": {
            "bdata": "Aw==",
            "dtype": "i1"
           },
           "xaxis": "x",
           "y": {
            "bdata": "vQM=",
            "dtype": "i2"
           },
           "yaxis": "y"
          },
          {
           "hovertemplate": "page2_clothing_model=C53<br>month=8<br>Main Category=%{x}<br>Total Price=%{y}<extra></extra>",
           "ids": {
            "bdata": "Aw==",
            "dtype": "i1"
           },
           "legendgroup": "C53",
           "marker": {
            "color": "#ab63fa",
            "pattern": {
             "shape": ""
            }
           },
           "name": "C53",
           "orientation": "v",
           "showlegend": true,
           "textposition": "auto",
           "type": "bar",
           "x": {
            "bdata": "Aw==",
            "dtype": "i1"
           },
           "xaxis": "x",
           "y": {
            "bdata": "Rgc=",
            "dtype": "i2"
           },
           "yaxis": "y"
          },
          {
           "hovertemplate": "page2_clothing_model=C57<br>month=8<br>Main Category=%{x}<br>Total Price=%{y}<extra></extra>",
           "ids": {
            "bdata": "Aw==",
            "dtype": "i1"
           },
           "legendgroup": "C57",
           "marker": {
            "color": "#FFA15A",
            "pattern": {
             "shape": ""
            }
           },
           "name": "C57",
           "orientation": "v",
           "showlegend": true,
           "textposition": "auto",
           "type": "bar",
           "x": {
            "bdata": "Aw==",
            "dtype": "i1"
           },
           "xaxis": "x",
           "y": {
            "bdata": "3As=",
            "dtype": "i2"
           },
           "yaxis": "y"
          },
          {
           "hovertemplate": "page2_clothing_model=C11<br>month=8<br>Main Category=%{x}<br>Total Price=%{y}<extra></extra>",
           "ids": {
            "bdata": "Aw==",
            "dtype": "i1"
           },
           "legendgroup": "C11",
           "marker": {
            "color": "#19d3f3",
            "pattern": {
             "shape": ""
            }
           },
           "name": "C11",
           "orientation": "v",
           "showlegend": true,
           "textposition": "auto",
           "type": "bar",
           "x": {
            "bdata": "Aw==",
            "dtype": "i1"
           },
           "xaxis": "x",
           "y": {
            "bdata": "xQQ=",
            "dtype": "i2"
           },
           "yaxis": "y"
          },
          {
           "hovertemplate": "page2_clothing_model=B25<br>month=8<br>Main Category=%{x}<br>Total Price=%{y}<extra></extra>",
           "ids": {
            "bdata": "Ag==",
            "dtype": "i1"
           },
           "legendgroup": "B25",
           "marker": {
            "color": "#FF6692",
            "pattern": {
             "shape": ""
            }
           },
           "name": "B25",
           "orientation": "v",
           "showlegend": true,
           "textposition": "auto",
           "type": "bar",
           "x": {
            "bdata": "Ag==",
            "dtype": "i1"
           },
           "xaxis": "x",
           "y": {
            "bdata": "wAQ=",
            "dtype": "i2"
           },
           "yaxis": "y"
          },
          {
           "hovertemplate": "page2_clothing_model=A28<br>month=8<br>Main Category=%{x}<br>Total Price=%{y}<extra></extra>",
           "ids": {
            "bdata": "AQ==",
            "dtype": "i1"
           },
           "legendgroup": "A28",
           "marker": {
            "color": "#B6E880",
            "pattern": {
             "shape": ""
            }
           },
           "name": "A28",
           "orientation": "v",
           "showlegend": true,
           "textposition": "auto",
           "type": "bar",
           "x": {
            "bdata": "AQ==",
            "dtype": "i1"
           },
           "xaxis": "x",
           "y": {
            "bdata": "BAI=",
            "dtype": "i2"
           },
           "yaxis": "y"
          },
          {
           "hovertemplate": "page2_clothing_model=A20<br>month=8<br>Main Category=%{x}<br>Total Price=%{y}<extra></extra>",
           "ids": {
            "bdata": "AQ==",
            "dtype": "i1"
           },
           "legendgroup": "A20",
           "marker": {
            "color": "#FF97FF",
            "pattern": {
             "shape": ""
            }
           },
           "name": "A20",
           "orientation": "v",
           "showlegend": true,
           "textposition": "auto",
           "type": "bar",
           "x": {
            "bdata": "AQ==",
            "dtype": "i1"
           },
           "xaxis": "x",
           "y": {
            "bdata": "wAQ=",
            "dtype": "i2"
           },
           "yaxis": "y"
          },
          {
           "hovertemplate": "page2_clothing_model=P23<br>month=8<br>Main Category=%{x}<br>Total Price=%{y}<extra></extra>",
           "ids": {
            "bdata": "BA==",
            "dtype": "i1"
           },
           "legendgroup": "P23",
           "marker": {
            "color": "#FECB52",
            "pattern": {
             "shape": ""
            }
           },
           "name": "P23",
           "orientation": "v",
           "showlegend": true,
           "textposition": "auto",
           "type": "bar",
           "x": {
            "bdata": "BA==",
            "dtype": "i1"
           },
           "xaxis": "x",
           "y": {
            "bdata": "2Ak=",
            "dtype": "i2"
           },
           "yaxis": "y"
          },
          {
           "hovertemplate": "page2_clothing_model=A34<br>month=8<br>Main Category=%{x}<br>Total Price=%{y}<extra></extra>",
           "ids": {
            "bdata": "AQ==",
            "dtype": "i1"
           },
           "legendgroup": "A34",
           "marker": {
            "color": "#636efa",
            "pattern": {
             "shape": ""
            }
           },
           "name": "A34",
           "orientation": "v",
           "showlegend": true,
           "textposition": "auto",
           "type": "bar",
           "x": {
            "bdata": "AQ==",
            "dtype": "i1"
           },
           "xaxis": "x",
           "y": {
            "bdata": "3gc=",
            "dtype": "i2"
           },
           "yaxis": "y"
          },
          {
           "hovertemplate": "page2_clothing_model=C41<br>month=8<br>Main Category=%{x}<br>Total Price=%{y}<extra></extra>",
           "ids": {
            "bdata": "Aw==",
            "dtype": "i1"
           },
           "legendgroup": "C41",
           "marker": {
            "color": "#EF553B",
            "pattern": {
             "shape": ""
            }
           },
           "name": "C41",
           "orientation": "v",
           "showlegend": true,
           "textposition": "auto",
           "type": "bar",
           "x": {
            "bdata": "Aw==",
            "dtype": "i1"
           },
           "xaxis": "x",
           "y": {
            "bdata": "1AM=",
            "dtype": "i2"
           },
           "yaxis": "y"
          },
          {
           "hovertemplate": "page2_clothing_model=P49<br>month=8<br>Main Category=%{x}<br>Total Price=%{y}<extra></extra>",
           "ids": {
            "bdata": "BA==",
            "dtype": "i1"
           },
           "legendgroup": "P49",
           "marker": {
            "color": "#00cc96",
            "pattern": {
             "shape": ""
            }
           },
           "name": "P49",
           "orientation": "v",
           "showlegend": true,
           "textposition": "auto",
           "type": "bar",
           "x": {
            "bdata": "BA==",
            "dtype": "i1"
           },
           "xaxis": "x",
           "y": {
            "bdata": "ewM=",
            "dtype": "i2"
           },
           "yaxis": "y"
          },
          {
           "hovertemplate": "page2_clothing_model=C49<br>month=8<br>Main Category=%{x}<br>Total Price=%{y}<extra></extra>",
           "ids": {
            "bdata": "Aw==",
            "dtype": "i1"
           },
           "legendgroup": "C49",
           "marker": {
            "color": "#ab63fa",
            "pattern": {
             "shape": ""
            }
           },
           "name": "C49",
           "orientation": "v",
           "showlegend": true,
           "textposition": "auto",
           "type": "bar",
           "x": {
            "bdata": "Aw==",
            "dtype": "i1"
           },
           "xaxis": "x",
           "y": {
            "bdata": "TAY=",
            "dtype": "i2"
           },
           "yaxis": "y"
          },
          {
           "hovertemplate": "page2_clothing_model=C30<br>month=8<br>Main Category=%{x}<br>Total Price=%{y}<extra></extra>",
           "ids": {
            "bdata": "Aw==",
            "dtype": "i1"
           },
           "legendgroup": "C30",
           "marker": {
            "color": "#FFA15A",
            "pattern": {
             "shape": ""
            }
           },
           "name": "C30",
           "orientation": "v",
           "showlegend": true,
           "textposition": "auto",
           "type": "bar",
           "x": {
            "bdata": "Aw==",
            "dtype": "i1"
           },
           "xaxis": "x",
           "y": {
            "bdata": "qAc=",
            "dtype": "i2"
           },
           "yaxis": "y"
          },
          {
           "hovertemplate": "page2_clothing_model=C10<br>month=8<br>Main Category=%{x}<br>Total Price=%{y}<extra></extra>",
           "ids": {
            "bdata": "Aw==",
            "dtype": "i1"
           },
           "legendgroup": "C10",
           "marker": {
            "color": "#19d3f3",
            "pattern": {
             "shape": ""
            }
           },
           "name": "C10",
           "orientation": "v",
           "showlegend": true,
           "textposition": "auto",
           "type": "bar",
           "x": {
            "bdata": "Aw==",
            "dtype": "i1"
           },
           "xaxis": "x",
           "y": {
            "bdata": "1AM=",
            "dtype": "i2"
           },
           "yaxis": "y"
          },
          {
           "hovertemplate": "page2_clothing_model=P50<br>month=8<br>Main Category=%{x}<br>Total Price=%{y}<extra></extra>",
           "ids": {
            "bdata": "BA==",
            "dtype": "i1"
           },
           "legendgroup": "P50",
           "marker": {
            "color": "#FF6692",
            "pattern": {
             "shape": ""
            }
           },
           "name": "P50",
           "orientation": "v",
           "showlegend": true,
           "textposition": "auto",
           "type": "bar",
           "x": {
            "bdata": "BA==",
            "dtype": "i1"
           },
           "xaxis": "x",
           "y": {
            "bdata": "nAM=",
            "dtype": "i2"
           },
           "yaxis": "y"
          },
          {
           "hovertemplate": "page2_clothing_model=A42<br>month=8<br>Main Category=%{x}<br>Total Price=%{y}<extra></extra>",
           "ids": {
            "bdata": "AQ==",
            "dtype": "i1"
           },
           "legendgroup": "A42",
           "marker": {
            "color": "#B6E880",
            "pattern": {
             "shape": ""
            }
           },
           "name": "A42",
           "orientation": "v",
           "showlegend": true,
           "textposition": "auto",
           "type": "bar",
           "x": {
            "bdata": "AQ==",
            "dtype": "i1"
           },
           "xaxis": "x",
           "y": {
            "bdata": "lAU=",
            "dtype": "i2"
           },
           "yaxis": "y"
          },
          {
           "hovertemplate": "page2_clothing_model=P5<br>month=8<br>Main Category=%{x}<br>Total Price=%{y}<extra></extra>",
           "ids": {
            "bdata": "BA==",
            "dtype": "i1"
           },
           "legendgroup": "P5",
           "marker": {
            "color": "#FF97FF",
            "pattern": {
             "shape": ""
            }
           },
           "name": "P5",
           "orientation": "v",
           "showlegend": true,
           "textposition": "auto",
           "type": "bar",
           "x": {
            "bdata": "BA==",
            "dtype": "i1"
           },
           "xaxis": "x",
           "y": {
            "bdata": "rwM=",
            "dtype": "i2"
           },
           "yaxis": "y"
          },
          {
           "hovertemplate": "page2_clothing_model=P8<br>month=8<br>Main Category=%{x}<br>Total Price=%{y}<extra></extra>",
           "ids": {
            "bdata": "BA==",
            "dtype": "i1"
           },
           "legendgroup": "P8",
           "marker": {
            "color": "#FECB52",
            "pattern": {
             "shape": ""
            }
           },
           "name": "P8",
           "orientation": "v",
           "showlegend": true,
           "textposition": "auto",
           "type": "bar",
           "x": {
            "bdata": "BA==",
            "dtype": "i1"
           },
           "xaxis": "x",
           "y": {
            "bdata": "5AY=",
            "dtype": "i2"
           },
           "yaxis": "y"
          },
          {
           "hovertemplate": "page2_clothing_model=A26<br>month=8<br>Main Category=%{x}<br>Total Price=%{y}<extra></extra>",
           "ids": {
            "bdata": "AQ==",
            "dtype": "i1"
           },
           "legendgroup": "A26",
           "marker": {
            "color": "#636efa",
            "pattern": {
             "shape": ""
            }
           },
           "name": "A26",
           "orientation": "v",
           "showlegend": true,
           "textposition": "auto",
           "type": "bar",
           "x": {
            "bdata": "AQ==",
            "dtype": "i1"
           },
           "xaxis": "x",
           "y": {
            "bdata": "rAI=",
            "dtype": "i2"
           },
           "yaxis": "y"
          },
          {
           "hovertemplate": "page2_clothing_model=P60<br>month=8<br>Main Category=%{x}<br>Total Price=%{y}<extra></extra>",
           "ids": {
            "bdata": "BA==",
            "dtype": "i1"
           },
           "legendgroup": "P60",
           "marker": {
            "color": "#EF553B",
            "pattern": {
             "shape": ""
            }
           },
           "name": "P60",
           "orientation": "v",
           "showlegend": true,
           "textposition": "auto",
           "type": "bar",
           "x": {
            "bdata": "BA==",
            "dtype": "i1"
           },
           "xaxis": "x",
           "y": {
            "bdata": "UAE=",
            "dtype": "i2"
           },
           "yaxis": "y"
          },
          {
           "hovertemplate": "page2_clothing_model=B7<br>month=8<br>Main Category=%{x}<br>Total Price=%{y}<extra></extra>",
           "ids": {
            "bdata": "Ag==",
            "dtype": "i1"
           },
           "legendgroup": "B7",
           "marker": {
            "color": "#00cc96",
            "pattern": {
             "shape": ""
            }
           },
           "name": "B7",
           "orientation": "v",
           "showlegend": true,
           "textposition": "auto",
           "type": "bar",
           "x": {
            "bdata": "Ag==",
            "dtype": "i1"
           },
           "xaxis": "x",
           "y": {
            "bdata": "hgI=",
            "dtype": "i2"
           },
           "yaxis": "y"
          },
          {
           "hovertemplate": "page2_clothing_model=B28<br>month=8<br>Main Category=%{x}<br>Total Price=%{y}<extra></extra>",
           "ids": {
            "bdata": "Ag==",
            "dtype": "i1"
           },
           "legendgroup": "B28",
           "marker": {
            "color": "#ab63fa",
            "pattern": {
             "shape": ""
            }
           },
           "name": "B28",
           "orientation": "v",
           "showlegend": true,
           "textposition": "auto",
           "type": "bar",
           "x": {
            "bdata": "Ag==",
            "dtype": "i1"
           },
           "xaxis": "x",
           "y": {
            "bdata": "DAU=",
            "dtype": "i2"
           },
           "yaxis": "y"
          },
          {
           "hovertemplate": "page2_clothing_model=C16<br>month=8<br>Main Category=%{x}<br>Total Price=%{y}<extra></extra>",
           "ids": {
            "bdata": "Aw==",
            "dtype": "i1"
           },
           "legendgroup": "C16",
           "marker": {
            "color": "#FFA15A",
            "pattern": {
             "shape": ""
            }
           },
           "name": "C16",
           "orientation": "v",
           "showlegend": true,
           "textposition": "auto",
           "type": "bar",
           "x": {
            "bdata": "Aw==",
            "dtype": "i1"
           },
           "xaxis": "x",
           "y": {
            "bdata": "EAM=",
            "dtype": "i2"
           },
           "yaxis": "y"
          },
          {
           "hovertemplate": "page2_clothing_model=P55<br>month=8<br>Main Category=%{x}<br>Total Price=%{y}<extra></extra>",
           "ids": {
            "bdata": "BA==",
            "dtype": "i1"
           },
           "legendgroup": "P55",
           "marker": {
            "color": "#19d3f3",
            "pattern": {
             "shape": ""
            }
           },
           "name": "P55",
           "orientation": "v",
           "showlegend": true,
           "textposition": "auto",
           "type": "bar",
           "x": {
            "bdata": "BA==",
            "dtype": "i1"
           },
           "xaxis": "x",
           "y": {
            "bdata": "zgE=",
            "dtype": "i2"
           },
           "yaxis": "y"
          },
          {
           "hovertemplate": "page2_clothing_model=C42<br>month=8<br>Main Category=%{x}<br>Total Price=%{y}<extra></extra>",
           "ids": {
            "bdata": "Aw==",
            "dtype": "i1"
           },
           "legendgroup": "C42",
           "marker": {
            "color": "#FF6692",
            "pattern": {
             "shape": ""
            }
           },
           "name": "C42",
           "orientation": "v",
           "showlegend": true,
           "textposition": "auto",
           "type": "bar",
           "x": {
            "bdata": "Aw==",
            "dtype": "i1"
           },
           "xaxis": "x",
           "y": {
            "bdata": "wAE=",
            "dtype": "i2"
           },
           "yaxis": "y"
          },
          {
           "hovertemplate": "page2_clothing_model=P20<br>month=8<br>Main Category=%{x}<br>Total Price=%{y}<extra></extra>",
           "ids": {
            "bdata": "BA==",
            "dtype": "i1"
           },
           "legendgroup": "P20",
           "marker": {
            "color": "#B6E880",
            "pattern": {
             "shape": ""
            }
           },
           "name": "P20",
           "orientation": "v",
           "showlegend": true,
           "textposition": "auto",
           "type": "bar",
           "x": {
            "bdata": "BA==",
            "dtype": "i1"
           },
           "xaxis": "x",
           "y": {
            "bdata": "4wE=",
            "dtype": "i2"
           },
           "yaxis": "y"
          },
          {
           "hovertemplate": "page2_clothing_model=A39<br>month=8<br>Main Category=%{x}<br>Total Price=%{y}<extra></extra>",
           "ids": {
            "bdata": "AQ==",
            "dtype": "i1"
           },
           "legendgroup": "A39",
           "marker": {
            "color": "#FF97FF",
            "pattern": {
             "shape": ""
            }
           },
           "name": "A39",
           "orientation": "v",
           "showlegend": true,
           "textposition": "auto",
           "type": "bar",
           "x": {
            "bdata": "AQ==",
            "dtype": "i1"
           },
           "xaxis": "x",
           "y": {
            "bdata": "Kgg=",
            "dtype": "i2"
           },
           "yaxis": "y"
          },
          {
           "hovertemplate": "page2_clothing_model=A35<br>month=8<br>Main Category=%{x}<br>Total Price=%{y}<extra></extra>",
           "ids": {
            "bdata": "AQ==",
            "dtype": "i1"
           },
           "legendgroup": "A35",
           "marker": {
            "color": "#FECB52",
            "pattern": {
             "shape": ""
            }
           },
           "name": "A35",
           "orientation": "v",
           "showlegend": true,
           "textposition": "auto",
           "type": "bar",
           "x": {
            "bdata": "AQ==",
            "dtype": "i1"
           },
           "xaxis": "x",
           "y": {
            "bdata": "jAE=",
            "dtype": "i2"
           },
           "yaxis": "y"
          },
          {
           "hovertemplate": "page2_clothing_model=A40<br>month=8<br>Main Category=%{x}<br>Total Price=%{y}<extra></extra>",
           "ids": {
            "bdata": "AQ==",
            "dtype": "i1"
           },
           "legendgroup": "A40",
           "marker": {
            "color": "#636efa",
            "pattern": {
             "shape": ""
            }
           },
           "name": "A40",
           "orientation": "v",
           "showlegend": true,
           "textposition": "auto",
           "type": "bar",
           "x": {
            "bdata": "AQ==",
            "dtype": "i1"
           },
           "xaxis": "x",
           "y": {
            "bdata": "HgM=",
            "dtype": "i2"
           },
           "yaxis": "y"
          },
          {
           "hovertemplate": "page2_clothing_model=C3<br>month=8<br>Main Category=%{x}<br>Total Price=%{y}<extra></extra>",
           "ids": {
            "bdata": "Aw==",
            "dtype": "i1"
           },
           "legendgroup": "C3",
           "marker": {
            "color": "#EF553B",
            "pattern": {
             "shape": ""
            }
           },
           "name": "C3",
           "orientation": "v",
           "showlegend": true,
           "textposition": "auto",
           "type": "bar",
           "x": {
            "bdata": "Aw==",
            "dtype": "i1"
           },
           "xaxis": "x",
           "y": {
            "bdata": "4AI=",
            "dtype": "i2"
           },
           "yaxis": "y"
          },
          {
           "hovertemplate": "page2_clothing_model=C15<br>month=8<br>Main Category=%{x}<br>Total Price=%{y}<extra></extra>",
           "ids": {
            "bdata": "Aw==",
            "dtype": "i1"
           },
           "legendgroup": "C15",
           "marker": {
            "color": "#00cc96",
            "pattern": {
             "shape": ""
            }
           },
           "name": "C15",
           "orientation": "v",
           "showlegend": true,
           "textposition": "auto",
           "type": "bar",
           "x": {
            "bdata": "Aw==",
            "dtype": "i1"
           },
           "xaxis": "x",
           "y": {
            "bdata": "WgM=",
            "dtype": "i2"
           },
           "yaxis": "y"
          },
          {
           "hovertemplate": "page2_clothing_model=A25<br>month=8<br>Main Category=%{x}<br>Total Price=%{y}<extra></extra>",
           "ids": {
            "bdata": "AQ==",
            "dtype": "i1"
           },
           "legendgroup": "A25",
           "marker": {
            "color": "#ab63fa",
            "pattern": {
             "shape": ""
            }
           },
           "name": "A25",
           "orientation": "v",
           "showlegend": true,
           "textposition": "auto",
           "type": "bar",
           "x": {
            "bdata": "AQ==",
            "dtype": "i1"
           },
           "xaxis": "x",
           "y": {
            "bdata": "5AA=",
            "dtype": "i2"
           },
           "yaxis": "y"
          },
          {
           "hovertemplate": "page2_clothing_model=P7<br>month=8<br>Main Category=%{x}<br>Total Price=%{y}<extra></extra>",
           "ids": {
            "bdata": "BA==",
            "dtype": "i1"
           },
           "legendgroup": "P7",
           "marker": {
            "color": "#FFA15A",
            "pattern": {
             "shape": ""
            }
           },
           "name": "P7",
           "orientation": "v",
           "showlegend": true,
           "textposition": "auto",
           "type": "bar",
           "x": {
            "bdata": "BA==",
            "dtype": "i1"
           },
           "xaxis": "x",
           "y": {
            "bdata": "6AU=",
            "dtype": "i2"
           },
           "yaxis": "y"
          },
          {
           "hovertemplate": "page2_clothing_model=C50<br>month=8<br>Main Category=%{x}<br>Total Price=%{y}<extra></extra>",
           "ids": {
            "bdata": "Aw==",
            "dtype": "i1"
           },
           "legendgroup": "C50",
           "marker": {
            "color": "#19d3f3",
            "pattern": {
             "shape": ""
            }
           },
           "name": "C50",
           "orientation": "v",
           "showlegend": true,
           "textposition": "auto",
           "type": "bar",
           "x": {
            "bdata": "Aw==",
            "dtype": "i1"
           },
           "xaxis": "x",
           "y": {
            "bdata": "PAU=",
            "dtype": "i2"
           },
           "yaxis": "y"
          },
          {
           "hovertemplate": "page2_clothing_model=P29<br>month=8<br>Main Category=%{x}<br>Total Price=%{y}<extra></extra>",
           "ids": {
            "bdata": "BA==",
            "dtype": "i1"
           },
           "legendgroup": "P29",
           "marker": {
            "color": "#FF6692",
            "pattern": {
             "shape": ""
            }
           },
           "name": "P29",
           "orientation": "v",
           "showlegend": true,
           "textposition": "auto",
           "type": "bar",
           "x": {
            "bdata": "BA==",
            "dtype": "i1"
           },
           "xaxis": "x",
           "y": {
            "bdata": "kwY=",
            "dtype": "i2"
           },
           "yaxis": "y"
          },
          {
           "hovertemplate": "page2_clothing_model=P9<br>month=8<br>Main Category=%{x}<br>Total Price=%{y}<extra></extra>",
           "ids": {
            "bdata": "BA==",
            "dtype": "i1"
           },
           "legendgroup": "P9",
           "marker": {
            "color": "#B6E880",
            "pattern": {
             "shape": ""
            }
           },
           "name": "P9",
           "orientation": "v",
           "showlegend": true,
           "textposition": "auto",
           "type": "bar",
           "x": {
            "bdata": "BA==",
            "dtype": "i1"
           },
           "xaxis": "x",
           "y": {
            "bdata": "kgU=",
            "dtype": "i2"
           },
           "yaxis": "y"
          },
          {
           "hovertemplate": "page2_clothing_model=P56<br>month=8<br>Main Category=%{x}<br>Total Price=%{y}<extra></extra>",
           "ids": {
            "bdata": "BA==",
            "dtype": "i1"
           },
           "legendgroup": "P56",
           "marker": {
            "color": "#FF97FF",
            "pattern": {
             "shape": ""
            }
           },
           "name": "P56",
           "orientation": "v",
           "showlegend": true,
           "textposition": "auto",
           "type": "bar",
           "x": {
            "bdata": "BA==",
            "dtype": "i1"
           },
           "xaxis": "x",
           "y": {
            "bdata": "EAI=",
            "dtype": "i2"
           },
           "yaxis": "y"
          },
          {
           "hovertemplate": "page2_clothing_model=C24<br>month=8<br>Main Category=%{x}<br>Total Price=%{y}<extra></extra>",
           "ids": {
            "bdata": "Aw==",
            "dtype": "i1"
           },
           "legendgroup": "C24",
           "marker": {
            "color": "#FECB52",
            "pattern": {
             "shape": ""
            }
           },
           "name": "C24",
           "orientation": "v",
           "showlegend": true,
           "textposition": "auto",
           "type": "bar",
           "x": {
            "bdata": "Aw==",
            "dtype": "i1"
           },
           "xaxis": "x",
           "y": {
            "bdata": "rAU=",
            "dtype": "i2"
           },
           "yaxis": "y"
          },
          {
           "hovertemplate": "page2_clothing_model=C26<br>month=8<br>Main Category=%{x}<br>Total Price=%{y}<extra></extra>",
           "ids": {
            "bdata": "Aw==",
            "dtype": "i1"
           },
           "legendgroup": "C26",
           "marker": {
            "color": "#636efa",
            "pattern": {
             "shape": ""
            }
           },
           "name": "C26",
           "orientation": "v",
           "showlegend": true,
           "textposition": "auto",
           "type": "bar",
           "x": {
            "bdata": "Aw==",
            "dtype": "i1"
           },
           "xaxis": "x",
           "y": {
            "bdata": "FAI=",
            "dtype": "i2"
           },
           "yaxis": "y"
          },
          {
           "hovertemplate": "page2_clothing_model=B20<br>month=8<br>Main Category=%{x}<br>Total Price=%{y}<extra></extra>",
           "ids": {
            "bdata": "Ag==",
            "dtype": "i1"
           },
           "legendgroup": "B20",
           "marker": {
            "color": "#EF553B",
            "pattern": {
             "shape": ""
            }
           },
           "name": "B20",
           "orientation": "v",
           "showlegend": true,
           "textposition": "auto",
           "type": "bar",
           "x": {
            "bdata": "Ag==",
            "dtype": "i1"
           },
           "xaxis": "x",
           "y": {
            "bdata": "YAU=",
            "dtype": "i2"
           },
           "yaxis": "y"
          },
          {
           "hovertemplate": "page2_clothing_model=C38<br>month=8<br>Main Category=%{x}<br>Total Price=%{y}<extra></extra>",
           "ids": {
            "bdata": "Aw==",
            "dtype": "i1"
           },
           "legendgroup": "C38",
           "marker": {
            "color": "#00cc96",
            "pattern": {
             "shape": ""
            }
           },
           "name": "C38",
           "orientation": "v",
           "showlegend": true,
           "textposition": "auto",
           "type": "bar",
           "x": {
            "bdata": "Aw==",
            "dtype": "i1"
           },
           "xaxis": "x",
           "y": {
            "bdata": "FAI=",
            "dtype": "i2"
           },
           "yaxis": "y"
          },
          {
           "hovertemplate": "page2_clothing_model=A23<br>month=8<br>Main Category=%{x}<br>Total Price=%{y}<extra></extra>",
           "ids": {
            "bdata": "AQ==",
            "dtype": "i1"
           },
           "legendgroup": "A23",
           "marker": {
            "color": "#ab63fa",
            "pattern": {
             "shape": ""
            }
           },
           "name": "A23",
           "orientation": "v",
           "showlegend": true,
           "textposition": "auto",
           "type": "bar",
           "x": {
            "bdata": "AQ==",
            "dtype": "i1"
           },
           "xaxis": "x",
           "y": {
            "bdata": "CAE=",
            "dtype": "i2"
           },
           "yaxis": "y"
          },
          {
           "hovertemplate": "page2_clothing_model=P18<br>month=8<br>Main Category=%{x}<br>Total Price=%{y}<extra></extra>",
           "ids": {
            "bdata": "BA==",
            "dtype": "i1"
           },
           "legendgroup": "P18",
           "marker": {
            "color": "#FFA15A",
            "pattern": {
             "shape": ""
            }
           },
           "name": "P18",
           "orientation": "v",
           "showlegend": true,
           "textposition": "auto",
           "type": "bar",
           "x": {
            "bdata": "BA==",
            "dtype": "i1"
           },
           "xaxis": "x",
           "y": {
            "bdata": "GAg=",
            "dtype": "i2"
           },
           "yaxis": "y"
          },
          {
           "hovertemplate": "page2_clothing_model=B33<br>month=8<br>Main Category=%{x}<br>Total Price=%{y}<extra></extra>",
           "ids": {
            "bdata": "Ag==",
            "dtype": "i1"
           },
           "legendgroup": "B33",
           "marker": {
            "color": "#19d3f3",
            "pattern": {
             "shape": ""
            }
           },
           "name": "B33",
           "orientation": "v",
           "showlegend": true,
           "textposition": "auto",
           "type": "bar",
           "x": {
            "bdata": "Ag==",
            "dtype": "i1"
           },
           "xaxis": "x",
           "y": {
            "bdata": "5gQ=",
            "dtype": "i2"
           },
           "yaxis": "y"
          },
          {
           "hovertemplate": "page2_clothing_model=A36<br>month=8<br>Main Category=%{x}<br>Total Price=%{y}<extra></extra>",
           "ids": {
            "bdata": "AQ==",
            "dtype": "i1"
           },
           "legendgroup": "A36",
           "marker": {
            "color": "#FF6692",
            "pattern": {
             "shape": ""
            }
           },
           "name": "A36",
           "orientation": "v",
           "showlegend": true,
           "textposition": "auto",
           "type": "bar",
           "x": {
            "bdata": "AQ==",
            "dtype": "i1"
           },
           "xaxis": "x",
           "y": {
            "bdata": "CAE=",
            "dtype": "i2"
           },
           "yaxis": "y"
          },
          {
           "hovertemplate": "page2_clothing_model=P61<br>month=8<br>Main Category=%{x}<br>Total Price=%{y}<extra></extra>",
           "ids": {
            "bdata": "BA==",
            "dtype": "i1"
           },
           "legendgroup": "P61",
           "marker": {
            "color": "#B6E880",
            "pattern": {
             "shape": ""
            }
           },
           "name": "P61",
           "orientation": "v",
           "showlegend": true,
           "textposition": "auto",
           "type": "bar",
           "x": {
            "bdata": "BA==",
            "dtype": "i1"
           },
           "xaxis": "x",
           "y": {
            "bdata": "nAM=",
            "dtype": "i2"
           },
           "yaxis": "y"
          },
          {
           "hovertemplate": "page2_clothing_model=C25<br>month=8<br>Main Category=%{x}<br>Total Price=%{y}<extra></extra>",
           "ids": {
            "bdata": "Aw==",
            "dtype": "i1"
           },
           "legendgroup": "C25",
           "marker": {
            "color": "#FF97FF",
            "pattern": {
             "shape": ""
            }
           },
           "name": "C25",
           "orientation": "v",
           "showlegend": true,
           "textposition": "auto",
           "type": "bar",
           "x": {
            "bdata": "Aw==",
            "dtype": "i1"
           },
           "xaxis": "x",
           "y": {
            "bdata": "KAU=",
            "dtype": "i2"
           },
           "yaxis": "y"
          },
          {
           "hovertemplate": "page2_clothing_model=C48<br>month=8<br>Main Category=%{x}<br>Total Price=%{y}<extra></extra>",
           "ids": {
            "bdata": "Aw==",
            "dtype": "i1"
           },
           "legendgroup": "C48",
           "marker": {
            "color": "#FECB52",
            "pattern": {
             "shape": ""
            }
           },
           "name": "C48",
           "orientation": "v",
           "showlegend": true,
           "textposition": "auto",
           "type": "bar",
           "x": {
            "bdata": "Aw==",
            "dtype": "i1"
           },
           "xaxis": "x",
           "y": {
            "bdata": "sAU=",
            "dtype": "i2"
           },
           "yaxis": "y"
          },
          {
           "hovertemplate": "page2_clothing_model=A19<br>month=8<br>Main Category=%{x}<br>Total Price=%{y}<extra></extra>",
           "ids": {
            "bdata": "AQ==",
            "dtype": "i1"
           },
           "legendgroup": "A19",
           "marker": {
            "color": "#636efa",
            "pattern": {
             "shape": ""
            }
           },
           "name": "A19",
           "orientation": "v",
           "showlegend": true,
           "textposition": "auto",
           "type": "bar",
           "x": {
            "bdata": "AQ==",
            "dtype": "i1"
           },
           "xaxis": "x",
           "y": {
            "bdata": "UgI=",
            "dtype": "i2"
           },
           "yaxis": "y"
          },
          {
           "hovertemplate": "page2_clothing_model=P72<br>month=8<br>Main Category=%{x}<br>Total Price=%{y}<extra></extra>",
           "ids": {
            "bdata": "BA==",
            "dtype": "i1"
           },
           "legendgroup": "P72",
           "marker": {
            "color": "#EF553B",
            "pattern": {
             "shape": ""
            }
           },
           "name": "P72",
           "orientation": "v",
           "showlegend": true,
           "textposition": "auto",
           "type": "bar",
           "x": {
            "bdata": "BA==",
            "dtype": "i1"
           },
           "xaxis": "x",
           "y": {
            "bdata": "UQY=",
            "dtype": "i2"
           },
           "yaxis": "y"
          },
          {
           "hovertemplate": "page2_clothing_model=P51<br>month=8<br>Main Category=%{x}<br>Total Price=%{y}<extra></extra>",
           "ids": {
            "bdata": "BA==",
            "dtype": "i1"
           },
           "legendgroup": "P51",
           "marker": {
            "color": "#00cc96",
            "pattern": {
             "shape": ""
            }
           },
           "name": "P51",
           "orientation": "v",
           "showlegend": true,
           "textposition": "auto",
           "type": "bar",
           "x": {
            "bdata": "BA==",
            "dtype": "i1"
           },
           "xaxis": "x",
           "y": {
            "bdata": "NAE=",
            "dtype": "i2"
           },
           "yaxis": "y"
          },
          {
           "hovertemplate": "page2_clothing_model=C31<br>month=8<br>Main Category=%{x}<br>Total Price=%{y}<extra></extra>",
           "ids": {
            "bdata": "Aw==",
            "dtype": "i1"
           },
           "legendgroup": "C31",
           "marker": {
            "color": "#ab63fa",
            "pattern": {
             "shape": ""
            }
           },
           "name": "C31",
           "orientation": "v",
           "showlegend": true,
           "textposition": "auto",
           "type": "bar",
           "x": {
            "bdata": "Aw==",
            "dtype": "i1"
           },
           "xaxis": "x",
           "y": {
            "bdata": "EAI=",
            "dtype": "i2"
           },
           "yaxis": "y"
          },
          {
           "hovertemplate": "page2_clothing_model=C51<br>month=8<br>Main Category=%{x}<br>Total Price=%{y}<extra></extra>",
           "ids": {
            "bdata": "Aw==",
            "dtype": "i1"
           },
           "legendgroup": "C51",
           "marker": {
            "color": "#FFA15A",
            "pattern": {
             "shape": ""
            }
           },
           "name": "C51",
           "orientation": "v",
           "showlegend": true,
           "textposition": "auto",
           "type": "bar",
           "x": {
            "bdata": "Aw==",
            "dtype": "i1"
           },
           "xaxis": "x",
           "y": {
            "bdata": "qAI=",
            "dtype": "i2"
           },
           "yaxis": "y"
          },
          {
           "hovertemplate": "page2_clothing_model=C32<br>month=8<br>Main Category=%{x}<br>Total Price=%{y}<extra></extra>",
           "ids": {
            "bdata": "Aw==",
            "dtype": "i1"
           },
           "legendgroup": "C32",
           "marker": {
            "color": "#19d3f3",
            "pattern": {
             "shape": ""
            }
           },
           "name": "C32",
           "orientation": "v",
           "showlegend": true,
           "textposition": "auto",
           "type": "bar",
           "x": {
            "bdata": "Aw==",
            "dtype": "i1"
           },
           "xaxis": "x",
           "y": {
            "bdata": "UgI=",
            "dtype": "i2"
           },
           "yaxis": "y"
          },
          {
           "hovertemplate": "page2_clothing_model=P46<br>month=8<br>Main Category=%{x}<br>Total Price=%{y}<extra></extra>",
           "ids": {
            "bdata": "BA==",
            "dtype": "i1"
           },
           "legendgroup": "P46",
           "marker": {
            "color": "#FF6692",
            "pattern": {
             "shape": ""
            }
           },
           "name": "P46",
           "orientation": "v",
           "showlegend": true,
           "textposition": "auto",
           "type": "bar",
           "x": {
            "bdata": "BA==",
            "dtype": "i1"
           },
           "xaxis": "x",
           "y": {
            "bdata": "3AE=",
            "dtype": "i2"
           },
           "yaxis": "y"
          },
          {
           "hovertemplate": "page2_clothing_model=P38<br>month=8<br>Main Category=%{x}<br>Total Price=%{y}<extra></extra>",
           "ids": {
            "bdata": "BA==",
            "dtype": "i1"
           },
           "legendgroup": "P38",
           "marker": {
            "color": "#B6E880",
            "pattern": {
             "shape": ""
            }
           },
           "name": "P38",
           "orientation": "v",
           "showlegend": true,
           "textposition": "auto",
           "type": "bar",
           "x": {
            "bdata": "BA==",
            "dtype": "i1"
           },
           "xaxis": "x",
           "y": {
            "bdata": "MQI=",
            "dtype": "i2"
           },
           "yaxis": "y"
          },
          {
           "hovertemplate": "page2_clothing_model=P47<br>month=8<br>Main Category=%{x}<br>Total Price=%{y}<extra></extra>",
           "ids": {
            "bdata": "BA==",
            "dtype": "i1"
           },
           "legendgroup": "P47",
           "marker": {
            "color": "#FF97FF",
            "pattern": {
             "shape": ""
            }
           },
           "name": "P47",
           "orientation": "v",
           "showlegend": true,
           "textposition": "auto",
           "type": "bar",
           "x": {
            "bdata": "BA==",
            "dtype": "i1"
           },
           "xaxis": "x",
           "y": {
            "bdata": "UAE=",
            "dtype": "i2"
           },
           "yaxis": "y"
          },
          {
           "hovertemplate": "page2_clothing_model=P71<br>month=8<br>Main Category=%{x}<br>Total Price=%{y}<extra></extra>",
           "ids": {
            "bdata": "BA==",
            "dtype": "i1"
           },
           "legendgroup": "P71",
           "marker": {
            "color": "#FECB52",
            "pattern": {
             "shape": ""
            }
           },
           "name": "P71",
           "orientation": "v",
           "showlegend": true,
           "textposition": "auto",
           "type": "bar",
           "x": {
            "bdata": "BA==",
            "dtype": "i1"
           },
           "xaxis": "x",
           "y": {
            "bdata": "BwU=",
            "dtype": "i2"
           },
           "yaxis": "y"
          },
          {
           "hovertemplate": "page2_clothing_model=P30<br>month=8<br>Main Category=%{x}<br>Total Price=%{y}<extra></extra>",
           "ids": {
            "bdata": "BA==",
            "dtype": "i1"
           },
           "legendgroup": "P30",
           "marker": {
            "color": "#636efa",
            "pattern": {
             "shape": ""
            }
           },
           "name": "P30",
           "orientation": "v",
           "showlegend": true,
           "textposition": "auto",
           "type": "bar",
           "x": {
            "bdata": "BA==",
            "dtype": "i1"
           },
           "xaxis": "x",
           "y": {
            "bdata": "1gI=",
            "dtype": "i2"
           },
           "yaxis": "y"
          },
          {
           "hovertemplate": "page2_clothing_model=P74<br>month=8<br>Main Category=%{x}<br>Total Price=%{y}<extra></extra>",
           "ids": {
            "bdata": "BA==",
            "dtype": "i1"
           },
           "legendgroup": "P74",
           "marker": {
            "color": "#EF553B",
            "pattern": {
             "shape": ""
            }
           },
           "name": "P74",
           "orientation": "v",
           "showlegend": true,
           "textposition": "auto",
           "type": "bar",
           "x": {
            "bdata": "BA==",
            "dtype": "i1"
           },
           "xaxis": "x",
           "y": {
            "bdata": "3gM=",
            "dtype": "i2"
           },
           "yaxis": "y"
          },
          {
           "hovertemplate": "page2_clothing_model=P63<br>month=8<br>Main Category=%{x}<br>Total Price=%{y}<extra></extra>",
           "ids": {
            "bdata": "BA==",
            "dtype": "i1"
           },
           "legendgroup": "P63",
           "marker": {
            "color": "#00cc96",
            "pattern": {
             "shape": ""
            }
           },
           "name": "P63",
           "orientation": "v",
           "showlegend": true,
           "textposition": "auto",
           "type": "bar",
           "x": {
            "bdata": "BA==",
            "dtype": "i1"
           },
           "xaxis": "x",
           "y": {
            "bdata": "pAE=",
            "dtype": "i2"
           },
           "yaxis": "y"
          },
          {
           "hovertemplate": "page2_clothing_model=P42<br>month=8<br>Main Category=%{x}<br>Total Price=%{y}<extra></extra>",
           "ids": {
            "bdata": "BA==",
            "dtype": "i1"
           },
           "legendgroup": "P42",
           "marker": {
            "color": "#ab63fa",
            "pattern": {
             "shape": ""
            }
           },
           "name": "P42",
           "orientation": "v",
           "showlegend": true,
           "textposition": "auto",
           "type": "bar",
           "x": {
            "bdata": "BA==",
            "dtype": "i1"
           },
           "xaxis": "x",
           "y": {
            "bdata": "GAE=",
            "dtype": "i2"
           },
           "yaxis": "y"
          },
          {
           "hovertemplate": "page2_clothing_model=P21<br>month=8<br>Main Category=%{x}<br>Total Price=%{y}<extra></extra>",
           "ids": {
            "bdata": "BA==",
            "dtype": "i1"
           },
           "legendgroup": "P21",
           "marker": {
            "color": "#FFA15A",
            "pattern": {
             "shape": ""
            }
           },
           "name": "P21",
           "orientation": "v",
           "showlegend": true,
           "textposition": "auto",
           "type": "bar",
           "x": {
            "bdata": "BA==",
            "dtype": "i1"
           },
           "xaxis": "x",
           "y": {
            "bdata": "jAE=",
            "dtype": "i2"
           },
           "yaxis": "y"
          },
          {
           "hovertemplate": "page2_clothing_model=P44<br>month=8<br>Main Category=%{x}<br>Total Price=%{y}<extra></extra>",
           "ids": {
            "bdata": "BA==",
            "dtype": "i1"
           },
           "legendgroup": "P44",
           "marker": {
            "color": "#19d3f3",
            "pattern": {
             "shape": ""
            }
           },
           "name": "P44",
           "orientation": "v",
           "showlegend": true,
           "textposition": "auto",
           "type": "bar",
           "x": {
            "bdata": "BA==",
            "dtype": "i1"
           },
           "xaxis": "x",
           "y": {
            "bdata": "UAE=",
            "dtype": "i2"
           },
           "yaxis": "y"
          },
          {
           "hovertemplate": "page2_clothing_model=P75<br>month=8<br>Main Category=%{x}<br>Total Price=%{y}<extra></extra>",
           "ids": {
            "bdata": "BA==",
            "dtype": "i1"
           },
           "legendgroup": "P75",
           "marker": {
            "color": "#FF6692",
            "pattern": {
             "shape": ""
            }
           },
           "name": "P75",
           "orientation": "v",
           "showlegend": true,
           "textposition": "auto",
           "type": "bar",
           "x": {
            "bdata": "BA==",
            "dtype": "i1"
           },
           "xaxis": "x",
           "y": {
            "bdata": "awE=",
            "dtype": "i2"
           },
           "yaxis": "y"
          },
          {
           "hovertemplate": "page2_clothing_model=P27<br>month=8<br>Main Category=%{x}<br>Total Price=%{y}<extra></extra>",
           "ids": {
            "bdata": "BA==",
            "dtype": "i1"
           },
           "legendgroup": "P27",
           "marker": {
            "color": "#B6E880",
            "pattern": {
             "shape": ""
            }
           },
           "name": "P27",
           "orientation": "v",
           "showlegend": true,
           "textposition": "auto",
           "type": "bar",
           "x": {
            "bdata": "BA==",
            "dtype": "i1"
           },
           "xaxis": "x",
           "y": {
            "bdata": "MQI=",
            "dtype": "i2"
           },
           "yaxis": "y"
          },
          {
           "hovertemplate": "page2_clothing_model=C52<br>month=8<br>Main Category=%{x}<br>Total Price=%{y}<extra></extra>",
           "ids": {
            "bdata": "Aw==",
            "dtype": "i1"
           },
           "legendgroup": "C52",
           "marker": {
            "color": "#FF97FF",
            "pattern": {
             "shape": ""
            }
           },
           "name": "C52",
           "orientation": "v",
           "showlegend": true,
           "textposition": "auto",
           "type": "bar",
           "x": {
            "bdata": "Aw==",
            "dtype": "i1"
           },
           "xaxis": "x",
           "y": {
            "bdata": "YAI=",
            "dtype": "i2"
           },
           "yaxis": "y"
          },
          {
           "hovertemplate": "page2_clothing_model=P73<br>month=8<br>Main Category=%{x}<br>Total Price=%{y}<extra></extra>",
           "ids": {
            "bdata": "BA==",
            "dtype": "i1"
           },
           "legendgroup": "P73",
           "marker": {
            "color": "#FECB52",
            "pattern": {
             "shape": ""
            }
           },
           "name": "P73",
           "orientation": "v",
           "showlegend": true,
           "textposition": "auto",
           "type": "bar",
           "x": {
            "bdata": "BA==",
            "dtype": "i1"
           },
           "xaxis": "x",
           "y": {
            "bdata": "OQM=",
            "dtype": "i2"
           },
           "yaxis": "y"
          },
          {
           "hovertemplate": "page2_clothing_model=P80<br>month=8<br>Main Category=%{x}<br>Total Price=%{y}<extra></extra>",
           "ids": {
            "bdata": "BA==",
            "dtype": "i1"
           },
           "legendgroup": "P80",
           "marker": {
            "color": "#636efa",
            "pattern": {
             "shape": ""
            }
           },
           "name": "P80",
           "orientation": "v",
           "showlegend": true,
           "textposition": "auto",
           "type": "bar",
           "x": {
            "bdata": "BA==",
            "dtype": "i1"
           },
           "xaxis": "x",
           "y": {
            "bdata": "/AA=",
            "dtype": "i2"
           },
           "yaxis": "y"
          },
          {
           "hovertemplate": "page2_clothing_model=P35<br>month=8<br>Main Category=%{x}<br>Total Price=%{y}<extra></extra>",
           "ids": {
            "bdata": "BA==",
            "dtype": "i1"
           },
           "legendgroup": "P35",
           "marker": {
            "color": "#EF553B",
            "pattern": {
             "shape": ""
            }
           },
           "name": "P35",
           "orientation": "v",
           "showlegend": true,
           "textposition": "auto",
           "type": "bar",
           "x": {
            "bdata": "BA==",
            "dtype": "i1"
           },
           "xaxis": "x",
           "y": {
            "bdata": "SAM=",
            "dtype": "i2"
           },
           "yaxis": "y"
          },
          {
           "hovertemplate": "page2_clothing_model=P52<br>month=8<br>Main Category=%{x}<br>Total Price=%{y}<extra></extra>",
           "ids": {
            "bdata": "BA==",
            "dtype": "i1"
           },
           "legendgroup": "P52",
           "marker": {
            "color": "#00cc96",
            "pattern": {
             "shape": ""
            }
           },
           "name": "P52",
           "orientation": "v",
           "showlegend": true,
           "textposition": "auto",
           "type": "bar",
           "x": {
            "bdata": "BA==",
            "dtype": "i1"
           },
           "xaxis": "x",
           "y": {
            "bdata": "QgE=",
            "dtype": "i2"
           },
           "yaxis": "y"
          },
          {
           "hovertemplate": "page2_clothing_model=C47<br>month=8<br>Main Category=%{x}<br>Total Price=%{y}<extra></extra>",
           "ids": {
            "bdata": "Aw==",
            "dtype": "i1"
           },
           "legendgroup": "C47",
           "marker": {
            "color": "#ab63fa",
            "pattern": {
             "shape": ""
            }
           },
           "name": "C47",
           "orientation": "v",
           "showlegend": true,
           "textposition": "auto",
           "type": "bar",
           "x": {
            "bdata": "Aw==",
            "dtype": "i1"
           },
           "xaxis": "x",
           "y": {
            "bdata": "HAI=",
            "dtype": "i2"
           },
           "yaxis": "y"
          },
          {
           "hovertemplate": "page2_clothing_model=P62<br>month=8<br>Main Category=%{x}<br>Total Price=%{y}<extra></extra>",
           "ids": {
            "bdata": "BA==",
            "dtype": "i1"
           },
           "legendgroup": "P62",
           "marker": {
            "color": "#FFA15A",
            "pattern": {
             "shape": ""
            }
           },
           "name": "P62",
           "orientation": "v",
           "showlegend": true,
           "textposition": "auto",
           "type": "bar",
           "x": {
            "bdata": "BA==",
            "dtype": "i1"
           },
           "xaxis": "x",
           "y": {
            "bdata": "EAI=",
            "dtype": "i2"
           },
           "yaxis": "y"
          },
          {
           "hovertemplate": "page2_clothing_model=P45<br>month=8<br>Main Category=%{x}<br>Total Price=%{y}<extra></extra>",
           "ids": {
            "bdata": "BA==",
            "dtype": "i1"
           },
           "legendgroup": "P45",
           "marker": {
            "color": "#19d3f3",
            "pattern": {
             "shape": ""
            }
           },
           "name": "P45",
           "orientation": "v",
           "showlegend": true,
           "textposition": "auto",
           "type": "bar",
           "x": {
            "bdata": "BA==",
            "dtype": "i1"
           },
           "xaxis": "x",
           "y": {
            "bdata": "7wE=",
            "dtype": "i2"
           },
           "yaxis": "y"
          },
          {
           "hovertemplate": "page2_clothing_model=C43<br>month=8<br>Main Category=%{x}<br>Total Price=%{y}<extra></extra>",
           "ids": {
            "bdata": "Aw==",
            "dtype": "i1"
           },
           "legendgroup": "C43",
           "marker": {
            "color": "#FF6692",
            "pattern": {
             "shape": ""
            }
           },
           "name": "C43",
           "orientation": "v",
           "showlegend": true,
           "textposition": "auto",
           "type": "bar",
           "x": {
            "bdata": "Aw==",
            "dtype": "i1"
           },
           "xaxis": "x",
           "y": {
            "bdata": "3AE=",
            "dtype": "i2"
           },
           "yaxis": "y"
          },
          {
           "hovertemplate": "page2_clothing_model=P64<br>month=8<br>Main Category=%{x}<br>Total Price=%{y}<extra></extra>",
           "ids": {
            "bdata": "BA==",
            "dtype": "i1"
           },
           "legendgroup": "P64",
           "marker": {
            "color": "#B6E880",
            "pattern": {
             "shape": ""
            }
           },
           "name": "P64",
           "orientation": "v",
           "showlegend": true,
           "textposition": "auto",
           "type": "bar",
           "x": {
            "bdata": "BA==",
            "dtype": "i1"
           },
           "xaxis": "x",
           "y": {
            "bdata": "NAE=",
            "dtype": "i2"
           },
           "yaxis": "y"
          },
          {
           "hovertemplate": "page2_clothing_model=P31<br>month=8<br>Main Category=%{x}<br>Total Price=%{y}<extra></extra>",
           "ids": {
            "bdata": "BA==",
            "dtype": "i1"
           },
           "legendgroup": "P31",
           "marker": {
            "color": "#FF97FF",
            "pattern": {
             "shape": ""
            }
           },
           "name": "P31",
           "orientation": "v",
           "showlegend": true,
           "textposition": "auto",
           "type": "bar",
           "x": {
            "bdata": "BA==",
            "dtype": "i1"
           },
           "xaxis": "x",
           "y": {
            "bdata": "zgE=",
            "dtype": "i2"
           },
           "yaxis": "y"
          }
         ],
         "name": "8"
        }
       ],
       "layout": {
        "barmode": "relative",
        "height": 600,
        "legend": {
         "title": {
          "text": "page2_clothing_model"
         },
         "tracegroupgap": 0
        },
        "sliders": [
         {
          "active": 0,
          "currentvalue": {
           "prefix": "month="
          },
          "len": 0.9,
          "pad": {
           "b": 10,
           "t": 60
          },
          "steps": [
           {
            "args": [
             [
              "7"
             ],
             {
              "frame": {
               "duration": 0,
               "redraw": true
              },
              "fromcurrent": true,
              "mode": "immediate",
              "transition": {
               "duration": 0,
               "easing": "linear"
              }
             }
            ],
            "label": "7",
            "method": "animate"
           },
           {
            "args": [
             [
              "4"
             ],
             {
              "frame": {
               "duration": 0,
               "redraw": true
              },
              "fromcurrent": true,
              "mode": "immediate",
              "transition": {
               "duration": 0,
               "easing": "linear"
              }
             }
            ],
            "label": "4",
            "method": "animate"
           },
           {
            "args": [
             [
              "5"
             ],
             {
              "frame": {
               "duration": 0,
               "redraw": true
              },
              "fromcurrent": true,
              "mode": "immediate",
              "transition": {
               "duration": 0,
               "easing": "linear"
              }
             }
            ],
            "label": "5",
            "method": "animate"
           },
           {
            "args": [
             [
              "6"
             ],
             {
              "frame": {
               "duration": 0,
               "redraw": true
              },
              "fromcurrent": true,
              "mode": "immediate",
              "transition": {
               "duration": 0,
               "easing": "linear"
              }
             }
            ],
            "label": "6",
            "method": "animate"
           },
           {
            "args": [
             [
              "8"
             ],
             {
              "frame": {
               "duration": 0,
               "redraw": true
              },
              "fromcurrent": true,
              "mode": "immediate",
              "transition": {
               "duration": 0,
               "easing": "linear"
              }
             }
            ],
            "label": "8",
            "method": "animate"
           }
          ],
          "x": 0.1,
          "xanchor": "left",
          "y": 0,
          "yanchor": "top"
         }
        ],
        "template": {
         "data": {
          "bar": [
           {
            "error_x": {
             "color": "#2a3f5f"
            },
            "error_y": {
             "color": "#2a3f5f"
            },
            "marker": {
             "line": {
              "color": "#E5ECF6",
              "width": 0.5
             },
             "pattern": {
              "fillmode": "overlay",
              "size": 10,
              "solidity": 0.2
             }
            },
            "type": "bar"
           }
          ],
          "barpolar": [
           {
            "marker": {
             "line": {
              "color": "#E5ECF6",
              "width": 0.5
             },
             "pattern": {
              "fillmode": "overlay",
              "size": 10,
              "solidity": 0.2
             }
            },
            "type": "barpolar"
           }
          ],
          "carpet": [
           {
            "aaxis": {
             "endlinecolor": "#2a3f5f",
             "gridcolor": "white",
             "linecolor": "white",
             "minorgridcolor": "white",
             "startlinecolor": "#2a3f5f"
            },
            "baxis": {
             "endlinecolor": "#2a3f5f",
             "gridcolor": "white",
             "linecolor": "white",
             "minorgridcolor": "white",
             "startlinecolor": "#2a3f5f"
            },
            "type": "carpet"
           }
          ],
          "choropleth": [
           {
            "colorbar": {
             "outlinewidth": 0,
             "ticks": ""
            },
            "type": "choropleth"
           }
          ],
          "contour": [
           {
            "colorbar": {
             "outlinewidth": 0,
             "ticks": ""
            },
            "colorscale": [
             [
              0,
              "#0d0887"
             ],
             [
              0.1111111111111111,
              "#46039f"
             ],
             [
              0.2222222222222222,
              "#7201a8"
             ],
             [
              0.3333333333333333,
              "#9c179e"
             ],
             [
              0.4444444444444444,
              "#bd3786"
             ],
             [
              0.5555555555555556,
              "#d8576b"
             ],
             [
              0.6666666666666666,
              "#ed7953"
             ],
             [
              0.7777777777777778,
              "#fb9f3a"
             ],
             [
              0.8888888888888888,
              "#fdca26"
             ],
             [
              1,
              "#f0f921"
             ]
            ],
            "type": "contour"
           }
          ],
          "contourcarpet": [
           {
            "colorbar": {
             "outlinewidth": 0,
             "ticks": ""
            },
            "type": "contourcarpet"
           }
          ],
          "heatmap": [
           {
            "colorbar": {
             "outlinewidth": 0,
             "ticks": ""
            },
            "colorscale": [
             [
              0,
              "#0d0887"
             ],
             [
              0.1111111111111111,
              "#46039f"
             ],
             [
              0.2222222222222222,
              "#7201a8"
             ],
             [
              0.3333333333333333,
              "#9c179e"
             ],
             [
              0.4444444444444444,
              "#bd3786"
             ],
             [
              0.5555555555555556,
              "#d8576b"
             ],
             [
              0.6666666666666666,
              "#ed7953"
             ],
             [
              0.7777777777777778,
              "#fb9f3a"
             ],
             [
              0.8888888888888888,
              "#fdca26"
             ],
             [
              1,
              "#f0f921"
             ]
            ],
            "type": "heatmap"
           }
          ],
          "histogram": [
           {
            "marker": {
             "pattern": {
              "fillmode": "overlay",
              "size": 10,
              "solidity": 0.2
             }
            },
            "type": "histogram"
           }
          ],
          "histogram2d": [
           {
            "colorbar": {
             "outlinewidth": 0,
             "ticks": ""
            },
            "colorscale": [
             [
              0,
              "#0d0887"
             ],
             [
              0.1111111111111111,
              "#46039f"
             ],
             [
              0.2222222222222222,
              "#7201a8"
             ],
             [
              0.3333333333333333,
              "#9c179e"
             ],
             [
              0.4444444444444444,
              "#bd3786"
             ],
             [
              0.5555555555555556,
              "#d8576b"
             ],
             [
              0.6666666666666666,
              "#ed7953"
             ],
             [
              0.7777777777777778,
              "#fb9f3a"
             ],
             [
              0.8888888888888888,
              "#fdca26"
             ],
             [
              1,
              "#f0f921"
             ]
            ],
            "type": "histogram2d"
           }
          ],
          "histogram2dcontour": [
           {
            "colorbar": {
             "outlinewidth": 0,
             "ticks": ""
            },
            "colorscale": [
             [
              0,
              "#0d0887"
             ],
             [
              0.1111111111111111,
              "#46039f"
             ],
             [
              0.2222222222222222,
              "#7201a8"
             ],
             [
              0.3333333333333333,
              "#9c179e"
             ],
             [
              0.4444444444444444,
              "#bd3786"
             ],
             [
              0.5555555555555556,
              "#d8576b"
             ],
             [
              0.6666666666666666,
              "#ed7953"
             ],
             [
              0.7777777777777778,
              "#fb9f3a"
             ],
             [
              0.8888888888888888,
              "#fdca26"
             ],
             [
              1,
              "#f0f921"
             ]
            ],
            "type": "histogram2dcontour"
           }
          ],
          "mesh3d": [
           {
            "colorbar": {
             "outlinewidth": 0,
             "ticks": ""
            },
            "type": "mesh3d"
           }
          ],
          "parcoords": [
           {
            "line": {
             "colorbar": {
              "outlinewidth": 0,
              "ticks": ""
             }
            },
            "type": "parcoords"
           }
          ],
          "pie": [
           {
            "automargin": true,
            "type": "pie"
           }
          ],
          "scatter": [
           {
            "fillpattern": {
             "fillmode": "overlay",
             "size": 10,
             "solidity": 0.2
            },
            "type": "scatter"
           }
          ],
          "scatter3d": [
           {
            "line": {
             "colorbar": {
              "outlinewidth": 0,
              "ticks": ""
             }
            },
            "marker": {
             "colorbar": {
              "outlinewidth": 0,
              "ticks": ""
             }
            },
            "type": "scatter3d"
           }
          ],
          "scattercarpet": [
           {
            "marker": {
             "colorbar": {
              "outlinewidth": 0,
              "ticks": ""
             }
            },
            "type": "scattercarpet"
           }
          ],
          "scattergeo": [
           {
            "marker": {
             "colorbar": {
              "outlinewidth": 0,
              "ticks": ""
             }
            },
            "type": "scattergeo"
           }
          ],
          "scattergl": [
           {
            "marker": {
             "colorbar": {
              "outlinewidth": 0,
              "ticks": ""
             }
            },
            "type": "scattergl"
           }
          ],
          "scattermap": [
           {
            "marker": {
             "colorbar": {
              "outlinewidth": 0,
              "ticks": ""
             }
            },
            "type": "scattermap"
           }
          ],
          "scattermapbox": [
           {
            "marker": {
             "colorbar": {
              "outlinewidth": 0,
              "ticks": ""
             }
            },
            "type": "scattermapbox"
           }
          ],
          "scatterpolar": [
           {
            "marker": {
             "colorbar": {
              "outlinewidth": 0,
              "ticks": ""
             }
            },
            "type": "scatterpolar"
           }
          ],
          "scatterpolargl": [
           {
            "marker": {
             "colorbar": {
              "outlinewidth": 0,
              "ticks": ""
             }
            },
            "type": "scatterpolargl"
           }
          ],
          "scatterternary": [
           {
            "marker": {
             "colorbar": {
              "outlinewidth": 0,
              "ticks": ""
             }
            },
            "type": "scatterternary"
           }
          ],
          "surface": [
           {
            "colorbar": {
             "outlinewidth": 0,
             "ticks": ""
            },
            "colorscale": [
             [
              0,
              "#0d0887"
             ],
             [
              0.1111111111111111,
              "#46039f"
             ],
             [
              0.2222222222222222,
              "#7201a8"
             ],
             [
              0.3333333333333333,
              "#9c179e"
             ],
             [
              0.4444444444444444,
              "#bd3786"
             ],
             [
              0.5555555555555556,
              "#d8576b"
             ],
             [
              0.6666666666666666,
              "#ed7953"
             ],
             [
              0.7777777777777778,
              "#fb9f3a"
             ],
             [
              0.8888888888888888,
              "#fdca26"
             ],
             [
              1,
              "#f0f921"
             ]
            ],
            "type": "surface"
           }
          ],
          "table": [
           {
            "cells": {
             "fill": {
              "color": "#EBF0F8"
             },
             "line": {
              "color": "white"
             }
            },
            "header": {
             "fill": {
              "color": "#C8D4E3"
             },
             "line": {
              "color": "white"
             }
            },
            "type": "table"
           }
          ]
         },
         "layout": {
          "annotationdefaults": {
           "arrowcolor": "#2a3f5f",
           "arrowhead": 0,
           "arrowwidth": 1
          },
          "autotypenumbers": "strict",
          "coloraxis": {
           "colorbar": {
            "outlinewidth": 0,
            "ticks": ""
           }
          },
          "colorscale": {
           "diverging": [
            [
             0,
             "#8e0152"
            ],
            [
             0.1,
             "#c51b7d"
            ],
            [
             0.2,
             "#de77ae"
            ],
            [
             0.3,
             "#f1b6da"
            ],
            [
             0.4,
             "#fde0ef"
            ],
            [
             0.5,
             "#f7f7f7"
            ],
            [
             0.6,
             "#e6f5d0"
            ],
            [
             0.7,
             "#b8e186"
            ],
            [
             0.8,
             "#7fbc41"
            ],
            [
             0.9,
             "#4d9221"
            ],
            [
             1,
             "#276419"
            ]
           ],
           "sequential": [
            [
             0,
             "#0d0887"
            ],
            [
             0.1111111111111111,
             "#46039f"
            ],
            [
             0.2222222222222222,
             "#7201a8"
            ],
            [
             0.3333333333333333,
             "#9c179e"
            ],
            [
             0.4444444444444444,
             "#bd3786"
            ],
            [
             0.5555555555555556,
             "#d8576b"
            ],
            [
             0.6666666666666666,
             "#ed7953"
            ],
            [
             0.7777777777777778,
             "#fb9f3a"
            ],
            [
             0.8888888888888888,
             "#fdca26"
            ],
            [
             1,
             "#f0f921"
            ]
           ],
           "sequentialminus": [
            [
             0,
             "#0d0887"
            ],
            [
             0.1111111111111111,
             "#46039f"
            ],
            [
             0.2222222222222222,
             "#7201a8"
            ],
            [
             0.3333333333333333,
             "#9c179e"
            ],
            [
             0.4444444444444444,
             "#bd3786"
            ],
            [
             0.5555555555555556,
             "#d8576b"
            ],
            [
             0.6666666666666666,
             "#ed7953"
            ],
            [
             0.7777777777777778,
             "#fb9f3a"
            ],
            [
             0.8888888888888888,
             "#fdca26"
            ],
            [
             1,
             "#f0f921"
            ]
           ]
          },
          "colorway": [
           "#636efa",
           "#EF553B",
           "#00cc96",
           "#ab63fa",
           "#FFA15A",
           "#19d3f3",
           "#FF6692",
           "#B6E880",
           "#FF97FF",
           "#FECB52"
          ],
          "font": {
           "color": "#2a3f5f"
          },
          "geo": {
           "bgcolor": "white",
           "lakecolor": "white",
           "landcolor": "#E5ECF6",
           "showlakes": true,
           "showland": true,
           "subunitcolor": "white"
          },
          "hoverlabel": {
           "align": "left"
          },
          "hovermode": "closest",
          "mapbox": {
           "style": "light"
          },
          "paper_bgcolor": "white",
          "plot_bgcolor": "#E5ECF6",
          "polar": {
           "angularaxis": {
            "gridcolor": "white",
            "linecolor": "white",
            "ticks": ""
           },
           "bgcolor": "#E5ECF6",
           "radialaxis": {
            "gridcolor": "white",
            "linecolor": "white",
            "ticks": ""
           }
          },
          "scene": {
           "xaxis": {
            "backgroundcolor": "#E5ECF6",
            "gridcolor": "white",
            "gridwidth": 2,
            "linecolor": "white",
            "showbackground": true,
            "ticks": "",
            "zerolinecolor": "white"
           },
           "yaxis": {
            "backgroundcolor": "#E5ECF6",
            "gridcolor": "white",
            "gridwidth": 2,
            "linecolor": "white",
            "showbackground": true,
            "ticks": "",
            "zerolinecolor": "white"
           },
           "zaxis": {
            "backgroundcolor": "#E5ECF6",
            "gridcolor": "white",
            "gridwidth": 2,
            "linecolor": "white",
            "showbackground": true,
            "ticks": "",
            "zerolinecolor": "white"
           }
          },
          "shapedefaults": {
           "line": {
            "color": "#2a3f5f"
           }
          },
          "ternary": {
           "aaxis": {
            "gridcolor": "white",
            "linecolor": "white",
            "ticks": ""
           },
           "baxis": {
            "gridcolor": "white",
            "linecolor": "white",
            "ticks": ""
           },
           "bgcolor": "#E5ECF6",
           "caxis": {
            "gridcolor": "white",
            "linecolor": "white",
            "ticks": ""
           }
          },
          "title": {
           "x": 0.05
          },
          "xaxis": {
           "automargin": true,
           "gridcolor": "white",
           "linecolor": "white",
           "ticks": "",
           "title": {
            "standoff": 15
           },
           "zerolinecolor": "white",
           "zerolinewidth": 2
          },
          "yaxis": {
           "automargin": true,
           "gridcolor": "white",
           "linecolor": "white",
           "ticks": "",
           "title": {
            "standoff": 15
           },
           "zerolinecolor": "white",
           "zerolinewidth": 2
          }
         }
        },
        "title": {
         "text": "most selling models in each categories"
        },
        "updatemenus": [
         {
          "buttons": [
           {
            "args": [
             null,
             {
              "frame": {
               "duration": 500,
               "redraw": true
              },
              "fromcurrent": true,
              "mode": "immediate",
              "transition": {
               "duration": 500,
               "easing": "linear"
              }
             }
            ],
            "label": "&#9654;",
            "method": "animate"
           },
           {
            "args": [
             [
              null
             ],
             {
              "frame": {
               "duration": 0,
               "redraw": true
              },
              "fromcurrent": true,
              "mode": "immediate",
              "transition": {
               "duration": 0,
               "easing": "linear"
              }
             }
            ],
            "label": "&#9724;",
            "method": "animate"
           }
          ],
          "direction": "left",
          "pad": {
           "r": 10,
           "t": 70
          },
          "showactive": false,
          "type": "buttons",
          "x": 0.1,
          "xanchor": "right",
          "y": 0,
          "yanchor": "top"
         }
        ],
        "xaxis": {
         "anchor": "y",
         "domain": [
          0,
          1
         ],
         "title": {
          "text": "Main Category"
         }
        },
        "yaxis": {
         "anchor": "x",
         "domain": [
          0,
          1
         ],
         "title": {
          "text": "Total Price"
         }
        }
       }
      }
     },
     "metadata": {},
     "output_type": "display_data"
    }
   ],
   "source": [
    "fig = px.bar(\n",
    "    mine_df,\n",
    "    x = 'page1_main_category',\n",
    "    y = 'price',\n",
    "    color= 'page2_clothing_model',\n",
    "    title= 'most selling models in each categories',\n",
    "    labels= {\n",
    "        'price' : 'Total Price',\n",
    "        'page1_main_category' : 'Main Category' \n",
    "    },\n",
    "    animation_frame='month',\n",
    "    animation_group='page1_main_category',\n",
    "    height= 600\n",
    ")\n",
    "fig.layout.updatemenus[0].buttons[0].args[1]['frame']['duration'] = 500\n",
    "\n",
    "fig.show()"
   ]
  },
  {
   "cell_type": "code",
   "execution_count": 69,
   "id": "1fe71db5",
   "metadata": {},
   "outputs": [
    {
     "data": {
      "application/vnd.plotly.v1+json": {
       "config": {
        "plotlyServerURL": "https://plot.ly"
       },
       "data": [
        {
         "hovertemplate": "country=%{x}<br>price=%{y}<extra></extra>",
         "legendgroup": "",
         "marker": {
          "color": "#636efa",
          "pattern": {
           "shape": ""
          }
         },
         "name": "",
         "orientation": "v",
         "showlegend": false,
         "textposition": "auto",
         "type": "bar",
         "x": {
          "bdata": "HQkYLiwQFSIpDAMbJSoKHA8WHwsmAhcZICsOJxMSESQHFC8FHgYtIQ0EAQgj",
          "dtype": "i1"
         },
         "xaxis": "x",
         "y": {
          "bdata": "OwQbAMEKBADK1QAARYMAAKNKAAAzKQAAyiYAAKwkAAAlIgAAJwwAAEwLAAAUCwAAZwoAAGMJAAD+BwAAwgcAAKkHAACkBwAACQcAALEGAACGBgAAwQMAABEDAACmAgAAEwIAAPEBAADVAQAApwEAAKEBAAAzAQAA3wAAALIAAACgAAAAiAAAAG0AAABoAAAAVAAAAEwAAAA/AAAAPQAAACsAAAAmAAAAHAAAABcAAAAXAAAA",
          "dtype": "i4"
         },
         "yaxis": "y"
        }
       ],
       "layout": {
        "barmode": "relative",
        "legend": {
         "tracegroupgap": 0
        },
        "template": {
         "data": {
          "bar": [
           {
            "error_x": {
             "color": "#2a3f5f"
            },
            "error_y": {
             "color": "#2a3f5f"
            },
            "marker": {
             "line": {
              "color": "#E5ECF6",
              "width": 0.5
             },
             "pattern": {
              "fillmode": "overlay",
              "size": 10,
              "solidity": 0.2
             }
            },
            "type": "bar"
           }
          ],
          "barpolar": [
           {
            "marker": {
             "line": {
              "color": "#E5ECF6",
              "width": 0.5
             },
             "pattern": {
              "fillmode": "overlay",
              "size": 10,
              "solidity": 0.2
             }
            },
            "type": "barpolar"
           }
          ],
          "carpet": [
           {
            "aaxis": {
             "endlinecolor": "#2a3f5f",
             "gridcolor": "white",
             "linecolor": "white",
             "minorgridcolor": "white",
             "startlinecolor": "#2a3f5f"
            },
            "baxis": {
             "endlinecolor": "#2a3f5f",
             "gridcolor": "white",
             "linecolor": "white",
             "minorgridcolor": "white",
             "startlinecolor": "#2a3f5f"
            },
            "type": "carpet"
           }
          ],
          "choropleth": [
           {
            "colorbar": {
             "outlinewidth": 0,
             "ticks": ""
            },
            "type": "choropleth"
           }
          ],
          "contour": [
           {
            "colorbar": {
             "outlinewidth": 0,
             "ticks": ""
            },
            "colorscale": [
             [
              0,
              "#0d0887"
             ],
             [
              0.1111111111111111,
              "#46039f"
             ],
             [
              0.2222222222222222,
              "#7201a8"
             ],
             [
              0.3333333333333333,
              "#9c179e"
             ],
             [
              0.4444444444444444,
              "#bd3786"
             ],
             [
              0.5555555555555556,
              "#d8576b"
             ],
             [
              0.6666666666666666,
              "#ed7953"
             ],
             [
              0.7777777777777778,
              "#fb9f3a"
             ],
             [
              0.8888888888888888,
              "#fdca26"
             ],
             [
              1,
              "#f0f921"
             ]
            ],
            "type": "contour"
           }
          ],
          "contourcarpet": [
           {
            "colorbar": {
             "outlinewidth": 0,
             "ticks": ""
            },
            "type": "contourcarpet"
           }
          ],
          "heatmap": [
           {
            "colorbar": {
             "outlinewidth": 0,
             "ticks": ""
            },
            "colorscale": [
             [
              0,
              "#0d0887"
             ],
             [
              0.1111111111111111,
              "#46039f"
             ],
             [
              0.2222222222222222,
              "#7201a8"
             ],
             [
              0.3333333333333333,
              "#9c179e"
             ],
             [
              0.4444444444444444,
              "#bd3786"
             ],
             [
              0.5555555555555556,
              "#d8576b"
             ],
             [
              0.6666666666666666,
              "#ed7953"
             ],
             [
              0.7777777777777778,
              "#fb9f3a"
             ],
             [
              0.8888888888888888,
              "#fdca26"
             ],
             [
              1,
              "#f0f921"
             ]
            ],
            "type": "heatmap"
           }
          ],
          "histogram": [
           {
            "marker": {
             "pattern": {
              "fillmode": "overlay",
              "size": 10,
              "solidity": 0.2
             }
            },
            "type": "histogram"
           }
          ],
          "histogram2d": [
           {
            "colorbar": {
             "outlinewidth": 0,
             "ticks": ""
            },
            "colorscale": [
             [
              0,
              "#0d0887"
             ],
             [
              0.1111111111111111,
              "#46039f"
             ],
             [
              0.2222222222222222,
              "#7201a8"
             ],
             [
              0.3333333333333333,
              "#9c179e"
             ],
             [
              0.4444444444444444,
              "#bd3786"
             ],
             [
              0.5555555555555556,
              "#d8576b"
             ],
             [
              0.6666666666666666,
              "#ed7953"
             ],
             [
              0.7777777777777778,
              "#fb9f3a"
             ],
             [
              0.8888888888888888,
              "#fdca26"
             ],
             [
              1,
              "#f0f921"
             ]
            ],
            "type": "histogram2d"
           }
          ],
          "histogram2dcontour": [
           {
            "colorbar": {
             "outlinewidth": 0,
             "ticks": ""
            },
            "colorscale": [
             [
              0,
              "#0d0887"
             ],
             [
              0.1111111111111111,
              "#46039f"
             ],
             [
              0.2222222222222222,
              "#7201a8"
             ],
             [
              0.3333333333333333,
              "#9c179e"
             ],
             [
              0.4444444444444444,
              "#bd3786"
             ],
             [
              0.5555555555555556,
              "#d8576b"
             ],
             [
              0.6666666666666666,
              "#ed7953"
             ],
             [
              0.7777777777777778,
              "#fb9f3a"
             ],
             [
              0.8888888888888888,
              "#fdca26"
             ],
             [
              1,
              "#f0f921"
             ]
            ],
            "type": "histogram2dcontour"
           }
          ],
          "mesh3d": [
           {
            "colorbar": {
             "outlinewidth": 0,
             "ticks": ""
            },
            "type": "mesh3d"
           }
          ],
          "parcoords": [
           {
            "line": {
             "colorbar": {
              "outlinewidth": 0,
              "ticks": ""
             }
            },
            "type": "parcoords"
           }
          ],
          "pie": [
           {
            "automargin": true,
            "type": "pie"
           }
          ],
          "scatter": [
           {
            "fillpattern": {
             "fillmode": "overlay",
             "size": 10,
             "solidity": 0.2
            },
            "type": "scatter"
           }
          ],
          "scatter3d": [
           {
            "line": {
             "colorbar": {
              "outlinewidth": 0,
              "ticks": ""
             }
            },
            "marker": {
             "colorbar": {
              "outlinewidth": 0,
              "ticks": ""
             }
            },
            "type": "scatter3d"
           }
          ],
          "scattercarpet": [
           {
            "marker": {
             "colorbar": {
              "outlinewidth": 0,
              "ticks": ""
             }
            },
            "type": "scattercarpet"
           }
          ],
          "scattergeo": [
           {
            "marker": {
             "colorbar": {
              "outlinewidth": 0,
              "ticks": ""
             }
            },
            "type": "scattergeo"
           }
          ],
          "scattergl": [
           {
            "marker": {
             "colorbar": {
              "outlinewidth": 0,
              "ticks": ""
             }
            },
            "type": "scattergl"
           }
          ],
          "scattermap": [
           {
            "marker": {
             "colorbar": {
              "outlinewidth": 0,
              "ticks": ""
             }
            },
            "type": "scattermap"
           }
          ],
          "scattermapbox": [
           {
            "marker": {
             "colorbar": {
              "outlinewidth": 0,
              "ticks": ""
             }
            },
            "type": "scattermapbox"
           }
          ],
          "scatterpolar": [
           {
            "marker": {
             "colorbar": {
              "outlinewidth": 0,
              "ticks": ""
             }
            },
            "type": "scatterpolar"
           }
          ],
          "scatterpolargl": [
           {
            "marker": {
             "colorbar": {
              "outlinewidth": 0,
              "ticks": ""
             }
            },
            "type": "scatterpolargl"
           }
          ],
          "scatterternary": [
           {
            "marker": {
             "colorbar": {
              "outlinewidth": 0,
              "ticks": ""
             }
            },
            "type": "scatterternary"
           }
          ],
          "surface": [
           {
            "colorbar": {
             "outlinewidth": 0,
             "ticks": ""
            },
            "colorscale": [
             [
              0,
              "#0d0887"
             ],
             [
              0.1111111111111111,
              "#46039f"
             ],
             [
              0.2222222222222222,
              "#7201a8"
             ],
             [
              0.3333333333333333,
              "#9c179e"
             ],
             [
              0.4444444444444444,
              "#bd3786"
             ],
             [
              0.5555555555555556,
              "#d8576b"
             ],
             [
              0.6666666666666666,
              "#ed7953"
             ],
             [
              0.7777777777777778,
              "#fb9f3a"
             ],
             [
              0.8888888888888888,
              "#fdca26"
             ],
             [
              1,
              "#f0f921"
             ]
            ],
            "type": "surface"
           }
          ],
          "table": [
           {
            "cells": {
             "fill": {
              "color": "#EBF0F8"
             },
             "line": {
              "color": "white"
             }
            },
            "header": {
             "fill": {
              "color": "#C8D4E3"
             },
             "line": {
              "color": "white"
             }
            },
            "type": "table"
           }
          ]
         },
         "layout": {
          "annotationdefaults": {
           "arrowcolor": "#2a3f5f",
           "arrowhead": 0,
           "arrowwidth": 1
          },
          "autotypenumbers": "strict",
          "coloraxis": {
           "colorbar": {
            "outlinewidth": 0,
            "ticks": ""
           }
          },
          "colorscale": {
           "diverging": [
            [
             0,
             "#8e0152"
            ],
            [
             0.1,
             "#c51b7d"
            ],
            [
             0.2,
             "#de77ae"
            ],
            [
             0.3,
             "#f1b6da"
            ],
            [
             0.4,
             "#fde0ef"
            ],
            [
             0.5,
             "#f7f7f7"
            ],
            [
             0.6,
             "#e6f5d0"
            ],
            [
             0.7,
             "#b8e186"
            ],
            [
             0.8,
             "#7fbc41"
            ],
            [
             0.9,
             "#4d9221"
            ],
            [
             1,
             "#276419"
            ]
           ],
           "sequential": [
            [
             0,
             "#0d0887"
            ],
            [
             0.1111111111111111,
             "#46039f"
            ],
            [
             0.2222222222222222,
             "#7201a8"
            ],
            [
             0.3333333333333333,
             "#9c179e"
            ],
            [
             0.4444444444444444,
             "#bd3786"
            ],
            [
             0.5555555555555556,
             "#d8576b"
            ],
            [
             0.6666666666666666,
             "#ed7953"
            ],
            [
             0.7777777777777778,
             "#fb9f3a"
            ],
            [
             0.8888888888888888,
             "#fdca26"
            ],
            [
             1,
             "#f0f921"
            ]
           ],
           "sequentialminus": [
            [
             0,
             "#0d0887"
            ],
            [
             0.1111111111111111,
             "#46039f"
            ],
            [
             0.2222222222222222,
             "#7201a8"
            ],
            [
             0.3333333333333333,
             "#9c179e"
            ],
            [
             0.4444444444444444,
             "#bd3786"
            ],
            [
             0.5555555555555556,
             "#d8576b"
            ],
            [
             0.6666666666666666,
             "#ed7953"
            ],
            [
             0.7777777777777778,
             "#fb9f3a"
            ],
            [
             0.8888888888888888,
             "#fdca26"
            ],
            [
             1,
             "#f0f921"
            ]
           ]
          },
          "colorway": [
           "#636efa",
           "#EF553B",
           "#00cc96",
           "#ab63fa",
           "#FFA15A",
           "#19d3f3",
           "#FF6692",
           "#B6E880",
           "#FF97FF",
           "#FECB52"
          ],
          "font": {
           "color": "#2a3f5f"
          },
          "geo": {
           "bgcolor": "white",
           "lakecolor": "white",
           "landcolor": "#E5ECF6",
           "showlakes": true,
           "showland": true,
           "subunitcolor": "white"
          },
          "hoverlabel": {
           "align": "left"
          },
          "hovermode": "closest",
          "mapbox": {
           "style": "light"
          },
          "paper_bgcolor": "white",
          "plot_bgcolor": "#E5ECF6",
          "polar": {
           "angularaxis": {
            "gridcolor": "white",
            "linecolor": "white",
            "ticks": ""
           },
           "bgcolor": "#E5ECF6",
           "radialaxis": {
            "gridcolor": "white",
            "linecolor": "white",
            "ticks": ""
           }
          },
          "scene": {
           "xaxis": {
            "backgroundcolor": "#E5ECF6",
            "gridcolor": "white",
            "gridwidth": 2,
            "linecolor": "white",
            "showbackground": true,
            "ticks": "",
            "zerolinecolor": "white"
           },
           "yaxis": {
            "backgroundcolor": "#E5ECF6",
            "gridcolor": "white",
            "gridwidth": 2,
            "linecolor": "white",
            "showbackground": true,
            "ticks": "",
            "zerolinecolor": "white"
           },
           "zaxis": {
            "backgroundcolor": "#E5ECF6",
            "gridcolor": "white",
            "gridwidth": 2,
            "linecolor": "white",
            "showbackground": true,
            "ticks": "",
            "zerolinecolor": "white"
           }
          },
          "shapedefaults": {
           "line": {
            "color": "#2a3f5f"
           }
          },
          "ternary": {
           "aaxis": {
            "gridcolor": "white",
            "linecolor": "white",
            "ticks": ""
           },
           "baxis": {
            "gridcolor": "white",
            "linecolor": "white",
            "ticks": ""
           },
           "bgcolor": "#E5ECF6",
           "caxis": {
            "gridcolor": "white",
            "linecolor": "white",
            "ticks": ""
           }
          },
          "title": {
           "x": 0.05
          },
          "xaxis": {
           "automargin": true,
           "gridcolor": "white",
           "linecolor": "white",
           "ticks": "",
           "title": {
            "standoff": 15
           },
           "zerolinecolor": "white",
           "zerolinewidth": 2
          },
          "yaxis": {
           "automargin": true,
           "gridcolor": "white",
           "linecolor": "white",
           "ticks": "",
           "title": {
            "standoff": 15
           },
           "zerolinecolor": "white",
           "zerolinewidth": 2
          }
         }
        },
        "title": {
         "text": "top performing countries"
        },
        "xaxis": {
         "anchor": "y",
         "categoryarray": [
          29,
          9,
          24,
          46,
          44,
          16,
          21,
          34,
          41,
          12,
          3,
          27,
          37,
          42,
          10,
          28,
          15,
          22,
          31,
          11,
          38,
          2,
          23,
          25,
          32,
          43,
          14,
          39,
          19,
          18,
          17,
          36,
          7,
          20,
          47,
          5,
          30,
          6,
          45,
          33,
          13,
          4,
          1,
          8,
          35
         ],
         "categoryorder": "array",
         "domain": [
          0,
          1
         ],
         "title": {
          "text": "country"
         }
        },
        "yaxis": {
         "anchor": "x",
         "domain": [
          0,
          1
         ],
         "title": {
          "text": "price"
         }
        }
       }
      }
     },
     "metadata": {},
     "output_type": "display_data"
    }
   ],
   "source": [
    "# countries vs order\n",
    "country_order_df = data[data['price_2']==2].groupby('country')['price'].sum().reset_index()\n",
    "country_order_df.sort_values(by = 'price', ascending= False, inplace= True)\n",
    "sorted_countries = country_order_df['country'].tolist()\n",
    "# country_order_df.head()\n",
    "fig = px.bar(\n",
    "    country_order_df,\n",
    "    x = 'country',\n",
    "    y = 'price',\n",
    "    title = 'top performing countries',\n",
    "    category_orders= {'country' : sorted_countries}\n",
    ")\n",
    "\n",
    "fig.show()"
   ]
  },
  {
   "cell_type": "code",
   "execution_count": 75,
   "id": "8aed2b55",
   "metadata": {},
   "outputs": [
    {
     "data": {
      "application/vnd.plotly.v1+json": {
       "config": {
        "plotlyServerURL": "https://plot.ly"
       },
       "data": [
        {
         "bingroup": "x",
         "hovertemplate": "price=%{x}<br>count=%{y}<extra></extra>",
         "legendgroup": "",
         "marker": {
          "color": "#636efa",
          "pattern": {
           "shape": ""
          }
         },
         "name": "",
         "orientation": "v",
         "showlegend": false,
         "type": "histogram",
         "x": {
          "bdata": "MDkwOTc5PismSCYrPiYwMCYmKzA+JiYwQzA+Pj4rPjwwPjAwMismMCYwMCYmOTc8QzAmMCswQz45Kz45QSY5OTQwOTAwPjQwPjA5PiYmPj4wPis+Pis8PiswOT4wMDk5Pj4wJkMwUiswQzw+MFI0OTI0PiswOT4wOTwrMD5DNCY0Jj4wJj45Pjk+JjkmPjk0NDA0NDwrOTQ+QyYwQz40Jj5DNDArPjA0MDA+OSs3Nys5NDkwPlI+JitDMEgmQzAwPj40MCY0OSs5MD4rPjkwPjkrMDw0Kz4+Kzk+KzQwNCs+Kz4+Jkg5KzA3MCYwPDAwMDA5Qz4wNEM0JjA+OSY0NDRDUjAwOTAmJkM0KzQwKz45Kzc5JjA+Pjk5PiY+OTAwNCsySEM8Kz5DKyY0PDk0MCsrMEg5Jj4rJjkwQzQ0MCs+NEM5PjArJiYwJjlDKzkmKyY5JjAwJjk5MDAwUkNNPjA+PjArKzI3PjAmMDA+KysmKzA0OTA5JjQwNCY+OTkrMEM5MDwwOTwrJiswMCsrPitDOTBDMis+Pis5MD4mNDk+MDQwNEEwND4mJjRSMD4yMEg0JjAmNDcwJjAmKz45JisrOSYmPjA+OSswJjQwJjQwKzQ+MDRIMDQrKzArOT4mKzQ5KzkwPkMrJjQmNCY+PlI0PjkwNCsrPjQ+Qz4+MjkrOTw+NCs3Kz4wOStDKzkrKzAmPlImUjAwPiYmJjAmMCs3MD4rOVI+JjlIJj4mKz4wJjkrPj4+OT4wPiswPiYwOSYrKyYmPj40PiY0Uj4rOSswMCYwNDA+MDk+PismQz4+Q0hSQys8QzAwMCs+JjA+OTA0MDQrPjAmNCZDJj5DNCswQzAmMDk+QzAmPjRDKys5QzkmOSYmKzBDQzAwSDQ0MCsrOUgwNDk+Ujk+SCs0NCY0ND4wPjcrNEM5PjA5MEgmPCYrNDQ0Jj45Kzk5NDArKzQ5PjRIOSsrOSsmOTkmPDk5OSsrMD40NCs5OTA+NCs+MDA5NCsrJkMrOTk+OVIwPis0MDk0SDQ0PjkrJjA+K1I+KzQrMDQ5MD40MDQ5NDA5NDQ0PkM+PjA+MDQ5NDQ+OTk+NDQ0MD40OTA+MDk+OTArNDkwND40OT45PjBIMDQ+PjAwJkM5OSs+MCs0OT4rKzcwPjQwMDk5PiswJlIwMCswPjQrKzAmMDk5PjAmJkEwOSY8MD5IPis0PkgwMjAwJj40PlI+SD4wMCY5MCY3MD5IQyYwOSYwOTkmNCYrOUFIKys5Pj4wKzwwPiYmKzk+Qz5SOSYmMDA+Pis+Kys5OStDMCYwKzAmJj4+MEE0KzA5ND4wMDBDMis8OTRSOTAwJkM5K0M+NDA5MDkwPjQrPjk+MCs8PismNzA+NDAwNCYrJkgrMCYwNyYrOTA+OTI+NDk+ND4mMDlDMEg0MDQwPj45NEM5NDlDQzk+K0M5KzQ+SD43JismMCYmNDkwQzlDJis5JkMwPkMrOSY0OTlDOTk5SCs5KzA+PD4rOTArPiY+OTAmMCswMDA5Pjc+PjBDKzk+MD5DJiY+NDlDPjQ5OT4wK0gmKzA0JismND45Jjk0Jjk5MDk0MCY0PjArKzQrNDA5OTA5Pjk5KzA+QyY0Uj40JitBPjk5MCZDJjQ0Jis0ND45MCs0MDkmNDlNPkg+KzBDPj4wJlIrPj4+MFI5KzQ5MDkmOVJDNCs0KzA+KzA5MCs0QzBSUj4+JjA0NDlDJjQ+NDA+OSs+NDBSMFIwJkgwOT4rOSsrKzA+OT4rMDlSKys+UkEmNDQ0Nz5IKyYmOSsmPiYmKz4mJj5DPkM0MDkrUlJSPk1IMCs+KytDPjArJjk0Kzk+Kys+Kzk0Kzk+ND45MCY0Jjw+PiYmUjAwNDk+OSYwMEMwMDA3NCYwPismSDI5OSYrMDBIJjQwNDA0OSZSMDQ0Kys+PEgrMDI5Kzk5Pj4wNDk0KysmQSZDPCs5ND4mUiYwNCY5Pis+Pis8KyswKzArPis0PiYmOTkwOT4mMCs5MCsrPjA+KzQ3Jj48NDk8MDQrMDk0NCs0Kz4mSDA0MFIrKzRDMCs5NDk5Jis3NFI+MDkwND43JlIyNCs+Jis+NDkwMDQ+MDBDMDA+PDA0Pis+MDw+NEMwMDcwQ0M0Qzk+KzkwMD4wPjArSD4+MCs5Pj45Jj4+PjArNzkwOTQmOT40Nzk0JjAwPiswPDAwPjArPj40JjkwPlI0MDkrJjQ+MD45Kzk+NDQ+MDkwOTkwJjArMCYmPkErOTkwPCZDJjArPjkwOTQ+NDA+Nz4mND4wJjA+PiYwNCtIOTIwMD45MD40PjQ+OTAyPjkrPj4+OUgwUjkmPiY8PDBDND4rNDA5JjIwMD4rOTAyQyYwJkM5JjA5JiYrPjQ0NDAwQzA5Pjc5MD4mKyYrPiYmMDBDOTAwKyY+MDk0OTA0JjQwKzA8NzlDOTkmOSs+PjAwPj4mJj4rJisrJjk5Mj4mMD40NDQ0OUMwPiYrQ0g5Kys5OSY5NDQwMENDMD4mJjQ5MDlIKzA0Qzk8QTk8NDA0PjAwMDkmPjQ+OTA5MDk0PjwwK0M+OTk+NCsrKzA5MEMrOTA+OTkmKzkwPjk0NCsrSDAwPismOSs8Jjk+MEMrPjRDOSYrPkM+KyY0JiZDOTAwQzwwPismPj40UjRDNCs0QyY3KzAmMDw+MCYwSDAwOTArMDA5QSYrOTAmKz4rKzk0OSYwMDArMDk5OTAmMCYmOUM0QyZIKz4rMDkrKzk+OSs5Pj4+OTk5JjA5Nz4wNDQ5OTA5Pj4+Pjk0MEgwMFI5PjA0OSY0KzArQz40KzA5OTAmOTkrOTQ+MCs8NDkmMDc5PDQ5KyY+PjArNDkwPjAwUiY+OTk+Jjk5OTwrSDRSJkgwMDA0NDQrJjQ+JiZDPjk+OTBSJj4wJjQmJj4wJkErKysrKzAwJjQrQzk5MEMmNENIMDA+MD4wOT4mMDk+NDQrQzkrOSYmMDwyOSY5JkEmPj4+MD4wPkgwMDkwPkM8MCs5SDArOTArND4mPjAmMis5JjQrMDAmND4+PjAmOTQwPjA+MFIwJkMwND43JiZNQzkwPiY0MCtIPiY0MDQrKzk+Kz45JjA+OSsrJj4wMDQrMCs5KzQ+MkNSMDc+OVI5MD4wMDQmPj4+MDA5JkMmKzA5KzlDNCs5JkNDMCsmQzAwNDAwOTk0OTQ+Kys+OTkwOSs+Pj4wKz4mOTQ+Qz4wOTA3NDA+PjQwMCsmJjkwPj40MDA0QzQ+NEg+JisrJj5IOTk0Qz4+MDkwPj4+Pj4+Q0MmKz4wJjQ5JitIPjQ5OTA+NDk+PiY5PkM0PjQ+OTAwKyYwUj4+MDk5Mjw5MD4+Qys+Kys+KyswKyY+JiswPENIKytDNDAwQz4mMDkwPjk0OSsrMDQ+UjkrOTQwUjkmJjQwJis5MD40Pj45JjA0OSY+K1IrOT40JjAwUjI+PkM+QzkmMDA0MDQ+MCYyOTAwQzA0MDkwOTA0Pjk8JjQ5PjkrKzRDPkMmPjBBPis+KzQ0PjQwMCsmQysrMDAwPiZDMDAwMEg+JiY5MD4wME1DPjAwQys+Qzk5OTc5OTQ5PjA+OSYrKzQwKys+MFI0NzQwJjQ0Kz5SPjAwPisrKys5Jj4+MCYmSCswMj4rOTQ5JjA5PitDKzA5MCswMDkwPjAwPis5Kys5PDAwOSY0OTA0PjkmJj4wUitDKyYrMDc5K1ImPiZDPj4+PkMmQzAwOTk3JjxIUiYrKz45ND4wMDkmPjJIMjQwPj5SKz40MDI5SDkrND4+OVIwND4+OTkwMDA+OUM0Jj4wOT4+MDAwOT4+PjQwOTBBMD4+MDBIOSsmKys+SCY5MCY+MCs8PitIMD40MDAwPiYmOTkwND40PD4mOSY+NDk5UjAwMDAmMCY8NDAmUjQ0OT5SOT5IPjA0KysmMDc+MCs0N1JDKysrJjw0MCYwOTBIMDkwOUgwKzwwNEg+KzA5Pis5JlI0MCY5MDAwPjQmJjAmJjAmMEgwJj4rMD4wJj40JiZDQzkrJismMD4wND40QyswMCswJj4rJjA5OT45NDA3Ujk5PDAwUjAmMD48NzA0KzA0NzQmJiYwPiY+MCs+PiZDMCY5NFIrPiYrMEMrPiY0KzArJj45PjQmPkgmOUg0MCswKzQwPj5DKzQmQzA+MDkrPjQrKyswQyY+KzQwKzA+PjQ5OSY+NCZDSDw8Nzk5NDk+MDQ0NDxSOTAmKyYmJj4wJjk+OT5DJjI5OTQ0PjcrPCZINDkwUjk5UjBIKz4rMCs5Kz40PjdBNDA0NDAmPjc5PjA+MD5DPitIPFIwK0M0KzQwKzA0MD5SQzAyJkhDPkM0Uj4wPiswPj4mMCs5MCZDPj40QytSJis0OTA0NDk5MDk+ND4rPjw0Pis5JismMDAwKzkmOTA+JjkrPiYyKzQ0QT4mMCswKzkrMEg+MDRIPitISDwwJjI5PjQmPismPiYmNDkwKz4rPj5DSDA5MCY0MDkmMDk5NDk+Kys0MENNMEMrNDk0KzAwPj40KzAwMDk0PjBDUj45ND5SSCs5Qz45NDQ+PjAwOUMrQ0M+KzQwKzk+Pis+MDcwOTAmNDkrKzAwOTc+OSsmJis+MD4rPjkmJjA0OT4mJis+KyswPjBSJjA3PCY8ND45OTA0MDAmPj4wKyY5MCY+NCs0NCZSKyY0ND4rMCYwOTQ+MDkrMDA+Kz5DOTk0PjA0K0gwOT4rQz48PjA+PjkrMDwrPjkyND4rJj4+MDA5OT45KzQwKzA5MDdDMCs0Pjk+JjQ5PjA0PiswPis+KzQ5OTQ+NCs8SCYwMFI0PiY0NDk+JjQwK1I5JjAmPj4wQSswNDQwUitIKyYmKzAwOTkrKzlNMDA5Kz4+MCs+KzQ5Qz4+Jis5MDkrPj43NDkwPitDJlI5JlJIMD5DUj4wNDkwUjQwPjkrMFJDPkg5OTkmUiYrPj4wPCswOUNIPj40Pjk5MDArMCYmNEMmJlIrPj40NCYmNDAwMDArOSs0OT4+OTk+KyYrMCY5QzBIUjAwMDArJjk5OTk0KysmUjA+KyY+Kzw0MCY5MDk+MDA5Pjk0QzAwMD40MDkrNCtDJj4+OTQwQyY+JjkwNyYwPismOU0+NDk+Pj4wNDQ0MDImNDQmOTxDOSY0Jis5UjQ0SCs5MCYrNDArNDQwMFI+MD4mPiswJj40MDk+Kys0Kz45OSs3PjAwOTQwJjkwJj45MEMwKzQwMDw5Kys+MD4mMEg+MCY0JjArMDAwOT5DKzAwMDQwMDBDQzArOTw0NysrPjw5NDQwPlImOTBDKzAwQ0grJjQwJkM8KzAmPjAmNDk+PiY5KyYwQyswMD4wPjQ5Jj4+KzArPjkwPCY0MEM+NCs0K0gmNDQwJiY5SDA5MDQ+NDk5PjAwNys+NzA5KzIwKzkwMCsrOTkmMEgmKz4wKz45NDA+OUg5NDAwOSYwQzA5OT5DJisrNDA5Qzk+PiswOTAmMD4mPisrND4mMDxSKyZDMEMmPjQ+SDQmJjArTSsmPDQ0SCYwKz4wJjk+ND4rNDQ5MDc5OSY8OTQ0KzA0NDk+MDQrPjQmOTA+Q1IwN0gmSCY5Pj4wPDQmPjQrPjAmNEgwPjk+K0M5MCs0Pjk5PkM0KzBSMDQ3NDA+MDArPiY+OSY+PjlIPiYwOTA5QSs+Kz4wPjk5OT4wOTk0PjA5JjQrKzBDKz4+PjAwPkM5JiYwQyYwUjk0MCYmJjAwPjkmJjBDOTA0Pj4wKzQwND4mOT45MiYrNDk+PjA0Kz4wPjAwJj45SDBDJjAmMDA+MDA5Pj45TTArJjA5Uk0mJjQ3NDlDOSswJjQ+UjA+OTAmPiY0NDk+NDk5OTk+OTA+MCs0NCZDJj40Qz4rPjA5KzQmKyswSCYwQyYyNDAwOTk0KyZBSDcwMDxSJjQ5OSswPiY+SDkyJjRDQ0MwK0M5NEM0NDQrUjAwOUM0Pis+KysrOT5DJj4+KzkrMDw5PisrPjA5JkhIKz4wPj45MCtSJjAwJjA0KyZIJjAwJjA0JiYmKzAmQzdBMDA0Kz4rKzwrMDRIPjk5NDAwMD5DNDlISDBSOUMrJkg5MD4rPiY5JjA5MD4wOTArKz4rUjQ+JjQ+MDAwKzA5MD4wMDQrOTA5JjA8MDlDOSY0JiY0MD40MD4wPisrPiY3OTkwQys+NDA+UiY+MD4mOSYrUj4wMCY5JjQ+MDk+JjQmND4mPjImOTA+PjArKzAwNDAwPjQ+Kzk0Kz4wMDA+OTRDOSY+Pis5JismNCYmJiY+Mj4rMDA0MD4mKzAwMCtDOTA+JjQwSDAyJjArPkg+OSsrNCYmOSY5JiswMEgwMDQ0MDArKzkrKyY0NDQ5MDA5OUg0UjA+JkMmPj4+PjQ+NEMrNDk+Qzc+KyYmQyY0MFI+MDA+MD4yUjkwOT4+PjkmOTk3Pj4wUitDPis+MDA+OTArPD40NysmPiYwOTA5PjQ+PD40OTc0MDkrJlIwJjAmPjAmJjQ5OT45OSsmMjk+JiY5OTI0PjAmOTQ0ND40PjA+MDA5MDImJiY5Pis0K1I5OTA5MCYwOSs5PjQ+MD4wOSYwOTQwOSs8PiY8ND4rMD4mKytIJjk0OTcmPjcmNDQ5OTRIJjAmKz4+MDArPjk0JisrPjQrTSsrOSs0OTwrSDk3OVI+Pj43MCY+JjkwK0MrOTRDKyY0MCs5OT4+JjBSNDkrOTJDOTA+Jis0Jis5Kzk0OSY0OSs5NDQ+SD45NDkwMD4mKzk5MCYwPiswKzc+KzA+Pj48NDArPjkrKyZIJis5SDk5Kz4mNDA5JiswQyY3QTkwOT4wQyswPjA+OTQrMDQwKzQ+Qz4+NEMwSEMwPis5KzQ+JkMwQzk5NDkrJis8MDk+JjQwJjw+Qz4wJj48OU0rNCYwMDRDJj4+NDk+JjA0Jj4+MEgmMCsmOTA+PisrPjBDMCsmPkNDMDQ0Pj4wJjA+Qys+MDA5QzdDKzArKyYrQSs+MDA+PjA0Jj40MDkwOTA0MCY5KzQrND40MD4wNDA0KzAmNDk+KzQ5Jjk5UjAwJlI0OSYrPDAwPCY0NDBSNDdDMDAwPjw0MDAmQz45QzAmQzkwNEgrPjArMDAwJjAmKzQ5NDArPis+PlI+MD40PjAmPj5IMDJIJjQ+MDAwKzArJjAmJismNDkwOSYmPiYmPDkmKzAwMDw5Kz45JjAwNyYmSD4rNCZDNDQwJjk5MDA0QT40OTkrNCY5MEM3MCZDMDQ+NFI0MDRIQzk0OSs5OSs5MDkrMDkrJjA5KzwwJjAwOT5SJj4rKyswMDwrNDcwMDkmPitIMCs0JjBSJisrSDQrQzAwNDA0KyYrMDQ5NDAwMDA0Uj45PismMDQwPDk0MEMrUisrOTA+Pj4wOT45Kz4wPj40Kz4rNCswMDArKzk8OTw0PiYrMDA+MCswKzQmNzAwJjA+MD4mMCYrMEMrKzkmND40MCs5MDQwNCYmMiYyMDAmJjAmPDAmJjA5MDQ+JjAwJjArJjA+JiY+Pj4wND4wNEM5Qz45OTk+PjlDND4rPCswMCYwK0M0MDQrNCs0PiswJiY0NzAwKzcwMDQ0Q0M5Kz4wMCYwPisrKzkwPjkmNyY+ND45ND4mMDBIJismPCswJjBSNDlDNDkmNCs5JitDKys+Jis+ND40MD4rPiYrOTAmOUMrMDk5Kzk0NDk0MD40PjAmPiYrJjk+MCY+PjQ5ND40OTw5MDQyPjkwK0M0ND45QzAwOTkwPjk+JjAmKz45MDw5OUMwPkhIJjkwNCY5NDBIKysrKzA0MDQ0NDA5Kz4+PlI5JjA0NDIwNDIrJiYrND4rUj4mPjArMDBIOUMmMDk5PiY5JiZDJj4+PkM0Qz45PjQrQzRSOTkwPkgwKzA5NDQ+JiY5Pj4rKyYmPjAmPjA+OTk+MDk+PisrNDQrOSs+OTQwKytNJiYwPjQ5PiYmMCtSOSYrJj4+Pis5Pj40MCs0MD45PjQrPjw5PjkrPjkwPiY+NFIwKz4+Jj4mPkNIMCswKzA+JjArQz40Pjk0Pjk5PiYwMCY0MDI+ND4mMD40K0gwPD5BPiYrND4rPD5SMDA0MDQwOT4mPismKzA+MDk3QzA+Jis5OT45Q1I+NysrNDQ+PiYrNDQ5OSswPjlDKzk8OTBSMDAwKzArPjw+NCY+KzAwPjkrQzArJiYwPis0Pjk+OTk+UjAwPis8Kzk0Uj4+JiZDOUNDMD4+MDArQzArMDA5OSsrOSY+OT40MDAwPjA0OT5DMCtSPjk5OSs+MDAwJjBIJitSJlI+PjwmMDQwMD4mPjk5MD4+Jjk+OTkmOTA0Ujk0NDkwPj4rKz45Pj4mJjAwJjkwOUMwKzA+MDAwPjA0OSYwMCs+Kzk0NCY+SD48MCsrJjAwKzArPCY+MDArMCswMEE+MEM5ND45Qys0PjQ0MDlDKysrOSs5MCs3SD45QTArPjBSJjRSKz5DK1I5MD4+JjQ0OSs+OSYmMDw+QzkmMDA0MDBSMDk0KzBDMFIwOTk5Kz45OSYwNDAwJjQ0PDkmPkMrNDkrNEMwKz4mOStDPiY+JjkrPismJkg+OTArK0gwOSsmJis+PjA3Pj40Jjk0PjQ+Kz45OT4+OSYrPj40Kz4+PisrMDRIOSY0KzcwJitIQzkwPjQwMD4+NDQrOT4rSCsrMEM+OTkwQytDOTQrMCY5Jis+OTA+PjBDKyYrJj4+Kz45TTk+OUEwNEM5PjQrPj4wMCY+Jjc+K0g8OTlIPjkrSEMwPjk+OT4mPjkwOTk+MDQwMCs5OTBSOSs5PjQ5PiYwPj4wJjAmQz45SDkmMDQ0MDk5Jj45MDkmMDwwJis5NDk+Pj40KyYmNDA+OSsrOSYwMDA8OTArPjwrOT4rMDk5PjAwNFIwMDI+MDAmJj5IMDkmJiswPiswMEMrKzBSPjQmOTAwPlI+MFJDOTA5KzAmJjAwOTBDPisrPjQ+Jjc5MDAmOT4+Jj4+MEM5NDQ+KysrJjA+MDlDMCYrNCY+JkM+PjBDQz4rKys5OTArKyY+UjAmOTQ+Pj4+PismPjAwOTBSMEg+OTQwPjkwPismQysrMDA0JiYrJiY+JjArKzArJkg8OSswMD5SPj4wKz4+JjA3PjQmUitSMDc5NDkwNCs+Kz4wUjwwOSY0ND4rSDA5OTQwPlI+Pj4+NzkrKzAwNDQwJjkrKzk+OT4wPiY+NDBIMDw+KzQ+NCYrKz4rMD40KzArKyY5K00+OTQwMDQmOTc5JjQ5OVImMj4mQys5ND4+PjA+NDAwMDkmQTAmK0M+PjQwJj4+Qz40MD4rPjkmPitSOUg+UiY0PjAwNyY+NDArPis5Kys0KzkwPjQwQzk5KzA5MDkwNDBSUkM5KytSMCY0MDA+JiYwPj4mMCYmMDQ+JiswQ1I5MCYmQ0NDJjArMDA3OTA0MEM5OSs+JjQ+JjArPjA3Jis0Pj4rQTkrMCY+PkE5OTArKz4wPjArKzcrUjAmMDAmJjc5MDRSPiY0ND4rPjk3N0M5JjRIMDlDUis+MD40PkhDOSs3NDAmJjA0NDIrJj4wOTk8NDA5Jj4wKysmJjA5KyYwNDkwQ1IwOT4rPjQrNCsrJismUj45Jj5SNDAwPjdSJis+OSY5PjA8MDQ0MD4wOT4rPkMwNCs5PiYwPjBDPkM8PitDK1JDQz40JismMDA0PFI5JkM5ND4rPjAmMD4mKzwrQSswNFIwMD4wPisrPiZDKyYwOTQ5MD45NzQwSD45Pj5SNDwwSDA+MDArOT4+MCYwPiYrMCs5PkMwPjQmJismPjA0UjBDOStDOSs+PDQrMEMwNCY5NDBSNCsmMEE5OT4rPDk5MD40NFI+K0MrJiYrMDA5JjkwOTBDKzArOT45Pjk5Kz40Kz4+PkE0OT40PkMwNEE5Mj4rPjAwKysmMDA+JjQwMCY5JjdBPjQ5MDAmMDArUiswQzkrPjwrOSYwNCY5JlJBMDRNQzk0Ujk0QytIPD4+KzkrOT4mSDAwKzA+NysmKzc0MCYrNCtSNDkwMEg+Qys0MDA5KzArQzQ+PisrQTA5OT4yOTAwMCswMD45KyY5MEgwMCYrNysmMDAwJjAmSD4wJj5IPj48OTkrKyY+NDA0SDA+NDQwMDA3JjkrPjkwMD4wQyYwOTA+MDQwPDArK0MwJj5DKzQ5QzQwMDcmQzArJj4mKzAwJiY+OT4rNCYrKz40OUMwQyYwKyYwND4rJkg+OT5INCtSKzA0OSswMDk0QytSMDk5PjQ+OTQwPjRBJj45OTQ5OUgrMDAwOT45MDcwPiYrMDAwKyYrMCsmMDArMDQwKzQ+JjlDMDw5NDBDJkgwJj4wMDQ+PlI+KzkwPjQ5PismJjk+SCYrKzArNCYyOT4rJjAwPjBIOSYrMCY5JiswQz4rUjkmJismMFImPjRDQzk+KzAwMDQ+SD40QyY+MEEwK0MmMDA+JjQrMDxDNDQ+MDAwPjk+PjArNCYrND45PFI+NDQ+JiY0KysrOTBBJjk0MDArNyYmJjQ5NyYmPisrMDQmNDQrPjAwNDA0KzkrKyY0Pjk+SD4mPjA0PjA3MCs8MDAwUjAmPjkmQz45KyYrOTk+OTlDNDAmPiY0MD40PDQ5MCsrMCs+Kz45PjBDUjk+NDArMDBDOTA0QzA+PjAwSD5INDkwNCswPj4wOTAmMDA0MCtSPFI0JiYwPiY0Qz4wQTk5UjQ+MjkwMCsrQzQ5SDA+JkM+MD40KzArMD40Pjc8PjA8PiZIKyYmNCs+MDArKysmNDkwPiYwJiswJj4+OTAmOTc5Kz45MDkwMCY+Jj4+NDA5NEMyKyY+SEg5MDA0QzkrPDRDMCYwKytDMDQrND5SPjk0Nz45Jj4+OTkrN0MyQzcwNCY3Pj45Kzk0JiswOTA5MDk0MCsrMDQ8OUM5PlIwPjArKz45NDAmKz4mPkM+OTQ0KzA0JjQmUkM3NCY+OTBDQz45PiYwMDk5MCY0Kz4wJis3OT4wQyswPkNIKzA0Uj4+OTIrNys0MCYrNEM+KyswOT4rNys0MDQ+NDQwQyswJiYmPj4rQzk0OTQ5OTk5NDk+ND5SMCswJj4rOUgwPkg5NDRDUjQrKzA8OSYwPjk5Kz4rOTQmMDlIJiY5NDAyKys5OT4wKzQmNDk+Pj4+JjkmMCYmPjQ5OT5DMCs+JiY0Kzk5MDA8MjQ3Kz4+NDArMDA+OUM5OTQ0SCswJjQwPjk5QzkwPis5KzA+JlI8KzA5MD45NDA5OUgyOT4wJjI0OSs0OTkmJis5OSY0NDk+PjArND40PjRBKyZDUjk+OSY+Pj4rKyswOTk0MD4+MDk0MDkwPjdSPj45Pj4wPkM0OTk0PDkmMCsrMCs0PjQwNDA5UjwmNDkwOTAwPjA+UjArJj5DMFImNFIwPiZIPjA0MjAwMDw0Pj4wPjk+OTk5OTQwPiZSOTk+Kz48Kz4rPj4rSDQrJjA5ND4+MEgwOT45ND4+OSsrJj4+KzA5KzQwOTAwMDBDPj48NDQ+MEMwNCY+NEEmSDAmSDlDMCsmPjQwMCYrMDkwPCs0OT40NCswKz5IMFImOTAwNDArSDBSOSsrOT5BMDA5PCswJitDNyYmPkNDKzkmMDAwNDQwQz5SUj45KzkwQzw+MCYwPDA5PjA0NDAwND4wQys0KzQ+MDAwND40UjArPj4rJkgrQzA0MD45NDw5MD4wJis+NCswMDA+MCs+MCsmKz45JjBSMDkrOTRDPCY0Pj4wKzQrOTxDOTlDMD4+PiY0JiYrMEMwUj4wKzQ+NCsrJjk+NDk5ND4+Jj4wPD5DPD40PjkwMDw5OTk+MDQ0OT5DPj45PkgrSDA+MCY5PjQ3Jj4rOTA+KzRBMDQrPjA+MCYmQyY0MCswNCswOT4+KzA+NCsrMDQ0KzQ5Kzk+PjA0MCsrOT4wPiY0Nzk0OSYwKzA5QTw+Jis+OTQmOT4wKzk+Pj4rPjQ5PiswQzw+PjlSSDQmNCZDMDRDJjA0PjA+MEg+MjA+PDA+MD5SMDA+NDQwOTk+MDAmOSsmMD48MDIwMDArJjxDKzA8PiswUjk+NDA8MDkmJismQTArMD45NCYrPj4+OTAwMDkrOTkrMCYrJjA+SDQwJjQ0OUM5KzQrOTArOT5IOTQ5UjArMDAwKzA8MD4rPitSJj4+OTBDOSYwPis5PjArSDQmSDQwOTRBKzk5Kz4+Jj5IPjk0K0gmJjQwMCs5MD45MDA8PDA0OUM+SCsmNDk5MDkwJjkrNFI+OTkwOT4mPjk5Kz40PisrPjArJitDKz4rKys+PlJDKz45JiYwMDk0MDk+NEMwOTQrOSYwQysmJiswOT5IMDQrKzQ+MDBSKyY5QzA0PiYwMCsrJj4+KytSOT40NzAwJjAmPitSPiY+MD5DNCs0OSYwPCsrUjkwJjBIMDQmJkErOTk5OTA+MDkrQz5IMDQ+OSswMCswSDQ0KysrOSY0JiYrNCs8Pkg+OTJIMD4mPjk5QyY+ND40Q1IyJjAwK0gwNCs5JiswOTAmOTkwMD4wOTIwJiY+MCs5Pj4wMDA0OTkwMDAmNzQmPjQwMDk+OT5IJjk5PjQ5PismQyYmPDQ+MDkwUjA+Pis+KzkmKzQ+JjQ5OSY+Qz4mQzk5JisrOTArMDQ+KzQ5MDQ5Pj4mKys5MDw+Pj45MCYwPjkmPjQrJjA+PjAwUismKz45JiY+MCYwJjA0NEEmOT4+MCs+OTA5MDw5Jj48JjA5PlI5MD45MCY0MDQ+MDQ5MjQ0NDQmMDA+Ukg5MFIwJjQrOSswMD48MD4mJisrPk1DNyY5MEErNzkrNCYmPitSOTA+NDAwNDA+MDwmPisrNDArOTQwJjArJiYmKzArPiswMDA0KysmOTAmMEM+Pj4wJjkmPiswPjQrQys5MCY+NDQwKz4wKyswMDk0Qz4rMj45JjQrJjk+OTA5MDArOUM0NDAwOSY5PkMmQzBDPjAwOSY5Kz5DKzArUkM+JiYmND4+NCs5QytDPjAmKzRDJiY+Pj5SNDk5KzQmMDA5MCZIKz4+Nzk5NDkrUj45OTkmNzk5QzA+Pjk5NDA0PDkwOTkrND4yMCY+MDw+MiYrKysrMDA+Pj45MCs+OT4mPjlIPjAwJjQrJjAmMDkrPjlDJitIOT5IMDkwMDA5Jj4wOTA5MCswK0E+NCY0MDQ+OT4+Pjk+PjQ+Jj40KzwmKzAmKzQ+KyY+Pjc5PjkmJisrMD4wNEg0UjQ0SDcwOSs5JjQrUjImJjAwQz4wNDQwMD4+PDA+OTk0OSswMCs5NDk+OTQmPj4+QzA+OTkwMDArJjA+Pis0PjA+Jis+OTAwJjRNPjA+NDQ5PjA0JitIPDk+OTk5Pis+JjA+PiZSMDA5NDA0NzQ5PismKyY+ND4wOT4mMD4rQytSND4mOTwmKzArJiswJj4+Kys5UjBIPis5MD4mNDkwQ0gwK0M+MDkmND4+KyY0Kz4rOSsrPis+JiY0KzQ+Jj4+PiY5PjArOTA+Qz45Kzk+NCYrJjQ0UjArNDk5OSswNDArMjA0KzA+PjA+MCY5MDkwMD4+OT4+PjAmSDBDMD4rKz4+PDAmMD45MCZDNDkrKyY5KyY0Qz5DPj45OTQyMDAmND4rUj40KyYmN1I0PCs0OT4wKzA+JjA5MCs5Pjk5UlI0UiY5MCYmJiYwKzQ5QzImPiYmMCYwMDw0MFI5OTk0MDQ+JjkwPiY5NEE+Qzw+QT43PjBBKzArMDArJj40MDQrPj4rMDA8MCYmNDBDMDAmMDA+MDQmPjwrKysmMDkyPjQmMD4wNz4wNDQ5PiY+ND4wJjAmOTArPj4mSDkmNCswJis8OT4+NDcrKzA5SDA5MDkwOTk0JjAwQSs0NDAwJj4+MDAmMFImPjkmPEMwOSY5NCs+QzA5NDw+NCtDJjQrQzA+MDQ3KzQmNDQ5PCY5MDkwMCY+JlIwMEM5Kz4rMCs0SDk5MismNDA5KzkrPj4rPjArPCs+Pis5PjAwSDBSMCsrKz40Jis5Jj5SKz40MjQrJkMwOT45NEhSKzkmMCs0PDA5OTAmOTAwPiYmND4+NzkrQyswMDwrMCs+OT4rOTAwQzQmNDkmK0M5Pj4mOT5DMCtDMEgmK0EwMFI+PkMmQyY+MDI0MDQwPjQ3OTc5Q0g+MCsmJjk0OSY0MDk+MDArNDkrNCs5NCswKys0SEMwSDQrOTArPjAwJiYwOT4+MD4+OTkrSD4+OSY+Pj4wPjk0MD40PiYrKz4wJjAwSCYwOSswOTkwOSswOSswOTk+SDBIOT4wMDA5MCsmOTIrKzQ5QTQwOT4wMjAmMDAwMDArQz40NDQ0OTArPis5JjQ0PjkrPjQrOTA5Pis+PjlDJkMmMDQ5PjkwOSsmMD40NyY5NFI+KzA+MDkwMD4mPiswKyYmNzk5JjkmNDkrMjk0MFIrPD5SJjArPj40MCYwOSYwJjAwJiY5MCswOTk+MDlIMEhSJk05MCYwMDkwJjA5Pj4wOT5SMDQrQz45MDkrMjA5OUE+NCYwNEMwMDQ5OTAwKz4wMDA+MCs0Qz4+NDAwKzQrQzkrNCswNDA+Jj4+ND4+OT45KzkrMCYwPis0OTQ+JjQ0NCY+OUMwJkMrPjAwPjkwUjQmJjlIKzA5OUM8OVI0OT4wPj40PkNDPjk+PiYwMD4wOSY+MEMwMDQrOSY5Jj4mNCs5JjAwQzlIOTQrPjk5Pj4rQ0E0JkM+MDA0ND5DPjA0PkE5Mj4rQzQrK0MwSD45MCY5NDAwKzA0OTk+UlImOT4wKyY0SD5DMDA3OTAwJj4mMCsrUjQ+PjA5Jj45MDA0PjQwNCsmJj4rOTk5JkMmKzBDOT40SDA8MCs5QzkwQz4mPj4+MDk5OTAwOTw+Kzk0Pj48KzQ0MDkwMDAwOSYmPj45JiYwKz4+MDQ5JjBISCY+QyswNDQ+MEM5JjQrPiY5MD4rMDQwSDQ0OUM5PDk+PiY+JjlDMDQ5NzA+UitDKzkrPis5MDAwKyYwND4wUjQwNDA5Jjc8MDQmPjAyJjA5KyYmMEMrOSYrPj4wJiY3MDkwUj4+PjcwOT4rNCYwMDkrMDk5KzQ+Jjk+KyYwMj4wPlI5N0MwMCswQysrJjRSMDQwMjk0Pjk0MDBSPjA8KzlBJjQ+KzQ+MCYrPD43MCsrJjk5QzA8MCY+MEM+Pj4wKz4wNDQ5OTA0Pj4wMCYmMCYmSCs5PjArOSY0JiY+Pis5OUgrMCswOTAwNDcwNDk+KzkwPj4wNCs0MCs0NCY0JjAmOT45OTAmJiY5MDk+Jj45KysmPj5IKys0Kz45OTArPiswQzkwOTAwPjwwQytBSDk5UiYwNDAmMD4+Q0EwJitDMDA0PjA5KyZDPjA5PjA+MD45ND40Pis+MD4wPj45SCZIPjAwKzkrPis+MCswKzA5TSsmPis+QzQ5PiswJiYrNDAmSDQ5PDkrOSs8PiswMCs0QzAmMD4rMFIwMDkwNDQmNCsmOTA5MDAwOTQrOT4wPis+Qz4rN0MwJj45OTBIJiYmOTkmPiYrOTlDKyY5PjkmMDk5K0NDNDk0MD4mMiZNKzQ+MDQ+Jj4rPiY0OTA0MCY0MEM5KzkrMDwmMCY5OVIwJitDMEM5MCswK0MrKzAmSDA5PDA5OT4wKys3MDArJiYmPjkrKzQ+Pj4+Pj45MCs+QzA0Pj4rUismJjAwJjA8KzBDMEMwNDw5Kys+JiswJjQmKyY5NDAwQzkmOTQ8ND40MDAwNDQ+SEMwMCswSDA+SDkmPjw+Pis0NCsmPjk5OT45OT4wPjkwK0g+MDAmJlIwNzA5MD40PjwwPj5DJjkrPj4+Q0g+OSs0MDA5KzQ+PkMmPismPkMwNzQrJj4rSEM8MDAwOTA+PjRDNCY+OSs+OTw0KzkwOTA5NDI+PjA0OTAwMCsmPiY+PiYmPiYmKz43JiYrMD5DKzAwSD45Pk00Kz4+QzA5MD4wOTAyKzAmOT45Pjk+MEM5Qz40K0gmPjRIKyYmPj45Pjk+ND45NyYwOSs+KzkrJisrPjA+MDQrMCs5MDA3OT4+KzA5QzA0MDk5QzRIPkM5MD4wSCtDPjkmJjkwPjkmPj4+OTlSPjkwOTQyJjkrPjw5Nys+QzAwNDQwOUM3OT4+OTQ0MDkwMCs+MDwwJisrQys5Pj4wQz4+PjAwMD4mMCs8OTk+OTA5Jis5TTA+PiswMDwrMDAyPjk+MCYmNDkwPkM+Qz4mOTlDSD4+NDAmKzkmNzk5Kz4wPkMrQzAmPDQwMCY0MCY5JiYrMFJIOSsrKz4rPjQrPiYwOSYmOTArJjQrND40NCYrNz4wPj48NDQ+Kys5NCY+NDkrMCs0Pis+Ukg5MCY0PCsrMD45Pj40Qz4wJitSOT5DJjwrJjQmMD5SUjA+PisrMCYmKzA+OTw3NDwmOTA0MDRDPjkmJjcwMCsrOTlDOStDND4rJj40PisyNCYwJj40PjQrKz5SQ0grKzQ+Jk0+Jj4+KzA0UjArQzQmKyYmKz5DKz4mPjQ+OTkmK0E5PjA5PjBDKzAwKz43PiY+KzkwPjA5KyswNDAwK0hSJiZSPiY5NDAmNzQ0MDRNPj43QyYmPismMDk+OSY0NDArMEM5PismPjQwPj45QzBIKzk5UiZSOTk5MDBDKyYmMDQwPj4+MD4+PjwwPjQ5MEM+KzcyNCYwNDA+SD4mOTA0OSswMCYwOSYwSD4wSDQ+NCYrMDQ0NCswMDA0JjA+MDA5MDA0MDBSPiY+Jj4mJjQ5NCY5MCY0N0MrPj4+NzQwPDk+OT45OTArOUgmMDkmMD45MD43MDkwQzA+Kzk+OTQwPisrOTQ+NDkwKzRINCs+Pj45MCY+Qzw+PCYwMDQwJkM5K0NIJjk0MCs+PjAwMD43PCswUkM5KysmKyswOTwrQzArSCsrPjA+PDQ5KzIwJjk5KzArPjA+OVI8KzI5JjAwMCYwND4wMEMmOTk+KyZSPjkwPiY5OSs0OTAmMDkrUjIwMD5DPjQ+OSswNFIrKz5DNCYwJjkwPj5IKzkwMFI5KzQwMDkyPitSPiZDKz45ND4+MEgwPjQmKzImMDQ5Qys0MDQwNyY5PjBIOT5BKz45OUgrOUMmUjk5MDBDUjArOTkrJj5SNDw0MCs5KzA0K1IwPjk5QyswNDI5NDk5Pj5DKzI8MCs+OSYyPkg+Kz45PjQmMEMmJjJDJjAmSDA0Pj4mPis0OT4+Jj4wSCYwOTA0Kz40QysrNDBSQzA+MDA5PjlSPis+Kz4+SD4+KyY+MjQwKzlDKzArOSs+NCY0K0NIOTBDMD4+Kzk5NDw5PjQmNDQ5UjA+PD4mMiYyK0MmMDArPj4+PjA+Kzk5Kzk5KzlIOTk0PjlDOSs0OSswNCYwMENDJjkrPjA5NDk+SFJISD4wMCY+SD4+OVJSOTA+OTkmMEgwJj4rSDkwQzw5Qzk+OTQ0MEgwOTkmPjk0OSYmKzAwMEMwNDc0MDQ8KzA5PCs+OT5DOTAmKyYwKzlSMDcmPiY5Kz45MDAwOVIwMDA0QyY5QyY5ND4wPjkwKz4wKzQwJisrOSs+Pj4wOTQwMCs+Pj4mMD4wMCYwPDAwPjAmPkMrPj4wN1IwKyYwMCYmNzAmPj4mNDkrPis+KzA0NCY5MCtBSCswKyswQzQ+Jjc+Pj40K1I3OTQmNzAmMD4wNDkwNCswPj40KzQ0PjkwPjA+MD5DPjA0PjQ5JjkwPjQmOVI5OTk5JkMmOT5BMDAwMDAwMCswKz45NDkwSDA8MDA0OTQ0SDcrOSY0MCs0JiY+MDQ+OTA+PiY5Kz4rPk0rPjA5PjQ+MDAwOTk+Kz4wOTwrMDQ+ND45SDQ0NCYwPjk+OT4wJis5Pjk0OTRDKzk0MCYwPjk5MjArOUM+JjQ+Jj4wNDAmKyYmPiYwSDA0Jj4wMCs5NDAmMjAwMDBDJiYwNDk0OTQ+K0M8QzA3PiYrJj4wOTA8PjQwMDkrMDAwPDQ8SDA+OT4wMD40Jj4wPjQ+KzArNDQrOSYrPjQ5MCs0NCZDKzQwPlI+Jis+NEMrKzlDMDQmJj45OSYwKz4+KyY+MD4mMCY+Pj4wMCYwMDA5KzAwQyYwMCs5Uj43SEM0MD45PitSNCYrMDk+NDw5MEMmUiY0Pj4+OT45MDkwPis+ND45OTA5Pj4+NEMrME00Kzk+MCswPD4mQ0g+PjxSK0g+KyYrOTA0JiYmPjkrNDk8MDA+KyYrMCswMCtDPjAmJj4+Pjk+MDlNPj5SPjArJis0NDAmNDA+NDk0MDA0NDkrKysmNCs5Pj40KzA0MDAmOTkrPkMwKzk5JiY5MCYmOTk+JlIwNDwmPkMwKzQ+NDQ+Kzw8NCsmPj4mPjwwPjkwPjQ+SD4rMCY5OSY0MD43MDQ+MFIrOTQ5Pj4+PiZIOSs+MD45MCY0Pj4wPjlIKz40MDQmOT45Jj4mOT4rMCZSPjwmPjkrJjk5SDQ+KzA5MDA+MDQ+Kzk3PisrPjk+PjQ+MDQrPjQ+NCYwOSY0Pj4rPjkwJjk+NDQmPjQ0JisrMEgwOSY+OStDQ0M5PismKzAwKysrPis5NDk+PitSOTA+ND4wJjA+Kz4wMCswJjArOTBSPiY+Jj4wOSs5JjA+MEMrOSsrMDk5OTA0UismJlJBJj40PjBDOSYwKyY+QSY+OTQ+OSZSOTkyJj45Kzk5JiswOSYwPiswPjA3SCY0OT4wSDkwOTQ8PDA0Pjk5JitSPkgwMDQwPjk0K0M0MDAmMCs+NDkmKzArPjRDK1I+NDkmMj4mKzArK0NBKzQmJiY5OTQmKyY5MDQ+PFImNDQmJjkmJis+SDQ0PiYmOT48Jjw0Kys+NDc5SEM+Mjc+OUMrMDQrPDkwKzBIOSY+Pis0PjwwMDQ+PjQ+SD45Pj4+Ujk0Jjw5PjkwMCs+QTw5MDArJj4+ND4wPj5DOSY0PiswKyY+PjkmQzkwMCswOTAmJjAwOTlDPjQwJkMwOSs0ND5DJj40JisrKzQ0Jkg0PDQ+MDlNKzk+Pis0MD40JiYmPjBSPis5Kzk0MiY+UjA0Jj40KzA+ND4wNyYwJiY5Nz4wMDAwQSYyPDkrNCY+JjAwPiY0Kys+KzQ5PkgrMDArKyY5KzAmKzkwNDQrPjkwPj4+PisrMDA5Uj4+SDk5JiZINCYrQT5DJkhSPjkwMCswSD45JjA+UkMmPjA0KzQwJlImK0E+Jj4rNDkrKyY0MEMwQzQmMD4+OT4mJjQmOTkwPDk5MD40PjA5PjAmUj5IPDQ5Uj5SMD4yJj4rJjk5PjQmJjQ8QzlDSD4wPjkmSDA+QyYwKzkmND5DQzArMD4+JitDPj5SPjRDUj4+OT4rND4+MDk8JlI+JjAwNCsmPitSKzAwMDkrPjkmMDk+KysrJj4rQzkmKz45MiswPj4+MFImPjwwMDQ5NDQmQyZDJkMwJjAwK0g+Jis0Pj4+Jj4wPiswMFImQzArPjAwND4mPkM8Kz4wOSY+PiswSD4rPlIwOT4wPisrJjA0MDQwND4wPjQmNDArOSs5Mj45NzArJjQrMCY0MDk5QzQwSDQmNDArOTkwPjQwKz40KzAwQysmMCsrOSY+MDAwMCswMDAmMDQmQzwmMDxDOSs5KyYrNDkrMDkrQzk+SEM0MDA+SD4+MDk0KzlIKzk+OT4wPjA+PjQwMDQ5Kz4+Nzk5MFI5KzIrJjk+SCswJjk0PlIrOTkwMEg0MDBDUjQwK0gwPlI+QyYwNDk0OTAwNDA0MD4yPiY+PjA0MCsrQyZDJj4+PjAmMDBDNCs3NCY5Jis0OUM5MFI+KzkmMDA+ND4rPjA0MDA+JlJDNDk0Nz5SKzQrKzIwJjlDMDk5KyswPiswPjAwMCY3PjA5MDAmJlIrUiYwKzAmNDA0Pis5MCs0OTk0Jjk+PkNBOTkmMCYrPjQmJj4rJjA5PjA+KyswMCYmOTk5Pj5DKysrNEM3SCsmMCswKzlSJj40SDAwPjArOSsmKz4rQzkmMjlDMDkwPiY5OStIND4mND40OSY+SENSNDQmOTBINCs+PiYwKyYwOSsmKzAwKyswJjQ5OTlDPiY+NCs0NCtDSEE5NzAwPiY+OTA0Pj45PjQyPis5JjQ+PiYmNCYmMFI5K0M+NDAyMD40Pj4+PjQ0MDA+MD4mMDkrNDk+KyYwQzkwOTA+MCY+KzAmQyYrPis0Kzw8MDA5KyY3Pj40UjA+NFImJjlINDQwSDlIMDQ8MD4+NCYmTTA+NDQrMD4+MD4mPkM+Uj40KzAwPjkwUj4+SDA0OSYwKyY8OT45MD4mMDkrPj5IKzQwNDk5ND4mOT4wMD4wKz4wND4wJjA+Qz45OTk+QzkrNDk+MDA+MENSNz4+OTkmK00mJjw5PjBSKyYwKzI+Kzw5NCs5PjlINDkyJj4+OTAmOT40JjAmPiY3NDwmKzAmOTAwKzAwMDA+JiYrKysmOSY5KzQ0NDQwUj40KzlSPkMwMCY+MCs5NDArPCtINDA0SEMwMDk+KzlSJjAwJjkrQysmNDA+NCYwOTQrPisrOTBSNDkrPjAwMDIwPj4+OTA+JjAmPCYmNDQ+PiYwOVI5QyYwPisyPkg+PDk5NCswMFIwOT48SDkwKzAmMDk5SCs+JjRDKyswMD45Pjk0OTkwMDQrPis+Pj4+OVJSKzRIPDQwUis5OTQrK0FDMFIrOSYrJkgwJismPj5IJjAmJjA0Jj45PjQ0JismKzA+OUMwOUgrPis+UjA+KyYrNCY+MDBNPkM0KzQwPjQrJjAmPjQwOTk+Kzk0OT4+MDkrOSsrKysmOTA+SD4wMD4mKzk5PDQ5MDcmKzA0NCZDMEM0Qz45QzQwNDQmQzlBND4mOTk+Jjk+MDk+MCYwPjQyKyY+SCs8NDJSMCY5PjA+MCswKzQ5MENIQzkwNzBSMDk+Kzc0MDQwPjkwOTA+MDBDJjAyMCs5JiY+MDQrMCZSNEhDOSswMCYwNzk5OTk5KzQ3UlIrJiYrNDk+OTA+UjkwPis5PkEwMDA5PiY+OTBDMDA+Qz45OUg0Qz4rNEMrSCs+PiZDQzQ5OTQ+KzQ+OSYrMDArPlI+JjkrNz4wOTkwKzk+JlI+MDRDQ0gmNCswNFIwPlImPkM+MDRDJjQ5NCswQz5SOSYwUiY+SDw5MD4wPjkrNDkrKyY+OTQmJjk+OSsrPiYrOT4+OTArPis+ND45MD45PkhDPj5IPjBDMD45KzA5MEM0PD4+MCYwUjlIPjAwMDA5JiYmMDA5Kz45Pj5DQz4wOSY+KzkwJj45ND4wOTQwJjQ5KyY0KyY+MDkrPjA5PjAyQyY5SCY+JjBDOTRDNDc5OTArOT4rOTcwMCYmOTA5PjQ+PjA0JitINCYwJjArNDArSDQwKzQwOSYwOT45OTRDOSs3PjAmOT5DPjQwND4rMDkrKz40OSYmMEMwMD40Pj5SJjA0PCYrSCZDMEMwMDRDJjA5Pj4rPis+MDkrNyYrPjk+MD4+KysrPjk0JiYwKzQwNys0KyY0Pj4+K0MmOSswJjwwMDA8MDcrKzk+PjkmMDAwMCs0MD4mNDk0MD4rPD40QzQ0PiYmKzkwPiY8NCtDPjIyJj4wK0NDMDQ+PjQ+KzA+ND5BNDk+ND40NCsrQzwrSDA0MCY+NEgrUiYrNDkwMD40PlI+PDQwNDQ0KyYmPisrPjQ+MjBDOTk+PCYwNCtIPiZSKzw+MENSPjQ5MDdIMD5IOT4+Kys5NCY5MCYrPjkwPiswKys+NCs0K0M+OTk5PjA0MD4+Pjc+Pj4wPj4wPEMmPj4mJj4rPDI5NCY5NCtSPjk5MDkrJjlIKys+OTAmJiYrJjAwOTBIJj45K0M5NDArJj4+OStDPjk8JjkwMlI+KyYmNE0rJjBSND4wKz45QzQ5PjA+JjA+Pj4mMD4wUis0K0gwPkMwOT4mKyswND4mKzk5PiY0QzA0JkEmUj5DOTk8NDQwPlIrOSs+Pj40PjA0JjA5PiYrKzArKzk5NCs0Kz4wPjBSMD4+JismND45JjA5OTkrMD5INCY5MDkrPjAwJisrSD45Pj5IMCY+MD4rJjAmOSsrPj4wPis0Uj4wJjQrQzQ+PjQwJiY5SEMrJiY5Nz4rPDA+JjQmPiYwPlIrK0g+OTQ5MDQ5Q0M5SCY8PiY5K0g+KzAwPis+KzkwMDkwOTAmPj45PjA0OSYmPjA+PD40NDQ5NDQrOSY+PEM0PjkwPkNIPDkwQ1IrKz4wJjkrPjlSMD40PjQ+MDArJj4rPjAmQz40JjkwPjkmQzc5KzQ+JiYwPisrPjArMCsrMDA+MDAmNzA+KyYwNysmPjwrMDQmOTkrSDkwMD5SPkM5JjBDNyYwPis3KyswKzA+PjkmPjArPkM5PjA0JjIyMCsmJjA+OTBBMCs+PCY5MDA5MCs+K1I5MFIwNFI+Mj48PiY+MDQmJjQ+OTlSMEMmPj5SOTAwPjQwOTAwK0M+PiYrKys5OTArPis+OTA+Jjk5OSs5PjQ+PjkmOSYmJj4mJjAwMDk0MFI+MEM0Kz5IKzA+MD4wJjk+NDRIMCs0MDw5SDAmPjQrOTArMDArKzA+MCY5KzA+PkM+UjAwMDk5PDQ3JkgrPjQ0JjI+MEM+UisrMDlSPjA+PjA5MDA5Pkg+SDk+NDAwOSYwMDAmMDAwJjQ0JiYmQyZSMDAmMCY0JiYrTT45K0MmPlIrOSs+QysmKzkyPiY8OUM+KyY5KzA5MDAwPjQwPCsrMCY5NDQ5Pjw0Uis0OTk0PiY+JjA+Jj4mJjIrMDAwOSs+Nz45JkM5PjkwJjQrNDAmMDA5PjArKzw+OTA0KzA+OT4wK0g8OSs5Pj5IMCsmND45SDA5Pjk+Kz4+JjA5MDk+MDk0NDQmPjkrOTQ5KyY+MDA+OTQ0Jj4mMCY+OT4rMDQ0NDA5QzQmND43MCswKz5DMDBIMDQ+PiY0Jj4mJiYwMCsrMCY5MDkrOUM+MDk+MDk0OTlIMEMmPCY5Qzk5OT4rPj4mKzxSNEM5JiYwPjBBPjcrMDAwJjQmPlI0OTQ+PjA0MCsmMDA0Qzk5KzwwMCswKz4wMD45PitDNDkwNDArMCYwKzArSD4wMCswND4rMDkwMCswOT4+OTk0PjQ+OTk5OT4rPlIrMCs+OTkwPCs5Kys3Qz4wKzkwMDAmPj5INDk3NysrPjkmNz4mNCYrKzI0PkgmMDQ+KyY0OTkwJis5TTk5Kz4mNCs+KzkrQyswJjAmMDQ5MCY0MD4mMDk0MCs+Jj45Jj5IQz4mPjQwMCY0SCY5PjAwOTk+MCY3MDJDQ0NDMD43ND4+Pj48MEMrJjArJjkrMDA0KzkwMDk5JjlBND4mKz45Pj5DNEM0NCs5OSY0QzI5QyYwQz48Uj4wMDIwNzw+OTAwMDAmOTAwMDA0KzlIQzAwMD4wMCY5Kz5DOT45MD45JjcrNz45MCsrNCY+SCY5KysmKzQrSD4wPjBIMD4mK0NBOSZIKyYwK0NSOTQ5Jjk5JjQ0PisrK0gwQ1I0ND40SD4mMCYwOTw5NDk+PjA5Pj4+PjkrNDw5PjAwJj4+MDQmNzk5Pis5KzA+MDAwKz40Jj4wMD4mMCs8MDA+MCYrNCY+OSswMEg3NDA5Kzk+KyY8Ujk3NDQwND4mPDA0MCswPjA5MCYmPj4rPisrPj45MD45PismNCY0QzAwUjkrKyYwKzQ+Kys5Kz40OTkmMD45OTQ0OSYwOTA5PjA5Pjk5OT4rMEM5PjQ5Qz4+MDQ0Jj5SND4wK1I+Kz45JkgrPjA5Pis5JjkrMCY0MD40JjRDOTk0PjkrKzkwNCs+N1ImNDRIJkgrOTk5NEgwOTA+ND4rQzArNDAwKzc0PiswKys3PjA8Kzk+MDAwJkM3JjkrJjk+OSs0PCY5MD4mPjQ5OSYwMDAwQzcwPj4rPj40MFI+OSsmKys3MDA8KysrPjQmOSY5QzA0MCY5Pjk+Pj40NDkrQyY5MCs5Pj4+PjQ+MD40MDk0KzQ0KyYwMiZBNyYrOTkwMDk0Jj5DPj4rOTlIUis5OSYyPis+Jj40NDA5Uis5JjA5NDAwMjlDPiZIKyswOU08NDwrOTkwMD4+JisrND45PkM0OT4+Q0M+NCYmMDAwOSY0MDAwOT4+NCsmPj4mSEMwPiY+PjAwMCYwKzQrKz4rPjI+KzQ0NCYmPiY+Pis+MEMmOSs+PD45KyYmMDwwMDk0MDBDPj4rMCYmPjk+Jj4+PisrKzAmUkMwKyYmKz4rJiY8Uis5Pj45OSs5PjQ0OSsrJkgrPj4+SEM5OTk+NDQ+Uj4wJjA5KzlSNCsyMCs5MDQwOSs3JjA8MDkmKzAwOTQ5OT40KyY+OSs+PkMrQz4mMDA+KzBIJjArKzQmMDAmKzBDJjA0PFI+MDQwKzArNDk0MCs+OUg5OStIMCsrPkMwMCYmPj40OSYrPkg3MDk0Qys+JiY0Jj40Pj5DKzk0MDkrKzAwOTk5SDQwPjQrUjQ5Pj4wMCYrOSs5JitDMj40PjlDJis5OTk5KyswPj4rOT4+OTk0QzAmPDA0JjQwKzArOTA+JjQ+PjAmMDImMD4+MCY5MD45MDArPjk+PkgrMCYwPjAwNys8Kzk5QSswMDA0KzQ+PjQwOUgrMDA+QzAwMDQ8SCs+Jj4+Q1I5PiY5KzkwOT4rMCYwK0gwMCs+Pjk5Pj40MD4wKzA+Q00mQzQ5MDkwKys5Pj4wKys0Jkg+ND40MDAwMD4mOTk5JisrPiswKzQ0JiswSEgmQ0E+Kz4+MD45K1IwJjkmOSYmNDImPjArMCYmMDQrQzk0MEM5Pj5SNCs+Pj45PiY8MDk5MDlIKzQ+KyYrNCswPkgrJkgmSD40MDkwOUM+PjA+MDk+KzQmOTQ3NDk+OTk8MDA5PiY0SCYyPjk5NCYrPjkrPjA5ND4+OT5DNDArNEM5KzQwNDQ3ND4mPjkyOTkwNCY0MCsmMCY5Pj4mMDA+MDQ+JjkmPjQyOSYwMDQrPiYmKzRIKz40OTkrKz40JjBSOTlDOTkwPiY+MDA0Kz4mPjk5Qz4+KzArJj40MEg5NDRSOSY5MD4mUkM5MDA5NyYrJlI0OT45JiZDMCY+NDlBOT4mKz4wOSs+Kz4+JkgwMEMrPj4rMDA+SEgmSDBSPjAwKz4wUj4wJjBDNCs3OTkrJjk8MDArJjQmOTk5JjBDKyZDMDQ0MCs+Kys5Jjk+Qz4+NDQmKzBSQTA3KyY3SDQwNCs5OSYwPFIwPjk0Kz4rPis+QzkwKzAmMD5DMEg8MDQrQzQwOTQ+Jis5JiY5KzQ5Jjk5MEE+MDQ+Pis+PiYrJjk+OTA0Kzk+KyswPjAwOSZBJj4+PjQ5Qys0PkgmKz5SQzlSMDwrKzA5MD4+NCY+OSs+MDk+OSs+NCYwSCswJkMrQyYwMD40JjkwKz4rMDQ5NCsrJjkwQzAwQzdNMDA5MDAmKz4mKzQwJj5DPjk0MDAwPitDJiY0PkMmMD45UjArPiYrKys8QzkwOTQ+MCs5Jis5MDQmMCY0Qz4wPjA5MCY5Kz4+JisrOT4+OTArPjA+JiY+PiYwOTQ+SDA0SCs+OTQ+MDc3SDk0OTQrOT40MDBDNzA+OTRSJlIrKzQ5JjQwJjA5MCYwPj5IJjAwPjA5OTw3Qys+MEM+QysrUjAwPiswKz4wQzlSKz45JjAwPEE+Pj5BMD4+PjQ+MDA5PlI0MDBIOT4rKys0KzArNDQ8NDA0KzQmMENSJiYrMDI+ND4+JiYwKzA5QzArNCY0KzkmMDk0MD4+MDk5OSsrOTkwPj4+JisrQzAwNys8PkE0PkgmNyYwPjA3NDBBPis0PjAmMCswMDArPjQwJjwrOTA0MCYrNCs5JjArPCs5NDArPlI+MDArPjAmOTQrMD4rKzArMCY5ND4wPjBIJj43PjkwKzArKyY8PiYrMEM3PjkrQz4+PDw0MCsrUis+MCY+NDAwJis+MFJIMDBSUkM8Kys+Ujk+OTk3JkE0KysrJiYwOTA+PjRDJj4mJjA+JjArMCtDOT4+OSY5NFIrPCZIPjkwJjkrPkNDPiYmOT45Jj4+Uj4wUjAwUj40OTArMD40MCYrPjAwKz48NDkrMD45OSsmPjQ0Jk1SMCs5QzQwPjArMEM5QzA5KzRDMDAmPjkrSDcmQz5IMCs5UiYwMDAmPiYrNz4wMD4+NDQyMDQwPis0NDc5QzAwOT4mMEg0MDArKys0OTQwMDAmKzxIKzArKzQ8MD45OVI+KzAwMDw+PjQ5NDkrJiY5NDlSJkMrQysmKzQrKzAmMD4wPiswOT4wPiYmKzkwMCsrJjAmPj40JjQ+NzkrPjQ0ND45OVI+NCswNCsrMDAmPjQ+Jjk+KzAwMCZINDkmQys+OTkmKzA0KysmNCswMDA5OSsrMD4+Kz4+PiYwOSs5JjAwPjk5PjAmUjk5SDA5NDkwNDQrOTArND45JkgwOTkrQyswKz4+NEM0OSs0NDBDPjQrJiswOTk+MDA5PjA5Kz45MDBIPjA0NDk+NDA0OTAmPkgwMDQ5Jjw5MCY5OTlBJjQ5PjAwJis+MDQ+PiY+Pis+SCZSOTRDKz4+Pj4wKzkrPDA0PjA0JiY+MDAmMDwrPkMmMEMwQTQ5Pis+MDkwJjkmMDk5JismMDAwJjk5NDc5OT4+OTAwKyY5KyY+OUgmJjQmPisrMDQrQz4mNDQwQyY0QzAwOVI+Uj40OTkwOTA5MDk5MCY5KytDPiYwKz4mKzQ0NCYrK1IrMDk0KzAwMCsrKz48SDkwJjk0ND45OTAwPiY+NyY0KytIOSsrNz4rOT4rOTRDPjA0Pis+Kzk+MDBIPj43OSYmPCYwMDA+OTQ5NCsmMEMwMDAmOT4mOUNBNDAmND40Jj4rOT45MDw5NDQ5NDQwPj45QzQrME05Jis5Q0g+JjQrMCZIK1I0OTQ8PEgmKzQmMDA+NDArPjQmJjw0ND4rOTwmKys5PjBSNDkwPDBIPjA+K0MrMDA+MDlIPj5BPjQrPjk0Kz4wKyY3Uj4mOT4+OTkwMjA8Jj4+TSY+JiYmMDlDQyZBPismKzw+MDk+OSYmMD4rNCswPEMwKzQ0JkMmMEM5MD4+OTk5PjkrKzA+MEE0OT45JjAwMCY+NCYmMDQ+NDk+Qzk0Pj4mJj45Pis+MDAmMDA5MDA+Jj4+Kz45MDA5JjAwJj4mJismMD4wQzQ5PismPjQ0NDA+MDAwJiZDMDQ8PjQwKyY5PiYwPj4rMDAmOTQ3Pj4mPjkrPj4rPiY0MCswJisrMDQ0OTRSNDk3Uj45SEhDPjAwOT4+OTA0OT4rMiZDOSsmPjkwMDQwMDkwMD43MDA0Pj45KzQwKz4rKzk5OStINDBDPis+PiYrKys5JjArPD4wPjArKzA5OVI5ND40PjkrKzkrMD4rKys+N0ErKz40Mis+MDA0MDkwOT4mPjk5JiY8OTk3MD5DJj40TSs0Jjk0Pjk3MDkmJkM+MCsmQzA+OTkwPjQmNCs0KzcmPjAwNEhIMDI+Kz4wNCY+ND4wKys0JjxIJjQ+PiY5OT4rPj4wMDk5NDlSQT4+OSsrPDQwKyswNCYmOT4+KzAwMDAwOSsrNCs+NCYwJjQmPkMmMDAwMCsmUjAwJjAmUis0MDBINz45Ukg0JjkwMCs+UjkmOTQwKzk5PjQ+MD4wUkMrOTk5NDA+JisrJjkwOSsrKzkrMCs0Q0gwMENITTQ5ND4wNDAwNCs+KysrMDI5KzJDMDk5PjA0KyZDJiYwOTArNDArJjA5Pj5DQzBDMDAmMEMrUjkrK0M5Kzk+JiZDKzA+MD4wJiYrNFIrQzQwJjQmNDQ0MDQmMDQwPD4mPj4wUjkrMCYwOTkmMD4wKzwmKzA5SCY0OTBDOUM5OTA+Jjk5OTAmMD4mNCY0JjA0OSY3NDA+NEMmNCYmPj4+JlIrJiY+Kz4wKzRSK1I+NDk0MD40OTJISDkwNCsmMDc0NDk+PjA+OT4rMDQ+PiY0K0g+PiY+SCs5MD40QzA5OSs8UjAmND4wNDAwQzk0MDArKyYrPitDPis+NCs0K0MwPDAmOTBINCYwOTQ5MD45Kzk+ND4mOSswOTRDUjw+OSYwOT4mSDQ0PE0wUjA0PCYrNzkmKzk0PjA5QyZIOSsrPjA+Uj5DMD5DQz4rJjArKz4+OTcmMCs0Qz4+PjAwPjkwPj45KyYrPjA+MDQ8NDkrOSY5PjA5NCs3KzlSOUMwKzk5MD40KzArOTA5MCs5Kzk5Q00+PjQ+MDk5PjkwQzA+ND4rOSswJiswJlIrPjcyJiYwK0g5NCtIMDQ3NCY0QzdSMDA+JjAwMkgrQzI+Pjk5OTwmMD4mPjArNzAwPjArUjQ5JjQ5KzArKzkmPj4wNDQwOTQ0OTw0KzkwPjAmPjA5ND4wPj45SDA+OUEwMDI+OTAmOUg5ND45NDQwOUM+MDw5NCswUjkwPjQ8KzAmMDk5UjkrSDk+MFI0MCYwPiYrJjBIKzwmKzA0Kz4mPiY+JiY+OTk0MDA0Kz5DSEMrQyY0MCYwPiYrMDQwPj40PjA+KysmOTAmNDk+K0MwOT40PkM+MD5BMDQ5OSsrKyYrKyY+Pj4+OSs8JjQ+Pjk+NCs5OTAmNDk+NDRIPDwmJiY+Nzk0OUM5Pjk+QzQwKz4+NCYrJj5SKz4rMCs0QzA3PiswPjA+JjA5Kys+MDkmQ0g3OTA0OTA5MD40Q0g5OTA0Ujk5MDAwPjA0MCYrNDA5MEMrPjc+MCY3JjA+Jj4mOSs0MD4wUjQ5NCs+MD40OTAwPjQmKzwmPj45NDkwPjA+Qz4+MCs+NCY+OSsmMEgmNDQrKzk5JiY5MDQyOTArPkMwQzQ0MCY+NzkmPD48Jjk3Kz45OT4+PjBDMD4+NDA0OTkrKzQ+Jjc5MDAwJjk+MDA0Jj45PiswOSZIOTk+PiYwKys0SEMwQzkmOTQwMEM0MCswK0grKz4+NzA3OTA0Pjk5SDImKys5Pj4+JjQwUjBISD4wSDQ+MENSMDAwJis3Pis0PjA+PjI3QzArMCsmMCY+MCs0K0MwMDA0Jj4wMDk5MEMwOSs5PjA5Kz4rNDA0OSY+NEM5PjAmPisyMDQ5NCsrMCYwMDQmJiswPj5SKys0JjA+JiZDOTAmNDAwQyswJis5NDAmPjQ+Jj5DJjAmOT45MCsmKyYwPj4+JiY0PismNEgmND5DMDQ+MlImMDQwMEMmPjA+JiswKyYmNDAmKytDPj45OT4rNDArMDA+JkM+NDA5NDAmMD4rQz45PjAyJkMmJjQwMDA0NCs0NDkwPjkmNDQwMD5DMCYrNDkwKzArKzQ5PjQrMEEmPjcyPkMwNDAwPiswNCswJisrJiZSPiY0MD48MEMwMDA+Jj40ND4rQys+PjQ+KzAwKz4wJj4mPiYwNDAmPjAwOTc+MDAwNDBIOTQwOSs0KzA+MDQ+NyY+Mjc+MDk0MEMwPjlDJj4mQzImNDAwJjA0PkM+Pj4wPjk5PjQ+NDQ5PDk+JjA0NDc5OT5INz4wMD4rKzAwNDA5Kzk+MCY5Jj45KzkrUjAwPjlDPD4+Pj40OT45MDk+NDArKzAwMDA5MDk5Qys+OTA5NCs+NCsrPj4wMEg0PjQ0PiswQyYmMDA+JiYmKzk0Pis5MD4mJjArOTArSDkrMD45OT5DOSZBJjAmMDk+UiswMDA5Jis+OTA+Kz48MDA8NDQmKysrMD40OTIwOSY+MDA5OTA0JjA5NDA5K1ImNCY+OTkwKz4+NDAwOSswMD40JiYrOUg5Kz40Kys5OSs5KzBSOTA+OTk+KzdDQUg5Pis0NCsmND4mMDA+JkNSMCYrOTkrNDkmJjA5UjlSKzQ5Kzk5KzkmPiY0JiYwKzkrPjkmOSY0NDkmQyYrKzQ+OTQwPjAwND4rPis+Pj4+JitIPj4wMCY8NEMmMCYwOSs+MCs+JiYwMCs8KzAyPiY0Pis5ND5DQzAmKz45NDQwKysmPDA3PjBIMEMmKzkwNysmOSYmJj4+OSswMDk5JjQ0OSY0Jj4+OTk+OTQrMjRDPitSOSYmPDAwOSswMD5BOTlIMDAmJjAmOTA8Pj48MCs+Jj40NDAwSD45MD4wNDAwOTk+PCs+MD4wOTA5MCs+NCtDOT4mUjA0KzcwQzQwSDAmMD4+QzwrOTA0PjBDPj4mQ1IwNzkrNCs+MDk+MENNQzRSMDI0OSswND4+Jjk+KzA0MCsmMD4mQSs5MDArPCY5PjArQTwwK0M0K1ImNDk0ND4wNCY+NDk5KzArK0MwMDkrNDk+NDk+ND4wPjAwMjQ+Pj45MD4+PjQ0QyYwPjA8Pj40MCY0MDQ+JjkmOSY+Pj4wMD4mMDQ0PjQmJjkmKys8Pj4rOTA5Kzk+KzQ5JjlINCswKyY0PjkrJjA+Pjw5OT45MCsmJiY+Jj40OTAmOT4+KzA5UlIrNDBDSDc0PiswSEg+QzwwOTQwOTQ0KyYmNCY+OSs+MCsrPiYwKzkwMDk0MDAwOTk+Uj4mPj5IJisrJiYwOUE0NCYwJjA0KyY0JjQ0QzlBMCY+NDkrJjAwMDk5QyswNDQrQz40JkgwUismMCYmMDQrPjA0KzQrPkM+MDAmPiZSMD43MCY0KzArPjQwOT40JjQ+NCsrNCswMDkmPjQ+Pj4+MD4rKzA+JiswNzwwOTAmMDArKz4+MEgwPiswPis+Pjk+JjBDKyY0JjAwMCswOT4wMCs5NCsmJis0SDArPjk+MCZIOTAyMDQ0MDk+PiY0KyYrNzQ+QzQ3PjBDJiY+NDAmK0MwPjBDJjwrPiY5K0M5MDdDPj5SQ0M5PDQ0SD45Jj4+NCs5Ukg3Jj4wMD45OT4+PjAwMDQ8Pj4mJjBSPDA5OSY5PiYwMDAyOSswPj4mOSs5Q0M0PDkrMCYwKz4mPjk0KzA5MDkmJjQwNCYrPjw8ND4+JkgwKzkrPkMwPis+PCsmMCs5PjA5MjA3OTA+UjA5JkM5OSYwPlI+MDA+MCYrJis0NEMmPkM0PkMwNCsrOTA5NEM5QzQwKyYwJjkmUjkrKyswPjk+NEg+MCY0MDQrPiY+Jj5DPjAwQzI5MDArJj5DPjA5Pj4yNz4rMjAwOT45JjcwQyZBNDQrMDA+ND4wJjA5MCs0MEM0NCZDOTAmMiY+ND40UiY5Jj4+JjwwMDAwJjk0Pj4+MDk0Jj5DPismMD45JiZDNDk0KyYrSCYrMENSOTArKzAmOSYmPlI+NzQ3Pis0JiswPiYwKzQwJitIPj40Jjk+Qys0KzAwNDQwOSY0NCs+NyYrSEg5OTAyJjQ+OTA5UjArOTA+MD45OUMmMCtIOSs5PitDQzA5MDA+OTk+MDkwMCsmJjAwJlI8OTAwOT5IMCYwKzk3QzwwOTAwOTA5PjkwPiY+PjQwMD4mPis5MD4rPCY5JjA+MDlSMEMwPjk5KzAmKytDPlIwOT43NCs+MDQwKzAwMDQ0OSY+Qzw5PjA5PjQrQzkwMjQ5ND4+OTA0OTQ5MDBDOSs5MDAwQzA+MCs5Pjk0MCY3JjA+MCY0JjQ+Jjc5PjA0SDA5OSY0KzArMDA+MDA+SCsmSDQ+MDQ+MD5BOSY+QyswPCY+MCYwMEMmUj4wKz4rQ1IwND4+KzwwOUgmKzA5JjAwPj4mJjQrNDA8SCs5QzwyOT48Qzk+OSYrPjk+Nzk5KzArKzkmNDA0QyY+Jjk5KyswNCs0JjQmNDA5JkMrKzRSPj4mOTAwSDk+JkMmPiY+Pj4+MDk+PjQ8KzArPjA+Jjk0MDArOUM0Jj45MDRDPiZIJjAwKzBSJjA0PjA+NDAwMD4rNCY3JkM5MEM8PjwwMiY0PjAmPkMwMDQ5Nz5IOSY0PCY0Pkg3PkMwOTAwJis+KyYrK0M0JkM0JiYrMDcmMDQmJjQ0Pj4wTTcwOTA0PiswMCYwUiYwMCs5Kzk+OTA0Kzk5ND40NDkwPDRDK0grPjA+NDkmNDA0Pj4rKz4rMis0MDAmPjA5MCswNDk0UjArKzkwOTAwUiZIMEg5SD40MDk0JjArOUM+K0NDPkhIJjkwJiY0NzAmNDQ5OUMrOTkmNCY+JkM+JjAmJkg5JjQ+QzwwMDAwOT4wKzArOTQwJiYmMD4wPkg+Jjk0PjQ5UiswMD4mND4wPjcmNDk5Pis5OTQ+OTkwPkEmKzkwPkNSQTAwKyswMDlDOTAmPjlSK0M+PiY5Mjc0Mis5SDkwQz4+PjkrNDBIJjArMDAwOTAmMCs0Pjw5PjQ5Pj40OTAmJjAmPjBDMD4+JjI0Pj4mJjQ5OTA+MDA+Kz48OSY0PiY+JiswNDwwMDAmQyY0OSswOUg0Jis5MDQwK1IrMDk0MD4+Jj4mOSYwKys0KzkwKzRDKzQ+Pj4mMCYrPjArPiY+PiYwPCsmPjQrKzAwPkg+PiYwJjA5OTI0PjkwPiY+Qzk+OUMmPis+Pj4wMEMmPEMmND5NOT4mJj4+PiZBPjkwMDRDND4wPjBSPjwmOSs0KysmUiYmPismMD45MDQyMEg+OSY5Pis+MDQ3JismOTAwOTk+OTArJjQ0Jis+Uis+SD4+PjBDOTBDMEMwMCZDNDAwJkg+Mjk5MDBDMCZDNzkmOTQwNCY0NEMwOTQ+OTAwMDwrPjQwOSswMEM5OT45OTQrOSsmJiswPjI5QzkwPjRBJjw5MD4wMDQyJjAyNCswPiYrUkNNMCtIND4mMDk5MDA0MFIrKzAmMD4wND4wOTQrKzA5PjQwKzAwNzA+OSsrPjQ+K0gmMCs+Pj4mMDA0Q0grKzA+KzBSNCs5NEMwNDA+MCY0Jis5OTQwK0M+OTA0OT4rQzQ0Pjk+KzkrMEFISD45NDAwNCY+PjkwPis5MCY5QzBDKzkmPjRDJlImKyZDMDBBMD4rQzAmOTQ+NDQrPjAyPjlDUjArKzlSPj45OTArMD5DKyYwPjQ0PjQ5PjA8MDQwOSswK0M5PjAwKz4+NCY5MDQ5NDkwUjA5MD4wNCYrQzk+OSY5MEgwKz4mJjAwOTA0Pj4+KyYmJkg+MFI0JjI3PjA5MCs+MD4wPEE+NDk+Pjk+PisrQzkwPCswJiswOVIrOSs+NDRDPjkwKzA+NDQwKzQ+Jj4+PjIrMCswJjkwOTQrMDQrJlIrMD5DOTAwSDAwMCY+MiYwMDQ+JjQrMDArOSs0PjlDMDk+PjA0PjkwKysmKys5NDQ+NDQ8NEMmMD4wKzkwNDA+OTAmQT4wPiYmKzAwPjA0NDk5MDwwMCswOTA5OTQwJiY5MD4rPj45JjwmOSs+JjkrJj4wOTc3Jjk8Pjk+MjQwPiY5OTRDMDRIMD4rKzBSSD4wOTQwOTArSDQ3Qzk+K0MmMD4mKz4wNDQ3Uj4wOUMrNDAwMDcwNCs+JisrJjAwKz4rMCYmMD45Pj4mOSY+NEM5NCYwJjAmJjk5MCswND4wMCYwPiY5KzBSPjk8SDBDOTAwPkMrPis5Pkg5Kzk0SCswNDArPjBIPj5DSDk0PDAmJkMmOSYmMCs0Kz4mSDA+Uj4+PCsmPDRNNDA+MDArOTk+QzA0MD40MDkrPDA5OSswMCswNzAwQzQ0MCYwPiY+JjQrSDkwMDkwMCYwMis5OTAwK0g+K0M0MDQ5Jjk0KysrOTkwND4wJitBPjA+PDkmK0gwOSY+QzQ0UiYmMjAwPDQwKzAwQz5IPkMwMCYrJj4rNCswNz4rMDk0OTkrKzA5MDkrKzQ5Pjk+KzBIMEg3TSY+Pis5QzQwJjwrUjkmKzQ5NCs0OTk5Kz45JjkrJjIwOSs+MD40Kzc5MDk0OSs+UjA0PiYrPis+KyY+NDkwPj4+OTlDMDlIPjRIJjAwNCs+NDk5OTArOTArMD4+MDQyPiYrJis5MD4+MCswKzQ8MCY+KzcrNCs5OT4wJitDJj4wOT4mNCZDJkMrJjQrMCs5Pj4+OTAwMDA3KzAwJjkmPj45PiYrNCY5OTkwND5DQzlIOUMrMD4rJiY5ND45NEg5NDAwMDAwPj4wOTAmOTRIMCYmPjArMjk5MCsrMD5DNDkmNCswMDk+QyZIOTkwOTkmJjAwK0E+PkM+KzAwJjIrOSYmPjQ0NCY5QzQwOSsmNzArKys5MDk+JiYrJj45SD45JiY5OSsrPj48PjRSKzk+OT5DMDI8PkM+KzAmMD45PjQrMDkrOT45Jj4+KzAmPlI0MDI+NFIrJj4mOT4wKyYwMDQ0MD4+OTArJj45OTkrPjc+JiYmMDQwMj4wOSY5TTQ5ND4mKyYwUjBIPjk+PiswJjArOSsyPjQ5PjQ+Kz4rKzQmPjAmPis+K0M5ND4+NCs+NDk0OSs5PkM0PjArJj40KyYmK1ImMDQ5JiswMCswNzBSPDBIJismJiYwMEM5Uj4+K1I8UjkwJjk5UjArKyY0OSsrNDA3PkgmOTRIPj40Kzc+KyY5Pj4+Kz5SPDlSMDk+MD5SPj48NCYwOSYwKzI0NEM5OUM0QzQ+OTA+NDcwKzk+Pis3UismNDA+Jj40NDwmPjRIKz4wMD4wJkM5JjkmKzQ3OTA3JjA+K0g0MDQrOTQmQz5DPj45PjBDMDQ5OTA0PjkmPjA0JiY0Jjk5MDQ8Jjk5KysrJjA5MDQ5KzkmSDQwNEEwPjA0JjAmOTAmPCs+KzkwNFI0OSY8PjA5PjQ0PiY0JjA+PlImOTA5OT4+MD4mOT45SCYwQz45OSYwOUgwMD4mMD40NDArMEMwJj5DQzQ5NCs0NCsmPDAmJj4mMD4+MCsrOSs0Pis+K0g8KyYmQzkwQzkwPj40Jis5Pis+OTAwPjQrQzQwPjArJjQrJjk0OSs+PjwrPiY5UjBDSDkyOUgmSCsmOSsmNCY+Kz40KzAmPjQ0Pjk+NEMwJjkwJj4+MDQ8PjQ0MD5DJkE5Pis8MDArJis0Mis5Jjk+PD4mJjwrNENSND45PjAwNCs0OUgmPisrUjk+PjArMDA0MDQ5MCswKysmMDkmNDk8OTwwPitDJj4+PlI0NDkmNDBBPjcyOTA5MDQ0QzRDK1JIUjAmPkNIMDQ5Pis8KzArMDA0JjImPjA5MD5DKys5NDcwKzQ+PjRDOSs0PiswNzkwNDA0JjRDMCs5UjA5PjkrMEgwMDQrMD45QyYmMDkwKzIwPj4wMCYrPiY5NDA5JjBIMFJSJisrPjA5MDA5OTIwKyswPjQrKyswPjQ+OSYmKzQ+PCY+QzA3OTA5KzRIPjA+K0MwQyswKzk+NzkwPkM5QzkrOSs5Qz5SPiYrPjRSPkM0KzlNPjA8KzkrOSYrPjQwKyZIOT5DOT5SPDQwMDc8KzBDUis5QzRSJjAwQyYmPjAwOSswOTAmQzAwMCswJj45MEgmPjArPiY8Kys+MCYwPjlDMjk+N0MwOTc5OSY0OTw8KzA0JjA+NCY5KzA0KyY0PjkwPjA+Pj4rMDA0Pj4+NDQ+KyY8Jj4rMDQwPlI0QzAmKzk+PDk+KzA5KzAwPCs+JiYrUkM+PitDUj4wSD5SPiYrMDAmPismMCsrPj4yKyY+NDQ5MDQwKyswOTkmJitIK0M+PjA5Kzk5MDRIKyY5OVI0OSY5Kz40OT4wK0EmOTA+NEM0Kzk5OSsmPjA+OTQ0JismMCY5Pjk5OTIwPDA+QyYrMD5IKzk+OTRDKysmJlIwKzArMDQmNDkwMDQmMDQmPiYrPjk5QzQ0KzAwJjAwOTkrKz4mPjQmMDQ5OSsrQzA5QzBDJjk5PlIrMD4wKzQ0OTA8Pjk+OTBDPiY+OStIQzcmJjAwNEMwMDQ5Pj4+OSs+OTA+NCswPjk0Q0g5NCs8OT4wKz4wKzQwOTQ+Pj4wOSs+PjQrOUM+KzBDND40MEM5PjAwOTkwNDk5MDkwOTQwMEM5Kys+OTA+NDAwMD4wKyYwJjA+PDBBOSY0PiYwPjlSOTBDK1IwJjQmND4+MCYwPj4rK0M3UismNzA5JjQ0QzA+JisrOVImMDArPj40KzQwKzA5Jis5Pj48OSYwND45Pjc5OSYwKyY+PitSMDkyNDA+PCYwMiY+KysrSEg5OTk+Kzk0Pj4mJjAmMD4wKzA+NDQ0MCZINDdDKz4rOT4wMj4+MCs5Pj4wKzA+NyswKzkwPis0OUM5PiZSKz4mQzQmKysmQz45Qzk5MEg+JjQmJiYrMjlDOSsrMDkwPjQwPkMrOSsrND45MDkwOUMmMD5DMCYyMCtDPjk5MD48UjQ+Pj4rQz5IOSs5PiswPjRDPjk5PDAwOT4+PjArMDQ+Kz4+Pis+OSYmNCswSCYwKzBIMCsrOTQrOSY+JjkyPjBDPDAwSDA5MCswPjQrOT4mKzQ3OStSMjAmKzk5MCY0OTAwMCs+MCYwOTArMDAwOTQmOTQrMDQmNEMwKzBBNCs+OSs5Jj48PjQ5OTAwPjlIOUgmOT4wJjkrPkMmJjk+MDA5PiY3PkMrPjkmMDAmOSs0OUM+Pj4mPiY+PjA+JlIrPj45MDQ+Ukg+MD4+MDA5QzA+Q0MwOUg5MFI+MD4+SCY8JjQmMj5DPiY3JiZDPis+MkM8PjQwNCs0OTAmMDk+Kz4rQSY+OT40JiYrJj4mMDQ5MCYwK0gwMCYwMjArKzA0MCY5PjQmKzQmOT4rPj4+MDAmNDQ8JkMrSDw5MD4yJkgwSD4wPjQrMCZSPjk5OTkrPDA3MD45PkMwJis0MCY0PDBDJj4wJj4rNDBDPlIwPjAwNDkmPjk+KzQmOSYrJjk+JjAmJj40NysrK0MrKzcwPD4rKysmJjQ+MDQ+Q0gwPjk3JjkrQyswMCsrPiYmKzAwQz5SJjArMCs0KzAwNCs0NCsmOSYwMDA+KyswKzA+PjA0Uj4+KzI+OTQwPiY8JjRIK1ImUjAwMD4+QzAmKzA0Pj4rOUgrPjBSJj4rPjQmJiZDJjAwPj4+OTk+PiY+JjQ0JjArMD45PjQwNCYwOTkrNDk5Q1I5MlI5PjA5OUM0OTA+MiswNCYmPjQ5MEM5OTA+MD40PjA5Pj4rMCYmMDQ+MCs0OSYwPis5Pjk8MDA0MD45KyYmOTkwMDQmMD4wPjQ5PiYwJj4+OT48Qz5SPDQwNCswKyYwJjQrMCYrNDw0OSsmOSYrNDBDMDkmPkEmMDA5OUNDOSYrMD4rMiZDMCYmMCY+MD4rJis5OSY0SCswPj4mJjAmN0NIKzdDPkE3PD45QT40ND4wNCZDMCtDMDk+JjkmPjAmPjk+PjQ+PiYmKzk8PlIwJj4+UkM+MDA5MDBDJlJDMDBDMDkmKzAmMDI8Pis5PiYrOT4+NFI3MDk5OTkmPDA0PjQ+OSY+ND4mND4rOSYmPjQ0NCYrPismNDk+MDQwJkMwKzA0MDlDJis+K0g+MDAwPis0ND4+PDArOSswOTArUjkmKzQmJis0Kz4mNzQ0QzAmUis8NDkmKzRIK1I+Pkg5KzwmMDA+UiYwJjcwUjwrOTA+PiYwPj45QTA5MCYwMCs+NDQ5QzQ0PjArPD4+PjcwKzArNDA0NCs0Jis+QUM+NzA3PEg5OTkrPjk5MCs5NCYwPjw+OTk+Kys5JjRDND48QzQ3Kzk0NCswQyYrKzBDJjkwPismKzA+UjA+OT4rKzk+KyZDMj40OVIrMDA5JiYmNDA+Kz45KzAmPjArPj4wK0MwJj45NDQrOTQ+NEM+MD5DMEM+MDwmMCYwND4+NDQmMDlINDAmSDcmND4wQz4rPjQmJj4rND5SOSZIKyY5PjkmPiY5OT40PjQ0MCYrMD43Kz4wMCYrMCswPjBDPjk5MDAwPlIwKzk5OT4wMEM5MCs5MEg5OSYrMDkmKz40MDQwPEMmPjQ+PjAwPjRDPjk5Jis5MCswPjcrMDArKz4wK0M+MDQ+SDAmJiZDJjI0Pj4+PjRDOSsmPj4rQzQwNDlSMFI0OTImQz4wOT48Pjk0PjQ5OT4mOSswPjkwPDA+KzQ+Uj4wKzA8NDAwPj45OTQ5MEMrOTk0Pjk5PkM5MDQwNCswKzQ8PjAwMDQwPjQrMDA8JisrKys+JjQ5PjA5PiswMDk5Kz4rQzA+Kzk5ND4rMD4wUiYwMDA5ND4+PDI5QzAwKyYwPjQ+JjQwOTkmK0MmMD4wNz5SMENDOSY0OTkwJjk5JjBBJjk3OTArPjQ+OSYmMDlNOSY0NEMwKzQ+ND5IOSsmOUhDPjAmPitSOTA0Kz4wPkgmMDAwMCsmOSY5OTkyMDAmPDQ+NCs+OT4+Nys0NDAwOUM0UiYwMDkrKzQwPjQrSDQ+NDAwSCZDMDBIOT4mOSY+PiY+Jis5KyYmMCY+QzQmNDkwJjlISCYrMDkwOSY5MCYmKzArPD4rNEMrJis0OTAySD4mOSsmPjkwMDQ5OTkmQSY5JjwrPjcrJjAwOTAmJj4+Pjk0Q0M5MDQwKzQwND4rKzAwMD4rND4mNCs8NysmPj4wJjRIMD40JjwrMD4+PlI+SDQ+NDAwUj5SKysrPjQwOSsmJjkwMDQwPiZDOT40NDA0NCYrPjA5NDk+Qzk+OTw5MCZDJlI0Kz4rMDAwMDwwQzk0Pis5MDAmKz5DJj4+MDAmOTA+PiZSOT4+PiswQyY+Kys+MDQ+OTA5QzImPlJIJjlDMD5IOT4wKyY0MCY5QyZBOT4+SD4wK1I+PjAwKyY5MDA+UjAwKzA+PjAwOSYwQzk5KzlIMCYwMFIrMDQmMCs0MD5IMD43Pj4rJjkmK0M5JisrMDcrNCYmPjQwNDAwOTkmPjw0NDlSQzQwOT5IMDAwMDA0KyY0OTQ+OTA5MD4mKzk5SCs5ND4mMD4rNDArUj4+MFI+JjkrQSsrMDA+PjAwKyYmOSZDKzQwPiYmNzI0K0hDOVI0K0M+NCY5OStDJjQrKz45MDAmPjkmOT4rJismQys8JiZIKyYwMDBIJkg5NCs0Qz45NDAwNDQ0MEMwMDQ5Qys5KzA0KytINDQ0MD40KzBDKys8MEg5PjA8OTwrMDQ5MD43QzBDJjAwOUE5MCY+PismSDA5NDAwNFIrPiYrOSswKyY+Uj4+OTBDNDk5QzQ+JjRDPlImJjA5OTA+MDQwQyYwQzk+MD40KzAmOSY5OTA0Kys5PiswKyY+JjA+Pj45OTk5MCY0NDA0MDAwMDAwMDk0PjA0MDA0Pjk+Mjk3NCYwKysmQyY+NEgrPjkwPiYwPlI5TSY0Qz45KzkwMDA0SDAwOT5DMD4rJjQwNCs+MDA5MDQmPj4+TSs5OTk+NDA5JiYwJj45Q0MrKzAwMDkrJis+SD40MEM5KysmNEg8OVJDJjAmMDAmSDQ0OTk0QyY5Jj45MD45Pj4mKzk5PCYwNDcwMDAwOUg+KzQmKz5DPjQmOTA5PjArMD4rNDkrOSs0MEgrPj4yND4rMCYwJjk+Kz43OSs0OT45KzAwSDA5Pjk3MDArMD4wPjAwKyY0Ujk+QyY5NDAwPjAmPiswNzkrMDArMCswKzk+OTAwPis0MEM5OSY+KytDPjBSOSsmJjk5JkM0Pj45OSs+JjBDPD5DKzkmNDk+NDwrPlIwPis+QzA+SCYrNzA+OT4wMDk+Mjk+MjQwMD4+NzArPj4rMD4+Pj4mPjQrKzQ5MDk+MCYwMFI0PjArPj4+Pjk+Kz5IMDk5KyswQzQwJjQmOSswOSsrQzAwMEFIPjQ+NDk0Jkg8Qys0PiYwKzcwMEM5MCs+NEgwOUgrMEgmPiYrNDw5MDQmMDk5MDlSPjk+MDk5ND5SQ0MwOTw+JjIrJjQ0PjQwPjA0PjAwMDQ0NDwrKyYwUiYwK0M+Uj4+Qz4+Qzk0JlIwMDI+QzA+Kz4rMD4+PjAwPis+Kys0Pj45UkEmKys0MCYwUjQrMD4+PjA0MDAmMDA0PjA0MDA0JjA5NDBDOVI0OSZDPj4wMEE+MEEwJjRDUjlDMD5DJlI0PitSKz4rMD4+MEMwMDA+OT4mQys3Qz4wMDQ+MDBDUjA+MDk0MD4mJjc5Pjc+OUhDOTArK0M+Mis+NENSOTQrNEg5MDkmUjQwNDw5JkM+Pis5Kz4mMCs5NDkrQzQwKzA0Pis+PjQ0ND4rPkg5Kz4mPjAmJiY5Jj4wKz4+MCs0OTkmUjA+K0EwPjlDOTk5ND5SQzk5MD45KysrJj4+JjA+Jj4rUjA5MDwwKyYwJjBIMCY5MEMwKz4rPis5PjRSSD4+MD4wPlI5Kz40PjAmKzArPjkwOTkwNDkmKyY0Jis+PkMwNDQwPiYwMDc+Kz40JjkwMCs5PiYmKzQ+OT4wND40PkgwMDk+K0gmMCYrQyYrQyY0JjQwNEgrJkMwJj4wPjk0MDwwJjAwKyZIJjQ+Jj4wUj4yKzQwMDkrKzk0K0NDMCYrPj4+OTAwPjA5Kzk+Uj43MDkmJjk+ND45OStIOUgwOSs+OTQwOTQ0JjkmMDA5Pjk+NCs+Qzk+KzQwQzA5MD40MCsmPjk5PiY0PiswQyYmNDBSPismMDQmND45JiY5NDQ+NCYrOT4rOTA5PjkmMDw5MDw+MDAwMiswMD4rMCsrPjArNDQ5SD4rMDBINDk5QzIrKzk5KzA0PiswPj43PjkrPjRDKzRSJj4mMDk0NCswNDk+KzdDNDRINDA+PjcrPjBSKzQ+PD5DMD4mMDAwMD45MCs0Pjc5Pj40PiY5Jj4+OT4rMCYmOT4rPismMDwwMEM5OTk0PiY5OTA5Pjw5OTQ8JiswNDQrOUg5KzkmPj40JiYwOTA0Jis5JiY0OT4wPjBITTk+NDAmNDxDPj4yOTQ5Kz4rNDAwOTA+Mjk+Jj4+NDA0NCZSK1IwMD4mKzQ0Pis0NDQ0Kz4wOTAmJjc5MDQ3PjwmKzwrOSs0NDQmMDArPCtDKzk0Kzk5JjA0MD45MCs+NDAmPjAmQzk5PitDMD4+OTAwJjkwMEgwMDI5NDkwTUNINDwwOSs+NDw5QTA+Kzk+Kys+KzQmJjAwND40QzAwJiswMDQ0OTA+PjAmPD4rMD45Qz48OSs+OTA0UjQrNDlSPjAmN00rNDk0OT4rMCsrNCs+Jjc+Kz4+MDQwOTxDMD4+OTAwMCsrJisrMDc5KzlNKzQmMD4mPD4mMFIwJjA0PjBDNCs5Kzk+UjJBOTkmPD40MDQwPjA+PjQ+MD45KzkmMCYmOTk+MD4wOTA5PiY+MDA5MD4+PDk0JjQwOUMmMEMmMD48OT40NCYmMDkrSD43OTQmJjQrMDkwJjAmPjArMCYmMCY5ND4+KzA0PjQ0KyYwSD5DNEg0NCsmKzw+NDxIKzkrKzAmK1JBPDw+MCs8MDAmMD40MDA+MDQ+Qzk+SCYwPjA0UjA5KzA8OTA5OSs0MEgwKyY5KzkrKz4+KzBSND4rOTA+MDQmPjQ+Jj4wMDk3PjQwNDw5JjQ5Uis+NDA5OT5IMCYwNCYwOT40KzwmJj45PCsmNDcwMCswPjk+Pj45NDk0MCtINyZIMDQ+Pis+KzRDMCs+OTk0PjkwPjQ0MDAwMD4rUiZIKysmPjQwNCsrUjQrTT45MDkwMDA+JjA5PjQ+MEg+NDkrQzArMDk+KysmJis+OTAmJjQwOTk+K0M5MD4+OT4mKyY0OTkrPjQ+NCsmKzQ5Jj4+MDA5MCs5ND4wQz4wJj4rPDk0Kzk0MEM+MDA3TSYwPis5Kzk+KzA0PjA+Kz4+KzQyMDkwQyYwJj45OTArOTAwPj4yPjkmKyYwOTArMDw5MDk0MCY+MDRSPjk5PiswJjAwMDk0JjQ+Q1I8PiZNPis+K1I5KzA+SCswPis5Pj4+NDA5MDk5SDBDOTcrMDQwSEgmPjA0ND4wPjkwPkhIJj4wMCYrJjAwPjRDUkhBOTA5OTA+Kz40Uj4+UjQwQzAwUlI5SEgmKzk+OUg5OTkwMDAwJj5SPj4wMCs3NEE+PiYwMD4mMDArNDA5ND43JjkwKzRSPjAmJitSPjA+OSZDNDQwJjA5JjA+KzAwPjk0OTk+MCsmKz4rMDA5Pjk5PD4rMD4wMCYwKzQrOVImPDRSPis8PjA+UkM+QyY5JlIwMCsrPj4wOTkmOSY+PjAwKys+TTAmOT45OUMmMDQwMCYyNEMmNDAwJiswNyZSJjAmMj4rPkEwJjk5NDk5PjQ+PD5DKyYrKys5MiYwNCYmMDAwND5SKz40PisrKyYmNDRDNDAwOTArOTk0MDk5NCs+NEhIMCZDK0g+MCYwKzlSJjA3MDk5JiY5MDAwJjkrNDQrNDAwOTA+MDQ0MD45MjImPiYmJjlSMDAwOTAmQyY+OSYwMCtNPjQ0OTQ8UjlDOStSNCsrJjI5KzA5OTAwMDAwKzAmPis0Jj4+SCsrPismKzk3MCs0PjArJj4mKzArNENSNzk+Jjk0PjAwKyYwJj4rSCsrJiYwNDQ0SDA5Pj45PjQ+QzkmPj40MD45MCswOTAwMEM0KysmMDArKzk0QyYwPiY+MCYrMDw+NDA+OSYwMDArOTkwMEMwMD4+OTkwJj5DNCZSQysyUkM0OTQmMFI+MCsmKyswSCs3UkM+OTA3MCs5OTAwPj40Jj4+MD4wNCsrPjwwMDQ0PiYmKzAmMDkwUjQ0PiY0Jis0KyY5JjAmKzI+UiYwJjIyPjA0SDAmQzQwNDArKz4wUjk0PjQmPCs5KzA+KzA+OTk0NCs+JjA5MDA0OSY0JjA5MEMmJjBSK0M0PiYwJis0MDQrKys0JkMwUismJjkwPiY+KyYrKz4mPjk0MCsrJjRSNDQwKytDKzk+OSs+PDA5NDAmJjA+MD4wND5IMDkmMDA0JiYwQzk0QytSOT40JkM+MEgwOSswSENDMD4+MDw5OSswMDQ+OTQwJj4mMDQ+QzAwPjA5Pjk+JjQmNDQ+KzA0JjwwNCs+PiY+OSY0JjArNCswSDc+K0E+Qz5DJjQwNDk0MD4wQzAmNz4mJj4wMCswNCsmNCsmUiY5OTA+PiY0JkM0Pis5Kz5DKysrJkMmMDBDJiswKzk+NCswKzQ+MjQ+KyY+PiZDOTQ8JjQwPjA0PjA+MCZDMDA+JjQ+NDk+KzQwOSs+KzkmMCs0KzkrNDQyOTA8PD4rQzlNMDkrMD4wOUgwOTA5Qz45SDc5Jjk+SEM+MDA3JjAmKzA0OTk5PiY0PiswMDImPj5IPCtBPjkwMENBOTk+Jj4rJjImPkMmKzk+Jjc5OT4mMjkrOTA5PjQwMDQ0MDQ+Pjk0MDlSNyY+PjAmQz4rOSs0PjA+OTRSPjQ5MDQrPjA+JjcwJjkmPjk5NCtSOTRDSCY8NDAmMDk5PjkrKz4wJis3OSZDKzQ+MD4wOTk+SDAwKzArKys+SDA+MEgwSDk0Jj40Q1I+MFI0OUM0Jj4+JjQwMCYwNDAmKz45KzQmPj4rKyYwJjAmKzA0SEM+JjAyMCY5Kzk+Kz45SCYmKzQ5MD4mJjAwMDArNCs+PjA0Jis0MCtDQ0gwPjA+Kzk0Kys5JjQwPjA+QzQ3Qz5DNDAmOT4wNDBDMDkrJiY5MitIKzk5NDkwQzI5ND4wPjk0OTkwMCYwPjQ5MDlBMDA+UjAwK0g+MDA5PjQrSDQ+KyswKz4+Jj4+KzlIPjArMDBSJjAyKzk5MDk+MDkmND4wPjA+MD4mOT48JiYwK0MmPjIwMEM5KyYwPjk+MCs5NzkwK0MrPiY5OSsmMDA0MD4rPiY+Kz4wOTAmPjkrOTwmMD45OTkrKzQwMCswND45NCYrPjkmUjA+OSs3MEMwPiswMDA0MDArK0MmPiY0Pj4wQyYwQzk+OSYmMDAwNDBBOTAwMDI5Pj4wKzk5Pjk+PD45MCtDSDk+MDk0MDlDPD5BKzQwPlI+MD4wPk05PjQwKzA0MDk0OSs5QzkrOTA5PitSPjk8MDQrKyYwMCswJjA8NDAwMDk5PD5SPjArKzQwQ0NDPjBSJis0KzQmOUMrNFI5NDIwUjA5Jj45JisrMDk+OT4+MDAmPjRDUj4+NCs8SD4wPjA5NDA+OTAwOStIJiswMDkwPjw5MD40PjBSKz5DMD4+Jjk5MDkrPj4+Qz4rOT40MDArPjk5PkM5JjkrSEgmKysrPj4rMCs+MDAmK0MmQz4rNDQ+PkgwPjkwQzA+Kz5DNDQ5MCZDK0MrOT40JkMwOTImNDk5QzA+PkM5Jj5DJjkwKyY8UkMmMD4rJitDKytSPjk0NCs+OSswMEMrNEMrK1I0PjlIPD4mKz45MDQwND5IKytDPDc+JjQ5KzA5MDQmNDA+OTArKzk0PismOUMrMDlIPiYwMDBDJj45OTk0PDk+NDA5KzQwPjkmMDk+PCYrK1IwMDA+Kzk5OTArQzk0QzA8NDc0OT45MDArNEg5NDQmKyY5Pj40NCs0Kzk3Qys+KzAwMDA0NzArUis+MDkwOUM5NCs+MD45Pis5KzA8JjArOSY5MDk+MCYwQzQ+OT40Jis0Pj48JiY3Kz4wPismPiYwMD4yMCY5SDAwPiYmMD45Jis5MDwrKzQ+JjkmQSY+OTkwMCswNDQwQz4wNEMwPjk0SDkrMDArMDk+OTA+PjA+NEM+KyY+PjArMDBIND40KzA+Kz4+OTw+PiY0NDkmJjkwPjQwOTA0OSZDOT40PjQ+MDIrOSswJjA0JjBIPlIwOTQwPj40Q0M0NDAwJj4+MDQ5KzkmPj45MEMwMDkmOTArPjk0SDkwSCY0PjQwOTc+NEgrQzQ+KyswMD5IND4mQzkwMCY5MDkrMDQ0Kz40OSs3PDkmKytIKzk5MDAwJjAwOTArTTkwQzQ+PiYwKyYrOTkwMDk3Pj40PiYwNDArOTQ+Uj4wMD40MEgwNCsmK0ErPj5DOT40UiYmPiZBJiZBPCtSPCY0ME05OT4+KyYrND45NCY0OSsrNDQwUjRSMDlDSDkmMCsmMD4mTU00UiY+PjA+OTk+OSs5Kz48PjA0MCYrPiY0NDcwPj4rPkNNMCs5SDcrNz4+NCsrPis0MD4rMDQyOTQmPjQ+MCYwKyY5MDxINDkrOTQwKzk+JlIwPjkrPDkrPiswKzA0JjQ+MDk0JjQwKzAwPkgmPisrQz4wQz40KzA0UjQrOTkwSCswQzRDMCtDKys+Pj45Jjk0NDk+NzAwKzw0OVI5MDk+Qz40PjkwMFJDOSYrJjAwMDk5OSZDMCswPiswJjAwJis0JjAwQz4wK1IwOTA0KyY3NDAwPj43MDw0SDQ5MCs5PkM+QzQ+NzA+JjA+QzAwMjAwKys8MCs0JjRSNDkwOTQ0Jis0OTk5SCY+Pj4+K0EwND45JjI+MCs+Pj4mNDBSQzk5OSsmNDQrOTA+KzAwOT4wUjwmJj45OTQwKyZIUj5IKyYwPj48PiswJjk+PjkwPjA3MDA0NCZSPkNDK1ImQzQ5JjkwNDlDNCs0OTkwJiswK0NIK0gwPjA+OTQ0PiYwOSsmNzkmMEgmJkE+PjAwKytDPjkwKytDMDA+Jj4rMDBDKyZDJj4wJjA5JjA+OTk+QzA+KyYwNDA+PjRDPkM5MD5DQys+PDQ5NCswNDQwSDA+Pj48NDA5OTQ+QzAmJjArSDA0PiY5SDJIMDArOTk0KzAwPj40NEM5JjkwNDQ+PiswJjA+MDArMCZDUj4+NEg+MDlDND4rMCs0MDAwPiZSMDAwPj5IPjA0PiYwNz4rOT5DMD4wMD48MD5DMD4+OTArPD4wOTQmNDArPCY+MD48JjA5MDA+Qzk+PCs+OSY+ME0wPjAwND4mJjQ+OTA5OSs+JjA5Pjc+OT4+Pj48PiY+SCsrMD4mPD4mPkMrOTk5MDk+PkMrMCswJjA+NFI5SCsrKyY+OVI5NzkmOSsrJiswNDkwPj4wOUg+Kz4wMCYwQ0gmKzwwPjwmTSY3NEMmKzA5OT45KzA5OUgmMDQ0SCs5PjlSKzkrMD48MCs+KzA+QTA5PiYwKyY5PDxSQSsrJjA5Pj4+PiYmQzw0PjkwJisrND40MCY5PiY5Pjk0QzkwPiZSOUM5QzQyPj4+MDk+Kz4wJjAwPiY0PkM0JiswMD40OTA+PiswJj45PiZNKzQ+NCZSMDk+Qzk8JjAmOTA+OSY0OTA0ND40Kz4rOTQwQzA5PjQ5Pjk0MCYwOSYwOVIwPj40MD40OT40MDQ+QyZDNCs5MCs0Kys3MDc+NDA5OTAwNDkmNCY+KzQ+Kzw5MDlIMD4rKzk5Jjw+JkNSMCs5PjAmJj40PjkrNDkmOSs+OSswPkM+PjAmOSs+Pj45Jj4wNDA5PCYwNCs0SDQmMDAmSCs5ND4rNDkrJj4wKzA5Pjk8MDQ0MDAwUjk+KzkwKz4+NEMmOTkwOSYmNzkwOTAmOUg+Jjk+Kz40OSY5MDkmNDA0PCs+OTBSOTQwOTA+Pj48PjkrND4+Pj45Pis5PiY+JkM5JjwrPjA5MD4wUj5DMj4wNDRDOVI5JjQwPDA+ND4+Pj45Pj4+Pj40NEM5KzQ+Pj4rPjI+K0MrMCtIPjQwQyYwOUM8JitSOTkwOTA+MDQ0NyYwPjkrQzAmOT4wNDQwMCswMCYmKzArQzArPismPkM5MDA+MDA+OT43Pjk8MDQwKzQwKz4wNDQmOT4rPDQ5Jj43MDlIJj5DPj4wJkhDKysmMDArMDQ5JiY5PjkrPjA8OTk+JjQwQysrNDkwMDA3PiswQzlIMEMyMD4rOT4+KyY+OTkwKzA+MDQrUjwmND40JjkwKysrMDkmSCY5OT4wMD4wOSs5QzAwPj4yMENSUisrPj4wPjkrPismNEg5MCZBJis+OTlDPiswOTkwOTA+KyYrMDAwPDkyJjQ+Qzk0Pj4+OTk0MD40MCY8MDA5Mjk+NCYrNCZDMDkrKys+Jjw5QTAmOTAmNDQ+Jis0Kzk+SDQ5JjQ0Jjk0MDk+QT4+MDA+MDkrQTAmKz4wPjBDND4wJjAwPjAyNEM+PkgrMDQrMDAwOTk8MEhIOTwwQzAwJjA0OTQ+PlIwQzArKzQrNDk+QyYrMDk0MEEmKys0JjA0Jis+KzA+Nzw8OTAwKz4yOSY0OTQ5KyYrPiYrMCY5MDBDOTA5NDA0K0grMFIwND4rJjA5JjA5Kz5IMD4wPDAwOTk+Jj4+JjlIOSsyMDQrJjwwJjkmMDBSND4wNEMyJj45JiYwND40MCs+NEM8PjkwSDwwPjwmNDAmMCtDMDcmKyY5NCY5KzRDMCY0Pis5JiYwNCs0KzlDN0grNzkwOSY0Jj4+MDQmPjAwOTI5UiY5JisrMDA0PlImPjA5MD45MD5SJiYwJjk5NCsmKz4wOSs5Pjk3OT45JiY+OSY0KzA+PFI0OTQrMD5DJjQ+OSY+PjRDQzQ+MDQ3MDQmKz4mPkg0MDBDOT4mK1JDMD45Kzk+MDkrPjAmMD43NCs+Kys0MCY+OT4rJj4rPjAwOSs+OTA+OSsyJjlSOSswOTAwJjQyMCs+ND45Kys0PismJis5MDQ+JjRDNDQwPjAwQz40MDA0KzBSPiY5UkMwPjQ3MCswPjAwPisrMj4mQzk5Pj5SJjA+MFIwNDQ+MD4mNENDPiYrNDwrKyY0JjQrPkM+MD5IPj4rKz5DOT40OSYrPisrPismMD45PjQmJjQ5Qz4+MDkmPjkrJjAwQytDMDA+OTk+JiYrMEMrPjk+OSY+MD4+PjkwKzA+SCsrPjQ3Kzk+NyYwNCY+Kz40Jis+PjA5JjAmKyY+MCsmPjA5JjQmOT4+OTk+Jis5OTkmOT45PjQ+NDQ5Mjk5JjlDOTArPjQ5NDkwQ0g+JjkrPjA3Kz4+KzA5KzkwMEMmNDA0PDQmMD4wND4rMCsrOTAwMDArNDkwMCs5MD5DOSZDJjAwPjk+NDk+PiY5Kys0MDkwJjIrKzAmJj40PjAwPjA5OSY+NCtDQytIMDAmPitDPismMDAmKzAwKzA5SDA3Pis5OSYwJjk5PjQrKzlDOTk+NDkmJj4wJkM0MDk5MDAwQzArPj4rPiZSNFI+MDkwMCZDMFI+OTAwPj4wMCswND4mMCsrMD4mNDA5PiYwUjAwPjkwMDAwMD4wNzw+KyYrJismMDA5Uis0QyswNDAyMCs5Jj4wSCY0OVI8Kzw0OTBDJis0Pis5UiswND4wMDAmOTArJiYwMDwwOTkwJjk+PkM5Kzk0K0hSMDQmQzk+MD45OSYwJjBSMD4+MDk+SDA0MDkwNDQ+QzA+Qzc0MCYrSDQ0MDAwPD4mKzAmNDlINCs+PlJDOTQ3NCYwMCtNNCswKz4+NDQmOT4+PiY5MD4wOTkrMDA5PitDKyY+MDA+KyZSNEg3PiYrND4wNDQmQyYwPj4rNDkwJjk5NDQrOSYmOTkrJjAwKzwmOSsmOSYmMDk5JiswKz5DNCYrOSYmNDdIPjQwMFI8NyZDNEg+JismOTkwUjAwNz4+NDAwKyYmMDk0PjA3MDAwMCY5PjArMlIwPCZDPDBSNDAmOTA0OT45KzkrPj40MCs5MEMwJiYrMDw3MDAmMDIwKytSJjAmPjkmOTQ+JjcwNCY0Pjk5MjA0SCs+JjkmQys0QzQwUjA5OSY5NDkwQyYmMDA+OTA5OSY0PiY+KzA5PjwrKzk5MDQwPj4rMCYrSDwwOTBSSCs0OTAwOTBDJjAwKzcwMCY0MDAwK1I+JjQwMD5DOTA+NyYmPjkrOVI+MDA0MDQrPjw+OTAwK0NDUiY+PD40PismJj4+MDRIPjAwQz40OSsmOSs+JjkrMEEwNDA+UitINDArJj40Uj45NDArNz45OSsmMD4rMCYwNDQrJis5NCs+Q1IwMDk0UkgrPjQ5MCs+OTk5MCs5Pj5DMEg5KzA5MD40Qz4+OUM5SDQ+OTAmUjkwKys+JisrOTArNCsmJjkrPjAwMDArMCswPjA5MlJDOStDPj4rPlI5Pjk+JjA8JiY8QyY5MjAwNEMmKzk5MDk0Uj48OTRBPisrOTk5MCswNDA5KzAmPjAwOTA5JismNDk0KyY+MCYwPDArOTQ8Kz45OSY0NCYrJiY5MDwwMDAmJismMDkrKyYrOSYmJiY5MjA0MDA5MD4+OTkmMENSPj4rPjk8PjQ5OT45PiY5MEM5Pj4rNCs+Jjk5MDk+MCsrPkM+PjlDMDdDPjlDNzk5KzAwPjArOSYwPj40MDkwPCswOT45MCYwPjArMD40SDkrPD4rJkM0Kz4+KzkwOTBSOSswPjk+Kz40JiY5OStDOT40OTlDKzAmPjBIOTQ+MCs+PjAyOTBBMDA5Jj4rMD4+KyY+Pis+KyY0UiY+MEMmPiswPiY5ND4mJjxDPjk3PiswMDA5Pis0SCY0Uis8NDAwOUEmMDAyMD4+PjI+OTk+MCYwPjQwSCs0MDw+K0M3MEM5Jjk0Kz4rK1IyOTkmNDQmMCs5MDlIMDlSMDw0OTQmJjQwKz4wKz48MDQ+Jj4wUj40OTk0KysrJj4wSDk0Pj4rPjArUkNBOStDKzAwOTA+OSsmMCY5NCY8Jj4wOTkwMDA5OTQ+Pj45SCZDKzA+NDAwJj45NDk5NCs3PjIwNDIwMDAmPjQwJkg5OUE5NEM+Pkg+MDBDMCtIOTI5Uis+Nz40PiYmJj48MCY8MD4wNCsmOTArOTkwJitIMDA5OTAmNDA0PjlDPkM+MCY+PjImQz4+KzArJjkrPj4wNDk0JjcrKz4+MkgwOUNDPj40Qzk0NDArPjQ+NDk5KzcrPj4rMD45MFI3OUMmOSsmJjA5UitDKzkwKys5Pis0UismNDA+MD4wPjk+MDkmPjk+NEg+PEgmNDQwMD4rUjkwMDkwMDA+NDwwPj4rOTAwMD4rMDAmMD40NCs5PjA0MDAwQzA5OT4wPCsrK1IwPj40MDQmOSZDJjk3Pjk0Pjk+OStDMD45OTkwPisrNEMwPjxIMCY+Jj45Kzk5PjImJkNSSDkmOTkmPjQ5MCYwPjA5ND4rKzAmPjA5MDRDOTA0NzAmMCtBNDk+QzI5MCZIPj4rPiY0QzBDOSYmMDA+K1I0KyY3PiZDKzA5MCs5PjQwOSs0MD4+MDA5PiswPjlIQzA0PjAwUiYmJj4rPjAmMFI+NzA5MDQwJjA8KzkrOT5DNCs0KyY0Qzk+OTkwOTQrMDk8OTk5OTkwK0gmMDQwPj4rOSYwJj48JlImPj40PkE5JjArPj5SPjQmJiZIQyY0N0M5MDA+PjxDMD4mKzQrPlI+Nz4+OTA0PjAwPjkmPDI+NFI+SDkmPjkmPjArNDkrPjAmKzAwOTAwKzlDMDk+PjA+Jj4+OT4wNz5DJis+Jjk+MDA5Pj40NDA+MCYwJjAwJjA8Pj4+PjArPjlIJjk0QysrPjQwKz4wPj45OSs5MCsmJjAwMDQ5MDk+K1I5KzA+QzQ5Kz45JjBINDQmNDkwQz4rNCsmUj43QyYmPjAwOSYrJjk+Pj45Pj4mJiY5PjBDOTA+ND4rMD4wPlIyMD4rMDAwJjQwMCswJjk+PiY0KzkrOUgrMDkwMDk5KzQwUjk0PjAmND5SOT4mMD4rJj4+NDA+KytNMEM0PCY5NCs+PjArJis+MCY0Qz4wNCZNND45ND4+NDAmKzk+MEg0Mj4yKz4mOSs5MDQ5KzkwNDQ5Pj4rSEM5JjBIPlI0KzA+PjBSOTAyPjAwNDA+JiZINDAwPisrPjBDMEMrJjAmMD4rMDxDMDQwOTk+Qz4wMEEwJiYrMEg5OSYrNDlIJisrKysmMDA+JjArJiswKz4wNDAwSDA+MDk0Kz4wOTAyJj45JjA0MDkrOSswNDQ0PiY0OTA8Jis+OTQwJjkwMDkmNDQwOT5DUj4+OSs8PiswMCY0JjQrJk08MDA0OT4wNDA5MDkmOSs5MEMwPj4wNDA+PiYrMCY0Qz4mOTRSMDkrPCs+NCtIMDk+NDkwOTk0NDA0OTAwNDQ+MDAmNDA0MDA5Q00wKzI+SD5BNCY0MDAwOTk5OUMmNDArOTAwJj4rPjkmOTw0PiY0KzQmKzA8JiY0NCs+JjAwJjAmSDA5QyswMDwmNCZDOTA3OTk0MEM+Kys5UiY3Pj4wQzQmNCs0MDAwPjAwJiYmND45PjQwPjA0MCs+OSswJjk8K0M5Pj4+MDk5PjAmJiYwMDQmPiY5Kzk+MCY0Pis5OSY5Kz4mOSY+MDQwOUNDJjkmMDA+PjkwND4mOT45KysrQyYmMDA+PiYwPj4+KzAmPj4wPjk0NDArOSsrPCs0JiY5MD4+MCY5PjA+NDk5JjA3OTArNyYwKyswJjlIMCs+NyYmOTAwOTA+MD4rJkg5NCs0MDA5Pis0KzkrK0MyQzk5Kz4wK0grND45Kys5PjQ5OTJDJiYwTVImKzA8JkM5Kz43Pjk8NDQmPjA5PjkwOSY0MDQ5OUM5MDk+QzA+JiYwMCswMDAmPjA5PjQ5MEgwKz4+MCs5NDkwOTA0PkMwKyY0MDQmMDA8OTk0NzA8JjQ0JjI5OTk+PjBDMCY+NzQmOTQwND4mOTAwMCY5Ujw5JjRSQysrOVI0KzArJjkrKz4wNyZDPCZBK0MwKzcmJjQ0KyYwOTk0MiY+OVIrPjA+KzA5Qz4+Kys0OTRDJiswMCY5JjArMDk5Jjk0PjA+OTQwOT4wMDAwPisrQzIwTTQwJjA+KzAwNDwmPkM5MjA+OUNDNCs8OT45UiY+MDkwOTk0NCY+MEMrMCsmJjk0MDQ0KysyOSY5JjA0Uis8MDkmNDAwMDA0MD4mPlI0MDAmJj4wJkM+PjRDOT48Pis+KzBSMEg+PjArNDQmOTA+OUNIJiswMDQ5KzQ5OTk5UjQrPDQrMDQwOTk+OTcwPjArQzkwSDkmJjk5MCs0JiYrPj4rPj4mJis+Nzk0MD4rKz5INDRIKysrOUgwNz5ISEEmJj40JiYwJjkrOTBIKys+OTA5KytDPDQ0NEMmJjA3JjA+KzA+Kz4rOTkrNEM0KzA+MDAwMCsmQz43OTQwPjk0MCtDKys+PitDOTk0OTQwOTkmPjkwOVI+K0g5OT4wMDkmPDA5NDA+Jj4rKzkwMjlBOTAmMDAmSDA+OTA5JjkwPiY0PlIwMDA+PiswKzk5MEgrPis+JlI5Pis0KzQ+MEMwOSswMDAwOTkrNCs5KzAwQzkrPj4mJjk5MjAwMDAwMDA0OT4+Kzk+NDQ0Jj4wOSswUjk5N0g0PD4wKzAmNCs5OUM+Nz4wNCs+MDQ3PjAyJjkrMDk0PjIwOTQ0Pj4wPDArPj45NCY+MD5DJjA+NDk0ND5DOTArKz45OTk8KysmMFI0QzkmQys5PkMwNysmKzkrQzkmPjkwOTQ+MD45JkMwPjAmNCtDNzwwPjkwPkM+MCsyPismPjAmPis5NCY+JjBDNCYmKyswNCs5MCYrMDk+KzkmKyswQzIrPj45OT4mJj4rOStDOSY+JkMrPj45MCtSMD4mMCY+KyswPjRDNDAwOStDMDkwJkM5OT4+Pj4wOT4wKz4+PiYmMDQrPj40QyYwNCsmPjA+Pj5IKyY5OSY+Pis5MD4+NCtSMFIwOT4+NDkwPjAwN0FDKzA5KzQ8QzQ0PiYrPjQ5MDc0JitDJjQwMDw+OTRDOSY+JjBIPlI+OTkmKys+PjArPjA5SDQwKzlNJj48PjA+NDIrOTwwPiYrNDAwNCY+OUg+ND4+OTkwOT4rNCYwKys5PkgwNCs0MEgrPjAwOTAwNCs0Qys+NCYrPD45Qys0OT4rMD40JjRDOTA0Pjk+Jj40K1I0OSswNDQ+MDk+Jjk0JitSPDQ5OSYmKz4wMEM5JjQrKys8KyY0MCZINDA5UjAmKzQ5OSYmNCY5JiYwPj4+OTc3JjkmPjQ5OSs5Jj4+QzQrPCZDPDA5MDAwMjk0Kzk+OVI+JkNBKz4rMDk5JkgrMEMwPiYwJkg0PjA+PjA5Kys0OTAmOSYmKz4+OT45OTQ5Pj45TT4wPjk0PjA+Kz4rNDBIPismPjA+ND45Qz48OT45NDBIJj4rNCsrPiZDNDk5NDkwPisrUiYmJjkrMDkmSCY5MCY8JjA+Kz4wPjA+SDkwNDA+NzI0PjkrKzAmJjAyPj4rMD4+OTA5PCs0MDk+OT5DMDkrMDQ+PjQ+QzA+NzxNMD45Pj45MD4+PitNOT5SJjkmPiYrND4wOTBDKz5IK0M5JiYwUjQmPiYmNDAwMD5DUj4mPj4rQTA+Kz4+OT4wKzQ0MEgmPiY+MDA+PlI5JjQ+OTk0NDI5OTQ5OSswKzBSNDQrMDQmMDQ+MFI+PjA0SD4wJjkwMENSOTw+PiY+Jj4rKyYmJjkmOTRIOTArPj40PiY0Kys+MD40OTkrNCswKz4+Jkg5NDkrMD4rPjQrJjAwQT4+NyY0PjArNCswOTQwKzkmJiYwJjArPCs+MDk+Kz5DJkM5JjkrJjAwJjAwMDwwMDA5MDArMD4wJitDNDk+MDArQzAwKz40Qz4wMCs5MDkmNDQ+PjQrKys0PiY+MDArJj45Q0gwOT4rPjw5JjArQz4wOTA5PjA+NDk+NCZDPitDOTA8Pis+Jj48PjkwPjAmPisyJj4+ND4rMCYwNDkrQ1IrMDA5KyYmPjk+PkMwNCYrND4mUj45OSYrPjw+OSYrOT4wPjA5PiYwOSZDPjQrMDQ5Uj45Kzw+OSYmND5SKzA0MCswKys0MDAwMCs8MDAwMD45PjQwOSs0OTw5OT4mJj4+Jis+SCs+Pjk0QyZDNCs5Jjk5MDlDQzQ5MCswKzArKzRSOTkwPiswPkM0JismK0M+PDI+QyZDQzA0MCs+MDlIJkg0PjQmNDwwJismJj45PismPkMmNDkrKytSPjkrKzAmPjkwJjA5PiY+Kzk0PkM5PiZDSCs+OTQ+OTkrOT5SMDkwKz40Jis0Pjk+MiswJkgmNCYmMDQ5N0M+KyY0MD5DMEMwPjArMD40NDk5MDA+ND4rQyY5Pjk+MD5DQys+JjkwNCswNDAwPiYmMj5DPjA5NCs0PkMrMCsmPj48MCYrMD45MjA8MCsmSDQ5NDk0OSs5MCsyPiswSCY+Kz4wND43Qzk5PjArPlI+PjlIPCY+MDA5JjA+MD4rOSs0ND4mKytDJjk5PjAmNEEwOTQ0TStDMCs5OSYwMD4rPDA3Kz5SJiZIJj40SCs5PjQ5K1IrMDA5Uj45JjAwPEgmQyswKzwrOTQrKzQrOTk5MkgyNz40OUMwMDRDMD45Pj4+Pjk5KzwrMD40MDQ0NDlDPlI+PkMwOTBSOSY5PjA5PjBIPisyPDAmPkMrUjQwPjA5Mj4+JiY5KzkwNFI5OTw+PjkwOSswOSY5OSsrK1IwPkgwQys+NDlDKyYmMCs+K0g+NDBDMD5DKyY+NDwmPjAwPiYmOSYmPjAwSDQwPj4wPjBDUiYrMCYwQzk0UjA+MDArOT45OTA+Pj48Jj4mPiswOTkwNDA0Pjk5MDA5JiYrMDk+PjA0UiZDOTJIPiYwND4mMDBIMCswOTQwOTA0OTQ5UiswJj40MCswMDAwJiYmMCY+Uis0KzQ+MDkrJiY+Kys+OTk+PiYrMDAyPjQrMEhDNz4rJjc0NDA5PjA5MDcmPjQmJlIrKzk+Qzk0OUMwMCs+QzA5KysrJiY8PiswMDRIK0MmOTA5PjcwOTImMD40NDk5PjQ+PjwwPjQ+PjkwPjk0Jjc5JiYwPDA5MDAwMDcrNDAmND45MDArMDAwMCs0JjQrPjArNEM+MDRSKzk+KzA3MDk0MDA0Pj4mPjA+PDdDNCY+PDAwOSs+PjQwMD4mKzkrKzkwJis+PkM0OT4mOTc+NCsmKzQrJj5NOSYwPjAwUjQwJjwwMDQ5PjAmQyYwMDk+PjQwJjwwNDQ0MCYyTTkwOTBDND4rNDkwPjA5KzA5KzA5MDk+OT4wPjkwKzk8Jj4+Pj45PiY0Pj4+OSYrOSY0Kz45NCsrPis+NCYmPjArKzkrPjRDMD48SD4rJjk+Kz4mQz40PjQwMCsrQys+ND4+MDAmOUMmKzAwNDc5NzA5Kz4+SDAwMDA+OSswMDA8QTQ+MiYwMD4+OUgmPjA+OTIwUkMrPiY0NEg5Jjk+Pis5Kz4+TTA0KyYmQzk5Kz4+NzA+JiYwMDkrNFI5Pj4mPDI5NDk+MCsrK1I5PjA+MDk0JjkwOTA+KyY0QyswNDk+NzArMDkrMDA0PjkwPjAwOTA0KzQwND4rPiY+PkMrJj4+JjQrMCYrMDArNDk+NCs0OTkrMCs+Qz4rPjk5OSs5MCYrNCs0Pj4mSDA0Pj40MFImNEM5QzkmMCsmPCYwJkMmOTA+MDA5NDAmMEM0PjA3MD4mOSY8JjQ5MDQ0Jj45PjkmPiswMD4rMCs8OSYwPiY3KzkmPjk5MDA0OUNDPjAwJiY3Qzk8JjBSKzw8TSYwUj4yJj4mJjRSMDAmOSs+OSs5Qzk+OSs+NDkmJis+OTk+OTQ+OUM5OT4+Jis+OT4rNCswJis+K1IwMFI+MEM5PlIwOStDOT4mND4mJj45Pj5SMDArKzA5PjkwMDk0PjA0JitIMCYrNDA0Pjk+PD4wUjArPDwmSCYmQzAwPiY0SDdNJjAwPiYmOTA3Jj4+MDkwQSYrOTAmJjk5JjQ5MDQwQytBOT4mMCsmMD4wQyYwPDA0PjkwNDA+K01SK0g+Jj4mOT4mOSswMDA5PiY+MCs5KyZSQyYwOTQ5PiYwNDQ5QzArKzwmOT45NDk5JjA5MCY+QzkwOSY5KzkwMCY+JjQ0NzArMj4+JjkmPiY0SDQ+NDk+OTQrMDkwMD45MEM+NzQmPiYrNFJDKys5Kzw+OSsrNCYmMCY0MD4+Pjk5NDAmUis+JjkrKzA3OSsrPjk5MDAwMjRSMDkwUis0Pis5KzA+NCs5KzArNzQ+NCs+Kys+OTQmOTA+NCs5NDArNCY+PjBSMDQrMiYmQTQ+NFJIJjcwOTk5MCYmMDQwPjkwPjQ0MCYrOTQ5MDk+MCsrQz5BOTA5KzQ0MDkrSDk5Kz4+MDk0MD4mMCZDJiswOStDKyY+KzkrMD45JiY+JjArPj45JjA5QysrOT4+MCsmMDk+QzAwJjA0JkM5Kzk+JjAwUiY5Kz4rMCsrKz45PjAmND4wMCs+NDxSOSY5MDArNzQ5MDA3Kzw+MCZSOT4+Kz40QTk+Jj4+PjQ5MCYrMDlDUjQwK1I5OUMwPj4+OT40KzI8KyY5OUgwMCs5MDI+OStDPjQmOSYwOTk0MDk+SCY+NCsrKyZIPjkmNDArNDwwNCsrOSswPj4+JjAwNDAmOStSJjArJjIwPjA+UiY3Kys0OTA+NDA+Pj4wMCsmJj45SDA+SCsrK0MwKz4+Pjk+JjA+JjI5OTQ0Pj40PDk5KzkmPj4wKzArPj4+UiYmOTQrSDxSQzArKyY+KzlDPj4rMDkmOTArMiYwNDc3NDArJiY5JjkwMDQyOVI5MDxIOStIMD4+OSYrMD4rOT40NCY0K0M5QzQrUlIwOUMmNz4rJiY+KzBSUjArPiswMDQrOTkmMCswK0gmMCtSPjk5Kz40MDk+PiswJiY+Kz40MD4+MD4wMFI+MD4+PjA0MCYwJjA5MDAwQzc0MDQ5OSYmJkNIOSYrMCs5MCYrPjlSUiYwQyswNDA5Jis+MDA5PiYrMDA5Jjk0KzkwNFJNKzQ0OSYmOTwwOSs+NDkwMDQmNDQ3Kz4+NDArMEMmPj4+MD4wPlI0MCs5K0M0PjkmPiYwMDAwNEM5MDA+MDQwOSY+Kzc3MCs+NDQrMDA+Jkg+PjA5JjkrTSswPjBSQysrPj4mNEMwMDkmJitBMDk0NDk5JismQyYwMCs+K0ErJjArKzQwPDQ5MCYmNDQ0QyY5OT4wKzArKyY5MDArNDBDKzkrJj4rMDA5MD4mNEM5OT4wNDArJjQrSCY5PiY+PjkwPjArMDQwPCs0KzAwMDAwJjAmPkMmJjA+MDAwJj45OSsyPjAwNDRDKyY5OTkrKzA0JjkmKzQ5Jj4wNDwrMDA8Jj4wMDk+NDQ5NEMmNCY+NDkrSCs5MD4wQzk5PjlDMEMwOT5DK0grPitIJjAwPjk5Pjk+TUMrPiZINDQrMD5SOUMwKzwwMD4mKz4wJjAwMlI5MD4mJjA0Jj40ND5DKyYwMDAwND4mMEgyPiYmMkMmPj4rOTA+MD5DPjwwMDk5OT4wPjAmTVI5PiY+Pj4wKys+PjI5OSs0QzQ5NDArPjA0Pjk0MD4rPk0wND5DMDw3OSZISCY0Kz4+UjkwJjkrMCswMDlIKzAwPjArMDk0PjlISDArNDkmNDAwPis0OTk0JjA0PjQwOTQ5NzQwMCs+NCsmMD5IJjxSNDk+NEg+NDQwMDA0Nz4wOUMrKzk5PiZDQzJSMDkrJkE0MDA5OSs0PjA5QzcwJlIwNCswNFI0OTQmKzQmNDcrJjAmMD40MCs+OTA0NDc5MDkmPjRIMDQ3JjAwJjA+KzQ+PjQ+UjkrMEMwPjBSK1I0MCsrPjRNJlIrPiY5Q0MwPjAwMCs5MFJDPis5PiYrK0M8MDAmPjAwUjArSDk0Jj5DSDk5JjwwNzk5NDBDJis5MD5SOTArPlI5JisrMjArNDkrKzk5KzAmKzkmJjkmQT4rMDRBPjk5KyY+NDlDNCYmMDkrPjA+NDc5MDk+PkM8MD5DNDQ+MCswJis5JjA0QTAwOSs5MDc5OSswNDAmMDAwMDQwMDQwSEM+JlJDMCYwND4mJjA3Ujk+OSYwMDAyPitDMCs+PiY5MEhDMEgwOTBDPisrMD4mQzAmMDk5MDlINzA+NzlDOUMmJjQwOTkwKysrPiswMCY0OSswK1JSOT5DJiY0JisrOSY+SDAmJjkmMDA+PjA+OT45OT4wNCs+NCYrMCs5JlIwJjA0Jj40OTArPjAwMD4rMCY+PlIwMFImKzAwJj45UjArJjkwQSsmJjAwPjA0PjAwNCY5MCswMDk0NzkmJis0OTlDMDAmPDAwJiZDOTc+Qz4+PjQ+PjQwPitDJjk+PDQrKzArPlI5JjQwJkNDOTkrPjA5SD4mPiswNzkrND45OSY5UjRSJjA+PisrPj45MDcwJiY0PDAwQ0g+PjkwPj4mMDBDSDArPj4wOTk5MD40QzwwPjwmKzA5KysmOTw5QzAwPis8NDk+SCtSJiYrMDA5PiY+ND45MCYwOTA+PkM0NCswKzkmPjk5MDkmKzA0K00mNDk+Jj4mKzAyMFI+JkMwN1I0MD4+MEE5PlI0KzkrPlIwMDk+PjQ0MD4mMCsrPj4+QzcwKyZIMDQrUisrPjBDPjA0Kzk+ND4mOTA5PjA+MDA0JjAmPCswPjkmMDAwUjk8Kz4rNCY+OTkrJlIyPjA5MDQ5NDAwNCs5JjQmJj4rUjArNDkwMD4rPDk+PiswJjQ5NCYrK0MwNCY0NCZIKzk5ND4mPj4+OSYrND4wNCs5NDAmJjA0PjQ+UjlSMCY+JjQwOTA+Qzk3OTlSMD4rJkgrOVIrNEg+OUMmMD4+MDRNPDxIJjArPjA5PjBSSDQwQzkrSCYwPkM5NCY+PjAwPjk8NDA+Uis0NCY+OSY5Kz4rMDA+JiYwOSsrMDA8Jj5BMDArNCYyOUgwKyYrKyYwKysmOTQ+PjAmPis+Kz45NDQmNDQmOSsrPD4rK1ImOTBDOT4mOUg0N0hIMD4rPjA+Jj4+NCYmMD4rMCY5Pj4mNCYrMCs+NzAwOTkmOVImOTk+UkM0Nz5DOTQ0Jj4wNDA0Jis+OSswQyY+Kzk+PjkrOTAwJjAwKzQmOStDPj4+Pj4wMDBIMDArKyswPiY+PkMrKz48Pjk+Nz4+KzQmOT40KyY+ND40Nys0JjQrJjkwJjQrPjk+JjQrOTBDPj5SJj5INDkwJiY5MEgwPjAmJiYwMD5SQTk+PiY5OTw8OTArNDk5Jjk5OT4mOTkwOTQ+NyYrJjQ0JjBIMD5IKzBDKzkwMDkwND40NDk0JjdDKzQ+PjQmPjA+MDkmMCY5PjAwMDAmNz4+OSsrSDk5MCY3NFImNCs5MCs5JiswMDkrJjQ+ND5IK0MmMFI5SDAwMDA5MDQwJjBDNDk8MCYmPj4wJiY0MDk5MD4mKyY5NDk+Uj4rPkM+Kys8NDk5JjQwKyYmPjA5Kzk0KyYwJj4wUjAwKzArMCswOTAmJjA+MD4wOTk5Jjk+MDk5MCs+NDkwKyY0Kz5DND4wJjAwMCswKys5MDA0KysrPj4wOUMwKzArNzAwMCswNCs0SCs+NDQwMCs0OTQwMD4mKzkrOSY+Pj4+OTA5KyY5PjkwMDk+PEgmJis5Qys+MD4mOTcrQz4mMDAwPj40NDBDPj40UjQrMDkyOSY+MDk5NDAwKzk+Pj45Jis0Jjk5QSY+NCs+Pj5SMCsrMDlDNDk5K0NNMDwwJj4yPjk+PjAwJjIwNDQ+OT4yOSsrJjk0JjQrOT5IPj4rQ0gmNDArJjA5Jjk+Ujk0Kz4rOTQrPjQmJjkwKzkrPjk+Q0MwKzImMDlSKyYrKzAwNCY5MDArOT45MDAmMEgwJiY+PjArJkM+PjA5OSYmJjkwJkM0PiYwJjQrOSY5OTQ5MCswPiYwMDwwNCY5MCtDMENDOTQrMDQ+NDQ5KzkwMCY+OSY+NCs0OT4rNDkmMFImPjQmPjAwPjkmJjAwND4rSDkmKys+PjkrKz4wMDRNMCtDOT4mNDkyJjk0OTw5NEM5MDk0UiswMj4wOSs+PjQmPjkwMD4mMDlBMEM+MDk5QzArMD4+Pis5Kzk0Pj4wNDlIN0MwPkE+MDQ8K0MrMCswK0grPjk5QT4wMDkmKysrPjA+MD4wNDk0KyY0MjQ+Kz4mND45PDAwQzAwPjAwOSZSKys0MCs+NDAmNDIwUjIwMD4wOTA+K0g0PDkwPj40MDA+KzQ5OSYwJjQ0PjA+OSs+Kz4wSDI+JismUjk0NDk+KyswK0MwKzA0MDA5MDwwMD4mNDA5NDkrJjw3MD4wMCs+PjArUkEmMEgrJjA8OTA0OTQ+Jj4rKysmMCZSPis5KzcrJiswMDAwNyY0PjA5JjwwOTk5MCY5QzcrJj4+MCY0KyswNzI5MkMwMEg+JjQ5MCYwMCYwMCs+PiZIKzAmPjAwMDQ0JiYwQzkwPjcwMCs0JjA5MDAwMDk0Pjk+KzkrOTk5MDAmTVIrUj4wPis+NDQmPjAwMD5INDA0JkhSKyY+OTA0K0M5MDk+PjQ3Pjk5OSs+MD4rJjQmQz4wMiYwMDA+JjA+ND4mKz48MD45UjQ5PlImPjAmKzA0Uj5SNDA3JiYwPis5JjkrPj4wUj5DUjwmKzk5OUMwNDAwMDA+PjA0QyY5PD45MDA+KzkwOTAmMDk+ND4mNCZSOSs+Jjk+MDA+Qz4rMDQ5KzAmMD4mOT4+MCY0Jj4wOTQ+Jj4mNDkrMDlDMEgrPjQ+OSYmNCYwPDIrKyY0Pj4+NDQ+PjAwKz45SFImMCswND4mUis+MD4rMDArKzAmJjAwND40Jj4wQz4rNDQ0Pis0JjQmPjdSPjA0Uj4mPj4wKzQ8NDAmJismPkM0OT4rOTkrNDQmNCs+OUM+OT4+Nys+PismKzA+NEg+MDQ0SD45Kz40MDBDPkMmJj4wNCsrMDBDJis0OTk0OTArMCswPjQrPjBDKytDOSYwPitSJj4wMDA5PiZDNDA+OTA0JkM+ND5DMDQmJjAmJis+OUM+Jj4+UjAwJj4rPiY+NDc0JjBDMDkrMD43NDAwQz40Pis5KzA5PkgrPjkwSDAwMDQwPjA+MDcwMDQwPiYrQz4+Nz4mKytIKys0PjkwMDAmOTAmJj48Qys0NDA+OTQwOSYwOTAmSD4mMD4wPiswJlI0Pj4wNDA+PjQ5Kzc+JiYwSDA0MDA5QyswUj40OSY0KzlDPj4wJjQyOTA8NCY+KzkmPisyJjkrMD40MDA+OTlSNEMmUj45MD4mPjlDPjIwPj4rMDQrQ0MwMD4mUjQrMCsmOTAmNz5DPjk0NDQrMDAwOTA+MCZDOTlDMCY+JjAmPjAwOT40MD4+KzQmMDQ3NEM+OTw+OTAwKz4rKzlDNDQwPCswPjA+KzA0NDArND5DMDk+MCsmNDA5OTA5Kzc0KzAmJjQ5Q1IwPjk0OSs5Jjk0NDkwOSY5OTArJjQ+OTBNPjkwPjBSJjkmPj4+Kzw+QzArKyY+MEM+QzA0KyswKzc5Pjk5MDA0ND45MCYmJjQmPjA+KzkmMEg+OTAwQzQwSCs0ND4rKzQ3Jj4wOT40Pjk+Jj40PD4wPjQrSEM+JjkwOT4+MDk0KyswMDkwPjQmSCZIUjArJiY5ND4rOTBIOTkrJiZDUkM0OSswOTQwOTAmJiY0MDk3SDQwMCsmQzlDPjA5MCY0MEM+Kzw0MEgwPkM5Pj4rNz4mKzk+OTAmSD4+OT5NMDkmNysmPDIwKyY8NCY5Jis+MCs0Kzk+MDA5NDRDOTQ5OTQmOUgwMCtIPisyNDkrNFImOSsrJis+MDQ+UiswPjAmJjAwKz4+Jjk5OTQ+OTAmPj4wKzlDKz4+MCs+QzcwKzc5MEM5QyY+OUM5UjlSNDkwPjBSNDA+Q0M0KzBSMDkyQys+JjA5JjQ+MEM5PjQ+KyYmOT4wPjk5PismNDArPjkrPjk5Pj4+MDA+OUM+KysrPjAmMD5DMj45MEM0NCsmJjQ8MDkmND4rNDQmJjcrNDBDPjkrMENSQzkmKzJSPis8MEMmOTwmJjA+MEhIMDlDMD45KzA5PjQrKz4+JjQ+SDA0JjQwPlIwJj4mK0M5MD4+Q1JSJk0rPjBIMDArMDA+OT4rMCs5Pjk+QTk0OSY5MCYwMDkwOSYwKzkrMDArPCs+K0MwKzlIJkgmOT5IJis5ND4+PjA5MDA+Kys0PjA+MCs0NCYwKzk+SDlIPCs+OT4+JjQ5UjAmPjQ3Jj40OSY+NDA5OTkwKys5MCtSMCY+NCs5NCs+OT4rOT4+JjAwMCs5OTBINCYwOTAmNCY5JiY+SCs+NCZBOT4rPjk0NCYrJjQ5MDA5KzQmJjA5PjBDMCY0Pis+Pj4wND40Pj5SJjQ8Jj4+SCZDOTQ8OTQ+OStDJj4wPis+Nz4rKz40PiY+Kz4mUj4rJjA0MD4mNCswMDA5MDk0MEg0MDQwPis0QUM5OT4rUjQmOSsrKzBSMCsrSDk0ND40QysmPis+QyswNDQ0MD4wMDk+JiYmOTc0PiYwTTk0MDkrNCsmOTkmMD4+NCYrPjc5QzkwPis5SDArJjA+NE0+KyY0MD4rJjA8JjQ+OTkwOSs5KyY0KzA+Qz4+OSY5QzAmJj4+PjA+Kz4+OTAmJj5IPDAmJjRSOTAwPkgwND4+MDBDJj4wSCY+ND5DKzQ0OSYwJjAmPDImPjk5PiY0MD4+Kz4+MEM3PjAmMDAmOT4wPEgwKys5K0MrNDQrOSY8PjQ+Kz43MisrNCYwKyswJjk+KyYrMj4+JiYmTTQmMDk5Pk05KzAmOTA5JjA+MDA0MDQ0NCs+KzQwKzk+PFI5OSY+Pj45MDQ0PjQmQz4rOT40MDA5Kz4wMCtIQzAmOT45OVImPkErMD45Kz45OTk0Kys+MCs+MjBIKys3NDAwOTA5KzAwOSYrMDA0NCtDOTQrMCs+JjkmPiYwPj45NDAwMDBIMEFIMDA3TTQrPitDQzBIMCYrOTIwJjQ0JiY5JjQrUiY5JjQ5SDQ+N1I8MDQmPjA0PitDJjA+NDQwPj4rQys+KzQwMD45Qzk8JjAwNCs3PjkwJlI0NDBDMD4+PjQmPD5IJismJjw0OT4rPCsrNCsmOTkrJis5OTQmKzArNCswMitBKzk8MDk+K0MwKz4wKz4rKys+KzA0PjQrKzk0SDkwOTQ0Pjk0OSs5NzQwKysmMDw5OSZSJiYwMjk+NyYrNzAwPjImMDk5Pjw+OTk5NFI+JjQ5MCswND40ND4rMCswQ0MwKzAmOSs0MEMwSCsmOUgwMD48OTQmOTQ5MDk5NCY5Jj4+MCYrJjA+PjQ0MD4wPDA+PjA5JiY5MDA0UjA0Pjk0MDkwNFIrPitDPjQ5OT4wOT5DPj48OSs0Pj4mOTI+KzQwKz4wQzA5Qz4+MDQyOT40PiYwOTk+Pjk+PjArNDwwJj4+JjArQ1I+NDA5MEE+OTk0OSsmJjA5ND40Kz4+ND4wKzkwPjk+Pjk+MFI0KzQmPjkrNCs+KzRDKzAmQzkrJjA+PjArKzkwOT4rPjQwMD40ND4wPjArPjBDMEgmOSYwJjAwOT40MDQwOUg0OTBIKzAwMDAwKzk5PEMrPjk5Pj4+OTA+Q0MmQzwwPiYwKz45MDAwJis5OT4rMD45OTkmMDlDPkgwJiYwPlIwOTAmJis5MDk8OTA5Jjk3Jj40Ujk0NDQrNDkrJjA5ND4wMD4wJiswSCs5OSs5NyYwMD5DMDQ5Kys0MCs3Uis3JjlIOSYmOStDMDBSPjkmPj4wPjkwPjkwNCsmKzk0OSY0MD4yMDkwQysmUjAmKzlIUjkwMCYwJjBDKzBSNCswPj4+NDRDOTAwKzk5UjAwKzA5MCs+Jj4+JisrMDImKys+PjQ5MCsrKzAwPDA5Kz4rOSYrJj45MDQ0JjkwSFIrJjBSQTkwPDArOSY0NCs5PjA5OUgmND4+OSYmOUMrJjdSOSYwPjAwPis+MDkwPjk5Pj4rQz45OT4+SDA+ND4rKzArOTA5PCY5Pj45JjQ+KyswND4wMFIwNzkwPDRDMFIrOTQ+Qys5OTQ+OSY5Pj40NCs+QyY+NCtDNDA0PDk5Qz4mMD4wMDI+MCsrOTQ0NCYrJj4+JiYrKzRDPis+NCs5ND4rPDk0PjkwKzAwMD4+NzA0KzA5OSY+NDA5ND4rSDRINCY+UjkrQzkwNCswMDA0ND40Pis8SDk+OTA5KzA5Q0gmMDArOUhBMDA0Jjk5NCsrMEM+MD4mJkgrOTcmNDAwOT4mMDk5NDQ+NCs5QzA+ME05MCswNDc+Pj4+KyYmPiswPjQrMDkwUjIwPjA5Pj48PjBIMDA+MDk5OTk5OSYrMDlDMDk0NCYrSDQmOSs+NEMwQzk+OTQrKzk5MDkrNz4wKzArOSY0SDArQzk+OSs0Jj40PjAmJiswMEM5QyYrMDQ5SDA+KyY3PjQrJjRSPjA3OT40OTA5OSY+KzQ+Kys+PjlSMDk+OT4+SDBDPis3MDA0NDk5OSs5JjkwOTA5PkMwPjA8Jjk+QzA0MjI+NCs+NDkwPiZDMCYmMCswNCswJjcwUj4wJjA+NCs+Kz4wNDAwNDAwK0NIUjwrPEMwKz4mNDk+Jjk5NCY5MDA0KzwrNDQ+Jj40Pis+MEM0Pj40OTBNKyY+Qys+MDkwMD4+Kz45NDk0NCsmKzkwPDk5KzAmKz4wKz4rMDAmPjRDOTQ5OTI+NDk+MDcwKzA+Pis5OTkmPjIwMCYrPjk5MDk0MDkmPiY3JisrMEMmQzkrMD4rPjBDKz4+NDQ+Kzw5MDQ+Q0NDOTA5KzQwKz45MCswPiYwMDArQz40NFI+KyYmTUNDOTAwSD4wSCY0Pj4wMDQwMCY0MEMmKzlSKyY5KzArJjQ8MCYmKyYmQzRDOSs8MCYwMD40PDQmMD40JjQ+PjBDKz4wMCYrMDAmMD4mKzk5MDQ5NDkwMEg5OTc5SDRIPjQmMDAwOT4rPjQ0MDAwOSs+JjAwOTAmNDRIMj5SOTA+K1IrPis5PjAwMDkmKz45KzAmMiY+KzQrKzQ+JjA+Jj5DJjA+MDQwMD40OSZSNENDMDQwMCs+MFI0Pj4wKz40NDlDMDAmSDcwJjkmKzk5Jj48JjA5MCYrMCs5MDk0OTQwPis+UjArK0grMDAwMCY+QzBSPisrPjk5QyYmOT4mMDkyKz4+PjkmK0M0MDkwJismMD40MDBDMDQ0MD4+NzlSOTAmND45Mj5DJjkwJjQ5JjAwUiswQzA3Qz45KzcrJj4wNDA5NDkrNDQ+SDkmPjA+Kz45Jj40KyY3PismMCZINDBDKzc5SD45PkM+MD4rJjArMDAwMD5BMFIrNzA3NDQ5NCYwOTA5QzAwMD4mOT5NNCswMkM+OT4mPjBDSD40KzkwOSYmKzA+Qzk5JjAwPis+SDwrOSY8PCsmPDAwNDlSOSsrKzw5Mjk0OT5SOSY+PiZBOTkwOSsmPlI+MD4wQTA5Pj40MDA5PiY+MDlDMD4wMDRIOTkrMD45NDArTTA5MD4rOTA0OTA+Jj5IMDQmOTQmMCY0MDArUjk5Pj4+Pj48MDArKzArPjA5OTAyMDk8OTBDJjkwQzkwKz4rOTkwJjw5MDQrMD4wNDkwOTQ5Jj5INDQ0JjA5Pjk0OT45NDAmND4wNCYmPjQrKzAmPjA+NDQ+MD45OTk5MDk5OT4+Uis0PjAmJis8OTQwKzkwPiY0MDQ5PjA0KzlDQT40Kz4mMEMmPj40PCtDNCswMCZSPCYwOTArMCYwPjQ3JiswOSswPiY8QyswOSY0OSs+Pis+JiYmKys8JkM8KzQ5OTQwJjA+MD5DOTBSUlI+PiYmOSYrQzA5NDBISCs+MDk8QyZBMEgmJj5IK0M8Pis+PEE5Pj4wNDA+MDA5KyYmQzQ0OTArNyYmOTkwNDQ+UjkrJjlSMCYwPjA+MDA5Kzk+NDk8MDBDKyYwOSsmPj45MDArMDA+JjkwSCs+MDA+NCs+MDkmKyYmJjQrMCY5KzQ+JkNIPiY5Jj4wQzBDMDArNDAwNDA+JjQ0OVIrPjlIQz40Pj4rQytDNDAwUj45OSsrJis+K0M+MCsmOTQ5JiYwMCsmJjk+Pj45SCYrPj4+MDQwJjk+OTAmMDkwNDArSDIrKzQ5JiswPjQ+MDkmMDk5Pj45JiYwMCs+MDQ5SFIwPjAmMCtDJj4wMD4wMDQrPj5DQyYmND4rMD45PjAmPlI0NDQwNDkwJjAwK0MwPiswKyswMDA+QyYmPjBDQys0Pj40OTlSK0M5QzdSQzQrOTA+OSsmJjk+JkgmMCsrKyYmND4+NCY5Jj40PjA+JjkrNDkwOTAwNCsrOT4+Uis+PjArPjAwOSYwNCZNJj40JjA+Qz5SQzA5Pkg0PjA5JiYwPj4rMCs5JjA5OSs+NCY+UiY+SDBDNDkmNDQ+MDQ+KzA0PjA0MCswPjw0PiYwPkMwJjk0OVIwMDA+KyYwKzQwOTk+NFIrNCs+UjA+NCswJj45Pjk+KzA5Kz4+OSYwKz5BKz4wOSsrQyY+SD40Jkg5NDk0MDkrNzA5MDk+UjA3PjkwOTA0JjBIMDQ5PlI3KzQ0NDA5JjAmNEM0JisrND40ND4wOTA8Pjk5SDQwOTkwPD4wQTk0PjAmPj4wMDA0Pj4rMDAyKz4rNDA0NCs+TTk3OSYmOT40SD4+MDAmKzcwKzQrSCYmMDQmPDBDQzAwMCs5MDRDJj45UiswNCs0JjAmNDA5KzQrJismPjAmJiYwND48QzQ0OSY0PiY5OSYwQzk5PisrOTcmQzkwOStBMCY+Kz4wJjA0NDAmMCs0MD5IKyY+Kz4wQzAmKz4rNDBSPis8Kz4wPj4mNCYwME0+Pis+MDAmOSsrK0M5OVI+KzcrOVIwPjA8OT45JiY5KzlDND4rOTA+JjQ5OSYwPjAyQyZDPjA5OTBSJismJjAwOTA+OTkmSCsrMDk+PiYwQzQwKzk+OTlDNCY5MDk8MCYrJiYrMDQ5PjA0Jj5SMCs5MD45MFI0QzA+OTQ8Nz4mND48Pj4+QzAwSCs8PjkwMDkrMCYmMDw8QyZIJiY+Pjk0Kz4wKzkrUjA0Pjk0KzA0OT4+KyYmNDQ5OTAmMDA0PjA3PCYwPjA0MCY+MDBSNDA5OSYrNDQwOTAmOTQwQzA+MD45QzA+OSYmMDw+MDA5JkMrOTk5KzQ0PiYmMDA3MCZSMDAmPjwrK0FIMDBDMjc+ND5IPiYwMCY+MDA+PjlDND4wSD45OTkwQz48NDk5KyYrNEgwKzQwKzQwOSYrPj40MDkrPiYwOTA0Qys5OT45Kz4wPjkmPjQmPiY+OSs5KyswND4wJjkmOT4rOTA0MDQ+Pjk0NDAwOTc5MCZDNCYwNCs+MDk+QyY+MDQ5MDQmKz40MCs+QyYmNCs5OSswMD4mOT45Pj5SPj4mJjkrPjI+Jkg0JjQ5MDA5OVI0OTw+NDAwNCswOTk5MCs0MCswJiY+PiY5PjArNDk+OT45OTQ0MDAmPjBIMCY8JjkwJis5MEg0MDkwMDQ0MDkrPjA0MCsrKyY+MEM+PD40MCYwMCY+JkM+NCYwMDA5JkMmQzQ5ND4+JkMwPj45MD4rNDArMD45QzQwNEM+MD4mJjQrKzAwNDk3Jj45OTA0OUMwND5DJj4wKz45Pjk+KzQ5KzA+PjA3NDk+SDQrPjAmKyswKysmOUM5PiY0Pj4+Qzk0NCY5NCY5MFIrQyYwOTlDKyY0OSY+Kzk+NDArPj4rKyY5OSs0SDQ5Qys5UjArMCswPis5MD4wOTlSPjA0QzA0JitSMCs5SDk0NCYrMCs5PitDOTkwOTAmPjQ0KyY0PjkmKzArSDAmPjAwJjk5PiYmOTA5MDBDMDkrK0M0MDkmNDQmPlIwMjk+Pj4rKzBSJjA+PDkrMEM5MDk+JjkmPjAwKyY0OSZDKzkrMEM+Jj4rOTAwOT4mMEgwPjQrOSYrSCsmMDQ+MCswOSY0OTA5OTlIPD4wKzQmOSsrJlI+PjkrOTArJjkwJjwmJjQwJjAwPCY+OTQ5MDQwNEMwQzk5JjArKz45NyZIJjA0K1JDMDQ+NEgwOT45Pj4rJlIrJjA0Pj40K0NSJismMD4+OT48SE00JiY5JjA+KyY+JisrKzA+SCYwMDkmNys+OTAmJjAwKzkwKz4rNCYrKzQmPiY+SCYwOT45K0M5JjkmMCtDNCsmOTAwPiYmPiYwNDk+NDArJjk+MDAmOTkwOSYrMD40QzwwPkNINCYmKzcwMDA5JjAmPD4+KzdDJjlDOTkwJj45MCY+JjkrMDQ5PkM+JiZSQz4wNDQ+KzQrOTArMDQ5ND40OStDOSsmPj4rPlI5OUg0Kz4wJjQ3MD45OTw+NDkwJismPiYrQz4mNCYyOSswQys5PisyKzA+MD45PjA0Qzk+UkFIOT4+PjAwPkNIND4rJjQrQ0M5JjkrOTlDMD4rOT4+Kys+MDA+MD4+PiYrKysrJjk+PjkrQyswPjQrPis5SDlIPjBDMFIrQzAwJjA+NDk5Pj48PjkmNyY5JjAmOTRIUiswMDk5OTQmPjkrQ0hSPjc0Qz4+NDIwMDA5MEMrK0M+UjkrPj4rNCY+Jis5QzAwMDQwUjQmNDA+SDArPj5DMDBSPis+PjQ+MDk+OTkmPjk+JjwwPjAwJj40K1I5JjQ5NCY+JjAwKzA0OSY0UjBIKz4rJjQwUjQrPjQwPjAwND4+OTcwQzk+KzArOSY0MDQ0KzRDNDkmQyswOTRSNEMrMDA+OSY0MCs8Kys5Jj4mOTA+NDQ5Jj4wKzQmMD5SNyYmMCZIKzk5Pis+Kz5SPlI0ND4rMD4rMCs0MDAwMEM5Pkg8JjQ0MD4rKyY0JjA+PCswSDA5MCs8MD4mPjA0Qzk+Qys8PkNDOTk5QTlDOTcwKyYrPjQrQUMmOT4mPkgwPDQ+Kz4rPj4+OTkwQVImJjA8Pjk+OStSJj43ND4mOTQrNDQ5Kzk0QzAwKyYwPj40OT4mUj45MCY0OTQ+MDA+NCYmJj4wMDwmKzAwOUg5PjA0SDAwPitDJj45MCY+OT40JiY+Q0M+JjA5Pj4wMDkwMDA8QyYmQzlDMCYmMD4+SD4wPjk5NDA0NDArOTAmNDRIOSY+PCswJjk+NCYwPlIrMDkrNDc0MDQ+MD4rOTArMD4+MD45MDBDMDArPis5ND4+MD4+Qz4mKyY+MCswNCsmKyYmPiY0Jj4rKys+NDk+PjQ5Pj45KyswND4rJiYyJj4rNDBDPjk5OSYwJjk+MDQmPj45PjQmMDA+KyswOTRDJj4+MCswMDA+PjRBQzA0MCYmNCsrNDkrMD4+JiY0KzQmOUMwPCY0MDk+Qz40Pj4wKys5JjArNEMwOT4rMDBDJiZDJjQ5PisrPisrMD4+OSY0MDAmKz4+MDA+JiZINDAmSFI5MDkwMD4rOSYwNEMwPjk0MD40Kz4mMCY0PDA+NDBDJjQ8JisrMDAwQys8JkMmPjA+MDAmPjk5MD4wOVIwMCYwSD40MD4mNDcwJjQwNDk5PjA+PjQwSDA0NDRDMD4wJjQ5MEM5OTkmKys+PjQwOT4rPjA+Nys0QSs5MDc+OUM0KysmQyY+PjAwMCY+NCsmMDkmMDQmOTBDMDQrPjkmMCY0Kzk+MjA5OTk+Pjk0KzAmMCYwPjRDMDkwPjAmOTcrNDQ5OTA0UiY5OSY+MjkmND4wKyYwQyYmMDA+OTArKzkwMEM+PjAmPj45KzAmJis5Jjk+MDk3NCY5OT4+Kzk5ND4+Pjk+KzkrOTA+Jj40OTA5MD45JjImPjA5OTQ5OTlSKzA+OTk3KzA0OT45PjAmMDImJis0MCZDPiswNCsrKyY+QysrPis5Kz4wNCYmMCYrPjAwNDA+Jj40Pj45NCs0PjA+JjQmMCs0OTQrJjAwJiZDJiYmJjAwKz4+PD4+PjQ5NDQ5OT48NDA0Qzk8UjkwOTA0NEgrOTRDJjAwKzAmOUMwPj4wMCY+QTAwNEgmMDcmJis+Kys8Kzc8Kzk0MDAwMD45MCswOUg+OT45KyY+NDRDOUNDOUMwMCZDKzk5MCsrNCYrOTk3NDlDOUM8PiY+MCs+MDA5PjAmMD48PiYmMD4wNDlSJj40NCswMCYwPj45KyZIJjArMDA0NEMrUjk+JkM0PjQwKzk0OSs+PiZSPjkwJiY0NDkwSCYrNCYwMD40QyswNDk+MDRDSDk8OT45PiY5Jjk+JkgrND40SDc0NCY+OTk+KyY5OVJIPiYwJkE3MD40MDA+MDk5OUNSMD5DJj4wNDwmJjA+Pj45MCtDNEMwMDQ+PiY+Jj4wPDQ0QzAwKzk5Kys+NDA5KzkwPis+Qys+MD4wOTAwND45OTAwMDAwMCtIOT4mKzQmPj4+OSswPjA5MCs0NDRNPjkmMDQrNzkmOT4mMDAwMDk+PjAwSD43K0MmMDA+KzAwOTkmJj5BKzlDPj4mK0g5OSs+NDA5MDA+NFI0Kzk5JjQ0OSsmJiYmPitIQzkrMD45MCY5PjA8JjA+OTAwJjQwMDAmJjk5MD45MDkrMD40K1I+MCsrNDA5MDIwOSYrJjRSMD4rPis+NCswJjAwPjQwJisrQzk+PDk0MDArMD4wOTQrMCYwSD40Jj45MDkwMD5IOSY5KzBDND4wOTk0MDQwPisrMDRIMjk+PD45JlImSCs+Pis5JiswMCs5MDQwQysmMFI+PiY+MDQrMCYrJkgwUjA+Q0MmK1IwKyY+KytDPiYwPiY5ND40Jjc+OTA0Qz4mKzAmKzQ8UjA5NCsmMCswMDkrPiYmMCY5Jj4rJjBSSDQwJjArNDAwQzw+Qz4rKzk+NDkrJjk5OTQ+MDA0NEM+MD4rPjBDPjA+QysrNDRDMD4wKzQwKz45PiYmKzA5MDQrKzkwMDcmKyswJjArPj4+OTArOTkwPj4+PkgwMCYrMDkrPjkwMCY+PjAwMD4+PlI8NzAmNDkwPjAmNCsrPjkwJj5DKzQwQysrNFJSPjQ5Jj4+ND4wKyswQz5IPjQrKzQwK0MrQys5Jj4wPD4mKz4mJisrPjArPjQrMDQ5SD4rPjQ+PjArKys+Kz4wPDw5Pj4mK0g5OSs+NCs0JjQwNCYwPjQ0QyY0JjlDNDkwNCY5Jis5PjQwPiYmMD4wMDAwMDk3PjA5MCs5MjAwMCYmNDAmPjA0QzA5Jj4+OTAmJiZBMCtDK1IrOTA0KzArK0MwOT4+Pis+MDlDJj45Pj4mMDA8KyYwPDI5NDQ+Pis5QzAwKz45MDA0NDAwJiZDKyY0QzAwMDA5NDkwNCY5NCY0MDArOTAmKz5IMDAwSDAwJjAwOTA0PitIPj45Uj4+Pis5MDlIJjAmK1I+PjlDMD45MDArPkMrNDk5OTQ0MD4rJjAwNyYrPjAmQz4wOVI+JjA+Jjk+NDArNDQ+OTw5QyY+NCs3PisrMD4+KysrMCYwOTxDPitDND40K0M+PDkwMDBIOSYmMDAyPj45MDkmKzQ0JjQ+OTA5K0g0MDkrNDk+MDQwOSYwMFI0UjImKyswOSY+Kzk8JlIwMDw+NDQ0NDk5PiswNzAmMDxSMD45PD4+OTRSOTQrPjlSJjI5OTkwPkg5UjQwOUMyMCY+PjAwSCYwKzAwKz4+Pj4mMFIrKyswMDA5PjAwQys5KzQ5MDkwPiYrMD40MDBIPCYwPjkwMCZDMD45PjQ5MD4+JiY5MDAwKzA5OT45Jj4+KyY+JjkyNCsmOUg0ND4+MCY+PlI3NDA+PDRDQzk+Jj45JkM+KyYwOT4wOTkwJiY+SDwwKzkwPis8UjAwMEE5MD4wPjArPjkwNCYrMiY0OTQ0Pis8Qz40QzAwOTA5OT5SMDwmMCs5PjA5MD4wMjAwJis+OTA+OTQwMDk+JjAmPjkwOTQrUiY0KzQwOUM+OT45PjkrUiYmOTk0QzAwMDA+Pis+QzQwNCZSJj4+Kz40OT4mNCs5NDArKyswOT4rPjI+JitSNDA+JjlSMCsmPjk5JjA+PjA5Pjk+QyZSJj40Kzw5QyYmND4wOVI3OTIwMiY+Jj4wMCY0OTk0N0M5PiYmPjkwMD4wQzI+PjA5OTk0NDQ0OTAwMCsmPj4mNCY0MEg+N1JIMCs0NDBBJjQwJitDPjk5SDw5Pj4mPjk+MCY0Kz5DKzk0JiY+K1I5K1I3UjA0MDkwOTk5OSs+PjQwJjkmUis0QzQ5MEgmOT4mKz5DMDQ+NDBDN0MmQyY3PDA3KzA5MD4wJjA+NDk5Pj4+MCY0JlI+MCs0MDk5PjQwQys3MDcrPjQ+OTkwMDIrKzw+JjcmNCsrOTA0Jj4+NDlIKzc0NDkwJj4+MDA5OTlDKzk0Kzw+Pj40NEMrNCsmQz40PjArOSY+JiY+NEM+PjkwJj4+OSY5PjQmPjA8OUg5OTQ+MFImJjw+Pjk+MCswJjA+OTQrMDk5OTkwOT45OTlIPis0MD45MD4wPDQ0OT4+Jjw0TTA5Pj5SNDk0KzA0MD4+PiYwMDQwMDkmNEMmNDkyMDkmMDArSD4+KyYmOT45JismKyZDMDQmOTlDJkMmPj4mJjkwKz40OTQmSCYrKz4wNDQrKyY0OT45KyYwMEg0JisrJj4wPiZSQys0ND45OSY0Jkg5NDQ+MCs+JjA0PlI5KzArKyswPjA+QzA5UjA0Jj4mKzQ+Jjk5MDk+MD4rQysrMD4rJjAwNDk+PjQ+ND4wPiY+NEM+JisrSDkwPiY0Kz5IMDQrNEg0Qzk+Pjc5MD4mKzQwK0E+Pj4wKzkmJiY5PDAmQzk0MD4+MCZIPjAwPDQmMDAwPiY0NDQmUjAmMDQ5MCYrPjkrOSs+Kys5MD4mUjQ+KzQwMCYmKyYmPDArKz4mOUMrOSs+OSY+SEg8MD5SPkNIJjk+QyYmNCYwMFImJis8NDAwJjkwMDk8KzBDPis0NFI+NDAmPD4+MDA0PiY+Jjk5KyYwQzAwUjA+QyY5NCYrQyY0OT4wNCZBUj4+JjQ5SD4mOSYmMDAmMD43Jjk+JkM+Kzc+ND45NDAmPiZDMDA8Pis0MDArKzcmK0MwKz5IPjRDPiYrNDArJjkwOSYmKz4+PjQmPitDMCswPjA3OSYwUjI0PD45MDA0OSs+MDA+KysmMDk5OTAmNzAwMDAmPis0OTkrMDA5MEMmJj4mKz45MDkwMDlDQzk5JiYwMjkwKz4wMDA+JjQmKz4wNDA5JjkwPiY0OTA0PiY5SCYwPjk+PlI5Uj5DKzk0MCsmQytIJkM+QyswPDA5MjRDNFI0PjA+Pk1BOStIPkMrMDQ0Jjk5MEMmSFIrMCswOTkwJjQmPj4rMDQ0JismKyYwNCY5OTQ+PjAwMDQ0KyYmNEM5SDkwOTQ+PDRDMDw+PjkmMDAmJiZDMCs0MDAwMFImOTk+OSYwOSs5OT5IOTA+PjA5MEM+ND4mMDk+PjQ5QzA5MDAwNDQmOTA+PiZINDkrOSs5KzArPDBSOTQyND4wNDQ+MEMrJkM+OTArNz4rJiY3QysyOTlSKys+OTQ+MDlDPj5DKz5DMDkwUjBIPis8Kys+MDQ+SDAwJkM0ND45ND4wOSswMCtDKz4mSDQwKzI0MEg8Pj4rPjQwJjA+PjQ+MDkwPDQ5PjQ3MDA+Kys0PD4wNDc5MEE3MEM+KzQwJjkrOVI+MDA5Jkg5PjlIKyswPkMrOTkwOTBSMDQwPisrOSZDMEgrOSYrOT4wKzRSPj5IMDkwPismPDQrNCs0Qzc0OSs+SCsrSCtBPjA5MCYmPiZIOSY5MDAmMCs3JjQwPj4wOUMrNz48OSs0PD45PCs0MDAwOT4rMDAmJjk5KzQ0K0M5KyY5SDA0Jis5MDArKz4wPj40KyY3QzA+MDA5UjQwJjk0Pjk0Qys0PjA5PiY+PjkrOSZDKz40MEM5Q0g+MD4+MDk0MCswMDA+MCs+Pjk5Kz4mOSYmUjA+Qys5Pjk0SDk5PkgwNCYrKzQ3Kzk0Pj40MD4rMDA3PjI0NCYmOTlSUj4rMkM0NCs5PDBDQyYwPD4mMDRDMCs3Ujk+NDA+Jis5Kz4mMD4mJiYwMD4wPjIrOTQ5NDkwJlI5MDk0JisrMDk5MDk5MD4+MDkwJjAwNDkmPCY5OSswKz4rPCsyJjk8OTAmOTQ0K1IyJj4+OSY5TSYrMkMwPjQ0Jis0Pj4rJjQmSFIrJismPj45OStSKzQrJkM+Pis5QzA5Jj48UlI3ND4wJjkrMkMmPj5SMDk5UlIwNDwwQyY5Kzk5Pj4wPjA0Kz45JjlIOTk+KzA5SDkmJjwmOSswOTI+JjQmMD4wMCY5N1IwOSY0KzA+NDQwJjQwPj4wKz4+NDQwOTAwOVI0JjQrPjk0MDk+Pj5DJjA0JkMmPiY+PjArKzAmK0hSK0grOTkmJj4wKzAmMEgmPjBIMDQwKz45Pj4rQysmPj40Pkg5OT4+Kys5Kz4+MCs+Uj45MCsmPjkrJjk5Pjc+ND40PiY0MEM5PjkwKzA5PjQwPjA+KzQ5OSs5OTBIKzk+MCsrOTAmNDc5PjQrMDQwUjA0PiswK0gwSCswMCs0Kz45NDw8JjAmMD45MCY0QzA5OTk+OTQwPj45MD45Pjk0OSZSJiZDNDA+OTBINCY0MD4wMCsrUkg8PjQ+NDAmMis+MDkwQTk+OSYyNDA+MDc5MDw5SDAmPiY+NzAwNEE+JjQ+OT4rMEMwMDQrPjkwOTAwQys+MDAwOUM8JlImOTkrMD4+JjA5Pkg+JiYwKzkwPDkmND4+Qz5SOTw+PjkwND4+MCs0Kz4wKzkmPjArPDkwOTArMD45Pj4+Kz5SPiYyPjw0UjBDUj4wPCY8JjAmOUMrOTBDOT4wJiYmJj4mNzIrPkgrNDlIMCYrMDBNJjk+OTk+OTQ5K0gmJjA5MCY+JisrMDkmJjA+MCY5OT4wQzA+OTAmKz4rNDAwPjA+MD5SMDk0NCY+Uj4+Qzc+Kzw5UiY5NDc5MEM5KzkwKys5PjAwQSY0MCswKzA5Jj4mKzQ0KzkwOTQ0MD40MDQ+Jis5SEM5KzArKz4rK0M+Pj5IPkErMDk0Uj4wOSs0NDArMCYwQzA5QzkyPiswOTA0NDBIKzk+NEM+OTQ0SD4+Pj4wJj4wMD4wKzlDNDQmKzA+OT4rSCYmJjA+OTAmND4wOT40MD4wKz5IOSs0NDA5OSY+JjAwND4wOTkrJis8MDA5KzAmJjAwKzQ5KyY+PjA8OUg+OSs0PjA+Pjk0OUMmOTRIPj4mMD4mKzIrJj45NDA+SFIrKytBKzA0NDAwNDA+MDArQ1IrMiY+QzAmUjQ0NDw+PiZNPjAwKysrKzArPis+ND4wNys0JkMwSDA5NDArPjAmND4rQzlIMD4rN0gmPis5OUMwOT5DPitDNCswQys+Pjw0NDkwKyY5PDAmMEgwJjQ5SDA+OTQ0K1I0ND4wOTAwPj4+OSs+Kys5PjRSNDQwK1IrPj4+JiYrKzQ0MDA+SD4+MDQwPj4+JismPiswKys5Kz45KyYmOTAmPjQ5ND4yMiY+OT45MjAwMD4+Kz45PismPiY+Kzk+OSsrJis5QzAmNDAwNCYrMDk0JkM5JjBDJkM5MDA+MCs0Qz4mOT4+JitDKzQ+Pjk8PkMyUkMrPiYyQzk0ND4+JjAmJjQmOSYwPis5UjA+OSYwMDw5JitDJis5NDkmJkMrND45Pjk+KzA5PlIrOTkmMDkwJj4wPis5PjQyJiYrOTArUj4+OSY3PiswOSsrKz4rQ1IwOT4wPiswMDkwPj4mPj40PjQ0NEg5MDQ5KzAmOTkwPjA+QzBINDlIOUg0JjA0JiYwOTAwOTArNEgrND45OTcmOTA5JjArJj4mOTArJis+SEg+OTkwJj4mKyYmMDw0MDkmND4wOSs5MDA5OTwwOSY+PjwwMDcwOSs0QzArMDQ5KzA+NDk+Kzk+Kys5PiYmNDwmPjkmMDAmMCYmMD40NDQ0PjA5KyY5NDAwNDk+UiY0NDRSOTA5MCs0OTA3NDQwMDk+MCY0MDRDMDA5PiY+JlIrJj40MCY5NDQ+PiYrKzArMDArPjkwJjA+Pj4wPjA+OTc5MDQ8NCs0MDw8Pjk0OTA0JjAmQzAwPiY+Kz4wKz4mOTA0PiY+NDkyOSYrJjQ5JiY0Kzw+Jis5MDQ5MDcwKzA0NDAwJjAmOTkmNDAmMCY5PCY+Pis+NCs+MDQrOTAwMDkwMCswSENDOTAwUjA5NCY5NDAwKyY5KzRDNCsyMDArPjA+Jjk+MCYrKz40UjkwJkM0MCY+Pis5Kz40MDAwOTArMCtDOUM5QzkmOUMwJjArOTA3OUg+KyYmK1I5MCs+MDA0NCs0Jj4wKzQ+PjkmPiY+KyYwNDRDKyY5PjkmKz4+SD4wOT45PjA+Mj4wPjArKys0Pj4+Kz5DKytDMEg+MDkrKyswJj4rJj45OTA+OTArNDA5MD45OTk5Pj4mMDQrMDQ0JkM+MCs8OSs+JjA+OTQ5QzAwJjAmPj4rMCs5PkM0OSs0OSYrMDwmJjk0MDQwKyY0PlImMDRDNDQmKzBDPEMwOTkrMDk+MDArPiY5MD4rPlI+UjBIMEgwNEgrPiYmPjk+PiYmSDQwPjA0Pj4wJjImOTk+PiY+UkM0OUMmOTA+OTAmJkErOTQ8KzkwKzA+JjAmJjQmJj5IPjkrNDQyOT4rUjk5NDAwNCYmPjQ+OTk5Pj4wSCZDPEMwMD4wNDArJjA0Kz40MDA5Jj4rMDAwMDQ5MDc+OTBDJj4wMD4rPjBSOSswMDkmOT5DNDkmNCYrOTAwMCswKz45MDA5NDA+OTAwNFIwNzQwQzAwNCYmUjk+Mjk5MDk0Pis5MCYmPjI+OUg+MD45NCs5MDQ+KzQwQ1ImMDkwNDkwOSZDOTc5MD4wJj4wQzk0NCYmOTArKz45MCY+OSs5PjA0QytDOT40Jis5SD40ND4+KysyOTk+Kz4rKzkwND4mKzA+MEE0MDQwKz4rMDA5Pis+JlIwPlImMDA5PjBIMCY5PlI+K0g0JlImOTkwMCYmNDkrPjA+QzQ5MD5IJjAmMDwrKzAmND4mPkM+JjlIJkM+NCY0MD4wMCtIOTBSQT4rPEg5ND45OT45Jj4wMDQmNDkrQyZIK0M+OT4wPjA5OTkwMDkrMEM0QysmNDk5NDAmMDk+PjQwMCswKzk+Nzk5OStDMDA0NDA5NCY5OT4wQ0M5NDQ0JjA0PiYwMFI3KzQ5Kys+KzkmOTQ+KzRISEMmPjQrMDAwJjA+Kz4wPkM+MDAwJj5SNzAmUjk+Pj4+PjIwOTQ0Pis0JiYwUiYwSDQ+OTA0OTBSOTk0OUgmPj4mPjA5OTQmNDA0MkM0KyY5K0MwQzw3MDkmPiswMCswMCYrSDk5MDAmMDArNDk+NCs5KysrJjQ5JjAyOSY5KytDJjAwKz4wPjxDNDA5Pj5DOUMwTUgwNDcmOT4+MCsrNDkmMDQrOSYmOSY8QzJDPjAmMCs0MD4wSEhSPj40Kz4wPj43JjQmOTQmOVJDJiYwJj4+KzA+MDwwQzkmOSswKzBDMDAwMCswJjAwQyY5MCsrQ0g+OT5DJjAwQTQmJis5MCsmMD4+MCY+OTAwJj40JiY+OTk5K0g5PiY5Jj4mPjQ+MCsrJjA5Qz45MD4mMD4rKzA5ND4wNzk+Jis0NCtSNDAmPiswMDQ0NDQ0NDRSND4rJjkrKzA5JjQyMDAmPD4wOT45JkM5PjkrPj4rPjQmPjQwNDQ5OTA5JismOTwrJiY5MD4+PjA0MDQ0NCs5MDArQzA5OTk+NDA+NDQ5KzQ0NDArKzA5Jj4wNCY5OTAmQzk5NDQ3PiY+Pj5DJis8OT4wMEM+PkMmJjk5MFJBPiswNDA+OTA5PDk+JjArNysmPjcrMDQ+KzQ0MDk+MDkrQzlDOT4rKzk+OUNSPjQ8KzAwOT4rMDk+MjQ5MD40MD45Uis5MCs+KzAwUiswJjA+JjkwJjk0TSYmOStDOT4wJiYrSCYmJjAmJismPjQwMD4rNDA0MDIwMCYmPjkmSDk+KyY5NDAwJiYmMD4+MDRDOSYmPjQmKzAmJj5DKzA+MDArOT5SKz4+MDAwJj40KzQwNDkmPiYwNDkwMDQ5KzArNDkwOT45KysmPjA+OTA0Kys+JjQ5PDArMEMwQzIwJj4wPisrPlI0JjkwMEMwPj4+OTk0OSs+SD5DKzk+MD4+OTArSDkwMDkrND40K0M5OTRDOTA5MDQ5JkM+Kys5Pis0JjAwQyY5ND4rPjArMCYwMDAwJiYmOSs8NDcmKz4+MDA+OSYmPj4+KyZDQ0g+KzwwKzkwKyY+MD40KzAwNDArNDk5KyYwMDBIMCY5OT4mQzQrMDA0PjAmOTA+OT48PismMDk5PjQ+Pj4mJis0OSsmSDkwNDQ5NDkwKzQmMD4wKzQ3Pjw+Kz4+PiY5QzQrNzAwMDkrKyYmMCY5Nz40MDQ0PjQwNDBIMCYwMCY5MCY0KzA0Kz4mNCswPjlDOSs+JjArOT4mPkg+Jis5OSs5MjA5KyYwPjkmMDkwPjlSNzQwMCs8MDk+Pj40KyYwMDArQ1JDMD40NCY+NDQ+NCs+MDQ5QzQ+Qz40OTQrMj4mNDkrOSY0OSY5QyY5PjArND4mKzk5MD4mND4+NDA+PjQwKzArPismPjQwPj45JjBDKzA0MD43JjA0MDArPjQ0K0hSNDAmNCsrKzA0Kz40PkM5PiYrKyY+MD4wPDAwOTQmMjQ0JiYmPj4wQz4+OSsrPjQ+PDQmOTcwOTArKzk0PiY+OTBDMDQ+PD4+PiY5KzkwPjQmOTAwOT4wOT45Uj4rOUE+OUMwPjA+Qzc+PismOTA5JiY5PDA+QzQ+Kzw+NDA0NDk0Pj48PiYwJjk0MDk+JjA5PjkyOSs5PjAwNzA0MD4+Pjk5MDQ5Mjk5Kzk5MDQwMD4wJitISDQ5PiYwKys0Jis5OTArMCYmUjArMCswUjlIPDk0MDQ+KzkmMEg+KzlDJkg+Pjk0MEgwKz4+QyY+OTQ+MDkwOTArPCYrPjk+MDQ+NDk+MDkmQz4mMEMyMDQ+PjQwPjA+NDAwMDk+MDQ+OTBIMDw0JiYrNDk5MDQrUjQwKzA3PjA5MCY0NzQ5QyswNDcrKyY+UjQrOTQ+PiYwSDk5KzA5PjkmNDkmNDA0JiY+PiYwNDkwKzc+ND45MD4mPj43PiY0ND40PiYwK0M0PjQmOT4+KzcmKzk3OTwmKzkwPjk5Kz40KzQrNDkySD4wKzAwPjAwNDQ+JjA5NCs+KyY5Jis3PjA0MD43PismOSs0NEM5MDkmQys+OUg0PjQ0K0ErPjk+QzQrPCsmNDkmPjQmSD4+NCs+NDQ+JjQmPjk5OTQmNDQwQSsmJjwrJjQ+KzA0JjQ+Pjc+Jis+JjA5MDA0Pkg+QzwmJj4rSCY+MCs0PjA0MD4rPkM0PiYwKzAwJjRDOTk8KzA3JiYmJjAwPjRBJitBPj40JjwrJjk+OSY+PDkmOTk5PkgwKzQwOT45MDQwMEgmKzRDKzkmPjQ5KzA0OTA+Jjk+Jj4wMCYwNDw+PitIMD4wPis0Qys+KzQ3MDI0MDlDQyZDNCswND4+NCs+MDw5Pis+Pj5SJjA+OT5DMD45QSYwMCsrOTk5OSsmPjBINDkrOUg5Pis0OTkmK0E0PjA5NDkmKzwmPjlIJjRDPjBBK0M0MDArKysyMCY5PjA+SFImJjlDQzA+KzIyKyYwPjArOUM+MCY5KzA+OTkmNDkwMDk+MCsrPiYrPiY+PjQ5JkM8OTQmNCswOTRINDRSJjImNDk0OT4+OSYrMCtDMCtSKzAmOVI+ND45MD5DND5DPkMwNCsmUjRDJiY5UitDND4rMDcmMDkrNDA0MD4+OSs0PjA5NCYrPiYyMDlNPj4wJisrOVIrMDQ+PjA+PD4rND4rOTAwJjQ+MFIwUjkmND5SPiYrMEM0OSYmKzA5Kzk3Pjk5PiY8MDA0JjAmKz4mMDA0NzkwOTA+OTBISD5DJiswNDkrKzkrOUE5OSswNEg5MCYrMD4wMjAwNDA0MCYwMDRIMDAwNDAmMDA+MDk+MD4rJjkwOUE5SCs8OSs+Pj5IPDA0KzcwJj4wMEEwQys5MDdDMEMwJjlIKz45OTQwMDw0Q0M5JjA+JisrPkgrJkM0NCs+OSY0JjQ0Pkg0Qz4wNDA+MDk5QTA+OT4rOTkwJiYrPkMyNDA+Jis8KyYmOTAwKz4wKysyJiYmOT45KyY5Qz4+JjAwMDQ8MD4rOUgmSEg5Pj4+PDk0NyswMDkmOTA5MDk+MDA+Pis5JjkwNDIyMCsrKz4rOSYwOUg5KzQ5UjA5JjcrJjA+MD4wMCY0JjA+MDkmSCs+JkgmUitINDRDOT4rJj4wOTw5Pjk5OTk0Kz45Jj40Uj5SMD40MD4rOUgwMCs8KzcwOSYwSD4rKysmJjAmMCY+PjkmSCsrOT40PjAwND5IPjAmQzk5NDk8Kys5JiY5PjA0KyY+JisrKysrPjA+PiswPjwrNDkmSD4wUj5DNDA+OUM+Jjk+K0M8JjA+UjQrQzIrJj4+NDw5MCs8Kz4+PjQrPjkrPjAwPj45MCsmMjlSOTQ0PjA+NzQwMD4+Kzk+KzAmOTw5PjBDJjAwK0MwKyYrOTBDK0MmPisyOSY0NFIwPiY+PCYrQzk8NCYwJis8PDcwUjAmMFI0NCY+KzA+Kz4+PjlDJjAwOTkwKzA3NCsrKzw0Pis5MDxNPjkrUkg5OTk3MD4+NDkwJiY+KyYmQyY+NCsrMDk5PjQ0JisrJjAwPjk0PjQyMDAmMCtSOSsmKzBDPis0UjkmOT5SPj48MDkwKz40KzQ+Kz4wKz4wMCZSPDlDPitDPjkwQys+MDk5Kys5KzA+KyY5Jj40MDQrOSs+OTkwKzRSOSY0Kz4+SDQwKzArQyY+KzA+OSY+ND45JjkmPj4wPj4+PjQwMDAwPj4rOTlDOTBIPkM5ND40MDkwQ0MmPitDJj5DJj4wNDQ+MCYwMDA0SDQwPj4rND4rOT4wQT40MDRIOSY5ND4wPjwwMCs5NDA0PjAyQz4mKzArMDArMDQrPjRDMDA5OTIwOTk+PisrKzBIOTQmSDAwJjAwKzAwOSsmMCs5MD45MCYrPjBDPjArPisrMiYwJiY8KzA0PjQ0MDkwOTkrNCYrKyYmMD40OSs0PjA+KzArQ0MmMDBSPis0PismMDRDNDAwKyYwPjA3JlIrPiY0Jj4rQzkwOTkmNCswJjJINCY0Pjk5PjArUisyJjwwNzQrNDA0NDkmPkhIMDQwNDAwUjk+Jis+PkMmNDQwMCY+PDlSJkMrJjA0PjcmMCYrPj4rND4rMCYwKyYrMDQ0NDk5QzA+JjQmMEg+MCYmKzk+PjA+PiY3OTk0MCswUjQmPis5KzAwPj5BMDQ5MDRDMFI0MDkmJjArSDkmOSs+Pj40TTAmMDQwMD4wND4rKzkmQzAmOSsrMDArMCY+Pjk+PjA+OTkwOTQ+Pj4mMD45NCY5MDQ+NCsmQzkmMDQrKys+ND4+MD40JjA0PjAmQzkrPjA5OTkwNCY5MCYrPjAmKzdSJjkwJisrMDQwOTA0Jj5DMCYwPiswMDQ+MD45ND45OSsrJjQrJismOUM+MD45PjAwPjAmMDAmPEgwPitINCY5MDArOUNSMCZDND45OSY0Q0MrMDkrOT4wPjA8JjcrPDBSQzBSOTk5Kzk5Kz4rPis0JjAmPjQ0JjA+PjAmOTA5Pis+OT5SOTk5Pjk+PCYwKzQwPjA5PCswOTArPjAwQyY0PjwwKz45PiYrJj45MCsrUkMmMDQ+JiswPj4+QyY0Uis5KzwwQ1I5PCYmUjQ5OSswPiYwKys0KzAmMFI+Nz4wPjQ0KzkrMDRDPj40OSYmJisrMDAwOT4+MDQmQTkrJjkwMDQmSDAwKz4wJis5JiswNCYmNDBSMD45MDk0K0M0SDk5PjAwOTkrPjwrQ0MmMDkrMD4mND4rKyswND45KzQ+MDlIPkM+PDQ0Jj4wPjAwQys+Pj4+PjBDK00wKzA+NzA0OT45NDk0ND4+UiYwMDwwOT4wOTA5OSYwMDk0MD45Pjk+UjA5JiYrJjkwPis0MDA0OTQwPiY+MD5DJiZSPlIrKzA0KzkwUjk0MCYrMDk5QyswMCYmKz4rJismOTQwJjkmNCYrOTArOTkrK0gmNCswPjA5OSs3JisrPjQ+Qz4wNDQ+MDA0KzAmNCs0OTQ+MismQzwrJisrUj4+SDw+MDwwJjQ0OSYwJjAmJismOTQmKzkmKyY5JjQwPjA0PDkmMDAwMFIrPjA5Mjk+MD4rMCYwPis+MD4+MEgmMD4mMCsmNDwrPjAwKz4+QzA+PjA5JkMwPjQwPjQ+PjAwPjQ8ND4mMFIrMDRSKzkrSDBIMjk5MD40JjA5Pj4rNDQ+MDk0ND4+Jj5SMDA0Qz40OTk+SCs0MiYwKyY0NDkrPiYmKytIKzQ+MDk+PjAwNEgmJjA5JjA0JjA+PjArOTwrPiYmJj45JkMwMD4wOSsmNDQmPjlINDkmOSs0Jj4wNDArMj4+PjArOTQ0MCYwMj45NCsmOUM+ND4+MDAwPj4mMCs+MDA5ND4rJj4wMDkmMDc5Pis+OTAwPj4mPj40JjA+ND4mOTk0JisrMD4mOSY5PjQ+MCY+OT4wPj4+MDkwJis+JkgrNCY5PkM+OTk0QzkwJjw+NCsrNyswNDkwMCsrOT4+ND4rOSY+UisrNCYwPjA3UjRDKzlIMDAwOUgrNDI+MD40PDk+ND45OTdDJis5KzQwJjQmJiYmQzAmJjc5MEMrMCs0MEMmSCY+ND40Pj4mJkM+Pjk5KzkwMDk5MD4yK1IrJiYwKzAwKz45OTk5OVIwPj4mNDkwSEM+MCswTT4+KzRDJj4mNCswJjA5OTkmNDQ0MDcmQz40Q0MmMDQ+NEgwKzw0Jkg+SDwmMCs8PiY5OTw+MDdSPjwrPjkrKzArOT4rNDlDQyYwOVImMCZINDk+Kz43OT4mKzw5QTAmMDA+MDA0Pj4rMDBINDk+Jjk+Q0M0PjQ+KzkrOSswOTBIJjQrNCY+JjA0OT4yMCY+QzArMDw0MCs0KzImMCswJjkwPiY5ND4+SCs0PitIPiYwPjkwSFIwKzA5JiYwQzAwKyY+K1JDKzk3QzkwOTlDMDkrOSs5PiY+Mjk+OTArNCtDNCs5NDBDNDc5PDw+NCYrJjA5Jis5KyZDMDw5PjA3NEMmMCs+PiYmJjA+OTAwSD4wMDkrMDk+MDAmPj5IJj5IMD4+OSswKzA8K0MrPDBSNCs+Jis0JkMrPjAwND45JjAmMDQ0PjAmJjArMCY+PkM+PjAwOUMwOSswOVI+Pj4rMDRDOUNIOTc+OSY0OTQyOT4wPis5NCs0KzlDMCYwOSYwJismOTA0NDA5MD4rUjkrMCs8PjQrOT4mMDc5Pis0MjA5Kys+UiY0OSs+OT4rKz4wMD5BNEMwMCYmND4+KzArJiYwKz45PiYwNDArOSYwMDA+OSsrKzQ5MjAwNDA+MD4mKzlIMCYmND4mPjA5PjlDMDA8MDwwKzk3NDA+KzA0MD40PkM5MDkwKz4+MDk5MCY+Qz40PjQmMD4wMis5MDkrJjQwMDQwPkMrOT4+Jjk5MjQ+SCYrMEMwJjkrQzBSPjkmKzk+SCY5OTw0OSYwNCs0PiswKzc5MCY5JjQwNDQrMDAmKytSMDAwJis+Mj5DPjkrMis0MCY5OTAwKzRSMCsmJjA+Jj4+Jj5SNCsrJiswPjAwJjBDKzA5OTA+Qz4rOTkmOT4+OT4wJiYmQysmJj45NENDOTBDMCY8JjArPDBDKys+PisrPCY+K0g+JjAwKz48MCYmJiY+KyY5Pj4wMCYrJjc0PiY5PjkwNEgwUkMwJjA5JjQ8Kz4+KzRDMDQ3OSY+OSsrPjBIMCtIJjk0NDAwOTc+NCZSMDA0OTQrKysmNCY+Ujk+OTRDMDA0NCs+MDkwMDQwNCsrJlI0ND4+Jkg+MCYrMDkmKys5OTQ+ND4+OVIwOTkmPj4wND4+PjlIQzRDJjQ+MD4+JiswNDQwPjkrOUg+PjQwKyZIMDk5Pj4rMD4wJjQwMEhDJj4rSD4mMDc+MDk0KyY0Jjk+PjAwQTArMEMwQzkmTSY+MCswJkM5OSs8PisrKys+JjArMCYwMCs5Pj40Pjk0Kz45OUNDKzk0Jj4wJkg5PkNDMCY0Jjk+KzQ+MFI5SDAwPjQ+PiYmOT4mMD4wKyY+PiswOTk8JjBDPj4wPjkmMDArMjkrQz4wOTAyJiswPis0MCs0Ujk0PjQmMEE5JjA+OTk0Jis+PjArNzRDPj40OTAwUlI0Jj4wJj4wMDQwMCs0OTlDNDkwJj4wOUgmMDkrJjA5PjQwUjA5MisrNCY5NCswND4wJjk0OTAmJj4+OTA+NDk0Kz5DPj4+OTkmNDA0ND45SDQ+Mjk+Uj5IPkg0PDQwJj4wJismMCY+PiYwKysrJjQ+SDArOSYmJjArMDkwQzA5MDRIKzw0KyY0KzkrPkMwMCs0PDA8UiY+Qzk5MDk+NDkwPjdDPiYwOSs5KyYwNDQ0NCs5KzkrUiY+UiYrPjk0OT5SOT4rPkMwMD45MFImMDAwMCswKzc5OTA+JiYwNDc+OTQ+NEMwOTA+PjQ+QyYwPis5PDBSSCYmMDk+MDA5MDk0MDkwJjBDQSs5MismUis+Jkg+Pj4mMDkrPj45MDQmJjk+PiY+QzArMCYmKzkrPjAmQzArMFI+JiYwOT4wMDQ0KyYwOTkrOUg0Pjk0KzA0JjkmSDQwOTQ+OT45MCsmPjc+MDkyOUMrKyY8NzQ+JjkrOTA5OTk+PiYmJjArNEEmKyY+KyY5MCYwKys5PjBDKys0OT4+UjA+SCZSPjA+NDA5ND45MDk+UiY5Qz4+K1IrMCZSJis+Kz5DMDdDPj40QzA0NDk8MD4wKzkmMDQ+PjRDPj4rKzAyOTA+Pj4rOTBDJjA+OVJIPjQmPDAmMDw+NDAwMD4wOT45KzAwQyY5MEgwPlIwKzk+MD5DQSY0PjAwQzRDPj45KzAwPj4wKytSMD40OSsrJj40Pis5Jjw5NDQ5MD40UjQ+NDkrMEM+MDAmPDQrPj40OTw0MDQ0Kz43PjArJkgmKzA+MCYwNDAmKyYmND4yMDlDNCY5NCs+OSswJjQrNCY5JiY8MCs0JjkmNCYrPjJSMFIwPjA+UjAwMDA5KytSNDQrND4mPiY+NCYwSDA+MDI+JjkrNzIrOT45MD40NCs0NyZDPjArMD4mPjRDJjkmOT4wOT48MCs+JjAwMCs5JkM5MDAmNCY0NDQ0KyYrJis8MDQ5MCYmPjAwPjQyPjQmJismNDw5MDA+PkMrPj4mSFI+SDAmKzAwKyZBMDAmOTAmPjQrMFI+PjkwPjAwNDk5OSsrJj43Jjk+MDQwPjBSOTA5Pjk+PjQwJj48NCY0KyZSNCZIJjkmNzQ+KzAwJjA5PjwwJjA0NCY5OSYwKyYmOSswNDAmPjkmPj4+MCZDMD40Kzk+Jis0MCsmMDQrPjArKzlDMD4rMCY+Mj43PkM+NDk5Pj40MEM+PjArJiYwNDlNMDw+QyYmQz4+MDkwOTA+MDQrNDkmOTk5Jj4wUlIrOT4+PjArOTBIJjA0PjQwJjkwSCsrNCswMDA+OTQ0PjkwPDArKyYwJjkrKzw5KzQmNDk5KyYmKz45MCY+NDA0MDA+QzQwQTBDKyY5MCYwMDQrQz4wMCYrJjQwKyswKzw0ND4+NDkwKysmPiYwOTkwPj4+JjlDPjAwMCYmOTAwPjkrPD4+PiY0SDAmOT5DJj45OTQwQys5MCs+PjQ0Nys0MjArJiY+Jj4wOTk0K0hNNCs0QysrUjAwMDk5OTk8Kz4+OT4+PjQyMCswJiY+MDwmKyswJjk5OSs0Kys0QzA+PkEwKzk5Kz40OTkwMCYrOTA+Jj43MFI5MD4+UjdDOUEwPD5SMDA0OTw0UjQ+PjA0NFI5MDQmKzcwNCY5NCs+MD4+MDk0OTk0MEMrKz45UjA8Kz4wNCYwPj4mJiZDK0MrMEMrMDk5NDArMD4+NyZIMEE+OTQ0PiYwJitSKzQ3Pj45KzQ0NCs+PiYyMD4wOTAwMD4wOT4mQUM5ND4wJis+OSY5MD4mNDQwOTAwPismNDQwOTkrJismJjA5MD4wJj4rMCs+MD4wPCYmJj40ND45KyZIMD45Kz4rQzQ8UjQ5Mkg+PkM+K0MmPis5OTArNDA+KzQmMD5DOTArOTA5JjAwMDk+OSYrNCs+QzA+JiY0NDQ5Kys5JkM5PlIwMDA+JiY+JjA0NDkrPjQ5PCs0MCYrPjQ0PjAwMEM8PDk+SD4mPiY0OT4mQ0MmPD4+MDQrPitSMDAwMDAmJisrNFI+Kys8MDQwNDAwNDk0Jis8NDAmKzlDOT4wOTc0MD45MCswKzQmNDkmNDkwNCtSPjI0PjQ+OTQmPjAwSDAyJjA0MDkrMFI+PiYrPjQ5PjArPis+Kz4+MD4mKz45MDA8NCY0Qz45OTA+OT4rOTk+QzAmMjA+NDA5MCY0OTA3Kz40KzA0ND4rOTQwMD4rOTQ5MDBSJjA5Q1ImNEg0QyswMCZDKyY5MCtDPDQ0PkgwOTk8MD4rPis0SCsmNzA0PjAmJiYwJjQ5MDkmNCsmMDQ0PjAmKzw0KzA+PjlSPis5MDkwOTQwMD5SOSswNDArQzRDPjcwPiZDNzAmOSsmNCYwKzAmJjk5QTA+MDArPj4+JisrKyY+MjQmMDcwQys5Jj4rOSZDMDQrKzAwMDQmN1I+PjQ3MDk+PjA+Jis+Kzc3MCswPjArOTA5OTk+UjA+QyswJj4wPjAmNDcmMDk8MDQ5PiY0PjAwKzRSJjk0Kz5SMCs+Qzw5PCYwOTArKz45KyZISDA0MCtDMDA+MDc+OTA+PjA+OSYmPj4wQysmNCYwOTAwOTk0OUMwOTQwMCYwKzQwMDArPjkwSCZDPj40NzImNDk5PiY0NzRDMD4yPj4wMD4wNCswSCs+Jis+OT4rPiY0PisrMD4mJj4wOT43OTQwNz45Uj4rMD45JjkwMCY+Kz43PjAwJjA+OSsrJkM5OSYwMDkrKzA0JjA+JkgyMCYyOSY+MiYwMCsmPismMDArJiY+OSsmQyY0OTA0PiY0QzArPjk+MDQmPiZDJis+Kz4wKys0KysrMEMrMDAmMDkwUjAmPj5DNDAwJj4wPj40Mis5MDA0MCsrMEMwKzBDKzk+MDk0PiYwND45JjQ5OTwrPiY5PDBDJiY+KzQ5MCZBPiY0PjwmOTA5KzA8ND4+KysrJjQ5PjA+MCswMDQ+MjAwPis0MDAwKzlDNCs5OTQrMD4rQTAwUiYmJismQys8OTQ+PjkrPiYwPj4rPj45KzQ5NDQrPjAwNDkrMD4+JiY+OTk5MDQ+Kys+NCs+Ujk+KzBDJjk5PDAmKzkwMCY+JjkwNDAwND4mMD4+MDc0PjA0KytIPiYwNzQmQys5MD40OTwrJiYwQzQwPjBNMDAwKzQwNCs0NCYwKzRSPjQ5KzwwPjQ+JjBDJkM0SDBIPiYwPjk5JjQ5ND4rPj40NyYwNDQ5QzQmJjk0UiswOSsmNDkrMCYmNCs0OTQmJjA+NCY0MCs0MCYwQzA5QzA5TT40PiZDQzQrJjAmJj45Pj45UlImOTc+KzQwMDk+Pj4wPkhDMEhDQzcrPiY0Kz4wPj4wNCYrNCs+MDw+MDk3PjA+MDA+Nz4+NyY5PCY0NDkwOTAwJjk5JjkrMEg5OT4wMD4mPj4+MCZDPj4mKz4mPjk0MDAmJj4wOTw+MCs+Jj45KzBSJiswMDwwPDA+PDkrOTkwJjAmPkgmNDkrQT45MCswUjk5PDA0JiY5JjkrPiYmUiYrJjQ+MEMwPj40KyY5MD4wMEMmSD4+KzA+PkMmNDkrOTkwOT4rOSYmPjAwOT5DMDAwPj4+NCswNDc5KzQrPjQmJlIwPkM0Pkg+KyY0JjA0OUM3SCs0PiYrQyYrMEM+Qys3NDkwJj40JjAyNDA+Jj4rMCYwMDArMDA+NDAmPj48Pjk+NDkwMCYrNEMrMFIrUjAwNzAwOTkmPiYmK0M0OTAwOTArJj4rUj4wPjAwMD4+Jj5IMCsrPDArQzwrOT4+Jis5Jis0MDkwMDAmOTk+PiYmPjQ5JjkwKytSJj4rMCY+Nz4rQzQrJiY5ND4rPjArNCZDJkM8OSswJjk5Pis+JjkrMEMwOT4+Uj4mJjkmND4mKyY5NCY0NCswPjA8Pjk0ND4+Pjk5SD40Kz4wMCY5OUMrOTA+PjQ5NFIrOTQmNzkwQzArPjQrMD45MDk5MDQrKzlNKzkrPjAwNDA+KzQ0NDkrOT4wJj45PiYmOTQrKzQ0OSswJj4+Jj5SND4rMDk+Pjk5MDRDMEM+Nys0SD5SMDw+PiY+Jis8MCYmUisrJiY8OTAmJjkmMCY+JitNNDwmKzA+KzQ+KyYmMDkmMD5IJjA+MDBBMDA5NCs+K0gmOTA+OSY5Pj5DOStIPjAyPjAmOUg0MDlDSD4wKzAwND5DKys+PDBDPlJSPjBIPjBIQ0M5OT4+MDA0MCswNzk5Pjk5Pjk+PD4wOTA0Pis0MDQwND4+MD4rJkM0MCs5KzQwQyYrMDQ+MCY+NE0+JjlIMDAmNDkwKyYrJiY5MCY5OTQ+PkMyKzk5Pjw0PjkwQTA0K0M0QzA0OTk+MDkyJjA0JjQ+Jjk+OTkwKzAmKz4+Jjk+KzA0Uj40QSY0Kys+MCY+MD45QzA+OTArOSs+NDA+PjAmMCs0Pkg0ND4wQyYmJiY+PismPjA0PCs+MDkmMCsrPjAmOTQmMD4wQ0g+MDA+Kz4wMDAwMD45JjA5PjAwOTQ8PjAwMD4+OTAwMEMwSDlIPj5NMDk+Pj4+PjwrOTQ0Jis+OTRSJj40JitIMD4wMjAwPjQ5MDcrMDwmJjA+MD5DKzAwPlI5PlIwQzA5MDkwNDkrJkM0JiZSJis0MDlSJj4+JjA+MDQrKz40OU0wOTA5MDkrQzA5MjQwPD4rOTQ5QzA5NCs8PjkwNDA+MD4wKysmMDAwOTk3MDArJj4rKzk0MDkyOTArND45OTQ5PjArOUMrMD45PjA0MDk5JjI5NCs+Pjk5PkM+PjkmKyYmQz45Pjk5JitDMDAmKzk0MCswPjAmJjA+OSsmKzA5PlIwNDkwPjkwJjAwOTcrOUMwOTA0MDQrKzBDPjA0KzRBPjAwPj40QTBBND40MEM0NDAwQz4mOTkmNDQmPlIwNzQ0QSYwMDAwNDAwNEM0MCY0Jis0OT4wKyYwOTA+SCtDOVI+PjAwJkg0MEMwOUM5JkMrJjwrQzk+NDkwND5SMCs5KzJDMCsrJjQwPjRDNDIrNFJDPD5SMCs5OSY+MCYwMD4+PjArMD4wKz4+PjQ+MEgrPj4+Kzk+OTA0NEMwJjkmOTA+MEMwMDBSJjBIOTk5OTQ+MD45MD4wPjk+ND5NKyYwOTAwJjAmPj45MDArK1I5Kys+PjcwKzA+MCs0JismMD4rQys+MD4+MDArPiswUiYrKyY5MCswKys0QzkrUjcrMCYwJj4rJiY+Kz45MDk+JjAmND4mOTArMDQ0KzQwPiYrPjQ0PiYrJjkwMCYwQz4wMCsmMD40NDAmOSY+JjRBMCs0Kzw5Jkg+JiYwOT4wJjA5KyYmOSY5OSsrJjA+PjAwPj40PjIrQzk+NCYmPjwrPkhISDwmPjA0MDArPismJkg5JjArMDA0OT45MDAwK0M+PjlIJjAmMCY0Jj4wTUg0PjkwJkM8ND4+Pis+MCs0JjkrOTArOTRBPjw+MCY+JiswSD4rJj4rUj4rOSY5Kz4+MCtDMD4+OT4wOSsrKytIMCYwNCtSKyY+ND4wOTwrOTA+OT4wPjkmNDA+Pjk+NCs+UiYwK0MmMDQwOTRBMDA+MCtSMCYmMCZDOSY0KzA3MCYrMEMwOT45MDAmPjQwMFIwMCswQyY+MDI5PDk5JiY5Kz5DPjArK0M+NDQwNCs5PjxDOTk+MjA+Jis0Q0MwSCYwMCY0PiswKysrOSs+OT4mKys+QyYmMD4+SDAmOTA+UjIrSEM5OTAwPj4wPjlNUiswMDA0MkM0K0NIJis+Pis0MD4wPjk0JjAmJj45JiYwMiYmK0gmMCsrKzAmK1I5PjkwMDArNCY+PDRIJj45NDA5Jis+PjQwSD40MCYwOSY3KzA5OTAmPDkwOTkwOSsrMDkrJjlDSDkwNzk5NEMmOTBSPkg+MCs3OTAwPjA+Kz4+UitDKysmKzAwMCswKzk+JiswKzAwJjc5MDIwPD5DPis8KyY5JjA5MD4wMDI0MCY5SCY0PkMmQzk+OTAmJjlDOTArNDQmJjkmPjk0OUhSJjk0KyswNCYmKzBIJkE5KysmPlIrUiYmPDAmJj4mPjAmMDkwJjQmND4+OSZIJiswPkMmPiY+PjkmNCYmMDQmK1IrJkg0Kz40OTcwNCYwJiY3MD4rMD45MDI+KytNMDkmPjBSNDAwKyYmMDA5MEMrKz45Q0g5PiYrQz4wNCY+OTBDNDA0NDk5Pjw5QzAmSCYwMD4wPjA5JiswOTkmQysrOT40PDkwOSs+PjQ5MDQwJismNDA0MCsmJjArMkM0NCs5JiY5KzAwNCZSKz4rNCYwMD4wPitSQyY+PDw+MCsmKz40MDA0MD5DJjA+NDAmPjQ0MDA5PiY+ND4wJjcwOT4wKysmPjIwMD4wQysrQzcwPlIrOSsrND40ND5DPkMrPD4rNDk5Qzk0MDAmPjArMCZDOSZINDk8MD4rJj4+OTQrMDQwUjQwMDQwNyY+NCY+MDlDJiYwNz4+Nz40MDAwOTwwNDQwKzQwPkgwPiY+MCs0NDQwOTA+JiY0NCswNys+MCYrPiY+OTQwPlI8MFIwQ0M0PiY5KzRDJjA+PCswJjQ+MD48JjQ5Jis5NEM5PjQ+SFIwKyY+NDk5MDQrKzBDJk0+NDQwMDRSPkM+UiZDNCtDNCs5OSs+Jj4+MDk+MEM0MDAmOT43NCsmJiswMEE5Qzk5JjAwJjQ+KyY0JjkwJjk8KzA5JjI5Kys0NDk5PjkmQzQ5KyYwOTk5JiswOT4mOTA5PjA0Pkg0Pis5QyY5OT4+JjA5MDlSNDQrKzAwPiYwJjkwQysrPj5DNDA5MDBDMDk+NCsrKzkrPis+KzQmKyYyPjkmND4wMDA0Pis5NDk0OTc0OTAwKz45MEMwOTBDNCYrQys+OSs0UjA5MCZSJj4+KzkwOSs+MDQ+TTA0NCYwMD4mK1I8OT4mNCZDNDkwMD4rOT40MFI5NDAwMD4rQyYrMDQrJiswPjBSPj4+JiY0JjBSOSsrKz48MDBDKzk0JjQ0Kzk+Pj4rMCY5SDk+OTcwQSs+MDArNCsmMCYwJjQ+OTA5OTQ0OTQ+JjIrMD40Pj45Pj4+ND4+QTk+MD5SKzAmMD45NCs+PjAwOTkmJjA0Q1I5OTA5OTk+PismNzcwMEM8OSY0OSY5NEM+PkgwPj4wQys3OTkrOUMwOQ==",
          "dtype": "i1"
         },
         "xaxis": "x",
         "yaxis": "y"
        }
       ],
       "layout": {
        "barmode": "relative",
        "legend": {
         "tracegroupgap": 0
        },
        "template": {
         "data": {
          "bar": [
           {
            "error_x": {
             "color": "#2a3f5f"
            },
            "error_y": {
             "color": "#2a3f5f"
            },
            "marker": {
             "line": {
              "color": "#E5ECF6",
              "width": 0.5
             },
             "pattern": {
              "fillmode": "overlay",
              "size": 10,
              "solidity": 0.2
             }
            },
            "type": "bar"
           }
          ],
          "barpolar": [
           {
            "marker": {
             "line": {
              "color": "#E5ECF6",
              "width": 0.5
             },
             "pattern": {
              "fillmode": "overlay",
              "size": 10,
              "solidity": 0.2
             }
            },
            "type": "barpolar"
           }
          ],
          "carpet": [
           {
            "aaxis": {
             "endlinecolor": "#2a3f5f",
             "gridcolor": "white",
             "linecolor": "white",
             "minorgridcolor": "white",
             "startlinecolor": "#2a3f5f"
            },
            "baxis": {
             "endlinecolor": "#2a3f5f",
             "gridcolor": "white",
             "linecolor": "white",
             "minorgridcolor": "white",
             "startlinecolor": "#2a3f5f"
            },
            "type": "carpet"
           }
          ],
          "choropleth": [
           {
            "colorbar": {
             "outlinewidth": 0,
             "ticks": ""
            },
            "type": "choropleth"
           }
          ],
          "contour": [
           {
            "colorbar": {
             "outlinewidth": 0,
             "ticks": ""
            },
            "colorscale": [
             [
              0,
              "#0d0887"
             ],
             [
              0.1111111111111111,
              "#46039f"
             ],
             [
              0.2222222222222222,
              "#7201a8"
             ],
             [
              0.3333333333333333,
              "#9c179e"
             ],
             [
              0.4444444444444444,
              "#bd3786"
             ],
             [
              0.5555555555555556,
              "#d8576b"
             ],
             [
              0.6666666666666666,
              "#ed7953"
             ],
             [
              0.7777777777777778,
              "#fb9f3a"
             ],
             [
              0.8888888888888888,
              "#fdca26"
             ],
             [
              1,
              "#f0f921"
             ]
            ],
            "type": "contour"
           }
          ],
          "contourcarpet": [
           {
            "colorbar": {
             "outlinewidth": 0,
             "ticks": ""
            },
            "type": "contourcarpet"
           }
          ],
          "heatmap": [
           {
            "colorbar": {
             "outlinewidth": 0,
             "ticks": ""
            },
            "colorscale": [
             [
              0,
              "#0d0887"
             ],
             [
              0.1111111111111111,
              "#46039f"
             ],
             [
              0.2222222222222222,
              "#7201a8"
             ],
             [
              0.3333333333333333,
              "#9c179e"
             ],
             [
              0.4444444444444444,
              "#bd3786"
             ],
             [
              0.5555555555555556,
              "#d8576b"
             ],
             [
              0.6666666666666666,
              "#ed7953"
             ],
             [
              0.7777777777777778,
              "#fb9f3a"
             ],
             [
              0.8888888888888888,
              "#fdca26"
             ],
             [
              1,
              "#f0f921"
             ]
            ],
            "type": "heatmap"
           }
          ],
          "histogram": [
           {
            "marker": {
             "pattern": {
              "fillmode": "overlay",
              "size": 10,
              "solidity": 0.2
             }
            },
            "type": "histogram"
           }
          ],
          "histogram2d": [
           {
            "colorbar": {
             "outlinewidth": 0,
             "ticks": ""
            },
            "colorscale": [
             [
              0,
              "#0d0887"
             ],
             [
              0.1111111111111111,
              "#46039f"
             ],
             [
              0.2222222222222222,
              "#7201a8"
             ],
             [
              0.3333333333333333,
              "#9c179e"
             ],
             [
              0.4444444444444444,
              "#bd3786"
             ],
             [
              0.5555555555555556,
              "#d8576b"
             ],
             [
              0.6666666666666666,
              "#ed7953"
             ],
             [
              0.7777777777777778,
              "#fb9f3a"
             ],
             [
              0.8888888888888888,
              "#fdca26"
             ],
             [
              1,
              "#f0f921"
             ]
            ],
            "type": "histogram2d"
           }
          ],
          "histogram2dcontour": [
           {
            "colorbar": {
             "outlinewidth": 0,
             "ticks": ""
            },
            "colorscale": [
             [
              0,
              "#0d0887"
             ],
             [
              0.1111111111111111,
              "#46039f"
             ],
             [
              0.2222222222222222,
              "#7201a8"
             ],
             [
              0.3333333333333333,
              "#9c179e"
             ],
             [
              0.4444444444444444,
              "#bd3786"
             ],
             [
              0.5555555555555556,
              "#d8576b"
             ],
             [
              0.6666666666666666,
              "#ed7953"
             ],
             [
              0.7777777777777778,
              "#fb9f3a"
             ],
             [
              0.8888888888888888,
              "#fdca26"
             ],
             [
              1,
              "#f0f921"
             ]
            ],
            "type": "histogram2dcontour"
           }
          ],
          "mesh3d": [
           {
            "colorbar": {
             "outlinewidth": 0,
             "ticks": ""
            },
            "type": "mesh3d"
           }
          ],
          "parcoords": [
           {
            "line": {
             "colorbar": {
              "outlinewidth": 0,
              "ticks": ""
             }
            },
            "type": "parcoords"
           }
          ],
          "pie": [
           {
            "automargin": true,
            "type": "pie"
           }
          ],
          "scatter": [
           {
            "fillpattern": {
             "fillmode": "overlay",
             "size": 10,
             "solidity": 0.2
            },
            "type": "scatter"
           }
          ],
          "scatter3d": [
           {
            "line": {
             "colorbar": {
              "outlinewidth": 0,
              "ticks": ""
             }
            },
            "marker": {
             "colorbar": {
              "outlinewidth": 0,
              "ticks": ""
             }
            },
            "type": "scatter3d"
           }
          ],
          "scattercarpet": [
           {
            "marker": {
             "colorbar": {
              "outlinewidth": 0,
              "ticks": ""
             }
            },
            "type": "scattercarpet"
           }
          ],
          "scattergeo": [
           {
            "marker": {
             "colorbar": {
              "outlinewidth": 0,
              "ticks": ""
             }
            },
            "type": "scattergeo"
           }
          ],
          "scattergl": [
           {
            "marker": {
             "colorbar": {
              "outlinewidth": 0,
              "ticks": ""
             }
            },
            "type": "scattergl"
           }
          ],
          "scattermap": [
           {
            "marker": {
             "colorbar": {
              "outlinewidth": 0,
              "ticks": ""
             }
            },
            "type": "scattermap"
           }
          ],
          "scattermapbox": [
           {
            "marker": {
             "colorbar": {
              "outlinewidth": 0,
              "ticks": ""
             }
            },
            "type": "scattermapbox"
           }
          ],
          "scatterpolar": [
           {
            "marker": {
             "colorbar": {
              "outlinewidth": 0,
              "ticks": ""
             }
            },
            "type": "scatterpolar"
           }
          ],
          "scatterpolargl": [
           {
            "marker": {
             "colorbar": {
              "outlinewidth": 0,
              "ticks": ""
             }
            },
            "type": "scatterpolargl"
           }
          ],
          "scatterternary": [
           {
            "marker": {
             "colorbar": {
              "outlinewidth": 0,
              "ticks": ""
             }
            },
            "type": "scatterternary"
           }
          ],
          "surface": [
           {
            "colorbar": {
             "outlinewidth": 0,
             "ticks": ""
            },
            "colorscale": [
             [
              0,
              "#0d0887"
             ],
             [
              0.1111111111111111,
              "#46039f"
             ],
             [
              0.2222222222222222,
              "#7201a8"
             ],
             [
              0.3333333333333333,
              "#9c179e"
             ],
             [
              0.4444444444444444,
              "#bd3786"
             ],
             [
              0.5555555555555556,
              "#d8576b"
             ],
             [
              0.6666666666666666,
              "#ed7953"
             ],
             [
              0.7777777777777778,
              "#fb9f3a"
             ],
             [
              0.8888888888888888,
              "#fdca26"
             ],
             [
              1,
              "#f0f921"
             ]
            ],
            "type": "surface"
           }
          ],
          "table": [
           {
            "cells": {
             "fill": {
              "color": "#EBF0F8"
             },
             "line": {
              "color": "white"
             }
            },
            "header": {
             "fill": {
              "color": "#C8D4E3"
             },
             "line": {
              "color": "white"
             }
            },
            "type": "table"
           }
          ]
         },
         "layout": {
          "annotationdefaults": {
           "arrowcolor": "#2a3f5f",
           "arrowhead": 0,
           "arrowwidth": 1
          },
          "autotypenumbers": "strict",
          "coloraxis": {
           "colorbar": {
            "outlinewidth": 0,
            "ticks": ""
           }
          },
          "colorscale": {
           "diverging": [
            [
             0,
             "#8e0152"
            ],
            [
             0.1,
             "#c51b7d"
            ],
            [
             0.2,
             "#de77ae"
            ],
            [
             0.3,
             "#f1b6da"
            ],
            [
             0.4,
             "#fde0ef"
            ],
            [
             0.5,
             "#f7f7f7"
            ],
            [
             0.6,
             "#e6f5d0"
            ],
            [
             0.7,
             "#b8e186"
            ],
            [
             0.8,
             "#7fbc41"
            ],
            [
             0.9,
             "#4d9221"
            ],
            [
             1,
             "#276419"
            ]
           ],
           "sequential": [
            [
             0,
             "#0d0887"
            ],
            [
             0.1111111111111111,
             "#46039f"
            ],
            [
             0.2222222222222222,
             "#7201a8"
            ],
            [
             0.3333333333333333,
             "#9c179e"
            ],
            [
             0.4444444444444444,
             "#bd3786"
            ],
            [
             0.5555555555555556,
             "#d8576b"
            ],
            [
             0.6666666666666666,
             "#ed7953"
            ],
            [
             0.7777777777777778,
             "#fb9f3a"
            ],
            [
             0.8888888888888888,
             "#fdca26"
            ],
            [
             1,
             "#f0f921"
            ]
           ],
           "sequentialminus": [
            [
             0,
             "#0d0887"
            ],
            [
             0.1111111111111111,
             "#46039f"
            ],
            [
             0.2222222222222222,
             "#7201a8"
            ],
            [
             0.3333333333333333,
             "#9c179e"
            ],
            [
             0.4444444444444444,
             "#bd3786"
            ],
            [
             0.5555555555555556,
             "#d8576b"
            ],
            [
             0.6666666666666666,
             "#ed7953"
            ],
            [
             0.7777777777777778,
             "#fb9f3a"
            ],
            [
             0.8888888888888888,
             "#fdca26"
            ],
            [
             1,
             "#f0f921"
            ]
           ]
          },
          "colorway": [
           "#636efa",
           "#EF553B",
           "#00cc96",
           "#ab63fa",
           "#FFA15A",
           "#19d3f3",
           "#FF6692",
           "#B6E880",
           "#FF97FF",
           "#FECB52"
          ],
          "font": {
           "color": "#2a3f5f"
          },
          "geo": {
           "bgcolor": "white",
           "lakecolor": "white",
           "landcolor": "#E5ECF6",
           "showlakes": true,
           "showland": true,
           "subunitcolor": "white"
          },
          "hoverlabel": {
           "align": "left"
          },
          "hovermode": "closest",
          "mapbox": {
           "style": "light"
          },
          "paper_bgcolor": "white",
          "plot_bgcolor": "#E5ECF6",
          "polar": {
           "angularaxis": {
            "gridcolor": "white",
            "linecolor": "white",
            "ticks": ""
           },
           "bgcolor": "#E5ECF6",
           "radialaxis": {
            "gridcolor": "white",
            "linecolor": "white",
            "ticks": ""
           }
          },
          "scene": {
           "xaxis": {
            "backgroundcolor": "#E5ECF6",
            "gridcolor": "white",
            "gridwidth": 2,
            "linecolor": "white",
            "showbackground": true,
            "ticks": "",
            "zerolinecolor": "white"
           },
           "yaxis": {
            "backgroundcolor": "#E5ECF6",
            "gridcolor": "white",
            "gridwidth": 2,
            "linecolor": "white",
            "showbackground": true,
            "ticks": "",
            "zerolinecolor": "white"
           },
           "zaxis": {
            "backgroundcolor": "#E5ECF6",
            "gridcolor": "white",
            "gridwidth": 2,
            "linecolor": "white",
            "showbackground": true,
            "ticks": "",
            "zerolinecolor": "white"
           }
          },
          "shapedefaults": {
           "line": {
            "color": "#2a3f5f"
           }
          },
          "ternary": {
           "aaxis": {
            "gridcolor": "white",
            "linecolor": "white",
            "ticks": ""
           },
           "baxis": {
            "gridcolor": "white",
            "linecolor": "white",
            "ticks": ""
           },
           "bgcolor": "#E5ECF6",
           "caxis": {
            "gridcolor": "white",
            "linecolor": "white",
            "ticks": ""
           }
          },
          "title": {
           "x": 0.05
          },
          "xaxis": {
           "automargin": true,
           "gridcolor": "white",
           "linecolor": "white",
           "ticks": "",
           "title": {
            "standoff": 15
           },
           "zerolinecolor": "white",
           "zerolinewidth": 2
          },
          "yaxis": {
           "automargin": true,
           "gridcolor": "white",
           "linecolor": "white",
           "ticks": "",
           "title": {
            "standoff": 15
           },
           "zerolinecolor": "white",
           "zerolinewidth": 2
          }
         }
        },
        "title": {
         "text": "Viewing Price range"
        },
        "xaxis": {
         "anchor": "y",
         "domain": [
          0,
          1
         ],
         "title": {
          "text": "price"
         }
        },
        "yaxis": {
         "anchor": "x",
         "domain": [
          0,
          1
         ],
         "title": {
          "text": "count"
         }
        }
       }
      }
     },
     "metadata": {},
     "output_type": "display_data"
    },
    {
     "data": {
      "application/vnd.plotly.v1+json": {
       "config": {
        "plotlyServerURL": "https://plot.ly"
       },
       "data": [
        {
         "bingroup": "x",
         "hovertemplate": "price=%{x}<br>count=%{y}<extra></extra>",
         "legendgroup": "",
         "marker": {
          "color": "#636efa",
          "pattern": {
           "shape": ""
          }
         },
         "name": "",
         "orientation": "v",
         "showlegend": false,
         "type": "histogram",
         "x": {
          "bdata": "KyYhHCEcHCYrKxwcHCscIRwmMBwmKyEmFyscKyEhKyEcHCYXHCYXKyEcHCsrISshJiYcISYrJiEhKyYhISYhISEwHCYhKyYcISYwISYcHCEcKyEcHCYcFyYcKyYmJhwmIRwhHCEhFBwmJiYXJhwhHBwmHCEcHCsmHCEcHCYcHCEcISscHDAhFCsmJiEmMCEmKxwXIRwcHBchFyYcHCsmISsmHCEmISEmHCEmKyYhHCYmISsmJiEmJiEXFyYhISYmJhohFCscKysrHCscHCEXHCErISEhKyEcJishHCEmISYmJiYmIRwrHBwrJiYmFBwcISEcHCErIRwXFCsaJiErISEmISshJjAmJhocKxwmKzAcHBwmISscHCEmISYcKyYhJismFysmHCYaJiEhKysmJisrHBwhITAhISYhFysmISYcMCEmJiErIRwhISEcISYcIRchFxomITAmJiYwISYhIRwhJiYhKyscFxwhJhQcJhwcISEhISYmJhcrKyYrISErIRwmFxwmJiEcKyscKxwmJhccJiEcIRwmKyEmJiEmFyshKyEhHCYhKyscFyEmJhchHCErKyEwHBwSJhomKysrJiYcHBwmITAhKyEcKxwmJiscISYhKxQmKysmJiYUHCEmMCYcJiYrGhwrMBQmISErJhwmJhwrHCYmJiYmKxccIRwrHCsrJiYmHBwrFxomGhwhHCYrJiEhJiEXHCswHCshKyYhISEXJismKyshJiYhHDAmISYcKyErISEhISYcIRcmJisrHCEhISEmGhQmISshFyshHCEmKyEmJiErJiEmISEmKyshJiYmIRwcISEhJiYmJiYmIRwmHCYrJiYcHCYhHCYcKyYcISYcJiYhJhwcKzArJiYhISEcJiYmISscJhwhJiYXJiYrHCYXISEmHCYmKyYrISYcFysmHCsUJiEhEiYmKxwhIRwrFyYhHBwmISYhIRwhJhwXISscJismFyYaHBwhIRcXKxwrJhwmFCscKyEmEisrJiYhIRchJiYrKyErHCYwKyEXKyEcISsmFyEmJiYmJhwcJiYmHCYXKyYmIRwhKyshHBwhHCEmKxwhFyEhISYmISEmJhwcISYmHCEcKxwhHCYhHCYrISEhFxccKxwrJhwrHCEXJiYXKxwmKyYmKxwhHBwcFyEhHBcmIRwcJhwmKxcwJiEmIRwrHBwmHBwcHCshISshMCYmJiYmHBwcJiErHBwmKyEmHCYcKyYrKyYcISEmGiYcHCEXFzArIRwmJiEhISYmHCYmISYhKxcmFxwhHCErISsrISEhISsmIRwcHCYmHBwhHCEXKxwrHCEmMCshJhcrJhwrJhwmMCYrJjAmHCEmHBwmHCYmHCYmISYhIRccHCErHCsmJhwrJhwrJhwhJiYcJhccJiEmHBomFxwcJiYcHBwmGhwcISYhJiYcHBwmJhIhJhwcJiYmHCswKysmHBwmHBwmHCsmJiEcISsmISEmISscFyYmJiYmJiEmKxQmJiYmJismJiYcHBwmJiEmJjAhISEcJiEmJiYmIRwmJhccKyYcJisXJiEmJhwwKyEmKyYrJiErJismISYmISsmHBwmJiYmJhccISYhJiYhISsmJhwhKyEcHCYcISYcJiYmJhwcGhwrKyEcHBcmHBwhJisXHCYmHBwmKyEmKyEUKxchJiEhHCEmISsrKyYcISYcKxchFyYcHCEhKyshJismJiEmHCEhISYmJhwhKyYXJiEhKyYrKyEmFyYaHCYcKyEcJiYcIRwcJjAhJhwcHBcUIRwrJisrJiYmFyYhISEhHCYrKyYhHBwhIRQrIRwcHBwmIRchISYhJishHCYmHCErHCscJhwhIRwcISYmKyEmISYcISEhKyEcJiEcJiYrKyErISEcJiYhIRwmISEhJiYrHBwmHCYhJiEcJhwrKyEhISErHBwXISEhEiYmISYmHCscHBwmHBwcISYmHCEcHCscISsXFxwrISEmIRwrIRcmFxwmJiYcISEcJiEcJhwmJiYmJiErISEmISYcIRwhIRwcJiEcHBcmISEhISsmHCEhHCshIRwmISEaISsrFyYmKyErJhcrIRwhIRwhISYhKxwrJhwhJiYcHBwcJiYmISEcKyscHBwhFysmISYmKzAcHCYcISYhJiYXISEUKyYmJiYmJhQrHCYrJiEcJiYcJiEmIRwmJhwmISYXHBccJismJiYmJiErKxwrKxwmIRcrHCEwIRQmKysrJjAXFyEcHBwcJhwmIRwrJiYhISEmHCYrHCEcHBwmKxwhJiYXHBccIRomJishJiYrJiYcJhwcISYrKyYhKxwmHBwhFxwcJiEhJiYcHCshKyYmKxwrHCscJhoUJiEmHBwmKyshHCscKyYcKxwrFxcmKyYmHCYXHBwXFyEhHCEmHCYhISYrFyYhIRohHCYhGiEcJhQmJiYrJiscHCYcJiYmJhwhISEhJiYmIRwhIRwmJiEhKyYmHBwcFyEmISsrISErIRwmISEcKxwmHCYmJiYhMBQXITArJhwrJiYcKxwcJiYmKysmJhwcJhwhISEmJishISYmFyEcMCsrISscHCYhJiYmJismISsmFCsmJiEcISYXMCEhJiYmJhwcIRwmKxwmGhwhJhwhJiYcJiYUJiYhHCsmJhwhJiYcIRwXHCYhHCYcISEcJiYmISYwKyshHCYhHBwhISYwHCYmHBwhKyYcJiYrISEmJiYcJhwmJiYcHCEmHBwmJhwrISEXISYrJiYhJiEhJiEhIRocHBwhHCYhISYmJisrHCYrJiYhJiYmFBwcISYcKyshIRwmHCEmHCErJhcmJiscKyYrJiEmISYcJiYcKxIhJhwrHCYhHCYrHBwhKyEcHCEmISYcMBwmJhwmIRwmFyscIRwmHCEXISYhHBwmGhccISYcKzAmHBwrITAcJiErJiYhJhccHCYmISshJhwcHCEmJiYmHCshISErJisrKzAcIRwcISEhISEhKyYrHCYcIRcmIRwhJiEmKxwhJiEmJhccHCEwHCYwJiEXHCYmIRwrJiYmISshHCscKyYhKxcUKyYrHBwmISEmHBwSHBwcKyshKxcmKxwcKyErKxQmFyEcKxcrHBwcGiEmKyYhHCEmIRchKyshKyYhHCEcKyYrHCYwJishISEcFysmISYmKyEmMBcrMCEaJismHCEhKyYcGiYcFyEUKyEcISYUHBwcJhwcISYcIRccJishHCscMCEcJiEXHBwrJiEmKyYXHCErHBwhHCErKyYmHCYmJhwcJjAaHCEcJiYhITAcJiYhKxcXISYmJhwhKyEmHBwrFxwrISYhKyEmIRwhISYwISYmHCYcISYhHCsmEiErKyEmISEwISEhHCYmKyEhJhchJhcwISYhISEXISEmIRwrJiErISYmHBwmIRwXISsmIRwrJiYmJiYrIRwcJiYmJiscJisXISsrHBQcJishISYrKyshKyErFysmKyYhKzAhHCYcHCYhMCshISYmFyEmJhwmJiYmJhcmIRwrJismFBchISYcHCshHCYhJiYcHCYrFxwhHDAhHCErKxwcJiYcISYmJiYrKxwhKyEcIRwhKxwrIRIhGhccISYhMCYrISYwJiEhHCYcISEhISsaFCEmJiEhKxwmISErJhwmISYmHCscKyEXJiYcHBwcHBwaJiEhJiYhFCshISsmJhwrFCErJiYhFysXHBcrHCshJismHBwmFyYrIRwcFyscKyYmJiYcHCsmISsUJhorISshHCswIRwmJiEhJiEhISsrKxwhISYrHCYhHCYhHCYmKyYmJhwmISsrJhwrISYwFysrHCscHCEmHCEmFCYrISYhHBwmHCEhISYmHCEhFyEhISErISErHDAXHCYhJhwcJiEhHBQwHCshJhwrKysXJiEcFxwmKxwhKxwcKysmJhwhHCYcKyEhHCYXJiEmHDAmJhQhISYhKyEUIRwSKzAcISYhHCscFyscISshJiYmISYmJiErJiYmJiYhJhwrGiYhJiYrJiEmISEcIRwmISYcHCYrISYhHCErISYhHBcrHCEmJiYmJiErJhQmFCYmHCYcIRwmISEmKyYmIRQmHCYrKxwrISEmJiYhKysXJiEhFyYrIRwrFxchJiEmISEUJiEXISYcJiYrKyEUHCsrJhwmKyEhHCYhISEmHBchISEmGjArISsrJhocJiYrHBchISYrJiYhJiYXKysXISEmISEhJiYmKxwcJhccKxwcFyYrHCYhKyYhISsmMCYrJhwmHCEcJjAhIRwmISEmJhwmISsmGhchHCEcHCYhHBwmISEwHCEmHBwmJiYcKxwcJiYmHBcaJiYrJiscJishISEcISYcJiYrHCEhKxwmIRwhJhchISYXITAwHBchISEcJiEhHCYwHBwmHBwrISYrFyEXJhcmKxwcKxwrHBwcHCEhISEmKyshHCYmFCYrFxwhHCYhJiscISshHCYmISshJiYmISYcISsrJhchHCYcFyYmHCYrFyEhISYhHBQmJhwmJiscJishIRwrISEmHBwrIRQmHBwmJiYhJiEmJhwmITArJiYcISYcJiEcFyYcISEcKyEhJhwrJhwhKyYrJiYmJhwmKxwrHCYcJismFCYcHCErJiYcKyEmISscISYmIRwrJiErISYmISYmJisrKyshISYhISYwKyErHBwcFCEcJiEmKyYmJhQhKyYcFyYcKysmKyYhJhwhFyYhISEmJisXISYcKxwmKyYhFxwhISYcJiYXISsrHCEmJhwrHBcmKyscJiYhJhwmHCscHCshJhwmISscJhcmKysmJiYmHCYcKysrFCYcJhIrHCYmKxwmJiYcJismIRwmJhwmHBwmKxccHBcrKyscHBwcIRwXHCYXJiEcFxwcJhwhIRQrKyEhIRwhJhwhISYcHCsmKyEhIRwhISEmJiEmKysmKyEUISYrKyEhJiYwJiErFBwrJiscJhwmIRwXISYrHCscHCYcHCscJiYhIRcrFyYmKyYrKxwmHCEmISscJiYUHCsmJismKyEmISYcHCEhKyEmGiYmISscJhwhIRccIRwrHBQhJiYrHBwcISYmKyscJiYrIRwmJiYUJiYXISEhJiEhJhwcIRwcKyEcJiYhHCsaISEXHBwrJhwcIRwhJiYmJhwmIRwcKxchKyYhHCYXISYrHCsrKxwhHBwmKyYmFCYrHCYXHBQmJiYmHCYcHBwcJismIRwcISEmHCEcHCYhJiYmIRwcHCEcHCscKyscKyscGiYhJhwrISscIRwmJiYhHCsmISEmIRwrKyEcISYmEiYmISEhHCshHCYmHBwrKxwcISYXHCYrISYXISYrJiYhMCEhHBwhHBwXHDAcJhwcISEhJiYcIRwcITAhHCYcKyYrHCEhHCYhFBwhIRwcHBImFyYaHCYhJiEmISErHBwhKyYrHCEcISYUKyYmHCYmHCYUKxQmKyYcISEmKysrKyscHBwhJhcmKyYrISsXKysmKxwmHCYrIRwmJiYcHCEmISYrFxQcHCsUJiEmJiErKxwmHCscJhwhISEhIRwcJiYcISYmHCshIRwXISEcKysmJhwUHCYUKyYmISErITAhJhwmHCEmJiYmHCEmIRwhHCsrHCYcFCscKysrISYmFCsmKxwhJhImIRccJiYmHCYhKyYmJiYcJhQcJiscISYhJismJiYcHCYhISErJhwaJiscHCEhFysrFyErHBwrHBwcJiYrISEhHBwXJiscJhwmISEhHCscHBwrISEhITAmJiEmJiYmIRwrJhchJisrHCEhISYmKxwcISYmKyscKyYcJhwmISsmIRwXFxwmKysXJiEcJiYmKyscEiEmISYmJhwcKyYcJiYrJhwmISErHCEmKyYrJiYcJhwhJiEhJiYUKyshJiYhJiYmJiYhJiYXHCYwKxwrISYrJiEcJiYcISEcJhwcKyEcJhwhKyYcFyshIRwcJhwcHCEmJhQhHCshKyYhJiYcHCYmFCshJismIRcmHCYrHCYSIRwhHBwrHCsrJiEcISsrJiYcISEmJisrHBwmISErIRwmIRwmHCYrJiYhFyYUISEmISEmHCsmJiYmHBcUJiYrISEhJhQcKyYhHCYrJishIRwrKyEcJhwrHCYcJiYhISscKyscFysmJismJhwhJiEcJiYhMCsmISEhKysrHDAXIRwrJiEcISEmHBwcISYcJhwhKyEcJishKysmIRwmJismHBIcFyEcFyYmISEcFCErJhcmFxwcJhwcFysaGhwrHCYcHBwcJiYXMCYrKyYhFyshGiYcHCsmJhcmJiEmFyEhHBwcHBwXJiEmHBwcJiEmISEhISEmIRQrJiErJhQmISYmISEhKxIcHCEhJiYhKxwhIRwcISshJhwcJiYcJhQmISYmJhwmISEmJhwXGiscKyYmIRwcJiEmJiYhISEmKyYcHCErIRwhISYhKxwhKxwmHCYhJiYhISsmISYrJjAhJiYmHBwhKxwmKxwhHBwrHBwcFxwhHCErJiYcISscHCEcHCEmIRcmISsmJiscJiYmISYrJiEmHCsXISsmJiYmHCEcITAmKxwcISshHCYhKyYwIRwcJiEmITAhHCEcIRwmMCEcISYrJhwmKxwrHCYmJiYmHBwhKxwrISYmHCYcKyEmJhwmISEmHCEcISEhJhwhJiEcISYrHBwmHCEmJiYhISYXKxccHCscHBwcISEmHCsmHCErJismHBwhISEmKyYwJiYcMCYrJiYrJiYmJiEmHBwrIRwrJiEmJjAmJiYhISYmFBQrJiEmJiYaKyYcJhwcKxwrKyEXJiYcHCshIRImFxwrFxwmJhcmJhccJhwcKyEcJiYcJiEhKyYcGiEhJiYmKyEmKzAmJhwrISYmFyYmIRwUHBwrJhwhHBwmHBQmHCYXJhchHCYhJishJhwmJiYhJhwmFyYhHCEmJiYmKyEhHCYcHCsmKyEhJishHCYhKyYhISYcFyYrJiYhJhwcKyEmISYcJiErISshJismISYcJiYrJiEhISYcJiEaFBwwJismISYrJiEcHBwrKyEhJiYrJiErJishHBwrHCEhKyEhMCYhHBwhJiEhIRwmJjArJiEmISshHCEmJiEcHBccJhQcJisrKyEhJiYhKyEcISEwJhwmHCYcFyEmISsmISYmHBwmHBcmHCYcJiYmHBwhFCYhISErJiYcISEmKzAUJhwrJishISYrISEhKxwmJismISYhJiYwJismJiYmISEhHBwmKyYhHCYrJiYXJhwhITAmFBwhIRwrHCYcIRwmJiEhJiYhKxcrHCErJhcrISscIRchISEcJhwhJiErFCYmIRcrIRwhHBwaISYrHCEmJhwcFyEhHCErHCEcMCEmKyYcIRwhITAhJiYhHCEhHCYcKysmJishJjAhKxcaHBwcJiYmHCshIRQmISscIRwrHCYrHCEhHCYcJiEhKyYcKxwUISEmHCsrJiEmISEcIRwUJhwhHCscJhwmJhwrJismJhwmJiEwJiYrHCscISEmJiEhIRwcJhwrJismHCshJhwcJiscKyEmISEcJiYhHBwUJhomJiscKyEmJismFyYmISYhISYrJiYcFyYmJhwrJhQXIRcXHCYrHCscHCEwHCsmISEcHCYwIRwrFyYcIRwmKxwhJiEcJhwmKyYhJiYmHBQhHCshHCEhHCYwMCsXJismHCEhKyYcIRwmHCEhJiYrITArKyEcISYXJjAaJiYrHCEXKyshKyEmITAmKyYmKyEhGiscISYrIRwmHCscIRchFyYmHCYrFyYmHCEhHCYXJiEmHCEXGiErISEhJiYmJiYhIRwUHCEhJhcrISYmJhwhHBchHDAaFyYhJhwhJiYrHCErHCEmJiEmFyEmISEcIRwXKyEmISYhJiEhIRQmJiEhKysaIRwcKyshISsrJisrFyYmIRwhISYmKxchHCErKxImJhwcISscIRwhJhwcKxwcISEmJhcmISYmHCYhJiYcKyEhHCEmISYmKxwhJiscJiYmJiYrHCEhHCYcFxoUHCYmEiYhHBwhHCYmJisUISEmJjArISYmJiEcJhwaJismKyYhHCshHBwhHCYhHCEmKysmIRwrHCYhJjAmHBwcHBccFyYmKyEhKyEmJhwXEismISErJhwrKxwcKyYcIRwmJiYcKyscJiYmJiErHCEhFyshHBccISErISsrHCYhIRomKyEmFyYhISshIRwcISEXKyYhHCEmIRwrHBccJiYhISYcKyshKyYmIRwrJiYXJiEmJiYrKxwcJiYmISEmJiEhHCYcISsrHCEcKyEmISYcJiEhJhwmJhwcJiscKyEhISYmJhwhISEhJiYmJiEhHCshJhwhISsmHBwwIRwrKyYrJiYmKyEmHCshHCErISsmHCEXHCEcJishKyYmHCEmFBwmJishJhwcFCYXFyYmHCEXIRccMBwcISYmHBwmKyYhHCYcKxwhJhwmJisrJiYmKyYcISYcISYmIRwmIRwXJishKxwmKxwmFyYXJiYcJiYhISYmHCEmKxwhITAmIRwaKxImHCEhKzArJhwXIRwmJiYmFyYcIRwmJhwcKyYcISsmHBwmJiYhFxwhHCsmHCErHCEwHCEwFzAcHCYmFBwrHCsUIRwcJiEcFyYmHCscISEhHBwhKxchHDArKyYhJishJhwmJiEmIRwrIRwcHCYcHCYmJiYcHCYXGiYmHCsrMCYmIRwmJhwcKxwmJhwrHCYcISYmKyEcHCEcJisrJhwmKyYmIRwhHBwhISEmJhwhJhwcHCscHBwcIRQmISYcHCYmFCYmIRcmJhwrKxwcJhQmIRoaIRwrJiEcJiYcIRwrJiEmJiYhJiYhKyEhJiYcISsrGhwmJiEcJiEUJishHCYcIRwmISEmJiEcJismISscIRwmISYcJhwcKxccJishJiEUISYhKyYcISYmJismKyYmISEXISEcFxwcHCEcJhwUIRwcKyshMCYhIRQcISscJiEcJiYcJiYrHCEcHCYhJiYmJiYmKxwcKyErHBccHCYhISErJiErHCscJhwhISYwHCESIRwhISYhISEcHCYrJhwrISYcHCYwKyYmKxwcHCEcHCEmHCYrHCEcJiYmJhwhKxwcIRwwGisrHCYhJiYmKxwcJhwcKyscHCsmISsrJjAmHBcXJhwhIRchISEUHCYhJiEmHCsmKxwrHCYwGiscISYrJhwmFBccKyEcJiYrHCYrISYmISYhKyYrKxwhJiErHCscISEmJiEmHBwUJhwmISYhHCshISYmISYmFyYhHCYcJiEcHCYhISYmHCshKyYrJiYhIRwcHBccKyYrHCYcJhwhHCYwISYXJiYrISEmIRwrHCYhHCEcKyEcISsrJhwrHBwaJishHCYhHCYhJiEXJhwhISEhJhwhJjAmKxwcHBwcJiscFBwrFCYcIRwhIRccKysrFBwXJiEhJhwmHCEhJhwhJismKxwmJiErJhwhJiYXJhwrISYmHBomJiYwJhwhHCEcKxwXKyYhHCsmHCEhISEhHCYhFxwmISYhISshHCEmISYrJiEwJjAhKxcmKyswISErHBomHBQmIRccJhwmJiEXJiYXKyEcJiYmJiEcJiYhHCshHCYhJiscHCYmJiEcJiErJismIRwhKxwhKyEmJiEmHCYrMCEcHCYmKyYrFCYrKyEmISscJiEcHCEmFysrITAmIRwhHCYhFyEmJhwXJhwmISEcJiscISYcKyEhIRwmHCshJishKyYrISYmJiEhKyEcFyEmJhQrHCsmJishISEmFxwrKyYmJiEmMBwmISEmJiYmJhcmKyEhJhwhJiYrJhwhISscHCYmJhwcISsmHCEhGiYmHBcmJhwcJiEhIRwmISYhJiscKyYmISEwKxwXJiEhJiYmISscISsXKxwrIRwrIRwrIRIhISsXISEcJiYmJishJiEUJhcmKyscKyEmJiEhJiYmHCEcFCYmKxwcFyYmHCYrHBwcJiEcJhQcKyscHCEUJhwhIRwcIRwXHBwcFCEXISshKxohKyYmISEmISEUJiYhJiYrHCYrKyYmJiEmJiYcHCshISYcIRccISYUFCYUKyYmHBwmJiYXJiErHCYmHCYmHCEhKyErISsrKxwcJismHBchIRQhKyYmJiYrHBcmKxwmISEcJishHBwcJiEhJiYhHCYmISsmFCsmHCEcHCYcISEcKxwcISEcIRwhIRwrISYcHCErFyshJiYrMCsmJiYmHCsXHBwcKyEUJiYhJiEmJiEmIRcmHBwcJiYmJiYhFxcmHBcXHBwcMCEhHCYmIRwmISYmJhcmJhwmMCshHCEcKxQmHCYcJhQrIRwrISEmISEmJiYmGhwhIRwcHCYmISErFxwmISYmHCEcJismHCEcJiYhHBQhHCYmISYmJhwmGiYmKyshJiEmFyEcJhwhJhwrMBQcKxQmHBwhJhwcJiYrHBwcJhQmJiEcISYmJismGhwhKxccJiYcISsmKxwrJhwmHBwhIRwrJiYmIRQcGiEmJiYcFxwrJhwmKyEhKyYhJiscJiYhHCscFxwmJhwhIRwmJhwhISsmKxwmISscJhocJiYcHBwmHCsmHCYmJiYXFyscJiYhHCEcHBwmHBwhISYcJiYmISEwJiYmKxwhJiYmFyYhISYmJiYhHCYrJhwhJiEhHBwcMBwcHBocHBwhHCscHCsmHCEcMCshHCYcISEcJhwcJishISYhJhccISYcHCEcJhwmJiYrISErIRwmIRwhKyYhHBorJhwcHCEhJhwhKzAmHCscGiEcHCsrHBwaFxwmHCEhMCYhJiYmHCEcJiYhHCEmHCErEiYmKyYhHCErJiYmHBwmJiEcISEmJhwcITAmKyYhIRwmHCEmGishIRorISsmISEmJismKxwcHCEhISYmMCYXHBwcJiYcJhwrJhchFyYcISsaJiYcKxomHBwUIRwcISYUFCYwFCYcIRwcJiscKyYaJhwrJismKyEmISYmITAhJhwrKyYhKxccKysUKxwmHBwcKyYcJiEhHBwrISEcHCYcISYhJiYhKyshHCsmKxwrIRwrHBwmISYmJiYrKyEhHBwmKysmJismJhocISscJhcrKyscISsrHCYhHCshJhwhHCYhFyYrJhwcHBwmKyshJiErKxQhHCEcHBQrJiEmISYmJismKysmJhwXJhwhJiYcJhwrIRchIRwmJiscHCsmFyYhIRwmISYhKxwXKxwrKxocHCYrJiYhJiYhIRwwHCEmIRwcJhwcKyEhIRwrJisXJishHCscKxwcJishKyscJiscJiEmHCYmJiYmHCEhJiEXKyEhMCYhJhocKyYaHBwXHBcrIRwhFCscIRocISYmKyscKxcrHBwcMBwmHBwhKysmJhwrJiYhHCswJhwhKxwcHBcwJiEaISEmHCsmISYcJiYhJhwwJiYcHCsXHCYhKxwhMCEcJiscIRwcJiscKxQXJhwhISErJiEXIRwmKxwcKyEcJhQXJhwcHCYhHCYcJhwhIRwXJiEhISsmHBwcIRwhFyEUJiYrISYcHCYhJhwcJiYhJiYcJiEhIRwUKxocISsUFyYXHCYmKyErIRwmIRwUJiYcKyYcKyYrHCErKysmHCEmHCEmISYhIRwcFxcrFyEhKxohISscHCYmHCshISYhJisrHCEmKzAmKxccKyEhKxQmJhwcJiYrHCYmHCEcHCYmFyYhJiYmJiYUFyEcFxwcKyErJismKxwhHBwhHCEhISYXISEcKysmIRwrJhwrHCEhJiEmIRwhGhwrISYrKxwcHCYcJiEmHCYmISYmISYcHCEmJiYhHCEaIRccJishJiYhKyEcHCshJhwcISsrFyEhJjAmKxchMCYhJiYmHCEmKyEmISshISYcISsXISYmKyYhISYcFCYmHBwhHBcrJiYhJhwmHCYrFCYrHBwmJiYmISEmJiYmJhwcHCEcFzAmJhwmKyEcISYrISEmMBwcFCYrIRwmHCscFyEmIRcrHBwcHCYcFyYrJiswHDAmHCsmISscJiYmHBwhFyshJhwrISsrIRIXJiErJishHCYhJiYhHBwmFysUJisXIRwrKxwmISYcJiEhIRccJiEmFyYmISEcMCEmJiswISEhJiYmFyEhJiYhIRQmJhwhKyYhHBwrIRwrJhwcJhwhKxwcJiYcJiEhHBwmFCYhJhwrKyscISYrHCEmISYSJiYmJhwmJiYrJhwmKyYrGiEcKyEhKysrKysmJiYrHCYcIRwrKyEhKxwmFyYcIRwmJhwmJhcmHCYcJiErISYhISsrHCEcJishJiEXHBwmKyEmKyEwFCYmKysrHCYmIRcmIRccJiYrFyYhISErJishISEmHBwhHCEmJiYrISsmHBwhJhwwJhwmJiEhISYmISscHBwhHCsXFysrKxwcKyYrJhcmHCYrKxwmISsmHCEUISYcJiYmKyEmFysmJismJiEcKyYXHCYaKyYcJiYmISErJhwhJhorHCYhHBwmISEcHCYmHBwcJhwcKxwhJhwXHCYrFyEcFyEXHBwcJhchKyYmHCYrKxcrJiYcHBwhHBwhITAhKyEcJiErFyEUHCEmIRccISYcISswJhQmHCsXHCErHCYhISYXHCYrKyYcHCEcKxwXKxwmHCYmKxwcJhwhJiEmISYrHCEUHCEmKyshHBwcKxcrJhwrJiYcHBcrISErISYhKyEmHBwhJisrFxwhMCshHCYmHCEmJiYhJiEmJiYaISYmJhwcJishISYcHBwhISYrJiYmJiEcJiYrFyErHCYmKysmISEmKxwcJiYrHCEmHBQmITAhMCsXISEXJishJhwhKyEhJiErJiEmHCYhHCscJjAcISsaIRwmHBwhISYcIRwmJiYmKxorISsrHCErHCYcKyYmJhwcHBQrKyErJhwcKysXKyEXGiYhJiEmHCYXFxwhJhwrHDAcHCYhHCEmIRwrJiYcJiErHCEmHCYhJiYcMCYcKyEcKxwmJiEXIRwXJiswFCYhHCEhHBwhJiYmKyYaKyYmEiYrJjAhISErKyEmFyYcKyYrGiYmJiEmIRwXHCYmJiYcHCYmJiEmHCYXHCEXISEcMCEhJiYaJiYmJiEcFxQmISEmKyErHCsrKyEcISsmJiYmISsmJiYhJhcmIRwrJiErJhwhISsmISYhKyEmISsmHCErMCErJhwrHCscIRwmISYcISYhGiEhISEmKyYhJhcmHCshISErKyEcISshJiYhMCEmJhccKxcrISYmJhcrHCErISYmJhwmJismKyYcHCYmKyYrFBoXFBcrISYXISEcHBocJiEhJiYhFxwmIRcmIRwrJhwcKyYmISYhHBwcJhwhFCEhMCYhHBwmKyYcISsrHCEhIRchHCYcJiErIRImJiEcFyYmKyYmHBwrISYmKxcmHCsmHBwmJiYmISEhHCYmJisXHCErISYhJjAhISYwJiYhHBwhHCEcHCYhHCYUJiYmJhwrIRwrKxwcJiEcJiEaHCYcHBwmISYhJiEmIRwcHCsmISYmKyYhISYhMCYmJiYhHBchJisXHCswJiYcISscJiYhMCYrHCEmKyYmJhwrIRcrIRwhHCsXJisUHCEcJisXISYmHCYhJhwhJiYmKyshFCEmFyEcJhwcKyYhHCYhISEhJiYhIRwrFxwrHCEhHCYcHCYcJiYcISYrJiEmFBwmEiErKxwcFBwXJhIcKxwrJiEwJiYhJishKyEcJismKxchJiEaISEhISshJiYhKysrJiYhKxwmHCYhFyYhISEmJismHBwhGishHBwhKyYUKyEmJiYmKysmHCYrISYcKxwmISYmJiEhFyscFBwhHBwmJhcmKyEcKyEcJiEmFCEhJiEcKxwrKyYcJishHCYcKxwhFzAhHCYrJhwcHCsrHBwrFxwcHBwrJiEmJiEXJiYXJjArJhwrKzAXKyscKyYhKyshISErIRohISscJismHCEmKyEmJiscISYmHDAUHBwhHCEmJiErHCsmIRwaJhccITAmJismJiYcIRwUFyYhKxwXKyEmJhwcISEhKyYhHCYcJhcUGhwhISsrKyYcGiscJhwcJiEmISEXJisXISYrKyYrJishKyEXISEmJhwcHBwrMBomHCEcHDAcIRwhHCEwHCEUHCYhHBowISYcJiYmHCEcJiYcFxchHBwcHCYrHCYmJisrIRcaJiYhJiYmISYhJhwXIRwmHCYcISEmJiErHBcmKxwmIRchJiscKyYhISYmHCsmFBQcJhohHBwmFCEmHBwhFysrISYmISEhJhomJiYaIRwhISYmJiEaISYwJiEcISYUJhwrHCEcJismMCYcISsmISYmFysrISsmJiEmHBwcJiYhHBwmHCErHCEhHBwhJiEcISEhHCEhJhwrHBwcIRwhJiswJiYrISEcKyEmFxwcKxwhFCEmJhwmHDAhJhccFyYXJiYmISEXJiEhJhwUHBwhJiYmIRwhKxwhJiErKxcmJiErHCErFBwcISErIRwhFyEhIRwcFyYhHCYrJiYrKyYhJiEhJhwcJiEmHCYcJiYmJiEmJismJiYUHCsmHCYmISEcHCEhJiEmFxQmHCErJhwmISscISYrHBwmMCYcJishHBwmJiEXHCYmIRwmKyEhFBwhKyEhISEmISsrJiEhFyEhFxwrHBcmJiYcHBwrJhwhIRwrJiEmJiYhKyYcJhwXKxwmJiYmISEmHCErJiEmHCYmJhwmJiYmISYhIRomJiEwJiYmJhwhJiEmIRwhKyEcHCEcJhwrJhwrJhwUJiEcJiYhJhwcFyEXHCshJiErKxwmKxwrHCshHCYhKyshHCshISEcHCYcHCEhHCYmJhcwJhwrKxcXJiYcISshHCsrISEhHBQmIRwrJiscHCEhISYcJhwmJiEhHCErJiYhJiYrJiYhIRwcJiYrHCsmJhwmKyYcJiYcJiEhKxwrHCYhFyEhJhwmIRwhKyEmJiYrHBwSJiYUHCscJiYmJiYcKysrJiYXHCEhEisUHCEcJhQXKyEUHBwmHBcrHCYcISYcISYmHCYmKyYmISEmJiErHCEmHCsXJiYhJisrJiEXJjAmJiYcISYmHBwXHCYrIRwcJhwcJiEhKyEUJiEcJiEmIRwmKxwmHCYmKyYmKyYmISYcKysrJiEhISshIRwrFyscHCYhJhwXFCYhJhwmISshISEcJhccKxwhJiYhHBomISYcJiEmHBcmHCEcIRwcHCEhJiEhKyErJiEmFCEhISsXHBcrJiEmJishISErJiYhJhQmJiYrIRQmHCErJhwcFyYcHBwrHCscHCYhISYmFCYmISYmJiEmHCYcHCsrHBcXKyYhHCYcKxcaKyYhJhwmJhwmJiEcISYcKyYhJiYcKxwmJhwmISYmHBQrIRocISEcJiYhHCYmHCsmJhwhJiYmKyYaITAhKxwXJiEhISErJiYhHCYmHCEcJiYmJhwrHCYrFyYXKxwcIRwhHCEcFysmHBwrJisrISEcKxwmHBIhKyYmHCYmHCYcISYmJiYmFyYXKysXKysmJhchJhomHCEmIRwmHCYmKxwmKyYhISsrJiErKyErHCsmHCYrFxwrHCsmHCsmJiEcHBccFyEcJhwhJjAXJishISYrISYSISsmHBccHCEcKysXJhwcHCErHCYcJiYmKxwmISsrKyYhKyswIRwmISYrISYmMCEmKyYmISYrKyYcJiYwHCYrKyYmISEwJiEmISEXHCshFxwmHBwcJiYhMCEUGhwXJhchMCsrJhcmKyscHBccISshJiYmISEhISYmHBQrISYcJiYUKxwUHDAwIRwrKxQmKxohKyYUJisrHCsaJiYmIRwmKysmFCEmIRwmKxwwKyshIRwrJhwmJiYmJhQmMCEmHCYhISYrJiscISYrISYhJishKxwmKxwcKyYhJhwmFBwcJhwrFCYhJiEmJiYmIRwcISEhHBwwFyYcJiYmJiEmISEmJiYXISEmJisrKxwXJiEhKyEhJhwrHBwmHCEhJiYXHBccISEmIRcrKyYcKyYUHCYmHCYmKxcmJhohFCYmISshHCYcJishIRQcISsmKyEhFxwrJhwhHCErKyYmIRwhIRwcJhwhHBwrJiErHBwmKxwrHCYcISshIRchISsaKyYhJhwcJhwhHBcmKyshKyYXKyshISEhKyYmJiEcJismIRwUHCsmJiYmKyYmJiYhHCshJiYaKysrIRwcHBwhJishJismISYcJismFysrJismISEmHBwcJjAhJhwmHBccISYrFCYhJiscJiYmGiscISEhJiYrJhwmJiYmKxwmHCYcHCEhISEmJjAaJiEmHCErISErKyYmKxwcHCErIRwcJiYrJiEmJiYhKxwcIRwhJiErHBccFysmHBwrHCEhJiYXKyEhHCYhJiYXKyYrHBwmFxQcISsmHDAmJismIRcmJiYmKyshHCYmJismJhccHCYmISEhISErJiscKyshJiYmISYmHCYrKxwhKxwrIRccJiscKyEhJhwhJiEmKyYmKxwhHCYhISsmIRcmIRwXHBwcKyEcJiYcISshFyEcFxwrISEcJiYmJhwcFxwmFxwcJiYhHCsrISErKyEmISEXJiYhKysmFyYrFyEmJiEhKysmIRwhKysmHCEmJiYXISYcHCYXJhwmISEUISEhJiEcKysXMCEmHCEmIRwXJiYhHBwrIRwrHCYmHCEcHBwcKxwrJhwmJjAcJiEmFyYmJhwhISYmHBwmHCErHBwrISsrJhwcKxwmISEmISYmHCYmJiErJhcmJiYaHCYhFyYcHCYcISYcISsUJiYcJiYmJismKyEmJjAcKysmJhwmHBchISYcHBwhISshJiYrHCYmHCEmJiErHCYcFyErKyYmJiErIRwhHCYrKxwhJiYXKyscJiYhJhwcMCYmHCYcIRwhJiYXJiEUHCYmJiYUJisXJhcrJiEmJiYmHCEcJiscJismGiYmJismHCEcHDAmHCEcHCsXHBwmFyYrJiYmHCsmEhQmHCYXJiEmHBwrISshISEcHCEcJhwUJisXISYcFxwhIRwmHCYhKxwhKxccKxwmJiYhHCEcJiEmIRwcJiYcFyEmHCYcJjAcJiYXJismHBwmHCshHCEmJiYUHCYcJiEmFyYhKyYrHCYcJiEXKxwrJiscHCYcISEwJhwmJhwmHCEmJhocJisrJiYaKyYhJhchMDArISEcKyYhJhcmISYcHCEmHCsUJishISsrMBwrISYhHBQcKyEcKyErKysrJiYrKyYcKyYmHCYcKxwmISsmKyYcISsmIRwhIRQmISYXITArFCErKxQmJhcrKyEhHCEhISsmKxwhHCEhISEhISYrHCEhISEhIRwcKyEcJhwUKyYmISsrMBQmISYmHBwcHBwhJiEXMCYcJismISYmKyscHBwmJhwmKzAmKyscHCYmHCEcFBImKyYmIRwXKyYmJhwrJhwmFyYrHBwUMCEcISYcHCErFyYhISYcHCYhKyYhHCsrFyEcISsrKxwhISsmFCEXHCYmHBwcISYcJiYUJiYrISEcHBwmJismIRwrKxwhKxcmHCshHCsmFyYcISEcKyYmHBwrISYhHCYcKyYcKxwrJismJhwhISYrHCscJiEcISYXHCsrHBcmIRwhJiYrISYcJhwrFyshHCYcIRwhHBwSISEhISshFyEcJiEhJiEhJhwmISYmJhwcISYhHCErKyErHCEhKxchHCsrFxwcGisrHCYmJhcXJhwmJismKxwmFyYrKyshKxwhJhwrISYmISEcJiEXJhwhKyYmHCshJhwrJiYmHDAmHCYcISEmISsmJiEcHCYmKyYhKyYhJiErJhchHCEcHCYmKyYrJhwcJjAmFyYhHCYhJiEaKxwhHBccKyEmJismJismKyYrHCYwISEhISYhHCEhISsrJiYrJiYrISEcFCYmISEhKxwrHCYcJiYaHCEhKyYmKxwcJiYhJhwhJiscJiYmHCYrISEmJiEcJiscJhwwHCEhJiYSJiEmFxwcJiYmFxwcFBwrJiYrHCEmISYcISYcJhomJhcXHCYcKyYmKyshJiscIRwaHCYhKyYhHCErKyYmHBwmHBwhISYcKxwhHCEmJhwcFxwcFCshJhccKyYcMCEhHCYmHBIcJismHCYmISYrISYhISsmIRchJiYmJiYmKxwmISsmJhwmKyYcIRwaHCYhJiYhHCsmMBwcJhwmHCYmJhwwFzArJiYrIRwcHBwmKxwrJhwcJishIRwcKxwcJismJiYmISYmISYhHCYcJhwhHCYhFCEmJiEmHCshHBwrIRwmJiEmHBwcKyYcHBQmJishKyYcISErHBwrKxwcIRQcJjAcIRcrHCYhKyEmJiEmHCEcISEmJhwmISErKyEcISscJiEmIRwhJiYmJisrJiYcJhwhFyYhHCEcIRwmFyEXHCYrJiErHCEmEiYaISYhKysSHBQmISshISshHCYhFxwmIRomJhwcKysrFyYhJhwmHCsrJiEcJhwcISscFyscJhccKxwcJisrIRwrFBwhJiYwHCYmJiYcFyEmJiEwISYhHCYmJiYcHBwwHBwcJiEcIRcXJiYhIRwmJiEcISEcISEhIRccJhwcHCsmIRwmKxwrJiYcJiYrFyYhKyEcHCYmKysrISshJismISYcKyEmIRwhHBwhJiYmFCYrKyYcISEcJhwrIRwhKxwcGhwmJiYrHCshISYcJiscHBchKxchISYhKysrHCEhHCYcHCEcJhwcHBwUJiYhISEcISYmIRccJiYmISEhISYXJhocIRchKxwrJiYmHCEhKyYXKyEmJiscHCEhJhccKxwmISYmGiYcJhwcHCEcJiEmJiEhHBQhMCYmFyErIRwcHCscJhQhHCYrJiYhHCscHBwcHCsXJhwrISEhFxwcHCYcIRwmKyEcJiYcJisrIRocKxwhFyEmJiscHCscFyEhISYmJhwrISYhIRwXHCYmHBwcHCEmHCEhHCErJishISYrIRwmFyYmJiYcIRcmHBwmJhwcKyYcJhwmJismKyYhMBwrKyYmGhwmHCshKysmISscJjAmISsmJishISYhHBwcJiYXJiEcJishHDAcFyYmJiYhISYhHCErJisrISsmJiErKysmISYmJhcrISYhJiEcJiYmKyEcIRwmISsXKyscKyYrHCYmJiscISYcHCscJiYmHBchHCscJiYhKxchHCYhJhwhIRwcJismJiscHCshISErJiEmJismEiEmJiEhJjAmFCswJhwmIRwaJhwcJhwrJiEmJiYcIRwmIRwmJiEhJiYrKyshISYmJiEcIRcmKxchHCYcKyEhJismJiYhKyYcHBwrJiYhJhQhISEcISEmISscKyErHBwcJhwhHBwcKyYwKxwrKxwmHCYXJishJhcmKyYmJiYmISYcKxwcHCEmISYXISYhKxwmFCEmJhwcIRwcJhwcHBwcJiYhHCErISscISEhHBwrFCEcJiYhJiYXISYmISEmJishKzAhKxwmKxwmJiscFyEmISEmISYcJiYcISsmJiEmISsrFyErISEhHCYhKyErKzAUHCEhISYcKyshFyYmIRccJhwmJiEcKyshHCEUMCYrHBwhISsUJhwcKyYrKysmHCYhHCYcJhwcJhwrHBwcISsrIRwcJhwrJiYcISYmFBwrJhwcISYcISYcJiEmJismHBwcHCYXJhcmHCYmKxwrJhwcIRwrFysmJiscJiYhFyEmHCYmKyshHCEmHCYrISEcKyYmISYXFyscHCEmISsmIRwXKyYmIRwUIRwcHCEmISscISErJiEhEhwrJiYhFyYhJiEmHCYcHCEmHCYmJiYmKxwmJhwmJisrJiYhKxcmISYmMCYrJiYmISYwISYhISESHCsrFyEhISEhIRwhHCEXHCErJhwcKyYcJishHCYrKxwrIRwwISshKyYmJiEcKyEhJiEcHCYcISYhITAmIRQhISshJiYcHBcXJiEhHBwmKyshHCsmISYcIRwrJhwcFyscKxwcFysrHCErHBcrHBomHDAXHCYwISYwISsmKyEcISYmIRwmMCEXISYrJiYmISsrHBwcHBwmHCEmFCYrKyEcKysmISYUKyYhHBwhISEhIRwmJiEmFxwhJhwcFxwhISsmHCEmIRwrISYcIRcmMCEUHBwmFCEcJiYhMCEmHBwhJhwhISYmKyscKyEcJiYrISYmHCsmISYhJiYcJhwmJiEhIRccHCEhISEhKyYmISYmFyYhFyEmJhwhMBwhJiYcJiYmKyEhFxwmKyYUFBwhJiEmHBwcISYcKyYrKyYcJjAcISYXJiYcISErFyEhHCscHBoXFCEhIRwcISYhJisrGiscKxwcISscJhwcHCYmHCEmHBwrKxwmHCsmJiEhFCscISYrHCYmHCsmHCYmIRccKyshJiEhKyEhHCYmIRcrISYhJismKxwmISYmJiErKyEmFyYcJhwrIRwmJhchJhcrFyshKyshISYcKyshISEmISYmISYcJhwhKyYrJisrJisrISYUJisrHCEcHBcrJiscJhwcKxwcKyYcHBohJiYaHBIcISEcJiscKyYcJishKysmHCYhHBocHBcmISYcHCEmISErKyYrFxcmFyYcKyEhIRchHCEmKyYwIRwhHBwmJiYmISsmJhwmHCYcHCErJiscJiscJiEmKxwhJhwcJiYhJiYcIRwmFyscKysmHCYrHCshISYrJismKyEhJiYrISYcITAcISEcISshJiEcHCYmJiYmIRwmJhwmJiYcHCEcHCEcJiEcKyYcMCscHCYrHCYaJhwhHCYcISEcHCEwIRchISYrISYrHCscKyYmKyEcJiYcJiscISYmISYXHCYrHBwrISYUKxwhFxwhFyscJiEXKysrJiYmFxocJiEhISEwHCErGiscKyYmJiswFysrISYrGiYmHBwmKyEmISYhHCsmHCYrKzAcFxwrKysrIRwrKyErJhwhKyEmJiYcJiEmISEhHBwXJhwrISYhKxwcISYcISYhHBwmKxwmHBohKxcmFyYhHDAmJiYmISErFyEmKysrHCEhJiYhHCshFBQhJishISEmJiEmISErJhwhFysXJishIRwmJhcmJiYcJiYhHCEcHCErISscIRwrKxwrHDAmISEmHCEXISErISYmJiEmHCEhHBwcKysmKysmKyEcHCEmJhwcISEmKyshJhwrJhwUJiEmISYmISshJiErISEhFCEmHCEhHCYXHCYrFCYrJhwmHCYmJiYmKyYcKyYXISYmJiEcIRwrIRwhISYhJiEXJhQhJiEXJjArHCshFBwcHCYcFxwcJhwmKyYrJhwcHCYUMCYmHCYhKyYhHCYcISYcJiErMCscJiYwJiYhJiYmISshJhwcFBwmISYmMCEhISYrHBwmKyYmIRwXFCYmKxwhJiEhHCEhISYmJiYrHBwhISYhIRwhHCEcKxccJishFyEhIRIhJiEmISscISYmMCsXJiYrJiYhISEcFyYmISEhHBocHCEmHBwmHCsrIRwcHCYmISEhIRccISEcJhwcHCEmISEaJiYmJiYhJiYmJiEcKyYcIRcrIRwcISEhFyEmISEcKysmHCEmISscISsmKzArHCYmHBQrJhwcHCswIRQhHCsaIRwcKxwmJiscMCEhJismJiYhJiYcHCEhHCYcKyYhKyYrHCYmHCYrJiEmJiEmISYhHBwhJiEhISYhFCsrISEmHCsrHBwcKyYmFyEcHCscJjAcHCsmFxccHCYmISscHBcmFxwhHBcmISEmISsmISEcJiscKyYaHBwmIRwhHCshISYmKxwmISsXISscHCEhKyYcFysrFzAmIRcmKyEmHCEmHCYXISEmJiYcFCErISYmJisrFCsmHCYXISYrHCYmISEhHBwmJiYhITAhHBwmKxwmKysmISsmKzAmHBwmFysmMCsmGiEmHCYhISEmISEmJhwcJhcmHCEmIRwcFCEhISYcJiYmFxccJhwmHCYcHCEhJhwrISYXFxcmMBwcHCEmJiYhISEmJisXJiErJiEhIRwhJiscISYXHCsrKyYmKyEmIRwcKyYrMCYrFyEhFxwhHCYrKyYhISYmISYmHCEwMCYhISsmHBwmJiEmJhwmHCYmISEmIRwmKysmFysrFyYcIRwhHCEhHCsrJhwhKyYmKxcrISsrHCEhHCYcJhwmMCYcKxwrHCshJiYrISYmJhwcHCsmJiYwJiYcJisrMCYmJiYUJiYmIRwcFxwmHCYcKyErHCEhISEcISEXHBccHCYmKyswKyEmISEcJiYmKxQmJiYhJhohHBwXISYmHBohJiYmMCYrIRwhISYrISscFyEmFyEmISEhFBQXHCYmKxwmJhwhITAmHCErFyErISYhISsmHCsmKxwrKysmISYcHCEmISYrHBwwMCEmKxcrHCEaHBwXHCYrKzAXHCYhHCEcHCYmGiYhJiYcJiEcJhwhJismFyYXJiYrFxwmHBcmHCsXISYcJhcUKyEhJiYrHBcrIRQmJisXJiscISEUJishKyscIRwcJiYmEishJiYmHCYcHCsUFysmMCYmKyYaKyYUFyYrJhwcISYhHCErJiYmJhcwISErKyYhKxwrFyshHBwhISEmJhQhKyYmKyYXISYrISEhKxwmHBwcFCYrISYmJiYhJiEmJhchJiEhHCsmJiYrIRwcHCEmIRwhJiEcJiErISEmJhwaKyscHCErISYmKyYUJhQrISErHBwrISshKxQmEhwcISYcJiYmISYcKxwrKyEhMCEXFyYhKyEcJhwhJiEhHBomHBwcJiYcISYhIRccKyshGhwcIRwrJismJhwcKxIrFBwXHCshHBwmHCsrHCYmHCYmISYcIRwmFysmJhwcKysrHBomJiErJhwcGhwmISYhJismHCshHCshJiEcJiYcFxcmHCYhJhQcHCYcJiYmJiEXKyYmJjAmJiEhKyYrHBwcKyEhHBwcJiYcJhwmISEcISErHCshJiEcISYmISYhJiscJiYrKyEmHCYhJiEhIRwhJisrKyYcKxwhJiEcISYcISYrKyEhISYmHCYrHBQcJiEhKyYmJiEmHCEcHCEmGiEmEhwaJiEmHCEmFyEmISYhJismJiYhKxwmISYmKyYmKyYrHCYhJiYhFyYmHCYmHCsmKxwcKyEmJiEmHCEhKyEcISYmISYhJiYmJiEcHCscMBwmIRwhISEhISshKyEhJiYXJhwcJishFyYhJismISscHCEmISscKyscKyYmJhwmJiEmJjAmKysmJiEhFxwhJiYmITAmJhwhKyEmKxwmHCErFyEmHCEhJhQUHCsmJiEcISErHBwmKysmIRwmJhwXHCYmJiYcJiYmISEcJhwmJhwXKxwcISYmKyYXISYaHCYrJiEhIRwhJiEhKxwmJhwcFyscJiEmHCYcJhccHCEcHCEmMBwcJismJiErISEmKyYrKyYmMCYhKxQmJiYcJhwmHCYrKyYcHCYrMCErIRwrHCsmJiYmFxwmFyErHBchJhwrJiYcJiEmKyEhIRwrKyYXMCscJhwrJismIRwmISEhJiEmHCErFyYcHBQmGiYcISYhISYhKyErJiEcKxwmISsXKyYhISEcHCYXJiEcKyYrHBoXISEmJhwcJiEmJhcrFxwrHCErJiEcJiscJhwhISYaHCYhHBchHCYwJiEhJiYUJiEXHBwhKxwcJiYmHCYhJhwcHBwcJiYmKxwcFBwmIRcrJiEcISEcJhwrHBchKyEcHCsrIRwrJhwcHCYrJhoXIRwcHDAcJiErJiEmJhwhHBwmJisrIRwcFCYmFBwUJiEXHCYmFyEmJiEcJiEmISEmISYcJiYmHBwmHCEhHCscITAcISYmISYhKyscHCYmJiYhHCshJiEhHCscHCscISYwJiscHCYrKyEhISEmMBQmHCshISEmJhwcJiYmJiYmJiEhHBwcJiEXJhwcISYwISEcHBQrISEcISYmKyYmJiYmISswHCYrJiYmISYrHCYcISsrJiYhJiEhISEmISYhGhwcIRwmJiYrKyYrJiEcHCsmGiYwJiEmISEcHCEmGiYXISEcHBwmISYrISYmJiEcHCEmIRwUHBcmJishJiEmHCEhHCEmISEhFyEUKyYmISYcKyYhJiscKyEcHCErIRwmKyEcJiEmHBwcISsrISYXIRwhHCYmISYhJiYhJhwmIRwmHCEhKysmJhwhHBwmKyEhISscJishFysaHCYcJhcXJiEmISYhKyYmHBwhHCYcHCYcKyYmJiYcJisUJhwhISEmKyshISscITAmJhwhIRwcJjAcHCEcJhccHCEhFyscJiYXHCYrHCErHCYrJiErISEhISEhITAcJiEUIRwhKyErHCEmISEcKxwcMBwhKyYUHCEhHCYmKxccJiYmISsmIRwmKyswHCEXKxwrHCYmHBwhKyErGhwcHCEhJhwhHCscIRwcKxwcISEmISYmHBwhJhQmISshJhwhHCEhKyEmFxwhISEcITAmIRwrHCEmJiscKxwhFBQcKyshKyYXIRwcJiEUHCshIRcwJhcmKxomISYhFyEmISYXKyYmMCEmHCEcGiYcISYmIRcSKxcmHBwhISErHCYXHCEmHBchJiErHCYrJhwmHBQmKysrHCYrHCEcJishHCYhHBwmISscMBwhIRwrHCYrISEcHCYhHCEmKyscJiYmISYhIRwmJhcmMBwhISscIRcmKxchHDAaHCEcJhwmISYcHBwaISYhISEUHCErISYcJiEmJiYhISEhJhcrJhwmHDAhJiEcFCYmKxwrFyYXJhchKysUKxwmJiscHCsXJisrKyEhFyEcJhwcKxwmIRwcISEmHCYcISErJiYmISYXISYrISYmIRwrFyYcEiYhJiYhFxwhISYcJiYmHCEXKyYmKyYcKyErKxcmHCsrKyYrFCEhISYcISEmKxQhISYcHBwUJismJiEcIRwcFCYhHCsmIRwcKyEmHBccISYcKyEcJiEmHDAcJiEhJhwmJiYhJhccHCsUIRcwHDAXJhwcISYcKxwcJiYcKysmHDAcJiYrISYmJiYmISEcJiYhJiEhJhwmISshKxccJhwhISYhISscISEcJiYXJiYmFysrIRwmKyYmISEcHBwhJiYmHCshHBwrJisXKyEmJiEUKxQmJisXJhomJiYmHCEmFxwmJiErJiYhHCEhKxccIRwcJiEhHBwcHCYmJhwXKyYmHBwaJiYhHBcmHBomJiYhISYwHCsrKxwhJhwmJhwhHCswHBwhISsrIRwmISYrHBwmHBwmKysmKyEcKysmISYwHCsUJismFxIcKyYcFyYcFxwmFxwhFCscJiYwHBwcKxccJiYhKyYmJjAmJhQmIRwrHCsmIRwmJiEcJishHCEmJiYcISsrHCYXJiEhFyYmHCYcHCswHCshJhwmJiYrIRwmJhwhFyEmKyEmHCErKyYrIRccKyshHCYXHCYrJhwrHCErJismJhwcFyEmHBwmKxwhIRwcKyErISEcISEcJiYrJiYmHCscHBwXJiYmJhwrKxwhHCEhISErJhwXKyEmISYhHCYcHCscHCYmJiYcISEhJiYmISEcHBwcJiEmISYmHCYcISswKyscJhorKyYwKyscJiscIRwmJiEcISsrFyEhJhcmKyYmKxwmHCsmHCYhHCEmFxwmKyEcJiEmJiYhJhwcJhwhJiYcJismISsmKyYhKxwmHBcmJhccJiErJiYmHBwmFyYmJhwhIRwmKxwmIRomHCYcJisrFysrJiEhJjAmJiEcJhwrKxQcJhwmHCYhJiYmKyscJhchJiEhKyEXKysaISYcJhwhJiYXJismHCsmJjAmJiYUIRcSJiYrHCYmHCErHBcrJiErHCYcJismHCYwIRwhKyEmHCYhKxccKxwrKysmHCEmHCYhISsmJiEXISsXHCYrISYmHCscJiYcISEhHCEcJiYmMCscHBwrISYhJhwmKyYmISEhHCEhFyEcJiYhISsmJhwhFxwmFCYmHCEmKyErISYrJiErJiYmISEhKxchISEmISscKyYXKyEcJiYmKyEhJhwmFysmHCYrJismKyEcIRQhJiEmKxwmJhwmJhwhKyEmFyYrJiYhJiYrHCYmGiYmMCEhKysXHCYcHBwmKysXISYhIRchISErJiYhIRwcISEhKxccJiEhISsUIRwrISYhIRwcKyYmJiYcIRwmHCshISYhJismKxwcKysmJhwmFyYcISsmJhwXHCEhJisUISEmJiEhISEmJiscITArFysmKyEXJiYmJiYmHBwcIRwrJiEhJiEhHCYSHCEmHBwrMCYmJiscIRwUHBwmHBwcHCYmJiYmHCYrFyYcFCsmJiYrIRwhFxwcISEmIRccJiYmKyEcJismJiYrJhocJiYrISEmHCEhHBcmJiYrISYmISEcFysrJhQXISYcHCYrGhwhISYmISYrISshFyYhIRwrISEmJisaJiYcJhwmHDArHCEhKxcmKxwmJiYcHCYmISsmISYhHBQhJiEhISYcISEmJiEmJiYrHCErJhwrKyEmHCscJiYcGhwhISYhJhwmHCEmFyEhHCEmJisXMCEcJiYcHCswKxwmJiEhFyscFyEmISEhJiscISYrHCEmFyYhJiEcMCEcJiscFyEmKxwhISYrJiEhISYcFCYrISEmHBwmJhccFyYmHBQrKxwmISYcHCEcJhwrKyscEhwcISYhISEmISYrKysmFCEcKyYrKyYcIRQwHBwmISEhHBwhKyYhHBQcIRwhISEhISEhJiEmFCYmKysrJiscJismJhohJiEhKyYXFxwmISEmJiEhJhchIRchJhwcJiYrFxcmKyEXISYhFCscIRwcISErISYrKyshHBQcJiYrIRwrIRcrJhwhISYcIRwmKyEhFyErGhwrHCYUJhwmFyYmISEmHCEcKyEaIRwhJhwcISYmKyEcIRwmHBQmHCEcKyYmISYcGhQmIRwrISYrKxwXHCsrJhwcKyYmHCYcKyYcHBQwJishKyEmFyEmISErHCEXKyYmJhwmJhwhJiYcISYmISYmIRwmHCsaHCYrISEcJismFysrJiYhJiYrISEcISYmKyYmJhcrJhwcJishJiYmKxwhJiYrJiYrISEaKyEmJiErGiYhMBohISYmJhccFCYcJiscISYhHCYhFyYmISEhISEcJhcwHCEmHBwcFyYmHBwmHCEcJhwmKxcrJiEmISErJiYhJjAhJiYmFBccHCsmIRwmHBocGiEcKyYaGiESISYcKxwXHCYrISYmIRwcHCYXHCYhHBwmIRwrHCYhHCYmHBwrHBwcJiEhHCYmKyEcJiEmHCEXJiYcJiEmISYcHCEmHCsrHCEcIRcrKyEcJishJiErJiYhIRwcKxwcHCEhJhcrHCsmJhwrHBcmISEmIRwhHCYcHCEhKyEmIRohISYhISEmHCEmISEcIRwrHCYcMCYcJjAmFyEmISYrHCYmJiErHBwhIRchHCYcKysrJiYmJhwhJhwmFCEhJiYhJiEwJiYrHCYhJiYmJiYUMCYcKyshJishJiEmHBccKysmKyYcJhwaMCYmHCYcJhwXISYhKyEmISYhJiYcJiYXJismHBQwKzAcFyYhKyEhKyYhJiEmHCYhHCEmJiYhHCYrHCYcHCsmISYrHCshHCsmISErKyErJiEUJhwmJhwrJishJiYUJhchHBwmJiYhFyEXJhwhIRwmHCEhHBwhJiYmJiYmJiEhHBwhJishHBcmHCscIRQrIRwhHCYrJhwwISErHCErISEhJiYcFyYhHCYrKyYXISEhJhIcISYhJismHBwhJisrFyEcISErKyYSJiYcHCEmJishISshKyshKyEhFxwhHCEcISEmISYrHCEhJiYmHBwmHCYcIRwmISYhIRccHBwmJismISscKyEmGiErJiYXHBwmHBwcHBwhISsrJiYmFyYcHCYcKysUFxwcKyYhKxohJhQmISYhFxwhFxwcJhwrJiEhHBwmMCEcISYrHCEXJiYhJiYrHCYhKyEcJismHCYmHBchJhwcJiEmJhchFyEwISscJhorJiEhJiYUISshHCEcFCYrJhwhHBwXIRwmKyYmFyYmISsmIRwmJiEmKyYhHCYmHCshISEhISsmHCYmJiEmJhchJhwmJiEmISErHCshKyEhJhwcFCEmHCsmJiYUJiYmIRwhISEcIRwhKyYmISsrJiscHCYhISsmJhQhIRwhJishJiEhHCEmKysmITAXKyEXISsXHCYcHCYmJiEhISsrHCEUHCEhHCYrHCsmKxwcKxwhHBwrKxwcJiYXHCEmHCEcISEmHCEhKxcmKysmHCYmISshFyEmKyshJiYhJhorHCYmHBQmHCYwJhcrKxwmFyswISYcKyYwFxwhMBcmJismKyEhISsmKzAhJiscHCsmKyEmFxccJhQcJiYhKxwhJhcXJiErJiYUKyYcJiYmISEcISYhHCYrKyshMCsmHCEcISYcJhwmKyYmFxwmIRchMCsaKxowISYXHCYmJisrKyscKyYmJiYwJhwcISYhKyYrHBwmIRwcIRwhHCEhHBcmKyYmFyYcIRccKyYcISEUHCsmMBwrIRwhHCEmIRwmHCYcJhwmHCEUKyEcJhcrJiEcISEhJiYmISEmKyEmHCEXISEmISscIRwrHCscJiYhJhwmHBQhISYmKyYmJhwrHCEhMCEmHCsmJhcmFCYrISEwKyYrFyErISErJhwmJismHBwcISEcKxcrJiYmISYrKysmJiYhJisrISEcFxwmISEhHBwmISEmFxwcJhwmJhwhKyEhISYhHCYcISYhFBQmKxwcISEcIRwcHCEcKxwhIRwhJhwcJhwmIRchJiEhFyErISYcHCYcISsmISErHBwmJiYmJismKyEmKyYcFCYmKxwmKyYrISYmIRchISEmJiEmJiYXHBwhJiErKyYmISYcIRwmJismISEcISYUISsmJiErFxwmJiYmKyEmJjAhISYhISYXHCEmISscJiYcHBwrGhwhIRwrJiYmISsmHBohHBwhISEcHBohKyYhKxwhJiYmISEcHCYmISsXJhQmIRwhISYmFyEhHCEmHCEhMCErJiEmKyshFysmMCYmHCYrJiYmJiYcJiYmISEhJhwcKyYUJhwrHBQmISYmJiYmISYhHBwXJiYhJhwrJiYcHBwcHBwmIRwhISsUHBwrHBccHBwhJiYmJisXJhwrFCscJjAmHCEmFysmIRcmJiErGisrJiYmJjAwKzAmHBwmHCYrISEmJiYmISscKxwrKyEXISscISYhHCsaHCswJisXISYcHCEmISEcKyYrMCYcGhwUJhwhKxwcISEhISsmKyEhJiYhJhwhHCYmJisXJiYmJiYmKyEcHCscISEmKxQhKyEcJiYrISEcHCsaKyEaKyEmJhchIRQhISEhIRwmHCEhFCYhKxwrJiEcHCYmJhwcIRwmMCYcHDAhJhwmIRchGiEhJiErKyYcHCYhISYaISYcISYhISYcJiYrISYhKysUISYrFyYmHBwhISYmJhwXHBwhJismISsmISEmISEcFDAmHCEXHCYrHBchFBchISYhHCEhISYmKyYhHCYcJisUKysaFxwrHCYmJiYhISshIRwhFCsXJhwcIRwcJishJhwcKyshFyYmFyErISsrJhwhGiYmJisXGiYcGisrJhcmISEcJiEcMCEmHCYmGiYmHBwhFCErJiYwMBwrHCshISsrISEmKyEhHCYcISEhKysmJismJiEhJjAhHBocISYrIRwmJiYhJhchJiErIRwcKyEhHBwcJhwhIRwXJiYhJiYmMCYmHCYhISEhISEhKyshIRccJiYhHCsrJiEcISYcJhwcHCsmHCEhISErISYmJiYcHCEmISsrISEhISEhHBwmKysrHCYrKyYrFCshISEcFxwwJiYcISYXISsUISEXIRwrIRwmIRwmJiErKyEXJhcwISYrHCEcHBwcFxwwHCsmJiYcJiYmJjAhISshFxwUJhwmJhwhISYXJhwhHCEcJiYhIRcmHBccJiYcMBwcJiYcKysmKyscHBwmIRwcISYXISsrISYmHDAhJiEcKxohJiEXHBQcJiscHCEmHCYmIRwrISYmJiEcIRwhISEhJiYmKxohJishJhwrHCYmHCsmJiEhJiErHBwrJhwhKysmISEcIRwcKyYcFyYmKxQcJiscJiEhFxccISEcKxwmHCEmFysmISYmJiYrJiYcISsmFCscMCYcISEhHCYcHCYmJiEhISYXHCsmHCYcJjAmKxwrFCEUFxwmKyEhKyYcIRwhHCEhFyEmIRwmKysmJiEmHCEUIRwhHBwmHCEmJiEmIRwcISYwHCsmISscGismHCYcFyYmJismISYmJhwXHCscJhwXFyEhJjAhJhwmKxwhIRwhGiErISshHBcrJiYhJhwhJiYcHCEXHDAmFyEmISYcJiEmJiscJhcmKxwmJhwcJhwcIRIcJhchKyshJiscIRwmJiEXISYcFysmKyYmGiYmHCYhKxocFyEXIRwhHBwmISYmJiscISYrIRwmJisrISsmFyYcJhoXHCEmJhwcIRwmJiYcJishISYhJhwmIRwrFCYcHCEXISYhHCEcISYrJiYwHCYmMCshKyErHCEcJiYrHBcmHCEhJiYhISEmJhchFyshJiEmHBwXKzArISYhJhwcFyYmHCYcISYmJiEaJhwUJismKxcmISEcKyYcJiYhKyYhKyYmHCYrKxwrHCEmFBwrJisrHCscHBwXFxwmHBQUHBwmJiYmHCYhJhocHBwhISEhKxwhHBwhKyswITAmJhwcKxwcJiEhJiYcISYrMCErHBwmJishIRcmHBwrFBccHBwmMCshJiEhJhwUJiYhFyYmJiYrIRwmKyEhISEcKxcmKxQmISsXJiscKxcmJiEmISshISscJiYUISscISEcFyYmIRwrFyscHCYmHCYXJhwrKxwhKyEcHBwhGiEcHCYrJhwmJiYhFBwhJiYmIRwrHCsmGhwcKyYhKxwmJiEhJiEmJhcUISEhJhwmJismHBwrKyYmHCYcHCYmHDAhIRchIRQhGhwmISYmHCYhISEhIRccJhwaJiEhJhwrJiYSJhwmKyYhISYwHCEhKyErFCYmJjAmJhomIRwhJiEhJiErISYrJiscHCEmFCscJhwrJhwcFyYXJiYhIRwrISYhIRwrIRccIRwSKyEmFysmHCEcIRIhISErHCshHCEcJhchJishISsXHBwrHCscKyEhJisXISYrJisrHCYhHDAcJhwmHCYXFCscJiEmJhwmHCYcIRwcJhwhITAmFxwUISYcKyYmIRIhISEUISshHBwrKyYhISsXJismJiEmISYhIRwhJiYhHCYhJhwmKyYmJiYcISsXJismISYcHBwcKxwhJiscHCsmJishJhIXJishFyEmJiYUISErJhwrKxImJhcUISEcIRcrISEhISYcHCYhHBwhEiYmISEXFxwaKysmJhocISYrIRwhJhcmJiYmJhwrJishJhwmJismHCErHBwhJhwhJiYhIRwhIRwhIRwmIRwcISYmKyYcIRwrJhwcJismJiEmIRwhHCscHCYrISscIRwhISscJiYcISYaJiEcFyEcJiYmKysmKxcmHBcmMBwhIRwmKyEhMCYrHCYmFCYrKxwhFysmHCYUJiErJiYmFxwXJiYmISYmJiEhIRwcISErKyscJiYcIRwhISshIRwrKxwmISYcISEhJhwmJhwrHCYmJiEmJiESHCsXIRcmKyEcJiscISEcMBwrJhwXKyshISsXISEXJishJhwmJhwrJishKxwcJiYcJiEmHCYcJhwmJiYmGiErIRcmJhwhISYhHCEhFxocJiEmHCEcJhwcKyEmJhwhHCYmHBwcHCYhKyYcHCshFyYhKyYhKyYhHBcrJisXHCYmHCYmKyEhISEcKyYrHCshIRcmJiEcJiYhIRwrKxwmHCYmISEhJiYmJiYcHBcmGiYrHCErJiEmJiErJiErKysmHCEmHCscHCEhJhwcKyEwHCEmFyYhHBwrJhwmKyEcHBQXKysmJiEcKyshKyEXIRwrGhcrHBwhIRwrKyscJiEmJiYmJismKysmHCYmFxwhJhccGiEcKyEcISYcJiYcKyYrFyYmFyshISEmISYcHCYhIRwmKyErISYcHCshJhwhHCshJhwmJhcmJishGhcrJishHCYcKysrKyYhIRwaISEcJhwhJhcmHCEUKyYcISEmEiEmHCYcFyYmFCshJhQhJhwhHBcmJhwrHCEcHCYXJhwhKysrJiscJiEmHCYhGismJhwmKyYmKysmHCsmKyYrJiEhISYrIRccJhwmJiYcJishKyYmJhwrJiYhHBwmIRccKyErHCEhIRwcHCEcKyEhJiYcISEmKysrHBwcJhwrHCYcISEcJhwhISYmJhchIRchKyYmISEcKyYmISEcJiYmJhccHBQmHCEhJiYmISsmJiYhKxomKyEUHCYhJiYhITAmKxwrJhwcHCYhKyshISEhISEcJiYmISYcFCYmHCEcHCEmJhwmISEhHCEUJiYmISEcJisrIRwhJhchJiEXIRwhJiYcHBwcKysrHCYrHCEcJisrHCYcHCshKxwcJhwSHBcmIRwrFxwhHCEXKxcrHCYhHCYhIRwrJiErJhchHCEcHBwcJiYmISshKxwcHCYmJiEcISshISYmHBwrKyEcHBwmFyscHCEmISEmHCYmJhwcHCEmKxwhJhwcKxwmKyEcIRcmJiYcJhwhISEmJiswJiEmFzAmISEcKysUISYhISYcIRwhHCYcISYrIRwhISEhISYmHCEmISEXJismJiscISYhJiYmJiEmISEXJiEcISEcFyErHCYaFxwmJhchISYmHCYrJiYmJiYcHCYmFCYrISYmHBwcISEhHBwmJhwhKyYmKyEaISEcKxwmHBwhJiscHBwcHCErJisUHCYmHCYhISYmJiErKyEhFyEhISYaHCEcHCYhHCEwFyYhISErITAmKxccKyYmJhwmHBwmHBcmHCEXKyErHCYcISYmHBwhJiYmIRQcKyEcHCYcIRchJhwmJiEhJiYrMCYrITAXHCYXFCYmIRomHBwhEhwhJiEhKxwcIRwmKyscJiEhHCshMCYhIRwhHCYrKxwwJismKxwcIRwmJiscISYmFCsmJiswFyEmKyYhISscHCEhJiYhISErKxwhJhwrHCEcIRwUKxwXFxwhISEcFyEcJisrKxQcKyYhJhwcKyYmJiYcKyYhISEmJiYcISYUHCYrHCEcMCEmHCEcHCYhJishGhwcJiYmJjAhHBwcJhomHBwmISsrISsXISYUHCshJiscFyYmJhcmISshJhwmHDASJhwmKyEmISshJhccHBwhKxwcKxwcHBcmJhccJishHCshHCEhKzAcISErHBwrHCYcKxowHCEcJiEmKxwmISErJiYhKxwhJiYhJiEcHCscKyEcIRQmISEcJhQcKyYcJhwmJiYcISYmHCEmISYhKxccKyYcHCEcGisrKyshISErJhwmJhwhJiEhISsmHCEcKyYhJiEmFyYhJisrHBwcIRwcJhwXISYhJiEhJhwhJiYhFyYrFyYrISsaHCEcJhwcIRwcJhwrISshISEmFxQcJiEhKxwrJhwmJiYcJhccKyYhISYmHCYcJiEcJiYXKyErIRwhJiEcJiYXMCYmHCscKysrJiYmKxwmHBcmISEhISYrJhwmKyYrHBwmISEhMCEhJhwcIRwrJhwUISEmHCsmIRwrISYrJisrJhwcKyYmJiEmJiYcHBwhJiEmJiYmKyEcFxcrHBwmISscISscJiYcIRwmHBwmIRwmFyYXHBwhKyYmMCsmKyEcKxcrJiYcKyYXKyYmJiswJiYcISEmJhwhMCErISscJiYXHBcmJiErISYrKyEmISYcHBwhISEmJiEcKxwhKxQrJhcXJhohJiYmHCYmJhQcKxwXISYhJiYmITAUJiEmFCshKyEhFCshJiEmIRwmHCshJhwcJiEmKyYmISYmISYrISYrKzAcHCYmIRwmFyYmJiErISsrHCEmHCEUKyYmHBwrJhccHBchISsmHCYmJiEhISYmHBwXKyYmKxcmIRwmJiEcJhchHBwrHCEXHCsrIRwrJiYcHCEmISsmHCYmKyYmIRwrKxccISYrHCYXKyYmJiEmISYXJismISYrFBwhKyYXJiEmHBwrFyYcKyYhISEhISYcJismJhwcIRwmJiYhKxwcHCYhJiYhIRchISYrFyEcHCYhISEmHCsmJhcmIRwhJiYmJhwmHBwmHCEcISscHCYmKyEXKyYmISsXJishJhocISEhHCErITAcIRwhJishEhwrJiYmHCYrISshKxQrJhwcMBQcKyEhISYrKyYcISYmISYrHBwaHCsrKyEXISEXJiYcJiEaISYhJhwhISYaISEcISErJhchJiYrHBwaFyshHCscIRchJiscFyYhJhwhHCEXHBwmHCEcHCEhHCEcKyYaJiYcKxwhJiYmISYrJiEcISYmJiEcHCEcKyYmISsmJhwXJiYhJiYrJhwcJismKxccFyscHCEUHCEhHCsmKxQmHCEmJiErFCsXKxcrHCEmISsmHCscIRcXIRwhHBwhJhwrJiYcHCEcJhwrISEaFyshISYcKyErKyEmHCErJiEhJiYhJiYmHCYhHCEcHBwSJishFBwwHCEhJhwrKysmISYmJiYrHCErJiYmKyEhJishFBwmHCEcHBwcKxwrHBwhISYcHCYcJhwrJhwmFysmISsrIRwhKyEhISscIRcrJiEhJhomKyEmISYmHCYmJiErHCEwHBccISEmISshJiswHCYcIRwrKxcmJismKyYhIRcmHCYhFyYhHCsmJhQrKxwmJhwrHCYhKxwmHCYUIRwrKyYhJjAhFysXHBwmJhwmKyYcJhwmISsSFyEhHCYcISsmJiEmISYrFyEhJiYmJhwcJhwmGiYmISsmJisrISshHBwmKxwcISsmJiYrFBwmHCsXJiErJiEhIRwmHCYhJiEhJiYhJhwhJiEcJismJiYrFyYmKyEcFzAcJiEhKysmJiEhIRQhHCsmHCEcHBwmJiEmJiEmHCYmKyshJiYmHCshJiYmKyscJismJiYmJiYhHBQmHCsmKyYhKyEmHCEhHCEhIRwXISYrHCEmISEXJisXJiYcISYcKxwrKyYXISsmJhwXHBwcJiYhJiEmIRwcHCEmKyscIRccMCEmKxchJhohJhwUJiYcKyEcJiYaGhQhIRocHCEcHCscKyYhISEhJiYwJiEcHCYXHCYhHBwcIRwmFyshKyYaISEUHCYrHCYrHBwhJiYXKyEcKyEhIRwrHCYhJhwmFCErHCsrKxwhITAwHCEXJisrKyEaJiEmJiYmISEXKyYhJhwcKyYmJiYhKxwmJiYmISYhISYcJjAXJiYhJiYmHCEcJismKxwwHBohJiErJiEcIRQhJiYrKyYhJiscISEhHCEcFyYhHCEmJiYrKyYrJhwhJiYcJhwhJhwhKxwXJhwmEiYcKysmJhwmHCYmISsmJhwrISscMCscIRwmFCErJhwhISEcISEcHCYhIRwwISEcJiYhHBwrHCYXIRwhJiscFCEmJismHBcXFxISHCEhIRwwHCsmHCEwHCYcJismISsmJiYmHCshISYcJiEmKysmISEhHCEcHBchKxQcFxwmISEhJiEmJiYUJismHBwmHCYcJiscKyYrJiEhHCYmJhwrFxwcHBwrISsmHCYhMBwhKxwhKxwcJiYrHBwhJhwUJiEcHCscKzArJhwcISYrMCYXIRwhFBwmJhcrJhcmKxwmHCYmISYmISscFCYUISYrKxQmISsmISEhHBwmKysmJiEhISYhHCYXHCEhJiYhKyYcFyYmKyEcFyYhJiYmIRcmJhwcHBwmFCEcHCEcKyEaHCErHCYrJhwrFysmKyYhJiYcIRwcISEmHCYcJhcmIRwhISYhIRwhIRQrKyEmKyEhHBwcGhwhHCYmISYcMBchHBcXJhwcITAmHCEhJiEcJiEmKyEmJiYXJiEmKyYrKyYhISErHCYXISEmIRwrISYhJiEhHCEXJiscISYrKxwmHCYhISYmJiYmHCYcHCsmISYUKyYmJishHBwcJiEmKyEcHCEmJjAhKyscJisXISEmIRwmKyYhJiEXHCYcJisrIRcmHBwcKyEhKyEhJiscKyYmISEhFyEmISsrHCEhJishHCYwKxwhJisrHCYcKxccJiEcHCYmJiEhMCErFyEmJiYrISYXFyErJismJhwrJiErJiEmJiEmKyshJhwhIRwUHCYhJiEmHCsmKyYhIRwrIRwhHCYcJisrJiYhISYmHCYcISErJiYcJiscKyshJiYhJhwcJiscIRchKyYhISYrKyEhHCEcIRwmHCEhKyYhKxwmFyYmISYrFyEUGiYhHCYcKyEUHCEwIRccHCEmIRwhJiYmJiYrKysmKyYcJiEhHBwcJiEhMDAhJiYhISshHCEcIRwhJiYmHBwcKxwhJishHCsmFyEcKyYcHCshISscFyEhHCErKxQmISEmJiEmFyErHCYhJisrJiEhJiYrIRwrJiYrHCYmJhwmJjAhHBcrIRwwISshMCYmJiYhHCYhIRchJiYmKyEcIRwcHDAcGiYrHCsrKyYcHCYmJiYcISEhKyEcHCYhJhwrJiEhJisrHCYrGismIRwcKxwrISshHCEhJhwhHCYcKyYcHBwhKxwhJiYhHCYhHCErJhwmISsmJiErIRwmHBwhHCEXKxchJiESJiEmFCYrJjAmJiEcHCYmISYcIRwcJishIRwaHBwmHCYmIRwwHDAhJhwwHCEmISYmMCEcFCYmJjAhJiEmHCsrJiYhJiYmKxwrFyEhHCshHCYcJiErISsmJhoXHBwcHCYrJiYwFCYrJhcrKyErKyEcISEXIRomJismHCYcISYhHCsrFxwcKyEXKxwrKyYrHCYrHCEmHCEXJhwhHCEmISsXJiEcMBcmJisrISYwKyshIRcXJiErKxcmKyYcJiYmISEmGhQcMBwmIRwXKyshISEcKyEhISEXISYmKyYmJiscJiEmKyYmKxwrHBwcJiYhIRchISscFCEmJhwcKyscHCEcJiscJiYhFyEcISErFyYmJhwrHBwhKysrKyYrFyYrJiEXKyEXJismISYhKyEcIRwhHBwrHCYmISsrFxchHCYXISYmHBchHCscISYaKxccKyscJiYXJiErFCYcKyscITAmHCYUISErHCscJhQmISEhISEcKxwcJiYXJiYmJiYrKxwrJishHCYrFCYcHCErISEmKyYmJhomKyEhJiErISEmKyYmISYcFyYmJiYcJiYrJhchISYmISYrFCEmHBwcHCYmKyYhJisUFxwrHCEcHCErFxwrJhIcKxwhHBwhKyYmHBchGiYcHCshHBwrHCEXMCscISEhHCsmHCYrHBwmJhwmFyEcJiYhHCYmHBwhHCYhISscISshMCEXHBwhHCYcISsrGiYhKyYXIRcrJiYrHCscFyYmFxwcJhwrIRwcFyYhJhwmFyYhJhwcHCEmFyYmKxwhHCYXISESKyYcISEcKysmJiEmHCEhIRwcJhwcMCYmKxwmHCYmKyEhKxcrHBohHCEcKxwrKysUIRwmHCYcKysmJiscJhwcIRwrISEXKxwmFxwhHBwhKyYhHCshISsmHCYrJiYcKyYhKyEhHCYrISYmKyEmIRwhIRwcISscJiEmHBwrHBwhJhwhJiEmJiEcFysmISsrHCYhISYhJhcXISscFCsmJiErJiYcISEhKxccHCshKyscHBwrKxQmHCYcISEhJiEcIRwmHCEmHBwcISEmISsmJiYmFCYrISYcHCYrJiYXHBwcIRwrHCYhJiEmJiYrFBwmHCscISYmHBwcHCYmJiscKxwmHBwmJiEmHCEcKxwcHBwmISYrMCsrJhwmJiYmIRccKxwmISEhHCshHCYXISshJhwmISEcKyEmKyYcHBwmHBwmISYhIRwcFyshHCsXKyEcKxwcHCYcKxwcISYaKyshJiErKxwcHBwmHBwhJhwrISEmKyscKyYhKyYrKyYhHCEhIRwcJiYmHCErHCshJhQrHDArJiEmISYrKyEhJiEcJhcrHCYhKxQhHCsUJiEaJhwhFxwmFyYcHBwrJiYcISYcKyYcJhwhJismKyshHCEcHCYrHCYmISYmJiscJiYcIRwrISYXMCscHCEhJiscHCErJiYrISEmISEmJiErJhwhHCEcKyEcJiEmJiscIRwmKxwhJiEcIRcmFyYmJhorHCYrFysmKyYmKxorJiYcHBcrHBwhHCEhHBomJiYmISEmJhwmKyscHCEcJismJiYmMCYcJhwcIRwmJhwwKyYmISshFBwcJiErHCshKysmJiYcHCErKxwaJiYcISYrJiYrJhccJhwmHBwrISYcMCsUMBcmHCEaJhwmKysmKxwhJiErIRwrISEmJiYmMBwmJiscFBwmFCYcMCEmJhwmKyYmHBchJiYcHCYmKyEmJiEhIRwhFyshIRwmHBwmHCYcHCEmISsmJiYmJiErHCEmJiYcKyYmHCYmHBwmHBcmJiYrIRwcHCEwJhwmJiEXKyYrKyEhHBwhKyEmJhwcJhwrJiEcJiEXMCEmISEhKyYmISYhFyYcMCYmHCYrJhomKyYhIRwrKxwhJiEmKxcXJiYhKxwcISErJhocIRcrJhwmFyYhISYhJiEcJhwmFxwmKxwhJiEhISYrJhwmKyswJiYhKyEcHBwhISYmIRwhEiEwHBwhHBwcFCYrKxwrISYhIRchKyYmJiYmKysmJiYmISscKyYmJhQrHCYrKyEcMCEcKyshIRwrMBQrJiYhISEcIRwXJiYmJiEmHBccJiYcISsmFxwhHCEhHCshJiYhIRwhJiEXISYhKxwmKxwrHCEwKyEmKyYrHBwmFCYcHCscMCYcJhwcHCsmHBwmKxwwHCYcIRwrMCsUKxwmJiYcIRwhJiscHDAhISEmJiYmJhwmKyEcJiYXJiEcISscHBwmJiYmKyYmJiYhKxwhIRwrFyYcHBwhISYhHCEmISYmHBwcITAmFyYXHCEcISEhISYcHBcrISEcISYcHCYmISYSHCEhHBwhJhwhJiEcFyEcIRwcKxwmHCYmKyEmHDAXJhwmKyEmKxwmHCYmJhwcHCEcKxwcJiYcKyYcHCYcHCYhJiEmJiEhJiEhHBwcJhwmHBwmFxwhJismFxwwHCEhKyEmJhccJhwmJiEmHBwrKyEhJhwmIRwXJiErISEmJiYhISYrJiYhISEhKyEmHCYwISYwJhwcKxwcJhwhJiYrIRcmHBwcFxwmKyErISEcISYrJiYmKyEXKyYhISErHCYhISYmJhwrJisrFxocFDAhHBcrFBwmISErHCErKyEcHBwhHCsrJiYhFyEhKyYhJiYSKyEmHBccFyYcHCEXFyscHCEhJiYhIRwmHCYUHBwrJiYhKyYmKyEUJiYrIRccHCErHBwcISYcIRwmHCEmHBchMCYXISYmHBwhISYmKyYrKyEcJiEmIRwcISYrHBwXJiEmJiEmFCEhHBImISYmJishKyEmJhwhIRwhJhwmHCYcJiEXJiEcJiscKxwhKxwcKyYmFCYrJiEcHBwcIRccISYmHBwmJiYmISYhJishKyYhKysXKyEmJiYrJhwhJiYmKyYmKxwmJhwmHCYmISshISEcHCYmISErKyYhISYmISEcJjArHCEmIRwcHCscHBwmHCEXJismHCYcKyEmKxwhJhwhKyErHCsmFysrKyEhISYcISEhISYrJiEhFxwmKyErHCshKyscFyYcISEmHBwcKyshISYcJiYhISEhHBwhKyshISEhISErJhwcHBQcJiYhJhwhJiErJishJishFCYrFBwhJiErJiYmKyYcHCYmFCEcJisrKyYrKxwmHCErISsmJiEhFyEmHCYUJhwrFyYwJhwmJiEcKyYrIRwmKyYXISYcFxcmJhwhJisrISYXHCsrKyYrJishJhwrKyEXFyYmHCscGismHCEmHBwcJisrJhwrJhwhHCYcISYmISEhHBcrJhwmFCscHBcmHDAmFxwrHCshJhwrISEwKyYhHCEmKxwmITAmISYrISYmJiscFyYmJismISEXHCYmKyEcJisrKyYmJiEcKysmIRwhMCsrHCshJiEhMBwmJiYXKyYcFyErJiYhJiYaJhwhKxwmHCEmHCsXISYXKxwXIRwcJiEhISshKxwrJiYcHBohIRwcHBwrJhwhKyYcJiYwHBwrHCErJiYXHCEmHBchJiYmHBwSJiEmJhwrHCEmISsmHCYcJiYwFCErKxwrKyYmFyYmKyYhIRQrFxwmKyscKysmIRccFCErKxchIRwmHBwhJiErKyYmHCEUKyEmISErJhchKxwhJiEmHCEcIRwhJismFyscMBwcKxwrFzAhIRwmJismIRcrITAXKyEhISshISErJiYrISYcJiEmHCYhFCYrKyErJhwhKyYhFxwhHCsmJiEmHBwcJiEhIRwcHDAwJiYhJiYaISEcISYmHCEmJiYmFyYwISEXKyErKxwhISshJhccJismFBQhHCYcHCshFyEhJiEXJiYrHCYmJhwhJhwhIRwaJiYmJhccFyYhITAmKxwmFCEcHBwmISEcJhQmMCEmHCYrHCEmFBwcISYrKxwcFyYmISEcISYcISsmKxwmISYmKxwhJhwhFCEhISEhHCsrJhwrISYhFBwhKxwcFxwmHBQrHCEmMCsUHBwUJhwmJhwmFBwcHBwmHCEXFyYXKyYmJhQrGiEXJismKyswISEcHCYrHBwcISscJiEmJhwwISYhJiEhHCsmHCscHCEhISshJiscKxwrKyYrISYXJiYmISErIRwrISsmJhwrKyYrHCshKyEhKxwhHCEcHCYmISswIRwhISEmISYmJhwrIRwmKxwXHBQcIRwcHBwrMCshIRwcKyEhHBwhHCYmHCsmGhwrHCYcJhwcISYmISscHBwmISEcGiEmHCEcHCYcIRccHCYhISYcITAmJiEmJismKxwmJiYXISYmFCEhJiYrJiErJhohKxwwJhwcJhwaHCEcIRwmHCshKxwmHBwcHCEmIRwmJisXJiErKyYmHCYXJiEhFxwhHCEhJhwmKyEmJjAmHCYhHCEcHBwcFysXHCYhISEhJiErISshJhoXJiYhHCYhJiErKyEmJiYmFCshISErFyYhISYmKxcrJiEhISshJiYhJiYmHCYmJishJiYmKyYrJiYhHCEhHBcmJiErIRwmISYmISEhJiYmJhcrJisrHCEwKyErHCYmKyEXIRcwISYhHCEaFCYhHCErHBwrHCEcGiYhJiYrJiYcJiscISYmJisrKyEmJhwmJiEcISYmHCYrHCYhJiYcMCEhIRwcISshJiYmFBwcIRwXJiEhHBwXHCEmFyYhGhwcJiErHCEmJhwUJhccISYrISYhHCYaISYcJiEhISYcFCYrKxwrJhwrJhwhHBwcJhwmFxwcHCYmGiEcKyESJiYmJhorISsmIRchHCEcFyEcHCYcHBchISYhJiEcJiEXFysmHCEcISYcHCYmISEhISYrFyYcJishIRwhKxcmHCEcKyYcKyYrISYwJhwcISEcHCYhJiYmJiYrISYhJhQrKyEmISsmJhwrFyYmIRomKysrHCYXJiYcHBwmISswJhwhJiYXJiYmJjAhHCsXKyYhJhwcJiYmJiYcHCEcISsmKyEmIRwrISsrJishHCscHBwrIRwcISYcJiErJiYmMCsmHBQXJiYmIRwcISYmIRwhHCYcHCEmJiEcISYhJhwrHCYhHCEmFyYhKyEhHCYhJhcmKyEhISEmIRwcKyYwJiscISscKxcmKysXJhchKyYrMCYmHBQcJhwmISYmISYUFxwmHCYmJismJhwXJiYmKysmHCErKxwmISYrHBwhIRccHCscHCEXJhwmJiEhISsXJiEmHCEcKxwmGhQcKyYcFyYhMBwcHCYmJiYmIRwhKyYhKyEXKyscHCYmJhwhHCscHBwcKyYrJiEcGhwXHCscJhwmHCEXJisrIRwhISEcHCEmISYcJisrHCEXISYmGiEmHCEhISscKyshKxwhJiYaKysaGiYhHCshKyYmKyshGiscHBwmHCYhISErIRchJiEXIRcmJismJisrJhcmHBcmJiscHCYwJhwhHCsmMBcUKyEmISEhIRwcJiEhHCYmKxQcJhwcKyEcJiYhMCEXISsmISEhFBwXHCEmIRwrFCErGishJiEhISErKyYXJiYhHCYrISYcGhccJiYmJismHCEmJhwmJhccJjArIRwmJiEmKyYrJismKyshJiYcFxwXJhohKyYmISYcISYmMCYmJiYcMDAmISYhJiYmFxwmIRcrFBwmIRwhKyEhIRwhJiYcJiYhISYmHCscFyEXISEcISYrJiEUJiYhHCEhGiEmFyYcKxIaHBwcHCErISYhFxwcKyYmIRomJiEmJhcrJiErFyEcJismKyEhKyYhHCYmMCshHCsmKyEcISYhIRchKysmKxwcIRwcHCEhJiYhHBwmJishKysUHCEXHCYrHBcXHCEhKyEaKxwcHBwcHCEhKysmISErHBwcFxwXIRwrKyYrIRwrJishITAhHBwXHBwhKyEcJiEmJiEmHBwhISEmISEhISYXJhwmHCEmHCYrJiEXKyEhHBwhKyYhJhwmKyEmIRwmHBccJhwrJiEUJishISEmJiEmJhcmKyscKyEcJiEhJisrIRchHCscHCYrISswJiEhKyscJisrJhQhHCYhHBocJhcrJhwmISEcISEXKysmJiEcKyscKyEcHCYhIRwaFxwcJishJjArIRwcFCYmJiYcMCEmKysrHCEhISYmIRwrIRwrHCYwISYXHCYXHCYmJismHCYhISEhJhcmFyEhKysmIRchJhwmHCscJiYhISYmISscKxwmISYhJhchKyYmKyYmHCYcJiErKyErJiYXHCYhIRwUISEmIRwcHCYhIRwhISEmFBwrJiYmJisrISEmHBccISYmISYhJiYwHCYhHCEcIRwrISYXJhwcIRwrKyEmKyEXHCYcKysUISYhFxwhJiEXJiYUJiYhHCsrFCYmJismHCYmFCYmJiEwKxQhKyYXISYmISshKyYhJhwrHCYhJhwXJhwrJiYcKxwhHCEmHCYhISEcJhcwIRwmJiYmFxwmJhwrHBwmJiEXJiYmJhwhISshKyYhHBwhHCEcJiEhHBwhHCEcISsmJiYmKxwcHCEmHCscHCYcHCshISsmJhwhJisrKysmJhwXHBwcHCEcISscJhwrJiYmJhwmHBwhHBwhISsmISYhKxwmJiEhJiEmJiscFxwrISscHDAcJhwhHBwmHBwhIRwcMCYhHBcmFyYmKysmHCEcISErHDAwJiscIRwcIRwwISEcKxwhISYcJismFyEhJiYcHBwcISYXJiYrJiErJhwcHCYrISEhHBccJiYmISYmHCYrHCEXJismHCYcISYrKxwmHCEmJiYrHBwmIRwXGiErISscHBQrHCYhJiscJhwmJiYrKyEcFxccJiYUJiYmKyYcJiYhJiscJhwwKxwcJismKxQhKyYhJiEhMCEhISEhKyEcMBwhFyEhISEmJiYcJiEcHCYhISYcHCsmISYhIRcmKysrIRwcKxwmKyYhJiEcKysmFxwmJiYrFyEmJismJiYhHCYhHCYmHBwhISErKyYcFyYaISYmIRwmISYrJjArHBwhKysmFBwmKyEhIRccHCYcHCEhJjAcISYhJhwhMCsrJiEmKyEmJiYcHCYmKxwcHCEcJhwcIRwcHCYhKxcmJiEhHCYmIRwcMCscISYXJiYhFyYUIRwhJhwrISYhJiEmHBwmKyEhHBwXHBwcJiErJismKyswFyEmJiYcJhwcJiscJisrKyEhHCYUISYXJhwmKyshISEcJhwhFyYrISYhISYmJhcXISEmISYmHBwmHCYXFyEmKyYmHCYmHCsrJiEmIRcrHBwmIRwmFCEcIRwcHCEmHBwcISsmKyEhHBwhIRwcHCYrIRwhISYmISYcJiYhKxwhKyYmKysmISsmKyYcISYmJhwmJiEhKzAcJhwmFyYaHBwcHCYmJiErJhwcJiscHBwrMCYmKxwhJiYmISEcHBwmJishIRwcHCYcHCsmKxccKyscJiErHCEcHCYcISYXJiYmJiEhHBQhFCEUJiYmJiEhHBwrISYhHBwmHBcmHBwmKxwhJiEhEhwcHCYrISEhGhwrJhwhISYmJhwcJjArJiEmFCYrISsmJiYmIRcrKxoXIRwmHCEmKxwhJiEhHCEhISYmJhwXHCscISYcHCYcISYmISYmJiYXISYXIRccISYcGiEcMBohISEhKxwrKyEmJhwcKyYhISYcJiYcGhwcEisrFysmISEmJiYhHBQhIRwrHCEcJhwmMCYcJiEhKyshJiYcJiEcKysXHBomJhwhJiEmJhwcHBIaFyEmEishISEmISEmFyEmHCYrFysrISYhFyscIRwcISYhJiEhJhwhISYhHCsmKyEmJishJjAmFysXJiEcJhwhIRwhJiEcIRIrJiYmHBwcJhwcJhwhISsrISsrKyYXHCYmJhwcISscJjAXMCEmHCYhJiYmHCshKyYrFyErISshISEmMBwrJjArHBwhISYrISErJiYrISEmHCYrJiEwHBwrJhwcFxchHCEmISEhHCsmIRwcHCEhISEmISYcKyYhJjAhJiEXJhwhHCEcJishHCEhISEmGiYmKyYmIRIcHCYmHCYcHCYmJiEhJiYhJiYmHCscJhwcISYrFyEhKxwcJiYUHBwXKxorJiEmHCYhJhwcJiYcISYXFyYrHBwrHCYcISsmHCYmKxchMCshISsrHBwhFxwhMDAcISYhJisrHCEhISEcISErJisUJhwcJiErFyYhISEcIRcXJiEhJiYmJhwcHBwcJhocIRwrJhwmJisrHCYhKysmHBIcJiscISYmISsmHCYmKxwcMBwmISshHBocKyshKyEcJiYmKyYcKxcXFyYmISscHCYrKyEhHCEhKyEhJisrISEXHCYcHCErJhQmHCEhISswHCYXIRwhFyYcJiEcJiYcKysmJiYmIRwmKyEhFysmHBwmJishKyYwJismHCsmJiEhISsmHCEmISYcJhwmHCYmKyEcHCYhISErFyErJiYmJiYXHCYrHCscHCYhISshISYmKyYmISYhISYaHCYaJiErFysrKysXHBcrJhwXKxwhFyswJiscHCEhJiYrHCEcMBohHCYhISEwJhwcISscISsmISYXJiEmJishIRwXJhwrHBwhJhccKyYmKyEhJiYaJhchISEmKyYcIRwrIRccIRwhJhccHCYhJhwmJhwhKyYmHCEhJiEXJiYXISYcISsrISEmFCsrISYXHCshISEXHCYmHDAcJiYXHBwmJhwmHBwmIRwmJhwmIRocJiYmKyYmISEmJiEmFyEhFyErIRwhJiEhIRwcKyEmHBwcJiYhKyEcHBwcJiErIRwmHCYmMCErHCYhHDAwJiYXISEmISYaJhwmIRwmJiYUKxwhISYmIRwmISEmHCYrJishEhwmJiYmJiscKyEhJiEhIRwhISsrJhcwIRwcJisrHCYrIRwcFxchJiYhJismHCshHBwwHCsrJiEcHCYmHCYmHCEhFBwmJiEhHCEmISEhHCshKyYhHCscKxwhJiYcKyEmIRccJiYXJhcmHCEmKyYhKxwcJhchHBwcHCErKzAXKyEcHCsmHCEmJhccJhwmKysXHBwhKyswISYrHCEmHCYhFyshKysmJiYXISshKxwhJiYhKyErISYcJiEcKyEUJiYcJiYcFCEhJiYcISYrFCEcHDAcHCscJiYhFyEcJiErKyYmIRwcITAcJhwXHCYcJhwmJhwhJiYhISscISYhJiErJiYhHBwrKzAcJhwUISYcHCYmJisXJiEmJiYmKyEXJiYmMBwrISYhJismHCshHCshJhomJiYXMBwmJiYhIRwhHBQrHCYrFCEcISsmEiEhJiEmFyYmJhwmJiEcKyYrHCErITAwIRwcHBcXISYrJiEhHCYmFyYmISYcJhwrFyYhHCsmKyErKxwrHBcmJiEhHBwhKyEcJhwcHBwmIRwXHBorIRwcHCYUJishISEmIRwmKxccHCEhJiEhISEhJiEcMBwhHCEcJhwhHCYmJiYmJhwmJiEXJiEXJiEhHBwcJisrJiYrJiYmHBwXJiYrKyYmISsmISEwISYmFyYhISEhJiEmKyYhJiEhIRchHBchHCYcJiscIRwcKyYcHCscFyYcJhwrHBwmJiEhJiEmJhQXJiErJhQhISsrJiEhJismHCYhJiEmIRcrHBcrHCYmJiscKyYXJiYXISYmJhwhISEhISscJhccJiEcISEmKyscJiYrJishJiEmJhwcIRwrIRcmISErISsmKyYmJhcrJiYhJiYmIRwmJhwcJiEcHCsrHCYmHCsmJiYhHBwhJhwhISEmHCEaJhwmHCYwKyYcISYhISEmISEmHBwrISEcJismHBwcIRwmFyYcISsmJhccIRwhHBwhKxwcFysmFxwmJiYcKyYrJhwwJismJiYcJhorHCYmKyYhJiEcHCEmJiYmISYmHBwmJhcmJiEmHCYrMCsaJiEmHCYrKxwrJiEmKyEmJhwmKxchJiEmISEcHBwmJiEhISshJiEmKyEmIRwrISYcIRwhHCYUKyYmISsSISYcISsrHCYmHCEmIRwcJhwcIRwcJhwrJhwrHCYmHCYhKyYhHCEmEiYXJiEmISYrIRwcIRwmISEcISYhKyEcISYcKyEXHBcrJiYUISEcJhQmHCYcHCsrHCYrJiYcKyEhHCEcKyYmHCYmIRwwKxwhHCYrISYrJiYmJiEUISYcISYXHCYUHCshHCEmHBwhJjAhHBwmJhwmJiYrISsmJiYcISscJiEmMCYmJhwrKyshIRwcHCsUISYhJhwrHCYXHCsrHCYhJiEmHCEhISYmISEcISYwFyEXHCshKyEXKxwcHBwmHBwXISEmHCsmISsmHCEmKyEcISEcMBwmJiEcJishJiEmJiYcJiEmISEcJhccISEmIRwrHCEcJiEhIRwhISYcJhwrHBQmKyscHCscISYmIRwXISYUHCYhMCEcISsXIRwmHCEwFyYhITAhHCYcHCEmISshFxccISscJismISEcJismJiEhMCEcHCErJiEcITAcISsmKyYrKyEcHCscISYmIRccHBwhIRwmISYmISYrFCscJhcrEiYmHDAXHCscJhwXISshHCEmHCEcKyYmJiYUMCsrJhwcKyYmJiEaJiEhISYrKyYhJishJiYmJiYmKxwhISEhIRwcJhwmFyEXJismFyYrMCYcISscIRwmJhwcHCshJisrISYcISYrJisUFxwmKysmHBchKyEcJiYhJisrJhwmHCYmJhwcJhwcHCYhFyEmKyYmJiYhHBwmISYmKxcrHCsmJiEhKyEmHCEcHCsrJhcmISsmJiEhHCErJiYcKxQhISEmISYmJhIrJiYcHCEhHBwcJhchJisrJhwhISYhJiEUHBwhJismISEmJhchIRcmHBwhKxwmJhwmKxwrMBwcKxwcKyYrJhwmJiYmJhwcJiEcHCscISYcJiYrJhchISYcHCEcHCYrISErFyshISEcKxwrFysmISEmISYmISsmHCEmHCEmJhwhJiYhJisrKyshISYhJisXISsmJiYmIRwmHCYrKxwmISshHCEhJiEXHCscHCYmISsmJhwcJiEcISYhHDAhISEhJisrJiYmKyYcEiYmMCYaHCYhHCshIRwhJhwrKyEmFxwcKxwmHCYcKyYmISEcKyYmHCsrISshKyYmISEcHCEcHBwmJiEmKxwmJhchHCEmJiYrISEcHBwrHBwUFxwmJiYhHCEhKyYmHCEmIRwcJismJiYcISEcHCErHCYmHCshIRcmISscJhwrHCYwISsrKyEmIRwhJhwXIRwmJismISYhJiEcJhwcHBwmFCYcHCYcJiYmJiYhJhwcJiYXIRwcISsrKyYmISsXHBwmIRwXISsrISYrKyscHCshMCYmISYhHCEXHCEhKxwcJhwmGiEmISEmJiEmISsSFCsmJismKyshISErISYcKxwmJiErJhwrFyYcJiYhHCsmISYhJiEcJiErHCYwKyEhJiEhKxwcKxcrKysmIRorGhwrHCEhJhwmISYcISsaJhwcJhwmHCscISEmISEmJhcmHCYhFBwhIRcrJiYhISsmJhwcFBwwKxwrIRwmJisrIRwhJismHBwmIRwmHCYrJiEhHBwhJhwrKyscHCYhKyYcFxwmHCscJhwhISEmHCEmKxwcHCYhFyEcJhwmKxwmJiEUKxwmJiYrJhwcHCshHBccHBIcJiEcKysrKxcrFyYcIRwmHCYhJiYmHBcmKxwXKxcmJhorJiYmHCYhHCEcKysrJiEcKysmHCscIRwrISYhKyYcISYrHCEmISshJiErMBwrKyYhHCYrJiYhJhcrKyYrJiYmISYcIRwhJiscHCErFysrHCEhMBIrJiEmISEcKyYhKyscIRwmHCErFBQmISEXKyYmJiYmJiEhGiEmKyEmJisXHBwhISErIRwcJiEcHBwhHBwmHCsrHBcmIRwmISYmHCYhFyYrIRchKyscJiscKxomJismIRwhGhwmJhchHBwhJismISsmKxwmISYrISYmFyYhKysmHCYmKyYcHCEhISYrHCEmKxwXMCYcISEmHCYmHCEhISYhJiYXJhwrKyYmHBchHCEmHBwmISYrJhwaFxwmHCYhJiYcJiYUISscMCshJhcmJjAhISEcISscIRwcISscHCEmISYhHCsmKxwhHBwrJhwmKyErFyEaISErISYhHCYrISsrHCYXJhwmHBwcHCYhFyYmIRccJiYcISYcISYcJiYcISYXJhwrFyshJiYUJiYhIRwwJiYmJhwmHBccIRwmHBwmJiYrKxwXHCYrISscHDAhJiYcIRwcISEmHBcmISYrHBwhKxwmKyEcISEhISEaKxwmJiEmHCshIRwmJiscKysUJhccJiYmFyYcJiEmHBwmJhccKyEcISYhJiYrJhwhISYrHCsmIRwmJiYrJisrJiEcJiYmKxwaJiYmHCYmISYhJiYrIRwmJhwhJiEhISEcIRwmJhccISEcHCEcJhcXISYrISEcKxwhIRwcHCYhIRwmJhwXHCYcHCEhHBcmHCsmHCsmKyYmHCYcJiEXKxwcHCEcKyYrISsXJiEmJhwhIRwrKyEXKyEcJiErJiYcJhwrHCYcEiEhISEwJiEXISYhHCshIRwcJhwmJiErJhwcJhwXHCYXIRwcISYrKxwmIRwhISsrHBwmISshJiYcISYrKxwcHCYmHBwhFyYhJiYUJiYmJhQrISYrJiYhHBwrHCYcIRQcJiYhKyscHBwXKxcmKxwrHCYwJiErKxwcHCEcISEmKxcmHCErJiYhJiYmISYmISEmISsrKxohHBwcHCEmHBwmISEmISYmIRwhKxwmISEcJiEmIRwrJiEcHBcrJiEcISsmIRwmKxwcJiYcKxwcHCYhJhwhJiYmMCsrIRwmISEmJiYhMCYrFCYhFyYhHCYcHBcXISYmKyYrHCsmJiEmHBwmISEhJiYhKyscGiscKysrJiEcISscJiEcKyYhHBccHCsmIRwmJiYrJishKyEhHBwcJiYmHCEhISYSISYXJhwrKyEmKxccKyYmISEcKyYcHBIcISsmJiEhIRwcISYhISEmISsXFCEmHCEhKyYhFyEhJhwcFBwmKyEUFyYXJhQhJiYXISYcKyEhJhoXKyYXJhwUJismHBwmHBwrKysmKyYcISYmIRwmJiEcHCYmKyEhIRcrKxwmHCEUHCEhJhwmJhwmJismHCYUIRocHDAcFCEcJishJiYmHCscJhwhKyEmJiYmIRQmMCshKxchISYmISsmHCEcKyEhHCYmJishISEhHCEcHCEmISYrKysmIRwhISEmJiYrJiEmISEcFxwmMCsmHBwmISYhJiEcFxccJisUISEcHBwmKyEmJishKyEcISEhKyYmJiEhJiEhHCEcHCErKysmFyYmJiYmJhwhIRcmFyYmJhwhISYcJiEhJiYcJishJiYcJhwaHCsrFCEmISEcKyYwHCYrKysmISEhJiErKxwXJiEmHCEhHCEhISEhJiYmISYmJiEcJiEcHBcmJiEhHBwcIRwcHCYmISYmJismJhcmJhwcHCsmJisrHDAmJisrMCsmIRwmJiYhJiEmJhwmFxwmKyEhHBcmISEhFCErJhcmJiEhHBwrISEmHBcmISsmHBwcIRwhJishKyEmJhwcKxwcKyYcISYmJiscGhwcJishHCYcJiYXJhcwIRwmHBQmIRQmISsrJhwhJiYmIRwhMBwmISsUHCEhHCYcJhoXJiEhISYrKxwhFxwmHBwcJiErJhwmJiEhJiscHBQhISYrJiYmHCEcJhwmJiEmISYmKyYmIRwhISYmFyscJishHCEhJiEmJhwmJiEmJisrHCYmHBwcIRQwITAmJishJiEcISYhJiYhKyEcHCYaJismJiEcHCYmJhwhHCEhHCsrHCEhJiEhISYUJiErISYmISYrHBwcISYhHCEmISsmIRwhMCsXJiEmISYcHCESHBcmHCYmIRwmKyYcJisrJiYhJiYrHCYcKyYcISYaISEhISErMCYmHCsaKxwhHCscJiYcISYcJiEcFyYwJiEmJiYhJiYXHBwmISEhMCEmKxcmJhwmKyEhKxwrJiEmHCYrIRwmHDAmHCEcISsXJiscKyEhJiEhISsrISshISswKyEcJiEmHBwXISEcKyEhJiEmFxccJiscISYrJhcmKyYcKyYhISEaHCsmHBccHCshIRchHBomKyYhISYhHCshISYrHCEhIRwmFxcrIRcmKyEmKyYmHBwhJiErIRcXJiYUJiscISErISEmISscJhwcKyYcJiscJhcmKyEmKyYcHBorJiErKyEcHBwcISYhFyYhJiEcISshJhwhKyYhMBQrJismHCYrHBQrHCYcITAcJismKxccJhcrJhwmHCEcJiYmHCYhJiEhIRwhJismISsmJjAhHBorFCscFCshFBQXJiYcJjAhJiEmIRwrHDAhKyYmJiYrHBwmEhwmHCsmHCEhFysmHCEXISEcISYmJjAmISYmKzAUIRwhJiEmHCEhHCshISsrFysrKzAcGhohJiEaJiYrHCErFyYaIRwmJiYmJhwcKyshISshFyYmJhcXJiYUHBwrHCsrHCEXJiEXISshHBcmHBwcJismJiEmHCEcMCYcJhwcJiYrHCYhISYmJiYrJiYhHCYcJiEXKxQmFxwmHBwhJhocHCEhKyscJhwhJiYmIRwcHCYhHCEcJjArJiYaHCEhHCYcIRwcJiYXJiYhJiEcFxcmHBwcKyEcHCYhFxwrISswHCErISYcHCsrIRwcISYmJiErJhwmHCYrJiYhKyYhJiYwISYcISEmKyEcJiYrJismFyEhJiEcFCYhHCshJhwcHCYrJhwcJiEmFyYhKyYcJiEhKyYXISYhFCYhISErKyEhJhwcMCYmFxwcJiEhKyEXITAmKyEhJiYcKysXJhchKxwmISYcKysmHCYmIRccJiscJhwhFyYhJhoaISYcKxwrMCYhKxwmFCEhKxQmJhchHBwrISEhKyYcISscISEcISYXISYcHCYrJiscHBwmJiEcJhwcISEhHCEmHCshJhwmHCYmFyYmISEcHCEmJiYcIRQmKxwmISEhGhwhKxccIRwhJiEXISYcKyEcFyYrHCEhJhwcKyYcHCErJiYrJiEcISYaISEmKysrKyYhFyEhISYcGiYmJiYmJiscISshKyYrKyYUISEhFyYhHCErKxwmHCYUJiYrHCswJiYhJiEhITArISYcFyEhKxQmJiEhHCYmHCYmJiYcISYcJisXIRwrKyYrFyshFxcrKysrHCYmKxwmIRwXHCEcISYrIRwhJiEmJhwhHBwhHCYmJhwrISYrHCYhISEmITAaIRwrIRwcISYcJiYcJishFBwcJhwhJhwcJisrISshISEmKysmISEmISYcJiEXGhwaKyYXHCEhFyEmJiYrHCEhJjArJhwcJiEmKyYmISYXHCEhISYhISshISYmISEcEhwhKxcUKyYmIRccISYcJiYhKyEXKxwmJiYrHBwmJiYhKyshJiYrJhwmKzAmHBwcFBccJiYmJiYrHCErISYcJiYrISErIRwXJhwmJhwrKxowKysUKysrJhccISshHBwmKyESJiscIRwrJiErKxwmHCscKxcmJiEXKyYcISEcKyEmFBwcISYmJhwmHCYcHCYmJismJishHCYUISswHCYhIRwmKyscKyYwJhwhJiYmHCEcJiEcHCEhHBwmJiYrJiEcJiYhJhocKxwmHBwhISESKyYcISEhFCYmHCsXHBwmKyYmISEcGiYcISsmJisaHCshISYmFBwmHCYSIRwcHBwhISscKxccKyEcJiYrJhccKysrHCYcISEcFzAmKyEhKyEmHBwcHBwcKxwmKyYmKxwhJiYhHCErJhIrJiYmISEmFyYmJhIhFysXJiEcHCYcISsrHCErJiscJhwcJiYrHBcrFyYcHCYhIRwmKyYXISEhHCYXJiYmKyshISYcKyYmJiEcISsmHCYrJiEmJiYrJiYhJhchHBwcKxwhHCEhKyYhKyEXKxwmJiEcISscHCYrFCshKyErHCYmHCEmISEcISscISEhHCsmHCYcHBwhJiscJiYhHCsrGiYmJiErIRIwISYcJiEcJiEcJiEcHCYcJiEcFyYmJiEXJiEmHCsmHBwhMCEmJisrKyEmHCYXISscHCshITArHCshFyYmKyEmJiYmKyscISsmHCEhHCEmHCEmJiYhHCEmIRwmISEhFyYmKxwXJismHCEcEiYcJhwcISYmISsmISEhHBcmJiYhHCswISsaKyEXJhchISEcMBchHCYrIRwmISEmJiYcHCYmJhohHDAcJiscHBwhJiYmJiYwFxwcJiYmFxwcMBwcHCYhHCEcKyYhMCErISEcISYhKyEmHCEcJhwrJiErFxwhHCEXJiYmFyEaISYhJhwhISYrHCEcKyshJhwcJismHCYUJiYmJiEmFCEcGhwcHCYwHBchJhcrISYXJiYrJiYrISYhKxwhJjAcFyYmFyErIRchKxwcKyYrIRwcHDArJhocHCYmKyEwHCsmHCEmJhwhISYmISYrIRwhKyYmIRwhJisUJhwhJiEcFyErHCYmKyshIRwcISYmISshHCEcJiErKyYhJjAhKxwcJishIRwhKyYmKxchJiYmHBwhHCYmHCErISYrJhwaKyEcHBwmJiEcFxwXJhccISsmHBccFBwmITAcHCEmISYmJiYrISEhIRcmJiEcHCYrIRQmJhcmHCEmJhwmJiYhFxwrJiYhKxwcKyEmJhwXHCYXJiscISYrKxwhIRwhHBQcJiYrJiErKxwmJishISsmJishJiEmKyEUJhwcKyEmJiEhISEcJiYmITAcHCYrJhccISYcFCshHCErKyYhHBwmHBwrISEhHCYhISErFyEhJiEmHCErJhIhHCsrJhwcISscJhcmKyEaHBwcHCscIRwhJiYhJiscISYcHBwaKyYhKyYUJhwcHCEhKyYmJiEmIRchIRwmIRwcJhwaKyEmJismHCYcHCYhJhccISYrHCYhKxwhFBwmIRwrJiYcJhcrJiYmJiEhMCsUISErJiYrKyEcHBcmMCEhJhQcHCsmJiYhKyErJismIRwcISYmISYaKysmISYaHBccISErKxQwKxchKyYrFyEcHBwmISYhMCEmFyshHCErFCYmKyYmKyshJhwmISYrJiEhGiYmJiEmISYcHCEcJiEcISErIRcSKyEcJiEcJisrIRwrIRccFyYmISshHBwmISscHBQXJiEXFyYwJiEcISsmKyErKyYmKxcmKxQrHCEmIRchISYcJhwhKyEcHCYcMCYhHCYmHCscHCscKxcXIRwmISYmHCEmHBwcISYmJiErJiYhFxwmHCEcGhwaIRwhJiEcJiEcKyYrHCErIRcrMBwmJhwmJiYcJjArISYmHCEhISYcISEmIRwcHCYcKyEcHCEcISErIRwaHCsmHCYmKxchFyYhHCYmISYcIRwhHCscHCshJiYrJiYmKxwhIRccMCErHCEhHCYhKxwhKyswHCYcJhwhHCErFCEcHBwUMCsrIRwXJishHBchKxwmIRccHCYhHBwhKyYXFyYmKxcmKxwcISEmFyErJhwcISYmISsrIRwmKyEcGiYmHCYcHBwmJiYhKxwrKyYSFyshISEhHCYmHCEmISYrHBcrISsrJishHCYhFCsrJismKxwhFCYcHCYhKysmJiEcKyEmJiEcHCYcHCsrJiYcJhwmJiEhKyEmJishHCYhHCYhFBwrISscJiEcHBccJiEmISYhJiYhISEwJhwmHBwhISYhKxwrHBwhIRwrJiEcJhQmHCYhKyEhJhwhJhwcISYhKysXFyYcKxwcIRwcJiEmFxwcISErHCYcHCYhHCEhIRwcIRwcHCYwJiEmHCYmHCYcJiYhHBwmKyEmIRcmJiEcISYcJhwmISsmJhwrJiEcFCYrHBwrMBwmFBwhMBwmJhwhJiEUFyYhJiYwHCYcISYmHCYhHCYmHCYmJhwhKxccJiEcJiEXFyshJiEmHBwmIRwhKxwmJiEcHCEhJhwcJiEwIRwcHBwwHBwcKyEwKxccISEwHCYmIRImISErKzArISYcHBwmKyYrFxoXIRwhHBwmISscFxcmJiYmJiscJiYmHBcmHCErIRchHBwcIRchJhwhJiEcISEcIRwmJiEmHCYmKyEcHCErJiErKxwcHBwmIRwmKzAhKyYmKyYcIRccJiYmJiYhIRwmISEcJiEcISYrJhwrKyEcKxQXJhwcJisXKxwmJishHBwmHBQmKyYmJiYmJiYXHCErHBwUFyEhKyYcISYhHCYmKxwmJiYhHCsmFCYwJhwcHCYcHCYcHCYmJisrHCYhISYcHCshJhQcJisrISYrGiEhIRwrFxwhHCsmISErJhwhHCYrIRwcKyscKyshISshJisXHBwhKyYmISYcJiEwISscFyYXFyEcFyEhHCEcJismMCscJiYmISEmJhwaISEcISYhFyYmJiYrFBwaKxwhJhcUMBwhGiYrJiYcISEmISEXFCEhJiYcJiYXJjAaKyEcJhcmJiEcJisrJismISEwHBwrKyYrKyscHCYmJiEhJiErKxwhHBwmJhQrKxwhJhwmISEcKxchHCYmKyEcKxwmFxwcFyEmIRwhFyEmFxwmHCYcIRwhHCscJismMDAhISsXJhwcHCEmHBchKyEaHBwhJhwhJhwmISsmISYcJisrGiEcHBwcJiEcISYUFCscISshJjArJiEhJhwcIRchJiYrJiYmJiEhHCEcHBwmJiYhHCsmJhchJhccISEcKxQhISYhJishJiEcJiEmJismHBwhJhwcJiEmHDAXJhwcISYUJhwmKyEmHCErISYhJiYhHCEcHBwhJiEcJiYmJhQUISYhIRccKxwXHCEhKyEcFBwrJhwhHBwaHCsmFyYhHBwmIRwcJisrJhwmHCYXJiEhJiYrISYcHCYmISEhHCYXEjAmKxwmKxwUFyEcGhwmIRwUKxwcHBwcHCErJiEmISscISYmHCEcKyEhJismJhwmHBwrIRwmIRwhHBwmJhwmEhwmISYhIRwhISYhKxwmJiEmKyEwJhwmJiswJiYcJiYcISYmHBwmJiYmHBccGiYrJhwmISYcISsrHCsXJiscIRwcFCYmJiEmEiYrJiEhIRwXJisrHCscMBwmISsmIRwmJiscKxwXJjAcJiEcKyYcFxccIRwmISYmKxwXJiYUHCEcJiYcHBwhJhocHCEcIRwcJhwmJiEmJhwmJhwmJiYrJishHCscISYmHBohFBQrJhcXKyEhKyErHCYrJiEmJiEmKyEmIRwhISYmFyYrHDAcKysmHCEcJhwrHCYhJiErHCEmHBcXJiYmHCshHCYcKysmHCEcKyYXFyshIRwhJiEmKyYrJiYcJhcmJhwmHCYhMBwUJiEcGishJishIRwcHCYcKyYhISsmFysrHCEmJhwcISYmISEmJiYhJiYUFyYhHCYmJhcmKxwmFyYcISscJiEhHBccISYhHCsaJiEcKyYcHCEXJhwmFysmJhwhJiEcJiEcJhcmHBohISEhHCEcJiYcIRwmIRwXIRwcISYhIRwmHBocJiYrHBwmJiErHCYUHBQcHCsmJiYmHCYcJiscHBwcJhwmISYmHBwmJiYmKyYrHCscJismHCYcISEmJhwXIRwrKyYmGishISEhHCscHCErFyYXHCEcJhwmISYhHCYrISEcJiErHBwXHBwXKyEhHBwhISYcJishFCYcISEhHBwmJiEcHBwrISYrHCYhISshHCEcJiYmKzAhFCYwJhwcFyYcJhwaKxwmISsrJiYrISEXISEmIRQhISYmHCYaHCErJishJiYhISsmJiYhJiYwKxwhHCEaJiErKysmISYXIRchJiYrJiEmKyEmHCYXKzAhJiEhJiEhJiEmMBQhJhwhFyErJiYcISEXJiErISYrIRwcKyshHCYrKyYmJiEhJiEmHCscKyYwIRwhISsmHCsmISEcJiYmJhwcJhcmIRwmJhwhKysmFxchKyYcKyEmJiYmHBwhJiEmFyYmGiEmJiYXHBwhISYcGiYXHCsmIRwcKyEmISscKyEmHCEmHBwhISYrKyEUISEhJhwcHCEmHCEmKyYmJiErJiswFxwcKyYmISEcHBwhJiEmISswJiYXMBcmJiEXHCEmIRwmISYhFyYcKxwmFyYrHBccIRQhHBwmFyEXHCEmIRwmFCsmISEmFxorHCYmKysrHCYmHBwXISYrFBwcFCYhKxwhKyEhKyYhHCshHBwhHBwmHCEcJisrKyYXJiErFyEhHCEcFxwrHBwmKyYmHBwrKysrIRcmHBwhJiYXHBwSJiYhKysmFyYmKysrJiEmJiYXKyYhHCscFxwmHCscISYrJiErISEhISYmISYhMBwmJhwmHCEcMBQmJhwrISErHCYhHCYhHCYrHCYhJhwcHCYcISYhKxwSISsmHCYrHCshIRwrHCsmJiEmIRwrHCshIRwmJhwcJhocFxQhGhchJiYmJhwcJiEhHBIrKxwXJishISsmIRwmKyYmHCErHCshFyEhHCEmKyYcISYcJiEmJiErJiYcJishIRwmJiYmIRwmKyYmHCEmJhwhISYhIRwcJiEmFysUKxwrIRwhKysXHBwmJiEmIRwmISEcJiEcIRQrHCYcJhomJhQcHCYcIRwcMCEcJhwcJiEcJhwmJiscHCErISEmKyYcJiYcMCYmKxwhJhwhISYhJiscJisrHCsmJhwcISYaKyYcMCshMCEcIRwmISYhFysmJiYhHBwhJiYrJiEhMCswIRcUHBwhISErKyYmHCEhKxwcHCsmIRwrHCsmJhwmFyYSJishJiYcISYmHCshHCEcHCEmHCsmJiscISscJhwhJhwwISYXHBchJiYhKyYUJhwhHCYcJisrIRwrISYrHCYmMCsmISYmFCsrHBwhISYcJhImHCEcISEmJiscFyYhISYmISscJhcrJhocMCErISsmHCEcHBwwISYcHCYcKxwmISYmISYmFBwrISYXFyEhKxwhHBwmJiYcKyEcHCYwIRwrHCEhKyEmHBQcJiYcJiYhHCEmISYcKyEcEiEcIRwcKxwrHCYhJiEhITArJiEmIRQmKxwcKyEcKysrMCEcJiYcHCErJiEcJiEhHCEhISYmISYcJhwrKxcrISEmISErKyYcJiYXIRccKyYmFCEhISscHCYcJiYmHCEmJiEmJiEhJiYhJhchISYcISEmJishHBwmHCEhMCsrHCYcHBcrKyYrJiEmIRchHBwcJhccJiEcJiEmIRwmISYcISYXHCshISYcHBIrISEhJismKysXKyYmISEcJhQhIRwmKyEhHCErISEcMBwhJiYUHBwmKxwhJjAcJiYrKxwcIRwhHCEcJiYcJiEhHCEhISEcHCshHCEcJiYwJisrKyscJhcmFxwrJiYmKysrJiEhKyEmISEhKxwhHBQhHCEhHBwXHCEhIRwmHBwrJiEmFxwcHBIcHBwmJiYcKyEcISYcKyYmJismHCsmJiYrJiscJiYmISYmJiEmJiYXHCYhISYmISshISEaISEhHBcXKyEmHBcXHCYhJiYXGiYhFyYmIRwhFCshJisrKyscISYmFxcmJiEhFCEhJiYcKxwUHBwXJhwhFyYrFBwcFxwcHBcmKyEhISshJhwhGhwmJiErJhwhFCYhJhwcKyEmGiYrJiYcHBwhKyYrHCEmKxwhHBwmISEhISErKyshJhwcJiEhKyYmJisrHCYcEhIrJishKyYmHCYwHCsrHCYhKyscIRwhKxwmJhwhJhwUHCshJiscHCYrIRwrJhccJjAmHBchISYmKxwcHCEcFxwhISsmKyEmJiEcKyYmFxwcGiscKyErJisrFyEaHCEmIRwmISEcJiscMCsmKysXFCEhKyYhJiYcKyErHCswFyYrJiYhISEcKyYrISYcHCErISYwJhchISsmISscISErGhccHCYmFyYhJhwcIRwcHCEXKyEhJhwhISEmJiscHCsrHCEwKyYhISYhISEmHCEmHCEcKyYcGiYwHCYrJjArJiEcFysmHBwrFyEcJhwhIRwmJiYmHCYcKxwhJhcmKysrHCYrJismJhwSHCEXHCYXHCYmISYmIRwcISEcHBwcKxwrJjAcFyYcJhwmHCYXHBwhISsmIRwcHCYwKysrJhwhKyErJiscIRwcHBwrKysrIRcmFyYrFBwhKxwhKyYcISshJiscGhwmIRccISYhJhwmKxwXIRomKyEhISYcISYhFxwcISYhHCYhISEmJiYmISErHBwSISEXJiYcHBwhIRcmJhccKxwwHBcmISEhJiYcJiYXHCYrIRwcHCEmIRQcISshJiEhKyEmJiYhITAmJisrHCEhHCErISEcHCEmJiYmISYhJhwhJiEcISYcHBwhJhccJhQhJiEcHBwmFCEhHCEmHBQUISYcKxwrJhocHBwmHCYhKysmJiYrKyYwJhchKxomFCYcKyYrJhohISYmHCErKxwhISYaJhwhFCEcJiEhKyEcJiscEiYmMBwhJhwmISEwISEhHBwmHCYmJiEXFyYhIRwrJisrHBwXHCEcHBwcJiYhKxwcHCEmJishJhwmISYrKyYhHCEcFyYcISErISswHCYrISYmJhwmKxwmKyEhHCsmHBchHBorISYmISswHBwcISEhIRwhIRwmFxwcMCEcISErKyshKyYcHBwcISsmHCEmKxwmJiYmHBwXMCscIRwmKysrIRwcHCEmFyErFyscHCErKxQmHCYhKyErHCEcJiYhJiscJiEcKyYcISYrISYmJiErISEXIRcrJiYhIRwhJiYmJiYhKyshJiYrFxwrKyYrHCsSISErHCEcHCYrJiYrHBwcKyYrISEXISsmKyYcHBwrISYXIRwhHBwhFyYhJiYhHCYXJhwcHCshKyYrJiYmIRwcKyYXJjArHCshJiYmHCEhHCEhJiEhKyEhHCYmKyEhHCsUHBwhIRocJiYmFCYmJiEcIRwcFyYhITAXJismKyshIRwcJiEhKxwcJhwmJiscJiYmIRwcHCscHCYmHBcwFyYhHCEcIRwmHBwrKyEmIRwcJiYcISEcJhccJiErHCErKxwmKyErHCsaJiYcKyEcJhwcHCEhJiYrISEmISEmIRwXIRwcKyYrJiEhISYcFyYhIRwhJiYmJiYmJhQhHCshISsmISYmJiYhHCscKxorKxwmISEhJhwmHBchKyEmFCEhJiYhKxwrHCYmFyEmKxwmJisrKxocHCYhHBcmFyYmHCYcISErHBwUHCYcIRwrJhwmJiYhHCErJismHCYcIRocJhwXISscJiYmHCEcHCscJiYcKxwcIRwrHCYcHCYwIRwhISYmISsSKyEcHBchHCYmHCYcIRcrISEmMCshIRwrKyYwHBwrJiEmISEcJiYmHCEcJhwmHBwmISscIRohJhwrJishJhchHCYmKxwcFxcmFCshJhccKyEcJiEcJhwcJiYmISEhHCYhMBcXJisUIRwmHCshISYmFyYUISEmHCEhKxwmEhocIRwhHCYhIRQrKxwhHCYmJiYmMCYmISEmHCYrHCEXHCEhKysrIRwmJismGhwhJhwcKxccFyYhFysrISEmJiEcISErHCscHCEXJiEhHCEcJiEhHBQrMBowHBcrJhccISYcHCYmHBwcISsmJiEmHBwXISYhJismFyscJiEcJiscHBchHCEcJiYcJiYmHBwmJiErISYrFCEmJiYhISYhKyYhISYcISYhISYmISYcHBwrJhwcJhwmJismJhcrJiYmMBchJhwhJhwmJiEcFCYmJiYmJiEcKysrIRwUKyEhIRQmJiEcISsrHCEmJiErJiYUIRwmHCYmHCYmHCYmISYhJiYXKyYmJiEaJiscJiYrJiYcJiYcHCscIRwmKxwrJhIUKyYmKxcaIRwhKyEhISErKxwmIRwmHCYmJhchITArIRwhHBwrHCEmISYrJiYcJhwhHBwcIRwcISEUKxcXFyshKyYcISYXJiYcJhocIRwcFyYmHCYcIRwmISYmHCsXISsmKyEhHCEmHCEhKyEhHCYcJhwhHBwcFyYmISEmHCEmJiEhKysmJiYhJiYmJiEwISEUJiEhIRwhJisrHCEcHCscHCYcIRwhIRwmHCYmFyErISYhJhccHCYhJiYmISYhISscIRwhISYrGishKyYmHBwmHCsrISYSHCEmJjAcKyEhHCsmHCEhHCErJiEcJiErISsaKxwmJishHCYXKxwXISEmJhwhJhwhJiEhJiYcFyYhJiEXJhwcKxwhHBchHBwhHCYmHCYcKyYhJjAcJiYmHCYcJiErMBwcJiYhJiYXISYhIRwhHCsmHBwcJiErJiEmHCYcISEmJhwmHBccHBwrJiYmHCYmJismKxwmJiYhKxQaJiErKxwhJiEXIRwrISscHCYhHCYrISYhJhwmFyEmIRQhFxwrHCEcHCEcIRwmHCEhJhccJhwmIRwmISEmISEcISEmJisrJiscJhcmIRwmHCYwGismHCshHCErISEXJiYmJiYhHCErISYhKxwmIRccJismKxccISYhJiEhHBwmIRcmKysmJiEhJiYhJiYaISscKxwhKyYcGiYmJhwhJiYrJhwmHBwmFyErISYrHCEmISYhHBcrIRwrHBwmISYhKyEmISYmHBwrJiYmJiEcKysmJhwmJiYcJiYXFxwmFxwhKxwhKzAmHCErJiEmKysrFyYrIRwhISYmHBcmKyYcJiEcKyYmISYhJiYhJhwrJisUJiEhHCYcHDAmKysrGhwmHCsmJiscJhcrHCYcJishHBQrISsXIRQhKyEhISEmHBQcISYmITAaJiYhIRwhJiYcKyYcHCshJhQcKyswIRwmHCscJhwhIRwhFxwXIRwhJhcrJhwrJiscISshJiYXISscFyEXIRwmISYrJhwcJhQcJiYrISYcHBwmHCshJiswKyYrKyYrJiscFBcmHCYmHCshIRwrJiYcJiscJiYcJhwcJhwcHCscJiYhHCYcIRcrFCYrJhwcFCEcISEwISsmISEcHCYaFBwcIRwhHBwmEiYrJisXJhccHCYrFyYcISEcISYcKyYcHBwcHDAmJismKyYcKyYmKyEmISEXHCEcKyEmJhwmHBwcFxcmHCEcHCYmHBwwJhccISEcIRwmJisrHCYhKxwhISYhISEhISErHCEXIRwcJiYmFxwcJhwcJiscKxccJiYXKyYhKysmJiEcISshJhohHCEmIRQrKyYcISYcISErHCscJiscJiEcHCEmJiYcKyYhHCscISYmIRwcHCsUMCYmKxwcIRccIRwcJhcmHCYmITAXISErJisrJiYcISEmFysmIRwhISEcJiEcIRwrJisrJismJhwcJhwcHBchHCYmJjAwKysmJishIRocIRwhHCYmKyYcJishIRcmISYcISEhIRwmKyYcHCYUISEmHBwhEiEcJiscHCYcKxcmJismJiESMBwrJishHCYcIRIwISEmISYhHCYcHCEhHBwmISscKyEcHCYcHBwhIRwmISEmJiYhJhwcJiYmKxQmIRQmHBwrJhwcISEmJiYmHBwmHBwcHCYmHCYcISshGiYSJjAhKyYcHCsmHCErJjAmIRwmJiEcJiYcHBwwFCEmKyEcFyYXIRcXHBwcJiEcISsmISEmJhchJhwcISEcMCEhISYXHCYrHCYmJishJiErKyYhJiYcISYcIRwmIRwhHCYmJiEmISYrGiEcKyYhKxwmJisrFxwhHBwrJhchFxcrKxwcHBwrJiYrKxwmISsmJhwmHBcrISEmHCEhHCEcJhwmISsmKyYrKysmHCshHCsmKxwXKyEhISYrHBwhISErMCEmHCYmKyYhKxcmJhocKxwhKyYrEismHCYcHDAmKyEhJiEcJhQrHBQwJiEcJisaHCYmJhcmHBwmKyYmHCscISYmHCEhHCEhKyYmJiEhHCYhISYcISYcISYrKyYhISYhISEcKyscHBohJiYhHBwhJiYcHCshISYmKyEhISEmJhwmJhQhJhwcJiYmHBwmHCEcJiYcFyYhJiEhFxwmKyEUJiErKxwrHBwrHCYwISYmKyYmJiYhJiErMBocHCEXHBwhJhwcJiEmGiYcHCshIRwrJiEmHCscKyEcJiEcJhwmKyErJisrJhcmKxwmHCEcISsmJiYcJhcrJhwXKyErISEUFyYhKysmMCscJiEhJishKxchJiYrJiYaHCYcJiYrISYcHCYmJiYrJiEhISYcJhwcIRwmISYhIRccJhchKxwmFxcrHCEhHBchHDAcIRcmJisrJiEXHDAmKyYmKyYaJiYcJisSISYrHBwhJhwmISYhHCsmKxwmHCshITArKxwcJhwmISEhFxwcJhQmJiEUHBwcIRwrKyshHBwmIRwmJismISYmFyYmHBwhHCshKxwmHCYcJiEcJiYmMCYmHCYcJhwmKyEhJiEcISshHBwmHBccHCswFyYrHCEmJismJiYmMCYcHBwhHCEmHCYhKyYhISEhISYmJiEmHCEmKxImHCYrITAhKxwXHCEcKyYcHCYhKxwUISshISEhHCEhJiYrJismISshJhwXKyEcIRQmHCscISEcFysmJiYcIRwcHBwrIRchHCEhJhwcISsmHBwcGiEhIRQmISsXHCsmFyYwHCYwHBwmISYmHCsrJiYmHCsrKxchJhwSIRIcHBwmHBwhFyYaJiYwISEhJiErHBwwIRwmKxwhISshHCsaISYmHBwrHCErKyEcKxQhJiEmJiEcFxwhHCYmIRwmJiErJiErJiYcHCEhJiYmISEhISErFzAmISEmHBocIRwmIRwcHBcXFyErJhwmHCEmHCYhFxomHDAmHCYrJhwmISYrJiYmHCEcJiErJhwhIRccJiYmIRwmJhwmISscJjAXISYcKyYmJiYmFyshKyYcJhwmKyYrISEcHBwhMCErISEmISErISEhHCYmJiYrHBwrKyYmHCYhJhwcJiYrJhwcJhwrKyYcKyErJhwhJiYhHCEhJiYUKyErISEcJhwcKxcrFCEXISEmISEmJiEwHCYmHCscFDAcJiYmJiEcISEXJiEXIRwhISYhFxwmFyEhFyYmJhwrJiErISYhHCYcHBwmHCYhISYhFysmISsrHBwrJiYmJiEwMCEmIRwrHBwwKyEcJiEcFysXFysXJisrISEXJiEhHCshIRwUHCYcHCEmJiYmHCYmHBwmMCEcIRwmHBwmISYrFyYmJhQmISEhFCErJiYmJhwmHBwmJhwhFxwrJisrJhwcHCYmHCshKyscGismISYmJiYrFCYrJiYhJismJiEaHCYwHCEmHBccFyYrJiYmJhwcKxwcHCYhJiYrHDAmJjASHCYmJiYmJiEhISYrISEhJhwmHBwmKxwmIRchIRwcHBchKxwrJiYhISshHCEhHCEcJiYmIRwhKyYaHBwcISYrHBwhHCEmISYcJishJismISYmJiEcKxwmFxwrISYmJiEcKxcrIRwrHCYXFysmISYaISErHCsrISErHCYhISshISEmJiEmISYcFyYcISYcJhwmHCYrKyYcJhwcJiErHBchKyErJiErJhQcISEhJiYmIRwcJiYrIRwrIRocIRwcHBwUJiYhHCYrHCEhHCYrHCYmISsrFyYcISEmJisXJhwmJiEmJiYhKyshJiEhJiscKxwhIRwhJhwcHBwmJiYhIRcaHCYmHBwcHCscJismJiYmIRwcHCsmJiEhHBwmKyEXISYcMCYcHBwhKyYrISYcMCYwHCEcKxchJiYhHBcmISYmJiYXHCYmKxchJiYmIRcmJhwcJiYhHCYmJisrKysrIRwcHCYcISEmJiYhKxwXJiYhHCsXISYmISsmJiEhKyEhHBQXISEmIRcwJishISEhIRwhKxchHBwrHBwhJiYcJiYmISsmFCYUGhwmEiYcHCEhISscJhwmFxwhJjAhJiYhJiYmISsUFBwrIRwmJhwrISEmIRwcHCshISEmHCYhISshJismIRwcFCEhHBwhKyYhFyYcKyEmIRchISEmISEcJiEmJiEmKysmJhwXHCscJiYcISEcHCYmIRwmHBwXKyEhKyYmIRwrFyEmISsmKyYcJhwXITAmHCEhHBwmISEcJiYhJhwcISYcIRwcJhwhHBcmKyYmIRwmISEmJiErHCYcISYmIRomJiEcKyYrHCsXJhwmISYhJhwXFyEXHCEmIRwmISYhFxwhJhwmKxwrISsmIRwcJhwmHCYrISYmHCshJhQhISEcHCErIRwcJhwXGiEmIRomISErISEhJiErJiYmFysXISEmIRwcHCscISYcISEXISscMBwmFyEmKxwhISYcJhwhHBwrISYhHCEmFBwrKyEcJiYmISYrGiYmKxwmISEmISYcIRIXISYhISYrJhwmKyErEiYXKxwcJhwhJismJiEmJhcXIRwhKxwmISEhHCYUISErIRwhHCEmHCYhJiEXFCYcHBwUISYcIRwhIRwcKyYmHCEmKyYrHBchFCYXKxwcKxwmJhwhJiYhFCsmJhwcKxwhJishGhQmKyYmJiYUMBwhHCYmJhwmIRQrJiYhHCEhHCYcKyYrJisXISEhHCEhJiYcHBwrISYhHBwmJiYmHBwrKxwhISsmJhcrKyYrKyEcIRwcKyEmHBwhJiYcHCYUJiYhIRwmKyYhHCYmISYXKxwmJhwmISYhHCYhJhcmJhcmKxwcKysXISYhJiEcHBwmIRcmFBwhJiYmHCEmKysmJiEcHCErJisXITAhISYhJiscMCYhISsmKyEhJhwaJiYhKysmISEmJiEhKxwcJiYXJhwcKyYrHCsrJhwmJiEcHCEmFxwmHCEcIRcmHBccJiYhISsmJhwmJiscFxwrISYXKyscISEhJhwhKyEmFyYrIRccHCYrGiscJismISsrJiEcKxwhJiscJiYmISYcJiErISsrISYhJhwXJiYmHCsmKyscKyEhISErGiYmIRwXISEhJhwhISYcJiYrFCYmISYcKyshISYmIRwrHBwhKysmJiYcJiYhJhwmFyEcISErKyEcFxwmJiEmKxcmJiYmIRwcKysmJiEmKyscHCYhISEmJiEmKysmISshJiYmFCYcJhwXGiEmJiYcISEmJiErHDAcJiYcISYmHCYrISEmJiYrKyYXIRcXISswKyEUISYcHCYrHCYhIRwmJiswISYhISYrISEhHCYmKxccJhwcJhccKxwaISEmJhwcMCErIRwaJiEmJhcrHCEmHCEmFxwrJishISYmJiErEiYXJhwmJiYmHCYcHBQrKyshKyEmHCYaJhQmITAcJiYrFCEmHBwhISYmKzArISYrHCErHBwcJishISEmHCsmJjAXFyEmHBwmJhcrKysmKyEcJiYcJisrJiEhKxwcKxwhJhccJiEmJiYhJhcmIRwrIRwhJismJhQhJiYcISYmHCYmHCYcIRwrISsmKyYmFxwcJiEmKyEhHBcmJiscIRwrHBwmKxwmHBIhIRwmHBwhFyYUJhcmHBwhISYrFysmJhwcHCYhJhccISEcIRwcJiEmISEmKysmJiYrIRwmJhIhIRwrISscHBccMCEcJiEhKyscISshJiYhJiYhKyEcISscISErHCYhFxcmJhccHCshKyYmJhwcJhwcISYmHBwrJhwcJiYhJhwcHBcrKxwhHCsrJiYcKyEmMCYmJhccJhQrKyEmJhQmKxQmFxwcHCscIRcmJismISscKyscISYrHCYmFyEmJhwcHCYhJhwhHCEwKyEmHCsmHCYhHCEhISscHCEmIRQcHCYmISYmJhwmISEhFyYUJhcmJhwcJhwrHCYmFCEhJismHCErKyEcISEhKyYhHCEcHBowFBwcJhwmISYrHBwmJiYhKyYmHCYhISYXIRwaIRwmKyYXHCEhHCYcJhohJiYmHCEmISEcJiYhKyYXHCsaJhwcISshKyYhJhwcHCEhHCYaJiYrKxwhJhwmIRomISYmHCYrISscGiEcFCYhJiEXKxchJiEcISYcJhchHCYmGhwcJiscHCYhISYmHDArJiscGiEcFxwmJhwhKyYhJhwmHCYSJiYhISEhFCshISYhJiErHBwhKxwcJiErISYmJiYmJhwhHCEmHCYXEiEmISEcISEcJiscJiscISshHCscISEUHCYcKyEhIRchHCshKyYwMCEmJisrISEcHBoXHCYrIRomIRwXHCYhFyYhHCshJiYmHCYUIRcmJiEhKxwhISYmIRwmHBchIRwcKxwrIRwmHCYmKxwmHCEcISYcJiYhISsXISYwGiYwHCYmJiYXFyYhHCErHBQmIRwrHBwmIRwmISYrISYrISYmJismHBwcJiEcJiEhJhccFyYmJhccISEmJiscJiEcISEhISEXHCEcIRwmJiYcJiYcISYcKzAmJishHBwaHCYhISYhKyshKysXFCEXISswISYhHDAmHCsmJiEcKyEmISEcHCYcJiYhIRwwHBwmJiEhJiEmIRwmHCYmISshHBwhJiEmISErKxcmFysrISEmISEmEisXKyYmJhwmHCsmJismHCscJhwmMBwcFyYrFxwaHBwmHCEcHBwUFCsUKyYcIRwrHBQrJhwrFysmJjAcIRwrJiEmISEhISEhIRwcISYcJiEmMBwhHBwhKzArJiEcFzArHCYmIRwmHCEcKyscJhwrISYhKyEcJiYhJishHBwmJiEcMCYhKxcrGiscJhccJiEcISshHCErJisXJiYhJhwmHBwXKyYXKysrHCYhJiEmKyEcHCYSJiEmHBwcISsmHDAXJiYmKysXKyYhKzAcJjAcJiYmHCYmEiEmHCYcISEmIRwmISYhFysSJiYcHCEmJhwXKyYcJiYrISYmJhchJiEmJismKysXISscKyYcHCsmJhwmGhQmISEmKxwXKyEmJiEmJhwrIRwcJiYcJisrIRwmKxwmHCshHBwrHBwmHCEhHCscKyEcKyshKyEmJhwcIRwhJhQrHCErKyErJhwcHCYaISscISYXMCEhJiYmKyYcKyYcJhchHCsmJhwmKxwmJiEcJisrJiYcHCEmHCEmJiYmJiYcEishISYmKyEmJiscITAcISEmISEmIRwcISsmKxwmJhwhHCErKxwmJhwcHCYhJishMCswJiEmHCsrHCsXISYmJhwmIRwhIRwcJiYmISEcJhwhHCEcJiYhKyYmMCscHCEXISshHBwmEiEhKyYcHCYhHBwrISEXJiEhHBwcJhQhHCYmJhQcHCYhHBwhFBwwISYmISYmISYcIRwmJiYcKxwrHCEcJiYUISYrKyYmKyYhIRwhJishFyEXKysmKyscISEhJiYcKxwhISYrKyYmISYhJiYmKysmKyYmJhwmFyYrJiYrISshHBwmHCsUHCEmKyEmHBwcHBwXIRomMBwcJiEcJjAmHCshKysmIRcmHCscFysmFxwrISYcKyYhKyEcHCYXIRwhJiYmJiYhJhwmKxwmISEmIRwmHBccITAXISYmISEcJiYcISYrJjAmJiYhISYmIRwhISYmKxwXJiscISsrHDAXJiEhJhwmKyErISEcGiYrISEcEhQmHBwhJiErISYUHCYhISscKzAhKxwXIRQmKyEhHCYcJhwhJiYmHCEhJiYrIRwmJhwcKxwhIRwmIRwrKyYcHBwmKyYhJhwrFyYmHCEXHCYhJhQmISEmHCYrKyEcKyErISYhJiErKzAhIRwhJiYmHCYhISYcISYcHBwcKyYcIRwcISEhJiEcJishFxwcISshJiYrJiYmKyscFBwhJiYrISYmFBwhISEhIRwcHBwmISYmFxwmFysmIRwcHCYmJhwrKxccISEmIRwhIRcrKyYrIRwmJhwmISscISYcHBQcIRwcIRwUFxwmIRIhHCshISEhISYmHCshJiEwISErIRQcKysrISYrJhwXJiYhJiEcJhohKyEXJiscISErHCsmKxwrKxwmHBccKyYhJiEhKyEmHBoXKxcmFyEcFyYhISYcISscIRwmKyshISYmMCEmJhwmJiEmFxwmHBwhJiYcISYhISscKxwXKyYmISsmJiYhISYmISEcKxwmIRchJiErIRwmHCEhHCEXMBwmJiYrHCYcHCEcJhwcISEhISYmITAmKyYmJiYrJiYhJiEcFCYrFyYXJhIcISsrKyEcHCscJhwhISYmKxwmJiYhKxwrHCEmISYcHCsXISYhJiEXKyErHCEXJiEhHBwmHCYcISErHCYrIRwrHBwXITAcHBwhHBccHCscKyYmJiEmHBwmKyEmHCshISEmJisrFyEmJiYrISEcJiYwMBwcITAmISsmIRIhJiEmKxwmISshISYhJiEmJiErJhwXISscKxwrHCYcFyYhKyEhHCsmMBwcKysmKyscJiYcJhQrHBwrKxwmFxwcKxwcHCYhJiEhHCEmJiYrKyEaJiErISYmKxwaISYmKyYrHCshMBwcJhwmHBccISEcFxwmHCYcHBwhHCYhMCYmJiEmJiYrJhcmJhwrJiYUHBQrITAwFyEmIRwrJiYmKysmJiYmJiEmJhwcJiEhHBwmJiYcISYrHCEcJhwrKxwcHCEcHBwhKyEcISEcJiEcIRwmISEXHBQcHCYXHBwcISEhJiYhISscJiYhHBwaIRQhEiEmKyYmJiYmJiEcISEhHCYmFysmKxwhJiEcHCsaIRwUFCYSHBwhHCEcHCsmKyEhHBomHCEhHCEmISYhHCYmJhwrJhwcKxQmJhohJhwcISEcHCYmJhwhJhIhHBwmJiEcHCEhHCYhKxwrISEcIRcmISEcISYcISsmISsmHCEhJiYmHCYrJhwhJishFyYmJiYcKxwcHCEhJishHBwmJishKxwrIRwcHCYmKxwhJismIRorHCEcHCEmJiYhJhcXIRwcJiYhKyshISEhFyEwHCshIRwcJiYcJhwmKyYcJiYhIRwcISshJiYmFyYmKyYmJiYmJhwmIRwXISYhHCYwKyscHCYcJiYmISYmFBwmHCsrFxwrJiEhEiEcHBwhKxwXJiEmHCEhHBwhJhwmHCYcKyErJhwmISsmHDAhJisXHCYrHBccJhwhJiscIRwcISYrHCYhJiEwKyYhJiYhISYcJiYXKxwmHCYhJiEwJiEmISEhKyshJhchKxwrJhwmKyEmFCsmJhoXJhwhKxQhKyYhHCErHBwcISErITAhISYmKysUIRwcJhQmJhccKyErISscIRwhHBwmJiEmJiEhHCYmISYmJiYcJhcmHBccHCEmKxcmISYhKyYcKzArHBwcMBocJhwhKyYhJiYrISEhJiYhJiYcJhchJiEmISYmFyEmKyErHCsrJiYhISErJisrFyYwIRwmJjArHCsmITAmFxwrHBwXJhccHCYcJiYmJiErIRwcKxQcKyshJiYhFyEmJisXGiscHCsUJiEmIRwcHCsrIRwcKyYhHCYhKyEhISEmJhwcJiYmFzAhMBwhIRQhJiYmIRwXKyYmFyYmISEcJiYhHCYmJiYmISYcJismHCEhKyYcJiEcHCYmJiYcMCEcKyYrHBwcKyEhISscISYmHCEmJisrHCEmKyEmIRQrJhwcMBwhKyswHCEmISsmISYXHCErJiYmISYhIRwmJiYcHCEmFysrISYcHCYcISshISEcJiYhJhwhHCYcHCYcFCshJismHBwmJhwhHBwhJiErFCsXEhwhFCErISEmHDAhHBQmHBwmKyEcKxwhMBwrISscFCEaJishJhwmJiErJhwcJhwcHCYcFBwmJhwmFyYrJhwhHCErJhwmHCEmJishIRcrKyYmMBcmISErJhcmIRwmFyErJhwhFzAhHCshKyYmJiYmJiYcJiYhMCEhJiYrHBwrISYhHDAcISEXIRwrKysrIRwmIRwmISscISYmGhwmJiEhJjArIRwhHCYcHCErISEhJhwXIRwcISYhFyYrFyEmISshJiErHBwcISYmIRwrHBwXJiYmJhwwISsmJiErHCEUISEhIRwXFzAaIRwmHCEhISEcKxocIRwmJhwcJiYrKxwUIRwcIRwhGiYmKyEcHCYcJjAhHBccJhwmJiErIRwrKyscJiYmHBImJiEhISYhJiscKxwhJiYhJiscHBcmJhwmISYcISscHCscHCYrHCshISErISEhISYhKyYrGiEcISYmHCYhEhwhHBwcJiYXIRwhHDAhHBwmISsmHDAhIRwhHBwrISEmIRwwIRwmHCYhJishISYrJiYmKxQhISEmKysmKxwrHBwrJiYhJiYmIRwrJiYcJhwmHCYmHCYXHCEmHCscJismJiEhISshJiYrIRwhJjArJiYhKyYhHCYcHBwrKyYmHCYmFBwcJiYrIRwhJiYmHCYwFCYrKysmJhwcISYrJiYcJiYcJismJhwrHCYmHCYmJiEhISEcISErJiEXJhoXIRccJhwcISYrISYcKysmISEcHCYcISEmJiYcHBchISYhHBwhKxwhIRcmHCYcHBwrKyEmKysmISEmHCshFBwcISYmMBchHCYhKyEmJhwmISsmFzAhIRwUJiYhIRwaJhQhISYmISEcHCsmKyEhKxwaISEUHCYrJiEXHBwhJhccISErKyYcKyYmFCYhHBwhFyscKxwcISEhFBwcIRorKyEmHCErFxwhMCEhKysrHCscHCYXIRwmHCYrISEcJiYrHCsrHCEXISEcJhwmJiYhJhwhISEmJisrKyEcFyYhHCYhJiYhISYaJiEaHBwcHBoXHCEUJiEhJhwcJishJhwmHBchJiEcHCscIRwcEiYmJiEhJiYhJiYrJiYmHCEmJiYmISEhFyEUJishJhwhHBwcHCsmKyYcKyEcFCEmKyshJhohISEmHCEXJhwcISYmJiYmJiEmJiEmJiErFyYhJismHBwmKysrJhwrKxcmHCEcHCsmIRwhJishFyYhISEmKyscKxQcISYhIRwrMBwhHCErISYcHCYcISEcJhccHCYmIRQhHCEcISYrHCscKyscJiYrJiEhJiEhJiYmIRcmKyYmJiscISscIRcmFxwhKyYcJishHBwmJhwmISshIRwmKxQhKyYhISEcISYhIRwmKyEmKysrHBccHCYSHBwhHCEmISYhJiYrHCYmJiEhFxIrHCswHBcrISYcHBchISYXFyYrFzAcIRwrIRcrISsrJhccIRwrKxcmJiEcISYcKyEcJiYmJiYcJiYcIRcUISErIRwmJiYhHBwwISEXIRwhMCYmJishFyshJiYhISYmHCYmHBwhJhwmKxwXKxwrJiYrHCYhFyshJiYmJishMCsrKyYrJiErHBwmIRwhFxwaKyEhJishHDArJiYmJiYrJiYrJiEmJiEXEhchKyErJiscKyYhJhwmHCYcISYmJiYwJiYrJiEcITAmJiEmJhwcITAcHCsmITAmISYmHBwcJiYhJhwmHCEcFxwUISYcIRwhHCYcJiEhHCEmJiYXJismISEhIRwhFyYmISEcHCEmKyEaGhccHBwmHCshISEXFCYmHCYcJiYrJismIRwmJhwmHCEmHBwmHCscJiYXISYmHCYhISsmHBwmJhcmKxwhKyEcJhwmJiYcISEcJhwcISshISYmHBwXJiYmISshHCYhHBchJhwhHBwwJhccHCYrJiYcKxcmJiYmHBwrFyErJiYmJisaHBwXFxwhJiErISEcKyEmKxwXIRwmISsrJhwrISYUGiYhJiYcKyEXJismHCYmIRwmJisrHCYmJhwhJiEhJisUJhwhJiscJiYhKyYcISYhHCEcKxwhJiYcHCEUKyEUJiErJiEmJiscIRQmKyEhHCYmISEwKyYmKyYrISshMCshJismISYmJismJiEmKyscKyEhHCErJiYmMCYrJiEhHCshISYrJhwrHCEhHCYXGiYSJiErJhwmFyEcJiscHCEXJiEmJiErKyYcKyYrFxwcJhwXIRwhHCshKyYcKyscHBwhMBwrJjAmKyErHBwcJhcXKxwmFyEmJiEmJiYhISYcIRwmKyYmHCshKyEhFyYhJismFBwmHBcmJiYrIRwhFCEcISEUMCYXHCswJiYmHCYmKysmISYcFyEhJiEmISYhKyYhJiErKxccKyYmHBwhJismJiscISEmHBcmHCEmFxwhHBwhKyYcKxwmFxcmHCsmJiYmJiESFyscJiYcHCYhHCYcHCYrKxwmKysmJiErJiYcFxwmIRwmKyYhISEcKxwhHBwrHDAhJiYrISEUHCYcISscJiYXHCEhIRwrIRwmIRwhJiYhJiYcKyEmKyYhEhwwJishKyErHBQmJiEcJhwmFyYmJiEmJiscHCEhJiYcGiEhJismISEhHCEXJishISYhISYrFyYrISsmFyshKyYcHCEwIRcXJiYUHCYmKyYhKysmIRcrHBwcJiYrHCEhIRwhJiYUHCYmISsmHCYmHCscJhQXISYcJiEhISsmJhIcMCEhHCErISYrKyEhISEmHBwmJiEcHBwcFyYmJiYcHCYmFxwrHBwXISEcMCsrJiYmFxcmFyEmISErFxwmKyErHDArHCEmJhwhKyEmISshJiYhFyEcJiYcHCshFCYmHCsmHCsmJiYmFCErFysmEiYhJiYmFysmJhwhJishFxwhHCErHCsXKyYhHBwmISYrKyYrIRwhIRIcIRccISscISYcISEcJiYcKyEmISYhFxwcISYcKyEcIRwcKyEXHCYrJhccISErJiYmKyYcISEcJiEmJiEmJhomHBwcIRwrJiYcISEhJishFxccHCsmJiYhKxomHBcmJiEmISsrJiYmISErFxwrJiscISYhJiYhJiEmITAmHBwmFyYhHCscJiEcHBwmHCshHCEhJiEmHCEXJishJiYrMBwhHCEmIRcmKysXHCYcEiscHCsSISEhISswKyEcMCshHCYhFxwcJiYcIRwhHDAUMCYcISscHCEmJiYhMBwrISYmHBwcHCshKyshJiYcKyEhJiYrISsXIRwcFysXFyYmHCYhJisrIRccHBwmJhwcJhwrHCYXHBwmHCEhMBwmJiEmHCEUISYhKyEhJiscJhcmJiYhJiEcIRcmFyYhKysmHCYcISEhJiYhIRwmJhwaJiYmISscHCYmISYcJhwmJhwhHCYmHCErKyYmIRwrMCsmISYmJhwcFCshJiErJiEmIRchJiYhKyscISYhJiEhISErJiYwHBcmKxwcJhwmMCErKyEcMCEmJiYcISYhJisrJiEmJishJiYmFysmISYmKyYmIRwmHBoaISEmKyYcJiscIRchISEmISYXHCYaJiYhHBcrFyEhJiscJhwmHCEhFxwcJhwrKyYhJiYhHCshHBwrJiYrKyEcISYcHBwhJismJishFxQmJiErIRQhMBwmHCYhJhwcJhwmHBwrHCYmKyYmKyEhISsrKyYXISYhHCYmHBwcIRccHCYcHCEmJhwhISYhKyYmISshISYXFCEwJiscHCscHBwhFCshJiErJiYhFxccIRcmKyEcHCYmKyYcISYcHCsXKxwhJjAmKyEmIRchJiEmEiYmISsmISYmJhwcHBQrKyYrJiEhJiEmIRwmIRorJiYmISEmHCYmFCEmIRcmKyEcHCshJhchKxwhHBwcHCscJismJhQhISEcJiErKysmHBwmKxwhJiYcISEhKyEmJhwcMBwmISYUHBwrJiYcISscKxwmFyYhISYUKxcrKyYhHBQmKyEmIRcmHBcUHCEcKxQmKyEXFyYmISEhHCYhHCYmJhwmMCEmIRwmIRwhKyEhISYmJiYcISEcISYhJiYwJiscJiYmMCYhJhwhJhcmJiEhIRwhJiYhHCErJiYmFCEmKyYrHCEcISYrKxcmISYmFyErISEhISEhJhocJiEXISYrISEmJiYhMCYhHCEmJhwcJiscIRwXIRwcHBwhKyYhFCscKysmJiYcHCEmKyscKxwmISsrJiEhJiYhJisXIRchISsrHCEmJiErKysXHDAUJiEmJhwcFxwmHCYmIRwmIRIrISYmHCscKxwcISYcJiYUJhQmJiErKyEcGiYhJiYcHBwmISEhJiYcKxQmISsmFyEmJiYcFCEcHBcmKyEhHCYrKyYhIRwmHCEaKyYmISErFxwmISErISYcIRwcISYcJiYhJhohKyEcJhwmISYcKxwrISshIRwmISEcJhwmJhwhHCsXJiYmHBwrMBQmISEcJhwhFxwhKxwhJiYcJishISYhIRwhHCsmHCYmMCYhKxwcJjAmISEcJiEcKyEhISYcJiEhISYmIRwcFyscKyEcKzAmJiErJjAcFCYrKyYmKyYcJismJiYrHCYmISEcHCEmJiYXHBwmJiErJiYhMBQcKyEcHCYcJhwmJiYrJhwmKxwmISYhFxchJhchJiEhISYmJiEmHCsmISYmHCYhIRwcJiYrJiEmISsmHCYmISsmJhwmKxwmJismKyEhHCsXJiEcKyshKyYhKyYhHBccKyEXIRwmISEmKyshJiYhHCshIRwhJiEmFxwmJiYhISEmJhwmKyEhKyErFyEmJhQrISEmHCErMCYrJismKysmFCYrJiEcHCYcHBwmHCYcHBwrJiEaJiEcJiYUJiErJhwcKxwXIRwcISYmHBwcFxQhHCYrHCYcHCYrJhwXJiscISYcMCsmHCEhJiEcISEmJiErHCYrJiEhMCYhKyEmJiYmKxwcJiEhKyEcHCsmITAhJiErJiYmJiYhJhwXISEXISYwJiEcJiYhISYmISscJiYmJhwcHCsrFCscKyscJiYcKyYrJhwrISYhMCYmJiYrJiErJhccISEmFxwcKxwrFCEmJhwcHCsmJiYhHBwcIRwmJiEmJhQrFCYhJiYhKyYmKyYXJhwrKxwwIRocFxwrKxwhISsrISEmISscJhwrHDAmHDAXKyYmKyEcJhcrFxwcISErJiEmISEmHCsmHCYcFCsmFyYmJiYhJjAhHBwcHDAUIRwcJiYmHBwrKyYrJhQXHBwhJiYcIRwmKyYmJiYrJiYrHCYcISYmKxwhKyEXJhwmISYcHCYmKxwhFBwcJiEhIRchHCEcFCYhHBwrJiEhISshJhwXHCEhFxwrKysrHCsmMCEhFyYrISshFyYmJjAcHCYcJiEhIRwrKxchFBwhKyErKyEhKxwhJiEhHCYrJhwcJhwcGismJjAmJhwcJiEmISEhKxwcKxwrISYmJiErJiEmHCYXISscMBwcHBwmHCYhHCErISYmJismIRwcJisaJiEmISsmJiYcGiEcJisrISYwKxwrJiYhISscKyYrIRcrJhwmKxwmHCscJiYcHBcXISEmISEmISYhJiEmFBwhISYcFysrHCYcMCYcISYmISshHBwmHCscKxwhJiYhHBwrISYrFCsmHCErJiEXJiEcISYcIRcmJiEcJiEmKxchHBwcHCEmHCEcKyYcHCYcISEcISYrKyYrKxcmKyEmKyEmKyEmISsmKyYhJiYcJiYmJhwhJhwmHCEXISEmISErHCYmFCEhFCsmFCsrHCshFyEhJiEmISEcIRwXGhwrJiEXIRcwKxcmHCYmGiscJhwcJiYmJhwrKyEmKyYmISYmJiYmKyEhKyYhKxwhJiYmIRwmISEmJiEhHCsUJhwhKyEmKyYhKyEmIRccIRwcJhwmJiEcFCsrJiYSISYhISYcISYrHDAcJismHCErJiYhISscJiEcJhwhJisXJhwhHCscHBwmHCsrISYcKyswJiEcJiEhMDAcJiYcISEmKyEmHCErHBomISYhHCEXJiYcJhchJhwcJiYrFBwmJhwhHCscKyYUHCYrFzAcFBwhJiEmKyYXKxwXJiYhHCYrHCsrFCsXKxwUJiYrKyYwKyEwJiEhISEmJiErJhwhKysmFCYmHBwcIRwcMCscISYrJiYrKyYmISYmISYcISYmHCscHCYhIRcmKyYmKxwcHBchJiErHCEcHCEmIRchJisUGiErMCYhKyEhHCYmISscGismFxwwJhchJiEhISsrJhwcISEhKyYmJiEmISsmKyEcISErJiYrMCsaISsmJiYXITArJiEhIRcrIRwmKyErJiYmHCsmKxwmJiEmHCshEiEhJhQrJhcXISEXFxwmJiYcJiErJiYmKyYXKyshFxwrFyYcFyscKyYhFxwhKyEmHCYwJisXKxwmJhccJhwcJhwmJhwXJhwrKysmIRQmISEUFyEmJiYmJiErISsrHCYmHCYmIRwhJismKyscJhwcISYrJjAcJiEmISYmJishISYmJiYcKyEmHCscJjAhHBwmKyYrISYrISYhISEmHCYXKxwcHBcUJiEmISEmJiYXIRwmHCscHCYmKxQcFxwhKxwhJjArKyEhKyYrKyYcIRwrISYXFCYhHCYXISYmISEcHCYXISYhKysmKyErKxwXKyYcJiEXHCYhKyscJhwhMDAhISEmISshHCYcFxwrGiscISYcJiEcJishHCsrHCEcISscKyYhISEwHCEhHBomISEcIRQcHBcmKyYcFysmJhwhKxomHCsrHCEmHBQcKyEhHBwcISscHBwcISYrJiYmIRwaFxcmHCYrJiEhISEhHCYhFxowFyshJisXJhcmISEmJiErHCYmISYXJhwcJismJiEmJhwmHCYcFyscISscJiEmJiEmHCEhHCYmJjAcFyscHCYhHCEmIRwmHCshJiscISEhKyYcHCYcJiEUHCYhHCEhJismHCsmHBwmFyEhISEmHCYhJiYcISshISYcJhcmHCsXHCEcJhwmISEcHBwcJhwrKyEcJiYhHBchISYXISYmISEhHCEmJhchKxQmHBccHCEcJiYmHBcXHCYcIRwhKyYmJiYhHCEhHBwrKxwcJishISEhJiYcJhwrHCYmIRwmKysmJhwhHCscISEmHCEcJiYcKyEhJishISYmJiEhJiYcHCEcKyYhITArHDAcMCswHCYcHDAcISYhHBwhHCErJiYXJishHCYcHBwXHCEhHCEhHCYmHCYmJisXKyshISYrISscKxwhFBwXJiEmJhwrJiYrISYmFyErGhccHBcwHCEhISEcKxwcJiErJiEhJhwmJiYcHCYhIRwmKyYcISEmKzAhKxomISYcJiscJiYmFyYhKxwcISEcJiEhKxwmHCYhISYhIRwmJhwXKyYcHCshISEhJhwmJiYmHCYcJhwrJiYcHCYmJiEhJhwrIRwmISYmHCEmJiEmJiYcHCYhHCsmJiYhHBchISEwJiscITArIRwcHCscJiYmFyEXISEmHCYUHBwrJiErISYhJiEaFyYmJhwmJhwcISEmISEhHCYcEhwcKyYcJiYhJiEcJiYcKyshISscISErKxwcHBwcJiYrJishISEcJismJhQhHCEmISsrJhwhFBwhHCEhHCYhISErHCEhHCYhHCshHBwhJhwcJhchISYmHBwcHCESGishGisXJiscFyshISEUJiErFysrJishFCYrJhwcIRwcKysXISscISYhHCYcHCYwKyYrHCEcHBccHCEhFxwrHCEcFyYhHCYhHCYhJhwrJhwmFCsrHBwmKxwhGiErJishHBwrJhwhGiYcMCEhJishJiYcISEmIRwcISYhJiEcKyscJiYrJiEmJiEmISEhIRwcFBwrJiEhHCYrIRwXJiYcIRwUJisrHCYmHBwUJiYhFxwmJhwmISYhISYmJhwmJhcmKxohKyErJhwrKyswISErMCEmHCscIRccKyEmJiYUKyYcKyYUHCYcHCEmHCErJhccISEhFxwcJhwcHBocISEcKyEcISsUJismJiEwFysmKyEhISYhJhcUFxQrFxwmHCYrJiYXJishJhwmISEmHCscKyEhJiYhKyshHBwcISYcISEcHCEmISYmISEhHCYhJiYcHCYrFCYmIRwhHCsmFyYmJiYhISsXKyEXKyEhISEcMCEcJiErHBwXJishJhwcJiEXISscJiEmJiEhKyshIRwhISscJhwmHCscHCsmHCYmFyshKyYhJiYcISYmJhccISYhKyEmKyYrJiYmJiErJiEmJjAmKyYUIRcmISYmMBchHBwcHCYcISYSHCscFyEcISErIRwhHBQcIRwrJiYXJiEmKyYmISsmISYmJhwcKyYhJiscHCEcKyYhJiYcFyYmKysmJiYmJiEcHBcrHCEcJishJhwcFyYhHCYhHCscKxwcJiYrISEmISEhJiErHCYXHCshFyYmJiEhIRwmISYcJiYmGhwhJiYmJismKxwcKxcmJiEcJiYmKxwrHCYcHCErJisrIRccISshJhQmJiErHBwcISEcIRcmJhQmKxwmKxwcHCshJiYhJhwhFBwmHBwmJiEmHCYrISYXJiYhJiscIRcmKyYXJiEmJiYmKyYcJiEcJisrJisrHCYhHCYcKxwcKyErHCEmJhwhKxchJiEcHBwhHCYmKyYmJiscHCYcMBwrFysmJiYmKyYcGhwhJiscJiYaITAmJiEhHBwhKyEhISscHCYmHBQrJiYrJhwmJhwcJiEUIRQXHBQcJiYmJhwhISscJhwrJiEhHCEhKxwmHCscJiscISYhJismFBwcHCYrFyEmJiEcHCErKyYrKxwcJiEmISEmHBwmFyYmFBwXHBwhISscISscKyEhJiYhIRwhISscIRwhJiYmHCshJiEhIRwmFxwwHCshJishJiEwJiEcHCYmJiYmHCEmJiYhFBwmISsrJiYhHBwmKxwhJiYSKxwmJisUJhwcFyEcHCEmHCEhFCEhKxwcJiErHBcmHBwhISEhISYcISErJismISYcJisrJhwcJismHCEmJiYcJiYhISYhJiYcFyYUJiYhKyEmJhohJhwrIRchKxwcJiEhKyshJismJiYhISYcKyErKyYwEismIRwmKyEcKxwmFyYrKxwrISEUKyscMBcmISYmJiYmHCYmJhwXKxwhGhwUIRcmHCEhJiEwHCYhGiEmKyEmFCEmHCYhJiYXJiErHCEmISEhIRccISYcITArKyYmISsrIRwmJhwmISsmHBccISsmJiYmJiYhHCEhKyYXHBchHCEhHBchISYcFyshHBwrHBwmHCYcISEmISEhJhccKyYrHCsrJiYmHCEmHBwrKyYwKxcmISYmISEmHCshKyEhIRwhHCYhJiEmJhcmISErISEhJisrJiYmHCYmJhcmGiEcIRwmKyEmKxwmFCsrIRwmHCYhISEcJiYcJiEhISYXHBcmJiYrISYXJiErJiEhISYhJiEmITAcHCsmHCshJiYhFyErJisUKyYmIRwmHCYmKyYmISYhJiYmGiEhISErHCYcKyEcHCscISscKyEcISYXHBwmKyscFBwcISYhKyYrJiEhIRohJhwmIRwcISYXHDAmJiYhIRwcJiEcJiEcKxIcHCEmJhwrHCYmJiEhIRwcJhwcJishJiErFyYXIRwcHCYcJhcrISErISYrHCYrGishISEcHCYrHCYcISYXHCshISscJhwmHCshJiYmKyEhFxwrJiYhMBcrIRccHCYcHCYXJhwhJiEmIRwrHBwwJiYhHDAmHCEhMCshISsmISshJismHCscJhwmFyYcJishJishJhwUHCEcJhwmJhwmJiErJishJiErFBwcFyYmHCYmJiswJiEhJhwmIRohMCYcJhcUKyEmKysrHCEmFysXKyYhISEcIRwcHBcrJiYmFyshKyYrISErKyYmHBwhKyscISEmISYcJhccISshHCscJhwrKxccHCEmISYXJiYmMCshHCYXJhwcHCErHBwmIRcUIRQcHCEhJhwaIRwmJiEcMBcmMBwhJiEhHCEhJismJiYrKyYcKyEmISscISYcHCEhJhchJiEXHBwrJhwhISYmHCEcKyYhHCshKyErKyErKysrHBwSJhwcJhwhIRcmHBQcJhwXKxwmISYcISEXKyEmISEhJiEmJishIRwhIRcXISYmKyEcKyEcISEmKyYmITAhFxwmHCYcJiEcFyYUHCEmJhwcISYUHCYmHCYrIRwmFxwmJismHCYcJisrKxwmHBwmJiscHBQmISYmJiYmFBwUISsXJhcmHCYmHBwcISEmJhwhFCsmHCYhJhwhKyYhHCYcMCYrJiEhISEhITAcISYcHBwXKyYmJhccIRwrJismKyErJiYcHCYhHCsmKyYmJiEmIRwmJisrHCYmHBwcKyYXJiYrHCsrIRwUFyYmJhwmHCYmJhwmHCsrISYhJhwmHCYrISEcKxccFCYmKyEcFBwcISEhJiYmJhwhISYmHCEmJhwmKyEcISEmISYmKxcrIRcmMBwcJiYmJhwmHCsmHCEhHCYcHDAcHCYcHCEhKyscJhwcJjAcKyEmIRomISYmJisrJiYrJhwhJiEhKyEcMCshHCsmFxwrJiEhKyscMCEhJiYhHCYrJisrMBwwJhcrHCsmHCEcJiEhFCYmJiscKxwcJjAhJiYmISEcISErJhcmHCYcHBQmJishJhwhJiYhJhcmJiYcHBwcJiYcHCYmHCsUIRwhKyEmHBwrJiYhISYrJhwmKyEmJiYmHBwhISYcJhwcHCYmHBwrISsrHCYhFxwhHCsrJhwmJiEmIRwmITArKyEXHBwmJhcmHCYcJhwmJiYmJismISYmIRQmJiYmISEcJiEhISYmJiYrJhwmHCEcJhccHCYmJiEhJiYmJiscISshHCscHBcmMCYrJiYmHCYwHBocIRQmJhwmMCYcJhwmHCYcHBwXJhwrJhchJiErISYXJismFxwhHCsmKxwmHCYaJiEmKxcrHCYcFyYrIRwrKxwUGhchJhwhISYhJhwmHCYmJiYrJiErHCYcHBwmJisUHCYrJiYmJhcrJiYXJiYhHBQmKxwcKyEmKysrHCEmJiYrHBwcKyswJiYwJiYcJhwmHCYhIRwhKxwcISshHCshHCEXJishJiYrJiEcKyYmFyErJiYhMCEhKyEmJishHCsrJiEcJisXJiYmISYmHBwmISsmISEaIRccISscHCYcFyYcISEXJiYmFCYmJiYcIRwmHCYmISYrKxwhFyEcJiYrHCEmJhcmISYmJhwhJiYwHCsmKyYrMBwrMCYcISYmHCYcHCEmJiYrFBwhISshKyEUJhwhFyYwISEmJiErISsmEiYmKzAhIRQmHCEUHCErHCEhISYmJhwmJiYmFyEhJiYwJhwrISYcISEmKyEcIRwcHCsmJhwhHDAhISsmISYXJishFyYmHBchFyYrHCYcJiYhJhwUIRwhJiYmJiYhHBwaISYhKyYcIRwcJhwcISEmJishHBwmJishHBcXJiErKyErIRwcHBwmJhccJhwcISEmHCEmHCYcHBwhISYaISYcISEmJhwmJiswISYUIRwcHCYcKxwcHCYmFyYrISYhIRwcKxchIRwwJiYrIRwcISsUKysmJiYhHCsaJhcmHCEcJhwhJiEhJiErJiscHCEcHCEXFCswJiEmHCYrISYhHBwmFyEXISYhHCsmHCYcFyshISYaHCscGishJishJhwhJiErISYcJiYcJismISYcISYmKyYcISYcISYrISYhKyEmFxwcISEhKyshJisXISscJisrKxwhJiYhIRwXJiYhKyshKysrKyEcJjAhKyEhHCYUHCYmHCEhJhIXISYrISsmJiEhJhwmFyEhHCYcJiYcJiYcJiYmJiYrKysrJiErISYhHCEhISYhJiYhHCYwISYhJhwcISsmHCscHBwhJiYhJjAwJiYrISYcKxwwIRwcHCswKxwhJiErJiErJiYhIRwhKyEmHCEaJhccKyYcJhwmKyYcISYhIRchJhwhIRQmHBwhKxwcHBwrJhwcHCYmJiEmIRwcISYcHCYrKyEhISsmHCEwJishIRccJiYmJiEmISYmHCEhKyYmIRcrKysXIRwhIRwhFBwrJiYcFCEmIRwhJhwcKyErIRwmHCscIRwcJiscFyYhJiYcISEcGhchISYXHCsmHCYmHCEhHCYhIRwhJiEmHCEmIRwhISYcJhwhJiYrKyYmJiEhHCYmISYhHCYXJiYhKyYrFBwaIRQcJishHCErISEmJiYmFyYmJiEhJhwmISYrHCEmJiEmHCshKxwmJiYhJhwUISYcISYcJiYmKyYmFCscJiEmFyYhIRwcJismHCErHCEmJismHCYmFBwhJiEhFCYmISEcJhccJjAhJhwmHBwmISErKyEhISYmISYrKysaJiErJiEhJisrKyEmISYmJiEmJiYhISYrJhccISYcHBwcFxocJishISEwHCYcIRwcHBomKysrHCYcJhwmKxwmHCYmHBwhFBwcJhwmMCEmISshFyEcIRwmKyYhJishJiEcEiYrJhwXISYcHCsmJhwmKyYmKyYrHCYhJiscJhwcKyYhHCscHCEmJiYmHBwmJiEmJiYcHBwmHCEhJiErHCYmJiEcISEcKxwcHCYmJhwcISsmHCYmJiYhJismJiYhHCYhJiscHCEUJiYwFyscJiEmITArJiYcJiYcKxorIRwmISYhHCsmISEmHCYUISYcISEhKyshJhwUISsmJiYrJisXJiYmISYXISYXJiEmITAmJiEXHCEcISEmITAmJhomIRwmJiEhITAhISsUJiEcISYmISsUHCErHCscIRwmISsmHCEmMCsmJiErJiEcJhcmHBwXHCscISsrJhwhJiYhJiYhHCYcKyYmJishJhwmISYmJiYcKxwrKyYrJhchJhcrISYrJiEcJiYcJhQmJiYmHDAcIRcXMCEmJhwhFyYhISsmJiYcFxwmIRwcFxwhHCErFxwcKyYhKxQcHBwmHCEcHCEmFyYcHBQrKyEcHCYcIRwXJhQrJisrHCYrFysaIRwwGiEmFyYcKyEhJiYmIRwhHCsmHCYcKyYXKyErISshISshJhwXIRwhJhcmJhIhIRwXJiYXHCYcFysmJiYXJisrKyEcISErJiEcKyEhIRccHCYhMBwmJiYrHBwcISswHCErJhwUHBwXJhwwHCshHCsmHCEXKzAhJhQrISYhHCshJiEhJiEhFBwrHBwmJiYcHCsmJiEmHCYmHBwhKyshJiErHCEcHCYrKyYrHCEhISEcFyEhISYrIRoXHCEmKyYhHCEhJhwmJiEhHCscJiYhISEXFxwcJhwcFxwmISsrIRcrISEmIRcmHBwhHCYhISYmFxcmJiEmHCEhFyEhJhwhHCshKyYcKxwhKxwmIRwmJhwmJiYcJhwmIRwmEiEcMBwhJiYcISYhGiYcISsrJhwhHCshISYhJisUJiYmHCYcJiEXISsSIRwmISscISYhFxwrJhwrJiYhHCEhKysaKyEhKyshJishJiYrJhwcKzAcIRwhJiEhKyYrJiYhJiYmKxwrFxwcIRwhISsrKysXJhwcFyEXJiEcISYcHBcrISYhKxwmKyYcISYwISYcHCEcHBwmKyEmHCYhJhchKyYhISYSJhwcKyscHBwcKyYcGiEmKxwhHCsmJishGiYhHBwhISYXHCYaHBwmJjAXISscJiEUHCsmFyEhJiErKyYmFyYcFyEmJiYmGhwhJishJismJhwmJhwcJiEcGiYcIRwcHCEhJiYcKxwmKxwmJishIRwmFyEhJjAhKyYcISsmHCYmHBwmJishIRwhFyYhKysmISYcHBwrJisaJhccJhchKxwcJjAhMBwmHCYrGiEmJhwhISsmJhohKyEmIRwmJiYhJhccJiYmHCYhFyYmJishJiEXMCsmKysrHBwcHCsrJishFyEwHCYmFCYmISYcJjAaKyYrJhomKyEmHCEaJishHBwcFxwrKysrISYcHCYmFxwcISEhHCEhGiYmFxQcJhcmKyYhGiYrHCErJiYmHBwmMBwmHDAhKyEmKyYmJismFBQmISEcFyYmHCErJiErHCYhFxwmISYmJismFCYhJiYrMCsrFyEmJiYcKxIhISscKyYcIRIwJiYhJiEXMBwhJiErHBwhJiYcHCYrJiEhMCYXJhwcISEhISYhJiYwIRwmISEhKyEmFyEhHCscHBQmISsmKyEmJhchJiErISYmHCErISEmKxwmKxwcISsXJiYhKyEmJjAcIRwhISYmHCYaJiErJiEhISYmHCErJiYXISYhHCYcHCscISErFyYhIRcmJiEhISEmHCErISErHCEhJhccJiEhJiEUHBwhJiscHCsmKyscJiYcKyEhKyscMCsmHCsrJhIXJhwcKysrISYUHCYhISsmISshISEUJhwmJiYhIRQrIRwrISshJhQrMBwmHCYmJismJhQhJiscJiscISEmJiYmFCYmHCsUKxwUJhwhISYmISYXEhwrHCYmKyYcISEmFyYhISYmKxohIRwrKxQcHCYmFyYmISYcHCEmHCYmJismJhQmJiEhHCYmFyYhFCYrISYrISYmHCYcJiYmHCYmHBwhHCYmJisrHCsrJhwcMBwmHBwhIRwmISYmISYhFyEhJhwhISEmISEmISsmJhwmIRwhKyYrHCEcJhwcJiYhJiEmJiEcHCshKyYhKyYcHBchHCYmJhwhIRwcJishJiEhJhchJiYrHCEmHBwmIRccHBwrISscFyYcISYmKyYmJishISEhJiEcKxwhJisUKysrISsSHBccITAhISYrJhwmKyEhKyYhHCsmISErKxwhJiEcHCsrISYmISsXFxwrIRwhISsrKxwhHCYcISswJhwhHCEcISEmJishHCErJisXJiYhJiYmHCYhIRwmHCEhHBwXKyYmHBwXJiErKxwrHCscKyYrISYmISsmJiYhJhwcHCYcHCscFCYcISEhHBwhKzAcITAcISEmHCEXHCErISYmJiEcKyshISYcJiYhHCEhKyYcJhcmFCYXHCYcMCEmJiYmHBwXJiYmIRwhISsrHCYwISEaJiEcJiYhIRwmFyEcISYUHCYwHBwXJiYaISYXFBcrKyYmFCYrHCsmJishJiEmKxwrFxchJhwhJiYhJiErKyEcISsmISESHCYmHCsXJismFCEhISYrHBwmISYmHCEhISYXISEwJhwcKxwhISYhKyYcHCEmHCshISYcISYrIRwmJhwmKxwhKysXIRccJhwXFyYmHCsmISsrJiYcHBwrKyYmJiEhJiErHCYhKxwmJhwmFyYcGismHCYhISYcKxoXHBwaJiYhJiYcJhcrISEhJiYmISsrFxccJiEcHCEmFxQmFyYcKyYhJhQmIRorMCsrJismHBwXKyYcJhImHCYcISsmJiYhKyEmIRwhISsrISEUISEhHCEhISYrJiESJiEcKyYrKyEcJisXJiYrISsrJiESFxwhISYhISYhHCYrISsrJiYrJismHCsmHCEcHBcXKyYcKyYmGishHCYrKxwcKyYcHCErKxcmFxwmHBwhHDAmJiEXISEhJiYrHCEhFCsmHBwmHBcmHCEcISYXJhwUKyYcJiYhHCYmISYcJiYXJhwhMCYhJhwcKyYhJismJiEhISYcISErHCEcIRwcHDAcJiYrISYmJiEcIRQmHDAcFyEhISYmHCYmKyYmFyYhIRQcJiEmFyEXKxQmHBccJiYcJiYcKxwrIRwcKyEcJisXIRQrJhohJhwrMCYaHDAcFyYmJhccHCsUHDAmJismKyEcFysmIRchHCsUHBcrHCYhJiEaHBwmHBwrHCsXHBwrISEhKyYcHCYhIRwmISEhISYrJhocHCErJhwrJiYhHCEcJiYmJhwmJiErKxwhHCshHCEmISsrIRwhJhchHCEcJhwhJhwXJiYrJjAhKyYhHCEhHCYhHCsUKyYcJiEmHCYrISYmHCYrHCscJiYcJiYcHCYcJiEcFzArJiEmKyYmJismJhwcHCYmFBwmHCYmJhwmJiEXIRcwJiEUIRwmJiEhMCYhJiEhISscISsrISYcKyEcJiYcKyYwISEhHBwcFyEhIRwmHBwmKxcmJiEmISEhJhwmJiYcJisrHCErJhwrFCsaHBQcHCEhKyYmJiEhISEmISYhISYmHCYU",
          "dtype": "i1"
         },
         "xaxis": "x",
         "yaxis": "y"
        }
       ],
       "layout": {
        "barmode": "relative",
        "legend": {
         "tracegroupgap": 0
        },
        "template": {
         "data": {
          "bar": [
           {
            "error_x": {
             "color": "#2a3f5f"
            },
            "error_y": {
             "color": "#2a3f5f"
            },
            "marker": {
             "line": {
              "color": "#E5ECF6",
              "width": 0.5
             },
             "pattern": {
              "fillmode": "overlay",
              "size": 10,
              "solidity": 0.2
             }
            },
            "type": "bar"
           }
          ],
          "barpolar": [
           {
            "marker": {
             "line": {
              "color": "#E5ECF6",
              "width": 0.5
             },
             "pattern": {
              "fillmode": "overlay",
              "size": 10,
              "solidity": 0.2
             }
            },
            "type": "barpolar"
           }
          ],
          "carpet": [
           {
            "aaxis": {
             "endlinecolor": "#2a3f5f",
             "gridcolor": "white",
             "linecolor": "white",
             "minorgridcolor": "white",
             "startlinecolor": "#2a3f5f"
            },
            "baxis": {
             "endlinecolor": "#2a3f5f",
             "gridcolor": "white",
             "linecolor": "white",
             "minorgridcolor": "white",
             "startlinecolor": "#2a3f5f"
            },
            "type": "carpet"
           }
          ],
          "choropleth": [
           {
            "colorbar": {
             "outlinewidth": 0,
             "ticks": ""
            },
            "type": "choropleth"
           }
          ],
          "contour": [
           {
            "colorbar": {
             "outlinewidth": 0,
             "ticks": ""
            },
            "colorscale": [
             [
              0,
              "#0d0887"
             ],
             [
              0.1111111111111111,
              "#46039f"
             ],
             [
              0.2222222222222222,
              "#7201a8"
             ],
             [
              0.3333333333333333,
              "#9c179e"
             ],
             [
              0.4444444444444444,
              "#bd3786"
             ],
             [
              0.5555555555555556,
              "#d8576b"
             ],
             [
              0.6666666666666666,
              "#ed7953"
             ],
             [
              0.7777777777777778,
              "#fb9f3a"
             ],
             [
              0.8888888888888888,
              "#fdca26"
             ],
             [
              1,
              "#f0f921"
             ]
            ],
            "type": "contour"
           }
          ],
          "contourcarpet": [
           {
            "colorbar": {
             "outlinewidth": 0,
             "ticks": ""
            },
            "type": "contourcarpet"
           }
          ],
          "heatmap": [
           {
            "colorbar": {
             "outlinewidth": 0,
             "ticks": ""
            },
            "colorscale": [
             [
              0,
              "#0d0887"
             ],
             [
              0.1111111111111111,
              "#46039f"
             ],
             [
              0.2222222222222222,
              "#7201a8"
             ],
             [
              0.3333333333333333,
              "#9c179e"
             ],
             [
              0.4444444444444444,
              "#bd3786"
             ],
             [
              0.5555555555555556,
              "#d8576b"
             ],
             [
              0.6666666666666666,
              "#ed7953"
             ],
             [
              0.7777777777777778,
              "#fb9f3a"
             ],
             [
              0.8888888888888888,
              "#fdca26"
             ],
             [
              1,
              "#f0f921"
             ]
            ],
            "type": "heatmap"
           }
          ],
          "histogram": [
           {
            "marker": {
             "pattern": {
              "fillmode": "overlay",
              "size": 10,
              "solidity": 0.2
             }
            },
            "type": "histogram"
           }
          ],
          "histogram2d": [
           {
            "colorbar": {
             "outlinewidth": 0,
             "ticks": ""
            },
            "colorscale": [
             [
              0,
              "#0d0887"
             ],
             [
              0.1111111111111111,
              "#46039f"
             ],
             [
              0.2222222222222222,
              "#7201a8"
             ],
             [
              0.3333333333333333,
              "#9c179e"
             ],
             [
              0.4444444444444444,
              "#bd3786"
             ],
             [
              0.5555555555555556,
              "#d8576b"
             ],
             [
              0.6666666666666666,
              "#ed7953"
             ],
             [
              0.7777777777777778,
              "#fb9f3a"
             ],
             [
              0.8888888888888888,
              "#fdca26"
             ],
             [
              1,
              "#f0f921"
             ]
            ],
            "type": "histogram2d"
           }
          ],
          "histogram2dcontour": [
           {
            "colorbar": {
             "outlinewidth": 0,
             "ticks": ""
            },
            "colorscale": [
             [
              0,
              "#0d0887"
             ],
             [
              0.1111111111111111,
              "#46039f"
             ],
             [
              0.2222222222222222,
              "#7201a8"
             ],
             [
              0.3333333333333333,
              "#9c179e"
             ],
             [
              0.4444444444444444,
              "#bd3786"
             ],
             [
              0.5555555555555556,
              "#d8576b"
             ],
             [
              0.6666666666666666,
              "#ed7953"
             ],
             [
              0.7777777777777778,
              "#fb9f3a"
             ],
             [
              0.8888888888888888,
              "#fdca26"
             ],
             [
              1,
              "#f0f921"
             ]
            ],
            "type": "histogram2dcontour"
           }
          ],
          "mesh3d": [
           {
            "colorbar": {
             "outlinewidth": 0,
             "ticks": ""
            },
            "type": "mesh3d"
           }
          ],
          "parcoords": [
           {
            "line": {
             "colorbar": {
              "outlinewidth": 0,
              "ticks": ""
             }
            },
            "type": "parcoords"
           }
          ],
          "pie": [
           {
            "automargin": true,
            "type": "pie"
           }
          ],
          "scatter": [
           {
            "fillpattern": {
             "fillmode": "overlay",
             "size": 10,
             "solidity": 0.2
            },
            "type": "scatter"
           }
          ],
          "scatter3d": [
           {
            "line": {
             "colorbar": {
              "outlinewidth": 0,
              "ticks": ""
             }
            },
            "marker": {
             "colorbar": {
              "outlinewidth": 0,
              "ticks": ""
             }
            },
            "type": "scatter3d"
           }
          ],
          "scattercarpet": [
           {
            "marker": {
             "colorbar": {
              "outlinewidth": 0,
              "ticks": ""
             }
            },
            "type": "scattercarpet"
           }
          ],
          "scattergeo": [
           {
            "marker": {
             "colorbar": {
              "outlinewidth": 0,
              "ticks": ""
             }
            },
            "type": "scattergeo"
           }
          ],
          "scattergl": [
           {
            "marker": {
             "colorbar": {
              "outlinewidth": 0,
              "ticks": ""
             }
            },
            "type": "scattergl"
           }
          ],
          "scattermap": [
           {
            "marker": {
             "colorbar": {
              "outlinewidth": 0,
              "ticks": ""
             }
            },
            "type": "scattermap"
           }
          ],
          "scattermapbox": [
           {
            "marker": {
             "colorbar": {
              "outlinewidth": 0,
              "ticks": ""
             }
            },
            "type": "scattermapbox"
           }
          ],
          "scatterpolar": [
           {
            "marker": {
             "colorbar": {
              "outlinewidth": 0,
              "ticks": ""
             }
            },
            "type": "scatterpolar"
           }
          ],
          "scatterpolargl": [
           {
            "marker": {
             "colorbar": {
              "outlinewidth": 0,
              "ticks": ""
             }
            },
            "type": "scatterpolargl"
           }
          ],
          "scatterternary": [
           {
            "marker": {
             "colorbar": {
              "outlinewidth": 0,
              "ticks": ""
             }
            },
            "type": "scatterternary"
           }
          ],
          "surface": [
           {
            "colorbar": {
             "outlinewidth": 0,
             "ticks": ""
            },
            "colorscale": [
             [
              0,
              "#0d0887"
             ],
             [
              0.1111111111111111,
              "#46039f"
             ],
             [
              0.2222222222222222,
              "#7201a8"
             ],
             [
              0.3333333333333333,
              "#9c179e"
             ],
             [
              0.4444444444444444,
              "#bd3786"
             ],
             [
              0.5555555555555556,
              "#d8576b"
             ],
             [
              0.6666666666666666,
              "#ed7953"
             ],
             [
              0.7777777777777778,
              "#fb9f3a"
             ],
             [
              0.8888888888888888,
              "#fdca26"
             ],
             [
              1,
              "#f0f921"
             ]
            ],
            "type": "surface"
           }
          ],
          "table": [
           {
            "cells": {
             "fill": {
              "color": "#EBF0F8"
             },
             "line": {
              "color": "white"
             }
            },
            "header": {
             "fill": {
              "color": "#C8D4E3"
             },
             "line": {
              "color": "white"
             }
            },
            "type": "table"
           }
          ]
         },
         "layout": {
          "annotationdefaults": {
           "arrowcolor": "#2a3f5f",
           "arrowhead": 0,
           "arrowwidth": 1
          },
          "autotypenumbers": "strict",
          "coloraxis": {
           "colorbar": {
            "outlinewidth": 0,
            "ticks": ""
           }
          },
          "colorscale": {
           "diverging": [
            [
             0,
             "#8e0152"
            ],
            [
             0.1,
             "#c51b7d"
            ],
            [
             0.2,
             "#de77ae"
            ],
            [
             0.3,
             "#f1b6da"
            ],
            [
             0.4,
             "#fde0ef"
            ],
            [
             0.5,
             "#f7f7f7"
            ],
            [
             0.6,
             "#e6f5d0"
            ],
            [
             0.7,
             "#b8e186"
            ],
            [
             0.8,
             "#7fbc41"
            ],
            [
             0.9,
             "#4d9221"
            ],
            [
             1,
             "#276419"
            ]
           ],
           "sequential": [
            [
             0,
             "#0d0887"
            ],
            [
             0.1111111111111111,
             "#46039f"
            ],
            [
             0.2222222222222222,
             "#7201a8"
            ],
            [
             0.3333333333333333,
             "#9c179e"
            ],
            [
             0.4444444444444444,
             "#bd3786"
            ],
            [
             0.5555555555555556,
             "#d8576b"
            ],
            [
             0.6666666666666666,
             "#ed7953"
            ],
            [
             0.7777777777777778,
             "#fb9f3a"
            ],
            [
             0.8888888888888888,
             "#fdca26"
            ],
            [
             1,
             "#f0f921"
            ]
           ],
           "sequentialminus": [
            [
             0,
             "#0d0887"
            ],
            [
             0.1111111111111111,
             "#46039f"
            ],
            [
             0.2222222222222222,
             "#7201a8"
            ],
            [
             0.3333333333333333,
             "#9c179e"
            ],
            [
             0.4444444444444444,
             "#bd3786"
            ],
            [
             0.5555555555555556,
             "#d8576b"
            ],
            [
             0.6666666666666666,
             "#ed7953"
            ],
            [
             0.7777777777777778,
             "#fb9f3a"
            ],
            [
             0.8888888888888888,
             "#fdca26"
            ],
            [
             1,
             "#f0f921"
            ]
           ]
          },
          "colorway": [
           "#636efa",
           "#EF553B",
           "#00cc96",
           "#ab63fa",
           "#FFA15A",
           "#19d3f3",
           "#FF6692",
           "#B6E880",
           "#FF97FF",
           "#FECB52"
          ],
          "font": {
           "color": "#2a3f5f"
          },
          "geo": {
           "bgcolor": "white",
           "lakecolor": "white",
           "landcolor": "#E5ECF6",
           "showlakes": true,
           "showland": true,
           "subunitcolor": "white"
          },
          "hoverlabel": {
           "align": "left"
          },
          "hovermode": "closest",
          "mapbox": {
           "style": "light"
          },
          "paper_bgcolor": "white",
          "plot_bgcolor": "#E5ECF6",
          "polar": {
           "angularaxis": {
            "gridcolor": "white",
            "linecolor": "white",
            "ticks": ""
           },
           "bgcolor": "#E5ECF6",
           "radialaxis": {
            "gridcolor": "white",
            "linecolor": "white",
            "ticks": ""
           }
          },
          "scene": {
           "xaxis": {
            "backgroundcolor": "#E5ECF6",
            "gridcolor": "white",
            "gridwidth": 2,
            "linecolor": "white",
            "showbackground": true,
            "ticks": "",
            "zerolinecolor": "white"
           },
           "yaxis": {
            "backgroundcolor": "#E5ECF6",
            "gridcolor": "white",
            "gridwidth": 2,
            "linecolor": "white",
            "showbackground": true,
            "ticks": "",
            "zerolinecolor": "white"
           },
           "zaxis": {
            "backgroundcolor": "#E5ECF6",
            "gridcolor": "white",
            "gridwidth": 2,
            "linecolor": "white",
            "showbackground": true,
            "ticks": "",
            "zerolinecolor": "white"
           }
          },
          "shapedefaults": {
           "line": {
            "color": "#2a3f5f"
           }
          },
          "ternary": {
           "aaxis": {
            "gridcolor": "white",
            "linecolor": "white",
            "ticks": ""
           },
           "baxis": {
            "gridcolor": "white",
            "linecolor": "white",
            "ticks": ""
           },
           "bgcolor": "#E5ECF6",
           "caxis": {
            "gridcolor": "white",
            "linecolor": "white",
            "ticks": ""
           }
          },
          "title": {
           "x": 0.05
          },
          "xaxis": {
           "automargin": true,
           "gridcolor": "white",
           "linecolor": "white",
           "ticks": "",
           "title": {
            "standoff": 15
           },
           "zerolinecolor": "white",
           "zerolinewidth": 2
          },
          "yaxis": {
           "automargin": true,
           "gridcolor": "white",
           "linecolor": "white",
           "ticks": "",
           "title": {
            "standoff": 15
           },
           "zerolinecolor": "white",
           "zerolinewidth": 2
          }
         }
        },
        "title": {
         "text": "Buying Price Range"
        },
        "xaxis": {
         "anchor": "y",
         "domain": [
          0,
          1
         ],
         "title": {
          "text": "price"
         }
        },
        "yaxis": {
         "anchor": "x",
         "domain": [
          0,
          1
         ],
         "title": {
          "text": "count"
         }
        }
       }
      }
     },
     "metadata": {},
     "output_type": "display_data"
    }
   ],
   "source": [
    "data1_df = data[data['price_2'] == 1]\n",
    "data2_df = data[data['price_2'] == 2]\n",
    "a = ['Viewing Price range','Buying Price Range' ]\n",
    "b = (data1_df,data2_df)\n",
    "for i in range(2):\n",
    "    fig = px.histogram(\n",
    "        b[i],\n",
    "        x = 'price', \n",
    "        title= a[i]   \n",
    "    )\n",
    "    fig.show()"
   ]
  },
  {
   "cell_type": "code",
   "execution_count": null,
   "id": "8158bcf2",
   "metadata": {},
   "outputs": [
    {
     "data": {
      "application/vnd.plotly.v1+json": {
       "config": {
        "plotlyServerURL": "https://plot.ly"
       },
       "data": [
        {
         "customdata": {
          "bdata": "UQQpFII5niM2Kx4wXxwjF30BxQPjE6si0wSPEGIIAhdvEwgLPw4CAiEWiQUjCpUJWhihGQ==",
          "dtype": "i2",
          "shape": "26, 1"
         },
         "hovertemplate": "colour=%{x}<br>Total Price=%{y}<br>visits_count=%{customdata[0]}<br>price_2=%{marker.color}<extra></extra>",
         "legendgroup": "",
         "marker": {
          "color": {
           "bdata": "AQIBAgECAQIBAgECAQICAQIBAQIBAgECAQI=",
           "dtype": "i1"
          },
          "coloraxis": "coloraxis",
          "pattern": {
           "shape": ""
          }
         },
         "name": "",
         "orientation": "v",
         "showlegend": false,
         "textposition": "auto",
         "type": "bar",
         "x": {
          "bdata": "AQECAgMDBAQFBQYGBwcICQkKCwsMDA0NDg4=",
          "dtype": "i1"
         },
         "xaxis": "x",
         "y": {
          "bdata": "ngsBAFvDAgCY8gsApSIFAJsoCgAfagcA/iYFANfpAgBkTQAAZXwAAD42BAAbcAQAcdQAAN4XAgAA/QAAoW8EAChKAgCgPQIAS+ICAAo5AADBvAQAW7QAADILAgDmMAEAkakEAGQoAwA=",
          "dtype": "i4"
         },
         "yaxis": "y"
        }
       ],
       "layout": {
        "barmode": "relative",
        "coloraxis": {
         "colorbar": {
          "title": {
           "text": "price_2"
          }
         },
         "colorscale": [
          [
           0,
           "#0d0887"
          ],
          [
           0.1111111111111111,
           "#46039f"
          ],
          [
           0.2222222222222222,
           "#7201a8"
          ],
          [
           0.3333333333333333,
           "#9c179e"
          ],
          [
           0.4444444444444444,
           "#bd3786"
          ],
          [
           0.5555555555555556,
           "#d8576b"
          ],
          [
           0.6666666666666666,
           "#ed7953"
          ],
          [
           0.7777777777777778,
           "#fb9f3a"
          ],
          [
           0.8888888888888888,
           "#fdca26"
          ],
          [
           1,
           "#f0f921"
          ]
         ]
        },
        "legend": {
         "tracegroupgap": 0
        },
        "template": {
         "data": {
          "bar": [
           {
            "error_x": {
             "color": "#2a3f5f"
            },
            "error_y": {
             "color": "#2a3f5f"
            },
            "marker": {
             "line": {
              "color": "#E5ECF6",
              "width": 0.5
             },
             "pattern": {
              "fillmode": "overlay",
              "size": 10,
              "solidity": 0.2
             }
            },
            "type": "bar"
           }
          ],
          "barpolar": [
           {
            "marker": {
             "line": {
              "color": "#E5ECF6",
              "width": 0.5
             },
             "pattern": {
              "fillmode": "overlay",
              "size": 10,
              "solidity": 0.2
             }
            },
            "type": "barpolar"
           }
          ],
          "carpet": [
           {
            "aaxis": {
             "endlinecolor": "#2a3f5f",
             "gridcolor": "white",
             "linecolor": "white",
             "minorgridcolor": "white",
             "startlinecolor": "#2a3f5f"
            },
            "baxis": {
             "endlinecolor": "#2a3f5f",
             "gridcolor": "white",
             "linecolor": "white",
             "minorgridcolor": "white",
             "startlinecolor": "#2a3f5f"
            },
            "type": "carpet"
           }
          ],
          "choropleth": [
           {
            "colorbar": {
             "outlinewidth": 0,
             "ticks": ""
            },
            "type": "choropleth"
           }
          ],
          "contour": [
           {
            "colorbar": {
             "outlinewidth": 0,
             "ticks": ""
            },
            "colorscale": [
             [
              0,
              "#0d0887"
             ],
             [
              0.1111111111111111,
              "#46039f"
             ],
             [
              0.2222222222222222,
              "#7201a8"
             ],
             [
              0.3333333333333333,
              "#9c179e"
             ],
             [
              0.4444444444444444,
              "#bd3786"
             ],
             [
              0.5555555555555556,
              "#d8576b"
             ],
             [
              0.6666666666666666,
              "#ed7953"
             ],
             [
              0.7777777777777778,
              "#fb9f3a"
             ],
             [
              0.8888888888888888,
              "#fdca26"
             ],
             [
              1,
              "#f0f921"
             ]
            ],
            "type": "contour"
           }
          ],
          "contourcarpet": [
           {
            "colorbar": {
             "outlinewidth": 0,
             "ticks": ""
            },
            "type": "contourcarpet"
           }
          ],
          "heatmap": [
           {
            "colorbar": {
             "outlinewidth": 0,
             "ticks": ""
            },
            "colorscale": [
             [
              0,
              "#0d0887"
             ],
             [
              0.1111111111111111,
              "#46039f"
             ],
             [
              0.2222222222222222,
              "#7201a8"
             ],
             [
              0.3333333333333333,
              "#9c179e"
             ],
             [
              0.4444444444444444,
              "#bd3786"
             ],
             [
              0.5555555555555556,
              "#d8576b"
             ],
             [
              0.6666666666666666,
              "#ed7953"
             ],
             [
              0.7777777777777778,
              "#fb9f3a"
             ],
             [
              0.8888888888888888,
              "#fdca26"
             ],
             [
              1,
              "#f0f921"
             ]
            ],
            "type": "heatmap"
           }
          ],
          "histogram": [
           {
            "marker": {
             "pattern": {
              "fillmode": "overlay",
              "size": 10,
              "solidity": 0.2
             }
            },
            "type": "histogram"
           }
          ],
          "histogram2d": [
           {
            "colorbar": {
             "outlinewidth": 0,
             "ticks": ""
            },
            "colorscale": [
             [
              0,
              "#0d0887"
             ],
             [
              0.1111111111111111,
              "#46039f"
             ],
             [
              0.2222222222222222,
              "#7201a8"
             ],
             [
              0.3333333333333333,
              "#9c179e"
             ],
             [
              0.4444444444444444,
              "#bd3786"
             ],
             [
              0.5555555555555556,
              "#d8576b"
             ],
             [
              0.6666666666666666,
              "#ed7953"
             ],
             [
              0.7777777777777778,
              "#fb9f3a"
             ],
             [
              0.8888888888888888,
              "#fdca26"
             ],
             [
              1,
              "#f0f921"
             ]
            ],
            "type": "histogram2d"
           }
          ],
          "histogram2dcontour": [
           {
            "colorbar": {
             "outlinewidth": 0,
             "ticks": ""
            },
            "colorscale": [
             [
              0,
              "#0d0887"
             ],
             [
              0.1111111111111111,
              "#46039f"
             ],
             [
              0.2222222222222222,
              "#7201a8"
             ],
             [
              0.3333333333333333,
              "#9c179e"
             ],
             [
              0.4444444444444444,
              "#bd3786"
             ],
             [
              0.5555555555555556,
              "#d8576b"
             ],
             [
              0.6666666666666666,
              "#ed7953"
             ],
             [
              0.7777777777777778,
              "#fb9f3a"
             ],
             [
              0.8888888888888888,
              "#fdca26"
             ],
             [
              1,
              "#f0f921"
             ]
            ],
            "type": "histogram2dcontour"
           }
          ],
          "mesh3d": [
           {
            "colorbar": {
             "outlinewidth": 0,
             "ticks": ""
            },
            "type": "mesh3d"
           }
          ],
          "parcoords": [
           {
            "line": {
             "colorbar": {
              "outlinewidth": 0,
              "ticks": ""
             }
            },
            "type": "parcoords"
           }
          ],
          "pie": [
           {
            "automargin": true,
            "type": "pie"
           }
          ],
          "scatter": [
           {
            "fillpattern": {
             "fillmode": "overlay",
             "size": 10,
             "solidity": 0.2
            },
            "type": "scatter"
           }
          ],
          "scatter3d": [
           {
            "line": {
             "colorbar": {
              "outlinewidth": 0,
              "ticks": ""
             }
            },
            "marker": {
             "colorbar": {
              "outlinewidth": 0,
              "ticks": ""
             }
            },
            "type": "scatter3d"
           }
          ],
          "scattercarpet": [
           {
            "marker": {
             "colorbar": {
              "outlinewidth": 0,
              "ticks": ""
             }
            },
            "type": "scattercarpet"
           }
          ],
          "scattergeo": [
           {
            "marker": {
             "colorbar": {
              "outlinewidth": 0,
              "ticks": ""
             }
            },
            "type": "scattergeo"
           }
          ],
          "scattergl": [
           {
            "marker": {
             "colorbar": {
              "outlinewidth": 0,
              "ticks": ""
             }
            },
            "type": "scattergl"
           }
          ],
          "scattermap": [
           {
            "marker": {
             "colorbar": {
              "outlinewidth": 0,
              "ticks": ""
             }
            },
            "type": "scattermap"
           }
          ],
          "scattermapbox": [
           {
            "marker": {
             "colorbar": {
              "outlinewidth": 0,
              "ticks": ""
             }
            },
            "type": "scattermapbox"
           }
          ],
          "scatterpolar": [
           {
            "marker": {
             "colorbar": {
              "outlinewidth": 0,
              "ticks": ""
             }
            },
            "type": "scatterpolar"
           }
          ],
          "scatterpolargl": [
           {
            "marker": {
             "colorbar": {
              "outlinewidth": 0,
              "ticks": ""
             }
            },
            "type": "scatterpolargl"
           }
          ],
          "scatterternary": [
           {
            "marker": {
             "colorbar": {
              "outlinewidth": 0,
              "ticks": ""
             }
            },
            "type": "scatterternary"
           }
          ],
          "surface": [
           {
            "colorbar": {
             "outlinewidth": 0,
             "ticks": ""
            },
            "colorscale": [
             [
              0,
              "#0d0887"
             ],
             [
              0.1111111111111111,
              "#46039f"
             ],
             [
              0.2222222222222222,
              "#7201a8"
             ],
             [
              0.3333333333333333,
              "#9c179e"
             ],
             [
              0.4444444444444444,
              "#bd3786"
             ],
             [
              0.5555555555555556,
              "#d8576b"
             ],
             [
              0.6666666666666666,
              "#ed7953"
             ],
             [
              0.7777777777777778,
              "#fb9f3a"
             ],
             [
              0.8888888888888888,
              "#fdca26"
             ],
             [
              1,
              "#f0f921"
             ]
            ],
            "type": "surface"
           }
          ],
          "table": [
           {
            "cells": {
             "fill": {
              "color": "#EBF0F8"
             },
             "line": {
              "color": "white"
             }
            },
            "header": {
             "fill": {
              "color": "#C8D4E3"
             },
             "line": {
              "color": "white"
             }
            },
            "type": "table"
           }
          ]
         },
         "layout": {
          "annotationdefaults": {
           "arrowcolor": "#2a3f5f",
           "arrowhead": 0,
           "arrowwidth": 1
          },
          "autotypenumbers": "strict",
          "coloraxis": {
           "colorbar": {
            "outlinewidth": 0,
            "ticks": ""
           }
          },
          "colorscale": {
           "diverging": [
            [
             0,
             "#8e0152"
            ],
            [
             0.1,
             "#c51b7d"
            ],
            [
             0.2,
             "#de77ae"
            ],
            [
             0.3,
             "#f1b6da"
            ],
            [
             0.4,
             "#fde0ef"
            ],
            [
             0.5,
             "#f7f7f7"
            ],
            [
             0.6,
             "#e6f5d0"
            ],
            [
             0.7,
             "#b8e186"
            ],
            [
             0.8,
             "#7fbc41"
            ],
            [
             0.9,
             "#4d9221"
            ],
            [
             1,
             "#276419"
            ]
           ],
           "sequential": [
            [
             0,
             "#0d0887"
            ],
            [
             0.1111111111111111,
             "#46039f"
            ],
            [
             0.2222222222222222,
             "#7201a8"
            ],
            [
             0.3333333333333333,
             "#9c179e"
            ],
            [
             0.4444444444444444,
             "#bd3786"
            ],
            [
             0.5555555555555556,
             "#d8576b"
            ],
            [
             0.6666666666666666,
             "#ed7953"
            ],
            [
             0.7777777777777778,
             "#fb9f3a"
            ],
            [
             0.8888888888888888,
             "#fdca26"
            ],
            [
             1,
             "#f0f921"
            ]
           ],
           "sequentialminus": [
            [
             0,
             "#0d0887"
            ],
            [
             0.1111111111111111,
             "#46039f"
            ],
            [
             0.2222222222222222,
             "#7201a8"
            ],
            [
             0.3333333333333333,
             "#9c179e"
            ],
            [
             0.4444444444444444,
             "#bd3786"
            ],
            [
             0.5555555555555556,
             "#d8576b"
            ],
            [
             0.6666666666666666,
             "#ed7953"
            ],
            [
             0.7777777777777778,
             "#fb9f3a"
            ],
            [
             0.8888888888888888,
             "#fdca26"
            ],
            [
             1,
             "#f0f921"
            ]
           ]
          },
          "colorway": [
           "#636efa",
           "#EF553B",
           "#00cc96",
           "#ab63fa",
           "#FFA15A",
           "#19d3f3",
           "#FF6692",
           "#B6E880",
           "#FF97FF",
           "#FECB52"
          ],
          "font": {
           "color": "#2a3f5f"
          },
          "geo": {
           "bgcolor": "white",
           "lakecolor": "white",
           "landcolor": "#E5ECF6",
           "showlakes": true,
           "showland": true,
           "subunitcolor": "white"
          },
          "hoverlabel": {
           "align": "left"
          },
          "hovermode": "closest",
          "mapbox": {
           "style": "light"
          },
          "paper_bgcolor": "white",
          "plot_bgcolor": "#E5ECF6",
          "polar": {
           "angularaxis": {
            "gridcolor": "white",
            "linecolor": "white",
            "ticks": ""
           },
           "bgcolor": "#E5ECF6",
           "radialaxis": {
            "gridcolor": "white",
            "linecolor": "white",
            "ticks": ""
           }
          },
          "scene": {
           "xaxis": {
            "backgroundcolor": "#E5ECF6",
            "gridcolor": "white",
            "gridwidth": 2,
            "linecolor": "white",
            "showbackground": true,
            "ticks": "",
            "zerolinecolor": "white"
           },
           "yaxis": {
            "backgroundcolor": "#E5ECF6",
            "gridcolor": "white",
            "gridwidth": 2,
            "linecolor": "white",
            "showbackground": true,
            "ticks": "",
            "zerolinecolor": "white"
           },
           "zaxis": {
            "backgroundcolor": "#E5ECF6",
            "gridcolor": "white",
            "gridwidth": 2,
            "linecolor": "white",
            "showbackground": true,
            "ticks": "",
            "zerolinecolor": "white"
           }
          },
          "shapedefaults": {
           "line": {
            "color": "#2a3f5f"
           }
          },
          "ternary": {
           "aaxis": {
            "gridcolor": "white",
            "linecolor": "white",
            "ticks": ""
           },
           "baxis": {
            "gridcolor": "white",
            "linecolor": "white",
            "ticks": ""
           },
           "bgcolor": "#E5ECF6",
           "caxis": {
            "gridcolor": "white",
            "linecolor": "white",
            "ticks": ""
           }
          },
          "title": {
           "x": 0.05
          },
          "xaxis": {
           "automargin": true,
           "gridcolor": "white",
           "linecolor": "white",
           "ticks": "",
           "title": {
            "standoff": 15
           },
           "zerolinecolor": "white",
           "zerolinewidth": 2
          },
          "yaxis": {
           "automargin": true,
           "gridcolor": "white",
           "linecolor": "white",
           "ticks": "",
           "title": {
            "standoff": 15
           },
           "zerolinecolor": "white",
           "zerolinewidth": 2
          }
         }
        },
        "title": {
         "text": "color"
        },
        "xaxis": {
         "anchor": "y",
         "domain": [
          0,
          1
         ],
         "title": {
          "text": "colour"
         }
        },
        "yaxis": {
         "anchor": "x",
         "domain": [
          0,
          1
         ],
         "title": {
          "text": "Total Price"
         }
        }
       }
      }
     },
     "metadata": {},
     "output_type": "display_data"
    }
   ],
   "source": [
    "data1_df = data.groupby(['colour','price_2'])['price'].sum().reset_index()\n",
    "data2_df = data[['colour','price_2']].value_counts().reset_index(name = 'visits')\n",
    "data3_df = data1_df.merge(data2_df, on = ['colour','price_2'], how='left')\n",
    "# data3_df\n",
    "fig = px.bar(\n",
    "    data3_df,\n",
    "    x = 'colour', \n",
    "    y = 'price',\n",
    "    color='price_2',\n",
    "    title= 'color',\n",
    "    labels={\n",
    "        'price': 'Total Price',\n",
    "        'visits': 'visits_count' # Set label for hover\n",
    "    },\n",
    "    hover_data={\n",
    "        'visits': True\n",
    "        }\n",
    ")\n",
    "fig.show()"
   ]
  },
  {
   "cell_type": "code",
   "execution_count": 109,
   "id": "6fc9db52",
   "metadata": {},
   "outputs": [
    {
     "data": {
      "application/vnd.plotly.v1+json": {
       "config": {
        "plotlyServerURL": "https://plot.ly"
       },
       "data": [
        {
         "domain": {
          "x": [
           0,
           1
          ],
          "y": [
           0,
           1
          ]
         },
         "hovertemplate": "model_photography=%{label}<br>count=%{value}<extra></extra>",
         "labels": {
          "bdata": "AQECAg==",
          "dtype": "i1"
         },
         "legendgroup": "",
         "name": "",
         "showlegend": true,
         "type": "pie",
         "values": {
          "bdata": "GMwAAI2yAAAMSgAAajwAAA==",
          "dtype": "i4"
         }
        }
       ],
       "layout": {
        "legend": {
         "tracegroupgap": 0
        },
        "template": {
         "data": {
          "bar": [
           {
            "error_x": {
             "color": "#2a3f5f"
            },
            "error_y": {
             "color": "#2a3f5f"
            },
            "marker": {
             "line": {
              "color": "#E5ECF6",
              "width": 0.5
             },
             "pattern": {
              "fillmode": "overlay",
              "size": 10,
              "solidity": 0.2
             }
            },
            "type": "bar"
           }
          ],
          "barpolar": [
           {
            "marker": {
             "line": {
              "color": "#E5ECF6",
              "width": 0.5
             },
             "pattern": {
              "fillmode": "overlay",
              "size": 10,
              "solidity": 0.2
             }
            },
            "type": "barpolar"
           }
          ],
          "carpet": [
           {
            "aaxis": {
             "endlinecolor": "#2a3f5f",
             "gridcolor": "white",
             "linecolor": "white",
             "minorgridcolor": "white",
             "startlinecolor": "#2a3f5f"
            },
            "baxis": {
             "endlinecolor": "#2a3f5f",
             "gridcolor": "white",
             "linecolor": "white",
             "minorgridcolor": "white",
             "startlinecolor": "#2a3f5f"
            },
            "type": "carpet"
           }
          ],
          "choropleth": [
           {
            "colorbar": {
             "outlinewidth": 0,
             "ticks": ""
            },
            "type": "choropleth"
           }
          ],
          "contour": [
           {
            "colorbar": {
             "outlinewidth": 0,
             "ticks": ""
            },
            "colorscale": [
             [
              0,
              "#0d0887"
             ],
             [
              0.1111111111111111,
              "#46039f"
             ],
             [
              0.2222222222222222,
              "#7201a8"
             ],
             [
              0.3333333333333333,
              "#9c179e"
             ],
             [
              0.4444444444444444,
              "#bd3786"
             ],
             [
              0.5555555555555556,
              "#d8576b"
             ],
             [
              0.6666666666666666,
              "#ed7953"
             ],
             [
              0.7777777777777778,
              "#fb9f3a"
             ],
             [
              0.8888888888888888,
              "#fdca26"
             ],
             [
              1,
              "#f0f921"
             ]
            ],
            "type": "contour"
           }
          ],
          "contourcarpet": [
           {
            "colorbar": {
             "outlinewidth": 0,
             "ticks": ""
            },
            "type": "contourcarpet"
           }
          ],
          "heatmap": [
           {
            "colorbar": {
             "outlinewidth": 0,
             "ticks": ""
            },
            "colorscale": [
             [
              0,
              "#0d0887"
             ],
             [
              0.1111111111111111,
              "#46039f"
             ],
             [
              0.2222222222222222,
              "#7201a8"
             ],
             [
              0.3333333333333333,
              "#9c179e"
             ],
             [
              0.4444444444444444,
              "#bd3786"
             ],
             [
              0.5555555555555556,
              "#d8576b"
             ],
             [
              0.6666666666666666,
              "#ed7953"
             ],
             [
              0.7777777777777778,
              "#fb9f3a"
             ],
             [
              0.8888888888888888,
              "#fdca26"
             ],
             [
              1,
              "#f0f921"
             ]
            ],
            "type": "heatmap"
           }
          ],
          "histogram": [
           {
            "marker": {
             "pattern": {
              "fillmode": "overlay",
              "size": 10,
              "solidity": 0.2
             }
            },
            "type": "histogram"
           }
          ],
          "histogram2d": [
           {
            "colorbar": {
             "outlinewidth": 0,
             "ticks": ""
            },
            "colorscale": [
             [
              0,
              "#0d0887"
             ],
             [
              0.1111111111111111,
              "#46039f"
             ],
             [
              0.2222222222222222,
              "#7201a8"
             ],
             [
              0.3333333333333333,
              "#9c179e"
             ],
             [
              0.4444444444444444,
              "#bd3786"
             ],
             [
              0.5555555555555556,
              "#d8576b"
             ],
             [
              0.6666666666666666,
              "#ed7953"
             ],
             [
              0.7777777777777778,
              "#fb9f3a"
             ],
             [
              0.8888888888888888,
              "#fdca26"
             ],
             [
              1,
              "#f0f921"
             ]
            ],
            "type": "histogram2d"
           }
          ],
          "histogram2dcontour": [
           {
            "colorbar": {
             "outlinewidth": 0,
             "ticks": ""
            },
            "colorscale": [
             [
              0,
              "#0d0887"
             ],
             [
              0.1111111111111111,
              "#46039f"
             ],
             [
              0.2222222222222222,
              "#7201a8"
             ],
             [
              0.3333333333333333,
              "#9c179e"
             ],
             [
              0.4444444444444444,
              "#bd3786"
             ],
             [
              0.5555555555555556,
              "#d8576b"
             ],
             [
              0.6666666666666666,
              "#ed7953"
             ],
             [
              0.7777777777777778,
              "#fb9f3a"
             ],
             [
              0.8888888888888888,
              "#fdca26"
             ],
             [
              1,
              "#f0f921"
             ]
            ],
            "type": "histogram2dcontour"
           }
          ],
          "mesh3d": [
           {
            "colorbar": {
             "outlinewidth": 0,
             "ticks": ""
            },
            "type": "mesh3d"
           }
          ],
          "parcoords": [
           {
            "line": {
             "colorbar": {
              "outlinewidth": 0,
              "ticks": ""
             }
            },
            "type": "parcoords"
           }
          ],
          "pie": [
           {
            "automargin": true,
            "type": "pie"
           }
          ],
          "scatter": [
           {
            "fillpattern": {
             "fillmode": "overlay",
             "size": 10,
             "solidity": 0.2
            },
            "type": "scatter"
           }
          ],
          "scatter3d": [
           {
            "line": {
             "colorbar": {
              "outlinewidth": 0,
              "ticks": ""
             }
            },
            "marker": {
             "colorbar": {
              "outlinewidth": 0,
              "ticks": ""
             }
            },
            "type": "scatter3d"
           }
          ],
          "scattercarpet": [
           {
            "marker": {
             "colorbar": {
              "outlinewidth": 0,
              "ticks": ""
             }
            },
            "type": "scattercarpet"
           }
          ],
          "scattergeo": [
           {
            "marker": {
             "colorbar": {
              "outlinewidth": 0,
              "ticks": ""
             }
            },
            "type": "scattergeo"
           }
          ],
          "scattergl": [
           {
            "marker": {
             "colorbar": {
              "outlinewidth": 0,
              "ticks": ""
             }
            },
            "type": "scattergl"
           }
          ],
          "scattermap": [
           {
            "marker": {
             "colorbar": {
              "outlinewidth": 0,
              "ticks": ""
             }
            },
            "type": "scattermap"
           }
          ],
          "scattermapbox": [
           {
            "marker": {
             "colorbar": {
              "outlinewidth": 0,
              "ticks": ""
             }
            },
            "type": "scattermapbox"
           }
          ],
          "scatterpolar": [
           {
            "marker": {
             "colorbar": {
              "outlinewidth": 0,
              "ticks": ""
             }
            },
            "type": "scatterpolar"
           }
          ],
          "scatterpolargl": [
           {
            "marker": {
             "colorbar": {
              "outlinewidth": 0,
              "ticks": ""
             }
            },
            "type": "scatterpolargl"
           }
          ],
          "scatterternary": [
           {
            "marker": {
             "colorbar": {
              "outlinewidth": 0,
              "ticks": ""
             }
            },
            "type": "scatterternary"
           }
          ],
          "surface": [
           {
            "colorbar": {
             "outlinewidth": 0,
             "ticks": ""
            },
            "colorscale": [
             [
              0,
              "#0d0887"
             ],
             [
              0.1111111111111111,
              "#46039f"
             ],
             [
              0.2222222222222222,
              "#7201a8"
             ],
             [
              0.3333333333333333,
              "#9c179e"
             ],
             [
              0.4444444444444444,
              "#bd3786"
             ],
             [
              0.5555555555555556,
              "#d8576b"
             ],
             [
              0.6666666666666666,
              "#ed7953"
             ],
             [
              0.7777777777777778,
              "#fb9f3a"
             ],
             [
              0.8888888888888888,
              "#fdca26"
             ],
             [
              1,
              "#f0f921"
             ]
            ],
            "type": "surface"
           }
          ],
          "table": [
           {
            "cells": {
             "fill": {
              "color": "#EBF0F8"
             },
             "line": {
              "color": "white"
             }
            },
            "header": {
             "fill": {
              "color": "#C8D4E3"
             },
             "line": {
              "color": "white"
             }
            },
            "type": "table"
           }
          ]
         },
         "layout": {
          "annotationdefaults": {
           "arrowcolor": "#2a3f5f",
           "arrowhead": 0,
           "arrowwidth": 1
          },
          "autotypenumbers": "strict",
          "coloraxis": {
           "colorbar": {
            "outlinewidth": 0,
            "ticks": ""
           }
          },
          "colorscale": {
           "diverging": [
            [
             0,
             "#8e0152"
            ],
            [
             0.1,
             "#c51b7d"
            ],
            [
             0.2,
             "#de77ae"
            ],
            [
             0.3,
             "#f1b6da"
            ],
            [
             0.4,
             "#fde0ef"
            ],
            [
             0.5,
             "#f7f7f7"
            ],
            [
             0.6,
             "#e6f5d0"
            ],
            [
             0.7,
             "#b8e186"
            ],
            [
             0.8,
             "#7fbc41"
            ],
            [
             0.9,
             "#4d9221"
            ],
            [
             1,
             "#276419"
            ]
           ],
           "sequential": [
            [
             0,
             "#0d0887"
            ],
            [
             0.1111111111111111,
             "#46039f"
            ],
            [
             0.2222222222222222,
             "#7201a8"
            ],
            [
             0.3333333333333333,
             "#9c179e"
            ],
            [
             0.4444444444444444,
             "#bd3786"
            ],
            [
             0.5555555555555556,
             "#d8576b"
            ],
            [
             0.6666666666666666,
             "#ed7953"
            ],
            [
             0.7777777777777778,
             "#fb9f3a"
            ],
            [
             0.8888888888888888,
             "#fdca26"
            ],
            [
             1,
             "#f0f921"
            ]
           ],
           "sequentialminus": [
            [
             0,
             "#0d0887"
            ],
            [
             0.1111111111111111,
             "#46039f"
            ],
            [
             0.2222222222222222,
             "#7201a8"
            ],
            [
             0.3333333333333333,
             "#9c179e"
            ],
            [
             0.4444444444444444,
             "#bd3786"
            ],
            [
             0.5555555555555556,
             "#d8576b"
            ],
            [
             0.6666666666666666,
             "#ed7953"
            ],
            [
             0.7777777777777778,
             "#fb9f3a"
            ],
            [
             0.8888888888888888,
             "#fdca26"
            ],
            [
             1,
             "#f0f921"
            ]
           ]
          },
          "colorway": [
           "#636efa",
           "#EF553B",
           "#00cc96",
           "#ab63fa",
           "#FFA15A",
           "#19d3f3",
           "#FF6692",
           "#B6E880",
           "#FF97FF",
           "#FECB52"
          ],
          "font": {
           "color": "#2a3f5f"
          },
          "geo": {
           "bgcolor": "white",
           "lakecolor": "white",
           "landcolor": "#E5ECF6",
           "showlakes": true,
           "showland": true,
           "subunitcolor": "white"
          },
          "hoverlabel": {
           "align": "left"
          },
          "hovermode": "closest",
          "mapbox": {
           "style": "light"
          },
          "paper_bgcolor": "white",
          "plot_bgcolor": "#E5ECF6",
          "polar": {
           "angularaxis": {
            "gridcolor": "white",
            "linecolor": "white",
            "ticks": ""
           },
           "bgcolor": "#E5ECF6",
           "radialaxis": {
            "gridcolor": "white",
            "linecolor": "white",
            "ticks": ""
           }
          },
          "scene": {
           "xaxis": {
            "backgroundcolor": "#E5ECF6",
            "gridcolor": "white",
            "gridwidth": 2,
            "linecolor": "white",
            "showbackground": true,
            "ticks": "",
            "zerolinecolor": "white"
           },
           "yaxis": {
            "backgroundcolor": "#E5ECF6",
            "gridcolor": "white",
            "gridwidth": 2,
            "linecolor": "white",
            "showbackground": true,
            "ticks": "",
            "zerolinecolor": "white"
           },
           "zaxis": {
            "backgroundcolor": "#E5ECF6",
            "gridcolor": "white",
            "gridwidth": 2,
            "linecolor": "white",
            "showbackground": true,
            "ticks": "",
            "zerolinecolor": "white"
           }
          },
          "shapedefaults": {
           "line": {
            "color": "#2a3f5f"
           }
          },
          "ternary": {
           "aaxis": {
            "gridcolor": "white",
            "linecolor": "white",
            "ticks": ""
           },
           "baxis": {
            "gridcolor": "white",
            "linecolor": "white",
            "ticks": ""
           },
           "bgcolor": "#E5ECF6",
           "caxis": {
            "gridcolor": "white",
            "linecolor": "white",
            "ticks": ""
           }
          },
          "title": {
           "x": 0.05
          },
          "xaxis": {
           "automargin": true,
           "gridcolor": "white",
           "linecolor": "white",
           "ticks": "",
           "title": {
            "standoff": 15
           },
           "zerolinecolor": "white",
           "zerolinewidth": 2
          },
          "yaxis": {
           "automargin": true,
           "gridcolor": "white",
           "linecolor": "white",
           "ticks": "",
           "title": {
            "standoff": 15
           },
           "zerolinecolor": "white",
           "zerolinewidth": 2
          }
         }
        },
        "title": {
         "text": "Viewed vs bought display model type"
        }
       }
      }
     },
     "metadata": {},
     "output_type": "display_data"
    }
   ],
   "source": [
    "model_type = data[['model_photography','price_2']].value_counts().reset_index(name='count')\n",
    "fig = px.pie(\n",
    "    model_type,\n",
    "    names = 'model_photography',\n",
    "    values= 'count',\n",
    "    title= 'Viewed vs bought display model type'\n",
    "    # hover_data={\n",
    "    #     'price_2' = True\n",
    "    # }\n",
    ")\n",
    "\n",
    "fig.show()"
   ]
  },
  {
   "cell_type": "code",
   "execution_count": 111,
   "id": "04c78631",
   "metadata": {},
   "outputs": [
    {
     "data": {
      "application/vnd.plotly.v1+json": {
       "config": {
        "plotlyServerURL": "https://plot.ly"
       },
       "data": [
        {
         "branchvalues": "total",
         "domain": {
          "x": [
           0,
           1
          ],
          "y": [
           0,
           1
          ]
         },
         "hovertemplate": "labels=%{label}<br>count=%{value}<br>parent=%{parent}<br>id=%{id}<extra></extra>",
         "ids": [
          "1/viewed",
          "1/Bought",
          "2/Bought",
          "2/viewed",
          "1",
          "2"
         ],
         "labels": [
          "viewed",
          "Bought",
          "Bought",
          "viewed",
          "1",
          "2"
         ],
         "name": "",
         "parents": [
          "1",
          "1",
          "2",
          "2",
          "",
          ""
         ],
         "type": "sunburst",
         "values": {
          "bdata": "AAAAAACD6UAAAAAAoFHmQAAAAAAAg9JAAAAAAAA1zkAAAAAAUOr3QAAAAADAzuBA",
          "dtype": "f8"
         }
        }
       ],
       "layout": {
        "legend": {
         "tracegroupgap": 0
        },
        "template": {
         "data": {
          "bar": [
           {
            "error_x": {
             "color": "#2a3f5f"
            },
            "error_y": {
             "color": "#2a3f5f"
            },
            "marker": {
             "line": {
              "color": "#E5ECF6",
              "width": 0.5
             },
             "pattern": {
              "fillmode": "overlay",
              "size": 10,
              "solidity": 0.2
             }
            },
            "type": "bar"
           }
          ],
          "barpolar": [
           {
            "marker": {
             "line": {
              "color": "#E5ECF6",
              "width": 0.5
             },
             "pattern": {
              "fillmode": "overlay",
              "size": 10,
              "solidity": 0.2
             }
            },
            "type": "barpolar"
           }
          ],
          "carpet": [
           {
            "aaxis": {
             "endlinecolor": "#2a3f5f",
             "gridcolor": "white",
             "linecolor": "white",
             "minorgridcolor": "white",
             "startlinecolor": "#2a3f5f"
            },
            "baxis": {
             "endlinecolor": "#2a3f5f",
             "gridcolor": "white",
             "linecolor": "white",
             "minorgridcolor": "white",
             "startlinecolor": "#2a3f5f"
            },
            "type": "carpet"
           }
          ],
          "choropleth": [
           {
            "colorbar": {
             "outlinewidth": 0,
             "ticks": ""
            },
            "type": "choropleth"
           }
          ],
          "contour": [
           {
            "colorbar": {
             "outlinewidth": 0,
             "ticks": ""
            },
            "colorscale": [
             [
              0,
              "#0d0887"
             ],
             [
              0.1111111111111111,
              "#46039f"
             ],
             [
              0.2222222222222222,
              "#7201a8"
             ],
             [
              0.3333333333333333,
              "#9c179e"
             ],
             [
              0.4444444444444444,
              "#bd3786"
             ],
             [
              0.5555555555555556,
              "#d8576b"
             ],
             [
              0.6666666666666666,
              "#ed7953"
             ],
             [
              0.7777777777777778,
              "#fb9f3a"
             ],
             [
              0.8888888888888888,
              "#fdca26"
             ],
             [
              1,
              "#f0f921"
             ]
            ],
            "type": "contour"
           }
          ],
          "contourcarpet": [
           {
            "colorbar": {
             "outlinewidth": 0,
             "ticks": ""
            },
            "type": "contourcarpet"
           }
          ],
          "heatmap": [
           {
            "colorbar": {
             "outlinewidth": 0,
             "ticks": ""
            },
            "colorscale": [
             [
              0,
              "#0d0887"
             ],
             [
              0.1111111111111111,
              "#46039f"
             ],
             [
              0.2222222222222222,
              "#7201a8"
             ],
             [
              0.3333333333333333,
              "#9c179e"
             ],
             [
              0.4444444444444444,
              "#bd3786"
             ],
             [
              0.5555555555555556,
              "#d8576b"
             ],
             [
              0.6666666666666666,
              "#ed7953"
             ],
             [
              0.7777777777777778,
              "#fb9f3a"
             ],
             [
              0.8888888888888888,
              "#fdca26"
             ],
             [
              1,
              "#f0f921"
             ]
            ],
            "type": "heatmap"
           }
          ],
          "histogram": [
           {
            "marker": {
             "pattern": {
              "fillmode": "overlay",
              "size": 10,
              "solidity": 0.2
             }
            },
            "type": "histogram"
           }
          ],
          "histogram2d": [
           {
            "colorbar": {
             "outlinewidth": 0,
             "ticks": ""
            },
            "colorscale": [
             [
              0,
              "#0d0887"
             ],
             [
              0.1111111111111111,
              "#46039f"
             ],
             [
              0.2222222222222222,
              "#7201a8"
             ],
             [
              0.3333333333333333,
              "#9c179e"
             ],
             [
              0.4444444444444444,
              "#bd3786"
             ],
             [
              0.5555555555555556,
              "#d8576b"
             ],
             [
              0.6666666666666666,
              "#ed7953"
             ],
             [
              0.7777777777777778,
              "#fb9f3a"
             ],
             [
              0.8888888888888888,
              "#fdca26"
             ],
             [
              1,
              "#f0f921"
             ]
            ],
            "type": "histogram2d"
           }
          ],
          "histogram2dcontour": [
           {
            "colorbar": {
             "outlinewidth": 0,
             "ticks": ""
            },
            "colorscale": [
             [
              0,
              "#0d0887"
             ],
             [
              0.1111111111111111,
              "#46039f"
             ],
             [
              0.2222222222222222,
              "#7201a8"
             ],
             [
              0.3333333333333333,
              "#9c179e"
             ],
             [
              0.4444444444444444,
              "#bd3786"
             ],
             [
              0.5555555555555556,
              "#d8576b"
             ],
             [
              0.6666666666666666,
              "#ed7953"
             ],
             [
              0.7777777777777778,
              "#fb9f3a"
             ],
             [
              0.8888888888888888,
              "#fdca26"
             ],
             [
              1,
              "#f0f921"
             ]
            ],
            "type": "histogram2dcontour"
           }
          ],
          "mesh3d": [
           {
            "colorbar": {
             "outlinewidth": 0,
             "ticks": ""
            },
            "type": "mesh3d"
           }
          ],
          "parcoords": [
           {
            "line": {
             "colorbar": {
              "outlinewidth": 0,
              "ticks": ""
             }
            },
            "type": "parcoords"
           }
          ],
          "pie": [
           {
            "automargin": true,
            "type": "pie"
           }
          ],
          "scatter": [
           {
            "fillpattern": {
             "fillmode": "overlay",
             "size": 10,
             "solidity": 0.2
            },
            "type": "scatter"
           }
          ],
          "scatter3d": [
           {
            "line": {
             "colorbar": {
              "outlinewidth": 0,
              "ticks": ""
             }
            },
            "marker": {
             "colorbar": {
              "outlinewidth": 0,
              "ticks": ""
             }
            },
            "type": "scatter3d"
           }
          ],
          "scattercarpet": [
           {
            "marker": {
             "colorbar": {
              "outlinewidth": 0,
              "ticks": ""
             }
            },
            "type": "scattercarpet"
           }
          ],
          "scattergeo": [
           {
            "marker": {
             "colorbar": {
              "outlinewidth": 0,
              "ticks": ""
             }
            },
            "type": "scattergeo"
           }
          ],
          "scattergl": [
           {
            "marker": {
             "colorbar": {
              "outlinewidth": 0,
              "ticks": ""
             }
            },
            "type": "scattergl"
           }
          ],
          "scattermap": [
           {
            "marker": {
             "colorbar": {
              "outlinewidth": 0,
              "ticks": ""
             }
            },
            "type": "scattermap"
           }
          ],
          "scattermapbox": [
           {
            "marker": {
             "colorbar": {
              "outlinewidth": 0,
              "ticks": ""
             }
            },
            "type": "scattermapbox"
           }
          ],
          "scatterpolar": [
           {
            "marker": {
             "colorbar": {
              "outlinewidth": 0,
              "ticks": ""
             }
            },
            "type": "scatterpolar"
           }
          ],
          "scatterpolargl": [
           {
            "marker": {
             "colorbar": {
              "outlinewidth": 0,
              "ticks": ""
             }
            },
            "type": "scatterpolargl"
           }
          ],
          "scatterternary": [
           {
            "marker": {
             "colorbar": {
              "outlinewidth": 0,
              "ticks": ""
             }
            },
            "type": "scatterternary"
           }
          ],
          "surface": [
           {
            "colorbar": {
             "outlinewidth": 0,
             "ticks": ""
            },
            "colorscale": [
             [
              0,
              "#0d0887"
             ],
             [
              0.1111111111111111,
              "#46039f"
             ],
             [
              0.2222222222222222,
              "#7201a8"
             ],
             [
              0.3333333333333333,
              "#9c179e"
             ],
             [
              0.4444444444444444,
              "#bd3786"
             ],
             [
              0.5555555555555556,
              "#d8576b"
             ],
             [
              0.6666666666666666,
              "#ed7953"
             ],
             [
              0.7777777777777778,
              "#fb9f3a"
             ],
             [
              0.8888888888888888,
              "#fdca26"
             ],
             [
              1,
              "#f0f921"
             ]
            ],
            "type": "surface"
           }
          ],
          "table": [
           {
            "cells": {
             "fill": {
              "color": "#EBF0F8"
             },
             "line": {
              "color": "white"
             }
            },
            "header": {
             "fill": {
              "color": "#C8D4E3"
             },
             "line": {
              "color": "white"
             }
            },
            "type": "table"
           }
          ]
         },
         "layout": {
          "annotationdefaults": {
           "arrowcolor": "#2a3f5f",
           "arrowhead": 0,
           "arrowwidth": 1
          },
          "autotypenumbers": "strict",
          "coloraxis": {
           "colorbar": {
            "outlinewidth": 0,
            "ticks": ""
           }
          },
          "colorscale": {
           "diverging": [
            [
             0,
             "#8e0152"
            ],
            [
             0.1,
             "#c51b7d"
            ],
            [
             0.2,
             "#de77ae"
            ],
            [
             0.3,
             "#f1b6da"
            ],
            [
             0.4,
             "#fde0ef"
            ],
            [
             0.5,
             "#f7f7f7"
            ],
            [
             0.6,
             "#e6f5d0"
            ],
            [
             0.7,
             "#b8e186"
            ],
            [
             0.8,
             "#7fbc41"
            ],
            [
             0.9,
             "#4d9221"
            ],
            [
             1,
             "#276419"
            ]
           ],
           "sequential": [
            [
             0,
             "#0d0887"
            ],
            [
             0.1111111111111111,
             "#46039f"
            ],
            [
             0.2222222222222222,
             "#7201a8"
            ],
            [
             0.3333333333333333,
             "#9c179e"
            ],
            [
             0.4444444444444444,
             "#bd3786"
            ],
            [
             0.5555555555555556,
             "#d8576b"
            ],
            [
             0.6666666666666666,
             "#ed7953"
            ],
            [
             0.7777777777777778,
             "#fb9f3a"
            ],
            [
             0.8888888888888888,
             "#fdca26"
            ],
            [
             1,
             "#f0f921"
            ]
           ],
           "sequentialminus": [
            [
             0,
             "#0d0887"
            ],
            [
             0.1111111111111111,
             "#46039f"
            ],
            [
             0.2222222222222222,
             "#7201a8"
            ],
            [
             0.3333333333333333,
             "#9c179e"
            ],
            [
             0.4444444444444444,
             "#bd3786"
            ],
            [
             0.5555555555555556,
             "#d8576b"
            ],
            [
             0.6666666666666666,
             "#ed7953"
            ],
            [
             0.7777777777777778,
             "#fb9f3a"
            ],
            [
             0.8888888888888888,
             "#fdca26"
            ],
            [
             1,
             "#f0f921"
            ]
           ]
          },
          "colorway": [
           "#636efa",
           "#EF553B",
           "#00cc96",
           "#ab63fa",
           "#FFA15A",
           "#19d3f3",
           "#FF6692",
           "#B6E880",
           "#FF97FF",
           "#FECB52"
          ],
          "font": {
           "color": "#2a3f5f"
          },
          "geo": {
           "bgcolor": "white",
           "lakecolor": "white",
           "landcolor": "#E5ECF6",
           "showlakes": true,
           "showland": true,
           "subunitcolor": "white"
          },
          "hoverlabel": {
           "align": "left"
          },
          "hovermode": "closest",
          "mapbox": {
           "style": "light"
          },
          "paper_bgcolor": "white",
          "plot_bgcolor": "#E5ECF6",
          "polar": {
           "angularaxis": {
            "gridcolor": "white",
            "linecolor": "white",
            "ticks": ""
           },
           "bgcolor": "#E5ECF6",
           "radialaxis": {
            "gridcolor": "white",
            "linecolor": "white",
            "ticks": ""
           }
          },
          "scene": {
           "xaxis": {
            "backgroundcolor": "#E5ECF6",
            "gridcolor": "white",
            "gridwidth": 2,
            "linecolor": "white",
            "showbackground": true,
            "ticks": "",
            "zerolinecolor": "white"
           },
           "yaxis": {
            "backgroundcolor": "#E5ECF6",
            "gridcolor": "white",
            "gridwidth": 2,
            "linecolor": "white",
            "showbackground": true,
            "ticks": "",
            "zerolinecolor": "white"
           },
           "zaxis": {
            "backgroundcolor": "#E5ECF6",
            "gridcolor": "white",
            "gridwidth": 2,
            "linecolor": "white",
            "showbackground": true,
            "ticks": "",
            "zerolinecolor": "white"
           }
          },
          "shapedefaults": {
           "line": {
            "color": "#2a3f5f"
           }
          },
          "ternary": {
           "aaxis": {
            "gridcolor": "white",
            "linecolor": "white",
            "ticks": ""
           },
           "baxis": {
            "gridcolor": "white",
            "linecolor": "white",
            "ticks": ""
           },
           "bgcolor": "#E5ECF6",
           "caxis": {
            "gridcolor": "white",
            "linecolor": "white",
            "ticks": ""
           }
          },
          "title": {
           "x": 0.05
          },
          "xaxis": {
           "automargin": true,
           "gridcolor": "white",
           "linecolor": "white",
           "ticks": "",
           "title": {
            "standoff": 15
           },
           "zerolinecolor": "white",
           "zerolinewidth": 2
          },
          "yaxis": {
           "automargin": true,
           "gridcolor": "white",
           "linecolor": "white",
           "ticks": "",
           "title": {
            "standoff": 15
           },
           "zerolinecolor": "white",
           "zerolinewidth": 2
          }
         }
        },
        "title": {
         "text": "Viewed vs bought display model type"
        }
       }
      }
     },
     "metadata": {},
     "output_type": "display_data"
    }
   ],
   "source": [
    "# model_type['price_2'] = model_type['price_2'].map({1: \"viewed\", 2: \"Bought\"})\n",
    "fig = px.sunburst(\n",
    "    model_type,\n",
    "    path =  ['model_photography','price_2'],\n",
    "    values= 'count',\n",
    "    title= 'Viewed vs bought display model type',\n",
    "    labels= {\n",
    "        'model_photography': 'display type',\n",
    "        'price_2' : 'Bought'\n",
    "\n",
    "    }\n",
    "    \n",
    ")\n",
    "fig.show()"
   ]
  }
 ],
 "metadata": {
  "kernelspec": {
   "display_name": "clickstream_venv",
   "language": "python",
   "name": "python3"
  },
  "language_info": {
   "codemirror_mode": {
    "name": "ipython",
    "version": 3
   },
   "file_extension": ".py",
   "mimetype": "text/x-python",
   "name": "python",
   "nbconvert_exporter": "python",
   "pygments_lexer": "ipython3",
   "version": "3.11.7"
  }
 },
 "nbformat": 4,
 "nbformat_minor": 5
}

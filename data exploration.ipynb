{
 "cells": [
  {
   "cell_type": "code",
   "execution_count": null,
   "id": "69b5b440",
   "metadata": {},
   "outputs": [],
   "source": [
    "# doubts for the doubt clarification session\n",
    "# 1. what is the target column? -- Price_2\n",
    "# 2. what is the order values? -- Price_2 = 2 and sum of price values\n",
    "# 3. how do i differentiate between the items the customer viewed and the order they actually made? -- Price_2 = 1 (viewed) and 2 (bought)\n",
    "# 4. how do i identify the users? as the session id is unique and not repeated - check again"
   ]
  },
  {
   "cell_type": "code",
   "execution_count": 6,
   "id": "2c132ed1",
   "metadata": {},
   "outputs": [],
   "source": [
    "import pandas as pd\n",
    "import seaborn as sns\n",
    "import matplotlib.pyplot as plt\n",
    "import plotly.express as px"
   ]
  },
  {
   "cell_type": "code",
   "execution_count": null,
   "id": "40812701",
   "metadata": {},
   "outputs": [],
   "source": []
  },
  {
   "cell_type": "code",
   "execution_count": 7,
   "id": "d35e04f9",
   "metadata": {},
   "outputs": [],
   "source": [
    "data = pd.read_csv(\"D:\\\\GIT HUB\\\\GUVI Mini Proj 4\\\\train_data - train_data.csv\")"
   ]
  },
  {
   "cell_type": "code",
   "execution_count": 3,
   "id": "7a6c9af7",
   "metadata": {},
   "outputs": [
    {
     "name": "stdout",
     "output_type": "stream",
     "text": [
      "<class 'pandas.core.frame.DataFrame'>\n",
      "RangeIndex: 132379 entries, 0 to 132378\n",
      "Data columns (total 14 columns):\n",
      " #   Column                Non-Null Count   Dtype \n",
      "---  ------                --------------   ----- \n",
      " 0   year                  132379 non-null  int64 \n",
      " 1   month                 132379 non-null  int64 \n",
      " 2   day                   132379 non-null  int64 \n",
      " 3   order                 132379 non-null  int64 \n",
      " 4   country               132379 non-null  int64 \n",
      " 5   session_id            132379 non-null  int64 \n",
      " 6   page1_main_category   132379 non-null  int64 \n",
      " 7   page2_clothing_model  132379 non-null  object\n",
      " 8   colour                132379 non-null  int64 \n",
      " 9   location              132379 non-null  int64 \n",
      " 10  model_photography     132379 non-null  int64 \n",
      " 11  price                 132379 non-null  int64 \n",
      " 12  price_2               132379 non-null  int64 \n",
      " 13  page                  132379 non-null  int64 \n",
      "dtypes: int64(13), object(1)\n",
      "memory usage: 14.1+ MB\n"
     ]
    }
   ],
   "source": [
    "data.info()"
   ]
  },
  {
   "cell_type": "code",
   "execution_count": null,
   "id": "6a5e06ba",
   "metadata": {},
   "outputs": [],
   "source": [
    "# doubts for the doubt clarification session\n",
    "# 1. what is the target column? -- Price_2\n",
    "# 2. what is the order values? -- Price_2 = 2 and sum of price values\n",
    "# 3. how do i differentiate between the items the customer viewed and the order they actually made? -- Price_2 = 1 (viewed) and 2 (bought)\n",
    "# 4. how do i identify the users? as the session id is unique and not repeated - check again"
   ]
  },
  {
   "cell_type": "code",
   "execution_count": 4,
   "id": "82173361",
   "metadata": {},
   "outputs": [
    {
     "data": {
      "text/html": [
       "<div>\n",
       "<style scoped>\n",
       "    .dataframe tbody tr th:only-of-type {\n",
       "        vertical-align: middle;\n",
       "    }\n",
       "\n",
       "    .dataframe tbody tr th {\n",
       "        vertical-align: top;\n",
       "    }\n",
       "\n",
       "    .dataframe thead th {\n",
       "        text-align: right;\n",
       "    }\n",
       "</style>\n",
       "<table border=\"1\" class=\"dataframe\">\n",
       "  <thead>\n",
       "    <tr style=\"text-align: right;\">\n",
       "      <th></th>\n",
       "      <th>year</th>\n",
       "      <th>month</th>\n",
       "      <th>day</th>\n",
       "      <th>order</th>\n",
       "      <th>country</th>\n",
       "      <th>session_id</th>\n",
       "      <th>page1_main_category</th>\n",
       "      <th>page2_clothing_model</th>\n",
       "      <th>colour</th>\n",
       "      <th>location</th>\n",
       "      <th>model_photography</th>\n",
       "      <th>price</th>\n",
       "      <th>price_2</th>\n",
       "      <th>page</th>\n",
       "    </tr>\n",
       "  </thead>\n",
       "  <tbody>\n",
       "    <tr>\n",
       "      <th>0</th>\n",
       "      <td>2008</td>\n",
       "      <td>6</td>\n",
       "      <td>22</td>\n",
       "      <td>21</td>\n",
       "      <td>29</td>\n",
       "      <td>15648</td>\n",
       "      <td>3</td>\n",
       "      <td>C20</td>\n",
       "      <td>13</td>\n",
       "      <td>1</td>\n",
       "      <td>2</td>\n",
       "      <td>48</td>\n",
       "      <td>1</td>\n",
       "      <td>2</td>\n",
       "    </tr>\n",
       "    <tr>\n",
       "      <th>1</th>\n",
       "      <td>2008</td>\n",
       "      <td>5</td>\n",
       "      <td>19</td>\n",
       "      <td>6</td>\n",
       "      <td>29</td>\n",
       "      <td>10018</td>\n",
       "      <td>2</td>\n",
       "      <td>B26</td>\n",
       "      <td>13</td>\n",
       "      <td>3</td>\n",
       "      <td>1</td>\n",
       "      <td>57</td>\n",
       "      <td>1</td>\n",
       "      <td>2</td>\n",
       "    </tr>\n",
       "    <tr>\n",
       "      <th>2</th>\n",
       "      <td>2008</td>\n",
       "      <td>7</td>\n",
       "      <td>15</td>\n",
       "      <td>2</td>\n",
       "      <td>29</td>\n",
       "      <td>19388</td>\n",
       "      <td>3</td>\n",
       "      <td>C13</td>\n",
       "      <td>9</td>\n",
       "      <td>5</td>\n",
       "      <td>1</td>\n",
       "      <td>48</td>\n",
       "      <td>1</td>\n",
       "      <td>1</td>\n",
       "    </tr>\n",
       "    <tr>\n",
       "      <th>3</th>\n",
       "      <td>2008</td>\n",
       "      <td>5</td>\n",
       "      <td>2</td>\n",
       "      <td>2</td>\n",
       "      <td>29</td>\n",
       "      <td>7181</td>\n",
       "      <td>2</td>\n",
       "      <td>B11</td>\n",
       "      <td>2</td>\n",
       "      <td>4</td>\n",
       "      <td>1</td>\n",
       "      <td>43</td>\n",
       "      <td>2</td>\n",
       "      <td>1</td>\n",
       "    </tr>\n",
       "    <tr>\n",
       "      <th>4</th>\n",
       "      <td>2008</td>\n",
       "      <td>6</td>\n",
       "      <td>9</td>\n",
       "      <td>16</td>\n",
       "      <td>29</td>\n",
       "      <td>13493</td>\n",
       "      <td>2</td>\n",
       "      <td>B31</td>\n",
       "      <td>9</td>\n",
       "      <td>5</td>\n",
       "      <td>1</td>\n",
       "      <td>57</td>\n",
       "      <td>1</td>\n",
       "      <td>2</td>\n",
       "    </tr>\n",
       "  </tbody>\n",
       "</table>\n",
       "</div>"
      ],
      "text/plain": [
       "   year  month  day  order  country  session_id  page1_main_category  \\\n",
       "0  2008      6   22     21       29       15648                    3   \n",
       "1  2008      5   19      6       29       10018                    2   \n",
       "2  2008      7   15      2       29       19388                    3   \n",
       "3  2008      5    2      2       29        7181                    2   \n",
       "4  2008      6    9     16       29       13493                    2   \n",
       "\n",
       "  page2_clothing_model  colour  location  model_photography  price  price_2  \\\n",
       "0                  C20      13         1                  2     48        1   \n",
       "1                  B26      13         3                  1     57        1   \n",
       "2                  C13       9         5                  1     48        1   \n",
       "3                  B11       2         4                  1     43        2   \n",
       "4                  B31       9         5                  1     57        1   \n",
       "\n",
       "   page  \n",
       "0     2  \n",
       "1     2  \n",
       "2     1  \n",
       "3     1  \n",
       "4     2  "
      ]
     },
     "execution_count": 4,
     "metadata": {},
     "output_type": "execute_result"
    }
   ],
   "source": [
    "data.head()"
   ]
  },
  {
   "cell_type": "code",
   "execution_count": null,
   "id": "137924df",
   "metadata": {},
   "outputs": [],
   "source": [
    "# key insights that we can find from the given data:\n",
    "# 1.relationship of each column with the target column - price amd price 2\n",
    "# consider price as target for regression and price_2 for classification \n",
    "# 2.Time series - more/ number of clicks per session  ; which country bought the most on which; \n",
    "# how many session per d, m; most revenue generated d,m, sessions and the clicks made;\n",
    "# most purchased model, most visited model, - days and months and weeks\n",
    "# 3.which part of the screen is 1st viewed/clicked, which part of the screen is most clicked, \n",
    "# which part of the screen is last clicked ; which page captured the most and least (h/l value) - for high valued orders, low valued orders\n",
    "# 4.which country bouth which, which coloru, - category and model\n",
    "# 5.which position of the page is clicked most - per page ; which page generate more revenue.\n",
    "# 6.visualize which item is showed on which page and minimum clicks required to view the particular iteam - how much click it actually took to view the item \n",
    "# which generated move revenue ? most clicked or least clicked sessions? which model is popular and does the poplur item is priced above or below average? \n",
    "# what model did the user see before buying the item\n",
    "# 7.count plot for visualization of the count of occurance of each item -- done\n",
    "\n",
    "#Statistical graphs and interfrence:\n",
    "# distribution graphs -\n",
    "# box plot -\n",
    "# Hpotheysis testing\n",
    "# Colinearity \n",
    "# co-relation heat map\n",
    "# skewness and kurtosis - done (a function to be return to confirm in numbers)\n",
    "# outliers and anamoly detections\n",
    "# \n",
    "\n",
    "#column types:\n",
    "# Category: \n",
    "# page2_clothing_model\n",
    "# page1_main_category\n",
    "# colour\n",
    "# location\n",
    "# country\t\n",
    "# model_photography\n",
    "# price_2\n",
    "# page - it is continuous but just consider it as category for interpretation sake\n",
    "\n",
    "# Continuous:\n",
    "# page\n",
    "# price\n",
    "# order\n",
    "\n",
    "# Time series:\n",
    "# month\n",
    "# day\n",
    "\n",
    "# constant:\n",
    "# year\n",
    "\n",
    "# uniques:\n",
    "\n",
    "# Target (dependent):\n",
    "# Price_2 for classification - consider it as the order bought or viewed \n",
    "# Price for regression\n",
    "\n",
    " \n",
    "\n",
    "#Data understanding - observation\n",
    "#no duplicates\n",
    "#no null\n",
    "#Session ids are unique and it cant be considered for the customer id\n",
    "#page2_clothing_model -only object type - rest all int\n",
    "#Encoding required for : page2_clothing_model \n",
    "\n",
    "# will be using target encoding and frequency encoding for the page2_clothng_model column - refer one note\n",
    "\n"
   ]
  },
  {
   "cell_type": "code",
   "execution_count": null,
   "id": "5bff00df",
   "metadata": {},
   "outputs": [],
   "source": [
    "# distribution graphs\n",
    "numerical_features = ['page', 'price','order']\n",
    "Categorical_features = ['page2_clothing_model', 'page1_main_category', 'colour', 'location', 'country', 'model_photography', 'price_2']"
   ]
  },
  {
   "cell_type": "markdown",
   "id": "fef60da0",
   "metadata": {},
   "source": [
    "EDA - Time Series\n",
    "**STICK WITH BASICS - 10 graphs are enough**"
   ]
  },
  {
   "cell_type": "code",
   "execution_count": 8,
   "id": "13633f8d",
   "metadata": {},
   "outputs": [
    {
     "data": {
      "text/html": [
       "<div>\n",
       "<style scoped>\n",
       "    .dataframe tbody tr th:only-of-type {\n",
       "        vertical-align: middle;\n",
       "    }\n",
       "\n",
       "    .dataframe tbody tr th {\n",
       "        vertical-align: top;\n",
       "    }\n",
       "\n",
       "    .dataframe thead th {\n",
       "        text-align: right;\n",
       "    }\n",
       "</style>\n",
       "<table border=\"1\" class=\"dataframe\">\n",
       "  <thead>\n",
       "    <tr style=\"text-align: right;\">\n",
       "      <th></th>\n",
       "      <th>day</th>\n",
       "      <th>price</th>\n",
       "    </tr>\n",
       "  </thead>\n",
       "  <tbody>\n",
       "    <tr>\n",
       "      <th>0</th>\n",
       "      <td>1</td>\n",
       "      <td>247045</td>\n",
       "    </tr>\n",
       "    <tr>\n",
       "      <th>1</th>\n",
       "      <td>2</td>\n",
       "      <td>255177</td>\n",
       "    </tr>\n",
       "    <tr>\n",
       "      <th>2</th>\n",
       "      <td>3</td>\n",
       "      <td>212190</td>\n",
       "    </tr>\n",
       "    <tr>\n",
       "      <th>3</th>\n",
       "      <td>4</td>\n",
       "      <td>226584</td>\n",
       "    </tr>\n",
       "    <tr>\n",
       "      <th>4</th>\n",
       "      <td>5</td>\n",
       "      <td>219109</td>\n",
       "    </tr>\n",
       "  </tbody>\n",
       "</table>\n",
       "</div>"
      ],
      "text/plain": [
       "   day   price\n",
       "0    1  247045\n",
       "1    2  255177\n",
       "2    3  212190\n",
       "3    4  226584\n",
       "4    5  219109"
      ]
     },
     "execution_count": 8,
     "metadata": {},
     "output_type": "execute_result"
    }
   ],
   "source": [
    "daily_sales_df = data.groupby('day')['price'].sum().reset_index()\n",
    "daily_sales_df.head()"
   ]
  },
  {
   "cell_type": "code",
   "execution_count": null,
   "id": "ed80324b",
   "metadata": {},
   "outputs": [
    {
     "data": {
      "application/vnd.plotly.v1+json": {
       "config": {
        "plotlyServerURL": "https://plot.ly"
       },
       "data": [
        {
         "hovertemplate": "day=%{x}<br>price=%{y}<extra></extra>",
         "legendgroup": "",
         "line": {
          "color": "#636efa",
          "dash": "solid"
         },
         "marker": {
          "symbol": "circle"
         },
         "mode": "lines",
         "name": "",
         "orientation": "v",
         "showlegend": false,
         "type": "scatter",
         "x": {
          "bdata": "AQIDBAUGBwgJCgsMDQ4PEBESExQVFhcYGRobHB0eHw==",
          "dtype": "i1"
         },
         "xaxis": "x",
         "y": {
          "bdata": "BcUDAMnkAwDePAMAGHUDAOVXAwDvVwMAuE8DABWOAwCHOwMAG1EDADxmAwB5TAMAyFECAJXlAgDLdAIAARADANy2AgBLiAIABoQCAFdvAgDdsQIAL5ECAGjCAgBhswIA/IcCAF0yAgABPgIATH4CAH7kAgBNTwIAbvgAAA==",
          "dtype": "i4"
         },
         "yaxis": "y"
        }
       ],
       "layout": {
        "legend": {
         "tracegroupgap": 0
        },
        "template": {
         "data": {
          "bar": [
           {
            "error_x": {
             "color": "#2a3f5f"
            },
            "error_y": {
             "color": "#2a3f5f"
            },
            "marker": {
             "line": {
              "color": "#E5ECF6",
              "width": 0.5
             },
             "pattern": {
              "fillmode": "overlay",
              "size": 10,
              "solidity": 0.2
             }
            },
            "type": "bar"
           }
          ],
          "barpolar": [
           {
            "marker": {
             "line": {
              "color": "#E5ECF6",
              "width": 0.5
             },
             "pattern": {
              "fillmode": "overlay",
              "size": 10,
              "solidity": 0.2
             }
            },
            "type": "barpolar"
           }
          ],
          "carpet": [
           {
            "aaxis": {
             "endlinecolor": "#2a3f5f",
             "gridcolor": "white",
             "linecolor": "white",
             "minorgridcolor": "white",
             "startlinecolor": "#2a3f5f"
            },
            "baxis": {
             "endlinecolor": "#2a3f5f",
             "gridcolor": "white",
             "linecolor": "white",
             "minorgridcolor": "white",
             "startlinecolor": "#2a3f5f"
            },
            "type": "carpet"
           }
          ],
          "choropleth": [
           {
            "colorbar": {
             "outlinewidth": 0,
             "ticks": ""
            },
            "type": "choropleth"
           }
          ],
          "contour": [
           {
            "colorbar": {
             "outlinewidth": 0,
             "ticks": ""
            },
            "colorscale": [
             [
              0,
              "#0d0887"
             ],
             [
              0.1111111111111111,
              "#46039f"
             ],
             [
              0.2222222222222222,
              "#7201a8"
             ],
             [
              0.3333333333333333,
              "#9c179e"
             ],
             [
              0.4444444444444444,
              "#bd3786"
             ],
             [
              0.5555555555555556,
              "#d8576b"
             ],
             [
              0.6666666666666666,
              "#ed7953"
             ],
             [
              0.7777777777777778,
              "#fb9f3a"
             ],
             [
              0.8888888888888888,
              "#fdca26"
             ],
             [
              1,
              "#f0f921"
             ]
            ],
            "type": "contour"
           }
          ],
          "contourcarpet": [
           {
            "colorbar": {
             "outlinewidth": 0,
             "ticks": ""
            },
            "type": "contourcarpet"
           }
          ],
          "heatmap": [
           {
            "colorbar": {
             "outlinewidth": 0,
             "ticks": ""
            },
            "colorscale": [
             [
              0,
              "#0d0887"
             ],
             [
              0.1111111111111111,
              "#46039f"
             ],
             [
              0.2222222222222222,
              "#7201a8"
             ],
             [
              0.3333333333333333,
              "#9c179e"
             ],
             [
              0.4444444444444444,
              "#bd3786"
             ],
             [
              0.5555555555555556,
              "#d8576b"
             ],
             [
              0.6666666666666666,
              "#ed7953"
             ],
             [
              0.7777777777777778,
              "#fb9f3a"
             ],
             [
              0.8888888888888888,
              "#fdca26"
             ],
             [
              1,
              "#f0f921"
             ]
            ],
            "type": "heatmap"
           }
          ],
          "histogram": [
           {
            "marker": {
             "pattern": {
              "fillmode": "overlay",
              "size": 10,
              "solidity": 0.2
             }
            },
            "type": "histogram"
           }
          ],
          "histogram2d": [
           {
            "colorbar": {
             "outlinewidth": 0,
             "ticks": ""
            },
            "colorscale": [
             [
              0,
              "#0d0887"
             ],
             [
              0.1111111111111111,
              "#46039f"
             ],
             [
              0.2222222222222222,
              "#7201a8"
             ],
             [
              0.3333333333333333,
              "#9c179e"
             ],
             [
              0.4444444444444444,
              "#bd3786"
             ],
             [
              0.5555555555555556,
              "#d8576b"
             ],
             [
              0.6666666666666666,
              "#ed7953"
             ],
             [
              0.7777777777777778,
              "#fb9f3a"
             ],
             [
              0.8888888888888888,
              "#fdca26"
             ],
             [
              1,
              "#f0f921"
             ]
            ],
            "type": "histogram2d"
           }
          ],
          "histogram2dcontour": [
           {
            "colorbar": {
             "outlinewidth": 0,
             "ticks": ""
            },
            "colorscale": [
             [
              0,
              "#0d0887"
             ],
             [
              0.1111111111111111,
              "#46039f"
             ],
             [
              0.2222222222222222,
              "#7201a8"
             ],
             [
              0.3333333333333333,
              "#9c179e"
             ],
             [
              0.4444444444444444,
              "#bd3786"
             ],
             [
              0.5555555555555556,
              "#d8576b"
             ],
             [
              0.6666666666666666,
              "#ed7953"
             ],
             [
              0.7777777777777778,
              "#fb9f3a"
             ],
             [
              0.8888888888888888,
              "#fdca26"
             ],
             [
              1,
              "#f0f921"
             ]
            ],
            "type": "histogram2dcontour"
           }
          ],
          "mesh3d": [
           {
            "colorbar": {
             "outlinewidth": 0,
             "ticks": ""
            },
            "type": "mesh3d"
           }
          ],
          "parcoords": [
           {
            "line": {
             "colorbar": {
              "outlinewidth": 0,
              "ticks": ""
             }
            },
            "type": "parcoords"
           }
          ],
          "pie": [
           {
            "automargin": true,
            "type": "pie"
           }
          ],
          "scatter": [
           {
            "fillpattern": {
             "fillmode": "overlay",
             "size": 10,
             "solidity": 0.2
            },
            "type": "scatter"
           }
          ],
          "scatter3d": [
           {
            "line": {
             "colorbar": {
              "outlinewidth": 0,
              "ticks": ""
             }
            },
            "marker": {
             "colorbar": {
              "outlinewidth": 0,
              "ticks": ""
             }
            },
            "type": "scatter3d"
           }
          ],
          "scattercarpet": [
           {
            "marker": {
             "colorbar": {
              "outlinewidth": 0,
              "ticks": ""
             }
            },
            "type": "scattercarpet"
           }
          ],
          "scattergeo": [
           {
            "marker": {
             "colorbar": {
              "outlinewidth": 0,
              "ticks": ""
             }
            },
            "type": "scattergeo"
           }
          ],
          "scattergl": [
           {
            "marker": {
             "colorbar": {
              "outlinewidth": 0,
              "ticks": ""
             }
            },
            "type": "scattergl"
           }
          ],
          "scattermap": [
           {
            "marker": {
             "colorbar": {
              "outlinewidth": 0,
              "ticks": ""
             }
            },
            "type": "scattermap"
           }
          ],
          "scattermapbox": [
           {
            "marker": {
             "colorbar": {
              "outlinewidth": 0,
              "ticks": ""
             }
            },
            "type": "scattermapbox"
           }
          ],
          "scatterpolar": [
           {
            "marker": {
             "colorbar": {
              "outlinewidth": 0,
              "ticks": ""
             }
            },
            "type": "scatterpolar"
           }
          ],
          "scatterpolargl": [
           {
            "marker": {
             "colorbar": {
              "outlinewidth": 0,
              "ticks": ""
             }
            },
            "type": "scatterpolargl"
           }
          ],
          "scatterternary": [
           {
            "marker": {
             "colorbar": {
              "outlinewidth": 0,
              "ticks": ""
             }
            },
            "type": "scatterternary"
           }
          ],
          "surface": [
           {
            "colorbar": {
             "outlinewidth": 0,
             "ticks": ""
            },
            "colorscale": [
             [
              0,
              "#0d0887"
             ],
             [
              0.1111111111111111,
              "#46039f"
             ],
             [
              0.2222222222222222,
              "#7201a8"
             ],
             [
              0.3333333333333333,
              "#9c179e"
             ],
             [
              0.4444444444444444,
              "#bd3786"
             ],
             [
              0.5555555555555556,
              "#d8576b"
             ],
             [
              0.6666666666666666,
              "#ed7953"
             ],
             [
              0.7777777777777778,
              "#fb9f3a"
             ],
             [
              0.8888888888888888,
              "#fdca26"
             ],
             [
              1,
              "#f0f921"
             ]
            ],
            "type": "surface"
           }
          ],
          "table": [
           {
            "cells": {
             "fill": {
              "color": "#EBF0F8"
             },
             "line": {
              "color": "white"
             }
            },
            "header": {
             "fill": {
              "color": "#C8D4E3"
             },
             "line": {
              "color": "white"
             }
            },
            "type": "table"
           }
          ]
         },
         "layout": {
          "annotationdefaults": {
           "arrowcolor": "#2a3f5f",
           "arrowhead": 0,
           "arrowwidth": 1
          },
          "autotypenumbers": "strict",
          "coloraxis": {
           "colorbar": {
            "outlinewidth": 0,
            "ticks": ""
           }
          },
          "colorscale": {
           "diverging": [
            [
             0,
             "#8e0152"
            ],
            [
             0.1,
             "#c51b7d"
            ],
            [
             0.2,
             "#de77ae"
            ],
            [
             0.3,
             "#f1b6da"
            ],
            [
             0.4,
             "#fde0ef"
            ],
            [
             0.5,
             "#f7f7f7"
            ],
            [
             0.6,
             "#e6f5d0"
            ],
            [
             0.7,
             "#b8e186"
            ],
            [
             0.8,
             "#7fbc41"
            ],
            [
             0.9,
             "#4d9221"
            ],
            [
             1,
             "#276419"
            ]
           ],
           "sequential": [
            [
             0,
             "#0d0887"
            ],
            [
             0.1111111111111111,
             "#46039f"
            ],
            [
             0.2222222222222222,
             "#7201a8"
            ],
            [
             0.3333333333333333,
             "#9c179e"
            ],
            [
             0.4444444444444444,
             "#bd3786"
            ],
            [
             0.5555555555555556,
             "#d8576b"
            ],
            [
             0.6666666666666666,
             "#ed7953"
            ],
            [
             0.7777777777777778,
             "#fb9f3a"
            ],
            [
             0.8888888888888888,
             "#fdca26"
            ],
            [
             1,
             "#f0f921"
            ]
           ],
           "sequentialminus": [
            [
             0,
             "#0d0887"
            ],
            [
             0.1111111111111111,
             "#46039f"
            ],
            [
             0.2222222222222222,
             "#7201a8"
            ],
            [
             0.3333333333333333,
             "#9c179e"
            ],
            [
             0.4444444444444444,
             "#bd3786"
            ],
            [
             0.5555555555555556,
             "#d8576b"
            ],
            [
             0.6666666666666666,
             "#ed7953"
            ],
            [
             0.7777777777777778,
             "#fb9f3a"
            ],
            [
             0.8888888888888888,
             "#fdca26"
            ],
            [
             1,
             "#f0f921"
            ]
           ]
          },
          "colorway": [
           "#636efa",
           "#EF553B",
           "#00cc96",
           "#ab63fa",
           "#FFA15A",
           "#19d3f3",
           "#FF6692",
           "#B6E880",
           "#FF97FF",
           "#FECB52"
          ],
          "font": {
           "color": "#2a3f5f"
          },
          "geo": {
           "bgcolor": "white",
           "lakecolor": "white",
           "landcolor": "#E5ECF6",
           "showlakes": true,
           "showland": true,
           "subunitcolor": "white"
          },
          "hoverlabel": {
           "align": "left"
          },
          "hovermode": "closest",
          "mapbox": {
           "style": "light"
          },
          "paper_bgcolor": "white",
          "plot_bgcolor": "#E5ECF6",
          "polar": {
           "angularaxis": {
            "gridcolor": "white",
            "linecolor": "white",
            "ticks": ""
           },
           "bgcolor": "#E5ECF6",
           "radialaxis": {
            "gridcolor": "white",
            "linecolor": "white",
            "ticks": ""
           }
          },
          "scene": {
           "xaxis": {
            "backgroundcolor": "#E5ECF6",
            "gridcolor": "white",
            "gridwidth": 2,
            "linecolor": "white",
            "showbackground": true,
            "ticks": "",
            "zerolinecolor": "white"
           },
           "yaxis": {
            "backgroundcolor": "#E5ECF6",
            "gridcolor": "white",
            "gridwidth": 2,
            "linecolor": "white",
            "showbackground": true,
            "ticks": "",
            "zerolinecolor": "white"
           },
           "zaxis": {
            "backgroundcolor": "#E5ECF6",
            "gridcolor": "white",
            "gridwidth": 2,
            "linecolor": "white",
            "showbackground": true,
            "ticks": "",
            "zerolinecolor": "white"
           }
          },
          "shapedefaults": {
           "line": {
            "color": "#2a3f5f"
           }
          },
          "ternary": {
           "aaxis": {
            "gridcolor": "white",
            "linecolor": "white",
            "ticks": ""
           },
           "baxis": {
            "gridcolor": "white",
            "linecolor": "white",
            "ticks": ""
           },
           "bgcolor": "#E5ECF6",
           "caxis": {
            "gridcolor": "white",
            "linecolor": "white",
            "ticks": ""
           }
          },
          "title": {
           "x": 0.05
          },
          "xaxis": {
           "automargin": true,
           "gridcolor": "white",
           "linecolor": "white",
           "ticks": "",
           "title": {
            "standoff": 15
           },
           "zerolinecolor": "white",
           "zerolinewidth": 2
          },
          "yaxis": {
           "automargin": true,
           "gridcolor": "white",
           "linecolor": "white",
           "ticks": "",
           "title": {
            "standoff": 15
           },
           "zerolinecolor": "white",
           "zerolinewidth": 2
          }
         }
        },
        "title": {
         "text": "daily sales trend"
        },
        "xaxis": {
         "anchor": "y",
         "domain": [
          0,
          1
         ],
         "title": {
          "text": "day"
         }
        },
        "yaxis": {
         "anchor": "x",
         "domain": [
          0,
          1
         ],
         "title": {
          "text": "price"
         }
        }
       }
      }
     },
     "metadata": {},
     "output_type": "display_data"
    }
   ],
   "source": [
    "fig = px.line( \n",
    "    daily_sales_df,\n",
    "    x='day',\n",
    "    y = 'price',\n",
    "    title= 'daily sales trend'\n",
    ")\n",
    "\n",
    "fig.show()"
   ]
  },
  {
   "cell_type": "code",
   "execution_count": null,
   "id": "fe2265f3",
   "metadata": {},
   "outputs": [
    {
     "data": {
      "text/html": [
       "<div>\n",
       "<style scoped>\n",
       "    .dataframe tbody tr th:only-of-type {\n",
       "        vertical-align: middle;\n",
       "    }\n",
       "\n",
       "    .dataframe tbody tr th {\n",
       "        vertical-align: top;\n",
       "    }\n",
       "\n",
       "    .dataframe thead th {\n",
       "        text-align: right;\n",
       "    }\n",
       "</style>\n",
       "<table border=\"1\" class=\"dataframe\">\n",
       "  <thead>\n",
       "    <tr style=\"text-align: right;\">\n",
       "      <th></th>\n",
       "      <th>day</th>\n",
       "      <th>price_2</th>\n",
       "      <th>price</th>\n",
       "      <th>status</th>\n",
       "    </tr>\n",
       "  </thead>\n",
       "  <tbody>\n",
       "    <tr>\n",
       "      <th>0</th>\n",
       "      <td>1</td>\n",
       "      <td>1</td>\n",
       "      <td>154004</td>\n",
       "      <td>jsut viewed</td>\n",
       "    </tr>\n",
       "    <tr>\n",
       "      <th>1</th>\n",
       "      <td>1</td>\n",
       "      <td>2</td>\n",
       "      <td>93041</td>\n",
       "      <td>bought</td>\n",
       "    </tr>\n",
       "    <tr>\n",
       "      <th>2</th>\n",
       "      <td>2</td>\n",
       "      <td>1</td>\n",
       "      <td>159138</td>\n",
       "      <td>jsut viewed</td>\n",
       "    </tr>\n",
       "    <tr>\n",
       "      <th>3</th>\n",
       "      <td>2</td>\n",
       "      <td>2</td>\n",
       "      <td>96039</td>\n",
       "      <td>bought</td>\n",
       "    </tr>\n",
       "    <tr>\n",
       "      <th>4</th>\n",
       "      <td>3</td>\n",
       "      <td>1</td>\n",
       "      <td>130341</td>\n",
       "      <td>jsut viewed</td>\n",
       "    </tr>\n",
       "  </tbody>\n",
       "</table>\n",
       "</div>"
      ],
      "text/plain": [
       "   day  price_2   price       status\n",
       "0    1        1  154004  jsut viewed\n",
       "1    1        2   93041       bought\n",
       "2    2        1  159138  jsut viewed\n",
       "3    2        2   96039       bought\n",
       "4    3        1  130341  jsut viewed"
      ]
     },
     "execution_count": 17,
     "metadata": {},
     "output_type": "execute_result"
    }
   ],
   "source": [
    "# d_sales_stat = data.groupby(['day','price_2'])['price'].sum().reset_index()\n",
    "d_sales_stat['status'] = d_sales_stat['price_2'].map({1: \"jsut viewed\", 2: \"bought\"})\n",
    "d_sales_stat['total'] = daily_sales_df[]\n",
    "d_sales_stat.head()\n"
   ]
  },
  {
   "cell_type": "code",
   "execution_count": 16,
   "id": "8b47e481",
   "metadata": {},
   "outputs": [
    {
     "data": {
      "application/vnd.plotly.v1+json": {
       "config": {
        "plotlyServerURL": "https://plot.ly"
       },
       "data": [
        {
         "hovertemplate": "price_2=1<br>day=%{x}<br>price=%{y}<extra></extra>",
         "legendgroup": "1",
         "line": {
          "color": "#636efa",
          "dash": "solid"
         },
         "marker": {
          "symbol": "circle"
         },
         "mode": "lines+markers",
         "name": "1",
         "orientation": "v",
         "showlegend": true,
         "type": "scatter",
         "x": {
          "bdata": "AQIDBAUGBwgJCgsMDQ4PEBESExQVFhcYGRobHB0eHw==",
          "dtype": "i1"
         },
         "xaxis": "x",
         "y": {
          "bdata": "lFkCAKJtAgAl/QEAASgCAPgWAgAjEwIAnhICAMAyAgAIAwIAeQcCAH0UAgBdCgIArGgBAOPKAQCDewEA/uABAOipAQD6kQEAGokBAIaDAQAvqgEAy6ABAPmwAQAnowEAEYsBADpeAQDvZgEAT4oBAG7DAQCecgEAgZkAAA==",
          "dtype": "i4"
         },
         "yaxis": "y"
        },
        {
         "hovertemplate": "price_2=2<br>day=%{x}<br>price=%{y}<extra></extra>",
         "legendgroup": "2",
         "line": {
          "color": "#EF553B",
          "dash": "solid"
         },
         "marker": {
          "symbol": "circle"
         },
         "mode": "lines+markers",
         "name": "2",
         "orientation": "v",
         "showlegend": true,
         "type": "scatter",
         "x": {
          "bdata": "AQIDBAUGBwgJCgsMDQ4PEBESExQVFhcYGRobHB0eHw==",
          "dtype": "i1"
         },
         "xaxis": "x",
         "y": {
          "bdata": "cWsBACd3AQC5PwEAF00BAO1AAQDMRAEAGj0BAFVbAQB/OAEAokkBAL9RAQAcQgEAHOkAALIaAQBI+QAAAy8BAPQMAQBR9gAA7PoAANHrAACuBwEAZPAAAG8RAQA6EAEA6/wAACPUAAAS1wAA/fMAABAhAQCv3AAA7V4AAA==",
          "dtype": "i4"
         },
         "yaxis": "y"
        }
       ],
       "layout": {
        "legend": {
         "title": {
          "text": "price_2"
         },
         "tracegroupgap": 0
        },
        "template": {
         "data": {
          "bar": [
           {
            "error_x": {
             "color": "#2a3f5f"
            },
            "error_y": {
             "color": "#2a3f5f"
            },
            "marker": {
             "line": {
              "color": "#E5ECF6",
              "width": 0.5
             },
             "pattern": {
              "fillmode": "overlay",
              "size": 10,
              "solidity": 0.2
             }
            },
            "type": "bar"
           }
          ],
          "barpolar": [
           {
            "marker": {
             "line": {
              "color": "#E5ECF6",
              "width": 0.5
             },
             "pattern": {
              "fillmode": "overlay",
              "size": 10,
              "solidity": 0.2
             }
            },
            "type": "barpolar"
           }
          ],
          "carpet": [
           {
            "aaxis": {
             "endlinecolor": "#2a3f5f",
             "gridcolor": "white",
             "linecolor": "white",
             "minorgridcolor": "white",
             "startlinecolor": "#2a3f5f"
            },
            "baxis": {
             "endlinecolor": "#2a3f5f",
             "gridcolor": "white",
             "linecolor": "white",
             "minorgridcolor": "white",
             "startlinecolor": "#2a3f5f"
            },
            "type": "carpet"
           }
          ],
          "choropleth": [
           {
            "colorbar": {
             "outlinewidth": 0,
             "ticks": ""
            },
            "type": "choropleth"
           }
          ],
          "contour": [
           {
            "colorbar": {
             "outlinewidth": 0,
             "ticks": ""
            },
            "colorscale": [
             [
              0,
              "#0d0887"
             ],
             [
              0.1111111111111111,
              "#46039f"
             ],
             [
              0.2222222222222222,
              "#7201a8"
             ],
             [
              0.3333333333333333,
              "#9c179e"
             ],
             [
              0.4444444444444444,
              "#bd3786"
             ],
             [
              0.5555555555555556,
              "#d8576b"
             ],
             [
              0.6666666666666666,
              "#ed7953"
             ],
             [
              0.7777777777777778,
              "#fb9f3a"
             ],
             [
              0.8888888888888888,
              "#fdca26"
             ],
             [
              1,
              "#f0f921"
             ]
            ],
            "type": "contour"
           }
          ],
          "contourcarpet": [
           {
            "colorbar": {
             "outlinewidth": 0,
             "ticks": ""
            },
            "type": "contourcarpet"
           }
          ],
          "heatmap": [
           {
            "colorbar": {
             "outlinewidth": 0,
             "ticks": ""
            },
            "colorscale": [
             [
              0,
              "#0d0887"
             ],
             [
              0.1111111111111111,
              "#46039f"
             ],
             [
              0.2222222222222222,
              "#7201a8"
             ],
             [
              0.3333333333333333,
              "#9c179e"
             ],
             [
              0.4444444444444444,
              "#bd3786"
             ],
             [
              0.5555555555555556,
              "#d8576b"
             ],
             [
              0.6666666666666666,
              "#ed7953"
             ],
             [
              0.7777777777777778,
              "#fb9f3a"
             ],
             [
              0.8888888888888888,
              "#fdca26"
             ],
             [
              1,
              "#f0f921"
             ]
            ],
            "type": "heatmap"
           }
          ],
          "histogram": [
           {
            "marker": {
             "pattern": {
              "fillmode": "overlay",
              "size": 10,
              "solidity": 0.2
             }
            },
            "type": "histogram"
           }
          ],
          "histogram2d": [
           {
            "colorbar": {
             "outlinewidth": 0,
             "ticks": ""
            },
            "colorscale": [
             [
              0,
              "#0d0887"
             ],
             [
              0.1111111111111111,
              "#46039f"
             ],
             [
              0.2222222222222222,
              "#7201a8"
             ],
             [
              0.3333333333333333,
              "#9c179e"
             ],
             [
              0.4444444444444444,
              "#bd3786"
             ],
             [
              0.5555555555555556,
              "#d8576b"
             ],
             [
              0.6666666666666666,
              "#ed7953"
             ],
             [
              0.7777777777777778,
              "#fb9f3a"
             ],
             [
              0.8888888888888888,
              "#fdca26"
             ],
             [
              1,
              "#f0f921"
             ]
            ],
            "type": "histogram2d"
           }
          ],
          "histogram2dcontour": [
           {
            "colorbar": {
             "outlinewidth": 0,
             "ticks": ""
            },
            "colorscale": [
             [
              0,
              "#0d0887"
             ],
             [
              0.1111111111111111,
              "#46039f"
             ],
             [
              0.2222222222222222,
              "#7201a8"
             ],
             [
              0.3333333333333333,
              "#9c179e"
             ],
             [
              0.4444444444444444,
              "#bd3786"
             ],
             [
              0.5555555555555556,
              "#d8576b"
             ],
             [
              0.6666666666666666,
              "#ed7953"
             ],
             [
              0.7777777777777778,
              "#fb9f3a"
             ],
             [
              0.8888888888888888,
              "#fdca26"
             ],
             [
              1,
              "#f0f921"
             ]
            ],
            "type": "histogram2dcontour"
           }
          ],
          "mesh3d": [
           {
            "colorbar": {
             "outlinewidth": 0,
             "ticks": ""
            },
            "type": "mesh3d"
           }
          ],
          "parcoords": [
           {
            "line": {
             "colorbar": {
              "outlinewidth": 0,
              "ticks": ""
             }
            },
            "type": "parcoords"
           }
          ],
          "pie": [
           {
            "automargin": true,
            "type": "pie"
           }
          ],
          "scatter": [
           {
            "fillpattern": {
             "fillmode": "overlay",
             "size": 10,
             "solidity": 0.2
            },
            "type": "scatter"
           }
          ],
          "scatter3d": [
           {
            "line": {
             "colorbar": {
              "outlinewidth": 0,
              "ticks": ""
             }
            },
            "marker": {
             "colorbar": {
              "outlinewidth": 0,
              "ticks": ""
             }
            },
            "type": "scatter3d"
           }
          ],
          "scattercarpet": [
           {
            "marker": {
             "colorbar": {
              "outlinewidth": 0,
              "ticks": ""
             }
            },
            "type": "scattercarpet"
           }
          ],
          "scattergeo": [
           {
            "marker": {
             "colorbar": {
              "outlinewidth": 0,
              "ticks": ""
             }
            },
            "type": "scattergeo"
           }
          ],
          "scattergl": [
           {
            "marker": {
             "colorbar": {
              "outlinewidth": 0,
              "ticks": ""
             }
            },
            "type": "scattergl"
           }
          ],
          "scattermap": [
           {
            "marker": {
             "colorbar": {
              "outlinewidth": 0,
              "ticks": ""
             }
            },
            "type": "scattermap"
           }
          ],
          "scattermapbox": [
           {
            "marker": {
             "colorbar": {
              "outlinewidth": 0,
              "ticks": ""
             }
            },
            "type": "scattermapbox"
           }
          ],
          "scatterpolar": [
           {
            "marker": {
             "colorbar": {
              "outlinewidth": 0,
              "ticks": ""
             }
            },
            "type": "scatterpolar"
           }
          ],
          "scatterpolargl": [
           {
            "marker": {
             "colorbar": {
              "outlinewidth": 0,
              "ticks": ""
             }
            },
            "type": "scatterpolargl"
           }
          ],
          "scatterternary": [
           {
            "marker": {
             "colorbar": {
              "outlinewidth": 0,
              "ticks": ""
             }
            },
            "type": "scatterternary"
           }
          ],
          "surface": [
           {
            "colorbar": {
             "outlinewidth": 0,
             "ticks": ""
            },
            "colorscale": [
             [
              0,
              "#0d0887"
             ],
             [
              0.1111111111111111,
              "#46039f"
             ],
             [
              0.2222222222222222,
              "#7201a8"
             ],
             [
              0.3333333333333333,
              "#9c179e"
             ],
             [
              0.4444444444444444,
              "#bd3786"
             ],
             [
              0.5555555555555556,
              "#d8576b"
             ],
             [
              0.6666666666666666,
              "#ed7953"
             ],
             [
              0.7777777777777778,
              "#fb9f3a"
             ],
             [
              0.8888888888888888,
              "#fdca26"
             ],
             [
              1,
              "#f0f921"
             ]
            ],
            "type": "surface"
           }
          ],
          "table": [
           {
            "cells": {
             "fill": {
              "color": "#EBF0F8"
             },
             "line": {
              "color": "white"
             }
            },
            "header": {
             "fill": {
              "color": "#C8D4E3"
             },
             "line": {
              "color": "white"
             }
            },
            "type": "table"
           }
          ]
         },
         "layout": {
          "annotationdefaults": {
           "arrowcolor": "#2a3f5f",
           "arrowhead": 0,
           "arrowwidth": 1
          },
          "autotypenumbers": "strict",
          "coloraxis": {
           "colorbar": {
            "outlinewidth": 0,
            "ticks": ""
           }
          },
          "colorscale": {
           "diverging": [
            [
             0,
             "#8e0152"
            ],
            [
             0.1,
             "#c51b7d"
            ],
            [
             0.2,
             "#de77ae"
            ],
            [
             0.3,
             "#f1b6da"
            ],
            [
             0.4,
             "#fde0ef"
            ],
            [
             0.5,
             "#f7f7f7"
            ],
            [
             0.6,
             "#e6f5d0"
            ],
            [
             0.7,
             "#b8e186"
            ],
            [
             0.8,
             "#7fbc41"
            ],
            [
             0.9,
             "#4d9221"
            ],
            [
             1,
             "#276419"
            ]
           ],
           "sequential": [
            [
             0,
             "#0d0887"
            ],
            [
             0.1111111111111111,
             "#46039f"
            ],
            [
             0.2222222222222222,
             "#7201a8"
            ],
            [
             0.3333333333333333,
             "#9c179e"
            ],
            [
             0.4444444444444444,
             "#bd3786"
            ],
            [
             0.5555555555555556,
             "#d8576b"
            ],
            [
             0.6666666666666666,
             "#ed7953"
            ],
            [
             0.7777777777777778,
             "#fb9f3a"
            ],
            [
             0.8888888888888888,
             "#fdca26"
            ],
            [
             1,
             "#f0f921"
            ]
           ],
           "sequentialminus": [
            [
             0,
             "#0d0887"
            ],
            [
             0.1111111111111111,
             "#46039f"
            ],
            [
             0.2222222222222222,
             "#7201a8"
            ],
            [
             0.3333333333333333,
             "#9c179e"
            ],
            [
             0.4444444444444444,
             "#bd3786"
            ],
            [
             0.5555555555555556,
             "#d8576b"
            ],
            [
             0.6666666666666666,
             "#ed7953"
            ],
            [
             0.7777777777777778,
             "#fb9f3a"
            ],
            [
             0.8888888888888888,
             "#fdca26"
            ],
            [
             1,
             "#f0f921"
            ]
           ]
          },
          "colorway": [
           "#636efa",
           "#EF553B",
           "#00cc96",
           "#ab63fa",
           "#FFA15A",
           "#19d3f3",
           "#FF6692",
           "#B6E880",
           "#FF97FF",
           "#FECB52"
          ],
          "font": {
           "color": "#2a3f5f"
          },
          "geo": {
           "bgcolor": "white",
           "lakecolor": "white",
           "landcolor": "#E5ECF6",
           "showlakes": true,
           "showland": true,
           "subunitcolor": "white"
          },
          "hoverlabel": {
           "align": "left"
          },
          "hovermode": "closest",
          "mapbox": {
           "style": "light"
          },
          "paper_bgcolor": "white",
          "plot_bgcolor": "#E5ECF6",
          "polar": {
           "angularaxis": {
            "gridcolor": "white",
            "linecolor": "white",
            "ticks": ""
           },
           "bgcolor": "#E5ECF6",
           "radialaxis": {
            "gridcolor": "white",
            "linecolor": "white",
            "ticks": ""
           }
          },
          "scene": {
           "xaxis": {
            "backgroundcolor": "#E5ECF6",
            "gridcolor": "white",
            "gridwidth": 2,
            "linecolor": "white",
            "showbackground": true,
            "ticks": "",
            "zerolinecolor": "white"
           },
           "yaxis": {
            "backgroundcolor": "#E5ECF6",
            "gridcolor": "white",
            "gridwidth": 2,
            "linecolor": "white",
            "showbackground": true,
            "ticks": "",
            "zerolinecolor": "white"
           },
           "zaxis": {
            "backgroundcolor": "#E5ECF6",
            "gridcolor": "white",
            "gridwidth": 2,
            "linecolor": "white",
            "showbackground": true,
            "ticks": "",
            "zerolinecolor": "white"
           }
          },
          "shapedefaults": {
           "line": {
            "color": "#2a3f5f"
           }
          },
          "ternary": {
           "aaxis": {
            "gridcolor": "white",
            "linecolor": "white",
            "ticks": ""
           },
           "baxis": {
            "gridcolor": "white",
            "linecolor": "white",
            "ticks": ""
           },
           "bgcolor": "#E5ECF6",
           "caxis": {
            "gridcolor": "white",
            "linecolor": "white",
            "ticks": ""
           }
          },
          "title": {
           "x": 0.05
          },
          "xaxis": {
           "automargin": true,
           "gridcolor": "white",
           "linecolor": "white",
           "ticks": "",
           "title": {
            "standoff": 15
           },
           "zerolinecolor": "white",
           "zerolinewidth": 2
          },
          "yaxis": {
           "automargin": true,
           "gridcolor": "white",
           "linecolor": "white",
           "ticks": "",
           "title": {
            "standoff": 15
           },
           "zerolinecolor": "white",
           "zerolinewidth": 2
          }
         }
        },
        "title": {
         "text": "daily price trend viewed vs bought"
        },
        "xaxis": {
         "anchor": "y",
         "domain": [
          0,
          1
         ],
         "title": {
          "text": "day"
         }
        },
        "yaxis": {
         "anchor": "x",
         "domain": [
          0,
          1
         ],
         "title": {
          "text": "price"
         }
        }
       }
      }
     },
     "metadata": {},
     "output_type": "display_data"
    }
   ],
   "source": [
    "fig = px.line(\n",
    "    d_sales_stat,\n",
    "    x='day',\n",
    "    y='price',\n",
    "    color='price_2',\n",
    "    title= 'daily price trend viewed vs bought'\n",
    ")\n",
    "fig.update_traces(mode = 'lines+markers')\n",
    "fig.show()"
   ]
  },
  {
   "cell_type": "code",
   "execution_count": 26,
   "id": "102be08f",
   "metadata": {},
   "outputs": [
    {
     "data": {
      "application/vnd.plotly.v1+json": {
       "config": {
        "plotlyServerURL": "https://plot.ly"
       },
       "data": [
        {
         "hovertemplate": "month=%{x}<br>total price=%{y}<br>Main Category=%{marker.color}<extra></extra>",
         "legendgroup": "",
         "marker": {
          "color": {
           "bdata": "AQIDBAECAwQBAgMEAQIDBAECAwQ=",
           "dtype": "i1"
          },
          "coloraxis": "coloraxis",
          "pattern": {
           "shape": ""
          }
         },
         "name": "",
         "orientation": "v",
         "showlegend": false,
         "textposition": "auto",
         "type": "bar",
         "x": {
          "bdata": "BAQEBAUFBQUGBgYGBwcHBwgICAg=",
          "dtype": "i1"
         },
         "xaxis": "x",
         "y": {
          "bdata": "PCIIAHrhBgBjjAUAJycFAHcyBgCsigUAax0EAMk8AwBdZAUAQA4FABPZAwC47QIAO0QGAL6gBABc3QMAKAcEAKpuAgCwxgEAHaEBACrLAQA=",
          "dtype": "i4"
         },
         "yaxis": "y"
        }
       ],
       "layout": {
        "barmode": "relative",
        "coloraxis": {
         "colorbar": {
          "title": {
           "text": "Main Category"
          }
         },
         "colorscale": [
          [
           0,
           "#0d0887"
          ],
          [
           0.1111111111111111,
           "#46039f"
          ],
          [
           0.2222222222222222,
           "#7201a8"
          ],
          [
           0.3333333333333333,
           "#9c179e"
          ],
          [
           0.4444444444444444,
           "#bd3786"
          ],
          [
           0.5555555555555556,
           "#d8576b"
          ],
          [
           0.6666666666666666,
           "#ed7953"
          ],
          [
           0.7777777777777778,
           "#fb9f3a"
          ],
          [
           0.8888888888888888,
           "#fdca26"
          ],
          [
           1,
           "#f0f921"
          ]
         ]
        },
        "legend": {
         "tracegroupgap": 0
        },
        "margin": {
         "t": 60
        },
        "template": {
         "data": {
          "bar": [
           {
            "error_x": {
             "color": "#2a3f5f"
            },
            "error_y": {
             "color": "#2a3f5f"
            },
            "marker": {
             "line": {
              "color": "#E5ECF6",
              "width": 0.5
             },
             "pattern": {
              "fillmode": "overlay",
              "size": 10,
              "solidity": 0.2
             }
            },
            "type": "bar"
           }
          ],
          "barpolar": [
           {
            "marker": {
             "line": {
              "color": "#E5ECF6",
              "width": 0.5
             },
             "pattern": {
              "fillmode": "overlay",
              "size": 10,
              "solidity": 0.2
             }
            },
            "type": "barpolar"
           }
          ],
          "carpet": [
           {
            "aaxis": {
             "endlinecolor": "#2a3f5f",
             "gridcolor": "white",
             "linecolor": "white",
             "minorgridcolor": "white",
             "startlinecolor": "#2a3f5f"
            },
            "baxis": {
             "endlinecolor": "#2a3f5f",
             "gridcolor": "white",
             "linecolor": "white",
             "minorgridcolor": "white",
             "startlinecolor": "#2a3f5f"
            },
            "type": "carpet"
           }
          ],
          "choropleth": [
           {
            "colorbar": {
             "outlinewidth": 0,
             "ticks": ""
            },
            "type": "choropleth"
           }
          ],
          "contour": [
           {
            "colorbar": {
             "outlinewidth": 0,
             "ticks": ""
            },
            "colorscale": [
             [
              0,
              "#0d0887"
             ],
             [
              0.1111111111111111,
              "#46039f"
             ],
             [
              0.2222222222222222,
              "#7201a8"
             ],
             [
              0.3333333333333333,
              "#9c179e"
             ],
             [
              0.4444444444444444,
              "#bd3786"
             ],
             [
              0.5555555555555556,
              "#d8576b"
             ],
             [
              0.6666666666666666,
              "#ed7953"
             ],
             [
              0.7777777777777778,
              "#fb9f3a"
             ],
             [
              0.8888888888888888,
              "#fdca26"
             ],
             [
              1,
              "#f0f921"
             ]
            ],
            "type": "contour"
           }
          ],
          "contourcarpet": [
           {
            "colorbar": {
             "outlinewidth": 0,
             "ticks": ""
            },
            "type": "contourcarpet"
           }
          ],
          "heatmap": [
           {
            "colorbar": {
             "outlinewidth": 0,
             "ticks": ""
            },
            "colorscale": [
             [
              0,
              "#0d0887"
             ],
             [
              0.1111111111111111,
              "#46039f"
             ],
             [
              0.2222222222222222,
              "#7201a8"
             ],
             [
              0.3333333333333333,
              "#9c179e"
             ],
             [
              0.4444444444444444,
              "#bd3786"
             ],
             [
              0.5555555555555556,
              "#d8576b"
             ],
             [
              0.6666666666666666,
              "#ed7953"
             ],
             [
              0.7777777777777778,
              "#fb9f3a"
             ],
             [
              0.8888888888888888,
              "#fdca26"
             ],
             [
              1,
              "#f0f921"
             ]
            ],
            "type": "heatmap"
           }
          ],
          "histogram": [
           {
            "marker": {
             "pattern": {
              "fillmode": "overlay",
              "size": 10,
              "solidity": 0.2
             }
            },
            "type": "histogram"
           }
          ],
          "histogram2d": [
           {
            "colorbar": {
             "outlinewidth": 0,
             "ticks": ""
            },
            "colorscale": [
             [
              0,
              "#0d0887"
             ],
             [
              0.1111111111111111,
              "#46039f"
             ],
             [
              0.2222222222222222,
              "#7201a8"
             ],
             [
              0.3333333333333333,
              "#9c179e"
             ],
             [
              0.4444444444444444,
              "#bd3786"
             ],
             [
              0.5555555555555556,
              "#d8576b"
             ],
             [
              0.6666666666666666,
              "#ed7953"
             ],
             [
              0.7777777777777778,
              "#fb9f3a"
             ],
             [
              0.8888888888888888,
              "#fdca26"
             ],
             [
              1,
              "#f0f921"
             ]
            ],
            "type": "histogram2d"
           }
          ],
          "histogram2dcontour": [
           {
            "colorbar": {
             "outlinewidth": 0,
             "ticks": ""
            },
            "colorscale": [
             [
              0,
              "#0d0887"
             ],
             [
              0.1111111111111111,
              "#46039f"
             ],
             [
              0.2222222222222222,
              "#7201a8"
             ],
             [
              0.3333333333333333,
              "#9c179e"
             ],
             [
              0.4444444444444444,
              "#bd3786"
             ],
             [
              0.5555555555555556,
              "#d8576b"
             ],
             [
              0.6666666666666666,
              "#ed7953"
             ],
             [
              0.7777777777777778,
              "#fb9f3a"
             ],
             [
              0.8888888888888888,
              "#fdca26"
             ],
             [
              1,
              "#f0f921"
             ]
            ],
            "type": "histogram2dcontour"
           }
          ],
          "mesh3d": [
           {
            "colorbar": {
             "outlinewidth": 0,
             "ticks": ""
            },
            "type": "mesh3d"
           }
          ],
          "parcoords": [
           {
            "line": {
             "colorbar": {
              "outlinewidth": 0,
              "ticks": ""
             }
            },
            "type": "parcoords"
           }
          ],
          "pie": [
           {
            "automargin": true,
            "type": "pie"
           }
          ],
          "scatter": [
           {
            "fillpattern": {
             "fillmode": "overlay",
             "size": 10,
             "solidity": 0.2
            },
            "type": "scatter"
           }
          ],
          "scatter3d": [
           {
            "line": {
             "colorbar": {
              "outlinewidth": 0,
              "ticks": ""
             }
            },
            "marker": {
             "colorbar": {
              "outlinewidth": 0,
              "ticks": ""
             }
            },
            "type": "scatter3d"
           }
          ],
          "scattercarpet": [
           {
            "marker": {
             "colorbar": {
              "outlinewidth": 0,
              "ticks": ""
             }
            },
            "type": "scattercarpet"
           }
          ],
          "scattergeo": [
           {
            "marker": {
             "colorbar": {
              "outlinewidth": 0,
              "ticks": ""
             }
            },
            "type": "scattergeo"
           }
          ],
          "scattergl": [
           {
            "marker": {
             "colorbar": {
              "outlinewidth": 0,
              "ticks": ""
             }
            },
            "type": "scattergl"
           }
          ],
          "scattermap": [
           {
            "marker": {
             "colorbar": {
              "outlinewidth": 0,
              "ticks": ""
             }
            },
            "type": "scattermap"
           }
          ],
          "scattermapbox": [
           {
            "marker": {
             "colorbar": {
              "outlinewidth": 0,
              "ticks": ""
             }
            },
            "type": "scattermapbox"
           }
          ],
          "scatterpolar": [
           {
            "marker": {
             "colorbar": {
              "outlinewidth": 0,
              "ticks": ""
             }
            },
            "type": "scatterpolar"
           }
          ],
          "scatterpolargl": [
           {
            "marker": {
             "colorbar": {
              "outlinewidth": 0,
              "ticks": ""
             }
            },
            "type": "scatterpolargl"
           }
          ],
          "scatterternary": [
           {
            "marker": {
             "colorbar": {
              "outlinewidth": 0,
              "ticks": ""
             }
            },
            "type": "scatterternary"
           }
          ],
          "surface": [
           {
            "colorbar": {
             "outlinewidth": 0,
             "ticks": ""
            },
            "colorscale": [
             [
              0,
              "#0d0887"
             ],
             [
              0.1111111111111111,
              "#46039f"
             ],
             [
              0.2222222222222222,
              "#7201a8"
             ],
             [
              0.3333333333333333,
              "#9c179e"
             ],
             [
              0.4444444444444444,
              "#bd3786"
             ],
             [
              0.5555555555555556,
              "#d8576b"
             ],
             [
              0.6666666666666666,
              "#ed7953"
             ],
             [
              0.7777777777777778,
              "#fb9f3a"
             ],
             [
              0.8888888888888888,
              "#fdca26"
             ],
             [
              1,
              "#f0f921"
             ]
            ],
            "type": "surface"
           }
          ],
          "table": [
           {
            "cells": {
             "fill": {
              "color": "#EBF0F8"
             },
             "line": {
              "color": "white"
             }
            },
            "header": {
             "fill": {
              "color": "#C8D4E3"
             },
             "line": {
              "color": "white"
             }
            },
            "type": "table"
           }
          ]
         },
         "layout": {
          "annotationdefaults": {
           "arrowcolor": "#2a3f5f",
           "arrowhead": 0,
           "arrowwidth": 1
          },
          "autotypenumbers": "strict",
          "coloraxis": {
           "colorbar": {
            "outlinewidth": 0,
            "ticks": ""
           }
          },
          "colorscale": {
           "diverging": [
            [
             0,
             "#8e0152"
            ],
            [
             0.1,
             "#c51b7d"
            ],
            [
             0.2,
             "#de77ae"
            ],
            [
             0.3,
             "#f1b6da"
            ],
            [
             0.4,
             "#fde0ef"
            ],
            [
             0.5,
             "#f7f7f7"
            ],
            [
             0.6,
             "#e6f5d0"
            ],
            [
             0.7,
             "#b8e186"
            ],
            [
             0.8,
             "#7fbc41"
            ],
            [
             0.9,
             "#4d9221"
            ],
            [
             1,
             "#276419"
            ]
           ],
           "sequential": [
            [
             0,
             "#0d0887"
            ],
            [
             0.1111111111111111,
             "#46039f"
            ],
            [
             0.2222222222222222,
             "#7201a8"
            ],
            [
             0.3333333333333333,
             "#9c179e"
            ],
            [
             0.4444444444444444,
             "#bd3786"
            ],
            [
             0.5555555555555556,
             "#d8576b"
            ],
            [
             0.6666666666666666,
             "#ed7953"
            ],
            [
             0.7777777777777778,
             "#fb9f3a"
            ],
            [
             0.8888888888888888,
             "#fdca26"
            ],
            [
             1,
             "#f0f921"
            ]
           ],
           "sequentialminus": [
            [
             0,
             "#0d0887"
            ],
            [
             0.1111111111111111,
             "#46039f"
            ],
            [
             0.2222222222222222,
             "#7201a8"
            ],
            [
             0.3333333333333333,
             "#9c179e"
            ],
            [
             0.4444444444444444,
             "#bd3786"
            ],
            [
             0.5555555555555556,
             "#d8576b"
            ],
            [
             0.6666666666666666,
             "#ed7953"
            ],
            [
             0.7777777777777778,
             "#fb9f3a"
            ],
            [
             0.8888888888888888,
             "#fdca26"
            ],
            [
             1,
             "#f0f921"
            ]
           ]
          },
          "colorway": [
           "#636efa",
           "#EF553B",
           "#00cc96",
           "#ab63fa",
           "#FFA15A",
           "#19d3f3",
           "#FF6692",
           "#B6E880",
           "#FF97FF",
           "#FECB52"
          ],
          "font": {
           "color": "#2a3f5f"
          },
          "geo": {
           "bgcolor": "white",
           "lakecolor": "white",
           "landcolor": "#E5ECF6",
           "showlakes": true,
           "showland": true,
           "subunitcolor": "white"
          },
          "hoverlabel": {
           "align": "left"
          },
          "hovermode": "closest",
          "mapbox": {
           "style": "light"
          },
          "paper_bgcolor": "white",
          "plot_bgcolor": "#E5ECF6",
          "polar": {
           "angularaxis": {
            "gridcolor": "white",
            "linecolor": "white",
            "ticks": ""
           },
           "bgcolor": "#E5ECF6",
           "radialaxis": {
            "gridcolor": "white",
            "linecolor": "white",
            "ticks": ""
           }
          },
          "scene": {
           "xaxis": {
            "backgroundcolor": "#E5ECF6",
            "gridcolor": "white",
            "gridwidth": 2,
            "linecolor": "white",
            "showbackground": true,
            "ticks": "",
            "zerolinecolor": "white"
           },
           "yaxis": {
            "backgroundcolor": "#E5ECF6",
            "gridcolor": "white",
            "gridwidth": 2,
            "linecolor": "white",
            "showbackground": true,
            "ticks": "",
            "zerolinecolor": "white"
           },
           "zaxis": {
            "backgroundcolor": "#E5ECF6",
            "gridcolor": "white",
            "gridwidth": 2,
            "linecolor": "white",
            "showbackground": true,
            "ticks": "",
            "zerolinecolor": "white"
           }
          },
          "shapedefaults": {
           "line": {
            "color": "#2a3f5f"
           }
          },
          "ternary": {
           "aaxis": {
            "gridcolor": "white",
            "linecolor": "white",
            "ticks": ""
           },
           "baxis": {
            "gridcolor": "white",
            "linecolor": "white",
            "ticks": ""
           },
           "bgcolor": "#E5ECF6",
           "caxis": {
            "gridcolor": "white",
            "linecolor": "white",
            "ticks": ""
           }
          },
          "title": {
           "x": 0.05
          },
          "xaxis": {
           "automargin": true,
           "gridcolor": "white",
           "linecolor": "white",
           "ticks": "",
           "title": {
            "standoff": 15
           },
           "zerolinecolor": "white",
           "zerolinewidth": 2
          },
          "yaxis": {
           "automargin": true,
           "gridcolor": "white",
           "linecolor": "white",
           "ticks": "",
           "title": {
            "standoff": 15
           },
           "zerolinecolor": "white",
           "zerolinewidth": 2
          }
         }
        },
        "xaxis": {
         "anchor": "y",
         "domain": [
          0,
          1
         ],
         "title": {
          "text": "month"
         },
         "type": "category"
        },
        "yaxis": {
         "anchor": "x",
         "domain": [
          0,
          1
         ],
         "title": {
          "text": "Total sales price"
         }
        }
       }
      }
     },
     "metadata": {},
     "output_type": "display_data"
    }
   ],
   "source": [
    "#monthly category trend\n",
    "monthly_cat_df = data.groupby(['month','page1_main_category'])['price'].sum().reset_index()\n",
    "# monthly_cat_df\n",
    "fig = px.bar(\n",
    "    monthly_cat_df,\n",
    "    x = 'month',\n",
    "    y = 'price',\n",
    "    color='page1_main_category',\n",
    "    labels={\n",
    "        \"price\": \"total price\",\n",
    "        \"page1_main_category\" : \"Main Category\"\n",
    "    }\n",
    ")\n",
    "fig.update_layout(\n",
    "    xaxis_title = 'month',\n",
    "    yaxis_title = 'Total sales price',\n",
    "    xaxis = {'type':'category'}\n",
    ")\n",
    "fig.show()"
   ]
  },
  {
   "cell_type": "code",
   "execution_count": null,
   "id": "277aea81",
   "metadata": {},
   "outputs": [],
   "source": [
    "for each category, how many models are there and which model is the key contributer for that category. apd na which model is bough the most."
   ]
  },
  {
   "cell_type": "code",
   "execution_count": 34,
   "id": "3452b6d7",
   "metadata": {},
   "outputs": [],
   "source": [
    "mine_df = data[data['price_2']==2].groupby(['month','page1_main_category', 'page2_clothing_model'])['price'].sum().reset_index()\n"
   ]
  },
  {
   "cell_type": "code",
   "execution_count": 35,
   "id": "a4337ff2",
   "metadata": {},
   "outputs": [
    {
     "data": {
      "text/html": [
       "<div>\n",
       "<style scoped>\n",
       "    .dataframe tbody tr th:only-of-type {\n",
       "        vertical-align: middle;\n",
       "    }\n",
       "\n",
       "    .dataframe tbody tr th {\n",
       "        vertical-align: top;\n",
       "    }\n",
       "\n",
       "    .dataframe thead th {\n",
       "        text-align: right;\n",
       "    }\n",
       "</style>\n",
       "<table border=\"1\" class=\"dataframe\">\n",
       "  <thead>\n",
       "    <tr style=\"text-align: right;\">\n",
       "      <th></th>\n",
       "      <th>month</th>\n",
       "      <th>page1_main_category</th>\n",
       "      <th>page2_clothing_model</th>\n",
       "      <th>price</th>\n",
       "    </tr>\n",
       "  </thead>\n",
       "  <tbody>\n",
       "    <tr>\n",
       "      <th>337</th>\n",
       "      <td>7</td>\n",
       "      <td>1</td>\n",
       "      <td>A2</td>\n",
       "      <td>27520</td>\n",
       "    </tr>\n",
       "    <tr>\n",
       "      <th>8</th>\n",
       "      <td>4</td>\n",
       "      <td>1</td>\n",
       "      <td>A2</td>\n",
       "      <td>27348</td>\n",
       "    </tr>\n",
       "    <tr>\n",
       "      <th>21</th>\n",
       "      <td>4</td>\n",
       "      <td>1</td>\n",
       "      <td>A4</td>\n",
       "      <td>23066</td>\n",
       "    </tr>\n",
       "    <tr>\n",
       "      <th>25</th>\n",
       "      <td>4</td>\n",
       "      <td>1</td>\n",
       "      <td>A5</td>\n",
       "      <td>22059</td>\n",
       "    </tr>\n",
       "    <tr>\n",
       "      <th>354</th>\n",
       "      <td>7</td>\n",
       "      <td>1</td>\n",
       "      <td>A5</td>\n",
       "      <td>21586</td>\n",
       "    </tr>\n",
       "  </tbody>\n",
       "</table>\n",
       "</div>"
      ],
      "text/plain": [
       "     month  page1_main_category page2_clothing_model  price\n",
       "337      7                    1                   A2  27520\n",
       "8        4                    1                   A2  27348\n",
       "21       4                    1                   A4  23066\n",
       "25       4                    1                   A5  22059\n",
       "354      7                    1                   A5  21586"
      ]
     },
     "execution_count": 35,
     "metadata": {},
     "output_type": "execute_result"
    }
   ],
   "source": [
    "mine_df.sort_values(by = 'price', ascending = False, inplace= True)\n",
    "mine_df.head()"
   ]
  },
  {
   "cell_type": "code",
   "execution_count": 38,
   "id": "253b810b",
   "metadata": {},
   "outputs": [
    {
     "data": {
      "application/vnd.plotly.v1+json": {
       "config": {
        "plotlyServerURL": "https://plot.ly"
       },
       "data": [
        {
         "hovertemplate": "page2_clothing_model=A2<br>month=7<br>Main Category=%{x}<br>Total Price=%{y}<extra></extra>",
         "ids": {
          "bdata": "AQ==",
          "dtype": "i1"
         },
         "legendgroup": "A2",
         "marker": {
          "color": "#636efa",
          "pattern": {
           "shape": ""
          }
         },
         "name": "A2",
         "orientation": "v",
         "showlegend": true,
         "textposition": "auto",
         "type": "bar",
         "x": {
          "bdata": "AQ==",
          "dtype": "i1"
         },
         "xaxis": "x",
         "y": {
          "bdata": "gGs=",
          "dtype": "i2"
         },
         "yaxis": "y"
        },
        {
         "hovertemplate": "page2_clothing_model=A4<br>month=7<br>Main Category=%{x}<br>Total Price=%{y}<extra></extra>",
         "ids": {
          "bdata": "AQ==",
          "dtype": "i1"
         },
         "legendgroup": "A4",
         "marker": {
          "color": "#EF553B",
          "pattern": {
           "shape": ""
          }
         },
         "name": "A4",
         "orientation": "v",
         "showlegend": true,
         "textposition": "auto",
         "type": "bar",
         "x": {
          "bdata": "AQ==",
          "dtype": "i1"
         },
         "xaxis": "x",
         "y": {
          "bdata": "ljU=",
          "dtype": "i2"
         },
         "yaxis": "y"
        },
        {
         "hovertemplate": "page2_clothing_model=A5<br>month=7<br>Main Category=%{x}<br>Total Price=%{y}<extra></extra>",
         "ids": {
          "bdata": "AQ==",
          "dtype": "i1"
         },
         "legendgroup": "A5",
         "marker": {
          "color": "#00cc96",
          "pattern": {
           "shape": ""
          }
         },
         "name": "A5",
         "orientation": "v",
         "showlegend": true,
         "textposition": "auto",
         "type": "bar",
         "x": {
          "bdata": "AQ==",
          "dtype": "i1"
         },
         "xaxis": "x",
         "y": {
          "bdata": "UlQ=",
          "dtype": "i2"
         },
         "yaxis": "y"
        },
        {
         "hovertemplate": "page2_clothing_model=A15<br>month=7<br>Main Category=%{x}<br>Total Price=%{y}<extra></extra>",
         "ids": {
          "bdata": "AQ==",
          "dtype": "i1"
         },
         "legendgroup": "A15",
         "marker": {
          "color": "#ab63fa",
          "pattern": {
           "shape": ""
          }
         },
         "name": "A15",
         "orientation": "v",
         "showlegend": true,
         "textposition": "auto",
         "type": "bar",
         "x": {
          "bdata": "AQ==",
          "dtype": "i1"
         },
         "xaxis": "x",
         "y": {
          "bdata": "5Sk=",
          "dtype": "i2"
         },
         "yaxis": "y"
        },
        {
         "hovertemplate": "page2_clothing_model=A10<br>month=7<br>Main Category=%{x}<br>Total Price=%{y}<extra></extra>",
         "ids": {
          "bdata": "AQ==",
          "dtype": "i1"
         },
         "legendgroup": "A10",
         "marker": {
          "color": "#FFA15A",
          "pattern": {
           "shape": ""
          }
         },
         "name": "A10",
         "orientation": "v",
         "showlegend": true,
         "textposition": "auto",
         "type": "bar",
         "x": {
          "bdata": "AQ==",
          "dtype": "i1"
         },
         "xaxis": "x",
         "y": {
          "bdata": "nEE=",
          "dtype": "i2"
         },
         "yaxis": "y"
        },
        {
         "hovertemplate": "page2_clothing_model=A6<br>month=7<br>Main Category=%{x}<br>Total Price=%{y}<extra></extra>",
         "ids": {
          "bdata": "AQ==",
          "dtype": "i1"
         },
         "legendgroup": "A6",
         "marker": {
          "color": "#19d3f3",
          "pattern": {
           "shape": ""
          }
         },
         "name": "A6",
         "orientation": "v",
         "showlegend": true,
         "textposition": "auto",
         "type": "bar",
         "x": {
          "bdata": "AQ==",
          "dtype": "i1"
         },
         "xaxis": "x",
         "y": {
          "bdata": "dDo=",
          "dtype": "i2"
         },
         "yaxis": "y"
        },
        {
         "hovertemplate": "page2_clothing_model=A12<br>month=7<br>Main Category=%{x}<br>Total Price=%{y}<extra></extra>",
         "ids": {
          "bdata": "AQ==",
          "dtype": "i1"
         },
         "legendgroup": "A12",
         "marker": {
          "color": "#FF6692",
          "pattern": {
           "shape": ""
          }
         },
         "name": "A12",
         "orientation": "v",
         "showlegend": true,
         "textposition": "auto",
         "type": "bar",
         "x": {
          "bdata": "AQ==",
          "dtype": "i1"
         },
         "xaxis": "x",
         "y": {
          "bdata": "cjk=",
          "dtype": "i2"
         },
         "yaxis": "y"
        },
        {
         "hovertemplate": "page2_clothing_model=A7<br>month=7<br>Main Category=%{x}<br>Total Price=%{y}<extra></extra>",
         "ids": {
          "bdata": "AQ==",
          "dtype": "i1"
         },
         "legendgroup": "A7",
         "marker": {
          "color": "#B6E880",
          "pattern": {
           "shape": ""
          }
         },
         "name": "A7",
         "orientation": "v",
         "showlegend": true,
         "textposition": "auto",
         "type": "bar",
         "x": {
          "bdata": "AQ==",
          "dtype": "i1"
         },
         "xaxis": "x",
         "y": {
          "bdata": "6zU=",
          "dtype": "i2"
         },
         "yaxis": "y"
        },
        {
         "hovertemplate": "page2_clothing_model=A1<br>month=7<br>Main Category=%{x}<br>Total Price=%{y}<extra></extra>",
         "ids": {
          "bdata": "AQ==",
          "dtype": "i1"
         },
         "legendgroup": "A1",
         "marker": {
          "color": "#FF97FF",
          "pattern": {
           "shape": ""
          }
         },
         "name": "A1",
         "orientation": "v",
         "showlegend": true,
         "textposition": "auto",
         "type": "bar",
         "x": {
          "bdata": "AQ==",
          "dtype": "i1"
         },
         "xaxis": "x",
         "y": {
          "bdata": "EDQ=",
          "dtype": "i2"
         },
         "yaxis": "y"
        },
        {
         "hovertemplate": "page2_clothing_model=B11<br>month=7<br>Main Category=%{x}<br>Total Price=%{y}<extra></extra>",
         "ids": {
          "bdata": "Ag==",
          "dtype": "i1"
         },
         "legendgroup": "B11",
         "marker": {
          "color": "#FECB52",
          "pattern": {
           "shape": ""
          }
         },
         "name": "B11",
         "orientation": "v",
         "showlegend": true,
         "textposition": "auto",
         "type": "bar",
         "x": {
          "bdata": "Ag==",
          "dtype": "i1"
         },
         "xaxis": "x",
         "y": {
          "bdata": "YDA=",
          "dtype": "i2"
         },
         "yaxis": "y"
        },
        {
         "hovertemplate": "page2_clothing_model=B15<br>month=7<br>Main Category=%{x}<br>Total Price=%{y}<extra></extra>",
         "ids": {
          "bdata": "Ag==",
          "dtype": "i1"
         },
         "legendgroup": "B15",
         "marker": {
          "color": "#636efa",
          "pattern": {
           "shape": ""
          }
         },
         "name": "B15",
         "orientation": "v",
         "showlegend": true,
         "textposition": "auto",
         "type": "bar",
         "x": {
          "bdata": "Ag==",
          "dtype": "i1"
         },
         "xaxis": "x",
         "y": {
          "bdata": "Ih4=",
          "dtype": "i2"
         },
         "yaxis": "y"
        },
        {
         "hovertemplate": "page2_clothing_model=B32<br>month=7<br>Main Category=%{x}<br>Total Price=%{y}<extra></extra>",
         "ids": {
          "bdata": "Ag==",
          "dtype": "i1"
         },
         "legendgroup": "B32",
         "marker": {
          "color": "#EF553B",
          "pattern": {
           "shape": ""
          }
         },
         "name": "B32",
         "orientation": "v",
         "showlegend": true,
         "textposition": "auto",
         "type": "bar",
         "x": {
          "bdata": "Ag==",
          "dtype": "i1"
         },
         "xaxis": "x",
         "y": {
          "bdata": "bBo=",
          "dtype": "i2"
         },
         "yaxis": "y"
        },
        {
         "hovertemplate": "page2_clothing_model=P16<br>month=7<br>Main Category=%{x}<br>Total Price=%{y}<extra></extra>",
         "ids": {
          "bdata": "BA==",
          "dtype": "i1"
         },
         "legendgroup": "P16",
         "marker": {
          "color": "#00cc96",
          "pattern": {
           "shape": ""
          }
         },
         "name": "P16",
         "orientation": "v",
         "showlegend": true,
         "textposition": "auto",
         "type": "bar",
         "x": {
          "bdata": "BA==",
          "dtype": "i1"
         },
         "xaxis": "x",
         "y": {
          "bdata": "Gxg=",
          "dtype": "i2"
         },
         "yaxis": "y"
        },
        {
         "hovertemplate": "page2_clothing_model=B23<br>month=7<br>Main Category=%{x}<br>Total Price=%{y}<extra></extra>",
         "ids": {
          "bdata": "Ag==",
          "dtype": "i1"
         },
         "legendgroup": "B23",
         "marker": {
          "color": "#ab63fa",
          "pattern": {
           "shape": ""
          }
         },
         "name": "B23",
         "orientation": "v",
         "showlegend": true,
         "textposition": "auto",
         "type": "bar",
         "x": {
          "bdata": "Ag==",
          "dtype": "i1"
         },
         "xaxis": "x",
         "y": {
          "bdata": "UBs=",
          "dtype": "i2"
         },
         "yaxis": "y"
        },
        {
         "hovertemplate": "page2_clothing_model=B17<br>month=7<br>Main Category=%{x}<br>Total Price=%{y}<extra></extra>",
         "ids": {
          "bdata": "Ag==",
          "dtype": "i1"
         },
         "legendgroup": "B17",
         "marker": {
          "color": "#FFA15A",
          "pattern": {
           "shape": ""
          }
         },
         "name": "B17",
         "orientation": "v",
         "showlegend": true,
         "textposition": "auto",
         "type": "bar",
         "x": {
          "bdata": "Ag==",
          "dtype": "i1"
         },
         "xaxis": "x",
         "y": {
          "bdata": "Uh8=",
          "dtype": "i2"
         },
         "yaxis": "y"
        },
        {
         "hovertemplate": "page2_clothing_model=B12<br>month=7<br>Main Category=%{x}<br>Total Price=%{y}<extra></extra>",
         "ids": {
          "bdata": "Ag==",
          "dtype": "i1"
         },
         "legendgroup": "B12",
         "marker": {
          "color": "#19d3f3",
          "pattern": {
           "shape": ""
          }
         },
         "name": "B12",
         "orientation": "v",
         "showlegend": true,
         "textposition": "auto",
         "type": "bar",
         "x": {
          "bdata": "Ag==",
          "dtype": "i1"
         },
         "xaxis": "x",
         "y": {
          "bdata": "0CQ=",
          "dtype": "i2"
         },
         "yaxis": "y"
        },
        {
         "hovertemplate": "page2_clothing_model=A16<br>month=7<br>Main Category=%{x}<br>Total Price=%{y}<extra></extra>",
         "ids": {
          "bdata": "AQ==",
          "dtype": "i1"
         },
         "legendgroup": "A16",
         "marker": {
          "color": "#FF6692",
          "pattern": {
           "shape": ""
          }
         },
         "name": "A16",
         "orientation": "v",
         "showlegend": true,
         "textposition": "auto",
         "type": "bar",
         "x": {
          "bdata": "AQ==",
          "dtype": "i1"
         },
         "xaxis": "x",
         "y": {
          "bdata": "XRg=",
          "dtype": "i2"
         },
         "yaxis": "y"
        },
        {
         "hovertemplate": "page2_clothing_model=B9<br>month=7<br>Main Category=%{x}<br>Total Price=%{y}<extra></extra>",
         "ids": {
          "bdata": "Ag==",
          "dtype": "i1"
         },
         "legendgroup": "B9",
         "marker": {
          "color": "#B6E880",
          "pattern": {
           "shape": ""
          }
         },
         "name": "B9",
         "orientation": "v",
         "showlegend": true,
         "textposition": "auto",
         "type": "bar",
         "x": {
          "bdata": "Ag==",
          "dtype": "i1"
         },
         "xaxis": "x",
         "y": {
          "bdata": "cBc=",
          "dtype": "i2"
         },
         "yaxis": "y"
        },
        {
         "hovertemplate": "page2_clothing_model=A13<br>month=7<br>Main Category=%{x}<br>Total Price=%{y}<extra></extra>",
         "ids": {
          "bdata": "AQ==",
          "dtype": "i1"
         },
         "legendgroup": "A13",
         "marker": {
          "color": "#FF97FF",
          "pattern": {
           "shape": ""
          }
         },
         "name": "A13",
         "orientation": "v",
         "showlegend": true,
         "textposition": "auto",
         "type": "bar",
         "x": {
          "bdata": "AQ==",
          "dtype": "i1"
         },
         "xaxis": "x",
         "y": {
          "bdata": "TB4=",
          "dtype": "i2"
         },
         "yaxis": "y"
        },
        {
         "hovertemplate": "page2_clothing_model=B19<br>month=7<br>Main Category=%{x}<br>Total Price=%{y}<extra></extra>",
         "ids": {
          "bdata": "Ag==",
          "dtype": "i1"
         },
         "legendgroup": "B19",
         "marker": {
          "color": "#FECB52",
          "pattern": {
           "shape": ""
          }
         },
         "name": "B19",
         "orientation": "v",
         "showlegend": true,
         "textposition": "auto",
         "type": "bar",
         "x": {
          "bdata": "Ag==",
          "dtype": "i1"
         },
         "xaxis": "x",
         "y": {
          "bdata": "MBQ=",
          "dtype": "i2"
         },
         "yaxis": "y"
        },
        {
         "hovertemplate": "page2_clothing_model=A33<br>month=7<br>Main Category=%{x}<br>Total Price=%{y}<extra></extra>",
         "ids": {
          "bdata": "AQ==",
          "dtype": "i1"
         },
         "legendgroup": "A33",
         "marker": {
          "color": "#636efa",
          "pattern": {
           "shape": ""
          }
         },
         "name": "A33",
         "orientation": "v",
         "showlegend": true,
         "textposition": "auto",
         "type": "bar",
         "x": {
          "bdata": "AQ==",
          "dtype": "i1"
         },
         "xaxis": "x",
         "y": {
          "bdata": "ngw=",
          "dtype": "i2"
         },
         "yaxis": "y"
        },
        {
         "hovertemplate": "page2_clothing_model=P12<br>month=7<br>Main Category=%{x}<br>Total Price=%{y}<extra></extra>",
         "ids": {
          "bdata": "BA==",
          "dtype": "i1"
         },
         "legendgroup": "P12",
         "marker": {
          "color": "#EF553B",
          "pattern": {
           "shape": ""
          }
         },
         "name": "P12",
         "orientation": "v",
         "showlegend": true,
         "textposition": "auto",
         "type": "bar",
         "x": {
          "bdata": "BA==",
          "dtype": "i1"
         },
         "xaxis": "x",
         "y": {
          "bdata": "fxQ=",
          "dtype": "i2"
         },
         "yaxis": "y"
        },
        {
         "hovertemplate": "page2_clothing_model=A41<br>month=7<br>Main Category=%{x}<br>Total Price=%{y}<extra></extra>",
         "ids": {
          "bdata": "AQ==",
          "dtype": "i1"
         },
         "legendgroup": "A41",
         "marker": {
          "color": "#00cc96",
          "pattern": {
           "shape": ""
          }
         },
         "name": "A41",
         "orientation": "v",
         "showlegend": true,
         "textposition": "auto",
         "type": "bar",
         "x": {
          "bdata": "AQ==",
          "dtype": "i1"
         },
         "xaxis": "x",
         "y": {
          "bdata": "Gg0=",
          "dtype": "i2"
         },
         "yaxis": "y"
        },
        {
         "hovertemplate": "page2_clothing_model=C1<br>month=7<br>Main Category=%{x}<br>Total Price=%{y}<extra></extra>",
         "ids": {
          "bdata": "Aw==",
          "dtype": "i1"
         },
         "legendgroup": "C1",
         "marker": {
          "color": "#ab63fa",
          "pattern": {
           "shape": ""
          }
         },
         "name": "C1",
         "orientation": "v",
         "showlegend": true,
         "textposition": "auto",
         "type": "bar",
         "x": {
          "bdata": "Aw==",
          "dtype": "i1"
         },
         "xaxis": "x",
         "y": {
          "bdata": "7BI=",
          "dtype": "i2"
         },
         "yaxis": "y"
        },
        {
         "hovertemplate": "page2_clothing_model=A18<br>month=7<br>Main Category=%{x}<br>Total Price=%{y}<extra></extra>",
         "ids": {
          "bdata": "AQ==",
          "dtype": "i1"
         },
         "legendgroup": "A18",
         "marker": {
          "color": "#FFA15A",
          "pattern": {
           "shape": ""
          }
         },
         "name": "A18",
         "orientation": "v",
         "showlegend": true,
         "textposition": "auto",
         "type": "bar",
         "x": {
          "bdata": "AQ==",
          "dtype": "i1"
         },
         "xaxis": "x",
         "y": {
          "bdata": "bBo=",
          "dtype": "i2"
         },
         "yaxis": "y"
        },
        {
         "hovertemplate": "page2_clothing_model=B34<br>month=7<br>Main Category=%{x}<br>Total Price=%{y}<extra></extra>",
         "ids": {
          "bdata": "Ag==",
          "dtype": "i1"
         },
         "legendgroup": "B34",
         "marker": {
          "color": "#19d3f3",
          "pattern": {
           "shape": ""
          }
         },
         "name": "B34",
         "orientation": "v",
         "showlegend": true,
         "textposition": "auto",
         "type": "bar",
         "x": {
          "bdata": "Ag==",
          "dtype": "i1"
         },
         "xaxis": "x",
         "y": {
          "bdata": "MBI=",
          "dtype": "i2"
         },
         "yaxis": "y"
        },
        {
         "hovertemplate": "page2_clothing_model=A30<br>month=7<br>Main Category=%{x}<br>Total Price=%{y}<extra></extra>",
         "ids": {
          "bdata": "AQ==",
          "dtype": "i1"
         },
         "legendgroup": "A30",
         "marker": {
          "color": "#FF6692",
          "pattern": {
           "shape": ""
          }
         },
         "name": "A30",
         "orientation": "v",
         "showlegend": true,
         "textposition": "auto",
         "type": "bar",
         "x": {
          "bdata": "AQ==",
          "dtype": "i1"
         },
         "xaxis": "x",
         "y": {
          "bdata": "vA8=",
          "dtype": "i2"
         },
         "yaxis": "y"
        },
        {
         "hovertemplate": "page2_clothing_model=C40<br>month=7<br>Main Category=%{x}<br>Total Price=%{y}<extra></extra>",
         "ids": {
          "bdata": "Aw==",
          "dtype": "i1"
         },
         "legendgroup": "C40",
         "marker": {
          "color": "#B6E880",
          "pattern": {
           "shape": ""
          }
         },
         "name": "C40",
         "orientation": "v",
         "showlegend": true,
         "textposition": "auto",
         "type": "bar",
         "x": {
          "bdata": "Aw==",
          "dtype": "i1"
         },
         "xaxis": "x",
         "y": {
          "bdata": "kBQ=",
          "dtype": "i2"
         },
         "yaxis": "y"
        },
        {
         "hovertemplate": "page2_clothing_model=P48<br>month=7<br>Main Category=%{x}<br>Total Price=%{y}<extra></extra>",
         "ids": {
          "bdata": "BA==",
          "dtype": "i1"
         },
         "legendgroup": "P48",
         "marker": {
          "color": "#FF97FF",
          "pattern": {
           "shape": ""
          }
         },
         "name": "P48",
         "orientation": "v",
         "showlegend": true,
         "textposition": "auto",
         "type": "bar",
         "x": {
          "bdata": "BA==",
          "dtype": "i1"
         },
         "xaxis": "x",
         "y": {
          "bdata": "sg4=",
          "dtype": "i2"
         },
         "yaxis": "y"
        },
        {
         "hovertemplate": "page2_clothing_model=C14<br>month=7<br>Main Category=%{x}<br>Total Price=%{y}<extra></extra>",
         "ids": {
          "bdata": "Aw==",
          "dtype": "i1"
         },
         "legendgroup": "C14",
         "marker": {
          "color": "#FECB52",
          "pattern": {
           "shape": ""
          }
         },
         "name": "C14",
         "orientation": "v",
         "showlegend": true,
         "textposition": "auto",
         "type": "bar",
         "x": {
          "bdata": "Aw==",
          "dtype": "i1"
         },
         "xaxis": "x",
         "y": {
          "bdata": "dw4=",
          "dtype": "i2"
         },
         "yaxis": "y"
        },
        {
         "hovertemplate": "page2_clothing_model=P2<br>month=7<br>Main Category=%{x}<br>Total Price=%{y}<extra></extra>",
         "ids": {
          "bdata": "BA==",
          "dtype": "i1"
         },
         "legendgroup": "P2",
         "marker": {
          "color": "#636efa",
          "pattern": {
           "shape": ""
          }
         },
         "name": "P2",
         "orientation": "v",
         "showlegend": true,
         "textposition": "auto",
         "type": "bar",
         "x": {
          "bdata": "BA==",
          "dtype": "i1"
         },
         "xaxis": "x",
         "y": {
          "bdata": "EBg=",
          "dtype": "i2"
         },
         "yaxis": "y"
        },
        {
         "hovertemplate": "page2_clothing_model=A32<br>month=7<br>Main Category=%{x}<br>Total Price=%{y}<extra></extra>",
         "ids": {
          "bdata": "AQ==",
          "dtype": "i1"
         },
         "legendgroup": "A32",
         "marker": {
          "color": "#EF553B",
          "pattern": {
           "shape": ""
          }
         },
         "name": "A32",
         "orientation": "v",
         "showlegend": true,
         "textposition": "auto",
         "type": "bar",
         "x": {
          "bdata": "AQ==",
          "dtype": "i1"
         },
         "xaxis": "x",
         "y": {
          "bdata": "ehA=",
          "dtype": "i2"
         },
         "yaxis": "y"
        },
        {
         "hovertemplate": "page2_clothing_model=C6<br>month=7<br>Main Category=%{x}<br>Total Price=%{y}<extra></extra>",
         "ids": {
          "bdata": "Aw==",
          "dtype": "i1"
         },
         "legendgroup": "C6",
         "marker": {
          "color": "#00cc96",
          "pattern": {
           "shape": ""
          }
         },
         "name": "C6",
         "orientation": "v",
         "showlegend": true,
         "textposition": "auto",
         "type": "bar",
         "x": {
          "bdata": "Aw==",
          "dtype": "i1"
         },
         "xaxis": "x",
         "y": {
          "bdata": "iQ0=",
          "dtype": "i2"
         },
         "yaxis": "y"
        },
        {
         "hovertemplate": "page2_clothing_model=C53<br>month=7<br>Main Category=%{x}<br>Total Price=%{y}<extra></extra>",
         "ids": {
          "bdata": "Aw==",
          "dtype": "i1"
         },
         "legendgroup": "C53",
         "marker": {
          "color": "#ab63fa",
          "pattern": {
           "shape": ""
          }
         },
         "name": "C53",
         "orientation": "v",
         "showlegend": true,
         "textposition": "auto",
         "type": "bar",
         "x": {
          "bdata": "Aw==",
          "dtype": "i1"
         },
         "xaxis": "x",
         "y": {
          "bdata": "lg8=",
          "dtype": "i2"
         },
         "yaxis": "y"
        },
        {
         "hovertemplate": "page2_clothing_model=C57<br>month=7<br>Main Category=%{x}<br>Total Price=%{y}<extra></extra>",
         "ids": {
          "bdata": "Aw==",
          "dtype": "i1"
         },
         "legendgroup": "C57",
         "marker": {
          "color": "#FFA15A",
          "pattern": {
           "shape": ""
          }
         },
         "name": "C57",
         "orientation": "v",
         "showlegend": true,
         "textposition": "auto",
         "type": "bar",
         "x": {
          "bdata": "Aw==",
          "dtype": "i1"
         },
         "xaxis": "x",
         "y": {
          "bdata": "+hc=",
          "dtype": "i2"
         },
         "yaxis": "y"
        },
        {
         "hovertemplate": "page2_clothing_model=C11<br>month=7<br>Main Category=%{x}<br>Total Price=%{y}<extra></extra>",
         "ids": {
          "bdata": "Aw==",
          "dtype": "i1"
         },
         "legendgroup": "C11",
         "marker": {
          "color": "#19d3f3",
          "pattern": {
           "shape": ""
          }
         },
         "name": "C11",
         "orientation": "v",
         "showlegend": true,
         "textposition": "auto",
         "type": "bar",
         "x": {
          "bdata": "Aw==",
          "dtype": "i1"
         },
         "xaxis": "x",
         "y": {
          "bdata": "LRI=",
          "dtype": "i2"
         },
         "yaxis": "y"
        },
        {
         "hovertemplate": "page2_clothing_model=B25<br>month=7<br>Main Category=%{x}<br>Total Price=%{y}<extra></extra>",
         "ids": {
          "bdata": "Ag==",
          "dtype": "i1"
         },
         "legendgroup": "B25",
         "marker": {
          "color": "#FF6692",
          "pattern": {
           "shape": ""
          }
         },
         "name": "B25",
         "orientation": "v",
         "showlegend": true,
         "textposition": "auto",
         "type": "bar",
         "x": {
          "bdata": "Ag==",
          "dtype": "i1"
         },
         "xaxis": "x",
         "y": {
          "bdata": "4g8=",
          "dtype": "i2"
         },
         "yaxis": "y"
        },
        {
         "hovertemplate": "page2_clothing_model=A28<br>month=7<br>Main Category=%{x}<br>Total Price=%{y}<extra></extra>",
         "ids": {
          "bdata": "AQ==",
          "dtype": "i1"
         },
         "legendgroup": "A28",
         "marker": {
          "color": "#B6E880",
          "pattern": {
           "shape": ""
          }
         },
         "name": "A28",
         "orientation": "v",
         "showlegend": true,
         "textposition": "auto",
         "type": "bar",
         "x": {
          "bdata": "AQ==",
          "dtype": "i1"
         },
         "xaxis": "x",
         "y": {
          "bdata": "5Qc=",
          "dtype": "i2"
         },
         "yaxis": "y"
        },
        {
         "hovertemplate": "page2_clothing_model=A20<br>month=7<br>Main Category=%{x}<br>Total Price=%{y}<extra></extra>",
         "ids": {
          "bdata": "AQ==",
          "dtype": "i1"
         },
         "legendgroup": "A20",
         "marker": {
          "color": "#FF97FF",
          "pattern": {
           "shape": ""
          }
         },
         "name": "A20",
         "orientation": "v",
         "showlegend": true,
         "textposition": "auto",
         "type": "bar",
         "x": {
          "bdata": "AQ==",
          "dtype": "i1"
         },
         "xaxis": "x",
         "y": {
          "bdata": "6gw=",
          "dtype": "i2"
         },
         "yaxis": "y"
        },
        {
         "hovertemplate": "page2_clothing_model=P23<br>month=7<br>Main Category=%{x}<br>Total Price=%{y}<extra></extra>",
         "ids": {
          "bdata": "BA==",
          "dtype": "i1"
         },
         "legendgroup": "P23",
         "marker": {
          "color": "#FECB52",
          "pattern": {
           "shape": ""
          }
         },
         "name": "P23",
         "orientation": "v",
         "showlegend": true,
         "textposition": "auto",
         "type": "bar",
         "x": {
          "bdata": "BA==",
          "dtype": "i1"
         },
         "xaxis": "x",
         "y": {
          "bdata": "YBI=",
          "dtype": "i2"
         },
         "yaxis": "y"
        },
        {
         "hovertemplate": "page2_clothing_model=A34<br>month=7<br>Main Category=%{x}<br>Total Price=%{y}<extra></extra>",
         "ids": {
          "bdata": "AQ==",
          "dtype": "i1"
         },
         "legendgroup": "A34",
         "marker": {
          "color": "#636efa",
          "pattern": {
           "shape": ""
          }
         },
         "name": "A34",
         "orientation": "v",
         "showlegend": true,
         "textposition": "auto",
         "type": "bar",
         "x": {
          "bdata": "AQ==",
          "dtype": "i1"
         },
         "xaxis": "x",
         "y": {
          "bdata": "4g8=",
          "dtype": "i2"
         },
         "yaxis": "y"
        },
        {
         "hovertemplate": "page2_clothing_model=C41<br>month=7<br>Main Category=%{x}<br>Total Price=%{y}<extra></extra>",
         "ids": {
          "bdata": "Aw==",
          "dtype": "i1"
         },
         "legendgroup": "C41",
         "marker": {
          "color": "#EF553B",
          "pattern": {
           "shape": ""
          }
         },
         "name": "C41",
         "orientation": "v",
         "showlegend": true,
         "textposition": "auto",
         "type": "bar",
         "x": {
          "bdata": "Aw==",
          "dtype": "i1"
         },
         "xaxis": "x",
         "y": {
          "bdata": "fAs=",
          "dtype": "i2"
         },
         "yaxis": "y"
        },
        {
         "hovertemplate": "page2_clothing_model=P49<br>month=7<br>Main Category=%{x}<br>Total Price=%{y}<extra></extra>",
         "ids": {
          "bdata": "BA==",
          "dtype": "i1"
         },
         "legendgroup": "P49",
         "marker": {
          "color": "#00cc96",
          "pattern": {
           "shape": ""
          }
         },
         "name": "P49",
         "orientation": "v",
         "showlegend": true,
         "textposition": "auto",
         "type": "bar",
         "x": {
          "bdata": "BA==",
          "dtype": "i1"
         },
         "xaxis": "x",
         "y": {
          "bdata": "Fgs=",
          "dtype": "i2"
         },
         "yaxis": "y"
        },
        {
         "hovertemplate": "page2_clothing_model=C49<br>month=7<br>Main Category=%{x}<br>Total Price=%{y}<extra></extra>",
         "ids": {
          "bdata": "Aw==",
          "dtype": "i1"
         },
         "legendgroup": "C49",
         "marker": {
          "color": "#ab63fa",
          "pattern": {
           "shape": ""
          }
         },
         "name": "C49",
         "orientation": "v",
         "showlegend": true,
         "textposition": "auto",
         "type": "bar",
         "x": {
          "bdata": "Aw==",
          "dtype": "i1"
         },
         "xaxis": "x",
         "y": {
          "bdata": "ug4=",
          "dtype": "i2"
         },
         "yaxis": "y"
        },
        {
         "hovertemplate": "page2_clothing_model=C30<br>month=7<br>Main Category=%{x}<br>Total Price=%{y}<extra></extra>",
         "ids": {
          "bdata": "Aw==",
          "dtype": "i1"
         },
         "legendgroup": "C30",
         "marker": {
          "color": "#FFA15A",
          "pattern": {
           "shape": ""
          }
         },
         "name": "C30",
         "orientation": "v",
         "showlegend": true,
         "textposition": "auto",
         "type": "bar",
         "x": {
          "bdata": "Aw==",
          "dtype": "i1"
         },
         "xaxis": "x",
         "y": {
          "bdata": "vBA=",
          "dtype": "i2"
         },
         "yaxis": "y"
        },
        {
         "hovertemplate": "page2_clothing_model=C10<br>month=7<br>Main Category=%{x}<br>Total Price=%{y}<extra></extra>",
         "ids": {
          "bdata": "Aw==",
          "dtype": "i1"
         },
         "legendgroup": "C10",
         "marker": {
          "color": "#19d3f3",
          "pattern": {
           "shape": ""
          }
         },
         "name": "C10",
         "orientation": "v",
         "showlegend": true,
         "textposition": "auto",
         "type": "bar",
         "x": {
          "bdata": "Aw==",
          "dtype": "i1"
         },
         "xaxis": "x",
         "y": {
          "bdata": "oAk=",
          "dtype": "i2"
         },
         "yaxis": "y"
        },
        {
         "hovertemplate": "page2_clothing_model=P50<br>month=7<br>Main Category=%{x}<br>Total Price=%{y}<extra></extra>",
         "ids": {
          "bdata": "BA==",
          "dtype": "i1"
         },
         "legendgroup": "P50",
         "marker": {
          "color": "#FF6692",
          "pattern": {
           "shape": ""
          }
         },
         "name": "P50",
         "orientation": "v",
         "showlegend": true,
         "textposition": "auto",
         "type": "bar",
         "x": {
          "bdata": "BA==",
          "dtype": "i1"
         },
         "xaxis": "x",
         "y": {
          "bdata": "igk=",
          "dtype": "i2"
         },
         "yaxis": "y"
        },
        {
         "hovertemplate": "page2_clothing_model=A42<br>month=7<br>Main Category=%{x}<br>Total Price=%{y}<extra></extra>",
         "ids": {
          "bdata": "AQ==",
          "dtype": "i1"
         },
         "legendgroup": "A42",
         "marker": {
          "color": "#B6E880",
          "pattern": {
           "shape": ""
          }
         },
         "name": "A42",
         "orientation": "v",
         "showlegend": true,
         "textposition": "auto",
         "type": "bar",
         "x": {
          "bdata": "AQ==",
          "dtype": "i1"
         },
         "xaxis": "x",
         "y": {
          "bdata": "dA0=",
          "dtype": "i2"
         },
         "yaxis": "y"
        },
        {
         "hovertemplate": "page2_clothing_model=P5<br>month=7<br>Main Category=%{x}<br>Total Price=%{y}<extra></extra>",
         "ids": {
          "bdata": "BA==",
          "dtype": "i1"
         },
         "legendgroup": "P5",
         "marker": {
          "color": "#FF97FF",
          "pattern": {
           "shape": ""
          }
         },
         "name": "P5",
         "orientation": "v",
         "showlegend": true,
         "textposition": "auto",
         "type": "bar",
         "x": {
          "bdata": "BA==",
          "dtype": "i1"
         },
         "xaxis": "x",
         "y": {
          "bdata": "sQo=",
          "dtype": "i2"
         },
         "yaxis": "y"
        },
        {
         "hovertemplate": "page2_clothing_model=P8<br>month=7<br>Main Category=%{x}<br>Total Price=%{y}<extra></extra>",
         "ids": {
          "bdata": "BA==",
          "dtype": "i1"
         },
         "legendgroup": "P8",
         "marker": {
          "color": "#FECB52",
          "pattern": {
           "shape": ""
          }
         },
         "name": "P8",
         "orientation": "v",
         "showlegend": true,
         "textposition": "auto",
         "type": "bar",
         "x": {
          "bdata": "BA==",
          "dtype": "i1"
         },
         "xaxis": "x",
         "y": {
          "bdata": "IA0=",
          "dtype": "i2"
         },
         "yaxis": "y"
        },
        {
         "hovertemplate": "page2_clothing_model=A26<br>month=7<br>Main Category=%{x}<br>Total Price=%{y}<extra></extra>",
         "ids": {
          "bdata": "AQ==",
          "dtype": "i1"
         },
         "legendgroup": "A26",
         "marker": {
          "color": "#636efa",
          "pattern": {
           "shape": ""
          }
         },
         "name": "A26",
         "orientation": "v",
         "showlegend": true,
         "textposition": "auto",
         "type": "bar",
         "x": {
          "bdata": "AQ==",
          "dtype": "i1"
         },
         "xaxis": "x",
         "y": {
          "bdata": "1AY=",
          "dtype": "i2"
         },
         "yaxis": "y"
        },
        {
         "hovertemplate": "page2_clothing_model=P60<br>month=7<br>Main Category=%{x}<br>Total Price=%{y}<extra></extra>",
         "ids": {
          "bdata": "BA==",
          "dtype": "i1"
         },
         "legendgroup": "P60",
         "marker": {
          "color": "#EF553B",
          "pattern": {
           "shape": ""
          }
         },
         "name": "P60",
         "orientation": "v",
         "showlegend": true,
         "textposition": "auto",
         "type": "bar",
         "x": {
          "bdata": "BA==",
          "dtype": "i1"
         },
         "xaxis": "x",
         "y": {
          "bdata": "HAc=",
          "dtype": "i2"
         },
         "yaxis": "y"
        },
        {
         "hovertemplate": "page2_clothing_model=B7<br>month=7<br>Main Category=%{x}<br>Total Price=%{y}<extra></extra>",
         "ids": {
          "bdata": "Ag==",
          "dtype": "i1"
         },
         "legendgroup": "B7",
         "marker": {
          "color": "#00cc96",
          "pattern": {
           "shape": ""
          }
         },
         "name": "B7",
         "orientation": "v",
         "showlegend": true,
         "textposition": "auto",
         "type": "bar",
         "x": {
          "bdata": "Ag==",
          "dtype": "i1"
         },
         "xaxis": "x",
         "y": {
          "bdata": "LAw=",
          "dtype": "i2"
         },
         "yaxis": "y"
        },
        {
         "hovertemplate": "page2_clothing_model=B28<br>month=7<br>Main Category=%{x}<br>Total Price=%{y}<extra></extra>",
         "ids": {
          "bdata": "Ag==",
          "dtype": "i1"
         },
         "legendgroup": "B28",
         "marker": {
          "color": "#ab63fa",
          "pattern": {
           "shape": ""
          }
         },
         "name": "B28",
         "orientation": "v",
         "showlegend": true,
         "textposition": "auto",
         "type": "bar",
         "x": {
          "bdata": "Ag==",
          "dtype": "i1"
         },
         "xaxis": "x",
         "y": {
          "bdata": "zAk=",
          "dtype": "i2"
         },
         "yaxis": "y"
        },
        {
         "hovertemplate": "page2_clothing_model=C16<br>month=7<br>Main Category=%{x}<br>Total Price=%{y}<extra></extra>",
         "ids": {
          "bdata": "Aw==",
          "dtype": "i1"
         },
         "legendgroup": "C16",
         "marker": {
          "color": "#FFA15A",
          "pattern": {
           "shape": ""
          }
         },
         "name": "C16",
         "orientation": "v",
         "showlegend": true,
         "textposition": "auto",
         "type": "bar",
         "x": {
          "bdata": "Aw==",
          "dtype": "i1"
         },
         "xaxis": "x",
         "y": {
          "bdata": "EAo=",
          "dtype": "i2"
         },
         "yaxis": "y"
        },
        {
         "hovertemplate": "page2_clothing_model=P55<br>month=7<br>Main Category=%{x}<br>Total Price=%{y}<extra></extra>",
         "ids": {
          "bdata": "BA==",
          "dtype": "i1"
         },
         "legendgroup": "P55",
         "marker": {
          "color": "#19d3f3",
          "pattern": {
           "shape": ""
          }
         },
         "name": "P55",
         "orientation": "v",
         "showlegend": true,
         "textposition": "auto",
         "type": "bar",
         "x": {
          "bdata": "BA==",
          "dtype": "i1"
         },
         "xaxis": "x",
         "y": {
          "bdata": "9gY=",
          "dtype": "i2"
         },
         "yaxis": "y"
        },
        {
         "hovertemplate": "page2_clothing_model=C42<br>month=7<br>Main Category=%{x}<br>Total Price=%{y}<extra></extra>",
         "ids": {
          "bdata": "Aw==",
          "dtype": "i1"
         },
         "legendgroup": "C42",
         "marker": {
          "color": "#FF6692",
          "pattern": {
           "shape": ""
          }
         },
         "name": "C42",
         "orientation": "v",
         "showlegend": true,
         "textposition": "auto",
         "type": "bar",
         "x": {
          "bdata": "Aw==",
          "dtype": "i1"
         },
         "xaxis": "x",
         "y": {
          "bdata": "pAg=",
          "dtype": "i2"
         },
         "yaxis": "y"
        },
        {
         "hovertemplate": "page2_clothing_model=P20<br>month=7<br>Main Category=%{x}<br>Total Price=%{y}<extra></extra>",
         "ids": {
          "bdata": "BA==",
          "dtype": "i1"
         },
         "legendgroup": "P20",
         "marker": {
          "color": "#B6E880",
          "pattern": {
           "shape": ""
          }
         },
         "name": "P20",
         "orientation": "v",
         "showlegend": true,
         "textposition": "auto",
         "type": "bar",
         "x": {
          "bdata": "BA==",
          "dtype": "i1"
         },
         "xaxis": "x",
         "y": {
          "bdata": "Rwc=",
          "dtype": "i2"
         },
         "yaxis": "y"
        },
        {
         "hovertemplate": "page2_clothing_model=A39<br>month=7<br>Main Category=%{x}<br>Total Price=%{y}<extra></extra>",
         "ids": {
          "bdata": "AQ==",
          "dtype": "i1"
         },
         "legendgroup": "A39",
         "marker": {
          "color": "#FF97FF",
          "pattern": {
           "shape": ""
          }
         },
         "name": "A39",
         "orientation": "v",
         "showlegend": true,
         "textposition": "auto",
         "type": "bar",
         "x": {
          "bdata": "AQ==",
          "dtype": "i1"
         },
         "xaxis": "x",
         "y": {
          "bdata": "Zg4=",
          "dtype": "i2"
         },
         "yaxis": "y"
        },
        {
         "hovertemplate": "page2_clothing_model=A35<br>month=7<br>Main Category=%{x}<br>Total Price=%{y}<extra></extra>",
         "ids": {
          "bdata": "AQ==",
          "dtype": "i1"
         },
         "legendgroup": "A35",
         "marker": {
          "color": "#FECB52",
          "pattern": {
           "shape": ""
          }
         },
         "name": "A35",
         "orientation": "v",
         "showlegend": true,
         "textposition": "auto",
         "type": "bar",
         "x": {
          "bdata": "AQ==",
          "dtype": "i1"
         },
         "xaxis": "x",
         "y": {
          "bdata": "/gc=",
          "dtype": "i2"
         },
         "yaxis": "y"
        },
        {
         "hovertemplate": "page2_clothing_model=A40<br>month=7<br>Main Category=%{x}<br>Total Price=%{y}<extra></extra>",
         "ids": {
          "bdata": "AQ==",
          "dtype": "i1"
         },
         "legendgroup": "A40",
         "marker": {
          "color": "#636efa",
          "pattern": {
           "shape": ""
          }
         },
         "name": "A40",
         "orientation": "v",
         "showlegend": true,
         "textposition": "auto",
         "type": "bar",
         "x": {
          "bdata": "AQ==",
          "dtype": "i1"
         },
         "xaxis": "x",
         "y": {
          "bdata": "UAg=",
          "dtype": "i2"
         },
         "yaxis": "y"
        },
        {
         "hovertemplate": "page2_clothing_model=C3<br>month=7<br>Main Category=%{x}<br>Total Price=%{y}<extra></extra>",
         "ids": {
          "bdata": "Aw==",
          "dtype": "i1"
         },
         "legendgroup": "C3",
         "marker": {
          "color": "#EF553B",
          "pattern": {
           "shape": ""
          }
         },
         "name": "C3",
         "orientation": "v",
         "showlegend": true,
         "textposition": "auto",
         "type": "bar",
         "x": {
          "bdata": "Aw==",
          "dtype": "i1"
         },
         "xaxis": "x",
         "y": {
          "bdata": "5Qg=",
          "dtype": "i2"
         },
         "yaxis": "y"
        },
        {
         "hovertemplate": "page2_clothing_model=C15<br>month=7<br>Main Category=%{x}<br>Total Price=%{y}<extra></extra>",
         "ids": {
          "bdata": "Aw==",
          "dtype": "i1"
         },
         "legendgroup": "C15",
         "marker": {
          "color": "#00cc96",
          "pattern": {
           "shape": ""
          }
         },
         "name": "C15",
         "orientation": "v",
         "showlegend": true,
         "textposition": "auto",
         "type": "bar",
         "x": {
          "bdata": "Aw==",
          "dtype": "i1"
         },
         "xaxis": "x",
         "y": {
          "bdata": "Lwo=",
          "dtype": "i2"
         },
         "yaxis": "y"
        },
        {
         "hovertemplate": "page2_clothing_model=A25<br>month=7<br>Main Category=%{x}<br>Total Price=%{y}<extra></extra>",
         "ids": {
          "bdata": "AQ==",
          "dtype": "i1"
         },
         "legendgroup": "A25",
         "marker": {
          "color": "#ab63fa",
          "pattern": {
           "shape": ""
          }
         },
         "name": "A25",
         "orientation": "v",
         "showlegend": true,
         "textposition": "auto",
         "type": "bar",
         "x": {
          "bdata": "AQ==",
          "dtype": "i1"
         },
         "xaxis": "x",
         "y": {
          "bdata": "MgU=",
          "dtype": "i2"
         },
         "yaxis": "y"
        },
        {
         "hovertemplate": "page2_clothing_model=P7<br>month=7<br>Main Category=%{x}<br>Total Price=%{y}<extra></extra>",
         "ids": {
          "bdata": "BA==",
          "dtype": "i1"
         },
         "legendgroup": "P7",
         "marker": {
          "color": "#FFA15A",
          "pattern": {
           "shape": ""
          }
         },
         "name": "P7",
         "orientation": "v",
         "showlegend": true,
         "textposition": "auto",
         "type": "bar",
         "x": {
          "bdata": "BA==",
          "dtype": "i1"
         },
         "xaxis": "x",
         "y": {
          "bdata": "OA4=",
          "dtype": "i2"
         },
         "yaxis": "y"
        },
        {
         "hovertemplate": "page2_clothing_model=C50<br>month=7<br>Main Category=%{x}<br>Total Price=%{y}<extra></extra>",
         "ids": {
          "bdata": "Aw==",
          "dtype": "i1"
         },
         "legendgroup": "C50",
         "marker": {
          "color": "#19d3f3",
          "pattern": {
           "shape": ""
          }
         },
         "name": "C50",
         "orientation": "v",
         "showlegend": true,
         "textposition": "auto",
         "type": "bar",
         "x": {
          "bdata": "Aw==",
          "dtype": "i1"
         },
         "xaxis": "x",
         "y": {
          "bdata": "BAs=",
          "dtype": "i2"
         },
         "yaxis": "y"
        },
        {
         "hovertemplate": "page2_clothing_model=P29<br>month=7<br>Main Category=%{x}<br>Total Price=%{y}<extra></extra>",
         "ids": {
          "bdata": "BA==",
          "dtype": "i1"
         },
         "legendgroup": "P29",
         "marker": {
          "color": "#FF6692",
          "pattern": {
           "shape": ""
          }
         },
         "name": "P29",
         "orientation": "v",
         "showlegend": true,
         "textposition": "auto",
         "type": "bar",
         "x": {
          "bdata": "BA==",
          "dtype": "i1"
         },
         "xaxis": "x",
         "y": {
          "bdata": "DQ4=",
          "dtype": "i2"
         },
         "yaxis": "y"
        },
        {
         "hovertemplate": "page2_clothing_model=P9<br>month=7<br>Main Category=%{x}<br>Total Price=%{y}<extra></extra>",
         "ids": {
          "bdata": "BA==",
          "dtype": "i1"
         },
         "legendgroup": "P9",
         "marker": {
          "color": "#B6E880",
          "pattern": {
           "shape": ""
          }
         },
         "name": "P9",
         "orientation": "v",
         "showlegend": true,
         "textposition": "auto",
         "type": "bar",
         "x": {
          "bdata": "BA==",
          "dtype": "i1"
         },
         "xaxis": "x",
         "y": {
          "bdata": "Ugs=",
          "dtype": "i2"
         },
         "yaxis": "y"
        },
        {
         "hovertemplate": "page2_clothing_model=P56<br>month=7<br>Main Category=%{x}<br>Total Price=%{y}<extra></extra>",
         "ids": {
          "bdata": "BA==",
          "dtype": "i1"
         },
         "legendgroup": "P56",
         "marker": {
          "color": "#FF97FF",
          "pattern": {
           "shape": ""
          }
         },
         "name": "P56",
         "orientation": "v",
         "showlegend": true,
         "textposition": "auto",
         "type": "bar",
         "x": {
          "bdata": "BA==",
          "dtype": "i1"
         },
         "xaxis": "x",
         "y": {
          "bdata": "BwU=",
          "dtype": "i2"
         },
         "yaxis": "y"
        },
        {
         "hovertemplate": "page2_clothing_model=C24<br>month=7<br>Main Category=%{x}<br>Total Price=%{y}<extra></extra>",
         "ids": {
          "bdata": "Aw==",
          "dtype": "i1"
         },
         "legendgroup": "C24",
         "marker": {
          "color": "#FECB52",
          "pattern": {
           "shape": ""
          }
         },
         "name": "C24",
         "orientation": "v",
         "showlegend": true,
         "textposition": "auto",
         "type": "bar",
         "x": {
          "bdata": "Aw==",
          "dtype": "i1"
         },
         "xaxis": "x",
         "y": {
          "bdata": "/Qs=",
          "dtype": "i2"
         },
         "yaxis": "y"
        },
        {
         "hovertemplate": "page2_clothing_model=C26<br>month=7<br>Main Category=%{x}<br>Total Price=%{y}<extra></extra>",
         "ids": {
          "bdata": "Aw==",
          "dtype": "i1"
         },
         "legendgroup": "C26",
         "marker": {
          "color": "#636efa",
          "pattern": {
           "shape": ""
          }
         },
         "name": "C26",
         "orientation": "v",
         "showlegend": true,
         "textposition": "auto",
         "type": "bar",
         "x": {
          "bdata": "Aw==",
          "dtype": "i1"
         },
         "xaxis": "x",
         "y": {
          "bdata": "qAc=",
          "dtype": "i2"
         },
         "yaxis": "y"
        },
        {
         "hovertemplate": "page2_clothing_model=B20<br>month=7<br>Main Category=%{x}<br>Total Price=%{y}<extra></extra>",
         "ids": {
          "bdata": "Ag==",
          "dtype": "i1"
         },
         "legendgroup": "B20",
         "marker": {
          "color": "#EF553B",
          "pattern": {
           "shape": ""
          }
         },
         "name": "B20",
         "orientation": "v",
         "showlegend": true,
         "textposition": "auto",
         "type": "bar",
         "x": {
          "bdata": "Ag==",
          "dtype": "i1"
         },
         "xaxis": "x",
         "y": {
          "bdata": "cA0=",
          "dtype": "i2"
         },
         "yaxis": "y"
        },
        {
         "hovertemplate": "page2_clothing_model=C38<br>month=7<br>Main Category=%{x}<br>Total Price=%{y}<extra></extra>",
         "ids": {
          "bdata": "Aw==",
          "dtype": "i1"
         },
         "legendgroup": "C38",
         "marker": {
          "color": "#00cc96",
          "pattern": {
           "shape": ""
          }
         },
         "name": "C38",
         "orientation": "v",
         "showlegend": true,
         "textposition": "auto",
         "type": "bar",
         "x": {
          "bdata": "Aw==",
          "dtype": "i1"
         },
         "xaxis": "x",
         "y": {
          "bdata": "rgY=",
          "dtype": "i2"
         },
         "yaxis": "y"
        },
        {
         "hovertemplate": "page2_clothing_model=A23<br>month=7<br>Main Category=%{x}<br>Total Price=%{y}<extra></extra>",
         "ids": {
          "bdata": "AQ==",
          "dtype": "i1"
         },
         "legendgroup": "A23",
         "marker": {
          "color": "#ab63fa",
          "pattern": {
           "shape": ""
          }
         },
         "name": "A23",
         "orientation": "v",
         "showlegend": true,
         "textposition": "auto",
         "type": "bar",
         "x": {
          "bdata": "AQ==",
          "dtype": "i1"
         },
         "xaxis": "x",
         "y": {
          "bdata": "rAU=",
          "dtype": "i2"
         },
         "yaxis": "y"
        },
        {
         "hovertemplate": "page2_clothing_model=P18<br>month=7<br>Main Category=%{x}<br>Total Price=%{y}<extra></extra>",
         "ids": {
          "bdata": "BA==",
          "dtype": "i1"
         },
         "legendgroup": "P18",
         "marker": {
          "color": "#FFA15A",
          "pattern": {
           "shape": ""
          }
         },
         "name": "P18",
         "orientation": "v",
         "showlegend": true,
         "textposition": "auto",
         "type": "bar",
         "x": {
          "bdata": "BA==",
          "dtype": "i1"
         },
         "xaxis": "x",
         "y": {
          "bdata": "sAw=",
          "dtype": "i2"
         },
         "yaxis": "y"
        },
        {
         "hovertemplate": "page2_clothing_model=B33<br>month=7<br>Main Category=%{x}<br>Total Price=%{y}<extra></extra>",
         "ids": {
          "bdata": "Ag==",
          "dtype": "i1"
         },
         "legendgroup": "B33",
         "marker": {
          "color": "#19d3f3",
          "pattern": {
           "shape": ""
          }
         },
         "name": "B33",
         "orientation": "v",
         "showlegend": true,
         "textposition": "auto",
         "type": "bar",
         "x": {
          "bdata": "Ag==",
          "dtype": "i1"
         },
         "xaxis": "x",
         "y": {
          "bdata": "owg=",
          "dtype": "i2"
         },
         "yaxis": "y"
        },
        {
         "hovertemplate": "page2_clothing_model=A36<br>month=7<br>Main Category=%{x}<br>Total Price=%{y}<extra></extra>",
         "ids": {
          "bdata": "AQ==",
          "dtype": "i1"
         },
         "legendgroup": "A36",
         "marker": {
          "color": "#FF6692",
          "pattern": {
           "shape": ""
          }
         },
         "name": "A36",
         "orientation": "v",
         "showlegend": true,
         "textposition": "auto",
         "type": "bar",
         "x": {
          "bdata": "AQ==",
          "dtype": "i1"
         },
         "xaxis": "x",
         "y": {
          "bdata": "7gU=",
          "dtype": "i2"
         },
         "yaxis": "y"
        },
        {
         "hovertemplate": "page2_clothing_model=P61<br>month=7<br>Main Category=%{x}<br>Total Price=%{y}<extra></extra>",
         "ids": {
          "bdata": "BA==",
          "dtype": "i1"
         },
         "legendgroup": "P61",
         "marker": {
          "color": "#B6E880",
          "pattern": {
           "shape": ""
          }
         },
         "name": "P61",
         "orientation": "v",
         "showlegend": true,
         "textposition": "auto",
         "type": "bar",
         "x": {
          "bdata": "BA==",
          "dtype": "i1"
         },
         "xaxis": "x",
         "y": {
          "bdata": "uAo=",
          "dtype": "i2"
         },
         "yaxis": "y"
        },
        {
         "hovertemplate": "page2_clothing_model=C25<br>month=7<br>Main Category=%{x}<br>Total Price=%{y}<extra></extra>",
         "ids": {
          "bdata": "Aw==",
          "dtype": "i1"
         },
         "legendgroup": "C25",
         "marker": {
          "color": "#FF97FF",
          "pattern": {
           "shape": ""
          }
         },
         "name": "C25",
         "orientation": "v",
         "showlegend": true,
         "textposition": "auto",
         "type": "bar",
         "x": {
          "bdata": "Aw==",
          "dtype": "i1"
         },
         "xaxis": "x",
         "y": {
          "bdata": "kgo=",
          "dtype": "i2"
         },
         "yaxis": "y"
        },
        {
         "hovertemplate": "page2_clothing_model=C48<br>month=7<br>Main Category=%{x}<br>Total Price=%{y}<extra></extra>",
         "ids": {
          "bdata": "Aw==",
          "dtype": "i1"
         },
         "legendgroup": "C48",
         "marker": {
          "color": "#FECB52",
          "pattern": {
           "shape": ""
          }
         },
         "name": "C48",
         "orientation": "v",
         "showlegend": true,
         "textposition": "auto",
         "type": "bar",
         "x": {
          "bdata": "Aw==",
          "dtype": "i1"
         },
         "xaxis": "x",
         "y": {
          "bdata": "MAk=",
          "dtype": "i2"
         },
         "yaxis": "y"
        },
        {
         "hovertemplate": "page2_clothing_model=A19<br>month=7<br>Main Category=%{x}<br>Total Price=%{y}<extra></extra>",
         "ids": {
          "bdata": "AQ==",
          "dtype": "i1"
         },
         "legendgroup": "A19",
         "marker": {
          "color": "#636efa",
          "pattern": {
           "shape": ""
          }
         },
         "name": "A19",
         "orientation": "v",
         "showlegend": true,
         "textposition": "auto",
         "type": "bar",
         "x": {
          "bdata": "AQ==",
          "dtype": "i1"
         },
         "xaxis": "x",
         "y": {
          "bdata": "3Qc=",
          "dtype": "i2"
         },
         "yaxis": "y"
        },
        {
         "hovertemplate": "page2_clothing_model=P72<br>month=7<br>Main Category=%{x}<br>Total Price=%{y}<extra></extra>",
         "ids": {
          "bdata": "BA==",
          "dtype": "i1"
         },
         "legendgroup": "P72",
         "marker": {
          "color": "#EF553B",
          "pattern": {
           "shape": ""
          }
         },
         "name": "P72",
         "orientation": "v",
         "showlegend": true,
         "textposition": "auto",
         "type": "bar",
         "x": {
          "bdata": "BA==",
          "dtype": "i1"
         },
         "xaxis": "x",
         "y": {
          "bdata": "mgs=",
          "dtype": "i2"
         },
         "yaxis": "y"
        },
        {
         "hovertemplate": "page2_clothing_model=P51<br>month=7<br>Main Category=%{x}<br>Total Price=%{y}<extra></extra>",
         "ids": {
          "bdata": "BA==",
          "dtype": "i1"
         },
         "legendgroup": "P51",
         "marker": {
          "color": "#00cc96",
          "pattern": {
           "shape": ""
          }
         },
         "name": "P51",
         "orientation": "v",
         "showlegend": true,
         "textposition": "auto",
         "type": "bar",
         "x": {
          "bdata": "BA==",
          "dtype": "i1"
         },
         "xaxis": "x",
         "y": {
          "bdata": "lAU=",
          "dtype": "i2"
         },
         "yaxis": "y"
        },
        {
         "hovertemplate": "page2_clothing_model=C31<br>month=7<br>Main Category=%{x}<br>Total Price=%{y}<extra></extra>",
         "ids": {
          "bdata": "Aw==",
          "dtype": "i1"
         },
         "legendgroup": "C31",
         "marker": {
          "color": "#ab63fa",
          "pattern": {
           "shape": ""
          }
         },
         "name": "C31",
         "orientation": "v",
         "showlegend": true,
         "textposition": "auto",
         "type": "bar",
         "x": {
          "bdata": "Aw==",
          "dtype": "i1"
         },
         "xaxis": "x",
         "y": {
          "bdata": "5gQ=",
          "dtype": "i2"
         },
         "yaxis": "y"
        },
        {
         "hovertemplate": "page2_clothing_model=C51<br>month=7<br>Main Category=%{x}<br>Total Price=%{y}<extra></extra>",
         "ids": {
          "bdata": "Aw==",
          "dtype": "i1"
         },
         "legendgroup": "C51",
         "marker": {
          "color": "#FFA15A",
          "pattern": {
           "shape": ""
          }
         },
         "name": "C51",
         "orientation": "v",
         "showlegend": true,
         "textposition": "auto",
         "type": "bar",
         "x": {
          "bdata": "Aw==",
          "dtype": "i1"
         },
         "xaxis": "x",
         "y": {
          "bdata": "5Ac=",
          "dtype": "i2"
         },
         "yaxis": "y"
        },
        {
         "hovertemplate": "page2_clothing_model=C32<br>month=7<br>Main Category=%{x}<br>Total Price=%{y}<extra></extra>",
         "ids": {
          "bdata": "Aw==",
          "dtype": "i1"
         },
         "legendgroup": "C32",
         "marker": {
          "color": "#19d3f3",
          "pattern": {
           "shape": ""
          }
         },
         "name": "C32",
         "orientation": "v",
         "showlegend": true,
         "textposition": "auto",
         "type": "bar",
         "x": {
          "bdata": "Aw==",
          "dtype": "i1"
         },
         "xaxis": "x",
         "y": {
          "bdata": "iwU=",
          "dtype": "i2"
         },
         "yaxis": "y"
        },
        {
         "hovertemplate": "page2_clothing_model=P46<br>month=7<br>Main Category=%{x}<br>Total Price=%{y}<extra></extra>",
         "ids": {
          "bdata": "BA==",
          "dtype": "i1"
         },
         "legendgroup": "P46",
         "marker": {
          "color": "#FF6692",
          "pattern": {
           "shape": ""
          }
         },
         "name": "P46",
         "orientation": "v",
         "showlegend": true,
         "textposition": "auto",
         "type": "bar",
         "x": {
          "bdata": "BA==",
          "dtype": "i1"
         },
         "xaxis": "x",
         "y": {
          "bdata": "JAU=",
          "dtype": "i2"
         },
         "yaxis": "y"
        },
        {
         "hovertemplate": "page2_clothing_model=P38<br>month=7<br>Main Category=%{x}<br>Total Price=%{y}<extra></extra>",
         "ids": {
          "bdata": "BA==",
          "dtype": "i1"
         },
         "legendgroup": "P38",
         "marker": {
          "color": "#B6E880",
          "pattern": {
           "shape": ""
          }
         },
         "name": "P38",
         "orientation": "v",
         "showlegend": true,
         "textposition": "auto",
         "type": "bar",
         "x": {
          "bdata": "BA==",
          "dtype": "i1"
         },
         "xaxis": "x",
         "y": {
          "bdata": "BwU=",
          "dtype": "i2"
         },
         "yaxis": "y"
        },
        {
         "hovertemplate": "page2_clothing_model=P47<br>month=7<br>Main Category=%{x}<br>Total Price=%{y}<extra></extra>",
         "ids": {
          "bdata": "BA==",
          "dtype": "i1"
         },
         "legendgroup": "P47",
         "marker": {
          "color": "#FF97FF",
          "pattern": {
           "shape": ""
          }
         },
         "name": "P47",
         "orientation": "v",
         "showlegend": true,
         "textposition": "auto",
         "type": "bar",
         "x": {
          "bdata": "BA==",
          "dtype": "i1"
         },
         "xaxis": "x",
         "y": {
          "bdata": "1AM=",
          "dtype": "i2"
         },
         "yaxis": "y"
        },
        {
         "hovertemplate": "page2_clothing_model=P71<br>month=7<br>Main Category=%{x}<br>Total Price=%{y}<extra></extra>",
         "ids": {
          "bdata": "BA==",
          "dtype": "i1"
         },
         "legendgroup": "P71",
         "marker": {
          "color": "#FECB52",
          "pattern": {
           "shape": ""
          }
         },
         "name": "P71",
         "orientation": "v",
         "showlegend": true,
         "textposition": "auto",
         "type": "bar",
         "x": {
          "bdata": "BA==",
          "dtype": "i1"
         },
         "xaxis": "x",
         "y": {
          "bdata": "xAg=",
          "dtype": "i2"
         },
         "yaxis": "y"
        },
        {
         "hovertemplate": "page2_clothing_model=P30<br>month=7<br>Main Category=%{x}<br>Total Price=%{y}<extra></extra>",
         "ids": {
          "bdata": "BA==",
          "dtype": "i1"
         },
         "legendgroup": "P30",
         "marker": {
          "color": "#636efa",
          "pattern": {
           "shape": ""
          }
         },
         "name": "P30",
         "orientation": "v",
         "showlegend": true,
         "textposition": "auto",
         "type": "bar",
         "x": {
          "bdata": "BA==",
          "dtype": "i1"
         },
         "xaxis": "x",
         "y": {
          "bdata": "MAY=",
          "dtype": "i2"
         },
         "yaxis": "y"
        },
        {
         "hovertemplate": "page2_clothing_model=P74<br>month=7<br>Main Category=%{x}<br>Total Price=%{y}<extra></extra>",
         "ids": {
          "bdata": "BA==",
          "dtype": "i1"
         },
         "legendgroup": "P74",
         "marker": {
          "color": "#EF553B",
          "pattern": {
           "shape": ""
          }
         },
         "name": "P74",
         "orientation": "v",
         "showlegend": true,
         "textposition": "auto",
         "type": "bar",
         "x": {
          "bdata": "BA==",
          "dtype": "i1"
         },
         "xaxis": "x",
         "y": {
          "bdata": "ggg=",
          "dtype": "i2"
         },
         "yaxis": "y"
        },
        {
         "hovertemplate": "page2_clothing_model=P63<br>month=7<br>Main Category=%{x}<br>Total Price=%{y}<extra></extra>",
         "ids": {
          "bdata": "BA==",
          "dtype": "i1"
         },
         "legendgroup": "P63",
         "marker": {
          "color": "#00cc96",
          "pattern": {
           "shape": ""
          }
         },
         "name": "P63",
         "orientation": "v",
         "showlegend": true,
         "textposition": "auto",
         "type": "bar",
         "x": {
          "bdata": "BA==",
          "dtype": "i1"
         },
         "xaxis": "x",
         "y": {
          "bdata": "BAY=",
          "dtype": "i2"
         },
         "yaxis": "y"
        },
        {
         "hovertemplate": "page2_clothing_model=P42<br>month=7<br>Main Category=%{x}<br>Total Price=%{y}<extra></extra>",
         "ids": {
          "bdata": "BA==",
          "dtype": "i1"
         },
         "legendgroup": "P42",
         "marker": {
          "color": "#ab63fa",
          "pattern": {
           "shape": ""
          }
         },
         "name": "P42",
         "orientation": "v",
         "showlegend": true,
         "textposition": "auto",
         "type": "bar",
         "x": {
          "bdata": "BA==",
          "dtype": "i1"
         },
         "xaxis": "x",
         "y": {
          "bdata": "lAU=",
          "dtype": "i2"
         },
         "yaxis": "y"
        },
        {
         "hovertemplate": "page2_clothing_model=P21<br>month=7<br>Main Category=%{x}<br>Total Price=%{y}<extra></extra>",
         "ids": {
          "bdata": "BA==",
          "dtype": "i1"
         },
         "legendgroup": "P21",
         "marker": {
          "color": "#FFA15A",
          "pattern": {
           "shape": ""
          }
         },
         "name": "P21",
         "orientation": "v",
         "showlegend": true,
         "textposition": "auto",
         "type": "bar",
         "x": {
          "bdata": "BA==",
          "dtype": "i1"
         },
         "xaxis": "x",
         "y": {
          "bdata": "iwU=",
          "dtype": "i2"
         },
         "yaxis": "y"
        },
        {
         "hovertemplate": "page2_clothing_model=P44<br>month=7<br>Main Category=%{x}<br>Total Price=%{y}<extra></extra>",
         "ids": {
          "bdata": "BA==",
          "dtype": "i1"
         },
         "legendgroup": "P44",
         "marker": {
          "color": "#19d3f3",
          "pattern": {
           "shape": ""
          }
         },
         "name": "P44",
         "orientation": "v",
         "showlegend": true,
         "textposition": "auto",
         "type": "bar",
         "x": {
          "bdata": "BA==",
          "dtype": "i1"
         },
         "xaxis": "x",
         "y": {
          "bdata": "ZAM=",
          "dtype": "i2"
         },
         "yaxis": "y"
        },
        {
         "hovertemplate": "page2_clothing_model=P75<br>month=7<br>Main Category=%{x}<br>Total Price=%{y}<extra></extra>",
         "ids": {
          "bdata": "BA==",
          "dtype": "i1"
         },
         "legendgroup": "P75",
         "marker": {
          "color": "#FF6692",
          "pattern": {
           "shape": ""
          }
         },
         "name": "P75",
         "orientation": "v",
         "showlegend": true,
         "textposition": "auto",
         "type": "bar",
         "x": {
          "bdata": "BA==",
          "dtype": "i1"
         },
         "xaxis": "x",
         "y": {
          "bdata": "ewM=",
          "dtype": "i2"
         },
         "yaxis": "y"
        },
        {
         "hovertemplate": "page2_clothing_model=P27<br>month=7<br>Main Category=%{x}<br>Total Price=%{y}<extra></extra>",
         "ids": {
          "bdata": "BA==",
          "dtype": "i1"
         },
         "legendgroup": "P27",
         "marker": {
          "color": "#B6E880",
          "pattern": {
           "shape": ""
          }
         },
         "name": "P27",
         "orientation": "v",
         "showlegend": true,
         "textposition": "auto",
         "type": "bar",
         "x": {
          "bdata": "BA==",
          "dtype": "i1"
         },
         "xaxis": "x",
         "y": {
          "bdata": "nAM=",
          "dtype": "i2"
         },
         "yaxis": "y"
        },
        {
         "hovertemplate": "page2_clothing_model=C52<br>month=7<br>Main Category=%{x}<br>Total Price=%{y}<extra></extra>",
         "ids": {
          "bdata": "Aw==",
          "dtype": "i1"
         },
         "legendgroup": "C52",
         "marker": {
          "color": "#FF97FF",
          "pattern": {
           "shape": ""
          }
         },
         "name": "C52",
         "orientation": "v",
         "showlegend": true,
         "textposition": "auto",
         "type": "bar",
         "x": {
          "bdata": "Aw==",
          "dtype": "i1"
         },
         "xaxis": "x",
         "y": {
          "bdata": "FgY=",
          "dtype": "i2"
         },
         "yaxis": "y"
        },
        {
         "hovertemplate": "page2_clothing_model=P73<br>month=7<br>Main Category=%{x}<br>Total Price=%{y}<extra></extra>",
         "ids": {
          "bdata": "BA==",
          "dtype": "i1"
         },
         "legendgroup": "P73",
         "marker": {
          "color": "#FECB52",
          "pattern": {
           "shape": ""
          }
         },
         "name": "P73",
         "orientation": "v",
         "showlegend": true,
         "textposition": "auto",
         "type": "bar",
         "x": {
          "bdata": "BA==",
          "dtype": "i1"
         },
         "xaxis": "x",
         "y": {
          "bdata": "zQU=",
          "dtype": "i2"
         },
         "yaxis": "y"
        },
        {
         "hovertemplate": "page2_clothing_model=P80<br>month=7<br>Main Category=%{x}<br>Total Price=%{y}<extra></extra>",
         "ids": {
          "bdata": "BA==",
          "dtype": "i1"
         },
         "legendgroup": "P80",
         "marker": {
          "color": "#636efa",
          "pattern": {
           "shape": ""
          }
         },
         "name": "P80",
         "orientation": "v",
         "showlegend": true,
         "textposition": "auto",
         "type": "bar",
         "x": {
          "bdata": "BA==",
          "dtype": "i1"
         },
         "xaxis": "x",
         "y": {
          "bdata": "eAU=",
          "dtype": "i2"
         },
         "yaxis": "y"
        },
        {
         "hovertemplate": "page2_clothing_model=P35<br>month=7<br>Main Category=%{x}<br>Total Price=%{y}<extra></extra>",
         "ids": {
          "bdata": "BA==",
          "dtype": "i1"
         },
         "legendgroup": "P35",
         "marker": {
          "color": "#EF553B",
          "pattern": {
           "shape": ""
          }
         },
         "name": "P35",
         "orientation": "v",
         "showlegend": true,
         "textposition": "auto",
         "type": "bar",
         "x": {
          "bdata": "BA==",
          "dtype": "i1"
         },
         "xaxis": "x",
         "y": {
          "bdata": "7AQ=",
          "dtype": "i2"
         },
         "yaxis": "y"
        },
        {
         "hovertemplate": "page2_clothing_model=P52<br>month=7<br>Main Category=%{x}<br>Total Price=%{y}<extra></extra>",
         "ids": {
          "bdata": "BA==",
          "dtype": "i1"
         },
         "legendgroup": "P52",
         "marker": {
          "color": "#00cc96",
          "pattern": {
           "shape": ""
          }
         },
         "name": "P52",
         "orientation": "v",
         "showlegend": true,
         "textposition": "auto",
         "type": "bar",
         "x": {
          "bdata": "BA==",
          "dtype": "i1"
         },
         "xaxis": "x",
         "y": {
          "bdata": "2gQ=",
          "dtype": "i2"
         },
         "yaxis": "y"
        },
        {
         "hovertemplate": "page2_clothing_model=C47<br>month=7<br>Main Category=%{x}<br>Total Price=%{y}<extra></extra>",
         "ids": {
          "bdata": "Aw==",
          "dtype": "i1"
         },
         "legendgroup": "C47",
         "marker": {
          "color": "#ab63fa",
          "pattern": {
           "shape": ""
          }
         },
         "name": "C47",
         "orientation": "v",
         "showlegend": true,
         "textposition": "auto",
         "type": "bar",
         "x": {
          "bdata": "Aw==",
          "dtype": "i1"
         },
         "xaxis": "x",
         "y": {
          "bdata": "cgM=",
          "dtype": "i2"
         },
         "yaxis": "y"
        },
        {
         "hovertemplate": "page2_clothing_model=P62<br>month=7<br>Main Category=%{x}<br>Total Price=%{y}<extra></extra>",
         "ids": {
          "bdata": "BA==",
          "dtype": "i1"
         },
         "legendgroup": "P62",
         "marker": {
          "color": "#FFA15A",
          "pattern": {
           "shape": ""
          }
         },
         "name": "P62",
         "orientation": "v",
         "showlegend": true,
         "textposition": "auto",
         "type": "bar",
         "x": {
          "bdata": "BA==",
          "dtype": "i1"
         },
         "xaxis": "x",
         "y": {
          "bdata": "gwQ=",
          "dtype": "i2"
         },
         "yaxis": "y"
        },
        {
         "hovertemplate": "page2_clothing_model=P45<br>month=7<br>Main Category=%{x}<br>Total Price=%{y}<extra></extra>",
         "ids": {
          "bdata": "BA==",
          "dtype": "i1"
         },
         "legendgroup": "P45",
         "marker": {
          "color": "#19d3f3",
          "pattern": {
           "shape": ""
          }
         },
         "name": "P45",
         "orientation": "v",
         "showlegend": true,
         "textposition": "auto",
         "type": "bar",
         "x": {
          "bdata": "BA==",
          "dtype": "i1"
         },
         "xaxis": "x",
         "y": {
          "bdata": "IAQ=",
          "dtype": "i2"
         },
         "yaxis": "y"
        },
        {
         "hovertemplate": "page2_clothing_model=C43<br>month=7<br>Main Category=%{x}<br>Total Price=%{y}<extra></extra>",
         "ids": {
          "bdata": "Aw==",
          "dtype": "i1"
         },
         "legendgroup": "C43",
         "marker": {
          "color": "#FF6692",
          "pattern": {
           "shape": ""
          }
         },
         "name": "C43",
         "orientation": "v",
         "showlegend": true,
         "textposition": "auto",
         "type": "bar",
         "x": {
          "bdata": "Aw==",
          "dtype": "i1"
         },
         "xaxis": "x",
         "y": {
          "bdata": "DAQ=",
          "dtype": "i2"
         },
         "yaxis": "y"
        },
        {
         "hovertemplate": "page2_clothing_model=P64<br>month=7<br>Main Category=%{x}<br>Total Price=%{y}<extra></extra>",
         "ids": {
          "bdata": "BA==",
          "dtype": "i1"
         },
         "legendgroup": "P64",
         "marker": {
          "color": "#B6E880",
          "pattern": {
           "shape": ""
          }
         },
         "name": "P64",
         "orientation": "v",
         "showlegend": true,
         "textposition": "auto",
         "type": "bar",
         "x": {
          "bdata": "BA==",
          "dtype": "i1"
         },
         "xaxis": "x",
         "y": {
          "bdata": "hAI=",
          "dtype": "i2"
         },
         "yaxis": "y"
        },
        {
         "hovertemplate": "page2_clothing_model=P31<br>month=7<br>Main Category=%{x}<br>Total Price=%{y}<extra></extra>",
         "ids": {
          "bdata": "BA==",
          "dtype": "i1"
         },
         "legendgroup": "P31",
         "marker": {
          "color": "#FF97FF",
          "pattern": {
           "shape": ""
          }
         },
         "name": "P31",
         "orientation": "v",
         "showlegend": true,
         "textposition": "auto",
         "type": "bar",
         "x": {
          "bdata": "BA==",
          "dtype": "i1"
         },
         "xaxis": "x",
         "y": {
          "bdata": "MQI=",
          "dtype": "i2"
         },
         "yaxis": "y"
        }
       ],
       "frames": [
        {
         "data": [
          {
           "hovertemplate": "page2_clothing_model=A2<br>month=7<br>Main Category=%{x}<br>Total Price=%{y}<extra></extra>",
           "ids": {
            "bdata": "AQ==",
            "dtype": "i1"
           },
           "legendgroup": "A2",
           "marker": {
            "color": "#636efa",
            "pattern": {
             "shape": ""
            }
           },
           "name": "A2",
           "orientation": "v",
           "showlegend": true,
           "textposition": "auto",
           "type": "bar",
           "x": {
            "bdata": "AQ==",
            "dtype": "i1"
           },
           "xaxis": "x",
           "y": {
            "bdata": "gGs=",
            "dtype": "i2"
           },
           "yaxis": "y"
          },
          {
           "hovertemplate": "page2_clothing_model=A4<br>month=7<br>Main Category=%{x}<br>Total Price=%{y}<extra></extra>",
           "ids": {
            "bdata": "AQ==",
            "dtype": "i1"
           },
           "legendgroup": "A4",
           "marker": {
            "color": "#EF553B",
            "pattern": {
             "shape": ""
            }
           },
           "name": "A4",
           "orientation": "v",
           "showlegend": true,
           "textposition": "auto",
           "type": "bar",
           "x": {
            "bdata": "AQ==",
            "dtype": "i1"
           },
           "xaxis": "x",
           "y": {
            "bdata": "ljU=",
            "dtype": "i2"
           },
           "yaxis": "y"
          },
          {
           "hovertemplate": "page2_clothing_model=A5<br>month=7<br>Main Category=%{x}<br>Total Price=%{y}<extra></extra>",
           "ids": {
            "bdata": "AQ==",
            "dtype": "i1"
           },
           "legendgroup": "A5",
           "marker": {
            "color": "#00cc96",
            "pattern": {
             "shape": ""
            }
           },
           "name": "A5",
           "orientation": "v",
           "showlegend": true,
           "textposition": "auto",
           "type": "bar",
           "x": {
            "bdata": "AQ==",
            "dtype": "i1"
           },
           "xaxis": "x",
           "y": {
            "bdata": "UlQ=",
            "dtype": "i2"
           },
           "yaxis": "y"
          },
          {
           "hovertemplate": "page2_clothing_model=A15<br>month=7<br>Main Category=%{x}<br>Total Price=%{y}<extra></extra>",
           "ids": {
            "bdata": "AQ==",
            "dtype": "i1"
           },
           "legendgroup": "A15",
           "marker": {
            "color": "#ab63fa",
            "pattern": {
             "shape": ""
            }
           },
           "name": "A15",
           "orientation": "v",
           "showlegend": true,
           "textposition": "auto",
           "type": "bar",
           "x": {
            "bdata": "AQ==",
            "dtype": "i1"
           },
           "xaxis": "x",
           "y": {
            "bdata": "5Sk=",
            "dtype": "i2"
           },
           "yaxis": "y"
          },
          {
           "hovertemplate": "page2_clothing_model=A10<br>month=7<br>Main Category=%{x}<br>Total Price=%{y}<extra></extra>",
           "ids": {
            "bdata": "AQ==",
            "dtype": "i1"
           },
           "legendgroup": "A10",
           "marker": {
            "color": "#FFA15A",
            "pattern": {
             "shape": ""
            }
           },
           "name": "A10",
           "orientation": "v",
           "showlegend": true,
           "textposition": "auto",
           "type": "bar",
           "x": {
            "bdata": "AQ==",
            "dtype": "i1"
           },
           "xaxis": "x",
           "y": {
            "bdata": "nEE=",
            "dtype": "i2"
           },
           "yaxis": "y"
          },
          {
           "hovertemplate": "page2_clothing_model=A6<br>month=7<br>Main Category=%{x}<br>Total Price=%{y}<extra></extra>",
           "ids": {
            "bdata": "AQ==",
            "dtype": "i1"
           },
           "legendgroup": "A6",
           "marker": {
            "color": "#19d3f3",
            "pattern": {
             "shape": ""
            }
           },
           "name": "A6",
           "orientation": "v",
           "showlegend": true,
           "textposition": "auto",
           "type": "bar",
           "x": {
            "bdata": "AQ==",
            "dtype": "i1"
           },
           "xaxis": "x",
           "y": {
            "bdata": "dDo=",
            "dtype": "i2"
           },
           "yaxis": "y"
          },
          {
           "hovertemplate": "page2_clothing_model=A12<br>month=7<br>Main Category=%{x}<br>Total Price=%{y}<extra></extra>",
           "ids": {
            "bdata": "AQ==",
            "dtype": "i1"
           },
           "legendgroup": "A12",
           "marker": {
            "color": "#FF6692",
            "pattern": {
             "shape": ""
            }
           },
           "name": "A12",
           "orientation": "v",
           "showlegend": true,
           "textposition": "auto",
           "type": "bar",
           "x": {
            "bdata": "AQ==",
            "dtype": "i1"
           },
           "xaxis": "x",
           "y": {
            "bdata": "cjk=",
            "dtype": "i2"
           },
           "yaxis": "y"
          },
          {
           "hovertemplate": "page2_clothing_model=A7<br>month=7<br>Main Category=%{x}<br>Total Price=%{y}<extra></extra>",
           "ids": {
            "bdata": "AQ==",
            "dtype": "i1"
           },
           "legendgroup": "A7",
           "marker": {
            "color": "#B6E880",
            "pattern": {
             "shape": ""
            }
           },
           "name": "A7",
           "orientation": "v",
           "showlegend": true,
           "textposition": "auto",
           "type": "bar",
           "x": {
            "bdata": "AQ==",
            "dtype": "i1"
           },
           "xaxis": "x",
           "y": {
            "bdata": "6zU=",
            "dtype": "i2"
           },
           "yaxis": "y"
          },
          {
           "hovertemplate": "page2_clothing_model=A1<br>month=7<br>Main Category=%{x}<br>Total Price=%{y}<extra></extra>",
           "ids": {
            "bdata": "AQ==",
            "dtype": "i1"
           },
           "legendgroup": "A1",
           "marker": {
            "color": "#FF97FF",
            "pattern": {
             "shape": ""
            }
           },
           "name": "A1",
           "orientation": "v",
           "showlegend": true,
           "textposition": "auto",
           "type": "bar",
           "x": {
            "bdata": "AQ==",
            "dtype": "i1"
           },
           "xaxis": "x",
           "y": {
            "bdata": "EDQ=",
            "dtype": "i2"
           },
           "yaxis": "y"
          },
          {
           "hovertemplate": "page2_clothing_model=B11<br>month=7<br>Main Category=%{x}<br>Total Price=%{y}<extra></extra>",
           "ids": {
            "bdata": "Ag==",
            "dtype": "i1"
           },
           "legendgroup": "B11",
           "marker": {
            "color": "#FECB52",
            "pattern": {
             "shape": ""
            }
           },
           "name": "B11",
           "orientation": "v",
           "showlegend": true,
           "textposition": "auto",
           "type": "bar",
           "x": {
            "bdata": "Ag==",
            "dtype": "i1"
           },
           "xaxis": "x",
           "y": {
            "bdata": "YDA=",
            "dtype": "i2"
           },
           "yaxis": "y"
          },
          {
           "hovertemplate": "page2_clothing_model=B15<br>month=7<br>Main Category=%{x}<br>Total Price=%{y}<extra></extra>",
           "ids": {
            "bdata": "Ag==",
            "dtype": "i1"
           },
           "legendgroup": "B15",
           "marker": {
            "color": "#636efa",
            "pattern": {
             "shape": ""
            }
           },
           "name": "B15",
           "orientation": "v",
           "showlegend": true,
           "textposition": "auto",
           "type": "bar",
           "x": {
            "bdata": "Ag==",
            "dtype": "i1"
           },
           "xaxis": "x",
           "y": {
            "bdata": "Ih4=",
            "dtype": "i2"
           },
           "yaxis": "y"
          },
          {
           "hovertemplate": "page2_clothing_model=B32<br>month=7<br>Main Category=%{x}<br>Total Price=%{y}<extra></extra>",
           "ids": {
            "bdata": "Ag==",
            "dtype": "i1"
           },
           "legendgroup": "B32",
           "marker": {
            "color": "#EF553B",
            "pattern": {
             "shape": ""
            }
           },
           "name": "B32",
           "orientation": "v",
           "showlegend": true,
           "textposition": "auto",
           "type": "bar",
           "x": {
            "bdata": "Ag==",
            "dtype": "i1"
           },
           "xaxis": "x",
           "y": {
            "bdata": "bBo=",
            "dtype": "i2"
           },
           "yaxis": "y"
          },
          {
           "hovertemplate": "page2_clothing_model=P16<br>month=7<br>Main Category=%{x}<br>Total Price=%{y}<extra></extra>",
           "ids": {
            "bdata": "BA==",
            "dtype": "i1"
           },
           "legendgroup": "P16",
           "marker": {
            "color": "#00cc96",
            "pattern": {
             "shape": ""
            }
           },
           "name": "P16",
           "orientation": "v",
           "showlegend": true,
           "textposition": "auto",
           "type": "bar",
           "x": {
            "bdata": "BA==",
            "dtype": "i1"
           },
           "xaxis": "x",
           "y": {
            "bdata": "Gxg=",
            "dtype": "i2"
           },
           "yaxis": "y"
          },
          {
           "hovertemplate": "page2_clothing_model=B23<br>month=7<br>Main Category=%{x}<br>Total Price=%{y}<extra></extra>",
           "ids": {
            "bdata": "Ag==",
            "dtype": "i1"
           },
           "legendgroup": "B23",
           "marker": {
            "color": "#ab63fa",
            "pattern": {
             "shape": ""
            }
           },
           "name": "B23",
           "orientation": "v",
           "showlegend": true,
           "textposition": "auto",
           "type": "bar",
           "x": {
            "bdata": "Ag==",
            "dtype": "i1"
           },
           "xaxis": "x",
           "y": {
            "bdata": "UBs=",
            "dtype": "i2"
           },
           "yaxis": "y"
          },
          {
           "hovertemplate": "page2_clothing_model=B17<br>month=7<br>Main Category=%{x}<br>Total Price=%{y}<extra></extra>",
           "ids": {
            "bdata": "Ag==",
            "dtype": "i1"
           },
           "legendgroup": "B17",
           "marker": {
            "color": "#FFA15A",
            "pattern": {
             "shape": ""
            }
           },
           "name": "B17",
           "orientation": "v",
           "showlegend": true,
           "textposition": "auto",
           "type": "bar",
           "x": {
            "bdata": "Ag==",
            "dtype": "i1"
           },
           "xaxis": "x",
           "y": {
            "bdata": "Uh8=",
            "dtype": "i2"
           },
           "yaxis": "y"
          },
          {
           "hovertemplate": "page2_clothing_model=B12<br>month=7<br>Main Category=%{x}<br>Total Price=%{y}<extra></extra>",
           "ids": {
            "bdata": "Ag==",
            "dtype": "i1"
           },
           "legendgroup": "B12",
           "marker": {
            "color": "#19d3f3",
            "pattern": {
             "shape": ""
            }
           },
           "name": "B12",
           "orientation": "v",
           "showlegend": true,
           "textposition": "auto",
           "type": "bar",
           "x": {
            "bdata": "Ag==",
            "dtype": "i1"
           },
           "xaxis": "x",
           "y": {
            "bdata": "0CQ=",
            "dtype": "i2"
           },
           "yaxis": "y"
          },
          {
           "hovertemplate": "page2_clothing_model=A16<br>month=7<br>Main Category=%{x}<br>Total Price=%{y}<extra></extra>",
           "ids": {
            "bdata": "AQ==",
            "dtype": "i1"
           },
           "legendgroup": "A16",
           "marker": {
            "color": "#FF6692",
            "pattern": {
             "shape": ""
            }
           },
           "name": "A16",
           "orientation": "v",
           "showlegend": true,
           "textposition": "auto",
           "type": "bar",
           "x": {
            "bdata": "AQ==",
            "dtype": "i1"
           },
           "xaxis": "x",
           "y": {
            "bdata": "XRg=",
            "dtype": "i2"
           },
           "yaxis": "y"
          },
          {
           "hovertemplate": "page2_clothing_model=B9<br>month=7<br>Main Category=%{x}<br>Total Price=%{y}<extra></extra>",
           "ids": {
            "bdata": "Ag==",
            "dtype": "i1"
           },
           "legendgroup": "B9",
           "marker": {
            "color": "#B6E880",
            "pattern": {
             "shape": ""
            }
           },
           "name": "B9",
           "orientation": "v",
           "showlegend": true,
           "textposition": "auto",
           "type": "bar",
           "x": {
            "bdata": "Ag==",
            "dtype": "i1"
           },
           "xaxis": "x",
           "y": {
            "bdata": "cBc=",
            "dtype": "i2"
           },
           "yaxis": "y"
          },
          {
           "hovertemplate": "page2_clothing_model=A13<br>month=7<br>Main Category=%{x}<br>Total Price=%{y}<extra></extra>",
           "ids": {
            "bdata": "AQ==",
            "dtype": "i1"
           },
           "legendgroup": "A13",
           "marker": {
            "color": "#FF97FF",
            "pattern": {
             "shape": ""
            }
           },
           "name": "A13",
           "orientation": "v",
           "showlegend": true,
           "textposition": "auto",
           "type": "bar",
           "x": {
            "bdata": "AQ==",
            "dtype": "i1"
           },
           "xaxis": "x",
           "y": {
            "bdata": "TB4=",
            "dtype": "i2"
           },
           "yaxis": "y"
          },
          {
           "hovertemplate": "page2_clothing_model=B19<br>month=7<br>Main Category=%{x}<br>Total Price=%{y}<extra></extra>",
           "ids": {
            "bdata": "Ag==",
            "dtype": "i1"
           },
           "legendgroup": "B19",
           "marker": {
            "color": "#FECB52",
            "pattern": {
             "shape": ""
            }
           },
           "name": "B19",
           "orientation": "v",
           "showlegend": true,
           "textposition": "auto",
           "type": "bar",
           "x": {
            "bdata": "Ag==",
            "dtype": "i1"
           },
           "xaxis": "x",
           "y": {
            "bdata": "MBQ=",
            "dtype": "i2"
           },
           "yaxis": "y"
          },
          {
           "hovertemplate": "page2_clothing_model=A33<br>month=7<br>Main Category=%{x}<br>Total Price=%{y}<extra></extra>",
           "ids": {
            "bdata": "AQ==",
            "dtype": "i1"
           },
           "legendgroup": "A33",
           "marker": {
            "color": "#636efa",
            "pattern": {
             "shape": ""
            }
           },
           "name": "A33",
           "orientation": "v",
           "showlegend": true,
           "textposition": "auto",
           "type": "bar",
           "x": {
            "bdata": "AQ==",
            "dtype": "i1"
           },
           "xaxis": "x",
           "y": {
            "bdata": "ngw=",
            "dtype": "i2"
           },
           "yaxis": "y"
          },
          {
           "hovertemplate": "page2_clothing_model=P12<br>month=7<br>Main Category=%{x}<br>Total Price=%{y}<extra></extra>",
           "ids": {
            "bdata": "BA==",
            "dtype": "i1"
           },
           "legendgroup": "P12",
           "marker": {
            "color": "#EF553B",
            "pattern": {
             "shape": ""
            }
           },
           "name": "P12",
           "orientation": "v",
           "showlegend": true,
           "textposition": "auto",
           "type": "bar",
           "x": {
            "bdata": "BA==",
            "dtype": "i1"
           },
           "xaxis": "x",
           "y": {
            "bdata": "fxQ=",
            "dtype": "i2"
           },
           "yaxis": "y"
          },
          {
           "hovertemplate": "page2_clothing_model=A41<br>month=7<br>Main Category=%{x}<br>Total Price=%{y}<extra></extra>",
           "ids": {
            "bdata": "AQ==",
            "dtype": "i1"
           },
           "legendgroup": "A41",
           "marker": {
            "color": "#00cc96",
            "pattern": {
             "shape": ""
            }
           },
           "name": "A41",
           "orientation": "v",
           "showlegend": true,
           "textposition": "auto",
           "type": "bar",
           "x": {
            "bdata": "AQ==",
            "dtype": "i1"
           },
           "xaxis": "x",
           "y": {
            "bdata": "Gg0=",
            "dtype": "i2"
           },
           "yaxis": "y"
          },
          {
           "hovertemplate": "page2_clothing_model=C1<br>month=7<br>Main Category=%{x}<br>Total Price=%{y}<extra></extra>",
           "ids": {
            "bdata": "Aw==",
            "dtype": "i1"
           },
           "legendgroup": "C1",
           "marker": {
            "color": "#ab63fa",
            "pattern": {
             "shape": ""
            }
           },
           "name": "C1",
           "orientation": "v",
           "showlegend": true,
           "textposition": "auto",
           "type": "bar",
           "x": {
            "bdata": "Aw==",
            "dtype": "i1"
           },
           "xaxis": "x",
           "y": {
            "bdata": "7BI=",
            "dtype": "i2"
           },
           "yaxis": "y"
          },
          {
           "hovertemplate": "page2_clothing_model=A18<br>month=7<br>Main Category=%{x}<br>Total Price=%{y}<extra></extra>",
           "ids": {
            "bdata": "AQ==",
            "dtype": "i1"
           },
           "legendgroup": "A18",
           "marker": {
            "color": "#FFA15A",
            "pattern": {
             "shape": ""
            }
           },
           "name": "A18",
           "orientation": "v",
           "showlegend": true,
           "textposition": "auto",
           "type": "bar",
           "x": {
            "bdata": "AQ==",
            "dtype": "i1"
           },
           "xaxis": "x",
           "y": {
            "bdata": "bBo=",
            "dtype": "i2"
           },
           "yaxis": "y"
          },
          {
           "hovertemplate": "page2_clothing_model=B34<br>month=7<br>Main Category=%{x}<br>Total Price=%{y}<extra></extra>",
           "ids": {
            "bdata": "Ag==",
            "dtype": "i1"
           },
           "legendgroup": "B34",
           "marker": {
            "color": "#19d3f3",
            "pattern": {
             "shape": ""
            }
           },
           "name": "B34",
           "orientation": "v",
           "showlegend": true,
           "textposition": "auto",
           "type": "bar",
           "x": {
            "bdata": "Ag==",
            "dtype": "i1"
           },
           "xaxis": "x",
           "y": {
            "bdata": "MBI=",
            "dtype": "i2"
           },
           "yaxis": "y"
          },
          {
           "hovertemplate": "page2_clothing_model=A30<br>month=7<br>Main Category=%{x}<br>Total Price=%{y}<extra></extra>",
           "ids": {
            "bdata": "AQ==",
            "dtype": "i1"
           },
           "legendgroup": "A30",
           "marker": {
            "color": "#FF6692",
            "pattern": {
             "shape": ""
            }
           },
           "name": "A30",
           "orientation": "v",
           "showlegend": true,
           "textposition": "auto",
           "type": "bar",
           "x": {
            "bdata": "AQ==",
            "dtype": "i1"
           },
           "xaxis": "x",
           "y": {
            "bdata": "vA8=",
            "dtype": "i2"
           },
           "yaxis": "y"
          },
          {
           "hovertemplate": "page2_clothing_model=C40<br>month=7<br>Main Category=%{x}<br>Total Price=%{y}<extra></extra>",
           "ids": {
            "bdata": "Aw==",
            "dtype": "i1"
           },
           "legendgroup": "C40",
           "marker": {
            "color": "#B6E880",
            "pattern": {
             "shape": ""
            }
           },
           "name": "C40",
           "orientation": "v",
           "showlegend": true,
           "textposition": "auto",
           "type": "bar",
           "x": {
            "bdata": "Aw==",
            "dtype": "i1"
           },
           "xaxis": "x",
           "y": {
            "bdata": "kBQ=",
            "dtype": "i2"
           },
           "yaxis": "y"
          },
          {
           "hovertemplate": "page2_clothing_model=P48<br>month=7<br>Main Category=%{x}<br>Total Price=%{y}<extra></extra>",
           "ids": {
            "bdata": "BA==",
            "dtype": "i1"
           },
           "legendgroup": "P48",
           "marker": {
            "color": "#FF97FF",
            "pattern": {
             "shape": ""
            }
           },
           "name": "P48",
           "orientation": "v",
           "showlegend": true,
           "textposition": "auto",
           "type": "bar",
           "x": {
            "bdata": "BA==",
            "dtype": "i1"
           },
           "xaxis": "x",
           "y": {
            "bdata": "sg4=",
            "dtype": "i2"
           },
           "yaxis": "y"
          },
          {
           "hovertemplate": "page2_clothing_model=C14<br>month=7<br>Main Category=%{x}<br>Total Price=%{y}<extra></extra>",
           "ids": {
            "bdata": "Aw==",
            "dtype": "i1"
           },
           "legendgroup": "C14",
           "marker": {
            "color": "#FECB52",
            "pattern": {
             "shape": ""
            }
           },
           "name": "C14",
           "orientation": "v",
           "showlegend": true,
           "textposition": "auto",
           "type": "bar",
           "x": {
            "bdata": "Aw==",
            "dtype": "i1"
           },
           "xaxis": "x",
           "y": {
            "bdata": "dw4=",
            "dtype": "i2"
           },
           "yaxis": "y"
          },
          {
           "hovertemplate": "page2_clothing_model=P2<br>month=7<br>Main Category=%{x}<br>Total Price=%{y}<extra></extra>",
           "ids": {
            "bdata": "BA==",
            "dtype": "i1"
           },
           "legendgroup": "P2",
           "marker": {
            "color": "#636efa",
            "pattern": {
             "shape": ""
            }
           },
           "name": "P2",
           "orientation": "v",
           "showlegend": true,
           "textposition": "auto",
           "type": "bar",
           "x": {
            "bdata": "BA==",
            "dtype": "i1"
           },
           "xaxis": "x",
           "y": {
            "bdata": "EBg=",
            "dtype": "i2"
           },
           "yaxis": "y"
          },
          {
           "hovertemplate": "page2_clothing_model=A32<br>month=7<br>Main Category=%{x}<br>Total Price=%{y}<extra></extra>",
           "ids": {
            "bdata": "AQ==",
            "dtype": "i1"
           },
           "legendgroup": "A32",
           "marker": {
            "color": "#EF553B",
            "pattern": {
             "shape": ""
            }
           },
           "name": "A32",
           "orientation": "v",
           "showlegend": true,
           "textposition": "auto",
           "type": "bar",
           "x": {
            "bdata": "AQ==",
            "dtype": "i1"
           },
           "xaxis": "x",
           "y": {
            "bdata": "ehA=",
            "dtype": "i2"
           },
           "yaxis": "y"
          },
          {
           "hovertemplate": "page2_clothing_model=C6<br>month=7<br>Main Category=%{x}<br>Total Price=%{y}<extra></extra>",
           "ids": {
            "bdata": "Aw==",
            "dtype": "i1"
           },
           "legendgroup": "C6",
           "marker": {
            "color": "#00cc96",
            "pattern": {
             "shape": ""
            }
           },
           "name": "C6",
           "orientation": "v",
           "showlegend": true,
           "textposition": "auto",
           "type": "bar",
           "x": {
            "bdata": "Aw==",
            "dtype": "i1"
           },
           "xaxis": "x",
           "y": {
            "bdata": "iQ0=",
            "dtype": "i2"
           },
           "yaxis": "y"
          },
          {
           "hovertemplate": "page2_clothing_model=C53<br>month=7<br>Main Category=%{x}<br>Total Price=%{y}<extra></extra>",
           "ids": {
            "bdata": "Aw==",
            "dtype": "i1"
           },
           "legendgroup": "C53",
           "marker": {
            "color": "#ab63fa",
            "pattern": {
             "shape": ""
            }
           },
           "name": "C53",
           "orientation": "v",
           "showlegend": true,
           "textposition": "auto",
           "type": "bar",
           "x": {
            "bdata": "Aw==",
            "dtype": "i1"
           },
           "xaxis": "x",
           "y": {
            "bdata": "lg8=",
            "dtype": "i2"
           },
           "yaxis": "y"
          },
          {
           "hovertemplate": "page2_clothing_model=C57<br>month=7<br>Main Category=%{x}<br>Total Price=%{y}<extra></extra>",
           "ids": {
            "bdata": "Aw==",
            "dtype": "i1"
           },
           "legendgroup": "C57",
           "marker": {
            "color": "#FFA15A",
            "pattern": {
             "shape": ""
            }
           },
           "name": "C57",
           "orientation": "v",
           "showlegend": true,
           "textposition": "auto",
           "type": "bar",
           "x": {
            "bdata": "Aw==",
            "dtype": "i1"
           },
           "xaxis": "x",
           "y": {
            "bdata": "+hc=",
            "dtype": "i2"
           },
           "yaxis": "y"
          },
          {
           "hovertemplate": "page2_clothing_model=C11<br>month=7<br>Main Category=%{x}<br>Total Price=%{y}<extra></extra>",
           "ids": {
            "bdata": "Aw==",
            "dtype": "i1"
           },
           "legendgroup": "C11",
           "marker": {
            "color": "#19d3f3",
            "pattern": {
             "shape": ""
            }
           },
           "name": "C11",
           "orientation": "v",
           "showlegend": true,
           "textposition": "auto",
           "type": "bar",
           "x": {
            "bdata": "Aw==",
            "dtype": "i1"
           },
           "xaxis": "x",
           "y": {
            "bdata": "LRI=",
            "dtype": "i2"
           },
           "yaxis": "y"
          },
          {
           "hovertemplate": "page2_clothing_model=B25<br>month=7<br>Main Category=%{x}<br>Total Price=%{y}<extra></extra>",
           "ids": {
            "bdata": "Ag==",
            "dtype": "i1"
           },
           "legendgroup": "B25",
           "marker": {
            "color": "#FF6692",
            "pattern": {
             "shape": ""
            }
           },
           "name": "B25",
           "orientation": "v",
           "showlegend": true,
           "textposition": "auto",
           "type": "bar",
           "x": {
            "bdata": "Ag==",
            "dtype": "i1"
           },
           "xaxis": "x",
           "y": {
            "bdata": "4g8=",
            "dtype": "i2"
           },
           "yaxis": "y"
          },
          {
           "hovertemplate": "page2_clothing_model=A28<br>month=7<br>Main Category=%{x}<br>Total Price=%{y}<extra></extra>",
           "ids": {
            "bdata": "AQ==",
            "dtype": "i1"
           },
           "legendgroup": "A28",
           "marker": {
            "color": "#B6E880",
            "pattern": {
             "shape": ""
            }
           },
           "name": "A28",
           "orientation": "v",
           "showlegend": true,
           "textposition": "auto",
           "type": "bar",
           "x": {
            "bdata": "AQ==",
            "dtype": "i1"
           },
           "xaxis": "x",
           "y": {
            "bdata": "5Qc=",
            "dtype": "i2"
           },
           "yaxis": "y"
          },
          {
           "hovertemplate": "page2_clothing_model=A20<br>month=7<br>Main Category=%{x}<br>Total Price=%{y}<extra></extra>",
           "ids": {
            "bdata": "AQ==",
            "dtype": "i1"
           },
           "legendgroup": "A20",
           "marker": {
            "color": "#FF97FF",
            "pattern": {
             "shape": ""
            }
           },
           "name": "A20",
           "orientation": "v",
           "showlegend": true,
           "textposition": "auto",
           "type": "bar",
           "x": {
            "bdata": "AQ==",
            "dtype": "i1"
           },
           "xaxis": "x",
           "y": {
            "bdata": "6gw=",
            "dtype": "i2"
           },
           "yaxis": "y"
          },
          {
           "hovertemplate": "page2_clothing_model=P23<br>month=7<br>Main Category=%{x}<br>Total Price=%{y}<extra></extra>",
           "ids": {
            "bdata": "BA==",
            "dtype": "i1"
           },
           "legendgroup": "P23",
           "marker": {
            "color": "#FECB52",
            "pattern": {
             "shape": ""
            }
           },
           "name": "P23",
           "orientation": "v",
           "showlegend": true,
           "textposition": "auto",
           "type": "bar",
           "x": {
            "bdata": "BA==",
            "dtype": "i1"
           },
           "xaxis": "x",
           "y": {
            "bdata": "YBI=",
            "dtype": "i2"
           },
           "yaxis": "y"
          },
          {
           "hovertemplate": "page2_clothing_model=A34<br>month=7<br>Main Category=%{x}<br>Total Price=%{y}<extra></extra>",
           "ids": {
            "bdata": "AQ==",
            "dtype": "i1"
           },
           "legendgroup": "A34",
           "marker": {
            "color": "#636efa",
            "pattern": {
             "shape": ""
            }
           },
           "name": "A34",
           "orientation": "v",
           "showlegend": true,
           "textposition": "auto",
           "type": "bar",
           "x": {
            "bdata": "AQ==",
            "dtype": "i1"
           },
           "xaxis": "x",
           "y": {
            "bdata": "4g8=",
            "dtype": "i2"
           },
           "yaxis": "y"
          },
          {
           "hovertemplate": "page2_clothing_model=C41<br>month=7<br>Main Category=%{x}<br>Total Price=%{y}<extra></extra>",
           "ids": {
            "bdata": "Aw==",
            "dtype": "i1"
           },
           "legendgroup": "C41",
           "marker": {
            "color": "#EF553B",
            "pattern": {
             "shape": ""
            }
           },
           "name": "C41",
           "orientation": "v",
           "showlegend": true,
           "textposition": "auto",
           "type": "bar",
           "x": {
            "bdata": "Aw==",
            "dtype": "i1"
           },
           "xaxis": "x",
           "y": {
            "bdata": "fAs=",
            "dtype": "i2"
           },
           "yaxis": "y"
          },
          {
           "hovertemplate": "page2_clothing_model=P49<br>month=7<br>Main Category=%{x}<br>Total Price=%{y}<extra></extra>",
           "ids": {
            "bdata": "BA==",
            "dtype": "i1"
           },
           "legendgroup": "P49",
           "marker": {
            "color": "#00cc96",
            "pattern": {
             "shape": ""
            }
           },
           "name": "P49",
           "orientation": "v",
           "showlegend": true,
           "textposition": "auto",
           "type": "bar",
           "x": {
            "bdata": "BA==",
            "dtype": "i1"
           },
           "xaxis": "x",
           "y": {
            "bdata": "Fgs=",
            "dtype": "i2"
           },
           "yaxis": "y"
          },
          {
           "hovertemplate": "page2_clothing_model=C49<br>month=7<br>Main Category=%{x}<br>Total Price=%{y}<extra></extra>",
           "ids": {
            "bdata": "Aw==",
            "dtype": "i1"
           },
           "legendgroup": "C49",
           "marker": {
            "color": "#ab63fa",
            "pattern": {
             "shape": ""
            }
           },
           "name": "C49",
           "orientation": "v",
           "showlegend": true,
           "textposition": "auto",
           "type": "bar",
           "x": {
            "bdata": "Aw==",
            "dtype": "i1"
           },
           "xaxis": "x",
           "y": {
            "bdata": "ug4=",
            "dtype": "i2"
           },
           "yaxis": "y"
          },
          {
           "hovertemplate": "page2_clothing_model=C30<br>month=7<br>Main Category=%{x}<br>Total Price=%{y}<extra></extra>",
           "ids": {
            "bdata": "Aw==",
            "dtype": "i1"
           },
           "legendgroup": "C30",
           "marker": {
            "color": "#FFA15A",
            "pattern": {
             "shape": ""
            }
           },
           "name": "C30",
           "orientation": "v",
           "showlegend": true,
           "textposition": "auto",
           "type": "bar",
           "x": {
            "bdata": "Aw==",
            "dtype": "i1"
           },
           "xaxis": "x",
           "y": {
            "bdata": "vBA=",
            "dtype": "i2"
           },
           "yaxis": "y"
          },
          {
           "hovertemplate": "page2_clothing_model=C10<br>month=7<br>Main Category=%{x}<br>Total Price=%{y}<extra></extra>",
           "ids": {
            "bdata": "Aw==",
            "dtype": "i1"
           },
           "legendgroup": "C10",
           "marker": {
            "color": "#19d3f3",
            "pattern": {
             "shape": ""
            }
           },
           "name": "C10",
           "orientation": "v",
           "showlegend": true,
           "textposition": "auto",
           "type": "bar",
           "x": {
            "bdata": "Aw==",
            "dtype": "i1"
           },
           "xaxis": "x",
           "y": {
            "bdata": "oAk=",
            "dtype": "i2"
           },
           "yaxis": "y"
          },
          {
           "hovertemplate": "page2_clothing_model=P50<br>month=7<br>Main Category=%{x}<br>Total Price=%{y}<extra></extra>",
           "ids": {
            "bdata": "BA==",
            "dtype": "i1"
           },
           "legendgroup": "P50",
           "marker": {
            "color": "#FF6692",
            "pattern": {
             "shape": ""
            }
           },
           "name": "P50",
           "orientation": "v",
           "showlegend": true,
           "textposition": "auto",
           "type": "bar",
           "x": {
            "bdata": "BA==",
            "dtype": "i1"
           },
           "xaxis": "x",
           "y": {
            "bdata": "igk=",
            "dtype": "i2"
           },
           "yaxis": "y"
          },
          {
           "hovertemplate": "page2_clothing_model=A42<br>month=7<br>Main Category=%{x}<br>Total Price=%{y}<extra></extra>",
           "ids": {
            "bdata": "AQ==",
            "dtype": "i1"
           },
           "legendgroup": "A42",
           "marker": {
            "color": "#B6E880",
            "pattern": {
             "shape": ""
            }
           },
           "name": "A42",
           "orientation": "v",
           "showlegend": true,
           "textposition": "auto",
           "type": "bar",
           "x": {
            "bdata": "AQ==",
            "dtype": "i1"
           },
           "xaxis": "x",
           "y": {
            "bdata": "dA0=",
            "dtype": "i2"
           },
           "yaxis": "y"
          },
          {
           "hovertemplate": "page2_clothing_model=P5<br>month=7<br>Main Category=%{x}<br>Total Price=%{y}<extra></extra>",
           "ids": {
            "bdata": "BA==",
            "dtype": "i1"
           },
           "legendgroup": "P5",
           "marker": {
            "color": "#FF97FF",
            "pattern": {
             "shape": ""
            }
           },
           "name": "P5",
           "orientation": "v",
           "showlegend": true,
           "textposition": "auto",
           "type": "bar",
           "x": {
            "bdata": "BA==",
            "dtype": "i1"
           },
           "xaxis": "x",
           "y": {
            "bdata": "sQo=",
            "dtype": "i2"
           },
           "yaxis": "y"
          },
          {
           "hovertemplate": "page2_clothing_model=P8<br>month=7<br>Main Category=%{x}<br>Total Price=%{y}<extra></extra>",
           "ids": {
            "bdata": "BA==",
            "dtype": "i1"
           },
           "legendgroup": "P8",
           "marker": {
            "color": "#FECB52",
            "pattern": {
             "shape": ""
            }
           },
           "name": "P8",
           "orientation": "v",
           "showlegend": true,
           "textposition": "auto",
           "type": "bar",
           "x": {
            "bdata": "BA==",
            "dtype": "i1"
           },
           "xaxis": "x",
           "y": {
            "bdata": "IA0=",
            "dtype": "i2"
           },
           "yaxis": "y"
          },
          {
           "hovertemplate": "page2_clothing_model=A26<br>month=7<br>Main Category=%{x}<br>Total Price=%{y}<extra></extra>",
           "ids": {
            "bdata": "AQ==",
            "dtype": "i1"
           },
           "legendgroup": "A26",
           "marker": {
            "color": "#636efa",
            "pattern": {
             "shape": ""
            }
           },
           "name": "A26",
           "orientation": "v",
           "showlegend": true,
           "textposition": "auto",
           "type": "bar",
           "x": {
            "bdata": "AQ==",
            "dtype": "i1"
           },
           "xaxis": "x",
           "y": {
            "bdata": "1AY=",
            "dtype": "i2"
           },
           "yaxis": "y"
          },
          {
           "hovertemplate": "page2_clothing_model=P60<br>month=7<br>Main Category=%{x}<br>Total Price=%{y}<extra></extra>",
           "ids": {
            "bdata": "BA==",
            "dtype": "i1"
           },
           "legendgroup": "P60",
           "marker": {
            "color": "#EF553B",
            "pattern": {
             "shape": ""
            }
           },
           "name": "P60",
           "orientation": "v",
           "showlegend": true,
           "textposition": "auto",
           "type": "bar",
           "x": {
            "bdata": "BA==",
            "dtype": "i1"
           },
           "xaxis": "x",
           "y": {
            "bdata": "HAc=",
            "dtype": "i2"
           },
           "yaxis": "y"
          },
          {
           "hovertemplate": "page2_clothing_model=B7<br>month=7<br>Main Category=%{x}<br>Total Price=%{y}<extra></extra>",
           "ids": {
            "bdata": "Ag==",
            "dtype": "i1"
           },
           "legendgroup": "B7",
           "marker": {
            "color": "#00cc96",
            "pattern": {
             "shape": ""
            }
           },
           "name": "B7",
           "orientation": "v",
           "showlegend": true,
           "textposition": "auto",
           "type": "bar",
           "x": {
            "bdata": "Ag==",
            "dtype": "i1"
           },
           "xaxis": "x",
           "y": {
            "bdata": "LAw=",
            "dtype": "i2"
           },
           "yaxis": "y"
          },
          {
           "hovertemplate": "page2_clothing_model=B28<br>month=7<br>Main Category=%{x}<br>Total Price=%{y}<extra></extra>",
           "ids": {
            "bdata": "Ag==",
            "dtype": "i1"
           },
           "legendgroup": "B28",
           "marker": {
            "color": "#ab63fa",
            "pattern": {
             "shape": ""
            }
           },
           "name": "B28",
           "orientation": "v",
           "showlegend": true,
           "textposition": "auto",
           "type": "bar",
           "x": {
            "bdata": "Ag==",
            "dtype": "i1"
           },
           "xaxis": "x",
           "y": {
            "bdata": "zAk=",
            "dtype": "i2"
           },
           "yaxis": "y"
          },
          {
           "hovertemplate": "page2_clothing_model=C16<br>month=7<br>Main Category=%{x}<br>Total Price=%{y}<extra></extra>",
           "ids": {
            "bdata": "Aw==",
            "dtype": "i1"
           },
           "legendgroup": "C16",
           "marker": {
            "color": "#FFA15A",
            "pattern": {
             "shape": ""
            }
           },
           "name": "C16",
           "orientation": "v",
           "showlegend": true,
           "textposition": "auto",
           "type": "bar",
           "x": {
            "bdata": "Aw==",
            "dtype": "i1"
           },
           "xaxis": "x",
           "y": {
            "bdata": "EAo=",
            "dtype": "i2"
           },
           "yaxis": "y"
          },
          {
           "hovertemplate": "page2_clothing_model=P55<br>month=7<br>Main Category=%{x}<br>Total Price=%{y}<extra></extra>",
           "ids": {
            "bdata": "BA==",
            "dtype": "i1"
           },
           "legendgroup": "P55",
           "marker": {
            "color": "#19d3f3",
            "pattern": {
             "shape": ""
            }
           },
           "name": "P55",
           "orientation": "v",
           "showlegend": true,
           "textposition": "auto",
           "type": "bar",
           "x": {
            "bdata": "BA==",
            "dtype": "i1"
           },
           "xaxis": "x",
           "y": {
            "bdata": "9gY=",
            "dtype": "i2"
           },
           "yaxis": "y"
          },
          {
           "hovertemplate": "page2_clothing_model=C42<br>month=7<br>Main Category=%{x}<br>Total Price=%{y}<extra></extra>",
           "ids": {
            "bdata": "Aw==",
            "dtype": "i1"
           },
           "legendgroup": "C42",
           "marker": {
            "color": "#FF6692",
            "pattern": {
             "shape": ""
            }
           },
           "name": "C42",
           "orientation": "v",
           "showlegend": true,
           "textposition": "auto",
           "type": "bar",
           "x": {
            "bdata": "Aw==",
            "dtype": "i1"
           },
           "xaxis": "x",
           "y": {
            "bdata": "pAg=",
            "dtype": "i2"
           },
           "yaxis": "y"
          },
          {
           "hovertemplate": "page2_clothing_model=P20<br>month=7<br>Main Category=%{x}<br>Total Price=%{y}<extra></extra>",
           "ids": {
            "bdata": "BA==",
            "dtype": "i1"
           },
           "legendgroup": "P20",
           "marker": {
            "color": "#B6E880",
            "pattern": {
             "shape": ""
            }
           },
           "name": "P20",
           "orientation": "v",
           "showlegend": true,
           "textposition": "auto",
           "type": "bar",
           "x": {
            "bdata": "BA==",
            "dtype": "i1"
           },
           "xaxis": "x",
           "y": {
            "bdata": "Rwc=",
            "dtype": "i2"
           },
           "yaxis": "y"
          },
          {
           "hovertemplate": "page2_clothing_model=A39<br>month=7<br>Main Category=%{x}<br>Total Price=%{y}<extra></extra>",
           "ids": {
            "bdata": "AQ==",
            "dtype": "i1"
           },
           "legendgroup": "A39",
           "marker": {
            "color": "#FF97FF",
            "pattern": {
             "shape": ""
            }
           },
           "name": "A39",
           "orientation": "v",
           "showlegend": true,
           "textposition": "auto",
           "type": "bar",
           "x": {
            "bdata": "AQ==",
            "dtype": "i1"
           },
           "xaxis": "x",
           "y": {
            "bdata": "Zg4=",
            "dtype": "i2"
           },
           "yaxis": "y"
          },
          {
           "hovertemplate": "page2_clothing_model=A35<br>month=7<br>Main Category=%{x}<br>Total Price=%{y}<extra></extra>",
           "ids": {
            "bdata": "AQ==",
            "dtype": "i1"
           },
           "legendgroup": "A35",
           "marker": {
            "color": "#FECB52",
            "pattern": {
             "shape": ""
            }
           },
           "name": "A35",
           "orientation": "v",
           "showlegend": true,
           "textposition": "auto",
           "type": "bar",
           "x": {
            "bdata": "AQ==",
            "dtype": "i1"
           },
           "xaxis": "x",
           "y": {
            "bdata": "/gc=",
            "dtype": "i2"
           },
           "yaxis": "y"
          },
          {
           "hovertemplate": "page2_clothing_model=A40<br>month=7<br>Main Category=%{x}<br>Total Price=%{y}<extra></extra>",
           "ids": {
            "bdata": "AQ==",
            "dtype": "i1"
           },
           "legendgroup": "A40",
           "marker": {
            "color": "#636efa",
            "pattern": {
             "shape": ""
            }
           },
           "name": "A40",
           "orientation": "v",
           "showlegend": true,
           "textposition": "auto",
           "type": "bar",
           "x": {
            "bdata": "AQ==",
            "dtype": "i1"
           },
           "xaxis": "x",
           "y": {
            "bdata": "UAg=",
            "dtype": "i2"
           },
           "yaxis": "y"
          },
          {
           "hovertemplate": "page2_clothing_model=C3<br>month=7<br>Main Category=%{x}<br>Total Price=%{y}<extra></extra>",
           "ids": {
            "bdata": "Aw==",
            "dtype": "i1"
           },
           "legendgroup": "C3",
           "marker": {
            "color": "#EF553B",
            "pattern": {
             "shape": ""
            }
           },
           "name": "C3",
           "orientation": "v",
           "showlegend": true,
           "textposition": "auto",
           "type": "bar",
           "x": {
            "bdata": "Aw==",
            "dtype": "i1"
           },
           "xaxis": "x",
           "y": {
            "bdata": "5Qg=",
            "dtype": "i2"
           },
           "yaxis": "y"
          },
          {
           "hovertemplate": "page2_clothing_model=C15<br>month=7<br>Main Category=%{x}<br>Total Price=%{y}<extra></extra>",
           "ids": {
            "bdata": "Aw==",
            "dtype": "i1"
           },
           "legendgroup": "C15",
           "marker": {
            "color": "#00cc96",
            "pattern": {
             "shape": ""
            }
           },
           "name": "C15",
           "orientation": "v",
           "showlegend": true,
           "textposition": "auto",
           "type": "bar",
           "x": {
            "bdata": "Aw==",
            "dtype": "i1"
           },
           "xaxis": "x",
           "y": {
            "bdata": "Lwo=",
            "dtype": "i2"
           },
           "yaxis": "y"
          },
          {
           "hovertemplate": "page2_clothing_model=A25<br>month=7<br>Main Category=%{x}<br>Total Price=%{y}<extra></extra>",
           "ids": {
            "bdata": "AQ==",
            "dtype": "i1"
           },
           "legendgroup": "A25",
           "marker": {
            "color": "#ab63fa",
            "pattern": {
             "shape": ""
            }
           },
           "name": "A25",
           "orientation": "v",
           "showlegend": true,
           "textposition": "auto",
           "type": "bar",
           "x": {
            "bdata": "AQ==",
            "dtype": "i1"
           },
           "xaxis": "x",
           "y": {
            "bdata": "MgU=",
            "dtype": "i2"
           },
           "yaxis": "y"
          },
          {
           "hovertemplate": "page2_clothing_model=P7<br>month=7<br>Main Category=%{x}<br>Total Price=%{y}<extra></extra>",
           "ids": {
            "bdata": "BA==",
            "dtype": "i1"
           },
           "legendgroup": "P7",
           "marker": {
            "color": "#FFA15A",
            "pattern": {
             "shape": ""
            }
           },
           "name": "P7",
           "orientation": "v",
           "showlegend": true,
           "textposition": "auto",
           "type": "bar",
           "x": {
            "bdata": "BA==",
            "dtype": "i1"
           },
           "xaxis": "x",
           "y": {
            "bdata": "OA4=",
            "dtype": "i2"
           },
           "yaxis": "y"
          },
          {
           "hovertemplate": "page2_clothing_model=C50<br>month=7<br>Main Category=%{x}<br>Total Price=%{y}<extra></extra>",
           "ids": {
            "bdata": "Aw==",
            "dtype": "i1"
           },
           "legendgroup": "C50",
           "marker": {
            "color": "#19d3f3",
            "pattern": {
             "shape": ""
            }
           },
           "name": "C50",
           "orientation": "v",
           "showlegend": true,
           "textposition": "auto",
           "type": "bar",
           "x": {
            "bdata": "Aw==",
            "dtype": "i1"
           },
           "xaxis": "x",
           "y": {
            "bdata": "BAs=",
            "dtype": "i2"
           },
           "yaxis": "y"
          },
          {
           "hovertemplate": "page2_clothing_model=P29<br>month=7<br>Main Category=%{x}<br>Total Price=%{y}<extra></extra>",
           "ids": {
            "bdata": "BA==",
            "dtype": "i1"
           },
           "legendgroup": "P29",
           "marker": {
            "color": "#FF6692",
            "pattern": {
             "shape": ""
            }
           },
           "name": "P29",
           "orientation": "v",
           "showlegend": true,
           "textposition": "auto",
           "type": "bar",
           "x": {
            "bdata": "BA==",
            "dtype": "i1"
           },
           "xaxis": "x",
           "y": {
            "bdata": "DQ4=",
            "dtype": "i2"
           },
           "yaxis": "y"
          },
          {
           "hovertemplate": "page2_clothing_model=P9<br>month=7<br>Main Category=%{x}<br>Total Price=%{y}<extra></extra>",
           "ids": {
            "bdata": "BA==",
            "dtype": "i1"
           },
           "legendgroup": "P9",
           "marker": {
            "color": "#B6E880",
            "pattern": {
             "shape": ""
            }
           },
           "name": "P9",
           "orientation": "v",
           "showlegend": true,
           "textposition": "auto",
           "type": "bar",
           "x": {
            "bdata": "BA==",
            "dtype": "i1"
           },
           "xaxis": "x",
           "y": {
            "bdata": "Ugs=",
            "dtype": "i2"
           },
           "yaxis": "y"
          },
          {
           "hovertemplate": "page2_clothing_model=P56<br>month=7<br>Main Category=%{x}<br>Total Price=%{y}<extra></extra>",
           "ids": {
            "bdata": "BA==",
            "dtype": "i1"
           },
           "legendgroup": "P56",
           "marker": {
            "color": "#FF97FF",
            "pattern": {
             "shape": ""
            }
           },
           "name": "P56",
           "orientation": "v",
           "showlegend": true,
           "textposition": "auto",
           "type": "bar",
           "x": {
            "bdata": "BA==",
            "dtype": "i1"
           },
           "xaxis": "x",
           "y": {
            "bdata": "BwU=",
            "dtype": "i2"
           },
           "yaxis": "y"
          },
          {
           "hovertemplate": "page2_clothing_model=C24<br>month=7<br>Main Category=%{x}<br>Total Price=%{y}<extra></extra>",
           "ids": {
            "bdata": "Aw==",
            "dtype": "i1"
           },
           "legendgroup": "C24",
           "marker": {
            "color": "#FECB52",
            "pattern": {
             "shape": ""
            }
           },
           "name": "C24",
           "orientation": "v",
           "showlegend": true,
           "textposition": "auto",
           "type": "bar",
           "x": {
            "bdata": "Aw==",
            "dtype": "i1"
           },
           "xaxis": "x",
           "y": {
            "bdata": "/Qs=",
            "dtype": "i2"
           },
           "yaxis": "y"
          },
          {
           "hovertemplate": "page2_clothing_model=C26<br>month=7<br>Main Category=%{x}<br>Total Price=%{y}<extra></extra>",
           "ids": {
            "bdata": "Aw==",
            "dtype": "i1"
           },
           "legendgroup": "C26",
           "marker": {
            "color": "#636efa",
            "pattern": {
             "shape": ""
            }
           },
           "name": "C26",
           "orientation": "v",
           "showlegend": true,
           "textposition": "auto",
           "type": "bar",
           "x": {
            "bdata": "Aw==",
            "dtype": "i1"
           },
           "xaxis": "x",
           "y": {
            "bdata": "qAc=",
            "dtype": "i2"
           },
           "yaxis": "y"
          },
          {
           "hovertemplate": "page2_clothing_model=B20<br>month=7<br>Main Category=%{x}<br>Total Price=%{y}<extra></extra>",
           "ids": {
            "bdata": "Ag==",
            "dtype": "i1"
           },
           "legendgroup": "B20",
           "marker": {
            "color": "#EF553B",
            "pattern": {
             "shape": ""
            }
           },
           "name": "B20",
           "orientation": "v",
           "showlegend": true,
           "textposition": "auto",
           "type": "bar",
           "x": {
            "bdata": "Ag==",
            "dtype": "i1"
           },
           "xaxis": "x",
           "y": {
            "bdata": "cA0=",
            "dtype": "i2"
           },
           "yaxis": "y"
          },
          {
           "hovertemplate": "page2_clothing_model=C38<br>month=7<br>Main Category=%{x}<br>Total Price=%{y}<extra></extra>",
           "ids": {
            "bdata": "Aw==",
            "dtype": "i1"
           },
           "legendgroup": "C38",
           "marker": {
            "color": "#00cc96",
            "pattern": {
             "shape": ""
            }
           },
           "name": "C38",
           "orientation": "v",
           "showlegend": true,
           "textposition": "auto",
           "type": "bar",
           "x": {
            "bdata": "Aw==",
            "dtype": "i1"
           },
           "xaxis": "x",
           "y": {
            "bdata": "rgY=",
            "dtype": "i2"
           },
           "yaxis": "y"
          },
          {
           "hovertemplate": "page2_clothing_model=A23<br>month=7<br>Main Category=%{x}<br>Total Price=%{y}<extra></extra>",
           "ids": {
            "bdata": "AQ==",
            "dtype": "i1"
           },
           "legendgroup": "A23",
           "marker": {
            "color": "#ab63fa",
            "pattern": {
             "shape": ""
            }
           },
           "name": "A23",
           "orientation": "v",
           "showlegend": true,
           "textposition": "auto",
           "type": "bar",
           "x": {
            "bdata": "AQ==",
            "dtype": "i1"
           },
           "xaxis": "x",
           "y": {
            "bdata": "rAU=",
            "dtype": "i2"
           },
           "yaxis": "y"
          },
          {
           "hovertemplate": "page2_clothing_model=P18<br>month=7<br>Main Category=%{x}<br>Total Price=%{y}<extra></extra>",
           "ids": {
            "bdata": "BA==",
            "dtype": "i1"
           },
           "legendgroup": "P18",
           "marker": {
            "color": "#FFA15A",
            "pattern": {
             "shape": ""
            }
           },
           "name": "P18",
           "orientation": "v",
           "showlegend": true,
           "textposition": "auto",
           "type": "bar",
           "x": {
            "bdata": "BA==",
            "dtype": "i1"
           },
           "xaxis": "x",
           "y": {
            "bdata": "sAw=",
            "dtype": "i2"
           },
           "yaxis": "y"
          },
          {
           "hovertemplate": "page2_clothing_model=B33<br>month=7<br>Main Category=%{x}<br>Total Price=%{y}<extra></extra>",
           "ids": {
            "bdata": "Ag==",
            "dtype": "i1"
           },
           "legendgroup": "B33",
           "marker": {
            "color": "#19d3f3",
            "pattern": {
             "shape": ""
            }
           },
           "name": "B33",
           "orientation": "v",
           "showlegend": true,
           "textposition": "auto",
           "type": "bar",
           "x": {
            "bdata": "Ag==",
            "dtype": "i1"
           },
           "xaxis": "x",
           "y": {
            "bdata": "owg=",
            "dtype": "i2"
           },
           "yaxis": "y"
          },
          {
           "hovertemplate": "page2_clothing_model=A36<br>month=7<br>Main Category=%{x}<br>Total Price=%{y}<extra></extra>",
           "ids": {
            "bdata": "AQ==",
            "dtype": "i1"
           },
           "legendgroup": "A36",
           "marker": {
            "color": "#FF6692",
            "pattern": {
             "shape": ""
            }
           },
           "name": "A36",
           "orientation": "v",
           "showlegend": true,
           "textposition": "auto",
           "type": "bar",
           "x": {
            "bdata": "AQ==",
            "dtype": "i1"
           },
           "xaxis": "x",
           "y": {
            "bdata": "7gU=",
            "dtype": "i2"
           },
           "yaxis": "y"
          },
          {
           "hovertemplate": "page2_clothing_model=P61<br>month=7<br>Main Category=%{x}<br>Total Price=%{y}<extra></extra>",
           "ids": {
            "bdata": "BA==",
            "dtype": "i1"
           },
           "legendgroup": "P61",
           "marker": {
            "color": "#B6E880",
            "pattern": {
             "shape": ""
            }
           },
           "name": "P61",
           "orientation": "v",
           "showlegend": true,
           "textposition": "auto",
           "type": "bar",
           "x": {
            "bdata": "BA==",
            "dtype": "i1"
           },
           "xaxis": "x",
           "y": {
            "bdata": "uAo=",
            "dtype": "i2"
           },
           "yaxis": "y"
          },
          {
           "hovertemplate": "page2_clothing_model=C25<br>month=7<br>Main Category=%{x}<br>Total Price=%{y}<extra></extra>",
           "ids": {
            "bdata": "Aw==",
            "dtype": "i1"
           },
           "legendgroup": "C25",
           "marker": {
            "color": "#FF97FF",
            "pattern": {
             "shape": ""
            }
           },
           "name": "C25",
           "orientation": "v",
           "showlegend": true,
           "textposition": "auto",
           "type": "bar",
           "x": {
            "bdata": "Aw==",
            "dtype": "i1"
           },
           "xaxis": "x",
           "y": {
            "bdata": "kgo=",
            "dtype": "i2"
           },
           "yaxis": "y"
          },
          {
           "hovertemplate": "page2_clothing_model=C48<br>month=7<br>Main Category=%{x}<br>Total Price=%{y}<extra></extra>",
           "ids": {
            "bdata": "Aw==",
            "dtype": "i1"
           },
           "legendgroup": "C48",
           "marker": {
            "color": "#FECB52",
            "pattern": {
             "shape": ""
            }
           },
           "name": "C48",
           "orientation": "v",
           "showlegend": true,
           "textposition": "auto",
           "type": "bar",
           "x": {
            "bdata": "Aw==",
            "dtype": "i1"
           },
           "xaxis": "x",
           "y": {
            "bdata": "MAk=",
            "dtype": "i2"
           },
           "yaxis": "y"
          },
          {
           "hovertemplate": "page2_clothing_model=A19<br>month=7<br>Main Category=%{x}<br>Total Price=%{y}<extra></extra>",
           "ids": {
            "bdata": "AQ==",
            "dtype": "i1"
           },
           "legendgroup": "A19",
           "marker": {
            "color": "#636efa",
            "pattern": {
             "shape": ""
            }
           },
           "name": "A19",
           "orientation": "v",
           "showlegend": true,
           "textposition": "auto",
           "type": "bar",
           "x": {
            "bdata": "AQ==",
            "dtype": "i1"
           },
           "xaxis": "x",
           "y": {
            "bdata": "3Qc=",
            "dtype": "i2"
           },
           "yaxis": "y"
          },
          {
           "hovertemplate": "page2_clothing_model=P72<br>month=7<br>Main Category=%{x}<br>Total Price=%{y}<extra></extra>",
           "ids": {
            "bdata": "BA==",
            "dtype": "i1"
           },
           "legendgroup": "P72",
           "marker": {
            "color": "#EF553B",
            "pattern": {
             "shape": ""
            }
           },
           "name": "P72",
           "orientation": "v",
           "showlegend": true,
           "textposition": "auto",
           "type": "bar",
           "x": {
            "bdata": "BA==",
            "dtype": "i1"
           },
           "xaxis": "x",
           "y": {
            "bdata": "mgs=",
            "dtype": "i2"
           },
           "yaxis": "y"
          },
          {
           "hovertemplate": "page2_clothing_model=P51<br>month=7<br>Main Category=%{x}<br>Total Price=%{y}<extra></extra>",
           "ids": {
            "bdata": "BA==",
            "dtype": "i1"
           },
           "legendgroup": "P51",
           "marker": {
            "color": "#00cc96",
            "pattern": {
             "shape": ""
            }
           },
           "name": "P51",
           "orientation": "v",
           "showlegend": true,
           "textposition": "auto",
           "type": "bar",
           "x": {
            "bdata": "BA==",
            "dtype": "i1"
           },
           "xaxis": "x",
           "y": {
            "bdata": "lAU=",
            "dtype": "i2"
           },
           "yaxis": "y"
          },
          {
           "hovertemplate": "page2_clothing_model=C31<br>month=7<br>Main Category=%{x}<br>Total Price=%{y}<extra></extra>",
           "ids": {
            "bdata": "Aw==",
            "dtype": "i1"
           },
           "legendgroup": "C31",
           "marker": {
            "color": "#ab63fa",
            "pattern": {
             "shape": ""
            }
           },
           "name": "C31",
           "orientation": "v",
           "showlegend": true,
           "textposition": "auto",
           "type": "bar",
           "x": {
            "bdata": "Aw==",
            "dtype": "i1"
           },
           "xaxis": "x",
           "y": {
            "bdata": "5gQ=",
            "dtype": "i2"
           },
           "yaxis": "y"
          },
          {
           "hovertemplate": "page2_clothing_model=C51<br>month=7<br>Main Category=%{x}<br>Total Price=%{y}<extra></extra>",
           "ids": {
            "bdata": "Aw==",
            "dtype": "i1"
           },
           "legendgroup": "C51",
           "marker": {
            "color": "#FFA15A",
            "pattern": {
             "shape": ""
            }
           },
           "name": "C51",
           "orientation": "v",
           "showlegend": true,
           "textposition": "auto",
           "type": "bar",
           "x": {
            "bdata": "Aw==",
            "dtype": "i1"
           },
           "xaxis": "x",
           "y": {
            "bdata": "5Ac=",
            "dtype": "i2"
           },
           "yaxis": "y"
          },
          {
           "hovertemplate": "page2_clothing_model=C32<br>month=7<br>Main Category=%{x}<br>Total Price=%{y}<extra></extra>",
           "ids": {
            "bdata": "Aw==",
            "dtype": "i1"
           },
           "legendgroup": "C32",
           "marker": {
            "color": "#19d3f3",
            "pattern": {
             "shape": ""
            }
           },
           "name": "C32",
           "orientation": "v",
           "showlegend": true,
           "textposition": "auto",
           "type": "bar",
           "x": {
            "bdata": "Aw==",
            "dtype": "i1"
           },
           "xaxis": "x",
           "y": {
            "bdata": "iwU=",
            "dtype": "i2"
           },
           "yaxis": "y"
          },
          {
           "hovertemplate": "page2_clothing_model=P46<br>month=7<br>Main Category=%{x}<br>Total Price=%{y}<extra></extra>",
           "ids": {
            "bdata": "BA==",
            "dtype": "i1"
           },
           "legendgroup": "P46",
           "marker": {
            "color": "#FF6692",
            "pattern": {
             "shape": ""
            }
           },
           "name": "P46",
           "orientation": "v",
           "showlegend": true,
           "textposition": "auto",
           "type": "bar",
           "x": {
            "bdata": "BA==",
            "dtype": "i1"
           },
           "xaxis": "x",
           "y": {
            "bdata": "JAU=",
            "dtype": "i2"
           },
           "yaxis": "y"
          },
          {
           "hovertemplate": "page2_clothing_model=P38<br>month=7<br>Main Category=%{x}<br>Total Price=%{y}<extra></extra>",
           "ids": {
            "bdata": "BA==",
            "dtype": "i1"
           },
           "legendgroup": "P38",
           "marker": {
            "color": "#B6E880",
            "pattern": {
             "shape": ""
            }
           },
           "name": "P38",
           "orientation": "v",
           "showlegend": true,
           "textposition": "auto",
           "type": "bar",
           "x": {
            "bdata": "BA==",
            "dtype": "i1"
           },
           "xaxis": "x",
           "y": {
            "bdata": "BwU=",
            "dtype": "i2"
           },
           "yaxis": "y"
          },
          {
           "hovertemplate": "page2_clothing_model=P47<br>month=7<br>Main Category=%{x}<br>Total Price=%{y}<extra></extra>",
           "ids": {
            "bdata": "BA==",
            "dtype": "i1"
           },
           "legendgroup": "P47",
           "marker": {
            "color": "#FF97FF",
            "pattern": {
             "shape": ""
            }
           },
           "name": "P47",
           "orientation": "v",
           "showlegend": true,
           "textposition": "auto",
           "type": "bar",
           "x": {
            "bdata": "BA==",
            "dtype": "i1"
           },
           "xaxis": "x",
           "y": {
            "bdata": "1AM=",
            "dtype": "i2"
           },
           "yaxis": "y"
          },
          {
           "hovertemplate": "page2_clothing_model=P71<br>month=7<br>Main Category=%{x}<br>Total Price=%{y}<extra></extra>",
           "ids": {
            "bdata": "BA==",
            "dtype": "i1"
           },
           "legendgroup": "P71",
           "marker": {
            "color": "#FECB52",
            "pattern": {
             "shape": ""
            }
           },
           "name": "P71",
           "orientation": "v",
           "showlegend": true,
           "textposition": "auto",
           "type": "bar",
           "x": {
            "bdata": "BA==",
            "dtype": "i1"
           },
           "xaxis": "x",
           "y": {
            "bdata": "xAg=",
            "dtype": "i2"
           },
           "yaxis": "y"
          },
          {
           "hovertemplate": "page2_clothing_model=P30<br>month=7<br>Main Category=%{x}<br>Total Price=%{y}<extra></extra>",
           "ids": {
            "bdata": "BA==",
            "dtype": "i1"
           },
           "legendgroup": "P30",
           "marker": {
            "color": "#636efa",
            "pattern": {
             "shape": ""
            }
           },
           "name": "P30",
           "orientation": "v",
           "showlegend": true,
           "textposition": "auto",
           "type": "bar",
           "x": {
            "bdata": "BA==",
            "dtype": "i1"
           },
           "xaxis": "x",
           "y": {
            "bdata": "MAY=",
            "dtype": "i2"
           },
           "yaxis": "y"
          },
          {
           "hovertemplate": "page2_clothing_model=P74<br>month=7<br>Main Category=%{x}<br>Total Price=%{y}<extra></extra>",
           "ids": {
            "bdata": "BA==",
            "dtype": "i1"
           },
           "legendgroup": "P74",
           "marker": {
            "color": "#EF553B",
            "pattern": {
             "shape": ""
            }
           },
           "name": "P74",
           "orientation": "v",
           "showlegend": true,
           "textposition": "auto",
           "type": "bar",
           "x": {
            "bdata": "BA==",
            "dtype": "i1"
           },
           "xaxis": "x",
           "y": {
            "bdata": "ggg=",
            "dtype": "i2"
           },
           "yaxis": "y"
          },
          {
           "hovertemplate": "page2_clothing_model=P63<br>month=7<br>Main Category=%{x}<br>Total Price=%{y}<extra></extra>",
           "ids": {
            "bdata": "BA==",
            "dtype": "i1"
           },
           "legendgroup": "P63",
           "marker": {
            "color": "#00cc96",
            "pattern": {
             "shape": ""
            }
           },
           "name": "P63",
           "orientation": "v",
           "showlegend": true,
           "textposition": "auto",
           "type": "bar",
           "x": {
            "bdata": "BA==",
            "dtype": "i1"
           },
           "xaxis": "x",
           "y": {
            "bdata": "BAY=",
            "dtype": "i2"
           },
           "yaxis": "y"
          },
          {
           "hovertemplate": "page2_clothing_model=P42<br>month=7<br>Main Category=%{x}<br>Total Price=%{y}<extra></extra>",
           "ids": {
            "bdata": "BA==",
            "dtype": "i1"
           },
           "legendgroup": "P42",
           "marker": {
            "color": "#ab63fa",
            "pattern": {
             "shape": ""
            }
           },
           "name": "P42",
           "orientation": "v",
           "showlegend": true,
           "textposition": "auto",
           "type": "bar",
           "x": {
            "bdata": "BA==",
            "dtype": "i1"
           },
           "xaxis": "x",
           "y": {
            "bdata": "lAU=",
            "dtype": "i2"
           },
           "yaxis": "y"
          },
          {
           "hovertemplate": "page2_clothing_model=P21<br>month=7<br>Main Category=%{x}<br>Total Price=%{y}<extra></extra>",
           "ids": {
            "bdata": "BA==",
            "dtype": "i1"
           },
           "legendgroup": "P21",
           "marker": {
            "color": "#FFA15A",
            "pattern": {
             "shape": ""
            }
           },
           "name": "P21",
           "orientation": "v",
           "showlegend": true,
           "textposition": "auto",
           "type": "bar",
           "x": {
            "bdata": "BA==",
            "dtype": "i1"
           },
           "xaxis": "x",
           "y": {
            "bdata": "iwU=",
            "dtype": "i2"
           },
           "yaxis": "y"
          },
          {
           "hovertemplate": "page2_clothing_model=P44<br>month=7<br>Main Category=%{x}<br>Total Price=%{y}<extra></extra>",
           "ids": {
            "bdata": "BA==",
            "dtype": "i1"
           },
           "legendgroup": "P44",
           "marker": {
            "color": "#19d3f3",
            "pattern": {
             "shape": ""
            }
           },
           "name": "P44",
           "orientation": "v",
           "showlegend": true,
           "textposition": "auto",
           "type": "bar",
           "x": {
            "bdata": "BA==",
            "dtype": "i1"
           },
           "xaxis": "x",
           "y": {
            "bdata": "ZAM=",
            "dtype": "i2"
           },
           "yaxis": "y"
          },
          {
           "hovertemplate": "page2_clothing_model=P75<br>month=7<br>Main Category=%{x}<br>Total Price=%{y}<extra></extra>",
           "ids": {
            "bdata": "BA==",
            "dtype": "i1"
           },
           "legendgroup": "P75",
           "marker": {
            "color": "#FF6692",
            "pattern": {
             "shape": ""
            }
           },
           "name": "P75",
           "orientation": "v",
           "showlegend": true,
           "textposition": "auto",
           "type": "bar",
           "x": {
            "bdata": "BA==",
            "dtype": "i1"
           },
           "xaxis": "x",
           "y": {
            "bdata": "ewM=",
            "dtype": "i2"
           },
           "yaxis": "y"
          },
          {
           "hovertemplate": "page2_clothing_model=P27<br>month=7<br>Main Category=%{x}<br>Total Price=%{y}<extra></extra>",
           "ids": {
            "bdata": "BA==",
            "dtype": "i1"
           },
           "legendgroup": "P27",
           "marker": {
            "color": "#B6E880",
            "pattern": {
             "shape": ""
            }
           },
           "name": "P27",
           "orientation": "v",
           "showlegend": true,
           "textposition": "auto",
           "type": "bar",
           "x": {
            "bdata": "BA==",
            "dtype": "i1"
           },
           "xaxis": "x",
           "y": {
            "bdata": "nAM=",
            "dtype": "i2"
           },
           "yaxis": "y"
          },
          {
           "hovertemplate": "page2_clothing_model=C52<br>month=7<br>Main Category=%{x}<br>Total Price=%{y}<extra></extra>",
           "ids": {
            "bdata": "Aw==",
            "dtype": "i1"
           },
           "legendgroup": "C52",
           "marker": {
            "color": "#FF97FF",
            "pattern": {
             "shape": ""
            }
           },
           "name": "C52",
           "orientation": "v",
           "showlegend": true,
           "textposition": "auto",
           "type": "bar",
           "x": {
            "bdata": "Aw==",
            "dtype": "i1"
           },
           "xaxis": "x",
           "y": {
            "bdata": "FgY=",
            "dtype": "i2"
           },
           "yaxis": "y"
          },
          {
           "hovertemplate": "page2_clothing_model=P73<br>month=7<br>Main Category=%{x}<br>Total Price=%{y}<extra></extra>",
           "ids": {
            "bdata": "BA==",
            "dtype": "i1"
           },
           "legendgroup": "P73",
           "marker": {
            "color": "#FECB52",
            "pattern": {
             "shape": ""
            }
           },
           "name": "P73",
           "orientation": "v",
           "showlegend": true,
           "textposition": "auto",
           "type": "bar",
           "x": {
            "bdata": "BA==",
            "dtype": "i1"
           },
           "xaxis": "x",
           "y": {
            "bdata": "zQU=",
            "dtype": "i2"
           },
           "yaxis": "y"
          },
          {
           "hovertemplate": "page2_clothing_model=P80<br>month=7<br>Main Category=%{x}<br>Total Price=%{y}<extra></extra>",
           "ids": {
            "bdata": "BA==",
            "dtype": "i1"
           },
           "legendgroup": "P80",
           "marker": {
            "color": "#636efa",
            "pattern": {
             "shape": ""
            }
           },
           "name": "P80",
           "orientation": "v",
           "showlegend": true,
           "textposition": "auto",
           "type": "bar",
           "x": {
            "bdata": "BA==",
            "dtype": "i1"
           },
           "xaxis": "x",
           "y": {
            "bdata": "eAU=",
            "dtype": "i2"
           },
           "yaxis": "y"
          },
          {
           "hovertemplate": "page2_clothing_model=P35<br>month=7<br>Main Category=%{x}<br>Total Price=%{y}<extra></extra>",
           "ids": {
            "bdata": "BA==",
            "dtype": "i1"
           },
           "legendgroup": "P35",
           "marker": {
            "color": "#EF553B",
            "pattern": {
             "shape": ""
            }
           },
           "name": "P35",
           "orientation": "v",
           "showlegend": true,
           "textposition": "auto",
           "type": "bar",
           "x": {
            "bdata": "BA==",
            "dtype": "i1"
           },
           "xaxis": "x",
           "y": {
            "bdata": "7AQ=",
            "dtype": "i2"
           },
           "yaxis": "y"
          },
          {
           "hovertemplate": "page2_clothing_model=P52<br>month=7<br>Main Category=%{x}<br>Total Price=%{y}<extra></extra>",
           "ids": {
            "bdata": "BA==",
            "dtype": "i1"
           },
           "legendgroup": "P52",
           "marker": {
            "color": "#00cc96",
            "pattern": {
             "shape": ""
            }
           },
           "name": "P52",
           "orientation": "v",
           "showlegend": true,
           "textposition": "auto",
           "type": "bar",
           "x": {
            "bdata": "BA==",
            "dtype": "i1"
           },
           "xaxis": "x",
           "y": {
            "bdata": "2gQ=",
            "dtype": "i2"
           },
           "yaxis": "y"
          },
          {
           "hovertemplate": "page2_clothing_model=C47<br>month=7<br>Main Category=%{x}<br>Total Price=%{y}<extra></extra>",
           "ids": {
            "bdata": "Aw==",
            "dtype": "i1"
           },
           "legendgroup": "C47",
           "marker": {
            "color": "#ab63fa",
            "pattern": {
             "shape": ""
            }
           },
           "name": "C47",
           "orientation": "v",
           "showlegend": true,
           "textposition": "auto",
           "type": "bar",
           "x": {
            "bdata": "Aw==",
            "dtype": "i1"
           },
           "xaxis": "x",
           "y": {
            "bdata": "cgM=",
            "dtype": "i2"
           },
           "yaxis": "y"
          },
          {
           "hovertemplate": "page2_clothing_model=P62<br>month=7<br>Main Category=%{x}<br>Total Price=%{y}<extra></extra>",
           "ids": {
            "bdata": "BA==",
            "dtype": "i1"
           },
           "legendgroup": "P62",
           "marker": {
            "color": "#FFA15A",
            "pattern": {
             "shape": ""
            }
           },
           "name": "P62",
           "orientation": "v",
           "showlegend": true,
           "textposition": "auto",
           "type": "bar",
           "x": {
            "bdata": "BA==",
            "dtype": "i1"
           },
           "xaxis": "x",
           "y": {
            "bdata": "gwQ=",
            "dtype": "i2"
           },
           "yaxis": "y"
          },
          {
           "hovertemplate": "page2_clothing_model=P45<br>month=7<br>Main Category=%{x}<br>Total Price=%{y}<extra></extra>",
           "ids": {
            "bdata": "BA==",
            "dtype": "i1"
           },
           "legendgroup": "P45",
           "marker": {
            "color": "#19d3f3",
            "pattern": {
             "shape": ""
            }
           },
           "name": "P45",
           "orientation": "v",
           "showlegend": true,
           "textposition": "auto",
           "type": "bar",
           "x": {
            "bdata": "BA==",
            "dtype": "i1"
           },
           "xaxis": "x",
           "y": {
            "bdata": "IAQ=",
            "dtype": "i2"
           },
           "yaxis": "y"
          },
          {
           "hovertemplate": "page2_clothing_model=C43<br>month=7<br>Main Category=%{x}<br>Total Price=%{y}<extra></extra>",
           "ids": {
            "bdata": "Aw==",
            "dtype": "i1"
           },
           "legendgroup": "C43",
           "marker": {
            "color": "#FF6692",
            "pattern": {
             "shape": ""
            }
           },
           "name": "C43",
           "orientation": "v",
           "showlegend": true,
           "textposition": "auto",
           "type": "bar",
           "x": {
            "bdata": "Aw==",
            "dtype": "i1"
           },
           "xaxis": "x",
           "y": {
            "bdata": "DAQ=",
            "dtype": "i2"
           },
           "yaxis": "y"
          },
          {
           "hovertemplate": "page2_clothing_model=P64<br>month=7<br>Main Category=%{x}<br>Total Price=%{y}<extra></extra>",
           "ids": {
            "bdata": "BA==",
            "dtype": "i1"
           },
           "legendgroup": "P64",
           "marker": {
            "color": "#B6E880",
            "pattern": {
             "shape": ""
            }
           },
           "name": "P64",
           "orientation": "v",
           "showlegend": true,
           "textposition": "auto",
           "type": "bar",
           "x": {
            "bdata": "BA==",
            "dtype": "i1"
           },
           "xaxis": "x",
           "y": {
            "bdata": "hAI=",
            "dtype": "i2"
           },
           "yaxis": "y"
          },
          {
           "hovertemplate": "page2_clothing_model=P31<br>month=7<br>Main Category=%{x}<br>Total Price=%{y}<extra></extra>",
           "ids": {
            "bdata": "BA==",
            "dtype": "i1"
           },
           "legendgroup": "P31",
           "marker": {
            "color": "#FF97FF",
            "pattern": {
             "shape": ""
            }
           },
           "name": "P31",
           "orientation": "v",
           "showlegend": true,
           "textposition": "auto",
           "type": "bar",
           "x": {
            "bdata": "BA==",
            "dtype": "i1"
           },
           "xaxis": "x",
           "y": {
            "bdata": "MQI=",
            "dtype": "i2"
           },
           "yaxis": "y"
          }
         ],
         "name": "7"
        },
        {
         "data": [
          {
           "hovertemplate": "page2_clothing_model=A2<br>month=4<br>Main Category=%{x}<br>Total Price=%{y}<extra></extra>",
           "ids": {
            "bdata": "AQ==",
            "dtype": "i1"
           },
           "legendgroup": "A2",
           "marker": {
            "color": "#636efa",
            "pattern": {
             "shape": ""
            }
           },
           "name": "A2",
           "orientation": "v",
           "showlegend": true,
           "textposition": "auto",
           "type": "bar",
           "x": {
            "bdata": "AQ==",
            "dtype": "i1"
           },
           "xaxis": "x",
           "y": {
            "bdata": "1Go=",
            "dtype": "i2"
           },
           "yaxis": "y"
          },
          {
           "hovertemplate": "page2_clothing_model=A4<br>month=4<br>Main Category=%{x}<br>Total Price=%{y}<extra></extra>",
           "ids": {
            "bdata": "AQ==",
            "dtype": "i1"
           },
           "legendgroup": "A4",
           "marker": {
            "color": "#EF553B",
            "pattern": {
             "shape": ""
            }
           },
           "name": "A4",
           "orientation": "v",
           "showlegend": true,
           "textposition": "auto",
           "type": "bar",
           "x": {
            "bdata": "AQ==",
            "dtype": "i1"
           },
           "xaxis": "x",
           "y": {
            "bdata": "Glo=",
            "dtype": "i2"
           },
           "yaxis": "y"
          },
          {
           "hovertemplate": "page2_clothing_model=A5<br>month=4<br>Main Category=%{x}<br>Total Price=%{y}<extra></extra>",
           "ids": {
            "bdata": "AQ==",
            "dtype": "i1"
           },
           "legendgroup": "A5",
           "marker": {
            "color": "#00cc96",
            "pattern": {
             "shape": ""
            }
           },
           "name": "A5",
           "orientation": "v",
           "showlegend": true,
           "textposition": "auto",
           "type": "bar",
           "x": {
            "bdata": "AQ==",
            "dtype": "i1"
           },
           "xaxis": "x",
           "y": {
            "bdata": "K1Y=",
            "dtype": "i2"
           },
           "yaxis": "y"
          },
          {
           "hovertemplate": "page2_clothing_model=A15<br>month=4<br>Main Category=%{x}<br>Total Price=%{y}<extra></extra>",
           "ids": {
            "bdata": "AQ==",
            "dtype": "i1"
           },
           "legendgroup": "A15",
           "marker": {
            "color": "#ab63fa",
            "pattern": {
             "shape": ""
            }
           },
           "name": "A15",
           "orientation": "v",
           "showlegend": true,
           "textposition": "auto",
           "type": "bar",
           "x": {
            "bdata": "AQ==",
            "dtype": "i1"
           },
           "xaxis": "x",
           "y": {
            "bdata": "iFM=",
            "dtype": "i2"
           },
           "yaxis": "y"
          },
          {
           "hovertemplate": "page2_clothing_model=A10<br>month=4<br>Main Category=%{x}<br>Total Price=%{y}<extra></extra>",
           "ids": {
            "bdata": "AQ==",
            "dtype": "i1"
           },
           "legendgroup": "A10",
           "marker": {
            "color": "#FFA15A",
            "pattern": {
             "shape": ""
            }
           },
           "name": "A10",
           "orientation": "v",
           "showlegend": true,
           "textposition": "auto",
           "type": "bar",
           "x": {
            "bdata": "AQ==",
            "dtype": "i1"
           },
           "xaxis": "x",
           "y": {
            "bdata": "yE0=",
            "dtype": "i2"
           },
           "yaxis": "y"
          },
          {
           "hovertemplate": "page2_clothing_model=A6<br>month=4<br>Main Category=%{x}<br>Total Price=%{y}<extra></extra>",
           "ids": {
            "bdata": "AQ==",
            "dtype": "i1"
           },
           "legendgroup": "A6",
           "marker": {
            "color": "#19d3f3",
            "pattern": {
             "shape": ""
            }
           },
           "name": "A6",
           "orientation": "v",
           "showlegend": true,
           "textposition": "auto",
           "type": "bar",
           "x": {
            "bdata": "AQ==",
            "dtype": "i1"
           },
           "xaxis": "x",
           "y": {
            "bdata": "X0U=",
            "dtype": "i2"
           },
           "yaxis": "y"
          },
          {
           "hovertemplate": "page2_clothing_model=A12<br>month=4<br>Main Category=%{x}<br>Total Price=%{y}<extra></extra>",
           "ids": {
            "bdata": "AQ==",
            "dtype": "i1"
           },
           "legendgroup": "A12",
           "marker": {
            "color": "#FF6692",
            "pattern": {
             "shape": ""
            }
           },
           "name": "A12",
           "orientation": "v",
           "showlegend": true,
           "textposition": "auto",
           "type": "bar",
           "x": {
            "bdata": "AQ==",
            "dtype": "i1"
           },
           "xaxis": "x",
           "y": {
            "bdata": "WkI=",
            "dtype": "i2"
           },
           "yaxis": "y"
          },
          {
           "hovertemplate": "page2_clothing_model=A7<br>month=4<br>Main Category=%{x}<br>Total Price=%{y}<extra></extra>",
           "ids": {
            "bdata": "AQ==",
            "dtype": "i1"
           },
           "legendgroup": "A7",
           "marker": {
            "color": "#B6E880",
            "pattern": {
             "shape": ""
            }
           },
           "name": "A7",
           "orientation": "v",
           "showlegend": true,
           "textposition": "auto",
           "type": "bar",
           "x": {
            "bdata": "AQ==",
            "dtype": "i1"
           },
           "xaxis": "x",
           "y": {
            "bdata": "pz4=",
            "dtype": "i2"
           },
           "yaxis": "y"
          },
          {
           "hovertemplate": "page2_clothing_model=A1<br>month=4<br>Main Category=%{x}<br>Total Price=%{y}<extra></extra>",
           "ids": {
            "bdata": "AQ==",
            "dtype": "i1"
           },
           "legendgroup": "A1",
           "marker": {
            "color": "#FF97FF",
            "pattern": {
             "shape": ""
            }
           },
           "name": "A1",
           "orientation": "v",
           "showlegend": true,
           "textposition": "auto",
           "type": "bar",
           "x": {
            "bdata": "AQ==",
            "dtype": "i1"
           },
           "xaxis": "x",
           "y": {
            "bdata": "lDY=",
            "dtype": "i2"
           },
           "yaxis": "y"
          },
          {
           "hovertemplate": "page2_clothing_model=B11<br>month=4<br>Main Category=%{x}<br>Total Price=%{y}<extra></extra>",
           "ids": {
            "bdata": "Ag==",
            "dtype": "i1"
           },
           "legendgroup": "B11",
           "marker": {
            "color": "#FECB52",
            "pattern": {
             "shape": ""
            }
           },
           "name": "B11",
           "orientation": "v",
           "showlegend": true,
           "textposition": "auto",
           "type": "bar",
           "x": {
            "bdata": "Ag==",
            "dtype": "i1"
           },
           "xaxis": "x",
           "y": {
            "bdata": "bDY=",
            "dtype": "i2"
           },
           "yaxis": "y"
          },
          {
           "hovertemplate": "page2_clothing_model=B15<br>month=4<br>Main Category=%{x}<br>Total Price=%{y}<extra></extra>",
           "ids": {
            "bdata": "Ag==",
            "dtype": "i1"
           },
           "legendgroup": "B15",
           "marker": {
            "color": "#636efa",
            "pattern": {
             "shape": ""
            }
           },
           "name": "B15",
           "orientation": "v",
           "showlegend": true,
           "textposition": "auto",
           "type": "bar",
           "x": {
            "bdata": "Ag==",
            "dtype": "i1"
           },
           "xaxis": "x",
           "y": {
            "bdata": "XDM=",
            "dtype": "i2"
           },
           "yaxis": "y"
          },
          {
           "hovertemplate": "page2_clothing_model=B32<br>month=4<br>Main Category=%{x}<br>Total Price=%{y}<extra></extra>",
           "ids": {
            "bdata": "Ag==",
            "dtype": "i1"
           },
           "legendgroup": "B32",
           "marker": {
            "color": "#EF553B",
            "pattern": {
             "shape": ""
            }
           },
           "name": "B32",
           "orientation": "v",
           "showlegend": true,
           "textposition": "auto",
           "type": "bar",
           "x": {
            "bdata": "Ag==",
            "dtype": "i1"
           },
           "xaxis": "x",
           "y": {
            "bdata": "NjM=",
            "dtype": "i2"
           },
           "yaxis": "y"
          },
          {
           "hovertemplate": "page2_clothing_model=P16<br>month=4<br>Main Category=%{x}<br>Total Price=%{y}<extra></extra>",
           "ids": {
            "bdata": "BA==",
            "dtype": "i1"
           },
           "legendgroup": "P16",
           "marker": {
            "color": "#00cc96",
            "pattern": {
             "shape": ""
            }
           },
           "name": "P16",
           "orientation": "v",
           "showlegend": true,
           "textposition": "auto",
           "type": "bar",
           "x": {
            "bdata": "BA==",
            "dtype": "i1"
           },
           "xaxis": "x",
           "y": {
            "bdata": "qTI=",
            "dtype": "i2"
           },
           "yaxis": "y"
          },
          {
           "hovertemplate": "page2_clothing_model=B23<br>month=4<br>Main Category=%{x}<br>Total Price=%{y}<extra></extra>",
           "ids": {
            "bdata": "Ag==",
            "dtype": "i1"
           },
           "legendgroup": "B23",
           "marker": {
            "color": "#ab63fa",
            "pattern": {
             "shape": ""
            }
           },
           "name": "B23",
           "orientation": "v",
           "showlegend": true,
           "textposition": "auto",
           "type": "bar",
           "x": {
            "bdata": "Ag==",
            "dtype": "i1"
           },
           "xaxis": "x",
           "y": {
            "bdata": "ijA=",
            "dtype": "i2"
           },
           "yaxis": "y"
          },
          {
           "hovertemplate": "page2_clothing_model=B17<br>month=4<br>Main Category=%{x}<br>Total Price=%{y}<extra></extra>",
           "ids": {
            "bdata": "Ag==",
            "dtype": "i1"
           },
           "legendgroup": "B17",
           "marker": {
            "color": "#FFA15A",
            "pattern": {
             "shape": ""
            }
           },
           "name": "B17",
           "orientation": "v",
           "showlegend": true,
           "textposition": "auto",
           "type": "bar",
           "x": {
            "bdata": "Ag==",
            "dtype": "i1"
           },
           "xaxis": "x",
           "y": {
            "bdata": "ki0=",
            "dtype": "i2"
           },
           "yaxis": "y"
          },
          {
           "hovertemplate": "page2_clothing_model=B12<br>month=4<br>Main Category=%{x}<br>Total Price=%{y}<extra></extra>",
           "ids": {
            "bdata": "Ag==",
            "dtype": "i1"
           },
           "legendgroup": "B12",
           "marker": {
            "color": "#19d3f3",
            "pattern": {
             "shape": ""
            }
           },
           "name": "B12",
           "orientation": "v",
           "showlegend": true,
           "textposition": "auto",
           "type": "bar",
           "x": {
            "bdata": "Ag==",
            "dtype": "i1"
           },
           "xaxis": "x",
           "y": {
            "bdata": "bC0=",
            "dtype": "i2"
           },
           "yaxis": "y"
          },
          {
           "hovertemplate": "page2_clothing_model=A16<br>month=4<br>Main Category=%{x}<br>Total Price=%{y}<extra></extra>",
           "ids": {
            "bdata": "AQ==",
            "dtype": "i1"
           },
           "legendgroup": "A16",
           "marker": {
            "color": "#FF6692",
            "pattern": {
             "shape": ""
            }
           },
           "name": "A16",
           "orientation": "v",
           "showlegend": true,
           "textposition": "auto",
           "type": "bar",
           "x": {
            "bdata": "AQ==",
            "dtype": "i1"
           },
           "xaxis": "x",
           "y": {
            "bdata": "YC0=",
            "dtype": "i2"
           },
           "yaxis": "y"
          },
          {
           "hovertemplate": "page2_clothing_model=B9<br>month=4<br>Main Category=%{x}<br>Total Price=%{y}<extra></extra>",
           "ids": {
            "bdata": "Ag==",
            "dtype": "i1"
           },
           "legendgroup": "B9",
           "marker": {
            "color": "#B6E880",
            "pattern": {
             "shape": ""
            }
           },
           "name": "B9",
           "orientation": "v",
           "showlegend": true,
           "textposition": "auto",
           "type": "bar",
           "x": {
            "bdata": "Ag==",
            "dtype": "i1"
           },
           "xaxis": "x",
           "y": {
            "bdata": "ICs=",
            "dtype": "i2"
           },
           "yaxis": "y"
          },
          {
           "hovertemplate": "page2_clothing_model=A13<br>month=4<br>Main Category=%{x}<br>Total Price=%{y}<extra></extra>",
           "ids": {
            "bdata": "AQ==",
            "dtype": "i1"
           },
           "legendgroup": "A13",
           "marker": {
            "color": "#FF97FF",
            "pattern": {
             "shape": ""
            }
           },
           "name": "A13",
           "orientation": "v",
           "showlegend": true,
           "textposition": "auto",
           "type": "bar",
           "x": {
            "bdata": "AQ==",
            "dtype": "i1"
           },
           "xaxis": "x",
           "y": {
            "bdata": "yCk=",
            "dtype": "i2"
           },
           "yaxis": "y"
          },
          {
           "hovertemplate": "page2_clothing_model=B19<br>month=4<br>Main Category=%{x}<br>Total Price=%{y}<extra></extra>",
           "ids": {
            "bdata": "Ag==",
            "dtype": "i1"
           },
           "legendgroup": "B19",
           "marker": {
            "color": "#FECB52",
            "pattern": {
             "shape": ""
            }
           },
           "name": "B19",
           "orientation": "v",
           "showlegend": true,
           "textposition": "auto",
           "type": "bar",
           "x": {
            "bdata": "Ag==",
            "dtype": "i1"
           },
           "xaxis": "x",
           "y": {
            "bdata": "ciY=",
            "dtype": "i2"
           },
           "yaxis": "y"
          },
          {
           "hovertemplate": "page2_clothing_model=A33<br>month=4<br>Main Category=%{x}<br>Total Price=%{y}<extra></extra>",
           "ids": {
            "bdata": "AQ==",
            "dtype": "i1"
           },
           "legendgroup": "A33",
           "marker": {
            "color": "#636efa",
            "pattern": {
             "shape": ""
            }
           },
           "name": "A33",
           "orientation": "v",
           "showlegend": true,
           "textposition": "auto",
           "type": "bar",
           "x": {
            "bdata": "AQ==",
            "dtype": "i1"
           },
           "xaxis": "x",
           "y": {
            "bdata": "XiQ=",
            "dtype": "i2"
           },
           "yaxis": "y"
          },
          {
           "hovertemplate": "page2_clothing_model=P12<br>month=4<br>Main Category=%{x}<br>Total Price=%{y}<extra></extra>",
           "ids": {
            "bdata": "BA==",
            "dtype": "i1"
           },
           "legendgroup": "P12",
           "marker": {
            "color": "#EF553B",
            "pattern": {
             "shape": ""
            }
           },
           "name": "P12",
           "orientation": "v",
           "showlegend": true,
           "textposition": "auto",
           "type": "bar",
           "x": {
            "bdata": "BA==",
            "dtype": "i1"
           },
           "xaxis": "x",
           "y": {
            "bdata": "+B8=",
            "dtype": "i2"
           },
           "yaxis": "y"
          },
          {
           "hovertemplate": "page2_clothing_model=A41<br>month=4<br>Main Category=%{x}<br>Total Price=%{y}<extra></extra>",
           "ids": {
            "bdata": "AQ==",
            "dtype": "i1"
           },
           "legendgroup": "A41",
           "marker": {
            "color": "#00cc96",
            "pattern": {
             "shape": ""
            }
           },
           "name": "A41",
           "orientation": "v",
           "showlegend": true,
           "textposition": "auto",
           "type": "bar",
           "x": {
            "bdata": "AQ==",
            "dtype": "i1"
           },
           "xaxis": "x",
           "y": {
            "bdata": "kB0=",
            "dtype": "i2"
           },
           "yaxis": "y"
          },
          {
           "hovertemplate": "page2_clothing_model=C1<br>month=4<br>Main Category=%{x}<br>Total Price=%{y}<extra></extra>",
           "ids": {
            "bdata": "Aw==",
            "dtype": "i1"
           },
           "legendgroup": "C1",
           "marker": {
            "color": "#ab63fa",
            "pattern": {
             "shape": ""
            }
           },
           "name": "C1",
           "orientation": "v",
           "showlegend": true,
           "textposition": "auto",
           "type": "bar",
           "x": {
            "bdata": "Aw==",
            "dtype": "i1"
           },
           "xaxis": "x",
           "y": {
            "bdata": "GB0=",
            "dtype": "i2"
           },
           "yaxis": "y"
          },
          {
           "hovertemplate": "page2_clothing_model=A18<br>month=4<br>Main Category=%{x}<br>Total Price=%{y}<extra></extra>",
           "ids": {
            "bdata": "AQI=",
            "dtype": "i1"
           },
           "legendgroup": "A18",
           "marker": {
            "color": "#FFA15A",
            "pattern": {
             "shape": ""
            }
           },
           "name": "A18",
           "orientation": "v",
           "showlegend": true,
           "textposition": "auto",
           "type": "bar",
           "x": {
            "bdata": "AQI=",
            "dtype": "i1"
           },
           "xaxis": "x",
           "y": {
            "bdata": "8hwmAA==",
            "dtype": "i2"
           },
           "yaxis": "y"
          },
          {
           "hovertemplate": "page2_clothing_model=B34<br>month=4<br>Main Category=%{x}<br>Total Price=%{y}<extra></extra>",
           "ids": {
            "bdata": "Ag==",
            "dtype": "i1"
           },
           "legendgroup": "B34",
           "marker": {
            "color": "#19d3f3",
            "pattern": {
             "shape": ""
            }
           },
           "name": "B34",
           "orientation": "v",
           "showlegend": true,
           "textposition": "auto",
           "type": "bar",
           "x": {
            "bdata": "Ag==",
            "dtype": "i1"
           },
           "xaxis": "x",
           "y": {
            "bdata": "UBw=",
            "dtype": "i2"
           },
           "yaxis": "y"
          },
          {
           "hovertemplate": "page2_clothing_model=A30<br>month=4<br>Main Category=%{x}<br>Total Price=%{y}<extra></extra>",
           "ids": {
            "bdata": "AQ==",
            "dtype": "i1"
           },
           "legendgroup": "A30",
           "marker": {
            "color": "#FF6692",
            "pattern": {
             "shape": ""
            }
           },
           "name": "A30",
           "orientation": "v",
           "showlegend": true,
           "textposition": "auto",
           "type": "bar",
           "x": {
            "bdata": "AQ==",
            "dtype": "i1"
           },
           "xaxis": "x",
           "y": {
            "bdata": "Dhw=",
            "dtype": "i2"
           },
           "yaxis": "y"
          },
          {
           "hovertemplate": "page2_clothing_model=C40<br>month=4<br>Main Category=%{x}<br>Total Price=%{y}<extra></extra>",
           "ids": {
            "bdata": "Aw==",
            "dtype": "i1"
           },
           "legendgroup": "C40",
           "marker": {
            "color": "#B6E880",
            "pattern": {
             "shape": ""
            }
           },
           "name": "C40",
           "orientation": "v",
           "showlegend": true,
           "textposition": "auto",
           "type": "bar",
           "x": {
            "bdata": "Aw==",
            "dtype": "i1"
           },
           "xaxis": "x",
           "y": {
            "bdata": "kBs=",
            "dtype": "i2"
           },
           "yaxis": "y"
          },
          {
           "hovertemplate": "page2_clothing_model=P48<br>month=4<br>Main Category=%{x}<br>Total Price=%{y}<extra></extra>",
           "ids": {
            "bdata": "BA==",
            "dtype": "i1"
           },
           "legendgroup": "P48",
           "marker": {
            "color": "#FF97FF",
            "pattern": {
             "shape": ""
            }
           },
           "name": "P48",
           "orientation": "v",
           "showlegend": true,
           "textposition": "auto",
           "type": "bar",
           "x": {
            "bdata": "BA==",
            "dtype": "i1"
           },
           "xaxis": "x",
           "y": {
            "bdata": "rxo=",
            "dtype": "i2"
           },
           "yaxis": "y"
          },
          {
           "hovertemplate": "page2_clothing_model=C14<br>month=4<br>Main Category=%{x}<br>Total Price=%{y}<extra></extra>",
           "ids": {
            "bdata": "Aw==",
            "dtype": "i1"
           },
           "legendgroup": "C14",
           "marker": {
            "color": "#FECB52",
            "pattern": {
             "shape": ""
            }
           },
           "name": "C14",
           "orientation": "v",
           "showlegend": true,
           "textposition": "auto",
           "type": "bar",
           "x": {
            "bdata": "Aw==",
            "dtype": "i1"
           },
           "xaxis": "x",
           "y": {
            "bdata": "JRo=",
            "dtype": "i2"
           },
           "yaxis": "y"
          },
          {
           "hovertemplate": "page2_clothing_model=P2<br>month=4<br>Main Category=%{x}<br>Total Price=%{y}<extra></extra>",
           "ids": {
            "bdata": "BA==",
            "dtype": "i1"
           },
           "legendgroup": "P2",
           "marker": {
            "color": "#636efa",
            "pattern": {
             "shape": ""
            }
           },
           "name": "P2",
           "orientation": "v",
           "showlegend": true,
           "textposition": "auto",
           "type": "bar",
           "x": {
            "bdata": "BA==",
            "dtype": "i1"
           },
           "xaxis": "x",
           "y": {
            "bdata": "7Bk=",
            "dtype": "i2"
           },
           "yaxis": "y"
          },
          {
           "hovertemplate": "page2_clothing_model=A32<br>month=4<br>Main Category=%{x}<br>Total Price=%{y}<extra></extra>",
           "ids": {
            "bdata": "AQ==",
            "dtype": "i1"
           },
           "legendgroup": "A32",
           "marker": {
            "color": "#EF553B",
            "pattern": {
             "shape": ""
            }
           },
           "name": "A32",
           "orientation": "v",
           "showlegend": true,
           "textposition": "auto",
           "type": "bar",
           "x": {
            "bdata": "AQ==",
            "dtype": "i1"
           },
           "xaxis": "x",
           "y": {
            "bdata": "Yhk=",
            "dtype": "i2"
           },
           "yaxis": "y"
          },
          {
           "hovertemplate": "page2_clothing_model=C6<br>month=4<br>Main Category=%{x}<br>Total Price=%{y}<extra></extra>",
           "ids": {
            "bdata": "Aw==",
            "dtype": "i1"
           },
           "legendgroup": "C6",
           "marker": {
            "color": "#00cc96",
            "pattern": {
             "shape": ""
            }
           },
           "name": "C6",
           "orientation": "v",
           "showlegend": true,
           "textposition": "auto",
           "type": "bar",
           "x": {
            "bdata": "Aw==",
            "dtype": "i1"
           },
           "xaxis": "x",
           "y": {
            "bdata": "wBg=",
            "dtype": "i2"
           },
           "yaxis": "y"
          },
          {
           "hovertemplate": "page2_clothing_model=C53<br>month=4<br>Main Category=%{x}<br>Total Price=%{y}<extra></extra>",
           "ids": {
            "bdata": "Aw==",
            "dtype": "i1"
           },
           "legendgroup": "C53",
           "marker": {
            "color": "#ab63fa",
            "pattern": {
             "shape": ""
            }
           },
           "name": "C53",
           "orientation": "v",
           "showlegend": true,
           "textposition": "auto",
           "type": "bar",
           "x": {
            "bdata": "Aw==",
            "dtype": "i1"
           },
           "xaxis": "x",
           "y": {
            "bdata": "fhg=",
            "dtype": "i2"
           },
           "yaxis": "y"
          },
          {
           "hovertemplate": "page2_clothing_model=C57<br>month=4<br>Main Category=%{x}<br>Total Price=%{y}<extra></extra>",
           "ids": {
            "bdata": "Aw==",
            "dtype": "i1"
           },
           "legendgroup": "C57",
           "marker": {
            "color": "#FFA15A",
            "pattern": {
             "shape": ""
            }
           },
           "name": "C57",
           "orientation": "v",
           "showlegend": true,
           "textposition": "auto",
           "type": "bar",
           "x": {
            "bdata": "Aw==",
            "dtype": "i1"
           },
           "xaxis": "x",
           "y": {
            "bdata": "ThI=",
            "dtype": "i2"
           },
           "yaxis": "y"
          },
          {
           "hovertemplate": "page2_clothing_model=C11<br>month=4<br>Main Category=%{x}<br>Total Price=%{y}<extra></extra>",
           "ids": {
            "bdata": "Aw==",
            "dtype": "i1"
           },
           "legendgroup": "C11",
           "marker": {
            "color": "#19d3f3",
            "pattern": {
             "shape": ""
            }
           },
           "name": "C11",
           "orientation": "v",
           "showlegend": true,
           "textposition": "auto",
           "type": "bar",
           "x": {
            "bdata": "Aw==",
            "dtype": "i1"
           },
           "xaxis": "x",
           "y": {
            "bdata": "2Rc=",
            "dtype": "i2"
           },
           "yaxis": "y"
          },
          {
           "hovertemplate": "page2_clothing_model=B25<br>month=4<br>Main Category=%{x}<br>Total Price=%{y}<extra></extra>",
           "ids": {
            "bdata": "Ag==",
            "dtype": "i1"
           },
           "legendgroup": "B25",
           "marker": {
            "color": "#FF6692",
            "pattern": {
             "shape": ""
            }
           },
           "name": "B25",
           "orientation": "v",
           "showlegend": true,
           "textposition": "auto",
           "type": "bar",
           "x": {
            "bdata": "Ag==",
            "dtype": "i1"
           },
           "xaxis": "x",
           "y": {
            "bdata": "Thc=",
            "dtype": "i2"
           },
           "yaxis": "y"
          },
          {
           "hovertemplate": "page2_clothing_model=A28<br>month=4<br>Main Category=%{x}<br>Total Price=%{y}<extra></extra>",
           "ids": {
            "bdata": "AQ==",
            "dtype": "i1"
           },
           "legendgroup": "A28",
           "marker": {
            "color": "#B6E880",
            "pattern": {
             "shape": ""
            }
           },
           "name": "A28",
           "orientation": "v",
           "showlegend": true,
           "textposition": "auto",
           "type": "bar",
           "x": {
            "bdata": "AQ==",
            "dtype": "i1"
           },
           "xaxis": "x",
           "y": {
            "bdata": "ARY=",
            "dtype": "i2"
           },
           "yaxis": "y"
          },
          {
           "hovertemplate": "page2_clothing_model=A20<br>month=4<br>Main Category=%{x}<br>Total Price=%{y}<extra></extra>",
           "ids": {
            "bdata": "AQ==",
            "dtype": "i1"
           },
           "legendgroup": "A20",
           "marker": {
            "color": "#FF97FF",
            "pattern": {
             "shape": ""
            }
           },
           "name": "A20",
           "orientation": "v",
           "showlegend": true,
           "textposition": "auto",
           "type": "bar",
           "x": {
            "bdata": "AQ==",
            "dtype": "i1"
           },
           "xaxis": "x",
           "y": {
            "bdata": "rBU=",
            "dtype": "i2"
           },
           "yaxis": "y"
          },
          {
           "hovertemplate": "page2_clothing_model=P23<br>month=4<br>Main Category=%{x}<br>Total Price=%{y}<extra></extra>",
           "ids": {
            "bdata": "BA==",
            "dtype": "i1"
           },
           "legendgroup": "P23",
           "marker": {
            "color": "#FECB52",
            "pattern": {
             "shape": ""
            }
           },
           "name": "P23",
           "orientation": "v",
           "showlegend": true,
           "textposition": "auto",
           "type": "bar",
           "x": {
            "bdata": "BA==",
            "dtype": "i1"
           },
           "xaxis": "x",
           "y": {
            "bdata": "dBQ=",
            "dtype": "i2"
           },
           "yaxis": "y"
          },
          {
           "hovertemplate": "page2_clothing_model=A34<br>month=4<br>Main Category=%{x}<br>Total Price=%{y}<extra></extra>",
           "ids": {
            "bdata": "AQ==",
            "dtype": "i1"
           },
           "legendgroup": "A34",
           "marker": {
            "color": "#636efa",
            "pattern": {
             "shape": ""
            }
           },
           "name": "A34",
           "orientation": "v",
           "showlegend": true,
           "textposition": "auto",
           "type": "bar",
           "x": {
            "bdata": "AQ==",
            "dtype": "i1"
           },
           "xaxis": "x",
           "y": {
            "bdata": "MBQ=",
            "dtype": "i2"
           },
           "yaxis": "y"
          },
          {
           "hovertemplate": "page2_clothing_model=C41<br>month=4<br>Main Category=%{x}<br>Total Price=%{y}<extra></extra>",
           "ids": {
            "bdata": "Aw==",
            "dtype": "i1"
           },
           "legendgroup": "C41",
           "marker": {
            "color": "#EF553B",
            "pattern": {
             "shape": ""
            }
           },
           "name": "C41",
           "orientation": "v",
           "showlegend": true,
           "textposition": "auto",
           "type": "bar",
           "x": {
            "bdata": "Aw==",
            "dtype": "i1"
           },
           "xaxis": "x",
           "y": {
            "bdata": "BBQ=",
            "dtype": "i2"
           },
           "yaxis": "y"
          },
          {
           "hovertemplate": "page2_clothing_model=P49<br>month=4<br>Main Category=%{x}<br>Total Price=%{y}<extra></extra>",
           "ids": {
            "bdata": "BA==",
            "dtype": "i1"
           },
           "legendgroup": "P49",
           "marker": {
            "color": "#00cc96",
            "pattern": {
             "shape": ""
            }
           },
           "name": "P49",
           "orientation": "v",
           "showlegend": true,
           "textposition": "auto",
           "type": "bar",
           "x": {
            "bdata": "BA==",
            "dtype": "i1"
           },
           "xaxis": "x",
           "y": {
            "bdata": "2hM=",
            "dtype": "i2"
           },
           "yaxis": "y"
          },
          {
           "hovertemplate": "page2_clothing_model=C49<br>month=4<br>Main Category=%{x}<br>Total Price=%{y}<extra></extra>",
           "ids": {
            "bdata": "Aw==",
            "dtype": "i1"
           },
           "legendgroup": "C49",
           "marker": {
            "color": "#ab63fa",
            "pattern": {
             "shape": ""
            }
           },
           "name": "C49",
           "orientation": "v",
           "showlegend": true,
           "textposition": "auto",
           "type": "bar",
           "x": {
            "bdata": "Aw==",
            "dtype": "i1"
           },
           "xaxis": "x",
           "y": {
            "bdata": "gBM=",
            "dtype": "i2"
           },
           "yaxis": "y"
          },
          {
           "hovertemplate": "page2_clothing_model=C30<br>month=4<br>Main Category=%{x}<br>Total Price=%{y}<extra></extra>",
           "ids": {
            "bdata": "Aw==",
            "dtype": "i1"
           },
           "legendgroup": "C30",
           "marker": {
            "color": "#FFA15A",
            "pattern": {
             "shape": ""
            }
           },
           "name": "C30",
           "orientation": "v",
           "showlegend": true,
           "textposition": "auto",
           "type": "bar",
           "x": {
            "bdata": "Aw==",
            "dtype": "i1"
           },
           "xaxis": "x",
           "y": {
            "bdata": "KBI=",
            "dtype": "i2"
           },
           "yaxis": "y"
          },
          {
           "hovertemplate": "page2_clothing_model=C10<br>month=4<br>Main Category=%{x}<br>Total Price=%{y}<extra></extra>",
           "ids": {
            "bdata": "Aw==",
            "dtype": "i1"
           },
           "legendgroup": "C10",
           "marker": {
            "color": "#19d3f3",
            "pattern": {
             "shape": ""
            }
           },
           "name": "C10",
           "orientation": "v",
           "showlegend": true,
           "textposition": "auto",
           "type": "bar",
           "x": {
            "bdata": "Aw==",
            "dtype": "i1"
           },
           "xaxis": "x",
           "y": {
            "bdata": "uBE=",
            "dtype": "i2"
           },
           "yaxis": "y"
          },
          {
           "hovertemplate": "page2_clothing_model=P50<br>month=4<br>Main Category=%{x}<br>Total Price=%{y}<extra></extra>",
           "ids": {
            "bdata": "BA==",
            "dtype": "i1"
           },
           "legendgroup": "P50",
           "marker": {
            "color": "#FF6692",
            "pattern": {
             "shape": ""
            }
           },
           "name": "P50",
           "orientation": "v",
           "showlegend": true,
           "textposition": "auto",
           "type": "bar",
           "x": {
            "bdata": "BA==",
            "dtype": "i1"
           },
           "xaxis": "x",
           "y": {
            "bdata": "ZxE=",
            "dtype": "i2"
           },
           "yaxis": "y"
          },
          {
           "hovertemplate": "page2_clothing_model=A42<br>month=4<br>Main Category=%{x}<br>Total Price=%{y}<extra></extra>",
           "ids": {
            "bdata": "AQ==",
            "dtype": "i1"
           },
           "legendgroup": "A42",
           "marker": {
            "color": "#B6E880",
            "pattern": {
             "shape": ""
            }
           },
           "name": "A42",
           "orientation": "v",
           "showlegend": true,
           "textposition": "auto",
           "type": "bar",
           "x": {
            "bdata": "AQ==",
            "dtype": "i1"
           },
           "xaxis": "x",
           "y": {
            "bdata": "EBE=",
            "dtype": "i2"
           },
           "yaxis": "y"
          },
          {
           "hovertemplate": "page2_clothing_model=P5<br>month=4<br>Main Category=%{x}<br>Total Price=%{y}<extra></extra>",
           "ids": {
            "bdata": "BA==",
            "dtype": "i1"
           },
           "legendgroup": "P5",
           "marker": {
            "color": "#FF97FF",
            "pattern": {
             "shape": ""
            }
           },
           "name": "P5",
           "orientation": "v",
           "showlegend": true,
           "textposition": "auto",
           "type": "bar",
           "x": {
            "bdata": "BA==",
            "dtype": "i1"
           },
           "xaxis": "x",
           "y": {
            "bdata": "+xA=",
            "dtype": "i2"
           },
           "yaxis": "y"
          },
          {
           "hovertemplate": "page2_clothing_model=P8<br>month=4<br>Main Category=%{x}<br>Total Price=%{y}<extra></extra>",
           "ids": {
            "bdata": "BA==",
            "dtype": "i1"
           },
           "legendgroup": "P8",
           "marker": {
            "color": "#FECB52",
            "pattern": {
             "shape": ""
            }
           },
           "name": "P8",
           "orientation": "v",
           "showlegend": true,
           "textposition": "auto",
           "type": "bar",
           "x": {
            "bdata": "BA==",
            "dtype": "i1"
           },
           "xaxis": "x",
           "y": {
            "bdata": "2BA=",
            "dtype": "i2"
           },
           "yaxis": "y"
          },
          {
           "hovertemplate": "page2_clothing_model=A26<br>month=4<br>Main Category=%{x}<br>Total Price=%{y}<extra></extra>",
           "ids": {
            "bdata": "AQ==",
            "dtype": "i1"
           },
           "legendgroup": "A26",
           "marker": {
            "color": "#636efa",
            "pattern": {
             "shape": ""
            }
           },
           "name": "A26",
           "orientation": "v",
           "showlegend": true,
           "textposition": "auto",
           "type": "bar",
           "x": {
            "bdata": "AQ==",
            "dtype": "i1"
           },
           "xaxis": "x",
           "y": {
            "bdata": "oBA=",
            "dtype": "i2"
           },
           "yaxis": "y"
          },
          {
           "hovertemplate": "page2_clothing_model=P60<br>month=4<br>Main Category=%{x}<br>Total Price=%{y}<extra></extra>",
           "ids": {
            "bdata": "BA==",
            "dtype": "i1"
           },
           "legendgroup": "P60",
           "marker": {
            "color": "#EF553B",
            "pattern": {
             "shape": ""
            }
           },
           "name": "P60",
           "orientation": "v",
           "showlegend": true,
           "textposition": "auto",
           "type": "bar",
           "x": {
            "bdata": "BA==",
            "dtype": "i1"
           },
           "xaxis": "x",
           "y": {
            "bdata": "wA8=",
            "dtype": "i2"
           },
           "yaxis": "y"
          },
          {
           "hovertemplate": "page2_clothing_model=B7<br>month=4<br>Main Category=%{x}<br>Total Price=%{y}<extra></extra>",
           "ids": {
            "bdata": "Ag==",
            "dtype": "i1"
           },
           "legendgroup": "B7",
           "marker": {
            "color": "#00cc96",
            "pattern": {
             "shape": ""
            }
           },
           "name": "B7",
           "orientation": "v",
           "showlegend": true,
           "textposition": "auto",
           "type": "bar",
           "x": {
            "bdata": "Ag==",
            "dtype": "i1"
           },
           "xaxis": "x",
           "y": {
            "bdata": "lg8=",
            "dtype": "i2"
           },
           "yaxis": "y"
          },
          {
           "hovertemplate": "page2_clothing_model=B28<br>month=4<br>Main Category=%{x}<br>Total Price=%{y}<extra></extra>",
           "ids": {
            "bdata": "Ag==",
            "dtype": "i1"
           },
           "legendgroup": "B28",
           "marker": {
            "color": "#ab63fa",
            "pattern": {
             "shape": ""
            }
           },
           "name": "B28",
           "orientation": "v",
           "showlegend": true,
           "textposition": "auto",
           "type": "bar",
           "x": {
            "bdata": "Ag==",
            "dtype": "i1"
           },
           "xaxis": "x",
           "y": {
            "bdata": "2A4=",
            "dtype": "i2"
           },
           "yaxis": "y"
          },
          {
           "hovertemplate": "page2_clothing_model=C16<br>month=4<br>Main Category=%{x}<br>Total Price=%{y}<extra></extra>",
           "ids": {
            "bdata": "Aw==",
            "dtype": "i1"
           },
           "legendgroup": "C16",
           "marker": {
            "color": "#FFA15A",
            "pattern": {
             "shape": ""
            }
           },
           "name": "C16",
           "orientation": "v",
           "showlegend": true,
           "textposition": "auto",
           "type": "bar",
           "x": {
            "bdata": "Aw==",
            "dtype": "i1"
           },
           "xaxis": "x",
           "y": {
            "bdata": "UA8=",
            "dtype": "i2"
           },
           "yaxis": "y"
          },
          {
           "hovertemplate": "page2_clothing_model=P55<br>month=4<br>Main Category=%{x}<br>Total Price=%{y}<extra></extra>",
           "ids": {
            "bdata": "BA==",
            "dtype": "i1"
           },
           "legendgroup": "P55",
           "marker": {
            "color": "#19d3f3",
            "pattern": {
             "shape": ""
            }
           },
           "name": "P55",
           "orientation": "v",
           "showlegend": true,
           "textposition": "auto",
           "type": "bar",
           "x": {
            "bdata": "BA==",
            "dtype": "i1"
           },
           "xaxis": "x",
           "y": {
            "bdata": "0w4=",
            "dtype": "i2"
           },
           "yaxis": "y"
          },
          {
           "hovertemplate": "page2_clothing_model=C42<br>month=4<br>Main Category=%{x}<br>Total Price=%{y}<extra></extra>",
           "ids": {
            "bdata": "Aw==",
            "dtype": "i1"
           },
           "legendgroup": "C42",
           "marker": {
            "color": "#FF6692",
            "pattern": {
             "shape": ""
            }
           },
           "name": "C42",
           "orientation": "v",
           "showlegend": true,
           "textposition": "auto",
           "type": "bar",
           "x": {
            "bdata": "Aw==",
            "dtype": "i1"
           },
           "xaxis": "x",
           "y": {
            "bdata": "xA4=",
            "dtype": "i2"
           },
           "yaxis": "y"
          },
          {
           "hovertemplate": "page2_clothing_model=P20<br>month=4<br>Main Category=%{x}<br>Total Price=%{y}<extra></extra>",
           "ids": {
            "bdata": "BA==",
            "dtype": "i1"
           },
           "legendgroup": "P20",
           "marker": {
            "color": "#B6E880",
            "pattern": {
             "shape": ""
            }
           },
           "name": "P20",
           "orientation": "v",
           "showlegend": true,
           "textposition": "auto",
           "type": "bar",
           "x": {
            "bdata": "BA==",
            "dtype": "i1"
           },
           "xaxis": "x",
           "y": {
            "bdata": "vA4=",
            "dtype": "i2"
           },
           "yaxis": "y"
          },
          {
           "hovertemplate": "page2_clothing_model=A39<br>month=4<br>Main Category=%{x}<br>Total Price=%{y}<extra></extra>",
           "ids": {
            "bdata": "AQ==",
            "dtype": "i1"
           },
           "legendgroup": "A39",
           "marker": {
            "color": "#FF97FF",
            "pattern": {
             "shape": ""
            }
           },
           "name": "A39",
           "orientation": "v",
           "showlegend": true,
           "textposition": "auto",
           "type": "bar",
           "x": {
            "bdata": "AQ==",
            "dtype": "i1"
           },
           "xaxis": "x",
           "y": {
            "bdata": "sg4=",
            "dtype": "i2"
           },
           "yaxis": "y"
          },
          {
           "hovertemplate": "page2_clothing_model=A35<br>month=4<br>Main Category=%{x}<br>Total Price=%{y}<extra></extra>",
           "ids": {
            "bdata": "AQ==",
            "dtype": "i1"
           },
           "legendgroup": "A35",
           "marker": {
            "color": "#FECB52",
            "pattern": {
             "shape": ""
            }
           },
           "name": "A35",
           "orientation": "v",
           "showlegend": true,
           "textposition": "auto",
           "type": "bar",
           "x": {
            "bdata": "AQ==",
            "dtype": "i1"
           },
           "xaxis": "x",
           "y": {
            "bdata": "mgs=",
            "dtype": "i2"
           },
           "yaxis": "y"
          },
          {
           "hovertemplate": "page2_clothing_model=A40<br>month=4<br>Main Category=%{x}<br>Total Price=%{y}<extra></extra>",
           "ids": {
            "bdata": "AQ==",
            "dtype": "i1"
           },
           "legendgroup": "A40",
           "marker": {
            "color": "#636efa",
            "pattern": {
             "shape": ""
            }
           },
           "name": "A40",
           "orientation": "v",
           "showlegend": true,
           "textposition": "auto",
           "type": "bar",
           "x": {
            "bdata": "AQ==",
            "dtype": "i1"
           },
           "xaxis": "x",
           "y": {
            "bdata": "jA4=",
            "dtype": "i2"
           },
           "yaxis": "y"
          },
          {
           "hovertemplate": "page2_clothing_model=C3<br>month=4<br>Main Category=%{x}<br>Total Price=%{y}<extra></extra>",
           "ids": {
            "bdata": "Aw==",
            "dtype": "i1"
           },
           "legendgroup": "C3",
           "marker": {
            "color": "#EF553B",
            "pattern": {
             "shape": ""
            }
           },
           "name": "C3",
           "orientation": "v",
           "showlegend": true,
           "textposition": "auto",
           "type": "bar",
           "x": {
            "bdata": "Aw==",
            "dtype": "i1"
           },
           "xaxis": "x",
           "y": {
            "bdata": "dw4=",
            "dtype": "i2"
           },
           "yaxis": "y"
          },
          {
           "hovertemplate": "page2_clothing_model=C15<br>month=4<br>Main Category=%{x}<br>Total Price=%{y}<extra></extra>",
           "ids": {
            "bdata": "Aw==",
            "dtype": "i1"
           },
           "legendgroup": "C15",
           "marker": {
            "color": "#00cc96",
            "pattern": {
             "shape": ""
            }
           },
           "name": "C15",
           "orientation": "v",
           "showlegend": true,
           "textposition": "auto",
           "type": "bar",
           "x": {
            "bdata": "Aw==",
            "dtype": "i1"
           },
           "xaxis": "x",
           "y": {
            "bdata": "cA4=",
            "dtype": "i2"
           },
           "yaxis": "y"
          },
          {
           "hovertemplate": "page2_clothing_model=A25<br>month=4<br>Main Category=%{x}<br>Total Price=%{y}<extra></extra>",
           "ids": {
            "bdata": "AQ==",
            "dtype": "i1"
           },
           "legendgroup": "A25",
           "marker": {
            "color": "#ab63fa",
            "pattern": {
             "shape": ""
            }
           },
           "name": "A25",
           "orientation": "v",
           "showlegend": true,
           "textposition": "auto",
           "type": "bar",
           "x": {
            "bdata": "AQ==",
            "dtype": "i1"
           },
           "xaxis": "x",
           "y": {
            "bdata": "Zg4=",
            "dtype": "i2"
           },
           "yaxis": "y"
          },
          {
           "hovertemplate": "page2_clothing_model=P7<br>month=4<br>Main Category=%{x}<br>Total Price=%{y}<extra></extra>",
           "ids": {
            "bdata": "BA==",
            "dtype": "i1"
           },
           "legendgroup": "P7",
           "marker": {
            "color": "#FFA15A",
            "pattern": {
             "shape": ""
            }
           },
           "name": "P7",
           "orientation": "v",
           "showlegend": true,
           "textposition": "auto",
           "type": "bar",
           "x": {
            "bdata": "BA==",
            "dtype": "i1"
           },
           "xaxis": "x",
           "y": {
            "bdata": "zAw=",
            "dtype": "i2"
           },
           "yaxis": "y"
          },
          {
           "hovertemplate": "page2_clothing_model=C50<br>month=4<br>Main Category=%{x}<br>Total Price=%{y}<extra></extra>",
           "ids": {
            "bdata": "Aw==",
            "dtype": "i1"
           },
           "legendgroup": "C50",
           "marker": {
            "color": "#19d3f3",
            "pattern": {
             "shape": ""
            }
           },
           "name": "C50",
           "orientation": "v",
           "showlegend": true,
           "textposition": "auto",
           "type": "bar",
           "x": {
            "bdata": "Aw==",
            "dtype": "i1"
           },
           "xaxis": "x",
           "y": {
            "bdata": "EA4=",
            "dtype": "i2"
           },
           "yaxis": "y"
          },
          {
           "hovertemplate": "page2_clothing_model=P29<br>month=4<br>Main Category=%{x}<br>Total Price=%{y}<extra></extra>",
           "ids": {
            "bdata": "BA==",
            "dtype": "i1"
           },
           "legendgroup": "P29",
           "marker": {
            "color": "#FF6692",
            "pattern": {
             "shape": ""
            }
           },
           "name": "P29",
           "orientation": "v",
           "showlegend": true,
           "textposition": "auto",
           "type": "bar",
           "x": {
            "bdata": "BA==",
            "dtype": "i1"
           },
           "xaxis": "x",
           "y": {
            "bdata": "/gc=",
            "dtype": "i2"
           },
           "yaxis": "y"
          },
          {
           "hovertemplate": "page2_clothing_model=P9<br>month=4<br>Main Category=%{x}<br>Total Price=%{y}<extra></extra>",
           "ids": {
            "bdata": "BA==",
            "dtype": "i1"
           },
           "legendgroup": "P9",
           "marker": {
            "color": "#B6E880",
            "pattern": {
             "shape": ""
            }
           },
           "name": "P9",
           "orientation": "v",
           "showlegend": true,
           "textposition": "auto",
           "type": "bar",
           "x": {
            "bdata": "BA==",
            "dtype": "i1"
           },
           "xaxis": "x",
           "y": {
            "bdata": "vw0=",
            "dtype": "i2"
           },
           "yaxis": "y"
          },
          {
           "hovertemplate": "page2_clothing_model=P56<br>month=4<br>Main Category=%{x}<br>Total Price=%{y}<extra></extra>",
           "ids": {
            "bdata": "BA==",
            "dtype": "i1"
           },
           "legendgroup": "P56",
           "marker": {
            "color": "#FF97FF",
            "pattern": {
             "shape": ""
            }
           },
           "name": "P56",
           "orientation": "v",
           "showlegend": true,
           "textposition": "auto",
           "type": "bar",
           "x": {
            "bdata": "BA==",
            "dtype": "i1"
           },
           "xaxis": "x",
           "y": {
            "bdata": "iQ0=",
            "dtype": "i2"
           },
           "yaxis": "y"
          },
          {
           "hovertemplate": "page2_clothing_model=C24<br>month=4<br>Main Category=%{x}<br>Total Price=%{y}<extra></extra>",
           "ids": {
            "bdata": "Aw==",
            "dtype": "i1"
           },
           "legendgroup": "C24",
           "marker": {
            "color": "#FECB52",
            "pattern": {
             "shape": ""
            }
           },
           "name": "C24",
           "orientation": "v",
           "showlegend": true,
           "textposition": "auto",
           "type": "bar",
           "x": {
            "bdata": "Aw==",
            "dtype": "i1"
           },
           "xaxis": "x",
           "y": {
            "bdata": "iQ0=",
            "dtype": "i2"
           },
           "yaxis": "y"
          },
          {
           "hovertemplate": "page2_clothing_model=C26<br>month=4<br>Main Category=%{x}<br>Total Price=%{y}<extra></extra>",
           "ids": {
            "bdata": "Aw==",
            "dtype": "i1"
           },
           "legendgroup": "C26",
           "marker": {
            "color": "#636efa",
            "pattern": {
             "shape": ""
            }
           },
           "name": "C26",
           "orientation": "v",
           "showlegend": true,
           "textposition": "auto",
           "type": "bar",
           "x": {
            "bdata": "Aw==",
            "dtype": "i1"
           },
           "xaxis": "x",
           "y": {
            "bdata": "dA0=",
            "dtype": "i2"
           },
           "yaxis": "y"
          },
          {
           "hovertemplate": "page2_clothing_model=B20<br>month=4<br>Main Category=%{x}<br>Total Price=%{y}<extra></extra>",
           "ids": {
            "bdata": "Ag==",
            "dtype": "i1"
           },
           "legendgroup": "B20",
           "marker": {
            "color": "#EF553B",
            "pattern": {
             "shape": ""
            }
           },
           "name": "B20",
           "orientation": "v",
           "showlegend": true,
           "textposition": "auto",
           "type": "bar",
           "x": {
            "bdata": "Ag==",
            "dtype": "i1"
           },
           "xaxis": "x",
           "y": {
            "bdata": "RQ0=",
            "dtype": "i2"
           },
           "yaxis": "y"
          },
          {
           "hovertemplate": "page2_clothing_model=C38<br>month=4<br>Main Category=%{x}<br>Total Price=%{y}<extra></extra>",
           "ids": {
            "bdata": "Aw==",
            "dtype": "i1"
           },
           "legendgroup": "C38",
           "marker": {
            "color": "#00cc96",
            "pattern": {
             "shape": ""
            }
           },
           "name": "C38",
           "orientation": "v",
           "showlegend": true,
           "textposition": "auto",
           "type": "bar",
           "x": {
            "bdata": "Aw==",
            "dtype": "i1"
           },
           "xaxis": "x",
           "y": {
            "bdata": "Ng0=",
            "dtype": "i2"
           },
           "yaxis": "y"
          },
          {
           "hovertemplate": "page2_clothing_model=A23<br>month=4<br>Main Category=%{x}<br>Total Price=%{y}<extra></extra>",
           "ids": {
            "bdata": "AQ==",
            "dtype": "i1"
           },
           "legendgroup": "A23",
           "marker": {
            "color": "#ab63fa",
            "pattern": {
             "shape": ""
            }
           },
           "name": "A23",
           "orientation": "v",
           "showlegend": true,
           "textposition": "auto",
           "type": "bar",
           "x": {
            "bdata": "AQ==",
            "dtype": "i1"
           },
           "xaxis": "x",
           "y": {
            "bdata": "Lwo=",
            "dtype": "i2"
           },
           "yaxis": "y"
          },
          {
           "hovertemplate": "page2_clothing_model=P18<br>month=4<br>Main Category=%{x}<br>Total Price=%{y}<extra></extra>",
           "ids": {
            "bdata": "BA==",
            "dtype": "i1"
           },
           "legendgroup": "P18",
           "marker": {
            "color": "#FFA15A",
            "pattern": {
             "shape": ""
            }
           },
           "name": "P18",
           "orientation": "v",
           "showlegend": true,
           "textposition": "auto",
           "type": "bar",
           "x": {
            "bdata": "BA==",
            "dtype": "i1"
           },
           "xaxis": "x",
           "y": {
            "bdata": "eAw=",
            "dtype": "i2"
           },
           "yaxis": "y"
          },
          {
           "hovertemplate": "page2_clothing_model=B33<br>month=4<br>Main Category=%{x}<br>Total Price=%{y}<extra></extra>",
           "ids": {
            "bdata": "Ag==",
            "dtype": "i1"
           },
           "legendgroup": "B33",
           "marker": {
            "color": "#19d3f3",
            "pattern": {
             "shape": ""
            }
           },
           "name": "B33",
           "orientation": "v",
           "showlegend": true,
           "textposition": "auto",
           "type": "bar",
           "x": {
            "bdata": "Ag==",
            "dtype": "i1"
           },
           "xaxis": "x",
           "y": {
            "bdata": "gQw=",
            "dtype": "i2"
           },
           "yaxis": "y"
          },
          {
           "hovertemplate": "page2_clothing_model=A36<br>month=4<br>Main Category=%{x}<br>Total Price=%{y}<extra></extra>",
           "ids": {
            "bdata": "AQ==",
            "dtype": "i1"
           },
           "legendgroup": "A36",
           "marker": {
            "color": "#FF6692",
            "pattern": {
             "shape": ""
            }
           },
           "name": "A36",
           "orientation": "v",
           "showlegend": true,
           "textposition": "auto",
           "type": "bar",
           "x": {
            "bdata": "AQ==",
            "dtype": "i1"
           },
           "xaxis": "x",
           "y": {
            "bdata": "mwc=",
            "dtype": "i2"
           },
           "yaxis": "y"
          },
          {
           "hovertemplate": "page2_clothing_model=P61<br>month=4<br>Main Category=%{x}<br>Total Price=%{y}<extra></extra>",
           "ids": {
            "bdata": "BA==",
            "dtype": "i1"
           },
           "legendgroup": "P61",
           "marker": {
            "color": "#B6E880",
            "pattern": {
             "shape": ""
            }
           },
           "name": "P61",
           "orientation": "v",
           "showlegend": true,
           "textposition": "auto",
           "type": "bar",
           "x": {
            "bdata": "BA==",
            "dtype": "i1"
           },
           "xaxis": "x",
           "y": {
            "bdata": "YAs=",
            "dtype": "i2"
           },
           "yaxis": "y"
          },
          {
           "hovertemplate": "page2_clothing_model=C25<br>month=4<br>Main Category=%{x}<br>Total Price=%{y}<extra></extra>",
           "ids": {
            "bdata": "Aw==",
            "dtype": "i1"
           },
           "legendgroup": "C25",
           "marker": {
            "color": "#FF97FF",
            "pattern": {
             "shape": ""
            }
           },
           "name": "C25",
           "orientation": "v",
           "showlegend": true,
           "textposition": "auto",
           "type": "bar",
           "x": {
            "bdata": "Aw==",
            "dtype": "i1"
           },
           "xaxis": "x",
           "y": {
            "bdata": "Hgw=",
            "dtype": "i2"
           },
           "yaxis": "y"
          },
          {
           "hovertemplate": "page2_clothing_model=C48<br>month=4<br>Main Category=%{x}<br>Total Price=%{y}<extra></extra>",
           "ids": {
            "bdata": "Aw==",
            "dtype": "i1"
           },
           "legendgroup": "C48",
           "marker": {
            "color": "#FECB52",
            "pattern": {
             "shape": ""
            }
           },
           "name": "C48",
           "orientation": "v",
           "showlegend": true,
           "textposition": "auto",
           "type": "bar",
           "x": {
            "bdata": "Aw==",
            "dtype": "i1"
           },
           "xaxis": "x",
           "y": {
            "bdata": "CAw=",
            "dtype": "i2"
           },
           "yaxis": "y"
          },
          {
           "hovertemplate": "page2_clothing_model=A19<br>month=4<br>Main Category=%{x}<br>Total Price=%{y}<extra></extra>",
           "ids": {
            "bdata": "AQ==",
            "dtype": "i1"
           },
           "legendgroup": "A19",
           "marker": {
            "color": "#636efa",
            "pattern": {
             "shape": ""
            }
           },
           "name": "A19",
           "orientation": "v",
           "showlegend": true,
           "textposition": "auto",
           "type": "bar",
           "x": {
            "bdata": "AQ==",
            "dtype": "i1"
           },
           "xaxis": "x",
           "y": {
            "bdata": "3As=",
            "dtype": "i2"
           },
           "yaxis": "y"
          },
          {
           "hovertemplate": "page2_clothing_model=P72<br>month=4<br>Main Category=%{x}<br>Total Price=%{y}<extra></extra>",
           "ids": {
            "bdata": "BA==",
            "dtype": "i1"
           },
           "legendgroup": "P72",
           "marker": {
            "color": "#EF553B",
            "pattern": {
             "shape": ""
            }
           },
           "name": "P72",
           "orientation": "v",
           "showlegend": true,
           "textposition": "auto",
           "type": "bar",
           "x": {
            "bdata": "BA==",
            "dtype": "i1"
           },
           "xaxis": "x",
           "y": {
            "bdata": "owg=",
            "dtype": "i2"
           },
           "yaxis": "y"
          },
          {
           "hovertemplate": "page2_clothing_model=P51<br>month=4<br>Main Category=%{x}<br>Total Price=%{y}<extra></extra>",
           "ids": {
            "bdata": "BA==",
            "dtype": "i1"
           },
           "legendgroup": "P51",
           "marker": {
            "color": "#00cc96",
            "pattern": {
             "shape": ""
            }
           },
           "name": "P51",
           "orientation": "v",
           "showlegend": true,
           "textposition": "auto",
           "type": "bar",
           "x": {
            "bdata": "BA==",
            "dtype": "i1"
           },
           "xaxis": "x",
           "y": {
            "bdata": "RAs=",
            "dtype": "i2"
           },
           "yaxis": "y"
          },
          {
           "hovertemplate": "page2_clothing_model=C31<br>month=4<br>Main Category=%{x}<br>Total Price=%{y}<extra></extra>",
           "ids": {
            "bdata": "Aw==",
            "dtype": "i1"
           },
           "legendgroup": "C31",
           "marker": {
            "color": "#ab63fa",
            "pattern": {
             "shape": ""
            }
           },
           "name": "C31",
           "orientation": "v",
           "showlegend": true,
           "textposition": "auto",
           "type": "bar",
           "x": {
            "bdata": "Aw==",
            "dtype": "i1"
           },
           "xaxis": "x",
           "y": {
            "bdata": "kgo=",
            "dtype": "i2"
           },
           "yaxis": "y"
          },
          {
           "hovertemplate": "page2_clothing_model=C51<br>month=4<br>Main Category=%{x}<br>Total Price=%{y}<extra></extra>",
           "ids": {
            "bdata": "Aw==",
            "dtype": "i1"
           },
           "legendgroup": "C51",
           "marker": {
            "color": "#FFA15A",
            "pattern": {
             "shape": ""
            }
           },
           "name": "C51",
           "orientation": "v",
           "showlegend": true,
           "textposition": "auto",
           "type": "bar",
           "x": {
            "bdata": "Aw==",
            "dtype": "i1"
           },
           "xaxis": "x",
           "y": {
            "bdata": "UAo=",
            "dtype": "i2"
           },
           "yaxis": "y"
          },
          {
           "hovertemplate": "page2_clothing_model=C32<br>month=4<br>Main Category=%{x}<br>Total Price=%{y}<extra></extra>",
           "ids": {
            "bdata": "Aw==",
            "dtype": "i1"
           },
           "legendgroup": "C32",
           "marker": {
            "color": "#19d3f3",
            "pattern": {
             "shape": ""
            }
           },
           "name": "C32",
           "orientation": "v",
           "showlegend": true,
           "textposition": "auto",
           "type": "bar",
           "x": {
            "bdata": "Aw==",
            "dtype": "i1"
           },
           "xaxis": "x",
           "y": {
            "bdata": "qwk=",
            "dtype": "i2"
           },
           "yaxis": "y"
          },
          {
           "hovertemplate": "page2_clothing_model=P46<br>month=4<br>Main Category=%{x}<br>Total Price=%{y}<extra></extra>",
           "ids": {
            "bdata": "BA==",
            "dtype": "i1"
           },
           "legendgroup": "P46",
           "marker": {
            "color": "#FF6692",
            "pattern": {
             "shape": ""
            }
           },
           "name": "P46",
           "orientation": "v",
           "showlegend": true,
           "textposition": "auto",
           "type": "bar",
           "x": {
            "bdata": "BA==",
            "dtype": "i1"
           },
           "xaxis": "x",
           "y": {
            "bdata": "pAg=",
            "dtype": "i2"
           },
           "yaxis": "y"
          },
          {
           "hovertemplate": "page2_clothing_model=P38<br>month=4<br>Main Category=%{x}<br>Total Price=%{y}<extra></extra>",
           "ids": {
            "bdata": "BA==",
            "dtype": "i1"
           },
           "legendgroup": "P38",
           "marker": {
            "color": "#B6E880",
            "pattern": {
             "shape": ""
            }
           },
           "name": "P38",
           "orientation": "v",
           "showlegend": true,
           "textposition": "auto",
           "type": "bar",
           "x": {
            "bdata": "BA==",
            "dtype": "i1"
           },
           "xaxis": "x",
           "y": {
            "bdata": "Bgk=",
            "dtype": "i2"
           },
           "yaxis": "y"
          },
          {
           "hovertemplate": "page2_clothing_model=P47<br>month=4<br>Main Category=%{x}<br>Total Price=%{y}<extra></extra>",
           "ids": {
            "bdata": "BA==",
            "dtype": "i1"
           },
           "legendgroup": "P47",
           "marker": {
            "color": "#FF97FF",
            "pattern": {
             "shape": ""
            }
           },
           "name": "P47",
           "orientation": "v",
           "showlegend": true,
           "textposition": "auto",
           "type": "bar",
           "x": {
            "bdata": "BA==",
            "dtype": "i1"
           },
           "xaxis": "x",
           "y": {
            "bdata": "+Ag=",
            "dtype": "i2"
           },
           "yaxis": "y"
          },
          {
           "hovertemplate": "page2_clothing_model=P71<br>month=4<br>Main Category=%{x}<br>Total Price=%{y}<extra></extra>",
           "ids": {
            "bdata": "BA==",
            "dtype": "i1"
           },
           "legendgroup": "P71",
           "marker": {
            "color": "#FECB52",
            "pattern": {
             "shape": ""
            }
           },
           "name": "P71",
           "orientation": "v",
           "showlegend": true,
           "textposition": "auto",
           "type": "bar",
           "x": {
            "bdata": "BA==",
            "dtype": "i1"
           },
           "xaxis": "x",
           "y": {
            "bdata": "gwQ=",
            "dtype": "i2"
           },
           "yaxis": "y"
          },
          {
           "hovertemplate": "page2_clothing_model=P30<br>month=4<br>Main Category=%{x}<br>Total Price=%{y}<extra></extra>",
           "ids": {
            "bdata": "BA==",
            "dtype": "i1"
           },
           "legendgroup": "P30",
           "marker": {
            "color": "#636efa",
            "pattern": {
             "shape": ""
            }
           },
           "name": "P30",
           "orientation": "v",
           "showlegend": true,
           "textposition": "auto",
           "type": "bar",
           "x": {
            "bdata": "BA==",
            "dtype": "i1"
           },
           "xaxis": "x",
           "y": {
            "bdata": "owg=",
            "dtype": "i2"
           },
           "yaxis": "y"
          },
          {
           "hovertemplate": "page2_clothing_model=P74<br>month=4<br>Main Category=%{x}<br>Total Price=%{y}<extra></extra>",
           "ids": {
            "bdata": "BA==",
            "dtype": "i1"
           },
           "legendgroup": "P74",
           "marker": {
            "color": "#EF553B",
            "pattern": {
             "shape": ""
            }
           },
           "name": "P74",
           "orientation": "v",
           "showlegend": true,
           "textposition": "auto",
           "type": "bar",
           "x": {
            "bdata": "BA==",
            "dtype": "i1"
           },
           "xaxis": "x",
           "y": {
            "bdata": "1QY=",
            "dtype": "i2"
           },
           "yaxis": "y"
          },
          {
           "hovertemplate": "page2_clothing_model=P63<br>month=4<br>Main Category=%{x}<br>Total Price=%{y}<extra></extra>",
           "ids": {
            "bdata": "BA==",
            "dtype": "i1"
           },
           "legendgroup": "P63",
           "marker": {
            "color": "#00cc96",
            "pattern": {
             "shape": ""
            }
           },
           "name": "P63",
           "orientation": "v",
           "showlegend": true,
           "textposition": "auto",
           "type": "bar",
           "x": {
            "bdata": "BA==",
            "dtype": "i1"
           },
           "xaxis": "x",
           "y": {
            "bdata": "qAc=",
            "dtype": "i2"
           },
           "yaxis": "y"
          },
          {
           "hovertemplate": "page2_clothing_model=P42<br>month=4<br>Main Category=%{x}<br>Total Price=%{y}<extra></extra>",
           "ids": {
            "bdata": "BA==",
            "dtype": "i1"
           },
           "legendgroup": "P42",
           "marker": {
            "color": "#ab63fa",
            "pattern": {
             "shape": ""
            }
           },
           "name": "P42",
           "orientation": "v",
           "showlegend": true,
           "textposition": "auto",
           "type": "bar",
           "x": {
            "bdata": "BA==",
            "dtype": "i1"
           },
           "xaxis": "x",
           "y": {
            "bdata": "qAc=",
            "dtype": "i2"
           },
           "yaxis": "y"
          },
          {
           "hovertemplate": "page2_clothing_model=P21<br>month=4<br>Main Category=%{x}<br>Total Price=%{y}<extra></extra>",
           "ids": {
            "bdata": "BA==",
            "dtype": "i1"
           },
           "legendgroup": "P21",
           "marker": {
            "color": "#FFA15A",
            "pattern": {
             "shape": ""
            }
           },
           "name": "P21",
           "orientation": "v",
           "showlegend": true,
           "textposition": "auto",
           "type": "bar",
           "x": {
            "bdata": "BA==",
            "dtype": "i1"
           },
           "xaxis": "x",
           "y": {
            "bdata": "WQc=",
            "dtype": "i2"
           },
           "yaxis": "y"
          },
          {
           "hovertemplate": "page2_clothing_model=P44<br>month=4<br>Main Category=%{x}<br>Total Price=%{y}<extra></extra>",
           "ids": {
            "bdata": "BA==",
            "dtype": "i1"
           },
           "legendgroup": "P44",
           "marker": {
            "color": "#19d3f3",
            "pattern": {
             "shape": ""
            }
           },
           "name": "P44",
           "orientation": "v",
           "showlegend": true,
           "textposition": "auto",
           "type": "bar",
           "x": {
            "bdata": "BA==",
            "dtype": "i1"
           },
           "xaxis": "x",
           "y": {
            "bdata": "OAc=",
            "dtype": "i2"
           },
           "yaxis": "y"
          },
          {
           "hovertemplate": "page2_clothing_model=P75<br>month=4<br>Main Category=%{x}<br>Total Price=%{y}<extra></extra>",
           "ids": {
            "bdata": "BA==",
            "dtype": "i1"
           },
           "legendgroup": "P75",
           "marker": {
            "color": "#FF6692",
            "pattern": {
             "shape": ""
            }
           },
           "name": "P75",
           "orientation": "v",
           "showlegend": true,
           "textposition": "auto",
           "type": "bar",
           "x": {
            "bdata": "BA==",
            "dtype": "i1"
           },
           "xaxis": "x",
           "y": {
            "bdata": "Fwc=",
            "dtype": "i2"
           },
           "yaxis": "y"
          },
          {
           "hovertemplate": "page2_clothing_model=P27<br>month=4<br>Main Category=%{x}<br>Total Price=%{y}<extra></extra>",
           "ids": {
            "bdata": "BA==",
            "dtype": "i1"
           },
           "legendgroup": "P27",
           "marker": {
            "color": "#B6E880",
            "pattern": {
             "shape": ""
            }
           },
           "name": "P27",
           "orientation": "v",
           "showlegend": true,
           "textposition": "auto",
           "type": "bar",
           "x": {
            "bdata": "BA==",
            "dtype": "i1"
           },
           "xaxis": "x",
           "y": {
            "bdata": "UQY=",
            "dtype": "i2"
           },
           "yaxis": "y"
          },
          {
           "hovertemplate": "page2_clothing_model=C52<br>month=4<br>Main Category=%{x}<br>Total Price=%{y}<extra></extra>",
           "ids": {
            "bdata": "Aw==",
            "dtype": "i1"
           },
           "legendgroup": "C52",
           "marker": {
            "color": "#FF97FF",
            "pattern": {
             "shape": ""
            }
           },
           "name": "C52",
           "orientation": "v",
           "showlegend": true,
           "textposition": "auto",
           "type": "bar",
           "x": {
            "bdata": "Aw==",
            "dtype": "i1"
           },
           "xaxis": "x",
           "y": {
            "bdata": "MgU=",
            "dtype": "i2"
           },
           "yaxis": "y"
          },
          {
           "hovertemplate": "page2_clothing_model=P73<br>month=4<br>Main Category=%{x}<br>Total Price=%{y}<extra></extra>",
           "ids": {
            "bdata": "BA==",
            "dtype": "i1"
           },
           "legendgroup": "P73",
           "marker": {
            "color": "#FECB52",
            "pattern": {
             "shape": ""
            }
           },
           "name": "P73",
           "orientation": "v",
           "showlegend": true,
           "textposition": "auto",
           "type": "bar",
           "x": {
            "bdata": "BA==",
            "dtype": "i1"
           },
           "xaxis": "x",
           "y": {
            "bdata": "7gU=",
            "dtype": "i2"
           },
           "yaxis": "y"
          },
          {
           "hovertemplate": "page2_clothing_model=P80<br>month=4<br>Main Category=%{x}<br>Total Price=%{y}<extra></extra>",
           "ids": {
            "bdata": "BA==",
            "dtype": "i1"
           },
           "legendgroup": "P80",
           "marker": {
            "color": "#636efa",
            "pattern": {
             "shape": ""
            }
           },
           "name": "P80",
           "orientation": "v",
           "showlegend": true,
           "textposition": "auto",
           "type": "bar",
           "x": {
            "bdata": "BA==",
            "dtype": "i1"
           },
           "xaxis": "x",
           "y": {
            "bdata": "QAU=",
            "dtype": "i2"
           },
           "yaxis": "y"
          },
          {
           "hovertemplate": "page2_clothing_model=P35<br>month=4<br>Main Category=%{x}<br>Total Price=%{y}<extra></extra>",
           "ids": {
            "bdata": "BA==",
            "dtype": "i1"
           },
           "legendgroup": "P35",
           "marker": {
            "color": "#EF553B",
            "pattern": {
             "shape": ""
            }
           },
           "name": "P35",
           "orientation": "v",
           "showlegend": true,
           "textposition": "auto",
           "type": "bar",
           "x": {
            "bdata": "BA==",
            "dtype": "i1"
           },
           "xaxis": "x",
           "y": {
            "bdata": "fAQ=",
            "dtype": "i2"
           },
           "yaxis": "y"
          },
          {
           "hovertemplate": "page2_clothing_model=P52<br>month=4<br>Main Category=%{x}<br>Total Price=%{y}<extra></extra>",
           "ids": {
            "bdata": "BA==",
            "dtype": "i1"
           },
           "legendgroup": "P52",
           "marker": {
            "color": "#00cc96",
            "pattern": {
             "shape": ""
            }
           },
           "name": "P52",
           "orientation": "v",
           "showlegend": true,
           "textposition": "auto",
           "type": "bar",
           "x": {
            "bdata": "BA==",
            "dtype": "i1"
           },
           "xaxis": "x",
           "y": {
            "bdata": "yQI=",
            "dtype": "i2"
           },
           "yaxis": "y"
          },
          {
           "hovertemplate": "page2_clothing_model=C47<br>month=4<br>Main Category=%{x}<br>Total Price=%{y}<extra></extra>",
           "ids": {
            "bdata": "Aw==",
            "dtype": "i1"
           },
           "legendgroup": "C47",
           "marker": {
            "color": "#ab63fa",
            "pattern": {
             "shape": ""
            }
           },
           "name": "C47",
           "orientation": "v",
           "showlegend": true,
           "textposition": "auto",
           "type": "bar",
           "x": {
            "bdata": "Aw==",
            "dtype": "i1"
           },
           "xaxis": "x",
           "y": {
            "bdata": "kgQ=",
            "dtype": "i2"
           },
           "yaxis": "y"
          },
          {
           "hovertemplate": "page2_clothing_model=P62<br>month=4<br>Main Category=%{x}<br>Total Price=%{y}<extra></extra>",
           "ids": {
            "bdata": "BA==",
            "dtype": "i1"
           },
           "legendgroup": "P62",
           "marker": {
            "color": "#FFA15A",
            "pattern": {
             "shape": ""
            }
           },
           "name": "P62",
           "orientation": "v",
           "showlegend": true,
           "textposition": "auto",
           "type": "bar",
           "x": {
            "bdata": "BA==",
            "dtype": "i1"
           },
           "xaxis": "x",
           "y": {
            "bdata": "GAM=",
            "dtype": "i2"
           },
           "yaxis": "y"
          },
          {
           "hovertemplate": "page2_clothing_model=P45<br>month=4<br>Main Category=%{x}<br>Total Price=%{y}<extra></extra>",
           "ids": {
            "bdata": "BA==",
            "dtype": "i1"
           },
           "legendgroup": "P45",
           "marker": {
            "color": "#19d3f3",
            "pattern": {
             "shape": ""
            }
           },
           "name": "P45",
           "orientation": "v",
           "showlegend": true,
           "textposition": "auto",
           "type": "bar",
           "x": {
            "bdata": "BA==",
            "dtype": "i1"
           },
           "xaxis": "x",
           "y": {
            "bdata": "QQQ=",
            "dtype": "i2"
           },
           "yaxis": "y"
          },
          {
           "hovertemplate": "page2_clothing_model=C43<br>month=4<br>Main Category=%{x}<br>Total Price=%{y}<extra></extra>",
           "ids": {
            "bdata": "Aw==",
            "dtype": "i1"
           },
           "legendgroup": "C43",
           "marker": {
            "color": "#FF6692",
            "pattern": {
             "shape": ""
            }
           },
           "name": "C43",
           "orientation": "v",
           "showlegend": true,
           "textposition": "auto",
           "type": "bar",
           "x": {
            "bdata": "Aw==",
            "dtype": "i1"
           },
           "xaxis": "x",
           "y": {
            "bdata": "LAM=",
            "dtype": "i2"
           },
           "yaxis": "y"
          },
          {
           "hovertemplate": "page2_clothing_model=P64<br>month=4<br>Main Category=%{x}<br>Total Price=%{y}<extra></extra>",
           "ids": {
            "bdata": "BA==",
            "dtype": "i1"
           },
           "legendgroup": "P64",
           "marker": {
            "color": "#B6E880",
            "pattern": {
             "shape": ""
            }
           },
           "name": "P64",
           "orientation": "v",
           "showlegend": true,
           "textposition": "auto",
           "type": "bar",
           "x": {
            "bdata": "BA==",
            "dtype": "i1"
           },
           "xaxis": "x",
           "y": {
            "bdata": "SAM=",
            "dtype": "i2"
           },
           "yaxis": "y"
          },
          {
           "hovertemplate": "page2_clothing_model=P31<br>month=4<br>Main Category=%{x}<br>Total Price=%{y}<extra></extra>",
           "ids": {
            "bdata": "BA==",
            "dtype": "i1"
           },
           "legendgroup": "P31",
           "marker": {
            "color": "#FF97FF",
            "pattern": {
             "shape": ""
            }
           },
           "name": "P31",
           "orientation": "v",
           "showlegend": true,
           "textposition": "auto",
           "type": "bar",
           "x": {
            "bdata": "BA==",
            "dtype": "i1"
           },
           "xaxis": "x",
           "y": {
            "bdata": "EAI=",
            "dtype": "i2"
           },
           "yaxis": "y"
          },
          {
           "hovertemplate": "page2_clothing_model=P54<br>month=4<br>Main Category=%{x}<br>Total Price=%{y}<extra></extra>",
           "ids": {
            "bdata": "BA==",
            "dtype": "i1"
           },
           "legendgroup": "P54",
           "marker": {
            "color": "#FECB52",
            "pattern": {
             "shape": ""
            }
           },
           "name": "P54",
           "orientation": "v",
           "showlegend": true,
           "textposition": "auto",
           "type": "bar",
           "x": {
            "bdata": "BA==",
            "dtype": "i1"
           },
           "xaxis": "x",
           "y": {
            "bdata": "IQ==",
            "dtype": "i1"
           },
           "yaxis": "y"
          }
         ],
         "name": "4"
        },
        {
         "data": [
          {
           "hovertemplate": "page2_clothing_model=A2<br>month=5<br>Main Category=%{x}<br>Total Price=%{y}<extra></extra>",
           "ids": {
            "bdata": "AQ==",
            "dtype": "i1"
           },
           "legendgroup": "A2",
           "marker": {
            "color": "#636efa",
            "pattern": {
             "shape": ""
            }
           },
           "name": "A2",
           "orientation": "v",
           "showlegend": true,
           "textposition": "auto",
           "type": "bar",
           "x": {
            "bdata": "AQ==",
            "dtype": "i1"
           },
           "xaxis": "x",
           "y": {
            "bdata": "4kY=",
            "dtype": "i2"
           },
           "yaxis": "y"
          },
          {
           "hovertemplate": "page2_clothing_model=A4<br>month=5<br>Main Category=%{x}<br>Total Price=%{y}<extra></extra>",
           "ids": {
            "bdata": "AQ==",
            "dtype": "i1"
           },
           "legendgroup": "A4",
           "marker": {
            "color": "#EF553B",
            "pattern": {
             "shape": ""
            }
           },
           "name": "A4",
           "orientation": "v",
           "showlegend": true,
           "textposition": "auto",
           "type": "bar",
           "x": {
            "bdata": "AQ==",
            "dtype": "i1"
           },
           "xaxis": "x",
           "y": {
            "bdata": "CEk=",
            "dtype": "i2"
           },
           "yaxis": "y"
          },
          {
           "hovertemplate": "page2_clothing_model=A5<br>month=5<br>Main Category=%{x}<br>Total Price=%{y}<extra></extra>",
           "ids": {
            "bdata": "AQ==",
            "dtype": "i1"
           },
           "legendgroup": "A5",
           "marker": {
            "color": "#00cc96",
            "pattern": {
             "shape": ""
            }
           },
           "name": "A5",
           "orientation": "v",
           "showlegend": true,
           "textposition": "auto",
           "type": "bar",
           "x": {
            "bdata": "AQ==",
            "dtype": "i1"
           },
           "xaxis": "x",
           "y": {
            "bdata": "0D0=",
            "dtype": "i2"
           },
           "yaxis": "y"
          },
          {
           "hovertemplate": "page2_clothing_model=A15<br>month=5<br>Main Category=%{x}<br>Total Price=%{y}<extra></extra>",
           "ids": {
            "bdata": "AQ==",
            "dtype": "i1"
           },
           "legendgroup": "A15",
           "marker": {
            "color": "#ab63fa",
            "pattern": {
             "shape": ""
            }
           },
           "name": "A15",
           "orientation": "v",
           "showlegend": true,
           "textposition": "auto",
           "type": "bar",
           "x": {
            "bdata": "AQ==",
            "dtype": "i1"
           },
           "xaxis": "x",
           "y": {
            "bdata": "SkM=",
            "dtype": "i2"
           },
           "yaxis": "y"
          },
          {
           "hovertemplate": "page2_clothing_model=A10<br>month=5<br>Main Category=%{x}<br>Total Price=%{y}<extra></extra>",
           "ids": {
            "bdata": "AQ==",
            "dtype": "i1"
           },
           "legendgroup": "A10",
           "marker": {
            "color": "#FFA15A",
            "pattern": {
             "shape": ""
            }
           },
           "name": "A10",
           "orientation": "v",
           "showlegend": true,
           "textposition": "auto",
           "type": "bar",
           "x": {
            "bdata": "AQ==",
            "dtype": "i1"
           },
           "xaxis": "x",
           "y": {
            "bdata": "9jc=",
            "dtype": "i2"
           },
           "yaxis": "y"
          },
          {
           "hovertemplate": "page2_clothing_model=A6<br>month=5<br>Main Category=%{x}<br>Total Price=%{y}<extra></extra>",
           "ids": {
            "bdata": "AQ==",
            "dtype": "i1"
           },
           "legendgroup": "A6",
           "marker": {
            "color": "#19d3f3",
            "pattern": {
             "shape": ""
            }
           },
           "name": "A6",
           "orientation": "v",
           "showlegend": true,
           "textposition": "auto",
           "type": "bar",
           "x": {
            "bdata": "AQ==",
            "dtype": "i1"
           },
           "xaxis": "x",
           "y": {
            "bdata": "ZjM=",
            "dtype": "i2"
           },
           "yaxis": "y"
          },
          {
           "hovertemplate": "page2_clothing_model=A12<br>month=5<br>Main Category=%{x}<br>Total Price=%{y}<extra></extra>",
           "ids": {
            "bdata": "AQ==",
            "dtype": "i1"
           },
           "legendgroup": "A12",
           "marker": {
            "color": "#FF6692",
            "pattern": {
             "shape": ""
            }
           },
           "name": "A12",
           "orientation": "v",
           "showlegend": true,
           "textposition": "auto",
           "type": "bar",
           "x": {
            "bdata": "AQ==",
            "dtype": "i1"
           },
           "xaxis": "x",
           "y": {
            "bdata": "Fiw=",
            "dtype": "i2"
           },
           "yaxis": "y"
          },
          {
           "hovertemplate": "page2_clothing_model=A7<br>month=5<br>Main Category=%{x}<br>Total Price=%{y}<extra></extra>",
           "ids": {
            "bdata": "AQ==",
            "dtype": "i1"
           },
           "legendgroup": "A7",
           "marker": {
            "color": "#B6E880",
            "pattern": {
             "shape": ""
            }
           },
           "name": "A7",
           "orientation": "v",
           "showlegend": true,
           "textposition": "auto",
           "type": "bar",
           "x": {
            "bdata": "AQ==",
            "dtype": "i1"
           },
           "xaxis": "x",
           "y": {
            "bdata": "fSk=",
            "dtype": "i2"
           },
           "yaxis": "y"
          },
          {
           "hovertemplate": "page2_clothing_model=A1<br>month=5<br>Main Category=%{x}<br>Total Price=%{y}<extra></extra>",
           "ids": {
            "bdata": "AQ==",
            "dtype": "i1"
           },
           "legendgroup": "A1",
           "marker": {
            "color": "#FF97FF",
            "pattern": {
             "shape": ""
            }
           },
           "name": "A1",
           "orientation": "v",
           "showlegend": true,
           "textposition": "auto",
           "type": "bar",
           "x": {
            "bdata": "AQ==",
            "dtype": "i1"
           },
           "xaxis": "x",
           "y": {
            "bdata": "NCQ=",
            "dtype": "i2"
           },
           "yaxis": "y"
          },
          {
           "hovertemplate": "page2_clothing_model=B11<br>month=5<br>Main Category=%{x}<br>Total Price=%{y}<extra></extra>",
           "ids": {
            "bdata": "Ag==",
            "dtype": "i1"
           },
           "legendgroup": "B11",
           "marker": {
            "color": "#FECB52",
            "pattern": {
             "shape": ""
            }
           },
           "name": "B11",
           "orientation": "v",
           "showlegend": true,
           "textposition": "auto",
           "type": "bar",
           "x": {
            "bdata": "Ag==",
            "dtype": "i1"
           },
           "xaxis": "x",
           "y": {
            "bdata": "oiY=",
            "dtype": "i2"
           },
           "yaxis": "y"
          },
          {
           "hovertemplate": "page2_clothing_model=B15<br>month=5<br>Main Category=%{x}<br>Total Price=%{y}<extra></extra>",
           "ids": {
            "bdata": "Ag==",
            "dtype": "i1"
           },
           "legendgroup": "B15",
           "marker": {
            "color": "#636efa",
            "pattern": {
             "shape": ""
            }
           },
           "name": "B15",
           "orientation": "v",
           "showlegend": true,
           "textposition": "auto",
           "type": "bar",
           "x": {
            "bdata": "Ag==",
            "dtype": "i1"
           },
           "xaxis": "x",
           "y": {
            "bdata": "fis=",
            "dtype": "i2"
           },
           "yaxis": "y"
          },
          {
           "hovertemplate": "page2_clothing_model=B32<br>month=5<br>Main Category=%{x}<br>Total Price=%{y}<extra></extra>",
           "ids": {
            "bdata": "Ag==",
            "dtype": "i1"
           },
           "legendgroup": "B32",
           "marker": {
            "color": "#EF553B",
            "pattern": {
             "shape": ""
            }
           },
           "name": "B32",
           "orientation": "v",
           "showlegend": true,
           "textposition": "auto",
           "type": "bar",
           "x": {
            "bdata": "Ag==",
            "dtype": "i1"
           },
           "xaxis": "x",
           "y": {
            "bdata": "2iU=",
            "dtype": "i2"
           },
           "yaxis": "y"
          },
          {
           "hovertemplate": "page2_clothing_model=P16<br>month=5<br>Main Category=%{x}<br>Total Price=%{y}<extra></extra>",
           "ids": {
            "bdata": "BA==",
            "dtype": "i1"
           },
           "legendgroup": "P16",
           "marker": {
            "color": "#00cc96",
            "pattern": {
             "shape": ""
            }
           },
           "name": "P16",
           "orientation": "v",
           "showlegend": true,
           "textposition": "auto",
           "type": "bar",
           "x": {
            "bdata": "BA==",
            "dtype": "i1"
           },
           "xaxis": "x",
           "y": {
            "bdata": "hCE=",
            "dtype": "i2"
           },
           "yaxis": "y"
          },
          {
           "hovertemplate": "page2_clothing_model=B23<br>month=5<br>Main Category=%{x}<br>Total Price=%{y}<extra></extra>",
           "ids": {
            "bdata": "Ag==",
            "dtype": "i1"
           },
           "legendgroup": "B23",
           "marker": {
            "color": "#ab63fa",
            "pattern": {
             "shape": ""
            }
           },
           "name": "B23",
           "orientation": "v",
           "showlegend": true,
           "textposition": "auto",
           "type": "bar",
           "x": {
            "bdata": "Ag==",
            "dtype": "i1"
           },
           "xaxis": "x",
           "y": {
            "bdata": "DCs=",
            "dtype": "i2"
           },
           "yaxis": "y"
          },
          {
           "hovertemplate": "page2_clothing_model=B17<br>month=5<br>Main Category=%{x}<br>Total Price=%{y}<extra></extra>",
           "ids": {
            "bdata": "Ag==",
            "dtype": "i1"
           },
           "legendgroup": "B17",
           "marker": {
            "color": "#FFA15A",
            "pattern": {
             "shape": ""
            }
           },
           "name": "B17",
           "orientation": "v",
           "showlegend": true,
           "textposition": "auto",
           "type": "bar",
           "x": {
            "bdata": "Ag==",
            "dtype": "i1"
           },
           "xaxis": "x",
           "y": {
            "bdata": "aik=",
            "dtype": "i2"
           },
           "yaxis": "y"
          },
          {
           "hovertemplate": "page2_clothing_model=B12<br>month=5<br>Main Category=%{x}<br>Total Price=%{y}<extra></extra>",
           "ids": {
            "bdata": "Ag==",
            "dtype": "i1"
           },
           "legendgroup": "B12",
           "marker": {
            "color": "#19d3f3",
            "pattern": {
             "shape": ""
            }
           },
           "name": "B12",
           "orientation": "v",
           "showlegend": true,
           "textposition": "auto",
           "type": "bar",
           "x": {
            "bdata": "Ag==",
            "dtype": "i1"
           },
           "xaxis": "x",
           "y": {
            "bdata": "4iI=",
            "dtype": "i2"
           },
           "yaxis": "y"
          },
          {
           "hovertemplate": "page2_clothing_model=A16<br>month=5<br>Main Category=%{x}<br>Total Price=%{y}<extra></extra>",
           "ids": {
            "bdata": "AQ==",
            "dtype": "i1"
           },
           "legendgroup": "A16",
           "marker": {
            "color": "#FF6692",
            "pattern": {
             "shape": ""
            }
           },
           "name": "A16",
           "orientation": "v",
           "showlegend": true,
           "textposition": "auto",
           "type": "bar",
           "x": {
            "bdata": "AQ==",
            "dtype": "i1"
           },
           "xaxis": "x",
           "y": {
            "bdata": "lCM=",
            "dtype": "i2"
           },
           "yaxis": "y"
          },
          {
           "hovertemplate": "page2_clothing_model=B9<br>month=5<br>Main Category=%{x}<br>Total Price=%{y}<extra></extra>",
           "ids": {
            "bdata": "Ag==",
            "dtype": "i1"
           },
           "legendgroup": "B9",
           "marker": {
            "color": "#B6E880",
            "pattern": {
             "shape": ""
            }
           },
           "name": "B9",
           "orientation": "v",
           "showlegend": true,
           "textposition": "auto",
           "type": "bar",
           "x": {
            "bdata": "Ag==",
            "dtype": "i1"
           },
           "xaxis": "x",
           "y": {
            "bdata": "oBc=",
            "dtype": "i2"
           },
           "yaxis": "y"
          },
          {
           "hovertemplate": "page2_clothing_model=A13<br>month=5<br>Main Category=%{x}<br>Total Price=%{y}<extra></extra>",
           "ids": {
            "bdata": "AQ==",
            "dtype": "i1"
           },
           "legendgroup": "A13",
           "marker": {
            "color": "#FF97FF",
            "pattern": {
             "shape": ""
            }
           },
           "name": "A13",
           "orientation": "v",
           "showlegend": true,
           "textposition": "auto",
           "type": "bar",
           "x": {
            "bdata": "AQ==",
            "dtype": "i1"
           },
           "xaxis": "x",
           "y": {
            "bdata": "KCA=",
            "dtype": "i2"
           },
           "yaxis": "y"
          },
          {
           "hovertemplate": "page2_clothing_model=B19<br>month=5<br>Main Category=%{x}<br>Total Price=%{y}<extra></extra>",
           "ids": {
            "bdata": "Ag==",
            "dtype": "i1"
           },
           "legendgroup": "B19",
           "marker": {
            "color": "#FECB52",
            "pattern": {
             "shape": ""
            }
           },
           "name": "B19",
           "orientation": "v",
           "showlegend": true,
           "textposition": "auto",
           "type": "bar",
           "x": {
            "bdata": "Ag==",
            "dtype": "i1"
           },
           "xaxis": "x",
           "y": {
            "bdata": "Cic=",
            "dtype": "i2"
           },
           "yaxis": "y"
          },
          {
           "hovertemplate": "page2_clothing_model=A33<br>month=5<br>Main Category=%{x}<br>Total Price=%{y}<extra></extra>",
           "ids": {
            "bdata": "AQ==",
            "dtype": "i1"
           },
           "legendgroup": "A33",
           "marker": {
            "color": "#636efa",
            "pattern": {
             "shape": ""
            }
           },
           "name": "A33",
           "orientation": "v",
           "showlegend": true,
           "textposition": "auto",
           "type": "bar",
           "x": {
            "bdata": "AQ==",
            "dtype": "i1"
           },
           "xaxis": "x",
           "y": {
            "bdata": "phw=",
            "dtype": "i2"
           },
           "yaxis": "y"
          },
          {
           "hovertemplate": "page2_clothing_model=P12<br>month=5<br>Main Category=%{x}<br>Total Price=%{y}<extra></extra>",
           "ids": {
            "bdata": "BA==",
            "dtype": "i1"
           },
           "legendgroup": "P12",
           "marker": {
            "color": "#EF553B",
            "pattern": {
             "shape": ""
            }
           },
           "name": "P12",
           "orientation": "v",
           "showlegend": true,
           "textposition": "auto",
           "type": "bar",
           "x": {
            "bdata": "BA==",
            "dtype": "i1"
           },
           "xaxis": "x",
           "y": {
            "bdata": "NBc=",
            "dtype": "i2"
           },
           "yaxis": "y"
          },
          {
           "hovertemplate": "page2_clothing_model=A41<br>month=5<br>Main Category=%{x}<br>Total Price=%{y}<extra></extra>",
           "ids": {
            "bdata": "AQ==",
            "dtype": "i1"
           },
           "legendgroup": "A41",
           "marker": {
            "color": "#00cc96",
            "pattern": {
             "shape": ""
            }
           },
           "name": "A41",
           "orientation": "v",
           "showlegend": true,
           "textposition": "auto",
           "type": "bar",
           "x": {
            "bdata": "AQ==",
            "dtype": "i1"
           },
           "xaxis": "x",
           "y": {
            "bdata": "vR4=",
            "dtype": "i2"
           },
           "yaxis": "y"
          },
          {
           "hovertemplate": "page2_clothing_model=C1<br>month=5<br>Main Category=%{x}<br>Total Price=%{y}<extra></extra>",
           "ids": {
            "bdata": "Aw==",
            "dtype": "i1"
           },
           "legendgroup": "C1",
           "marker": {
            "color": "#ab63fa",
            "pattern": {
             "shape": ""
            }
           },
           "name": "C1",
           "orientation": "v",
           "showlegend": true,
           "textposition": "auto",
           "type": "bar",
           "x": {
            "bdata": "Aw==",
            "dtype": "i1"
           },
           "xaxis": "x",
           "y": {
            "bdata": "dBQ=",
            "dtype": "i2"
           },
           "yaxis": "y"
          },
          {
           "hovertemplate": "page2_clothing_model=A18<br>month=5<br>Main Category=%{x}<br>Total Price=%{y}<extra></extra>",
           "ids": {
            "bdata": "AQ==",
            "dtype": "i1"
           },
           "legendgroup": "A18",
           "marker": {
            "color": "#FFA15A",
            "pattern": {
             "shape": ""
            }
           },
           "name": "A18",
           "orientation": "v",
           "showlegend": true,
           "textposition": "auto",
           "type": "bar",
           "x": {
            "bdata": "AQ==",
            "dtype": "i1"
           },
           "xaxis": "x",
           "y": {
            "bdata": "FBU=",
            "dtype": "i2"
           },
           "yaxis": "y"
          },
          {
           "hovertemplate": "page2_clothing_model=B34<br>month=5<br>Main Category=%{x}<br>Total Price=%{y}<extra></extra>",
           "ids": {
            "bdata": "Ag==",
            "dtype": "i1"
           },
           "legendgroup": "B34",
           "marker": {
            "color": "#19d3f3",
            "pattern": {
             "shape": ""
            }
           },
           "name": "B34",
           "orientation": "v",
           "showlegend": true,
           "textposition": "auto",
           "type": "bar",
           "x": {
            "bdata": "Ag==",
            "dtype": "i1"
           },
           "xaxis": "x",
           "y": {
            "bdata": "wBI=",
            "dtype": "i2"
           },
           "yaxis": "y"
          },
          {
           "hovertemplate": "page2_clothing_model=A30<br>month=5<br>Main Category=%{x}<br>Total Price=%{y}<extra></extra>",
           "ids": {
            "bdata": "AQ==",
            "dtype": "i1"
           },
           "legendgroup": "A30",
           "marker": {
            "color": "#FF6692",
            "pattern": {
             "shape": ""
            }
           },
           "name": "A30",
           "orientation": "v",
           "showlegend": true,
           "textposition": "auto",
           "type": "bar",
           "x": {
            "bdata": "AQ==",
            "dtype": "i1"
           },
           "xaxis": "x",
           "y": {
            "bdata": "OhU=",
            "dtype": "i2"
           },
           "yaxis": "y"
          },
          {
           "hovertemplate": "page2_clothing_model=C40<br>month=5<br>Main Category=%{x}<br>Total Price=%{y}<extra></extra>",
           "ids": {
            "bdata": "Aw==",
            "dtype": "i1"
           },
           "legendgroup": "C40",
           "marker": {
            "color": "#B6E880",
            "pattern": {
             "shape": ""
            }
           },
           "name": "C40",
           "orientation": "v",
           "showlegend": true,
           "textposition": "auto",
           "type": "bar",
           "x": {
            "bdata": "Aw==",
            "dtype": "i1"
           },
           "xaxis": "x",
           "y": {
            "bdata": "VBU=",
            "dtype": "i2"
           },
           "yaxis": "y"
          },
          {
           "hovertemplate": "page2_clothing_model=P48<br>month=5<br>Main Category=%{x}<br>Total Price=%{y}<extra></extra>",
           "ids": {
            "bdata": "BA==",
            "dtype": "i1"
           },
           "legendgroup": "P48",
           "marker": {
            "color": "#FF97FF",
            "pattern": {
             "shape": ""
            }
           },
           "name": "P48",
           "orientation": "v",
           "showlegend": true,
           "textposition": "auto",
           "type": "bar",
           "x": {
            "bdata": "BA==",
            "dtype": "i1"
           },
           "xaxis": "x",
           "y": {
            "bdata": "NBc=",
            "dtype": "i2"
           },
           "yaxis": "y"
          },
          {
           "hovertemplate": "page2_clothing_model=C14<br>month=5<br>Main Category=%{x}<br>Total Price=%{y}<extra></extra>",
           "ids": {
            "bdata": "Aw==",
            "dtype": "i1"
           },
           "legendgroup": "C14",
           "marker": {
            "color": "#FECB52",
            "pattern": {
             "shape": ""
            }
           },
           "name": "C14",
           "orientation": "v",
           "showlegend": true,
           "textposition": "auto",
           "type": "bar",
           "x": {
            "bdata": "Aw==",
            "dtype": "i1"
           },
           "xaxis": "x",
           "y": {
            "bdata": "xBM=",
            "dtype": "i2"
           },
           "yaxis": "y"
          },
          {
           "hovertemplate": "page2_clothing_model=P2<br>month=5<br>Main Category=%{x}<br>Total Price=%{y}<extra></extra>",
           "ids": {
            "bdata": "BA==",
            "dtype": "i1"
           },
           "legendgroup": "P2",
           "marker": {
            "color": "#636efa",
            "pattern": {
             "shape": ""
            }
           },
           "name": "P2",
           "orientation": "v",
           "showlegend": true,
           "textposition": "auto",
           "type": "bar",
           "x": {
            "bdata": "BA==",
            "dtype": "i1"
           },
           "xaxis": "x",
           "y": {
            "bdata": "jA4=",
            "dtype": "i2"
           },
           "yaxis": "y"
          },
          {
           "hovertemplate": "page2_clothing_model=A32<br>month=5<br>Main Category=%{x}<br>Total Price=%{y}<extra></extra>",
           "ids": {
            "bdata": "AQ==",
            "dtype": "i1"
           },
           "legendgroup": "A32",
           "marker": {
            "color": "#EF553B",
            "pattern": {
             "shape": ""
            }
           },
           "name": "A32",
           "orientation": "v",
           "showlegend": true,
           "textposition": "auto",
           "type": "bar",
           "x": {
            "bdata": "AQ==",
            "dtype": "i1"
           },
           "xaxis": "x",
           "y": {
            "bdata": "Sg8=",
            "dtype": "i2"
           },
           "yaxis": "y"
          },
          {
           "hovertemplate": "page2_clothing_model=C6<br>month=5<br>Main Category=%{x}<br>Total Price=%{y}<extra></extra>",
           "ids": {
            "bdata": "Aw==",
            "dtype": "i1"
           },
           "legendgroup": "C6",
           "marker": {
            "color": "#00cc96",
            "pattern": {
             "shape": ""
            }
           },
           "name": "C6",
           "orientation": "v",
           "showlegend": true,
           "textposition": "auto",
           "type": "bar",
           "x": {
            "bdata": "Aw==",
            "dtype": "i1"
           },
           "xaxis": "x",
           "y": {
            "bdata": "gBA=",
            "dtype": "i2"
           },
           "yaxis": "y"
          },
          {
           "hovertemplate": "page2_clothing_model=C53<br>month=5<br>Main Category=%{x}<br>Total Price=%{y}<extra></extra>",
           "ids": {
            "bdata": "Aw==",
            "dtype": "i1"
           },
           "legendgroup": "C53",
           "marker": {
            "color": "#ab63fa",
            "pattern": {
             "shape": ""
            }
           },
           "name": "C53",
           "orientation": "v",
           "showlegend": true,
           "textposition": "auto",
           "type": "bar",
           "x": {
            "bdata": "Aw==",
            "dtype": "i1"
           },
           "xaxis": "x",
           "y": {
            "bdata": "ehA=",
            "dtype": "i2"
           },
           "yaxis": "y"
          },
          {
           "hovertemplate": "page2_clothing_model=C57<br>month=5<br>Main Category=%{x}<br>Total Price=%{y}<extra></extra>",
           "ids": {
            "bdata": "Aw==",
            "dtype": "i1"
           },
           "legendgroup": "C57",
           "marker": {
            "color": "#FFA15A",
            "pattern": {
             "shape": ""
            }
           },
           "name": "C57",
           "orientation": "v",
           "showlegend": true,
           "textposition": "auto",
           "type": "bar",
           "x": {
            "bdata": "Aw==",
            "dtype": "i1"
           },
           "xaxis": "x",
           "y": {
            "bdata": "Vw8=",
            "dtype": "i2"
           },
           "yaxis": "y"
          },
          {
           "hovertemplate": "page2_clothing_model=C11<br>month=5<br>Main Category=%{x}<br>Total Price=%{y}<extra></extra>",
           "ids": {
            "bdata": "Aw==",
            "dtype": "i1"
           },
           "legendgroup": "C11",
           "marker": {
            "color": "#19d3f3",
            "pattern": {
             "shape": ""
            }
           },
           "name": "C11",
           "orientation": "v",
           "showlegend": true,
           "textposition": "auto",
           "type": "bar",
           "x": {
            "bdata": "Aw==",
            "dtype": "i1"
           },
           "xaxis": "x",
           "y": {
            "bdata": "jxY=",
            "dtype": "i2"
           },
           "yaxis": "y"
          },
          {
           "hovertemplate": "page2_clothing_model=B25<br>month=5<br>Main Category=%{x}<br>Total Price=%{y}<extra></extra>",
           "ids": {
            "bdata": "Ag==",
            "dtype": "i1"
           },
           "legendgroup": "B25",
           "marker": {
            "color": "#FF6692",
            "pattern": {
             "shape": ""
            }
           },
           "name": "B25",
           "orientation": "v",
           "showlegend": true,
           "textposition": "auto",
           "type": "bar",
           "x": {
            "bdata": "Ag==",
            "dtype": "i1"
           },
           "xaxis": "x",
           "y": {
            "bdata": "ahY=",
            "dtype": "i2"
           },
           "yaxis": "y"
          },
          {
           "hovertemplate": "page2_clothing_model=A28<br>month=5<br>Main Category=%{x}<br>Total Price=%{y}<extra></extra>",
           "ids": {
            "bdata": "AQ==",
            "dtype": "i1"
           },
           "legendgroup": "A28",
           "marker": {
            "color": "#B6E880",
            "pattern": {
             "shape": ""
            }
           },
           "name": "A28",
           "orientation": "v",
           "showlegend": true,
           "textposition": "auto",
           "type": "bar",
           "x": {
            "bdata": "AQ==",
            "dtype": "i1"
           },
           "xaxis": "x",
           "y": {
            "bdata": "1BQ=",
            "dtype": "i2"
           },
           "yaxis": "y"
          },
          {
           "hovertemplate": "page2_clothing_model=A20<br>month=5<br>Main Category=%{x}<br>Total Price=%{y}<extra></extra>",
           "ids": {
            "bdata": "AQ==",
            "dtype": "i1"
           },
           "legendgroup": "A20",
           "marker": {
            "color": "#FF97FF",
            "pattern": {
             "shape": ""
            }
           },
           "name": "A20",
           "orientation": "v",
           "showlegend": true,
           "textposition": "auto",
           "type": "bar",
           "x": {
            "bdata": "AQ==",
            "dtype": "i1"
           },
           "xaxis": "x",
           "y": {
            "bdata": "oBA=",
            "dtype": "i2"
           },
           "yaxis": "y"
          },
          {
           "hovertemplate": "page2_clothing_model=P23<br>month=5<br>Main Category=%{x}<br>Total Price=%{y}<extra></extra>",
           "ids": {
            "bdata": "BA==",
            "dtype": "i1"
           },
           "legendgroup": "P23",
           "marker": {
            "color": "#FECB52",
            "pattern": {
             "shape": ""
            }
           },
           "name": "P23",
           "orientation": "v",
           "showlegend": true,
           "textposition": "auto",
           "type": "bar",
           "x": {
            "bdata": "BA==",
            "dtype": "i1"
           },
           "xaxis": "x",
           "y": {
            "bdata": "rA0=",
            "dtype": "i2"
           },
           "yaxis": "y"
          },
          {
           "hovertemplate": "page2_clothing_model=A34<br>month=5<br>Main Category=%{x}<br>Total Price=%{y}<extra></extra>",
           "ids": {
            "bdata": "AQ==",
            "dtype": "i1"
           },
           "legendgroup": "A34",
           "marker": {
            "color": "#636efa",
            "pattern": {
             "shape": ""
            }
           },
           "name": "A34",
           "orientation": "v",
           "showlegend": true,
           "textposition": "auto",
           "type": "bar",
           "x": {
            "bdata": "AQ==",
            "dtype": "i1"
           },
           "xaxis": "x",
           "y": {
            "bdata": "6gw=",
            "dtype": "i2"
           },
           "yaxis": "y"
          },
          {
           "hovertemplate": "page2_clothing_model=C41<br>month=5<br>Main Category=%{x}<br>Total Price=%{y}<extra></extra>",
           "ids": {
            "bdata": "Aw==",
            "dtype": "i1"
           },
           "legendgroup": "C41",
           "marker": {
            "color": "#EF553B",
            "pattern": {
             "shape": ""
            }
           },
           "name": "C41",
           "orientation": "v",
           "showlegend": true,
           "textposition": "auto",
           "type": "bar",
           "x": {
            "bdata": "Aw==",
            "dtype": "i1"
           },
           "xaxis": "x",
           "y": {
            "bdata": "3A8=",
            "dtype": "i2"
           },
           "yaxis": "y"
          },
          {
           "hovertemplate": "page2_clothing_model=P49<br>month=5<br>Main Category=%{x}<br>Total Price=%{y}<extra></extra>",
           "ids": {
            "bdata": "BA==",
            "dtype": "i1"
           },
           "legendgroup": "P49",
           "marker": {
            "color": "#00cc96",
            "pattern": {
             "shape": ""
            }
           },
           "name": "P49",
           "orientation": "v",
           "showlegend": true,
           "textposition": "auto",
           "type": "bar",
           "x": {
            "bdata": "BA==",
            "dtype": "i1"
           },
           "xaxis": "x",
           "y": {
            "bdata": "LRI=",
            "dtype": "i2"
           },
           "yaxis": "y"
          },
          {
           "hovertemplate": "page2_clothing_model=C49<br>month=5<br>Main Category=%{x}<br>Total Price=%{y}<extra></extra>",
           "ids": {
            "bdata": "Aw==",
            "dtype": "i1"
           },
           "legendgroup": "C49",
           "marker": {
            "color": "#ab63fa",
            "pattern": {
             "shape": ""
            }
           },
           "name": "C49",
           "orientation": "v",
           "showlegend": true,
           "textposition": "auto",
           "type": "bar",
           "x": {
            "bdata": "Aw==",
            "dtype": "i1"
           },
           "xaxis": "x",
           "y": {
            "bdata": "whA=",
            "dtype": "i2"
           },
           "yaxis": "y"
          },
          {
           "hovertemplate": "page2_clothing_model=C30<br>month=5<br>Main Category=%{x}<br>Total Price=%{y}<extra></extra>",
           "ids": {
            "bdata": "Aw==",
            "dtype": "i1"
           },
           "legendgroup": "C30",
           "marker": {
            "color": "#FFA15A",
            "pattern": {
             "shape": ""
            }
           },
           "name": "C30",
           "orientation": "v",
           "showlegend": true,
           "textposition": "auto",
           "type": "bar",
           "x": {
            "bdata": "Aw==",
            "dtype": "i1"
           },
           "xaxis": "x",
           "y": {
            "bdata": "QAw=",
            "dtype": "i2"
           },
           "yaxis": "y"
          },
          {
           "hovertemplate": "page2_clothing_model=C10<br>month=5<br>Main Category=%{x}<br>Total Price=%{y}<extra></extra>",
           "ids": {
            "bdata": "Aw==",
            "dtype": "i1"
           },
           "legendgroup": "C10",
           "marker": {
            "color": "#19d3f3",
            "pattern": {
             "shape": ""
            }
           },
           "name": "C10",
           "orientation": "v",
           "showlegend": true,
           "textposition": "auto",
           "type": "bar",
           "x": {
            "bdata": "Aw==",
            "dtype": "i1"
           },
           "xaxis": "x",
           "y": {
            "bdata": "1Ao=",
            "dtype": "i2"
           },
           "yaxis": "y"
          },
          {
           "hovertemplate": "page2_clothing_model=P50<br>month=5<br>Main Category=%{x}<br>Total Price=%{y}<extra></extra>",
           "ids": {
            "bdata": "BA==",
            "dtype": "i1"
           },
           "legendgroup": "P50",
           "marker": {
            "color": "#FF6692",
            "pattern": {
             "shape": ""
            }
           },
           "name": "P50",
           "orientation": "v",
           "showlegend": true,
           "textposition": "auto",
           "type": "bar",
           "x": {
            "bdata": "BA==",
            "dtype": "i1"
           },
           "xaxis": "x",
           "y": {
            "bdata": "Tw4=",
            "dtype": "i2"
           },
           "yaxis": "y"
          },
          {
           "hovertemplate": "page2_clothing_model=A42<br>month=5<br>Main Category=%{x}<br>Total Price=%{y}<extra></extra>",
           "ids": {
            "bdata": "AQ==",
            "dtype": "i1"
           },
           "legendgroup": "A42",
           "marker": {
            "color": "#B6E880",
            "pattern": {
             "shape": ""
            }
           },
           "name": "A42",
           "orientation": "v",
           "showlegend": true,
           "textposition": "auto",
           "type": "bar",
           "x": {
            "bdata": "AQ==",
            "dtype": "i1"
           },
           "xaxis": "x",
           "y": {
            "bdata": "RAs=",
            "dtype": "i2"
           },
           "yaxis": "y"
          },
          {
           "hovertemplate": "page2_clothing_model=P5<br>month=5<br>Main Category=%{x}<br>Total Price=%{y}<extra></extra>",
           "ids": {
            "bdata": "BA==",
            "dtype": "i1"
           },
           "legendgroup": "P5",
           "marker": {
            "color": "#FF97FF",
            "pattern": {
             "shape": ""
            }
           },
           "name": "P5",
           "orientation": "v",
           "showlegend": true,
           "textposition": "auto",
           "type": "bar",
           "x": {
            "bdata": "BA==",
            "dtype": "i1"
           },
           "xaxis": "x",
           "y": {
            "bdata": "TA0=",
            "dtype": "i2"
           },
           "yaxis": "y"
          },
          {
           "hovertemplate": "page2_clothing_model=P8<br>month=5<br>Main Category=%{x}<br>Total Price=%{y}<extra></extra>",
           "ids": {
            "bdata": "BA==",
            "dtype": "i1"
           },
           "legendgroup": "P8",
           "marker": {
            "color": "#FECB52",
            "pattern": {
             "shape": ""
            }
           },
           "name": "P8",
           "orientation": "v",
           "showlegend": true,
           "textposition": "auto",
           "type": "bar",
           "x": {
            "bdata": "BA==",
            "dtype": "i1"
           },
           "xaxis": "x",
           "y": {
            "bdata": "TAk=",
            "dtype": "i2"
           },
           "yaxis": "y"
          },
          {
           "hovertemplate": "page2_clothing_model=A26<br>month=5<br>Main Category=%{x}<br>Total Price=%{y}<extra></extra>",
           "ids": {
            "bdata": "AQ==",
            "dtype": "i1"
           },
           "legendgroup": "A26",
           "marker": {
            "color": "#636efa",
            "pattern": {
             "shape": ""
            }
           },
           "name": "A26",
           "orientation": "v",
           "showlegend": true,
           "textposition": "auto",
           "type": "bar",
           "x": {
            "bdata": "AQ==",
            "dtype": "i1"
           },
           "xaxis": "x",
           "y": {
            "bdata": "ehA=",
            "dtype": "i2"
           },
           "yaxis": "y"
          },
          {
           "hovertemplate": "page2_clothing_model=P60<br>month=5<br>Main Category=%{x}<br>Total Price=%{y}<extra></extra>",
           "ids": {
            "bdata": "BA==",
            "dtype": "i1"
           },
           "legendgroup": "P60",
           "marker": {
            "color": "#EF553B",
            "pattern": {
             "shape": ""
            }
           },
           "name": "P60",
           "orientation": "v",
           "showlegend": true,
           "textposition": "auto",
           "type": "bar",
           "x": {
            "bdata": "BA==",
            "dtype": "i1"
           },
           "xaxis": "x",
           "y": {
            "bdata": "nAo=",
            "dtype": "i2"
           },
           "yaxis": "y"
          },
          {
           "hovertemplate": "page2_clothing_model=B7<br>month=5<br>Main Category=%{x}<br>Total Price=%{y}<extra></extra>",
           "ids": {
            "bdata": "Ag==",
            "dtype": "i1"
           },
           "legendgroup": "B7",
           "marker": {
            "color": "#00cc96",
            "pattern": {
             "shape": ""
            }
           },
           "name": "B7",
           "orientation": "v",
           "showlegend": true,
           "textposition": "auto",
           "type": "bar",
           "x": {
            "bdata": "Ag==",
            "dtype": "i1"
           },
           "xaxis": "x",
           "y": {
            "bdata": "/g4=",
            "dtype": "i2"
           },
           "yaxis": "y"
          },
          {
           "hovertemplate": "page2_clothing_model=B28<br>month=5<br>Main Category=%{x}<br>Total Price=%{y}<extra></extra>",
           "ids": {
            "bdata": "Ag==",
            "dtype": "i1"
           },
           "legendgroup": "B28",
           "marker": {
            "color": "#ab63fa",
            "pattern": {
             "shape": ""
            }
           },
           "name": "B28",
           "orientation": "v",
           "showlegend": true,
           "textposition": "auto",
           "type": "bar",
           "x": {
            "bdata": "Ag==",
            "dtype": "i1"
           },
           "xaxis": "x",
           "y": {
            "bdata": "cA8=",
            "dtype": "i2"
           },
           "yaxis": "y"
          },
          {
           "hovertemplate": "page2_clothing_model=C16<br>month=5<br>Main Category=%{x}<br>Total Price=%{y}<extra></extra>",
           "ids": {
            "bdata": "Aw==",
            "dtype": "i1"
           },
           "legendgroup": "C16",
           "marker": {
            "color": "#FFA15A",
            "pattern": {
             "shape": ""
            }
           },
           "name": "C16",
           "orientation": "v",
           "showlegend": true,
           "textposition": "auto",
           "type": "bar",
           "x": {
            "bdata": "Aw==",
            "dtype": "i1"
           },
           "xaxis": "x",
           "y": {
            "bdata": "JAw=",
            "dtype": "i2"
           },
           "yaxis": "y"
          },
          {
           "hovertemplate": "page2_clothing_model=P55<br>month=5<br>Main Category=%{x}<br>Total Price=%{y}<extra></extra>",
           "ids": {
            "bdata": "BA==",
            "dtype": "i1"
           },
           "legendgroup": "P55",
           "marker": {
            "color": "#19d3f3",
            "pattern": {
             "shape": ""
            }
           },
           "name": "P55",
           "orientation": "v",
           "showlegend": true,
           "textposition": "auto",
           "type": "bar",
           "x": {
            "bdata": "BA==",
            "dtype": "i1"
           },
           "xaxis": "x",
           "y": {
            "bdata": "qg0=",
            "dtype": "i2"
           },
           "yaxis": "y"
          },
          {
           "hovertemplate": "page2_clothing_model=C42<br>month=5<br>Main Category=%{x}<br>Total Price=%{y}<extra></extra>",
           "ids": {
            "bdata": "Aw==",
            "dtype": "i1"
           },
           "legendgroup": "C42",
           "marker": {
            "color": "#FF6692",
            "pattern": {
             "shape": ""
            }
           },
           "name": "C42",
           "orientation": "v",
           "showlegend": true,
           "textposition": "auto",
           "type": "bar",
           "x": {
            "bdata": "Aw==",
            "dtype": "i1"
           },
           "xaxis": "x",
           "y": {
            "bdata": "fAs=",
            "dtype": "i2"
           },
           "yaxis": "y"
          },
          {
           "hovertemplate": "page2_clothing_model=P20<br>month=5<br>Main Category=%{x}<br>Total Price=%{y}<extra></extra>",
           "ids": {
            "bdata": "BA==",
            "dtype": "i1"
           },
           "legendgroup": "P20",
           "marker": {
            "color": "#B6E880",
            "pattern": {
             "shape": ""
            }
           },
           "name": "P20",
           "orientation": "v",
           "showlegend": true,
           "textposition": "auto",
           "type": "bar",
           "x": {
            "bdata": "BA==",
            "dtype": "i1"
           },
           "xaxis": "x",
           "y": {
            "bdata": "rgs=",
            "dtype": "i2"
           },
           "yaxis": "y"
          },
          {
           "hovertemplate": "page2_clothing_model=A39<br>month=5<br>Main Category=%{x}<br>Total Price=%{y}<extra></extra>",
           "ids": {
            "bdata": "AQ==",
            "dtype": "i1"
           },
           "legendgroup": "A39",
           "marker": {
            "color": "#FF97FF",
            "pattern": {
             "shape": ""
            }
           },
           "name": "A39",
           "orientation": "v",
           "showlegend": true,
           "textposition": "auto",
           "type": "bar",
           "x": {
            "bdata": "AQ==",
            "dtype": "i1"
           },
           "xaxis": "x",
           "y": {
            "bdata": "8gk=",
            "dtype": "i2"
           },
           "yaxis": "y"
          },
          {
           "hovertemplate": "page2_clothing_model=A35<br>month=5<br>Main Category=%{x}<br>Total Price=%{y}<extra></extra>",
           "ids": {
            "bdata": "AQ==",
            "dtype": "i1"
           },
           "legendgroup": "A35",
           "marker": {
            "color": "#FECB52",
            "pattern": {
             "shape": ""
            }
           },
           "name": "A35",
           "orientation": "v",
           "showlegend": true,
           "textposition": "auto",
           "type": "bar",
           "x": {
            "bdata": "AQ==",
            "dtype": "i1"
           },
           "xaxis": "x",
           "y": {
            "bdata": "DQ4=",
            "dtype": "i2"
           },
           "yaxis": "y"
          },
          {
           "hovertemplate": "page2_clothing_model=A40<br>month=5<br>Main Category=%{x}<br>Total Price=%{y}<extra></extra>",
           "ids": {
            "bdata": "AQ==",
            "dtype": "i1"
           },
           "legendgroup": "A40",
           "marker": {
            "color": "#636efa",
            "pattern": {
             "shape": ""
            }
           },
           "name": "A40",
           "orientation": "v",
           "showlegend": true,
           "textposition": "auto",
           "type": "bar",
           "x": {
            "bdata": "AQ==",
            "dtype": "i1"
           },
           "xaxis": "x",
           "y": {
            "bdata": "uAc=",
            "dtype": "i2"
           },
           "yaxis": "y"
          },
          {
           "hovertemplate": "page2_clothing_model=C3<br>month=5<br>Main Category=%{x}<br>Total Price=%{y}<extra></extra>",
           "ids": {
            "bdata": "Aw==",
            "dtype": "i1"
           },
           "legendgroup": "C3",
           "marker": {
            "color": "#EF553B",
            "pattern": {
             "shape": ""
            }
           },
           "name": "C3",
           "orientation": "v",
           "showlegend": true,
           "textposition": "auto",
           "type": "bar",
           "x": {
            "bdata": "Aw==",
            "dtype": "i1"
           },
           "xaxis": "x",
           "y": {
            "bdata": "cgg=",
            "dtype": "i2"
           },
           "yaxis": "y"
          },
          {
           "hovertemplate": "page2_clothing_model=C15<br>month=5<br>Main Category=%{x}<br>Total Price=%{y}<extra></extra>",
           "ids": {
            "bdata": "Aw==",
            "dtype": "i1"
           },
           "legendgroup": "C15",
           "marker": {
            "color": "#00cc96",
            "pattern": {
             "shape": ""
            }
           },
           "name": "C15",
           "orientation": "v",
           "showlegend": true,
           "textposition": "auto",
           "type": "bar",
           "x": {
            "bdata": "Aw==",
            "dtype": "i1"
           },
           "xaxis": "x",
           "y": {
            "bdata": "WAs=",
            "dtype": "i2"
           },
           "yaxis": "y"
          },
          {
           "hovertemplate": "page2_clothing_model=A25<br>month=5<br>Main Category=%{x}<br>Total Price=%{y}<extra></extra>",
           "ids": {
            "bdata": "AQ==",
            "dtype": "i1"
           },
           "legendgroup": "A25",
           "marker": {
            "color": "#ab63fa",
            "pattern": {
             "shape": ""
            }
           },
           "name": "A25",
           "orientation": "v",
           "showlegend": true,
           "textposition": "auto",
           "type": "bar",
           "x": {
            "bdata": "AQ==",
            "dtype": "i1"
           },
           "xaxis": "x",
           "y": {
            "bdata": "sAo=",
            "dtype": "i2"
           },
           "yaxis": "y"
          },
          {
           "hovertemplate": "page2_clothing_model=P7<br>month=5<br>Main Category=%{x}<br>Total Price=%{y}<extra></extra>",
           "ids": {
            "bdata": "BA==",
            "dtype": "i1"
           },
           "legendgroup": "P7",
           "marker": {
            "color": "#FFA15A",
            "pattern": {
             "shape": ""
            }
           },
           "name": "P7",
           "orientation": "v",
           "showlegend": true,
           "textposition": "auto",
           "type": "bar",
           "x": {
            "bdata": "BA==",
            "dtype": "i1"
           },
           "xaxis": "x",
           "y": {
            "bdata": "+Ag=",
            "dtype": "i2"
           },
           "yaxis": "y"
          },
          {
           "hovertemplate": "page2_clothing_model=C50<br>month=5<br>Main Category=%{x}<br>Total Price=%{y}<extra></extra>",
           "ids": {
            "bdata": "Aw==",
            "dtype": "i1"
           },
           "legendgroup": "C50",
           "marker": {
            "color": "#19d3f3",
            "pattern": {
             "shape": ""
            }
           },
           "name": "C50",
           "orientation": "v",
           "showlegend": true,
           "textposition": "auto",
           "type": "bar",
           "x": {
            "bdata": "Aw==",
            "dtype": "i1"
           },
           "xaxis": "x",
           "y": {
            "bdata": "CAw=",
            "dtype": "i2"
           },
           "yaxis": "y"
          },
          {
           "hovertemplate": "page2_clothing_model=P29<br>month=5<br>Main Category=%{x}<br>Total Price=%{y}<extra></extra>",
           "ids": {
            "bdata": "BA==",
            "dtype": "i1"
           },
           "legendgroup": "P29",
           "marker": {
            "color": "#FF6692",
            "pattern": {
             "shape": ""
            }
           },
           "name": "P29",
           "orientation": "v",
           "showlegend": true,
           "textposition": "auto",
           "type": "bar",
           "x": {
            "bdata": "BA==",
            "dtype": "i1"
           },
           "xaxis": "x",
           "y": {
            "bdata": "Fwc=",
            "dtype": "i2"
           },
           "yaxis": "y"
          },
          {
           "hovertemplate": "page2_clothing_model=P9<br>month=5<br>Main Category=%{x}<br>Total Price=%{y}<extra></extra>",
           "ids": {
            "bdata": "BA==",
            "dtype": "i1"
           },
           "legendgroup": "P9",
           "marker": {
            "color": "#B6E880",
            "pattern": {
             "shape": ""
            }
           },
           "name": "P9",
           "orientation": "v",
           "showlegend": true,
           "textposition": "auto",
           "type": "bar",
           "x": {
            "bdata": "BA==",
            "dtype": "i1"
           },
           "xaxis": "x",
           "y": {
            "bdata": "Fgg=",
            "dtype": "i2"
           },
           "yaxis": "y"
          },
          {
           "hovertemplate": "page2_clothing_model=P56<br>month=5<br>Main Category=%{x}<br>Total Price=%{y}<extra></extra>",
           "ids": {
            "bdata": "BA==",
            "dtype": "i1"
           },
           "legendgroup": "P56",
           "marker": {
            "color": "#FF97FF",
            "pattern": {
             "shape": ""
            }
           },
           "name": "P56",
           "orientation": "v",
           "showlegend": true,
           "textposition": "auto",
           "type": "bar",
           "x": {
            "bdata": "BA==",
            "dtype": "i1"
           },
           "xaxis": "x",
           "y": {
            "bdata": "egc=",
            "dtype": "i2"
           },
           "yaxis": "y"
          },
          {
           "hovertemplate": "page2_clothing_model=C24<br>month=5<br>Main Category=%{x}<br>Total Price=%{y}<extra></extra>",
           "ids": {
            "bdata": "Aw==",
            "dtype": "i1"
           },
           "legendgroup": "C24",
           "marker": {
            "color": "#FECB52",
            "pattern": {
             "shape": ""
            }
           },
           "name": "C24",
           "orientation": "v",
           "showlegend": true,
           "textposition": "auto",
           "type": "bar",
           "x": {
            "bdata": "Aw==",
            "dtype": "i1"
           },
           "xaxis": "x",
           "y": {
            "bdata": "1Ao=",
            "dtype": "i2"
           },
           "yaxis": "y"
          },
          {
           "hovertemplate": "page2_clothing_model=C26<br>month=5<br>Main Category=%{x}<br>Total Price=%{y}<extra></extra>",
           "ids": {
            "bdata": "Aw==",
            "dtype": "i1"
           },
           "legendgroup": "C26",
           "marker": {
            "color": "#636efa",
            "pattern": {
             "shape": ""
            }
           },
           "name": "C26",
           "orientation": "v",
           "showlegend": true,
           "textposition": "auto",
           "type": "bar",
           "x": {
            "bdata": "Aw==",
            "dtype": "i1"
           },
           "xaxis": "x",
           "y": {
            "bdata": "QAw=",
            "dtype": "i2"
           },
           "yaxis": "y"
          },
          {
           "hovertemplate": "page2_clothing_model=B20<br>month=5<br>Main Category=%{x}<br>Total Price=%{y}<extra></extra>",
           "ids": {
            "bdata": "Ag==",
            "dtype": "i1"
           },
           "legendgroup": "B20",
           "marker": {
            "color": "#EF553B",
            "pattern": {
             "shape": ""
            }
           },
           "name": "B20",
           "orientation": "v",
           "showlegend": true,
           "textposition": "auto",
           "type": "bar",
           "x": {
            "bdata": "Ag==",
            "dtype": "i1"
           },
           "xaxis": "x",
           "y": {
            "bdata": "bAs=",
            "dtype": "i2"
           },
           "yaxis": "y"
          },
          {
           "hovertemplate": "page2_clothing_model=C38<br>month=5<br>Main Category=%{x}<br>Total Price=%{y}<extra></extra>",
           "ids": {
            "bdata": "Aw==",
            "dtype": "i1"
           },
           "legendgroup": "C38",
           "marker": {
            "color": "#00cc96",
            "pattern": {
             "shape": ""
            }
           },
           "name": "C38",
           "orientation": "v",
           "showlegend": true,
           "textposition": "auto",
           "type": "bar",
           "x": {
            "bdata": "Aw==",
            "dtype": "i1"
           },
           "xaxis": "x",
           "y": {
            "bdata": "dgg=",
            "dtype": "i2"
           },
           "yaxis": "y"
          },
          {
           "hovertemplate": "page2_clothing_model=A23<br>month=5<br>Main Category=%{x}<br>Total Price=%{y}<extra></extra>",
           "ids": {
            "bdata": "AQ==",
            "dtype": "i1"
           },
           "legendgroup": "A23",
           "marker": {
            "color": "#ab63fa",
            "pattern": {
             "shape": ""
            }
           },
           "name": "A23",
           "orientation": "v",
           "showlegend": true,
           "textposition": "auto",
           "type": "bar",
           "x": {
            "bdata": "AQ==",
            "dtype": "i1"
           },
           "xaxis": "x",
           "y": {
            "bdata": "BQ0=",
            "dtype": "i2"
           },
           "yaxis": "y"
          },
          {
           "hovertemplate": "page2_clothing_model=P18<br>month=5<br>Main Category=%{x}<br>Total Price=%{y}<extra></extra>",
           "ids": {
            "bdata": "BA==",
            "dtype": "i1"
           },
           "legendgroup": "P18",
           "marker": {
            "color": "#FFA15A",
            "pattern": {
             "shape": ""
            }
           },
           "name": "P18",
           "orientation": "v",
           "showlegend": true,
           "textposition": "auto",
           "type": "bar",
           "x": {
            "bdata": "BA==",
            "dtype": "i1"
           },
           "xaxis": "x",
           "y": {
            "bdata": "yAY=",
            "dtype": "i2"
           },
           "yaxis": "y"
          },
          {
           "hovertemplate": "page2_clothing_model=B33<br>month=5<br>Main Category=%{x}<br>Total Price=%{y}<extra></extra>",
           "ids": {
            "bdata": "Ag==",
            "dtype": "i1"
           },
           "legendgroup": "B33",
           "marker": {
            "color": "#19d3f3",
            "pattern": {
             "shape": ""
            }
           },
           "name": "B33",
           "orientation": "v",
           "showlegend": true,
           "textposition": "auto",
           "type": "bar",
           "x": {
            "bdata": "Ag==",
            "dtype": "i1"
           },
           "xaxis": "x",
           "y": {
            "bdata": "kgo=",
            "dtype": "i2"
           },
           "yaxis": "y"
          },
          {
           "hovertemplate": "page2_clothing_model=A36<br>month=5<br>Main Category=%{x}<br>Total Price=%{y}<extra></extra>",
           "ids": {
            "bdata": "AQ==",
            "dtype": "i1"
           },
           "legendgroup": "A36",
           "marker": {
            "color": "#FF6692",
            "pattern": {
             "shape": ""
            }
           },
           "name": "A36",
           "orientation": "v",
           "showlegend": true,
           "textposition": "auto",
           "type": "bar",
           "x": {
            "bdata": "AQ==",
            "dtype": "i1"
           },
           "xaxis": "x",
           "y": {
            "bdata": "uws=",
            "dtype": "i2"
           },
           "yaxis": "y"
          },
          {
           "hovertemplate": "page2_clothing_model=P61<br>month=5<br>Main Category=%{x}<br>Total Price=%{y}<extra></extra>",
           "ids": {
            "bdata": "BA==",
            "dtype": "i1"
           },
           "legendgroup": "P61",
           "marker": {
            "color": "#B6E880",
            "pattern": {
             "shape": ""
            }
           },
           "name": "P61",
           "orientation": "v",
           "showlegend": true,
           "textposition": "auto",
           "type": "bar",
           "x": {
            "bdata": "BA==",
            "dtype": "i1"
           },
           "xaxis": "x",
           "y": {
            "bdata": "qAc=",
            "dtype": "i2"
           },
           "yaxis": "y"
          },
          {
           "hovertemplate": "page2_clothing_model=C25<br>month=5<br>Main Category=%{x}<br>Total Price=%{y}<extra></extra>",
           "ids": {
            "bdata": "Aw==",
            "dtype": "i1"
           },
           "legendgroup": "C25",
           "marker": {
            "color": "#FF97FF",
            "pattern": {
             "shape": ""
            }
           },
           "name": "C25",
           "orientation": "v",
           "showlegend": true,
           "textposition": "auto",
           "type": "bar",
           "x": {
            "bdata": "Aw==",
            "dtype": "i1"
           },
           "xaxis": "x",
           "y": {
            "bdata": "mwc=",
            "dtype": "i2"
           },
           "yaxis": "y"
          },
          {
           "hovertemplate": "page2_clothing_model=C48<br>month=5<br>Main Category=%{x}<br>Total Price=%{y}<extra></extra>",
           "ids": {
            "bdata": "Aw==",
            "dtype": "i1"
           },
           "legendgroup": "C48",
           "marker": {
            "color": "#FECB52",
            "pattern": {
             "shape": ""
            }
           },
           "name": "C48",
           "orientation": "v",
           "showlegend": true,
           "textposition": "auto",
           "type": "bar",
           "x": {
            "bdata": "Aw==",
            "dtype": "i1"
           },
           "xaxis": "x",
           "y": {
            "bdata": "UAg=",
            "dtype": "i2"
           },
           "yaxis": "y"
          },
          {
           "hovertemplate": "page2_clothing_model=A19<br>month=5<br>Main Category=%{x}<br>Total Price=%{y}<extra></extra>",
           "ids": {
            "bdata": "AQ==",
            "dtype": "i1"
           },
           "legendgroup": "A19",
           "marker": {
            "color": "#636efa",
            "pattern": {
             "shape": ""
            }
           },
           "name": "A19",
           "orientation": "v",
           "showlegend": true,
           "textposition": "auto",
           "type": "bar",
           "x": {
            "bdata": "AQ==",
            "dtype": "i1"
           },
           "xaxis": "x",
           "y": {
            "bdata": "zAk=",
            "dtype": "i2"
           },
           "yaxis": "y"
          },
          {
           "hovertemplate": "page2_clothing_model=P72<br>month=5<br>Main Category=%{x}<br>Total Price=%{y}<extra></extra>",
           "ids": {
            "bdata": "BA==",
            "dtype": "i1"
           },
           "legendgroup": "P72",
           "marker": {
            "color": "#EF553B",
            "pattern": {
             "shape": ""
            }
           },
           "name": "P72",
           "orientation": "v",
           "showlegend": true,
           "textposition": "auto",
           "type": "bar",
           "x": {
            "bdata": "BA==",
            "dtype": "i1"
           },
           "xaxis": "x",
           "y": {
            "bdata": "zQU=",
            "dtype": "i2"
           },
           "yaxis": "y"
          },
          {
           "hovertemplate": "page2_clothing_model=P51<br>month=5<br>Main Category=%{x}<br>Total Price=%{y}<extra></extra>",
           "ids": {
            "bdata": "BA==",
            "dtype": "i1"
           },
           "legendgroup": "P51",
           "marker": {
            "color": "#00cc96",
            "pattern": {
             "shape": ""
            }
           },
           "name": "P51",
           "orientation": "v",
           "showlegend": true,
           "textposition": "auto",
           "type": "bar",
           "x": {
            "bdata": "BA==",
            "dtype": "i1"
           },
           "xaxis": "x",
           "y": {
            "bdata": "9Ak=",
            "dtype": "i2"
           },
           "yaxis": "y"
          },
          {
           "hovertemplate": "page2_clothing_model=C31<br>month=5<br>Main Category=%{x}<br>Total Price=%{y}<extra></extra>",
           "ids": {
            "bdata": "Aw==",
            "dtype": "i1"
           },
           "legendgroup": "C31",
           "marker": {
            "color": "#ab63fa",
            "pattern": {
             "shape": ""
            }
           },
           "name": "C31",
           "orientation": "v",
           "showlegend": true,
           "textposition": "auto",
           "type": "bar",
           "x": {
            "bdata": "Aw==",
            "dtype": "i1"
           },
           "xaxis": "x",
           "y": {
            "bdata": "UAo=",
            "dtype": "i2"
           },
           "yaxis": "y"
          },
          {
           "hovertemplate": "page2_clothing_model=C51<br>month=5<br>Main Category=%{x}<br>Total Price=%{y}<extra></extra>",
           "ids": {
            "bdata": "Aw==",
            "dtype": "i1"
           },
           "legendgroup": "C51",
           "marker": {
            "color": "#FFA15A",
            "pattern": {
             "shape": ""
            }
           },
           "name": "C51",
           "orientation": "v",
           "showlegend": true,
           "textposition": "auto",
           "type": "bar",
           "x": {
            "bdata": "Aw==",
            "dtype": "i1"
           },
           "xaxis": "x",
           "y": {
            "bdata": "cAg=",
            "dtype": "i2"
           },
           "yaxis": "y"
          },
          {
           "hovertemplate": "page2_clothing_model=C32<br>month=5<br>Main Category=%{x}<br>Total Price=%{y}<extra></extra>",
           "ids": {
            "bdata": "Aw==",
            "dtype": "i1"
           },
           "legendgroup": "C32",
           "marker": {
            "color": "#19d3f3",
            "pattern": {
             "shape": ""
            }
           },
           "name": "C32",
           "orientation": "v",
           "showlegend": true,
           "textposition": "auto",
           "type": "bar",
           "x": {
            "bdata": "Aw==",
            "dtype": "i1"
           },
           "xaxis": "x",
           "y": {
            "bdata": "Lwo=",
            "dtype": "i2"
           },
           "yaxis": "y"
          },
          {
           "hovertemplate": "page2_clothing_model=P46<br>month=5<br>Main Category=%{x}<br>Total Price=%{y}<extra></extra>",
           "ids": {
            "bdata": "BA==",
            "dtype": "i1"
           },
           "legendgroup": "P46",
           "marker": {
            "color": "#FF6692",
            "pattern": {
             "shape": ""
            }
           },
           "name": "P46",
           "orientation": "v",
           "showlegend": true,
           "textposition": "auto",
           "type": "bar",
           "x": {
            "bdata": "BA==",
            "dtype": "i1"
           },
           "xaxis": "x",
           "y": {
            "bdata": "oAk=",
            "dtype": "i2"
           },
           "yaxis": "y"
          },
          {
           "hovertemplate": "page2_clothing_model=P38<br>month=5<br>Main Category=%{x}<br>Total Price=%{y}<extra></extra>",
           "ids": {
            "bdata": "BA==",
            "dtype": "i1"
           },
           "legendgroup": "P38",
           "marker": {
            "color": "#B6E880",
            "pattern": {
             "shape": ""
            }
           },
           "name": "P38",
           "orientation": "v",
           "showlegend": true,
           "textposition": "auto",
           "type": "bar",
           "x": {
            "bdata": "BA==",
            "dtype": "i1"
           },
           "xaxis": "x",
           "y": {
            "bdata": "gwQ=",
            "dtype": "i2"
           },
           "yaxis": "y"
          },
          {
           "hovertemplate": "page2_clothing_model=P47<br>month=5<br>Main Category=%{x}<br>Total Price=%{y}<extra></extra>",
           "ids": {
            "bdata": "BA==",
            "dtype": "i1"
           },
           "legendgroup": "P47",
           "marker": {
            "color": "#FF97FF",
            "pattern": {
             "shape": ""
            }
           },
           "name": "P47",
           "orientation": "v",
           "showlegend": true,
           "textposition": "auto",
           "type": "bar",
           "x": {
            "bdata": "BA==",
            "dtype": "i1"
           },
           "xaxis": "x",
           "y": {
            "bdata": "zAU=",
            "dtype": "i2"
           },
           "yaxis": "y"
          },
          {
           "hovertemplate": "page2_clothing_model=P71<br>month=5<br>Main Category=%{x}<br>Total Price=%{y}<extra></extra>",
           "ids": {
            "bdata": "BA==",
            "dtype": "i1"
           },
           "legendgroup": "P71",
           "marker": {
            "color": "#FECB52",
            "pattern": {
             "shape": ""
            }
           },
           "name": "P71",
           "orientation": "v",
           "showlegend": true,
           "textposition": "auto",
           "type": "bar",
           "x": {
            "bdata": "BA==",
            "dtype": "i1"
           },
           "xaxis": "x",
           "y": {
            "bdata": "OQM=",
            "dtype": "i2"
           },
           "yaxis": "y"
          },
          {
           "hovertemplate": "page2_clothing_model=P30<br>month=5<br>Main Category=%{x}<br>Total Price=%{y}<extra></extra>",
           "ids": {
            "bdata": "BA==",
            "dtype": "i1"
           },
           "legendgroup": "P30",
           "marker": {
            "color": "#636efa",
            "pattern": {
             "shape": ""
            }
           },
           "name": "P30",
           "orientation": "v",
           "showlegend": true,
           "textposition": "auto",
           "type": "bar",
           "x": {
            "bdata": "BA==",
            "dtype": "i1"
           },
           "xaxis": "x",
           "y": {
            "bdata": "pAQ=",
            "dtype": "i2"
           },
           "yaxis": "y"
          },
          {
           "hovertemplate": "page2_clothing_model=P74<br>month=5<br>Main Category=%{x}<br>Total Price=%{y}<extra></extra>",
           "ids": {
            "bdata": "BA==",
            "dtype": "i1"
           },
           "legendgroup": "P74",
           "marker": {
            "color": "#EF553B",
            "pattern": {
             "shape": ""
            }
           },
           "name": "P74",
           "orientation": "v",
           "showlegend": true,
           "textposition": "auto",
           "type": "bar",
           "x": {
            "bdata": "BA==",
            "dtype": "i1"
           },
           "xaxis": "x",
           "y": {
            "bdata": "QQQ=",
            "dtype": "i2"
           },
           "yaxis": "y"
          },
          {
           "hovertemplate": "page2_clothing_model=P63<br>month=5<br>Main Category=%{x}<br>Total Price=%{y}<extra></extra>",
           "ids": {
            "bdata": "BA==",
            "dtype": "i1"
           },
           "legendgroup": "P63",
           "marker": {
            "color": "#00cc96",
            "pattern": {
             "shape": ""
            }
           },
           "name": "P63",
           "orientation": "v",
           "showlegend": true,
           "textposition": "auto",
           "type": "bar",
           "x": {
            "bdata": "BA==",
            "dtype": "i1"
           },
           "xaxis": "x",
           "y": {
            "bdata": "IAY=",
            "dtype": "i2"
           },
           "yaxis": "y"
          },
          {
           "hovertemplate": "page2_clothing_model=P42<br>month=5<br>Main Category=%{x}<br>Total Price=%{y}<extra></extra>",
           "ids": {
            "bdata": "BA==",
            "dtype": "i1"
           },
           "legendgroup": "P42",
           "marker": {
            "color": "#ab63fa",
            "pattern": {
             "shape": ""
            }
           },
           "name": "P42",
           "orientation": "v",
           "showlegend": true,
           "textposition": "auto",
           "type": "bar",
           "x": {
            "bdata": "BA==",
            "dtype": "i1"
           },
           "xaxis": "x",
           "y": {
            "bdata": "QAU=",
            "dtype": "i2"
           },
           "yaxis": "y"
          },
          {
           "hovertemplate": "page2_clothing_model=P21<br>month=5<br>Main Category=%{x}<br>Total Price=%{y}<extra></extra>",
           "ids": {
            "bdata": "BA==",
            "dtype": "i1"
           },
           "legendgroup": "P21",
           "marker": {
            "color": "#FFA15A",
            "pattern": {
             "shape": ""
            }
           },
           "name": "P21",
           "orientation": "v",
           "showlegend": true,
           "textposition": "auto",
           "type": "bar",
           "x": {
            "bdata": "BA==",
            "dtype": "i1"
           },
           "xaxis": "x",
           "y": {
            "bdata": "mwc=",
            "dtype": "i2"
           },
           "yaxis": "y"
          },
          {
           "hovertemplate": "page2_clothing_model=P44<br>month=5<br>Main Category=%{x}<br>Total Price=%{y}<extra></extra>",
           "ids": {
            "bdata": "BA==",
            "dtype": "i1"
           },
           "legendgroup": "P44",
           "marker": {
            "color": "#19d3f3",
            "pattern": {
             "shape": ""
            }
           },
           "name": "P44",
           "orientation": "v",
           "showlegend": true,
           "textposition": "auto",
           "type": "bar",
           "x": {
            "bdata": "BA==",
            "dtype": "i1"
           },
           "xaxis": "x",
           "y": {
            "bdata": "lAU=",
            "dtype": "i2"
           },
           "yaxis": "y"
          },
          {
           "hovertemplate": "page2_clothing_model=P75<br>month=5<br>Main Category=%{x}<br>Total Price=%{y}<extra></extra>",
           "ids": {
            "bdata": "BA==",
            "dtype": "i1"
           },
           "legendgroup": "P75",
           "marker": {
            "color": "#FF6692",
            "pattern": {
             "shape": ""
            }
           },
           "name": "P75",
           "orientation": "v",
           "showlegend": true,
           "textposition": "auto",
           "type": "bar",
           "x": {
            "bdata": "BA==",
            "dtype": "i1"
           },
           "xaxis": "x",
           "y": {
            "bdata": "cwI=",
            "dtype": "i2"
           },
           "yaxis": "y"
          },
          {
           "hovertemplate": "page2_clothing_model=P27<br>month=5<br>Main Category=%{x}<br>Total Price=%{y}<extra></extra>",
           "ids": {
            "bdata": "BA==",
            "dtype": "i1"
           },
           "legendgroup": "P27",
           "marker": {
            "color": "#B6E880",
            "pattern": {
             "shape": ""
            }
           },
           "name": "P27",
           "orientation": "v",
           "showlegend": true,
           "textposition": "auto",
           "type": "bar",
           "x": {
            "bdata": "BA==",
            "dtype": "i1"
           },
           "xaxis": "x",
           "y": {
            "bdata": "EAI=",
            "dtype": "i2"
           },
           "yaxis": "y"
          },
          {
           "hovertemplate": "page2_clothing_model=C52<br>month=5<br>Main Category=%{x}<br>Total Price=%{y}<extra></extra>",
           "ids": {
            "bdata": "Aw==",
            "dtype": "i1"
           },
           "legendgroup": "C52",
           "marker": {
            "color": "#FF97FF",
            "pattern": {
             "shape": ""
            }
           },
           "name": "C52",
           "orientation": "v",
           "showlegend": true,
           "textposition": "auto",
           "type": "bar",
           "x": {
            "bdata": "Aw==",
            "dtype": "i1"
           },
           "xaxis": "x",
           "y": {
            "bdata": "wAQ=",
            "dtype": "i2"
           },
           "yaxis": "y"
          },
          {
           "hovertemplate": "page2_clothing_model=P73<br>month=5<br>Main Category=%{x}<br>Total Price=%{y}<extra></extra>",
           "ids": {
            "bdata": "BA==",
            "dtype": "i1"
           },
           "legendgroup": "P73",
           "marker": {
            "color": "#FECB52",
            "pattern": {
             "shape": ""
            }
           },
           "name": "P73",
           "orientation": "v",
           "showlegend": true,
           "textposition": "auto",
           "type": "bar",
           "x": {
            "bdata": "BA==",
            "dtype": "i1"
           },
           "xaxis": "x",
           "y": {
            "bdata": "WgM=",
            "dtype": "i2"
           },
           "yaxis": "y"
          },
          {
           "hovertemplate": "page2_clothing_model=P80<br>month=5<br>Main Category=%{x}<br>Total Price=%{y}<extra></extra>",
           "ids": {
            "bdata": "BA==",
            "dtype": "i1"
           },
           "legendgroup": "P80",
           "marker": {
            "color": "#636efa",
            "pattern": {
             "shape": ""
            }
           },
           "name": "P80",
           "orientation": "v",
           "showlegend": true,
           "textposition": "auto",
           "type": "bar",
           "x": {
            "bdata": "BA==",
            "dtype": "i1"
           },
           "xaxis": "x",
           "y": {
            "bdata": "nAM=",
            "dtype": "i2"
           },
           "yaxis": "y"
          },
          {
           "hovertemplate": "page2_clothing_model=P35<br>month=5<br>Main Category=%{x}<br>Total Price=%{y}<extra></extra>",
           "ids": {
            "bdata": "BA==",
            "dtype": "i1"
           },
           "legendgroup": "P35",
           "marker": {
            "color": "#EF553B",
            "pattern": {
             "shape": ""
            }
           },
           "name": "P35",
           "orientation": "v",
           "showlegend": true,
           "textposition": "auto",
           "type": "bar",
           "x": {
            "bdata": "BA==",
            "dtype": "i1"
           },
           "xaxis": "x",
           "y": {
            "bdata": "SAM=",
            "dtype": "i2"
           },
           "yaxis": "y"
          },
          {
           "hovertemplate": "page2_clothing_model=P52<br>month=5<br>Main Category=%{x}<br>Total Price=%{y}<extra></extra>",
           "ids": {
            "bdata": "BA==",
            "dtype": "i1"
           },
           "legendgroup": "P52",
           "marker": {
            "color": "#00cc96",
            "pattern": {
             "shape": ""
            }
           },
           "name": "P52",
           "orientation": "v",
           "showlegend": true,
           "textposition": "auto",
           "type": "bar",
           "x": {
            "bdata": "BA==",
            "dtype": "i1"
           },
           "xaxis": "x",
           "y": {
            "bdata": "FAE=",
            "dtype": "i2"
           },
           "yaxis": "y"
          },
          {
           "hovertemplate": "page2_clothing_model=C47<br>month=5<br>Main Category=%{x}<br>Total Price=%{y}<extra></extra>",
           "ids": {
            "bdata": "Aw==",
            "dtype": "i1"
           },
           "legendgroup": "C47",
           "marker": {
            "color": "#ab63fa",
            "pattern": {
             "shape": ""
            }
           },
           "name": "C47",
           "orientation": "v",
           "showlegend": true,
           "textposition": "auto",
           "type": "bar",
           "x": {
            "bdata": "Aw==",
            "dtype": "i1"
           },
           "xaxis": "x",
           "y": {
            "bdata": "BgM=",
            "dtype": "i2"
           },
           "yaxis": "y"
          },
          {
           "hovertemplate": "page2_clothing_model=P62<br>month=5<br>Main Category=%{x}<br>Total Price=%{y}<extra></extra>",
           "ids": {
            "bdata": "BA==",
            "dtype": "i1"
           },
           "legendgroup": "P62",
           "marker": {
            "color": "#FFA15A",
            "pattern": {
             "shape": ""
            }
           },
           "name": "P62",
           "orientation": "v",
           "showlegend": true,
           "textposition": "auto",
           "type": "bar",
           "x": {
            "bdata": "BA==",
            "dtype": "i1"
           },
           "xaxis": "x",
           "y": {
            "bdata": "1gI=",
            "dtype": "i2"
           },
           "yaxis": "y"
          },
          {
           "hovertemplate": "page2_clothing_model=P45<br>month=5<br>Main Category=%{x}<br>Total Price=%{y}<extra></extra>",
           "ids": {
            "bdata": "BA==",
            "dtype": "i1"
           },
           "legendgroup": "P45",
           "marker": {
            "color": "#19d3f3",
            "pattern": {
             "shape": ""
            }
           },
           "name": "P45",
           "orientation": "v",
           "showlegend": true,
           "textposition": "auto",
           "type": "bar",
           "x": {
            "bdata": "BA==",
            "dtype": "i1"
           },
           "xaxis": "x",
           "y": {
            "bdata": "tQI=",
            "dtype": "i2"
           },
           "yaxis": "y"
          },
          {
           "hovertemplate": "page2_clothing_model=C43<br>month=5<br>Main Category=%{x}<br>Total Price=%{y}<extra></extra>",
           "ids": {
            "bdata": "Aw==",
            "dtype": "i1"
           },
           "legendgroup": "C43",
           "marker": {
            "color": "#FF6692",
            "pattern": {
             "shape": ""
            }
           },
           "name": "C43",
           "orientation": "v",
           "showlegend": true,
           "textposition": "auto",
           "type": "bar",
           "x": {
            "bdata": "Aw==",
            "dtype": "i1"
           },
           "xaxis": "x",
           "y": {
            "bdata": "LAM=",
            "dtype": "i2"
           },
           "yaxis": "y"
          },
          {
           "hovertemplate": "page2_clothing_model=P64<br>month=5<br>Main Category=%{x}<br>Total Price=%{y}<extra></extra>",
           "ids": {
            "bdata": "BA==",
            "dtype": "i1"
           },
           "legendgroup": "P64",
           "marker": {
            "color": "#B6E880",
            "pattern": {
             "shape": ""
            }
           },
           "name": "P64",
           "orientation": "v",
           "showlegend": true,
           "textposition": "auto",
           "type": "bar",
           "x": {
            "bdata": "BA==",
            "dtype": "i1"
           },
           "xaxis": "x",
           "y": {
            "bdata": "oAI=",
            "dtype": "i2"
           },
           "yaxis": "y"
          },
          {
           "hovertemplate": "page2_clothing_model=P31<br>month=5<br>Main Category=%{x}<br>Total Price=%{y}<extra></extra>",
           "ids": {
            "bdata": "BA==",
            "dtype": "i1"
           },
           "legendgroup": "P31",
           "marker": {
            "color": "#FF97FF",
            "pattern": {
             "shape": ""
            }
           },
           "name": "P31",
           "orientation": "v",
           "showlegend": true,
           "textposition": "auto",
           "type": "bar",
           "x": {
            "bdata": "BA==",
            "dtype": "i1"
           },
           "xaxis": "x",
           "y": {
            "bdata": "SgE=",
            "dtype": "i2"
           },
           "yaxis": "y"
          }
         ],
         "name": "5"
        },
        {
         "data": [
          {
           "hovertemplate": "page2_clothing_model=A2<br>month=6<br>Main Category=%{x}<br>Total Price=%{y}<extra></extra>",
           "ids": {
            "bdata": "AQ==",
            "dtype": "i1"
           },
           "legendgroup": "A2",
           "marker": {
            "color": "#636efa",
            "pattern": {
             "shape": ""
            }
           },
           "name": "A2",
           "orientation": "v",
           "showlegend": true,
           "textposition": "auto",
           "type": "bar",
           "x": {
            "bdata": "AQ==",
            "dtype": "i1"
           },
           "xaxis": "x",
           "y": {
            "bdata": "Y0c=",
            "dtype": "i2"
           },
           "yaxis": "y"
          },
          {
           "hovertemplate": "page2_clothing_model=A4<br>month=6<br>Main Category=%{x}<br>Total Price=%{y}<extra></extra>",
           "ids": {
            "bdata": "AQ==",
            "dtype": "i1"
           },
           "legendgroup": "A4",
           "marker": {
            "color": "#EF553B",
            "pattern": {
             "shape": ""
            }
           },
           "name": "A4",
           "orientation": "v",
           "showlegend": true,
           "textposition": "auto",
           "type": "bar",
           "x": {
            "bdata": "AQ==",
            "dtype": "i1"
           },
           "xaxis": "x",
           "y": {
            "bdata": "UEE=",
            "dtype": "i2"
           },
           "yaxis": "y"
          },
          {
           "hovertemplate": "page2_clothing_model=A5<br>month=6<br>Main Category=%{x}<br>Total Price=%{y}<extra></extra>",
           "ids": {
            "bdata": "AQ==",
            "dtype": "i1"
           },
           "legendgroup": "A5",
           "marker": {
            "color": "#00cc96",
            "pattern": {
             "shape": ""
            }
           },
           "name": "A5",
           "orientation": "v",
           "showlegend": true,
           "textposition": "auto",
           "type": "bar",
           "x": {
            "bdata": "AQ==",
            "dtype": "i1"
           },
           "xaxis": "x",
           "y": {
            "bdata": "Qzc=",
            "dtype": "i2"
           },
           "yaxis": "y"
          },
          {
           "hovertemplate": "page2_clothing_model=A15<br>month=6<br>Main Category=%{x}<br>Total Price=%{y}<extra></extra>",
           "ids": {
            "bdata": "AQ==",
            "dtype": "i1"
           },
           "legendgroup": "A15",
           "marker": {
            "color": "#ab63fa",
            "pattern": {
             "shape": ""
            }
           },
           "name": "A15",
           "orientation": "v",
           "showlegend": true,
           "textposition": "auto",
           "type": "bar",
           "x": {
            "bdata": "AQ==",
            "dtype": "i1"
           },
           "xaxis": "x",
           "y": {
            "bdata": "uTQ=",
            "dtype": "i2"
           },
           "yaxis": "y"
          },
          {
           "hovertemplate": "page2_clothing_model=A10<br>month=6<br>Main Category=%{x}<br>Total Price=%{y}<extra></extra>",
           "ids": {
            "bdata": "AQ==",
            "dtype": "i1"
           },
           "legendgroup": "A10",
           "marker": {
            "color": "#FFA15A",
            "pattern": {
             "shape": ""
            }
           },
           "name": "A10",
           "orientation": "v",
           "showlegend": true,
           "textposition": "auto",
           "type": "bar",
           "x": {
            "bdata": "AQ==",
            "dtype": "i1"
           },
           "xaxis": "x",
           "y": {
            "bdata": "sDA=",
            "dtype": "i2"
           },
           "yaxis": "y"
          },
          {
           "hovertemplate": "page2_clothing_model=A6<br>month=6<br>Main Category=%{x}<br>Total Price=%{y}<extra></extra>",
           "ids": {
            "bdata": "AQ==",
            "dtype": "i1"
           },
           "legendgroup": "A6",
           "marker": {
            "color": "#19d3f3",
            "pattern": {
             "shape": ""
            }
           },
           "name": "A6",
           "orientation": "v",
           "showlegend": true,
           "textposition": "auto",
           "type": "bar",
           "x": {
            "bdata": "AQ==",
            "dtype": "i1"
           },
           "xaxis": "x",
           "y": {
            "bdata": "1ys=",
            "dtype": "i2"
           },
           "yaxis": "y"
          },
          {
           "hovertemplate": "page2_clothing_model=A12<br>month=6<br>Main Category=%{x}<br>Total Price=%{y}<extra></extra>",
           "ids": {
            "bdata": "AQ==",
            "dtype": "i1"
           },
           "legendgroup": "A12",
           "marker": {
            "color": "#FF6692",
            "pattern": {
             "shape": ""
            }
           },
           "name": "A12",
           "orientation": "v",
           "showlegend": true,
           "textposition": "auto",
           "type": "bar",
           "x": {
            "bdata": "AQ==",
            "dtype": "i1"
           },
           "xaxis": "x",
           "y": {
            "bdata": "5io=",
            "dtype": "i2"
           },
           "yaxis": "y"
          },
          {
           "hovertemplate": "page2_clothing_model=A7<br>month=6<br>Main Category=%{x}<br>Total Price=%{y}<extra></extra>",
           "ids": {
            "bdata": "AQ==",
            "dtype": "i1"
           },
           "legendgroup": "A7",
           "marker": {
            "color": "#B6E880",
            "pattern": {
             "shape": ""
            }
           },
           "name": "A7",
           "orientation": "v",
           "showlegend": true,
           "textposition": "auto",
           "type": "bar",
           "x": {
            "bdata": "AQ==",
            "dtype": "i1"
           },
           "xaxis": "x",
           "y": {
            "bdata": "niQ=",
            "dtype": "i2"
           },
           "yaxis": "y"
          },
          {
           "hovertemplate": "page2_clothing_model=A1<br>month=6<br>Main Category=%{x}<br>Total Price=%{y}<extra></extra>",
           "ids": {
            "bdata": "AQ==",
            "dtype": "i1"
           },
           "legendgroup": "A1",
           "marker": {
            "color": "#FF97FF",
            "pattern": {
             "shape": ""
            }
           },
           "name": "A1",
           "orientation": "v",
           "showlegend": true,
           "textposition": "auto",
           "type": "bar",
           "x": {
            "bdata": "AQ==",
            "dtype": "i1"
           },
           "xaxis": "x",
           "y": {
            "bdata": "NCQ=",
            "dtype": "i2"
           },
           "yaxis": "y"
          },
          {
           "hovertemplate": "page2_clothing_model=B11<br>month=6<br>Main Category=%{x}<br>Total Price=%{y}<extra></extra>",
           "ids": {
            "bdata": "Ag==",
            "dtype": "i1"
           },
           "legendgroup": "B11",
           "marker": {
            "color": "#FECB52",
            "pattern": {
             "shape": ""
            }
           },
           "name": "B11",
           "orientation": "v",
           "showlegend": true,
           "textposition": "auto",
           "type": "bar",
           "x": {
            "bdata": "Ag==",
            "dtype": "i1"
           },
           "xaxis": "x",
           "y": {
            "bdata": "3S4=",
            "dtype": "i2"
           },
           "yaxis": "y"
          },
          {
           "hovertemplate": "page2_clothing_model=B15<br>month=6<br>Main Category=%{x}<br>Total Price=%{y}<extra></extra>",
           "ids": {
            "bdata": "Ag==",
            "dtype": "i1"
           },
           "legendgroup": "B15",
           "marker": {
            "color": "#636efa",
            "pattern": {
             "shape": ""
            }
           },
           "name": "B15",
           "orientation": "v",
           "showlegend": true,
           "textposition": "auto",
           "type": "bar",
           "x": {
            "bdata": "Ag==",
            "dtype": "i1"
           },
           "xaxis": "x",
           "y": {
            "bdata": "tik=",
            "dtype": "i2"
           },
           "yaxis": "y"
          },
          {
           "hovertemplate": "page2_clothing_model=B32<br>month=6<br>Main Category=%{x}<br>Total Price=%{y}<extra></extra>",
           "ids": {
            "bdata": "Ag==",
            "dtype": "i1"
           },
           "legendgroup": "B32",
           "marker": {
            "color": "#EF553B",
            "pattern": {
             "shape": ""
            }
           },
           "name": "B32",
           "orientation": "v",
           "showlegend": true,
           "textposition": "auto",
           "type": "bar",
           "x": {
            "bdata": "Ag==",
            "dtype": "i1"
           },
           "xaxis": "x",
           "y": {
            "bdata": "HCU=",
            "dtype": "i2"
           },
           "yaxis": "y"
          },
          {
           "hovertemplate": "page2_clothing_model=P16<br>month=6<br>Main Category=%{x}<br>Total Price=%{y}<extra></extra>",
           "ids": {
            "bdata": "BA==",
            "dtype": "i1"
           },
           "legendgroup": "P16",
           "marker": {
            "color": "#00cc96",
            "pattern": {
             "shape": ""
            }
           },
           "name": "P16",
           "orientation": "v",
           "showlegend": true,
           "textposition": "auto",
           "type": "bar",
           "x": {
            "bdata": "BA==",
            "dtype": "i1"
           },
           "xaxis": "x",
           "y": {
            "bdata": "pCU=",
            "dtype": "i2"
           },
           "yaxis": "y"
          },
          {
           "hovertemplate": "page2_clothing_model=B23<br>month=6<br>Main Category=%{x}<br>Total Price=%{y}<extra></extra>",
           "ids": {
            "bdata": "Ag==",
            "dtype": "i1"
           },
           "legendgroup": "B23",
           "marker": {
            "color": "#ab63fa",
            "pattern": {
             "shape": ""
            }
           },
           "name": "B23",
           "orientation": "v",
           "showlegend": true,
           "textposition": "auto",
           "type": "bar",
           "x": {
            "bdata": "Ag==",
            "dtype": "i1"
           },
           "xaxis": "x",
           "y": {
            "bdata": "qiQ=",
            "dtype": "i2"
           },
           "yaxis": "y"
          },
          {
           "hovertemplate": "page2_clothing_model=B17<br>month=6<br>Main Category=%{x}<br>Total Price=%{y}<extra></extra>",
           "ids": {
            "bdata": "Ag==",
            "dtype": "i1"
           },
           "legendgroup": "B17",
           "marker": {
            "color": "#FFA15A",
            "pattern": {
             "shape": ""
            }
           },
           "name": "B17",
           "orientation": "v",
           "showlegend": true,
           "textposition": "auto",
           "type": "bar",
           "x": {
            "bdata": "Ag==",
            "dtype": "i1"
           },
           "xaxis": "x",
           "y": {
            "bdata": "Mis=",
            "dtype": "i2"
           },
           "yaxis": "y"
          },
          {
           "hovertemplate": "page2_clothing_model=B12<br>month=6<br>Main Category=%{x}<br>Total Price=%{y}<extra></extra>",
           "ids": {
            "bdata": "Ag==",
            "dtype": "i1"
           },
           "legendgroup": "B12",
           "marker": {
            "color": "#19d3f3",
            "pattern": {
             "shape": ""
            }
           },
           "name": "B12",
           "orientation": "v",
           "showlegend": true,
           "textposition": "auto",
           "type": "bar",
           "x": {
            "bdata": "Ag==",
            "dtype": "i1"
           },
           "xaxis": "x",
           "y": {
            "bdata": "jCE=",
            "dtype": "i2"
           },
           "yaxis": "y"
          },
          {
           "hovertemplate": "page2_clothing_model=A16<br>month=6<br>Main Category=%{x}<br>Total Price=%{y}<extra></extra>",
           "ids": {
            "bdata": "AQ==",
            "dtype": "i1"
           },
           "legendgroup": "A16",
           "marker": {
            "color": "#FF6692",
            "pattern": {
             "shape": ""
            }
           },
           "name": "A16",
           "orientation": "v",
           "showlegend": true,
           "textposition": "auto",
           "type": "bar",
           "x": {
            "bdata": "AQ==",
            "dtype": "i1"
           },
           "xaxis": "x",
           "y": {
            "bdata": "Ih0=",
            "dtype": "i2"
           },
           "yaxis": "y"
          },
          {
           "hovertemplate": "page2_clothing_model=B9<br>month=6<br>Main Category=%{x}<br>Total Price=%{y}<extra></extra>",
           "ids": {
            "bdata": "Ag==",
            "dtype": "i1"
           },
           "legendgroup": "B9",
           "marker": {
            "color": "#B6E880",
            "pattern": {
             "shape": ""
            }
           },
           "name": "B9",
           "orientation": "v",
           "showlegend": true,
           "textposition": "auto",
           "type": "bar",
           "x": {
            "bdata": "Ag==",
            "dtype": "i1"
           },
           "xaxis": "x",
           "y": {
            "bdata": "IB8=",
            "dtype": "i2"
           },
           "yaxis": "y"
          },
          {
           "hovertemplate": "page2_clothing_model=A13<br>month=6<br>Main Category=%{x}<br>Total Price=%{y}<extra></extra>",
           "ids": {
            "bdata": "AQ==",
            "dtype": "i1"
           },
           "legendgroup": "A13",
           "marker": {
            "color": "#FF97FF",
            "pattern": {
             "shape": ""
            }
           },
           "name": "A13",
           "orientation": "v",
           "showlegend": true,
           "textposition": "auto",
           "type": "bar",
           "x": {
            "bdata": "AQ==",
            "dtype": "i1"
           },
           "xaxis": "x",
           "y": {
            "bdata": "0Bk=",
            "dtype": "i2"
           },
           "yaxis": "y"
          },
          {
           "hovertemplate": "page2_clothing_model=B19<br>month=6<br>Main Category=%{x}<br>Total Price=%{y}<extra></extra>",
           "ids": {
            "bdata": "Ag==",
            "dtype": "i1"
           },
           "legendgroup": "B19",
           "marker": {
            "color": "#FECB52",
            "pattern": {
             "shape": ""
            }
           },
           "name": "B19",
           "orientation": "v",
           "showlegend": true,
           "textposition": "auto",
           "type": "bar",
           "x": {
            "bdata": "Ag==",
            "dtype": "i1"
           },
           "xaxis": "x",
           "y": {
            "bdata": "Whw=",
            "dtype": "i2"
           },
           "yaxis": "y"
          },
          {
           "hovertemplate": "page2_clothing_model=A33<br>month=6<br>Main Category=%{x}<br>Total Price=%{y}<extra></extra>",
           "ids": {
            "bdata": "AQ==",
            "dtype": "i1"
           },
           "legendgroup": "A33",
           "marker": {
            "color": "#636efa",
            "pattern": {
             "shape": ""
            }
           },
           "name": "A33",
           "orientation": "v",
           "showlegend": true,
           "textposition": "auto",
           "type": "bar",
           "x": {
            "bdata": "AQ==",
            "dtype": "i1"
           },
           "xaxis": "x",
           "y": {
            "bdata": "tBI=",
            "dtype": "i2"
           },
           "yaxis": "y"
          },
          {
           "hovertemplate": "page2_clothing_model=P12<br>month=6<br>Main Category=%{x}<br>Total Price=%{y}<extra></extra>",
           "ids": {
            "bdata": "BA==",
            "dtype": "i1"
           },
           "legendgroup": "P12",
           "marker": {
            "color": "#EF553B",
            "pattern": {
             "shape": ""
            }
           },
           "name": "P12",
           "orientation": "v",
           "showlegend": true,
           "textposition": "auto",
           "type": "bar",
           "x": {
            "bdata": "BA==",
            "dtype": "i1"
           },
           "xaxis": "x",
           "y": {
            "bdata": "NRM=",
            "dtype": "i2"
           },
           "yaxis": "y"
          },
          {
           "hovertemplate": "page2_clothing_model=A41<br>month=6<br>Main Category=%{x}<br>Total Price=%{y}<extra></extra>",
           "ids": {
            "bdata": "AQ==",
            "dtype": "i1"
           },
           "legendgroup": "A41",
           "marker": {
            "color": "#00cc96",
            "pattern": {
             "shape": ""
            }
           },
           "name": "A41",
           "orientation": "v",
           "showlegend": true,
           "textposition": "auto",
           "type": "bar",
           "x": {
            "bdata": "AQ==",
            "dtype": "i1"
           },
           "xaxis": "x",
           "y": {
            "bdata": "VxY=",
            "dtype": "i2"
           },
           "yaxis": "y"
          },
          {
           "hovertemplate": "page2_clothing_model=C1<br>month=6<br>Main Category=%{x}<br>Total Price=%{y}<extra></extra>",
           "ids": {
            "bdata": "Aw==",
            "dtype": "i1"
           },
           "legendgroup": "C1",
           "marker": {
            "color": "#ab63fa",
            "pattern": {
             "shape": ""
            }
           },
           "name": "C1",
           "orientation": "v",
           "showlegend": true,
           "textposition": "auto",
           "type": "bar",
           "x": {
            "bdata": "Aw==",
            "dtype": "i1"
           },
           "xaxis": "x",
           "y": {
            "bdata": "5BQ=",
            "dtype": "i2"
           },
           "yaxis": "y"
          },
          {
           "hovertemplate": "page2_clothing_model=A18<br>month=6<br>Main Category=%{x}<br>Total Price=%{y}<extra></extra>",
           "ids": {
            "bdata": "AQ==",
            "dtype": "i1"
           },
           "legendgroup": "A18",
           "marker": {
            "color": "#FFA15A",
            "pattern": {
             "shape": ""
            }
           },
           "name": "A18",
           "orientation": "v",
           "showlegend": true,
           "textposition": "auto",
           "type": "bar",
           "x": {
            "bdata": "AQ==",
            "dtype": "i1"
           },
           "xaxis": "x",
           "y": {
            "bdata": "vhM=",
            "dtype": "i2"
           },
           "yaxis": "y"
          },
          {
           "hovertemplate": "page2_clothing_model=B34<br>month=6<br>Main Category=%{x}<br>Total Price=%{y}<extra></extra>",
           "ids": {
            "bdata": "Ag==",
            "dtype": "i1"
           },
           "legendgroup": "B34",
           "marker": {
            "color": "#19d3f3",
            "pattern": {
             "shape": ""
            }
           },
           "name": "B34",
           "orientation": "v",
           "showlegend": true,
           "textposition": "auto",
           "type": "bar",
           "x": {
            "bdata": "Ag==",
            "dtype": "i1"
           },
           "xaxis": "x",
           "y": {
            "bdata": "wBI=",
            "dtype": "i2"
           },
           "yaxis": "y"
          },
          {
           "hovertemplate": "page2_clothing_model=A30<br>month=6<br>Main Category=%{x}<br>Total Price=%{y}<extra></extra>",
           "ids": {
            "bdata": "AQ==",
            "dtype": "i1"
           },
           "legendgroup": "A30",
           "marker": {
            "color": "#FF6692",
            "pattern": {
             "shape": ""
            }
           },
           "name": "A30",
           "orientation": "v",
           "showlegend": true,
           "textposition": "auto",
           "type": "bar",
           "x": {
            "bdata": "AQ==",
            "dtype": "i1"
           },
           "xaxis": "x",
           "y": {
            "bdata": "2A4=",
            "dtype": "i2"
           },
           "yaxis": "y"
          },
          {
           "hovertemplate": "page2_clothing_model=C40<br>month=6<br>Main Category=%{x}<br>Total Price=%{y}<extra></extra>",
           "ids": {
            "bdata": "Aw==",
            "dtype": "i1"
           },
           "legendgroup": "C40",
           "marker": {
            "color": "#B6E880",
            "pattern": {
             "shape": ""
            }
           },
           "name": "C40",
           "orientation": "v",
           "showlegend": true,
           "textposition": "auto",
           "type": "bar",
           "x": {
            "bdata": "Aw==",
            "dtype": "i1"
           },
           "xaxis": "x",
           "y": {
            "bdata": "NA8=",
            "dtype": "i2"
           },
           "yaxis": "y"
          },
          {
           "hovertemplate": "page2_clothing_model=P48<br>month=6<br>Main Category=%{x}<br>Total Price=%{y}<extra></extra>",
           "ids": {
            "bdata": "BA==",
            "dtype": "i1"
           },
           "legendgroup": "P48",
           "marker": {
            "color": "#FF97FF",
            "pattern": {
             "shape": ""
            }
           },
           "name": "P48",
           "orientation": "v",
           "showlegend": true,
           "textposition": "auto",
           "type": "bar",
           "x": {
            "bdata": "BA==",
            "dtype": "i1"
           },
           "xaxis": "x",
           "y": {
            "bdata": "sRI=",
            "dtype": "i2"
           },
           "yaxis": "y"
          },
          {
           "hovertemplate": "page2_clothing_model=C14<br>month=6<br>Main Category=%{x}<br>Total Price=%{y}<extra></extra>",
           "ids": {
            "bdata": "Aw==",
            "dtype": "i1"
           },
           "legendgroup": "C14",
           "marker": {
            "color": "#FECB52",
            "pattern": {
             "shape": ""
            }
           },
           "name": "C14",
           "orientation": "v",
           "showlegend": true,
           "textposition": "auto",
           "type": "bar",
           "x": {
            "bdata": "Aw==",
            "dtype": "i1"
           },
           "xaxis": "x",
           "y": {
            "bdata": "hRE=",
            "dtype": "i2"
           },
           "yaxis": "y"
          },
          {
           "hovertemplate": "page2_clothing_model=P2<br>month=6<br>Main Category=%{x}<br>Total Price=%{y}<extra></extra>",
           "ids": {
            "bdata": "BA==",
            "dtype": "i1"
           },
           "legendgroup": "P2",
           "marker": {
            "color": "#636efa",
            "pattern": {
             "shape": ""
            }
           },
           "name": "P2",
           "orientation": "v",
           "showlegend": true,
           "textposition": "auto",
           "type": "bar",
           "x": {
            "bdata": "BA==",
            "dtype": "i1"
           },
           "xaxis": "x",
           "y": {
            "bdata": "WA0=",
            "dtype": "i2"
           },
           "yaxis": "y"
          },
          {
           "hovertemplate": "page2_clothing_model=A32<br>month=6<br>Main Category=%{x}<br>Total Price=%{y}<extra></extra>",
           "ids": {
            "bdata": "AQ==",
            "dtype": "i1"
           },
           "legendgroup": "A32",
           "marker": {
            "color": "#EF553B",
            "pattern": {
             "shape": ""
            }
           },
           "name": "A32",
           "orientation": "v",
           "showlegend": true,
           "textposition": "auto",
           "type": "bar",
           "x": {
            "bdata": "AQ==",
            "dtype": "i1"
           },
           "xaxis": "x",
           "y": {
            "bdata": "4As=",
            "dtype": "i2"
           },
           "yaxis": "y"
          },
          {
           "hovertemplate": "page2_clothing_model=C6<br>month=6<br>Main Category=%{x}<br>Total Price=%{y}<extra></extra>",
           "ids": {
            "bdata": "Aw==",
            "dtype": "i1"
           },
           "legendgroup": "C6",
           "marker": {
            "color": "#00cc96",
            "pattern": {
             "shape": ""
            }
           },
           "name": "C6",
           "orientation": "v",
           "showlegend": true,
           "textposition": "auto",
           "type": "bar",
           "x": {
            "bdata": "Aw==",
            "dtype": "i1"
           },
           "xaxis": "x",
           "y": {
            "bdata": "XxA=",
            "dtype": "i2"
           },
           "yaxis": "y"
          },
          {
           "hovertemplate": "page2_clothing_model=C53<br>month=6<br>Main Category=%{x}<br>Total Price=%{y}<extra></extra>",
           "ids": {
            "bdata": "Aw==",
            "dtype": "i1"
           },
           "legendgroup": "C53",
           "marker": {
            "color": "#ab63fa",
            "pattern": {
             "shape": ""
            }
           },
           "name": "C53",
           "orientation": "v",
           "showlegend": true,
           "textposition": "auto",
           "type": "bar",
           "x": {
            "bdata": "Aw==",
            "dtype": "i1"
           },
           "xaxis": "x",
           "y": {
            "bdata": "VBA=",
            "dtype": "i2"
           },
           "yaxis": "y"
          },
          {
           "hovertemplate": "page2_clothing_model=C57<br>month=6<br>Main Category=%{x}<br>Total Price=%{y}<extra></extra>",
           "ids": {
            "bdata": "Aw==",
            "dtype": "i1"
           },
           "legendgroup": "C57",
           "marker": {
            "color": "#FFA15A",
            "pattern": {
             "shape": ""
            }
           },
           "name": "C57",
           "orientation": "v",
           "showlegend": true,
           "textposition": "auto",
           "type": "bar",
           "x": {
            "bdata": "Aw==",
            "dtype": "i1"
           },
           "xaxis": "x",
           "y": {
            "bdata": "yw0=",
            "dtype": "i2"
           },
           "yaxis": "y"
          },
          {
           "hovertemplate": "page2_clothing_model=C11<br>month=6<br>Main Category=%{x}<br>Total Price=%{y}<extra></extra>",
           "ids": {
            "bdata": "Aw==",
            "dtype": "i1"
           },
           "legendgroup": "C11",
           "marker": {
            "color": "#19d3f3",
            "pattern": {
             "shape": ""
            }
           },
           "name": "C11",
           "orientation": "v",
           "showlegend": true,
           "textposition": "auto",
           "type": "bar",
           "x": {
            "bdata": "Aw==",
            "dtype": "i1"
           },
           "xaxis": "x",
           "y": {
            "bdata": "yRU=",
            "dtype": "i2"
           },
           "yaxis": "y"
          },
          {
           "hovertemplate": "page2_clothing_model=B25<br>month=6<br>Main Category=%{x}<br>Total Price=%{y}<extra></extra>",
           "ids": {
            "bdata": "Ag==",
            "dtype": "i1"
           },
           "legendgroup": "B25",
           "marker": {
            "color": "#FF6692",
            "pattern": {
             "shape": ""
            }
           },
           "name": "B25",
           "orientation": "v",
           "showlegend": true,
           "textposition": "auto",
           "type": "bar",
           "x": {
            "bdata": "Ag==",
            "dtype": "i1"
           },
           "xaxis": "x",
           "y": {
            "bdata": "hBE=",
            "dtype": "i2"
           },
           "yaxis": "y"
          },
          {
           "hovertemplate": "page2_clothing_model=A28<br>month=6<br>Main Category=%{x}<br>Total Price=%{y}<extra></extra>",
           "ids": {
            "bdata": "AQ==",
            "dtype": "i1"
           },
           "legendgroup": "A28",
           "marker": {
            "color": "#B6E880",
            "pattern": {
             "shape": ""
            }
           },
           "name": "A28",
           "orientation": "v",
           "showlegend": true,
           "textposition": "auto",
           "type": "bar",
           "x": {
            "bdata": "AQ==",
            "dtype": "i1"
           },
           "xaxis": "x",
           "y": {
            "bdata": "9Q8=",
            "dtype": "i2"
           },
           "yaxis": "y"
          },
          {
           "hovertemplate": "page2_clothing_model=A20<br>month=6<br>Main Category=%{x}<br>Total Price=%{y}<extra></extra>",
           "ids": {
            "bdata": "AQ==",
            "dtype": "i1"
           },
           "legendgroup": "A20",
           "marker": {
            "color": "#FF97FF",
            "pattern": {
             "shape": ""
            }
           },
           "name": "A20",
           "orientation": "v",
           "showlegend": true,
           "textposition": "auto",
           "type": "bar",
           "x": {
            "bdata": "AQ==",
            "dtype": "i1"
           },
           "xaxis": "x",
           "y": {
            "bdata": "GAo=",
            "dtype": "i2"
           },
           "yaxis": "y"
          },
          {
           "hovertemplate": "page2_clothing_model=P23<br>month=6<br>Main Category=%{x}<br>Total Price=%{y}<extra></extra>",
           "ids": {
            "bdata": "BA==",
            "dtype": "i1"
           },
           "legendgroup": "P23",
           "marker": {
            "color": "#FECB52",
            "pattern": {
             "shape": ""
            }
           },
           "name": "P23",
           "orientation": "v",
           "showlegend": true,
           "textposition": "auto",
           "type": "bar",
           "x": {
            "bdata": "BA==",
            "dtype": "i1"
           },
           "xaxis": "x",
           "y": {
            "bdata": "YAs=",
            "dtype": "i2"
           },
           "yaxis": "y"
          },
          {
           "hovertemplate": "page2_clothing_model=A34<br>month=6<br>Main Category=%{x}<br>Total Price=%{y}<extra></extra>",
           "ids": {
            "bdata": "AQ==",
            "dtype": "i1"
           },
           "legendgroup": "A34",
           "marker": {
            "color": "#636efa",
            "pattern": {
             "shape": ""
            }
           },
           "name": "A34",
           "orientation": "v",
           "showlegend": true,
           "textposition": "auto",
           "type": "bar",
           "x": {
            "bdata": "AQ==",
            "dtype": "i1"
           },
           "xaxis": "x",
           "y": {
            "bdata": "lAs=",
            "dtype": "i2"
           },
           "yaxis": "y"
          },
          {
           "hovertemplate": "page2_clothing_model=C41<br>month=6<br>Main Category=%{x}<br>Total Price=%{y}<extra></extra>",
           "ids": {
            "bdata": "Aw==",
            "dtype": "i1"
           },
           "legendgroup": "C41",
           "marker": {
            "color": "#EF553B",
            "pattern": {
             "shape": ""
            }
           },
           "name": "C41",
           "orientation": "v",
           "showlegend": true,
           "textposition": "auto",
           "type": "bar",
           "x": {
            "bdata": "Aw==",
            "dtype": "i1"
           },
           "xaxis": "x",
           "y": {
            "bdata": "rA0=",
            "dtype": "i2"
           },
           "yaxis": "y"
          },
          {
           "hovertemplate": "page2_clothing_model=P49<br>month=6<br>Main Category=%{x}<br>Total Price=%{y}<extra></extra>",
           "ids": {
            "bdata": "BA==",
            "dtype": "i1"
           },
           "legendgroup": "P49",
           "marker": {
            "color": "#00cc96",
            "pattern": {
             "shape": ""
            }
           },
           "name": "P49",
           "orientation": "v",
           "showlegend": true,
           "textposition": "auto",
           "type": "bar",
           "x": {
            "bdata": "BA==",
            "dtype": "i1"
           },
           "xaxis": "x",
           "y": {
            "bdata": "mQ8=",
            "dtype": "i2"
           },
           "yaxis": "y"
          },
          {
           "hovertemplate": "page2_clothing_model=C49<br>month=6<br>Main Category=%{x}<br>Total Price=%{y}<extra></extra>",
           "ids": {
            "bdata": "Aw==",
            "dtype": "i1"
           },
           "legendgroup": "C49",
           "marker": {
            "color": "#ab63fa",
            "pattern": {
             "shape": ""
            }
           },
           "name": "C49",
           "orientation": "v",
           "showlegend": true,
           "textposition": "auto",
           "type": "bar",
           "x": {
            "bdata": "Aw==",
            "dtype": "i1"
           },
           "xaxis": "x",
           "y": {
            "bdata": "AA0=",
            "dtype": "i2"
           },
           "yaxis": "y"
          },
          {
           "hovertemplate": "page2_clothing_model=C30<br>month=6<br>Main Category=%{x}<br>Total Price=%{y}<extra></extra>",
           "ids": {
            "bdata": "Aw==",
            "dtype": "i1"
           },
           "legendgroup": "C30",
           "marker": {
            "color": "#FFA15A",
            "pattern": {
             "shape": ""
            }
           },
           "name": "C30",
           "orientation": "v",
           "showlegend": true,
           "textposition": "auto",
           "type": "bar",
           "x": {
            "bdata": "Aw==",
            "dtype": "i1"
           },
           "xaxis": "x",
           "y": {
            "bdata": "wAg=",
            "dtype": "i2"
           },
           "yaxis": "y"
          },
          {
           "hovertemplate": "page2_clothing_model=C10<br>month=6<br>Main Category=%{x}<br>Total Price=%{y}<extra></extra>",
           "ids": {
            "bdata": "Aw==",
            "dtype": "i1"
           },
           "legendgroup": "C10",
           "marker": {
            "color": "#19d3f3",
            "pattern": {
             "shape": ""
            }
           },
           "name": "C10",
           "orientation": "v",
           "showlegend": true,
           "textposition": "auto",
           "type": "bar",
           "x": {
            "bdata": "Aw==",
            "dtype": "i1"
           },
           "xaxis": "x",
           "y": {
            "bdata": "gAo=",
            "dtype": "i2"
           },
           "yaxis": "y"
          },
          {
           "hovertemplate": "page2_clothing_model=P50<br>month=6<br>Main Category=%{x}<br>Total Price=%{y}<extra></extra>",
           "ids": {
            "bdata": "BA==",
            "dtype": "i1"
           },
           "legendgroup": "P50",
           "marker": {
            "color": "#FF6692",
            "pattern": {
             "shape": ""
            }
           },
           "name": "P50",
           "orientation": "v",
           "showlegend": true,
           "textposition": "auto",
           "type": "bar",
           "x": {
            "bdata": "BA==",
            "dtype": "i1"
           },
           "xaxis": "x",
           "y": {
            "bdata": "kgo=",
            "dtype": "i2"
           },
           "yaxis": "y"
          },
          {
           "hovertemplate": "page2_clothing_model=A42<br>month=6<br>Main Category=%{x}<br>Total Price=%{y}<extra></extra>",
           "ids": {
            "bdata": "AQ==",
            "dtype": "i1"
           },
           "legendgroup": "A42",
           "marker": {
            "color": "#B6E880",
            "pattern": {
             "shape": ""
            }
           },
           "name": "A42",
           "orientation": "v",
           "showlegend": true,
           "textposition": "auto",
           "type": "bar",
           "x": {
            "bdata": "AQ==",
            "dtype": "i1"
           },
           "xaxis": "x",
           "y": {
            "bdata": "ZAo=",
            "dtype": "i2"
           },
           "yaxis": "y"
          },
          {
           "hovertemplate": "page2_clothing_model=P5<br>month=6<br>Main Category=%{x}<br>Total Price=%{y}<extra></extra>",
           "ids": {
            "bdata": "BA==",
            "dtype": "i1"
           },
           "legendgroup": "P5",
           "marker": {
            "color": "#FF97FF",
            "pattern": {
             "shape": ""
            }
           },
           "name": "P5",
           "orientation": "v",
           "showlegend": true,
           "textposition": "auto",
           "type": "bar",
           "x": {
            "bdata": "BA==",
            "dtype": "i1"
           },
           "xaxis": "x",
           "y": {
            "bdata": "Ugs=",
            "dtype": "i2"
           },
           "yaxis": "y"
          },
          {
           "hovertemplate": "page2_clothing_model=P8<br>month=6<br>Main Category=%{x}<br>Total Price=%{y}<extra></extra>",
           "ids": {
            "bdata": "BA==",
            "dtype": "i1"
           },
           "legendgroup": "P8",
           "marker": {
            "color": "#FECB52",
            "pattern": {
             "shape": ""
            }
           },
           "name": "P8",
           "orientation": "v",
           "showlegend": true,
           "textposition": "auto",
           "type": "bar",
           "x": {
            "bdata": "BA==",
            "dtype": "i1"
           },
           "xaxis": "x",
           "y": {
            "bdata": "nAo=",
            "dtype": "i2"
           },
           "yaxis": "y"
          },
          {
           "hovertemplate": "page2_clothing_model=A26<br>month=6<br>Main Category=%{x}<br>Total Price=%{y}<extra></extra>",
           "ids": {
            "bdata": "AQ==",
            "dtype": "i1"
           },
           "legendgroup": "A26",
           "marker": {
            "color": "#636efa",
            "pattern": {
             "shape": ""
            }
           },
           "name": "A26",
           "orientation": "v",
           "showlegend": true,
           "textposition": "auto",
           "type": "bar",
           "x": {
            "bdata": "AQ==",
            "dtype": "i1"
           },
           "xaxis": "x",
           "y": {
            "bdata": "9A0=",
            "dtype": "i2"
           },
           "yaxis": "y"
          },
          {
           "hovertemplate": "page2_clothing_model=P60<br>month=6<br>Main Category=%{x}<br>Total Price=%{y}<extra></extra>",
           "ids": {
            "bdata": "BA==",
            "dtype": "i1"
           },
           "legendgroup": "P60",
           "marker": {
            "color": "#EF553B",
            "pattern": {
             "shape": ""
            }
           },
           "name": "P60",
           "orientation": "v",
           "showlegend": true,
           "textposition": "auto",
           "type": "bar",
           "x": {
            "bdata": "BA==",
            "dtype": "i1"
           },
           "xaxis": "x",
           "y": {
            "bdata": "NAg=",
            "dtype": "i2"
           },
           "yaxis": "y"
          },
          {
           "hovertemplate": "page2_clothing_model=B7<br>month=6<br>Main Category=%{x}<br>Total Price=%{y}<extra></extra>",
           "ids": {
            "bdata": "Ag==",
            "dtype": "i1"
           },
           "legendgroup": "B7",
           "marker": {
            "color": "#00cc96",
            "pattern": {
             "shape": ""
            }
           },
           "name": "B7",
           "orientation": "v",
           "showlegend": true,
           "textposition": "auto",
           "type": "bar",
           "x": {
            "bdata": "Ag==",
            "dtype": "i1"
           },
           "xaxis": "x",
           "y": {
            "bdata": "igo=",
            "dtype": "i2"
           },
           "yaxis": "y"
          },
          {
           "hovertemplate": "page2_clothing_model=B28<br>month=6<br>Main Category=%{x}<br>Total Price=%{y}<extra></extra>",
           "ids": {
            "bdata": "Ag==",
            "dtype": "i1"
           },
           "legendgroup": "B28",
           "marker": {
            "color": "#ab63fa",
            "pattern": {
             "shape": ""
            }
           },
           "name": "B28",
           "orientation": "v",
           "showlegend": true,
           "textposition": "auto",
           "type": "bar",
           "x": {
            "bdata": "Ag==",
            "dtype": "i1"
           },
           "xaxis": "x",
           "y": {
            "bdata": "9A0=",
            "dtype": "i2"
           },
           "yaxis": "y"
          },
          {
           "hovertemplate": "page2_clothing_model=C16<br>month=6<br>Main Category=%{x}<br>Total Price=%{y}<extra></extra>",
           "ids": {
            "bdata": "Aw==",
            "dtype": "i1"
           },
           "legendgroup": "C16",
           "marker": {
            "color": "#FFA15A",
            "pattern": {
             "shape": ""
            }
           },
           "name": "C16",
           "orientation": "v",
           "showlegend": true,
           "textposition": "auto",
           "type": "bar",
           "x": {
            "bdata": "Aw==",
            "dtype": "i1"
           },
           "xaxis": "x",
           "y": {
            "bdata": "QAw=",
            "dtype": "i2"
           },
           "yaxis": "y"
          },
          {
           "hovertemplate": "page2_clothing_model=P55<br>month=6<br>Main Category=%{x}<br>Total Price=%{y}<extra></extra>",
           "ids": {
            "bdata": "BA==",
            "dtype": "i1"
           },
           "legendgroup": "P55",
           "marker": {
            "color": "#19d3f3",
            "pattern": {
             "shape": ""
            }
           },
           "name": "P55",
           "orientation": "v",
           "showlegend": true,
           "textposition": "auto",
           "type": "bar",
           "x": {
            "bdata": "BA==",
            "dtype": "i1"
           },
           "xaxis": "x",
           "y": {
            "bdata": "igk=",
            "dtype": "i2"
           },
           "yaxis": "y"
          },
          {
           "hovertemplate": "page2_clothing_model=C42<br>month=6<br>Main Category=%{x}<br>Total Price=%{y}<extra></extra>",
           "ids": {
            "bdata": "Aw==",
            "dtype": "i1"
           },
           "legendgroup": "C42",
           "marker": {
            "color": "#FF6692",
            "pattern": {
             "shape": ""
            }
           },
           "name": "C42",
           "orientation": "v",
           "showlegend": true,
           "textposition": "auto",
           "type": "bar",
           "x": {
            "bdata": "Aw==",
            "dtype": "i1"
           },
           "xaxis": "x",
           "y": {
            "bdata": "cAc=",
            "dtype": "i2"
           },
           "yaxis": "y"
          },
          {
           "hovertemplate": "page2_clothing_model=P20<br>month=6<br>Main Category=%{x}<br>Total Price=%{y}<extra></extra>",
           "ids": {
            "bdata": "BA==",
            "dtype": "i1"
           },
           "legendgroup": "P20",
           "marker": {
            "color": "#B6E880",
            "pattern": {
             "shape": ""
            }
           },
           "name": "P20",
           "orientation": "v",
           "showlegend": true,
           "textposition": "auto",
           "type": "bar",
           "x": {
            "bdata": "BA==",
            "dtype": "i1"
           },
           "xaxis": "x",
           "y": {
            "bdata": "Tww=",
            "dtype": "i2"
           },
           "yaxis": "y"
          },
          {
           "hovertemplate": "page2_clothing_model=A39<br>month=6<br>Main Category=%{x}<br>Total Price=%{y}<extra></extra>",
           "ids": {
            "bdata": "AQ==",
            "dtype": "i1"
           },
           "legendgroup": "A39",
           "marker": {
            "color": "#FF97FF",
            "pattern": {
             "shape": ""
            }
           },
           "name": "A39",
           "orientation": "v",
           "showlegend": true,
           "textposition": "auto",
           "type": "bar",
           "x": {
            "bdata": "AQ==",
            "dtype": "i1"
           },
           "xaxis": "x",
           "y": {
            "bdata": "sAo=",
            "dtype": "i2"
           },
           "yaxis": "y"
          },
          {
           "hovertemplate": "page2_clothing_model=A35<br>month=6<br>Main Category=%{x}<br>Total Price=%{y}<extra></extra>",
           "ids": {
            "bdata": "AQ==",
            "dtype": "i1"
           },
           "legendgroup": "A35",
           "marker": {
            "color": "#FECB52",
            "pattern": {
             "shape": ""
            }
           },
           "name": "A35",
           "orientation": "v",
           "showlegend": true,
           "textposition": "auto",
           "type": "bar",
           "x": {
            "bdata": "AQ==",
            "dtype": "i1"
           },
           "xaxis": "x",
           "y": {
            "bdata": "sg4=",
            "dtype": "i2"
           },
           "yaxis": "y"
          },
          {
           "hovertemplate": "page2_clothing_model=A40<br>month=6<br>Main Category=%{x}<br>Total Price=%{y}<extra></extra>",
           "ids": {
            "bdata": "AQ==",
            "dtype": "i1"
           },
           "legendgroup": "A40",
           "marker": {
            "color": "#636efa",
            "pattern": {
             "shape": ""
            }
           },
           "name": "A40",
           "orientation": "v",
           "showlegend": true,
           "textposition": "auto",
           "type": "bar",
           "x": {
            "bdata": "AQ==",
            "dtype": "i1"
           },
           "xaxis": "x",
           "y": {
            "bdata": "YgY=",
            "dtype": "i2"
           },
           "yaxis": "y"
          },
          {
           "hovertemplate": "page2_clothing_model=C3<br>month=6<br>Main Category=%{x}<br>Total Price=%{y}<extra></extra>",
           "ids": {
            "bdata": "Aw==",
            "dtype": "i1"
           },
           "legendgroup": "C3",
           "marker": {
            "color": "#EF553B",
            "pattern": {
             "shape": ""
            }
           },
           "name": "C3",
           "orientation": "v",
           "showlegend": true,
           "textposition": "auto",
           "type": "bar",
           "x": {
            "bdata": "Aw==",
            "dtype": "i1"
           },
           "xaxis": "x",
           "y": {
            "bdata": "WAk=",
            "dtype": "i2"
           },
           "yaxis": "y"
          },
          {
           "hovertemplate": "page2_clothing_model=C15<br>month=6<br>Main Category=%{x}<br>Total Price=%{y}<extra></extra>",
           "ids": {
            "bdata": "Aw==",
            "dtype": "i1"
           },
           "legendgroup": "C15",
           "marker": {
            "color": "#00cc96",
            "pattern": {
             "shape": ""
            }
           },
           "name": "C15",
           "orientation": "v",
           "showlegend": true,
           "textposition": "auto",
           "type": "bar",
           "x": {
            "bdata": "Aw==",
            "dtype": "i1"
           },
           "xaxis": "x",
           "y": {
            "bdata": "7A0=",
            "dtype": "i2"
           },
           "yaxis": "y"
          },
          {
           "hovertemplate": "page2_clothing_model=A25<br>month=6<br>Main Category=%{x}<br>Total Price=%{y}<extra></extra>",
           "ids": {
            "bdata": "AQ==",
            "dtype": "i1"
           },
           "legendgroup": "A25",
           "marker": {
            "color": "#ab63fa",
            "pattern": {
             "shape": ""
            }
           },
           "name": "A25",
           "orientation": "v",
           "showlegend": true,
           "textposition": "auto",
           "type": "bar",
           "x": {
            "bdata": "AQ==",
            "dtype": "i1"
           },
           "xaxis": "x",
           "y": {
            "bdata": "GAo=",
            "dtype": "i2"
           },
           "yaxis": "y"
          },
          {
           "hovertemplate": "page2_clothing_model=P7<br>month=6<br>Main Category=%{x}<br>Total Price=%{y}<extra></extra>",
           "ids": {
            "bdata": "BA==",
            "dtype": "i1"
           },
           "legendgroup": "P7",
           "marker": {
            "color": "#FFA15A",
            "pattern": {
             "shape": ""
            }
           },
           "name": "P7",
           "orientation": "v",
           "showlegend": true,
           "textposition": "auto",
           "type": "bar",
           "x": {
            "bdata": "BA==",
            "dtype": "i1"
           },
           "xaxis": "x",
           "y": {
            "bdata": "iAg=",
            "dtype": "i2"
           },
           "yaxis": "y"
          },
          {
           "hovertemplate": "page2_clothing_model=C50<br>month=6<br>Main Category=%{x}<br>Total Price=%{y}<extra></extra>",
           "ids": {
            "bdata": "Aw==",
            "dtype": "i1"
           },
           "legendgroup": "C50",
           "marker": {
            "color": "#19d3f3",
            "pattern": {
             "shape": ""
            }
           },
           "name": "C50",
           "orientation": "v",
           "showlegend": true,
           "textposition": "auto",
           "type": "bar",
           "x": {
            "bdata": "Aw==",
            "dtype": "i1"
           },
           "xaxis": "x",
           "y": {
            "bdata": "2Ak=",
            "dtype": "i2"
           },
           "yaxis": "y"
          },
          {
           "hovertemplate": "page2_clothing_model=P29<br>month=6<br>Main Category=%{x}<br>Total Price=%{y}<extra></extra>",
           "ids": {
            "bdata": "BA==",
            "dtype": "i1"
           },
           "legendgroup": "P29",
           "marker": {
            "color": "#FF6692",
            "pattern": {
             "shape": ""
            }
           },
           "name": "P29",
           "orientation": "v",
           "showlegend": true,
           "textposition": "auto",
           "type": "bar",
           "x": {
            "bdata": "BA==",
            "dtype": "i1"
           },
           "xaxis": "x",
           "y": {
            "bdata": "agU=",
            "dtype": "i2"
           },
           "yaxis": "y"
          },
          {
           "hovertemplate": "page2_clothing_model=P9<br>month=6<br>Main Category=%{x}<br>Total Price=%{y}<extra></extra>",
           "ids": {
            "bdata": "BA==",
            "dtype": "i1"
           },
           "legendgroup": "P9",
           "marker": {
            "color": "#B6E880",
            "pattern": {
             "shape": ""
            }
           },
           "name": "P9",
           "orientation": "v",
           "showlegend": true,
           "textposition": "auto",
           "type": "bar",
           "x": {
            "bdata": "BA==",
            "dtype": "i1"
           },
           "xaxis": "x",
           "y": {
            "bdata": "eAY=",
            "dtype": "i2"
           },
           "yaxis": "y"
          },
          {
           "hovertemplate": "page2_clothing_model=P56<br>month=6<br>Main Category=%{x}<br>Total Price=%{y}<extra></extra>",
           "ids": {
            "bdata": "BA==",
            "dtype": "i1"
           },
           "legendgroup": "P56",
           "marker": {
            "color": "#FF97FF",
            "pattern": {
             "shape": ""
            }
           },
           "name": "P56",
           "orientation": "v",
           "showlegend": true,
           "textposition": "auto",
           "type": "bar",
           "x": {
            "bdata": "BA==",
            "dtype": "i1"
           },
           "xaxis": "x",
           "y": {
            "bdata": "1QY=",
            "dtype": "i2"
           },
           "yaxis": "y"
          },
          {
           "hovertemplate": "page2_clothing_model=C24<br>month=6<br>Main Category=%{x}<br>Total Price=%{y}<extra></extra>",
           "ids": {
            "bdata": "Aw==",
            "dtype": "i1"
           },
           "legendgroup": "C24",
           "marker": {
            "color": "#FECB52",
            "pattern": {
             "shape": ""
            }
           },
           "name": "C24",
           "orientation": "v",
           "showlegend": true,
           "textposition": "auto",
           "type": "bar",
           "x": {
            "bdata": "Aw==",
            "dtype": "i1"
           },
           "xaxis": "x",
           "y": {
            "bdata": "tAY=",
            "dtype": "i2"
           },
           "yaxis": "y"
          },
          {
           "hovertemplate": "page2_clothing_model=C26<br>month=6<br>Main Category=%{x}<br>Total Price=%{y}<extra></extra>",
           "ids": {
            "bdata": "Aw==",
            "dtype": "i1"
           },
           "legendgroup": "C26",
           "marker": {
            "color": "#636efa",
            "pattern": {
             "shape": ""
            }
           },
           "name": "C26",
           "orientation": "v",
           "showlegend": true,
           "textposition": "auto",
           "type": "bar",
           "x": {
            "bdata": "Aw==",
            "dtype": "i1"
           },
           "xaxis": "x",
           "y": {
            "bdata": "vAk=",
            "dtype": "i2"
           },
           "yaxis": "y"
          },
          {
           "hovertemplate": "page2_clothing_model=B20<br>month=6<br>Main Category=%{x}<br>Total Price=%{y}<extra></extra>",
           "ids": {
            "bdata": "Ag==",
            "dtype": "i1"
           },
           "legendgroup": "B20",
           "marker": {
            "color": "#EF553B",
            "pattern": {
             "shape": ""
            }
           },
           "name": "B20",
           "orientation": "v",
           "showlegend": true,
           "textposition": "auto",
           "type": "bar",
           "x": {
            "bdata": "Ag==",
            "dtype": "i1"
           },
           "xaxis": "x",
           "y": {
            "bdata": "5wg=",
            "dtype": "i2"
           },
           "yaxis": "y"
          },
          {
           "hovertemplate": "page2_clothing_model=C38<br>month=6<br>Main Category=%{x}<br>Total Price=%{y}<extra></extra>",
           "ids": {
            "bdata": "Aw==",
            "dtype": "i1"
           },
           "legendgroup": "C38",
           "marker": {
            "color": "#00cc96",
            "pattern": {
             "shape": ""
            }
           },
           "name": "C38",
           "orientation": "v",
           "showlegend": true,
           "textposition": "auto",
           "type": "bar",
           "x": {
            "bdata": "Aw==",
            "dtype": "i1"
           },
           "xaxis": "x",
           "y": {
            "bdata": "gAk=",
            "dtype": "i2"
           },
           "yaxis": "y"
          },
          {
           "hovertemplate": "page2_clothing_model=A23<br>month=6<br>Main Category=%{x}<br>Total Price=%{y}<extra></extra>",
           "ids": {
            "bdata": "AQ==",
            "dtype": "i1"
           },
           "legendgroup": "A23",
           "marker": {
            "color": "#ab63fa",
            "pattern": {
             "shape": ""
            }
           },
           "name": "A23",
           "orientation": "v",
           "showlegend": true,
           "textposition": "auto",
           "type": "bar",
           "x": {
            "bdata": "AQ==",
            "dtype": "i1"
           },
           "xaxis": "x",
           "y": {
            "bdata": "5Aw=",
            "dtype": "i2"
           },
           "yaxis": "y"
          },
          {
           "hovertemplate": "page2_clothing_model=P18<br>month=6<br>Main Category=%{x}<br>Total Price=%{y}<extra></extra>",
           "ids": {
            "bdata": "BA==",
            "dtype": "i1"
           },
           "legendgroup": "P18",
           "marker": {
            "color": "#FFA15A",
            "pattern": {
             "shape": ""
            }
           },
           "name": "P18",
           "orientation": "v",
           "showlegend": true,
           "textposition": "auto",
           "type": "bar",
           "x": {
            "bdata": "BA==",
            "dtype": "i1"
           },
           "xaxis": "x",
           "y": {
            "bdata": "bAg=",
            "dtype": "i2"
           },
           "yaxis": "y"
          },
          {
           "hovertemplate": "page2_clothing_model=B33<br>month=6<br>Main Category=%{x}<br>Total Price=%{y}<extra></extra>",
           "ids": {
            "bdata": "Ag==",
            "dtype": "i1"
           },
           "legendgroup": "B33",
           "marker": {
            "color": "#19d3f3",
            "pattern": {
             "shape": ""
            }
           },
           "name": "B33",
           "orientation": "v",
           "showlegend": true,
           "textposition": "auto",
           "type": "bar",
           "x": {
            "bdata": "Ag==",
            "dtype": "i1"
           },
           "xaxis": "x",
           "y": {
            "bdata": "5Qg=",
            "dtype": "i2"
           },
           "yaxis": "y"
          },
          {
           "hovertemplate": "page2_clothing_model=A36<br>month=6<br>Main Category=%{x}<br>Total Price=%{y}<extra></extra>",
           "ids": {
            "bdata": "AQ==",
            "dtype": "i1"
           },
           "legendgroup": "A36",
           "marker": {
            "color": "#FF6692",
            "pattern": {
             "shape": ""
            }
           },
           "name": "A36",
           "orientation": "v",
           "showlegend": true,
           "textposition": "auto",
           "type": "bar",
           "x": {
            "bdata": "AQ==",
            "dtype": "i1"
           },
           "xaxis": "x",
           "y": {
            "bdata": "YAw=",
            "dtype": "i2"
           },
           "yaxis": "y"
          },
          {
           "hovertemplate": "page2_clothing_model=P61<br>month=6<br>Main Category=%{x}<br>Total Price=%{y}<extra></extra>",
           "ids": {
            "bdata": "BA==",
            "dtype": "i1"
           },
           "legendgroup": "P61",
           "marker": {
            "color": "#B6E880",
            "pattern": {
             "shape": ""
            }
           },
           "name": "P61",
           "orientation": "v",
           "showlegend": true,
           "textposition": "auto",
           "type": "bar",
           "x": {
            "bdata": "BA==",
            "dtype": "i1"
           },
           "xaxis": "x",
           "y": {
            "bdata": "XAw=",
            "dtype": "i2"
           },
           "yaxis": "y"
          },
          {
           "hovertemplate": "page2_clothing_model=C25<br>month=6<br>Main Category=%{x}<br>Total Price=%{y}<extra></extra>",
           "ids": {
            "bdata": "Aw==",
            "dtype": "i1"
           },
           "legendgroup": "C25",
           "marker": {
            "color": "#FF97FF",
            "pattern": {
             "shape": ""
            }
           },
           "name": "C25",
           "orientation": "v",
           "showlegend": true,
           "textposition": "auto",
           "type": "bar",
           "x": {
            "bdata": "Aw==",
            "dtype": "i1"
           },
           "xaxis": "x",
           "y": {
            "bdata": "Bgk=",
            "dtype": "i2"
           },
           "yaxis": "y"
          },
          {
           "hovertemplate": "page2_clothing_model=C48<br>month=6<br>Main Category=%{x}<br>Total Price=%{y}<extra></extra>",
           "ids": {
            "bdata": "Aw==",
            "dtype": "i1"
           },
           "legendgroup": "C48",
           "marker": {
            "color": "#FECB52",
            "pattern": {
             "shape": ""
            }
           },
           "name": "C48",
           "orientation": "v",
           "showlegend": true,
           "textposition": "auto",
           "type": "bar",
           "x": {
            "bdata": "Aw==",
            "dtype": "i1"
           },
           "xaxis": "x",
           "y": {
            "bdata": "PAY=",
            "dtype": "i2"
           },
           "yaxis": "y"
          },
          {
           "hovertemplate": "page2_clothing_model=A19<br>month=6<br>Main Category=%{x}<br>Total Price=%{y}<extra></extra>",
           "ids": {
            "bdata": "AQ==",
            "dtype": "i1"
           },
           "legendgroup": "A19",
           "marker": {
            "color": "#636efa",
            "pattern": {
             "shape": ""
            }
           },
           "name": "A19",
           "orientation": "v",
           "showlegend": true,
           "textposition": "auto",
           "type": "bar",
           "x": {
            "bdata": "AQ==",
            "dtype": "i1"
           },
           "xaxis": "x",
           "y": {
            "bdata": "9gY=",
            "dtype": "i2"
           },
           "yaxis": "y"
          },
          {
           "hovertemplate": "page2_clothing_model=P72<br>month=6<br>Main Category=%{x}<br>Total Price=%{y}<extra></extra>",
           "ids": {
            "bdata": "BA==",
            "dtype": "i1"
           },
           "legendgroup": "P72",
           "marker": {
            "color": "#EF553B",
            "pattern": {
             "shape": ""
            }
           },
           "name": "P72",
           "orientation": "v",
           "showlegend": true,
           "textposition": "auto",
           "type": "bar",
           "x": {
            "bdata": "BA==",
            "dtype": "i1"
           },
           "xaxis": "x",
           "y": {
            "bdata": "UQY=",
            "dtype": "i2"
           },
           "yaxis": "y"
          },
          {
           "hovertemplate": "page2_clothing_model=P51<br>month=6<br>Main Category=%{x}<br>Total Price=%{y}<extra></extra>",
           "ids": {
            "bdata": "BA==",
            "dtype": "i1"
           },
           "legendgroup": "P51",
           "marker": {
            "color": "#00cc96",
            "pattern": {
             "shape": ""
            }
           },
           "name": "P51",
           "orientation": "v",
           "showlegend": true,
           "textposition": "auto",
           "type": "bar",
           "x": {
            "bdata": "BA==",
            "dtype": "i1"
           },
           "xaxis": "x",
           "y": {
            "bdata": "LAo=",
            "dtype": "i2"
           },
           "yaxis": "y"
          },
          {
           "hovertemplate": "page2_clothing_model=C31<br>month=6<br>Main Category=%{x}<br>Total Price=%{y}<extra></extra>",
           "ids": {
            "bdata": "Aw==",
            "dtype": "i1"
           },
           "legendgroup": "C31",
           "marker": {
            "color": "#ab63fa",
            "pattern": {
             "shape": ""
            }
           },
           "name": "C31",
           "orientation": "v",
           "showlegend": true,
           "textposition": "auto",
           "type": "bar",
           "x": {
            "bdata": "Aw==",
            "dtype": "i1"
           },
           "xaxis": "x",
           "y": {
            "bdata": "egc=",
            "dtype": "i2"
           },
           "yaxis": "y"
          },
          {
           "hovertemplate": "page2_clothing_model=C51<br>month=6<br>Main Category=%{x}<br>Total Price=%{y}<extra></extra>",
           "ids": {
            "bdata": "Aw==",
            "dtype": "i1"
           },
           "legendgroup": "C51",
           "marker": {
            "color": "#FFA15A",
            "pattern": {
             "shape": ""
            }
           },
           "name": "C51",
           "orientation": "v",
           "showlegend": true,
           "textposition": "auto",
           "type": "bar",
           "x": {
            "bdata": "Aw==",
            "dtype": "i1"
           },
           "xaxis": "x",
           "y": {
            "bdata": "IAg=",
            "dtype": "i2"
           },
           "yaxis": "y"
          },
          {
           "hovertemplate": "page2_clothing_model=C32<br>month=6<br>Main Category=%{x}<br>Total Price=%{y}<extra></extra>",
           "ids": {
            "bdata": "Aw==",
            "dtype": "i1"
           },
           "legendgroup": "C32",
           "marker": {
            "color": "#19d3f3",
            "pattern": {
             "shape": ""
            }
           },
           "name": "C32",
           "orientation": "v",
           "showlegend": true,
           "textposition": "auto",
           "type": "bar",
           "x": {
            "bdata": "Aw==",
            "dtype": "i1"
           },
           "xaxis": "x",
           "y": {
            "bdata": "Bgk=",
            "dtype": "i2"
           },
           "yaxis": "y"
          },
          {
           "hovertemplate": "page2_clothing_model=P46<br>month=6<br>Main Category=%{x}<br>Total Price=%{y}<extra></extra>",
           "ids": {
            "bdata": "BA==",
            "dtype": "i1"
           },
           "legendgroup": "P46",
           "marker": {
            "color": "#FF6692",
            "pattern": {
             "shape": ""
            }
           },
           "name": "P46",
           "orientation": "v",
           "showlegend": true,
           "textposition": "auto",
           "type": "bar",
           "x": {
            "bdata": "BA==",
            "dtype": "i1"
           },
           "xaxis": "x",
           "y": {
            "bdata": "kAY=",
            "dtype": "i2"
           },
           "yaxis": "y"
          },
          {
           "hovertemplate": "page2_clothing_model=P38<br>month=6<br>Main Category=%{x}<br>Total Price=%{y}<extra></extra>",
           "ids": {
            "bdata": "BA==",
            "dtype": "i1"
           },
           "legendgroup": "P38",
           "marker": {
            "color": "#B6E880",
            "pattern": {
             "shape": ""
            }
           },
           "name": "P38",
           "orientation": "v",
           "showlegend": true,
           "textposition": "auto",
           "type": "bar",
           "x": {
            "bdata": "BA==",
            "dtype": "i1"
           },
           "xaxis": "x",
           "y": {
            "bdata": "MQI=",
            "dtype": "i2"
           },
           "yaxis": "y"
          },
          {
           "hovertemplate": "page2_clothing_model=P47<br>month=6<br>Main Category=%{x}<br>Total Price=%{y}<extra></extra>",
           "ids": {
            "bdata": "BA==",
            "dtype": "i1"
           },
           "legendgroup": "P47",
           "marker": {
            "color": "#FF97FF",
            "pattern": {
             "shape": ""
            }
           },
           "name": "P47",
           "orientation": "v",
           "showlegend": true,
           "textposition": "auto",
           "type": "bar",
           "x": {
            "bdata": "BA==",
            "dtype": "i1"
           },
           "xaxis": "x",
           "y": {
            "bdata": "PAY=",
            "dtype": "i2"
           },
           "yaxis": "y"
          },
          {
           "hovertemplate": "page2_clothing_model=P71<br>month=6<br>Main Category=%{x}<br>Total Price=%{y}<extra></extra>",
           "ids": {
            "bdata": "BA==",
            "dtype": "i1"
           },
           "legendgroup": "P71",
           "marker": {
            "color": "#FECB52",
            "pattern": {
             "shape": ""
            }
           },
           "name": "P71",
           "orientation": "v",
           "showlegend": true,
           "textposition": "auto",
           "type": "bar",
           "x": {
            "bdata": "BA==",
            "dtype": "i1"
           },
           "xaxis": "x",
           "y": {
            "bdata": "3gM=",
            "dtype": "i2"
           },
           "yaxis": "y"
          },
          {
           "hovertemplate": "page2_clothing_model=P30<br>month=6<br>Main Category=%{x}<br>Total Price=%{y}<extra></extra>",
           "ids": {
            "bdata": "BA==",
            "dtype": "i1"
           },
           "legendgroup": "P30",
           "marker": {
            "color": "#636efa",
            "pattern": {
             "shape": ""
            }
           },
           "name": "P30",
           "orientation": "v",
           "showlegend": true,
           "textposition": "auto",
           "type": "bar",
           "x": {
            "bdata": "BA==",
            "dtype": "i1"
           },
           "xaxis": "x",
           "y": {
            "bdata": "QQQ=",
            "dtype": "i2"
           },
           "yaxis": "y"
          },
          {
           "hovertemplate": "page2_clothing_model=P74<br>month=6<br>Main Category=%{x}<br>Total Price=%{y}<extra></extra>",
           "ids": {
            "bdata": "BA==",
            "dtype": "i1"
           },
           "legendgroup": "P74",
           "marker": {
            "color": "#EF553B",
            "pattern": {
             "shape": ""
            }
           },
           "name": "P74",
           "orientation": "v",
           "showlegend": true,
           "textposition": "auto",
           "type": "bar",
           "x": {
            "bdata": "BA==",
            "dtype": "i1"
           },
           "xaxis": "x",
           "y": {
            "bdata": "pAQ=",
            "dtype": "i2"
           },
           "yaxis": "y"
          },
          {
           "hovertemplate": "page2_clothing_model=P63<br>month=6<br>Main Category=%{x}<br>Total Price=%{y}<extra></extra>",
           "ids": {
            "bdata": "BA==",
            "dtype": "i1"
           },
           "legendgroup": "P63",
           "marker": {
            "color": "#00cc96",
            "pattern": {
             "shape": ""
            }
           },
           "name": "P63",
           "orientation": "v",
           "showlegend": true,
           "textposition": "auto",
           "type": "bar",
           "x": {
            "bdata": "BA==",
            "dtype": "i1"
           },
           "xaxis": "x",
           "y": {
            "bdata": "tAQ=",
            "dtype": "i2"
           },
           "yaxis": "y"
          },
          {
           "hovertemplate": "page2_clothing_model=P42<br>month=6<br>Main Category=%{x}<br>Total Price=%{y}<extra></extra>",
           "ids": {
            "bdata": "BA==",
            "dtype": "i1"
           },
           "legendgroup": "P42",
           "marker": {
            "color": "#ab63fa",
            "pattern": {
             "shape": ""
            }
           },
           "name": "P42",
           "orientation": "v",
           "showlegend": true,
           "textposition": "auto",
           "type": "bar",
           "x": {
            "bdata": "BA==",
            "dtype": "i1"
           },
           "xaxis": "x",
           "y": {
            "bdata": "ZAM=",
            "dtype": "i2"
           },
           "yaxis": "y"
          },
          {
           "hovertemplate": "page2_clothing_model=P21<br>month=6<br>Main Category=%{x}<br>Total Price=%{y}<extra></extra>",
           "ids": {
            "bdata": "BA==",
            "dtype": "i1"
           },
           "legendgroup": "P21",
           "marker": {
            "color": "#FFA15A",
            "pattern": {
             "shape": ""
            }
           },
           "name": "P21",
           "orientation": "v",
           "showlegend": true,
           "textposition": "auto",
           "type": "bar",
           "x": {
            "bdata": "BA==",
            "dtype": "i1"
           },
           "xaxis": "x",
           "y": {
            "bdata": "mwc=",
            "dtype": "i2"
           },
           "yaxis": "y"
          },
          {
           "hovertemplate": "page2_clothing_model=P44<br>month=6<br>Main Category=%{x}<br>Total Price=%{y}<extra></extra>",
           "ids": {
            "bdata": "BA==",
            "dtype": "i1"
           },
           "legendgroup": "P44",
           "marker": {
            "color": "#19d3f3",
            "pattern": {
             "shape": ""
            }
           },
           "name": "P44",
           "orientation": "v",
           "showlegend": true,
           "textposition": "auto",
           "type": "bar",
           "x": {
            "bdata": "BA==",
            "dtype": "i1"
           },
           "xaxis": "x",
           "y": {
            "bdata": "eAU=",
            "dtype": "i2"
           },
           "yaxis": "y"
          },
          {
           "hovertemplate": "page2_clothing_model=P75<br>month=6<br>Main Category=%{x}<br>Total Price=%{y}<extra></extra>",
           "ids": {
            "bdata": "BA==",
            "dtype": "i1"
           },
           "legendgroup": "P75",
           "marker": {
            "color": "#FF6692",
            "pattern": {
             "shape": ""
            }
           },
           "name": "P75",
           "orientation": "v",
           "showlegend": true,
           "textposition": "auto",
           "type": "bar",
           "x": {
            "bdata": "BA==",
            "dtype": "i1"
           },
           "xaxis": "x",
           "y": {
            "bdata": "cwI=",
            "dtype": "i2"
           },
           "yaxis": "y"
          },
          {
           "hovertemplate": "page2_clothing_model=P27<br>month=6<br>Main Category=%{x}<br>Total Price=%{y}<extra></extra>",
           "ids": {
            "bdata": "BA==",
            "dtype": "i1"
           },
           "legendgroup": "P27",
           "marker": {
            "color": "#B6E880",
            "pattern": {
             "shape": ""
            }
           },
           "name": "P27",
           "orientation": "v",
           "showlegend": true,
           "textposition": "auto",
           "type": "bar",
           "x": {
            "bdata": "BA==",
            "dtype": "i1"
           },
           "xaxis": "x",
           "y": {
            "bdata": "1gI=",
            "dtype": "i2"
           },
           "yaxis": "y"
          },
          {
           "hovertemplate": "page2_clothing_model=C52<br>month=6<br>Main Category=%{x}<br>Total Price=%{y}<extra></extra>",
           "ids": {
            "bdata": "Aw==",
            "dtype": "i1"
           },
           "legendgroup": "C52",
           "marker": {
            "color": "#FF97FF",
            "pattern": {
             "shape": ""
            }
           },
           "name": "C52",
           "orientation": "v",
           "showlegend": true,
           "textposition": "auto",
           "type": "bar",
           "x": {
            "bdata": "Aw==",
            "dtype": "i1"
           },
           "xaxis": "x",
           "y": {
            "bdata": "AgQ=",
            "dtype": "i2"
           },
           "yaxis": "y"
          },
          {
           "hovertemplate": "page2_clothing_model=P73<br>month=6<br>Main Category=%{x}<br>Total Price=%{y}<extra></extra>",
           "ids": {
            "bdata": "BA==",
            "dtype": "i1"
           },
           "legendgroup": "P73",
           "marker": {
            "color": "#FECB52",
            "pattern": {
             "shape": ""
            }
           },
           "name": "P73",
           "orientation": "v",
           "showlegend": true,
           "textposition": "auto",
           "type": "bar",
           "x": {
            "bdata": "BA==",
            "dtype": "i1"
           },
           "xaxis": "x",
           "y": {
            "bdata": "/wM=",
            "dtype": "i2"
           },
           "yaxis": "y"
          },
          {
           "hovertemplate": "page2_clothing_model=P80<br>month=6<br>Main Category=%{x}<br>Total Price=%{y}<extra></extra>",
           "ids": {
            "bdata": "BA==",
            "dtype": "i1"
           },
           "legendgroup": "P80",
           "marker": {
            "color": "#636efa",
            "pattern": {
             "shape": ""
            }
           },
           "name": "P80",
           "orientation": "v",
           "showlegend": true,
           "textposition": "auto",
           "type": "bar",
           "x": {
            "bdata": "BA==",
            "dtype": "i1"
           },
           "xaxis": "x",
           "y": {
            "bdata": "nAM=",
            "dtype": "i2"
           },
           "yaxis": "y"
          },
          {
           "hovertemplate": "page2_clothing_model=P35<br>month=6<br>Main Category=%{x}<br>Total Price=%{y}<extra></extra>",
           "ids": {
            "bdata": "BA==",
            "dtype": "i1"
           },
           "legendgroup": "P35",
           "marker": {
            "color": "#EF553B",
            "pattern": {
             "shape": ""
            }
           },
           "name": "P35",
           "orientation": "v",
           "showlegend": true,
           "textposition": "auto",
           "type": "bar",
           "x": {
            "bdata": "BA==",
            "dtype": "i1"
           },
           "xaxis": "x",
           "y": {
            "bdata": "LAM=",
            "dtype": "i2"
           },
           "yaxis": "y"
          },
          {
           "hovertemplate": "page2_clothing_model=P52<br>month=6<br>Main Category=%{x}<br>Total Price=%{y}<extra></extra>",
           "ids": {
            "bdata": "BA==",
            "dtype": "i1"
           },
           "legendgroup": "P52",
           "marker": {
            "color": "#00cc96",
            "pattern": {
             "shape": ""
            }
           },
           "name": "P52",
           "orientation": "v",
           "showlegend": true,
           "textposition": "auto",
           "type": "bar",
           "x": {
            "bdata": "BA==",
            "dtype": "i1"
           },
           "xaxis": "x",
           "y": {
            "bdata": "zAE=",
            "dtype": "i2"
           },
           "yaxis": "y"
          },
          {
           "hovertemplate": "page2_clothing_model=C47<br>month=6<br>Main Category=%{x}<br>Total Price=%{y}<extra></extra>",
           "ids": {
            "bdata": "Aw==",
            "dtype": "i1"
           },
           "legendgroup": "C47",
           "marker": {
            "color": "#ab63fa",
            "pattern": {
             "shape": ""
            }
           },
           "name": "C47",
           "orientation": "v",
           "showlegend": true,
           "textposition": "auto",
           "type": "bar",
           "x": {
            "bdata": "Aw==",
            "dtype": "i1"
           },
           "xaxis": "x",
           "y": {
            "bdata": "UgI=",
            "dtype": "i2"
           },
           "yaxis": "y"
          },
          {
           "hovertemplate": "page2_clothing_model=P62<br>month=6<br>Main Category=%{x}<br>Total Price=%{y}<extra></extra>",
           "ids": {
            "bdata": "BA==",
            "dtype": "i1"
           },
           "legendgroup": "P62",
           "marker": {
            "color": "#FFA15A",
            "pattern": {
             "shape": ""
            }
           },
           "name": "P62",
           "orientation": "v",
           "showlegend": true,
           "textposition": "auto",
           "type": "bar",
           "x": {
            "bdata": "BA==",
            "dtype": "i1"
           },
           "xaxis": "x",
           "y": {
            "bdata": "/wM=",
            "dtype": "i2"
           },
           "yaxis": "y"
          },
          {
           "hovertemplate": "page2_clothing_model=P45<br>month=6<br>Main Category=%{x}<br>Total Price=%{y}<extra></extra>",
           "ids": {
            "bdata": "BA==",
            "dtype": "i1"
           },
           "legendgroup": "P45",
           "marker": {
            "color": "#19d3f3",
            "pattern": {
             "shape": ""
            }
           },
           "name": "P45",
           "orientation": "v",
           "showlegend": true,
           "textposition": "auto",
           "type": "bar",
           "x": {
            "bdata": "BA==",
            "dtype": "i1"
           },
           "xaxis": "x",
           "y": {
            "bdata": "EAI=",
            "dtype": "i2"
           },
           "yaxis": "y"
          },
          {
           "hovertemplate": "page2_clothing_model=C43<br>month=6<br>Main Category=%{x}<br>Total Price=%{y}<extra></extra>",
           "ids": {
            "bdata": "Aw==",
            "dtype": "i1"
           },
           "legendgroup": "C43",
           "marker": {
            "color": "#FF6692",
            "pattern": {
             "shape": ""
            }
           },
           "name": "C43",
           "orientation": "v",
           "showlegend": true,
           "textposition": "auto",
           "type": "bar",
           "x": {
            "bdata": "Aw==",
            "dtype": "i1"
           },
           "xaxis": "x",
           "y": {
            "bdata": "MAI=",
            "dtype": "i2"
           },
           "yaxis": "y"
          },
          {
           "hovertemplate": "page2_clothing_model=P64<br>month=6<br>Main Category=%{x}<br>Total Price=%{y}<extra></extra>",
           "ids": {
            "bdata": "BA==",
            "dtype": "i1"
           },
           "legendgroup": "P64",
           "marker": {
            "color": "#B6E880",
            "pattern": {
             "shape": ""
            }
           },
           "name": "P64",
           "orientation": "v",
           "showlegend": true,
           "textposition": "auto",
           "type": "bar",
           "x": {
            "bdata": "BA==",
            "dtype": "i1"
           },
           "xaxis": "x",
           "y": {
            "bdata": "SAM=",
            "dtype": "i2"
           },
           "yaxis": "y"
          },
          {
           "hovertemplate": "page2_clothing_model=P31<br>month=6<br>Main Category=%{x}<br>Total Price=%{y}<extra></extra>",
           "ids": {
            "bdata": "BA==",
            "dtype": "i1"
           },
           "legendgroup": "P31",
           "marker": {
            "color": "#FF97FF",
            "pattern": {
             "shape": ""
            }
           },
           "name": "P31",
           "orientation": "v",
           "showlegend": true,
           "textposition": "auto",
           "type": "bar",
           "x": {
            "bdata": "BA==",
            "dtype": "i1"
           },
           "xaxis": "x",
           "y": {
            "bdata": "5wA=",
            "dtype": "i2"
           },
           "yaxis": "y"
          }
         ],
         "name": "6"
        },
        {
         "data": [
          {
           "hovertemplate": "page2_clothing_model=A2<br>month=8<br>Main Category=%{x}<br>Total Price=%{y}<extra></extra>",
           "ids": {
            "bdata": "AQ==",
            "dtype": "i1"
           },
           "legendgroup": "A2",
           "marker": {
            "color": "#636efa",
            "pattern": {
             "shape": ""
            }
           },
           "name": "A2",
           "orientation": "v",
           "showlegend": true,
           "textposition": "auto",
           "type": "bar",
           "x": {
            "bdata": "AQ==",
            "dtype": "i1"
           },
           "xaxis": "x",
           "y": {
            "bdata": "riw=",
            "dtype": "i2"
           },
           "yaxis": "y"
          },
          {
           "hovertemplate": "page2_clothing_model=A4<br>month=8<br>Main Category=%{x}<br>Total Price=%{y}<extra></extra>",
           "ids": {
            "bdata": "AQ==",
            "dtype": "i1"
           },
           "legendgroup": "A4",
           "marker": {
            "color": "#EF553B",
            "pattern": {
             "shape": ""
            }
           },
           "name": "A4",
           "orientation": "v",
           "showlegend": true,
           "textposition": "auto",
           "type": "bar",
           "x": {
            "bdata": "AQ==",
            "dtype": "i1"
           },
           "xaxis": "x",
           "y": {
            "bdata": "2A4=",
            "dtype": "i2"
           },
           "yaxis": "y"
          },
          {
           "hovertemplate": "page2_clothing_model=A5<br>month=8<br>Main Category=%{x}<br>Total Price=%{y}<extra></extra>",
           "ids": {
            "bdata": "AQ==",
            "dtype": "i1"
           },
           "legendgroup": "A5",
           "marker": {
            "color": "#00cc96",
            "pattern": {
             "shape": ""
            }
           },
           "name": "A5",
           "orientation": "v",
           "showlegend": true,
           "textposition": "auto",
           "type": "bar",
           "x": {
            "bdata": "AQ==",
            "dtype": "i1"
           },
           "xaxis": "x",
           "y": {
            "bdata": "Ph8=",
            "dtype": "i2"
           },
           "yaxis": "y"
          },
          {
           "hovertemplate": "page2_clothing_model=A15<br>month=8<br>Main Category=%{x}<br>Total Price=%{y}<extra></extra>",
           "ids": {
            "bdata": "AQ==",
            "dtype": "i1"
           },
           "legendgroup": "A15",
           "marker": {
            "color": "#ab63fa",
            "pattern": {
             "shape": ""
            }
           },
           "name": "A15",
           "orientation": "v",
           "showlegend": true,
           "textposition": "auto",
           "type": "bar",
           "x": {
            "bdata": "AQ==",
            "dtype": "i1"
           },
           "xaxis": "x",
           "y": {
            "bdata": "1Ao=",
            "dtype": "i2"
           },
           "yaxis": "y"
          },
          {
           "hovertemplate": "page2_clothing_model=A10<br>month=8<br>Main Category=%{x}<br>Total Price=%{y}<extra></extra>",
           "ids": {
            "bdata": "AQ==",
            "dtype": "i1"
           },
           "legendgroup": "A10",
           "marker": {
            "color": "#FFA15A",
            "pattern": {
             "shape": ""
            }
           },
           "name": "A10",
           "orientation": "v",
           "showlegend": true,
           "textposition": "auto",
           "type": "bar",
           "x": {
            "bdata": "AQ==",
            "dtype": "i1"
           },
           "xaxis": "x",
           "y": {
            "bdata": "IBo=",
            "dtype": "i2"
           },
           "yaxis": "y"
          },
          {
           "hovertemplate": "page2_clothing_model=A6<br>month=8<br>Main Category=%{x}<br>Total Price=%{y}<extra></extra>",
           "ids": {
            "bdata": "AQ==",
            "dtype": "i1"
           },
           "legendgroup": "A6",
           "marker": {
            "color": "#19d3f3",
            "pattern": {
             "shape": ""
            }
           },
           "name": "A6",
           "orientation": "v",
           "showlegend": true,
           "textposition": "auto",
           "type": "bar",
           "x": {
            "bdata": "AQ==",
            "dtype": "i1"
           },
           "xaxis": "x",
           "y": {
            "bdata": "VRU=",
            "dtype": "i2"
           },
           "yaxis": "y"
          },
          {
           "hovertemplate": "page2_clothing_model=A12<br>month=8<br>Main Category=%{x}<br>Total Price=%{y}<extra></extra>",
           "ids": {
            "bdata": "AQ==",
            "dtype": "i1"
           },
           "legendgroup": "A12",
           "marker": {
            "color": "#FF6692",
            "pattern": {
             "shape": ""
            }
           },
           "name": "A12",
           "orientation": "v",
           "showlegend": true,
           "textposition": "auto",
           "type": "bar",
           "x": {
            "bdata": "AQ==",
            "dtype": "i1"
           },
           "xaxis": "x",
           "y": {
            "bdata": "PBk=",
            "dtype": "i2"
           },
           "yaxis": "y"
          },
          {
           "hovertemplate": "page2_clothing_model=A7<br>month=8<br>Main Category=%{x}<br>Total Price=%{y}<extra></extra>",
           "ids": {
            "bdata": "AQ==",
            "dtype": "i1"
           },
           "legendgroup": "A7",
           "marker": {
            "color": "#B6E880",
            "pattern": {
             "shape": ""
            }
           },
           "name": "A7",
           "orientation": "v",
           "showlegend": true,
           "textposition": "auto",
           "type": "bar",
           "x": {
            "bdata": "AQ==",
            "dtype": "i1"
           },
           "xaxis": "x",
           "y": {
            "bdata": "BRg=",
            "dtype": "i2"
           },
           "yaxis": "y"
          },
          {
           "hovertemplate": "page2_clothing_model=A1<br>month=8<br>Main Category=%{x}<br>Total Price=%{y}<extra></extra>",
           "ids": {
            "bdata": "AQ==",
            "dtype": "i1"
           },
           "legendgroup": "A1",
           "marker": {
            "color": "#FF97FF",
            "pattern": {
             "shape": ""
            }
           },
           "name": "A1",
           "orientation": "v",
           "showlegend": true,
           "textposition": "auto",
           "type": "bar",
           "x": {
            "bdata": "AQ==",
            "dtype": "i1"
           },
           "xaxis": "x",
           "y": {
            "bdata": "jBU=",
            "dtype": "i2"
           },
           "yaxis": "y"
          },
          {
           "hovertemplate": "page2_clothing_model=B11<br>month=8<br>Main Category=%{x}<br>Total Price=%{y}<extra></extra>",
           "ids": {
            "bdata": "Ag==",
            "dtype": "i1"
           },
           "legendgroup": "B11",
           "marker": {
            "color": "#FECB52",
            "pattern": {
             "shape": ""
            }
           },
           "name": "B11",
           "orientation": "v",
           "showlegend": true,
           "textposition": "auto",
           "type": "bar",
           "x": {
            "bdata": "Ag==",
            "dtype": "i1"
           },
           "xaxis": "x",
           "y": {
            "bdata": "LBY=",
            "dtype": "i2"
           },
           "yaxis": "y"
          },
          {
           "hovertemplate": "page2_clothing_model=B15<br>month=8<br>Main Category=%{x}<br>Total Price=%{y}<extra></extra>",
           "ids": {
            "bdata": "Ag==",
            "dtype": "i1"
           },
           "legendgroup": "B15",
           "marker": {
            "color": "#636efa",
            "pattern": {
             "shape": ""
            }
           },
           "name": "B15",
           "orientation": "v",
           "showlegend": true,
           "textposition": "auto",
           "type": "bar",
           "x": {
            "bdata": "Ag==",
            "dtype": "i1"
           },
           "xaxis": "x",
           "y": {
            "bdata": "8gk=",
            "dtype": "i2"
           },
           "yaxis": "y"
          },
          {
           "hovertemplate": "page2_clothing_model=B32<br>month=8<br>Main Category=%{x}<br>Total Price=%{y}<extra></extra>",
           "ids": {
            "bdata": "Ag==",
            "dtype": "i1"
           },
           "legendgroup": "B32",
           "marker": {
            "color": "#EF553B",
            "pattern": {
             "shape": ""
            }
           },
           "name": "B32",
           "orientation": "v",
           "showlegend": true,
           "textposition": "auto",
           "type": "bar",
           "x": {
            "bdata": "Ag==",
            "dtype": "i1"
           },
           "xaxis": "x",
           "y": {
            "bdata": "Wgk=",
            "dtype": "i2"
           },
           "yaxis": "y"
          },
          {
           "hovertemplate": "page2_clothing_model=P16<br>month=8<br>Main Category=%{x}<br>Total Price=%{y}<extra></extra>",
           "ids": {
            "bdata": "BA==",
            "dtype": "i1"
           },
           "legendgroup": "P16",
           "marker": {
            "color": "#00cc96",
            "pattern": {
             "shape": ""
            }
           },
           "name": "P16",
           "orientation": "v",
           "showlegend": true,
           "textposition": "auto",
           "type": "bar",
           "x": {
            "bdata": "BA==",
            "dtype": "i1"
           },
           "xaxis": "x",
           "y": {
            "bdata": "mwc=",
            "dtype": "i2"
           },
           "yaxis": "y"
          },
          {
           "hovertemplate": "page2_clothing_model=B23<br>month=8<br>Main Category=%{x}<br>Total Price=%{y}<extra></extra>",
           "ids": {
            "bdata": "Ag==",
            "dtype": "i1"
           },
           "legendgroup": "B23",
           "marker": {
            "color": "#ab63fa",
            "pattern": {
             "shape": ""
            }
           },
           "name": "B23",
           "orientation": "v",
           "showlegend": true,
           "textposition": "auto",
           "type": "bar",
           "x": {
            "bdata": "Ag==",
            "dtype": "i1"
           },
           "xaxis": "x",
           "y": {
            "bdata": "3gc=",
            "dtype": "i2"
           },
           "yaxis": "y"
          },
          {
           "hovertemplate": "page2_clothing_model=B17<br>month=8<br>Main Category=%{x}<br>Total Price=%{y}<extra></extra>",
           "ids": {
            "bdata": "Ag==",
            "dtype": "i1"
           },
           "legendgroup": "B17",
           "marker": {
            "color": "#FFA15A",
            "pattern": {
             "shape": ""
            }
           },
           "name": "B17",
           "orientation": "v",
           "showlegend": true,
           "textposition": "auto",
           "type": "bar",
           "x": {
            "bdata": "Ag==",
            "dtype": "i1"
           },
           "xaxis": "x",
           "y": {
            "bdata": "wgg=",
            "dtype": "i2"
           },
           "yaxis": "y"
          },
          {
           "hovertemplate": "page2_clothing_model=B12<br>month=8<br>Main Category=%{x}<br>Total Price=%{y}<extra></extra>",
           "ids": {
            "bdata": "Ag==",
            "dtype": "i1"
           },
           "legendgroup": "B12",
           "marker": {
            "color": "#19d3f3",
            "pattern": {
             "shape": ""
            }
           },
           "name": "B12",
           "orientation": "v",
           "showlegend": true,
           "textposition": "auto",
           "type": "bar",
           "x": {
            "bdata": "Ag==",
            "dtype": "i1"
           },
           "xaxis": "x",
           "y": {
            "bdata": "Zg4=",
            "dtype": "i2"
           },
           "yaxis": "y"
          },
          {
           "hovertemplate": "page2_clothing_model=A16<br>month=8<br>Main Category=%{x}<br>Total Price=%{y}<extra></extra>",
           "ids": {
            "bdata": "AQ==",
            "dtype": "i1"
           },
           "legendgroup": "A16",
           "marker": {
            "color": "#FF6692",
            "pattern": {
             "shape": ""
            }
           },
           "name": "A16",
           "orientation": "v",
           "showlegend": true,
           "textposition": "auto",
           "type": "bar",
           "x": {
            "bdata": "AQ==",
            "dtype": "i1"
           },
           "xaxis": "x",
           "y": {
            "bdata": "5Qg=",
            "dtype": "i2"
           },
           "yaxis": "y"
          },
          {
           "hovertemplate": "page2_clothing_model=B9<br>month=8<br>Main Category=%{x}<br>Total Price=%{y}<extra></extra>",
           "ids": {
            "bdata": "Ag==",
            "dtype": "i1"
           },
           "legendgroup": "B9",
           "marker": {
            "color": "#B6E880",
            "pattern": {
             "shape": ""
            }
           },
           "name": "B9",
           "orientation": "v",
           "showlegend": true,
           "textposition": "auto",
           "type": "bar",
           "x": {
            "bdata": "Ag==",
            "dtype": "i1"
           },
           "xaxis": "x",
           "y": {
            "bdata": "sAc=",
            "dtype": "i2"
           },
           "yaxis": "y"
          },
          {
           "hovertemplate": "page2_clothing_model=A13<br>month=8<br>Main Category=%{x}<br>Total Price=%{y}<extra></extra>",
           "ids": {
            "bdata": "AQ==",
            "dtype": "i1"
           },
           "legendgroup": "A13",
           "marker": {
            "color": "#FF97FF",
            "pattern": {
             "shape": ""
            }
           },
           "name": "A13",
           "orientation": "v",
           "showlegend": true,
           "textposition": "auto",
           "type": "bar",
           "x": {
            "bdata": "AQ==",
            "dtype": "i1"
           },
           "xaxis": "x",
           "y": {
            "bdata": "FAk=",
            "dtype": "i2"
           },
           "yaxis": "y"
          },
          {
           "hovertemplate": "page2_clothing_model=B19<br>month=8<br>Main Category=%{x}<br>Total Price=%{y}<extra></extra>",
           "ids": {
            "bdata": "Ag==",
            "dtype": "i1"
           },
           "legendgroup": "B19",
           "marker": {
            "color": "#FECB52",
            "pattern": {
             "shape": ""
            }
           },
           "name": "B19",
           "orientation": "v",
           "showlegend": true,
           "textposition": "auto",
           "type": "bar",
           "x": {
            "bdata": "Ag==",
            "dtype": "i1"
           },
           "xaxis": "x",
           "y": {
            "bdata": "ygU=",
            "dtype": "i2"
           },
           "yaxis": "y"
          },
          {
           "hovertemplate": "page2_clothing_model=A33<br>month=8<br>Main Category=%{x}<br>Total Price=%{y}<extra></extra>",
           "ids": {
            "bdata": "AQ==",
            "dtype": "i1"
           },
           "legendgroup": "A33",
           "marker": {
            "color": "#636efa",
            "pattern": {
             "shape": ""
            }
           },
           "name": "A33",
           "orientation": "v",
           "showlegend": true,
           "textposition": "auto",
           "type": "bar",
           "x": {
            "bdata": "AQ==",
            "dtype": "i1"
           },
           "xaxis": "x",
           "y": {
            "bdata": "MgU=",
            "dtype": "i2"
           },
           "yaxis": "y"
          },
          {
           "hovertemplate": "page2_clothing_model=P12<br>month=8<br>Main Category=%{x}<br>Total Price=%{y}<extra></extra>",
           "ids": {
            "bdata": "BA==",
            "dtype": "i1"
           },
           "legendgroup": "P12",
           "marker": {
            "color": "#EF553B",
            "pattern": {
             "shape": ""
            }
           },
           "name": "P12",
           "orientation": "v",
           "showlegend": true,
           "textposition": "auto",
           "type": "bar",
           "x": {
            "bdata": "BA==",
            "dtype": "i1"
           },
           "xaxis": "x",
           "y": {
            "bdata": "Fwc=",
            "dtype": "i2"
           },
           "yaxis": "y"
          },
          {
           "hovertemplate": "page2_clothing_model=A41<br>month=8<br>Main Category=%{x}<br>Total Price=%{y}<extra></extra>",
           "ids": {
            "bdata": "AQ==",
            "dtype": "i1"
           },
           "legendgroup": "A41",
           "marker": {
            "color": "#00cc96",
            "pattern": {
             "shape": ""
            }
           },
           "name": "A41",
           "orientation": "v",
           "showlegend": true,
           "textposition": "auto",
           "type": "bar",
           "x": {
            "bdata": "AQ==",
            "dtype": "i1"
           },
           "xaxis": "x",
           "y": {
            "bdata": "3QM=",
            "dtype": "i2"
           },
           "yaxis": "y"
          },
          {
           "hovertemplate": "page2_clothing_model=C1<br>month=8<br>Main Category=%{x}<br>Total Price=%{y}<extra></extra>",
           "ids": {
            "bdata": "Aw==",
            "dtype": "i1"
           },
           "legendgroup": "C1",
           "marker": {
            "color": "#ab63fa",
            "pattern": {
             "shape": ""
            }
           },
           "name": "C1",
           "orientation": "v",
           "showlegend": true,
           "textposition": "auto",
           "type": "bar",
           "x": {
            "bdata": "Aw==",
            "dtype": "i1"
           },
           "xaxis": "x",
           "y": {
            "bdata": "dAY=",
            "dtype": "i2"
           },
           "yaxis": "y"
          },
          {
           "hovertemplate": "page2_clothing_model=A18<br>month=8<br>Main Category=%{x}<br>Total Price=%{y}<extra></extra>",
           "ids": {
            "bdata": "AQ==",
            "dtype": "i1"
           },
           "legendgroup": "A18",
           "marker": {
            "color": "#FFA15A",
            "pattern": {
             "shape": ""
            }
           },
           "name": "A18",
           "orientation": "v",
           "showlegend": true,
           "textposition": "auto",
           "type": "bar",
           "x": {
            "bdata": "AQ==",
            "dtype": "i1"
           },
           "xaxis": "x",
           "y": {
            "bdata": "6gw=",
            "dtype": "i2"
           },
           "yaxis": "y"
          },
          {
           "hovertemplate": "page2_clothing_model=B34<br>month=8<br>Main Category=%{x}<br>Total Price=%{y}<extra></extra>",
           "ids": {
            "bdata": "Ag==",
            "dtype": "i1"
           },
           "legendgroup": "B34",
           "marker": {
            "color": "#19d3f3",
            "pattern": {
             "shape": ""
            }
           },
           "name": "B34",
           "orientation": "v",
           "showlegend": true,
           "textposition": "auto",
           "type": "bar",
           "x": {
            "bdata": "Ag==",
            "dtype": "i1"
           },
           "xaxis": "x",
           "y": {
            "bdata": "gAo=",
            "dtype": "i2"
           },
           "yaxis": "y"
          },
          {
           "hovertemplate": "page2_clothing_model=A30<br>month=8<br>Main Category=%{x}<br>Total Price=%{y}<extra></extra>",
           "ids": {
            "bdata": "AQ==",
            "dtype": "i1"
           },
           "legendgroup": "A30",
           "marker": {
            "color": "#FF6692",
            "pattern": {
             "shape": ""
            }
           },
           "name": "A30",
           "orientation": "v",
           "showlegend": true,
           "textposition": "auto",
           "type": "bar",
           "x": {
            "bdata": "AQ==",
            "dtype": "i1"
           },
           "xaxis": "x",
           "y": {
            "bdata": "tgM=",
            "dtype": "i2"
           },
           "yaxis": "y"
          },
          {
           "hovertemplate": "page2_clothing_model=C40<br>month=8<br>Main Category=%{x}<br>Total Price=%{y}<extra></extra>",
           "ids": {
            "bdata": "Aw==",
            "dtype": "i1"
           },
           "legendgroup": "C40",
           "marker": {
            "color": "#B6E880",
            "pattern": {
             "shape": ""
            }
           },
           "name": "C40",
           "orientation": "v",
           "showlegend": true,
           "textposition": "auto",
           "type": "bar",
           "x": {
            "bdata": "Aw==",
            "dtype": "i1"
           },
           "xaxis": "x",
           "y": {
            "bdata": "YAs=",
            "dtype": "i2"
           },
           "yaxis": "y"
          },
          {
           "hovertemplate": "page2_clothing_model=P48<br>month=8<br>Main Category=%{x}<br>Total Price=%{y}<extra></extra>",
           "ids": {
            "bdata": "BA==",
            "dtype": "i1"
           },
           "legendgroup": "P48",
           "marker": {
            "color": "#FF97FF",
            "pattern": {
             "shape": ""
            }
           },
           "name": "P48",
           "orientation": "v",
           "showlegend": true,
           "textposition": "auto",
           "type": "bar",
           "x": {
            "bdata": "BA==",
            "dtype": "i1"
           },
           "xaxis": "x",
           "y": {
            "bdata": "WgM=",
            "dtype": "i2"
           },
           "yaxis": "y"
          },
          {
           "hovertemplate": "page2_clothing_model=C14<br>month=8<br>Main Category=%{x}<br>Total Price=%{y}<extra></extra>",
           "ids": {
            "bdata": "Aw==",
            "dtype": "i1"
           },
           "legendgroup": "C14",
           "marker": {
            "color": "#FECB52",
            "pattern": {
             "shape": ""
            }
           },
           "name": "C14",
           "orientation": "v",
           "showlegend": true,
           "textposition": "auto",
           "type": "bar",
           "x": {
            "bdata": "Aw==",
            "dtype": "i1"
           },
           "xaxis": "x",
           "y": {
            "bdata": "CAU=",
            "dtype": "i2"
           },
           "yaxis": "y"
          },
          {
           "hovertemplate": "page2_clothing_model=P2<br>month=8<br>Main Category=%{x}<br>Total Price=%{y}<extra></extra>",
           "ids": {
            "bdata": "BA==",
            "dtype": "i1"
           },
           "legendgroup": "P2",
           "marker": {
            "color": "#636efa",
            "pattern": {
             "shape": ""
            }
           },
           "name": "P2",
           "orientation": "v",
           "showlegend": true,
           "textposition": "auto",
           "type": "bar",
           "x": {
            "bdata": "BA==",
            "dtype": "i1"
           },
           "xaxis": "x",
           "y": {
            "bdata": "EAo=",
            "dtype": "i2"
           },
           "yaxis": "y"
          },
          {
           "hovertemplate": "page2_clothing_model=A32<br>month=8<br>Main Category=%{x}<br>Total Price=%{y}<extra></extra>",
           "ids": {
            "bdata": "AQ==",
            "dtype": "i1"
           },
           "legendgroup": "A32",
           "marker": {
            "color": "#EF553B",
            "pattern": {
             "shape": ""
            }
           },
           "name": "A32",
           "orientation": "v",
           "showlegend": true,
           "textposition": "auto",
           "type": "bar",
           "x": {
            "bdata": "AQ==",
            "dtype": "i1"
           },
           "xaxis": "x",
           "y": {
            "bdata": "kgc=",
            "dtype": "i2"
           },
           "yaxis": "y"
          },
          {
           "hovertemplate": "page2_clothing_model=C6<br>month=8<br>Main Category=%{x}<br>Total Price=%{y}<extra></extra>",
           "ids": {
            "bdata": "Aw==",
            "dtype": "i1"
           },
           "legendgroup": "C6",
           "marker": {
            "color": "#00cc96",
            "pattern": {
             "shape": ""
            }
           },
           "name": "C6",
           "orientation": "v",
           "showlegend": true,
           "textposition": "auto",
           "type": "bar",
           "x": {
            "bdata": "Aw==",
            "dtype": "i1"
           },
           "xaxis": "x",
           "y": {
            "bdata": "vQM=",
            "dtype": "i2"
           },
           "yaxis": "y"
          },
          {
           "hovertemplate": "page2_clothing_model=C53<br>month=8<br>Main Category=%{x}<br>Total Price=%{y}<extra></extra>",
           "ids": {
            "bdata": "Aw==",
            "dtype": "i1"
           },
           "legendgroup": "C53",
           "marker": {
            "color": "#ab63fa",
            "pattern": {
             "shape": ""
            }
           },
           "name": "C53",
           "orientation": "v",
           "showlegend": true,
           "textposition": "auto",
           "type": "bar",
           "x": {
            "bdata": "Aw==",
            "dtype": "i1"
           },
           "xaxis": "x",
           "y": {
            "bdata": "Rgc=",
            "dtype": "i2"
           },
           "yaxis": "y"
          },
          {
           "hovertemplate": "page2_clothing_model=C57<br>month=8<br>Main Category=%{x}<br>Total Price=%{y}<extra></extra>",
           "ids": {
            "bdata": "Aw==",
            "dtype": "i1"
           },
           "legendgroup": "C57",
           "marker": {
            "color": "#FFA15A",
            "pattern": {
             "shape": ""
            }
           },
           "name": "C57",
           "orientation": "v",
           "showlegend": true,
           "textposition": "auto",
           "type": "bar",
           "x": {
            "bdata": "Aw==",
            "dtype": "i1"
           },
           "xaxis": "x",
           "y": {
            "bdata": "3As=",
            "dtype": "i2"
           },
           "yaxis": "y"
          },
          {
           "hovertemplate": "page2_clothing_model=C11<br>month=8<br>Main Category=%{x}<br>Total Price=%{y}<extra></extra>",
           "ids": {
            "bdata": "Aw==",
            "dtype": "i1"
           },
           "legendgroup": "C11",
           "marker": {
            "color": "#19d3f3",
            "pattern": {
             "shape": ""
            }
           },
           "name": "C11",
           "orientation": "v",
           "showlegend": true,
           "textposition": "auto",
           "type": "bar",
           "x": {
            "bdata": "Aw==",
            "dtype": "i1"
           },
           "xaxis": "x",
           "y": {
            "bdata": "xQQ=",
            "dtype": "i2"
           },
           "yaxis": "y"
          },
          {
           "hovertemplate": "page2_clothing_model=B25<br>month=8<br>Main Category=%{x}<br>Total Price=%{y}<extra></extra>",
           "ids": {
            "bdata": "Ag==",
            "dtype": "i1"
           },
           "legendgroup": "B25",
           "marker": {
            "color": "#FF6692",
            "pattern": {
             "shape": ""
            }
           },
           "name": "B25",
           "orientation": "v",
           "showlegend": true,
           "textposition": "auto",
           "type": "bar",
           "x": {
            "bdata": "Ag==",
            "dtype": "i1"
           },
           "xaxis": "x",
           "y": {
            "bdata": "wAQ=",
            "dtype": "i2"
           },
           "yaxis": "y"
          },
          {
           "hovertemplate": "page2_clothing_model=A28<br>month=8<br>Main Category=%{x}<br>Total Price=%{y}<extra></extra>",
           "ids": {
            "bdata": "AQ==",
            "dtype": "i1"
           },
           "legendgroup": "A28",
           "marker": {
            "color": "#B6E880",
            "pattern": {
             "shape": ""
            }
           },
           "name": "A28",
           "orientation": "v",
           "showlegend": true,
           "textposition": "auto",
           "type": "bar",
           "x": {
            "bdata": "AQ==",
            "dtype": "i1"
           },
           "xaxis": "x",
           "y": {
            "bdata": "BAI=",
            "dtype": "i2"
           },
           "yaxis": "y"
          },
          {
           "hovertemplate": "page2_clothing_model=A20<br>month=8<br>Main Category=%{x}<br>Total Price=%{y}<extra></extra>",
           "ids": {
            "bdata": "AQ==",
            "dtype": "i1"
           },
           "legendgroup": "A20",
           "marker": {
            "color": "#FF97FF",
            "pattern": {
             "shape": ""
            }
           },
           "name": "A20",
           "orientation": "v",
           "showlegend": true,
           "textposition": "auto",
           "type": "bar",
           "x": {
            "bdata": "AQ==",
            "dtype": "i1"
           },
           "xaxis": "x",
           "y": {
            "bdata": "wAQ=",
            "dtype": "i2"
           },
           "yaxis": "y"
          },
          {
           "hovertemplate": "page2_clothing_model=P23<br>month=8<br>Main Category=%{x}<br>Total Price=%{y}<extra></extra>",
           "ids": {
            "bdata": "BA==",
            "dtype": "i1"
           },
           "legendgroup": "P23",
           "marker": {
            "color": "#FECB52",
            "pattern": {
             "shape": ""
            }
           },
           "name": "P23",
           "orientation": "v",
           "showlegend": true,
           "textposition": "auto",
           "type": "bar",
           "x": {
            "bdata": "BA==",
            "dtype": "i1"
           },
           "xaxis": "x",
           "y": {
            "bdata": "2Ak=",
            "dtype": "i2"
           },
           "yaxis": "y"
          },
          {
           "hovertemplate": "page2_clothing_model=A34<br>month=8<br>Main Category=%{x}<br>Total Price=%{y}<extra></extra>",
           "ids": {
            "bdata": "AQ==",
            "dtype": "i1"
           },
           "legendgroup": "A34",
           "marker": {
            "color": "#636efa",
            "pattern": {
             "shape": ""
            }
           },
           "name": "A34",
           "orientation": "v",
           "showlegend": true,
           "textposition": "auto",
           "type": "bar",
           "x": {
            "bdata": "AQ==",
            "dtype": "i1"
           },
           "xaxis": "x",
           "y": {
            "bdata": "3gc=",
            "dtype": "i2"
           },
           "yaxis": "y"
          },
          {
           "hovertemplate": "page2_clothing_model=C41<br>month=8<br>Main Category=%{x}<br>Total Price=%{y}<extra></extra>",
           "ids": {
            "bdata": "Aw==",
            "dtype": "i1"
           },
           "legendgroup": "C41",
           "marker": {
            "color": "#EF553B",
            "pattern": {
             "shape": ""
            }
           },
           "name": "C41",
           "orientation": "v",
           "showlegend": true,
           "textposition": "auto",
           "type": "bar",
           "x": {
            "bdata": "Aw==",
            "dtype": "i1"
           },
           "xaxis": "x",
           "y": {
            "bdata": "1AM=",
            "dtype": "i2"
           },
           "yaxis": "y"
          },
          {
           "hovertemplate": "page2_clothing_model=P49<br>month=8<br>Main Category=%{x}<br>Total Price=%{y}<extra></extra>",
           "ids": {
            "bdata": "BA==",
            "dtype": "i1"
           },
           "legendgroup": "P49",
           "marker": {
            "color": "#00cc96",
            "pattern": {
             "shape": ""
            }
           },
           "name": "P49",
           "orientation": "v",
           "showlegend": true,
           "textposition": "auto",
           "type": "bar",
           "x": {
            "bdata": "BA==",
            "dtype": "i1"
           },
           "xaxis": "x",
           "y": {
            "bdata": "ewM=",
            "dtype": "i2"
           },
           "yaxis": "y"
          },
          {
           "hovertemplate": "page2_clothing_model=C49<br>month=8<br>Main Category=%{x}<br>Total Price=%{y}<extra></extra>",
           "ids": {
            "bdata": "Aw==",
            "dtype": "i1"
           },
           "legendgroup": "C49",
           "marker": {
            "color": "#ab63fa",
            "pattern": {
             "shape": ""
            }
           },
           "name": "C49",
           "orientation": "v",
           "showlegend": true,
           "textposition": "auto",
           "type": "bar",
           "x": {
            "bdata": "Aw==",
            "dtype": "i1"
           },
           "xaxis": "x",
           "y": {
            "bdata": "TAY=",
            "dtype": "i2"
           },
           "yaxis": "y"
          },
          {
           "hovertemplate": "page2_clothing_model=C30<br>month=8<br>Main Category=%{x}<br>Total Price=%{y}<extra></extra>",
           "ids": {
            "bdata": "Aw==",
            "dtype": "i1"
           },
           "legendgroup": "C30",
           "marker": {
            "color": "#FFA15A",
            "pattern": {
             "shape": ""
            }
           },
           "name": "C30",
           "orientation": "v",
           "showlegend": true,
           "textposition": "auto",
           "type": "bar",
           "x": {
            "bdata": "Aw==",
            "dtype": "i1"
           },
           "xaxis": "x",
           "y": {
            "bdata": "qAc=",
            "dtype": "i2"
           },
           "yaxis": "y"
          },
          {
           "hovertemplate": "page2_clothing_model=C10<br>month=8<br>Main Category=%{x}<br>Total Price=%{y}<extra></extra>",
           "ids": {
            "bdata": "Aw==",
            "dtype": "i1"
           },
           "legendgroup": "C10",
           "marker": {
            "color": "#19d3f3",
            "pattern": {
             "shape": ""
            }
           },
           "name": "C10",
           "orientation": "v",
           "showlegend": true,
           "textposition": "auto",
           "type": "bar",
           "x": {
            "bdata": "Aw==",
            "dtype": "i1"
           },
           "xaxis": "x",
           "y": {
            "bdata": "1AM=",
            "dtype": "i2"
           },
           "yaxis": "y"
          },
          {
           "hovertemplate": "page2_clothing_model=P50<br>month=8<br>Main Category=%{x}<br>Total Price=%{y}<extra></extra>",
           "ids": {
            "bdata": "BA==",
            "dtype": "i1"
           },
           "legendgroup": "P50",
           "marker": {
            "color": "#FF6692",
            "pattern": {
             "shape": ""
            }
           },
           "name": "P50",
           "orientation": "v",
           "showlegend": true,
           "textposition": "auto",
           "type": "bar",
           "x": {
            "bdata": "BA==",
            "dtype": "i1"
           },
           "xaxis": "x",
           "y": {
            "bdata": "nAM=",
            "dtype": "i2"
           },
           "yaxis": "y"
          },
          {
           "hovertemplate": "page2_clothing_model=A42<br>month=8<br>Main Category=%{x}<br>Total Price=%{y}<extra></extra>",
           "ids": {
            "bdata": "AQ==",
            "dtype": "i1"
           },
           "legendgroup": "A42",
           "marker": {
            "color": "#B6E880",
            "pattern": {
             "shape": ""
            }
           },
           "name": "A42",
           "orientation": "v",
           "showlegend": true,
           "textposition": "auto",
           "type": "bar",
           "x": {
            "bdata": "AQ==",
            "dtype": "i1"
           },
           "xaxis": "x",
           "y": {
            "bdata": "lAU=",
            "dtype": "i2"
           },
           "yaxis": "y"
          },
          {
           "hovertemplate": "page2_clothing_model=P5<br>month=8<br>Main Category=%{x}<br>Total Price=%{y}<extra></extra>",
           "ids": {
            "bdata": "BA==",
            "dtype": "i1"
           },
           "legendgroup": "P5",
           "marker": {
            "color": "#FF97FF",
            "pattern": {
             "shape": ""
            }
           },
           "name": "P5",
           "orientation": "v",
           "showlegend": true,
           "textposition": "auto",
           "type": "bar",
           "x": {
            "bdata": "BA==",
            "dtype": "i1"
           },
           "xaxis": "x",
           "y": {
            "bdata": "rwM=",
            "dtype": "i2"
           },
           "yaxis": "y"
          },
          {
           "hovertemplate": "page2_clothing_model=P8<br>month=8<br>Main Category=%{x}<br>Total Price=%{y}<extra></extra>",
           "ids": {
            "bdata": "BA==",
            "dtype": "i1"
           },
           "legendgroup": "P8",
           "marker": {
            "color": "#FECB52",
            "pattern": {
             "shape": ""
            }
           },
           "name": "P8",
           "orientation": "v",
           "showlegend": true,
           "textposition": "auto",
           "type": "bar",
           "x": {
            "bdata": "BA==",
            "dtype": "i1"
           },
           "xaxis": "x",
           "y": {
            "bdata": "5AY=",
            "dtype": "i2"
           },
           "yaxis": "y"
          },
          {
           "hovertemplate": "page2_clothing_model=A26<br>month=8<br>Main Category=%{x}<br>Total Price=%{y}<extra></extra>",
           "ids": {
            "bdata": "AQ==",
            "dtype": "i1"
           },
           "legendgroup": "A26",
           "marker": {
            "color": "#636efa",
            "pattern": {
             "shape": ""
            }
           },
           "name": "A26",
           "orientation": "v",
           "showlegend": true,
           "textposition": "auto",
           "type": "bar",
           "x": {
            "bdata": "AQ==",
            "dtype": "i1"
           },
           "xaxis": "x",
           "y": {
            "bdata": "rAI=",
            "dtype": "i2"
           },
           "yaxis": "y"
          },
          {
           "hovertemplate": "page2_clothing_model=P60<br>month=8<br>Main Category=%{x}<br>Total Price=%{y}<extra></extra>",
           "ids": {
            "bdata": "BA==",
            "dtype": "i1"
           },
           "legendgroup": "P60",
           "marker": {
            "color": "#EF553B",
            "pattern": {
             "shape": ""
            }
           },
           "name": "P60",
           "orientation": "v",
           "showlegend": true,
           "textposition": "auto",
           "type": "bar",
           "x": {
            "bdata": "BA==",
            "dtype": "i1"
           },
           "xaxis": "x",
           "y": {
            "bdata": "UAE=",
            "dtype": "i2"
           },
           "yaxis": "y"
          },
          {
           "hovertemplate": "page2_clothing_model=B7<br>month=8<br>Main Category=%{x}<br>Total Price=%{y}<extra></extra>",
           "ids": {
            "bdata": "Ag==",
            "dtype": "i1"
           },
           "legendgroup": "B7",
           "marker": {
            "color": "#00cc96",
            "pattern": {
             "shape": ""
            }
           },
           "name": "B7",
           "orientation": "v",
           "showlegend": true,
           "textposition": "auto",
           "type": "bar",
           "x": {
            "bdata": "Ag==",
            "dtype": "i1"
           },
           "xaxis": "x",
           "y": {
            "bdata": "hgI=",
            "dtype": "i2"
           },
           "yaxis": "y"
          },
          {
           "hovertemplate": "page2_clothing_model=B28<br>month=8<br>Main Category=%{x}<br>Total Price=%{y}<extra></extra>",
           "ids": {
            "bdata": "Ag==",
            "dtype": "i1"
           },
           "legendgroup": "B28",
           "marker": {
            "color": "#ab63fa",
            "pattern": {
             "shape": ""
            }
           },
           "name": "B28",
           "orientation": "v",
           "showlegend": true,
           "textposition": "auto",
           "type": "bar",
           "x": {
            "bdata": "Ag==",
            "dtype": "i1"
           },
           "xaxis": "x",
           "y": {
            "bdata": "DAU=",
            "dtype": "i2"
           },
           "yaxis": "y"
          },
          {
           "hovertemplate": "page2_clothing_model=C16<br>month=8<br>Main Category=%{x}<br>Total Price=%{y}<extra></extra>",
           "ids": {
            "bdata": "Aw==",
            "dtype": "i1"
           },
           "legendgroup": "C16",
           "marker": {
            "color": "#FFA15A",
            "pattern": {
             "shape": ""
            }
           },
           "name": "C16",
           "orientation": "v",
           "showlegend": true,
           "textposition": "auto",
           "type": "bar",
           "x": {
            "bdata": "Aw==",
            "dtype": "i1"
           },
           "xaxis": "x",
           "y": {
            "bdata": "EAM=",
            "dtype": "i2"
           },
           "yaxis": "y"
          },
          {
           "hovertemplate": "page2_clothing_model=P55<br>month=8<br>Main Category=%{x}<br>Total Price=%{y}<extra></extra>",
           "ids": {
            "bdata": "BA==",
            "dtype": "i1"
           },
           "legendgroup": "P55",
           "marker": {
            "color": "#19d3f3",
            "pattern": {
             "shape": ""
            }
           },
           "name": "P55",
           "orientation": "v",
           "showlegend": true,
           "textposition": "auto",
           "type": "bar",
           "x": {
            "bdata": "BA==",
            "dtype": "i1"
           },
           "xaxis": "x",
           "y": {
            "bdata": "zgE=",
            "dtype": "i2"
           },
           "yaxis": "y"
          },
          {
           "hovertemplate": "page2_clothing_model=C42<br>month=8<br>Main Category=%{x}<br>Total Price=%{y}<extra></extra>",
           "ids": {
            "bdata": "Aw==",
            "dtype": "i1"
           },
           "legendgroup": "C42",
           "marker": {
            "color": "#FF6692",
            "pattern": {
             "shape": ""
            }
           },
           "name": "C42",
           "orientation": "v",
           "showlegend": true,
           "textposition": "auto",
           "type": "bar",
           "x": {
            "bdata": "Aw==",
            "dtype": "i1"
           },
           "xaxis": "x",
           "y": {
            "bdata": "wAE=",
            "dtype": "i2"
           },
           "yaxis": "y"
          },
          {
           "hovertemplate": "page2_clothing_model=P20<br>month=8<br>Main Category=%{x}<br>Total Price=%{y}<extra></extra>",
           "ids": {
            "bdata": "BA==",
            "dtype": "i1"
           },
           "legendgroup": "P20",
           "marker": {
            "color": "#B6E880",
            "pattern": {
             "shape": ""
            }
           },
           "name": "P20",
           "orientation": "v",
           "showlegend": true,
           "textposition": "auto",
           "type": "bar",
           "x": {
            "bdata": "BA==",
            "dtype": "i1"
           },
           "xaxis": "x",
           "y": {
            "bdata": "4wE=",
            "dtype": "i2"
           },
           "yaxis": "y"
          },
          {
           "hovertemplate": "page2_clothing_model=A39<br>month=8<br>Main Category=%{x}<br>Total Price=%{y}<extra></extra>",
           "ids": {
            "bdata": "AQ==",
            "dtype": "i1"
           },
           "legendgroup": "A39",
           "marker": {
            "color": "#FF97FF",
            "pattern": {
             "shape": ""
            }
           },
           "name": "A39",
           "orientation": "v",
           "showlegend": true,
           "textposition": "auto",
           "type": "bar",
           "x": {
            "bdata": "AQ==",
            "dtype": "i1"
           },
           "xaxis": "x",
           "y": {
            "bdata": "Kgg=",
            "dtype": "i2"
           },
           "yaxis": "y"
          },
          {
           "hovertemplate": "page2_clothing_model=A35<br>month=8<br>Main Category=%{x}<br>Total Price=%{y}<extra></extra>",
           "ids": {
            "bdata": "AQ==",
            "dtype": "i1"
           },
           "legendgroup": "A35",
           "marker": {
            "color": "#FECB52",
            "pattern": {
             "shape": ""
            }
           },
           "name": "A35",
           "orientation": "v",
           "showlegend": true,
           "textposition": "auto",
           "type": "bar",
           "x": {
            "bdata": "AQ==",
            "dtype": "i1"
           },
           "xaxis": "x",
           "y": {
            "bdata": "jAE=",
            "dtype": "i2"
           },
           "yaxis": "y"
          },
          {
           "hovertemplate": "page2_clothing_model=A40<br>month=8<br>Main Category=%{x}<br>Total Price=%{y}<extra></extra>",
           "ids": {
            "bdata": "AQ==",
            "dtype": "i1"
           },
           "legendgroup": "A40",
           "marker": {
            "color": "#636efa",
            "pattern": {
             "shape": ""
            }
           },
           "name": "A40",
           "orientation": "v",
           "showlegend": true,
           "textposition": "auto",
           "type": "bar",
           "x": {
            "bdata": "AQ==",
            "dtype": "i1"
           },
           "xaxis": "x",
           "y": {
            "bdata": "HgM=",
            "dtype": "i2"
           },
           "yaxis": "y"
          },
          {
           "hovertemplate": "page2_clothing_model=C3<br>month=8<br>Main Category=%{x}<br>Total Price=%{y}<extra></extra>",
           "ids": {
            "bdata": "Aw==",
            "dtype": "i1"
           },
           "legendgroup": "C3",
           "marker": {
            "color": "#EF553B",
            "pattern": {
             "shape": ""
            }
           },
           "name": "C3",
           "orientation": "v",
           "showlegend": true,
           "textposition": "auto",
           "type": "bar",
           "x": {
            "bdata": "Aw==",
            "dtype": "i1"
           },
           "xaxis": "x",
           "y": {
            "bdata": "4AI=",
            "dtype": "i2"
           },
           "yaxis": "y"
          },
          {
           "hovertemplate": "page2_clothing_model=C15<br>month=8<br>Main Category=%{x}<br>Total Price=%{y}<extra></extra>",
           "ids": {
            "bdata": "Aw==",
            "dtype": "i1"
           },
           "legendgroup": "C15",
           "marker": {
            "color": "#00cc96",
            "pattern": {
             "shape": ""
            }
           },
           "name": "C15",
           "orientation": "v",
           "showlegend": true,
           "textposition": "auto",
           "type": "bar",
           "x": {
            "bdata": "Aw==",
            "dtype": "i1"
           },
           "xaxis": "x",
           "y": {
            "bdata": "WgM=",
            "dtype": "i2"
           },
           "yaxis": "y"
          },
          {
           "hovertemplate": "page2_clothing_model=A25<br>month=8<br>Main Category=%{x}<br>Total Price=%{y}<extra></extra>",
           "ids": {
            "bdata": "AQ==",
            "dtype": "i1"
           },
           "legendgroup": "A25",
           "marker": {
            "color": "#ab63fa",
            "pattern": {
             "shape": ""
            }
           },
           "name": "A25",
           "orientation": "v",
           "showlegend": true,
           "textposition": "auto",
           "type": "bar",
           "x": {
            "bdata": "AQ==",
            "dtype": "i1"
           },
           "xaxis": "x",
           "y": {
            "bdata": "5AA=",
            "dtype": "i2"
           },
           "yaxis": "y"
          },
          {
           "hovertemplate": "page2_clothing_model=P7<br>month=8<br>Main Category=%{x}<br>Total Price=%{y}<extra></extra>",
           "ids": {
            "bdata": "BA==",
            "dtype": "i1"
           },
           "legendgroup": "P7",
           "marker": {
            "color": "#FFA15A",
            "pattern": {
             "shape": ""
            }
           },
           "name": "P7",
           "orientation": "v",
           "showlegend": true,
           "textposition": "auto",
           "type": "bar",
           "x": {
            "bdata": "BA==",
            "dtype": "i1"
           },
           "xaxis": "x",
           "y": {
            "bdata": "6AU=",
            "dtype": "i2"
           },
           "yaxis": "y"
          },
          {
           "hovertemplate": "page2_clothing_model=C50<br>month=8<br>Main Category=%{x}<br>Total Price=%{y}<extra></extra>",
           "ids": {
            "bdata": "Aw==",
            "dtype": "i1"
           },
           "legendgroup": "C50",
           "marker": {
            "color": "#19d3f3",
            "pattern": {
             "shape": ""
            }
           },
           "name": "C50",
           "orientation": "v",
           "showlegend": true,
           "textposition": "auto",
           "type": "bar",
           "x": {
            "bdata": "Aw==",
            "dtype": "i1"
           },
           "xaxis": "x",
           "y": {
            "bdata": "PAU=",
            "dtype": "i2"
           },
           "yaxis": "y"
          },
          {
           "hovertemplate": "page2_clothing_model=P29<br>month=8<br>Main Category=%{x}<br>Total Price=%{y}<extra></extra>",
           "ids": {
            "bdata": "BA==",
            "dtype": "i1"
           },
           "legendgroup": "P29",
           "marker": {
            "color": "#FF6692",
            "pattern": {
             "shape": ""
            }
           },
           "name": "P29",
           "orientation": "v",
           "showlegend": true,
           "textposition": "auto",
           "type": "bar",
           "x": {
            "bdata": "BA==",
            "dtype": "i1"
           },
           "xaxis": "x",
           "y": {
            "bdata": "kwY=",
            "dtype": "i2"
           },
           "yaxis": "y"
          },
          {
           "hovertemplate": "page2_clothing_model=P9<br>month=8<br>Main Category=%{x}<br>Total Price=%{y}<extra></extra>",
           "ids": {
            "bdata": "BA==",
            "dtype": "i1"
           },
           "legendgroup": "P9",
           "marker": {
            "color": "#B6E880",
            "pattern": {
             "shape": ""
            }
           },
           "name": "P9",
           "orientation": "v",
           "showlegend": true,
           "textposition": "auto",
           "type": "bar",
           "x": {
            "bdata": "BA==",
            "dtype": "i1"
           },
           "xaxis": "x",
           "y": {
            "bdata": "kgU=",
            "dtype": "i2"
           },
           "yaxis": "y"
          },
          {
           "hovertemplate": "page2_clothing_model=P56<br>month=8<br>Main Category=%{x}<br>Total Price=%{y}<extra></extra>",
           "ids": {
            "bdata": "BA==",
            "dtype": "i1"
           },
           "legendgroup": "P56",
           "marker": {
            "color": "#FF97FF",
            "pattern": {
             "shape": ""
            }
           },
           "name": "P56",
           "orientation": "v",
           "showlegend": true,
           "textposition": "auto",
           "type": "bar",
           "x": {
            "bdata": "BA==",
            "dtype": "i1"
           },
           "xaxis": "x",
           "y": {
            "bdata": "EAI=",
            "dtype": "i2"
           },
           "yaxis": "y"
          },
          {
           "hovertemplate": "page2_clothing_model=C24<br>month=8<br>Main Category=%{x}<br>Total Price=%{y}<extra></extra>",
           "ids": {
            "bdata": "Aw==",
            "dtype": "i1"
           },
           "legendgroup": "C24",
           "marker": {
            "color": "#FECB52",
            "pattern": {
             "shape": ""
            }
           },
           "name": "C24",
           "orientation": "v",
           "showlegend": true,
           "textposition": "auto",
           "type": "bar",
           "x": {
            "bdata": "Aw==",
            "dtype": "i1"
           },
           "xaxis": "x",
           "y": {
            "bdata": "rAU=",
            "dtype": "i2"
           },
           "yaxis": "y"
          },
          {
           "hovertemplate": "page2_clothing_model=C26<br>month=8<br>Main Category=%{x}<br>Total Price=%{y}<extra></extra>",
           "ids": {
            "bdata": "Aw==",
            "dtype": "i1"
           },
           "legendgroup": "C26",
           "marker": {
            "color": "#636efa",
            "pattern": {
             "shape": ""
            }
           },
           "name": "C26",
           "orientation": "v",
           "showlegend": true,
           "textposition": "auto",
           "type": "bar",
           "x": {
            "bdata": "Aw==",
            "dtype": "i1"
           },
           "xaxis": "x",
           "y": {
            "bdata": "FAI=",
            "dtype": "i2"
           },
           "yaxis": "y"
          },
          {
           "hovertemplate": "page2_clothing_model=B20<br>month=8<br>Main Category=%{x}<br>Total Price=%{y}<extra></extra>",
           "ids": {
            "bdata": "Ag==",
            "dtype": "i1"
           },
           "legendgroup": "B20",
           "marker": {
            "color": "#EF553B",
            "pattern": {
             "shape": ""
            }
           },
           "name": "B20",
           "orientation": "v",
           "showlegend": true,
           "textposition": "auto",
           "type": "bar",
           "x": {
            "bdata": "Ag==",
            "dtype": "i1"
           },
           "xaxis": "x",
           "y": {
            "bdata": "YAU=",
            "dtype": "i2"
           },
           "yaxis": "y"
          },
          {
           "hovertemplate": "page2_clothing_model=C38<br>month=8<br>Main Category=%{x}<br>Total Price=%{y}<extra></extra>",
           "ids": {
            "bdata": "Aw==",
            "dtype": "i1"
           },
           "legendgroup": "C38",
           "marker": {
            "color": "#00cc96",
            "pattern": {
             "shape": ""
            }
           },
           "name": "C38",
           "orientation": "v",
           "showlegend": true,
           "textposition": "auto",
           "type": "bar",
           "x": {
            "bdata": "Aw==",
            "dtype": "i1"
           },
           "xaxis": "x",
           "y": {
            "bdata": "FAI=",
            "dtype": "i2"
           },
           "yaxis": "y"
          },
          {
           "hovertemplate": "page2_clothing_model=A23<br>month=8<br>Main Category=%{x}<br>Total Price=%{y}<extra></extra>",
           "ids": {
            "bdata": "AQ==",
            "dtype": "i1"
           },
           "legendgroup": "A23",
           "marker": {
            "color": "#ab63fa",
            "pattern": {
             "shape": ""
            }
           },
           "name": "A23",
           "orientation": "v",
           "showlegend": true,
           "textposition": "auto",
           "type": "bar",
           "x": {
            "bdata": "AQ==",
            "dtype": "i1"
           },
           "xaxis": "x",
           "y": {
            "bdata": "CAE=",
            "dtype": "i2"
           },
           "yaxis": "y"
          },
          {
           "hovertemplate": "page2_clothing_model=P18<br>month=8<br>Main Category=%{x}<br>Total Price=%{y}<extra></extra>",
           "ids": {
            "bdata": "BA==",
            "dtype": "i1"
           },
           "legendgroup": "P18",
           "marker": {
            "color": "#FFA15A",
            "pattern": {
             "shape": ""
            }
           },
           "name": "P18",
           "orientation": "v",
           "showlegend": true,
           "textposition": "auto",
           "type": "bar",
           "x": {
            "bdata": "BA==",
            "dtype": "i1"
           },
           "xaxis": "x",
           "y": {
            "bdata": "GAg=",
            "dtype": "i2"
           },
           "yaxis": "y"
          },
          {
           "hovertemplate": "page2_clothing_model=B33<br>month=8<br>Main Category=%{x}<br>Total Price=%{y}<extra></extra>",
           "ids": {
            "bdata": "Ag==",
            "dtype": "i1"
           },
           "legendgroup": "B33",
           "marker": {
            "color": "#19d3f3",
            "pattern": {
             "shape": ""
            }
           },
           "name": "B33",
           "orientation": "v",
           "showlegend": true,
           "textposition": "auto",
           "type": "bar",
           "x": {
            "bdata": "Ag==",
            "dtype": "i1"
           },
           "xaxis": "x",
           "y": {
            "bdata": "5gQ=",
            "dtype": "i2"
           },
           "yaxis": "y"
          },
          {
           "hovertemplate": "page2_clothing_model=A36<br>month=8<br>Main Category=%{x}<br>Total Price=%{y}<extra></extra>",
           "ids": {
            "bdata": "AQ==",
            "dtype": "i1"
           },
           "legendgroup": "A36",
           "marker": {
            "color": "#FF6692",
            "pattern": {
             "shape": ""
            }
           },
           "name": "A36",
           "orientation": "v",
           "showlegend": true,
           "textposition": "auto",
           "type": "bar",
           "x": {
            "bdata": "AQ==",
            "dtype": "i1"
           },
           "xaxis": "x",
           "y": {
            "bdata": "CAE=",
            "dtype": "i2"
           },
           "yaxis": "y"
          },
          {
           "hovertemplate": "page2_clothing_model=P61<br>month=8<br>Main Category=%{x}<br>Total Price=%{y}<extra></extra>",
           "ids": {
            "bdata": "BA==",
            "dtype": "i1"
           },
           "legendgroup": "P61",
           "marker": {
            "color": "#B6E880",
            "pattern": {
             "shape": ""
            }
           },
           "name": "P61",
           "orientation": "v",
           "showlegend": true,
           "textposition": "auto",
           "type": "bar",
           "x": {
            "bdata": "BA==",
            "dtype": "i1"
           },
           "xaxis": "x",
           "y": {
            "bdata": "nAM=",
            "dtype": "i2"
           },
           "yaxis": "y"
          },
          {
           "hovertemplate": "page2_clothing_model=C25<br>month=8<br>Main Category=%{x}<br>Total Price=%{y}<extra></extra>",
           "ids": {
            "bdata": "Aw==",
            "dtype": "i1"
           },
           "legendgroup": "C25",
           "marker": {
            "color": "#FF97FF",
            "pattern": {
             "shape": ""
            }
           },
           "name": "C25",
           "orientation": "v",
           "showlegend": true,
           "textposition": "auto",
           "type": "bar",
           "x": {
            "bdata": "Aw==",
            "dtype": "i1"
           },
           "xaxis": "x",
           "y": {
            "bdata": "KAU=",
            "dtype": "i2"
           },
           "yaxis": "y"
          },
          {
           "hovertemplate": "page2_clothing_model=C48<br>month=8<br>Main Category=%{x}<br>Total Price=%{y}<extra></extra>",
           "ids": {
            "bdata": "Aw==",
            "dtype": "i1"
           },
           "legendgroup": "C48",
           "marker": {
            "color": "#FECB52",
            "pattern": {
             "shape": ""
            }
           },
           "name": "C48",
           "orientation": "v",
           "showlegend": true,
           "textposition": "auto",
           "type": "bar",
           "x": {
            "bdata": "Aw==",
            "dtype": "i1"
           },
           "xaxis": "x",
           "y": {
            "bdata": "sAU=",
            "dtype": "i2"
           },
           "yaxis": "y"
          },
          {
           "hovertemplate": "page2_clothing_model=A19<br>month=8<br>Main Category=%{x}<br>Total Price=%{y}<extra></extra>",
           "ids": {
            "bdata": "AQ==",
            "dtype": "i1"
           },
           "legendgroup": "A19",
           "marker": {
            "color": "#636efa",
            "pattern": {
             "shape": ""
            }
           },
           "name": "A19",
           "orientation": "v",
           "showlegend": true,
           "textposition": "auto",
           "type": "bar",
           "x": {
            "bdata": "AQ==",
            "dtype": "i1"
           },
           "xaxis": "x",
           "y": {
            "bdata": "UgI=",
            "dtype": "i2"
           },
           "yaxis": "y"
          },
          {
           "hovertemplate": "page2_clothing_model=P72<br>month=8<br>Main Category=%{x}<br>Total Price=%{y}<extra></extra>",
           "ids": {
            "bdata": "BA==",
            "dtype": "i1"
           },
           "legendgroup": "P72",
           "marker": {
            "color": "#EF553B",
            "pattern": {
             "shape": ""
            }
           },
           "name": "P72",
           "orientation": "v",
           "showlegend": true,
           "textposition": "auto",
           "type": "bar",
           "x": {
            "bdata": "BA==",
            "dtype": "i1"
           },
           "xaxis": "x",
           "y": {
            "bdata": "UQY=",
            "dtype": "i2"
           },
           "yaxis": "y"
          },
          {
           "hovertemplate": "page2_clothing_model=P51<br>month=8<br>Main Category=%{x}<br>Total Price=%{y}<extra></extra>",
           "ids": {
            "bdata": "BA==",
            "dtype": "i1"
           },
           "legendgroup": "P51",
           "marker": {
            "color": "#00cc96",
            "pattern": {
             "shape": ""
            }
           },
           "name": "P51",
           "orientation": "v",
           "showlegend": true,
           "textposition": "auto",
           "type": "bar",
           "x": {
            "bdata": "BA==",
            "dtype": "i1"
           },
           "xaxis": "x",
           "y": {
            "bdata": "NAE=",
            "dtype": "i2"
           },
           "yaxis": "y"
          },
          {
           "hovertemplate": "page2_clothing_model=C31<br>month=8<br>Main Category=%{x}<br>Total Price=%{y}<extra></extra>",
           "ids": {
            "bdata": "Aw==",
            "dtype": "i1"
           },
           "legendgroup": "C31",
           "marker": {
            "color": "#ab63fa",
            "pattern": {
             "shape": ""
            }
           },
           "name": "C31",
           "orientation": "v",
           "showlegend": true,
           "textposition": "auto",
           "type": "bar",
           "x": {
            "bdata": "Aw==",
            "dtype": "i1"
           },
           "xaxis": "x",
           "y": {
            "bdata": "EAI=",
            "dtype": "i2"
           },
           "yaxis": "y"
          },
          {
           "hovertemplate": "page2_clothing_model=C51<br>month=8<br>Main Category=%{x}<br>Total Price=%{y}<extra></extra>",
           "ids": {
            "bdata": "Aw==",
            "dtype": "i1"
           },
           "legendgroup": "C51",
           "marker": {
            "color": "#FFA15A",
            "pattern": {
             "shape": ""
            }
           },
           "name": "C51",
           "orientation": "v",
           "showlegend": true,
           "textposition": "auto",
           "type": "bar",
           "x": {
            "bdata": "Aw==",
            "dtype": "i1"
           },
           "xaxis": "x",
           "y": {
            "bdata": "qAI=",
            "dtype": "i2"
           },
           "yaxis": "y"
          },
          {
           "hovertemplate": "page2_clothing_model=C32<br>month=8<br>Main Category=%{x}<br>Total Price=%{y}<extra></extra>",
           "ids": {
            "bdata": "Aw==",
            "dtype": "i1"
           },
           "legendgroup": "C32",
           "marker": {
            "color": "#19d3f3",
            "pattern": {
             "shape": ""
            }
           },
           "name": "C32",
           "orientation": "v",
           "showlegend": true,
           "textposition": "auto",
           "type": "bar",
           "x": {
            "bdata": "Aw==",
            "dtype": "i1"
           },
           "xaxis": "x",
           "y": {
            "bdata": "UgI=",
            "dtype": "i2"
           },
           "yaxis": "y"
          },
          {
           "hovertemplate": "page2_clothing_model=P46<br>month=8<br>Main Category=%{x}<br>Total Price=%{y}<extra></extra>",
           "ids": {
            "bdata": "BA==",
            "dtype": "i1"
           },
           "legendgroup": "P46",
           "marker": {
            "color": "#FF6692",
            "pattern": {
             "shape": ""
            }
           },
           "name": "P46",
           "orientation": "v",
           "showlegend": true,
           "textposition": "auto",
           "type": "bar",
           "x": {
            "bdata": "BA==",
            "dtype": "i1"
           },
           "xaxis": "x",
           "y": {
            "bdata": "3AE=",
            "dtype": "i2"
           },
           "yaxis": "y"
          },
          {
           "hovertemplate": "page2_clothing_model=P38<br>month=8<br>Main Category=%{x}<br>Total Price=%{y}<extra></extra>",
           "ids": {
            "bdata": "BA==",
            "dtype": "i1"
           },
           "legendgroup": "P38",
           "marker": {
            "color": "#B6E880",
            "pattern": {
             "shape": ""
            }
           },
           "name": "P38",
           "orientation": "v",
           "showlegend": true,
           "textposition": "auto",
           "type": "bar",
           "x": {
            "bdata": "BA==",
            "dtype": "i1"
           },
           "xaxis": "x",
           "y": {
            "bdata": "MQI=",
            "dtype": "i2"
           },
           "yaxis": "y"
          },
          {
           "hovertemplate": "page2_clothing_model=P47<br>month=8<br>Main Category=%{x}<br>Total Price=%{y}<extra></extra>",
           "ids": {
            "bdata": "BA==",
            "dtype": "i1"
           },
           "legendgroup": "P47",
           "marker": {
            "color": "#FF97FF",
            "pattern": {
             "shape": ""
            }
           },
           "name": "P47",
           "orientation": "v",
           "showlegend": true,
           "textposition": "auto",
           "type": "bar",
           "x": {
            "bdata": "BA==",
            "dtype": "i1"
           },
           "xaxis": "x",
           "y": {
            "bdata": "UAE=",
            "dtype": "i2"
           },
           "yaxis": "y"
          },
          {
           "hovertemplate": "page2_clothing_model=P71<br>month=8<br>Main Category=%{x}<br>Total Price=%{y}<extra></extra>",
           "ids": {
            "bdata": "BA==",
            "dtype": "i1"
           },
           "legendgroup": "P71",
           "marker": {
            "color": "#FECB52",
            "pattern": {
             "shape": ""
            }
           },
           "name": "P71",
           "orientation": "v",
           "showlegend": true,
           "textposition": "auto",
           "type": "bar",
           "x": {
            "bdata": "BA==",
            "dtype": "i1"
           },
           "xaxis": "x",
           "y": {
            "bdata": "BwU=",
            "dtype": "i2"
           },
           "yaxis": "y"
          },
          {
           "hovertemplate": "page2_clothing_model=P30<br>month=8<br>Main Category=%{x}<br>Total Price=%{y}<extra></extra>",
           "ids": {
            "bdata": "BA==",
            "dtype": "i1"
           },
           "legendgroup": "P30",
           "marker": {
            "color": "#636efa",
            "pattern": {
             "shape": ""
            }
           },
           "name": "P30",
           "orientation": "v",
           "showlegend": true,
           "textposition": "auto",
           "type": "bar",
           "x": {
            "bdata": "BA==",
            "dtype": "i1"
           },
           "xaxis": "x",
           "y": {
            "bdata": "1gI=",
            "dtype": "i2"
           },
           "yaxis": "y"
          },
          {
           "hovertemplate": "page2_clothing_model=P74<br>month=8<br>Main Category=%{x}<br>Total Price=%{y}<extra></extra>",
           "ids": {
            "bdata": "BA==",
            "dtype": "i1"
           },
           "legendgroup": "P74",
           "marker": {
            "color": "#EF553B",
            "pattern": {
             "shape": ""
            }
           },
           "name": "P74",
           "orientation": "v",
           "showlegend": true,
           "textposition": "auto",
           "type": "bar",
           "x": {
            "bdata": "BA==",
            "dtype": "i1"
           },
           "xaxis": "x",
           "y": {
            "bdata": "3gM=",
            "dtype": "i2"
           },
           "yaxis": "y"
          },
          {
           "hovertemplate": "page2_clothing_model=P63<br>month=8<br>Main Category=%{x}<br>Total Price=%{y}<extra></extra>",
           "ids": {
            "bdata": "BA==",
            "dtype": "i1"
           },
           "legendgroup": "P63",
           "marker": {
            "color": "#00cc96",
            "pattern": {
             "shape": ""
            }
           },
           "name": "P63",
           "orientation": "v",
           "showlegend": true,
           "textposition": "auto",
           "type": "bar",
           "x": {
            "bdata": "BA==",
            "dtype": "i1"
           },
           "xaxis": "x",
           "y": {
            "bdata": "pAE=",
            "dtype": "i2"
           },
           "yaxis": "y"
          },
          {
           "hovertemplate": "page2_clothing_model=P42<br>month=8<br>Main Category=%{x}<br>Total Price=%{y}<extra></extra>",
           "ids": {
            "bdata": "BA==",
            "dtype": "i1"
           },
           "legendgroup": "P42",
           "marker": {
            "color": "#ab63fa",
            "pattern": {
             "shape": ""
            }
           },
           "name": "P42",
           "orientation": "v",
           "showlegend": true,
           "textposition": "auto",
           "type": "bar",
           "x": {
            "bdata": "BA==",
            "dtype": "i1"
           },
           "xaxis": "x",
           "y": {
            "bdata": "GAE=",
            "dtype": "i2"
           },
           "yaxis": "y"
          },
          {
           "hovertemplate": "page2_clothing_model=P21<br>month=8<br>Main Category=%{x}<br>Total Price=%{y}<extra></extra>",
           "ids": {
            "bdata": "BA==",
            "dtype": "i1"
           },
           "legendgroup": "P21",
           "marker": {
            "color": "#FFA15A",
            "pattern": {
             "shape": ""
            }
           },
           "name": "P21",
           "orientation": "v",
           "showlegend": true,
           "textposition": "auto",
           "type": "bar",
           "x": {
            "bdata": "BA==",
            "dtype": "i1"
           },
           "xaxis": "x",
           "y": {
            "bdata": "jAE=",
            "dtype": "i2"
           },
           "yaxis": "y"
          },
          {
           "hovertemplate": "page2_clothing_model=P44<br>month=8<br>Main Category=%{x}<br>Total Price=%{y}<extra></extra>",
           "ids": {
            "bdata": "BA==",
            "dtype": "i1"
           },
           "legendgroup": "P44",
           "marker": {
            "color": "#19d3f3",
            "pattern": {
             "shape": ""
            }
           },
           "name": "P44",
           "orientation": "v",
           "showlegend": true,
           "textposition": "auto",
           "type": "bar",
           "x": {
            "bdata": "BA==",
            "dtype": "i1"
           },
           "xaxis": "x",
           "y": {
            "bdata": "UAE=",
            "dtype": "i2"
           },
           "yaxis": "y"
          },
          {
           "hovertemplate": "page2_clothing_model=P75<br>month=8<br>Main Category=%{x}<br>Total Price=%{y}<extra></extra>",
           "ids": {
            "bdata": "BA==",
            "dtype": "i1"
           },
           "legendgroup": "P75",
           "marker": {
            "color": "#FF6692",
            "pattern": {
             "shape": ""
            }
           },
           "name": "P75",
           "orientation": "v",
           "showlegend": true,
           "textposition": "auto",
           "type": "bar",
           "x": {
            "bdata": "BA==",
            "dtype": "i1"
           },
           "xaxis": "x",
           "y": {
            "bdata": "awE=",
            "dtype": "i2"
           },
           "yaxis": "y"
          },
          {
           "hovertemplate": "page2_clothing_model=P27<br>month=8<br>Main Category=%{x}<br>Total Price=%{y}<extra></extra>",
           "ids": {
            "bdata": "BA==",
            "dtype": "i1"
           },
           "legendgroup": "P27",
           "marker": {
            "color": "#B6E880",
            "pattern": {
             "shape": ""
            }
           },
           "name": "P27",
           "orientation": "v",
           "showlegend": true,
           "textposition": "auto",
           "type": "bar",
           "x": {
            "bdata": "BA==",
            "dtype": "i1"
           },
           "xaxis": "x",
           "y": {
            "bdata": "MQI=",
            "dtype": "i2"
           },
           "yaxis": "y"
          },
          {
           "hovertemplate": "page2_clothing_model=C52<br>month=8<br>Main Category=%{x}<br>Total Price=%{y}<extra></extra>",
           "ids": {
            "bdata": "Aw==",
            "dtype": "i1"
           },
           "legendgroup": "C52",
           "marker": {
            "color": "#FF97FF",
            "pattern": {
             "shape": ""
            }
           },
           "name": "C52",
           "orientation": "v",
           "showlegend": true,
           "textposition": "auto",
           "type": "bar",
           "x": {
            "bdata": "Aw==",
            "dtype": "i1"
           },
           "xaxis": "x",
           "y": {
            "bdata": "YAI=",
            "dtype": "i2"
           },
           "yaxis": "y"
          },
          {
           "hovertemplate": "page2_clothing_model=P73<br>month=8<br>Main Category=%{x}<br>Total Price=%{y}<extra></extra>",
           "ids": {
            "bdata": "BA==",
            "dtype": "i1"
           },
           "legendgroup": "P73",
           "marker": {
            "color": "#FECB52",
            "pattern": {
             "shape": ""
            }
           },
           "name": "P73",
           "orientation": "v",
           "showlegend": true,
           "textposition": "auto",
           "type": "bar",
           "x": {
            "bdata": "BA==",
            "dtype": "i1"
           },
           "xaxis": "x",
           "y": {
            "bdata": "OQM=",
            "dtype": "i2"
           },
           "yaxis": "y"
          },
          {
           "hovertemplate": "page2_clothing_model=P80<br>month=8<br>Main Category=%{x}<br>Total Price=%{y}<extra></extra>",
           "ids": {
            "bdata": "BA==",
            "dtype": "i1"
           },
           "legendgroup": "P80",
           "marker": {
            "color": "#636efa",
            "pattern": {
             "shape": ""
            }
           },
           "name": "P80",
           "orientation": "v",
           "showlegend": true,
           "textposition": "auto",
           "type": "bar",
           "x": {
            "bdata": "BA==",
            "dtype": "i1"
           },
           "xaxis": "x",
           "y": {
            "bdata": "/AA=",
            "dtype": "i2"
           },
           "yaxis": "y"
          },
          {
           "hovertemplate": "page2_clothing_model=P35<br>month=8<br>Main Category=%{x}<br>Total Price=%{y}<extra></extra>",
           "ids": {
            "bdata": "BA==",
            "dtype": "i1"
           },
           "legendgroup": "P35",
           "marker": {
            "color": "#EF553B",
            "pattern": {
             "shape": ""
            }
           },
           "name": "P35",
           "orientation": "v",
           "showlegend": true,
           "textposition": "auto",
           "type": "bar",
           "x": {
            "bdata": "BA==",
            "dtype": "i1"
           },
           "xaxis": "x",
           "y": {
            "bdata": "SAM=",
            "dtype": "i2"
           },
           "yaxis": "y"
          },
          {
           "hovertemplate": "page2_clothing_model=P52<br>month=8<br>Main Category=%{x}<br>Total Price=%{y}<extra></extra>",
           "ids": {
            "bdata": "BA==",
            "dtype": "i1"
           },
           "legendgroup": "P52",
           "marker": {
            "color": "#00cc96",
            "pattern": {
             "shape": ""
            }
           },
           "name": "P52",
           "orientation": "v",
           "showlegend": true,
           "textposition": "auto",
           "type": "bar",
           "x": {
            "bdata": "BA==",
            "dtype": "i1"
           },
           "xaxis": "x",
           "y": {
            "bdata": "QgE=",
            "dtype": "i2"
           },
           "yaxis": "y"
          },
          {
           "hovertemplate": "page2_clothing_model=C47<br>month=8<br>Main Category=%{x}<br>Total Price=%{y}<extra></extra>",
           "ids": {
            "bdata": "Aw==",
            "dtype": "i1"
           },
           "legendgroup": "C47",
           "marker": {
            "color": "#ab63fa",
            "pattern": {
             "shape": ""
            }
           },
           "name": "C47",
           "orientation": "v",
           "showlegend": true,
           "textposition": "auto",
           "type": "bar",
           "x": {
            "bdata": "Aw==",
            "dtype": "i1"
           },
           "xaxis": "x",
           "y": {
            "bdata": "HAI=",
            "dtype": "i2"
           },
           "yaxis": "y"
          },
          {
           "hovertemplate": "page2_clothing_model=P62<br>month=8<br>Main Category=%{x}<br>Total Price=%{y}<extra></extra>",
           "ids": {
            "bdata": "BA==",
            "dtype": "i1"
           },
           "legendgroup": "P62",
           "marker": {
            "color": "#FFA15A",
            "pattern": {
             "shape": ""
            }
           },
           "name": "P62",
           "orientation": "v",
           "showlegend": true,
           "textposition": "auto",
           "type": "bar",
           "x": {
            "bdata": "BA==",
            "dtype": "i1"
           },
           "xaxis": "x",
           "y": {
            "bdata": "EAI=",
            "dtype": "i2"
           },
           "yaxis": "y"
          },
          {
           "hovertemplate": "page2_clothing_model=P45<br>month=8<br>Main Category=%{x}<br>Total Price=%{y}<extra></extra>",
           "ids": {
            "bdata": "BA==",
            "dtype": "i1"
           },
           "legendgroup": "P45",
           "marker": {
            "color": "#19d3f3",
            "pattern": {
             "shape": ""
            }
           },
           "name": "P45",
           "orientation": "v",
           "showlegend": true,
           "textposition": "auto",
           "type": "bar",
           "x": {
            "bdata": "BA==",
            "dtype": "i1"
           },
           "xaxis": "x",
           "y": {
            "bdata": "7wE=",
            "dtype": "i2"
           },
           "yaxis": "y"
          },
          {
           "hovertemplate": "page2_clothing_model=C43<br>month=8<br>Main Category=%{x}<br>Total Price=%{y}<extra></extra>",
           "ids": {
            "bdata": "Aw==",
            "dtype": "i1"
           },
           "legendgroup": "C43",
           "marker": {
            "color": "#FF6692",
            "pattern": {
             "shape": ""
            }
           },
           "name": "C43",
           "orientation": "v",
           "showlegend": true,
           "textposition": "auto",
           "type": "bar",
           "x": {
            "bdata": "Aw==",
            "dtype": "i1"
           },
           "xaxis": "x",
           "y": {
            "bdata": "3AE=",
            "dtype": "i2"
           },
           "yaxis": "y"
          },
          {
           "hovertemplate": "page2_clothing_model=P64<br>month=8<br>Main Category=%{x}<br>Total Price=%{y}<extra></extra>",
           "ids": {
            "bdata": "BA==",
            "dtype": "i1"
           },
           "legendgroup": "P64",
           "marker": {
            "color": "#B6E880",
            "pattern": {
             "shape": ""
            }
           },
           "name": "P64",
           "orientation": "v",
           "showlegend": true,
           "textposition": "auto",
           "type": "bar",
           "x": {
            "bdata": "BA==",
            "dtype": "i1"
           },
           "xaxis": "x",
           "y": {
            "bdata": "NAE=",
            "dtype": "i2"
           },
           "yaxis": "y"
          },
          {
           "hovertemplate": "page2_clothing_model=P31<br>month=8<br>Main Category=%{x}<br>Total Price=%{y}<extra></extra>",
           "ids": {
            "bdata": "BA==",
            "dtype": "i1"
           },
           "legendgroup": "P31",
           "marker": {
            "color": "#FF97FF",
            "pattern": {
             "shape": ""
            }
           },
           "name": "P31",
           "orientation": "v",
           "showlegend": true,
           "textposition": "auto",
           "type": "bar",
           "x": {
            "bdata": "BA==",
            "dtype": "i1"
           },
           "xaxis": "x",
           "y": {
            "bdata": "zgE=",
            "dtype": "i2"
           },
           "yaxis": "y"
          }
         ],
         "name": "8"
        }
       ],
       "layout": {
        "barmode": "relative",
        "height": 600,
        "legend": {
         "title": {
          "text": "page2_clothing_model"
         },
         "tracegroupgap": 0
        },
        "sliders": [
         {
          "active": 0,
          "currentvalue": {
           "prefix": "month="
          },
          "len": 0.9,
          "pad": {
           "b": 10,
           "t": 60
          },
          "steps": [
           {
            "args": [
             [
              "7"
             ],
             {
              "frame": {
               "duration": 0,
               "redraw": true
              },
              "fromcurrent": true,
              "mode": "immediate",
              "transition": {
               "duration": 0,
               "easing": "linear"
              }
             }
            ],
            "label": "7",
            "method": "animate"
           },
           {
            "args": [
             [
              "4"
             ],
             {
              "frame": {
               "duration": 0,
               "redraw": true
              },
              "fromcurrent": true,
              "mode": "immediate",
              "transition": {
               "duration": 0,
               "easing": "linear"
              }
             }
            ],
            "label": "4",
            "method": "animate"
           },
           {
            "args": [
             [
              "5"
             ],
             {
              "frame": {
               "duration": 0,
               "redraw": true
              },
              "fromcurrent": true,
              "mode": "immediate",
              "transition": {
               "duration": 0,
               "easing": "linear"
              }
             }
            ],
            "label": "5",
            "method": "animate"
           },
           {
            "args": [
             [
              "6"
             ],
             {
              "frame": {
               "duration": 0,
               "redraw": true
              },
              "fromcurrent": true,
              "mode": "immediate",
              "transition": {
               "duration": 0,
               "easing": "linear"
              }
             }
            ],
            "label": "6",
            "method": "animate"
           },
           {
            "args": [
             [
              "8"
             ],
             {
              "frame": {
               "duration": 0,
               "redraw": true
              },
              "fromcurrent": true,
              "mode": "immediate",
              "transition": {
               "duration": 0,
               "easing": "linear"
              }
             }
            ],
            "label": "8",
            "method": "animate"
           }
          ],
          "x": 0.1,
          "xanchor": "left",
          "y": 0,
          "yanchor": "top"
         }
        ],
        "template": {
         "data": {
          "bar": [
           {
            "error_x": {
             "color": "#2a3f5f"
            },
            "error_y": {
             "color": "#2a3f5f"
            },
            "marker": {
             "line": {
              "color": "#E5ECF6",
              "width": 0.5
             },
             "pattern": {
              "fillmode": "overlay",
              "size": 10,
              "solidity": 0.2
             }
            },
            "type": "bar"
           }
          ],
          "barpolar": [
           {
            "marker": {
             "line": {
              "color": "#E5ECF6",
              "width": 0.5
             },
             "pattern": {
              "fillmode": "overlay",
              "size": 10,
              "solidity": 0.2
             }
            },
            "type": "barpolar"
           }
          ],
          "carpet": [
           {
            "aaxis": {
             "endlinecolor": "#2a3f5f",
             "gridcolor": "white",
             "linecolor": "white",
             "minorgridcolor": "white",
             "startlinecolor": "#2a3f5f"
            },
            "baxis": {
             "endlinecolor": "#2a3f5f",
             "gridcolor": "white",
             "linecolor": "white",
             "minorgridcolor": "white",
             "startlinecolor": "#2a3f5f"
            },
            "type": "carpet"
           }
          ],
          "choropleth": [
           {
            "colorbar": {
             "outlinewidth": 0,
             "ticks": ""
            },
            "type": "choropleth"
           }
          ],
          "contour": [
           {
            "colorbar": {
             "outlinewidth": 0,
             "ticks": ""
            },
            "colorscale": [
             [
              0,
              "#0d0887"
             ],
             [
              0.1111111111111111,
              "#46039f"
             ],
             [
              0.2222222222222222,
              "#7201a8"
             ],
             [
              0.3333333333333333,
              "#9c179e"
             ],
             [
              0.4444444444444444,
              "#bd3786"
             ],
             [
              0.5555555555555556,
              "#d8576b"
             ],
             [
              0.6666666666666666,
              "#ed7953"
             ],
             [
              0.7777777777777778,
              "#fb9f3a"
             ],
             [
              0.8888888888888888,
              "#fdca26"
             ],
             [
              1,
              "#f0f921"
             ]
            ],
            "type": "contour"
           }
          ],
          "contourcarpet": [
           {
            "colorbar": {
             "outlinewidth": 0,
             "ticks": ""
            },
            "type": "contourcarpet"
           }
          ],
          "heatmap": [
           {
            "colorbar": {
             "outlinewidth": 0,
             "ticks": ""
            },
            "colorscale": [
             [
              0,
              "#0d0887"
             ],
             [
              0.1111111111111111,
              "#46039f"
             ],
             [
              0.2222222222222222,
              "#7201a8"
             ],
             [
              0.3333333333333333,
              "#9c179e"
             ],
             [
              0.4444444444444444,
              "#bd3786"
             ],
             [
              0.5555555555555556,
              "#d8576b"
             ],
             [
              0.6666666666666666,
              "#ed7953"
             ],
             [
              0.7777777777777778,
              "#fb9f3a"
             ],
             [
              0.8888888888888888,
              "#fdca26"
             ],
             [
              1,
              "#f0f921"
             ]
            ],
            "type": "heatmap"
           }
          ],
          "histogram": [
           {
            "marker": {
             "pattern": {
              "fillmode": "overlay",
              "size": 10,
              "solidity": 0.2
             }
            },
            "type": "histogram"
           }
          ],
          "histogram2d": [
           {
            "colorbar": {
             "outlinewidth": 0,
             "ticks": ""
            },
            "colorscale": [
             [
              0,
              "#0d0887"
             ],
             [
              0.1111111111111111,
              "#46039f"
             ],
             [
              0.2222222222222222,
              "#7201a8"
             ],
             [
              0.3333333333333333,
              "#9c179e"
             ],
             [
              0.4444444444444444,
              "#bd3786"
             ],
             [
              0.5555555555555556,
              "#d8576b"
             ],
             [
              0.6666666666666666,
              "#ed7953"
             ],
             [
              0.7777777777777778,
              "#fb9f3a"
             ],
             [
              0.8888888888888888,
              "#fdca26"
             ],
             [
              1,
              "#f0f921"
             ]
            ],
            "type": "histogram2d"
           }
          ],
          "histogram2dcontour": [
           {
            "colorbar": {
             "outlinewidth": 0,
             "ticks": ""
            },
            "colorscale": [
             [
              0,
              "#0d0887"
             ],
             [
              0.1111111111111111,
              "#46039f"
             ],
             [
              0.2222222222222222,
              "#7201a8"
             ],
             [
              0.3333333333333333,
              "#9c179e"
             ],
             [
              0.4444444444444444,
              "#bd3786"
             ],
             [
              0.5555555555555556,
              "#d8576b"
             ],
             [
              0.6666666666666666,
              "#ed7953"
             ],
             [
              0.7777777777777778,
              "#fb9f3a"
             ],
             [
              0.8888888888888888,
              "#fdca26"
             ],
             [
              1,
              "#f0f921"
             ]
            ],
            "type": "histogram2dcontour"
           }
          ],
          "mesh3d": [
           {
            "colorbar": {
             "outlinewidth": 0,
             "ticks": ""
            },
            "type": "mesh3d"
           }
          ],
          "parcoords": [
           {
            "line": {
             "colorbar": {
              "outlinewidth": 0,
              "ticks": ""
             }
            },
            "type": "parcoords"
           }
          ],
          "pie": [
           {
            "automargin": true,
            "type": "pie"
           }
          ],
          "scatter": [
           {
            "fillpattern": {
             "fillmode": "overlay",
             "size": 10,
             "solidity": 0.2
            },
            "type": "scatter"
           }
          ],
          "scatter3d": [
           {
            "line": {
             "colorbar": {
              "outlinewidth": 0,
              "ticks": ""
             }
            },
            "marker": {
             "colorbar": {
              "outlinewidth": 0,
              "ticks": ""
             }
            },
            "type": "scatter3d"
           }
          ],
          "scattercarpet": [
           {
            "marker": {
             "colorbar": {
              "outlinewidth": 0,
              "ticks": ""
             }
            },
            "type": "scattercarpet"
           }
          ],
          "scattergeo": [
           {
            "marker": {
             "colorbar": {
              "outlinewidth": 0,
              "ticks": ""
             }
            },
            "type": "scattergeo"
           }
          ],
          "scattergl": [
           {
            "marker": {
             "colorbar": {
              "outlinewidth": 0,
              "ticks": ""
             }
            },
            "type": "scattergl"
           }
          ],
          "scattermap": [
           {
            "marker": {
             "colorbar": {
              "outlinewidth": 0,
              "ticks": ""
             }
            },
            "type": "scattermap"
           }
          ],
          "scattermapbox": [
           {
            "marker": {
             "colorbar": {
              "outlinewidth": 0,
              "ticks": ""
             }
            },
            "type": "scattermapbox"
           }
          ],
          "scatterpolar": [
           {
            "marker": {
             "colorbar": {
              "outlinewidth": 0,
              "ticks": ""
             }
            },
            "type": "scatterpolar"
           }
          ],
          "scatterpolargl": [
           {
            "marker": {
             "colorbar": {
              "outlinewidth": 0,
              "ticks": ""
             }
            },
            "type": "scatterpolargl"
           }
          ],
          "scatterternary": [
           {
            "marker": {
             "colorbar": {
              "outlinewidth": 0,
              "ticks": ""
             }
            },
            "type": "scatterternary"
           }
          ],
          "surface": [
           {
            "colorbar": {
             "outlinewidth": 0,
             "ticks": ""
            },
            "colorscale": [
             [
              0,
              "#0d0887"
             ],
             [
              0.1111111111111111,
              "#46039f"
             ],
             [
              0.2222222222222222,
              "#7201a8"
             ],
             [
              0.3333333333333333,
              "#9c179e"
             ],
             [
              0.4444444444444444,
              "#bd3786"
             ],
             [
              0.5555555555555556,
              "#d8576b"
             ],
             [
              0.6666666666666666,
              "#ed7953"
             ],
             [
              0.7777777777777778,
              "#fb9f3a"
             ],
             [
              0.8888888888888888,
              "#fdca26"
             ],
             [
              1,
              "#f0f921"
             ]
            ],
            "type": "surface"
           }
          ],
          "table": [
           {
            "cells": {
             "fill": {
              "color": "#EBF0F8"
             },
             "line": {
              "color": "white"
             }
            },
            "header": {
             "fill": {
              "color": "#C8D4E3"
             },
             "line": {
              "color": "white"
             }
            },
            "type": "table"
           }
          ]
         },
         "layout": {
          "annotationdefaults": {
           "arrowcolor": "#2a3f5f",
           "arrowhead": 0,
           "arrowwidth": 1
          },
          "autotypenumbers": "strict",
          "coloraxis": {
           "colorbar": {
            "outlinewidth": 0,
            "ticks": ""
           }
          },
          "colorscale": {
           "diverging": [
            [
             0,
             "#8e0152"
            ],
            [
             0.1,
             "#c51b7d"
            ],
            [
             0.2,
             "#de77ae"
            ],
            [
             0.3,
             "#f1b6da"
            ],
            [
             0.4,
             "#fde0ef"
            ],
            [
             0.5,
             "#f7f7f7"
            ],
            [
             0.6,
             "#e6f5d0"
            ],
            [
             0.7,
             "#b8e186"
            ],
            [
             0.8,
             "#7fbc41"
            ],
            [
             0.9,
             "#4d9221"
            ],
            [
             1,
             "#276419"
            ]
           ],
           "sequential": [
            [
             0,
             "#0d0887"
            ],
            [
             0.1111111111111111,
             "#46039f"
            ],
            [
             0.2222222222222222,
             "#7201a8"
            ],
            [
             0.3333333333333333,
             "#9c179e"
            ],
            [
             0.4444444444444444,
             "#bd3786"
            ],
            [
             0.5555555555555556,
             "#d8576b"
            ],
            [
             0.6666666666666666,
             "#ed7953"
            ],
            [
             0.7777777777777778,
             "#fb9f3a"
            ],
            [
             0.8888888888888888,
             "#fdca26"
            ],
            [
             1,
             "#f0f921"
            ]
           ],
           "sequentialminus": [
            [
             0,
             "#0d0887"
            ],
            [
             0.1111111111111111,
             "#46039f"
            ],
            [
             0.2222222222222222,
             "#7201a8"
            ],
            [
             0.3333333333333333,
             "#9c179e"
            ],
            [
             0.4444444444444444,
             "#bd3786"
            ],
            [
             0.5555555555555556,
             "#d8576b"
            ],
            [
             0.6666666666666666,
             "#ed7953"
            ],
            [
             0.7777777777777778,
             "#fb9f3a"
            ],
            [
             0.8888888888888888,
             "#fdca26"
            ],
            [
             1,
             "#f0f921"
            ]
           ]
          },
          "colorway": [
           "#636efa",
           "#EF553B",
           "#00cc96",
           "#ab63fa",
           "#FFA15A",
           "#19d3f3",
           "#FF6692",
           "#B6E880",
           "#FF97FF",
           "#FECB52"
          ],
          "font": {
           "color": "#2a3f5f"
          },
          "geo": {
           "bgcolor": "white",
           "lakecolor": "white",
           "landcolor": "#E5ECF6",
           "showlakes": true,
           "showland": true,
           "subunitcolor": "white"
          },
          "hoverlabel": {
           "align": "left"
          },
          "hovermode": "closest",
          "mapbox": {
           "style": "light"
          },
          "paper_bgcolor": "white",
          "plot_bgcolor": "#E5ECF6",
          "polar": {
           "angularaxis": {
            "gridcolor": "white",
            "linecolor": "white",
            "ticks": ""
           },
           "bgcolor": "#E5ECF6",
           "radialaxis": {
            "gridcolor": "white",
            "linecolor": "white",
            "ticks": ""
           }
          },
          "scene": {
           "xaxis": {
            "backgroundcolor": "#E5ECF6",
            "gridcolor": "white",
            "gridwidth": 2,
            "linecolor": "white",
            "showbackground": true,
            "ticks": "",
            "zerolinecolor": "white"
           },
           "yaxis": {
            "backgroundcolor": "#E5ECF6",
            "gridcolor": "white",
            "gridwidth": 2,
            "linecolor": "white",
            "showbackground": true,
            "ticks": "",
            "zerolinecolor": "white"
           },
           "zaxis": {
            "backgroundcolor": "#E5ECF6",
            "gridcolor": "white",
            "gridwidth": 2,
            "linecolor": "white",
            "showbackground": true,
            "ticks": "",
            "zerolinecolor": "white"
           }
          },
          "shapedefaults": {
           "line": {
            "color": "#2a3f5f"
           }
          },
          "ternary": {
           "aaxis": {
            "gridcolor": "white",
            "linecolor": "white",
            "ticks": ""
           },
           "baxis": {
            "gridcolor": "white",
            "linecolor": "white",
            "ticks": ""
           },
           "bgcolor": "#E5ECF6",
           "caxis": {
            "gridcolor": "white",
            "linecolor": "white",
            "ticks": ""
           }
          },
          "title": {
           "x": 0.05
          },
          "xaxis": {
           "automargin": true,
           "gridcolor": "white",
           "linecolor": "white",
           "ticks": "",
           "title": {
            "standoff": 15
           },
           "zerolinecolor": "white",
           "zerolinewidth": 2
          },
          "yaxis": {
           "automargin": true,
           "gridcolor": "white",
           "linecolor": "white",
           "ticks": "",
           "title": {
            "standoff": 15
           },
           "zerolinecolor": "white",
           "zerolinewidth": 2
          }
         }
        },
        "title": {
         "text": "most selling models in each categories"
        },
        "updatemenus": [
         {
          "buttons": [
           {
            "args": [
             null,
             {
              "frame": {
               "duration": 500,
               "redraw": true
              },
              "fromcurrent": true,
              "mode": "immediate",
              "transition": {
               "duration": 500,
               "easing": "linear"
              }
             }
            ],
            "label": "&#9654;",
            "method": "animate"
           },
           {
            "args": [
             [
              null
             ],
             {
              "frame": {
               "duration": 0,
               "redraw": true
              },
              "fromcurrent": true,
              "mode": "immediate",
              "transition": {
               "duration": 0,
               "easing": "linear"
              }
             }
            ],
            "label": "&#9724;",
            "method": "animate"
           }
          ],
          "direction": "left",
          "pad": {
           "r": 10,
           "t": 70
          },
          "showactive": false,
          "type": "buttons",
          "x": 0.1,
          "xanchor": "right",
          "y": 0,
          "yanchor": "top"
         }
        ],
        "xaxis": {
         "anchor": "y",
         "domain": [
          0,
          1
         ],
         "title": {
          "text": "Main Category"
         }
        },
        "yaxis": {
         "anchor": "x",
         "domain": [
          0,
          1
         ],
         "title": {
          "text": "Total Price"
         }
        }
       }
      }
     },
     "metadata": {},
     "output_type": "display_data"
    }
   ],
   "source": [
    "fig = px.bar(\n",
    "    mine_df,\n",
    "    x = 'page1_main_category',\n",
    "    y = 'price',\n",
    "    color= 'page2_clothing_model',\n",
    "    title= 'most selling models in each categories',\n",
    "    labels= {\n",
    "        'price' : 'Total Price',\n",
    "        'page1_main_category' : 'Main Category' \n",
    "    },\n",
    "    animation_frame='month',\n",
    "    animation_group='page1_main_category',\n",
    "    height= 600\n",
    ")\n",
    "fig.layout.updatemenus[0].buttons[0].args[1]['frame']['duration'] = 500\n",
    "\n",
    "fig.show()"
   ]
  }
 ],
 "metadata": {
  "kernelspec": {
   "display_name": "clickstream_venv",
   "language": "python",
   "name": "python3"
  },
  "language_info": {
   "codemirror_mode": {
    "name": "ipython",
    "version": 3
   },
   "file_extension": ".py",
   "mimetype": "text/x-python",
   "name": "python",
   "nbconvert_exporter": "python",
   "pygments_lexer": "ipython3",
   "version": "3.11.7"
  }
 },
 "nbformat": 4,
 "nbformat_minor": 5
}

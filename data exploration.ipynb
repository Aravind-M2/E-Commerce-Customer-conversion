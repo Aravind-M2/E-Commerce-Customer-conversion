{
 "cells": [
  {
   "cell_type": "code",
   "execution_count": null,
   "id": "69b5b440",
   "metadata": {},
   "outputs": [],
   "source": [
    "# doubts for the doubt clarification session\n",
    "# 1. what is the target column? -- Price_2\n",
    "# 2. what is the order values? -- Price_2 = 2 and sum of price values\n",
    "# 3. how do i differentiate between the items the customer viewed and the order they actually made? -- Price_2 = 1 (viewed) and 2 (bought)\n",
    "# 4. how do i identify the users? as the session id is unique and not repeated - check again"
   ]
  },
  {
   "cell_type": "code",
   "execution_count": null,
   "id": "2c132ed1",
   "metadata": {},
   "outputs": [],
   "source": [
    "import pandas as pd\n",
    "import seaborn as sns\n",
    "import matplotlib.pyplot as plt\n",
    "import plotly.express as px"
   ]
  },
  {
   "cell_type": "code",
   "execution_count": null,
   "id": "40812701",
   "metadata": {},
   "outputs": [],
   "source": []
  },
  {
   "cell_type": "code",
   "execution_count": 2,
   "id": "d35e04f9",
   "metadata": {},
   "outputs": [],
   "source": [
    "data = pd.read_csv(\"D:\\\\GIT HUB\\\\GUVI Mini Proj 4\\\\train_data - train_data.csv\")"
   ]
  },
  {
   "cell_type": "code",
   "execution_count": 3,
   "id": "7a6c9af7",
   "metadata": {},
   "outputs": [
    {
     "name": "stdout",
     "output_type": "stream",
     "text": [
      "<class 'pandas.core.frame.DataFrame'>\n",
      "RangeIndex: 132379 entries, 0 to 132378\n",
      "Data columns (total 14 columns):\n",
      " #   Column                Non-Null Count   Dtype \n",
      "---  ------                --------------   ----- \n",
      " 0   year                  132379 non-null  int64 \n",
      " 1   month                 132379 non-null  int64 \n",
      " 2   day                   132379 non-null  int64 \n",
      " 3   order                 132379 non-null  int64 \n",
      " 4   country               132379 non-null  int64 \n",
      " 5   session_id            132379 non-null  int64 \n",
      " 6   page1_main_category   132379 non-null  int64 \n",
      " 7   page2_clothing_model  132379 non-null  object\n",
      " 8   colour                132379 non-null  int64 \n",
      " 9   location              132379 non-null  int64 \n",
      " 10  model_photography     132379 non-null  int64 \n",
      " 11  price                 132379 non-null  int64 \n",
      " 12  price_2               132379 non-null  int64 \n",
      " 13  page                  132379 non-null  int64 \n",
      "dtypes: int64(13), object(1)\n",
      "memory usage: 14.1+ MB\n"
     ]
    }
   ],
   "source": [
    "data.info()"
   ]
  },
  {
   "cell_type": "code",
   "execution_count": null,
   "id": "6a5e06ba",
   "metadata": {},
   "outputs": [],
   "source": [
    "# doubts for the doubt clarification session\n",
    "# 1. what is the target column? -- Price_2\n",
    "# 2. what is the order values? -- Price_2 = 2 and sum of price values\n",
    "# 3. how do i differentiate between the items the customer viewed and the order they actually made? -- Price_2 = 1 (viewed) and 2 (bought)\n",
    "# 4. how do i identify the users? as the session id is unique and not repeated - check again"
   ]
  },
  {
   "cell_type": "code",
   "execution_count": 4,
   "id": "82173361",
   "metadata": {},
   "outputs": [
    {
     "data": {
      "text/html": [
       "<div>\n",
       "<style scoped>\n",
       "    .dataframe tbody tr th:only-of-type {\n",
       "        vertical-align: middle;\n",
       "    }\n",
       "\n",
       "    .dataframe tbody tr th {\n",
       "        vertical-align: top;\n",
       "    }\n",
       "\n",
       "    .dataframe thead th {\n",
       "        text-align: right;\n",
       "    }\n",
       "</style>\n",
       "<table border=\"1\" class=\"dataframe\">\n",
       "  <thead>\n",
       "    <tr style=\"text-align: right;\">\n",
       "      <th></th>\n",
       "      <th>year</th>\n",
       "      <th>month</th>\n",
       "      <th>day</th>\n",
       "      <th>order</th>\n",
       "      <th>country</th>\n",
       "      <th>session_id</th>\n",
       "      <th>page1_main_category</th>\n",
       "      <th>page2_clothing_model</th>\n",
       "      <th>colour</th>\n",
       "      <th>location</th>\n",
       "      <th>model_photography</th>\n",
       "      <th>price</th>\n",
       "      <th>price_2</th>\n",
       "      <th>page</th>\n",
       "    </tr>\n",
       "  </thead>\n",
       "  <tbody>\n",
       "    <tr>\n",
       "      <th>0</th>\n",
       "      <td>2008</td>\n",
       "      <td>6</td>\n",
       "      <td>22</td>\n",
       "      <td>21</td>\n",
       "      <td>29</td>\n",
       "      <td>15648</td>\n",
       "      <td>3</td>\n",
       "      <td>C20</td>\n",
       "      <td>13</td>\n",
       "      <td>1</td>\n",
       "      <td>2</td>\n",
       "      <td>48</td>\n",
       "      <td>1</td>\n",
       "      <td>2</td>\n",
       "    </tr>\n",
       "    <tr>\n",
       "      <th>1</th>\n",
       "      <td>2008</td>\n",
       "      <td>5</td>\n",
       "      <td>19</td>\n",
       "      <td>6</td>\n",
       "      <td>29</td>\n",
       "      <td>10018</td>\n",
       "      <td>2</td>\n",
       "      <td>B26</td>\n",
       "      <td>13</td>\n",
       "      <td>3</td>\n",
       "      <td>1</td>\n",
       "      <td>57</td>\n",
       "      <td>1</td>\n",
       "      <td>2</td>\n",
       "    </tr>\n",
       "    <tr>\n",
       "      <th>2</th>\n",
       "      <td>2008</td>\n",
       "      <td>7</td>\n",
       "      <td>15</td>\n",
       "      <td>2</td>\n",
       "      <td>29</td>\n",
       "      <td>19388</td>\n",
       "      <td>3</td>\n",
       "      <td>C13</td>\n",
       "      <td>9</td>\n",
       "      <td>5</td>\n",
       "      <td>1</td>\n",
       "      <td>48</td>\n",
       "      <td>1</td>\n",
       "      <td>1</td>\n",
       "    </tr>\n",
       "    <tr>\n",
       "      <th>3</th>\n",
       "      <td>2008</td>\n",
       "      <td>5</td>\n",
       "      <td>2</td>\n",
       "      <td>2</td>\n",
       "      <td>29</td>\n",
       "      <td>7181</td>\n",
       "      <td>2</td>\n",
       "      <td>B11</td>\n",
       "      <td>2</td>\n",
       "      <td>4</td>\n",
       "      <td>1</td>\n",
       "      <td>43</td>\n",
       "      <td>2</td>\n",
       "      <td>1</td>\n",
       "    </tr>\n",
       "    <tr>\n",
       "      <th>4</th>\n",
       "      <td>2008</td>\n",
       "      <td>6</td>\n",
       "      <td>9</td>\n",
       "      <td>16</td>\n",
       "      <td>29</td>\n",
       "      <td>13493</td>\n",
       "      <td>2</td>\n",
       "      <td>B31</td>\n",
       "      <td>9</td>\n",
       "      <td>5</td>\n",
       "      <td>1</td>\n",
       "      <td>57</td>\n",
       "      <td>1</td>\n",
       "      <td>2</td>\n",
       "    </tr>\n",
       "  </tbody>\n",
       "</table>\n",
       "</div>"
      ],
      "text/plain": [
       "   year  month  day  order  country  session_id  page1_main_category  \\\n",
       "0  2008      6   22     21       29       15648                    3   \n",
       "1  2008      5   19      6       29       10018                    2   \n",
       "2  2008      7   15      2       29       19388                    3   \n",
       "3  2008      5    2      2       29        7181                    2   \n",
       "4  2008      6    9     16       29       13493                    2   \n",
       "\n",
       "  page2_clothing_model  colour  location  model_photography  price  price_2  \\\n",
       "0                  C20      13         1                  2     48        1   \n",
       "1                  B26      13         3                  1     57        1   \n",
       "2                  C13       9         5                  1     48        1   \n",
       "3                  B11       2         4                  1     43        2   \n",
       "4                  B31       9         5                  1     57        1   \n",
       "\n",
       "   page  \n",
       "0     2  \n",
       "1     2  \n",
       "2     1  \n",
       "3     1  \n",
       "4     2  "
      ]
     },
     "execution_count": 4,
     "metadata": {},
     "output_type": "execute_result"
    }
   ],
   "source": [
    "data.head()"
   ]
  },
  {
   "cell_type": "code",
   "execution_count": null,
   "id": "137924df",
   "metadata": {},
   "outputs": [],
   "source": [
    "# key insights that we can find from the given data:\n",
    "# 1.relationship of each column with the target column - price amd price 2 -- target column will be discussed in the doubt clarification session\n",
    "# doubt clarification session - 22nd oct\n",
    "# 2.Time series - more/ number of clicks per session  ; which country bought the most on which; \n",
    "# how many session per d, m; most revenue generated d,m, sessions and the clicks made;\n",
    "# most purchased model, most visited model, - days and months and weeks\n",
    "# 3.which part of the screen is 1st viewed/clicked, which part of the screen is most clicked, \n",
    "# which part of the screen is last clicked ; which page captured the most and least (h/l value) - for high valued orders, low valued orders\n",
    "# 4.which country bouth which, which coloru, - category and model\n",
    "# 5.which position of the page is clicked most - per page ; which page generate more revenue.\n",
    "# 6.visualize which item is showed on which page and minimum clicks required to view the particular iteam - how much click it actually took to view the item \n",
    "# which generated move revenue ? most clicked or least clicked sessions? which model is popular and does the poplur item is priced above or below average? \n",
    "# what model did the user see before buying the item\n",
    "# 7.count plot for visualization of the count of occurance of each item -- done\n",
    "\n",
    "#Statistical graphs and interfrence:\n",
    "# distribution graphs -\n",
    "# box plot -\n",
    "# Hpotheysis testing\n",
    "# Colinearity \n",
    "# co-relation heat map\n",
    "# skewness and kurtosis - done (a function to be return to confirm in numbers)\n",
    "# outliers and anamoly detections\n",
    "# \n",
    "\n",
    "#column types:\n",
    "# Category: \n",
    "# page2_clothing_model\n",
    "# page1_main_category\n",
    "# colour\n",
    "# location\n",
    "# country\t\n",
    "# model_photography\n",
    "# price_2\n",
    "# page - it is continuous but just consider it as category for interpretation sake\n",
    "\n",
    "# Continuous:\n",
    "# page\n",
    "# price\n",
    "# order\n",
    "\n",
    "# Time series:\n",
    "# month\n",
    "# day\n",
    "\n",
    "# constant:\n",
    "# year\n",
    "\n",
    "# uniques:\n",
    "\n",
    "# Target (dependent):\n",
    "\n",
    " \n",
    "\n",
    "#Data understanding - observation\n",
    "#no duplicates\n",
    "#no null\n",
    "#page2_clothing_model -only object type - rest all int\n",
    "#Encoding required for : page2_clothing_model \n",
    "\n",
    "# will be using target encoding and frequency encoding for the page2_clothng_model column - refer one note\n",
    "\n"
   ]
  },
  {
   "cell_type": "code",
   "execution_count": null,
   "id": "5bff00df",
   "metadata": {},
   "outputs": [],
   "source": [
    "# distribution graphs"
   ]
  },
  {
   "cell_type": "markdown",
   "id": "13df003d",
   "metadata": {},
   "source": [
    "Conitnuous Features"
   ]
  },
  {
   "cell_type": "code",
   "execution_count": 16,
   "id": "e5618b9c",
   "metadata": {},
   "outputs": [
    {
     "data": {
      "image/png": "[encoded data removed]",
      "text/plain": [
       "<Figure size 1500x1000 with 6 Axes>"
      ]
     },
     "metadata": {},
     "output_type": "display_data"
    }
   ],
   "source": [
    "# List of numerical columns to plot (replace with your actual column names)\n",
    "numerical_features = ['page', 'price','order']\n",
    "\n",
    "# Set a style for the plots\n",
    "sns.set_style(\"whitegrid\")\n",
    "\n",
    "# Create a figure and a set of subplots\n",
    "plt.figure(figsize=(15, 10))\n",
    "plt.suptitle('Distribution Analysis of Numerical Features', fontsize=16, y=1.02)\n",
    "\n",
    "for i, col in enumerate(numerical_features):\n",
    "    # Calculate subplot position (2 rows, 3 columns)\n",
    "    \n",
    "    # ------------------\n",
    "    # HISTOGRAM (Row 1) - Shows the frequency/shape of the data\n",
    "    # ------------------\n",
    "    plt.subplot(2, len(numerical_features), i + 1)\n",
    "    # The 'kde=True' overlay provides a smooth density estimate\n",
    "    sns.histplot(data[col], kde=True, bins=20, color='skyblue')\n",
    "    plt.title(f'Histogram & KDE: {col}')\n",
    "    plt.xlabel(col)\n",
    "    plt.ylabel('Frequency')\n",
    "\n",
    "    # ------------------\n",
    "    # BOX PLOT (Row 2) - Shows the 5-number summary and outliers\n",
    "    # ------------------\n",
    "    plt.subplot(2, len(numerical_features), i + 1 + len(numerical_features))\n",
    "    sns.boxplot(y=data[col], color='lightcoral')\n",
    "    plt.title(f'Box Plot: {col}')\n",
    "    plt.ylabel(col)\n",
    "\n",
    "# Adjust layout to prevent overlap and display the plots\n",
    "plt.tight_layout()\n",
    "plt.show()"
   ]
  },
  {
   "cell_type": "markdown",
   "id": "e3b6c6c1",
   "metadata": {},
   "source": [
    "Categorical Features"
   ]
  },
  {
   "cell_type": "code",
   "execution_count": 36,
   "id": "8fa98e2f",
   "metadata": {},
   "outputs": [
    {
     "name": "stderr",
     "output_type": "stream",
     "text": [
      "C:\\Users\\Hp\\AppData\\Local\\Temp\\ipykernel_18888\\2689119486.py:10: FutureWarning: \n",
      "\n",
      "Passing `palette` without assigning `hue` is deprecated and will be removed in v0.14.0. Assign the `y` variable to `hue` and set `legend=False` for the same effect.\n",
      "\n",
      "  sns.countplot(y=data[col], palette='viridis') # Using y=data[col] for horizontal bars to save space\n",
      "C:\\Users\\Hp\\AppData\\Local\\Temp\\ipykernel_18888\\2689119486.py:10: FutureWarning: \n",
      "\n",
      "Passing `palette` without assigning `hue` is deprecated and will be removed in v0.14.0. Assign the `y` variable to `hue` and set `legend=False` for the same effect.\n",
      "\n",
      "  sns.countplot(y=data[col], palette='viridis') # Using y=data[col] for horizontal bars to save space\n",
      "C:\\Users\\Hp\\AppData\\Local\\Temp\\ipykernel_18888\\2689119486.py:10: FutureWarning: \n",
      "\n",
      "Passing `palette` without assigning `hue` is deprecated and will be removed in v0.14.0. Assign the `y` variable to `hue` and set `legend=False` for the same effect.\n",
      "\n",
      "  sns.countplot(y=data[col], palette='viridis') # Using y=data[col] for horizontal bars to save space\n",
      "C:\\Users\\Hp\\AppData\\Local\\Temp\\ipykernel_18888\\2689119486.py:10: FutureWarning: \n",
      "\n",
      "Passing `palette` without assigning `hue` is deprecated and will be removed in v0.14.0. Assign the `y` variable to `hue` and set `legend=False` for the same effect.\n",
      "\n",
      "  sns.countplot(y=data[col], palette='viridis') # Using y=data[col] for horizontal bars to save space\n",
      "C:\\Users\\Hp\\AppData\\Local\\Temp\\ipykernel_18888\\2689119486.py:10: FutureWarning: \n",
      "\n",
      "Passing `palette` without assigning `hue` is deprecated and will be removed in v0.14.0. Assign the `y` variable to `hue` and set `legend=False` for the same effect.\n",
      "\n",
      "  sns.countplot(y=data[col], palette='viridis') # Using y=data[col] for horizontal bars to save space\n",
      "C:\\Users\\Hp\\AppData\\Local\\Temp\\ipykernel_18888\\2689119486.py:10: FutureWarning: \n",
      "\n",
      "Passing `palette` without assigning `hue` is deprecated and will be removed in v0.14.0. Assign the `y` variable to `hue` and set `legend=False` for the same effect.\n",
      "\n",
      "  sns.countplot(y=data[col], palette='viridis') # Using y=data[col] for horizontal bars to save space\n",
      "C:\\Users\\Hp\\AppData\\Local\\Temp\\ipykernel_18888\\2689119486.py:10: FutureWarning: \n",
      "\n",
      "Passing `palette` without assigning `hue` is deprecated and will be removed in v0.14.0. Assign the `y` variable to `hue` and set `legend=False` for the same effect.\n",
      "\n",
      "  sns.countplot(y=data[col], palette='viridis') # Using y=data[col] for horizontal bars to save space\n"
     ]
    },
    {
     "data": {
      "image/png": "[encoded data removed]",
      "text/plain": [
       "<Figure size 2000x1500 with 7 Axes>"
      ]
     },
     "metadata": {},
     "output_type": "display_data"
    }
   ],
   "source": [
    "# List of Categorical columns to plot (replace with your actual column names)\n",
    "Categorical_features = ['page2_clothing_model', 'page1_main_category', 'colour', 'location', 'country', 'model_photography', 'price_2']\n",
    "\n",
    "# Set a style for the plots\n",
    "sns.set_style(\"whitegrid\")\n",
    "\n",
    "# Create a figure and a set of subplots\n",
    "N = len(Categorical_features)\n",
    "plt.figure(figsize=(20, 15)) # Increased size for better readability\n",
    "\n",
    "for i, col in enumerate(Categorical_features):\n",
    "    # Set up a 3x3 grid (N=7 features)\n",
    "    plt.subplot(3, 3, i + 1)\n",
    "    \n",
    "    # Use sns.countplot for clear categorical frequency analysis\n",
    "    sns.countplot(y=data[col], palette='viridis') # Using y=data[col] for horizontal bars to save space\n",
    "    \n",
    "    plt.title(f'Count Plot: {col}')\n",
    "    plt.xlabel('Count')\n",
    "    plt.ylabel(col)\n",
    "\n",
    "# Adjust layout to prevent overlap and display the plots\n",
    "plt.tight_layout()\n",
    "plt.show()"
   ]
  },
  {
   "cell_type": "code",
   "execution_count": null,
   "id": "bd1ef319",
   "metadata": {},
   "outputs": [],
   "source": [
    "count_model = data.groupby(\"page2_clothing_model\").size().reset_index(name='count')\n",
    "count_model.head()"
   ]
  },
  {
   "cell_type": "code",
   "execution_count": 22,
   "id": "88010a44",
   "metadata": {},
   "outputs": [
    {
     "data": {
      "application/vnd.plotly.v1+json": {
       "config": {
        "plotlyServerURL": "https://plot.ly"
       },
       "data": [
        {
         "hovertemplate": "page2_clothing_model=%{x}<br>count=%{y}<extra></extra>",
         "legendgroup": "B4",
         "marker": {
          "color": "#636efa",
          "pattern": {
           "shape": ""
          }
         },
         "name": "B4",
         "orientation": "v",
         "showlegend": true,
         "textposition": "auto",
         "type": "bar",
         "x": [
          "B4"
         ],
         "xaxis": "x",
         "y": {
          "bdata": "CAs=",
          "dtype": "i2"
         },
         "yaxis": "y"
        },
        {
         "hovertemplate": "page2_clothing_model=%{x}<br>count=%{y}<extra></extra>",
         "legendgroup": "A2",
         "marker": {
          "color": "#EF553B",
          "pattern": {
           "shape": ""
          }
         },
         "name": "A2",
         "orientation": "v",
         "showlegend": true,
         "textposition": "auto",
         "type": "bar",
         "x": [
          "A2"
         ],
         "xaxis": "x",
         "y": {
          "bdata": "VQk=",
          "dtype": "i2"
         },
         "yaxis": "y"
        },
        {
         "hovertemplate": "page2_clothing_model=%{x}<br>count=%{y}<extra></extra>",
         "legendgroup": "A11",
         "marker": {
          "color": "#00cc96",
          "pattern": {
           "shape": ""
          }
         },
         "name": "A11",
         "orientation": "v",
         "showlegend": true,
         "textposition": "auto",
         "type": "bar",
         "x": [
          "A11"
         ],
         "xaxis": "x",
         "y": {
          "bdata": "xwg=",
          "dtype": "i2"
         },
         "yaxis": "y"
        },
        {
         "hovertemplate": "page2_clothing_model=%{x}<br>count=%{y}<extra></extra>",
         "legendgroup": "P1",
         "marker": {
          "color": "#ab63fa",
          "pattern": {
           "shape": ""
          }
         },
         "name": "P1",
         "orientation": "v",
         "showlegend": true,
         "textposition": "auto",
         "type": "bar",
         "x": [
          "P1"
         ],
         "xaxis": "x",
         "y": {
          "bdata": "Vgg=",
          "dtype": "i2"
         },
         "yaxis": "y"
        },
        {
         "hovertemplate": "page2_clothing_model=%{x}<br>count=%{y}<extra></extra>",
         "legendgroup": "B10",
         "marker": {
          "color": "#FFA15A",
          "pattern": {
           "shape": ""
          }
         },
         "name": "B10",
         "orientation": "v",
         "showlegend": true,
         "textposition": "auto",
         "type": "bar",
         "x": [
          "B10"
         ],
         "xaxis": "x",
         "y": {
          "bdata": "2wc=",
          "dtype": "i2"
         },
         "yaxis": "y"
        },
        {
         "hovertemplate": "page2_clothing_model=%{x}<br>count=%{y}<extra></extra>",
         "legendgroup": "A4",
         "marker": {
          "color": "#19d3f3",
          "pattern": {
           "shape": ""
          }
         },
         "name": "A4",
         "orientation": "v",
         "showlegend": true,
         "textposition": "auto",
         "type": "bar",
         "x": [
          "A4"
         ],
         "xaxis": "x",
         "y": {
          "bdata": "0Ac=",
          "dtype": "i2"
         },
         "yaxis": "y"
        },
        {
         "hovertemplate": "page2_clothing_model=%{x}<br>count=%{y}<extra></extra>",
         "legendgroup": "A15",
         "marker": {
          "color": "#FF6692",
          "pattern": {
           "shape": ""
          }
         },
         "name": "A15",
         "orientation": "v",
         "showlegend": true,
         "textposition": "auto",
         "type": "bar",
         "x": [
          "A15"
         ],
         "xaxis": "x",
         "y": {
          "bdata": "xAc=",
          "dtype": "i2"
         },
         "yaxis": "y"
        },
        {
         "hovertemplate": "page2_clothing_model=%{x}<br>count=%{y}<extra></extra>",
         "legendgroup": "A5",
         "marker": {
          "color": "#B6E880",
          "pattern": {
           "shape": ""
          }
         },
         "name": "A5",
         "orientation": "v",
         "showlegend": true,
         "textposition": "auto",
         "type": "bar",
         "x": [
          "A5"
         ],
         "xaxis": "x",
         "y": {
          "bdata": "agc=",
          "dtype": "i2"
         },
         "yaxis": "y"
        },
        {
         "hovertemplate": "page2_clothing_model=%{x}<br>count=%{y}<extra></extra>",
         "legendgroup": "A10",
         "marker": {
          "color": "#FF97FF",
          "pattern": {
           "shape": ""
          }
         },
         "name": "A10",
         "orientation": "v",
         "showlegend": true,
         "textposition": "auto",
         "type": "bar",
         "x": [
          "A10"
         ],
         "xaxis": "x",
         "y": {
          "bdata": "Nwc=",
          "dtype": "i2"
         },
         "yaxis": "y"
        },
        {
         "hovertemplate": "page2_clothing_model=%{x}<br>count=%{y}<extra></extra>",
         "legendgroup": "A1",
         "marker": {
          "color": "#FECB52",
          "pattern": {
           "shape": ""
          }
         },
         "name": "A1",
         "orientation": "v",
         "showlegend": true,
         "textposition": "auto",
         "type": "bar",
         "x": [
          "A1"
         ],
         "xaxis": "x",
         "y": {
          "bdata": "Kgc=",
          "dtype": "i2"
         },
         "yaxis": "y"
        },
        {
         "hovertemplate": "page2_clothing_model=%{x}<br>count=%{y}<extra></extra>",
         "legendgroup": "A12",
         "marker": {
          "color": "#636efa",
          "pattern": {
           "shape": ""
          }
         },
         "name": "A12",
         "orientation": "v",
         "showlegend": true,
         "textposition": "auto",
         "type": "bar",
         "x": [
          "A12"
         ],
         "xaxis": "x",
         "y": {
          "bdata": "NgY=",
          "dtype": "i2"
         },
         "yaxis": "y"
        },
        {
         "hovertemplate": "page2_clothing_model=%{x}<br>count=%{y}<extra></extra>",
         "legendgroup": "A9",
         "marker": {
          "color": "#EF553B",
          "pattern": {
           "shape": ""
          }
         },
         "name": "A9",
         "orientation": "v",
         "showlegend": true,
         "textposition": "auto",
         "type": "bar",
         "x": [
          "A9"
         ],
         "xaxis": "x",
         "y": {
          "bdata": "BgY=",
          "dtype": "i2"
         },
         "yaxis": "y"
        },
        {
         "hovertemplate": "page2_clothing_model=%{x}<br>count=%{y}<extra></extra>",
         "legendgroup": "A3",
         "marker": {
          "color": "#00cc96",
          "pattern": {
           "shape": ""
          }
         },
         "name": "A3",
         "orientation": "v",
         "showlegend": true,
         "textposition": "auto",
         "type": "bar",
         "x": [
          "A3"
         ],
         "xaxis": "x",
         "y": {
          "bdata": "9AU=",
          "dtype": "i2"
         },
         "yaxis": "y"
        },
        {
         "hovertemplate": "page2_clothing_model=%{x}<br>count=%{y}<extra></extra>",
         "legendgroup": "B13",
         "marker": {
          "color": "#ab63fa",
          "pattern": {
           "shape": ""
          }
         },
         "name": "B13",
         "orientation": "v",
         "showlegend": true,
         "textposition": "auto",
         "type": "bar",
         "x": [
          "B13"
         ],
         "xaxis": "x",
         "y": {
          "bdata": "9AU=",
          "dtype": "i2"
         },
         "yaxis": "y"
        },
        {
         "hovertemplate": "page2_clothing_model=%{x}<br>count=%{y}<extra></extra>",
         "legendgroup": "B24",
         "marker": {
          "color": "#FFA15A",
          "pattern": {
           "shape": ""
          }
         },
         "name": "B24",
         "orientation": "v",
         "showlegend": true,
         "textposition": "auto",
         "type": "bar",
         "x": [
          "B24"
         ],
         "xaxis": "x",
         "y": {
          "bdata": "zQU=",
          "dtype": "i2"
         },
         "yaxis": "y"
        },
        {
         "hovertemplate": "page2_clothing_model=%{x}<br>count=%{y}<extra></extra>",
         "legendgroup": "A6",
         "marker": {
          "color": "#19d3f3",
          "pattern": {
           "shape": ""
          }
         },
         "name": "A6",
         "orientation": "v",
         "showlegend": true,
         "textposition": "auto",
         "type": "bar",
         "x": [
          "A6"
         ],
         "xaxis": "x",
         "y": {
          "bdata": "rwU=",
          "dtype": "i2"
         },
         "yaxis": "y"
        },
        {
         "hovertemplate": "page2_clothing_model=%{x}<br>count=%{y}<extra></extra>",
         "legendgroup": "C5",
         "marker": {
          "color": "#FF6692",
          "pattern": {
           "shape": ""
          }
         },
         "name": "C5",
         "orientation": "v",
         "showlegend": true,
         "textposition": "auto",
         "type": "bar",
         "x": [
          "C5"
         ],
         "xaxis": "x",
         "y": {
          "bdata": "mQU=",
          "dtype": "i2"
         },
         "yaxis": "y"
        },
        {
         "hovertemplate": "page2_clothing_model=%{x}<br>count=%{y}<extra></extra>",
         "legendgroup": "A7",
         "marker": {
          "color": "#B6E880",
          "pattern": {
           "shape": ""
          }
         },
         "name": "A7",
         "orientation": "v",
         "showlegend": true,
         "textposition": "auto",
         "type": "bar",
         "x": [
          "A7"
         ],
         "xaxis": "x",
         "y": {
          "bdata": "FgU=",
          "dtype": "i2"
         },
         "yaxis": "y"
        },
        {
         "hovertemplate": "page2_clothing_model=%{x}<br>count=%{y}<extra></extra>",
         "legendgroup": "A13",
         "marker": {
          "color": "#FF97FF",
          "pattern": {
           "shape": ""
          }
         },
         "name": "A13",
         "orientation": "v",
         "showlegend": true,
         "textposition": "auto",
         "type": "bar",
         "x": [
          "A13"
         ],
         "xaxis": "x",
         "y": {
          "bdata": "+AQ=",
          "dtype": "i2"
         },
         "yaxis": "y"
        },
        {
         "hovertemplate": "page2_clothing_model=%{x}<br>count=%{y}<extra></extra>",
         "legendgroup": "B11",
         "marker": {
          "color": "#FECB52",
          "pattern": {
           "shape": ""
          }
         },
         "name": "B11",
         "orientation": "v",
         "showlegend": true,
         "textposition": "auto",
         "type": "bar",
         "x": [
          "B11"
         ],
         "xaxis": "x",
         "y": {
          "bdata": "5QQ=",
          "dtype": "i2"
         },
         "yaxis": "y"
        },
        {
         "hovertemplate": "page2_clothing_model=%{x}<br>count=%{y}<extra></extra>",
         "legendgroup": "A8",
         "marker": {
          "color": "#636efa",
          "pattern": {
           "shape": ""
          }
         },
         "name": "A8",
         "orientation": "v",
         "showlegend": true,
         "textposition": "auto",
         "type": "bar",
         "x": [
          "A8"
         ],
         "xaxis": "x",
         "y": {
          "bdata": "4wQ=",
          "dtype": "i2"
         },
         "yaxis": "y"
        },
        {
         "hovertemplate": "page2_clothing_model=%{x}<br>count=%{y}<extra></extra>",
         "legendgroup": "A17",
         "marker": {
          "color": "#EF553B",
          "pattern": {
           "shape": ""
          }
         },
         "name": "A17",
         "orientation": "v",
         "showlegend": true,
         "textposition": "auto",
         "type": "bar",
         "x": [
          "A17"
         ],
         "xaxis": "x",
         "y": {
          "bdata": "4gQ=",
          "dtype": "i2"
         },
         "yaxis": "y"
        },
        {
         "hovertemplate": "page2_clothing_model=%{x}<br>count=%{y}<extra></extra>",
         "legendgroup": "P6",
         "marker": {
          "color": "#00cc96",
          "pattern": {
           "shape": ""
          }
         },
         "name": "P6",
         "orientation": "v",
         "showlegend": true,
         "textposition": "auto",
         "type": "bar",
         "x": [
          "P6"
         ],
         "xaxis": "x",
         "y": {
          "bdata": "2gQ=",
          "dtype": "i2"
         },
         "yaxis": "y"
        },
        {
         "hovertemplate": "page2_clothing_model=%{x}<br>count=%{y}<extra></extra>",
         "legendgroup": "B1",
         "marker": {
          "color": "#ab63fa",
          "pattern": {
           "shape": ""
          }
         },
         "name": "B1",
         "orientation": "v",
         "showlegend": true,
         "textposition": "auto",
         "type": "bar",
         "x": [
          "B1"
         ],
         "xaxis": "x",
         "y": {
          "bdata": "1wQ=",
          "dtype": "i2"
         },
         "yaxis": "y"
        },
        {
         "hovertemplate": "page2_clothing_model=%{x}<br>count=%{y}<extra></extra>",
         "legendgroup": "C17",
         "marker": {
          "color": "#FFA15A",
          "pattern": {
           "shape": ""
          }
         },
         "name": "C17",
         "orientation": "v",
         "showlegend": true,
         "textposition": "auto",
         "type": "bar",
         "x": [
          "C17"
         ],
         "xaxis": "x",
         "y": {
          "bdata": "ugQ=",
          "dtype": "i2"
         },
         "yaxis": "y"
        },
        {
         "hovertemplate": "page2_clothing_model=%{x}<br>count=%{y}<extra></extra>",
         "legendgroup": "P16",
         "marker": {
          "color": "#19d3f3",
          "pattern": {
           "shape": ""
          }
         },
         "name": "P16",
         "orientation": "v",
         "showlegend": true,
         "textposition": "auto",
         "type": "bar",
         "x": [
          "P16"
         ],
         "xaxis": "x",
         "y": {
          "bdata": "pwQ=",
          "dtype": "i2"
         },
         "yaxis": "y"
        },
        {
         "hovertemplate": "page2_clothing_model=%{x}<br>count=%{y}<extra></extra>",
         "legendgroup": "B15",
         "marker": {
          "color": "#FF6692",
          "pattern": {
           "shape": ""
          }
         },
         "name": "B15",
         "orientation": "v",
         "showlegend": true,
         "textposition": "auto",
         "type": "bar",
         "x": [
          "B15"
         ],
         "xaxis": "x",
         "y": {
          "bdata": "pgQ=",
          "dtype": "i2"
         },
         "yaxis": "y"
        },
        {
         "hovertemplate": "page2_clothing_model=%{x}<br>count=%{y}<extra></extra>",
         "legendgroup": "P15",
         "marker": {
          "color": "#B6E880",
          "pattern": {
           "shape": ""
          }
         },
         "name": "P15",
         "orientation": "v",
         "showlegend": true,
         "textposition": "auto",
         "type": "bar",
         "x": [
          "P15"
         ],
         "xaxis": "x",
         "y": {
          "bdata": "iQQ=",
          "dtype": "i2"
         },
         "yaxis": "y"
        },
        {
         "hovertemplate": "page2_clothing_model=%{x}<br>count=%{y}<extra></extra>",
         "legendgroup": "B17",
         "marker": {
          "color": "#FF97FF",
          "pattern": {
           "shape": ""
          }
         },
         "name": "B17",
         "orientation": "v",
         "showlegend": true,
         "textposition": "auto",
         "type": "bar",
         "x": [
          "B17"
         ],
         "xaxis": "x",
         "y": {
          "bdata": "ewQ=",
          "dtype": "i2"
         },
         "yaxis": "y"
        },
        {
         "hovertemplate": "page2_clothing_model=%{x}<br>count=%{y}<extra></extra>",
         "legendgroup": "A31",
         "marker": {
          "color": "#FECB52",
          "pattern": {
           "shape": ""
          }
         },
         "name": "A31",
         "orientation": "v",
         "showlegend": true,
         "textposition": "auto",
         "type": "bar",
         "x": [
          "A31"
         ],
         "xaxis": "x",
         "y": {
          "bdata": "aQQ=",
          "dtype": "i2"
         },
         "yaxis": "y"
        },
        {
         "hovertemplate": "page2_clothing_model=%{x}<br>count=%{y}<extra></extra>",
         "legendgroup": "B31",
         "marker": {
          "color": "#636efa",
          "pattern": {
           "shape": ""
          }
         },
         "name": "B31",
         "orientation": "v",
         "showlegend": true,
         "textposition": "auto",
         "type": "bar",
         "x": [
          "B31"
         ],
         "xaxis": "x",
         "y": {
          "bdata": "ZQQ=",
          "dtype": "i2"
         },
         "yaxis": "y"
        },
        {
         "hovertemplate": "page2_clothing_model=%{x}<br>count=%{y}<extra></extra>",
         "legendgroup": "B16",
         "marker": {
          "color": "#EF553B",
          "pattern": {
           "shape": ""
          }
         },
         "name": "B16",
         "orientation": "v",
         "showlegend": true,
         "textposition": "auto",
         "type": "bar",
         "x": [
          "B16"
         ],
         "xaxis": "x",
         "y": {
          "bdata": "YQQ=",
          "dtype": "i2"
         },
         "yaxis": "y"
        },
        {
         "hovertemplate": "page2_clothing_model=%{x}<br>count=%{y}<extra></extra>",
         "legendgroup": "A16",
         "marker": {
          "color": "#00cc96",
          "pattern": {
           "shape": ""
          }
         },
         "name": "A16",
         "orientation": "v",
         "showlegend": true,
         "textposition": "auto",
         "type": "bar",
         "x": [
          "A16"
         ],
         "xaxis": "x",
         "y": {
          "bdata": "WAQ=",
          "dtype": "i2"
         },
         "yaxis": "y"
        },
        {
         "hovertemplate": "page2_clothing_model=%{x}<br>count=%{y}<extra></extra>",
         "legendgroup": "B12",
         "marker": {
          "color": "#ab63fa",
          "pattern": {
           "shape": ""
          }
         },
         "name": "B12",
         "orientation": "v",
         "showlegend": true,
         "textposition": "auto",
         "type": "bar",
         "x": [
          "B12"
         ],
         "xaxis": "x",
         "y": {
          "bdata": "WAQ=",
          "dtype": "i2"
         },
         "yaxis": "y"
        },
        {
         "hovertemplate": "page2_clothing_model=%{x}<br>count=%{y}<extra></extra>",
         "legendgroup": "A21",
         "marker": {
          "color": "#FFA15A",
          "pattern": {
           "shape": ""
          }
         },
         "name": "A21",
         "orientation": "v",
         "showlegend": true,
         "textposition": "auto",
         "type": "bar",
         "x": [
          "A21"
         ],
         "xaxis": "x",
         "y": {
          "bdata": "UQQ=",
          "dtype": "i2"
         },
         "yaxis": "y"
        },
        {
         "hovertemplate": "page2_clothing_model=%{x}<br>count=%{y}<extra></extra>",
         "legendgroup": "B23",
         "marker": {
          "color": "#19d3f3",
          "pattern": {
           "shape": ""
          }
         },
         "name": "B23",
         "orientation": "v",
         "showlegend": true,
         "textposition": "auto",
         "type": "bar",
         "x": [
          "B23"
         ],
         "xaxis": "x",
         "y": {
          "bdata": "TQQ=",
          "dtype": "i2"
         },
         "yaxis": "y"
        },
        {
         "hovertemplate": "page2_clothing_model=%{x}<br>count=%{y}<extra></extra>",
         "legendgroup": "B32",
         "marker": {
          "color": "#FF6692",
          "pattern": {
           "shape": ""
          }
         },
         "name": "B32",
         "orientation": "v",
         "showlegend": true,
         "textposition": "auto",
         "type": "bar",
         "x": [
          "B32"
         ],
         "xaxis": "x",
         "y": {
          "bdata": "QwQ=",
          "dtype": "i2"
         },
         "yaxis": "y"
        },
        {
         "hovertemplate": "page2_clothing_model=%{x}<br>count=%{y}<extra></extra>",
         "legendgroup": "B26",
         "marker": {
          "color": "#B6E880",
          "pattern": {
           "shape": ""
          }
         },
         "name": "B26",
         "orientation": "v",
         "showlegend": true,
         "textposition": "auto",
         "type": "bar",
         "x": [
          "B26"
         ],
         "xaxis": "x",
         "y": {
          "bdata": "EgQ=",
          "dtype": "i2"
         },
         "yaxis": "y"
        },
        {
         "hovertemplate": "page2_clothing_model=%{x}<br>count=%{y}<extra></extra>",
         "legendgroup": "B3",
         "marker": {
          "color": "#FF97FF",
          "pattern": {
           "shape": ""
          }
         },
         "name": "B3",
         "orientation": "v",
         "showlegend": true,
         "textposition": "auto",
         "type": "bar",
         "x": [
          "B3"
         ],
         "xaxis": "x",
         "y": {
          "bdata": "BAQ=",
          "dtype": "i2"
         },
         "yaxis": "y"
        },
        {
         "hovertemplate": "page2_clothing_model=%{x}<br>count=%{y}<extra></extra>",
         "legendgroup": "B2",
         "marker": {
          "color": "#FECB52",
          "pattern": {
           "shape": ""
          }
         },
         "name": "B2",
         "orientation": "v",
         "showlegend": true,
         "textposition": "auto",
         "type": "bar",
         "x": [
          "B2"
         ],
         "xaxis": "x",
         "y": {
          "bdata": "vQM=",
          "dtype": "i2"
         },
         "yaxis": "y"
        },
        {
         "hovertemplate": "page2_clothing_model=%{x}<br>count=%{y}<extra></extra>",
         "legendgroup": "C56",
         "marker": {
          "color": "#636efa",
          "pattern": {
           "shape": ""
          }
         },
         "name": "C56",
         "orientation": "v",
         "showlegend": true,
         "textposition": "auto",
         "type": "bar",
         "x": [
          "C56"
         ],
         "xaxis": "x",
         "y": {
          "bdata": "uAM=",
          "dtype": "i2"
         },
         "yaxis": "y"
        },
        {
         "hovertemplate": "page2_clothing_model=%{x}<br>count=%{y}<extra></extra>",
         "legendgroup": "C14",
         "marker": {
          "color": "#EF553B",
          "pattern": {
           "shape": ""
          }
         },
         "name": "C14",
         "orientation": "v",
         "showlegend": true,
         "textposition": "auto",
         "type": "bar",
         "x": [
          "C14"
         ],
         "xaxis": "x",
         "y": {
          "bdata": "mwM=",
          "dtype": "i2"
         },
         "yaxis": "y"
        },
        {
         "hovertemplate": "page2_clothing_model=%{x}<br>count=%{y}<extra></extra>",
         "legendgroup": "B14",
         "marker": {
          "color": "#00cc96",
          "pattern": {
           "shape": ""
          }
         },
         "name": "B14",
         "orientation": "v",
         "showlegend": true,
         "textposition": "auto",
         "type": "bar",
         "x": [
          "B14"
         ],
         "xaxis": "x",
         "y": {
          "bdata": "kgM=",
          "dtype": "i2"
         },
         "yaxis": "y"
        },
        {
         "hovertemplate": "page2_clothing_model=%{x}<br>count=%{y}<extra></extra>",
         "legendgroup": "P3",
         "marker": {
          "color": "#ab63fa",
          "pattern": {
           "shape": ""
          }
         },
         "name": "P3",
         "orientation": "v",
         "showlegend": true,
         "textposition": "auto",
         "type": "bar",
         "x": [
          "P3"
         ],
         "xaxis": "x",
         "y": {
          "bdata": "iAM=",
          "dtype": "i2"
         },
         "yaxis": "y"
        },
        {
         "hovertemplate": "page2_clothing_model=%{x}<br>count=%{y}<extra></extra>",
         "legendgroup": "C7",
         "marker": {
          "color": "#FFA15A",
          "pattern": {
           "shape": ""
          }
         },
         "name": "C7",
         "orientation": "v",
         "showlegend": true,
         "textposition": "auto",
         "type": "bar",
         "x": [
          "C7"
         ],
         "xaxis": "x",
         "y": {
          "bdata": "fgM=",
          "dtype": "i2"
         },
         "yaxis": "y"
        },
        {
         "hovertemplate": "page2_clothing_model=%{x}<br>count=%{y}<extra></extra>",
         "legendgroup": "P4",
         "marker": {
          "color": "#19d3f3",
          "pattern": {
           "shape": ""
          }
         },
         "name": "P4",
         "orientation": "v",
         "showlegend": true,
         "textposition": "auto",
         "type": "bar",
         "x": [
          "P4"
         ],
         "xaxis": "x",
         "y": {
          "bdata": "fAM=",
          "dtype": "i2"
         },
         "yaxis": "y"
        },
        {
         "hovertemplate": "page2_clothing_model=%{x}<br>count=%{y}<extra></extra>",
         "legendgroup": "B19",
         "marker": {
          "color": "#FF6692",
          "pattern": {
           "shape": ""
          }
         },
         "name": "B19",
         "orientation": "v",
         "showlegend": true,
         "textposition": "auto",
         "type": "bar",
         "x": [
          "B19"
         ],
         "xaxis": "x",
         "y": {
          "bdata": "eAM=",
          "dtype": "i2"
         },
         "yaxis": "y"
        },
        {
         "hovertemplate": "page2_clothing_model=%{x}<br>count=%{y}<extra></extra>",
         "legendgroup": "C2",
         "marker": {
          "color": "#B6E880",
          "pattern": {
           "shape": ""
          }
         },
         "name": "C2",
         "orientation": "v",
         "showlegend": true,
         "textposition": "auto",
         "type": "bar",
         "x": [
          "C2"
         ],
         "xaxis": "x",
         "y": {
          "bdata": "cgM=",
          "dtype": "i2"
         },
         "yaxis": "y"
        },
        {
         "hovertemplate": "page2_clothing_model=%{x}<br>count=%{y}<extra></extra>",
         "legendgroup": "C40",
         "marker": {
          "color": "#FF97FF",
          "pattern": {
           "shape": ""
          }
         },
         "name": "C40",
         "orientation": "v",
         "showlegend": true,
         "textposition": "auto",
         "type": "bar",
         "x": [
          "C40"
         ],
         "xaxis": "x",
         "y": {
          "bdata": "bgM=",
          "dtype": "i2"
         },
         "yaxis": "y"
        },
        {
         "hovertemplate": "page2_clothing_model=%{x}<br>count=%{y}<extra></extra>",
         "legendgroup": "C1",
         "marker": {
          "color": "#FECB52",
          "pattern": {
           "shape": ""
          }
         },
         "name": "C1",
         "orientation": "v",
         "showlegend": true,
         "textposition": "auto",
         "type": "bar",
         "x": [
          "C1"
         ],
         "xaxis": "x",
         "y": {
          "bdata": "bAM=",
          "dtype": "i2"
         },
         "yaxis": "y"
        },
        {
         "hovertemplate": "page2_clothing_model=%{x}<br>count=%{y}<extra></extra>",
         "legendgroup": "P2",
         "marker": {
          "color": "#636efa",
          "pattern": {
           "shape": ""
          }
         },
         "name": "P2",
         "orientation": "v",
         "showlegend": true,
         "textposition": "auto",
         "type": "bar",
         "x": [
          "P2"
         ],
         "xaxis": "x",
         "y": {
          "bdata": "JAM=",
          "dtype": "i2"
         },
         "yaxis": "y"
        },
        {
         "hovertemplate": "page2_clothing_model=%{x}<br>count=%{y}<extra></extra>",
         "legendgroup": "P17",
         "marker": {
          "color": "#EF553B",
          "pattern": {
           "shape": ""
          }
         },
         "name": "P17",
         "orientation": "v",
         "showlegend": true,
         "textposition": "auto",
         "type": "bar",
         "x": [
          "P17"
         ],
         "xaxis": "x",
         "y": {
          "bdata": "HgM=",
          "dtype": "i2"
         },
         "yaxis": "y"
        },
        {
         "hovertemplate": "page2_clothing_model=%{x}<br>count=%{y}<extra></extra>",
         "legendgroup": "P12",
         "marker": {
          "color": "#00cc96",
          "pattern": {
           "shape": ""
          }
         },
         "name": "P12",
         "orientation": "v",
         "showlegend": true,
         "textposition": "auto",
         "type": "bar",
         "x": [
          "P12"
         ],
         "xaxis": "x",
         "y": {
          "bdata": "FwM=",
          "dtype": "i2"
         },
         "yaxis": "y"
        },
        {
         "hovertemplate": "page2_clothing_model=%{x}<br>count=%{y}<extra></extra>",
         "legendgroup": "B30",
         "marker": {
          "color": "#ab63fa",
          "pattern": {
           "shape": ""
          }
         },
         "name": "B30",
         "orientation": "v",
         "showlegend": true,
         "textposition": "auto",
         "type": "bar",
         "x": [
          "B30"
         ],
         "xaxis": "x",
         "y": {
          "bdata": "AwM=",
          "dtype": "i2"
         },
         "yaxis": "y"
        },
        {
         "hovertemplate": "page2_clothing_model=%{x}<br>count=%{y}<extra></extra>",
         "legendgroup": "B27",
         "marker": {
          "color": "#FFA15A",
          "pattern": {
           "shape": ""
          }
         },
         "name": "B27",
         "orientation": "v",
         "showlegend": true,
         "textposition": "auto",
         "type": "bar",
         "x": [
          "B27"
         ],
         "xaxis": "x",
         "y": {
          "bdata": "/gI=",
          "dtype": "i2"
         },
         "yaxis": "y"
        },
        {
         "hovertemplate": "page2_clothing_model=%{x}<br>count=%{y}<extra></extra>",
         "legendgroup": "C13",
         "marker": {
          "color": "#19d3f3",
          "pattern": {
           "shape": ""
          }
         },
         "name": "C13",
         "orientation": "v",
         "showlegend": true,
         "textposition": "auto",
         "type": "bar",
         "x": [
          "C13"
         ],
         "xaxis": "x",
         "y": {
          "bdata": "+AI=",
          "dtype": "i2"
         },
         "yaxis": "y"
        },
        {
         "hovertemplate": "page2_clothing_model=%{x}<br>count=%{y}<extra></extra>",
         "legendgroup": "A14",
         "marker": {
          "color": "#FF6692",
          "pattern": {
           "shape": ""
          }
         },
         "name": "A14",
         "orientation": "v",
         "showlegend": true,
         "textposition": "auto",
         "type": "bar",
         "x": [
          "A14"
         ],
         "xaxis": "x",
         "y": {
          "bdata": "6QI=",
          "dtype": "i2"
         },
         "yaxis": "y"
        },
        {
         "hovertemplate": "page2_clothing_model=%{x}<br>count=%{y}<extra></extra>",
         "legendgroup": "C9",
         "marker": {
          "color": "#B6E880",
          "pattern": {
           "shape": ""
          }
         },
         "name": "C9",
         "orientation": "v",
         "showlegend": true,
         "textposition": "auto",
         "type": "bar",
         "x": [
          "C9"
         ],
         "xaxis": "x",
         "y": {
          "bdata": "4gI=",
          "dtype": "i2"
         },
         "yaxis": "y"
        },
        {
         "hovertemplate": "page2_clothing_model=%{x}<br>count=%{y}<extra></extra>",
         "legendgroup": "A18",
         "marker": {
          "color": "#FF97FF",
          "pattern": {
           "shape": ""
          }
         },
         "name": "A18",
         "orientation": "v",
         "showlegend": true,
         "textposition": "auto",
         "type": "bar",
         "x": [
          "A18"
         ],
         "xaxis": "x",
         "y": {
          "bdata": "4AI=",
          "dtype": "i2"
         },
         "yaxis": "y"
        },
        {
         "hovertemplate": "page2_clothing_model=%{x}<br>count=%{y}<extra></extra>",
         "legendgroup": "C11",
         "marker": {
          "color": "#FECB52",
          "pattern": {
           "shape": ""
          }
         },
         "name": "C11",
         "orientation": "v",
         "showlegend": true,
         "textposition": "auto",
         "type": "bar",
         "x": [
          "C11"
         ],
         "xaxis": "x",
         "y": {
          "bdata": "wwI=",
          "dtype": "i2"
         },
         "yaxis": "y"
        },
        {
         "hovertemplate": "page2_clothing_model=%{x}<br>count=%{y}<extra></extra>",
         "legendgroup": "C12",
         "marker": {
          "color": "#636efa",
          "pattern": {
           "shape": ""
          }
         },
         "name": "C12",
         "orientation": "v",
         "showlegend": true,
         "textposition": "auto",
         "type": "bar",
         "x": [
          "C12"
         ],
         "xaxis": "x",
         "y": {
          "bdata": "wQI=",
          "dtype": "i2"
         },
         "yaxis": "y"
        },
        {
         "hovertemplate": "page2_clothing_model=%{x}<br>count=%{y}<extra></extra>",
         "legendgroup": "C49",
         "marker": {
          "color": "#EF553B",
          "pattern": {
           "shape": ""
          }
         },
         "name": "C49",
         "orientation": "v",
         "showlegend": true,
         "textposition": "auto",
         "type": "bar",
         "x": [
          "C49"
         ],
         "xaxis": "x",
         "y": {
          "bdata": "tAI=",
          "dtype": "i2"
         },
         "yaxis": "y"
        },
        {
         "hovertemplate": "page2_clothing_model=%{x}<br>count=%{y}<extra></extra>",
         "legendgroup": "B9",
         "marker": {
          "color": "#00cc96",
          "pattern": {
           "shape": ""
          }
         },
         "name": "B9",
         "orientation": "v",
         "showlegend": true,
         "textposition": "auto",
         "type": "bar",
         "x": [
          "B9"
         ],
         "xaxis": "x",
         "y": {
          "bdata": "sAI=",
          "dtype": "i2"
         },
         "yaxis": "y"
        },
        {
         "hovertemplate": "page2_clothing_model=%{x}<br>count=%{y}<extra></extra>",
         "legendgroup": "C4",
         "marker": {
          "color": "#ab63fa",
          "pattern": {
           "shape": ""
          }
         },
         "name": "C4",
         "orientation": "v",
         "showlegend": true,
         "textposition": "auto",
         "type": "bar",
         "x": [
          "C4"
         ],
         "xaxis": "x",
         "y": {
          "bdata": "rwI=",
          "dtype": "i2"
         },
         "yaxis": "y"
        },
        {
         "hovertemplate": "page2_clothing_model=%{x}<br>count=%{y}<extra></extra>",
         "legendgroup": "B21",
         "marker": {
          "color": "#FFA15A",
          "pattern": {
           "shape": ""
          }
         },
         "name": "B21",
         "orientation": "v",
         "showlegend": true,
         "textposition": "auto",
         "type": "bar",
         "x": [
          "B21"
         ],
         "xaxis": "x",
         "y": {
          "bdata": "rQI=",
          "dtype": "i2"
         },
         "yaxis": "y"
        },
        {
         "hovertemplate": "page2_clothing_model=%{x}<br>count=%{y}<extra></extra>",
         "legendgroup": "A33",
         "marker": {
          "color": "#19d3f3",
          "pattern": {
           "shape": ""
          }
         },
         "name": "A33",
         "orientation": "v",
         "showlegend": true,
         "textposition": "auto",
         "type": "bar",
         "x": [
          "A33"
         ],
         "xaxis": "x",
         "y": {
          "bdata": "rAI=",
          "dtype": "i2"
         },
         "yaxis": "y"
        },
        {
         "hovertemplate": "page2_clothing_model=%{x}<br>count=%{y}<extra></extra>",
         "legendgroup": "P23",
         "marker": {
          "color": "#FF6692",
          "pattern": {
           "shape": ""
          }
         },
         "name": "P23",
         "orientation": "v",
         "showlegend": true,
         "textposition": "auto",
         "type": "bar",
         "x": [
          "P23"
         ],
         "xaxis": "x",
         "y": {
          "bdata": "ogI=",
          "dtype": "i2"
         },
         "yaxis": "y"
        },
        {
         "hovertemplate": "page2_clothing_model=%{x}<br>count=%{y}<extra></extra>",
         "legendgroup": "P48",
         "marker": {
          "color": "#B6E880",
          "pattern": {
           "shape": ""
          }
         },
         "name": "P48",
         "orientation": "v",
         "showlegend": true,
         "textposition": "auto",
         "type": "bar",
         "x": [
          "P48"
         ],
         "xaxis": "x",
         "y": {
          "bdata": "oAI=",
          "dtype": "i2"
         },
         "yaxis": "y"
        },
        {
         "hovertemplate": "page2_clothing_model=%{x}<br>count=%{y}<extra></extra>",
         "legendgroup": "C50",
         "marker": {
          "color": "#FF97FF",
          "pattern": {
           "shape": ""
          }
         },
         "name": "C50",
         "orientation": "v",
         "showlegend": true,
         "textposition": "auto",
         "type": "bar",
         "x": [
          "C50"
         ],
         "xaxis": "x",
         "y": {
          "bdata": "nAI=",
          "dtype": "i2"
         },
         "yaxis": "y"
        },
        {
         "hovertemplate": "page2_clothing_model=%{x}<br>count=%{y}<extra></extra>",
         "legendgroup": "C8",
         "marker": {
          "color": "#FECB52",
          "pattern": {
           "shape": ""
          }
         },
         "name": "C8",
         "orientation": "v",
         "showlegend": true,
         "textposition": "auto",
         "type": "bar",
         "x": [
          "C8"
         ],
         "xaxis": "x",
         "y": {
          "bdata": "nAI=",
          "dtype": "i2"
         },
         "yaxis": "y"
        },
        {
         "hovertemplate": "page2_clothing_model=%{x}<br>count=%{y}<extra></extra>",
         "legendgroup": "P33",
         "marker": {
          "color": "#636efa",
          "pattern": {
           "shape": ""
          }
         },
         "name": "P33",
         "orientation": "v",
         "showlegend": true,
         "textposition": "auto",
         "type": "bar",
         "x": [
          "P33"
         ],
         "xaxis": "x",
         "y": {
          "bdata": "lQI=",
          "dtype": "i2"
         },
         "yaxis": "y"
        },
        {
         "hovertemplate": "page2_clothing_model=%{x}<br>count=%{y}<extra></extra>",
         "legendgroup": "C57",
         "marker": {
          "color": "#EF553B",
          "pattern": {
           "shape": ""
          }
         },
         "name": "C57",
         "orientation": "v",
         "showlegend": true,
         "textposition": "auto",
         "type": "bar",
         "x": [
          "C57"
         ],
         "xaxis": "x",
         "y": {
          "bdata": "hgI=",
          "dtype": "i2"
         },
         "yaxis": "y"
        },
        {
         "hovertemplate": "page2_clothing_model=%{x}<br>count=%{y}<extra></extra>",
         "legendgroup": "C21",
         "marker": {
          "color": "#00cc96",
          "pattern": {
           "shape": ""
          }
         },
         "name": "C21",
         "orientation": "v",
         "showlegend": true,
         "textposition": "auto",
         "type": "bar",
         "x": [
          "C21"
         ],
         "xaxis": "x",
         "y": {
          "bdata": "bwI=",
          "dtype": "i2"
         },
         "yaxis": "y"
        },
        {
         "hovertemplate": "page2_clothing_model=%{x}<br>count=%{y}<extra></extra>",
         "legendgroup": "P5",
         "marker": {
          "color": "#ab63fa",
          "pattern": {
           "shape": ""
          }
         },
         "name": "P5",
         "orientation": "v",
         "showlegend": true,
         "textposition": "auto",
         "type": "bar",
         "x": [
          "P5"
         ],
         "xaxis": "x",
         "y": {
          "bdata": "bwI=",
          "dtype": "i2"
         },
         "yaxis": "y"
        },
        {
         "hovertemplate": "page2_clothing_model=%{x}<br>count=%{y}<extra></extra>",
         "legendgroup": "A37",
         "marker": {
          "color": "#FFA15A",
          "pattern": {
           "shape": ""
          }
         },
         "name": "A37",
         "orientation": "v",
         "showlegend": true,
         "textposition": "auto",
         "type": "bar",
         "x": [
          "A37"
         ],
         "xaxis": "x",
         "y": {
          "bdata": "bgI=",
          "dtype": "i2"
         },
         "yaxis": "y"
        },
        {
         "hovertemplate": "page2_clothing_model=%{x}<br>count=%{y}<extra></extra>",
         "legendgroup": "C35",
         "marker": {
          "color": "#19d3f3",
          "pattern": {
           "shape": ""
          }
         },
         "name": "C35",
         "orientation": "v",
         "showlegend": true,
         "textposition": "auto",
         "type": "bar",
         "x": [
          "C35"
         ],
         "xaxis": "x",
         "y": {
          "bdata": "bQI=",
          "dtype": "i2"
         },
         "yaxis": "y"
        },
        {
         "hovertemplate": "page2_clothing_model=%{x}<br>count=%{y}<extra></extra>",
         "legendgroup": "P14",
         "marker": {
          "color": "#FF6692",
          "pattern": {
           "shape": ""
          }
         },
         "name": "P14",
         "orientation": "v",
         "showlegend": true,
         "textposition": "auto",
         "type": "bar",
         "x": [
          "P14"
         ],
         "xaxis": "x",
         "y": {
          "bdata": "agI=",
          "dtype": "i2"
         },
         "yaxis": "y"
        },
        {
         "hovertemplate": "page2_clothing_model=%{x}<br>count=%{y}<extra></extra>",
         "legendgroup": "C29",
         "marker": {
          "color": "#B6E880",
          "pattern": {
           "shape": ""
          }
         },
         "name": "C29",
         "orientation": "v",
         "showlegend": true,
         "textposition": "auto",
         "type": "bar",
         "x": [
          "C29"
         ],
         "xaxis": "x",
         "y": {
          "bdata": "XQI=",
          "dtype": "i2"
         },
         "yaxis": "y"
        },
        {
         "hovertemplate": "page2_clothing_model=%{x}<br>count=%{y}<extra></extra>",
         "legendgroup": "P82",
         "marker": {
          "color": "#FF97FF",
          "pattern": {
           "shape": ""
          }
         },
         "name": "P82",
         "orientation": "v",
         "showlegend": true,
         "textposition": "auto",
         "type": "bar",
         "x": [
          "P82"
         ],
         "xaxis": "x",
         "y": {
          "bdata": "VAI=",
          "dtype": "i2"
         },
         "yaxis": "y"
        },
        {
         "hovertemplate": "page2_clothing_model=%{x}<br>count=%{y}<extra></extra>",
         "legendgroup": "C41",
         "marker": {
          "color": "#FECB52",
          "pattern": {
           "shape": ""
          }
         },
         "name": "C41",
         "orientation": "v",
         "showlegend": true,
         "textposition": "auto",
         "type": "bar",
         "x": [
          "C41"
         ],
         "xaxis": "x",
         "y": {
          "bdata": "UQI=",
          "dtype": "i2"
         },
         "yaxis": "y"
        },
        {
         "hovertemplate": "page2_clothing_model=%{x}<br>count=%{y}<extra></extra>",
         "legendgroup": "P11",
         "marker": {
          "color": "#636efa",
          "pattern": {
           "shape": ""
          }
         },
         "name": "P11",
         "orientation": "v",
         "showlegend": true,
         "textposition": "auto",
         "type": "bar",
         "x": [
          "P11"
         ],
         "xaxis": "x",
         "y": {
          "bdata": "UQI=",
          "dtype": "i2"
         },
         "yaxis": "y"
        },
        {
         "hovertemplate": "page2_clothing_model=%{x}<br>count=%{y}<extra></extra>",
         "legendgroup": "A41",
         "marker": {
          "color": "#EF553B",
          "pattern": {
           "shape": ""
          }
         },
         "name": "A41",
         "orientation": "v",
         "showlegend": true,
         "textposition": "auto",
         "type": "bar",
         "x": [
          "A41"
         ],
         "xaxis": "x",
         "y": {
          "bdata": "UQI=",
          "dtype": "i2"
         },
         "yaxis": "y"
        },
        {
         "hovertemplate": "page2_clothing_model=%{x}<br>count=%{y}<extra></extra>",
         "legendgroup": "P39",
         "marker": {
          "color": "#00cc96",
          "pattern": {
           "shape": ""
          }
         },
         "name": "P39",
         "orientation": "v",
         "showlegend": true,
         "textposition": "auto",
         "type": "bar",
         "x": [
          "P39"
         ],
         "xaxis": "x",
         "y": {
          "bdata": "SQI=",
          "dtype": "i2"
         },
         "yaxis": "y"
        },
        {
         "hovertemplate": "page2_clothing_model=%{x}<br>count=%{y}<extra></extra>",
         "legendgroup": "C30",
         "marker": {
          "color": "#ab63fa",
          "pattern": {
           "shape": ""
          }
         },
         "name": "C30",
         "orientation": "v",
         "showlegend": true,
         "textposition": "auto",
         "type": "bar",
         "x": [
          "C30"
         ],
         "xaxis": "x",
         "y": {
          "bdata": "RQI=",
          "dtype": "i2"
         },
         "yaxis": "y"
        },
        {
         "hovertemplate": "page2_clothing_model=%{x}<br>count=%{y}<extra></extra>",
         "legendgroup": "C6",
         "marker": {
          "color": "#FFA15A",
          "pattern": {
           "shape": ""
          }
         },
         "name": "C6",
         "orientation": "v",
         "showlegend": true,
         "textposition": "auto",
         "type": "bar",
         "x": [
          "C6"
         ],
         "xaxis": "x",
         "y": {
          "bdata": "RQI=",
          "dtype": "i2"
         },
         "yaxis": "y"
        },
        {
         "hovertemplate": "page2_clothing_model=%{x}<br>count=%{y}<extra></extra>",
         "legendgroup": "A29",
         "marker": {
          "color": "#19d3f3",
          "pattern": {
           "shape": ""
          }
         },
         "name": "A29",
         "orientation": "v",
         "showlegend": true,
         "textposition": "auto",
         "type": "bar",
         "x": [
          "A29"
         ],
         "xaxis": "x",
         "y": {
          "bdata": "PAI=",
          "dtype": "i2"
         },
         "yaxis": "y"
        },
        {
         "hovertemplate": "page2_clothing_model=%{x}<br>count=%{y}<extra></extra>",
         "legendgroup": "C34",
         "marker": {
          "color": "#FF6692",
          "pattern": {
           "shape": ""
          }
         },
         "name": "C34",
         "orientation": "v",
         "showlegend": true,
         "textposition": "auto",
         "type": "bar",
         "x": [
          "C34"
         ],
         "xaxis": "x",
         "y": {
          "bdata": "NwI=",
          "dtype": "i2"
         },
         "yaxis": "y"
        },
        {
         "hovertemplate": "page2_clothing_model=%{x}<br>count=%{y}<extra></extra>",
         "legendgroup": "B25",
         "marker": {
          "color": "#B6E880",
          "pattern": {
           "shape": ""
          }
         },
         "name": "B25",
         "orientation": "v",
         "showlegend": true,
         "textposition": "auto",
         "type": "bar",
         "x": [
          "B25"
         ],
         "xaxis": "x",
         "y": {
          "bdata": "NQI=",
          "dtype": "i2"
         },
         "yaxis": "y"
        },
        {
         "hovertemplate": "page2_clothing_model=%{x}<br>count=%{y}<extra></extra>",
         "legendgroup": "A30",
         "marker": {
          "color": "#FF97FF",
          "pattern": {
           "shape": ""
          }
         },
         "name": "A30",
         "orientation": "v",
         "showlegend": true,
         "textposition": "auto",
         "type": "bar",
         "x": [
          "A30"
         ],
         "xaxis": "x",
         "y": {
          "bdata": "MwI=",
          "dtype": "i2"
         },
         "yaxis": "y"
        },
        {
         "hovertemplate": "page2_clothing_model=%{x}<br>count=%{y}<extra></extra>",
         "legendgroup": "C54",
         "marker": {
          "color": "#FECB52",
          "pattern": {
           "shape": ""
          }
         },
         "name": "C54",
         "orientation": "v",
         "showlegend": true,
         "textposition": "auto",
         "type": "bar",
         "x": [
          "C54"
         ],
         "xaxis": "x",
         "y": {
          "bdata": "KQI=",
          "dtype": "i2"
         },
         "yaxis": "y"
        },
        {
         "hovertemplate": "page2_clothing_model=%{x}<br>count=%{y}<extra></extra>",
         "legendgroup": "C33",
         "marker": {
          "color": "#636efa",
          "pattern": {
           "shape": ""
          }
         },
         "name": "C33",
         "orientation": "v",
         "showlegend": true,
         "textposition": "auto",
         "type": "bar",
         "x": [
          "C33"
         ],
         "xaxis": "x",
         "y": {
          "bdata": "IwI=",
          "dtype": "i2"
         },
         "yaxis": "y"
        },
        {
         "hovertemplate": "page2_clothing_model=%{x}<br>count=%{y}<extra></extra>",
         "legendgroup": "C53",
         "marker": {
          "color": "#EF553B",
          "pattern": {
           "shape": ""
          }
         },
         "name": "C53",
         "orientation": "v",
         "showlegend": true,
         "textposition": "auto",
         "type": "bar",
         "x": [
          "C53"
         ],
         "xaxis": "x",
         "y": {
          "bdata": "HAI=",
          "dtype": "i2"
         },
         "yaxis": "y"
        },
        {
         "hovertemplate": "page2_clothing_model=%{x}<br>count=%{y}<extra></extra>",
         "legendgroup": "C18",
         "marker": {
          "color": "#00cc96",
          "pattern": {
           "shape": ""
          }
         },
         "name": "C18",
         "orientation": "v",
         "showlegend": true,
         "textposition": "auto",
         "type": "bar",
         "x": [
          "C18"
         ],
         "xaxis": "x",
         "y": {
          "bdata": "GwI=",
          "dtype": "i2"
         },
         "yaxis": "y"
        },
        {
         "hovertemplate": "page2_clothing_model=%{x}<br>count=%{y}<extra></extra>",
         "legendgroup": "P20",
         "marker": {
          "color": "#ab63fa",
          "pattern": {
           "shape": ""
          }
         },
         "name": "P20",
         "orientation": "v",
         "showlegend": true,
         "textposition": "auto",
         "type": "bar",
         "x": [
          "P20"
         ],
         "xaxis": "x",
         "y": {
          "bdata": "FQI=",
          "dtype": "i2"
         },
         "yaxis": "y"
        },
        {
         "hovertemplate": "page2_clothing_model=%{x}<br>count=%{y}<extra></extra>",
         "legendgroup": "B6",
         "marker": {
          "color": "#FFA15A",
          "pattern": {
           "shape": ""
          }
         },
         "name": "B6",
         "orientation": "v",
         "showlegend": true,
         "textposition": "auto",
         "type": "bar",
         "x": [
          "B6"
         ],
         "xaxis": "x",
         "y": {
          "bdata": "FAI=",
          "dtype": "i2"
         },
         "yaxis": "y"
        },
        {
         "hovertemplate": "page2_clothing_model=%{x}<br>count=%{y}<extra></extra>",
         "legendgroup": "P49",
         "marker": {
          "color": "#19d3f3",
          "pattern": {
           "shape": ""
          }
         },
         "name": "P49",
         "orientation": "v",
         "showlegend": true,
         "textposition": "auto",
         "type": "bar",
         "x": [
          "P49"
         ],
         "xaxis": "x",
         "y": {
          "bdata": "EQI=",
          "dtype": "i2"
         },
         "yaxis": "y"
        },
        {
         "hovertemplate": "page2_clothing_model=%{x}<br>count=%{y}<extra></extra>",
         "legendgroup": "A42",
         "marker": {
          "color": "#FF6692",
          "pattern": {
           "shape": ""
          }
         },
         "name": "A42",
         "orientation": "v",
         "showlegend": true,
         "textposition": "auto",
         "type": "bar",
         "x": [
          "A42"
         ],
         "xaxis": "x",
         "y": {
          "bdata": "EAI=",
          "dtype": "i2"
         },
         "yaxis": "y"
        },
        {
         "hovertemplate": "page2_clothing_model=%{x}<br>count=%{y}<extra></extra>",
         "legendgroup": "P8",
         "marker": {
          "color": "#B6E880",
          "pattern": {
           "shape": ""
          }
         },
         "name": "P8",
         "orientation": "v",
         "showlegend": true,
         "textposition": "auto",
         "type": "bar",
         "x": [
          "P8"
         ],
         "xaxis": "x",
         "y": {
          "bdata": "BwI=",
          "dtype": "i2"
         },
         "yaxis": "y"
        },
        {
         "hovertemplate": "page2_clothing_model=%{x}<br>count=%{y}<extra></extra>",
         "legendgroup": "A32",
         "marker": {
          "color": "#FF97FF",
          "pattern": {
           "shape": ""
          }
         },
         "name": "A32",
         "orientation": "v",
         "showlegend": true,
         "textposition": "auto",
         "type": "bar",
         "x": [
          "A32"
         ],
         "xaxis": "x",
         "y": {
          "bdata": "BAI=",
          "dtype": "i2"
         },
         "yaxis": "y"
        },
        {
         "hovertemplate": "page2_clothing_model=%{x}<br>count=%{y}<extra></extra>",
         "legendgroup": "B34",
         "marker": {
          "color": "#FECB52",
          "pattern": {
           "shape": ""
          }
         },
         "name": "B34",
         "orientation": "v",
         "showlegend": true,
         "textposition": "auto",
         "type": "bar",
         "x": [
          "B34"
         ],
         "xaxis": "x",
         "y": {
          "bdata": "+AE=",
          "dtype": "i2"
         },
         "yaxis": "y"
        },
        {
         "hovertemplate": "page2_clothing_model=%{x}<br>count=%{y}<extra></extra>",
         "legendgroup": "P9",
         "marker": {
          "color": "#636efa",
          "pattern": {
           "shape": ""
          }
         },
         "name": "P9",
         "orientation": "v",
         "showlegend": true,
         "textposition": "auto",
         "type": "bar",
         "x": [
          "P9"
         ],
         "xaxis": "x",
         "y": {
          "bdata": "9wE=",
          "dtype": "i2"
         },
         "yaxis": "y"
        },
        {
         "hovertemplate": "page2_clothing_model=%{x}<br>count=%{y}<extra></extra>",
         "legendgroup": "A22",
         "marker": {
          "color": "#EF553B",
          "pattern": {
           "shape": ""
          }
         },
         "name": "A22",
         "orientation": "v",
         "showlegend": true,
         "textposition": "auto",
         "type": "bar",
         "x": [
          "A22"
         ],
         "xaxis": "x",
         "y": {
          "bdata": "9QE=",
          "dtype": "i2"
         },
         "yaxis": "y"
        },
        {
         "hovertemplate": "page2_clothing_model=%{x}<br>count=%{y}<extra></extra>",
         "legendgroup": "C3",
         "marker": {
          "color": "#00cc96",
          "pattern": {
           "shape": ""
          }
         },
         "name": "C3",
         "orientation": "v",
         "showlegend": true,
         "textposition": "auto",
         "type": "bar",
         "x": [
          "C3"
         ],
         "xaxis": "x",
         "y": {
          "bdata": "6gE=",
          "dtype": "i2"
         },
         "yaxis": "y"
        },
        {
         "hovertemplate": "page2_clothing_model=%{x}<br>count=%{y}<extra></extra>",
         "legendgroup": "C55",
         "marker": {
          "color": "#ab63fa",
          "pattern": {
           "shape": ""
          }
         },
         "name": "C55",
         "orientation": "v",
         "showlegend": true,
         "textposition": "auto",
         "type": "bar",
         "x": [
          "C55"
         ],
         "xaxis": "x",
         "y": {
          "bdata": "4wE=",
          "dtype": "i2"
         },
         "yaxis": "y"
        },
        {
         "hovertemplate": "page2_clothing_model=%{x}<br>count=%{y}<extra></extra>",
         "legendgroup": "C16",
         "marker": {
          "color": "#FFA15A",
          "pattern": {
           "shape": ""
          }
         },
         "name": "C16",
         "orientation": "v",
         "showlegend": true,
         "textposition": "auto",
         "type": "bar",
         "x": [
          "C16"
         ],
         "xaxis": "x",
         "y": {
          "bdata": "4wE=",
          "dtype": "i2"
         },
         "yaxis": "y"
        },
        {
         "hovertemplate": "page2_clothing_model=%{x}<br>count=%{y}<extra></extra>",
         "legendgroup": "C10",
         "marker": {
          "color": "#19d3f3",
          "pattern": {
           "shape": ""
          }
         },
         "name": "C10",
         "orientation": "v",
         "showlegend": true,
         "textposition": "auto",
         "type": "bar",
         "x": [
          "C10"
         ],
         "xaxis": "x",
         "y": {
          "bdata": "4AE=",
          "dtype": "i2"
         },
         "yaxis": "y"
        },
        {
         "hovertemplate": "page2_clothing_model=%{x}<br>count=%{y}<extra></extra>",
         "legendgroup": "C51",
         "marker": {
          "color": "#FF6692",
          "pattern": {
           "shape": ""
          }
         },
         "name": "C51",
         "orientation": "v",
         "showlegend": true,
         "textposition": "auto",
         "type": "bar",
         "x": [
          "C51"
         ],
         "xaxis": "x",
         "y": {
          "bdata": "3wE=",
          "dtype": "i2"
         },
         "yaxis": "y"
        },
        {
         "hovertemplate": "page2_clothing_model=%{x}<br>count=%{y}<extra></extra>",
         "legendgroup": "P26",
         "marker": {
          "color": "#B6E880",
          "pattern": {
           "shape": ""
          }
         },
         "name": "P26",
         "orientation": "v",
         "showlegend": true,
         "textposition": "auto",
         "type": "bar",
         "x": [
          "P26"
         ],
         "xaxis": "x",
         "y": {
          "bdata": "2wE=",
          "dtype": "i2"
         },
         "yaxis": "y"
        },
        {
         "hovertemplate": "page2_clothing_model=%{x}<br>count=%{y}<extra></extra>",
         "legendgroup": "A34",
         "marker": {
          "color": "#FF97FF",
          "pattern": {
           "shape": ""
          }
         },
         "name": "A34",
         "orientation": "v",
         "showlegend": true,
         "textposition": "auto",
         "type": "bar",
         "x": [
          "A34"
         ],
         "xaxis": "x",
         "y": {
          "bdata": "zQE=",
          "dtype": "i2"
         },
         "yaxis": "y"
        },
        {
         "hovertemplate": "page2_clothing_model=%{x}<br>count=%{y}<extra></extra>",
         "legendgroup": "P7",
         "marker": {
          "color": "#FECB52",
          "pattern": {
           "shape": ""
          }
         },
         "name": "P7",
         "orientation": "v",
         "showlegend": true,
         "textposition": "auto",
         "type": "bar",
         "x": [
          "P7"
         ],
         "xaxis": "x",
         "y": {
          "bdata": "zQE=",
          "dtype": "i2"
         },
         "yaxis": "y"
        },
        {
         "hovertemplate": "page2_clothing_model=%{x}<br>count=%{y}<extra></extra>",
         "legendgroup": "A20",
         "marker": {
          "color": "#636efa",
          "pattern": {
           "shape": ""
          }
         },
         "name": "A20",
         "orientation": "v",
         "showlegend": true,
         "textposition": "auto",
         "type": "bar",
         "x": [
          "A20"
         ],
         "xaxis": "x",
         "y": {
          "bdata": "vQE=",
          "dtype": "i2"
         },
         "yaxis": "y"
        },
        {
         "hovertemplate": "page2_clothing_model=%{x}<br>count=%{y}<extra></extra>",
         "legendgroup": "P18",
         "marker": {
          "color": "#EF553B",
          "pattern": {
           "shape": ""
          }
         },
         "name": "P18",
         "orientation": "v",
         "showlegend": true,
         "textposition": "auto",
         "type": "bar",
         "x": [
          "P18"
         ],
         "xaxis": "x",
         "y": {
          "bdata": "uwE=",
          "dtype": "i2"
         },
         "yaxis": "y"
        },
        {
         "hovertemplate": "page2_clothing_model=%{x}<br>count=%{y}<extra></extra>",
         "legendgroup": "B5",
         "marker": {
          "color": "#00cc96",
          "pattern": {
           "shape": ""
          }
         },
         "name": "B5",
         "orientation": "v",
         "showlegend": true,
         "textposition": "auto",
         "type": "bar",
         "x": [
          "B5"
         ],
         "xaxis": "x",
         "y": {
          "bdata": "uQE=",
          "dtype": "i2"
         },
         "yaxis": "y"
        },
        {
         "hovertemplate": "page2_clothing_model=%{x}<br>count=%{y}<extra></extra>",
         "legendgroup": "C36",
         "marker": {
          "color": "#ab63fa",
          "pattern": {
           "shape": ""
          }
         },
         "name": "C36",
         "orientation": "v",
         "showlegend": true,
         "textposition": "auto",
         "type": "bar",
         "x": [
          "C36"
         ],
         "xaxis": "x",
         "y": {
          "bdata": "twE=",
          "dtype": "i2"
         },
         "yaxis": "y"
        },
        {
         "hovertemplate": "page2_clothing_model=%{x}<br>count=%{y}<extra></extra>",
         "legendgroup": "P13",
         "marker": {
          "color": "#FFA15A",
          "pattern": {
           "shape": ""
          }
         },
         "name": "P13",
         "orientation": "v",
         "showlegend": true,
         "textposition": "auto",
         "type": "bar",
         "x": [
          "P13"
         ],
         "xaxis": "x",
         "y": {
          "bdata": "sgE=",
          "dtype": "i2"
         },
         "yaxis": "y"
        },
        {
         "hovertemplate": "page2_clothing_model=%{x}<br>count=%{y}<extra></extra>",
         "legendgroup": "C58",
         "marker": {
          "color": "#19d3f3",
          "pattern": {
           "shape": ""
          }
         },
         "name": "C58",
         "orientation": "v",
         "showlegend": true,
         "textposition": "auto",
         "type": "bar",
         "x": [
          "C58"
         ],
         "xaxis": "x",
         "y": {
          "bdata": "rgE=",
          "dtype": "i2"
         },
         "yaxis": "y"
        },
        {
         "hovertemplate": "page2_clothing_model=%{x}<br>count=%{y}<extra></extra>",
         "legendgroup": "P50",
         "marker": {
          "color": "#FF6692",
          "pattern": {
           "shape": ""
          }
         },
         "name": "P50",
         "orientation": "v",
         "showlegend": true,
         "textposition": "auto",
         "type": "bar",
         "x": [
          "P50"
         ],
         "xaxis": "x",
         "y": {
          "bdata": "rgE=",
          "dtype": "i2"
         },
         "yaxis": "y"
        },
        {
         "hovertemplate": "page2_clothing_model=%{x}<br>count=%{y}<extra></extra>",
         "legendgroup": "P70",
         "marker": {
          "color": "#B6E880",
          "pattern": {
           "shape": ""
          }
         },
         "name": "P70",
         "orientation": "v",
         "showlegend": true,
         "textposition": "auto",
         "type": "bar",
         "x": [
          "P70"
         ],
         "xaxis": "x",
         "y": {
          "bdata": "rgE=",
          "dtype": "i2"
         },
         "yaxis": "y"
        },
        {
         "hovertemplate": "page2_clothing_model=%{x}<br>count=%{y}<extra></extra>",
         "legendgroup": "C19",
         "marker": {
          "color": "#FF97FF",
          "pattern": {
           "shape": ""
          }
         },
         "name": "C19",
         "orientation": "v",
         "showlegend": true,
         "textposition": "auto",
         "type": "bar",
         "x": [
          "C19"
         ],
         "xaxis": "x",
         "y": {
          "bdata": "pwE=",
          "dtype": "i2"
         },
         "yaxis": "y"
        },
        {
         "hovertemplate": "page2_clothing_model=%{x}<br>count=%{y}<extra></extra>",
         "legendgroup": "B29",
         "marker": {
          "color": "#FECB52",
          "pattern": {
           "shape": ""
          }
         },
         "name": "B29",
         "orientation": "v",
         "showlegend": true,
         "textposition": "auto",
         "type": "bar",
         "x": [
          "B29"
         ],
         "xaxis": "x",
         "y": {
          "bdata": "pwE=",
          "dtype": "i2"
         },
         "yaxis": "y"
        },
        {
         "hovertemplate": "page2_clothing_model=%{x}<br>count=%{y}<extra></extra>",
         "legendgroup": "P61",
         "marker": {
          "color": "#636efa",
          "pattern": {
           "shape": ""
          }
         },
         "name": "P61",
         "orientation": "v",
         "showlegend": true,
         "textposition": "auto",
         "type": "bar",
         "x": [
          "P61"
         ],
         "xaxis": "x",
         "y": {
          "bdata": "ogE=",
          "dtype": "i2"
         },
         "yaxis": "y"
        },
        {
         "hovertemplate": "page2_clothing_model=%{x}<br>count=%{y}<extra></extra>",
         "legendgroup": "C26",
         "marker": {
          "color": "#EF553B",
          "pattern": {
           "shape": ""
          }
         },
         "name": "C26",
         "orientation": "v",
         "showlegend": true,
         "textposition": "auto",
         "type": "bar",
         "x": [
          "C26"
         ],
         "xaxis": "x",
         "y": {
          "bdata": "nQE=",
          "dtype": "i2"
         },
         "yaxis": "y"
        },
        {
         "hovertemplate": "page2_clothing_model=%{x}<br>count=%{y}<extra></extra>",
         "legendgroup": "C15",
         "marker": {
          "color": "#00cc96",
          "pattern": {
           "shape": ""
          }
         },
         "name": "C15",
         "orientation": "v",
         "showlegend": true,
         "textposition": "auto",
         "type": "bar",
         "x": [
          "C15"
         ],
         "xaxis": "x",
         "y": {
          "bdata": "nQE=",
          "dtype": "i2"
         },
         "yaxis": "y"
        },
        {
         "hovertemplate": "page2_clothing_model=%{x}<br>count=%{y}<extra></extra>",
         "legendgroup": "B8",
         "marker": {
          "color": "#ab63fa",
          "pattern": {
           "shape": ""
          }
         },
         "name": "B8",
         "orientation": "v",
         "showlegend": true,
         "textposition": "auto",
         "type": "bar",
         "x": [
          "B8"
         ],
         "xaxis": "x",
         "y": {
          "bdata": "mwE=",
          "dtype": "i2"
         },
         "yaxis": "y"
        },
        {
         "hovertemplate": "page2_clothing_model=%{x}<br>count=%{y}<extra></extra>",
         "legendgroup": "A28",
         "marker": {
          "color": "#FFA15A",
          "pattern": {
           "shape": ""
          }
         },
         "name": "A28",
         "orientation": "v",
         "showlegend": true,
         "textposition": "auto",
         "type": "bar",
         "x": [
          "A28"
         ],
         "xaxis": "x",
         "y": {
          "bdata": "mQE=",
          "dtype": "i2"
         },
         "yaxis": "y"
        },
        {
         "hovertemplate": "page2_clothing_model=%{x}<br>count=%{y}<extra></extra>",
         "legendgroup": "C42",
         "marker": {
          "color": "#19d3f3",
          "pattern": {
           "shape": ""
          }
         },
         "name": "C42",
         "orientation": "v",
         "showlegend": true,
         "textposition": "auto",
         "type": "bar",
         "x": [
          "C42"
         ],
         "xaxis": "x",
         "y": {
          "bdata": "kwE=",
          "dtype": "i2"
         },
         "yaxis": "y"
        },
        {
         "hovertemplate": "page2_clothing_model=%{x}<br>count=%{y}<extra></extra>",
         "legendgroup": "B28",
         "marker": {
          "color": "#FF6692",
          "pattern": {
           "shape": ""
          }
         },
         "name": "B28",
         "orientation": "v",
         "showlegend": true,
         "textposition": "auto",
         "type": "bar",
         "x": [
          "B28"
         ],
         "xaxis": "x",
         "y": {
          "bdata": "jgE=",
          "dtype": "i2"
         },
         "yaxis": "y"
        },
        {
         "hovertemplate": "page2_clothing_model=%{x}<br>count=%{y}<extra></extra>",
         "legendgroup": "P60",
         "marker": {
          "color": "#B6E880",
          "pattern": {
           "shape": ""
          }
         },
         "name": "P60",
         "orientation": "v",
         "showlegend": true,
         "textposition": "auto",
         "type": "bar",
         "x": [
          "P60"
         ],
         "xaxis": "x",
         "y": {
          "bdata": "iQE=",
          "dtype": "i2"
         },
         "yaxis": "y"
        },
        {
         "hovertemplate": "page2_clothing_model=%{x}<br>count=%{y}<extra></extra>",
         "legendgroup": "A39",
         "marker": {
          "color": "#FF97FF",
          "pattern": {
           "shape": ""
          }
         },
         "name": "A39",
         "orientation": "v",
         "showlegend": true,
         "textposition": "auto",
         "type": "bar",
         "x": [
          "A39"
         ],
         "xaxis": "x",
         "y": {
          "bdata": "hgE=",
          "dtype": "i2"
         },
         "yaxis": "y"
        },
        {
         "hovertemplate": "page2_clothing_model=%{x}<br>count=%{y}<extra></extra>",
         "legendgroup": "A35",
         "marker": {
          "color": "#FECB52",
          "pattern": {
           "shape": ""
          }
         },
         "name": "A35",
         "orientation": "v",
         "showlegend": true,
         "textposition": "auto",
         "type": "bar",
         "x": [
          "A35"
         ],
         "xaxis": "x",
         "y": {
          "bdata": "gwE=",
          "dtype": "i2"
         },
         "yaxis": "y"
        },
        {
         "hovertemplate": "page2_clothing_model=%{x}<br>count=%{y}<extra></extra>",
         "legendgroup": "C59",
         "marker": {
          "color": "#636efa",
          "pattern": {
           "shape": ""
          }
         },
         "name": "C59",
         "orientation": "v",
         "showlegend": true,
         "textposition": "auto",
         "type": "bar",
         "x": [
          "C59"
         ],
         "xaxis": "x",
         "y": {
          "bdata": "fQE=",
          "dtype": "i2"
         },
         "yaxis": "y"
        },
        {
         "hovertemplate": "page2_clothing_model=%{x}<br>count=%{y}<extra></extra>",
         "legendgroup": "A38",
         "marker": {
          "color": "#EF553B",
          "pattern": {
           "shape": ""
          }
         },
         "name": "A38",
         "orientation": "v",
         "showlegend": true,
         "textposition": "auto",
         "type": "bar",
         "x": [
          "A38"
         ],
         "xaxis": "x",
         "y": {
          "bdata": "fQE=",
          "dtype": "i2"
         },
         "yaxis": "y"
        },
        {
         "hovertemplate": "page2_clothing_model=%{x}<br>count=%{y}<extra></extra>",
         "legendgroup": "A26",
         "marker": {
          "color": "#00cc96",
          "pattern": {
           "shape": ""
          }
         },
         "name": "A26",
         "orientation": "v",
         "showlegend": true,
         "textposition": "auto",
         "type": "bar",
         "x": [
          "A26"
         ],
         "xaxis": "x",
         "y": {
          "bdata": "fQE=",
          "dtype": "i2"
         },
         "yaxis": "y"
        },
        {
         "hovertemplate": "page2_clothing_model=%{x}<br>count=%{y}<extra></extra>",
         "legendgroup": "C48",
         "marker": {
          "color": "#ab63fa",
          "pattern": {
           "shape": ""
          }
         },
         "name": "C48",
         "orientation": "v",
         "showlegend": true,
         "textposition": "auto",
         "type": "bar",
         "x": [
          "C48"
         ],
         "xaxis": "x",
         "y": {
          "bdata": "ewE=",
          "dtype": "i2"
         },
         "yaxis": "y"
        },
        {
         "hovertemplate": "page2_clothing_model=%{x}<br>count=%{y}<extra></extra>",
         "legendgroup": "C24",
         "marker": {
          "color": "#FFA15A",
          "pattern": {
           "shape": ""
          }
         },
         "name": "C24",
         "orientation": "v",
         "showlegend": true,
         "textposition": "auto",
         "type": "bar",
         "x": [
          "C24"
         ],
         "xaxis": "x",
         "y": {
          "bdata": "egE=",
          "dtype": "i2"
         },
         "yaxis": "y"
        },
        {
         "hovertemplate": "page2_clothing_model=%{x}<br>count=%{y}<extra></extra>",
         "legendgroup": "B7",
         "marker": {
          "color": "#19d3f3",
          "pattern": {
           "shape": ""
          }
         },
         "name": "B7",
         "orientation": "v",
         "showlegend": true,
         "textposition": "auto",
         "type": "bar",
         "x": [
          "B7"
         ],
         "xaxis": "x",
         "y": {
          "bdata": "eAE=",
          "dtype": "i2"
         },
         "yaxis": "y"
        },
        {
         "hovertemplate": "page2_clothing_model=%{x}<br>count=%{y}<extra></extra>",
         "legendgroup": "C46",
         "marker": {
          "color": "#FF6692",
          "pattern": {
           "shape": ""
          }
         },
         "name": "C46",
         "orientation": "v",
         "showlegend": true,
         "textposition": "auto",
         "type": "bar",
         "x": [
          "C46"
         ],
         "xaxis": "x",
         "y": {
          "bdata": "dgE=",
          "dtype": "i2"
         },
         "yaxis": "y"
        },
        {
         "hovertemplate": "page2_clothing_model=%{x}<br>count=%{y}<extra></extra>",
         "legendgroup": "C44",
         "marker": {
          "color": "#B6E880",
          "pattern": {
           "shape": ""
          }
         },
         "name": "C44",
         "orientation": "v",
         "showlegend": true,
         "textposition": "auto",
         "type": "bar",
         "x": [
          "C44"
         ],
         "xaxis": "x",
         "y": {
          "bdata": "dgE=",
          "dtype": "i2"
         },
         "yaxis": "y"
        },
        {
         "hovertemplate": "page2_clothing_model=%{x}<br>count=%{y}<extra></extra>",
         "legendgroup": "P55",
         "marker": {
          "color": "#FF97FF",
          "pattern": {
           "shape": ""
          }
         },
         "name": "P55",
         "orientation": "v",
         "showlegend": true,
         "textposition": "auto",
         "type": "bar",
         "x": [
          "P55"
         ],
         "xaxis": "x",
         "y": {
          "bdata": "awE=",
          "dtype": "i2"
         },
         "yaxis": "y"
        },
        {
         "hovertemplate": "page2_clothing_model=%{x}<br>count=%{y}<extra></extra>",
         "legendgroup": "P36",
         "marker": {
          "color": "#FECB52",
          "pattern": {
           "shape": ""
          }
         },
         "name": "P36",
         "orientation": "v",
         "showlegend": true,
         "textposition": "auto",
         "type": "bar",
         "x": [
          "P36"
         ],
         "xaxis": "x",
         "y": {
          "bdata": "ZwE=",
          "dtype": "i2"
         },
         "yaxis": "y"
        },
        {
         "hovertemplate": "page2_clothing_model=%{x}<br>count=%{y}<extra></extra>",
         "legendgroup": "P77",
         "marker": {
          "color": "#636efa",
          "pattern": {
           "shape": ""
          }
         },
         "name": "P77",
         "orientation": "v",
         "showlegend": true,
         "textposition": "auto",
         "type": "bar",
         "x": [
          "P77"
         ],
         "xaxis": "x",
         "y": {
          "bdata": "ZQE=",
          "dtype": "i2"
         },
         "yaxis": "y"
        },
        {
         "hovertemplate": "page2_clothing_model=%{x}<br>count=%{y}<extra></extra>",
         "legendgroup": "B33",
         "marker": {
          "color": "#EF553B",
          "pattern": {
           "shape": ""
          }
         },
         "name": "B33",
         "orientation": "v",
         "showlegend": true,
         "textposition": "auto",
         "type": "bar",
         "x": [
          "B33"
         ],
         "xaxis": "x",
         "y": {
          "bdata": "YQE=",
          "dtype": "i2"
         },
         "yaxis": "y"
        },
        {
         "hovertemplate": "page2_clothing_model=%{x}<br>count=%{y}<extra></extra>",
         "legendgroup": "P51",
         "marker": {
          "color": "#00cc96",
          "pattern": {
           "shape": ""
          }
         },
         "name": "P51",
         "orientation": "v",
         "showlegend": true,
         "textposition": "auto",
         "type": "bar",
         "x": [
          "P51"
         ],
         "xaxis": "x",
         "y": {
          "bdata": "XQE=",
          "dtype": "i2"
         },
         "yaxis": "y"
        },
        {
         "hovertemplate": "page2_clothing_model=%{x}<br>count=%{y}<extra></extra>",
         "legendgroup": "C25",
         "marker": {
          "color": "#ab63fa",
          "pattern": {
           "shape": ""
          }
         },
         "name": "C25",
         "orientation": "v",
         "showlegend": true,
         "textposition": "auto",
         "type": "bar",
         "x": [
          "C25"
         ],
         "xaxis": "x",
         "y": {
          "bdata": "WQE=",
          "dtype": "i2"
         },
         "yaxis": "y"
        },
        {
         "hovertemplate": "page2_clothing_model=%{x}<br>count=%{y}<extra></extra>",
         "legendgroup": "P34",
         "marker": {
          "color": "#FFA15A",
          "pattern": {
           "shape": ""
          }
         },
         "name": "P34",
         "orientation": "v",
         "showlegend": true,
         "textposition": "auto",
         "type": "bar",
         "x": [
          "P34"
         ],
         "xaxis": "x",
         "y": {
          "bdata": "TQE=",
          "dtype": "i2"
         },
         "yaxis": "y"
        },
        {
         "hovertemplate": "page2_clothing_model=%{x}<br>count=%{y}<extra></extra>",
         "legendgroup": "A23",
         "marker": {
          "color": "#19d3f3",
          "pattern": {
           "shape": ""
          }
         },
         "name": "A23",
         "orientation": "v",
         "showlegend": true,
         "textposition": "auto",
         "type": "bar",
         "x": [
          "A23"
         ],
         "xaxis": "x",
         "y": {
          "bdata": "TAE=",
          "dtype": "i2"
         },
         "yaxis": "y"
        },
        {
         "hovertemplate": "page2_clothing_model=%{x}<br>count=%{y}<extra></extra>",
         "legendgroup": "P78",
         "marker": {
          "color": "#FF6692",
          "pattern": {
           "shape": ""
          }
         },
         "name": "P78",
         "orientation": "v",
         "showlegend": true,
         "textposition": "auto",
         "type": "bar",
         "x": [
          "P78"
         ],
         "xaxis": "x",
         "y": {
          "bdata": "RwE=",
          "dtype": "i2"
         },
         "yaxis": "y"
        },
        {
         "hovertemplate": "page2_clothing_model=%{x}<br>count=%{y}<extra></extra>",
         "legendgroup": "A27",
         "marker": {
          "color": "#B6E880",
          "pattern": {
           "shape": ""
          }
         },
         "name": "A27",
         "orientation": "v",
         "showlegend": true,
         "textposition": "auto",
         "type": "bar",
         "x": [
          "A27"
         ],
         "xaxis": "x",
         "y": {
          "bdata": "RQE=",
          "dtype": "i2"
         },
         "yaxis": "y"
        },
        {
         "hovertemplate": "page2_clothing_model=%{x}<br>count=%{y}<extra></extra>",
         "legendgroup": "P19",
         "marker": {
          "color": "#FF97FF",
          "pattern": {
           "shape": ""
          }
         },
         "name": "P19",
         "orientation": "v",
         "showlegend": true,
         "textposition": "auto",
         "type": "bar",
         "x": [
          "P19"
         ],
         "xaxis": "x",
         "y": {
          "bdata": "RAE=",
          "dtype": "i2"
         },
         "yaxis": "y"
        },
        {
         "hovertemplate": "page2_clothing_model=%{x}<br>count=%{y}<extra></extra>",
         "legendgroup": "P29",
         "marker": {
          "color": "#FECB52",
          "pattern": {
           "shape": ""
          }
         },
         "name": "P29",
         "orientation": "v",
         "showlegend": true,
         "textposition": "auto",
         "type": "bar",
         "x": [
          "P29"
         ],
         "xaxis": "x",
         "y": {
          "bdata": "PwE=",
          "dtype": "i2"
         },
         "yaxis": "y"
        },
        {
         "hovertemplate": "page2_clothing_model=%{x}<br>count=%{y}<extra></extra>",
         "legendgroup": "B20",
         "marker": {
          "color": "#636efa",
          "pattern": {
           "shape": ""
          }
         },
         "name": "B20",
         "orientation": "v",
         "showlegend": true,
         "textposition": "auto",
         "type": "bar",
         "x": [
          "B20"
         ],
         "xaxis": "x",
         "y": {
          "bdata": "OAE=",
          "dtype": "i2"
         },
         "yaxis": "y"
        },
        {
         "hovertemplate": "page2_clothing_model=%{x}<br>count=%{y}<extra></extra>",
         "legendgroup": "P43",
         "marker": {
          "color": "#EF553B",
          "pattern": {
           "shape": ""
          }
         },
         "name": "P43",
         "orientation": "v",
         "showlegend": true,
         "textposition": "auto",
         "type": "bar",
         "x": [
          "P43"
         ],
         "xaxis": "x",
         "y": {
          "bdata": "NwE=",
          "dtype": "i2"
         },
         "yaxis": "y"
        },
        {
         "hovertemplate": "page2_clothing_model=%{x}<br>count=%{y}<extra></extra>",
         "legendgroup": "P10",
         "marker": {
          "color": "#00cc96",
          "pattern": {
           "shape": ""
          }
         },
         "name": "P10",
         "orientation": "v",
         "showlegend": true,
         "textposition": "auto",
         "type": "bar",
         "x": [
          "P10"
         ],
         "xaxis": "x",
         "y": {
          "bdata": "MwE=",
          "dtype": "i2"
         },
         "yaxis": "y"
        },
        {
         "hovertemplate": "page2_clothing_model=%{x}<br>count=%{y}<extra></extra>",
         "legendgroup": "B22",
         "marker": {
          "color": "#ab63fa",
          "pattern": {
           "shape": ""
          }
         },
         "name": "B22",
         "orientation": "v",
         "showlegend": true,
         "textposition": "auto",
         "type": "bar",
         "x": [
          "B22"
         ],
         "xaxis": "x",
         "y": {
          "bdata": "MQE=",
          "dtype": "i2"
         },
         "yaxis": "y"
        },
        {
         "hovertemplate": "page2_clothing_model=%{x}<br>count=%{y}<extra></extra>",
         "legendgroup": "A19",
         "marker": {
          "color": "#FFA15A",
          "pattern": {
           "shape": ""
          }
         },
         "name": "A19",
         "orientation": "v",
         "showlegend": true,
         "textposition": "auto",
         "type": "bar",
         "x": [
          "A19"
         ],
         "xaxis": "x",
         "y": {
          "bdata": "LQE=",
          "dtype": "i2"
         },
         "yaxis": "y"
        },
        {
         "hovertemplate": "page2_clothing_model=%{x}<br>count=%{y}<extra></extra>",
         "legendgroup": "P72",
         "marker": {
          "color": "#19d3f3",
          "pattern": {
           "shape": ""
          }
         },
         "name": "P72",
         "orientation": "v",
         "showlegend": true,
         "textposition": "auto",
         "type": "bar",
         "x": [
          "P72"
         ],
         "xaxis": "x",
         "y": {
          "bdata": "LAE=",
          "dtype": "i2"
         },
         "yaxis": "y"
        },
        {
         "hovertemplate": "page2_clothing_model=%{x}<br>count=%{y}<extra></extra>",
         "legendgroup": "A36",
         "marker": {
          "color": "#FF6692",
          "pattern": {
           "shape": ""
          }
         },
         "name": "A36",
         "orientation": "v",
         "showlegend": true,
         "textposition": "auto",
         "type": "bar",
         "x": [
          "A36"
         ],
         "xaxis": "x",
         "y": {
          "bdata": "LAE=",
          "dtype": "i2"
         },
         "yaxis": "y"
        },
        {
         "hovertemplate": "page2_clothing_model=%{x}<br>count=%{y}<extra></extra>",
         "legendgroup": "P37",
         "marker": {
          "color": "#B6E880",
          "pattern": {
           "shape": ""
          }
         },
         "name": "P37",
         "orientation": "v",
         "showlegend": true,
         "textposition": "auto",
         "type": "bar",
         "x": [
          "P37"
         ],
         "xaxis": "x",
         "y": {
          "bdata": "KwE=",
          "dtype": "i2"
         },
         "yaxis": "y"
        },
        {
         "hovertemplate": "page2_clothing_model=%{x}<br>count=%{y}<extra></extra>",
         "legendgroup": "P65",
         "marker": {
          "color": "#FF97FF",
          "pattern": {
           "shape": ""
          }
         },
         "name": "P65",
         "orientation": "v",
         "showlegend": true,
         "textposition": "auto",
         "type": "bar",
         "x": [
          "P65"
         ],
         "xaxis": "x",
         "y": {
          "bdata": "JAE=",
          "dtype": "i2"
         },
         "yaxis": "y"
        },
        {
         "hovertemplate": "page2_clothing_model=%{x}<br>count=%{y}<extra></extra>",
         "legendgroup": "P46",
         "marker": {
          "color": "#FECB52",
          "pattern": {
           "shape": ""
          }
         },
         "name": "P46",
         "orientation": "v",
         "showlegend": true,
         "textposition": "auto",
         "type": "bar",
         "x": [
          "P46"
         ],
         "xaxis": "x",
         "y": {
          "bdata": "IwE=",
          "dtype": "i2"
         },
         "yaxis": "y"
        },
        {
         "hovertemplate": "page2_clothing_model=%{x}<br>count=%{y}<extra></extra>",
         "legendgroup": "P41",
         "marker": {
          "color": "#636efa",
          "pattern": {
           "shape": ""
          }
         },
         "name": "P41",
         "orientation": "v",
         "showlegend": true,
         "textposition": "auto",
         "type": "bar",
         "x": [
          "P41"
         ],
         "xaxis": "x",
         "y": {
          "bdata": "HwE=",
          "dtype": "i2"
         },
         "yaxis": "y"
        },
        {
         "hovertemplate": "page2_clothing_model=%{x}<br>count=%{y}<extra></extra>",
         "legendgroup": "P59",
         "marker": {
          "color": "#EF553B",
          "pattern": {
           "shape": ""
          }
         },
         "name": "P59",
         "orientation": "v",
         "showlegend": true,
         "textposition": "auto",
         "type": "bar",
         "x": [
          "P59"
         ],
         "xaxis": "x",
         "y": {
          "bdata": "HgE=",
          "dtype": "i2"
         },
         "yaxis": "y"
        },
        {
         "hovertemplate": "page2_clothing_model=%{x}<br>count=%{y}<extra></extra>",
         "legendgroup": "C32",
         "marker": {
          "color": "#00cc96",
          "pattern": {
           "shape": ""
          }
         },
         "name": "C32",
         "orientation": "v",
         "showlegend": true,
         "textposition": "auto",
         "type": "bar",
         "x": [
          "C32"
         ],
         "xaxis": "x",
         "y": {
          "bdata": "HQE=",
          "dtype": "i2"
         },
         "yaxis": "y"
        },
        {
         "hovertemplate": "page2_clothing_model=%{x}<br>count=%{y}<extra></extra>",
         "legendgroup": "C27",
         "marker": {
          "color": "#ab63fa",
          "pattern": {
           "shape": ""
          }
         },
         "name": "C27",
         "orientation": "v",
         "showlegend": true,
         "textposition": "auto",
         "type": "bar",
         "x": [
          "C27"
         ],
         "xaxis": "x",
         "y": {
          "bdata": "FwE=",
          "dtype": "i2"
         },
         "yaxis": "y"
        },
        {
         "hovertemplate": "page2_clothing_model=%{x}<br>count=%{y}<extra></extra>",
         "legendgroup": "A25",
         "marker": {
          "color": "#FFA15A",
          "pattern": {
           "shape": ""
          }
         },
         "name": "A25",
         "orientation": "v",
         "showlegend": true,
         "textposition": "auto",
         "type": "bar",
         "x": [
          "A25"
         ],
         "xaxis": "x",
         "y": {
          "bdata": "FgE=",
          "dtype": "i2"
         },
         "yaxis": "y"
        },
        {
         "hovertemplate": "page2_clothing_model=%{x}<br>count=%{y}<extra></extra>",
         "legendgroup": "C31",
         "marker": {
          "color": "#19d3f3",
          "pattern": {
           "shape": ""
          }
         },
         "name": "C31",
         "orientation": "v",
         "showlegend": true,
         "textposition": "auto",
         "type": "bar",
         "x": [
          "C31"
         ],
         "xaxis": "x",
         "y": {
          "bdata": "EgE=",
          "dtype": "i2"
         },
         "yaxis": "y"
        },
        {
         "hovertemplate": "page2_clothing_model=%{x}<br>count=%{y}<extra></extra>",
         "legendgroup": "P56",
         "marker": {
          "color": "#FF6692",
          "pattern": {
           "shape": ""
          }
         },
         "name": "P56",
         "orientation": "v",
         "showlegend": true,
         "textposition": "auto",
         "type": "bar",
         "x": [
          "P56"
         ],
         "xaxis": "x",
         "y": {
          "bdata": "DwE=",
          "dtype": "i2"
         },
         "yaxis": "y"
        },
        {
         "hovertemplate": "page2_clothing_model=%{x}<br>count=%{y}<extra></extra>",
         "legendgroup": "A40",
         "marker": {
          "color": "#B6E880",
          "pattern": {
           "shape": ""
          }
         },
         "name": "A40",
         "orientation": "v",
         "showlegend": true,
         "textposition": "auto",
         "type": "bar",
         "x": [
          "A40"
         ],
         "xaxis": "x",
         "y": {
          "bdata": "DgE=",
          "dtype": "i2"
         },
         "yaxis": "y"
        },
        {
         "hovertemplate": "page2_clothing_model=%{x}<br>count=%{y}<extra></extra>",
         "legendgroup": "C38",
         "marker": {
          "color": "#FF97FF",
          "pattern": {
           "shape": ""
          }
         },
         "name": "C38",
         "orientation": "v",
         "showlegend": true,
         "textposition": "auto",
         "type": "bar",
         "x": [
          "C38"
         ],
         "xaxis": "x",
         "y": {
          "bdata": "DQE=",
          "dtype": "i2"
         },
         "yaxis": "y"
        },
        {
         "hovertemplate": "page2_clothing_model=%{x}<br>count=%{y}<extra></extra>",
         "legendgroup": "C23",
         "marker": {
          "color": "#FECB52",
          "pattern": {
           "shape": ""
          }
         },
         "name": "C23",
         "orientation": "v",
         "showlegend": true,
         "textposition": "auto",
         "type": "bar",
         "x": [
          "C23"
         ],
         "xaxis": "x",
         "y": {
          "bdata": "BAE=",
          "dtype": "i2"
         },
         "yaxis": "y"
        },
        {
         "hovertemplate": "page2_clothing_model=%{x}<br>count=%{y}<extra></extra>",
         "legendgroup": "P47",
         "marker": {
          "color": "#636efa",
          "pattern": {
           "shape": ""
          }
         },
         "name": "P47",
         "orientation": "v",
         "showlegend": true,
         "textposition": "auto",
         "type": "bar",
         "x": [
          "P47"
         ],
         "xaxis": "x",
         "y": {
          "bdata": "7wA=",
          "dtype": "i2"
         },
         "yaxis": "y"
        },
        {
         "hovertemplate": "page2_clothing_model=%{x}<br>count=%{y}<extra></extra>",
         "legendgroup": "P63",
         "marker": {
          "color": "#EF553B",
          "pattern": {
           "shape": ""
          }
         },
         "name": "P63",
         "orientation": "v",
         "showlegend": true,
         "textposition": "auto",
         "type": "bar",
         "x": [
          "P63"
         ],
         "xaxis": "x",
         "y": {
          "bdata": "7wA=",
          "dtype": "i2"
         },
         "yaxis": "y"
        },
        {
         "hovertemplate": "page2_clothing_model=%{x}<br>count=%{y}<extra></extra>",
         "legendgroup": "A24",
         "marker": {
          "color": "#00cc96",
          "pattern": {
           "shape": ""
          }
         },
         "name": "A24",
         "orientation": "v",
         "showlegend": true,
         "textposition": "auto",
         "type": "bar",
         "x": [
          "A24"
         ],
         "xaxis": "x",
         "y": {
          "bdata": "7QA=",
          "dtype": "i2"
         },
         "yaxis": "y"
        },
        {
         "hovertemplate": "page2_clothing_model=%{x}<br>count=%{y}<extra></extra>",
         "legendgroup": "C45",
         "marker": {
          "color": "#ab63fa",
          "pattern": {
           "shape": ""
          }
         },
         "name": "C45",
         "orientation": "v",
         "showlegend": true,
         "textposition": "auto",
         "type": "bar",
         "x": [
          "C45"
         ],
         "xaxis": "x",
         "y": {
          "bdata": "7AA=",
          "dtype": "i2"
         },
         "yaxis": "y"
        },
        {
         "hovertemplate": "page2_clothing_model=%{x}<br>count=%{y}<extra></extra>",
         "legendgroup": "P21",
         "marker": {
          "color": "#FFA15A",
          "pattern": {
           "shape": ""
          }
         },
         "name": "P21",
         "orientation": "v",
         "showlegend": true,
         "textposition": "auto",
         "type": "bar",
         "x": [
          "P21"
         ],
         "xaxis": "x",
         "y": {
          "bdata": "5gA=",
          "dtype": "i2"
         },
         "yaxis": "y"
        },
        {
         "hovertemplate": "page2_clothing_model=%{x}<br>count=%{y}<extra></extra>",
         "legendgroup": "C28",
         "marker": {
          "color": "#19d3f3",
          "pattern": {
           "shape": ""
          }
         },
         "name": "C28",
         "orientation": "v",
         "showlegend": true,
         "textposition": "auto",
         "type": "bar",
         "x": [
          "C28"
         ],
         "xaxis": "x",
         "y": {
          "bdata": "3wA=",
          "dtype": "i2"
         },
         "yaxis": "y"
        },
        {
         "hovertemplate": "page2_clothing_model=%{x}<br>count=%{y}<extra></extra>",
         "legendgroup": "C47",
         "marker": {
          "color": "#FF6692",
          "pattern": {
           "shape": ""
          }
         },
         "name": "C47",
         "orientation": "v",
         "showlegend": true,
         "textposition": "auto",
         "type": "bar",
         "x": [
          "C47"
         ],
         "xaxis": "x",
         "y": {
          "bdata": "3AA=",
          "dtype": "i2"
         },
         "yaxis": "y"
        },
        {
         "hovertemplate": "page2_clothing_model=%{x}<br>count=%{y}<extra></extra>",
         "legendgroup": "P74",
         "marker": {
          "color": "#B6E880",
          "pattern": {
           "shape": ""
          }
         },
         "name": "P74",
         "orientation": "v",
         "showlegend": true,
         "textposition": "auto",
         "type": "bar",
         "x": [
          "P74"
         ],
         "xaxis": "x",
         "y": {
          "bdata": "2gA=",
          "dtype": "i2"
         },
         "yaxis": "y"
        },
        {
         "hovertemplate": "page2_clothing_model=%{x}<br>count=%{y}<extra></extra>",
         "legendgroup": "P25",
         "marker": {
          "color": "#FF97FF",
          "pattern": {
           "shape": ""
          }
         },
         "name": "P25",
         "orientation": "v",
         "showlegend": true,
         "textposition": "auto",
         "type": "bar",
         "x": [
          "P25"
         ],
         "xaxis": "x",
         "y": {
          "bdata": "2AA=",
          "dtype": "i2"
         },
         "yaxis": "y"
        },
        {
         "hovertemplate": "page2_clothing_model=%{x}<br>count=%{y}<extra></extra>",
         "legendgroup": "C22",
         "marker": {
          "color": "#FECB52",
          "pattern": {
           "shape": ""
          }
         },
         "name": "C22",
         "orientation": "v",
         "showlegend": true,
         "textposition": "auto",
         "type": "bar",
         "x": [
          "C22"
         ],
         "xaxis": "x",
         "y": {
          "bdata": "1gA=",
          "dtype": "i2"
         },
         "yaxis": "y"
        },
        {
         "hovertemplate": "page2_clothing_model=%{x}<br>count=%{y}<extra></extra>",
         "legendgroup": "P42",
         "marker": {
          "color": "#636efa",
          "pattern": {
           "shape": ""
          }
         },
         "name": "P42",
         "orientation": "v",
         "showlegend": true,
         "textposition": "auto",
         "type": "bar",
         "x": [
          "P42"
         ],
         "xaxis": "x",
         "y": {
          "bdata": "0gA=",
          "dtype": "i2"
         },
         "yaxis": "y"
        },
        {
         "hovertemplate": "page2_clothing_model=%{x}<br>count=%{y}<extra></extra>",
         "legendgroup": "P44",
         "marker": {
          "color": "#EF553B",
          "pattern": {
           "shape": ""
          }
         },
         "name": "P44",
         "orientation": "v",
         "showlegend": true,
         "textposition": "auto",
         "type": "bar",
         "x": [
          "P44"
         ],
         "xaxis": "x",
         "y": {
          "bdata": "0gA=",
          "dtype": "i2"
         },
         "yaxis": "y"
        },
        {
         "hovertemplate": "page2_clothing_model=%{x}<br>count=%{y}<extra></extra>",
         "legendgroup": "P30",
         "marker": {
          "color": "#00cc96",
          "pattern": {
           "shape": ""
          }
         },
         "name": "P30",
         "orientation": "v",
         "showlegend": true,
         "textposition": "auto",
         "type": "bar",
         "x": [
          "P30"
         ],
         "xaxis": "x",
         "y": {
          "bdata": "zgA=",
          "dtype": "i2"
         },
         "yaxis": "y"
        },
        {
         "hovertemplate": "page2_clothing_model=%{x}<br>count=%{y}<extra></extra>",
         "legendgroup": "C37",
         "marker": {
          "color": "#ab63fa",
          "pattern": {
           "shape": ""
          }
         },
         "name": "C37",
         "orientation": "v",
         "showlegend": true,
         "textposition": "auto",
         "type": "bar",
         "x": [
          "C37"
         ],
         "xaxis": "x",
         "y": {
          "bdata": "zQA=",
          "dtype": "i2"
         },
         "yaxis": "y"
        },
        {
         "hovertemplate": "page2_clothing_model=%{x}<br>count=%{y}<extra></extra>",
         "legendgroup": "P57",
         "marker": {
          "color": "#FFA15A",
          "pattern": {
           "shape": ""
          }
         },
         "name": "P57",
         "orientation": "v",
         "showlegend": true,
         "textposition": "auto",
         "type": "bar",
         "x": [
          "P57"
         ],
         "xaxis": "x",
         "y": {
          "bdata": "ywA=",
          "dtype": "i2"
         },
         "yaxis": "y"
        },
        {
         "hovertemplate": "page2_clothing_model=%{x}<br>count=%{y}<extra></extra>",
         "legendgroup": "A43",
         "marker": {
          "color": "#19d3f3",
          "pattern": {
           "shape": ""
          }
         },
         "name": "A43",
         "orientation": "v",
         "showlegend": true,
         "textposition": "auto",
         "type": "bar",
         "x": [
          "A43"
         ],
         "xaxis": "x",
         "y": {
          "bdata": "yAA=",
          "dtype": "i2"
         },
         "yaxis": "y"
        },
        {
         "hovertemplate": "page2_clothing_model=%{x}<br>count=%{y}<extra></extra>",
         "legendgroup": "P71",
         "marker": {
          "color": "#FF6692",
          "pattern": {
           "shape": ""
          }
         },
         "name": "P71",
         "orientation": "v",
         "showlegend": true,
         "textposition": "auto",
         "type": "bar",
         "x": [
          "P71"
         ],
         "xaxis": "x",
         "y": {
          "bdata": "xQA=",
          "dtype": "i2"
         },
         "yaxis": "y"
        },
        {
         "hovertemplate": "page2_clothing_model=%{x}<br>count=%{y}<extra></extra>",
         "legendgroup": "P40",
         "marker": {
          "color": "#B6E880",
          "pattern": {
           "shape": ""
          }
         },
         "name": "P40",
         "orientation": "v",
         "showlegend": true,
         "textposition": "auto",
         "type": "bar",
         "x": [
          "P40"
         ],
         "xaxis": "x",
         "y": {
          "bdata": "wAA=",
          "dtype": "i2"
         },
         "yaxis": "y"
        },
        {
         "hovertemplate": "page2_clothing_model=%{x}<br>count=%{y}<extra></extra>",
         "legendgroup": "P67",
         "marker": {
          "color": "#FF97FF",
          "pattern": {
           "shape": ""
          }
         },
         "name": "P67",
         "orientation": "v",
         "showlegend": true,
         "textposition": "auto",
         "type": "bar",
         "x": [
          "P67"
         ],
         "xaxis": "x",
         "y": {
          "bdata": "swA=",
          "dtype": "i2"
         },
         "yaxis": "y"
        },
        {
         "hovertemplate": "page2_clothing_model=%{x}<br>count=%{y}<extra></extra>",
         "legendgroup": "P38",
         "marker": {
          "color": "#FECB52",
          "pattern": {
           "shape": ""
          }
         },
         "name": "P38",
         "orientation": "v",
         "showlegend": true,
         "textposition": "auto",
         "type": "bar",
         "x": [
          "P38"
         ],
         "xaxis": "x",
         "y": {
          "bdata": "sgA=",
          "dtype": "i2"
         },
         "yaxis": "y"
        },
        {
         "hovertemplate": "page2_clothing_model=%{x}<br>count=%{y}<extra></extra>",
         "legendgroup": "C20",
         "marker": {
          "color": "#636efa",
          "pattern": {
           "shape": ""
          }
         },
         "name": "C20",
         "orientation": "v",
         "showlegend": true,
         "textposition": "auto",
         "type": "bar",
         "x": [
          "C20"
         ],
         "xaxis": "x",
         "y": {
          "bdata": "sAA=",
          "dtype": "i2"
         },
         "yaxis": "y"
        },
        {
         "hovertemplate": "page2_clothing_model=%{x}<br>count=%{y}<extra></extra>",
         "legendgroup": "P35",
         "marker": {
          "color": "#EF553B",
          "pattern": {
           "shape": ""
          }
         },
         "name": "P35",
         "orientation": "v",
         "showlegend": true,
         "textposition": "auto",
         "type": "bar",
         "x": [
          "P35"
         ],
         "xaxis": "x",
         "y": {
          "bdata": "rwA=",
          "dtype": "i2"
         },
         "yaxis": "y"
        },
        {
         "hovertemplate": "page2_clothing_model=%{x}<br>count=%{y}<extra></extra>",
         "legendgroup": "P80",
         "marker": {
          "color": "#00cc96",
          "pattern": {
           "shape": ""
          }
         },
         "name": "P80",
         "orientation": "v",
         "showlegend": true,
         "textposition": "auto",
         "type": "bar",
         "x": [
          "P80"
         ],
         "xaxis": "x",
         "y": {
          "bdata": "rQA=",
          "dtype": "i2"
         },
         "yaxis": "y"
        },
        {
         "hovertemplate": "page2_clothing_model=%{x}<br>count=%{y}<extra></extra>",
         "legendgroup": "P73",
         "marker": {
          "color": "#ab63fa",
          "pattern": {
           "shape": ""
          }
         },
         "name": "P73",
         "orientation": "v",
         "showlegend": true,
         "textposition": "auto",
         "type": "bar",
         "x": [
          "P73"
         ],
         "xaxis": "x",
         "y": {
          "bdata": "rQA=",
          "dtype": "i2"
         },
         "yaxis": "y"
        },
        {
         "hovertemplate": "page2_clothing_model=%{x}<br>count=%{y}<extra></extra>",
         "legendgroup": "P81",
         "marker": {
          "color": "#FFA15A",
          "pattern": {
           "shape": ""
          }
         },
         "name": "P81",
         "orientation": "v",
         "showlegend": true,
         "textposition": "auto",
         "type": "bar",
         "x": [
          "P81"
         ],
         "xaxis": "x",
         "y": {
          "bdata": "qAA=",
          "dtype": "i2"
         },
         "yaxis": "y"
        },
        {
         "hovertemplate": "page2_clothing_model=%{x}<br>count=%{y}<extra></extra>",
         "legendgroup": "P53",
         "marker": {
          "color": "#19d3f3",
          "pattern": {
           "shape": ""
          }
         },
         "name": "P53",
         "orientation": "v",
         "showlegend": true,
         "textposition": "auto",
         "type": "bar",
         "x": [
          "P53"
         ],
         "xaxis": "x",
         "y": {
          "bdata": "nwA=",
          "dtype": "i2"
         },
         "yaxis": "y"
        },
        {
         "hovertemplate": "page2_clothing_model=%{x}<br>count=%{y}<extra></extra>",
         "legendgroup": "C39",
         "marker": {
          "color": "#FF6692",
          "pattern": {
           "shape": ""
          }
         },
         "name": "C39",
         "orientation": "v",
         "showlegend": true,
         "textposition": "auto",
         "type": "bar",
         "x": [
          "C39"
         ],
         "xaxis": "x",
         "y": {
          "bdata": "lwA=",
          "dtype": "i2"
         },
         "yaxis": "y"
        },
        {
         "hovertemplate": "page2_clothing_model=%{x}<br>count=%{y}<extra></extra>",
         "legendgroup": "C52",
         "marker": {
          "color": "#B6E880",
          "pattern": {
           "shape": ""
          }
         },
         "name": "C52",
         "orientation": "v",
         "showlegend": true,
         "textposition": "auto",
         "type": "bar",
         "x": [
          "C52"
         ],
         "xaxis": "x",
         "y": {
          "bdata": "lwA=",
          "dtype": "i2"
         },
         "yaxis": "y"
        },
        {
         "hovertemplate": "page2_clothing_model=%{x}<br>count=%{y}<extra></extra>",
         "legendgroup": "P58",
         "marker": {
          "color": "#FF97FF",
          "pattern": {
           "shape": ""
          }
         },
         "name": "P58",
         "orientation": "v",
         "showlegend": true,
         "textposition": "auto",
         "type": "bar",
         "x": [
          "P58"
         ],
         "xaxis": "x",
         "y": {
          "bdata": "jQA=",
          "dtype": "i2"
         },
         "yaxis": "y"
        },
        {
         "hovertemplate": "page2_clothing_model=%{x}<br>count=%{y}<extra></extra>",
         "legendgroup": "P69",
         "marker": {
          "color": "#FECB52",
          "pattern": {
           "shape": ""
          }
         },
         "name": "P69",
         "orientation": "v",
         "showlegend": true,
         "textposition": "auto",
         "type": "bar",
         "x": [
          "P69"
         ],
         "xaxis": "x",
         "y": {
          "bdata": "iwA=",
          "dtype": "i2"
         },
         "yaxis": "y"
        },
        {
         "hovertemplate": "page2_clothing_model=%{x}<br>count=%{y}<extra></extra>",
         "legendgroup": "P76",
         "marker": {
          "color": "#636efa",
          "pattern": {
           "shape": ""
          }
         },
         "name": "P76",
         "orientation": "v",
         "showlegend": true,
         "textposition": "auto",
         "type": "bar",
         "x": [
          "P76"
         ],
         "xaxis": "x",
         "y": {
          "bdata": "hwA=",
          "dtype": "i2"
         },
         "yaxis": "y"
        },
        {
         "hovertemplate": "page2_clothing_model=%{x}<br>count=%{y}<extra></extra>",
         "legendgroup": "P27",
         "marker": {
          "color": "#EF553B",
          "pattern": {
           "shape": ""
          }
         },
         "name": "P27",
         "orientation": "v",
         "showlegend": true,
         "textposition": "auto",
         "type": "bar",
         "x": [
          "P27"
         ],
         "xaxis": "x",
         "y": {
          "bdata": "hAA=",
          "dtype": "i2"
         },
         "yaxis": "y"
        },
        {
         "hovertemplate": "page2_clothing_model=%{x}<br>count=%{y}<extra></extra>",
         "legendgroup": "C43",
         "marker": {
          "color": "#00cc96",
          "pattern": {
           "shape": ""
          }
         },
         "name": "C43",
         "orientation": "v",
         "showlegend": true,
         "textposition": "auto",
         "type": "bar",
         "x": [
          "C43"
         ],
         "xaxis": "x",
         "y": {
          "bdata": "hAA=",
          "dtype": "i2"
         },
         "yaxis": "y"
        },
        {
         "hovertemplate": "page2_clothing_model=%{x}<br>count=%{y}<extra></extra>",
         "legendgroup": "P52",
         "marker": {
          "color": "#ab63fa",
          "pattern": {
           "shape": ""
          }
         },
         "name": "P52",
         "orientation": "v",
         "showlegend": true,
         "textposition": "auto",
         "type": "bar",
         "x": [
          "P52"
         ],
         "xaxis": "x",
         "y": {
          "bdata": "gwA=",
          "dtype": "i2"
         },
         "yaxis": "y"
        },
        {
         "hovertemplate": "page2_clothing_model=%{x}<br>count=%{y}<extra></extra>",
         "legendgroup": "P75",
         "marker": {
          "color": "#FFA15A",
          "pattern": {
           "shape": ""
          }
         },
         "name": "P75",
         "orientation": "v",
         "showlegend": true,
         "textposition": "auto",
         "type": "bar",
         "x": [
          "P75"
         ],
         "xaxis": "x",
         "y": {
          "bdata": "gwA=",
          "dtype": "i2"
         },
         "yaxis": "y"
        },
        {
         "hovertemplate": "page2_clothing_model=%{x}<br>count=%{y}<extra></extra>",
         "legendgroup": "P62",
         "marker": {
          "color": "#19d3f3",
          "pattern": {
           "shape": ""
          }
         },
         "name": "P62",
         "orientation": "v",
         "showlegend": true,
         "textposition": "auto",
         "type": "bar",
         "x": [
          "P62"
         ],
         "xaxis": "x",
         "y": {
          "bdata": "gAA=",
          "dtype": "i2"
         },
         "yaxis": "y"
        },
        {
         "hovertemplate": "page2_clothing_model=%{x}<br>count=%{y}<extra></extra>",
         "legendgroup": "P64",
         "marker": {
          "color": "#FF6692",
          "pattern": {
           "shape": ""
          }
         },
         "name": "P64",
         "orientation": "v",
         "showlegend": true,
         "textposition": "auto",
         "type": "bar",
         "x": [
          "P64"
         ],
         "xaxis": "x",
         "y": {
          "bdata": "dg==",
          "dtype": "i1"
         },
         "yaxis": "y"
        },
        {
         "hovertemplate": "page2_clothing_model=%{x}<br>count=%{y}<extra></extra>",
         "legendgroup": "P45",
         "marker": {
          "color": "#B6E880",
          "pattern": {
           "shape": ""
          }
         },
         "name": "P45",
         "orientation": "v",
         "showlegend": true,
         "textposition": "auto",
         "type": "bar",
         "x": [
          "P45"
         ],
         "xaxis": "x",
         "y": {
          "bdata": "dQ==",
          "dtype": "i1"
         },
         "yaxis": "y"
        },
        {
         "hovertemplate": "page2_clothing_model=%{x}<br>count=%{y}<extra></extra>",
         "legendgroup": "P24",
         "marker": {
          "color": "#FF97FF",
          "pattern": {
           "shape": ""
          }
         },
         "name": "P24",
         "orientation": "v",
         "showlegend": true,
         "textposition": "auto",
         "type": "bar",
         "x": [
          "P24"
         ],
         "xaxis": "x",
         "y": {
          "bdata": "bQ==",
          "dtype": "i1"
         },
         "yaxis": "y"
        },
        {
         "hovertemplate": "page2_clothing_model=%{x}<br>count=%{y}<extra></extra>",
         "legendgroup": "P68",
         "marker": {
          "color": "#FECB52",
          "pattern": {
           "shape": ""
          }
         },
         "name": "P68",
         "orientation": "v",
         "showlegend": true,
         "textposition": "auto",
         "type": "bar",
         "x": [
          "P68"
         ],
         "xaxis": "x",
         "y": {
          "bdata": "Tg==",
          "dtype": "i1"
         },
         "yaxis": "y"
        },
        {
         "hovertemplate": "page2_clothing_model=%{x}<br>count=%{y}<extra></extra>",
         "legendgroup": "P32",
         "marker": {
          "color": "#636efa",
          "pattern": {
           "shape": ""
          }
         },
         "name": "P32",
         "orientation": "v",
         "showlegend": true,
         "textposition": "auto",
         "type": "bar",
         "x": [
          "P32"
         ],
         "xaxis": "x",
         "y": {
          "bdata": "TQ==",
          "dtype": "i1"
         },
         "yaxis": "y"
        },
        {
         "hovertemplate": "page2_clothing_model=%{x}<br>count=%{y}<extra></extra>",
         "legendgroup": "P31",
         "marker": {
          "color": "#EF553B",
          "pattern": {
           "shape": ""
          }
         },
         "name": "P31",
         "orientation": "v",
         "showlegend": true,
         "textposition": "auto",
         "type": "bar",
         "x": [
          "P31"
         ],
         "xaxis": "x",
         "y": {
          "bdata": "QA==",
          "dtype": "i1"
         },
         "yaxis": "y"
        },
        {
         "hovertemplate": "page2_clothing_model=%{x}<br>count=%{y}<extra></extra>",
         "legendgroup": "P66",
         "marker": {
          "color": "#00cc96",
          "pattern": {
           "shape": ""
          }
         },
         "name": "P66",
         "orientation": "v",
         "showlegend": true,
         "textposition": "auto",
         "type": "bar",
         "x": [
          "P66"
         ],
         "xaxis": "x",
         "y": {
          "bdata": "Kg==",
          "dtype": "i1"
         },
         "yaxis": "y"
        },
        {
         "hovertemplate": "page2_clothing_model=%{x}<br>count=%{y}<extra></extra>",
         "legendgroup": "P22",
         "marker": {
          "color": "#ab63fa",
          "pattern": {
           "shape": ""
          }
         },
         "name": "P22",
         "orientation": "v",
         "showlegend": true,
         "textposition": "auto",
         "type": "bar",
         "x": [
          "P22"
         ],
         "xaxis": "x",
         "y": {
          "bdata": "Ag==",
          "dtype": "i1"
         },
         "yaxis": "y"
        },
        {
         "hovertemplate": "page2_clothing_model=%{x}<br>count=%{y}<extra></extra>",
         "legendgroup": "P79",
         "marker": {
          "color": "#FFA15A",
          "pattern": {
           "shape": ""
          }
         },
         "name": "P79",
         "orientation": "v",
         "showlegend": true,
         "textposition": "auto",
         "type": "bar",
         "x": [
          "P79"
         ],
         "xaxis": "x",
         "y": {
          "bdata": "Ag==",
          "dtype": "i1"
         },
         "yaxis": "y"
        },
        {
         "hovertemplate": "page2_clothing_model=%{x}<br>count=%{y}<extra></extra>",
         "legendgroup": "P54",
         "marker": {
          "color": "#19d3f3",
          "pattern": {
           "shape": ""
          }
         },
         "name": "P54",
         "orientation": "v",
         "showlegend": true,
         "textposition": "auto",
         "type": "bar",
         "x": [
          "P54"
         ],
         "xaxis": "x",
         "y": {
          "bdata": "AQ==",
          "dtype": "i1"
         },
         "yaxis": "y"
        }
       ],
       "layout": {
        "barmode": "relative",
        "legend": {
         "title": {
          "text": "page2_clothing_model"
         },
         "tracegroupgap": 0
        },
        "template": {
         "data": {
          "bar": [
           {
            "error_x": {
             "color": "#2a3f5f"
            },
            "error_y": {
             "color": "#2a3f5f"
            },
            "marker": {
             "line": {
              "color": "white",
              "width": 0.5
             },
             "pattern": {
              "fillmode": "overlay",
              "size": 10,
              "solidity": 0.2
             }
            },
            "type": "bar"
           }
          ],
          "barpolar": [
           {
            "marker": {
             "line": {
              "color": "white",
              "width": 0.5
             },
             "pattern": {
              "fillmode": "overlay",
              "size": 10,
              "solidity": 0.2
             }
            },
            "type": "barpolar"
           }
          ],
          "carpet": [
           {
            "aaxis": {
             "endlinecolor": "#2a3f5f",
             "gridcolor": "#C8D4E3",
             "linecolor": "#C8D4E3",
             "minorgridcolor": "#C8D4E3",
             "startlinecolor": "#2a3f5f"
            },
            "baxis": {
             "endlinecolor": "#2a3f5f",
             "gridcolor": "#C8D4E3",
             "linecolor": "#C8D4E3",
             "minorgridcolor": "#C8D4E3",
             "startlinecolor": "#2a3f5f"
            },
            "type": "carpet"
           }
          ],
          "choropleth": [
           {
            "colorbar": {
             "outlinewidth": 0,
             "ticks": ""
            },
            "type": "choropleth"
           }
          ],
          "contour": [
           {
            "colorbar": {
             "outlinewidth": 0,
             "ticks": ""
            },
            "colorscale": [
             [
              0,
              "#0d0887"
             ],
             [
              0.1111111111111111,
              "#46039f"
             ],
             [
              0.2222222222222222,
              "#7201a8"
             ],
             [
              0.3333333333333333,
              "#9c179e"
             ],
             [
              0.4444444444444444,
              "#bd3786"
             ],
             [
              0.5555555555555556,
              "#d8576b"
             ],
             [
              0.6666666666666666,
              "#ed7953"
             ],
             [
              0.7777777777777778,
              "#fb9f3a"
             ],
             [
              0.8888888888888888,
              "#fdca26"
             ],
             [
              1,
              "#f0f921"
             ]
            ],
            "type": "contour"
           }
          ],
          "contourcarpet": [
           {
            "colorbar": {
             "outlinewidth": 0,
             "ticks": ""
            },
            "type": "contourcarpet"
           }
          ],
          "heatmap": [
           {
            "colorbar": {
             "outlinewidth": 0,
             "ticks": ""
            },
            "colorscale": [
             [
              0,
              "#0d0887"
             ],
             [
              0.1111111111111111,
              "#46039f"
             ],
             [
              0.2222222222222222,
              "#7201a8"
             ],
             [
              0.3333333333333333,
              "#9c179e"
             ],
             [
              0.4444444444444444,
              "#bd3786"
             ],
             [
              0.5555555555555556,
              "#d8576b"
             ],
             [
              0.6666666666666666,
              "#ed7953"
             ],
             [
              0.7777777777777778,
              "#fb9f3a"
             ],
             [
              0.8888888888888888,
              "#fdca26"
             ],
             [
              1,
              "#f0f921"
             ]
            ],
            "type": "heatmap"
           }
          ],
          "histogram": [
           {
            "marker": {
             "pattern": {
              "fillmode": "overlay",
              "size": 10,
              "solidity": 0.2
             }
            },
            "type": "histogram"
           }
          ],
          "histogram2d": [
           {
            "colorbar": {
             "outlinewidth": 0,
             "ticks": ""
            },
            "colorscale": [
             [
              0,
              "#0d0887"
             ],
             [
              0.1111111111111111,
              "#46039f"
             ],
             [
              0.2222222222222222,
              "#7201a8"
             ],
             [
              0.3333333333333333,
              "#9c179e"
             ],
             [
              0.4444444444444444,
              "#bd3786"
             ],
             [
              0.5555555555555556,
              "#d8576b"
             ],
             [
              0.6666666666666666,
              "#ed7953"
             ],
             [
              0.7777777777777778,
              "#fb9f3a"
             ],
             [
              0.8888888888888888,
              "#fdca26"
             ],
             [
              1,
              "#f0f921"
             ]
            ],
            "type": "histogram2d"
           }
          ],
          "histogram2dcontour": [
           {
            "colorbar": {
             "outlinewidth": 0,
             "ticks": ""
            },
            "colorscale": [
             [
              0,
              "#0d0887"
             ],
             [
              0.1111111111111111,
              "#46039f"
             ],
             [
              0.2222222222222222,
              "#7201a8"
             ],
             [
              0.3333333333333333,
              "#9c179e"
             ],
             [
              0.4444444444444444,
              "#bd3786"
             ],
             [
              0.5555555555555556,
              "#d8576b"
             ],
             [
              0.6666666666666666,
              "#ed7953"
             ],
             [
              0.7777777777777778,
              "#fb9f3a"
             ],
             [
              0.8888888888888888,
              "#fdca26"
             ],
             [
              1,
              "#f0f921"
             ]
            ],
            "type": "histogram2dcontour"
           }
          ],
          "mesh3d": [
           {
            "colorbar": {
             "outlinewidth": 0,
             "ticks": ""
            },
            "type": "mesh3d"
           }
          ],
          "parcoords": [
           {
            "line": {
             "colorbar": {
              "outlinewidth": 0,
              "ticks": ""
             }
            },
            "type": "parcoords"
           }
          ],
          "pie": [
           {
            "automargin": true,
            "type": "pie"
           }
          ],
          "scatter": [
           {
            "fillpattern": {
             "fillmode": "overlay",
             "size": 10,
             "solidity": 0.2
            },
            "type": "scatter"
           }
          ],
          "scatter3d": [
           {
            "line": {
             "colorbar": {
              "outlinewidth": 0,
              "ticks": ""
             }
            },
            "marker": {
             "colorbar": {
              "outlinewidth": 0,
              "ticks": ""
             }
            },
            "type": "scatter3d"
           }
          ],
          "scattercarpet": [
           {
            "marker": {
             "colorbar": {
              "outlinewidth": 0,
              "ticks": ""
             }
            },
            "type": "scattercarpet"
           }
          ],
          "scattergeo": [
           {
            "marker": {
             "colorbar": {
              "outlinewidth": 0,
              "ticks": ""
             }
            },
            "type": "scattergeo"
           }
          ],
          "scattergl": [
           {
            "marker": {
             "colorbar": {
              "outlinewidth": 0,
              "ticks": ""
             }
            },
            "type": "scattergl"
           }
          ],
          "scattermap": [
           {
            "marker": {
             "colorbar": {
              "outlinewidth": 0,
              "ticks": ""
             }
            },
            "type": "scattermap"
           }
          ],
          "scattermapbox": [
           {
            "marker": {
             "colorbar": {
              "outlinewidth": 0,
              "ticks": ""
             }
            },
            "type": "scattermapbox"
           }
          ],
          "scatterpolar": [
           {
            "marker": {
             "colorbar": {
              "outlinewidth": 0,
              "ticks": ""
             }
            },
            "type": "scatterpolar"
           }
          ],
          "scatterpolargl": [
           {
            "marker": {
             "colorbar": {
              "outlinewidth": 0,
              "ticks": ""
             }
            },
            "type": "scatterpolargl"
           }
          ],
          "scatterternary": [
           {
            "marker": {
             "colorbar": {
              "outlinewidth": 0,
              "ticks": ""
             }
            },
            "type": "scatterternary"
           }
          ],
          "surface": [
           {
            "colorbar": {
             "outlinewidth": 0,
             "ticks": ""
            },
            "colorscale": [
             [
              0,
              "#0d0887"
             ],
             [
              0.1111111111111111,
              "#46039f"
             ],
             [
              0.2222222222222222,
              "#7201a8"
             ],
             [
              0.3333333333333333,
              "#9c179e"
             ],
             [
              0.4444444444444444,
              "#bd3786"
             ],
             [
              0.5555555555555556,
              "#d8576b"
             ],
             [
              0.6666666666666666,
              "#ed7953"
             ],
             [
              0.7777777777777778,
              "#fb9f3a"
             ],
             [
              0.8888888888888888,
              "#fdca26"
             ],
             [
              1,
              "#f0f921"
             ]
            ],
            "type": "surface"
           }
          ],
          "table": [
           {
            "cells": {
             "fill": {
              "color": "#EBF0F8"
             },
             "line": {
              "color": "white"
             }
            },
            "header": {
             "fill": {
              "color": "#C8D4E3"
             },
             "line": {
              "color": "white"
             }
            },
            "type": "table"
           }
          ]
         },
         "layout": {
          "annotationdefaults": {
           "arrowcolor": "#2a3f5f",
           "arrowhead": 0,
           "arrowwidth": 1
          },
          "autotypenumbers": "strict",
          "coloraxis": {
           "colorbar": {
            "outlinewidth": 0,
            "ticks": ""
           }
          },
          "colorscale": {
           "diverging": [
            [
             0,
             "#8e0152"
            ],
            [
             0.1,
             "#c51b7d"
            ],
            [
             0.2,
             "#de77ae"
            ],
            [
             0.3,
             "#f1b6da"
            ],
            [
             0.4,
             "#fde0ef"
            ],
            [
             0.5,
             "#f7f7f7"
            ],
            [
             0.6,
             "#e6f5d0"
            ],
            [
             0.7,
             "#b8e186"
            ],
            [
             0.8,
             "#7fbc41"
            ],
            [
             0.9,
             "#4d9221"
            ],
            [
             1,
             "#276419"
            ]
           ],
           "sequential": [
            [
             0,
             "#0d0887"
            ],
            [
             0.1111111111111111,
             "#46039f"
            ],
            [
             0.2222222222222222,
             "#7201a8"
            ],
            [
             0.3333333333333333,
             "#9c179e"
            ],
            [
             0.4444444444444444,
             "#bd3786"
            ],
            [
             0.5555555555555556,
             "#d8576b"
            ],
            [
             0.6666666666666666,
             "#ed7953"
            ],
            [
             0.7777777777777778,
             "#fb9f3a"
            ],
            [
             0.8888888888888888,
             "#fdca26"
            ],
            [
             1,
             "#f0f921"
            ]
           ],
           "sequentialminus": [
            [
             0,
             "#0d0887"
            ],
            [
             0.1111111111111111,
             "#46039f"
            ],
            [
             0.2222222222222222,
             "#7201a8"
            ],
            [
             0.3333333333333333,
             "#9c179e"
            ],
            [
             0.4444444444444444,
             "#bd3786"
            ],
            [
             0.5555555555555556,
             "#d8576b"
            ],
            [
             0.6666666666666666,
             "#ed7953"
            ],
            [
             0.7777777777777778,
             "#fb9f3a"
            ],
            [
             0.8888888888888888,
             "#fdca26"
            ],
            [
             1,
             "#f0f921"
            ]
           ]
          },
          "colorway": [
           "#636efa",
           "#EF553B",
           "#00cc96",
           "#ab63fa",
           "#FFA15A",
           "#19d3f3",
           "#FF6692",
           "#B6E880",
           "#FF97FF",
           "#FECB52"
          ],
          "font": {
           "color": "#2a3f5f"
          },
          "geo": {
           "bgcolor": "white",
           "lakecolor": "white",
           "landcolor": "white",
           "showlakes": true,
           "showland": true,
           "subunitcolor": "#C8D4E3"
          },
          "hoverlabel": {
           "align": "left"
          },
          "hovermode": "closest",
          "mapbox": {
           "style": "light"
          },
          "paper_bgcolor": "white",
          "plot_bgcolor": "white",
          "polar": {
           "angularaxis": {
            "gridcolor": "#EBF0F8",
            "linecolor": "#EBF0F8",
            "ticks": ""
           },
           "bgcolor": "white",
           "radialaxis": {
            "gridcolor": "#EBF0F8",
            "linecolor": "#EBF0F8",
            "ticks": ""
           }
          },
          "scene": {
           "xaxis": {
            "backgroundcolor": "white",
            "gridcolor": "#DFE8F3",
            "gridwidth": 2,
            "linecolor": "#EBF0F8",
            "showbackground": true,
            "ticks": "",
            "zerolinecolor": "#EBF0F8"
           },
           "yaxis": {
            "backgroundcolor": "white",
            "gridcolor": "#DFE8F3",
            "gridwidth": 2,
            "linecolor": "#EBF0F8",
            "showbackground": true,
            "ticks": "",
            "zerolinecolor": "#EBF0F8"
           },
           "zaxis": {
            "backgroundcolor": "white",
            "gridcolor": "#DFE8F3",
            "gridwidth": 2,
            "linecolor": "#EBF0F8",
            "showbackground": true,
            "ticks": "",
            "zerolinecolor": "#EBF0F8"
           }
          },
          "shapedefaults": {
           "line": {
            "color": "#2a3f5f"
           }
          },
          "ternary": {
           "aaxis": {
            "gridcolor": "#DFE8F3",
            "linecolor": "#A2B1C6",
            "ticks": ""
           },
           "baxis": {
            "gridcolor": "#DFE8F3",
            "linecolor": "#A2B1C6",
            "ticks": ""
           },
           "bgcolor": "white",
           "caxis": {
            "gridcolor": "#DFE8F3",
            "linecolor": "#A2B1C6",
            "ticks": ""
           }
          },
          "title": {
           "x": 0.05
          },
          "xaxis": {
           "automargin": true,
           "gridcolor": "#EBF0F8",
           "linecolor": "#EBF0F8",
           "ticks": "",
           "title": {
            "standoff": 15
           },
           "zerolinecolor": "#EBF0F8",
           "zerolinewidth": 2
          },
          "yaxis": {
           "automargin": true,
           "gridcolor": "#EBF0F8",
           "linecolor": "#EBF0F8",
           "ticks": "",
           "title": {
            "standoff": 15
           },
           "zerolinecolor": "#EBF0F8",
           "zerolinewidth": 2
          }
         }
        },
        "title": {
         "text": "most viewed model"
        },
        "xaxis": {
         "anchor": "y",
         "categoryarray": [
          "B4",
          "A2",
          "A11",
          "P1",
          "B10",
          "A4",
          "A15",
          "A5",
          "A10",
          "A1",
          "A12",
          "A9",
          "A3",
          "B13",
          "B24",
          "A6",
          "C5",
          "A7",
          "A13",
          "B11",
          "A8",
          "A17",
          "P6",
          "B1",
          "C17",
          "P16",
          "B15",
          "P15",
          "B17",
          "A31",
          "B31",
          "B16",
          "A16",
          "B12",
          "A21",
          "B23",
          "B32",
          "B26",
          "B3",
          "B2",
          "C56",
          "C14",
          "B14",
          "P3",
          "C7",
          "P4",
          "B19",
          "C2",
          "C40",
          "C1",
          "P2",
          "P17",
          "P12",
          "B30",
          "B27",
          "C13",
          "A14",
          "C9",
          "A18",
          "C11",
          "C12",
          "C49",
          "B9",
          "C4",
          "B21",
          "A33",
          "P23",
          "P48",
          "C50",
          "C8",
          "P33",
          "C57",
          "C21",
          "P5",
          "A37",
          "C35",
          "P14",
          "C29",
          "P82",
          "C41",
          "P11",
          "A41",
          "P39",
          "C30",
          "C6",
          "A29",
          "C34",
          "B25",
          "A30",
          "C54",
          "C33",
          "C53",
          "C18",
          "P20",
          "B6",
          "P49",
          "A42",
          "P8",
          "A32",
          "B34",
          "P9",
          "A22",
          "C3",
          "C55",
          "C16",
          "C10",
          "C51",
          "P26",
          "A34",
          "P7",
          "A20",
          "P18",
          "B5",
          "C36",
          "P13",
          "C58",
          "P50",
          "P70",
          "C19",
          "B29",
          "P61",
          "C26",
          "C15",
          "B8",
          "A28",
          "C42",
          "B28",
          "P60",
          "A39",
          "A35",
          "C59",
          "A38",
          "A26",
          "C48",
          "C24",
          "B7",
          "C46",
          "C44",
          "P55",
          "P36",
          "P77",
          "B33",
          "P51",
          "C25",
          "P34",
          "A23",
          "P78",
          "A27",
          "P19",
          "P29",
          "B20",
          "P43",
          "P10",
          "B22",
          "A19",
          "P72",
          "A36",
          "P37",
          "P65",
          "P46",
          "P41",
          "P59",
          "C32",
          "C27",
          "A25",
          "C31",
          "P56",
          "A40",
          "C38",
          "C23",
          "P47",
          "P63",
          "A24",
          "C45",
          "P21",
          "C28",
          "C47",
          "P74",
          "P25",
          "C22",
          "P42",
          "P44",
          "P30",
          "C37",
          "P57",
          "A43",
          "P71",
          "P40",
          "P67",
          "P38",
          "C20",
          "P35",
          "P80",
          "P73",
          "P81",
          "P53",
          "C39",
          "C52",
          "P58",
          "P69",
          "P76",
          "P27",
          "C43",
          "P52",
          "P75",
          "P62",
          "P64",
          "P45",
          "P24",
          "P68",
          "P32",
          "P31",
          "P66",
          "P22",
          "P79",
          "P54"
         ],
         "categoryorder": "array",
         "domain": [
          0,
          1
         ],
         "title": {
          "text": "page2_clothing_model"
         }
        },
        "yaxis": {
         "anchor": "x",
         "domain": [
          0,
          1
         ],
         "title": {
          "text": "count"
         }
        }
       }
      }
     },
     "metadata": {},
     "output_type": "display_data"
    }
   ],
   "source": [
    "fig = px.bar (\n",
    "    count_model.sort_values(by='count', ascending= False), \n",
    "    x = 'page2_clothing_model', \n",
    "    y ='count', \n",
    "    title = 'most viewed model', \n",
    "    color = 'page2_clothing_model' , \n",
    "    template = 'plotly_white'\n",
    "    )\n",
    "fig.show()"
   ]
  },
  {
   "cell_type": "markdown",
   "id": "d5b69960",
   "metadata": {},
   "source": [
    "Niche Visualization"
   ]
  },
  {
   "cell_type": "code",
   "execution_count": 8,
   "id": "ddb62b8c",
   "metadata": {},
   "outputs": [
    {
     "name": "stderr",
     "output_type": "stream",
     "text": [
      "C:\\Users\\Hp\\AppData\\Local\\Temp\\ipykernel_20176\\815411175.py:3: FutureWarning: \n",
      "\n",
      "Passing `palette` without assigning `hue` is deprecated and will be removed in v0.14.0. Assign the `x` variable to `hue` and set `legend=False` for the same effect.\n",
      "\n",
      "  sns.countplot(x=data_cop['location'], palette='viridis')\n"
     ]
    },
    {
     "data": {
      "image/png": "[encoded data removed]",
      "text/plain": [
       "<Figure size 640x480 with 1 Axes>"
      ]
     },
     "metadata": {},
     "output_type": "display_data"
    }
   ],
   "source": [
    "# which location of the screen is clicked 1st\n",
    "data_cop = data[data['order'] == 1]\n",
    "sns.countplot(x=data_cop['location'], palette='viridis')\n",
    "plt.title('Most 1st clicked location of the site')\n",
    "plt.ylabel('Number of 1st clicks ')\n",
    "plt.xlabel('location')\n",
    "\n",
    "# Adjust layout to prevent overlap and display the plots\n",
    "# plt.tight_layout()\n",
    "plt.show()"
   ]
  },
  {
   "cell_type": "code",
   "execution_count": 13,
   "id": "f9029629",
   "metadata": {},
   "outputs": [
    {
     "data": {
      "text/plain": [
       "np.int64(2824)"
      ]
     },
     "execution_count": 13,
     "metadata": {},
     "output_type": "execute_result"
    }
   ],
   "source": [
    "model_visit_count.max()"
   ]
  },
  {
   "cell_type": "code",
   "execution_count": 24,
   "id": "b0e8d011",
   "metadata": {},
   "outputs": [
    {
     "name": "stderr",
     "output_type": "stream",
     "text": [
      "C:\\Users\\Hp\\AppData\\Local\\Temp\\ipykernel_20176\\3119832720.py:9: FutureWarning: \n",
      "\n",
      "Passing `palette` without assigning `hue` is deprecated and will be removed in v0.14.0. Assign the `x` variable to `hue` and set `legend=False` for the same effect.\n",
      "\n",
      "  sns.barplot(y=data_cop['model_visit_count'], x= data_cop['page2_clothing_model'], palette='viridis')\n"
     ]
    },
    {
     "data": {
      "image/png": "[encoded data removed]",
      "text/plain": [
       "<Figure size 640x480 with 1 Axes>"
      ]
     },
     "metadata": {},
     "output_type": "display_data"
    },
    {
     "name": "stderr",
     "output_type": "stream",
     "text": [
      "C:\\Users\\Hp\\AppData\\Local\\Temp\\ipykernel_20176\\3119832720.py:18: FutureWarning: \n",
      "\n",
      "Passing `palette` without assigning `hue` is deprecated and will be removed in v0.14.0. Assign the `x` variable to `hue` and set `legend=False` for the same effect.\n",
      "\n",
      "  sns.barplot(y=data_cop['model_visit_count'], x= data_cop['location'], palette='viridis')\n"
     ]
    },
    {
     "data": {
      "image/png": "[encoded data removed]",
      "text/plain": [
       "<Figure size 640x480 with 1 Axes>"
      ]
     },
     "metadata": {},
     "output_type": "display_data"
    },
    {
     "name": "stderr",
     "output_type": "stream",
     "text": [
      "C:\\Users\\Hp\\AppData\\Local\\Temp\\ipykernel_20176\\3119832720.py:24: FutureWarning: \n",
      "\n",
      "Passing `palette` without assigning `hue` is deprecated and will be removed in v0.14.0. Assign the `x` variable to `hue` and set `legend=False` for the same effect.\n",
      "\n",
      "  sns.countplot(x= data_cop['page1_main_category'], palette='viridis')\n"
     ]
    },
    {
     "data": {
      "image/png": "[encoded data removed]",
      "text/plain": [
       "<Figure size 640x480 with 1 Axes>"
      ]
     },
     "metadata": {},
     "output_type": "display_data"
    },
    {
     "name": "stderr",
     "output_type": "stream",
     "text": [
      "C:\\Users\\Hp\\AppData\\Local\\Temp\\ipykernel_20176\\3119832720.py:30: FutureWarning: \n",
      "\n",
      "Passing `palette` without assigning `hue` is deprecated and will be removed in v0.14.0. Assign the `x` variable to `hue` and set `legend=False` for the same effect.\n",
      "\n",
      "  sns.countplot(x= data_cop['colour'], palette='viridis')\n"
     ]
    },
    {
     "data": {
      "image/png": "[encoded data removed]",
      "text/plain": [
       "<Figure size 640x480 with 1 Axes>"
      ]
     },
     "metadata": {},
     "output_type": "display_data"
    }
   ],
   "source": [
    "#top buyer\n",
    "data_cop = data.copy()\n",
    "# data_temp = data_cop.copy()\n",
    "model_visit_count = data_cop['page2_clothing_model'].value_counts()\n",
    "data_cop['model_visit_count'] = data_cop['page2_clothing_model'].map(model_visit_count)\n",
    "data_cop.drop_duplicates(subset = ['page2_clothing_model'], inplace=True)\n",
    "data_cop = data_cop.sort_values(by='model_visit_count', ascending= False).head(20)\n",
    "\n",
    "sns.barplot(y=data_cop['model_visit_count'], x= data_cop['page2_clothing_model'], palette='viridis')\n",
    "plt.title('Most visited model')\n",
    "plt.ylabel('Number of visits')\n",
    "plt.xlabel('Model')\n",
    "\n",
    "# Adjust layout to prevent overlap and display the plots\n",
    "# plt.tight_layout()\n",
    "plt.show()\n",
    "\n",
    "sns.barplot(y=data_cop['model_visit_count'], x= data_cop['location'], palette='viridis')\n",
    "plt.title('Most visited model')\n",
    "plt.xlabel('Number of visits')\n",
    "plt.ylabel('location')\n",
    "plt.show()\n",
    "\n",
    "sns.countplot(x= data_cop['page1_main_category'], palette='viridis')\n",
    "plt.title('Most visited category')\n",
    "plt.ylabel('Number of visits')\n",
    "plt.xlabel('page1_main_category')\n",
    "plt.show()\n",
    "\n",
    "sns.countplot(x= data_cop['colour'], palette='viridis')\n",
    "plt.title('Most visited colours')\n",
    "plt.ylabel('Number of visits')\n",
    "plt.xlabel('colours')\n",
    "plt.show()"
   ]
  },
  {
   "cell_type": "code",
   "execution_count": 9,
   "id": "61aa30e8",
   "metadata": {},
   "outputs": [
    {
     "name": "stderr",
     "output_type": "stream",
     "text": [
      "C:\\Users\\Hp\\AppData\\Local\\Temp\\ipykernel_20176\\3572690891.py:4: SettingWithCopyWarning: \n",
      "A value is trying to be set on a copy of a slice from a DataFrame.\n",
      "Try using .loc[row_indexer,col_indexer] = value instead\n",
      "\n",
      "See the caveats in the documentation: https://pandas.pydata.org/pandas-docs/stable/user_guide/indexing.html#returning-a-view-versus-a-copy\n",
      "  data_cop['session_visit_count'] = data_cop['session_id'].map(session_visit_count)\n",
      "C:\\Users\\Hp\\AppData\\Local\\Temp\\ipykernel_20176\\3572690891.py:5: SettingWithCopyWarning: \n",
      "A value is trying to be set on a copy of a slice from a DataFrame\n",
      "\n",
      "See the caveats in the documentation: https://pandas.pydata.org/pandas-docs/stable/user_guide/indexing.html#returning-a-view-versus-a-copy\n",
      "  data_cop.drop_duplicates(subset = ['session_id'], inplace=True)\n",
      "C:\\Users\\Hp\\AppData\\Local\\Temp\\ipykernel_20176\\3572690891.py:8: FutureWarning: \n",
      "\n",
      "Passing `palette` without assigning `hue` is deprecated and will be removed in v0.14.0. Assign the `x` variable to `hue` and set `legend=False` for the same effect.\n",
      "\n",
      "  sns.countplot(x=data_cop['session_id'], palette='viridis')\n"
     ]
    },
    {
     "data": {
      "image/png": "[encoded data removed]",
      "text/plain": [
       "<Figure size 640x480 with 1 Axes>"
      ]
     },
     "metadata": {},
     "output_type": "display_data"
    }
   ],
   "source": [
    "#top buyer\n",
    "data_temp = data_cop.copy()\n",
    "session_visit_count = data_cop['session_id'].value_counts()\n",
    "data_cop['session_visit_count'] = data_cop['session_id'].map(session_visit_count)\n",
    "data_cop.drop_duplicates(subset = ['session_id'], inplace=True)\n",
    "data_cop = data_cop.sort_values(by='session_visit_count', ascending= False).head(12)\n",
    "\n",
    "sns.countplot(x=data_cop['session_id'], palette='viridis')\n",
    "plt.title('Most visited customers session id')\n",
    "plt.ylabel('Number of visits')\n",
    "plt.xlabel('session_id')\n",
    "\n",
    "# Adjust layout to prevent overlap and display the plots\n",
    "# plt.tight_layout()\n",
    "plt.show()\n"
   ]
  },
  {
   "cell_type": "markdown",
   "id": "1eb277c8",
   "metadata": {},
   "source": [
    "End of niche Visualization"
   ]
  },
  {
   "cell_type": "code",
   "execution_count": 6,
   "id": "5a01d0cb",
   "metadata": {},
   "outputs": [
    {
     "data": {
      "text/plain": [
       "year                        1\n",
       "month                       5\n",
       "day                        31\n",
       "order                     193\n",
       "country                    46\n",
       "session_id              22910\n",
       "page1_main_category         4\n",
       "page2_clothing_model      216\n",
       "colour                     14\n",
       "location                    6\n",
       "model_photography           2\n",
       "price                      20\n",
       "price_2                     2\n",
       "page                        5\n",
       "dtype: int64"
      ]
     },
     "execution_count": 6,
     "metadata": {},
     "output_type": "execute_result"
    }
   ],
   "source": [
    "# data.duplicated().sum()\n",
    "data.nunique()\n",
    "#suma test\n",
    "# data.isnull().sum()"
   ]
  },
  {
   "cell_type": "code",
   "execution_count": null,
   "id": "f2fda5a0",
   "metadata": {},
   "outputs": [],
   "source": []
  },
  {
   "cell_type": "code",
   "execution_count": null,
   "id": "f7134eab",
   "metadata": {},
   "outputs": [],
   "source": []
  }
 ],
 "metadata": {
  "kernelspec": {
   "display_name": "clickstream_venv",
   "language": "python",
   "name": "python3"
  },
  "language_info": {
   "codemirror_mode": {
    "name": "ipython",
    "version": 3
   },
   "file_extension": ".py",
   "mimetype": "text/x-python",
   "name": "python",
   "nbconvert_exporter": "python",
   "pygments_lexer": "ipython3",
   "version": "3.11.7"
  }
 },
 "nbformat": 4,
 "nbformat_minor": 5
}
